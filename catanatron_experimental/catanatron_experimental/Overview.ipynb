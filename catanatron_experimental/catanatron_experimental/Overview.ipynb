{
 "cells": [
  {
   "cell_type": "markdown",
   "id": "38540cf7-9b4f-4c98-9abb-952c84443f1d",
   "metadata": {},
   "source": [
    "# Catanatron Introduction\n",
    "This shows example usage of Catanatron. First, clone the repo and install requirements."
   ]
  },
  {
   "cell_type": "code",
   "execution_count": null,
   "id": "3be394e4-9bcd-46bb-892b-7538ad3b2e55",
   "metadata": {},
   "outputs": [
    {
     "name": "stdout",
     "output_type": "stream",
     "text": [
      "Collecting absl-py==1.0.0 (from -r catanatron/dev-requirements.txt (line 1))\n",
      "  Using cached absl_py-1.0.0-py3-none-any.whl.metadata (2.3 kB)\n",
      "Requirement already satisfied: astunparse==1.6.3 in c:\\users\\sam\\anaconda3\\envs\\catan311\\lib\\site-packages (from -r catanatron/dev-requirements.txt (line 2)) (1.6.3)\n",
      "Collecting attrs==21.4.0 (from -r catanatron/dev-requirements.txt (line 3))\n",
      "  Using cached attrs-21.4.0-py2.py3-none-any.whl.metadata (9.8 kB)\n",
      "Collecting black==22.1.0 (from -r catanatron/dev-requirements.txt (line 4))\n",
      "  Using cached black-22.1.0-py3-none-any.whl.metadata (42 kB)\n",
      "Collecting cachetools==5.0.0 (from -r catanatron/dev-requirements.txt (line 5))\n",
      "  Using cached cachetools-5.0.0-py3-none-any.whl.metadata (4.5 kB)\n",
      "Collecting certifi==2021.10.8 (from -r catanatron/dev-requirements.txt (line 6))\n",
      "  Using cached certifi-2021.10.8-py2.py3-none-any.whl.metadata (3.0 kB)\n",
      "Collecting charset-normalizer==2.0.11 (from -r catanatron/dev-requirements.txt (line 7))\n",
      "  Using cached charset_normalizer-2.0.11-py3-none-any.whl.metadata (11 kB)\n",
      "Collecting click==8.0.3 (from -r catanatron/dev-requirements.txt (line 8))\n",
      "  Using cached click-8.0.3-py3-none-any.whl.metadata (3.2 kB)\n",
      "Collecting cloudpickle==2.0.0 (from -r catanatron/dev-requirements.txt (line 9))\n",
      "  Using cached cloudpickle-2.0.0-py3-none-any.whl.metadata (6.9 kB)\n",
      "Collecting colorama==0.4.4 (from -r catanatron/dev-requirements.txt (line 10))\n",
      "  Using cached colorama-0.4.4-py2.py3-none-any.whl.metadata (14 kB)\n",
      "Collecting commonmark==0.9.1 (from -r catanatron/dev-requirements.txt (line 11))\n",
      "  Using cached commonmark-0.9.1-py2.py3-none-any.whl.metadata (5.7 kB)\n",
      "Collecting coverage==6.3.1 (from -r catanatron/dev-requirements.txt (line 12))\n",
      "  Using cached coverage-6.3.1.tar.gz (707 kB)\n",
      "  Preparing metadata (setup.py): started\n",
      "  Preparing metadata (setup.py): finished with status 'done'\n",
      "Requirement already satisfied: coveralls==3.3.1 in c:\\users\\sam\\anaconda3\\envs\\catan311\\lib\\site-packages (from -r catanatron/dev-requirements.txt (line 13)) (3.3.1)\n",
      "Requirement already satisfied: docopt==0.6.2 in c:\\users\\sam\\anaconda3\\envs\\catan311\\lib\\site-packages (from -r catanatron/dev-requirements.txt (line 14)) (0.6.2)\n",
      "Collecting Flask==2.0.2 (from -r catanatron/dev-requirements.txt (line 15))\n",
      "  Using cached Flask-2.0.2-py3-none-any.whl.metadata (3.8 kB)\n",
      "Requirement already satisfied: Flask-Cors==3.0.10 in c:\\users\\sam\\anaconda3\\envs\\catan311\\lib\\site-packages (from -r catanatron/dev-requirements.txt (line 16)) (3.0.10)\n",
      "Collecting Flask-SQLAlchemy==2.5.1 (from -r catanatron/dev-requirements.txt (line 17))\n",
      "  Using cached Flask_SQLAlchemy-2.5.1-py2.py3-none-any.whl.metadata (3.1 kB)\n",
      "Collecting flatbuffers==2.0 (from -r catanatron/dev-requirements.txt (line 18))\n",
      "  Using cached flatbuffers-2.0-py2.py3-none-any.whl.metadata (871 bytes)\n",
      "Collecting gast==0.5.3 (from -r catanatron/dev-requirements.txt (line 19))\n",
      "  Using cached gast-0.5.3-py3-none-any.whl.metadata (1.3 kB)\n",
      "Collecting google-auth==2.6.0 (from -r catanatron/dev-requirements.txt (line 20))\n",
      "  Using cached google_auth-2.6.0-py2.py3-none-any.whl.metadata (3.6 kB)\n",
      "Collecting google-auth-oauthlib==0.4.6 (from -r catanatron/dev-requirements.txt (line 21))\n",
      "  Using cached google_auth_oauthlib-0.4.6-py2.py3-none-any.whl.metadata (2.7 kB)\n",
      "Requirement already satisfied: google-pasta==0.2.0 in c:\\users\\sam\\anaconda3\\envs\\catan311\\lib\\site-packages (from -r catanatron/dev-requirements.txt (line 22)) (0.2.0)\n",
      "Collecting greenlet==1.1.2 (from -r catanatron/dev-requirements.txt (line 23))\n",
      "  Using cached greenlet-1.1.2.tar.gz (91 kB)\n",
      "  Preparing metadata (setup.py): started\n",
      "  Preparing metadata (setup.py): finished with status 'done'\n",
      "Collecting grpcio==1.43.0 (from -r catanatron/dev-requirements.txt (line 24))\n",
      "  Using cached grpcio-1.43.0.tar.gz (21.5 MB)\n",
      "  Preparing metadata (setup.py): started\n",
      "  Preparing metadata (setup.py): finished with status 'done'\n",
      "Collecting gym==0.21.0 (from -r catanatron/dev-requirements.txt (line 25))\n",
      "  Using cached gym-0.21.0.tar.gz (1.5 MB)\n",
      "  Preparing metadata (setup.py): started\n",
      "  Preparing metadata (setup.py): finished with status 'error'\n",
      "Note: you may need to restart the kernel to use updated packages.\n"
     ]
    },
    {
     "name": "stderr",
     "output_type": "stream",
     "text": [
      "  error: subprocess-exited-with-error\n",
      "  \n",
      "  × python setup.py egg_info did not run successfully.\n",
      "  │ exit code: 1\n",
      "  ╰─> [3 lines of output]\n",
      "      c:\\Users\\SAM\\anaconda3\\envs\\catan311\\Lib\\site-packages\\setuptools\\_distutils\\dist.py:270: UserWarning: Unknown distribution option: 'tests_require'\n",
      "        warnings.warn(msg)\n",
      "      error in gym setup command: 'extras_require' must be a dictionary whose values are strings or lists of strings containing valid project/version requirement specifiers.\n",
      "      [end of output]\n",
      "  \n",
      "  note: This error originates from a subprocess, and is likely not a problem with pip.\n",
      "error: metadata-generation-failed\n",
      "\n",
      "× Encountered error while generating package metadata.\n",
      "╰─> See above for output.\n",
      "\n",
      "note: This is an issue with the package mentioned above, not pip.\n",
      "hint: See above for details.\n"
     ]
    },
    {
     "name": "stdout",
     "output_type": "stream",
     "text": [
      "Obtaining file:///C:/Users/SAM/CODE/catan_atron/catanatron/catanatron_experimental/catanatron_experimental/catanatron/catanatron_core\n",
      "  Preparing metadata (setup.py): started\n",
      "  Preparing metadata (setup.py): finished with status 'done'\n",
      "Requirement already satisfied: networkx in c:\\users\\sam\\anaconda3\\envs\\catan311\\lib\\site-packages (from catanatron==3.2.1) (3.0)\n",
      "Installing collected packages: catanatron\n",
      "  Attempting uninstall: catanatron\n",
      "    Found existing installation: catanatron 3.2.1\n",
      "    Uninstalling catanatron-3.2.1:\n",
      "      Successfully uninstalled catanatron-3.2.1\n",
      "  Running setup.py develop for catanatron\n",
      "Successfully installed catanatron-3.2.1\n",
      "Note: you may need to restart the kernel to use updated packages.\n"
     ]
    },
    {
     "name": "stderr",
     "output_type": "stream",
     "text": [
      "  DEPRECATION: Legacy editable install of catanatron==3.2.1 from file:///C:/Users/SAM/CODE/catan_atron/catanatron/catanatron_experimental/catanatron_experimental/catanatron/catanatron_core (setup.py develop) is deprecated. pip 25.1 will enforce this behaviour change. A possible replacement is to add a pyproject.toml or enable --use-pep517, and use setuptools >= 64. If the resulting installation is not behaving as expected, try using --config-settings editable_mode=compat. Please consult the setuptools documentation for more information. Discussion can be found at https://github.com/pypa/pip/issues/11457\n"
     ]
    },
    {
     "name": "stdout",
     "output_type": "stream",
     "text": [
      "Obtaining file:///C:/Users/SAM/CODE/catan_atron/catanatron/catanatron_experimental/catanatron_experimental/catanatron/catanatron_server\n",
      "  Preparing metadata (setup.py): started\n",
      "  Preparing metadata (setup.py): finished with status 'done'\n",
      "Requirement already satisfied: catanatron in c:\\users\\sam\\code\\catan_atron\\catanatron\\catanatron_experimental\\catanatron_experimental\\catanatron\\catanatron_core (from catanatron_server==1.0.0) (3.2.1)\n",
      "Requirement already satisfied: flask in c:\\users\\sam\\anaconda3\\envs\\catan311\\lib\\site-packages (from catanatron_server==1.0.0) (2.2.3)\n",
      "Requirement already satisfied: flask_cors in c:\\users\\sam\\anaconda3\\envs\\catan311\\lib\\site-packages (from catanatron_server==1.0.0) (3.0.10)\n",
      "Requirement already satisfied: flask_sqlalchemy in c:\\users\\sam\\anaconda3\\envs\\catan311\\lib\\site-packages (from catanatron_server==1.0.0) (3.0.3)\n",
      "Requirement already satisfied: sqlalchemy in c:\\users\\sam\\anaconda3\\envs\\catan311\\lib\\site-packages (from catanatron_server==1.0.0) (2.0.7)\n",
      "Requirement already satisfied: psycopg2-binary in c:\\users\\sam\\anaconda3\\envs\\catan311\\lib\\site-packages (from catanatron_server==1.0.0) (2.9.5)\n",
      "Requirement already satisfied: networkx in c:\\users\\sam\\anaconda3\\envs\\catan311\\lib\\site-packages (from catanatron->catanatron_server==1.0.0) (3.0)\n",
      "Requirement already satisfied: Werkzeug>=2.2.2 in c:\\users\\sam\\anaconda3\\envs\\catan311\\lib\\site-packages (from flask->catanatron_server==1.0.0) (2.2.3)\n",
      "Requirement already satisfied: Jinja2>=3.0 in c:\\users\\sam\\anaconda3\\envs\\catan311\\lib\\site-packages (from flask->catanatron_server==1.0.0) (3.1.2)\n",
      "Requirement already satisfied: itsdangerous>=2.0 in c:\\users\\sam\\anaconda3\\envs\\catan311\\lib\\site-packages (from flask->catanatron_server==1.0.0) (2.1.2)\n",
      "Requirement already satisfied: click>=8.0 in c:\\users\\sam\\anaconda3\\envs\\catan311\\lib\\site-packages (from flask->catanatron_server==1.0.0) (8.1.3)\n",
      "Requirement already satisfied: Six in c:\\users\\sam\\anaconda3\\envs\\catan311\\lib\\site-packages (from flask_cors->catanatron_server==1.0.0) (1.16.0)\n",
      "Requirement already satisfied: typing-extensions>=4.2.0 in c:\\users\\sam\\anaconda3\\envs\\catan311\\lib\\site-packages (from sqlalchemy->catanatron_server==1.0.0) (4.13.2)\n",
      "Requirement already satisfied: greenlet!=0.4.17 in c:\\users\\sam\\anaconda3\\envs\\catan311\\lib\\site-packages (from sqlalchemy->catanatron_server==1.0.0) (3.2.1)\n",
      "Requirement already satisfied: colorama in c:\\users\\sam\\anaconda3\\envs\\catan311\\lib\\site-packages (from click>=8.0->flask->catanatron_server==1.0.0) (0.4.6)\n",
      "Requirement already satisfied: MarkupSafe>=2.0 in c:\\users\\sam\\anaconda3\\envs\\catan311\\lib\\site-packages (from Jinja2>=3.0->flask->catanatron_server==1.0.0) (2.1.2)\n",
      "Installing collected packages: catanatron_server\n",
      "  Attempting uninstall: catanatron_server\n",
      "    Found existing installation: catanatron_server 1.0.0\n",
      "    Uninstalling catanatron_server-1.0.0:\n",
      "      Successfully uninstalled catanatron_server-1.0.0\n",
      "  Running setup.py develop for catanatron_server\n",
      "Successfully installed catanatron_server-1.0.0\n",
      "Note: you may need to restart the kernel to use updated packages.\n"
     ]
    },
    {
     "name": "stderr",
     "output_type": "stream",
     "text": [
      "  DEPRECATION: Legacy editable install of catanatron_server==1.0.0 from file:///C:/Users/SAM/CODE/catan_atron/catanatron/catanatron_experimental/catanatron_experimental/catanatron/catanatron_server (setup.py develop) is deprecated. pip 25.1 will enforce this behaviour change. A possible replacement is to add a pyproject.toml or enable --use-pep517, and use setuptools >= 64. If the resulting installation is not behaving as expected, try using --config-settings editable_mode=compat. Please consult the setuptools documentation for more information. Discussion can be found at https://github.com/pypa/pip/issues/11457\n"
     ]
    },
    {
     "name": "stdout",
     "output_type": "stream",
     "text": [
      "Obtaining file:///C:/Users/SAM/CODE/catan_atron/catanatron/catanatron_experimental/catanatron_experimental/catanatron/catanatron_gym\n",
      "  Preparing metadata (setup.py): started\n",
      "  Preparing metadata (setup.py): finished with status 'done'\n",
      "Requirement already satisfied: catanatron in c:\\users\\sam\\code\\catan_atron\\catanatron\\catanatron_experimental\\catanatron_experimental\\catanatron\\catanatron_core (from catanatron_gym==4.0.0) (3.2.1)\n",
      "Requirement already satisfied: gymnasium==0.29.1 in c:\\users\\sam\\anaconda3\\envs\\catan311\\lib\\site-packages (from catanatron_gym==4.0.0) (0.29.1)\n",
      "Requirement already satisfied: numpy in c:\\users\\sam\\anaconda3\\envs\\catan311\\lib\\site-packages (from catanatron_gym==4.0.0) (2.1.3)\n",
      "Requirement already satisfied: cloudpickle>=1.2.0 in c:\\users\\sam\\anaconda3\\envs\\catan311\\lib\\site-packages (from gymnasium==0.29.1->catanatron_gym==4.0.0) (2.2.1)\n",
      "Requirement already satisfied: typing-extensions>=4.3.0 in c:\\users\\sam\\anaconda3\\envs\\catan311\\lib\\site-packages (from gymnasium==0.29.1->catanatron_gym==4.0.0) (4.13.2)\n",
      "Requirement already satisfied: farama-notifications>=0.0.1 in c:\\users\\sam\\anaconda3\\envs\\catan311\\lib\\site-packages (from gymnasium==0.29.1->catanatron_gym==4.0.0) (0.0.4)\n",
      "Requirement already satisfied: networkx in c:\\users\\sam\\anaconda3\\envs\\catan311\\lib\\site-packages (from catanatron->catanatron_gym==4.0.0) (3.0)\n",
      "Installing collected packages: catanatron_gym\n",
      "  Attempting uninstall: catanatron_gym\n",
      "    Found existing installation: catanatron_gym 4.0.0\n",
      "    Uninstalling catanatron_gym-4.0.0:\n",
      "      Successfully uninstalled catanatron_gym-4.0.0\n",
      "  Running setup.py develop for catanatron_gym\n",
      "Successfully installed catanatron_gym-4.0.0\n",
      "Note: you may need to restart the kernel to use updated packages.\n"
     ]
    },
    {
     "name": "stderr",
     "output_type": "stream",
     "text": [
      "  DEPRECATION: Legacy editable install of catanatron_gym==4.0.0 from file:///C:/Users/SAM/CODE/catan_atron/catanatron/catanatron_experimental/catanatron_experimental/catanatron/catanatron_gym (setup.py develop) is deprecated. pip 25.1 will enforce this behaviour change. A possible replacement is to add a pyproject.toml or enable --use-pep517, and use setuptools >= 64. If the resulting installation is not behaving as expected, try using --config-settings editable_mode=compat. Please consult the setuptools documentation for more information. Discussion can be found at https://github.com/pypa/pip/issues/11457\n"
     ]
    },
    {
     "name": "stdout",
     "output_type": "stream",
     "text": [
      "Obtaining file:///C:/Users/SAM/CODE/catan_atron/catanatron/catanatron_experimental/catanatron_experimental/catanatron/catanatron_experimental\n",
      "  Preparing metadata (setup.py): started\n",
      "  Preparing metadata (setup.py): finished with status 'done'\n",
      "Requirement already satisfied: rich in c:\\users\\sam\\anaconda3\\envs\\catan311\\lib\\site-packages (from catanatron_experimental==1.0.0) (13.3.2)\n",
      "Requirement already satisfied: markdown-it-py<3.0.0,>=2.2.0 in c:\\users\\sam\\anaconda3\\envs\\catan311\\lib\\site-packages (from rich->catanatron_experimental==1.0.0) (2.2.0)\n",
      "Requirement already satisfied: pygments<3.0.0,>=2.13.0 in c:\\users\\sam\\anaconda3\\envs\\catan311\\lib\\site-packages (from rich->catanatron_experimental==1.0.0) (2.14.0)\n",
      "Requirement already satisfied: mdurl~=0.1 in c:\\users\\sam\\anaconda3\\envs\\catan311\\lib\\site-packages (from markdown-it-py<3.0.0,>=2.2.0->rich->catanatron_experimental==1.0.0) (0.1.2)\n",
      "Installing collected packages: catanatron_experimental\n",
      "  Attempting uninstall: catanatron_experimental\n",
      "    Found existing installation: catanatron_experimental 1.0.0\n",
      "    Uninstalling catanatron_experimental-1.0.0:\n",
      "      Successfully uninstalled catanatron_experimental-1.0.0\n",
      "  Running setup.py develop for catanatron_experimental\n",
      "Successfully installed catanatron_experimental-1.0.0\n",
      "Note: you may need to restart the kernel to use updated packages.\n"
     ]
    },
    {
     "name": "stderr",
     "output_type": "stream",
     "text": [
      "  DEPRECATION: Legacy editable install of catanatron_experimental==1.0.0 from file:///C:/Users/SAM/CODE/catan_atron/catanatron/catanatron_experimental/catanatron_experimental/catanatron/catanatron_experimental (setup.py develop) is deprecated. pip 25.1 will enforce this behaviour change. A possible replacement is to add a pyproject.toml or enable --use-pep517, and use setuptools >= 64. If the resulting installation is not behaving as expected, try using --config-settings editable_mode=compat. Please consult the setuptools documentation for more information. Discussion can be found at https://github.com/pypa/pip/issues/11457\n"
     ]
    },
    {
     "ename": "",
     "evalue": "",
     "output_type": "error",
     "traceback": [
      "\u001b[1;31mThe Kernel crashed while executing code in the current cell or a previous cell. \n",
      "\u001b[1;31mPlease review the code in the cell(s) to identify a possible cause of the failure. \n",
      "\u001b[1;31mClick <a href='https://aka.ms/vscodeJupyterKernelCrash'>here</a> for more info. \n",
      "\u001b[1;31mView Jupyter <a href='command:jupyter.viewOutput'>log</a> for further details."
     ]
    }
   ],
   "source": [
    "%pip install -r catanatron/dev-requirements.txt\n",
    "%pip install -e catanatron/catanatron_core\n",
    "%pip install -e catanatron/catanatron_server\n",
    "%pip install -e catanatron/catanatron_gym\n",
    "%pip install -e catanatron/catanatron_experimental\n",
    "exit() # Forcefully restart runtime to picks up installed requirements"
   ]
  },
  {
   "cell_type": "code",
   "execution_count": 1,
   "id": "65228753",
   "metadata": {},
   "outputs": [
    {
     "name": "stdout",
     "output_type": "stream",
     "text": [
      "Obtaining file:///C:/Users/SAM/CODE/catan_atron/catanatron/catanatron_experimental/catanatron_experimental/catanatron/catanatron_experimental\n",
      "  Preparing metadata (setup.py): started\n",
      "  Preparing metadata (setup.py): finished with status 'done'\n",
      "Requirement already satisfied: rich in c:\\users\\sam\\anaconda3\\envs\\catan311\\lib\\site-packages (from catanatron_experimental==1.0.0) (13.3.2)\n",
      "Requirement already satisfied: markdown-it-py<3.0.0,>=2.2.0 in c:\\users\\sam\\anaconda3\\envs\\catan311\\lib\\site-packages (from rich->catanatron_experimental==1.0.0) (2.2.0)\n",
      "Requirement already satisfied: pygments<3.0.0,>=2.13.0 in c:\\users\\sam\\anaconda3\\envs\\catan311\\lib\\site-packages (from rich->catanatron_experimental==1.0.0) (2.14.0)\n",
      "Requirement already satisfied: mdurl~=0.1 in c:\\users\\sam\\anaconda3\\envs\\catan311\\lib\\site-packages (from markdown-it-py<3.0.0,>=2.2.0->rich->catanatron_experimental==1.0.0) (0.1.2)\n",
      "Installing collected packages: catanatron_experimental\n",
      "  Attempting uninstall: catanatron_experimental\n",
      "    Found existing installation: catanatron_experimental 1.0.0\n",
      "    Uninstalling catanatron_experimental-1.0.0:\n",
      "      Successfully uninstalled catanatron_experimental-1.0.0\n",
      "  Running setup.py develop for catanatron_experimental\n",
      "Successfully installed catanatron_experimental-1.0.0\n",
      "Note: you may need to restart the kernel to use updated packages.\n"
     ]
    },
    {
     "name": "stderr",
     "output_type": "stream",
     "text": [
      "  DEPRECATION: Legacy editable install of catanatron_experimental==1.0.0 from file:///C:/Users/SAM/CODE/catan_atron/catanatron/catanatron_experimental/catanatron_experimental/catanatron/catanatron_experimental (setup.py develop) is deprecated. pip 25.1 will enforce this behaviour change. A possible replacement is to add a pyproject.toml or enable --use-pep517, and use setuptools >= 64. If the resulting installation is not behaving as expected, try using --config-settings editable_mode=compat. Please consult the setuptools documentation for more information. Discussion can be found at https://github.com/pypa/pip/issues/11457\n"
     ]
    }
   ],
   "source": [
    "%pip install -e catanatron/catanatron_experimental\n"
   ]
  },
  {
   "cell_type": "code",
   "execution_count": 1,
   "id": "4f56dcbc",
   "metadata": {},
   "outputs": [
    {
     "name": "stdout",
     "output_type": "stream",
     "text": [
      "Requirement already satisfied: tensorflow in c:\\users\\sam\\anaconda3\\envs\\catan311\\lib\\site-packages (2.19.0)\n",
      "Requirement already satisfied: absl-py>=1.0.0 in c:\\users\\sam\\anaconda3\\envs\\catan311\\lib\\site-packages (from tensorflow) (2.2.2)\n",
      "Requirement already satisfied: astunparse>=1.6.0 in c:\\users\\sam\\anaconda3\\envs\\catan311\\lib\\site-packages (from tensorflow) (1.6.3)\n",
      "Requirement already satisfied: flatbuffers>=24.3.25 in c:\\users\\sam\\anaconda3\\envs\\catan311\\lib\\site-packages (from tensorflow) (25.2.10)\n",
      "Requirement already satisfied: gast!=0.5.0,!=0.5.1,!=0.5.2,>=0.2.1 in c:\\users\\sam\\anaconda3\\envs\\catan311\\lib\\site-packages (from tensorflow) (0.6.0)\n",
      "Requirement already satisfied: google-pasta>=0.1.1 in c:\\users\\sam\\anaconda3\\envs\\catan311\\lib\\site-packages (from tensorflow) (0.2.0)\n",
      "Requirement already satisfied: libclang>=13.0.0 in c:\\users\\sam\\anaconda3\\envs\\catan311\\lib\\site-packages (from tensorflow) (18.1.1)\n",
      "Requirement already satisfied: opt-einsum>=2.3.2 in c:\\users\\sam\\anaconda3\\envs\\catan311\\lib\\site-packages (from tensorflow) (3.4.0)\n",
      "Requirement already satisfied: packaging in c:\\users\\sam\\anaconda3\\envs\\catan311\\lib\\site-packages (from tensorflow) (24.1)\n",
      "Requirement already satisfied: protobuf!=4.21.0,!=4.21.1,!=4.21.2,!=4.21.3,!=4.21.4,!=4.21.5,<6.0.0dev,>=3.20.3 in c:\\users\\sam\\anaconda3\\envs\\catan311\\lib\\site-packages (from tensorflow) (5.29.4)\n",
      "Requirement already satisfied: requests<3,>=2.21.0 in c:\\users\\sam\\anaconda3\\envs\\catan311\\lib\\site-packages (from tensorflow) (2.28.2)\n",
      "Requirement already satisfied: setuptools in c:\\users\\sam\\anaconda3\\envs\\catan311\\lib\\site-packages (from tensorflow) (75.8.0)\n",
      "Requirement already satisfied: six>=1.12.0 in c:\\users\\sam\\anaconda3\\envs\\catan311\\lib\\site-packages (from tensorflow) (1.16.0)\n",
      "Requirement already satisfied: termcolor>=1.1.0 in c:\\users\\sam\\anaconda3\\envs\\catan311\\lib\\site-packages (from tensorflow) (3.1.0)\n",
      "Requirement already satisfied: typing-extensions>=3.6.6 in c:\\users\\sam\\anaconda3\\envs\\catan311\\lib\\site-packages (from tensorflow) (4.13.2)\n",
      "Requirement already satisfied: wrapt>=1.11.0 in c:\\users\\sam\\anaconda3\\envs\\catan311\\lib\\site-packages (from tensorflow) (1.17.2)\n",
      "Requirement already satisfied: grpcio<2.0,>=1.24.3 in c:\\users\\sam\\anaconda3\\envs\\catan311\\lib\\site-packages (from tensorflow) (1.71.0)\n",
      "Requirement already satisfied: tensorboard~=2.19.0 in c:\\users\\sam\\anaconda3\\envs\\catan311\\lib\\site-packages (from tensorflow) (2.19.0)\n",
      "Requirement already satisfied: keras>=3.5.0 in c:\\users\\sam\\anaconda3\\envs\\catan311\\lib\\site-packages (from tensorflow) (3.9.2)\n",
      "Requirement already satisfied: numpy<2.2.0,>=1.26.0 in c:\\users\\sam\\anaconda3\\envs\\catan311\\lib\\site-packages (from tensorflow) (2.1.3)\n",
      "Requirement already satisfied: h5py>=3.11.0 in c:\\users\\sam\\anaconda3\\envs\\catan311\\lib\\site-packages (from tensorflow) (3.13.0)\n",
      "Requirement already satisfied: ml-dtypes<1.0.0,>=0.5.1 in c:\\users\\sam\\anaconda3\\envs\\catan311\\lib\\site-packages (from tensorflow) (0.5.1)\n",
      "Requirement already satisfied: tensorflow-io-gcs-filesystem>=0.23.1 in c:\\users\\sam\\anaconda3\\envs\\catan311\\lib\\site-packages (from tensorflow) (0.31.0)\n",
      "Requirement already satisfied: wheel<1.0,>=0.23.0 in c:\\users\\sam\\anaconda3\\envs\\catan311\\lib\\site-packages (from astunparse>=1.6.0->tensorflow) (0.45.1)\n",
      "Requirement already satisfied: rich in c:\\users\\sam\\anaconda3\\envs\\catan311\\lib\\site-packages (from keras>=3.5.0->tensorflow) (13.3.2)\n",
      "Requirement already satisfied: namex in c:\\users\\sam\\anaconda3\\envs\\catan311\\lib\\site-packages (from keras>=3.5.0->tensorflow) (0.0.9)\n",
      "Requirement already satisfied: optree in c:\\users\\sam\\anaconda3\\envs\\catan311\\lib\\site-packages (from keras>=3.5.0->tensorflow) (0.15.0)\n",
      "Requirement already satisfied: charset-normalizer<4,>=2 in c:\\users\\sam\\anaconda3\\envs\\catan311\\lib\\site-packages (from requests<3,>=2.21.0->tensorflow) (3.1.0)\n",
      "Requirement already satisfied: idna<4,>=2.5 in c:\\users\\sam\\anaconda3\\envs\\catan311\\lib\\site-packages (from requests<3,>=2.21.0->tensorflow) (3.4)\n",
      "Requirement already satisfied: urllib3<1.27,>=1.21.1 in c:\\users\\sam\\anaconda3\\envs\\catan311\\lib\\site-packages (from requests<3,>=2.21.0->tensorflow) (1.26.15)\n",
      "Requirement already satisfied: certifi>=2017.4.17 in c:\\users\\sam\\anaconda3\\envs\\catan311\\lib\\site-packages (from requests<3,>=2.21.0->tensorflow) (2022.12.7)\n",
      "Requirement already satisfied: markdown>=2.6.8 in c:\\users\\sam\\anaconda3\\envs\\catan311\\lib\\site-packages (from tensorboard~=2.19.0->tensorflow) (3.8)\n",
      "Requirement already satisfied: tensorboard-data-server<0.8.0,>=0.7.0 in c:\\users\\sam\\anaconda3\\envs\\catan311\\lib\\site-packages (from tensorboard~=2.19.0->tensorflow) (0.7.2)\n",
      "Requirement already satisfied: werkzeug>=1.0.1 in c:\\users\\sam\\anaconda3\\envs\\catan311\\lib\\site-packages (from tensorboard~=2.19.0->tensorflow) (2.2.3)\n",
      "Requirement already satisfied: MarkupSafe>=2.1.1 in c:\\users\\sam\\anaconda3\\envs\\catan311\\lib\\site-packages (from werkzeug>=1.0.1->tensorboard~=2.19.0->tensorflow) (2.1.2)\n",
      "Requirement already satisfied: markdown-it-py<3.0.0,>=2.2.0 in c:\\users\\sam\\anaconda3\\envs\\catan311\\lib\\site-packages (from rich->keras>=3.5.0->tensorflow) (2.2.0)\n",
      "Requirement already satisfied: pygments<3.0.0,>=2.13.0 in c:\\users\\sam\\anaconda3\\envs\\catan311\\lib\\site-packages (from rich->keras>=3.5.0->tensorflow) (2.14.0)\n",
      "Requirement already satisfied: mdurl~=0.1 in c:\\users\\sam\\anaconda3\\envs\\catan311\\lib\\site-packages (from markdown-it-py<3.0.0,>=2.2.0->rich->keras>=3.5.0->tensorflow) (0.1.2)\n",
      "Note: you may need to restart the kernel to use updated packages.\n",
      "Found existing installation: pandas 2.3.0\n",
      "Uninstalling pandas-2.3.0:\n",
      "  Successfully uninstalled pandas-2.3.0\n",
      "Found existing installation: numpy 2.1.3\n",
      "Uninstalling numpy-2.1.3:\n",
      "  Successfully uninstalled numpy-2.1.3\n",
      "Note: you may need to restart the kernel to use updated packages.\n",
      "Collecting numpy\n",
      "  Downloading numpy-2.2.6-cp311-cp311-win_amd64.whl.metadata (60 kB)\n",
      "Collecting pandas\n",
      "  Downloading pandas-2.3.0-cp311-cp311-win_amd64.whl.metadata (19 kB)\n",
      "Requirement already satisfied: python-dateutil>=2.8.2 in c:\\users\\sam\\anaconda3\\envs\\catan311\\lib\\site-packages (from pandas) (2.8.2)\n",
      "Requirement already satisfied: pytz>=2020.1 in c:\\users\\sam\\anaconda3\\envs\\catan311\\lib\\site-packages (from pandas) (2022.7.1)\n",
      "Requirement already satisfied: tzdata>=2022.7 in c:\\users\\sam\\anaconda3\\envs\\catan311\\lib\\site-packages (from pandas) (2025.2)\n",
      "Requirement already satisfied: six>=1.5 in c:\\users\\sam\\anaconda3\\envs\\catan311\\lib\\site-packages (from python-dateutil>=2.8.2->pandas) (1.16.0)\n",
      "Downloading numpy-2.2.6-cp311-cp311-win_amd64.whl (12.9 MB)\n",
      "   ---------------------------------------- 0.0/12.9 MB ? eta -:--:--\n",
      "   -------------------- ------------------- 6.6/12.9 MB 36.8 MB/s eta 0:00:01\n",
      "   ---------------------------- ----------- 9.2/12.9 MB 22.9 MB/s eta 0:00:01\n",
      "   ------------------------------- -------- 10.2/12.9 MB 17.7 MB/s eta 0:00:01\n",
      "   --------------------------------- ------ 10.7/12.9 MB 14.6 MB/s eta 0:00:01\n",
      "   ---------------------------------- ----- 11.3/12.9 MB 11.8 MB/s eta 0:00:01\n",
      "   ------------------------------------ --- 11.8/12.9 MB 10.0 MB/s eta 0:00:01\n",
      "   -------------------------------------- - 12.3/12.9 MB 8.7 MB/s eta 0:00:01\n",
      "   ---------------------------------------  12.8/12.9 MB 7.8 MB/s eta 0:00:01\n",
      "   ---------------------------------------- 12.9/12.9 MB 7.8 MB/s eta 0:00:00\n",
      "Downloading pandas-2.3.0-cp311-cp311-win_amd64.whl (11.1 MB)\n",
      "   ---------------------------------------- 0.0/11.1 MB ? eta -:--:--\n",
      "   - -------------------------------------- 0.5/11.1 MB 2.8 MB/s eta 0:00:04\n",
      "   --- ------------------------------------ 1.0/11.1 MB 2.8 MB/s eta 0:00:04\n",
      "   ---- ----------------------------------- 1.3/11.1 MB 2.5 MB/s eta 0:00:04\n",
      "   ------ --------------------------------- 1.8/11.1 MB 2.3 MB/s eta 0:00:05\n",
      "   ------ --------------------------------- 1.8/11.1 MB 2.3 MB/s eta 0:00:05\n",
      "   ------- -------------------------------- 2.1/11.1 MB 1.9 MB/s eta 0:00:05\n",
      "   --------- ------------------------------ 2.6/11.1 MB 1.8 MB/s eta 0:00:05\n",
      "   ---------- ----------------------------- 2.9/11.1 MB 1.8 MB/s eta 0:00:05\n",
      "   ---------- ----------------------------- 2.9/11.1 MB 1.8 MB/s eta 0:00:05\n",
      "   ----------- ---------------------------- 3.1/11.1 MB 1.6 MB/s eta 0:00:05\n",
      "   ------------- -------------------------- 3.7/11.1 MB 1.6 MB/s eta 0:00:05\n",
      "   ---------------- ----------------------- 4.5/11.1 MB 1.8 MB/s eta 0:00:04\n",
      "   ----------------- ---------------------- 4.7/11.1 MB 1.8 MB/s eta 0:00:04\n",
      "   ----------------- ---------------------- 5.0/11.1 MB 1.8 MB/s eta 0:00:04\n",
      "   ------------------- -------------------- 5.5/11.1 MB 1.8 MB/s eta 0:00:04\n",
      "   --------------------- ------------------ 6.0/11.1 MB 1.8 MB/s eta 0:00:03\n",
      "   ----------------------- ---------------- 6.6/11.1 MB 1.9 MB/s eta 0:00:03\n",
      "   ------------------------- -------------- 7.1/11.1 MB 1.9 MB/s eta 0:00:03\n",
      "   -------------------------- ------------- 7.3/11.1 MB 1.9 MB/s eta 0:00:02\n",
      "   --------------------------- ------------ 7.6/11.1 MB 1.9 MB/s eta 0:00:02\n",
      "   ------------------------------ --------- 8.4/11.1 MB 1.9 MB/s eta 0:00:02\n",
      "   --------------------------------- ------ 9.2/11.1 MB 2.0 MB/s eta 0:00:01\n",
      "   ---------------------------------- ----- 9.7/11.1 MB 2.1 MB/s eta 0:00:01\n",
      "   ------------------------------------ --- 10.2/11.1 MB 2.1 MB/s eta 0:00:01\n",
      "   -------------------------------------- - 10.7/11.1 MB 2.1 MB/s eta 0:00:01\n",
      "   ---------------------------------------- 11.1/11.1 MB 2.1 MB/s eta 0:00:00\n",
      "Installing collected packages: numpy, pandas\n",
      "Successfully installed numpy-2.2.6 pandas-2.3.0\n",
      "Note: you may need to restart the kernel to use updated packages.\n"
     ]
    },
    {
     "name": "stderr",
     "output_type": "stream",
     "text": [
      "ERROR: pip's dependency resolver does not currently take into account all the packages that are installed. This behaviour is the source of the following dependency conflicts.\n",
      "tensorflow 2.19.0 requires numpy<2.2.0,>=1.26.0, but you have numpy 2.2.6 which is incompatible.\n"
     ]
    },
    {
     "name": "stdout",
     "output_type": "stream",
     "text": [
      "Collecting numpy<2.2.0,>=1.26.0\n",
      "  Using cached numpy-2.1.3-cp311-cp311-win_amd64.whl.metadata (60 kB)\n",
      "Using cached numpy-2.1.3-cp311-cp311-win_amd64.whl (12.9 MB)\n",
      "Installing collected packages: numpy\n",
      "  Attempting uninstall: numpy\n",
      "    Found existing installation: numpy 2.2.6\n",
      "    Uninstalling numpy-2.2.6:\n",
      "      Successfully uninstalled numpy-2.2.6\n",
      "Successfully installed numpy-2.1.3\n",
      "Note: you may need to restart the kernel to use updated packages.\n",
      "Requirement already satisfied: torch in c:\\users\\sam\\anaconda3\\envs\\catan311\\lib\\site-packages (2.5.1+cu121)\n",
      "Requirement already satisfied: filelock in c:\\users\\sam\\anaconda3\\envs\\catan311\\lib\\site-packages (from torch) (3.18.0)\n",
      "Requirement already satisfied: typing-extensions>=4.8.0 in c:\\users\\sam\\anaconda3\\envs\\catan311\\lib\\site-packages (from torch) (4.13.2)\n",
      "Requirement already satisfied: networkx in c:\\users\\sam\\anaconda3\\envs\\catan311\\lib\\site-packages (from torch) (3.0)\n",
      "Requirement already satisfied: jinja2 in c:\\users\\sam\\anaconda3\\envs\\catan311\\lib\\site-packages (from torch) (3.1.2)\n",
      "Requirement already satisfied: fsspec in c:\\users\\sam\\anaconda3\\envs\\catan311\\lib\\site-packages (from torch) (2025.3.2)\n",
      "Requirement already satisfied: sympy==1.13.1 in c:\\users\\sam\\anaconda3\\envs\\catan311\\lib\\site-packages (from torch) (1.13.1)\n",
      "Requirement already satisfied: mpmath<1.4,>=1.1.0 in c:\\users\\sam\\anaconda3\\envs\\catan311\\lib\\site-packages (from sympy==1.13.1->torch) (1.3.0)\n",
      "Requirement already satisfied: MarkupSafe>=2.0 in c:\\users\\sam\\anaconda3\\envs\\catan311\\lib\\site-packages (from jinja2->torch) (2.1.2)\n",
      "Note: you may need to restart the kernel to use updated packages.\n"
     ]
    }
   ],
   "source": [
    "%pip install tensorflow \n",
    "%pip uninstall pandas numpy -y\n",
    "%pip install --no-cache-dir numpy pandas\n",
    "%pip install \"numpy>=1.26.0,<2.2.0\"\n",
    "%pip install torch\n"
   ]
  },
  {
   "cell_type": "code",
   "execution_count": 1,
   "id": "dd32b2b1",
   "metadata": {},
   "outputs": [
    {
     "name": "stdout",
     "output_type": "stream",
     "text": [
      "Found existing installation: torch 2.5.1+cu121\n",
      "Uninstalling torch-2.5.1+cu121:\n",
      "  Successfully uninstalled torch-2.5.1+cu121\n",
      "Found existing installation: torchvision 0.20.1+cu121\n",
      "Uninstalling torchvision-0.20.1+cu121:\n",
      "  Successfully uninstalled torchvision-0.20.1+cu121\n",
      "Found existing installation: torchaudio 2.5.1+cu121\n",
      "Uninstalling torchaudio-2.5.1+cu121:\n",
      "  Successfully uninstalled torchaudio-2.5.1+cu121\n",
      "Note: you may need to restart the kernel to use updated packages.\n",
      "Looking in indexes: https://download.pytorch.org/whl/cu121\n",
      "Collecting torch\n",
      "  Using cached https://download.pytorch.org/whl/cu121/torch-2.5.1%2Bcu121-cp311-cp311-win_amd64.whl (2449.4 MB)\n",
      "Collecting torchvision\n",
      "  Using cached https://download.pytorch.org/whl/cu121/torchvision-0.20.1%2Bcu121-cp311-cp311-win_amd64.whl (6.1 MB)\n",
      "Collecting torchaudio\n",
      "  Using cached https://download.pytorch.org/whl/cu121/torchaudio-2.5.1%2Bcu121-cp311-cp311-win_amd64.whl (4.1 MB)\n",
      "Requirement already satisfied: filelock in c:\\users\\sam\\anaconda3\\envs\\catan311\\lib\\site-packages (from torch) (3.18.0)\n",
      "Requirement already satisfied: typing-extensions>=4.8.0 in c:\\users\\sam\\anaconda3\\envs\\catan311\\lib\\site-packages (from torch) (4.13.2)\n",
      "Requirement already satisfied: networkx in c:\\users\\sam\\anaconda3\\envs\\catan311\\lib\\site-packages (from torch) (3.0)\n",
      "Requirement already satisfied: jinja2 in c:\\users\\sam\\anaconda3\\envs\\catan311\\lib\\site-packages (from torch) (3.1.2)\n",
      "Requirement already satisfied: fsspec in c:\\users\\sam\\anaconda3\\envs\\catan311\\lib\\site-packages (from torch) (2025.3.2)\n",
      "Requirement already satisfied: sympy==1.13.1 in c:\\users\\sam\\anaconda3\\envs\\catan311\\lib\\site-packages (from torch) (1.13.1)\n",
      "Requirement already satisfied: mpmath<1.4,>=1.1.0 in c:\\users\\sam\\anaconda3\\envs\\catan311\\lib\\site-packages (from sympy==1.13.1->torch) (1.3.0)\n",
      "Requirement already satisfied: numpy in c:\\users\\sam\\anaconda3\\envs\\catan311\\lib\\site-packages (from torchvision) (2.1.3)\n",
      "Requirement already satisfied: pillow!=8.3.*,>=5.3.0 in c:\\users\\sam\\anaconda3\\envs\\catan311\\lib\\site-packages (from torchvision) (11.0.0)\n",
      "Requirement already satisfied: MarkupSafe>=2.0 in c:\\users\\sam\\anaconda3\\envs\\catan311\\lib\\site-packages (from jinja2->torch) (2.1.2)\n",
      "Installing collected packages: torch, torchvision, torchaudio\n",
      "Successfully installed torch-2.5.1+cu121 torchaudio-2.5.1+cu121 torchvision-0.20.1+cu121\n",
      "Note: you may need to restart the kernel to use updated packages.\n"
     ]
    }
   ],
   "source": [
    "%pip uninstall torch torchvision torchaudio -y\n",
    "%pip install torch torchvision torchaudio --index-url https://download.pytorch.org/whl/cu121\n"
   ]
  },
  {
   "cell_type": "code",
   "execution_count": 1,
   "id": "c362339e",
   "metadata": {},
   "outputs": [
    {
     "name": "stdout",
     "output_type": "stream",
     "text": [
      "True\n",
      "NVIDIA GeForce RTX 2060 SUPER\n"
     ]
    }
   ],
   "source": [
    "import torch\n",
    "print(torch.cuda.is_available())\n",
    "print(torch.cuda.get_device_name(0) if torch.cuda.is_available() else \"No GPU detected\")\n"
   ]
  },
  {
   "cell_type": "markdown",
   "id": "5ef8f5a2-feb0-49d3-a2b5-a9f1c462db5d",
   "metadata": {},
   "source": [
    "Then, you can implement your own bot strategy and pit against some benchmark bots."
   ]
  },
  {
   "cell_type": "code",
   "execution_count": 2,
   "id": "ef40e33f-8937-4918-b626-d70a2615e7aa",
   "metadata": {},
   "outputs": [],
   "source": [
    "import random\n",
    "\n",
    "from catanatron.game import Game\n",
    "from catanatron.models.player import Player, RandomPlayer, Color\n",
    "from machine_learning.players.online_mcts_dqn import OnlineMCTSDQNPlayer_1\n",
    "from machine_learning.players.apl_beta_dqn import AB_DQNPlayer_1\n",
    "from catanatron_experimental.machine_learning.players.minimax import AlphaBetaPlayer\n",
    "\n",
    "from catanatron.players.weighted_random import WeightedRandomPlayer\n"
   ]
  },
  {
   "cell_type": "code",
   "execution_count": 3,
   "id": "65d88e4f",
   "metadata": {},
   "outputs": [
    {
     "name": "stdout",
     "output_type": "stream",
     "text": [
      "Collected 500 samples...\n",
      "Collected 1000 samples...\n",
      "Collected 1500 samples...\n",
      "Collected 2000 samples...\n",
      "Collected 2500 samples...\n",
      "Collected 3000 samples...\n",
      "Collected 3500 samples...\n",
      "Collected 4000 samples...\n",
      "Collected 4500 samples...\n",
      "Collected 5000 samples...\n",
      "Collected 5500 samples...\n",
      "Collected 6000 samples...\n",
      "Collected 6500 samples...\n",
      "Collected 7000 samples...\n",
      "Collected 7500 samples...\n",
      "Collected 8000 samples...\n",
      "Collected 8500 samples...\n",
      "Collected 9000 samples...\n",
      "Collected 9500 samples...\n",
      "Collected 10000 samples...\n",
      "Saved mean to: data\\mcts-playouts-validation\\mean.npy\n",
      "Saved variance to: data\\mcts-playouts-validation\\variance.npy\n"
     ]
    }
   ],
   "source": [
    "import numpy as np\n",
    "from pathlib import Path\n",
    "from catanatron.game import Game\n",
    "from catanatron.models.player import Color, RandomPlayer\n",
    "from catanatron_gym.features import create_sample_vector, get_feature_ordering\n",
    "\n",
    "# === Configuration\n",
    "DATA_PATH = \"data/mcts-playouts-validation\"\n",
    "NORMALIZATION_MEAN_PATH = Path(DATA_PATH, \"mean.npy\")\n",
    "NORMALIZATION_VARIANCE_PATH = Path(DATA_PATH, \"variance.npy\")\n",
    "\n",
    "NUM_SAMPLES = 10000  # Feel free to increase\n",
    "\n",
    "def generate_random_game():\n",
    "    players = [\n",
    "        RandomPlayer(Color.RED),\n",
    "        RandomPlayer(Color.BLUE),\n",
    "        RandomPlayer(Color.WHITE),\n",
    "        RandomPlayer(Color.ORANGE),\n",
    "    ]\n",
    "    game = Game(players)\n",
    "\n",
    "    # Step the game forward for a few ticks\n",
    "    for _ in range(30):  # Roughly ~5 turns depending on tick granularity\n",
    "        if game.winning_color() is not None:\n",
    "            break\n",
    "        game.play_tick()\n",
    "\n",
    "    return game\n",
    "\n",
    "\n",
    "# === Collect sample vectors\n",
    "samples = []\n",
    "\n",
    "for i in range(NUM_SAMPLES):\n",
    "    game = generate_random_game()\n",
    "    vec = create_sample_vector(game, game.state.colors[0])  # Use RED's view\n",
    "    samples.append(vec)\n",
    "    if (i + 1) % 500 == 0:\n",
    "        print(f\"Collected {i + 1} samples...\")\n",
    "\n",
    "# === Compute statistics\n",
    "samples = np.array(samples)\n",
    "mean = samples.mean(axis=0)\n",
    "variance = samples.var(axis=0)\n",
    "\n",
    "# === Save to disk\n",
    "Path(DATA_PATH).mkdir(parents=True, exist_ok=True)\n",
    "np.save(NORMALIZATION_MEAN_PATH, mean)\n",
    "np.save(NORMALIZATION_VARIANCE_PATH, variance)\n",
    "\n",
    "print(f\"Saved mean to: {NORMALIZATION_MEAN_PATH}\")\n",
    "print(f\"Saved variance to: {NORMALIZATION_VARIANCE_PATH}\")\n"
   ]
  },
  {
   "cell_type": "code",
   "execution_count": 4,
   "id": "2bfdf5cd",
   "metadata": {},
   "outputs": [
    {
     "name": "stdout",
     "output_type": "stream",
     "text": [
      "['BANK_BRICK', 'BANK_DEV_CARDS', 'BANK_ORE', 'BANK_SHEEP', 'BANK_WHEAT', 'BANK_WOOD', 'EDGE(0, 1)_P0_ROAD', 'EDGE(0, 1)_P1_ROAD', 'EDGE(0, 1)_P2_ROAD', 'EDGE(0, 1)_P3_ROAD', 'EDGE(0, 20)_P0_ROAD', 'EDGE(0, 20)_P1_ROAD', 'EDGE(0, 20)_P2_ROAD', 'EDGE(0, 20)_P3_ROAD', 'EDGE(0, 5)_P0_ROAD', 'EDGE(0, 5)_P1_ROAD', 'EDGE(0, 5)_P2_ROAD', 'EDGE(0, 5)_P3_ROAD', 'EDGE(1, 2)_P0_ROAD', 'EDGE(1, 2)_P1_ROAD', 'EDGE(1, 2)_P2_ROAD', 'EDGE(1, 2)_P3_ROAD', 'EDGE(1, 6)_P0_ROAD', 'EDGE(1, 6)_P1_ROAD', 'EDGE(1, 6)_P2_ROAD', 'EDGE(1, 6)_P3_ROAD', 'EDGE(10, 11)_P0_ROAD', 'EDGE(10, 11)_P1_ROAD', 'EDGE(10, 11)_P2_ROAD', 'EDGE(10, 11)_P3_ROAD', 'EDGE(10, 29)_P0_ROAD', 'EDGE(10, 29)_P1_ROAD', 'EDGE(10, 29)_P2_ROAD', 'EDGE(10, 29)_P3_ROAD', 'EDGE(11, 12)_P0_ROAD', 'EDGE(11, 12)_P1_ROAD', 'EDGE(11, 12)_P2_ROAD', 'EDGE(11, 12)_P3_ROAD', 'EDGE(11, 32)_P0_ROAD', 'EDGE(11, 32)_P1_ROAD', 'EDGE(11, 32)_P2_ROAD', 'EDGE(11, 32)_P3_ROAD', 'EDGE(12, 13)_P0_ROAD', 'EDGE(12, 13)_P1_ROAD', 'EDGE(12, 13)_P2_ROAD', 'EDGE(12, 13)_P3_ROAD', 'EDGE(13, 14)_P0_ROAD', 'EDGE(13, 14)_P1_ROAD', 'EDGE(13, 14)_P2_ROAD', 'EDGE(13, 14)_P3_ROAD', 'EDGE(13, 34)_P0_ROAD', 'EDGE(13, 34)_P1_ROAD', 'EDGE(13, 34)_P2_ROAD', 'EDGE(13, 34)_P3_ROAD', 'EDGE(14, 15)_P0_ROAD', 'EDGE(14, 15)_P1_ROAD', 'EDGE(14, 15)_P2_ROAD', 'EDGE(14, 15)_P3_ROAD', 'EDGE(14, 37)_P0_ROAD', 'EDGE(14, 37)_P1_ROAD', 'EDGE(14, 37)_P2_ROAD', 'EDGE(14, 37)_P3_ROAD', 'EDGE(15, 17)_P0_ROAD', 'EDGE(15, 17)_P1_ROAD', 'EDGE(15, 17)_P2_ROAD', 'EDGE(15, 17)_P3_ROAD', 'EDGE(16, 18)_P0_ROAD', 'EDGE(16, 18)_P1_ROAD', 'EDGE(16, 18)_P2_ROAD', 'EDGE(16, 18)_P3_ROAD', 'EDGE(16, 21)_P0_ROAD', 'EDGE(16, 21)_P1_ROAD', 'EDGE(16, 21)_P2_ROAD', 'EDGE(16, 21)_P3_ROAD', 'EDGE(17, 18)_P0_ROAD', 'EDGE(17, 18)_P1_ROAD', 'EDGE(17, 18)_P2_ROAD', 'EDGE(17, 18)_P3_ROAD', 'EDGE(17, 39)_P0_ROAD', 'EDGE(17, 39)_P1_ROAD', 'EDGE(17, 39)_P2_ROAD', 'EDGE(17, 39)_P3_ROAD', 'EDGE(18, 40)_P0_ROAD', 'EDGE(18, 40)_P1_ROAD', 'EDGE(18, 40)_P2_ROAD', 'EDGE(18, 40)_P3_ROAD', 'EDGE(19, 20)_P0_ROAD', 'EDGE(19, 20)_P1_ROAD', 'EDGE(19, 20)_P2_ROAD', 'EDGE(19, 20)_P3_ROAD', 'EDGE(19, 21)_P0_ROAD', 'EDGE(19, 21)_P1_ROAD', 'EDGE(19, 21)_P2_ROAD', 'EDGE(19, 21)_P3_ROAD', 'EDGE(19, 46)_P0_ROAD', 'EDGE(19, 46)_P1_ROAD', 'EDGE(19, 46)_P2_ROAD', 'EDGE(19, 46)_P3_ROAD', 'EDGE(2, 3)_P0_ROAD', 'EDGE(2, 3)_P1_ROAD', 'EDGE(2, 3)_P2_ROAD', 'EDGE(2, 3)_P3_ROAD', 'EDGE(2, 9)_P0_ROAD', 'EDGE(2, 9)_P1_ROAD', 'EDGE(2, 9)_P2_ROAD', 'EDGE(2, 9)_P3_ROAD', 'EDGE(20, 22)_P0_ROAD', 'EDGE(20, 22)_P1_ROAD', 'EDGE(20, 22)_P2_ROAD', 'EDGE(20, 22)_P3_ROAD', 'EDGE(21, 43)_P0_ROAD', 'EDGE(21, 43)_P1_ROAD', 'EDGE(21, 43)_P2_ROAD', 'EDGE(21, 43)_P3_ROAD', 'EDGE(22, 23)_P0_ROAD', 'EDGE(22, 23)_P1_ROAD', 'EDGE(22, 23)_P2_ROAD', 'EDGE(22, 23)_P3_ROAD', 'EDGE(22, 49)_P0_ROAD', 'EDGE(22, 49)_P1_ROAD', 'EDGE(22, 49)_P2_ROAD', 'EDGE(22, 49)_P3_ROAD', 'EDGE(23, 52)_P0_ROAD', 'EDGE(23, 52)_P1_ROAD', 'EDGE(23, 52)_P2_ROAD', 'EDGE(23, 52)_P3_ROAD', 'EDGE(24, 25)_P0_ROAD', 'EDGE(24, 25)_P1_ROAD', 'EDGE(24, 25)_P2_ROAD', 'EDGE(24, 25)_P3_ROAD', 'EDGE(24, 53)_P0_ROAD', 'EDGE(24, 53)_P1_ROAD', 'EDGE(24, 53)_P2_ROAD', 'EDGE(24, 53)_P3_ROAD', 'EDGE(25, 26)_P0_ROAD', 'EDGE(25, 26)_P1_ROAD', 'EDGE(25, 26)_P2_ROAD', 'EDGE(25, 26)_P3_ROAD', 'EDGE(26, 27)_P0_ROAD', 'EDGE(26, 27)_P1_ROAD', 'EDGE(26, 27)_P2_ROAD', 'EDGE(26, 27)_P3_ROAD', 'EDGE(27, 28)_P0_ROAD', 'EDGE(27, 28)_P1_ROAD', 'EDGE(27, 28)_P2_ROAD', 'EDGE(27, 28)_P3_ROAD', 'EDGE(28, 29)_P0_ROAD', 'EDGE(28, 29)_P1_ROAD', 'EDGE(28, 29)_P2_ROAD', 'EDGE(28, 29)_P3_ROAD', 'EDGE(29, 30)_P0_ROAD', 'EDGE(29, 30)_P1_ROAD', 'EDGE(29, 30)_P2_ROAD', 'EDGE(29, 30)_P3_ROAD', 'EDGE(3, 12)_P0_ROAD', 'EDGE(3, 12)_P1_ROAD', 'EDGE(3, 12)_P2_ROAD', 'EDGE(3, 12)_P3_ROAD', 'EDGE(3, 4)_P0_ROAD', 'EDGE(3, 4)_P1_ROAD', 'EDGE(3, 4)_P2_ROAD', 'EDGE(3, 4)_P3_ROAD', 'EDGE(30, 31)_P0_ROAD', 'EDGE(30, 31)_P1_ROAD', 'EDGE(30, 31)_P2_ROAD', 'EDGE(30, 31)_P3_ROAD', 'EDGE(31, 32)_P0_ROAD', 'EDGE(31, 32)_P1_ROAD', 'EDGE(31, 32)_P2_ROAD', 'EDGE(31, 32)_P3_ROAD', 'EDGE(32, 33)_P0_ROAD', 'EDGE(32, 33)_P1_ROAD', 'EDGE(32, 33)_P2_ROAD', 'EDGE(32, 33)_P3_ROAD', 'EDGE(33, 34)_P0_ROAD', 'EDGE(33, 34)_P1_ROAD', 'EDGE(33, 34)_P2_ROAD', 'EDGE(33, 34)_P3_ROAD', 'EDGE(34, 35)_P0_ROAD', 'EDGE(34, 35)_P1_ROAD', 'EDGE(34, 35)_P2_ROAD', 'EDGE(34, 35)_P3_ROAD', 'EDGE(35, 36)_P0_ROAD', 'EDGE(35, 36)_P1_ROAD', 'EDGE(35, 36)_P2_ROAD', 'EDGE(35, 36)_P3_ROAD', 'EDGE(36, 37)_P0_ROAD', 'EDGE(36, 37)_P1_ROAD', 'EDGE(36, 37)_P2_ROAD', 'EDGE(36, 37)_P3_ROAD', 'EDGE(37, 38)_P0_ROAD', 'EDGE(37, 38)_P1_ROAD', 'EDGE(37, 38)_P2_ROAD', 'EDGE(37, 38)_P3_ROAD', 'EDGE(38, 39)_P0_ROAD', 'EDGE(38, 39)_P1_ROAD', 'EDGE(38, 39)_P2_ROAD', 'EDGE(38, 39)_P3_ROAD', 'EDGE(39, 41)_P0_ROAD', 'EDGE(39, 41)_P1_ROAD', 'EDGE(39, 41)_P2_ROAD', 'EDGE(39, 41)_P3_ROAD', 'EDGE(4, 15)_P0_ROAD', 'EDGE(4, 15)_P1_ROAD', 'EDGE(4, 15)_P2_ROAD', 'EDGE(4, 15)_P3_ROAD', 'EDGE(4, 5)_P0_ROAD', 'EDGE(4, 5)_P1_ROAD', 'EDGE(4, 5)_P2_ROAD', 'EDGE(4, 5)_P3_ROAD', 'EDGE(40, 42)_P0_ROAD', 'EDGE(40, 42)_P1_ROAD', 'EDGE(40, 42)_P2_ROAD', 'EDGE(40, 42)_P3_ROAD', 'EDGE(40, 44)_P0_ROAD', 'EDGE(40, 44)_P1_ROAD', 'EDGE(40, 44)_P2_ROAD', 'EDGE(40, 44)_P3_ROAD', 'EDGE(41, 42)_P0_ROAD', 'EDGE(41, 42)_P1_ROAD', 'EDGE(41, 42)_P2_ROAD', 'EDGE(41, 42)_P3_ROAD', 'EDGE(43, 44)_P0_ROAD', 'EDGE(43, 44)_P1_ROAD', 'EDGE(43, 44)_P2_ROAD', 'EDGE(43, 44)_P3_ROAD', 'EDGE(43, 47)_P0_ROAD', 'EDGE(43, 47)_P1_ROAD', 'EDGE(43, 47)_P2_ROAD', 'EDGE(43, 47)_P3_ROAD', 'EDGE(45, 46)_P0_ROAD', 'EDGE(45, 46)_P1_ROAD', 'EDGE(45, 46)_P2_ROAD', 'EDGE(45, 46)_P3_ROAD', 'EDGE(45, 47)_P0_ROAD', 'EDGE(45, 47)_P1_ROAD', 'EDGE(45, 47)_P2_ROAD', 'EDGE(45, 47)_P3_ROAD', 'EDGE(46, 48)_P0_ROAD', 'EDGE(46, 48)_P1_ROAD', 'EDGE(46, 48)_P2_ROAD', 'EDGE(46, 48)_P3_ROAD', 'EDGE(48, 49)_P0_ROAD', 'EDGE(48, 49)_P1_ROAD', 'EDGE(48, 49)_P2_ROAD', 'EDGE(48, 49)_P3_ROAD', 'EDGE(49, 50)_P0_ROAD', 'EDGE(49, 50)_P1_ROAD', 'EDGE(49, 50)_P2_ROAD', 'EDGE(49, 50)_P3_ROAD', 'EDGE(5, 16)_P0_ROAD', 'EDGE(5, 16)_P1_ROAD', 'EDGE(5, 16)_P2_ROAD', 'EDGE(5, 16)_P3_ROAD', 'EDGE(50, 51)_P0_ROAD', 'EDGE(50, 51)_P1_ROAD', 'EDGE(50, 51)_P2_ROAD', 'EDGE(50, 51)_P3_ROAD', 'EDGE(51, 52)_P0_ROAD', 'EDGE(51, 52)_P1_ROAD', 'EDGE(51, 52)_P2_ROAD', 'EDGE(51, 52)_P3_ROAD', 'EDGE(52, 53)_P0_ROAD', 'EDGE(52, 53)_P1_ROAD', 'EDGE(52, 53)_P2_ROAD', 'EDGE(52, 53)_P3_ROAD', 'EDGE(6, 23)_P0_ROAD', 'EDGE(6, 23)_P1_ROAD', 'EDGE(6, 23)_P2_ROAD', 'EDGE(6, 23)_P3_ROAD', 'EDGE(6, 7)_P0_ROAD', 'EDGE(6, 7)_P1_ROAD', 'EDGE(6, 7)_P2_ROAD', 'EDGE(6, 7)_P3_ROAD', 'EDGE(7, 24)_P0_ROAD', 'EDGE(7, 24)_P1_ROAD', 'EDGE(7, 24)_P2_ROAD', 'EDGE(7, 24)_P3_ROAD', 'EDGE(7, 8)_P0_ROAD', 'EDGE(7, 8)_P1_ROAD', 'EDGE(7, 8)_P2_ROAD', 'EDGE(7, 8)_P3_ROAD', 'EDGE(8, 27)_P0_ROAD', 'EDGE(8, 27)_P1_ROAD', 'EDGE(8, 27)_P2_ROAD', 'EDGE(8, 27)_P3_ROAD', 'EDGE(8, 9)_P0_ROAD', 'EDGE(8, 9)_P1_ROAD', 'EDGE(8, 9)_P2_ROAD', 'EDGE(8, 9)_P3_ROAD', 'EDGE(9, 10)_P0_ROAD', 'EDGE(9, 10)_P1_ROAD', 'EDGE(9, 10)_P2_ROAD', 'EDGE(9, 10)_P3_ROAD', 'IS_DISCARDING', 'IS_MOVING_ROBBER', 'NODE0_P0_CITY', 'NODE0_P0_SETTLEMENT', 'NODE0_P1_CITY', 'NODE0_P1_SETTLEMENT', 'NODE0_P2_CITY', 'NODE0_P2_SETTLEMENT', 'NODE0_P3_CITY', 'NODE0_P3_SETTLEMENT', 'NODE10_P0_CITY', 'NODE10_P0_SETTLEMENT', 'NODE10_P1_CITY', 'NODE10_P1_SETTLEMENT', 'NODE10_P2_CITY', 'NODE10_P2_SETTLEMENT', 'NODE10_P3_CITY', 'NODE10_P3_SETTLEMENT', 'NODE11_P0_CITY', 'NODE11_P0_SETTLEMENT', 'NODE11_P1_CITY', 'NODE11_P1_SETTLEMENT', 'NODE11_P2_CITY', 'NODE11_P2_SETTLEMENT', 'NODE11_P3_CITY', 'NODE11_P3_SETTLEMENT', 'NODE12_P0_CITY', 'NODE12_P0_SETTLEMENT', 'NODE12_P1_CITY', 'NODE12_P1_SETTLEMENT', 'NODE12_P2_CITY', 'NODE12_P2_SETTLEMENT', 'NODE12_P3_CITY', 'NODE12_P3_SETTLEMENT', 'NODE13_P0_CITY', 'NODE13_P0_SETTLEMENT', 'NODE13_P1_CITY', 'NODE13_P1_SETTLEMENT', 'NODE13_P2_CITY', 'NODE13_P2_SETTLEMENT', 'NODE13_P3_CITY', 'NODE13_P3_SETTLEMENT', 'NODE14_P0_CITY', 'NODE14_P0_SETTLEMENT', 'NODE14_P1_CITY', 'NODE14_P1_SETTLEMENT', 'NODE14_P2_CITY', 'NODE14_P2_SETTLEMENT', 'NODE14_P3_CITY', 'NODE14_P3_SETTLEMENT', 'NODE15_P0_CITY', 'NODE15_P0_SETTLEMENT', 'NODE15_P1_CITY', 'NODE15_P1_SETTLEMENT', 'NODE15_P2_CITY', 'NODE15_P2_SETTLEMENT', 'NODE15_P3_CITY', 'NODE15_P3_SETTLEMENT', 'NODE16_P0_CITY', 'NODE16_P0_SETTLEMENT', 'NODE16_P1_CITY', 'NODE16_P1_SETTLEMENT', 'NODE16_P2_CITY', 'NODE16_P2_SETTLEMENT', 'NODE16_P3_CITY', 'NODE16_P3_SETTLEMENT', 'NODE17_P0_CITY', 'NODE17_P0_SETTLEMENT', 'NODE17_P1_CITY', 'NODE17_P1_SETTLEMENT', 'NODE17_P2_CITY', 'NODE17_P2_SETTLEMENT', 'NODE17_P3_CITY', 'NODE17_P3_SETTLEMENT', 'NODE18_P0_CITY', 'NODE18_P0_SETTLEMENT', 'NODE18_P1_CITY', 'NODE18_P1_SETTLEMENT', 'NODE18_P2_CITY', 'NODE18_P2_SETTLEMENT', 'NODE18_P3_CITY', 'NODE18_P3_SETTLEMENT', 'NODE19_P0_CITY', 'NODE19_P0_SETTLEMENT', 'NODE19_P1_CITY', 'NODE19_P1_SETTLEMENT', 'NODE19_P2_CITY', 'NODE19_P2_SETTLEMENT', 'NODE19_P3_CITY', 'NODE19_P3_SETTLEMENT', 'NODE1_P0_CITY', 'NODE1_P0_SETTLEMENT', 'NODE1_P1_CITY', 'NODE1_P1_SETTLEMENT', 'NODE1_P2_CITY', 'NODE1_P2_SETTLEMENT', 'NODE1_P3_CITY', 'NODE1_P3_SETTLEMENT', 'NODE20_P0_CITY', 'NODE20_P0_SETTLEMENT', 'NODE20_P1_CITY', 'NODE20_P1_SETTLEMENT', 'NODE20_P2_CITY', 'NODE20_P2_SETTLEMENT', 'NODE20_P3_CITY', 'NODE20_P3_SETTLEMENT', 'NODE21_P0_CITY', 'NODE21_P0_SETTLEMENT', 'NODE21_P1_CITY', 'NODE21_P1_SETTLEMENT', 'NODE21_P2_CITY', 'NODE21_P2_SETTLEMENT', 'NODE21_P3_CITY', 'NODE21_P3_SETTLEMENT', 'NODE22_P0_CITY', 'NODE22_P0_SETTLEMENT', 'NODE22_P1_CITY', 'NODE22_P1_SETTLEMENT', 'NODE22_P2_CITY', 'NODE22_P2_SETTLEMENT', 'NODE22_P3_CITY', 'NODE22_P3_SETTLEMENT', 'NODE23_P0_CITY', 'NODE23_P0_SETTLEMENT', 'NODE23_P1_CITY', 'NODE23_P1_SETTLEMENT', 'NODE23_P2_CITY', 'NODE23_P2_SETTLEMENT', 'NODE23_P3_CITY', 'NODE23_P3_SETTLEMENT', 'NODE24_P0_CITY', 'NODE24_P0_SETTLEMENT', 'NODE24_P1_CITY', 'NODE24_P1_SETTLEMENT', 'NODE24_P2_CITY', 'NODE24_P2_SETTLEMENT', 'NODE24_P3_CITY', 'NODE24_P3_SETTLEMENT', 'NODE25_P0_CITY', 'NODE25_P0_SETTLEMENT', 'NODE25_P1_CITY', 'NODE25_P1_SETTLEMENT', 'NODE25_P2_CITY', 'NODE25_P2_SETTLEMENT', 'NODE25_P3_CITY', 'NODE25_P3_SETTLEMENT', 'NODE26_P0_CITY', 'NODE26_P0_SETTLEMENT', 'NODE26_P1_CITY', 'NODE26_P1_SETTLEMENT', 'NODE26_P2_CITY', 'NODE26_P2_SETTLEMENT', 'NODE26_P3_CITY', 'NODE26_P3_SETTLEMENT', 'NODE27_P0_CITY', 'NODE27_P0_SETTLEMENT', 'NODE27_P1_CITY', 'NODE27_P1_SETTLEMENT', 'NODE27_P2_CITY', 'NODE27_P2_SETTLEMENT', 'NODE27_P3_CITY', 'NODE27_P3_SETTLEMENT', 'NODE28_P0_CITY', 'NODE28_P0_SETTLEMENT', 'NODE28_P1_CITY', 'NODE28_P1_SETTLEMENT', 'NODE28_P2_CITY', 'NODE28_P2_SETTLEMENT', 'NODE28_P3_CITY', 'NODE28_P3_SETTLEMENT', 'NODE29_P0_CITY', 'NODE29_P0_SETTLEMENT', 'NODE29_P1_CITY', 'NODE29_P1_SETTLEMENT', 'NODE29_P2_CITY', 'NODE29_P2_SETTLEMENT', 'NODE29_P3_CITY', 'NODE29_P3_SETTLEMENT', 'NODE2_P0_CITY', 'NODE2_P0_SETTLEMENT', 'NODE2_P1_CITY', 'NODE2_P1_SETTLEMENT', 'NODE2_P2_CITY', 'NODE2_P2_SETTLEMENT', 'NODE2_P3_CITY', 'NODE2_P3_SETTLEMENT', 'NODE30_P0_CITY', 'NODE30_P0_SETTLEMENT', 'NODE30_P1_CITY', 'NODE30_P1_SETTLEMENT', 'NODE30_P2_CITY', 'NODE30_P2_SETTLEMENT', 'NODE30_P3_CITY', 'NODE30_P3_SETTLEMENT', 'NODE31_P0_CITY', 'NODE31_P0_SETTLEMENT', 'NODE31_P1_CITY', 'NODE31_P1_SETTLEMENT', 'NODE31_P2_CITY', 'NODE31_P2_SETTLEMENT', 'NODE31_P3_CITY', 'NODE31_P3_SETTLEMENT', 'NODE32_P0_CITY', 'NODE32_P0_SETTLEMENT', 'NODE32_P1_CITY', 'NODE32_P1_SETTLEMENT', 'NODE32_P2_CITY', 'NODE32_P2_SETTLEMENT', 'NODE32_P3_CITY', 'NODE32_P3_SETTLEMENT', 'NODE33_P0_CITY', 'NODE33_P0_SETTLEMENT', 'NODE33_P1_CITY', 'NODE33_P1_SETTLEMENT', 'NODE33_P2_CITY', 'NODE33_P2_SETTLEMENT', 'NODE33_P3_CITY', 'NODE33_P3_SETTLEMENT', 'NODE34_P0_CITY', 'NODE34_P0_SETTLEMENT', 'NODE34_P1_CITY', 'NODE34_P1_SETTLEMENT', 'NODE34_P2_CITY', 'NODE34_P2_SETTLEMENT', 'NODE34_P3_CITY', 'NODE34_P3_SETTLEMENT', 'NODE35_P0_CITY', 'NODE35_P0_SETTLEMENT', 'NODE35_P1_CITY', 'NODE35_P1_SETTLEMENT', 'NODE35_P2_CITY', 'NODE35_P2_SETTLEMENT', 'NODE35_P3_CITY', 'NODE35_P3_SETTLEMENT', 'NODE36_P0_CITY', 'NODE36_P0_SETTLEMENT', 'NODE36_P1_CITY', 'NODE36_P1_SETTLEMENT', 'NODE36_P2_CITY', 'NODE36_P2_SETTLEMENT', 'NODE36_P3_CITY', 'NODE36_P3_SETTLEMENT', 'NODE37_P0_CITY', 'NODE37_P0_SETTLEMENT', 'NODE37_P1_CITY', 'NODE37_P1_SETTLEMENT', 'NODE37_P2_CITY', 'NODE37_P2_SETTLEMENT', 'NODE37_P3_CITY', 'NODE37_P3_SETTLEMENT', 'NODE38_P0_CITY', 'NODE38_P0_SETTLEMENT', 'NODE38_P1_CITY', 'NODE38_P1_SETTLEMENT', 'NODE38_P2_CITY', 'NODE38_P2_SETTLEMENT', 'NODE38_P3_CITY', 'NODE38_P3_SETTLEMENT', 'NODE39_P0_CITY', 'NODE39_P0_SETTLEMENT', 'NODE39_P1_CITY', 'NODE39_P1_SETTLEMENT', 'NODE39_P2_CITY', 'NODE39_P2_SETTLEMENT', 'NODE39_P3_CITY', 'NODE39_P3_SETTLEMENT', 'NODE3_P0_CITY', 'NODE3_P0_SETTLEMENT', 'NODE3_P1_CITY', 'NODE3_P1_SETTLEMENT', 'NODE3_P2_CITY', 'NODE3_P2_SETTLEMENT', 'NODE3_P3_CITY', 'NODE3_P3_SETTLEMENT', 'NODE40_P0_CITY', 'NODE40_P0_SETTLEMENT', 'NODE40_P1_CITY', 'NODE40_P1_SETTLEMENT', 'NODE40_P2_CITY', 'NODE40_P2_SETTLEMENT', 'NODE40_P3_CITY', 'NODE40_P3_SETTLEMENT', 'NODE41_P0_CITY', 'NODE41_P0_SETTLEMENT', 'NODE41_P1_CITY', 'NODE41_P1_SETTLEMENT', 'NODE41_P2_CITY', 'NODE41_P2_SETTLEMENT', 'NODE41_P3_CITY', 'NODE41_P3_SETTLEMENT', 'NODE42_P0_CITY', 'NODE42_P0_SETTLEMENT', 'NODE42_P1_CITY', 'NODE42_P1_SETTLEMENT', 'NODE42_P2_CITY', 'NODE42_P2_SETTLEMENT', 'NODE42_P3_CITY', 'NODE42_P3_SETTLEMENT', 'NODE43_P0_CITY', 'NODE43_P0_SETTLEMENT', 'NODE43_P1_CITY', 'NODE43_P1_SETTLEMENT', 'NODE43_P2_CITY', 'NODE43_P2_SETTLEMENT', 'NODE43_P3_CITY', 'NODE43_P3_SETTLEMENT', 'NODE44_P0_CITY', 'NODE44_P0_SETTLEMENT', 'NODE44_P1_CITY', 'NODE44_P1_SETTLEMENT', 'NODE44_P2_CITY', 'NODE44_P2_SETTLEMENT', 'NODE44_P3_CITY', 'NODE44_P3_SETTLEMENT', 'NODE45_P0_CITY', 'NODE45_P0_SETTLEMENT', 'NODE45_P1_CITY', 'NODE45_P1_SETTLEMENT', 'NODE45_P2_CITY', 'NODE45_P2_SETTLEMENT', 'NODE45_P3_CITY', 'NODE45_P3_SETTLEMENT', 'NODE46_P0_CITY', 'NODE46_P0_SETTLEMENT', 'NODE46_P1_CITY', 'NODE46_P1_SETTLEMENT', 'NODE46_P2_CITY', 'NODE46_P2_SETTLEMENT', 'NODE46_P3_CITY', 'NODE46_P3_SETTLEMENT', 'NODE47_P0_CITY', 'NODE47_P0_SETTLEMENT', 'NODE47_P1_CITY', 'NODE47_P1_SETTLEMENT', 'NODE47_P2_CITY', 'NODE47_P2_SETTLEMENT', 'NODE47_P3_CITY', 'NODE47_P3_SETTLEMENT', 'NODE48_P0_CITY', 'NODE48_P0_SETTLEMENT', 'NODE48_P1_CITY', 'NODE48_P1_SETTLEMENT', 'NODE48_P2_CITY', 'NODE48_P2_SETTLEMENT', 'NODE48_P3_CITY', 'NODE48_P3_SETTLEMENT', 'NODE49_P0_CITY', 'NODE49_P0_SETTLEMENT', 'NODE49_P1_CITY', 'NODE49_P1_SETTLEMENT', 'NODE49_P2_CITY', 'NODE49_P2_SETTLEMENT', 'NODE49_P3_CITY', 'NODE49_P3_SETTLEMENT', 'NODE4_P0_CITY', 'NODE4_P0_SETTLEMENT', 'NODE4_P1_CITY', 'NODE4_P1_SETTLEMENT', 'NODE4_P2_CITY', 'NODE4_P2_SETTLEMENT', 'NODE4_P3_CITY', 'NODE4_P3_SETTLEMENT', 'NODE50_P0_CITY', 'NODE50_P0_SETTLEMENT', 'NODE50_P1_CITY', 'NODE50_P1_SETTLEMENT', 'NODE50_P2_CITY', 'NODE50_P2_SETTLEMENT', 'NODE50_P3_CITY', 'NODE50_P3_SETTLEMENT', 'NODE51_P0_CITY', 'NODE51_P0_SETTLEMENT', 'NODE51_P1_CITY', 'NODE51_P1_SETTLEMENT', 'NODE51_P2_CITY', 'NODE51_P2_SETTLEMENT', 'NODE51_P3_CITY', 'NODE51_P3_SETTLEMENT', 'NODE52_P0_CITY', 'NODE52_P0_SETTLEMENT', 'NODE52_P1_CITY', 'NODE52_P1_SETTLEMENT', 'NODE52_P2_CITY', 'NODE52_P2_SETTLEMENT', 'NODE52_P3_CITY', 'NODE52_P3_SETTLEMENT', 'NODE53_P0_CITY', 'NODE53_P0_SETTLEMENT', 'NODE53_P1_CITY', 'NODE53_P1_SETTLEMENT', 'NODE53_P2_CITY', 'NODE53_P2_SETTLEMENT', 'NODE53_P3_CITY', 'NODE53_P3_SETTLEMENT', 'NODE5_P0_CITY', 'NODE5_P0_SETTLEMENT', 'NODE5_P1_CITY', 'NODE5_P1_SETTLEMENT', 'NODE5_P2_CITY', 'NODE5_P2_SETTLEMENT', 'NODE5_P3_CITY', 'NODE5_P3_SETTLEMENT', 'NODE6_P0_CITY', 'NODE6_P0_SETTLEMENT', 'NODE6_P1_CITY', 'NODE6_P1_SETTLEMENT', 'NODE6_P2_CITY', 'NODE6_P2_SETTLEMENT', 'NODE6_P3_CITY', 'NODE6_P3_SETTLEMENT', 'NODE7_P0_CITY', 'NODE7_P0_SETTLEMENT', 'NODE7_P1_CITY', 'NODE7_P1_SETTLEMENT', 'NODE7_P2_CITY', 'NODE7_P2_SETTLEMENT', 'NODE7_P3_CITY', 'NODE7_P3_SETTLEMENT', 'NODE8_P0_CITY', 'NODE8_P0_SETTLEMENT', 'NODE8_P1_CITY', 'NODE8_P1_SETTLEMENT', 'NODE8_P2_CITY', 'NODE8_P2_SETTLEMENT', 'NODE8_P3_CITY', 'NODE8_P3_SETTLEMENT', 'NODE9_P0_CITY', 'NODE9_P0_SETTLEMENT', 'NODE9_P1_CITY', 'NODE9_P1_SETTLEMENT', 'NODE9_P2_CITY', 'NODE9_P2_SETTLEMENT', 'NODE9_P3_CITY', 'NODE9_P3_SETTLEMENT', 'P0_ACTUAL_VPS', 'P0_BRICK_IN_HAND', 'P0_CITIES_LEFT', 'P0_HAS_ARMY', 'P0_HAS_PLAYED_DEVELOPMENT_CARD_IN_TURN', 'P0_HAS_ROAD', 'P0_HAS_ROLLED', 'P0_KNIGHT_IN_HAND', 'P0_KNIGHT_PLAYED', 'P0_LONGEST_ROAD_LENGTH', 'P0_MONOPOLY_IN_HAND', 'P0_MONOPOLY_PLAYED', 'P0_NUM_DEVS_IN_HAND', 'P0_NUM_RESOURCES_IN_HAND', 'P0_ORE_IN_HAND', 'P0_PUBLIC_VPS', 'P0_ROADS_LEFT', 'P0_ROAD_BUILDING_IN_HAND', 'P0_ROAD_BUILDING_PLAYED', 'P0_SETTLEMENTS_LEFT', 'P0_SHEEP_IN_HAND', 'P0_VICTORY_POINT_IN_HAND', 'P0_WHEAT_IN_HAND', 'P0_WOOD_IN_HAND', 'P0_YEAR_OF_PLENTY_IN_HAND', 'P0_YEAR_OF_PLENTY_PLAYED', 'P1_CITIES_LEFT', 'P1_HAS_ARMY', 'P1_HAS_ROAD', 'P1_HAS_ROLLED', 'P1_KNIGHT_PLAYED', 'P1_LONGEST_ROAD_LENGTH', 'P1_MONOPOLY_PLAYED', 'P1_NUM_DEVS_IN_HAND', 'P1_NUM_RESOURCES_IN_HAND', 'P1_PUBLIC_VPS', 'P1_ROADS_LEFT', 'P1_ROAD_BUILDING_PLAYED', 'P1_SETTLEMENTS_LEFT', 'P1_YEAR_OF_PLENTY_PLAYED', 'P2_CITIES_LEFT', 'P2_HAS_ARMY', 'P2_HAS_ROAD', 'P2_HAS_ROLLED', 'P2_KNIGHT_PLAYED', 'P2_LONGEST_ROAD_LENGTH', 'P2_MONOPOLY_PLAYED', 'P2_NUM_DEVS_IN_HAND', 'P2_NUM_RESOURCES_IN_HAND', 'P2_PUBLIC_VPS', 'P2_ROADS_LEFT', 'P2_ROAD_BUILDING_PLAYED', 'P2_SETTLEMENTS_LEFT', 'P2_YEAR_OF_PLENTY_PLAYED', 'P3_CITIES_LEFT', 'P3_HAS_ARMY', 'P3_HAS_ROAD', 'P3_HAS_ROLLED', 'P3_KNIGHT_PLAYED', 'P3_LONGEST_ROAD_LENGTH', 'P3_MONOPOLY_PLAYED', 'P3_NUM_DEVS_IN_HAND', 'P3_NUM_RESOURCES_IN_HAND', 'P3_PUBLIC_VPS', 'P3_ROADS_LEFT', 'P3_ROAD_BUILDING_PLAYED', 'P3_SETTLEMENTS_LEFT', 'P3_YEAR_OF_PLENTY_PLAYED', 'PORT0_IS_BRICK', 'PORT0_IS_ORE', 'PORT0_IS_SHEEP', 'PORT0_IS_THREE_TO_ONE', 'PORT0_IS_WHEAT', 'PORT0_IS_WOOD', 'PORT1_IS_BRICK', 'PORT1_IS_ORE', 'PORT1_IS_SHEEP', 'PORT1_IS_THREE_TO_ONE', 'PORT1_IS_WHEAT', 'PORT1_IS_WOOD', 'PORT2_IS_BRICK', 'PORT2_IS_ORE', 'PORT2_IS_SHEEP', 'PORT2_IS_THREE_TO_ONE', 'PORT2_IS_WHEAT', 'PORT2_IS_WOOD', 'PORT3_IS_BRICK', 'PORT3_IS_ORE', 'PORT3_IS_SHEEP', 'PORT3_IS_THREE_TO_ONE', 'PORT3_IS_WHEAT', 'PORT3_IS_WOOD', 'PORT4_IS_BRICK', 'PORT4_IS_ORE', 'PORT4_IS_SHEEP', 'PORT4_IS_THREE_TO_ONE', 'PORT4_IS_WHEAT', 'PORT4_IS_WOOD', 'PORT5_IS_BRICK', 'PORT5_IS_ORE', 'PORT5_IS_SHEEP', 'PORT5_IS_THREE_TO_ONE', 'PORT5_IS_WHEAT', 'PORT5_IS_WOOD', 'PORT6_IS_BRICK', 'PORT6_IS_ORE', 'PORT6_IS_SHEEP', 'PORT6_IS_THREE_TO_ONE', 'PORT6_IS_WHEAT', 'PORT6_IS_WOOD', 'PORT7_IS_BRICK', 'PORT7_IS_ORE', 'PORT7_IS_SHEEP', 'PORT7_IS_THREE_TO_ONE', 'PORT7_IS_WHEAT', 'PORT7_IS_WOOD', 'PORT8_IS_BRICK', 'PORT8_IS_ORE', 'PORT8_IS_SHEEP', 'PORT8_IS_THREE_TO_ONE', 'PORT8_IS_WHEAT', 'PORT8_IS_WOOD', 'TILE0_HAS_ROBBER', 'TILE0_IS_BRICK', 'TILE0_IS_DESERT', 'TILE0_IS_ORE', 'TILE0_IS_SHEEP', 'TILE0_IS_WHEAT', 'TILE0_IS_WOOD', 'TILE0_PROBA', 'TILE10_HAS_ROBBER', 'TILE10_IS_BRICK', 'TILE10_IS_DESERT', 'TILE10_IS_ORE', 'TILE10_IS_SHEEP', 'TILE10_IS_WHEAT', 'TILE10_IS_WOOD', 'TILE10_PROBA', 'TILE11_HAS_ROBBER', 'TILE11_IS_BRICK', 'TILE11_IS_DESERT', 'TILE11_IS_ORE', 'TILE11_IS_SHEEP', 'TILE11_IS_WHEAT', 'TILE11_IS_WOOD', 'TILE11_PROBA', 'TILE12_HAS_ROBBER', 'TILE12_IS_BRICK', 'TILE12_IS_DESERT', 'TILE12_IS_ORE', 'TILE12_IS_SHEEP', 'TILE12_IS_WHEAT', 'TILE12_IS_WOOD', 'TILE12_PROBA', 'TILE13_HAS_ROBBER', 'TILE13_IS_BRICK', 'TILE13_IS_DESERT', 'TILE13_IS_ORE', 'TILE13_IS_SHEEP', 'TILE13_IS_WHEAT', 'TILE13_IS_WOOD', 'TILE13_PROBA', 'TILE14_HAS_ROBBER', 'TILE14_IS_BRICK', 'TILE14_IS_DESERT', 'TILE14_IS_ORE', 'TILE14_IS_SHEEP', 'TILE14_IS_WHEAT', 'TILE14_IS_WOOD', 'TILE14_PROBA', 'TILE15_HAS_ROBBER', 'TILE15_IS_BRICK', 'TILE15_IS_DESERT', 'TILE15_IS_ORE', 'TILE15_IS_SHEEP', 'TILE15_IS_WHEAT', 'TILE15_IS_WOOD', 'TILE15_PROBA', 'TILE16_HAS_ROBBER', 'TILE16_IS_BRICK', 'TILE16_IS_DESERT', 'TILE16_IS_ORE', 'TILE16_IS_SHEEP', 'TILE16_IS_WHEAT', 'TILE16_IS_WOOD', 'TILE16_PROBA', 'TILE17_HAS_ROBBER', 'TILE17_IS_BRICK', 'TILE17_IS_DESERT', 'TILE17_IS_ORE', 'TILE17_IS_SHEEP', 'TILE17_IS_WHEAT', 'TILE17_IS_WOOD', 'TILE17_PROBA', 'TILE18_HAS_ROBBER', 'TILE18_IS_BRICK', 'TILE18_IS_DESERT', 'TILE18_IS_ORE', 'TILE18_IS_SHEEP', 'TILE18_IS_WHEAT', 'TILE18_IS_WOOD', 'TILE18_PROBA', 'TILE1_HAS_ROBBER', 'TILE1_IS_BRICK', 'TILE1_IS_DESERT', 'TILE1_IS_ORE', 'TILE1_IS_SHEEP', 'TILE1_IS_WHEAT', 'TILE1_IS_WOOD', 'TILE1_PROBA', 'TILE2_HAS_ROBBER', 'TILE2_IS_BRICK', 'TILE2_IS_DESERT', 'TILE2_IS_ORE', 'TILE2_IS_SHEEP', 'TILE2_IS_WHEAT', 'TILE2_IS_WOOD', 'TILE2_PROBA', 'TILE3_HAS_ROBBER', 'TILE3_IS_BRICK', 'TILE3_IS_DESERT', 'TILE3_IS_ORE', 'TILE3_IS_SHEEP', 'TILE3_IS_WHEAT', 'TILE3_IS_WOOD', 'TILE3_PROBA', 'TILE4_HAS_ROBBER', 'TILE4_IS_BRICK', 'TILE4_IS_DESERT', 'TILE4_IS_ORE', 'TILE4_IS_SHEEP', 'TILE4_IS_WHEAT', 'TILE4_IS_WOOD', 'TILE4_PROBA', 'TILE5_HAS_ROBBER', 'TILE5_IS_BRICK', 'TILE5_IS_DESERT', 'TILE5_IS_ORE', 'TILE5_IS_SHEEP', 'TILE5_IS_WHEAT', 'TILE5_IS_WOOD', 'TILE5_PROBA', 'TILE6_HAS_ROBBER', 'TILE6_IS_BRICK', 'TILE6_IS_DESERT', 'TILE6_IS_ORE', 'TILE6_IS_SHEEP', 'TILE6_IS_WHEAT', 'TILE6_IS_WOOD', 'TILE6_PROBA', 'TILE7_HAS_ROBBER', 'TILE7_IS_BRICK', 'TILE7_IS_DESERT', 'TILE7_IS_ORE', 'TILE7_IS_SHEEP', 'TILE7_IS_WHEAT', 'TILE7_IS_WOOD', 'TILE7_PROBA', 'TILE8_HAS_ROBBER', 'TILE8_IS_BRICK', 'TILE8_IS_DESERT', 'TILE8_IS_ORE', 'TILE8_IS_SHEEP', 'TILE8_IS_WHEAT', 'TILE8_IS_WOOD', 'TILE8_PROBA', 'TILE9_HAS_ROBBER', 'TILE9_IS_BRICK', 'TILE9_IS_DESERT', 'TILE9_IS_ORE', 'TILE9_IS_SHEEP', 'TILE9_IS_WHEAT', 'TILE9_IS_WOOD', 'TILE9_PROBA']\n"
     ]
    }
   ],
   "source": [
    "from catanatron_gym.features import (\n",
    "    create_sample_vector,\n",
    "    get_feature_ordering,\n",
    ")\n",
    "print(get_feature_ordering())"
   ]
  },
  {
   "cell_type": "code",
   "execution_count": 4,
   "id": "3d2b9474",
   "metadata": {},
   "outputs": [
    {
     "name": "stdout",
     "output_type": "stream",
     "text": [
      "No saved model found. Starting fresh.\n"
     ]
    }
   ],
   "source": [
    "\n",
    "\n",
    "# Play a simple 4v4 game. Edit MyPlayer with your logic!\n",
    "players = [\n",
    "    #OnlineMCTSDQNPlayer_1(Color.RED),\n",
    "    RandomPlayer(Color.WHITE), #RandomPlayer\n",
    "    RandomPlayer(Color.ORANGE),\n",
    "    AB_DQNPlayer_1(Color.RED),\n",
    "    RandomPlayer(Color.BLUE),\n",
    "]\n"
   ]
  },
  {
   "cell_type": "code",
   "execution_count": 5,
   "id": "7abd61fb",
   "metadata": {},
   "outputs": [
    {
     "name": "stderr",
     "output_type": "stream",
     "text": [
      "c:\\Users\\SAM\\anaconda3\\envs\\catan311\\Lib\\site-packages\\torch\\optim\\lr_scheduler.py:224: UserWarning: Detected call of `lr_scheduler.step()` before `optimizer.step()`. In PyTorch 1.1.0 and later, you should call them in the opposite order: `optimizer.step()` before `lr_scheduler.step()`.  Failure to do this will result in PyTorch skipping the first value of the learning rate schedule. See more details at https://pytorch.org/docs/stable/optim.html#how-to-adjust-learning-rate\n",
      "  warnings.warn(\n"
     ]
    },
    {
     "name": "stdout",
     "output_type": "stream",
     "text": [
      "Color.ORANGE\n"
     ]
    }
   ],
   "source": [
    "game = Game(players)\n",
    "print(game.play())  # returns winning color"
   ]
  },
  {
   "cell_type": "code",
   "execution_count": null,
   "id": "42a3a90f",
   "metadata": {},
   "outputs": [],
   "source": [
    "# def random_non_dqn_player(color, ab_used):\n",
    "#     # Only allow AlphaBetaPlayer if not already used\n",
    "#     if ab_used:\n",
    "#         choices = [RandomPlayer, WeightedRandomPlayer]\n",
    "#     else:\n",
    "#         choices = [RandomPlayer, WeightedRandomPlayer, AlphaBetaPlayer]\n",
    "#     cls = random.choice(choices)\n",
    "#     return cls(color), isinstance(cls, AlphaBetaPlayer)\n",
    "\n",
    "# all_wins = []\n",
    "# for _ in range(10):  # 10 batches\n",
    "#     players = []\n",
    "#     ab_used = False\n",
    "\n",
    "#     for color in [Color.WHITE, Color.ORANGE, Color.BLUE]:\n",
    "#         player, is_ab = random_non_dqn_player(color, ab_used)\n",
    "#         players.append(player)\n",
    "#         ab_used = ab_used or is_ab\n",
    "\n",
    "#     players.append(AB_DQNPlayer_1(Color.RED))  # always include DQN\n",
    "\n",
    "#     random.shuffle(players)\n",
    "#     wins, _, _ = play_batch(10, players)\n",
    "#     all_wins.append(wins)"
   ]
  },
  {
   "cell_type": "markdown",
   "id": "cd529f61-6de7-4de1-8e0c-273db6a2de9f",
   "metadata": {},
   "source": [
    "You can also simulate thousands of games to get more statistically significant results:"
   ]
  },
  {
   "cell_type": "code",
   "execution_count": null,
   "id": "e06b3b9c-aa9c-4ec3-9b05-74c5d389d766",
   "metadata": {},
   "outputs": [
    {
     "data": {
      "text/html": [
       "<pre style=\"white-space:pre;overflow-x:auto;line-height:normal;font-family:Menlo,'DejaVu Sans Mono',consolas,'Courier New',monospace\">c:\\Users\\SAM\\anaconda3\\envs\\catan311\\Lib\\site-packages\\rich\\live.py:231: UserWarning: install \"ipywidgets\" for \n",
       "Jupyter support\n",
       "  warnings.warn('install \"ipywidgets\" for Jupyter support')\n",
       "</pre>\n"
      ],
      "text/plain": [
       "c:\\Users\\SAM\\anaconda3\\envs\\catan311\\Lib\\site-packages\\rich\\live.py:231: UserWarning: install \"ipywidgets\" for \n",
       "Jupyter support\n",
       "  warnings.warn('install \"ipywidgets\" for Jupyter support')\n"
      ]
     },
     "metadata": {},
     "output_type": "display_data"
    },
    {
     "name": "stdout",
     "output_type": "stream",
     "text": [
      "Loaded replay buffer with 674 transitions\n",
      "Batch 1/50: Playing 10 games\n"
     ]
    },
    {
     "data": {
      "text/html": [
       "<pre style=\"white-space:pre;overflow-x:auto;line-height:normal;font-family:Menlo,'DejaVu Sans Mono',consolas,'Courier New',monospace\"></pre>\n"
      ],
      "text/plain": []
     },
     "metadata": {},
     "output_type": "display_data"
    },
    {
     "data": {
      "text/html": [
       "<pre style=\"white-space:pre;overflow-x:auto;line-height:normal;font-family:Menlo,'DejaVu Sans Mono',consolas,'Courier New',monospace\">\n",
       "</pre>\n"
      ],
      "text/plain": [
       "\n"
      ]
     },
     "metadata": {},
     "output_type": "display_data"
    },
    {
     "data": {
      "text/html": [
       "<pre style=\"white-space:pre;overflow-x:auto;line-height:normal;font-family:Menlo,'DejaVu Sans Mono',consolas,'Courier New',monospace\"><span style=\"font-style: italic\">                                      Last 10 Games                                      </span>\n",
       "     ╷                       ╷       ╷           ╷        ╷          ╷         ╷         \n",
       " <span style=\"font-weight: bold\">  # </span>│<span style=\"font-weight: bold\"> SEATING               </span>│<span style=\"font-weight: bold\"> TURNS </span>│<span style=\"font-weight: bold\"> ORANGE VP </span>│<span style=\"font-weight: bold\"> RED VP </span>│<span style=\"font-weight: bold\"> WHITE VP </span>│<span style=\"font-weight: bold\"> BLUE VP </span>│<span style=\"font-weight: bold\"> WINNER </span> \n",
       "╶────┼───────────────────────┼───────┼───────────┼────────┼──────────┼─────────┼────────╴\n",
       "   1 │ <span style=\"color: #c0c0c0; text-decoration-color: #c0c0c0\">WHITE</span>,<span style=\"color: #808000; text-decoration-color: #808000\">ORANGE</span>,<span style=\"color: #000080; text-decoration-color: #000080\">BLUE</span>,<span style=\"color: #800000; text-decoration-color: #800000\">RED</span> │   290 │         2 │      7 │       10 │       4 │ <span style=\"color: #c0c0c0; text-decoration-color: #c0c0c0\">WHITE</span>   \n",
       "   2 │ <span style=\"color: #800000; text-decoration-color: #800000\">RED</span>,<span style=\"color: #000080; text-decoration-color: #000080\">BLUE</span>,<span style=\"color: #c0c0c0; text-decoration-color: #c0c0c0\">WHITE</span>,<span style=\"color: #808000; text-decoration-color: #808000\">ORANGE</span> │   226 │         3 │     10 │        5 │       3 │ <span style=\"color: #800000; text-decoration-color: #800000\">RED</span>     \n",
       "   3 │ <span style=\"color: #808000; text-decoration-color: #808000\">ORANGE</span>,<span style=\"color: #c0c0c0; text-decoration-color: #c0c0c0\">WHITE</span>,<span style=\"color: #800000; text-decoration-color: #800000\">RED</span>,<span style=\"color: #000080; text-decoration-color: #000080\">BLUE</span> │   213 │         2 │      4 │        2 │      10 │ <span style=\"color: #000080; text-decoration-color: #000080\">BLUE</span>    \n",
       "   4 │ <span style=\"color: #c0c0c0; text-decoration-color: #c0c0c0\">WHITE</span>,<span style=\"color: #800000; text-decoration-color: #800000\">RED</span>,<span style=\"color: #808000; text-decoration-color: #808000\">ORANGE</span>,<span style=\"color: #000080; text-decoration-color: #000080\">BLUE</span> │   433 │         7 │      4 │        4 │      10 │ <span style=\"color: #000080; text-decoration-color: #000080\">BLUE</span>    \n",
       "   5 │ <span style=\"color: #808000; text-decoration-color: #808000\">ORANGE</span>,<span style=\"color: #800000; text-decoration-color: #800000\">RED</span>,<span style=\"color: #c0c0c0; text-decoration-color: #c0c0c0\">WHITE</span>,<span style=\"color: #000080; text-decoration-color: #000080\">BLUE</span> │   322 │        10 │      4 │        4 │       2 │ <span style=\"color: #808000; text-decoration-color: #808000\">ORANGE</span>  \n",
       "   6 │ <span style=\"color: #808000; text-decoration-color: #808000\">ORANGE</span>,<span style=\"color: #c0c0c0; text-decoration-color: #c0c0c0\">WHITE</span>,<span style=\"color: #800000; text-decoration-color: #800000\">RED</span>,<span style=\"color: #000080; text-decoration-color: #000080\">BLUE</span> │   645 │         2 │      5 │        9 │      10 │ <span style=\"color: #000080; text-decoration-color: #000080\">BLUE</span>    \n",
       "   7 │ <span style=\"color: #000080; text-decoration-color: #000080\">BLUE</span>,<span style=\"color: #c0c0c0; text-decoration-color: #c0c0c0\">WHITE</span>,<span style=\"color: #808000; text-decoration-color: #808000\">ORANGE</span>,<span style=\"color: #800000; text-decoration-color: #800000\">RED</span> │   486 │         9 │      5 │        8 │      10 │ <span style=\"color: #000080; text-decoration-color: #000080\">BLUE</span>    \n",
       "   8 │ <span style=\"color: #000080; text-decoration-color: #000080\">BLUE</span>,<span style=\"color: #800000; text-decoration-color: #800000\">RED</span>,<span style=\"color: #808000; text-decoration-color: #808000\">ORANGE</span>,<span style=\"color: #c0c0c0; text-decoration-color: #c0c0c0\">WHITE</span> │   300 │        10 │      2 │        3 │       2 │ <span style=\"color: #808000; text-decoration-color: #808000\">ORANGE</span>  \n",
       "   9 │ <span style=\"color: #000080; text-decoration-color: #000080\">BLUE</span>,<span style=\"color: #800000; text-decoration-color: #800000\">RED</span>,<span style=\"color: #c0c0c0; text-decoration-color: #c0c0c0\">WHITE</span>,<span style=\"color: #808000; text-decoration-color: #808000\">ORANGE</span> │   541 │        10 │      3 │        6 │       7 │ <span style=\"color: #808000; text-decoration-color: #808000\">ORANGE</span>  \n",
       "  10 │ <span style=\"color: #c0c0c0; text-decoration-color: #c0c0c0\">WHITE</span>,<span style=\"color: #000080; text-decoration-color: #000080\">BLUE</span>,<span style=\"color: #808000; text-decoration-color: #808000\">ORANGE</span>,<span style=\"color: #800000; text-decoration-color: #800000\">RED</span> │   579 │         7 │      3 │        6 │      10 │ <span style=\"color: #000080; text-decoration-color: #000080\">BLUE</span>    \n",
       "     ╵                       ╵       ╵           ╵        ╵          ╵         ╵         \n",
       "</pre>\n"
      ],
      "text/plain": [
       "\u001b[3m                                      Last 10 Games                                      \u001b[0m\n",
       "     ╷                       ╷       ╷           ╷        ╷          ╷         ╷         \n",
       " \u001b[1m \u001b[0m\u001b[1m #\u001b[0m\u001b[1m \u001b[0m│\u001b[1m \u001b[0m\u001b[1mSEATING              \u001b[0m\u001b[1m \u001b[0m│\u001b[1m \u001b[0m\u001b[1mTURNS\u001b[0m\u001b[1m \u001b[0m│\u001b[1m \u001b[0m\u001b[1mORANGE VP\u001b[0m\u001b[1m \u001b[0m│\u001b[1m \u001b[0m\u001b[1mRED VP\u001b[0m\u001b[1m \u001b[0m│\u001b[1m \u001b[0m\u001b[1mWHITE VP\u001b[0m\u001b[1m \u001b[0m│\u001b[1m \u001b[0m\u001b[1mBLUE VP\u001b[0m\u001b[1m \u001b[0m│\u001b[1m \u001b[0m\u001b[1mWINNER\u001b[0m\u001b[1m \u001b[0m \n",
       "╶────┼───────────────────────┼───────┼───────────┼────────┼──────────┼─────────┼────────╴\n",
       "   1 │ \u001b[37mWHITE\u001b[0m,\u001b[33mORANGE\u001b[0m,\u001b[34mBLUE\u001b[0m,\u001b[31mRED\u001b[0m │   290 │         2 │      7 │       10 │       4 │ \u001b[37mWHITE\u001b[0m   \n",
       "   2 │ \u001b[31mRED\u001b[0m,\u001b[34mBLUE\u001b[0m,\u001b[37mWHITE\u001b[0m,\u001b[33mORANGE\u001b[0m │   226 │         3 │     10 │        5 │       3 │ \u001b[31mRED\u001b[0m     \n",
       "   3 │ \u001b[33mORANGE\u001b[0m,\u001b[37mWHITE\u001b[0m,\u001b[31mRED\u001b[0m,\u001b[34mBLUE\u001b[0m │   213 │         2 │      4 │        2 │      10 │ \u001b[34mBLUE\u001b[0m    \n",
       "   4 │ \u001b[37mWHITE\u001b[0m,\u001b[31mRED\u001b[0m,\u001b[33mORANGE\u001b[0m,\u001b[34mBLUE\u001b[0m │   433 │         7 │      4 │        4 │      10 │ \u001b[34mBLUE\u001b[0m    \n",
       "   5 │ \u001b[33mORANGE\u001b[0m,\u001b[31mRED\u001b[0m,\u001b[37mWHITE\u001b[0m,\u001b[34mBLUE\u001b[0m │   322 │        10 │      4 │        4 │       2 │ \u001b[33mORANGE\u001b[0m  \n",
       "   6 │ \u001b[33mORANGE\u001b[0m,\u001b[37mWHITE\u001b[0m,\u001b[31mRED\u001b[0m,\u001b[34mBLUE\u001b[0m │   645 │         2 │      5 │        9 │      10 │ \u001b[34mBLUE\u001b[0m    \n",
       "   7 │ \u001b[34mBLUE\u001b[0m,\u001b[37mWHITE\u001b[0m,\u001b[33mORANGE\u001b[0m,\u001b[31mRED\u001b[0m │   486 │         9 │      5 │        8 │      10 │ \u001b[34mBLUE\u001b[0m    \n",
       "   8 │ \u001b[34mBLUE\u001b[0m,\u001b[31mRED\u001b[0m,\u001b[33mORANGE\u001b[0m,\u001b[37mWHITE\u001b[0m │   300 │        10 │      2 │        3 │       2 │ \u001b[33mORANGE\u001b[0m  \n",
       "   9 │ \u001b[34mBLUE\u001b[0m,\u001b[31mRED\u001b[0m,\u001b[37mWHITE\u001b[0m,\u001b[33mORANGE\u001b[0m │   541 │        10 │      3 │        6 │       7 │ \u001b[33mORANGE\u001b[0m  \n",
       "  10 │ \u001b[37mWHITE\u001b[0m,\u001b[34mBLUE\u001b[0m,\u001b[33mORANGE\u001b[0m,\u001b[31mRED\u001b[0m │   579 │         7 │      3 │        6 │      10 │ \u001b[34mBLUE\u001b[0m    \n",
       "     ╵                       ╵       ╵           ╵        ╵          ╵         ╵         \n"
      ]
     },
     "metadata": {},
     "output_type": "display_data"
    },
    {
     "data": {
      "text/html": [
       "<pre style=\"white-space:pre;overflow-x:auto;line-height:normal;font-family:Menlo,'DejaVu Sans Mono',consolas,'Courier New',monospace\"><span style=\"font-style: italic\">                                           Player Summary                                            </span>\n",
       "                      ╷      ╷        ╷             ╷            ╷          ╷          ╷             \n",
       " <span style=\"font-weight: bold\">                     </span>│<span style=\"font-weight: bold\"> WINS </span>│<span style=\"font-weight: bold\"> AVG VP </span>│<span style=\"font-weight: bold\"> AVG SETTLES </span>│<span style=\"font-weight: bold\"> AVG CITIES </span>│<span style=\"font-weight: bold\"> AVG ROAD </span>│<span style=\"font-weight: bold\"> AVG ARMY </span>│<span style=\"font-weight: bold\"> AVG DEV VP </span> \n",
       "╶─────────────────────┼──────┼────────┼─────────────┼────────────┼──────────┼──────────┼────────────╴\n",
       "  <span style=\"color: #808000; text-decoration-color: #808000\">RandomPlayer:ORANGE</span> │    3 │   6.20 │        2.60 │       0.60 │     0.30 │     0.40 │       1.00  \n",
       "  <span style=\"color: #800000; text-decoration-color: #800000\">AB_DQNPlayer_1:RED</span>  │    1 │   4.70 │        1.30 │       1.30 │     0.20 │     0.00 │       0.40  \n",
       "  <span style=\"color: #c0c0c0; text-decoration-color: #c0c0c0\">RandomPlayer:WHITE</span>  │    1 │   5.70 │        2.80 │       0.40 │     0.20 │     0.40 │       0.90  \n",
       "  <span style=\"color: #000080; text-decoration-color: #000080\">RandomPlayer:BLUE</span>   │    5 │   6.80 │        2.20 │       1.20 │     0.30 │     0.20 │       1.20  \n",
       "                      ╵      ╵        ╵             ╵            ╵          ╵          ╵             \n",
       "</pre>\n"
      ],
      "text/plain": [
       "\u001b[3m                                           Player Summary                                            \u001b[0m\n",
       "                      ╷      ╷        ╷             ╷            ╷          ╷          ╷             \n",
       " \u001b[1m \u001b[0m\u001b[1m                   \u001b[0m\u001b[1m \u001b[0m│\u001b[1m \u001b[0m\u001b[1mWINS\u001b[0m\u001b[1m \u001b[0m│\u001b[1m \u001b[0m\u001b[1mAVG VP\u001b[0m\u001b[1m \u001b[0m│\u001b[1m \u001b[0m\u001b[1mAVG SETTLES\u001b[0m\u001b[1m \u001b[0m│\u001b[1m \u001b[0m\u001b[1mAVG CITIES\u001b[0m\u001b[1m \u001b[0m│\u001b[1m \u001b[0m\u001b[1mAVG ROAD\u001b[0m\u001b[1m \u001b[0m│\u001b[1m \u001b[0m\u001b[1mAVG ARMY\u001b[0m\u001b[1m \u001b[0m│\u001b[1m \u001b[0m\u001b[1mAVG DEV VP\u001b[0m\u001b[1m \u001b[0m \n",
       "╶─────────────────────┼──────┼────────┼─────────────┼────────────┼──────────┼──────────┼────────────╴\n",
       "  \u001b[33mRandomPlayer:ORANGE\u001b[0m │    3 │   6.20 │        2.60 │       0.60 │     0.30 │     0.40 │       1.00  \n",
       "  \u001b[31mAB_DQNPlayer_1:RED\u001b[0m  │    1 │   4.70 │        1.30 │       1.30 │     0.20 │     0.00 │       0.40  \n",
       "  \u001b[37mRandomPlayer:WHITE\u001b[0m  │    1 │   5.70 │        2.80 │       0.40 │     0.20 │     0.40 │       0.90  \n",
       "  \u001b[34mRandomPlayer:BLUE\u001b[0m   │    5 │   6.80 │        2.20 │       1.20 │     0.30 │     0.20 │       1.20  \n",
       "                      ╵      ╵        ╵             ╵            ╵          ╵          ╵             \n"
      ]
     },
     "metadata": {},
     "output_type": "display_data"
    },
    {
     "data": {
      "text/html": [
       "<pre style=\"white-space:pre;overflow-x:auto;line-height:normal;font-family:Menlo,'DejaVu Sans Mono',consolas,'Courier New',monospace\"><span style=\"font-style: italic\">              Game Summary              </span>\n",
       "            ╷           ╷               \n",
       " <span style=\"font-weight: bold\"> AVG TICKS </span>│<span style=\"font-weight: bold\"> AVG TURNS </span>│<span style=\"font-weight: bold\"> AVG DURATION </span> \n",
       "╶───────────┼───────────┼──────────────╴\n",
       "    1144.20 │    403.50 │  13.334 secs  \n",
       "            ╵           ╵               \n",
       "</pre>\n"
      ],
      "text/plain": [
       "\u001b[3m              Game Summary              \u001b[0m\n",
       "            ╷           ╷               \n",
       " \u001b[1m \u001b[0m\u001b[1mAVG TICKS\u001b[0m\u001b[1m \u001b[0m│\u001b[1m \u001b[0m\u001b[1mAVG TURNS\u001b[0m\u001b[1m \u001b[0m│\u001b[1m \u001b[0m\u001b[1mAVG DURATION\u001b[0m\u001b[1m \u001b[0m \n",
       "╶───────────┼───────────┼──────────────╴\n",
       "    1144.20 │    403.50 │  13.334 secs  \n",
       "            ╵           ╵               \n"
      ]
     },
     "metadata": {},
     "output_type": "display_data"
    },
    {
     "name": "stdout",
     "output_type": "stream",
     "text": [
      "Loaded replay buffer with 5000 transitions\n",
      "Batch 2/50: Playing 10 games\n"
     ]
    },
    {
     "data": {
      "text/html": [
       "<pre style=\"white-space:pre;overflow-x:auto;line-height:normal;font-family:Menlo,'DejaVu Sans Mono',consolas,'Courier New',monospace\"></pre>\n"
      ],
      "text/plain": []
     },
     "metadata": {},
     "output_type": "display_data"
    },
    {
     "data": {
      "text/html": [
       "<pre style=\"white-space:pre;overflow-x:auto;line-height:normal;font-family:Menlo,'DejaVu Sans Mono',consolas,'Courier New',monospace\">\n",
       "</pre>\n"
      ],
      "text/plain": [
       "\n"
      ]
     },
     "metadata": {},
     "output_type": "display_data"
    },
    {
     "data": {
      "text/html": [
       "<pre style=\"white-space:pre;overflow-x:auto;line-height:normal;font-family:Menlo,'DejaVu Sans Mono',consolas,'Courier New',monospace\"><span style=\"font-style: italic\">                                      Last 10 Games                                      </span>\n",
       "     ╷                       ╷       ╷           ╷         ╷          ╷        ╷         \n",
       " <span style=\"font-weight: bold\">  # </span>│<span style=\"font-weight: bold\"> SEATING               </span>│<span style=\"font-weight: bold\"> TURNS </span>│<span style=\"font-weight: bold\"> ORANGE VP </span>│<span style=\"font-weight: bold\"> BLUE VP </span>│<span style=\"font-weight: bold\"> WHITE VP </span>│<span style=\"font-weight: bold\"> RED VP </span>│<span style=\"font-weight: bold\"> WINNER </span> \n",
       "╶────┼───────────────────────┼───────┼───────────┼─────────┼──────────┼────────┼────────╴\n",
       "   1 │ <span style=\"color: #000080; text-decoration-color: #000080\">BLUE</span>,<span style=\"color: #c0c0c0; text-decoration-color: #c0c0c0\">WHITE</span>,<span style=\"color: #808000; text-decoration-color: #808000\">ORANGE</span>,<span style=\"color: #800000; text-decoration-color: #800000\">RED</span> │   257 │         3 │       9 │        5 │     10 │ <span style=\"color: #800000; text-decoration-color: #800000\">RED</span>     \n",
       "   2 │ <span style=\"color: #c0c0c0; text-decoration-color: #c0c0c0\">WHITE</span>,<span style=\"color: #800000; text-decoration-color: #800000\">RED</span>,<span style=\"color: #808000; text-decoration-color: #808000\">ORANGE</span>,<span style=\"color: #000080; text-decoration-color: #000080\">BLUE</span> │   326 │         7 │       2 │       10 │      5 │ <span style=\"color: #c0c0c0; text-decoration-color: #c0c0c0\">WHITE</span>   \n",
       "   3 │ <span style=\"color: #808000; text-decoration-color: #808000\">ORANGE</span>,<span style=\"color: #c0c0c0; text-decoration-color: #c0c0c0\">WHITE</span>,<span style=\"color: #800000; text-decoration-color: #800000\">RED</span>,<span style=\"color: #000080; text-decoration-color: #000080\">BLUE</span> │   225 │         7 │      10 │        8 │      4 │ <span style=\"color: #000080; text-decoration-color: #000080\">BLUE</span>    \n",
       "   4 │ <span style=\"color: #800000; text-decoration-color: #800000\">RED</span>,<span style=\"color: #c0c0c0; text-decoration-color: #c0c0c0\">WHITE</span>,<span style=\"color: #000080; text-decoration-color: #000080\">BLUE</span>,<span style=\"color: #808000; text-decoration-color: #808000\">ORANGE</span> │   177 │        10 │       7 │        2 │      4 │ <span style=\"color: #808000; text-decoration-color: #808000\">ORANGE</span>  \n",
       "   5 │ <span style=\"color: #800000; text-decoration-color: #800000\">RED</span>,<span style=\"color: #808000; text-decoration-color: #808000\">ORANGE</span>,<span style=\"color: #c0c0c0; text-decoration-color: #c0c0c0\">WHITE</span>,<span style=\"color: #000080; text-decoration-color: #000080\">BLUE</span> │   289 │         5 │      10 │        7 │      5 │ <span style=\"color: #000080; text-decoration-color: #000080\">BLUE</span>    \n",
       "   6 │ <span style=\"color: #808000; text-decoration-color: #808000\">ORANGE</span>,<span style=\"color: #800000; text-decoration-color: #800000\">RED</span>,<span style=\"color: #000080; text-decoration-color: #000080\">BLUE</span>,<span style=\"color: #c0c0c0; text-decoration-color: #c0c0c0\">WHITE</span> │   218 │        10 │       7 │        7 │      3 │ <span style=\"color: #808000; text-decoration-color: #808000\">ORANGE</span>  \n",
       "   7 │ <span style=\"color: #000080; text-decoration-color: #000080\">BLUE</span>,<span style=\"color: #808000; text-decoration-color: #808000\">ORANGE</span>,<span style=\"color: #800000; text-decoration-color: #800000\">RED</span>,<span style=\"color: #c0c0c0; text-decoration-color: #c0c0c0\">WHITE</span> │   283 │        11 │       2 │        3 │      4 │ <span style=\"color: #808000; text-decoration-color: #808000\">ORANGE</span>  \n",
       "   8 │ <span style=\"color: #808000; text-decoration-color: #808000\">ORANGE</span>,<span style=\"color: #000080; text-decoration-color: #000080\">BLUE</span>,<span style=\"color: #c0c0c0; text-decoration-color: #c0c0c0\">WHITE</span>,<span style=\"color: #800000; text-decoration-color: #800000\">RED</span> │   302 │        10 │       3 │        5 │      2 │ <span style=\"color: #808000; text-decoration-color: #808000\">ORANGE</span>  \n",
       "   9 │ <span style=\"color: #000080; text-decoration-color: #000080\">BLUE</span>,<span style=\"color: #c0c0c0; text-decoration-color: #c0c0c0\">WHITE</span>,<span style=\"color: #800000; text-decoration-color: #800000\">RED</span>,<span style=\"color: #808000; text-decoration-color: #808000\">ORANGE</span> │   611 │         9 │       7 │       10 │      4 │ <span style=\"color: #c0c0c0; text-decoration-color: #c0c0c0\">WHITE</span>   \n",
       "  10 │ <span style=\"color: #800000; text-decoration-color: #800000\">RED</span>,<span style=\"color: #000080; text-decoration-color: #000080\">BLUE</span>,<span style=\"color: #c0c0c0; text-decoration-color: #c0c0c0\">WHITE</span>,<span style=\"color: #808000; text-decoration-color: #808000\">ORANGE</span> │   408 │         2 │       8 │       10 │      2 │ <span style=\"color: #c0c0c0; text-decoration-color: #c0c0c0\">WHITE</span>   \n",
       "     ╵                       ╵       ╵           ╵         ╵          ╵        ╵         \n",
       "</pre>\n"
      ],
      "text/plain": [
       "\u001b[3m                                      Last 10 Games                                      \u001b[0m\n",
       "     ╷                       ╷       ╷           ╷         ╷          ╷        ╷         \n",
       " \u001b[1m \u001b[0m\u001b[1m #\u001b[0m\u001b[1m \u001b[0m│\u001b[1m \u001b[0m\u001b[1mSEATING              \u001b[0m\u001b[1m \u001b[0m│\u001b[1m \u001b[0m\u001b[1mTURNS\u001b[0m\u001b[1m \u001b[0m│\u001b[1m \u001b[0m\u001b[1mORANGE VP\u001b[0m\u001b[1m \u001b[0m│\u001b[1m \u001b[0m\u001b[1mBLUE VP\u001b[0m\u001b[1m \u001b[0m│\u001b[1m \u001b[0m\u001b[1mWHITE VP\u001b[0m\u001b[1m \u001b[0m│\u001b[1m \u001b[0m\u001b[1mRED VP\u001b[0m\u001b[1m \u001b[0m│\u001b[1m \u001b[0m\u001b[1mWINNER\u001b[0m\u001b[1m \u001b[0m \n",
       "╶────┼───────────────────────┼───────┼───────────┼─────────┼──────────┼────────┼────────╴\n",
       "   1 │ \u001b[34mBLUE\u001b[0m,\u001b[37mWHITE\u001b[0m,\u001b[33mORANGE\u001b[0m,\u001b[31mRED\u001b[0m │   257 │         3 │       9 │        5 │     10 │ \u001b[31mRED\u001b[0m     \n",
       "   2 │ \u001b[37mWHITE\u001b[0m,\u001b[31mRED\u001b[0m,\u001b[33mORANGE\u001b[0m,\u001b[34mBLUE\u001b[0m │   326 │         7 │       2 │       10 │      5 │ \u001b[37mWHITE\u001b[0m   \n",
       "   3 │ \u001b[33mORANGE\u001b[0m,\u001b[37mWHITE\u001b[0m,\u001b[31mRED\u001b[0m,\u001b[34mBLUE\u001b[0m │   225 │         7 │      10 │        8 │      4 │ \u001b[34mBLUE\u001b[0m    \n",
       "   4 │ \u001b[31mRED\u001b[0m,\u001b[37mWHITE\u001b[0m,\u001b[34mBLUE\u001b[0m,\u001b[33mORANGE\u001b[0m │   177 │        10 │       7 │        2 │      4 │ \u001b[33mORANGE\u001b[0m  \n",
       "   5 │ \u001b[31mRED\u001b[0m,\u001b[33mORANGE\u001b[0m,\u001b[37mWHITE\u001b[0m,\u001b[34mBLUE\u001b[0m │   289 │         5 │      10 │        7 │      5 │ \u001b[34mBLUE\u001b[0m    \n",
       "   6 │ \u001b[33mORANGE\u001b[0m,\u001b[31mRED\u001b[0m,\u001b[34mBLUE\u001b[0m,\u001b[37mWHITE\u001b[0m │   218 │        10 │       7 │        7 │      3 │ \u001b[33mORANGE\u001b[0m  \n",
       "   7 │ \u001b[34mBLUE\u001b[0m,\u001b[33mORANGE\u001b[0m,\u001b[31mRED\u001b[0m,\u001b[37mWHITE\u001b[0m │   283 │        11 │       2 │        3 │      4 │ \u001b[33mORANGE\u001b[0m  \n",
       "   8 │ \u001b[33mORANGE\u001b[0m,\u001b[34mBLUE\u001b[0m,\u001b[37mWHITE\u001b[0m,\u001b[31mRED\u001b[0m │   302 │        10 │       3 │        5 │      2 │ \u001b[33mORANGE\u001b[0m  \n",
       "   9 │ \u001b[34mBLUE\u001b[0m,\u001b[37mWHITE\u001b[0m,\u001b[31mRED\u001b[0m,\u001b[33mORANGE\u001b[0m │   611 │         9 │       7 │       10 │      4 │ \u001b[37mWHITE\u001b[0m   \n",
       "  10 │ \u001b[31mRED\u001b[0m,\u001b[34mBLUE\u001b[0m,\u001b[37mWHITE\u001b[0m,\u001b[33mORANGE\u001b[0m │   408 │         2 │       8 │       10 │      2 │ \u001b[37mWHITE\u001b[0m   \n",
       "     ╵                       ╵       ╵           ╵         ╵          ╵        ╵         \n"
      ]
     },
     "metadata": {},
     "output_type": "display_data"
    },
    {
     "data": {
      "text/html": [
       "<pre style=\"white-space:pre;overflow-x:auto;line-height:normal;font-family:Menlo,'DejaVu Sans Mono',consolas,'Courier New',monospace\"><span style=\"font-style: italic\">                                           Player Summary                                            </span>\n",
       "                      ╷      ╷        ╷             ╷            ╷          ╷          ╷             \n",
       " <span style=\"font-weight: bold\">                     </span>│<span style=\"font-weight: bold\"> WINS </span>│<span style=\"font-weight: bold\"> AVG VP </span>│<span style=\"font-weight: bold\"> AVG SETTLES </span>│<span style=\"font-weight: bold\"> AVG CITIES </span>│<span style=\"font-weight: bold\"> AVG ROAD </span>│<span style=\"font-weight: bold\"> AVG ARMY </span>│<span style=\"font-weight: bold\"> AVG DEV VP </span> \n",
       "╶─────────────────────┼──────┼────────┼─────────────┼────────────┼──────────┼──────────┼────────────╴\n",
       "  <span style=\"color: #808000; text-decoration-color: #808000\">RandomPlayer:ORANGE</span> │    4 │   7.40 │        2.20 │       1.60 │     0.40 │     0.20 │       0.80  \n",
       "  <span style=\"color: #000080; text-decoration-color: #000080\">RandomPlayer:BLUE</span>   │    2 │   6.50 │        2.70 │       0.60 │     0.20 │     0.40 │       1.40  \n",
       "  <span style=\"color: #c0c0c0; text-decoration-color: #c0c0c0\">RandomPlayer:WHITE</span>  │    3 │   6.70 │        3.30 │       0.40 │     0.40 │     0.30 │       1.20  \n",
       "  <span style=\"color: #800000; text-decoration-color: #800000\">AB_DQNPlayer_1:RED</span>  │    1 │   4.30 │        1.60 │       1.30 │     0.00 │     0.00 │       0.10  \n",
       "                      ╵      ╵        ╵             ╵            ╵          ╵          ╵             \n",
       "</pre>\n"
      ],
      "text/plain": [
       "\u001b[3m                                           Player Summary                                            \u001b[0m\n",
       "                      ╷      ╷        ╷             ╷            ╷          ╷          ╷             \n",
       " \u001b[1m \u001b[0m\u001b[1m                   \u001b[0m\u001b[1m \u001b[0m│\u001b[1m \u001b[0m\u001b[1mWINS\u001b[0m\u001b[1m \u001b[0m│\u001b[1m \u001b[0m\u001b[1mAVG VP\u001b[0m\u001b[1m \u001b[0m│\u001b[1m \u001b[0m\u001b[1mAVG SETTLES\u001b[0m\u001b[1m \u001b[0m│\u001b[1m \u001b[0m\u001b[1mAVG CITIES\u001b[0m\u001b[1m \u001b[0m│\u001b[1m \u001b[0m\u001b[1mAVG ROAD\u001b[0m\u001b[1m \u001b[0m│\u001b[1m \u001b[0m\u001b[1mAVG ARMY\u001b[0m\u001b[1m \u001b[0m│\u001b[1m \u001b[0m\u001b[1mAVG DEV VP\u001b[0m\u001b[1m \u001b[0m \n",
       "╶─────────────────────┼──────┼────────┼─────────────┼────────────┼──────────┼──────────┼────────────╴\n",
       "  \u001b[33mRandomPlayer:ORANGE\u001b[0m │    4 │   7.40 │        2.20 │       1.60 │     0.40 │     0.20 │       0.80  \n",
       "  \u001b[34mRandomPlayer:BLUE\u001b[0m   │    2 │   6.50 │        2.70 │       0.60 │     0.20 │     0.40 │       1.40  \n",
       "  \u001b[37mRandomPlayer:WHITE\u001b[0m  │    3 │   6.70 │        3.30 │       0.40 │     0.40 │     0.30 │       1.20  \n",
       "  \u001b[31mAB_DQNPlayer_1:RED\u001b[0m  │    1 │   4.30 │        1.60 │       1.30 │     0.00 │     0.00 │       0.10  \n",
       "                      ╵      ╵        ╵             ╵            ╵          ╵          ╵             \n"
      ]
     },
     "metadata": {},
     "output_type": "display_data"
    },
    {
     "data": {
      "text/html": [
       "<pre style=\"white-space:pre;overflow-x:auto;line-height:normal;font-family:Menlo,'DejaVu Sans Mono',consolas,'Courier New',monospace\"><span style=\"font-style: italic\">              Game Summary              </span>\n",
       "            ╷           ╷               \n",
       " <span style=\"font-weight: bold\"> AVG TICKS </span>│<span style=\"font-weight: bold\"> AVG TURNS </span>│<span style=\"font-weight: bold\"> AVG DURATION </span> \n",
       "╶───────────┼───────────┼──────────────╴\n",
       "     899.80 │    309.60 │  12.758 secs  \n",
       "            ╵           ╵               \n",
       "</pre>\n"
      ],
      "text/plain": [
       "\u001b[3m              Game Summary              \u001b[0m\n",
       "            ╷           ╷               \n",
       " \u001b[1m \u001b[0m\u001b[1mAVG TICKS\u001b[0m\u001b[1m \u001b[0m│\u001b[1m \u001b[0m\u001b[1mAVG TURNS\u001b[0m\u001b[1m \u001b[0m│\u001b[1m \u001b[0m\u001b[1mAVG DURATION\u001b[0m\u001b[1m \u001b[0m \n",
       "╶───────────┼───────────┼──────────────╴\n",
       "     899.80 │    309.60 │  12.758 secs  \n",
       "            ╵           ╵               \n"
      ]
     },
     "metadata": {},
     "output_type": "display_data"
    },
    {
     "name": "stdout",
     "output_type": "stream",
     "text": [
      "Loaded replay buffer with 5000 transitions\n",
      "Batch 3/50: Playing 10 games\n"
     ]
    },
    {
     "data": {
      "text/html": [
       "<pre style=\"white-space:pre;overflow-x:auto;line-height:normal;font-family:Menlo,'DejaVu Sans Mono',consolas,'Courier New',monospace\"></pre>\n"
      ],
      "text/plain": []
     },
     "metadata": {},
     "output_type": "display_data"
    },
    {
     "data": {
      "text/html": [
       "<pre style=\"white-space:pre;overflow-x:auto;line-height:normal;font-family:Menlo,'DejaVu Sans Mono',consolas,'Courier New',monospace\">\n",
       "</pre>\n"
      ],
      "text/plain": [
       "\n"
      ]
     },
     "metadata": {},
     "output_type": "display_data"
    },
    {
     "data": {
      "text/html": [
       "<pre style=\"white-space:pre;overflow-x:auto;line-height:normal;font-family:Menlo,'DejaVu Sans Mono',consolas,'Courier New',monospace\"><span style=\"font-style: italic\">                                      Last 10 Games                                      </span>\n",
       "     ╷                       ╷       ╷        ╷         ╷          ╷           ╷         \n",
       " <span style=\"font-weight: bold\">  # </span>│<span style=\"font-weight: bold\"> SEATING               </span>│<span style=\"font-weight: bold\"> TURNS </span>│<span style=\"font-weight: bold\"> RED VP </span>│<span style=\"font-weight: bold\"> BLUE VP </span>│<span style=\"font-weight: bold\"> WHITE VP </span>│<span style=\"font-weight: bold\"> ORANGE VP </span>│<span style=\"font-weight: bold\"> WINNER </span> \n",
       "╶────┼───────────────────────┼───────┼────────┼─────────┼──────────┼───────────┼────────╴\n",
       "   1 │ <span style=\"color: #800000; text-decoration-color: #800000\">RED</span>,<span style=\"color: #808000; text-decoration-color: #808000\">ORANGE</span>,<span style=\"color: #c0c0c0; text-decoration-color: #c0c0c0\">WHITE</span>,<span style=\"color: #000080; text-decoration-color: #000080\">BLUE</span> │   334 │     10 │       6 │        5 │         7 │ <span style=\"color: #800000; text-decoration-color: #800000\">RED</span>     \n",
       "   2 │ <span style=\"color: #c0c0c0; text-decoration-color: #c0c0c0\">WHITE</span>,<span style=\"color: #800000; text-decoration-color: #800000\">RED</span>,<span style=\"color: #000080; text-decoration-color: #000080\">BLUE</span>,<span style=\"color: #808000; text-decoration-color: #808000\">ORANGE</span> │   336 │      4 │      10 │        6 │         4 │ <span style=\"color: #000080; text-decoration-color: #000080\">BLUE</span>    \n",
       "   3 │ <span style=\"color: #c0c0c0; text-decoration-color: #c0c0c0\">WHITE</span>,<span style=\"color: #800000; text-decoration-color: #800000\">RED</span>,<span style=\"color: #808000; text-decoration-color: #808000\">ORANGE</span>,<span style=\"color: #000080; text-decoration-color: #000080\">BLUE</span> │   470 │      3 │       6 │       10 │         4 │ <span style=\"color: #c0c0c0; text-decoration-color: #c0c0c0\">WHITE</span>   \n",
       "   4 │ <span style=\"color: #808000; text-decoration-color: #808000\">ORANGE</span>,<span style=\"color: #800000; text-decoration-color: #800000\">RED</span>,<span style=\"color: #c0c0c0; text-decoration-color: #c0c0c0\">WHITE</span>,<span style=\"color: #000080; text-decoration-color: #000080\">BLUE</span> │   292 │      5 │       2 │       10 │         8 │ <span style=\"color: #c0c0c0; text-decoration-color: #c0c0c0\">WHITE</span>   \n",
       "   5 │ <span style=\"color: #808000; text-decoration-color: #808000\">ORANGE</span>,<span style=\"color: #800000; text-decoration-color: #800000\">RED</span>,<span style=\"color: #000080; text-decoration-color: #000080\">BLUE</span>,<span style=\"color: #c0c0c0; text-decoration-color: #c0c0c0\">WHITE</span> │  1000 │      4 │       3 │        6 │         6 │         \n",
       "   6 │ <span style=\"color: #000080; text-decoration-color: #000080\">BLUE</span>,<span style=\"color: #c0c0c0; text-decoration-color: #c0c0c0\">WHITE</span>,<span style=\"color: #808000; text-decoration-color: #808000\">ORANGE</span>,<span style=\"color: #800000; text-decoration-color: #800000\">RED</span> │   160 │      2 │       4 │        2 │        10 │ <span style=\"color: #808000; text-decoration-color: #808000\">ORANGE</span>  \n",
       "   7 │ <span style=\"color: #000080; text-decoration-color: #000080\">BLUE</span>,<span style=\"color: #808000; text-decoration-color: #808000\">ORANGE</span>,<span style=\"color: #c0c0c0; text-decoration-color: #c0c0c0\">WHITE</span>,<span style=\"color: #800000; text-decoration-color: #800000\">RED</span> │   311 │      2 │       4 │        4 │        10 │ <span style=\"color: #808000; text-decoration-color: #808000\">ORANGE</span>  \n",
       "   8 │ <span style=\"color: #c0c0c0; text-decoration-color: #c0c0c0\">WHITE</span>,<span style=\"color: #000080; text-decoration-color: #000080\">BLUE</span>,<span style=\"color: #808000; text-decoration-color: #808000\">ORANGE</span>,<span style=\"color: #800000; text-decoration-color: #800000\">RED</span> │   283 │      2 │      10 │        2 │         8 │ <span style=\"color: #000080; text-decoration-color: #000080\">BLUE</span>    \n",
       "   9 │ <span style=\"color: #808000; text-decoration-color: #808000\">ORANGE</span>,<span style=\"color: #c0c0c0; text-decoration-color: #c0c0c0\">WHITE</span>,<span style=\"color: #000080; text-decoration-color: #000080\">BLUE</span>,<span style=\"color: #800000; text-decoration-color: #800000\">RED</span> │   284 │      2 │      10 │        4 │         4 │ <span style=\"color: #000080; text-decoration-color: #000080\">BLUE</span>    \n",
       "  10 │ <span style=\"color: #000080; text-decoration-color: #000080\">BLUE</span>,<span style=\"color: #800000; text-decoration-color: #800000\">RED</span>,<span style=\"color: #808000; text-decoration-color: #808000\">ORANGE</span>,<span style=\"color: #c0c0c0; text-decoration-color: #c0c0c0\">WHITE</span> │   560 │      3 │       6 │        4 │        10 │ <span style=\"color: #808000; text-decoration-color: #808000\">ORANGE</span>  \n",
       "     ╵                       ╵       ╵        ╵         ╵          ╵           ╵         \n",
       "</pre>\n"
      ],
      "text/plain": [
       "\u001b[3m                                      Last 10 Games                                      \u001b[0m\n",
       "     ╷                       ╷       ╷        ╷         ╷          ╷           ╷         \n",
       " \u001b[1m \u001b[0m\u001b[1m #\u001b[0m\u001b[1m \u001b[0m│\u001b[1m \u001b[0m\u001b[1mSEATING              \u001b[0m\u001b[1m \u001b[0m│\u001b[1m \u001b[0m\u001b[1mTURNS\u001b[0m\u001b[1m \u001b[0m│\u001b[1m \u001b[0m\u001b[1mRED VP\u001b[0m\u001b[1m \u001b[0m│\u001b[1m \u001b[0m\u001b[1mBLUE VP\u001b[0m\u001b[1m \u001b[0m│\u001b[1m \u001b[0m\u001b[1mWHITE VP\u001b[0m\u001b[1m \u001b[0m│\u001b[1m \u001b[0m\u001b[1mORANGE VP\u001b[0m\u001b[1m \u001b[0m│\u001b[1m \u001b[0m\u001b[1mWINNER\u001b[0m\u001b[1m \u001b[0m \n",
       "╶────┼───────────────────────┼───────┼────────┼─────────┼──────────┼───────────┼────────╴\n",
       "   1 │ \u001b[31mRED\u001b[0m,\u001b[33mORANGE\u001b[0m,\u001b[37mWHITE\u001b[0m,\u001b[34mBLUE\u001b[0m │   334 │     10 │       6 │        5 │         7 │ \u001b[31mRED\u001b[0m     \n",
       "   2 │ \u001b[37mWHITE\u001b[0m,\u001b[31mRED\u001b[0m,\u001b[34mBLUE\u001b[0m,\u001b[33mORANGE\u001b[0m │   336 │      4 │      10 │        6 │         4 │ \u001b[34mBLUE\u001b[0m    \n",
       "   3 │ \u001b[37mWHITE\u001b[0m,\u001b[31mRED\u001b[0m,\u001b[33mORANGE\u001b[0m,\u001b[34mBLUE\u001b[0m │   470 │      3 │       6 │       10 │         4 │ \u001b[37mWHITE\u001b[0m   \n",
       "   4 │ \u001b[33mORANGE\u001b[0m,\u001b[31mRED\u001b[0m,\u001b[37mWHITE\u001b[0m,\u001b[34mBLUE\u001b[0m │   292 │      5 │       2 │       10 │         8 │ \u001b[37mWHITE\u001b[0m   \n",
       "   5 │ \u001b[33mORANGE\u001b[0m,\u001b[31mRED\u001b[0m,\u001b[34mBLUE\u001b[0m,\u001b[37mWHITE\u001b[0m │  1000 │      4 │       3 │        6 │         6 │         \n",
       "   6 │ \u001b[34mBLUE\u001b[0m,\u001b[37mWHITE\u001b[0m,\u001b[33mORANGE\u001b[0m,\u001b[31mRED\u001b[0m │   160 │      2 │       4 │        2 │        10 │ \u001b[33mORANGE\u001b[0m  \n",
       "   7 │ \u001b[34mBLUE\u001b[0m,\u001b[33mORANGE\u001b[0m,\u001b[37mWHITE\u001b[0m,\u001b[31mRED\u001b[0m │   311 │      2 │       4 │        4 │        10 │ \u001b[33mORANGE\u001b[0m  \n",
       "   8 │ \u001b[37mWHITE\u001b[0m,\u001b[34mBLUE\u001b[0m,\u001b[33mORANGE\u001b[0m,\u001b[31mRED\u001b[0m │   283 │      2 │      10 │        2 │         8 │ \u001b[34mBLUE\u001b[0m    \n",
       "   9 │ \u001b[33mORANGE\u001b[0m,\u001b[37mWHITE\u001b[0m,\u001b[34mBLUE\u001b[0m,\u001b[31mRED\u001b[0m │   284 │      2 │      10 │        4 │         4 │ \u001b[34mBLUE\u001b[0m    \n",
       "  10 │ \u001b[34mBLUE\u001b[0m,\u001b[31mRED\u001b[0m,\u001b[33mORANGE\u001b[0m,\u001b[37mWHITE\u001b[0m │   560 │      3 │       6 │        4 │        10 │ \u001b[33mORANGE\u001b[0m  \n",
       "     ╵                       ╵       ╵        ╵         ╵          ╵           ╵         \n"
      ]
     },
     "metadata": {},
     "output_type": "display_data"
    },
    {
     "data": {
      "text/html": [
       "<pre style=\"white-space:pre;overflow-x:auto;line-height:normal;font-family:Menlo,'DejaVu Sans Mono',consolas,'Courier New',monospace\"><span style=\"font-style: italic\">                                           Player Summary                                            </span>\n",
       "                      ╷      ╷        ╷             ╷            ╷          ╷          ╷             \n",
       " <span style=\"font-weight: bold\">                     </span>│<span style=\"font-weight: bold\"> WINS </span>│<span style=\"font-weight: bold\"> AVG VP </span>│<span style=\"font-weight: bold\"> AVG SETTLES </span>│<span style=\"font-weight: bold\"> AVG CITIES </span>│<span style=\"font-weight: bold\"> AVG ROAD </span>│<span style=\"font-weight: bold\"> AVG ARMY </span>│<span style=\"font-weight: bold\"> AVG DEV VP </span> \n",
       "╶─────────────────────┼──────┼────────┼─────────────┼────────────┼──────────┼──────────┼────────────╴\n",
       "  <span style=\"color: #800000; text-decoration-color: #800000\">AB_DQNPlayer_1:RED</span>  │    1 │   3.67 │        1.89 │       0.78 │     0.11 │     0.00 │       0.00  \n",
       "  <span style=\"color: #000080; text-decoration-color: #000080\">RandomPlayer:BLUE</span>   │    3 │   6.44 │        2.67 │       0.67 │     0.11 │     0.22 │       1.78  \n",
       "  <span style=\"color: #c0c0c0; text-decoration-color: #c0c0c0\">RandomPlayer:WHITE</span>  │    2 │   5.22 │        1.89 │       0.67 │     0.22 │     0.22 │       1.11  \n",
       "  <span style=\"color: #808000; text-decoration-color: #808000\">RandomPlayer:ORANGE</span> │    3 │   7.22 │        2.11 │       1.11 │     0.56 │     0.56 │       0.67  \n",
       "                      ╵      ╵        ╵             ╵            ╵          ╵          ╵             \n",
       "</pre>\n"
      ],
      "text/plain": [
       "\u001b[3m                                           Player Summary                                            \u001b[0m\n",
       "                      ╷      ╷        ╷             ╷            ╷          ╷          ╷             \n",
       " \u001b[1m \u001b[0m\u001b[1m                   \u001b[0m\u001b[1m \u001b[0m│\u001b[1m \u001b[0m\u001b[1mWINS\u001b[0m\u001b[1m \u001b[0m│\u001b[1m \u001b[0m\u001b[1mAVG VP\u001b[0m\u001b[1m \u001b[0m│\u001b[1m \u001b[0m\u001b[1mAVG SETTLES\u001b[0m\u001b[1m \u001b[0m│\u001b[1m \u001b[0m\u001b[1mAVG CITIES\u001b[0m\u001b[1m \u001b[0m│\u001b[1m \u001b[0m\u001b[1mAVG ROAD\u001b[0m\u001b[1m \u001b[0m│\u001b[1m \u001b[0m\u001b[1mAVG ARMY\u001b[0m\u001b[1m \u001b[0m│\u001b[1m \u001b[0m\u001b[1mAVG DEV VP\u001b[0m\u001b[1m \u001b[0m \n",
       "╶─────────────────────┼──────┼────────┼─────────────┼────────────┼──────────┼──────────┼────────────╴\n",
       "  \u001b[31mAB_DQNPlayer_1:RED\u001b[0m  │    1 │   3.67 │        1.89 │       0.78 │     0.11 │     0.00 │       0.00  \n",
       "  \u001b[34mRandomPlayer:BLUE\u001b[0m   │    3 │   6.44 │        2.67 │       0.67 │     0.11 │     0.22 │       1.78  \n",
       "  \u001b[37mRandomPlayer:WHITE\u001b[0m  │    2 │   5.22 │        1.89 │       0.67 │     0.22 │     0.22 │       1.11  \n",
       "  \u001b[33mRandomPlayer:ORANGE\u001b[0m │    3 │   7.22 │        2.11 │       1.11 │     0.56 │     0.56 │       0.67  \n",
       "                      ╵      ╵        ╵             ╵            ╵          ╵          ╵             \n"
      ]
     },
     "metadata": {},
     "output_type": "display_data"
    },
    {
     "data": {
      "text/html": [
       "<pre style=\"white-space:pre;overflow-x:auto;line-height:normal;font-family:Menlo,'DejaVu Sans Mono',consolas,'Courier New',monospace\"><span style=\"font-style: italic\">              Game Summary              </span>\n",
       "            ╷           ╷               \n",
       " <span style=\"font-weight: bold\"> AVG TICKS </span>│<span style=\"font-weight: bold\"> AVG TURNS </span>│<span style=\"font-weight: bold\"> AVG DURATION </span> \n",
       "╶───────────┼───────────┼──────────────╴\n",
       "     955.11 │    336.67 │  12.749 secs  \n",
       "            ╵           ╵               \n",
       "</pre>\n"
      ],
      "text/plain": [
       "\u001b[3m              Game Summary              \u001b[0m\n",
       "            ╷           ╷               \n",
       " \u001b[1m \u001b[0m\u001b[1mAVG TICKS\u001b[0m\u001b[1m \u001b[0m│\u001b[1m \u001b[0m\u001b[1mAVG TURNS\u001b[0m\u001b[1m \u001b[0m│\u001b[1m \u001b[0m\u001b[1mAVG DURATION\u001b[0m\u001b[1m \u001b[0m \n",
       "╶───────────┼───────────┼──────────────╴\n",
       "     955.11 │    336.67 │  12.749 secs  \n",
       "            ╵           ╵               \n"
      ]
     },
     "metadata": {},
     "output_type": "display_data"
    },
    {
     "name": "stdout",
     "output_type": "stream",
     "text": [
      "Loaded replay buffer with 5000 transitions\n",
      "Batch 4/50: Playing 10 games\n"
     ]
    },
    {
     "data": {
      "text/html": [
       "<pre style=\"white-space:pre;overflow-x:auto;line-height:normal;font-family:Menlo,'DejaVu Sans Mono',consolas,'Courier New',monospace\"></pre>\n"
      ],
      "text/plain": []
     },
     "metadata": {},
     "output_type": "display_data"
    },
    {
     "data": {
      "text/html": [
       "<pre style=\"white-space:pre;overflow-x:auto;line-height:normal;font-family:Menlo,'DejaVu Sans Mono',consolas,'Courier New',monospace\">\n",
       "</pre>\n"
      ],
      "text/plain": [
       "\n"
      ]
     },
     "metadata": {},
     "output_type": "display_data"
    },
    {
     "data": {
      "text/html": [
       "<pre style=\"white-space:pre;overflow-x:auto;line-height:normal;font-family:Menlo,'DejaVu Sans Mono',consolas,'Courier New',monospace\"><span style=\"font-style: italic\">                                      Last 10 Games                                      </span>\n",
       "     ╷                       ╷       ╷        ╷          ╷         ╷           ╷         \n",
       " <span style=\"font-weight: bold\">  # </span>│<span style=\"font-weight: bold\"> SEATING               </span>│<span style=\"font-weight: bold\"> TURNS </span>│<span style=\"font-weight: bold\"> RED VP </span>│<span style=\"font-weight: bold\"> WHITE VP </span>│<span style=\"font-weight: bold\"> BLUE VP </span>│<span style=\"font-weight: bold\"> ORANGE VP </span>│<span style=\"font-weight: bold\"> WINNER </span> \n",
       "╶────┼───────────────────────┼───────┼────────┼──────────┼─────────┼───────────┼────────╴\n",
       "   1 │ <span style=\"color: #000080; text-decoration-color: #000080\">BLUE</span>,<span style=\"color: #800000; text-decoration-color: #800000\">RED</span>,<span style=\"color: #c0c0c0; text-decoration-color: #c0c0c0\">WHITE</span>,<span style=\"color: #808000; text-decoration-color: #808000\">ORANGE</span> │   400 │      2 │       10 │       3 │         5 │ <span style=\"color: #c0c0c0; text-decoration-color: #c0c0c0\">WHITE</span>   \n",
       "   2 │ <span style=\"color: #000080; text-decoration-color: #000080\">BLUE</span>,<span style=\"color: #800000; text-decoration-color: #800000\">RED</span>,<span style=\"color: #c0c0c0; text-decoration-color: #c0c0c0\">WHITE</span>,<span style=\"color: #808000; text-decoration-color: #808000\">ORANGE</span> │   244 │      3 │       10 │       5 │         3 │ <span style=\"color: #c0c0c0; text-decoration-color: #c0c0c0\">WHITE</span>   \n",
       "   3 │ <span style=\"color: #808000; text-decoration-color: #808000\">ORANGE</span>,<span style=\"color: #800000; text-decoration-color: #800000\">RED</span>,<span style=\"color: #c0c0c0; text-decoration-color: #c0c0c0\">WHITE</span>,<span style=\"color: #000080; text-decoration-color: #000080\">BLUE</span> │   315 │     10 │        5 │       6 │         7 │ <span style=\"color: #800000; text-decoration-color: #800000\">RED</span>     \n",
       "   4 │ <span style=\"color: #000080; text-decoration-color: #000080\">BLUE</span>,<span style=\"color: #800000; text-decoration-color: #800000\">RED</span>,<span style=\"color: #808000; text-decoration-color: #808000\">ORANGE</span>,<span style=\"color: #c0c0c0; text-decoration-color: #c0c0c0\">WHITE</span> │   344 │      6 │        6 │       2 │        10 │ <span style=\"color: #808000; text-decoration-color: #808000\">ORANGE</span>  \n",
       "   5 │ <span style=\"color: #c0c0c0; text-decoration-color: #c0c0c0\">WHITE</span>,<span style=\"color: #000080; text-decoration-color: #000080\">BLUE</span>,<span style=\"color: #808000; text-decoration-color: #808000\">ORANGE</span>,<span style=\"color: #800000; text-decoration-color: #800000\">RED</span> │   400 │      5 │        8 │       4 │        10 │ <span style=\"color: #808000; text-decoration-color: #808000\">ORANGE</span>  \n",
       "   6 │ <span style=\"color: #800000; text-decoration-color: #800000\">RED</span>,<span style=\"color: #c0c0c0; text-decoration-color: #c0c0c0\">WHITE</span>,<span style=\"color: #808000; text-decoration-color: #808000\">ORANGE</span>,<span style=\"color: #000080; text-decoration-color: #000080\">BLUE</span> │   152 │      2 │        2 │       5 │        10 │ <span style=\"color: #808000; text-decoration-color: #808000\">ORANGE</span>  \n",
       "   7 │ <span style=\"color: #000080; text-decoration-color: #000080\">BLUE</span>,<span style=\"color: #808000; text-decoration-color: #808000\">ORANGE</span>,<span style=\"color: #c0c0c0; text-decoration-color: #c0c0c0\">WHITE</span>,<span style=\"color: #800000; text-decoration-color: #800000\">RED</span> │   151 │      2 │        2 │       5 │        10 │ <span style=\"color: #808000; text-decoration-color: #808000\">ORANGE</span>  \n",
       "   8 │ <span style=\"color: #000080; text-decoration-color: #000080\">BLUE</span>,<span style=\"color: #c0c0c0; text-decoration-color: #c0c0c0\">WHITE</span>,<span style=\"color: #808000; text-decoration-color: #808000\">ORANGE</span>,<span style=\"color: #800000; text-decoration-color: #800000\">RED</span> │   299 │      4 │       10 │       5 │         2 │ <span style=\"color: #c0c0c0; text-decoration-color: #c0c0c0\">WHITE</span>   \n",
       "   9 │ <span style=\"color: #000080; text-decoration-color: #000080\">BLUE</span>,<span style=\"color: #800000; text-decoration-color: #800000\">RED</span>,<span style=\"color: #c0c0c0; text-decoration-color: #c0c0c0\">WHITE</span>,<span style=\"color: #808000; text-decoration-color: #808000\">ORANGE</span> │   324 │      2 │       10 │       3 │         7 │ <span style=\"color: #c0c0c0; text-decoration-color: #c0c0c0\">WHITE</span>   \n",
       "  10 │ <span style=\"color: #000080; text-decoration-color: #000080\">BLUE</span>,<span style=\"color: #c0c0c0; text-decoration-color: #c0c0c0\">WHITE</span>,<span style=\"color: #808000; text-decoration-color: #808000\">ORANGE</span>,<span style=\"color: #800000; text-decoration-color: #800000\">RED</span> │   195 │      2 │       11 │       3 │         4 │ <span style=\"color: #c0c0c0; text-decoration-color: #c0c0c0\">WHITE</span>   \n",
       "     ╵                       ╵       ╵        ╵          ╵         ╵           ╵         \n",
       "</pre>\n"
      ],
      "text/plain": [
       "\u001b[3m                                      Last 10 Games                                      \u001b[0m\n",
       "     ╷                       ╷       ╷        ╷          ╷         ╷           ╷         \n",
       " \u001b[1m \u001b[0m\u001b[1m #\u001b[0m\u001b[1m \u001b[0m│\u001b[1m \u001b[0m\u001b[1mSEATING              \u001b[0m\u001b[1m \u001b[0m│\u001b[1m \u001b[0m\u001b[1mTURNS\u001b[0m\u001b[1m \u001b[0m│\u001b[1m \u001b[0m\u001b[1mRED VP\u001b[0m\u001b[1m \u001b[0m│\u001b[1m \u001b[0m\u001b[1mWHITE VP\u001b[0m\u001b[1m \u001b[0m│\u001b[1m \u001b[0m\u001b[1mBLUE VP\u001b[0m\u001b[1m \u001b[0m│\u001b[1m \u001b[0m\u001b[1mORANGE VP\u001b[0m\u001b[1m \u001b[0m│\u001b[1m \u001b[0m\u001b[1mWINNER\u001b[0m\u001b[1m \u001b[0m \n",
       "╶────┼───────────────────────┼───────┼────────┼──────────┼─────────┼───────────┼────────╴\n",
       "   1 │ \u001b[34mBLUE\u001b[0m,\u001b[31mRED\u001b[0m,\u001b[37mWHITE\u001b[0m,\u001b[33mORANGE\u001b[0m │   400 │      2 │       10 │       3 │         5 │ \u001b[37mWHITE\u001b[0m   \n",
       "   2 │ \u001b[34mBLUE\u001b[0m,\u001b[31mRED\u001b[0m,\u001b[37mWHITE\u001b[0m,\u001b[33mORANGE\u001b[0m │   244 │      3 │       10 │       5 │         3 │ \u001b[37mWHITE\u001b[0m   \n",
       "   3 │ \u001b[33mORANGE\u001b[0m,\u001b[31mRED\u001b[0m,\u001b[37mWHITE\u001b[0m,\u001b[34mBLUE\u001b[0m │   315 │     10 │        5 │       6 │         7 │ \u001b[31mRED\u001b[0m     \n",
       "   4 │ \u001b[34mBLUE\u001b[0m,\u001b[31mRED\u001b[0m,\u001b[33mORANGE\u001b[0m,\u001b[37mWHITE\u001b[0m │   344 │      6 │        6 │       2 │        10 │ \u001b[33mORANGE\u001b[0m  \n",
       "   5 │ \u001b[37mWHITE\u001b[0m,\u001b[34mBLUE\u001b[0m,\u001b[33mORANGE\u001b[0m,\u001b[31mRED\u001b[0m │   400 │      5 │        8 │       4 │        10 │ \u001b[33mORANGE\u001b[0m  \n",
       "   6 │ \u001b[31mRED\u001b[0m,\u001b[37mWHITE\u001b[0m,\u001b[33mORANGE\u001b[0m,\u001b[34mBLUE\u001b[0m │   152 │      2 │        2 │       5 │        10 │ \u001b[33mORANGE\u001b[0m  \n",
       "   7 │ \u001b[34mBLUE\u001b[0m,\u001b[33mORANGE\u001b[0m,\u001b[37mWHITE\u001b[0m,\u001b[31mRED\u001b[0m │   151 │      2 │        2 │       5 │        10 │ \u001b[33mORANGE\u001b[0m  \n",
       "   8 │ \u001b[34mBLUE\u001b[0m,\u001b[37mWHITE\u001b[0m,\u001b[33mORANGE\u001b[0m,\u001b[31mRED\u001b[0m │   299 │      4 │       10 │       5 │         2 │ \u001b[37mWHITE\u001b[0m   \n",
       "   9 │ \u001b[34mBLUE\u001b[0m,\u001b[31mRED\u001b[0m,\u001b[37mWHITE\u001b[0m,\u001b[33mORANGE\u001b[0m │   324 │      2 │       10 │       3 │         7 │ \u001b[37mWHITE\u001b[0m   \n",
       "  10 │ \u001b[34mBLUE\u001b[0m,\u001b[37mWHITE\u001b[0m,\u001b[33mORANGE\u001b[0m,\u001b[31mRED\u001b[0m │   195 │      2 │       11 │       3 │         4 │ \u001b[37mWHITE\u001b[0m   \n",
       "     ╵                       ╵       ╵        ╵          ╵         ╵           ╵         \n"
      ]
     },
     "metadata": {},
     "output_type": "display_data"
    },
    {
     "data": {
      "text/html": [
       "<pre style=\"white-space:pre;overflow-x:auto;line-height:normal;font-family:Menlo,'DejaVu Sans Mono',consolas,'Courier New',monospace\"><span style=\"font-style: italic\">                                           Player Summary                                            </span>\n",
       "                      ╷      ╷        ╷             ╷            ╷          ╷          ╷             \n",
       " <span style=\"font-weight: bold\">                     </span>│<span style=\"font-weight: bold\"> WINS </span>│<span style=\"font-weight: bold\"> AVG VP </span>│<span style=\"font-weight: bold\"> AVG SETTLES </span>│<span style=\"font-weight: bold\"> AVG CITIES </span>│<span style=\"font-weight: bold\"> AVG ROAD </span>│<span style=\"font-weight: bold\"> AVG ARMY </span>│<span style=\"font-weight: bold\"> AVG DEV VP </span> \n",
       "╶─────────────────────┼──────┼────────┼─────────────┼────────────┼──────────┼──────────┼────────────╴\n",
       "  <span style=\"color: #800000; text-decoration-color: #800000\">AB_DQNPlayer_1:RED</span>  │    1 │   3.80 │        1.40 │       1.10 │     0.10 │     0.00 │       0.00  \n",
       "  <span style=\"color: #c0c0c0; text-decoration-color: #c0c0c0\">RandomPlayer:WHITE</span>  │    5 │   7.40 │        2.60 │       1.00 │     0.50 │     0.20 │       1.40  \n",
       "  <span style=\"color: #000080; text-decoration-color: #000080\">RandomPlayer:BLUE</span>   │    0 │   4.10 │        2.30 │       0.50 │     0.10 │     0.10 │       0.40  \n",
       "  <span style=\"color: #808000; text-decoration-color: #808000\">RandomPlayer:ORANGE</span> │    4 │   6.80 │        1.80 │       1.30 │     0.20 │     0.40 │       1.20  \n",
       "                      ╵      ╵        ╵             ╵            ╵          ╵          ╵             \n",
       "</pre>\n"
      ],
      "text/plain": [
       "\u001b[3m                                           Player Summary                                            \u001b[0m\n",
       "                      ╷      ╷        ╷             ╷            ╷          ╷          ╷             \n",
       " \u001b[1m \u001b[0m\u001b[1m                   \u001b[0m\u001b[1m \u001b[0m│\u001b[1m \u001b[0m\u001b[1mWINS\u001b[0m\u001b[1m \u001b[0m│\u001b[1m \u001b[0m\u001b[1mAVG VP\u001b[0m\u001b[1m \u001b[0m│\u001b[1m \u001b[0m\u001b[1mAVG SETTLES\u001b[0m\u001b[1m \u001b[0m│\u001b[1m \u001b[0m\u001b[1mAVG CITIES\u001b[0m\u001b[1m \u001b[0m│\u001b[1m \u001b[0m\u001b[1mAVG ROAD\u001b[0m\u001b[1m \u001b[0m│\u001b[1m \u001b[0m\u001b[1mAVG ARMY\u001b[0m\u001b[1m \u001b[0m│\u001b[1m \u001b[0m\u001b[1mAVG DEV VP\u001b[0m\u001b[1m \u001b[0m \n",
       "╶─────────────────────┼──────┼────────┼─────────────┼────────────┼──────────┼──────────┼────────────╴\n",
       "  \u001b[31mAB_DQNPlayer_1:RED\u001b[0m  │    1 │   3.80 │        1.40 │       1.10 │     0.10 │     0.00 │       0.00  \n",
       "  \u001b[37mRandomPlayer:WHITE\u001b[0m  │    5 │   7.40 │        2.60 │       1.00 │     0.50 │     0.20 │       1.40  \n",
       "  \u001b[34mRandomPlayer:BLUE\u001b[0m   │    0 │   4.10 │        2.30 │       0.50 │     0.10 │     0.10 │       0.40  \n",
       "  \u001b[33mRandomPlayer:ORANGE\u001b[0m │    4 │   6.80 │        1.80 │       1.30 │     0.20 │     0.40 │       1.20  \n",
       "                      ╵      ╵        ╵             ╵            ╵          ╵          ╵             \n"
      ]
     },
     "metadata": {},
     "output_type": "display_data"
    },
    {
     "data": {
      "text/html": [
       "<pre style=\"white-space:pre;overflow-x:auto;line-height:normal;font-family:Menlo,'DejaVu Sans Mono',consolas,'Courier New',monospace\"><span style=\"font-style: italic\">              Game Summary              </span>\n",
       "            ╷           ╷               \n",
       " <span style=\"font-weight: bold\"> AVG TICKS </span>│<span style=\"font-weight: bold\"> AVG TURNS </span>│<span style=\"font-weight: bold\"> AVG DURATION </span> \n",
       "╶───────────┼───────────┼──────────────╴\n",
       "     798.00 │    282.40 │  11.498 secs  \n",
       "            ╵           ╵               \n",
       "</pre>\n"
      ],
      "text/plain": [
       "\u001b[3m              Game Summary              \u001b[0m\n",
       "            ╷           ╷               \n",
       " \u001b[1m \u001b[0m\u001b[1mAVG TICKS\u001b[0m\u001b[1m \u001b[0m│\u001b[1m \u001b[0m\u001b[1mAVG TURNS\u001b[0m\u001b[1m \u001b[0m│\u001b[1m \u001b[0m\u001b[1mAVG DURATION\u001b[0m\u001b[1m \u001b[0m \n",
       "╶───────────┼───────────┼──────────────╴\n",
       "     798.00 │    282.40 │  11.498 secs  \n",
       "            ╵           ╵               \n"
      ]
     },
     "metadata": {},
     "output_type": "display_data"
    },
    {
     "name": "stdout",
     "output_type": "stream",
     "text": [
      "Loaded replay buffer with 5000 transitions\n",
      "Batch 5/50: Playing 10 games\n"
     ]
    },
    {
     "data": {
      "text/html": [
       "<pre style=\"white-space:pre;overflow-x:auto;line-height:normal;font-family:Menlo,'DejaVu Sans Mono',consolas,'Courier New',monospace\"></pre>\n"
      ],
      "text/plain": []
     },
     "metadata": {},
     "output_type": "display_data"
    },
    {
     "data": {
      "text/html": [
       "<pre style=\"white-space:pre;overflow-x:auto;line-height:normal;font-family:Menlo,'DejaVu Sans Mono',consolas,'Courier New',monospace\">\n",
       "</pre>\n"
      ],
      "text/plain": [
       "\n"
      ]
     },
     "metadata": {},
     "output_type": "display_data"
    },
    {
     "data": {
      "text/html": [
       "<pre style=\"white-space:pre;overflow-x:auto;line-height:normal;font-family:Menlo,'DejaVu Sans Mono',consolas,'Courier New',monospace\"><span style=\"font-style: italic\">                                      Last 10 Games                                      </span>\n",
       "     ╷                       ╷       ╷          ╷        ╷         ╷           ╷         \n",
       " <span style=\"font-weight: bold\">  # </span>│<span style=\"font-weight: bold\"> SEATING               </span>│<span style=\"font-weight: bold\"> TURNS </span>│<span style=\"font-weight: bold\"> WHITE VP </span>│<span style=\"font-weight: bold\"> RED VP </span>│<span style=\"font-weight: bold\"> BLUE VP </span>│<span style=\"font-weight: bold\"> ORANGE VP </span>│<span style=\"font-weight: bold\"> WINNER </span> \n",
       "╶────┼───────────────────────┼───────┼──────────┼────────┼─────────┼───────────┼────────╴\n",
       "   1 │ <span style=\"color: #808000; text-decoration-color: #808000\">ORANGE</span>,<span style=\"color: #800000; text-decoration-color: #800000\">RED</span>,<span style=\"color: #000080; text-decoration-color: #000080\">BLUE</span>,<span style=\"color: #c0c0c0; text-decoration-color: #c0c0c0\">WHITE</span> │   400 │        4 │      5 │      10 │         5 │ <span style=\"color: #000080; text-decoration-color: #000080\">BLUE</span>    \n",
       "   2 │ <span style=\"color: #800000; text-decoration-color: #800000\">RED</span>,<span style=\"color: #c0c0c0; text-decoration-color: #c0c0c0\">WHITE</span>,<span style=\"color: #000080; text-decoration-color: #000080\">BLUE</span>,<span style=\"color: #808000; text-decoration-color: #808000\">ORANGE</span> │   599 │       10 │      6 │       9 │         6 │ <span style=\"color: #c0c0c0; text-decoration-color: #c0c0c0\">WHITE</span>   \n",
       "   3 │ <span style=\"color: #800000; text-decoration-color: #800000\">RED</span>,<span style=\"color: #000080; text-decoration-color: #000080\">BLUE</span>,<span style=\"color: #c0c0c0; text-decoration-color: #c0c0c0\">WHITE</span>,<span style=\"color: #808000; text-decoration-color: #808000\">ORANGE</span> │   179 │        3 │      2 │      10 │         4 │ <span style=\"color: #000080; text-decoration-color: #000080\">BLUE</span>    \n",
       "   4 │ <span style=\"color: #808000; text-decoration-color: #808000\">ORANGE</span>,<span style=\"color: #800000; text-decoration-color: #800000\">RED</span>,<span style=\"color: #c0c0c0; text-decoration-color: #c0c0c0\">WHITE</span>,<span style=\"color: #000080; text-decoration-color: #000080\">BLUE</span> │   206 │        2 │      2 │       5 │        10 │ <span style=\"color: #808000; text-decoration-color: #808000\">ORANGE</span>  \n",
       "   5 │ <span style=\"color: #800000; text-decoration-color: #800000\">RED</span>,<span style=\"color: #c0c0c0; text-decoration-color: #c0c0c0\">WHITE</span>,<span style=\"color: #808000; text-decoration-color: #808000\">ORANGE</span>,<span style=\"color: #000080; text-decoration-color: #000080\">BLUE</span> │   421 │        8 │      2 │      10 │         6 │ <span style=\"color: #000080; text-decoration-color: #000080\">BLUE</span>    \n",
       "   6 │ <span style=\"color: #000080; text-decoration-color: #000080\">BLUE</span>,<span style=\"color: #800000; text-decoration-color: #800000\">RED</span>,<span style=\"color: #c0c0c0; text-decoration-color: #c0c0c0\">WHITE</span>,<span style=\"color: #808000; text-decoration-color: #808000\">ORANGE</span> │   749 │        9 │      6 │       7 │        10 │ <span style=\"color: #808000; text-decoration-color: #808000\">ORANGE</span>  \n",
       "   7 │ <span style=\"color: #000080; text-decoration-color: #000080\">BLUE</span>,<span style=\"color: #808000; text-decoration-color: #808000\">ORANGE</span>,<span style=\"color: #800000; text-decoration-color: #800000\">RED</span>,<span style=\"color: #c0c0c0; text-decoration-color: #c0c0c0\">WHITE</span> │   381 │       10 │      6 │       4 │         6 │ <span style=\"color: #c0c0c0; text-decoration-color: #c0c0c0\">WHITE</span>   \n",
       "   8 │ <span style=\"color: #808000; text-decoration-color: #808000\">ORANGE</span>,<span style=\"color: #000080; text-decoration-color: #000080\">BLUE</span>,<span style=\"color: #800000; text-decoration-color: #800000\">RED</span>,<span style=\"color: #c0c0c0; text-decoration-color: #c0c0c0\">WHITE</span> │   283 │        5 │      2 │      10 │         7 │ <span style=\"color: #000080; text-decoration-color: #000080\">BLUE</span>    \n",
       "   9 │ <span style=\"color: #808000; text-decoration-color: #808000\">ORANGE</span>,<span style=\"color: #c0c0c0; text-decoration-color: #c0c0c0\">WHITE</span>,<span style=\"color: #000080; text-decoration-color: #000080\">BLUE</span>,<span style=\"color: #800000; text-decoration-color: #800000\">RED</span> │   206 │        3 │      2 │       5 │        10 │ <span style=\"color: #808000; text-decoration-color: #808000\">ORANGE</span>  \n",
       "  10 │ <span style=\"color: #800000; text-decoration-color: #800000\">RED</span>,<span style=\"color: #000080; text-decoration-color: #000080\">BLUE</span>,<span style=\"color: #808000; text-decoration-color: #808000\">ORANGE</span>,<span style=\"color: #c0c0c0; text-decoration-color: #c0c0c0\">WHITE</span> │   323 │        5 │      4 │      10 │         5 │ <span style=\"color: #000080; text-decoration-color: #000080\">BLUE</span>    \n",
       "     ╵                       ╵       ╵          ╵        ╵         ╵           ╵         \n",
       "</pre>\n"
      ],
      "text/plain": [
       "\u001b[3m                                      Last 10 Games                                      \u001b[0m\n",
       "     ╷                       ╷       ╷          ╷        ╷         ╷           ╷         \n",
       " \u001b[1m \u001b[0m\u001b[1m #\u001b[0m\u001b[1m \u001b[0m│\u001b[1m \u001b[0m\u001b[1mSEATING              \u001b[0m\u001b[1m \u001b[0m│\u001b[1m \u001b[0m\u001b[1mTURNS\u001b[0m\u001b[1m \u001b[0m│\u001b[1m \u001b[0m\u001b[1mWHITE VP\u001b[0m\u001b[1m \u001b[0m│\u001b[1m \u001b[0m\u001b[1mRED VP\u001b[0m\u001b[1m \u001b[0m│\u001b[1m \u001b[0m\u001b[1mBLUE VP\u001b[0m\u001b[1m \u001b[0m│\u001b[1m \u001b[0m\u001b[1mORANGE VP\u001b[0m\u001b[1m \u001b[0m│\u001b[1m \u001b[0m\u001b[1mWINNER\u001b[0m\u001b[1m \u001b[0m \n",
       "╶────┼───────────────────────┼───────┼──────────┼────────┼─────────┼───────────┼────────╴\n",
       "   1 │ \u001b[33mORANGE\u001b[0m,\u001b[31mRED\u001b[0m,\u001b[34mBLUE\u001b[0m,\u001b[37mWHITE\u001b[0m │   400 │        4 │      5 │      10 │         5 │ \u001b[34mBLUE\u001b[0m    \n",
       "   2 │ \u001b[31mRED\u001b[0m,\u001b[37mWHITE\u001b[0m,\u001b[34mBLUE\u001b[0m,\u001b[33mORANGE\u001b[0m │   599 │       10 │      6 │       9 │         6 │ \u001b[37mWHITE\u001b[0m   \n",
       "   3 │ \u001b[31mRED\u001b[0m,\u001b[34mBLUE\u001b[0m,\u001b[37mWHITE\u001b[0m,\u001b[33mORANGE\u001b[0m │   179 │        3 │      2 │      10 │         4 │ \u001b[34mBLUE\u001b[0m    \n",
       "   4 │ \u001b[33mORANGE\u001b[0m,\u001b[31mRED\u001b[0m,\u001b[37mWHITE\u001b[0m,\u001b[34mBLUE\u001b[0m │   206 │        2 │      2 │       5 │        10 │ \u001b[33mORANGE\u001b[0m  \n",
       "   5 │ \u001b[31mRED\u001b[0m,\u001b[37mWHITE\u001b[0m,\u001b[33mORANGE\u001b[0m,\u001b[34mBLUE\u001b[0m │   421 │        8 │      2 │      10 │         6 │ \u001b[34mBLUE\u001b[0m    \n",
       "   6 │ \u001b[34mBLUE\u001b[0m,\u001b[31mRED\u001b[0m,\u001b[37mWHITE\u001b[0m,\u001b[33mORANGE\u001b[0m │   749 │        9 │      6 │       7 │        10 │ \u001b[33mORANGE\u001b[0m  \n",
       "   7 │ \u001b[34mBLUE\u001b[0m,\u001b[33mORANGE\u001b[0m,\u001b[31mRED\u001b[0m,\u001b[37mWHITE\u001b[0m │   381 │       10 │      6 │       4 │         6 │ \u001b[37mWHITE\u001b[0m   \n",
       "   8 │ \u001b[33mORANGE\u001b[0m,\u001b[34mBLUE\u001b[0m,\u001b[31mRED\u001b[0m,\u001b[37mWHITE\u001b[0m │   283 │        5 │      2 │      10 │         7 │ \u001b[34mBLUE\u001b[0m    \n",
       "   9 │ \u001b[33mORANGE\u001b[0m,\u001b[37mWHITE\u001b[0m,\u001b[34mBLUE\u001b[0m,\u001b[31mRED\u001b[0m │   206 │        3 │      2 │       5 │        10 │ \u001b[33mORANGE\u001b[0m  \n",
       "  10 │ \u001b[31mRED\u001b[0m,\u001b[34mBLUE\u001b[0m,\u001b[33mORANGE\u001b[0m,\u001b[37mWHITE\u001b[0m │   323 │        5 │      4 │      10 │         5 │ \u001b[34mBLUE\u001b[0m    \n",
       "     ╵                       ╵       ╵          ╵        ╵         ╵           ╵         \n"
      ]
     },
     "metadata": {},
     "output_type": "display_data"
    },
    {
     "data": {
      "text/html": [
       "<pre style=\"white-space:pre;overflow-x:auto;line-height:normal;font-family:Menlo,'DejaVu Sans Mono',consolas,'Courier New',monospace\"><span style=\"font-style: italic\">                                           Player Summary                                            </span>\n",
       "                      ╷      ╷        ╷             ╷            ╷          ╷          ╷             \n",
       " <span style=\"font-weight: bold\">                     </span>│<span style=\"font-weight: bold\"> WINS </span>│<span style=\"font-weight: bold\"> AVG VP </span>│<span style=\"font-weight: bold\"> AVG SETTLES </span>│<span style=\"font-weight: bold\"> AVG CITIES </span>│<span style=\"font-weight: bold\"> AVG ROAD </span>│<span style=\"font-weight: bold\"> AVG ARMY </span>│<span style=\"font-weight: bold\"> AVG DEV VP </span> \n",
       "╶─────────────────────┼──────┼────────┼─────────────┼────────────┼──────────┼──────────┼────────────╴\n",
       "  <span style=\"color: #c0c0c0; text-decoration-color: #c0c0c0\">RandomPlayer:WHITE</span>  │    2 │   5.90 │        3.00 │       0.50 │     0.30 │     0.10 │       1.10  \n",
       "  <span style=\"color: #800000; text-decoration-color: #800000\">AB_DQNPlayer_1:RED</span>  │    0 │   3.70 │        1.90 │       0.80 │     0.10 │     0.00 │       0.00  \n",
       "  <span style=\"color: #000080; text-decoration-color: #000080\">RandomPlayer:BLUE</span>   │    5 │   8.00 │        3.30 │       1.00 │     0.30 │     0.40 │       1.30  \n",
       "  <span style=\"color: #808000; text-decoration-color: #808000\">RandomPlayer:ORANGE</span> │    3 │   6.90 │        3.60 │       0.40 │     0.30 │     0.40 │       1.10  \n",
       "                      ╵      ╵        ╵             ╵            ╵          ╵          ╵             \n",
       "</pre>\n"
      ],
      "text/plain": [
       "\u001b[3m                                           Player Summary                                            \u001b[0m\n",
       "                      ╷      ╷        ╷             ╷            ╷          ╷          ╷             \n",
       " \u001b[1m \u001b[0m\u001b[1m                   \u001b[0m\u001b[1m \u001b[0m│\u001b[1m \u001b[0m\u001b[1mWINS\u001b[0m\u001b[1m \u001b[0m│\u001b[1m \u001b[0m\u001b[1mAVG VP\u001b[0m\u001b[1m \u001b[0m│\u001b[1m \u001b[0m\u001b[1mAVG SETTLES\u001b[0m\u001b[1m \u001b[0m│\u001b[1m \u001b[0m\u001b[1mAVG CITIES\u001b[0m\u001b[1m \u001b[0m│\u001b[1m \u001b[0m\u001b[1mAVG ROAD\u001b[0m\u001b[1m \u001b[0m│\u001b[1m \u001b[0m\u001b[1mAVG ARMY\u001b[0m\u001b[1m \u001b[0m│\u001b[1m \u001b[0m\u001b[1mAVG DEV VP\u001b[0m\u001b[1m \u001b[0m \n",
       "╶─────────────────────┼──────┼────────┼─────────────┼────────────┼──────────┼──────────┼────────────╴\n",
       "  \u001b[37mRandomPlayer:WHITE\u001b[0m  │    2 │   5.90 │        3.00 │       0.50 │     0.30 │     0.10 │       1.10  \n",
       "  \u001b[31mAB_DQNPlayer_1:RED\u001b[0m  │    0 │   3.70 │        1.90 │       0.80 │     0.10 │     0.00 │       0.00  \n",
       "  \u001b[34mRandomPlayer:BLUE\u001b[0m   │    5 │   8.00 │        3.30 │       1.00 │     0.30 │     0.40 │       1.30  \n",
       "  \u001b[33mRandomPlayer:ORANGE\u001b[0m │    3 │   6.90 │        3.60 │       0.40 │     0.30 │     0.40 │       1.10  \n",
       "                      ╵      ╵        ╵             ╵            ╵          ╵          ╵             \n"
      ]
     },
     "metadata": {},
     "output_type": "display_data"
    },
    {
     "data": {
      "text/html": [
       "<pre style=\"white-space:pre;overflow-x:auto;line-height:normal;font-family:Menlo,'DejaVu Sans Mono',consolas,'Courier New',monospace\"><span style=\"font-style: italic\">              Game Summary              </span>\n",
       "            ╷           ╷               \n",
       " <span style=\"font-weight: bold\"> AVG TICKS </span>│<span style=\"font-weight: bold\"> AVG TURNS </span>│<span style=\"font-weight: bold\"> AVG DURATION </span> \n",
       "╶───────────┼───────────┼──────────────╴\n",
       "    1090.50 │    374.70 │  16.929 secs  \n",
       "            ╵           ╵               \n",
       "</pre>\n"
      ],
      "text/plain": [
       "\u001b[3m              Game Summary              \u001b[0m\n",
       "            ╷           ╷               \n",
       " \u001b[1m \u001b[0m\u001b[1mAVG TICKS\u001b[0m\u001b[1m \u001b[0m│\u001b[1m \u001b[0m\u001b[1mAVG TURNS\u001b[0m\u001b[1m \u001b[0m│\u001b[1m \u001b[0m\u001b[1mAVG DURATION\u001b[0m\u001b[1m \u001b[0m \n",
       "╶───────────┼───────────┼──────────────╴\n",
       "    1090.50 │    374.70 │  16.929 secs  \n",
       "            ╵           ╵               \n"
      ]
     },
     "metadata": {},
     "output_type": "display_data"
    },
    {
     "name": "stdout",
     "output_type": "stream",
     "text": [
      "Loaded replay buffer with 5000 transitions\n",
      "Batch 6/50: Playing 10 games\n"
     ]
    }
   ],
   "source": [
    "from catanatron_experimental.play import play_batch\n",
    "import random\n",
    "\n",
    "\n",
    "num_batches = 50\n",
    "games_per_batch = 10\n",
    "ab_threshold = 40  # AlphaBeta allowed after 40 batches\n",
    "weighted_threshold = 20  # WeightedRandom allowed after 20 batches\n",
    "\n",
    "def curriculum_player_selector(batch_num, color, ab_used):\n",
    "    choices = []\n",
    "\n",
    "    # Phase 1: only random\n",
    "    if batch_num < weighted_threshold:\n",
    "        choices = [RandomPlayer]\n",
    "    # Phase 2: random + weighted\n",
    "    elif batch_num < ab_threshold:\n",
    "        choices = [RandomPlayer, WeightedRandomPlayer]\n",
    "    # Phase 3: add AlphaBeta (only 1 per game)\n",
    "    else:\n",
    "        choices = [RandomPlayer, WeightedRandomPlayer]\n",
    "        if not ab_used:\n",
    "            choices.append(AlphaBetaPlayer)\n",
    "\n",
    "    cls = random.choice(choices)\n",
    "    return cls(color), isinstance(cls, AlphaBetaPlayer)\n",
    "\n",
    "all_wins = []\n",
    "\n",
    "for batch in range(num_batches):\n",
    "    players = []\n",
    "    ab_used = False\n",
    "\n",
    "    for color in [Color.WHITE, Color.ORANGE, Color.BLUE]:\n",
    "        player, is_ab = curriculum_player_selector(batch, color, ab_used)\n",
    "        players.append(player)\n",
    "        ab_used = ab_used or is_ab\n",
    "\n",
    "    players.append(AB_DQNPlayer_1(Color.RED))  # Always include the DQN agent\n",
    "    random.shuffle(players)\n",
    "\n",
    "    print(f\"Batch {batch + 1}/{num_batches}: Playing {games_per_batch} games\")\n",
    "    wins, _, _ = play_batch(games_per_batch, players)\n",
    "    all_wins.append(wins)"
   ]
  },
  {
   "cell_type": "markdown",
   "id": "c1e64f53-26dc-40d4-ae7c-1410355617e8",
   "metadata": {},
   "source": [
    "You can inspect the game states in a variety of ways and compute statistics"
   ]
  },
  {
   "cell_type": "markdown",
   "id": "f9785c30",
   "metadata": {},
   "source": []
  }
 ],
 "metadata": {
  "kernelspec": {
   "display_name": "catan311",
   "language": "python",
   "name": "python3"
  },
  "language_info": {
   "codemirror_mode": {
    "name": "ipython",
    "version": 3
   },
   "file_extension": ".py",
   "mimetype": "text/x-python",
   "name": "python",
   "nbconvert_exporter": "python",
   "pygments_lexer": "ipython3",
   "version": "3.11.11"
  }
 },
 "nbformat": 4,
 "nbformat_minor": 5
}
