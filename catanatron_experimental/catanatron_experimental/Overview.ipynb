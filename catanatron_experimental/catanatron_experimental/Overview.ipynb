{
 "cells": [
  {
   "cell_type": "markdown",
   "id": "38540cf7-9b4f-4c98-9abb-952c84443f1d",
   "metadata": {},
   "source": [
    "# Catanatron Introduction\n",
    "This shows example usage of Catanatron. First, clone the repo and install requirements."
   ]
  },
  {
   "cell_type": "code",
   "execution_count": null,
   "id": "3be394e4-9bcd-46bb-892b-7538ad3b2e55",
   "metadata": {},
   "outputs": [],
   "source": [
    "%pip install -r catanatron/dev-requirements.txt\n",
    "%pip install -e catanatron/catanatron_core\n",
    "%pip install -e catanatron/catanatron_server\n",
    "%pip install -e catanatron/catanatron_gym\n",
    "%pip install -e catanatron/catanatron_experimental\n",
    "exit() # Forcefully restart runtime to picks up installed requirements"
   ]
  },
  {
   "cell_type": "code",
   "execution_count": 1,
   "id": "65228753",
   "metadata": {},
   "outputs": [
    {
     "name": "stdout",
     "output_type": "stream",
     "text": [
      "Obtaining file:///C:/Users/SAM/CODE/catan_atron/catanatron/catanatron_experimental/catanatron_experimental/catanatron/catanatron_experimental\n",
      "  Preparing metadata (setup.py): started\n",
      "  Preparing metadata (setup.py): finished with status 'done'\n",
      "Requirement already satisfied: rich in c:\\users\\sam\\anaconda3\\envs\\catan311\\lib\\site-packages (from catanatron_experimental==1.0.0) (13.3.2)\n",
      "Requirement already satisfied: markdown-it-py<3.0.0,>=2.2.0 in c:\\users\\sam\\anaconda3\\envs\\catan311\\lib\\site-packages (from rich->catanatron_experimental==1.0.0) (2.2.0)\n",
      "Requirement already satisfied: pygments<3.0.0,>=2.13.0 in c:\\users\\sam\\anaconda3\\envs\\catan311\\lib\\site-packages (from rich->catanatron_experimental==1.0.0) (2.14.0)\n",
      "Requirement already satisfied: mdurl~=0.1 in c:\\users\\sam\\anaconda3\\envs\\catan311\\lib\\site-packages (from markdown-it-py<3.0.0,>=2.2.0->rich->catanatron_experimental==1.0.0) (0.1.2)\n",
      "Installing collected packages: catanatron_experimental\n",
      "  Attempting uninstall: catanatron_experimental\n",
      "    Found existing installation: catanatron_experimental 1.0.0\n",
      "    Uninstalling catanatron_experimental-1.0.0:\n",
      "      Successfully uninstalled catanatron_experimental-1.0.0\n",
      "  Running setup.py develop for catanatron_experimental\n",
      "Successfully installed catanatron_experimental-1.0.0\n",
      "Note: you may need to restart the kernel to use updated packages.\n"
     ]
    },
    {
     "name": "stderr",
     "output_type": "stream",
     "text": [
      "  DEPRECATION: Legacy editable install of catanatron_experimental==1.0.0 from file:///C:/Users/SAM/CODE/catan_atron/catanatron/catanatron_experimental/catanatron_experimental/catanatron/catanatron_experimental (setup.py develop) is deprecated. pip 25.1 will enforce this behaviour change. A possible replacement is to add a pyproject.toml or enable --use-pep517, and use setuptools >= 64. If the resulting installation is not behaving as expected, try using --config-settings editable_mode=compat. Please consult the setuptools documentation for more information. Discussion can be found at https://github.com/pypa/pip/issues/11457\n"
     ]
    }
   ],
   "source": [
    "%pip install -e catanatron/catanatron_experimental\n"
   ]
  },
  {
   "cell_type": "code",
   "execution_count": null,
   "id": "4f56dcbc",
   "metadata": {},
   "outputs": [],
   "source": [
    "%pip install tensorflow \n",
    "%pip uninstall pandas numpy -y\n",
    "%pip install --no-cache-dir numpy pandas\n",
    "%pip install \"numpy>=1.26.0,<2.2.0\"\n",
    "%pip install torch\n"
   ]
  },
  {
   "cell_type": "code",
   "execution_count": 1,
   "id": "dd32b2b1",
   "metadata": {},
   "outputs": [
    {
     "name": "stdout",
     "output_type": "stream",
     "text": [
      "Found existing installation: torch 2.5.1+cu121\n",
      "Uninstalling torch-2.5.1+cu121:\n",
      "  Successfully uninstalled torch-2.5.1+cu121\n",
      "Found existing installation: torchvision 0.20.1+cu121\n",
      "Uninstalling torchvision-0.20.1+cu121:\n",
      "  Successfully uninstalled torchvision-0.20.1+cu121\n",
      "Found existing installation: torchaudio 2.5.1+cu121\n",
      "Uninstalling torchaudio-2.5.1+cu121:\n",
      "  Successfully uninstalled torchaudio-2.5.1+cu121\n",
      "Note: you may need to restart the kernel to use updated packages.\n",
      "Looking in indexes: https://download.pytorch.org/whl/cu121\n",
      "Collecting torch\n",
      "  Using cached https://download.pytorch.org/whl/cu121/torch-2.5.1%2Bcu121-cp311-cp311-win_amd64.whl (2449.4 MB)\n",
      "Collecting torchvision\n",
      "  Using cached https://download.pytorch.org/whl/cu121/torchvision-0.20.1%2Bcu121-cp311-cp311-win_amd64.whl (6.1 MB)\n",
      "Collecting torchaudio\n",
      "  Using cached https://download.pytorch.org/whl/cu121/torchaudio-2.5.1%2Bcu121-cp311-cp311-win_amd64.whl (4.1 MB)\n",
      "Requirement already satisfied: filelock in c:\\users\\sam\\anaconda3\\envs\\catan311\\lib\\site-packages (from torch) (3.18.0)\n",
      "Requirement already satisfied: typing-extensions>=4.8.0 in c:\\users\\sam\\anaconda3\\envs\\catan311\\lib\\site-packages (from torch) (4.13.2)\n",
      "Requirement already satisfied: networkx in c:\\users\\sam\\anaconda3\\envs\\catan311\\lib\\site-packages (from torch) (3.0)\n",
      "Requirement already satisfied: jinja2 in c:\\users\\sam\\anaconda3\\envs\\catan311\\lib\\site-packages (from torch) (3.1.2)\n",
      "Requirement already satisfied: fsspec in c:\\users\\sam\\anaconda3\\envs\\catan311\\lib\\site-packages (from torch) (2025.3.2)\n",
      "Requirement already satisfied: sympy==1.13.1 in c:\\users\\sam\\anaconda3\\envs\\catan311\\lib\\site-packages (from torch) (1.13.1)\n",
      "Requirement already satisfied: mpmath<1.4,>=1.1.0 in c:\\users\\sam\\anaconda3\\envs\\catan311\\lib\\site-packages (from sympy==1.13.1->torch) (1.3.0)\n",
      "Requirement already satisfied: numpy in c:\\users\\sam\\anaconda3\\envs\\catan311\\lib\\site-packages (from torchvision) (2.1.3)\n",
      "Requirement already satisfied: pillow!=8.3.*,>=5.3.0 in c:\\users\\sam\\anaconda3\\envs\\catan311\\lib\\site-packages (from torchvision) (11.0.0)\n",
      "Requirement already satisfied: MarkupSafe>=2.0 in c:\\users\\sam\\anaconda3\\envs\\catan311\\lib\\site-packages (from jinja2->torch) (2.1.2)\n",
      "Installing collected packages: torch, torchvision, torchaudio\n",
      "Successfully installed torch-2.5.1+cu121 torchaudio-2.5.1+cu121 torchvision-0.20.1+cu121\n",
      "Note: you may need to restart the kernel to use updated packages.\n"
     ]
    }
   ],
   "source": [
    "%pip uninstall torch torchvision torchaudio -y\n",
    "%pip install torch torchvision torchaudio --index-url https://download.pytorch.org/whl/cu121\n"
   ]
  },
  {
   "cell_type": "code",
   "execution_count": 1,
   "id": "c362339e",
   "metadata": {},
   "outputs": [
    {
     "name": "stdout",
     "output_type": "stream",
     "text": [
      "True\n",
      "NVIDIA GeForce RTX 2060 SUPER\n"
     ]
    }
   ],
   "source": [
    "import torch\n",
    "print(torch.cuda.is_available())\n",
    "print(torch.cuda.get_device_name(0) if torch.cuda.is_available() else \"No GPU detected\")\n"
   ]
  },
  {
   "cell_type": "markdown",
   "id": "5ef8f5a2-feb0-49d3-a2b5-a9f1c462db5d",
   "metadata": {},
   "source": [
    "Then, you can implement your own bot strategy and pit against some benchmark bots."
   ]
  },
  {
   "cell_type": "code",
   "execution_count": 2,
   "id": "ef40e33f-8937-4918-b626-d70a2615e7aa",
   "metadata": {},
   "outputs": [],
   "source": [
    "import random\n",
    "\n",
    "from catanatron.game import Game\n",
    "from catanatron.models.player import Player, RandomPlayer, Color\n",
    "from machine_learning.players.online_mcts_dqn import OnlineMCTSDQNPlayer_1\n",
    "from machine_learning.players.apl_beta_dqn import AB_DQNPlayer_1\n",
    "from catanatron_experimental.machine_learning.players.minimax import AlphaBetaPlayer\n",
    "\n",
    "from catanatron.players.weighted_random import WeightedRandomPlayer\n"
   ]
  },
  {
   "cell_type": "code",
   "execution_count": 3,
   "id": "2bfdf5cd",
   "metadata": {},
   "outputs": [
    {
     "name": "stdout",
     "output_type": "stream",
     "text": [
      "['BANK_BRICK', 'BANK_DEV_CARDS', 'BANK_ORE', 'BANK_SHEEP', 'BANK_WHEAT', 'BANK_WOOD', 'EDGE(0, 1)_P0_ROAD', 'EDGE(0, 1)_P1_ROAD', 'EDGE(0, 1)_P2_ROAD', 'EDGE(0, 1)_P3_ROAD', 'EDGE(0, 20)_P0_ROAD', 'EDGE(0, 20)_P1_ROAD', 'EDGE(0, 20)_P2_ROAD', 'EDGE(0, 20)_P3_ROAD', 'EDGE(0, 5)_P0_ROAD', 'EDGE(0, 5)_P1_ROAD', 'EDGE(0, 5)_P2_ROAD', 'EDGE(0, 5)_P3_ROAD', 'EDGE(1, 2)_P0_ROAD', 'EDGE(1, 2)_P1_ROAD', 'EDGE(1, 2)_P2_ROAD', 'EDGE(1, 2)_P3_ROAD', 'EDGE(1, 6)_P0_ROAD', 'EDGE(1, 6)_P1_ROAD', 'EDGE(1, 6)_P2_ROAD', 'EDGE(1, 6)_P3_ROAD', 'EDGE(10, 11)_P0_ROAD', 'EDGE(10, 11)_P1_ROAD', 'EDGE(10, 11)_P2_ROAD', 'EDGE(10, 11)_P3_ROAD', 'EDGE(10, 29)_P0_ROAD', 'EDGE(10, 29)_P1_ROAD', 'EDGE(10, 29)_P2_ROAD', 'EDGE(10, 29)_P3_ROAD', 'EDGE(11, 12)_P0_ROAD', 'EDGE(11, 12)_P1_ROAD', 'EDGE(11, 12)_P2_ROAD', 'EDGE(11, 12)_P3_ROAD', 'EDGE(11, 32)_P0_ROAD', 'EDGE(11, 32)_P1_ROAD', 'EDGE(11, 32)_P2_ROAD', 'EDGE(11, 32)_P3_ROAD', 'EDGE(12, 13)_P0_ROAD', 'EDGE(12, 13)_P1_ROAD', 'EDGE(12, 13)_P2_ROAD', 'EDGE(12, 13)_P3_ROAD', 'EDGE(13, 14)_P0_ROAD', 'EDGE(13, 14)_P1_ROAD', 'EDGE(13, 14)_P2_ROAD', 'EDGE(13, 14)_P3_ROAD', 'EDGE(13, 34)_P0_ROAD', 'EDGE(13, 34)_P1_ROAD', 'EDGE(13, 34)_P2_ROAD', 'EDGE(13, 34)_P3_ROAD', 'EDGE(14, 15)_P0_ROAD', 'EDGE(14, 15)_P1_ROAD', 'EDGE(14, 15)_P2_ROAD', 'EDGE(14, 15)_P3_ROAD', 'EDGE(14, 37)_P0_ROAD', 'EDGE(14, 37)_P1_ROAD', 'EDGE(14, 37)_P2_ROAD', 'EDGE(14, 37)_P3_ROAD', 'EDGE(15, 17)_P0_ROAD', 'EDGE(15, 17)_P1_ROAD', 'EDGE(15, 17)_P2_ROAD', 'EDGE(15, 17)_P3_ROAD', 'EDGE(16, 18)_P0_ROAD', 'EDGE(16, 18)_P1_ROAD', 'EDGE(16, 18)_P2_ROAD', 'EDGE(16, 18)_P3_ROAD', 'EDGE(16, 21)_P0_ROAD', 'EDGE(16, 21)_P1_ROAD', 'EDGE(16, 21)_P2_ROAD', 'EDGE(16, 21)_P3_ROAD', 'EDGE(17, 18)_P0_ROAD', 'EDGE(17, 18)_P1_ROAD', 'EDGE(17, 18)_P2_ROAD', 'EDGE(17, 18)_P3_ROAD', 'EDGE(17, 39)_P0_ROAD', 'EDGE(17, 39)_P1_ROAD', 'EDGE(17, 39)_P2_ROAD', 'EDGE(17, 39)_P3_ROAD', 'EDGE(18, 40)_P0_ROAD', 'EDGE(18, 40)_P1_ROAD', 'EDGE(18, 40)_P2_ROAD', 'EDGE(18, 40)_P3_ROAD', 'EDGE(19, 20)_P0_ROAD', 'EDGE(19, 20)_P1_ROAD', 'EDGE(19, 20)_P2_ROAD', 'EDGE(19, 20)_P3_ROAD', 'EDGE(19, 21)_P0_ROAD', 'EDGE(19, 21)_P1_ROAD', 'EDGE(19, 21)_P2_ROAD', 'EDGE(19, 21)_P3_ROAD', 'EDGE(19, 46)_P0_ROAD', 'EDGE(19, 46)_P1_ROAD', 'EDGE(19, 46)_P2_ROAD', 'EDGE(19, 46)_P3_ROAD', 'EDGE(2, 3)_P0_ROAD', 'EDGE(2, 3)_P1_ROAD', 'EDGE(2, 3)_P2_ROAD', 'EDGE(2, 3)_P3_ROAD', 'EDGE(2, 9)_P0_ROAD', 'EDGE(2, 9)_P1_ROAD', 'EDGE(2, 9)_P2_ROAD', 'EDGE(2, 9)_P3_ROAD', 'EDGE(20, 22)_P0_ROAD', 'EDGE(20, 22)_P1_ROAD', 'EDGE(20, 22)_P2_ROAD', 'EDGE(20, 22)_P3_ROAD', 'EDGE(21, 43)_P0_ROAD', 'EDGE(21, 43)_P1_ROAD', 'EDGE(21, 43)_P2_ROAD', 'EDGE(21, 43)_P3_ROAD', 'EDGE(22, 23)_P0_ROAD', 'EDGE(22, 23)_P1_ROAD', 'EDGE(22, 23)_P2_ROAD', 'EDGE(22, 23)_P3_ROAD', 'EDGE(22, 49)_P0_ROAD', 'EDGE(22, 49)_P1_ROAD', 'EDGE(22, 49)_P2_ROAD', 'EDGE(22, 49)_P3_ROAD', 'EDGE(23, 52)_P0_ROAD', 'EDGE(23, 52)_P1_ROAD', 'EDGE(23, 52)_P2_ROAD', 'EDGE(23, 52)_P3_ROAD', 'EDGE(24, 25)_P0_ROAD', 'EDGE(24, 25)_P1_ROAD', 'EDGE(24, 25)_P2_ROAD', 'EDGE(24, 25)_P3_ROAD', 'EDGE(24, 53)_P0_ROAD', 'EDGE(24, 53)_P1_ROAD', 'EDGE(24, 53)_P2_ROAD', 'EDGE(24, 53)_P3_ROAD', 'EDGE(25, 26)_P0_ROAD', 'EDGE(25, 26)_P1_ROAD', 'EDGE(25, 26)_P2_ROAD', 'EDGE(25, 26)_P3_ROAD', 'EDGE(26, 27)_P0_ROAD', 'EDGE(26, 27)_P1_ROAD', 'EDGE(26, 27)_P2_ROAD', 'EDGE(26, 27)_P3_ROAD', 'EDGE(27, 28)_P0_ROAD', 'EDGE(27, 28)_P1_ROAD', 'EDGE(27, 28)_P2_ROAD', 'EDGE(27, 28)_P3_ROAD', 'EDGE(28, 29)_P0_ROAD', 'EDGE(28, 29)_P1_ROAD', 'EDGE(28, 29)_P2_ROAD', 'EDGE(28, 29)_P3_ROAD', 'EDGE(29, 30)_P0_ROAD', 'EDGE(29, 30)_P1_ROAD', 'EDGE(29, 30)_P2_ROAD', 'EDGE(29, 30)_P3_ROAD', 'EDGE(3, 12)_P0_ROAD', 'EDGE(3, 12)_P1_ROAD', 'EDGE(3, 12)_P2_ROAD', 'EDGE(3, 12)_P3_ROAD', 'EDGE(3, 4)_P0_ROAD', 'EDGE(3, 4)_P1_ROAD', 'EDGE(3, 4)_P2_ROAD', 'EDGE(3, 4)_P3_ROAD', 'EDGE(30, 31)_P0_ROAD', 'EDGE(30, 31)_P1_ROAD', 'EDGE(30, 31)_P2_ROAD', 'EDGE(30, 31)_P3_ROAD', 'EDGE(31, 32)_P0_ROAD', 'EDGE(31, 32)_P1_ROAD', 'EDGE(31, 32)_P2_ROAD', 'EDGE(31, 32)_P3_ROAD', 'EDGE(32, 33)_P0_ROAD', 'EDGE(32, 33)_P1_ROAD', 'EDGE(32, 33)_P2_ROAD', 'EDGE(32, 33)_P3_ROAD', 'EDGE(33, 34)_P0_ROAD', 'EDGE(33, 34)_P1_ROAD', 'EDGE(33, 34)_P2_ROAD', 'EDGE(33, 34)_P3_ROAD', 'EDGE(34, 35)_P0_ROAD', 'EDGE(34, 35)_P1_ROAD', 'EDGE(34, 35)_P2_ROAD', 'EDGE(34, 35)_P3_ROAD', 'EDGE(35, 36)_P0_ROAD', 'EDGE(35, 36)_P1_ROAD', 'EDGE(35, 36)_P2_ROAD', 'EDGE(35, 36)_P3_ROAD', 'EDGE(36, 37)_P0_ROAD', 'EDGE(36, 37)_P1_ROAD', 'EDGE(36, 37)_P2_ROAD', 'EDGE(36, 37)_P3_ROAD', 'EDGE(37, 38)_P0_ROAD', 'EDGE(37, 38)_P1_ROAD', 'EDGE(37, 38)_P2_ROAD', 'EDGE(37, 38)_P3_ROAD', 'EDGE(38, 39)_P0_ROAD', 'EDGE(38, 39)_P1_ROAD', 'EDGE(38, 39)_P2_ROAD', 'EDGE(38, 39)_P3_ROAD', 'EDGE(39, 41)_P0_ROAD', 'EDGE(39, 41)_P1_ROAD', 'EDGE(39, 41)_P2_ROAD', 'EDGE(39, 41)_P3_ROAD', 'EDGE(4, 15)_P0_ROAD', 'EDGE(4, 15)_P1_ROAD', 'EDGE(4, 15)_P2_ROAD', 'EDGE(4, 15)_P3_ROAD', 'EDGE(4, 5)_P0_ROAD', 'EDGE(4, 5)_P1_ROAD', 'EDGE(4, 5)_P2_ROAD', 'EDGE(4, 5)_P3_ROAD', 'EDGE(40, 42)_P0_ROAD', 'EDGE(40, 42)_P1_ROAD', 'EDGE(40, 42)_P2_ROAD', 'EDGE(40, 42)_P3_ROAD', 'EDGE(40, 44)_P0_ROAD', 'EDGE(40, 44)_P1_ROAD', 'EDGE(40, 44)_P2_ROAD', 'EDGE(40, 44)_P3_ROAD', 'EDGE(41, 42)_P0_ROAD', 'EDGE(41, 42)_P1_ROAD', 'EDGE(41, 42)_P2_ROAD', 'EDGE(41, 42)_P3_ROAD', 'EDGE(43, 44)_P0_ROAD', 'EDGE(43, 44)_P1_ROAD', 'EDGE(43, 44)_P2_ROAD', 'EDGE(43, 44)_P3_ROAD', 'EDGE(43, 47)_P0_ROAD', 'EDGE(43, 47)_P1_ROAD', 'EDGE(43, 47)_P2_ROAD', 'EDGE(43, 47)_P3_ROAD', 'EDGE(45, 46)_P0_ROAD', 'EDGE(45, 46)_P1_ROAD', 'EDGE(45, 46)_P2_ROAD', 'EDGE(45, 46)_P3_ROAD', 'EDGE(45, 47)_P0_ROAD', 'EDGE(45, 47)_P1_ROAD', 'EDGE(45, 47)_P2_ROAD', 'EDGE(45, 47)_P3_ROAD', 'EDGE(46, 48)_P0_ROAD', 'EDGE(46, 48)_P1_ROAD', 'EDGE(46, 48)_P2_ROAD', 'EDGE(46, 48)_P3_ROAD', 'EDGE(48, 49)_P0_ROAD', 'EDGE(48, 49)_P1_ROAD', 'EDGE(48, 49)_P2_ROAD', 'EDGE(48, 49)_P3_ROAD', 'EDGE(49, 50)_P0_ROAD', 'EDGE(49, 50)_P1_ROAD', 'EDGE(49, 50)_P2_ROAD', 'EDGE(49, 50)_P3_ROAD', 'EDGE(5, 16)_P0_ROAD', 'EDGE(5, 16)_P1_ROAD', 'EDGE(5, 16)_P2_ROAD', 'EDGE(5, 16)_P3_ROAD', 'EDGE(50, 51)_P0_ROAD', 'EDGE(50, 51)_P1_ROAD', 'EDGE(50, 51)_P2_ROAD', 'EDGE(50, 51)_P3_ROAD', 'EDGE(51, 52)_P0_ROAD', 'EDGE(51, 52)_P1_ROAD', 'EDGE(51, 52)_P2_ROAD', 'EDGE(51, 52)_P3_ROAD', 'EDGE(52, 53)_P0_ROAD', 'EDGE(52, 53)_P1_ROAD', 'EDGE(52, 53)_P2_ROAD', 'EDGE(52, 53)_P3_ROAD', 'EDGE(6, 23)_P0_ROAD', 'EDGE(6, 23)_P1_ROAD', 'EDGE(6, 23)_P2_ROAD', 'EDGE(6, 23)_P3_ROAD', 'EDGE(6, 7)_P0_ROAD', 'EDGE(6, 7)_P1_ROAD', 'EDGE(6, 7)_P2_ROAD', 'EDGE(6, 7)_P3_ROAD', 'EDGE(7, 24)_P0_ROAD', 'EDGE(7, 24)_P1_ROAD', 'EDGE(7, 24)_P2_ROAD', 'EDGE(7, 24)_P3_ROAD', 'EDGE(7, 8)_P0_ROAD', 'EDGE(7, 8)_P1_ROAD', 'EDGE(7, 8)_P2_ROAD', 'EDGE(7, 8)_P3_ROAD', 'EDGE(8, 27)_P0_ROAD', 'EDGE(8, 27)_P1_ROAD', 'EDGE(8, 27)_P2_ROAD', 'EDGE(8, 27)_P3_ROAD', 'EDGE(8, 9)_P0_ROAD', 'EDGE(8, 9)_P1_ROAD', 'EDGE(8, 9)_P2_ROAD', 'EDGE(8, 9)_P3_ROAD', 'EDGE(9, 10)_P0_ROAD', 'EDGE(9, 10)_P1_ROAD', 'EDGE(9, 10)_P2_ROAD', 'EDGE(9, 10)_P3_ROAD', 'IS_DISCARDING', 'IS_MOVING_ROBBER', 'NODE0_P0_CITY', 'NODE0_P0_SETTLEMENT', 'NODE0_P1_CITY', 'NODE0_P1_SETTLEMENT', 'NODE0_P2_CITY', 'NODE0_P2_SETTLEMENT', 'NODE0_P3_CITY', 'NODE0_P3_SETTLEMENT', 'NODE10_P0_CITY', 'NODE10_P0_SETTLEMENT', 'NODE10_P1_CITY', 'NODE10_P1_SETTLEMENT', 'NODE10_P2_CITY', 'NODE10_P2_SETTLEMENT', 'NODE10_P3_CITY', 'NODE10_P3_SETTLEMENT', 'NODE11_P0_CITY', 'NODE11_P0_SETTLEMENT', 'NODE11_P1_CITY', 'NODE11_P1_SETTLEMENT', 'NODE11_P2_CITY', 'NODE11_P2_SETTLEMENT', 'NODE11_P3_CITY', 'NODE11_P3_SETTLEMENT', 'NODE12_P0_CITY', 'NODE12_P0_SETTLEMENT', 'NODE12_P1_CITY', 'NODE12_P1_SETTLEMENT', 'NODE12_P2_CITY', 'NODE12_P2_SETTLEMENT', 'NODE12_P3_CITY', 'NODE12_P3_SETTLEMENT', 'NODE13_P0_CITY', 'NODE13_P0_SETTLEMENT', 'NODE13_P1_CITY', 'NODE13_P1_SETTLEMENT', 'NODE13_P2_CITY', 'NODE13_P2_SETTLEMENT', 'NODE13_P3_CITY', 'NODE13_P3_SETTLEMENT', 'NODE14_P0_CITY', 'NODE14_P0_SETTLEMENT', 'NODE14_P1_CITY', 'NODE14_P1_SETTLEMENT', 'NODE14_P2_CITY', 'NODE14_P2_SETTLEMENT', 'NODE14_P3_CITY', 'NODE14_P3_SETTLEMENT', 'NODE15_P0_CITY', 'NODE15_P0_SETTLEMENT', 'NODE15_P1_CITY', 'NODE15_P1_SETTLEMENT', 'NODE15_P2_CITY', 'NODE15_P2_SETTLEMENT', 'NODE15_P3_CITY', 'NODE15_P3_SETTLEMENT', 'NODE16_P0_CITY', 'NODE16_P0_SETTLEMENT', 'NODE16_P1_CITY', 'NODE16_P1_SETTLEMENT', 'NODE16_P2_CITY', 'NODE16_P2_SETTLEMENT', 'NODE16_P3_CITY', 'NODE16_P3_SETTLEMENT', 'NODE17_P0_CITY', 'NODE17_P0_SETTLEMENT', 'NODE17_P1_CITY', 'NODE17_P1_SETTLEMENT', 'NODE17_P2_CITY', 'NODE17_P2_SETTLEMENT', 'NODE17_P3_CITY', 'NODE17_P3_SETTLEMENT', 'NODE18_P0_CITY', 'NODE18_P0_SETTLEMENT', 'NODE18_P1_CITY', 'NODE18_P1_SETTLEMENT', 'NODE18_P2_CITY', 'NODE18_P2_SETTLEMENT', 'NODE18_P3_CITY', 'NODE18_P3_SETTLEMENT', 'NODE19_P0_CITY', 'NODE19_P0_SETTLEMENT', 'NODE19_P1_CITY', 'NODE19_P1_SETTLEMENT', 'NODE19_P2_CITY', 'NODE19_P2_SETTLEMENT', 'NODE19_P3_CITY', 'NODE19_P3_SETTLEMENT', 'NODE1_P0_CITY', 'NODE1_P0_SETTLEMENT', 'NODE1_P1_CITY', 'NODE1_P1_SETTLEMENT', 'NODE1_P2_CITY', 'NODE1_P2_SETTLEMENT', 'NODE1_P3_CITY', 'NODE1_P3_SETTLEMENT', 'NODE20_P0_CITY', 'NODE20_P0_SETTLEMENT', 'NODE20_P1_CITY', 'NODE20_P1_SETTLEMENT', 'NODE20_P2_CITY', 'NODE20_P2_SETTLEMENT', 'NODE20_P3_CITY', 'NODE20_P3_SETTLEMENT', 'NODE21_P0_CITY', 'NODE21_P0_SETTLEMENT', 'NODE21_P1_CITY', 'NODE21_P1_SETTLEMENT', 'NODE21_P2_CITY', 'NODE21_P2_SETTLEMENT', 'NODE21_P3_CITY', 'NODE21_P3_SETTLEMENT', 'NODE22_P0_CITY', 'NODE22_P0_SETTLEMENT', 'NODE22_P1_CITY', 'NODE22_P1_SETTLEMENT', 'NODE22_P2_CITY', 'NODE22_P2_SETTLEMENT', 'NODE22_P3_CITY', 'NODE22_P3_SETTLEMENT', 'NODE23_P0_CITY', 'NODE23_P0_SETTLEMENT', 'NODE23_P1_CITY', 'NODE23_P1_SETTLEMENT', 'NODE23_P2_CITY', 'NODE23_P2_SETTLEMENT', 'NODE23_P3_CITY', 'NODE23_P3_SETTLEMENT', 'NODE24_P0_CITY', 'NODE24_P0_SETTLEMENT', 'NODE24_P1_CITY', 'NODE24_P1_SETTLEMENT', 'NODE24_P2_CITY', 'NODE24_P2_SETTLEMENT', 'NODE24_P3_CITY', 'NODE24_P3_SETTLEMENT', 'NODE25_P0_CITY', 'NODE25_P0_SETTLEMENT', 'NODE25_P1_CITY', 'NODE25_P1_SETTLEMENT', 'NODE25_P2_CITY', 'NODE25_P2_SETTLEMENT', 'NODE25_P3_CITY', 'NODE25_P3_SETTLEMENT', 'NODE26_P0_CITY', 'NODE26_P0_SETTLEMENT', 'NODE26_P1_CITY', 'NODE26_P1_SETTLEMENT', 'NODE26_P2_CITY', 'NODE26_P2_SETTLEMENT', 'NODE26_P3_CITY', 'NODE26_P3_SETTLEMENT', 'NODE27_P0_CITY', 'NODE27_P0_SETTLEMENT', 'NODE27_P1_CITY', 'NODE27_P1_SETTLEMENT', 'NODE27_P2_CITY', 'NODE27_P2_SETTLEMENT', 'NODE27_P3_CITY', 'NODE27_P3_SETTLEMENT', 'NODE28_P0_CITY', 'NODE28_P0_SETTLEMENT', 'NODE28_P1_CITY', 'NODE28_P1_SETTLEMENT', 'NODE28_P2_CITY', 'NODE28_P2_SETTLEMENT', 'NODE28_P3_CITY', 'NODE28_P3_SETTLEMENT', 'NODE29_P0_CITY', 'NODE29_P0_SETTLEMENT', 'NODE29_P1_CITY', 'NODE29_P1_SETTLEMENT', 'NODE29_P2_CITY', 'NODE29_P2_SETTLEMENT', 'NODE29_P3_CITY', 'NODE29_P3_SETTLEMENT', 'NODE2_P0_CITY', 'NODE2_P0_SETTLEMENT', 'NODE2_P1_CITY', 'NODE2_P1_SETTLEMENT', 'NODE2_P2_CITY', 'NODE2_P2_SETTLEMENT', 'NODE2_P3_CITY', 'NODE2_P3_SETTLEMENT', 'NODE30_P0_CITY', 'NODE30_P0_SETTLEMENT', 'NODE30_P1_CITY', 'NODE30_P1_SETTLEMENT', 'NODE30_P2_CITY', 'NODE30_P2_SETTLEMENT', 'NODE30_P3_CITY', 'NODE30_P3_SETTLEMENT', 'NODE31_P0_CITY', 'NODE31_P0_SETTLEMENT', 'NODE31_P1_CITY', 'NODE31_P1_SETTLEMENT', 'NODE31_P2_CITY', 'NODE31_P2_SETTLEMENT', 'NODE31_P3_CITY', 'NODE31_P3_SETTLEMENT', 'NODE32_P0_CITY', 'NODE32_P0_SETTLEMENT', 'NODE32_P1_CITY', 'NODE32_P1_SETTLEMENT', 'NODE32_P2_CITY', 'NODE32_P2_SETTLEMENT', 'NODE32_P3_CITY', 'NODE32_P3_SETTLEMENT', 'NODE33_P0_CITY', 'NODE33_P0_SETTLEMENT', 'NODE33_P1_CITY', 'NODE33_P1_SETTLEMENT', 'NODE33_P2_CITY', 'NODE33_P2_SETTLEMENT', 'NODE33_P3_CITY', 'NODE33_P3_SETTLEMENT', 'NODE34_P0_CITY', 'NODE34_P0_SETTLEMENT', 'NODE34_P1_CITY', 'NODE34_P1_SETTLEMENT', 'NODE34_P2_CITY', 'NODE34_P2_SETTLEMENT', 'NODE34_P3_CITY', 'NODE34_P3_SETTLEMENT', 'NODE35_P0_CITY', 'NODE35_P0_SETTLEMENT', 'NODE35_P1_CITY', 'NODE35_P1_SETTLEMENT', 'NODE35_P2_CITY', 'NODE35_P2_SETTLEMENT', 'NODE35_P3_CITY', 'NODE35_P3_SETTLEMENT', 'NODE36_P0_CITY', 'NODE36_P0_SETTLEMENT', 'NODE36_P1_CITY', 'NODE36_P1_SETTLEMENT', 'NODE36_P2_CITY', 'NODE36_P2_SETTLEMENT', 'NODE36_P3_CITY', 'NODE36_P3_SETTLEMENT', 'NODE37_P0_CITY', 'NODE37_P0_SETTLEMENT', 'NODE37_P1_CITY', 'NODE37_P1_SETTLEMENT', 'NODE37_P2_CITY', 'NODE37_P2_SETTLEMENT', 'NODE37_P3_CITY', 'NODE37_P3_SETTLEMENT', 'NODE38_P0_CITY', 'NODE38_P0_SETTLEMENT', 'NODE38_P1_CITY', 'NODE38_P1_SETTLEMENT', 'NODE38_P2_CITY', 'NODE38_P2_SETTLEMENT', 'NODE38_P3_CITY', 'NODE38_P3_SETTLEMENT', 'NODE39_P0_CITY', 'NODE39_P0_SETTLEMENT', 'NODE39_P1_CITY', 'NODE39_P1_SETTLEMENT', 'NODE39_P2_CITY', 'NODE39_P2_SETTLEMENT', 'NODE39_P3_CITY', 'NODE39_P3_SETTLEMENT', 'NODE3_P0_CITY', 'NODE3_P0_SETTLEMENT', 'NODE3_P1_CITY', 'NODE3_P1_SETTLEMENT', 'NODE3_P2_CITY', 'NODE3_P2_SETTLEMENT', 'NODE3_P3_CITY', 'NODE3_P3_SETTLEMENT', 'NODE40_P0_CITY', 'NODE40_P0_SETTLEMENT', 'NODE40_P1_CITY', 'NODE40_P1_SETTLEMENT', 'NODE40_P2_CITY', 'NODE40_P2_SETTLEMENT', 'NODE40_P3_CITY', 'NODE40_P3_SETTLEMENT', 'NODE41_P0_CITY', 'NODE41_P0_SETTLEMENT', 'NODE41_P1_CITY', 'NODE41_P1_SETTLEMENT', 'NODE41_P2_CITY', 'NODE41_P2_SETTLEMENT', 'NODE41_P3_CITY', 'NODE41_P3_SETTLEMENT', 'NODE42_P0_CITY', 'NODE42_P0_SETTLEMENT', 'NODE42_P1_CITY', 'NODE42_P1_SETTLEMENT', 'NODE42_P2_CITY', 'NODE42_P2_SETTLEMENT', 'NODE42_P3_CITY', 'NODE42_P3_SETTLEMENT', 'NODE43_P0_CITY', 'NODE43_P0_SETTLEMENT', 'NODE43_P1_CITY', 'NODE43_P1_SETTLEMENT', 'NODE43_P2_CITY', 'NODE43_P2_SETTLEMENT', 'NODE43_P3_CITY', 'NODE43_P3_SETTLEMENT', 'NODE44_P0_CITY', 'NODE44_P0_SETTLEMENT', 'NODE44_P1_CITY', 'NODE44_P1_SETTLEMENT', 'NODE44_P2_CITY', 'NODE44_P2_SETTLEMENT', 'NODE44_P3_CITY', 'NODE44_P3_SETTLEMENT', 'NODE45_P0_CITY', 'NODE45_P0_SETTLEMENT', 'NODE45_P1_CITY', 'NODE45_P1_SETTLEMENT', 'NODE45_P2_CITY', 'NODE45_P2_SETTLEMENT', 'NODE45_P3_CITY', 'NODE45_P3_SETTLEMENT', 'NODE46_P0_CITY', 'NODE46_P0_SETTLEMENT', 'NODE46_P1_CITY', 'NODE46_P1_SETTLEMENT', 'NODE46_P2_CITY', 'NODE46_P2_SETTLEMENT', 'NODE46_P3_CITY', 'NODE46_P3_SETTLEMENT', 'NODE47_P0_CITY', 'NODE47_P0_SETTLEMENT', 'NODE47_P1_CITY', 'NODE47_P1_SETTLEMENT', 'NODE47_P2_CITY', 'NODE47_P2_SETTLEMENT', 'NODE47_P3_CITY', 'NODE47_P3_SETTLEMENT', 'NODE48_P0_CITY', 'NODE48_P0_SETTLEMENT', 'NODE48_P1_CITY', 'NODE48_P1_SETTLEMENT', 'NODE48_P2_CITY', 'NODE48_P2_SETTLEMENT', 'NODE48_P3_CITY', 'NODE48_P3_SETTLEMENT', 'NODE49_P0_CITY', 'NODE49_P0_SETTLEMENT', 'NODE49_P1_CITY', 'NODE49_P1_SETTLEMENT', 'NODE49_P2_CITY', 'NODE49_P2_SETTLEMENT', 'NODE49_P3_CITY', 'NODE49_P3_SETTLEMENT', 'NODE4_P0_CITY', 'NODE4_P0_SETTLEMENT', 'NODE4_P1_CITY', 'NODE4_P1_SETTLEMENT', 'NODE4_P2_CITY', 'NODE4_P2_SETTLEMENT', 'NODE4_P3_CITY', 'NODE4_P3_SETTLEMENT', 'NODE50_P0_CITY', 'NODE50_P0_SETTLEMENT', 'NODE50_P1_CITY', 'NODE50_P1_SETTLEMENT', 'NODE50_P2_CITY', 'NODE50_P2_SETTLEMENT', 'NODE50_P3_CITY', 'NODE50_P3_SETTLEMENT', 'NODE51_P0_CITY', 'NODE51_P0_SETTLEMENT', 'NODE51_P1_CITY', 'NODE51_P1_SETTLEMENT', 'NODE51_P2_CITY', 'NODE51_P2_SETTLEMENT', 'NODE51_P3_CITY', 'NODE51_P3_SETTLEMENT', 'NODE52_P0_CITY', 'NODE52_P0_SETTLEMENT', 'NODE52_P1_CITY', 'NODE52_P1_SETTLEMENT', 'NODE52_P2_CITY', 'NODE52_P2_SETTLEMENT', 'NODE52_P3_CITY', 'NODE52_P3_SETTLEMENT', 'NODE53_P0_CITY', 'NODE53_P0_SETTLEMENT', 'NODE53_P1_CITY', 'NODE53_P1_SETTLEMENT', 'NODE53_P2_CITY', 'NODE53_P2_SETTLEMENT', 'NODE53_P3_CITY', 'NODE53_P3_SETTLEMENT', 'NODE5_P0_CITY', 'NODE5_P0_SETTLEMENT', 'NODE5_P1_CITY', 'NODE5_P1_SETTLEMENT', 'NODE5_P2_CITY', 'NODE5_P2_SETTLEMENT', 'NODE5_P3_CITY', 'NODE5_P3_SETTLEMENT', 'NODE6_P0_CITY', 'NODE6_P0_SETTLEMENT', 'NODE6_P1_CITY', 'NODE6_P1_SETTLEMENT', 'NODE6_P2_CITY', 'NODE6_P2_SETTLEMENT', 'NODE6_P3_CITY', 'NODE6_P3_SETTLEMENT', 'NODE7_P0_CITY', 'NODE7_P0_SETTLEMENT', 'NODE7_P1_CITY', 'NODE7_P1_SETTLEMENT', 'NODE7_P2_CITY', 'NODE7_P2_SETTLEMENT', 'NODE7_P3_CITY', 'NODE7_P3_SETTLEMENT', 'NODE8_P0_CITY', 'NODE8_P0_SETTLEMENT', 'NODE8_P1_CITY', 'NODE8_P1_SETTLEMENT', 'NODE8_P2_CITY', 'NODE8_P2_SETTLEMENT', 'NODE8_P3_CITY', 'NODE8_P3_SETTLEMENT', 'NODE9_P0_CITY', 'NODE9_P0_SETTLEMENT', 'NODE9_P1_CITY', 'NODE9_P1_SETTLEMENT', 'NODE9_P2_CITY', 'NODE9_P2_SETTLEMENT', 'NODE9_P3_CITY', 'NODE9_P3_SETTLEMENT', 'P0_ACTUAL_VPS', 'P0_BRICK_IN_HAND', 'P0_CITIES_LEFT', 'P0_HAS_ARMY', 'P0_HAS_PLAYED_DEVELOPMENT_CARD_IN_TURN', 'P0_HAS_ROAD', 'P0_HAS_ROLLED', 'P0_KNIGHT_IN_HAND', 'P0_KNIGHT_PLAYED', 'P0_LONGEST_ROAD_LENGTH', 'P0_MONOPOLY_IN_HAND', 'P0_MONOPOLY_PLAYED', 'P0_NUM_DEVS_IN_HAND', 'P0_NUM_RESOURCES_IN_HAND', 'P0_ORE_IN_HAND', 'P0_PUBLIC_VPS', 'P0_ROADS_LEFT', 'P0_ROAD_BUILDING_IN_HAND', 'P0_ROAD_BUILDING_PLAYED', 'P0_SETTLEMENTS_LEFT', 'P0_SHEEP_IN_HAND', 'P0_VICTORY_POINT_IN_HAND', 'P0_WHEAT_IN_HAND', 'P0_WOOD_IN_HAND', 'P0_YEAR_OF_PLENTY_IN_HAND', 'P0_YEAR_OF_PLENTY_PLAYED', 'P1_CITIES_LEFT', 'P1_HAS_ARMY', 'P1_HAS_ROAD', 'P1_HAS_ROLLED', 'P1_KNIGHT_PLAYED', 'P1_LONGEST_ROAD_LENGTH', 'P1_MONOPOLY_PLAYED', 'P1_NUM_DEVS_IN_HAND', 'P1_NUM_RESOURCES_IN_HAND', 'P1_PUBLIC_VPS', 'P1_ROADS_LEFT', 'P1_ROAD_BUILDING_PLAYED', 'P1_SETTLEMENTS_LEFT', 'P1_YEAR_OF_PLENTY_PLAYED', 'P2_CITIES_LEFT', 'P2_HAS_ARMY', 'P2_HAS_ROAD', 'P2_HAS_ROLLED', 'P2_KNIGHT_PLAYED', 'P2_LONGEST_ROAD_LENGTH', 'P2_MONOPOLY_PLAYED', 'P2_NUM_DEVS_IN_HAND', 'P2_NUM_RESOURCES_IN_HAND', 'P2_PUBLIC_VPS', 'P2_ROADS_LEFT', 'P2_ROAD_BUILDING_PLAYED', 'P2_SETTLEMENTS_LEFT', 'P2_YEAR_OF_PLENTY_PLAYED', 'P3_CITIES_LEFT', 'P3_HAS_ARMY', 'P3_HAS_ROAD', 'P3_HAS_ROLLED', 'P3_KNIGHT_PLAYED', 'P3_LONGEST_ROAD_LENGTH', 'P3_MONOPOLY_PLAYED', 'P3_NUM_DEVS_IN_HAND', 'P3_NUM_RESOURCES_IN_HAND', 'P3_PUBLIC_VPS', 'P3_ROADS_LEFT', 'P3_ROAD_BUILDING_PLAYED', 'P3_SETTLEMENTS_LEFT', 'P3_YEAR_OF_PLENTY_PLAYED', 'PORT0_IS_BRICK', 'PORT0_IS_ORE', 'PORT0_IS_SHEEP', 'PORT0_IS_THREE_TO_ONE', 'PORT0_IS_WHEAT', 'PORT0_IS_WOOD', 'PORT1_IS_BRICK', 'PORT1_IS_ORE', 'PORT1_IS_SHEEP', 'PORT1_IS_THREE_TO_ONE', 'PORT1_IS_WHEAT', 'PORT1_IS_WOOD', 'PORT2_IS_BRICK', 'PORT2_IS_ORE', 'PORT2_IS_SHEEP', 'PORT2_IS_THREE_TO_ONE', 'PORT2_IS_WHEAT', 'PORT2_IS_WOOD', 'PORT3_IS_BRICK', 'PORT3_IS_ORE', 'PORT3_IS_SHEEP', 'PORT3_IS_THREE_TO_ONE', 'PORT3_IS_WHEAT', 'PORT3_IS_WOOD', 'PORT4_IS_BRICK', 'PORT4_IS_ORE', 'PORT4_IS_SHEEP', 'PORT4_IS_THREE_TO_ONE', 'PORT4_IS_WHEAT', 'PORT4_IS_WOOD', 'PORT5_IS_BRICK', 'PORT5_IS_ORE', 'PORT5_IS_SHEEP', 'PORT5_IS_THREE_TO_ONE', 'PORT5_IS_WHEAT', 'PORT5_IS_WOOD', 'PORT6_IS_BRICK', 'PORT6_IS_ORE', 'PORT6_IS_SHEEP', 'PORT6_IS_THREE_TO_ONE', 'PORT6_IS_WHEAT', 'PORT6_IS_WOOD', 'PORT7_IS_BRICK', 'PORT7_IS_ORE', 'PORT7_IS_SHEEP', 'PORT7_IS_THREE_TO_ONE', 'PORT7_IS_WHEAT', 'PORT7_IS_WOOD', 'PORT8_IS_BRICK', 'PORT8_IS_ORE', 'PORT8_IS_SHEEP', 'PORT8_IS_THREE_TO_ONE', 'PORT8_IS_WHEAT', 'PORT8_IS_WOOD', 'TILE0_HAS_ROBBER', 'TILE0_IS_BRICK', 'TILE0_IS_DESERT', 'TILE0_IS_ORE', 'TILE0_IS_SHEEP', 'TILE0_IS_WHEAT', 'TILE0_IS_WOOD', 'TILE0_PROBA', 'TILE10_HAS_ROBBER', 'TILE10_IS_BRICK', 'TILE10_IS_DESERT', 'TILE10_IS_ORE', 'TILE10_IS_SHEEP', 'TILE10_IS_WHEAT', 'TILE10_IS_WOOD', 'TILE10_PROBA', 'TILE11_HAS_ROBBER', 'TILE11_IS_BRICK', 'TILE11_IS_DESERT', 'TILE11_IS_ORE', 'TILE11_IS_SHEEP', 'TILE11_IS_WHEAT', 'TILE11_IS_WOOD', 'TILE11_PROBA', 'TILE12_HAS_ROBBER', 'TILE12_IS_BRICK', 'TILE12_IS_DESERT', 'TILE12_IS_ORE', 'TILE12_IS_SHEEP', 'TILE12_IS_WHEAT', 'TILE12_IS_WOOD', 'TILE12_PROBA', 'TILE13_HAS_ROBBER', 'TILE13_IS_BRICK', 'TILE13_IS_DESERT', 'TILE13_IS_ORE', 'TILE13_IS_SHEEP', 'TILE13_IS_WHEAT', 'TILE13_IS_WOOD', 'TILE13_PROBA', 'TILE14_HAS_ROBBER', 'TILE14_IS_BRICK', 'TILE14_IS_DESERT', 'TILE14_IS_ORE', 'TILE14_IS_SHEEP', 'TILE14_IS_WHEAT', 'TILE14_IS_WOOD', 'TILE14_PROBA', 'TILE15_HAS_ROBBER', 'TILE15_IS_BRICK', 'TILE15_IS_DESERT', 'TILE15_IS_ORE', 'TILE15_IS_SHEEP', 'TILE15_IS_WHEAT', 'TILE15_IS_WOOD', 'TILE15_PROBA', 'TILE16_HAS_ROBBER', 'TILE16_IS_BRICK', 'TILE16_IS_DESERT', 'TILE16_IS_ORE', 'TILE16_IS_SHEEP', 'TILE16_IS_WHEAT', 'TILE16_IS_WOOD', 'TILE16_PROBA', 'TILE17_HAS_ROBBER', 'TILE17_IS_BRICK', 'TILE17_IS_DESERT', 'TILE17_IS_ORE', 'TILE17_IS_SHEEP', 'TILE17_IS_WHEAT', 'TILE17_IS_WOOD', 'TILE17_PROBA', 'TILE18_HAS_ROBBER', 'TILE18_IS_BRICK', 'TILE18_IS_DESERT', 'TILE18_IS_ORE', 'TILE18_IS_SHEEP', 'TILE18_IS_WHEAT', 'TILE18_IS_WOOD', 'TILE18_PROBA', 'TILE1_HAS_ROBBER', 'TILE1_IS_BRICK', 'TILE1_IS_DESERT', 'TILE1_IS_ORE', 'TILE1_IS_SHEEP', 'TILE1_IS_WHEAT', 'TILE1_IS_WOOD', 'TILE1_PROBA', 'TILE2_HAS_ROBBER', 'TILE2_IS_BRICK', 'TILE2_IS_DESERT', 'TILE2_IS_ORE', 'TILE2_IS_SHEEP', 'TILE2_IS_WHEAT', 'TILE2_IS_WOOD', 'TILE2_PROBA', 'TILE3_HAS_ROBBER', 'TILE3_IS_BRICK', 'TILE3_IS_DESERT', 'TILE3_IS_ORE', 'TILE3_IS_SHEEP', 'TILE3_IS_WHEAT', 'TILE3_IS_WOOD', 'TILE3_PROBA', 'TILE4_HAS_ROBBER', 'TILE4_IS_BRICK', 'TILE4_IS_DESERT', 'TILE4_IS_ORE', 'TILE4_IS_SHEEP', 'TILE4_IS_WHEAT', 'TILE4_IS_WOOD', 'TILE4_PROBA', 'TILE5_HAS_ROBBER', 'TILE5_IS_BRICK', 'TILE5_IS_DESERT', 'TILE5_IS_ORE', 'TILE5_IS_SHEEP', 'TILE5_IS_WHEAT', 'TILE5_IS_WOOD', 'TILE5_PROBA', 'TILE6_HAS_ROBBER', 'TILE6_IS_BRICK', 'TILE6_IS_DESERT', 'TILE6_IS_ORE', 'TILE6_IS_SHEEP', 'TILE6_IS_WHEAT', 'TILE6_IS_WOOD', 'TILE6_PROBA', 'TILE7_HAS_ROBBER', 'TILE7_IS_BRICK', 'TILE7_IS_DESERT', 'TILE7_IS_ORE', 'TILE7_IS_SHEEP', 'TILE7_IS_WHEAT', 'TILE7_IS_WOOD', 'TILE7_PROBA', 'TILE8_HAS_ROBBER', 'TILE8_IS_BRICK', 'TILE8_IS_DESERT', 'TILE8_IS_ORE', 'TILE8_IS_SHEEP', 'TILE8_IS_WHEAT', 'TILE8_IS_WOOD', 'TILE8_PROBA', 'TILE9_HAS_ROBBER', 'TILE9_IS_BRICK', 'TILE9_IS_DESERT', 'TILE9_IS_ORE', 'TILE9_IS_SHEEP', 'TILE9_IS_WHEAT', 'TILE9_IS_WOOD', 'TILE9_PROBA']\n"
     ]
    }
   ],
   "source": [
    "from catanatron_gym.features import (\n",
    "    create_sample_vector,\n",
    "    get_feature_ordering,\n",
    ")\n",
    "print(get_feature_ordering())"
   ]
  },
  {
   "cell_type": "code",
   "execution_count": 4,
   "id": "3d2b9474",
   "metadata": {},
   "outputs": [
    {
     "name": "stdout",
     "output_type": "stream",
     "text": [
      "Loaded model with epsilon = 0.4016\n"
     ]
    },
    {
     "name": "stderr",
     "output_type": "stream",
     "text": [
      "c:\\Users\\SAM\\CODE\\catan_atron\\catanatron\\catanatron_experimental\\catanatron_experimental\\machine_learning\\players\\apl_beta_dqn.py:76: FutureWarning: You are using `torch.load` with `weights_only=False` (the current default value), which uses the default pickle module implicitly. It is possible to construct malicious pickle data which will execute arbitrary code during unpickling (See https://github.com/pytorch/pytorch/blob/main/SECURITY.md#untrusted-models for more details). In a future release, the default value for `weights_only` will be flipped to `True`. This limits the functions that could be executed during unpickling. Arbitrary objects will no longer be allowed to be loaded via this mode unless they are explicitly allowlisted by the user via `torch.serialization.add_safe_globals`. We recommend you start setting `weights_only=True` for any use case where you don't have full control of the loaded file. Please open an issue on GitHub for any issues related to this experimental feature.\n",
      "  checkpoint = torch.load(MODEL_PATH + \".pt\", map_location=device)\n"
     ]
    },
    {
     "name": "stdout",
     "output_type": "stream",
     "text": [
      "Loaded replay buffer with 1935 transitions\n"
     ]
    }
   ],
   "source": [
    "\n",
    "\n",
    "# Play a simple 4v4 game. Edit MyPlayer with your logic!\n",
    "players = [\n",
    "\n",
    "    RandomPlayer(Color.WHITE), #RandomPlayer, AlphaBetaPlayer\n",
    "    RandomPlayer(Color.ORANGE),\n",
    "    AB_DQNPlayer_1(Color.RED),\n",
    "    WeightedRandomPlayer(Color.BLUE),\n",
    "]\n"
   ]
  },
  {
   "cell_type": "code",
   "execution_count": 5,
   "id": "7abd61fb",
   "metadata": {},
   "outputs": [
    {
     "name": "stdout",
     "output_type": "stream",
     "text": [
      "Color.BLUE\n"
     ]
    }
   ],
   "source": [
    "game = Game(players)\n",
    "print(game.play())  # returns winning color"
   ]
  },
  {
   "cell_type": "markdown",
   "id": "cd529f61-6de7-4de1-8e0c-273db6a2de9f",
   "metadata": {},
   "source": [
    "You can also simulate thousands of games to get more statistically significant results:"
   ]
  },
  {
   "cell_type": "code",
   "execution_count": 6,
   "id": "e06b3b9c-aa9c-4ec3-9b05-74c5d389d766",
   "metadata": {},
   "outputs": [
    {
     "data": {
      "text/html": [
       "<pre style=\"white-space:pre;overflow-x:auto;line-height:normal;font-family:Menlo,'DejaVu Sans Mono',consolas,'Courier New',monospace\">c:\\Users\\SAM\\anaconda3\\envs\\catan311\\Lib\\site-packages\\rich\\live.py:231: UserWarning: install \"ipywidgets\" for \n",
       "Jupyter support\n",
       "  warnings.warn('install \"ipywidgets\" for Jupyter support')\n",
       "</pre>\n"
      ],
      "text/plain": [
       "c:\\Users\\SAM\\anaconda3\\envs\\catan311\\Lib\\site-packages\\rich\\live.py:231: UserWarning: install \"ipywidgets\" for \n",
       "Jupyter support\n",
       "  warnings.warn('install \"ipywidgets\" for Jupyter support')\n"
      ]
     },
     "metadata": {},
     "output_type": "display_data"
    },
    {
     "name": "stdout",
     "output_type": "stream",
     "text": [
      "Loaded replay buffer with 2766 transitions\n"
     ]
    },
    {
     "data": {
      "text/html": [
       "<pre style=\"white-space:pre;overflow-x:auto;line-height:normal;font-family:Menlo,'DejaVu Sans Mono',consolas,'Courier New',monospace\"></pre>\n"
      ],
      "text/plain": []
     },
     "metadata": {},
     "output_type": "display_data"
    },
    {
     "data": {
      "text/html": [
       "<pre style=\"white-space:pre;overflow-x:auto;line-height:normal;font-family:Menlo,'DejaVu Sans Mono',consolas,'Courier New',monospace\">\n",
       "</pre>\n"
      ],
      "text/plain": [
       "\n"
      ]
     },
     "metadata": {},
     "output_type": "display_data"
    },
    {
     "data": {
      "text/html": [
       "<pre style=\"white-space:pre;overflow-x:auto;line-height:normal;font-family:Menlo,'DejaVu Sans Mono',consolas,'Courier New',monospace\"><span style=\"font-style: italic\">                                      Last 10 Games                                      </span>\n",
       "     ╷                       ╷       ╷        ╷          ╷         ╷           ╷         \n",
       " <span style=\"font-weight: bold\">  # </span>│<span style=\"font-weight: bold\"> SEATING               </span>│<span style=\"font-weight: bold\"> TURNS </span>│<span style=\"font-weight: bold\"> RED VP </span>│<span style=\"font-weight: bold\"> WHITE VP </span>│<span style=\"font-weight: bold\"> BLUE VP </span>│<span style=\"font-weight: bold\"> ORANGE VP </span>│<span style=\"font-weight: bold\"> WINNER </span> \n",
       "╶────┼───────────────────────┼───────┼────────┼──────────┼─────────┼───────────┼────────╴\n",
       "   1 │ <span style=\"color: #800000; text-decoration-color: #800000\">RED</span>,<span style=\"color: #808000; text-decoration-color: #808000\">ORANGE</span>,<span style=\"color: #000080; text-decoration-color: #000080\">BLUE</span>,<span style=\"color: #c0c0c0; text-decoration-color: #c0c0c0\">WHITE</span> │    67 │      2 │        2 │       2 │        11 │ <span style=\"color: #808000; text-decoration-color: #808000\">ORANGE</span>  \n",
       "   2 │ <span style=\"color: #c0c0c0; text-decoration-color: #c0c0c0\">WHITE</span>,<span style=\"color: #000080; text-decoration-color: #000080\">BLUE</span>,<span style=\"color: #808000; text-decoration-color: #808000\">ORANGE</span>,<span style=\"color: #800000; text-decoration-color: #800000\">RED</span> │    64 │      2 │        2 │       4 │        10 │ <span style=\"color: #808000; text-decoration-color: #808000\">ORANGE</span>  \n",
       "   3 │ <span style=\"color: #c0c0c0; text-decoration-color: #c0c0c0\">WHITE</span>,<span style=\"color: #000080; text-decoration-color: #000080\">BLUE</span>,<span style=\"color: #808000; text-decoration-color: #808000\">ORANGE</span>,<span style=\"color: #800000; text-decoration-color: #800000\">RED</span> │    84 │      2 │        2 │       3 │        10 │ <span style=\"color: #808000; text-decoration-color: #808000\">ORANGE</span>  \n",
       "   4 │ <span style=\"color: #800000; text-decoration-color: #800000\">RED</span>,<span style=\"color: #808000; text-decoration-color: #808000\">ORANGE</span>,<span style=\"color: #c0c0c0; text-decoration-color: #c0c0c0\">WHITE</span>,<span style=\"color: #000080; text-decoration-color: #000080\">BLUE</span> │    75 │      2 │        3 │       4 │        11 │ <span style=\"color: #808000; text-decoration-color: #808000\">ORANGE</span>  \n",
       "   5 │ <span style=\"color: #800000; text-decoration-color: #800000\">RED</span>,<span style=\"color: #000080; text-decoration-color: #000080\">BLUE</span>,<span style=\"color: #808000; text-decoration-color: #808000\">ORANGE</span>,<span style=\"color: #c0c0c0; text-decoration-color: #c0c0c0\">WHITE</span> │    48 │      2 │        2 │       3 │        10 │ <span style=\"color: #808000; text-decoration-color: #808000\">ORANGE</span>  \n",
       "   6 │ <span style=\"color: #c0c0c0; text-decoration-color: #c0c0c0\">WHITE</span>,<span style=\"color: #000080; text-decoration-color: #000080\">BLUE</span>,<span style=\"color: #808000; text-decoration-color: #808000\">ORANGE</span>,<span style=\"color: #800000; text-decoration-color: #800000\">RED</span> │    92 │      2 │        2 │       2 │        10 │ <span style=\"color: #808000; text-decoration-color: #808000\">ORANGE</span>  \n",
       "   7 │ <span style=\"color: #c0c0c0; text-decoration-color: #c0c0c0\">WHITE</span>,<span style=\"color: #808000; text-decoration-color: #808000\">ORANGE</span>,<span style=\"color: #000080; text-decoration-color: #000080\">BLUE</span>,<span style=\"color: #800000; text-decoration-color: #800000\">RED</span> │    71 │      2 │        4 │       2 │        10 │ <span style=\"color: #808000; text-decoration-color: #808000\">ORANGE</span>  \n",
       "   8 │ <span style=\"color: #800000; text-decoration-color: #800000\">RED</span>,<span style=\"color: #808000; text-decoration-color: #808000\">ORANGE</span>,<span style=\"color: #c0c0c0; text-decoration-color: #c0c0c0\">WHITE</span>,<span style=\"color: #000080; text-decoration-color: #000080\">BLUE</span> │    87 │      2 │        6 │       3 │        10 │ <span style=\"color: #808000; text-decoration-color: #808000\">ORANGE</span>  \n",
       "   9 │ <span style=\"color: #000080; text-decoration-color: #000080\">BLUE</span>,<span style=\"color: #808000; text-decoration-color: #808000\">ORANGE</span>,<span style=\"color: #c0c0c0; text-decoration-color: #c0c0c0\">WHITE</span>,<span style=\"color: #800000; text-decoration-color: #800000\">RED</span> │    95 │      2 │        3 │       2 │        10 │ <span style=\"color: #808000; text-decoration-color: #808000\">ORANGE</span>  \n",
       "  10 │ <span style=\"color: #000080; text-decoration-color: #000080\">BLUE</span>,<span style=\"color: #c0c0c0; text-decoration-color: #c0c0c0\">WHITE</span>,<span style=\"color: #800000; text-decoration-color: #800000\">RED</span>,<span style=\"color: #808000; text-decoration-color: #808000\">ORANGE</span> │    93 │      2 │        2 │       2 │        10 │ <span style=\"color: #808000; text-decoration-color: #808000\">ORANGE</span>  \n",
       "     ╵                       ╵       ╵        ╵          ╵         ╵           ╵         \n",
       "</pre>\n"
      ],
      "text/plain": [
       "\u001b[3m                                      Last 10 Games                                      \u001b[0m\n",
       "     ╷                       ╷       ╷        ╷          ╷         ╷           ╷         \n",
       " \u001b[1m \u001b[0m\u001b[1m #\u001b[0m\u001b[1m \u001b[0m│\u001b[1m \u001b[0m\u001b[1mSEATING              \u001b[0m\u001b[1m \u001b[0m│\u001b[1m \u001b[0m\u001b[1mTURNS\u001b[0m\u001b[1m \u001b[0m│\u001b[1m \u001b[0m\u001b[1mRED VP\u001b[0m\u001b[1m \u001b[0m│\u001b[1m \u001b[0m\u001b[1mWHITE VP\u001b[0m\u001b[1m \u001b[0m│\u001b[1m \u001b[0m\u001b[1mBLUE VP\u001b[0m\u001b[1m \u001b[0m│\u001b[1m \u001b[0m\u001b[1mORANGE VP\u001b[0m\u001b[1m \u001b[0m│\u001b[1m \u001b[0m\u001b[1mWINNER\u001b[0m\u001b[1m \u001b[0m \n",
       "╶────┼───────────────────────┼───────┼────────┼──────────┼─────────┼───────────┼────────╴\n",
       "   1 │ \u001b[31mRED\u001b[0m,\u001b[33mORANGE\u001b[0m,\u001b[34mBLUE\u001b[0m,\u001b[37mWHITE\u001b[0m │    67 │      2 │        2 │       2 │        11 │ \u001b[33mORANGE\u001b[0m  \n",
       "   2 │ \u001b[37mWHITE\u001b[0m,\u001b[34mBLUE\u001b[0m,\u001b[33mORANGE\u001b[0m,\u001b[31mRED\u001b[0m │    64 │      2 │        2 │       4 │        10 │ \u001b[33mORANGE\u001b[0m  \n",
       "   3 │ \u001b[37mWHITE\u001b[0m,\u001b[34mBLUE\u001b[0m,\u001b[33mORANGE\u001b[0m,\u001b[31mRED\u001b[0m │    84 │      2 │        2 │       3 │        10 │ \u001b[33mORANGE\u001b[0m  \n",
       "   4 │ \u001b[31mRED\u001b[0m,\u001b[33mORANGE\u001b[0m,\u001b[37mWHITE\u001b[0m,\u001b[34mBLUE\u001b[0m │    75 │      2 │        3 │       4 │        11 │ \u001b[33mORANGE\u001b[0m  \n",
       "   5 │ \u001b[31mRED\u001b[0m,\u001b[34mBLUE\u001b[0m,\u001b[33mORANGE\u001b[0m,\u001b[37mWHITE\u001b[0m │    48 │      2 │        2 │       3 │        10 │ \u001b[33mORANGE\u001b[0m  \n",
       "   6 │ \u001b[37mWHITE\u001b[0m,\u001b[34mBLUE\u001b[0m,\u001b[33mORANGE\u001b[0m,\u001b[31mRED\u001b[0m │    92 │      2 │        2 │       2 │        10 │ \u001b[33mORANGE\u001b[0m  \n",
       "   7 │ \u001b[37mWHITE\u001b[0m,\u001b[33mORANGE\u001b[0m,\u001b[34mBLUE\u001b[0m,\u001b[31mRED\u001b[0m │    71 │      2 │        4 │       2 │        10 │ \u001b[33mORANGE\u001b[0m  \n",
       "   8 │ \u001b[31mRED\u001b[0m,\u001b[33mORANGE\u001b[0m,\u001b[37mWHITE\u001b[0m,\u001b[34mBLUE\u001b[0m │    87 │      2 │        6 │       3 │        10 │ \u001b[33mORANGE\u001b[0m  \n",
       "   9 │ \u001b[34mBLUE\u001b[0m,\u001b[33mORANGE\u001b[0m,\u001b[37mWHITE\u001b[0m,\u001b[31mRED\u001b[0m │    95 │      2 │        3 │       2 │        10 │ \u001b[33mORANGE\u001b[0m  \n",
       "  10 │ \u001b[34mBLUE\u001b[0m,\u001b[37mWHITE\u001b[0m,\u001b[31mRED\u001b[0m,\u001b[33mORANGE\u001b[0m │    93 │      2 │        2 │       2 │        10 │ \u001b[33mORANGE\u001b[0m  \n",
       "     ╵                       ╵       ╵        ╵          ╵         ╵           ╵         \n"
      ]
     },
     "metadata": {},
     "output_type": "display_data"
    },
    {
     "data": {
      "text/html": [
       "<pre style=\"white-space:pre;overflow-x:auto;line-height:normal;font-family:Menlo,'DejaVu Sans Mono',consolas,'Courier New',monospace\"><span style=\"font-style: italic\">                                                  Player Summary                                                   </span>\n",
       "                                                                  ╷      ╷      ╷      ╷      ╷      ╷      ╷      \n",
       " <span style=\"font-weight: bold\">                                                                 </span>│<span style=\"font-weight: bold\">      </span>│<span style=\"font-weight: bold\">      </span>│<span style=\"font-weight: bold\">      </span>│<span style=\"font-weight: bold\">      </span>│<span style=\"font-weight: bold\">      </span>│<span style=\"font-weight: bold\">      </span>│<span style=\"font-weight: bold\"> AVG </span> \n",
       " <span style=\"font-weight: bold\">                                                                 </span>│<span style=\"font-weight: bold\">      </span>│<span style=\"font-weight: bold\">  AVG </span>│<span style=\"font-weight: bold\">  AVG </span>│<span style=\"font-weight: bold\">  AVG </span>│<span style=\"font-weight: bold\">  AVG </span>│<span style=\"font-weight: bold\">  AVG </span>│<span style=\"font-weight: bold\"> DEV </span> \n",
       " <span style=\"font-weight: bold\">                                                                 </span>│<span style=\"font-weight: bold\"> WINS </span>│<span style=\"font-weight: bold\">   VP </span>│<span style=\"font-weight: bold\"> SET… </span>│<span style=\"font-weight: bold\"> CIT… </span>│<span style=\"font-weight: bold\"> ROAD </span>│<span style=\"font-weight: bold\"> ARMY </span>│<span style=\"font-weight: bold\">  VP </span> \n",
       "╶─────────────────────────────────────────────────────────────────┼──────┼──────┼──────┼──────┼──────┼──────┼─────╴\n",
       "  <span style=\"color: #800000; text-decoration-color: #800000\">AB_DQNPlayer_1:RED</span>                                              │    0 │ 2.00 │ 2.00 │ 0.00 │ 0.00 │ 0.00 │ 0.…  \n",
       "  <span style=\"color: #c0c0c0; text-decoration-color: #c0c0c0\">RandomPlayer:WHITE</span>                                              │    0 │ 2.80 │ 1.80 │ 0.20 │ 0.00 │ 0.00 │ 0.…  \n",
       "  <span style=\"color: #000080; text-decoration-color: #000080\">RandomPlayer:BLUE</span>                                               │    0 │ 2.70 │ 1.50 │ 0.50 │ 0.00 │ 0.00 │ 0.…  \n",
       "  <span style=\"color: #808000; text-decoration-color: #808000\">AlphaBetaPlayer:ORANGE(depth=2,value_fn=base_fn,prunning=False)</span> │   10 │ 10.… │ 2.60 │ 2.80 │ 1.00 │ 0.00 │ 0.…  \n",
       "                                                                  ╵      ╵      ╵      ╵      ╵      ╵      ╵      \n",
       "</pre>\n"
      ],
      "text/plain": [
       "\u001b[3m                                                  Player Summary                                                   \u001b[0m\n",
       "                                                                  ╷      ╷      ╷      ╷      ╷      ╷      ╷      \n",
       " \u001b[1m                                                                 \u001b[0m│\u001b[1m      \u001b[0m│\u001b[1m      \u001b[0m│\u001b[1m      \u001b[0m│\u001b[1m      \u001b[0m│\u001b[1m      \u001b[0m│\u001b[1m      \u001b[0m│\u001b[1m \u001b[0m\u001b[1mAVG\u001b[0m\u001b[1m \u001b[0m \n",
       " \u001b[1m                                                                 \u001b[0m│\u001b[1m      \u001b[0m│\u001b[1m \u001b[0m\u001b[1m AVG\u001b[0m\u001b[1m \u001b[0m│\u001b[1m \u001b[0m\u001b[1m AVG\u001b[0m\u001b[1m \u001b[0m│\u001b[1m \u001b[0m\u001b[1m AVG\u001b[0m\u001b[1m \u001b[0m│\u001b[1m \u001b[0m\u001b[1m AVG\u001b[0m\u001b[1m \u001b[0m│\u001b[1m \u001b[0m\u001b[1m AVG\u001b[0m\u001b[1m \u001b[0m│\u001b[1m \u001b[0m\u001b[1mDEV\u001b[0m\u001b[1m \u001b[0m \n",
       " \u001b[1m \u001b[0m\u001b[1m                                                               \u001b[0m\u001b[1m \u001b[0m│\u001b[1m \u001b[0m\u001b[1mWINS\u001b[0m\u001b[1m \u001b[0m│\u001b[1m \u001b[0m\u001b[1m  VP\u001b[0m\u001b[1m \u001b[0m│\u001b[1m \u001b[0m\u001b[1mSET…\u001b[0m\u001b[1m \u001b[0m│\u001b[1m \u001b[0m\u001b[1mCIT…\u001b[0m\u001b[1m \u001b[0m│\u001b[1m \u001b[0m\u001b[1mROAD\u001b[0m\u001b[1m \u001b[0m│\u001b[1m \u001b[0m\u001b[1mARMY\u001b[0m\u001b[1m \u001b[0m│\u001b[1m \u001b[0m\u001b[1m VP\u001b[0m\u001b[1m \u001b[0m \n",
       "╶─────────────────────────────────────────────────────────────────┼──────┼──────┼──────┼──────┼──────┼──────┼─────╴\n",
       "  \u001b[31mAB_DQNPlayer_1:RED\u001b[0m                                              │    0 │ 2.00 │ 2.00 │ 0.00 │ 0.00 │ 0.00 │ 0.…  \n",
       "  \u001b[37mRandomPlayer:WHITE\u001b[0m                                              │    0 │ 2.80 │ 1.80 │ 0.20 │ 0.00 │ 0.00 │ 0.…  \n",
       "  \u001b[34mRandomPlayer:BLUE\u001b[0m                                               │    0 │ 2.70 │ 1.50 │ 0.50 │ 0.00 │ 0.00 │ 0.…  \n",
       "  \u001b[33mAlphaBetaPlayer:ORANGE(depth=2,value_fn=base_fn,prunning=False)\u001b[0m │   10 │ 10.… │ 2.60 │ 2.80 │ 1.00 │ 0.00 │ 0.…  \n",
       "                                                                  ╵      ╵      ╵      ╵      ╵      ╵      ╵      \n"
      ]
     },
     "metadata": {},
     "output_type": "display_data"
    },
    {
     "data": {
      "text/html": [
       "<pre style=\"white-space:pre;overflow-x:auto;line-height:normal;font-family:Menlo,'DejaVu Sans Mono',consolas,'Courier New',monospace\"><span style=\"font-style: italic\">              Game Summary              </span>\n",
       "            ╷           ╷               \n",
       " <span style=\"font-weight: bold\"> AVG TICKS </span>│<span style=\"font-weight: bold\"> AVG TURNS </span>│<span style=\"font-weight: bold\"> AVG DURATION </span> \n",
       "╶───────────┼───────────┼──────────────╴\n",
       "     226.00 │     77.60 │   7.304 secs  \n",
       "            ╵           ╵               \n",
       "</pre>\n"
      ],
      "text/plain": [
       "\u001b[3m              Game Summary              \u001b[0m\n",
       "            ╷           ╷               \n",
       " \u001b[1m \u001b[0m\u001b[1mAVG TICKS\u001b[0m\u001b[1m \u001b[0m│\u001b[1m \u001b[0m\u001b[1mAVG TURNS\u001b[0m\u001b[1m \u001b[0m│\u001b[1m \u001b[0m\u001b[1mAVG DURATION\u001b[0m\u001b[1m \u001b[0m \n",
       "╶───────────┼───────────┼──────────────╴\n",
       "     226.00 │     77.60 │   7.304 secs  \n",
       "            ╵           ╵               \n"
      ]
     },
     "metadata": {},
     "output_type": "display_data"
    },
    {
     "name": "stdout",
     "output_type": "stream",
     "text": [
      "Loaded replay buffer with 4886 transitions\n"
     ]
    },
    {
     "data": {
      "text/html": [
       "<pre style=\"white-space:pre;overflow-x:auto;line-height:normal;font-family:Menlo,'DejaVu Sans Mono',consolas,'Courier New',monospace\"></pre>\n"
      ],
      "text/plain": []
     },
     "metadata": {},
     "output_type": "display_data"
    },
    {
     "data": {
      "text/html": [
       "<pre style=\"white-space:pre;overflow-x:auto;line-height:normal;font-family:Menlo,'DejaVu Sans Mono',consolas,'Courier New',monospace\">\n",
       "</pre>\n"
      ],
      "text/plain": [
       "\n"
      ]
     },
     "metadata": {},
     "output_type": "display_data"
    },
    {
     "data": {
      "text/html": [
       "<pre style=\"white-space:pre;overflow-x:auto;line-height:normal;font-family:Menlo,'DejaVu Sans Mono',consolas,'Courier New',monospace\"><span style=\"font-style: italic\">                                      Last 10 Games                                      </span>\n",
       "     ╷                       ╷       ╷          ╷         ╷        ╷           ╷         \n",
       " <span style=\"font-weight: bold\">  # </span>│<span style=\"font-weight: bold\"> SEATING               </span>│<span style=\"font-weight: bold\"> TURNS </span>│<span style=\"font-weight: bold\"> WHITE VP </span>│<span style=\"font-weight: bold\"> BLUE VP </span>│<span style=\"font-weight: bold\"> RED VP </span>│<span style=\"font-weight: bold\"> ORANGE VP </span>│<span style=\"font-weight: bold\"> WINNER </span> \n",
       "╶────┼───────────────────────┼───────┼──────────┼─────────┼────────┼───────────┼────────╴\n",
       "   1 │ <span style=\"color: #c0c0c0; text-decoration-color: #c0c0c0\">WHITE</span>,<span style=\"color: #800000; text-decoration-color: #800000\">RED</span>,<span style=\"color: #808000; text-decoration-color: #808000\">ORANGE</span>,<span style=\"color: #000080; text-decoration-color: #000080\">BLUE</span> │   353 │        7 │      10 │      2 │         4 │ <span style=\"color: #000080; text-decoration-color: #000080\">BLUE</span>    \n",
       "   2 │ <span style=\"color: #000080; text-decoration-color: #000080\">BLUE</span>,<span style=\"color: #800000; text-decoration-color: #800000\">RED</span>,<span style=\"color: #808000; text-decoration-color: #808000\">ORANGE</span>,<span style=\"color: #c0c0c0; text-decoration-color: #c0c0c0\">WHITE</span> │   281 │       10 │       6 │      3 │         4 │ <span style=\"color: #c0c0c0; text-decoration-color: #c0c0c0\">WHITE</span>   \n",
       "   3 │ <span style=\"color: #000080; text-decoration-color: #000080\">BLUE</span>,<span style=\"color: #800000; text-decoration-color: #800000\">RED</span>,<span style=\"color: #c0c0c0; text-decoration-color: #c0c0c0\">WHITE</span>,<span style=\"color: #808000; text-decoration-color: #808000\">ORANGE</span> │   586 │       10 │      10 │      4 │         5 │ <span style=\"color: #c0c0c0; text-decoration-color: #c0c0c0\">WHITE</span>   \n",
       "   4 │ <span style=\"color: #000080; text-decoration-color: #000080\">BLUE</span>,<span style=\"color: #c0c0c0; text-decoration-color: #c0c0c0\">WHITE</span>,<span style=\"color: #800000; text-decoration-color: #800000\">RED</span>,<span style=\"color: #808000; text-decoration-color: #808000\">ORANGE</span> │   218 │        4 │      10 │      2 │         4 │ <span style=\"color: #000080; text-decoration-color: #000080\">BLUE</span>    \n",
       "   5 │ <span style=\"color: #000080; text-decoration-color: #000080\">BLUE</span>,<span style=\"color: #808000; text-decoration-color: #808000\">ORANGE</span>,<span style=\"color: #800000; text-decoration-color: #800000\">RED</span>,<span style=\"color: #c0c0c0; text-decoration-color: #c0c0c0\">WHITE</span> │   225 │       10 │       7 │      2 │         5 │ <span style=\"color: #c0c0c0; text-decoration-color: #c0c0c0\">WHITE</span>   \n",
       "   6 │ <span style=\"color: #000080; text-decoration-color: #000080\">BLUE</span>,<span style=\"color: #808000; text-decoration-color: #808000\">ORANGE</span>,<span style=\"color: #800000; text-decoration-color: #800000\">RED</span>,<span style=\"color: #c0c0c0; text-decoration-color: #c0c0c0\">WHITE</span> │   173 │       10 │       6 │      2 │         3 │ <span style=\"color: #c0c0c0; text-decoration-color: #c0c0c0\">WHITE</span>   \n",
       "   7 │ <span style=\"color: #c0c0c0; text-decoration-color: #c0c0c0\">WHITE</span>,<span style=\"color: #808000; text-decoration-color: #808000\">ORANGE</span>,<span style=\"color: #800000; text-decoration-color: #800000\">RED</span>,<span style=\"color: #000080; text-decoration-color: #000080\">BLUE</span> │   103 │        2 │       2 │      2 │        10 │ <span style=\"color: #808000; text-decoration-color: #808000\">ORANGE</span>  \n",
       "   8 │ <span style=\"color: #000080; text-decoration-color: #000080\">BLUE</span>,<span style=\"color: #c0c0c0; text-decoration-color: #c0c0c0\">WHITE</span>,<span style=\"color: #800000; text-decoration-color: #800000\">RED</span>,<span style=\"color: #808000; text-decoration-color: #808000\">ORANGE</span> │   442 │        5 │      10 │      2 │         5 │ <span style=\"color: #000080; text-decoration-color: #000080\">BLUE</span>    \n",
       "   9 │ <span style=\"color: #c0c0c0; text-decoration-color: #c0c0c0\">WHITE</span>,<span style=\"color: #808000; text-decoration-color: #808000\">ORANGE</span>,<span style=\"color: #800000; text-decoration-color: #800000\">RED</span>,<span style=\"color: #000080; text-decoration-color: #000080\">BLUE</span> │   143 │        3 │       3 │      2 │        11 │ <span style=\"color: #808000; text-decoration-color: #808000\">ORANGE</span>  \n",
       "  10 │ <span style=\"color: #c0c0c0; text-decoration-color: #c0c0c0\">WHITE</span>,<span style=\"color: #808000; text-decoration-color: #808000\">ORANGE</span>,<span style=\"color: #800000; text-decoration-color: #800000\">RED</span>,<span style=\"color: #000080; text-decoration-color: #000080\">BLUE</span> │   219 │        5 │       2 │      3 │        10 │ <span style=\"color: #808000; text-decoration-color: #808000\">ORANGE</span>  \n",
       "     ╵                       ╵       ╵          ╵         ╵        ╵           ╵         \n",
       "</pre>\n"
      ],
      "text/plain": [
       "\u001b[3m                                      Last 10 Games                                      \u001b[0m\n",
       "     ╷                       ╷       ╷          ╷         ╷        ╷           ╷         \n",
       " \u001b[1m \u001b[0m\u001b[1m #\u001b[0m\u001b[1m \u001b[0m│\u001b[1m \u001b[0m\u001b[1mSEATING              \u001b[0m\u001b[1m \u001b[0m│\u001b[1m \u001b[0m\u001b[1mTURNS\u001b[0m\u001b[1m \u001b[0m│\u001b[1m \u001b[0m\u001b[1mWHITE VP\u001b[0m\u001b[1m \u001b[0m│\u001b[1m \u001b[0m\u001b[1mBLUE VP\u001b[0m\u001b[1m \u001b[0m│\u001b[1m \u001b[0m\u001b[1mRED VP\u001b[0m\u001b[1m \u001b[0m│\u001b[1m \u001b[0m\u001b[1mORANGE VP\u001b[0m\u001b[1m \u001b[0m│\u001b[1m \u001b[0m\u001b[1mWINNER\u001b[0m\u001b[1m \u001b[0m \n",
       "╶────┼───────────────────────┼───────┼──────────┼─────────┼────────┼───────────┼────────╴\n",
       "   1 │ \u001b[37mWHITE\u001b[0m,\u001b[31mRED\u001b[0m,\u001b[33mORANGE\u001b[0m,\u001b[34mBLUE\u001b[0m │   353 │        7 │      10 │      2 │         4 │ \u001b[34mBLUE\u001b[0m    \n",
       "   2 │ \u001b[34mBLUE\u001b[0m,\u001b[31mRED\u001b[0m,\u001b[33mORANGE\u001b[0m,\u001b[37mWHITE\u001b[0m │   281 │       10 │       6 │      3 │         4 │ \u001b[37mWHITE\u001b[0m   \n",
       "   3 │ \u001b[34mBLUE\u001b[0m,\u001b[31mRED\u001b[0m,\u001b[37mWHITE\u001b[0m,\u001b[33mORANGE\u001b[0m │   586 │       10 │      10 │      4 │         5 │ \u001b[37mWHITE\u001b[0m   \n",
       "   4 │ \u001b[34mBLUE\u001b[0m,\u001b[37mWHITE\u001b[0m,\u001b[31mRED\u001b[0m,\u001b[33mORANGE\u001b[0m │   218 │        4 │      10 │      2 │         4 │ \u001b[34mBLUE\u001b[0m    \n",
       "   5 │ \u001b[34mBLUE\u001b[0m,\u001b[33mORANGE\u001b[0m,\u001b[31mRED\u001b[0m,\u001b[37mWHITE\u001b[0m │   225 │       10 │       7 │      2 │         5 │ \u001b[37mWHITE\u001b[0m   \n",
       "   6 │ \u001b[34mBLUE\u001b[0m,\u001b[33mORANGE\u001b[0m,\u001b[31mRED\u001b[0m,\u001b[37mWHITE\u001b[0m │   173 │       10 │       6 │      2 │         3 │ \u001b[37mWHITE\u001b[0m   \n",
       "   7 │ \u001b[37mWHITE\u001b[0m,\u001b[33mORANGE\u001b[0m,\u001b[31mRED\u001b[0m,\u001b[34mBLUE\u001b[0m │   103 │        2 │       2 │      2 │        10 │ \u001b[33mORANGE\u001b[0m  \n",
       "   8 │ \u001b[34mBLUE\u001b[0m,\u001b[37mWHITE\u001b[0m,\u001b[31mRED\u001b[0m,\u001b[33mORANGE\u001b[0m │   442 │        5 │      10 │      2 │         5 │ \u001b[34mBLUE\u001b[0m    \n",
       "   9 │ \u001b[37mWHITE\u001b[0m,\u001b[33mORANGE\u001b[0m,\u001b[31mRED\u001b[0m,\u001b[34mBLUE\u001b[0m │   143 │        3 │       3 │      2 │        11 │ \u001b[33mORANGE\u001b[0m  \n",
       "  10 │ \u001b[37mWHITE\u001b[0m,\u001b[33mORANGE\u001b[0m,\u001b[31mRED\u001b[0m,\u001b[34mBLUE\u001b[0m │   219 │        5 │       2 │      3 │        10 │ \u001b[33mORANGE\u001b[0m  \n",
       "     ╵                       ╵       ╵          ╵         ╵        ╵           ╵         \n"
      ]
     },
     "metadata": {},
     "output_type": "display_data"
    },
    {
     "data": {
      "text/html": [
       "<pre style=\"white-space:pre;overflow-x:auto;line-height:normal;font-family:Menlo,'DejaVu Sans Mono',consolas,'Courier New',monospace\"><span style=\"font-style: italic\">                                               Player Summary                                                </span>\n",
       "                              ╷      ╷        ╷             ╷            ╷          ╷          ╷             \n",
       " <span style=\"font-weight: bold\">                             </span>│<span style=\"font-weight: bold\"> WINS </span>│<span style=\"font-weight: bold\"> AVG VP </span>│<span style=\"font-weight: bold\"> AVG SETTLES </span>│<span style=\"font-weight: bold\"> AVG CITIES </span>│<span style=\"font-weight: bold\"> AVG ROAD </span>│<span style=\"font-weight: bold\"> AVG ARMY </span>│<span style=\"font-weight: bold\"> AVG DEV VP </span> \n",
       "╶─────────────────────────────┼──────┼────────┼─────────────┼────────────┼──────────┼──────────┼────────────╴\n",
       "  <span style=\"color: #c0c0c0; text-decoration-color: #c0c0c0\">WeightedRandomPlayer:WHITE</span>  │    4 │   6.60 │        1.50 │       1.30 │     0.20 │     0.40 │       1.30  \n",
       "  <span style=\"color: #000080; text-decoration-color: #000080\">RandomPlayer:BLUE</span>           │    3 │   6.60 │        2.20 │       0.80 │     0.40 │     0.20 │       1.60  \n",
       "  <span style=\"color: #800000; text-decoration-color: #800000\">AB_DQNPlayer_1:RED</span>          │    0 │   2.40 │        1.60 │       0.40 │     0.00 │     0.00 │       0.00  \n",
       "  <span style=\"color: #808000; text-decoration-color: #808000\">WeightedRandomPlayer:ORANGE</span> │    3 │   6.10 │        2.40 │       0.40 │     0.30 │     0.40 │       1.50  \n",
       "                              ╵      ╵        ╵             ╵            ╵          ╵          ╵             \n",
       "</pre>\n"
      ],
      "text/plain": [
       "\u001b[3m                                               Player Summary                                                \u001b[0m\n",
       "                              ╷      ╷        ╷             ╷            ╷          ╷          ╷             \n",
       " \u001b[1m \u001b[0m\u001b[1m                           \u001b[0m\u001b[1m \u001b[0m│\u001b[1m \u001b[0m\u001b[1mWINS\u001b[0m\u001b[1m \u001b[0m│\u001b[1m \u001b[0m\u001b[1mAVG VP\u001b[0m\u001b[1m \u001b[0m│\u001b[1m \u001b[0m\u001b[1mAVG SETTLES\u001b[0m\u001b[1m \u001b[0m│\u001b[1m \u001b[0m\u001b[1mAVG CITIES\u001b[0m\u001b[1m \u001b[0m│\u001b[1m \u001b[0m\u001b[1mAVG ROAD\u001b[0m\u001b[1m \u001b[0m│\u001b[1m \u001b[0m\u001b[1mAVG ARMY\u001b[0m\u001b[1m \u001b[0m│\u001b[1m \u001b[0m\u001b[1mAVG DEV VP\u001b[0m\u001b[1m \u001b[0m \n",
       "╶─────────────────────────────┼──────┼────────┼─────────────┼────────────┼──────────┼──────────┼────────────╴\n",
       "  \u001b[37mWeightedRandomPlayer:WHITE\u001b[0m  │    4 │   6.60 │        1.50 │       1.30 │     0.20 │     0.40 │       1.30  \n",
       "  \u001b[34mRandomPlayer:BLUE\u001b[0m           │    3 │   6.60 │        2.20 │       0.80 │     0.40 │     0.20 │       1.60  \n",
       "  \u001b[31mAB_DQNPlayer_1:RED\u001b[0m          │    0 │   2.40 │        1.60 │       0.40 │     0.00 │     0.00 │       0.00  \n",
       "  \u001b[33mWeightedRandomPlayer:ORANGE\u001b[0m │    3 │   6.10 │        2.40 │       0.40 │     0.30 │     0.40 │       1.50  \n",
       "                              ╵      ╵        ╵             ╵            ╵          ╵          ╵             \n"
      ]
     },
     "metadata": {},
     "output_type": "display_data"
    },
    {
     "data": {
      "text/html": [
       "<pre style=\"white-space:pre;overflow-x:auto;line-height:normal;font-family:Menlo,'DejaVu Sans Mono',consolas,'Courier New',monospace\"><span style=\"font-style: italic\">              Game Summary              </span>\n",
       "            ╷           ╷               \n",
       " <span style=\"font-weight: bold\"> AVG TICKS </span>│<span style=\"font-weight: bold\"> AVG TURNS </span>│<span style=\"font-weight: bold\"> AVG DURATION </span> \n",
       "╶───────────┼───────────┼──────────────╴\n",
       "     771.00 │    274.30 │  15.773 secs  \n",
       "            ╵           ╵               \n",
       "</pre>\n"
      ],
      "text/plain": [
       "\u001b[3m              Game Summary              \u001b[0m\n",
       "            ╷           ╷               \n",
       " \u001b[1m \u001b[0m\u001b[1mAVG TICKS\u001b[0m\u001b[1m \u001b[0m│\u001b[1m \u001b[0m\u001b[1mAVG TURNS\u001b[0m\u001b[1m \u001b[0m│\u001b[1m \u001b[0m\u001b[1mAVG DURATION\u001b[0m\u001b[1m \u001b[0m \n",
       "╶───────────┼───────────┼──────────────╴\n",
       "     771.00 │    274.30 │  15.773 secs  \n",
       "            ╵           ╵               \n"
      ]
     },
     "metadata": {},
     "output_type": "display_data"
    },
    {
     "name": "stdout",
     "output_type": "stream",
     "text": [
      "Loaded replay buffer with 5000 transitions\n"
     ]
    },
    {
     "data": {
      "text/html": [
       "<pre style=\"white-space:pre;overflow-x:auto;line-height:normal;font-family:Menlo,'DejaVu Sans Mono',consolas,'Courier New',monospace\"></pre>\n"
      ],
      "text/plain": []
     },
     "metadata": {},
     "output_type": "display_data"
    },
    {
     "data": {
      "text/html": [
       "<pre style=\"white-space:pre;overflow-x:auto;line-height:normal;font-family:Menlo,'DejaVu Sans Mono',consolas,'Courier New',monospace\">\n",
       "</pre>\n"
      ],
      "text/plain": [
       "\n"
      ]
     },
     "metadata": {},
     "output_type": "display_data"
    },
    {
     "data": {
      "text/html": [
       "<pre style=\"white-space:pre;overflow-x:auto;line-height:normal;font-family:Menlo,'DejaVu Sans Mono',consolas,'Courier New',monospace\"><span style=\"font-style: italic\">                                      Last 10 Games                                      </span>\n",
       "     ╷                       ╷       ╷           ╷          ╷        ╷         ╷         \n",
       " <span style=\"font-weight: bold\">  # </span>│<span style=\"font-weight: bold\"> SEATING               </span>│<span style=\"font-weight: bold\"> TURNS </span>│<span style=\"font-weight: bold\"> ORANGE VP </span>│<span style=\"font-weight: bold\"> WHITE VP </span>│<span style=\"font-weight: bold\"> RED VP </span>│<span style=\"font-weight: bold\"> BLUE VP </span>│<span style=\"font-weight: bold\"> WINNER </span> \n",
       "╶────┼───────────────────────┼───────┼───────────┼──────────┼────────┼─────────┼────────╴\n",
       "   1 │ <span style=\"color: #808000; text-decoration-color: #808000\">ORANGE</span>,<span style=\"color: #800000; text-decoration-color: #800000\">RED</span>,<span style=\"color: #000080; text-decoration-color: #000080\">BLUE</span>,<span style=\"color: #c0c0c0; text-decoration-color: #c0c0c0\">WHITE</span> │    84 │         2 │        3 │      2 │      10 │ <span style=\"color: #000080; text-decoration-color: #000080\">BLUE</span>    \n",
       "   2 │ <span style=\"color: #800000; text-decoration-color: #800000\">RED</span>,<span style=\"color: #808000; text-decoration-color: #808000\">ORANGE</span>,<span style=\"color: #000080; text-decoration-color: #000080\">BLUE</span>,<span style=\"color: #c0c0c0; text-decoration-color: #c0c0c0\">WHITE</span> │   148 │         4 │        7 │      2 │      10 │ <span style=\"color: #000080; text-decoration-color: #000080\">BLUE</span>    \n",
       "   3 │ <span style=\"color: #800000; text-decoration-color: #800000\">RED</span>,<span style=\"color: #808000; text-decoration-color: #808000\">ORANGE</span>,<span style=\"color: #c0c0c0; text-decoration-color: #c0c0c0\">WHITE</span>,<span style=\"color: #000080; text-decoration-color: #000080\">BLUE</span> │    45 │         3 │        3 │      2 │      10 │ <span style=\"color: #000080; text-decoration-color: #000080\">BLUE</span>    \n",
       "   4 │ <span style=\"color: #800000; text-decoration-color: #800000\">RED</span>,<span style=\"color: #808000; text-decoration-color: #808000\">ORANGE</span>,<span style=\"color: #000080; text-decoration-color: #000080\">BLUE</span>,<span style=\"color: #c0c0c0; text-decoration-color: #c0c0c0\">WHITE</span> │    84 │         3 │        2 │      2 │      10 │ <span style=\"color: #000080; text-decoration-color: #000080\">BLUE</span>    \n",
       "   5 │ <span style=\"color: #000080; text-decoration-color: #000080\">BLUE</span>,<span style=\"color: #c0c0c0; text-decoration-color: #c0c0c0\">WHITE</span>,<span style=\"color: #808000; text-decoration-color: #808000\">ORANGE</span>,<span style=\"color: #800000; text-decoration-color: #800000\">RED</span> │    70 │         2 │        4 │      2 │      10 │ <span style=\"color: #000080; text-decoration-color: #000080\">BLUE</span>    \n",
       "   6 │ <span style=\"color: #808000; text-decoration-color: #808000\">ORANGE</span>,<span style=\"color: #000080; text-decoration-color: #000080\">BLUE</span>,<span style=\"color: #800000; text-decoration-color: #800000\">RED</span>,<span style=\"color: #c0c0c0; text-decoration-color: #c0c0c0\">WHITE</span> │    79 │         2 │        5 │      5 │      10 │ <span style=\"color: #000080; text-decoration-color: #000080\">BLUE</span>    \n",
       "   7 │ <span style=\"color: #800000; text-decoration-color: #800000\">RED</span>,<span style=\"color: #808000; text-decoration-color: #808000\">ORANGE</span>,<span style=\"color: #000080; text-decoration-color: #000080\">BLUE</span>,<span style=\"color: #c0c0c0; text-decoration-color: #c0c0c0\">WHITE</span> │    64 │         2 │        3 │      2 │      10 │ <span style=\"color: #000080; text-decoration-color: #000080\">BLUE</span>    \n",
       "   8 │ <span style=\"color: #c0c0c0; text-decoration-color: #c0c0c0\">WHITE</span>,<span style=\"color: #000080; text-decoration-color: #000080\">BLUE</span>,<span style=\"color: #808000; text-decoration-color: #808000\">ORANGE</span>,<span style=\"color: #800000; text-decoration-color: #800000\">RED</span> │    99 │         2 │        2 │      2 │      10 │ <span style=\"color: #000080; text-decoration-color: #000080\">BLUE</span>    \n",
       "   9 │ <span style=\"color: #c0c0c0; text-decoration-color: #c0c0c0\">WHITE</span>,<span style=\"color: #000080; text-decoration-color: #000080\">BLUE</span>,<span style=\"color: #800000; text-decoration-color: #800000\">RED</span>,<span style=\"color: #808000; text-decoration-color: #808000\">ORANGE</span> │   103 │         3 │        7 │      2 │      10 │ <span style=\"color: #000080; text-decoration-color: #000080\">BLUE</span>    \n",
       "  10 │ <span style=\"color: #c0c0c0; text-decoration-color: #c0c0c0\">WHITE</span>,<span style=\"color: #800000; text-decoration-color: #800000\">RED</span>,<span style=\"color: #000080; text-decoration-color: #000080\">BLUE</span>,<span style=\"color: #808000; text-decoration-color: #808000\">ORANGE</span> │    56 │         2 │        3 │      2 │      11 │ <span style=\"color: #000080; text-decoration-color: #000080\">BLUE</span>    \n",
       "     ╵                       ╵       ╵           ╵          ╵        ╵         ╵         \n",
       "</pre>\n"
      ],
      "text/plain": [
       "\u001b[3m                                      Last 10 Games                                      \u001b[0m\n",
       "     ╷                       ╷       ╷           ╷          ╷        ╷         ╷         \n",
       " \u001b[1m \u001b[0m\u001b[1m #\u001b[0m\u001b[1m \u001b[0m│\u001b[1m \u001b[0m\u001b[1mSEATING              \u001b[0m\u001b[1m \u001b[0m│\u001b[1m \u001b[0m\u001b[1mTURNS\u001b[0m\u001b[1m \u001b[0m│\u001b[1m \u001b[0m\u001b[1mORANGE VP\u001b[0m\u001b[1m \u001b[0m│\u001b[1m \u001b[0m\u001b[1mWHITE VP\u001b[0m\u001b[1m \u001b[0m│\u001b[1m \u001b[0m\u001b[1mRED VP\u001b[0m\u001b[1m \u001b[0m│\u001b[1m \u001b[0m\u001b[1mBLUE VP\u001b[0m\u001b[1m \u001b[0m│\u001b[1m \u001b[0m\u001b[1mWINNER\u001b[0m\u001b[1m \u001b[0m \n",
       "╶────┼───────────────────────┼───────┼───────────┼──────────┼────────┼─────────┼────────╴\n",
       "   1 │ \u001b[33mORANGE\u001b[0m,\u001b[31mRED\u001b[0m,\u001b[34mBLUE\u001b[0m,\u001b[37mWHITE\u001b[0m │    84 │         2 │        3 │      2 │      10 │ \u001b[34mBLUE\u001b[0m    \n",
       "   2 │ \u001b[31mRED\u001b[0m,\u001b[33mORANGE\u001b[0m,\u001b[34mBLUE\u001b[0m,\u001b[37mWHITE\u001b[0m │   148 │         4 │        7 │      2 │      10 │ \u001b[34mBLUE\u001b[0m    \n",
       "   3 │ \u001b[31mRED\u001b[0m,\u001b[33mORANGE\u001b[0m,\u001b[37mWHITE\u001b[0m,\u001b[34mBLUE\u001b[0m │    45 │         3 │        3 │      2 │      10 │ \u001b[34mBLUE\u001b[0m    \n",
       "   4 │ \u001b[31mRED\u001b[0m,\u001b[33mORANGE\u001b[0m,\u001b[34mBLUE\u001b[0m,\u001b[37mWHITE\u001b[0m │    84 │         3 │        2 │      2 │      10 │ \u001b[34mBLUE\u001b[0m    \n",
       "   5 │ \u001b[34mBLUE\u001b[0m,\u001b[37mWHITE\u001b[0m,\u001b[33mORANGE\u001b[0m,\u001b[31mRED\u001b[0m │    70 │         2 │        4 │      2 │      10 │ \u001b[34mBLUE\u001b[0m    \n",
       "   6 │ \u001b[33mORANGE\u001b[0m,\u001b[34mBLUE\u001b[0m,\u001b[31mRED\u001b[0m,\u001b[37mWHITE\u001b[0m │    79 │         2 │        5 │      5 │      10 │ \u001b[34mBLUE\u001b[0m    \n",
       "   7 │ \u001b[31mRED\u001b[0m,\u001b[33mORANGE\u001b[0m,\u001b[34mBLUE\u001b[0m,\u001b[37mWHITE\u001b[0m │    64 │         2 │        3 │      2 │      10 │ \u001b[34mBLUE\u001b[0m    \n",
       "   8 │ \u001b[37mWHITE\u001b[0m,\u001b[34mBLUE\u001b[0m,\u001b[33mORANGE\u001b[0m,\u001b[31mRED\u001b[0m │    99 │         2 │        2 │      2 │      10 │ \u001b[34mBLUE\u001b[0m    \n",
       "   9 │ \u001b[37mWHITE\u001b[0m,\u001b[34mBLUE\u001b[0m,\u001b[31mRED\u001b[0m,\u001b[33mORANGE\u001b[0m │   103 │         3 │        7 │      2 │      10 │ \u001b[34mBLUE\u001b[0m    \n",
       "  10 │ \u001b[37mWHITE\u001b[0m,\u001b[31mRED\u001b[0m,\u001b[34mBLUE\u001b[0m,\u001b[33mORANGE\u001b[0m │    56 │         2 │        3 │      2 │      11 │ \u001b[34mBLUE\u001b[0m    \n",
       "     ╵                       ╵       ╵           ╵          ╵        ╵         ╵         \n"
      ]
     },
     "metadata": {},
     "output_type": "display_data"
    },
    {
     "data": {
      "text/html": [
       "<pre style=\"white-space:pre;overflow-x:auto;line-height:normal;font-family:Menlo,'DejaVu Sans Mono',consolas,'Courier New',monospace\"><span style=\"font-style: italic\">                                                  Player Summary                                                   </span>\n",
       "                                                                ╷      ╷      ╷      ╷      ╷      ╷      ╷        \n",
       " <span style=\"font-weight: bold\">                                                               </span>│<span style=\"font-weight: bold\">      </span>│<span style=\"font-weight: bold\">      </span>│<span style=\"font-weight: bold\">      </span>│<span style=\"font-weight: bold\">      </span>│<span style=\"font-weight: bold\">      </span>│<span style=\"font-weight: bold\">      </span>│<span style=\"font-weight: bold\">   AVG </span> \n",
       " <span style=\"font-weight: bold\">                                                               </span>│<span style=\"font-weight: bold\">      </span>│<span style=\"font-weight: bold\">  AVG </span>│<span style=\"font-weight: bold\">  AVG </span>│<span style=\"font-weight: bold\">  AVG </span>│<span style=\"font-weight: bold\">  AVG </span>│<span style=\"font-weight: bold\">  AVG </span>│<span style=\"font-weight: bold\">   DEV </span> \n",
       " <span style=\"font-weight: bold\">                                                               </span>│<span style=\"font-weight: bold\"> WINS </span>│<span style=\"font-weight: bold\">   VP </span>│<span style=\"font-weight: bold\"> SET… </span>│<span style=\"font-weight: bold\"> CIT… </span>│<span style=\"font-weight: bold\"> ROAD </span>│<span style=\"font-weight: bold\"> ARMY </span>│<span style=\"font-weight: bold\">    VP </span> \n",
       "╶───────────────────────────────────────────────────────────────┼──────┼──────┼──────┼──────┼──────┼──────┼───────╴\n",
       "  <span style=\"color: #808000; text-decoration-color: #808000\">RandomPlayer:ORANGE</span>                                           │    0 │ 2.50 │ 1.90 │ 0.10 │ 0.10 │ 0.00 │  0.20  \n",
       "  <span style=\"color: #c0c0c0; text-decoration-color: #c0c0c0\">WeightedRandomPlayer:WHITE</span>                                    │    0 │ 3.90 │ 1.70 │ 0.60 │ 0.00 │ 0.20 │  0.60  \n",
       "  <span style=\"color: #800000; text-decoration-color: #800000\">AB_DQNPlayer_1:RED</span>                                            │    0 │ 2.30 │ 1.90 │ 0.10 │ 0.00 │ 0.00 │  0.20  \n",
       "  <span style=\"color: #000080; text-decoration-color: #000080\">AlphaBetaPlayer:BLUE(depth=2,value_fn=base_fn,prunning=False)</span> │   10 │ 10.… │ 2.40 │ 2.90 │ 0.90 │ 0.00 │  0.10  \n",
       "                                                                ╵      ╵      ╵      ╵      ╵      ╵      ╵        \n",
       "</pre>\n"
      ],
      "text/plain": [
       "\u001b[3m                                                  Player Summary                                                   \u001b[0m\n",
       "                                                                ╷      ╷      ╷      ╷      ╷      ╷      ╷        \n",
       " \u001b[1m                                                               \u001b[0m│\u001b[1m      \u001b[0m│\u001b[1m      \u001b[0m│\u001b[1m      \u001b[0m│\u001b[1m      \u001b[0m│\u001b[1m      \u001b[0m│\u001b[1m      \u001b[0m│\u001b[1m \u001b[0m\u001b[1m  AVG\u001b[0m\u001b[1m \u001b[0m \n",
       " \u001b[1m                                                               \u001b[0m│\u001b[1m      \u001b[0m│\u001b[1m \u001b[0m\u001b[1m AVG\u001b[0m\u001b[1m \u001b[0m│\u001b[1m \u001b[0m\u001b[1m AVG\u001b[0m\u001b[1m \u001b[0m│\u001b[1m \u001b[0m\u001b[1m AVG\u001b[0m\u001b[1m \u001b[0m│\u001b[1m \u001b[0m\u001b[1m AVG\u001b[0m\u001b[1m \u001b[0m│\u001b[1m \u001b[0m\u001b[1m AVG\u001b[0m\u001b[1m \u001b[0m│\u001b[1m \u001b[0m\u001b[1m  DEV\u001b[0m\u001b[1m \u001b[0m \n",
       " \u001b[1m \u001b[0m\u001b[1m                                                             \u001b[0m\u001b[1m \u001b[0m│\u001b[1m \u001b[0m\u001b[1mWINS\u001b[0m\u001b[1m \u001b[0m│\u001b[1m \u001b[0m\u001b[1m  VP\u001b[0m\u001b[1m \u001b[0m│\u001b[1m \u001b[0m\u001b[1mSET…\u001b[0m\u001b[1m \u001b[0m│\u001b[1m \u001b[0m\u001b[1mCIT…\u001b[0m\u001b[1m \u001b[0m│\u001b[1m \u001b[0m\u001b[1mROAD\u001b[0m\u001b[1m \u001b[0m│\u001b[1m \u001b[0m\u001b[1mARMY\u001b[0m\u001b[1m \u001b[0m│\u001b[1m \u001b[0m\u001b[1m   VP\u001b[0m\u001b[1m \u001b[0m \n",
       "╶───────────────────────────────────────────────────────────────┼──────┼──────┼──────┼──────┼──────┼──────┼───────╴\n",
       "  \u001b[33mRandomPlayer:ORANGE\u001b[0m                                           │    0 │ 2.50 │ 1.90 │ 0.10 │ 0.10 │ 0.00 │  0.20  \n",
       "  \u001b[37mWeightedRandomPlayer:WHITE\u001b[0m                                    │    0 │ 3.90 │ 1.70 │ 0.60 │ 0.00 │ 0.20 │  0.60  \n",
       "  \u001b[31mAB_DQNPlayer_1:RED\u001b[0m                                            │    0 │ 2.30 │ 1.90 │ 0.10 │ 0.00 │ 0.00 │  0.20  \n",
       "  \u001b[34mAlphaBetaPlayer:BLUE(depth=2,value_fn=base_fn,prunning=False)\u001b[0m │   10 │ 10.… │ 2.40 │ 2.90 │ 0.90 │ 0.00 │  0.10  \n",
       "                                                                ╵      ╵      ╵      ╵      ╵      ╵      ╵        \n"
      ]
     },
     "metadata": {},
     "output_type": "display_data"
    },
    {
     "data": {
      "text/html": [
       "<pre style=\"white-space:pre;overflow-x:auto;line-height:normal;font-family:Menlo,'DejaVu Sans Mono',consolas,'Courier New',monospace\"><span style=\"font-style: italic\">              Game Summary              </span>\n",
       "            ╷           ╷               \n",
       " <span style=\"font-weight: bold\"> AVG TICKS </span>│<span style=\"font-weight: bold\"> AVG TURNS </span>│<span style=\"font-weight: bold\"> AVG DURATION </span> \n",
       "╶───────────┼───────────┼──────────────╴\n",
       "     247.70 │     83.20 │   9.436 secs  \n",
       "            ╵           ╵               \n",
       "</pre>\n"
      ],
      "text/plain": [
       "\u001b[3m              Game Summary              \u001b[0m\n",
       "            ╷           ╷               \n",
       " \u001b[1m \u001b[0m\u001b[1mAVG TICKS\u001b[0m\u001b[1m \u001b[0m│\u001b[1m \u001b[0m\u001b[1mAVG TURNS\u001b[0m\u001b[1m \u001b[0m│\u001b[1m \u001b[0m\u001b[1mAVG DURATION\u001b[0m\u001b[1m \u001b[0m \n",
       "╶───────────┼───────────┼──────────────╴\n",
       "     247.70 │     83.20 │   9.436 secs  \n",
       "            ╵           ╵               \n"
      ]
     },
     "metadata": {},
     "output_type": "display_data"
    },
    {
     "name": "stdout",
     "output_type": "stream",
     "text": [
      "Loaded replay buffer with 5000 transitions\n"
     ]
    },
    {
     "data": {
      "text/html": [
       "<pre style=\"white-space:pre;overflow-x:auto;line-height:normal;font-family:Menlo,'DejaVu Sans Mono',consolas,'Courier New',monospace\"></pre>\n"
      ],
      "text/plain": []
     },
     "metadata": {},
     "output_type": "display_data"
    },
    {
     "data": {
      "text/html": [
       "<pre style=\"white-space:pre;overflow-x:auto;line-height:normal;font-family:Menlo,'DejaVu Sans Mono',consolas,'Courier New',monospace\">\n",
       "</pre>\n"
      ],
      "text/plain": [
       "\n"
      ]
     },
     "metadata": {},
     "output_type": "display_data"
    },
    {
     "data": {
      "text/html": [
       "<pre style=\"white-space:pre;overflow-x:auto;line-height:normal;font-family:Menlo,'DejaVu Sans Mono',consolas,'Courier New',monospace\"><span style=\"font-style: italic\">                                      Last 10 Games                                      </span>\n",
       "     ╷                       ╷       ╷        ╷           ╷          ╷         ╷         \n",
       " <span style=\"font-weight: bold\">  # </span>│<span style=\"font-weight: bold\"> SEATING               </span>│<span style=\"font-weight: bold\"> TURNS </span>│<span style=\"font-weight: bold\"> RED VP </span>│<span style=\"font-weight: bold\"> ORANGE VP </span>│<span style=\"font-weight: bold\"> WHITE VP </span>│<span style=\"font-weight: bold\"> BLUE VP </span>│<span style=\"font-weight: bold\"> WINNER </span> \n",
       "╶────┼───────────────────────┼───────┼────────┼───────────┼──────────┼─────────┼────────╴\n",
       "   1 │ <span style=\"color: #000080; text-decoration-color: #000080\">BLUE</span>,<span style=\"color: #808000; text-decoration-color: #808000\">ORANGE</span>,<span style=\"color: #c0c0c0; text-decoration-color: #c0c0c0\">WHITE</span>,<span style=\"color: #800000; text-decoration-color: #800000\">RED</span> │    96 │      2 │         4 │       10 │       3 │ <span style=\"color: #c0c0c0; text-decoration-color: #c0c0c0\">WHITE</span>   \n",
       "   2 │ <span style=\"color: #808000; text-decoration-color: #808000\">ORANGE</span>,<span style=\"color: #800000; text-decoration-color: #800000\">RED</span>,<span style=\"color: #c0c0c0; text-decoration-color: #c0c0c0\">WHITE</span>,<span style=\"color: #000080; text-decoration-color: #000080\">BLUE</span> │    68 │      2 │         2 │       10 │       2 │ <span style=\"color: #c0c0c0; text-decoration-color: #c0c0c0\">WHITE</span>   \n",
       "   3 │ <span style=\"color: #800000; text-decoration-color: #800000\">RED</span>,<span style=\"color: #808000; text-decoration-color: #808000\">ORANGE</span>,<span style=\"color: #000080; text-decoration-color: #000080\">BLUE</span>,<span style=\"color: #c0c0c0; text-decoration-color: #c0c0c0\">WHITE</span> │    69 │      2 │         5 │       10 │       3 │ <span style=\"color: #c0c0c0; text-decoration-color: #c0c0c0\">WHITE</span>   \n",
       "   4 │ <span style=\"color: #800000; text-decoration-color: #800000\">RED</span>,<span style=\"color: #808000; text-decoration-color: #808000\">ORANGE</span>,<span style=\"color: #000080; text-decoration-color: #000080\">BLUE</span>,<span style=\"color: #c0c0c0; text-decoration-color: #c0c0c0\">WHITE</span> │   121 │      2 │         3 │       10 │       4 │ <span style=\"color: #c0c0c0; text-decoration-color: #c0c0c0\">WHITE</span>   \n",
       "   5 │ <span style=\"color: #c0c0c0; text-decoration-color: #c0c0c0\">WHITE</span>,<span style=\"color: #000080; text-decoration-color: #000080\">BLUE</span>,<span style=\"color: #808000; text-decoration-color: #808000\">ORANGE</span>,<span style=\"color: #800000; text-decoration-color: #800000\">RED</span> │    82 │      2 │         3 │       10 │       2 │ <span style=\"color: #c0c0c0; text-decoration-color: #c0c0c0\">WHITE</span>   \n",
       "   6 │ <span style=\"color: #808000; text-decoration-color: #808000\">ORANGE</span>,<span style=\"color: #000080; text-decoration-color: #000080\">BLUE</span>,<span style=\"color: #800000; text-decoration-color: #800000\">RED</span>,<span style=\"color: #c0c0c0; text-decoration-color: #c0c0c0\">WHITE</span> │    85 │      2 │         7 │       10 │       2 │ <span style=\"color: #c0c0c0; text-decoration-color: #c0c0c0\">WHITE</span>   \n",
       "   7 │ <span style=\"color: #c0c0c0; text-decoration-color: #c0c0c0\">WHITE</span>,<span style=\"color: #000080; text-decoration-color: #000080\">BLUE</span>,<span style=\"color: #808000; text-decoration-color: #808000\">ORANGE</span>,<span style=\"color: #800000; text-decoration-color: #800000\">RED</span> │    74 │      2 │         4 │       10 │       2 │ <span style=\"color: #c0c0c0; text-decoration-color: #c0c0c0\">WHITE</span>   \n",
       "   8 │ <span style=\"color: #000080; text-decoration-color: #000080\">BLUE</span>,<span style=\"color: #c0c0c0; text-decoration-color: #c0c0c0\">WHITE</span>,<span style=\"color: #808000; text-decoration-color: #808000\">ORANGE</span>,<span style=\"color: #800000; text-decoration-color: #800000\">RED</span> │   119 │      2 │         3 │       10 │       9 │ <span style=\"color: #c0c0c0; text-decoration-color: #c0c0c0\">WHITE</span>   \n",
       "   9 │ <span style=\"color: #800000; text-decoration-color: #800000\">RED</span>,<span style=\"color: #808000; text-decoration-color: #808000\">ORANGE</span>,<span style=\"color: #c0c0c0; text-decoration-color: #c0c0c0\">WHITE</span>,<span style=\"color: #000080; text-decoration-color: #000080\">BLUE</span> │    96 │      2 │         2 │       10 │       5 │ <span style=\"color: #c0c0c0; text-decoration-color: #c0c0c0\">WHITE</span>   \n",
       "  10 │ <span style=\"color: #000080; text-decoration-color: #000080\">BLUE</span>,<span style=\"color: #808000; text-decoration-color: #808000\">ORANGE</span>,<span style=\"color: #800000; text-decoration-color: #800000\">RED</span>,<span style=\"color: #c0c0c0; text-decoration-color: #c0c0c0\">WHITE</span> │    45 │      2 │         2 │       10 │       2 │ <span style=\"color: #c0c0c0; text-decoration-color: #c0c0c0\">WHITE</span>   \n",
       "     ╵                       ╵       ╵        ╵           ╵          ╵         ╵         \n",
       "</pre>\n"
      ],
      "text/plain": [
       "\u001b[3m                                      Last 10 Games                                      \u001b[0m\n",
       "     ╷                       ╷       ╷        ╷           ╷          ╷         ╷         \n",
       " \u001b[1m \u001b[0m\u001b[1m #\u001b[0m\u001b[1m \u001b[0m│\u001b[1m \u001b[0m\u001b[1mSEATING              \u001b[0m\u001b[1m \u001b[0m│\u001b[1m \u001b[0m\u001b[1mTURNS\u001b[0m\u001b[1m \u001b[0m│\u001b[1m \u001b[0m\u001b[1mRED VP\u001b[0m\u001b[1m \u001b[0m│\u001b[1m \u001b[0m\u001b[1mORANGE VP\u001b[0m\u001b[1m \u001b[0m│\u001b[1m \u001b[0m\u001b[1mWHITE VP\u001b[0m\u001b[1m \u001b[0m│\u001b[1m \u001b[0m\u001b[1mBLUE VP\u001b[0m\u001b[1m \u001b[0m│\u001b[1m \u001b[0m\u001b[1mWINNER\u001b[0m\u001b[1m \u001b[0m \n",
       "╶────┼───────────────────────┼───────┼────────┼───────────┼──────────┼─────────┼────────╴\n",
       "   1 │ \u001b[34mBLUE\u001b[0m,\u001b[33mORANGE\u001b[0m,\u001b[37mWHITE\u001b[0m,\u001b[31mRED\u001b[0m │    96 │      2 │         4 │       10 │       3 │ \u001b[37mWHITE\u001b[0m   \n",
       "   2 │ \u001b[33mORANGE\u001b[0m,\u001b[31mRED\u001b[0m,\u001b[37mWHITE\u001b[0m,\u001b[34mBLUE\u001b[0m │    68 │      2 │         2 │       10 │       2 │ \u001b[37mWHITE\u001b[0m   \n",
       "   3 │ \u001b[31mRED\u001b[0m,\u001b[33mORANGE\u001b[0m,\u001b[34mBLUE\u001b[0m,\u001b[37mWHITE\u001b[0m │    69 │      2 │         5 │       10 │       3 │ \u001b[37mWHITE\u001b[0m   \n",
       "   4 │ \u001b[31mRED\u001b[0m,\u001b[33mORANGE\u001b[0m,\u001b[34mBLUE\u001b[0m,\u001b[37mWHITE\u001b[0m │   121 │      2 │         3 │       10 │       4 │ \u001b[37mWHITE\u001b[0m   \n",
       "   5 │ \u001b[37mWHITE\u001b[0m,\u001b[34mBLUE\u001b[0m,\u001b[33mORANGE\u001b[0m,\u001b[31mRED\u001b[0m │    82 │      2 │         3 │       10 │       2 │ \u001b[37mWHITE\u001b[0m   \n",
       "   6 │ \u001b[33mORANGE\u001b[0m,\u001b[34mBLUE\u001b[0m,\u001b[31mRED\u001b[0m,\u001b[37mWHITE\u001b[0m │    85 │      2 │         7 │       10 │       2 │ \u001b[37mWHITE\u001b[0m   \n",
       "   7 │ \u001b[37mWHITE\u001b[0m,\u001b[34mBLUE\u001b[0m,\u001b[33mORANGE\u001b[0m,\u001b[31mRED\u001b[0m │    74 │      2 │         4 │       10 │       2 │ \u001b[37mWHITE\u001b[0m   \n",
       "   8 │ \u001b[34mBLUE\u001b[0m,\u001b[37mWHITE\u001b[0m,\u001b[33mORANGE\u001b[0m,\u001b[31mRED\u001b[0m │   119 │      2 │         3 │       10 │       9 │ \u001b[37mWHITE\u001b[0m   \n",
       "   9 │ \u001b[31mRED\u001b[0m,\u001b[33mORANGE\u001b[0m,\u001b[37mWHITE\u001b[0m,\u001b[34mBLUE\u001b[0m │    96 │      2 │         2 │       10 │       5 │ \u001b[37mWHITE\u001b[0m   \n",
       "  10 │ \u001b[34mBLUE\u001b[0m,\u001b[33mORANGE\u001b[0m,\u001b[31mRED\u001b[0m,\u001b[37mWHITE\u001b[0m │    45 │      2 │         2 │       10 │       2 │ \u001b[37mWHITE\u001b[0m   \n",
       "     ╵                       ╵       ╵        ╵           ╵          ╵         ╵         \n"
      ]
     },
     "metadata": {},
     "output_type": "display_data"
    },
    {
     "data": {
      "text/html": [
       "<pre style=\"white-space:pre;overflow-x:auto;line-height:normal;font-family:Menlo,'DejaVu Sans Mono',consolas,'Courier New',monospace\"><span style=\"font-style: italic\">                                                  Player Summary                                                   </span>\n",
       "                                                                 ╷      ╷      ╷      ╷      ╷      ╷      ╷       \n",
       " <span style=\"font-weight: bold\">                                                                </span>│<span style=\"font-weight: bold\">      </span>│<span style=\"font-weight: bold\">      </span>│<span style=\"font-weight: bold\">      </span>│<span style=\"font-weight: bold\">      </span>│<span style=\"font-weight: bold\">      </span>│<span style=\"font-weight: bold\">      </span>│<span style=\"font-weight: bold\">  AVG </span> \n",
       " <span style=\"font-weight: bold\">                                                                </span>│<span style=\"font-weight: bold\">      </span>│<span style=\"font-weight: bold\">  AVG </span>│<span style=\"font-weight: bold\">  AVG </span>│<span style=\"font-weight: bold\">  AVG </span>│<span style=\"font-weight: bold\">  AVG </span>│<span style=\"font-weight: bold\">  AVG </span>│<span style=\"font-weight: bold\">  DEV </span> \n",
       " <span style=\"font-weight: bold\">                                                                </span>│<span style=\"font-weight: bold\"> WINS </span>│<span style=\"font-weight: bold\">   VP </span>│<span style=\"font-weight: bold\"> SET… </span>│<span style=\"font-weight: bold\"> CIT… </span>│<span style=\"font-weight: bold\"> ROAD </span>│<span style=\"font-weight: bold\"> ARMY </span>│<span style=\"font-weight: bold\">   VP </span> \n",
       "╶────────────────────────────────────────────────────────────────┼──────┼──────┼──────┼──────┼──────┼──────┼──────╴\n",
       "  <span style=\"color: #800000; text-decoration-color: #800000\">AB_DQNPlayer_1:RED</span>                                             │    0 │ 2.00 │ 2.00 │ 0.00 │ 0.00 │ 0.00 │ 0.00  \n",
       "  <span style=\"color: #808000; text-decoration-color: #808000\">WeightedRandomPlayer:ORANGE</span>                                    │    0 │ 3.50 │ 1.60 │ 0.60 │ 0.00 │ 0.10 │ 0.50  \n",
       "  <span style=\"color: #c0c0c0; text-decoration-color: #c0c0c0\">AlphaBetaPlayer:WHITE(depth=2,value_fn=base_fn,prunning=False)</span> │   10 │ 10.… │ 1.80 │ 3.10 │ 1.00 │ 0.00 │ 0.00  \n",
       "  <span style=\"color: #000080; text-decoration-color: #000080\">WeightedRandomPlayer:BLUE</span>                                      │    0 │ 3.40 │ 1.90 │ 0.60 │ 0.00 │ 0.10 │ 0.10  \n",
       "                                                                 ╵      ╵      ╵      ╵      ╵      ╵      ╵       \n",
       "</pre>\n"
      ],
      "text/plain": [
       "\u001b[3m                                                  Player Summary                                                   \u001b[0m\n",
       "                                                                 ╷      ╷      ╷      ╷      ╷      ╷      ╷       \n",
       " \u001b[1m                                                                \u001b[0m│\u001b[1m      \u001b[0m│\u001b[1m      \u001b[0m│\u001b[1m      \u001b[0m│\u001b[1m      \u001b[0m│\u001b[1m      \u001b[0m│\u001b[1m      \u001b[0m│\u001b[1m \u001b[0m\u001b[1m AVG\u001b[0m\u001b[1m \u001b[0m \n",
       " \u001b[1m                                                                \u001b[0m│\u001b[1m      \u001b[0m│\u001b[1m \u001b[0m\u001b[1m AVG\u001b[0m\u001b[1m \u001b[0m│\u001b[1m \u001b[0m\u001b[1m AVG\u001b[0m\u001b[1m \u001b[0m│\u001b[1m \u001b[0m\u001b[1m AVG\u001b[0m\u001b[1m \u001b[0m│\u001b[1m \u001b[0m\u001b[1m AVG\u001b[0m\u001b[1m \u001b[0m│\u001b[1m \u001b[0m\u001b[1m AVG\u001b[0m\u001b[1m \u001b[0m│\u001b[1m \u001b[0m\u001b[1m DEV\u001b[0m\u001b[1m \u001b[0m \n",
       " \u001b[1m \u001b[0m\u001b[1m                                                              \u001b[0m\u001b[1m \u001b[0m│\u001b[1m \u001b[0m\u001b[1mWINS\u001b[0m\u001b[1m \u001b[0m│\u001b[1m \u001b[0m\u001b[1m  VP\u001b[0m\u001b[1m \u001b[0m│\u001b[1m \u001b[0m\u001b[1mSET…\u001b[0m\u001b[1m \u001b[0m│\u001b[1m \u001b[0m\u001b[1mCIT…\u001b[0m\u001b[1m \u001b[0m│\u001b[1m \u001b[0m\u001b[1mROAD\u001b[0m\u001b[1m \u001b[0m│\u001b[1m \u001b[0m\u001b[1mARMY\u001b[0m\u001b[1m \u001b[0m│\u001b[1m \u001b[0m\u001b[1m  VP\u001b[0m\u001b[1m \u001b[0m \n",
       "╶────────────────────────────────────────────────────────────────┼──────┼──────┼──────┼──────┼──────┼──────┼──────╴\n",
       "  \u001b[31mAB_DQNPlayer_1:RED\u001b[0m                                             │    0 │ 2.00 │ 2.00 │ 0.00 │ 0.00 │ 0.00 │ 0.00  \n",
       "  \u001b[33mWeightedRandomPlayer:ORANGE\u001b[0m                                    │    0 │ 3.50 │ 1.60 │ 0.60 │ 0.00 │ 0.10 │ 0.50  \n",
       "  \u001b[37mAlphaBetaPlayer:WHITE(depth=2,value_fn=base_fn,prunning=False)\u001b[0m │   10 │ 10.… │ 1.80 │ 3.10 │ 1.00 │ 0.00 │ 0.00  \n",
       "  \u001b[34mWeightedRandomPlayer:BLUE\u001b[0m                                      │    0 │ 3.40 │ 1.90 │ 0.60 │ 0.00 │ 0.10 │ 0.10  \n",
       "                                                                 ╵      ╵      ╵      ╵      ╵      ╵      ╵       \n"
      ]
     },
     "metadata": {},
     "output_type": "display_data"
    },
    {
     "data": {
      "text/html": [
       "<pre style=\"white-space:pre;overflow-x:auto;line-height:normal;font-family:Menlo,'DejaVu Sans Mono',consolas,'Courier New',monospace\"><span style=\"font-style: italic\">              Game Summary              </span>\n",
       "            ╷           ╷               \n",
       " <span style=\"font-weight: bold\"> AVG TICKS </span>│<span style=\"font-weight: bold\"> AVG TURNS </span>│<span style=\"font-weight: bold\"> AVG DURATION </span> \n",
       "╶───────────┼───────────┼──────────────╴\n",
       "     253.60 │     85.50 │   9.810 secs  \n",
       "            ╵           ╵               \n",
       "</pre>\n"
      ],
      "text/plain": [
       "\u001b[3m              Game Summary              \u001b[0m\n",
       "            ╷           ╷               \n",
       " \u001b[1m \u001b[0m\u001b[1mAVG TICKS\u001b[0m\u001b[1m \u001b[0m│\u001b[1m \u001b[0m\u001b[1mAVG TURNS\u001b[0m\u001b[1m \u001b[0m│\u001b[1m \u001b[0m\u001b[1mAVG DURATION\u001b[0m\u001b[1m \u001b[0m \n",
       "╶───────────┼───────────┼──────────────╴\n",
       "     253.60 │     85.50 │   9.810 secs  \n",
       "            ╵           ╵               \n"
      ]
     },
     "metadata": {},
     "output_type": "display_data"
    },
    {
     "name": "stdout",
     "output_type": "stream",
     "text": [
      "Loaded replay buffer with 5000 transitions\n"
     ]
    },
    {
     "data": {
      "text/html": [
       "<pre style=\"white-space:pre;overflow-x:auto;line-height:normal;font-family:Menlo,'DejaVu Sans Mono',consolas,'Courier New',monospace\"></pre>\n"
      ],
      "text/plain": []
     },
     "metadata": {},
     "output_type": "display_data"
    },
    {
     "data": {
      "text/html": [
       "<pre style=\"white-space:pre;overflow-x:auto;line-height:normal;font-family:Menlo,'DejaVu Sans Mono',consolas,'Courier New',monospace\">\n",
       "</pre>\n"
      ],
      "text/plain": [
       "\n"
      ]
     },
     "metadata": {},
     "output_type": "display_data"
    },
    {
     "ename": "KeyboardInterrupt",
     "evalue": "",
     "output_type": "error",
     "traceback": [
      "\u001b[31m---------------------------------------------------------------------------\u001b[39m",
      "\u001b[31mKeyboardInterrupt\u001b[39m                         Traceback (most recent call last)",
      "\u001b[36mCell\u001b[39m\u001b[36m \u001b[39m\u001b[32mIn[6]\u001b[39m\u001b[32m, line 27\u001b[39m\n\u001b[32m     24\u001b[39m players.append(AB_DQNPlayer_1(Color.RED))  \u001b[38;5;66;03m# always include DQN\u001b[39;00m\n\u001b[32m     26\u001b[39m random.shuffle(players)\n\u001b[32m---> \u001b[39m\u001b[32m27\u001b[39m wins, _, _ = \u001b[43mplay_batch\u001b[49m\u001b[43m(\u001b[49m\u001b[32;43m10\u001b[39;49m\u001b[43m,\u001b[49m\u001b[43m \u001b[49m\u001b[43mplayers\u001b[49m\u001b[43m)\u001b[49m\n\u001b[32m     28\u001b[39m all_wins.append(wins)\n",
      "\u001b[36mFile \u001b[39m\u001b[32mc:\\users\\sam\\code\\catan_atron\\catanatron\\catanatron_experimental\\catanatron_experimental\\catanatron\\catanatron_experimental\\catanatron_experimental\\play.py:313\u001b[39m, in \u001b[36mplay_batch\u001b[39m\u001b[34m(num_games, players, output_options, game_config, quiet)\u001b[39m\n\u001b[32m    305\u001b[39m main_task = progress.add_task(\u001b[33mf\u001b[39m\u001b[33m\"\u001b[39m\u001b[33mPlaying \u001b[39m\u001b[38;5;132;01m{\u001b[39;00mnum_games\u001b[38;5;132;01m}\u001b[39;00m\u001b[33m games...\u001b[39m\u001b[33m\"\u001b[39m, total=num_games)\n\u001b[32m    306\u001b[39m player_tasks = [\n\u001b[32m    307\u001b[39m     progress.add_task(\n\u001b[32m    308\u001b[39m         rich_player_name(player), total=num_games, show_time=\u001b[38;5;28;01mFalse\u001b[39;00m\n\u001b[32m    309\u001b[39m     )\n\u001b[32m    310\u001b[39m     \u001b[38;5;28;01mfor\u001b[39;00m player \u001b[38;5;129;01min\u001b[39;00m players\n\u001b[32m    311\u001b[39m ]\n\u001b[32m--> \u001b[39m\u001b[32m313\u001b[39m \u001b[43m\u001b[49m\u001b[38;5;28;43;01mfor\u001b[39;49;00m\u001b[43m \u001b[49m\u001b[43mi\u001b[49m\u001b[43m,\u001b[49m\u001b[43m \u001b[49m\u001b[43mgame\u001b[49m\u001b[43m \u001b[49m\u001b[38;5;129;43;01min\u001b[39;49;00m\u001b[43m \u001b[49m\u001b[38;5;28;43menumerate\u001b[39;49m\u001b[43m(\u001b[49m\n\u001b[32m    314\u001b[39m \u001b[43m    \u001b[49m\u001b[43mplay_batch_core\u001b[49m\u001b[43m(\u001b[49m\u001b[43mnum_games\u001b[49m\u001b[43m,\u001b[49m\u001b[43m \u001b[49m\u001b[43mplayers\u001b[49m\u001b[43m,\u001b[49m\u001b[43m \u001b[49m\u001b[43mgame_config\u001b[49m\u001b[43m,\u001b[49m\u001b[43m \u001b[49m\u001b[43maccumulators\u001b[49m\u001b[43m)\u001b[49m\n\u001b[32m    315\u001b[39m \u001b[43m\u001b[49m\u001b[43m)\u001b[49m\u001b[43m:\u001b[49m\n\u001b[32m    316\u001b[39m \u001b[43m    \u001b[49m\u001b[43mwinning_color\u001b[49m\u001b[43m \u001b[49m\u001b[43m=\u001b[49m\u001b[43m \u001b[49m\u001b[43mgame\u001b[49m\u001b[43m.\u001b[49m\u001b[43mwinning_color\u001b[49m\u001b[43m(\u001b[49m\u001b[43m)\u001b[49m\n\u001b[32m    318\u001b[39m \u001b[43m    \u001b[49m\u001b[38;5;28;43;01mif\u001b[39;49;00m\u001b[43m \u001b[49m\u001b[43m(\u001b[49m\u001b[43mnum_games\u001b[49m\u001b[43m \u001b[49m\u001b[43m-\u001b[49m\u001b[43m \u001b[49m\u001b[43mlast_n\u001b[49m\u001b[43m)\u001b[49m\u001b[43m \u001b[49m\u001b[43m<\u001b[49m\u001b[43m \u001b[49m\u001b[43m(\u001b[49m\u001b[43mi\u001b[49m\u001b[43m \u001b[49m\u001b[43m+\u001b[49m\u001b[43m \u001b[49m\u001b[32;43m1\u001b[39;49m\u001b[43m)\u001b[49m\u001b[43m:\u001b[49m\n",
      "\u001b[36mFile \u001b[39m\u001b[32mc:\\users\\sam\\code\\catan_atron\\catanatron\\catanatron_experimental\\catanatron_experimental\\catanatron\\catanatron_experimental\\catanatron_experimental\\play.py:244\u001b[39m, in \u001b[36mplay_batch_core\u001b[39m\u001b[34m(num_games, players, game_config, accumulators)\u001b[39m\n\u001b[32m    237\u001b[39m     catan_map = build_map(game_config.catan_map)\n\u001b[32m    238\u001b[39m     game = Game(\n\u001b[32m    239\u001b[39m         players,\n\u001b[32m    240\u001b[39m         discard_limit=game_config.discard_limit,\n\u001b[32m    241\u001b[39m         vps_to_win=game_config.vps_to_win,\n\u001b[32m    242\u001b[39m         catan_map=catan_map,\n\u001b[32m    243\u001b[39m     )\n\u001b[32m--> \u001b[39m\u001b[32m244\u001b[39m     \u001b[43mgame\u001b[49m\u001b[43m.\u001b[49m\u001b[43mplay\u001b[49m\u001b[43m(\u001b[49m\u001b[43maccumulators\u001b[49m\u001b[43m)\u001b[49m\n\u001b[32m    245\u001b[39m     \u001b[38;5;28;01myield\u001b[39;00m game\n\u001b[32m    247\u001b[39m \u001b[38;5;28;01mfor\u001b[39;00m accumulator \u001b[38;5;129;01min\u001b[39;00m accumulators:\n",
      "\u001b[36mFile \u001b[39m\u001b[32mc:\\users\\sam\\code\\catan_atron\\catanatron\\catanatron_experimental\\catanatron_experimental\\catanatron\\catanatron_core\\catanatron\\game.py:132\u001b[39m, in \u001b[36mGame.play\u001b[39m\u001b[34m(self, accumulators, decide_fn)\u001b[39m\n\u001b[32m    130\u001b[39m     accumulator.before(\u001b[38;5;28mself\u001b[39m)\n\u001b[32m    131\u001b[39m \u001b[38;5;28;01mwhile\u001b[39;00m \u001b[38;5;28mself\u001b[39m.winning_color() \u001b[38;5;129;01mis\u001b[39;00m \u001b[38;5;28;01mNone\u001b[39;00m \u001b[38;5;129;01mand\u001b[39;00m \u001b[38;5;28mself\u001b[39m.state.num_turns < TURNS_LIMIT:\n\u001b[32m--> \u001b[39m\u001b[32m132\u001b[39m     \u001b[38;5;28;43mself\u001b[39;49m\u001b[43m.\u001b[49m\u001b[43mplay_tick\u001b[49m\u001b[43m(\u001b[49m\u001b[43mdecide_fn\u001b[49m\u001b[43m=\u001b[49m\u001b[43mdecide_fn\u001b[49m\u001b[43m,\u001b[49m\u001b[43m \u001b[49m\u001b[43maccumulators\u001b[49m\u001b[43m=\u001b[49m\u001b[43maccumulators\u001b[49m\u001b[43m)\u001b[49m\n\u001b[32m    133\u001b[39m \u001b[38;5;28;01mfor\u001b[39;00m accumulator \u001b[38;5;129;01min\u001b[39;00m accumulators:\n\u001b[32m    134\u001b[39m     accumulator.after(\u001b[38;5;28mself\u001b[39m)\n",
      "\u001b[36mFile \u001b[39m\u001b[32mc:\\users\\sam\\code\\catan_atron\\catanatron\\catanatron_experimental\\catanatron_experimental\\catanatron\\catanatron_core\\catanatron\\game.py:153\u001b[39m, in \u001b[36mGame.play_tick\u001b[39m\u001b[34m(self, decide_fn, accumulators)\u001b[39m\n\u001b[32m    147\u001b[39m player = \u001b[38;5;28mself\u001b[39m.state.current_player()\n\u001b[32m    148\u001b[39m actions = \u001b[38;5;28mself\u001b[39m.state.playable_actions\n\u001b[32m    150\u001b[39m action = (\n\u001b[32m    151\u001b[39m     decide_fn(player, \u001b[38;5;28mself\u001b[39m, actions)\n\u001b[32m    152\u001b[39m     \u001b[38;5;28;01mif\u001b[39;00m decide_fn \u001b[38;5;129;01mis\u001b[39;00m \u001b[38;5;129;01mnot\u001b[39;00m \u001b[38;5;28;01mNone\u001b[39;00m\n\u001b[32m--> \u001b[39m\u001b[32m153\u001b[39m     \u001b[38;5;28;01melse\u001b[39;00m \u001b[43mplayer\u001b[49m\u001b[43m.\u001b[49m\u001b[43mdecide\u001b[49m\u001b[43m(\u001b[49m\u001b[38;5;28;43mself\u001b[39;49m\u001b[43m,\u001b[49m\u001b[43m \u001b[49m\u001b[43mactions\u001b[49m\u001b[43m)\u001b[49m\n\u001b[32m    154\u001b[39m )\n\u001b[32m    155\u001b[39m \u001b[38;5;66;03m# Call accumulator.step here, because we want game_before_action, action\u001b[39;00m\n\u001b[32m    156\u001b[39m \u001b[38;5;28;01mif\u001b[39;00m \u001b[38;5;28mlen\u001b[39m(accumulators) > \u001b[32m0\u001b[39m:\n",
      "\u001b[36mFile \u001b[39m\u001b[32mc:\\Users\\SAM\\CODE\\catan_atron\\catanatron\\catanatron_experimental\\catanatron_experimental\\machine_learning\\players\\apl_beta_dqn.py:170\u001b[39m, in \u001b[36mAB_DQNPlayer_1.decide\u001b[39m\u001b[34m(self, game, playable_actions)\u001b[39m\n\u001b[32m    167\u001b[39m     \u001b[38;5;28mself\u001b[39m.replay_buffer[-\u001b[32m1\u001b[39m] = (samples[chosen_idx], rewards[chosen_idx], next_sample)\n\u001b[32m    169\u001b[39m \u001b[38;5;28;01mif\u001b[39;00m TRAIN \u001b[38;5;129;01mand\u001b[39;00m \u001b[38;5;28mself\u001b[39m.step % FLUSH_EVERY == \u001b[32m0\u001b[39m:\n\u001b[32m--> \u001b[39m\u001b[32m170\u001b[39m     \u001b[38;5;28;43mself\u001b[39;49m\u001b[43m.\u001b[49m\u001b[43mupdate_model_and_flush_samples\u001b[49m\u001b[43m(\u001b[49m\u001b[43m)\u001b[49m\n\u001b[32m    172\u001b[39m \u001b[38;5;28mself\u001b[39m.step += \u001b[32m1\u001b[39m\n\u001b[32m    173\u001b[39m duration = time.time() - start\n",
      "\u001b[36mFile \u001b[39m\u001b[32mc:\\Users\\SAM\\CODE\\catan_atron\\catanatron\\catanatron_experimental\\catanatron_experimental\\machine_learning\\players\\apl_beta_dqn.py:223\u001b[39m, in \u001b[36mAB_DQNPlayer_1.update_model_and_flush_samples\u001b[39m\u001b[34m(self)\u001b[39m\n\u001b[32m    217\u001b[39m torch.save({\n\u001b[32m    218\u001b[39m     \u001b[33m'\u001b[39m\u001b[33mmodel_state_dict\u001b[39m\u001b[33m'\u001b[39m: \u001b[38;5;28mself\u001b[39m.model.state_dict(),\n\u001b[32m    219\u001b[39m     \u001b[33m'\u001b[39m\u001b[33mepsilon\u001b[39m\u001b[33m'\u001b[39m: \u001b[38;5;28mself\u001b[39m.epsilon\n\u001b[32m    220\u001b[39m }, MODEL_PATH + \u001b[33m\"\u001b[39m\u001b[33m.pt\u001b[39m\u001b[33m\"\u001b[39m)\n\u001b[32m    222\u001b[39m \u001b[38;5;66;03m# Save replay buffer to disk\u001b[39;00m\n\u001b[32m--> \u001b[39m\u001b[32m223\u001b[39m \u001b[43m\u001b[49m\u001b[38;5;28;43;01mwith\u001b[39;49;00m\u001b[43m \u001b[49m\u001b[38;5;28;43mopen\u001b[39;49m\u001b[43m(\u001b[49m\u001b[33;43m\"\u001b[39;49m\u001b[33;43mreplay_buffer.pkl\u001b[39;49m\u001b[33;43m\"\u001b[39;49m\u001b[43m,\u001b[49m\u001b[43m \u001b[49m\u001b[33;43m\"\u001b[39;49m\u001b[33;43mwb\u001b[39;49m\u001b[33;43m\"\u001b[39;49m\u001b[43m)\u001b[49m\u001b[43m \u001b[49m\u001b[38;5;28;43;01mas\u001b[39;49;00m\u001b[43m \u001b[49m\u001b[43mf\u001b[49m\u001b[43m:\u001b[49m\n\u001b[32m    224\u001b[39m \u001b[43m    \u001b[49m\u001b[43mpickle\u001b[49m\u001b[43m.\u001b[49m\u001b[43mdump\u001b[49m\u001b[43m(\u001b[49m\u001b[38;5;28;43mself\u001b[39;49m\u001b[43m.\u001b[49m\u001b[43mreplay_buffer\u001b[49m\u001b[43m,\u001b[49m\u001b[43m \u001b[49m\u001b[43mf\u001b[49m\u001b[43m)\u001b[49m\n",
      "\u001b[31mKeyboardInterrupt\u001b[39m: "
     ]
    }
   ],
   "source": [
    "from catanatron_experimental.play import play_batch\n",
    "import random\n",
    "\n",
    "\n",
    "num_batches = 50\n",
    "games_per_batch = 10\n",
    "ab_threshold = 40  # AlphaBeta allowed after 40 batches\n",
    "weighted_threshold = 20  # WeightedRandom allowed after 20 batches\n",
    "\n",
    "def curriculum_player_selector(batch_num, color, ab_used):\n",
    "    choices = []\n",
    "\n",
    "    # Phase 1: only random\n",
    "    if batch_num < weighted_threshold:\n",
    "        choices = [RandomPlayer]\n",
    "    # Phase 2: random + weighted\n",
    "    elif batch_num < ab_threshold:\n",
    "        choices = [RandomPlayer, WeightedRandomPlayer]\n",
    "    # Phase 3: add AlphaBeta (only 1 per game)\n",
    "    else:\n",
    "        choices = [RandomPlayer, WeightedRandomPlayer]\n",
    "        if not ab_used:\n",
    "            choices.append(AlphaBetaPlayer)\n",
    "\n",
    "    cls = random.choice(choices)\n",
    "    return cls(color), isinstance(cls, AlphaBetaPlayer)\n",
    "\n",
    "all_wins = []\n",
    "\n",
    "for batch in range(num_batches):\n",
    "    players = []\n",
    "    ab_used = False\n",
    "\n",
    "    for color in [Color.WHITE, Color.ORANGE, Color.BLUE]:\n",
    "        player, is_ab = curriculum_player_selector(batch, color, ab_used)\n",
    "        players.append(player)\n",
    "        ab_used = ab_used or is_ab\n",
    "\n",
    "    players.append(AB_DQNPlayer_1(Color.RED))  # Always include the DQN agent\n",
    "    random.shuffle(players)\n",
    "\n",
    "    print(f\"atch {batch + 1}/{num_batches}: Playing {games_per_batch} games\")\n",
    "    wins, _, _ = play_batch(games_per_batch, players)\n",
    "    all_wins.append(wins)"
   ]
  },
  {
   "cell_type": "markdown",
   "id": "c1e64f53-26dc-40d4-ae7c-1410355617e8",
   "metadata": {},
   "source": [
    "You can inspect the game states in a variety of ways and compute statistics"
   ]
  }
 ],
 "metadata": {
  "kernelspec": {
   "display_name": "catan311",
   "language": "python",
   "name": "python3"
  },
  "language_info": {
   "codemirror_mode": {
    "name": "ipython",
    "version": 3
   },
   "file_extension": ".py",
   "mimetype": "text/x-python",
   "name": "python",
   "nbconvert_exporter": "python",
   "pygments_lexer": "ipython3",
   "version": "3.11.11"
  }
 },
 "nbformat": 4,
 "nbformat_minor": 5
}
