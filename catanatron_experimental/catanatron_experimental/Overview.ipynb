{
 "cells": [
  {
   "cell_type": "markdown",
   "id": "38540cf7-9b4f-4c98-9abb-952c84443f1d",
   "metadata": {},
   "source": [
    "# Catanatron Introduction\n",
    "This shows example usage of Catanatron. First, clone the repo and install requirements."
   ]
  },
  {
   "cell_type": "code",
   "execution_count": null,
   "id": "3be394e4-9bcd-46bb-892b-7538ad3b2e55",
   "metadata": {},
   "outputs": [],
   "source": [
    "%pip install -r catanatron/dev-requirements.txt\n",
    "%pip install -e catanatron/catanatron_core\n",
    "%pip install -e catanatron/catanatron_server\n",
    "%pip install -e catanatron/catanatron_gym\n",
    "%pip install -e catanatron/catanatron_experimental\n",
    "exit() # Forcefully restart runtime to picks up installed requirements"
   ]
  },
  {
   "cell_type": "code",
   "execution_count": null,
   "id": "65228753",
   "metadata": {},
   "outputs": [],
   "source": [
    "%pip install -e catanatron/catanatron_experimental\n"
   ]
  },
  {
   "cell_type": "code",
   "execution_count": null,
   "id": "4f56dcbc",
   "metadata": {},
   "outputs": [],
   "source": [
    "%pip install tensorflow \n",
    "%pip uninstall pandas numpy -y\n",
    "%pip install --no-cache-dir numpy pandas\n",
    "%pip install \"numpy>=1.26.0,<2.2.0\"\n",
    "%pip install torch\n"
   ]
  },
  {
   "cell_type": "code",
   "execution_count": null,
   "id": "dd32b2b1",
   "metadata": {},
   "outputs": [],
   "source": [
    "%pip uninstall torch torchvision torchaudio -y\n",
    "%pip install torch torchvision torchaudio --index-url https://download.pytorch.org/whl/cu121\n"
   ]
  },
  {
   "cell_type": "code",
   "execution_count": 1,
   "id": "c362339e",
   "metadata": {},
   "outputs": [
    {
     "name": "stdout",
     "output_type": "stream",
     "text": [
      "True\n",
      "NVIDIA GeForce RTX 2060 SUPER\n"
     ]
    }
   ],
   "source": [
    "import torch\n",
    "print(torch.cuda.is_available())\n",
    "print(torch.cuda.get_device_name(0) if torch.cuda.is_available() else \"No GPU detected\")\n"
   ]
  },
  {
   "cell_type": "markdown",
   "id": "5ef8f5a2-feb0-49d3-a2b5-a9f1c462db5d",
   "metadata": {},
   "source": [
    "Then, you can implement your own bot strategy and pit against some benchmark bots."
   ]
  },
  {
   "cell_type": "code",
   "execution_count": 2,
   "id": "ef40e33f-8937-4918-b626-d70a2615e7aa",
   "metadata": {},
   "outputs": [],
   "source": [
    "import random\n",
    "\n",
    "from catanatron.game import Game\n",
    "from catanatron.models.player import Player, RandomPlayer, Color\n",
    "from machine_learning.players.online_mcts_dqn import OnlineMCTSDQNPlayer_1\n",
    "from machine_learning.players.apl_beta_dqn import AB_DQNPlayer_1\n",
    "from catanatron_experimental.machine_learning.players.minimax import AlphaBetaPlayer\n",
    "\n",
    "from catanatron.players.weighted_random import WeightedRandomPlayer\n"
   ]
  },
  {
   "cell_type": "code",
   "execution_count": 3,
   "id": "2bfdf5cd",
   "metadata": {},
   "outputs": [
    {
     "name": "stdout",
     "output_type": "stream",
     "text": [
      "['BANK_BRICK', 'BANK_DEV_CARDS', 'BANK_ORE', 'BANK_SHEEP', 'BANK_WHEAT', 'BANK_WOOD', 'EDGE(0, 1)_P0_ROAD', 'EDGE(0, 1)_P1_ROAD', 'EDGE(0, 1)_P2_ROAD', 'EDGE(0, 1)_P3_ROAD', 'EDGE(0, 20)_P0_ROAD', 'EDGE(0, 20)_P1_ROAD', 'EDGE(0, 20)_P2_ROAD', 'EDGE(0, 20)_P3_ROAD', 'EDGE(0, 5)_P0_ROAD', 'EDGE(0, 5)_P1_ROAD', 'EDGE(0, 5)_P2_ROAD', 'EDGE(0, 5)_P3_ROAD', 'EDGE(1, 2)_P0_ROAD', 'EDGE(1, 2)_P1_ROAD', 'EDGE(1, 2)_P2_ROAD', 'EDGE(1, 2)_P3_ROAD', 'EDGE(1, 6)_P0_ROAD', 'EDGE(1, 6)_P1_ROAD', 'EDGE(1, 6)_P2_ROAD', 'EDGE(1, 6)_P3_ROAD', 'EDGE(10, 11)_P0_ROAD', 'EDGE(10, 11)_P1_ROAD', 'EDGE(10, 11)_P2_ROAD', 'EDGE(10, 11)_P3_ROAD', 'EDGE(10, 29)_P0_ROAD', 'EDGE(10, 29)_P1_ROAD', 'EDGE(10, 29)_P2_ROAD', 'EDGE(10, 29)_P3_ROAD', 'EDGE(11, 12)_P0_ROAD', 'EDGE(11, 12)_P1_ROAD', 'EDGE(11, 12)_P2_ROAD', 'EDGE(11, 12)_P3_ROAD', 'EDGE(11, 32)_P0_ROAD', 'EDGE(11, 32)_P1_ROAD', 'EDGE(11, 32)_P2_ROAD', 'EDGE(11, 32)_P3_ROAD', 'EDGE(12, 13)_P0_ROAD', 'EDGE(12, 13)_P1_ROAD', 'EDGE(12, 13)_P2_ROAD', 'EDGE(12, 13)_P3_ROAD', 'EDGE(13, 14)_P0_ROAD', 'EDGE(13, 14)_P1_ROAD', 'EDGE(13, 14)_P2_ROAD', 'EDGE(13, 14)_P3_ROAD', 'EDGE(13, 34)_P0_ROAD', 'EDGE(13, 34)_P1_ROAD', 'EDGE(13, 34)_P2_ROAD', 'EDGE(13, 34)_P3_ROAD', 'EDGE(14, 15)_P0_ROAD', 'EDGE(14, 15)_P1_ROAD', 'EDGE(14, 15)_P2_ROAD', 'EDGE(14, 15)_P3_ROAD', 'EDGE(14, 37)_P0_ROAD', 'EDGE(14, 37)_P1_ROAD', 'EDGE(14, 37)_P2_ROAD', 'EDGE(14, 37)_P3_ROAD', 'EDGE(15, 17)_P0_ROAD', 'EDGE(15, 17)_P1_ROAD', 'EDGE(15, 17)_P2_ROAD', 'EDGE(15, 17)_P3_ROAD', 'EDGE(16, 18)_P0_ROAD', 'EDGE(16, 18)_P1_ROAD', 'EDGE(16, 18)_P2_ROAD', 'EDGE(16, 18)_P3_ROAD', 'EDGE(16, 21)_P0_ROAD', 'EDGE(16, 21)_P1_ROAD', 'EDGE(16, 21)_P2_ROAD', 'EDGE(16, 21)_P3_ROAD', 'EDGE(17, 18)_P0_ROAD', 'EDGE(17, 18)_P1_ROAD', 'EDGE(17, 18)_P2_ROAD', 'EDGE(17, 18)_P3_ROAD', 'EDGE(17, 39)_P0_ROAD', 'EDGE(17, 39)_P1_ROAD', 'EDGE(17, 39)_P2_ROAD', 'EDGE(17, 39)_P3_ROAD', 'EDGE(18, 40)_P0_ROAD', 'EDGE(18, 40)_P1_ROAD', 'EDGE(18, 40)_P2_ROAD', 'EDGE(18, 40)_P3_ROAD', 'EDGE(19, 20)_P0_ROAD', 'EDGE(19, 20)_P1_ROAD', 'EDGE(19, 20)_P2_ROAD', 'EDGE(19, 20)_P3_ROAD', 'EDGE(19, 21)_P0_ROAD', 'EDGE(19, 21)_P1_ROAD', 'EDGE(19, 21)_P2_ROAD', 'EDGE(19, 21)_P3_ROAD', 'EDGE(19, 46)_P0_ROAD', 'EDGE(19, 46)_P1_ROAD', 'EDGE(19, 46)_P2_ROAD', 'EDGE(19, 46)_P3_ROAD', 'EDGE(2, 3)_P0_ROAD', 'EDGE(2, 3)_P1_ROAD', 'EDGE(2, 3)_P2_ROAD', 'EDGE(2, 3)_P3_ROAD', 'EDGE(2, 9)_P0_ROAD', 'EDGE(2, 9)_P1_ROAD', 'EDGE(2, 9)_P2_ROAD', 'EDGE(2, 9)_P3_ROAD', 'EDGE(20, 22)_P0_ROAD', 'EDGE(20, 22)_P1_ROAD', 'EDGE(20, 22)_P2_ROAD', 'EDGE(20, 22)_P3_ROAD', 'EDGE(21, 43)_P0_ROAD', 'EDGE(21, 43)_P1_ROAD', 'EDGE(21, 43)_P2_ROAD', 'EDGE(21, 43)_P3_ROAD', 'EDGE(22, 23)_P0_ROAD', 'EDGE(22, 23)_P1_ROAD', 'EDGE(22, 23)_P2_ROAD', 'EDGE(22, 23)_P3_ROAD', 'EDGE(22, 49)_P0_ROAD', 'EDGE(22, 49)_P1_ROAD', 'EDGE(22, 49)_P2_ROAD', 'EDGE(22, 49)_P3_ROAD', 'EDGE(23, 52)_P0_ROAD', 'EDGE(23, 52)_P1_ROAD', 'EDGE(23, 52)_P2_ROAD', 'EDGE(23, 52)_P3_ROAD', 'EDGE(24, 25)_P0_ROAD', 'EDGE(24, 25)_P1_ROAD', 'EDGE(24, 25)_P2_ROAD', 'EDGE(24, 25)_P3_ROAD', 'EDGE(24, 53)_P0_ROAD', 'EDGE(24, 53)_P1_ROAD', 'EDGE(24, 53)_P2_ROAD', 'EDGE(24, 53)_P3_ROAD', 'EDGE(25, 26)_P0_ROAD', 'EDGE(25, 26)_P1_ROAD', 'EDGE(25, 26)_P2_ROAD', 'EDGE(25, 26)_P3_ROAD', 'EDGE(26, 27)_P0_ROAD', 'EDGE(26, 27)_P1_ROAD', 'EDGE(26, 27)_P2_ROAD', 'EDGE(26, 27)_P3_ROAD', 'EDGE(27, 28)_P0_ROAD', 'EDGE(27, 28)_P1_ROAD', 'EDGE(27, 28)_P2_ROAD', 'EDGE(27, 28)_P3_ROAD', 'EDGE(28, 29)_P0_ROAD', 'EDGE(28, 29)_P1_ROAD', 'EDGE(28, 29)_P2_ROAD', 'EDGE(28, 29)_P3_ROAD', 'EDGE(29, 30)_P0_ROAD', 'EDGE(29, 30)_P1_ROAD', 'EDGE(29, 30)_P2_ROAD', 'EDGE(29, 30)_P3_ROAD', 'EDGE(3, 12)_P0_ROAD', 'EDGE(3, 12)_P1_ROAD', 'EDGE(3, 12)_P2_ROAD', 'EDGE(3, 12)_P3_ROAD', 'EDGE(3, 4)_P0_ROAD', 'EDGE(3, 4)_P1_ROAD', 'EDGE(3, 4)_P2_ROAD', 'EDGE(3, 4)_P3_ROAD', 'EDGE(30, 31)_P0_ROAD', 'EDGE(30, 31)_P1_ROAD', 'EDGE(30, 31)_P2_ROAD', 'EDGE(30, 31)_P3_ROAD', 'EDGE(31, 32)_P0_ROAD', 'EDGE(31, 32)_P1_ROAD', 'EDGE(31, 32)_P2_ROAD', 'EDGE(31, 32)_P3_ROAD', 'EDGE(32, 33)_P0_ROAD', 'EDGE(32, 33)_P1_ROAD', 'EDGE(32, 33)_P2_ROAD', 'EDGE(32, 33)_P3_ROAD', 'EDGE(33, 34)_P0_ROAD', 'EDGE(33, 34)_P1_ROAD', 'EDGE(33, 34)_P2_ROAD', 'EDGE(33, 34)_P3_ROAD', 'EDGE(34, 35)_P0_ROAD', 'EDGE(34, 35)_P1_ROAD', 'EDGE(34, 35)_P2_ROAD', 'EDGE(34, 35)_P3_ROAD', 'EDGE(35, 36)_P0_ROAD', 'EDGE(35, 36)_P1_ROAD', 'EDGE(35, 36)_P2_ROAD', 'EDGE(35, 36)_P3_ROAD', 'EDGE(36, 37)_P0_ROAD', 'EDGE(36, 37)_P1_ROAD', 'EDGE(36, 37)_P2_ROAD', 'EDGE(36, 37)_P3_ROAD', 'EDGE(37, 38)_P0_ROAD', 'EDGE(37, 38)_P1_ROAD', 'EDGE(37, 38)_P2_ROAD', 'EDGE(37, 38)_P3_ROAD', 'EDGE(38, 39)_P0_ROAD', 'EDGE(38, 39)_P1_ROAD', 'EDGE(38, 39)_P2_ROAD', 'EDGE(38, 39)_P3_ROAD', 'EDGE(39, 41)_P0_ROAD', 'EDGE(39, 41)_P1_ROAD', 'EDGE(39, 41)_P2_ROAD', 'EDGE(39, 41)_P3_ROAD', 'EDGE(4, 15)_P0_ROAD', 'EDGE(4, 15)_P1_ROAD', 'EDGE(4, 15)_P2_ROAD', 'EDGE(4, 15)_P3_ROAD', 'EDGE(4, 5)_P0_ROAD', 'EDGE(4, 5)_P1_ROAD', 'EDGE(4, 5)_P2_ROAD', 'EDGE(4, 5)_P3_ROAD', 'EDGE(40, 42)_P0_ROAD', 'EDGE(40, 42)_P1_ROAD', 'EDGE(40, 42)_P2_ROAD', 'EDGE(40, 42)_P3_ROAD', 'EDGE(40, 44)_P0_ROAD', 'EDGE(40, 44)_P1_ROAD', 'EDGE(40, 44)_P2_ROAD', 'EDGE(40, 44)_P3_ROAD', 'EDGE(41, 42)_P0_ROAD', 'EDGE(41, 42)_P1_ROAD', 'EDGE(41, 42)_P2_ROAD', 'EDGE(41, 42)_P3_ROAD', 'EDGE(43, 44)_P0_ROAD', 'EDGE(43, 44)_P1_ROAD', 'EDGE(43, 44)_P2_ROAD', 'EDGE(43, 44)_P3_ROAD', 'EDGE(43, 47)_P0_ROAD', 'EDGE(43, 47)_P1_ROAD', 'EDGE(43, 47)_P2_ROAD', 'EDGE(43, 47)_P3_ROAD', 'EDGE(45, 46)_P0_ROAD', 'EDGE(45, 46)_P1_ROAD', 'EDGE(45, 46)_P2_ROAD', 'EDGE(45, 46)_P3_ROAD', 'EDGE(45, 47)_P0_ROAD', 'EDGE(45, 47)_P1_ROAD', 'EDGE(45, 47)_P2_ROAD', 'EDGE(45, 47)_P3_ROAD', 'EDGE(46, 48)_P0_ROAD', 'EDGE(46, 48)_P1_ROAD', 'EDGE(46, 48)_P2_ROAD', 'EDGE(46, 48)_P3_ROAD', 'EDGE(48, 49)_P0_ROAD', 'EDGE(48, 49)_P1_ROAD', 'EDGE(48, 49)_P2_ROAD', 'EDGE(48, 49)_P3_ROAD', 'EDGE(49, 50)_P0_ROAD', 'EDGE(49, 50)_P1_ROAD', 'EDGE(49, 50)_P2_ROAD', 'EDGE(49, 50)_P3_ROAD', 'EDGE(5, 16)_P0_ROAD', 'EDGE(5, 16)_P1_ROAD', 'EDGE(5, 16)_P2_ROAD', 'EDGE(5, 16)_P3_ROAD', 'EDGE(50, 51)_P0_ROAD', 'EDGE(50, 51)_P1_ROAD', 'EDGE(50, 51)_P2_ROAD', 'EDGE(50, 51)_P3_ROAD', 'EDGE(51, 52)_P0_ROAD', 'EDGE(51, 52)_P1_ROAD', 'EDGE(51, 52)_P2_ROAD', 'EDGE(51, 52)_P3_ROAD', 'EDGE(52, 53)_P0_ROAD', 'EDGE(52, 53)_P1_ROAD', 'EDGE(52, 53)_P2_ROAD', 'EDGE(52, 53)_P3_ROAD', 'EDGE(6, 23)_P0_ROAD', 'EDGE(6, 23)_P1_ROAD', 'EDGE(6, 23)_P2_ROAD', 'EDGE(6, 23)_P3_ROAD', 'EDGE(6, 7)_P0_ROAD', 'EDGE(6, 7)_P1_ROAD', 'EDGE(6, 7)_P2_ROAD', 'EDGE(6, 7)_P3_ROAD', 'EDGE(7, 24)_P0_ROAD', 'EDGE(7, 24)_P1_ROAD', 'EDGE(7, 24)_P2_ROAD', 'EDGE(7, 24)_P3_ROAD', 'EDGE(7, 8)_P0_ROAD', 'EDGE(7, 8)_P1_ROAD', 'EDGE(7, 8)_P2_ROAD', 'EDGE(7, 8)_P3_ROAD', 'EDGE(8, 27)_P0_ROAD', 'EDGE(8, 27)_P1_ROAD', 'EDGE(8, 27)_P2_ROAD', 'EDGE(8, 27)_P3_ROAD', 'EDGE(8, 9)_P0_ROAD', 'EDGE(8, 9)_P1_ROAD', 'EDGE(8, 9)_P2_ROAD', 'EDGE(8, 9)_P3_ROAD', 'EDGE(9, 10)_P0_ROAD', 'EDGE(9, 10)_P1_ROAD', 'EDGE(9, 10)_P2_ROAD', 'EDGE(9, 10)_P3_ROAD', 'IS_DISCARDING', 'IS_MOVING_ROBBER', 'NODE0_P0_CITY', 'NODE0_P0_SETTLEMENT', 'NODE0_P1_CITY', 'NODE0_P1_SETTLEMENT', 'NODE0_P2_CITY', 'NODE0_P2_SETTLEMENT', 'NODE0_P3_CITY', 'NODE0_P3_SETTLEMENT', 'NODE10_P0_CITY', 'NODE10_P0_SETTLEMENT', 'NODE10_P1_CITY', 'NODE10_P1_SETTLEMENT', 'NODE10_P2_CITY', 'NODE10_P2_SETTLEMENT', 'NODE10_P3_CITY', 'NODE10_P3_SETTLEMENT', 'NODE11_P0_CITY', 'NODE11_P0_SETTLEMENT', 'NODE11_P1_CITY', 'NODE11_P1_SETTLEMENT', 'NODE11_P2_CITY', 'NODE11_P2_SETTLEMENT', 'NODE11_P3_CITY', 'NODE11_P3_SETTLEMENT', 'NODE12_P0_CITY', 'NODE12_P0_SETTLEMENT', 'NODE12_P1_CITY', 'NODE12_P1_SETTLEMENT', 'NODE12_P2_CITY', 'NODE12_P2_SETTLEMENT', 'NODE12_P3_CITY', 'NODE12_P3_SETTLEMENT', 'NODE13_P0_CITY', 'NODE13_P0_SETTLEMENT', 'NODE13_P1_CITY', 'NODE13_P1_SETTLEMENT', 'NODE13_P2_CITY', 'NODE13_P2_SETTLEMENT', 'NODE13_P3_CITY', 'NODE13_P3_SETTLEMENT', 'NODE14_P0_CITY', 'NODE14_P0_SETTLEMENT', 'NODE14_P1_CITY', 'NODE14_P1_SETTLEMENT', 'NODE14_P2_CITY', 'NODE14_P2_SETTLEMENT', 'NODE14_P3_CITY', 'NODE14_P3_SETTLEMENT', 'NODE15_P0_CITY', 'NODE15_P0_SETTLEMENT', 'NODE15_P1_CITY', 'NODE15_P1_SETTLEMENT', 'NODE15_P2_CITY', 'NODE15_P2_SETTLEMENT', 'NODE15_P3_CITY', 'NODE15_P3_SETTLEMENT', 'NODE16_P0_CITY', 'NODE16_P0_SETTLEMENT', 'NODE16_P1_CITY', 'NODE16_P1_SETTLEMENT', 'NODE16_P2_CITY', 'NODE16_P2_SETTLEMENT', 'NODE16_P3_CITY', 'NODE16_P3_SETTLEMENT', 'NODE17_P0_CITY', 'NODE17_P0_SETTLEMENT', 'NODE17_P1_CITY', 'NODE17_P1_SETTLEMENT', 'NODE17_P2_CITY', 'NODE17_P2_SETTLEMENT', 'NODE17_P3_CITY', 'NODE17_P3_SETTLEMENT', 'NODE18_P0_CITY', 'NODE18_P0_SETTLEMENT', 'NODE18_P1_CITY', 'NODE18_P1_SETTLEMENT', 'NODE18_P2_CITY', 'NODE18_P2_SETTLEMENT', 'NODE18_P3_CITY', 'NODE18_P3_SETTLEMENT', 'NODE19_P0_CITY', 'NODE19_P0_SETTLEMENT', 'NODE19_P1_CITY', 'NODE19_P1_SETTLEMENT', 'NODE19_P2_CITY', 'NODE19_P2_SETTLEMENT', 'NODE19_P3_CITY', 'NODE19_P3_SETTLEMENT', 'NODE1_P0_CITY', 'NODE1_P0_SETTLEMENT', 'NODE1_P1_CITY', 'NODE1_P1_SETTLEMENT', 'NODE1_P2_CITY', 'NODE1_P2_SETTLEMENT', 'NODE1_P3_CITY', 'NODE1_P3_SETTLEMENT', 'NODE20_P0_CITY', 'NODE20_P0_SETTLEMENT', 'NODE20_P1_CITY', 'NODE20_P1_SETTLEMENT', 'NODE20_P2_CITY', 'NODE20_P2_SETTLEMENT', 'NODE20_P3_CITY', 'NODE20_P3_SETTLEMENT', 'NODE21_P0_CITY', 'NODE21_P0_SETTLEMENT', 'NODE21_P1_CITY', 'NODE21_P1_SETTLEMENT', 'NODE21_P2_CITY', 'NODE21_P2_SETTLEMENT', 'NODE21_P3_CITY', 'NODE21_P3_SETTLEMENT', 'NODE22_P0_CITY', 'NODE22_P0_SETTLEMENT', 'NODE22_P1_CITY', 'NODE22_P1_SETTLEMENT', 'NODE22_P2_CITY', 'NODE22_P2_SETTLEMENT', 'NODE22_P3_CITY', 'NODE22_P3_SETTLEMENT', 'NODE23_P0_CITY', 'NODE23_P0_SETTLEMENT', 'NODE23_P1_CITY', 'NODE23_P1_SETTLEMENT', 'NODE23_P2_CITY', 'NODE23_P2_SETTLEMENT', 'NODE23_P3_CITY', 'NODE23_P3_SETTLEMENT', 'NODE24_P0_CITY', 'NODE24_P0_SETTLEMENT', 'NODE24_P1_CITY', 'NODE24_P1_SETTLEMENT', 'NODE24_P2_CITY', 'NODE24_P2_SETTLEMENT', 'NODE24_P3_CITY', 'NODE24_P3_SETTLEMENT', 'NODE25_P0_CITY', 'NODE25_P0_SETTLEMENT', 'NODE25_P1_CITY', 'NODE25_P1_SETTLEMENT', 'NODE25_P2_CITY', 'NODE25_P2_SETTLEMENT', 'NODE25_P3_CITY', 'NODE25_P3_SETTLEMENT', 'NODE26_P0_CITY', 'NODE26_P0_SETTLEMENT', 'NODE26_P1_CITY', 'NODE26_P1_SETTLEMENT', 'NODE26_P2_CITY', 'NODE26_P2_SETTLEMENT', 'NODE26_P3_CITY', 'NODE26_P3_SETTLEMENT', 'NODE27_P0_CITY', 'NODE27_P0_SETTLEMENT', 'NODE27_P1_CITY', 'NODE27_P1_SETTLEMENT', 'NODE27_P2_CITY', 'NODE27_P2_SETTLEMENT', 'NODE27_P3_CITY', 'NODE27_P3_SETTLEMENT', 'NODE28_P0_CITY', 'NODE28_P0_SETTLEMENT', 'NODE28_P1_CITY', 'NODE28_P1_SETTLEMENT', 'NODE28_P2_CITY', 'NODE28_P2_SETTLEMENT', 'NODE28_P3_CITY', 'NODE28_P3_SETTLEMENT', 'NODE29_P0_CITY', 'NODE29_P0_SETTLEMENT', 'NODE29_P1_CITY', 'NODE29_P1_SETTLEMENT', 'NODE29_P2_CITY', 'NODE29_P2_SETTLEMENT', 'NODE29_P3_CITY', 'NODE29_P3_SETTLEMENT', 'NODE2_P0_CITY', 'NODE2_P0_SETTLEMENT', 'NODE2_P1_CITY', 'NODE2_P1_SETTLEMENT', 'NODE2_P2_CITY', 'NODE2_P2_SETTLEMENT', 'NODE2_P3_CITY', 'NODE2_P3_SETTLEMENT', 'NODE30_P0_CITY', 'NODE30_P0_SETTLEMENT', 'NODE30_P1_CITY', 'NODE30_P1_SETTLEMENT', 'NODE30_P2_CITY', 'NODE30_P2_SETTLEMENT', 'NODE30_P3_CITY', 'NODE30_P3_SETTLEMENT', 'NODE31_P0_CITY', 'NODE31_P0_SETTLEMENT', 'NODE31_P1_CITY', 'NODE31_P1_SETTLEMENT', 'NODE31_P2_CITY', 'NODE31_P2_SETTLEMENT', 'NODE31_P3_CITY', 'NODE31_P3_SETTLEMENT', 'NODE32_P0_CITY', 'NODE32_P0_SETTLEMENT', 'NODE32_P1_CITY', 'NODE32_P1_SETTLEMENT', 'NODE32_P2_CITY', 'NODE32_P2_SETTLEMENT', 'NODE32_P3_CITY', 'NODE32_P3_SETTLEMENT', 'NODE33_P0_CITY', 'NODE33_P0_SETTLEMENT', 'NODE33_P1_CITY', 'NODE33_P1_SETTLEMENT', 'NODE33_P2_CITY', 'NODE33_P2_SETTLEMENT', 'NODE33_P3_CITY', 'NODE33_P3_SETTLEMENT', 'NODE34_P0_CITY', 'NODE34_P0_SETTLEMENT', 'NODE34_P1_CITY', 'NODE34_P1_SETTLEMENT', 'NODE34_P2_CITY', 'NODE34_P2_SETTLEMENT', 'NODE34_P3_CITY', 'NODE34_P3_SETTLEMENT', 'NODE35_P0_CITY', 'NODE35_P0_SETTLEMENT', 'NODE35_P1_CITY', 'NODE35_P1_SETTLEMENT', 'NODE35_P2_CITY', 'NODE35_P2_SETTLEMENT', 'NODE35_P3_CITY', 'NODE35_P3_SETTLEMENT', 'NODE36_P0_CITY', 'NODE36_P0_SETTLEMENT', 'NODE36_P1_CITY', 'NODE36_P1_SETTLEMENT', 'NODE36_P2_CITY', 'NODE36_P2_SETTLEMENT', 'NODE36_P3_CITY', 'NODE36_P3_SETTLEMENT', 'NODE37_P0_CITY', 'NODE37_P0_SETTLEMENT', 'NODE37_P1_CITY', 'NODE37_P1_SETTLEMENT', 'NODE37_P2_CITY', 'NODE37_P2_SETTLEMENT', 'NODE37_P3_CITY', 'NODE37_P3_SETTLEMENT', 'NODE38_P0_CITY', 'NODE38_P0_SETTLEMENT', 'NODE38_P1_CITY', 'NODE38_P1_SETTLEMENT', 'NODE38_P2_CITY', 'NODE38_P2_SETTLEMENT', 'NODE38_P3_CITY', 'NODE38_P3_SETTLEMENT', 'NODE39_P0_CITY', 'NODE39_P0_SETTLEMENT', 'NODE39_P1_CITY', 'NODE39_P1_SETTLEMENT', 'NODE39_P2_CITY', 'NODE39_P2_SETTLEMENT', 'NODE39_P3_CITY', 'NODE39_P3_SETTLEMENT', 'NODE3_P0_CITY', 'NODE3_P0_SETTLEMENT', 'NODE3_P1_CITY', 'NODE3_P1_SETTLEMENT', 'NODE3_P2_CITY', 'NODE3_P2_SETTLEMENT', 'NODE3_P3_CITY', 'NODE3_P3_SETTLEMENT', 'NODE40_P0_CITY', 'NODE40_P0_SETTLEMENT', 'NODE40_P1_CITY', 'NODE40_P1_SETTLEMENT', 'NODE40_P2_CITY', 'NODE40_P2_SETTLEMENT', 'NODE40_P3_CITY', 'NODE40_P3_SETTLEMENT', 'NODE41_P0_CITY', 'NODE41_P0_SETTLEMENT', 'NODE41_P1_CITY', 'NODE41_P1_SETTLEMENT', 'NODE41_P2_CITY', 'NODE41_P2_SETTLEMENT', 'NODE41_P3_CITY', 'NODE41_P3_SETTLEMENT', 'NODE42_P0_CITY', 'NODE42_P0_SETTLEMENT', 'NODE42_P1_CITY', 'NODE42_P1_SETTLEMENT', 'NODE42_P2_CITY', 'NODE42_P2_SETTLEMENT', 'NODE42_P3_CITY', 'NODE42_P3_SETTLEMENT', 'NODE43_P0_CITY', 'NODE43_P0_SETTLEMENT', 'NODE43_P1_CITY', 'NODE43_P1_SETTLEMENT', 'NODE43_P2_CITY', 'NODE43_P2_SETTLEMENT', 'NODE43_P3_CITY', 'NODE43_P3_SETTLEMENT', 'NODE44_P0_CITY', 'NODE44_P0_SETTLEMENT', 'NODE44_P1_CITY', 'NODE44_P1_SETTLEMENT', 'NODE44_P2_CITY', 'NODE44_P2_SETTLEMENT', 'NODE44_P3_CITY', 'NODE44_P3_SETTLEMENT', 'NODE45_P0_CITY', 'NODE45_P0_SETTLEMENT', 'NODE45_P1_CITY', 'NODE45_P1_SETTLEMENT', 'NODE45_P2_CITY', 'NODE45_P2_SETTLEMENT', 'NODE45_P3_CITY', 'NODE45_P3_SETTLEMENT', 'NODE46_P0_CITY', 'NODE46_P0_SETTLEMENT', 'NODE46_P1_CITY', 'NODE46_P1_SETTLEMENT', 'NODE46_P2_CITY', 'NODE46_P2_SETTLEMENT', 'NODE46_P3_CITY', 'NODE46_P3_SETTLEMENT', 'NODE47_P0_CITY', 'NODE47_P0_SETTLEMENT', 'NODE47_P1_CITY', 'NODE47_P1_SETTLEMENT', 'NODE47_P2_CITY', 'NODE47_P2_SETTLEMENT', 'NODE47_P3_CITY', 'NODE47_P3_SETTLEMENT', 'NODE48_P0_CITY', 'NODE48_P0_SETTLEMENT', 'NODE48_P1_CITY', 'NODE48_P1_SETTLEMENT', 'NODE48_P2_CITY', 'NODE48_P2_SETTLEMENT', 'NODE48_P3_CITY', 'NODE48_P3_SETTLEMENT', 'NODE49_P0_CITY', 'NODE49_P0_SETTLEMENT', 'NODE49_P1_CITY', 'NODE49_P1_SETTLEMENT', 'NODE49_P2_CITY', 'NODE49_P2_SETTLEMENT', 'NODE49_P3_CITY', 'NODE49_P3_SETTLEMENT', 'NODE4_P0_CITY', 'NODE4_P0_SETTLEMENT', 'NODE4_P1_CITY', 'NODE4_P1_SETTLEMENT', 'NODE4_P2_CITY', 'NODE4_P2_SETTLEMENT', 'NODE4_P3_CITY', 'NODE4_P3_SETTLEMENT', 'NODE50_P0_CITY', 'NODE50_P0_SETTLEMENT', 'NODE50_P1_CITY', 'NODE50_P1_SETTLEMENT', 'NODE50_P2_CITY', 'NODE50_P2_SETTLEMENT', 'NODE50_P3_CITY', 'NODE50_P3_SETTLEMENT', 'NODE51_P0_CITY', 'NODE51_P0_SETTLEMENT', 'NODE51_P1_CITY', 'NODE51_P1_SETTLEMENT', 'NODE51_P2_CITY', 'NODE51_P2_SETTLEMENT', 'NODE51_P3_CITY', 'NODE51_P3_SETTLEMENT', 'NODE52_P0_CITY', 'NODE52_P0_SETTLEMENT', 'NODE52_P1_CITY', 'NODE52_P1_SETTLEMENT', 'NODE52_P2_CITY', 'NODE52_P2_SETTLEMENT', 'NODE52_P3_CITY', 'NODE52_P3_SETTLEMENT', 'NODE53_P0_CITY', 'NODE53_P0_SETTLEMENT', 'NODE53_P1_CITY', 'NODE53_P1_SETTLEMENT', 'NODE53_P2_CITY', 'NODE53_P2_SETTLEMENT', 'NODE53_P3_CITY', 'NODE53_P3_SETTLEMENT', 'NODE5_P0_CITY', 'NODE5_P0_SETTLEMENT', 'NODE5_P1_CITY', 'NODE5_P1_SETTLEMENT', 'NODE5_P2_CITY', 'NODE5_P2_SETTLEMENT', 'NODE5_P3_CITY', 'NODE5_P3_SETTLEMENT', 'NODE6_P0_CITY', 'NODE6_P0_SETTLEMENT', 'NODE6_P1_CITY', 'NODE6_P1_SETTLEMENT', 'NODE6_P2_CITY', 'NODE6_P2_SETTLEMENT', 'NODE6_P3_CITY', 'NODE6_P3_SETTLEMENT', 'NODE7_P0_CITY', 'NODE7_P0_SETTLEMENT', 'NODE7_P1_CITY', 'NODE7_P1_SETTLEMENT', 'NODE7_P2_CITY', 'NODE7_P2_SETTLEMENT', 'NODE7_P3_CITY', 'NODE7_P3_SETTLEMENT', 'NODE8_P0_CITY', 'NODE8_P0_SETTLEMENT', 'NODE8_P1_CITY', 'NODE8_P1_SETTLEMENT', 'NODE8_P2_CITY', 'NODE8_P2_SETTLEMENT', 'NODE8_P3_CITY', 'NODE8_P3_SETTLEMENT', 'NODE9_P0_CITY', 'NODE9_P0_SETTLEMENT', 'NODE9_P1_CITY', 'NODE9_P1_SETTLEMENT', 'NODE9_P2_CITY', 'NODE9_P2_SETTLEMENT', 'NODE9_P3_CITY', 'NODE9_P3_SETTLEMENT', 'P0_ACTUAL_VPS', 'P0_BRICK_IN_HAND', 'P0_CITIES_LEFT', 'P0_HAS_ARMY', 'P0_HAS_PLAYED_DEVELOPMENT_CARD_IN_TURN', 'P0_HAS_ROAD', 'P0_HAS_ROLLED', 'P0_KNIGHT_IN_HAND', 'P0_KNIGHT_PLAYED', 'P0_LONGEST_ROAD_LENGTH', 'P0_MONOPOLY_IN_HAND', 'P0_MONOPOLY_PLAYED', 'P0_NUM_DEVS_IN_HAND', 'P0_NUM_RESOURCES_IN_HAND', 'P0_ORE_IN_HAND', 'P0_PUBLIC_VPS', 'P0_ROADS_LEFT', 'P0_ROAD_BUILDING_IN_HAND', 'P0_ROAD_BUILDING_PLAYED', 'P0_SETTLEMENTS_LEFT', 'P0_SHEEP_IN_HAND', 'P0_VICTORY_POINT_IN_HAND', 'P0_WHEAT_IN_HAND', 'P0_WOOD_IN_HAND', 'P0_YEAR_OF_PLENTY_IN_HAND', 'P0_YEAR_OF_PLENTY_PLAYED', 'P1_CITIES_LEFT', 'P1_HAS_ARMY', 'P1_HAS_ROAD', 'P1_HAS_ROLLED', 'P1_KNIGHT_PLAYED', 'P1_LONGEST_ROAD_LENGTH', 'P1_MONOPOLY_PLAYED', 'P1_NUM_DEVS_IN_HAND', 'P1_NUM_RESOURCES_IN_HAND', 'P1_PUBLIC_VPS', 'P1_ROADS_LEFT', 'P1_ROAD_BUILDING_PLAYED', 'P1_SETTLEMENTS_LEFT', 'P1_YEAR_OF_PLENTY_PLAYED', 'P2_CITIES_LEFT', 'P2_HAS_ARMY', 'P2_HAS_ROAD', 'P2_HAS_ROLLED', 'P2_KNIGHT_PLAYED', 'P2_LONGEST_ROAD_LENGTH', 'P2_MONOPOLY_PLAYED', 'P2_NUM_DEVS_IN_HAND', 'P2_NUM_RESOURCES_IN_HAND', 'P2_PUBLIC_VPS', 'P2_ROADS_LEFT', 'P2_ROAD_BUILDING_PLAYED', 'P2_SETTLEMENTS_LEFT', 'P2_YEAR_OF_PLENTY_PLAYED', 'P3_CITIES_LEFT', 'P3_HAS_ARMY', 'P3_HAS_ROAD', 'P3_HAS_ROLLED', 'P3_KNIGHT_PLAYED', 'P3_LONGEST_ROAD_LENGTH', 'P3_MONOPOLY_PLAYED', 'P3_NUM_DEVS_IN_HAND', 'P3_NUM_RESOURCES_IN_HAND', 'P3_PUBLIC_VPS', 'P3_ROADS_LEFT', 'P3_ROAD_BUILDING_PLAYED', 'P3_SETTLEMENTS_LEFT', 'P3_YEAR_OF_PLENTY_PLAYED', 'PORT0_IS_BRICK', 'PORT0_IS_ORE', 'PORT0_IS_SHEEP', 'PORT0_IS_THREE_TO_ONE', 'PORT0_IS_WHEAT', 'PORT0_IS_WOOD', 'PORT1_IS_BRICK', 'PORT1_IS_ORE', 'PORT1_IS_SHEEP', 'PORT1_IS_THREE_TO_ONE', 'PORT1_IS_WHEAT', 'PORT1_IS_WOOD', 'PORT2_IS_BRICK', 'PORT2_IS_ORE', 'PORT2_IS_SHEEP', 'PORT2_IS_THREE_TO_ONE', 'PORT2_IS_WHEAT', 'PORT2_IS_WOOD', 'PORT3_IS_BRICK', 'PORT3_IS_ORE', 'PORT3_IS_SHEEP', 'PORT3_IS_THREE_TO_ONE', 'PORT3_IS_WHEAT', 'PORT3_IS_WOOD', 'PORT4_IS_BRICK', 'PORT4_IS_ORE', 'PORT4_IS_SHEEP', 'PORT4_IS_THREE_TO_ONE', 'PORT4_IS_WHEAT', 'PORT4_IS_WOOD', 'PORT5_IS_BRICK', 'PORT5_IS_ORE', 'PORT5_IS_SHEEP', 'PORT5_IS_THREE_TO_ONE', 'PORT5_IS_WHEAT', 'PORT5_IS_WOOD', 'PORT6_IS_BRICK', 'PORT6_IS_ORE', 'PORT6_IS_SHEEP', 'PORT6_IS_THREE_TO_ONE', 'PORT6_IS_WHEAT', 'PORT6_IS_WOOD', 'PORT7_IS_BRICK', 'PORT7_IS_ORE', 'PORT7_IS_SHEEP', 'PORT7_IS_THREE_TO_ONE', 'PORT7_IS_WHEAT', 'PORT7_IS_WOOD', 'PORT8_IS_BRICK', 'PORT8_IS_ORE', 'PORT8_IS_SHEEP', 'PORT8_IS_THREE_TO_ONE', 'PORT8_IS_WHEAT', 'PORT8_IS_WOOD', 'TILE0_HAS_ROBBER', 'TILE0_IS_BRICK', 'TILE0_IS_DESERT', 'TILE0_IS_ORE', 'TILE0_IS_SHEEP', 'TILE0_IS_WHEAT', 'TILE0_IS_WOOD', 'TILE0_PROBA', 'TILE10_HAS_ROBBER', 'TILE10_IS_BRICK', 'TILE10_IS_DESERT', 'TILE10_IS_ORE', 'TILE10_IS_SHEEP', 'TILE10_IS_WHEAT', 'TILE10_IS_WOOD', 'TILE10_PROBA', 'TILE11_HAS_ROBBER', 'TILE11_IS_BRICK', 'TILE11_IS_DESERT', 'TILE11_IS_ORE', 'TILE11_IS_SHEEP', 'TILE11_IS_WHEAT', 'TILE11_IS_WOOD', 'TILE11_PROBA', 'TILE12_HAS_ROBBER', 'TILE12_IS_BRICK', 'TILE12_IS_DESERT', 'TILE12_IS_ORE', 'TILE12_IS_SHEEP', 'TILE12_IS_WHEAT', 'TILE12_IS_WOOD', 'TILE12_PROBA', 'TILE13_HAS_ROBBER', 'TILE13_IS_BRICK', 'TILE13_IS_DESERT', 'TILE13_IS_ORE', 'TILE13_IS_SHEEP', 'TILE13_IS_WHEAT', 'TILE13_IS_WOOD', 'TILE13_PROBA', 'TILE14_HAS_ROBBER', 'TILE14_IS_BRICK', 'TILE14_IS_DESERT', 'TILE14_IS_ORE', 'TILE14_IS_SHEEP', 'TILE14_IS_WHEAT', 'TILE14_IS_WOOD', 'TILE14_PROBA', 'TILE15_HAS_ROBBER', 'TILE15_IS_BRICK', 'TILE15_IS_DESERT', 'TILE15_IS_ORE', 'TILE15_IS_SHEEP', 'TILE15_IS_WHEAT', 'TILE15_IS_WOOD', 'TILE15_PROBA', 'TILE16_HAS_ROBBER', 'TILE16_IS_BRICK', 'TILE16_IS_DESERT', 'TILE16_IS_ORE', 'TILE16_IS_SHEEP', 'TILE16_IS_WHEAT', 'TILE16_IS_WOOD', 'TILE16_PROBA', 'TILE17_HAS_ROBBER', 'TILE17_IS_BRICK', 'TILE17_IS_DESERT', 'TILE17_IS_ORE', 'TILE17_IS_SHEEP', 'TILE17_IS_WHEAT', 'TILE17_IS_WOOD', 'TILE17_PROBA', 'TILE18_HAS_ROBBER', 'TILE18_IS_BRICK', 'TILE18_IS_DESERT', 'TILE18_IS_ORE', 'TILE18_IS_SHEEP', 'TILE18_IS_WHEAT', 'TILE18_IS_WOOD', 'TILE18_PROBA', 'TILE1_HAS_ROBBER', 'TILE1_IS_BRICK', 'TILE1_IS_DESERT', 'TILE1_IS_ORE', 'TILE1_IS_SHEEP', 'TILE1_IS_WHEAT', 'TILE1_IS_WOOD', 'TILE1_PROBA', 'TILE2_HAS_ROBBER', 'TILE2_IS_BRICK', 'TILE2_IS_DESERT', 'TILE2_IS_ORE', 'TILE2_IS_SHEEP', 'TILE2_IS_WHEAT', 'TILE2_IS_WOOD', 'TILE2_PROBA', 'TILE3_HAS_ROBBER', 'TILE3_IS_BRICK', 'TILE3_IS_DESERT', 'TILE3_IS_ORE', 'TILE3_IS_SHEEP', 'TILE3_IS_WHEAT', 'TILE3_IS_WOOD', 'TILE3_PROBA', 'TILE4_HAS_ROBBER', 'TILE4_IS_BRICK', 'TILE4_IS_DESERT', 'TILE4_IS_ORE', 'TILE4_IS_SHEEP', 'TILE4_IS_WHEAT', 'TILE4_IS_WOOD', 'TILE4_PROBA', 'TILE5_HAS_ROBBER', 'TILE5_IS_BRICK', 'TILE5_IS_DESERT', 'TILE5_IS_ORE', 'TILE5_IS_SHEEP', 'TILE5_IS_WHEAT', 'TILE5_IS_WOOD', 'TILE5_PROBA', 'TILE6_HAS_ROBBER', 'TILE6_IS_BRICK', 'TILE6_IS_DESERT', 'TILE6_IS_ORE', 'TILE6_IS_SHEEP', 'TILE6_IS_WHEAT', 'TILE6_IS_WOOD', 'TILE6_PROBA', 'TILE7_HAS_ROBBER', 'TILE7_IS_BRICK', 'TILE7_IS_DESERT', 'TILE7_IS_ORE', 'TILE7_IS_SHEEP', 'TILE7_IS_WHEAT', 'TILE7_IS_WOOD', 'TILE7_PROBA', 'TILE8_HAS_ROBBER', 'TILE8_IS_BRICK', 'TILE8_IS_DESERT', 'TILE8_IS_ORE', 'TILE8_IS_SHEEP', 'TILE8_IS_WHEAT', 'TILE8_IS_WOOD', 'TILE8_PROBA', 'TILE9_HAS_ROBBER', 'TILE9_IS_BRICK', 'TILE9_IS_DESERT', 'TILE9_IS_ORE', 'TILE9_IS_SHEEP', 'TILE9_IS_WHEAT', 'TILE9_IS_WOOD', 'TILE9_PROBA']\n"
     ]
    }
   ],
   "source": [
    "from catanatron_gym.features import (\n",
    "    create_sample_vector,\n",
    "    get_feature_ordering,\n",
    ")\n",
    "print(get_feature_ordering())"
   ]
  },
  {
   "cell_type": "code",
   "execution_count": 4,
   "id": "3d2b9474",
   "metadata": {},
   "outputs": [],
   "source": [
    "\n",
    "\n",
    "# Play a simple 4v4 game. Edit MyPlayer with your logic!\n",
    "players = [\n",
    "    #OnlineMCTSDQNPlayer_1(Color.RED),\n",
    "    RandomPlayer(Color.WHITE), #RandomPlayer\n",
    "    AlphaBetaPlayer(Color.ORANGE),\n",
    "    AB_DQNPlayer_1(Color.RED),\n",
    "    WeightedRandomPlayer(Color.BLUE),\n",
    "]\n"
   ]
  },
  {
   "cell_type": "code",
   "execution_count": 5,
   "id": "7abd61fb",
   "metadata": {},
   "outputs": [
    {
     "name": "stdout",
     "output_type": "stream",
     "text": [
      "Trained DQN model with loss: 329062581217775551322943127552.0000\n",
      "Trained DQN model with loss: 313593808671828426675151962112.0000\n",
      "Trained DQN model with loss: 331875071579245260183573626880.0000\n",
      "Trained DQN model with loss: 355781352988533374370417999872.0000\n",
      "Trained DQN model with loss: 462993881490964599928707350528.0000\n",
      "Trained DQN model with loss: 463556334228540306152239398912.0000\n",
      "Trained DQN model with loss: 549675109462084989341476585472.0000\n",
      "Trained DQN model with loss: 642150114423708489074025168896.0000\n",
      "Trained DQN model with loss: 713868883093709105720234868736.0000\n",
      "Trained DQN model with loss: 913050141091868342087002882048.0000\n",
      "Trained DQN model with loss: 962268911312247561933845168128.0000\n",
      "Trained DQN model with loss: 1087425147965900098760681193472.0000\n",
      "Trained DQN model with loss: 1252968951727646989313130889216.0000\n",
      "Trained DQN model with loss: 957206383326883850436116217856.0000\n",
      "Trained DQN model with loss: 1388306534960502755306372071424.0000\n",
      "Trained DQN model with loss: 1384650138819078309367473242112.0000\n",
      "Trained DQN model with loss: 1710900229675384151829785870336.0000\n",
      "Trained DQN model with loss: 1639237676055995615440200007680.0000\n",
      "Trained DQN model with loss: 2062968895914017274090357784576.0000\n",
      "Trained DQN model with loss: 2546212662672845542267010678784.0000\n",
      "Trained DQN model with loss: 3002343698959449070113881325568.0000\n",
      "Trained DQN model with loss: 2583281350616779109336438800384.0000\n",
      "Trained DQN model with loss: 2565000276604021590613825683456.0000\n",
      "Trained DQN model with loss: 2718281190198780038303996444672.0000\n",
      "Trained DQN model with loss: 2923593666606842318358933667840.0000\n",
      "Trained DQN model with loss: 3145274998612486677439392514048.0000\n",
      "Trained DQN model with loss: 3294843905478118406248627961856.0000\n",
      "Trained DQN model with loss: 3256875172261481747758631092224.0000\n",
      "Trained DQN model with loss: 3522768734879162517701856854016.0000\n",
      "Trained DQN model with loss: 4090781322299276420808378941440.0000\n",
      "Trained DQN model with loss: 4051406608354427948588198789120.0000\n",
      "Trained DQN model with loss: 3871406620757456774193259479040.0000\n",
      "Trained DQN model with loss: 3760650277330552715037965811712.0000\n",
      "Color.RED\n"
     ]
    }
   ],
   "source": [
    "game = Game(players)\n",
    "print(game.play())  # returns winning color"
   ]
  },
  {
   "cell_type": "markdown",
   "id": "cd529f61-6de7-4de1-8e0c-273db6a2de9f",
   "metadata": {},
   "source": [
    "You can also simulate thousands of games to get more statistically significant results:"
   ]
  },
  {
   "cell_type": "code",
   "execution_count": null,
   "id": "e06b3b9c-aa9c-4ec3-9b05-74c5d389d766",
   "metadata": {},
   "outputs": [
    {
     "data": {
      "text/html": [
       "<pre style=\"white-space:pre;overflow-x:auto;line-height:normal;font-family:Menlo,'DejaVu Sans Mono',consolas,'Courier New',monospace\">c:\\Users\\SAM\\anaconda3\\envs\\catan311\\Lib\\site-packages\\rich\\live.py:231: UserWarning: install \"ipywidgets\" for \n",
       "Jupyter support\n",
       "  warnings.warn('install \"ipywidgets\" for Jupyter support')\n",
       "</pre>\n"
      ],
      "text/plain": [
       "c:\\Users\\SAM\\anaconda3\\envs\\catan311\\Lib\\site-packages\\rich\\live.py:231: UserWarning: install \"ipywidgets\" for \n",
       "Jupyter support\n",
       "  warnings.warn('install \"ipywidgets\" for Jupyter support')\n"
      ]
     },
     "metadata": {},
     "output_type": "display_data"
    },
    {
     "data": {
      "text/html": [
       "<pre style=\"white-space:pre;overflow-x:auto;line-height:normal;font-family:Menlo,'DejaVu Sans Mono',consolas,'Courier New',monospace\">Trained DQN model with loss: 4238437708518277806263229218816.0000\n",
       "</pre>\n"
      ],
      "text/plain": [
       "Trained DQN model with loss: 4238437708518277806263229218816.0000\n"
      ]
     },
     "metadata": {},
     "output_type": "display_data"
    },
    {
     "data": {
      "text/html": [
       "<pre style=\"white-space:pre;overflow-x:auto;line-height:normal;font-family:Menlo,'DejaVu Sans Mono',consolas,'Courier New',monospace\">Trained DQN model with loss: 3362343976384846322561053622272.0000\n",
       "</pre>\n"
      ],
      "text/plain": [
       "Trained DQN model with loss: 3362343976384846322561053622272.0000\n"
      ]
     },
     "metadata": {},
     "output_type": "display_data"
    },
    {
     "data": {
      "text/html": [
       "<pre style=\"white-space:pre;overflow-x:auto;line-height:normal;font-family:Menlo,'DejaVu Sans Mono',consolas,'Courier New',monospace\">Trained DQN model with loss: 2790000109984508106778852982784.0000\n",
       "</pre>\n"
      ],
      "text/plain": [
       "Trained DQN model with loss: 2790000109984508106778852982784.0000\n"
      ]
     },
     "metadata": {},
     "output_type": "display_data"
    },
    {
     "data": {
      "text/html": [
       "<pre style=\"white-space:pre;overflow-x:auto;line-height:normal;font-family:Menlo,'DejaVu Sans Mono',consolas,'Courier New',monospace\">Trained DQN model with loss: 3929062710946517668793346424832.0000\n",
       "</pre>\n"
      ],
      "text/plain": [
       "Trained DQN model with loss: 3929062710946517668793346424832.0000\n"
      ]
     },
     "metadata": {},
     "output_type": "display_data"
    },
    {
     "data": {
      "text/html": [
       "<pre style=\"white-space:pre;overflow-x:auto;line-height:normal;font-family:Menlo,'DejaVu Sans Mono',consolas,'Courier New',monospace\">Trained DQN model with loss: 3183750271747541865553591271424.0000\n",
       "</pre>\n"
      ],
      "text/plain": [
       "Trained DQN model with loss: 3183750271747541865553591271424.0000\n"
      ]
     },
     "metadata": {},
     "output_type": "display_data"
    },
    {
     "data": {
      "text/html": [
       "<pre style=\"white-space:pre;overflow-x:auto;line-height:normal;font-family:Menlo,'DejaVu Sans Mono',consolas,'Courier New',monospace\">Trained DQN model with loss: 3105000239394935113798643613696.0000\n",
       "</pre>\n"
      ],
      "text/plain": [
       "Trained DQN model with loss: 3105000239394935113798643613696.0000\n"
      ]
     },
     "metadata": {},
     "output_type": "display_data"
    },
    {
     "data": {
      "text/html": [
       "<pre style=\"white-space:pre;overflow-x:auto;line-height:normal;font-family:Menlo,'DejaVu Sans Mono',consolas,'Courier New',monospace\">Trained DQN model with loss: 3383437616316937276058620657664.0000\n",
       "</pre>\n"
      ],
      "text/plain": [
       "Trained DQN model with loss: 3383437616316937276058620657664.0000\n"
      ]
     },
     "metadata": {},
     "output_type": "display_data"
    },
    {
     "data": {
      "text/html": [
       "<pre style=\"white-space:pre;overflow-x:auto;line-height:normal;font-family:Menlo,'DejaVu Sans Mono',consolas,'Courier New',monospace\">Trained DQN model with loss: 3366619040314458554980108337152.0000\n",
       "</pre>\n"
      ],
      "text/plain": [
       "Trained DQN model with loss: 3366619040314458554980108337152.0000\n"
      ]
     },
     "metadata": {},
     "output_type": "display_data"
    },
    {
     "data": {
      "text/html": [
       "<pre style=\"white-space:pre;overflow-x:auto;line-height:normal;font-family:Menlo,'DejaVu Sans Mono',consolas,'Courier New',monospace\">Trained DQN model with loss: 3892500260689547727690826514432.0000\n",
       "</pre>\n"
      ],
      "text/plain": [
       "Trained DQN model with loss: 3892500260689547727690826514432.0000\n"
      ]
     },
     "metadata": {},
     "output_type": "display_data"
    },
    {
     "data": {
      "text/html": [
       "<pre style=\"white-space:pre;overflow-x:auto;line-height:normal;font-family:Menlo,'DejaVu Sans Mono',consolas,'Courier New',monospace\">Trained DQN model with loss: 3569062735752575320003467804672.0000\n",
       "</pre>\n"
      ],
      "text/plain": [
       "Trained DQN model with loss: 3569062735752575320003467804672.0000\n"
      ]
     },
     "metadata": {},
     "output_type": "display_data"
    },
    {
     "data": {
      "text/html": [
       "<pre style=\"white-space:pre;overflow-x:auto;line-height:normal;font-family:Menlo,'DejaVu Sans Mono',consolas,'Courier New',monospace\">Trained DQN model with loss: 3917868662319796009950154588160.0000\n",
       "</pre>\n"
      ],
      "text/plain": [
       "Trained DQN model with loss: 3917868662319796009950154588160.0000\n"
      ]
     },
     "metadata": {},
     "output_type": "display_data"
    },
    {
     "data": {
      "text/html": [
       "<pre style=\"white-space:pre;overflow-x:auto;line-height:normal;font-family:Menlo,'DejaVu Sans Mono',consolas,'Courier New',monospace\">Trained DQN model with loss: 3343612577504282354470862454784.0000\n",
       "</pre>\n"
      ],
      "text/plain": [
       "Trained DQN model with loss: 3343612577504282354470862454784.0000\n"
      ]
     },
     "metadata": {},
     "output_type": "display_data"
    },
    {
     "data": {
      "text/html": [
       "<pre style=\"white-space:pre;overflow-x:auto;line-height:normal;font-family:Menlo,'DejaVu Sans Mono',consolas,'Courier New',monospace\">Trained DQN model with loss: 3301931233095609169785342918656.0000\n",
       "</pre>\n"
      ],
      "text/plain": [
       "Trained DQN model with loss: 3301931233095609169785342918656.0000\n"
      ]
     },
     "metadata": {},
     "output_type": "display_data"
    },
    {
     "data": {
      "text/html": [
       "<pre style=\"white-space:pre;overflow-x:auto;line-height:normal;font-family:Menlo,'DejaVu Sans Mono',consolas,'Courier New',monospace\">Trained DQN model with loss: 2866837621690484515179415470080.0000\n",
       "</pre>\n"
      ],
      "text/plain": [
       "Trained DQN model with loss: 2866837621690484515179415470080.0000\n"
      ]
     },
     "metadata": {},
     "output_type": "display_data"
    },
    {
     "data": {
      "text/html": [
       "<pre style=\"white-space:pre;overflow-x:auto;line-height:normal;font-family:Menlo,'DejaVu Sans Mono',consolas,'Courier New',monospace\">Trained DQN model with loss: 3376406503750058592778529538048.0000\n",
       "</pre>\n"
      ],
      "text/plain": [
       "Trained DQN model with loss: 3376406503750058592778529538048.0000\n"
      ]
     },
     "metadata": {},
     "output_type": "display_data"
    },
    {
     "data": {
      "text/html": [
       "<pre style=\"white-space:pre;overflow-x:auto;line-height:normal;font-family:Menlo,'DejaVu Sans Mono',consolas,'Courier New',monospace\">Trained DQN model with loss: 3188868863667790205479297220608.0000\n",
       "</pre>\n"
      ],
      "text/plain": [
       "Trained DQN model with loss: 3188868863667790205479297220608.0000\n"
      ]
     },
     "metadata": {},
     "output_type": "display_data"
    },
    {
     "data": {
      "text/html": [
       "<pre style=\"white-space:pre;overflow-x:auto;line-height:normal;font-family:Menlo,'DejaVu Sans Mono',consolas,'Courier New',monospace\">Trained DQN model with loss: 2646562572644506873486433583104.0000\n",
       "</pre>\n"
      ],
      "text/plain": [
       "Trained DQN model with loss: 2646562572644506873486433583104.0000\n"
      ]
     },
     "metadata": {},
     "output_type": "display_data"
    },
    {
     "data": {
      "text/html": [
       "<pre style=\"white-space:pre;overflow-x:auto;line-height:normal;font-family:Menlo,'DejaVu Sans Mono',consolas,'Courier New',monospace\">Trained DQN model with loss: 3200962353104305148428470452224.0000\n",
       "</pre>\n"
      ],
      "text/plain": [
       "Trained DQN model with loss: 3200962353104305148428470452224.0000\n"
      ]
     },
     "metadata": {},
     "output_type": "display_data"
    },
    {
     "data": {
      "text/html": [
       "<pre style=\"white-space:pre;overflow-x:auto;line-height:normal;font-family:Menlo,'DejaVu Sans Mono',consolas,'Courier New',monospace\">Trained DQN model with loss: 3238593796017269325378724298752.0000\n",
       "</pre>\n"
      ],
      "text/plain": [
       "Trained DQN model with loss: 3238593796017269325378724298752.0000\n"
      ]
     },
     "metadata": {},
     "output_type": "display_data"
    },
    {
     "data": {
      "text/html": [
       "<pre style=\"white-space:pre;overflow-x:auto;line-height:normal;font-family:Menlo,'DejaVu Sans Mono',consolas,'Courier New',monospace\">Trained DQN model with loss: 2766150119183695798762955866112.0000\n",
       "</pre>\n"
      ],
      "text/plain": [
       "Trained DQN model with loss: 2766150119183695798762955866112.0000\n"
      ]
     },
     "metadata": {},
     "output_type": "display_data"
    },
    {
     "data": {
      "text/html": [
       "<pre style=\"white-space:pre;overflow-x:auto;line-height:normal;font-family:Menlo,'DejaVu Sans Mono',consolas,'Courier New',monospace\">Trained DQN model with loss: 2822400228644544879632859529216.0000\n",
       "</pre>\n"
      ],
      "text/plain": [
       "Trained DQN model with loss: 2822400228644544879632859529216.0000\n"
      ]
     },
     "metadata": {},
     "output_type": "display_data"
    },
    {
     "data": {
      "text/html": [
       "<pre style=\"white-space:pre;overflow-x:auto;line-height:normal;font-family:Menlo,'DejaVu Sans Mono',consolas,'Courier New',monospace\">Trained DQN model with loss: 3158437782936450759893593358336.0000\n",
       "</pre>\n"
      ],
      "text/plain": [
       "Trained DQN model with loss: 3158437782936450759893593358336.0000\n"
      ]
     },
     "metadata": {},
     "output_type": "display_data"
    },
    {
     "data": {
      "text/html": [
       "<pre style=\"white-space:pre;overflow-x:auto;line-height:normal;font-family:Menlo,'DejaVu Sans Mono',consolas,'Courier New',monospace\">Trained DQN model with loss: 2677556408344876928952963170304.0000\n",
       "</pre>\n"
      ],
      "text/plain": [
       "Trained DQN model with loss: 2677556408344876928952963170304.0000\n"
      ]
     },
     "metadata": {},
     "output_type": "display_data"
    },
    {
     "data": {
      "text/html": [
       "<pre style=\"white-space:pre;overflow-x:auto;line-height:normal;font-family:Menlo,'DejaVu Sans Mono',consolas,'Courier New',monospace\">Trained DQN model with loss: 3304518938812494283533801488384.0000\n",
       "</pre>\n"
      ],
      "text/plain": [
       "Trained DQN model with loss: 3304518938812494283533801488384.0000\n"
      ]
     },
     "metadata": {},
     "output_type": "display_data"
    },
    {
     "data": {
      "text/html": [
       "<pre style=\"white-space:pre;overflow-x:auto;line-height:normal;font-family:Menlo,'DejaVu Sans Mono',consolas,'Courier New',monospace\">Trained DQN model with loss: 2906718875553751517023797510144.0000\n",
       "</pre>\n"
      ],
      "text/plain": [
       "Trained DQN model with loss: 2906718875553751517023797510144.0000\n"
      ]
     },
     "metadata": {},
     "output_type": "display_data"
    },
    {
     "data": {
      "text/html": [
       "<pre style=\"white-space:pre;overflow-x:auto;line-height:normal;font-family:Menlo,'DejaVu Sans Mono',consolas,'Courier New',monospace\">Trained DQN model with loss: 3583124960886332686563650043904.0000\n",
       "</pre>\n"
      ],
      "text/plain": [
       "Trained DQN model with loss: 3583124960886332686563650043904.0000\n"
      ]
     },
     "metadata": {},
     "output_type": "display_data"
    },
    {
     "data": {
      "text/html": [
       "<pre style=\"white-space:pre;overflow-x:auto;line-height:normal;font-family:Menlo,'DejaVu Sans Mono',consolas,'Courier New',monospace\">Trained DQN model with loss: 2712656360591568072411382284288.0000\n",
       "</pre>\n"
      ],
      "text/plain": [
       "Trained DQN model with loss: 2712656360591568072411382284288.0000\n"
      ]
     },
     "metadata": {},
     "output_type": "display_data"
    },
    {
     "data": {
      "text/html": [
       "<pre style=\"white-space:pre;overflow-x:auto;line-height:normal;font-family:Menlo,'DejaVu Sans Mono',consolas,'Courier New',monospace\">Trained DQN model with loss: 2905312894825539703293614227456.0000\n",
       "</pre>\n"
      ],
      "text/plain": [
       "Trained DQN model with loss: 2905312894825539703293614227456.0000\n"
      ]
     },
     "metadata": {},
     "output_type": "display_data"
    },
    {
     "data": {
      "text/html": [
       "<pre style=\"white-space:pre;overflow-x:auto;line-height:normal;font-family:Menlo,'DejaVu Sans Mono',consolas,'Courier New',monospace\">Trained DQN model with loss: 3890024985073886774455615619072.0000\n",
       "</pre>\n"
      ],
      "text/plain": [
       "Trained DQN model with loss: 3890024985073886774455615619072.0000\n"
      ]
     },
     "metadata": {},
     "output_type": "display_data"
    },
    {
     "data": {
      "text/html": [
       "<pre style=\"white-space:pre;overflow-x:auto;line-height:normal;font-family:Menlo,'DejaVu Sans Mono',consolas,'Courier New',monospace\">Trained DQN model with loss: 2735156585714780646953719955456.0000\n",
       "</pre>\n"
      ],
      "text/plain": [
       "Trained DQN model with loss: 2735156585714780646953719955456.0000\n"
      ]
     },
     "metadata": {},
     "output_type": "display_data"
    },
    {
     "data": {
      "text/html": [
       "<pre style=\"white-space:pre;overflow-x:auto;line-height:normal;font-family:Menlo,'DejaVu Sans Mono',consolas,'Courier New',monospace\">Trained DQN model with loss: 3569062735752575320003467804672.0000\n",
       "</pre>\n"
      ],
      "text/plain": [
       "Trained DQN model with loss: 3569062735752575320003467804672.0000\n"
      ]
     },
     "metadata": {},
     "output_type": "display_data"
    },
    {
     "data": {
      "text/html": [
       "<pre style=\"white-space:pre;overflow-x:auto;line-height:normal;font-family:Menlo,'DejaVu Sans Mono',consolas,'Courier New',monospace\">Trained DQN model with loss: 3404868848784155614753224392704.0000\n",
       "</pre>\n"
      ],
      "text/plain": [
       "Trained DQN model with loss: 3404868848784155614753224392704.0000\n"
      ]
     },
     "metadata": {},
     "output_type": "display_data"
    },
    {
     "data": {
      "text/html": [
       "<pre style=\"white-space:pre;overflow-x:auto;line-height:normal;font-family:Menlo,'DejaVu Sans Mono',consolas,'Courier New',monospace\">Trained DQN model with loss: 2867343859377448141146323681280.0000\n",
       "</pre>\n"
      ],
      "text/plain": [
       "Trained DQN model with loss: 2867343859377448141146323681280.0000\n"
      ]
     },
     "metadata": {},
     "output_type": "display_data"
    },
    {
     "data": {
      "text/html": [
       "<pre style=\"white-space:pre;overflow-x:auto;line-height:normal;font-family:Menlo,'DejaVu Sans Mono',consolas,'Courier New',monospace\">Trained DQN model with loss: 3476249873803301394373750554624.0000\n",
       "</pre>\n"
      ],
      "text/plain": [
       "Trained DQN model with loss: 3476249873803301394373750554624.0000\n"
      ]
     },
     "metadata": {},
     "output_type": "display_data"
    },
    {
     "data": {
      "text/html": [
       "<pre style=\"white-space:pre;overflow-x:auto;line-height:normal;font-family:Menlo,'DejaVu Sans Mono',consolas,'Courier New',monospace\">Trained DQN model with loss: 3411562671047361816493572489216.0000\n",
       "</pre>\n"
      ],
      "text/plain": [
       "Trained DQN model with loss: 3411562671047361816493572489216.0000\n"
      ]
     },
     "metadata": {},
     "output_type": "display_data"
    },
    {
     "data": {
      "text/html": [
       "<pre style=\"white-space:pre;overflow-x:auto;line-height:normal;font-family:Menlo,'DejaVu Sans Mono',consolas,'Courier New',monospace\">Trained DQN model with loss: 3673125256916273177418413375488.0000\n",
       "</pre>\n"
      ],
      "text/plain": [
       "Trained DQN model with loss: 3673125256916273177418413375488.0000\n"
      ]
     },
     "metadata": {},
     "output_type": "display_data"
    },
    {
     "data": {
      "text/html": [
       "<pre style=\"white-space:pre;overflow-x:auto;line-height:normal;font-family:Menlo,'DejaVu Sans Mono',consolas,'Courier New',monospace\">Trained DQN model with loss: 3362343674153391418903759945728.0000\n",
       "</pre>\n"
      ],
      "text/plain": [
       "Trained DQN model with loss: 3362343674153391418903759945728.0000\n"
      ]
     },
     "metadata": {},
     "output_type": "display_data"
    },
    {
     "data": {
      "text/html": [
       "<pre style=\"white-space:pre;overflow-x:auto;line-height:normal;font-family:Menlo,'DejaVu Sans Mono',consolas,'Courier New',monospace\">Trained DQN model with loss: 3562031320954241733066083008512.0000\n",
       "</pre>\n"
      ],
      "text/plain": [
       "Trained DQN model with loss: 3562031320954241733066083008512.0000\n"
      ]
     },
     "metadata": {},
     "output_type": "display_data"
    },
    {
     "data": {
      "text/html": [
       "<pre style=\"white-space:pre;overflow-x:auto;line-height:normal;font-family:Menlo,'DejaVu Sans Mono',consolas,'Courier New',monospace\">Trained DQN model with loss: 3704062575334576248971025448960.0000\n",
       "</pre>\n"
      ],
      "text/plain": [
       "Trained DQN model with loss: 3704062575334576248971025448960.0000\n"
      ]
     },
     "metadata": {},
     "output_type": "display_data"
    },
    {
     "data": {
      "text/html": [
       "<pre style=\"white-space:pre;overflow-x:auto;line-height:normal;font-family:Menlo,'DejaVu Sans Mono',consolas,'Courier New',monospace\">Trained DQN model with loss: 3870000035566335153148488843264.0000\n",
       "</pre>\n"
      ],
      "text/plain": [
       "Trained DQN model with loss: 3870000035566335153148488843264.0000\n"
      ]
     },
     "metadata": {},
     "output_type": "display_data"
    },
    {
     "data": {
      "text/html": [
       "<pre style=\"white-space:pre;overflow-x:auto;line-height:normal;font-family:Menlo,'DejaVu Sans Mono',consolas,'Courier New',monospace\">Trained DQN model with loss: 3460781365709877310426091356160.0000\n",
       "</pre>\n"
      ],
      "text/plain": [
       "Trained DQN model with loss: 3460781365709877310426091356160.0000\n"
      ]
     },
     "metadata": {},
     "output_type": "display_data"
    },
    {
     "data": {
      "text/html": [
       "<pre style=\"white-space:pre;overflow-x:auto;line-height:normal;font-family:Menlo,'DejaVu Sans Mono',consolas,'Courier New',monospace\">Trained DQN model with loss: 3529687417344817040468700299264.0000\n",
       "</pre>\n"
      ],
      "text/plain": [
       "Trained DQN model with loss: 3529687417344817040468700299264.0000\n"
      ]
     },
     "metadata": {},
     "output_type": "display_data"
    },
    {
     "data": {
      "text/html": [
       "<pre style=\"white-space:pre;overflow-x:auto;line-height:normal;font-family:Menlo,'DejaVu Sans Mono',consolas,'Courier New',monospace\">Trained DQN model with loss: 3844687848986698951145784606720.0000\n",
       "</pre>\n"
      ],
      "text/plain": [
       "Trained DQN model with loss: 3844687848986698951145784606720.0000\n"
      ]
     },
     "metadata": {},
     "output_type": "display_data"
    },
    {
     "data": {
      "text/html": [
       "<pre style=\"white-space:pre;overflow-x:auto;line-height:normal;font-family:Menlo,'DejaVu Sans Mono',consolas,'Courier New',monospace\">Trained DQN model with loss: 3504375230765180838465996062720.0000\n",
       "</pre>\n"
      ],
      "text/plain": [
       "Trained DQN model with loss: 3504375230765180838465996062720.0000\n"
      ]
     },
     "metadata": {},
     "output_type": "display_data"
    },
    {
     "data": {
      "text/html": [
       "<pre style=\"white-space:pre;overflow-x:auto;line-height:normal;font-family:Menlo,'DejaVu Sans Mono',consolas,'Courier New',monospace\">Trained DQN model with loss: 3105000239394935113798643613696.0000\n",
       "</pre>\n"
      ],
      "text/plain": [
       "Trained DQN model with loss: 3105000239394935113798643613696.0000\n"
      ]
     },
     "metadata": {},
     "output_type": "display_data"
    },
    {
     "data": {
      "text/html": [
       "<pre style=\"white-space:pre;overflow-x:auto;line-height:normal;font-family:Menlo,'DejaVu Sans Mono',consolas,'Courier New',monospace\">Trained DQN model with loss: 3736406478944000941568408158208.0000\n",
       "</pre>\n"
      ],
      "text/plain": [
       "Trained DQN model with loss: 3736406478944000941568408158208.0000\n"
      ]
     },
     "metadata": {},
     "output_type": "display_data"
    },
    {
     "data": {
      "text/html": [
       "<pre style=\"white-space:pre;overflow-x:auto;line-height:normal;font-family:Menlo,'DejaVu Sans Mono',consolas,'Courier New',monospace\">Trained DQN model with loss: 3383550046418161436571868332032.0000\n",
       "</pre>\n"
      ],
      "text/plain": [
       "Trained DQN model with loss: 3383550046418161436571868332032.0000\n"
      ]
     },
     "metadata": {},
     "output_type": "display_data"
    },
    {
     "data": {
      "text/html": [
       "<pre style=\"white-space:pre;overflow-x:auto;line-height:normal;font-family:Menlo,'DejaVu Sans Mono',consolas,'Courier New',monospace\">Trained DQN model with loss: 2787524834368847153543642087424.0000\n",
       "</pre>\n"
      ],
      "text/plain": [
       "Trained DQN model with loss: 2787524834368847153543642087424.0000\n"
      ]
     },
     "metadata": {},
     "output_type": "display_data"
    },
    {
     "data": {
      "text/html": [
       "<pre style=\"white-space:pre;overflow-x:auto;line-height:normal;font-family:Menlo,'DejaVu Sans Mono',consolas,'Courier New',monospace\">Trained DQN model with loss: 2761875055254083566343901151232.0000\n",
       "</pre>\n"
      ],
      "text/plain": [
       "Trained DQN model with loss: 2761875055254083566343901151232.0000\n"
      ]
     },
     "metadata": {},
     "output_type": "display_data"
    },
    {
     "data": {
      "text/html": [
       "<pre style=\"white-space:pre;overflow-x:auto;line-height:normal;font-family:Menlo,'DejaVu Sans Mono',consolas,'Courier New',monospace\">Trained DQN model with loss: 2888437499309539094643890716672.0000\n",
       "</pre>\n"
      ],
      "text/plain": [
       "Trained DQN model with loss: 2888437499309539094643890716672.0000\n"
      ]
     },
     "metadata": {},
     "output_type": "display_data"
    },
    {
     "data": {
      "text/html": [
       "<pre style=\"white-space:pre;overflow-x:auto;line-height:normal;font-family:Menlo,'DejaVu Sans Mono',consolas,'Courier New',monospace\">Trained DQN model with loss: 2569218823251566839118962884608.0000\n",
       "</pre>\n"
      ],
      "text/plain": [
       "Trained DQN model with loss: 2569218823251566839118962884608.0000\n"
      ]
     },
     "metadata": {},
     "output_type": "display_data"
    },
    {
     "data": {
      "text/html": [
       "<pre style=\"white-space:pre;overflow-x:auto;line-height:normal;font-family:Menlo,'DejaVu Sans Mono',consolas,'Courier New',monospace\">Trained DQN model with loss: 3553593925427696332398514929664.0000\n",
       "</pre>\n"
      ],
      "text/plain": [
       "Trained DQN model with loss: 3553593925427696332398514929664.0000\n"
      ]
     },
     "metadata": {},
     "output_type": "display_data"
    },
    {
     "data": {
      "text/html": [
       "<pre style=\"white-space:pre;overflow-x:auto;line-height:normal;font-family:Menlo,'DejaVu Sans Mono',consolas,'Courier New',monospace\">Trained DQN model with loss: 2649374836332385404604093825024.0000\n",
       "</pre>\n"
      ],
      "text/plain": [
       "Trained DQN model with loss: 2649374836332385404604093825024.0000\n"
      ]
     },
     "metadata": {},
     "output_type": "display_data"
    },
    {
     "data": {
      "text/html": [
       "<pre style=\"white-space:pre;overflow-x:auto;line-height:normal;font-family:Menlo,'DejaVu Sans Mono',consolas,'Courier New',monospace\">Trained DQN model with loss: 3114843917881147231853688651776.0000\n",
       "</pre>\n"
      ],
      "text/plain": [
       "Trained DQN model with loss: 3114843917881147231853688651776.0000\n"
      ]
     },
     "metadata": {},
     "output_type": "display_data"
    },
    {
     "data": {
      "text/html": [
       "<pre style=\"white-space:pre;overflow-x:auto;line-height:normal;font-family:Menlo,'DejaVu Sans Mono',consolas,'Courier New',monospace\">Trained DQN model with loss: 3306094169155452145348443635712.0000\n",
       "</pre>\n"
      ],
      "text/plain": [
       "Trained DQN model with loss: 3306094169155452145348443635712.0000\n"
      ]
     },
     "metadata": {},
     "output_type": "display_data"
    },
    {
     "data": {
      "text/html": [
       "<pre style=\"white-space:pre;overflow-x:auto;line-height:normal;font-family:Menlo,'DejaVu Sans Mono',consolas,'Courier New',monospace\">Trained DQN model with loss: 3472087542206368226125237190656.0000\n",
       "</pre>\n"
      ],
      "text/plain": [
       "Trained DQN model with loss: 3472087542206368226125237190656.0000\n"
      ]
     },
     "metadata": {},
     "output_type": "display_data"
    },
    {
     "data": {
      "text/html": [
       "<pre style=\"white-space:pre;overflow-x:auto;line-height:normal;font-family:Menlo,'DejaVu Sans Mono',consolas,'Courier New',monospace\">Trained DQN model with loss: 2635368826249240118300535422976.0000\n",
       "</pre>\n"
      ],
      "text/plain": [
       "Trained DQN model with loss: 2635368826249240118300535422976.0000\n"
      ]
     },
     "metadata": {},
     "output_type": "display_data"
    },
    {
     "data": {
      "text/html": [
       "<pre style=\"white-space:pre;overflow-x:auto;line-height:normal;font-family:Menlo,'DejaVu Sans Mono',consolas,'Courier New',monospace\">Trained DQN model with loss: 3232968966410057359486110138368.0000\n",
       "</pre>\n"
      ],
      "text/plain": [
       "Trained DQN model with loss: 3232968966410057359486110138368.0000\n"
      ]
     },
     "metadata": {},
     "output_type": "display_data"
    },
    {
     "data": {
      "text/html": [
       "<pre style=\"white-space:pre;overflow-x:auto;line-height:normal;font-family:Menlo,'DejaVu Sans Mono',consolas,'Courier New',monospace\">Trained DQN model with loss: 3604218903049878543718510755840.0000\n",
       "</pre>\n"
      ],
      "text/plain": [
       "Trained DQN model with loss: 3604218903049878543718510755840.0000\n"
      ]
     },
     "metadata": {},
     "output_type": "display_data"
    },
    {
     "data": {
      "text/html": [
       "<pre style=\"white-space:pre;overflow-x:auto;line-height:normal;font-family:Menlo,'DejaVu Sans Mono',consolas,'Courier New',monospace\">Trained DQN model with loss: 2542500353712263919728781688832.0000\n",
       "</pre>\n"
      ],
      "text/plain": [
       "Trained DQN model with loss: 2542500353712263919728781688832.0000\n"
      ]
     },
     "metadata": {},
     "output_type": "display_data"
    },
    {
     "data": {
      "text/html": [
       "<pre style=\"white-space:pre;overflow-x:auto;line-height:normal;font-family:Menlo,'DejaVu Sans Mono',consolas,'Courier New',monospace\">Trained DQN model with loss: 2873868734257363198459506589696.0000\n",
       "</pre>\n"
      ],
      "text/plain": [
       "Trained DQN model with loss: 2873868734257363198459506589696.0000\n"
      ]
     },
     "metadata": {},
     "output_type": "display_data"
    },
    {
     "data": {
      "text/html": [
       "<pre style=\"white-space:pre;overflow-x:auto;line-height:normal;font-family:Menlo,'DejaVu Sans Mono',consolas,'Courier New',monospace\">Trained DQN model with loss: 2743087743554362421654379823104.0000\n",
       "</pre>\n"
      ],
      "text/plain": [
       "Trained DQN model with loss: 2743087743554362421654379823104.0000\n"
      ]
     },
     "metadata": {},
     "output_type": "display_data"
    },
    {
     "data": {
      "text/html": [
       "<pre style=\"white-space:pre;overflow-x:auto;line-height:normal;font-family:Menlo,'DejaVu Sans Mono',consolas,'Courier New',monospace\">Trained DQN model with loss: 2888437499309539094643890716672.0000\n",
       "</pre>\n"
      ],
      "text/plain": [
       "Trained DQN model with loss: 2888437499309539094643890716672.0000\n"
      ]
     },
     "metadata": {},
     "output_type": "display_data"
    },
    {
     "data": {
      "text/html": [
       "<pre style=\"white-space:pre;overflow-x:auto;line-height:normal;font-family:Menlo,'DejaVu Sans Mono',consolas,'Courier New',monospace\">Trained DQN model with loss: 2334375009153413301241596870656.0000\n",
       "</pre>\n"
      ],
      "text/plain": [
       "Trained DQN model with loss: 2334375009153413301241596870656.0000\n"
      ]
     },
     "metadata": {},
     "output_type": "display_data"
    },
    {
     "data": {
      "text/html": [
       "<pre style=\"white-space:pre;overflow-x:auto;line-height:normal;font-family:Menlo,'DejaVu Sans Mono',consolas,'Courier New',monospace\">Trained DQN model with loss: 2562187710684688155838871764992.0000\n",
       "</pre>\n"
      ],
      "text/plain": [
       "Trained DQN model with loss: 2562187710684688155838871764992.0000\n"
      ]
     },
     "metadata": {},
     "output_type": "display_data"
    },
    {
     "data": {
      "text/html": [
       "<pre style=\"white-space:pre;overflow-x:auto;line-height:normal;font-family:Menlo,'DejaVu Sans Mono',consolas,'Courier New',monospace\">Trained DQN model with loss: 2244375015354927714044127215616.0000\n",
       "</pre>\n"
      ],
      "text/plain": [
       "Trained DQN model with loss: 2244375015354927714044127215616.0000\n"
      ]
     },
     "metadata": {},
     "output_type": "display_data"
    },
    {
     "data": {
      "text/html": [
       "<pre style=\"white-space:pre;overflow-x:auto;line-height:normal;font-family:Menlo,'DejaVu Sans Mono',consolas,'Courier New',monospace\">Trained DQN model with loss: 2791406392944174824166329942016.0000\n",
       "</pre>\n"
      ],
      "text/plain": [
       "Trained DQN model with loss: 2791406392944174824166329942016.0000\n"
      ]
     },
     "metadata": {},
     "output_type": "display_data"
    },
    {
     "data": {
      "text/html": [
       "<pre style=\"white-space:pre;overflow-x:auto;line-height:normal;font-family:Menlo,'DejaVu Sans Mono',consolas,'Courier New',monospace\">Trained DQN model with loss: 2690156437699810401526338289664.0000\n",
       "</pre>\n"
      ],
      "text/plain": [
       "Trained DQN model with loss: 2690156437699810401526338289664.0000\n"
      ]
     },
     "metadata": {},
     "output_type": "display_data"
    },
    {
     "data": {
      "text/html": [
       "<pre style=\"white-space:pre;overflow-x:auto;line-height:normal;font-family:Menlo,'DejaVu Sans Mono',consolas,'Courier New',monospace\">Trained DQN model with loss: 2538281202601808863909057134592.0000\n",
       "</pre>\n"
      ],
      "text/plain": [
       "Trained DQN model with loss: 2538281202601808863909057134592.0000\n"
      ]
     },
     "metadata": {},
     "output_type": "display_data"
    },
    {
     "data": {
      "text/html": [
       "<pre style=\"white-space:pre;overflow-x:auto;line-height:normal;font-family:Menlo,'DejaVu Sans Mono',consolas,'Courier New',monospace\">Trained DQN model with loss: 3051056458166455841736785657856.0000\n",
       "</pre>\n"
      ],
      "text/plain": [
       "Trained DQN model with loss: 3051056458166455841736785657856.0000\n"
      ]
     },
     "metadata": {},
     "output_type": "display_data"
    },
    {
     "data": {
      "text/html": [
       "<pre style=\"white-space:pre;overflow-x:auto;line-height:normal;font-family:Menlo,'DejaVu Sans Mono',consolas,'Courier New',monospace\">Trained DQN model with loss: 2908124856281963330753980792832.0000\n",
       "</pre>\n"
      ],
      "text/plain": [
       "Trained DQN model with loss: 2908124856281963330753980792832.0000\n"
      ]
     },
     "metadata": {},
     "output_type": "display_data"
    },
    {
     "data": {
      "text/html": [
       "<pre style=\"white-space:pre;overflow-x:auto;line-height:normal;font-family:Menlo,'DejaVu Sans Mono',consolas,'Courier New',monospace\">Trained DQN model with loss: 2501718752344838922806537224192.0000\n",
       "</pre>\n"
      ],
      "text/plain": [
       "Trained DQN model with loss: 2501718752344838922806537224192.0000\n"
      ]
     },
     "metadata": {},
     "output_type": "display_data"
    },
    {
     "data": {
      "text/html": [
       "<pre style=\"white-space:pre;overflow-x:auto;line-height:normal;font-family:Menlo,'DejaVu Sans Mono',consolas,'Courier New',monospace\">Trained DQN model with loss: 2788593827024841389391376023552.0000\n",
       "</pre>\n"
      ],
      "text/plain": [
       "Trained DQN model with loss: 2788593827024841389391376023552.0000\n"
      ]
     },
     "metadata": {},
     "output_type": "display_data"
    },
    {
     "data": {
      "text/html": [
       "<pre style=\"white-space:pre;overflow-x:auto;line-height:normal;font-family:Menlo,'DejaVu Sans Mono',consolas,'Courier New',monospace\">Trained DQN model with loss: 2385000289007050416218886373376.0000\n",
       "</pre>\n"
      ],
      "text/plain": [
       "Trained DQN model with loss: 2385000289007050416218886373376.0000\n"
      ]
     },
     "metadata": {},
     "output_type": "display_data"
    },
    {
     "data": {
      "text/html": [
       "<pre style=\"white-space:pre;overflow-x:auto;line-height:normal;font-family:Menlo,'DejaVu Sans Mono',consolas,'Courier New',monospace\">Trained DQN model with loss: 3128400207559395876104256356352.0000\n",
       "</pre>\n"
      ],
      "text/plain": [
       "Trained DQN model with loss: 3128400207559395876104256356352.0000\n"
      ]
     },
     "metadata": {},
     "output_type": "display_data"
    },
    {
     "data": {
      "text/html": [
       "<pre style=\"white-space:pre;overflow-x:auto;line-height:normal;font-family:Menlo,'DejaVu Sans Mono',consolas,'Courier New',monospace\">Trained DQN model with loss: 3294843905478118406248627961856.0000\n",
       "</pre>\n"
      ],
      "text/plain": [
       "Trained DQN model with loss: 3294843905478118406248627961856.0000\n"
      ]
     },
     "metadata": {},
     "output_type": "display_data"
    },
    {
     "data": {
      "text/html": [
       "<pre style=\"white-space:pre;overflow-x:auto;line-height:normal;font-family:Menlo,'DejaVu Sans Mono',consolas,'Courier New',monospace\">Trained DQN model with loss: 2932087579415454702940419260416.0000\n",
       "</pre>\n"
      ],
      "text/plain": [
       "Trained DQN model with loss: 2932087579415454702940419260416.0000\n"
      ]
     },
     "metadata": {},
     "output_type": "display_data"
    },
    {
     "data": {
      "text/html": [
       "<pre style=\"white-space:pre;overflow-x:auto;line-height:normal;font-family:Menlo,'DejaVu Sans Mono',consolas,'Courier New',monospace\">Trained DQN model with loss: 2610000122387536932383913672704.0000\n",
       "</pre>\n"
      ],
      "text/plain": [
       "Trained DQN model with loss: 2610000122387536932383913672704.0000\n"
      ]
     },
     "metadata": {},
     "output_type": "display_data"
    },
    {
     "data": {
      "text/html": [
       "<pre style=\"white-space:pre;overflow-x:auto;line-height:normal;font-family:Menlo,'DejaVu Sans Mono',consolas,'Courier New',monospace\">Trained DQN model with loss: 2186718925165866819444040269824.0000\n",
       "</pre>\n"
      ],
      "text/plain": [
       "Trained DQN model with loss: 2186718925165866819444040269824.0000\n"
      ]
     },
     "metadata": {},
     "output_type": "display_data"
    },
    {
     "data": {
      "text/html": [
       "<pre style=\"white-space:pre;overflow-x:auto;line-height:normal;font-family:Menlo,'DejaVu Sans Mono',consolas,'Courier New',monospace\">Trained DQN model with loss: 2188125208125533536831517229056.0000\n",
       "</pre>\n"
      ],
      "text/plain": [
       "Trained DQN model with loss: 2188125208125533536831517229056.0000\n"
      ]
     },
     "metadata": {},
     "output_type": "display_data"
    },
    {
     "data": {
      "text/html": [
       "<pre style=\"white-space:pre;overflow-x:auto;line-height:normal;font-family:Menlo,'DejaVu Sans Mono',consolas,'Courier New',monospace\">Trained DQN model with loss: 2456718906561323581036449234944.0000\n",
       "</pre>\n"
      ],
      "text/plain": [
       "Trained DQN model with loss: 2456718906561323581036449234944.0000\n"
      ]
     },
     "metadata": {},
     "output_type": "display_data"
    },
    {
     "data": {
      "text/html": [
       "<pre style=\"white-space:pre;overflow-x:auto;line-height:normal;font-family:Menlo,'DejaVu Sans Mono',consolas,'Courier New',monospace\">Trained DQN model with loss: 1854844004702349011089113481216.0000\n",
       "</pre>\n"
      ],
      "text/plain": [
       "Trained DQN model with loss: 1854844004702349011089113481216.0000\n"
      ]
     },
     "metadata": {},
     "output_type": "display_data"
    },
    {
     "data": {
      "text/html": [
       "<pre style=\"white-space:pre;overflow-x:auto;line-height:normal;font-family:Menlo,'DejaVu Sans Mono',consolas,'Courier New',monospace\">Trained DQN model with loss: 2467968868007202416478971232256.0000\n",
       "</pre>\n"
      ],
      "text/plain": [
       "Trained DQN model with loss: 2467968868007202416478971232256.0000\n"
      ]
     },
     "metadata": {},
     "output_type": "display_data"
    },
    {
     "data": {
      "text/html": [
       "<pre style=\"white-space:pre;overflow-x:auto;line-height:normal;font-family:Menlo,'DejaVu Sans Mono',consolas,'Courier New',monospace\">Trained DQN model with loss: 2493148072746681009272457789440.0000\n",
       "</pre>\n"
      ],
      "text/plain": [
       "Trained DQN model with loss: 2493148072746681009272457789440.0000\n"
      ]
     },
     "metadata": {},
     "output_type": "display_data"
    },
    {
     "data": {
      "text/html": [
       "<pre style=\"white-space:pre;overflow-x:auto;line-height:normal;font-family:Menlo,'DejaVu Sans Mono',consolas,'Courier New',monospace\">Trained DQN model with loss: 2251800237739000766435172548608.0000\n",
       "</pre>\n"
      ],
      "text/plain": [
       "Trained DQN model with loss: 2251800237739000766435172548608.0000\n"
      ]
     },
     "metadata": {},
     "output_type": "display_data"
    },
    {
     "data": {
      "text/html": [
       "<pre style=\"white-space:pre;overflow-x:auto;line-height:normal;font-family:Menlo,'DejaVu Sans Mono',consolas,'Courier New',monospace\">Trained DQN model with loss: 2710803379541553749543851393024.0000\n",
       "</pre>\n"
      ],
      "text/plain": [
       "Trained DQN model with loss: 2710803379541553749543851393024.0000\n"
      ]
     },
     "metadata": {},
     "output_type": "display_data"
    },
    {
     "data": {
      "text/html": [
       "<pre style=\"white-space:pre;overflow-x:auto;line-height:normal;font-family:Menlo,'DejaVu Sans Mono',consolas,'Courier New',monospace\">Trained DQN model with loss: 2396892492294599523410471026688.0000\n",
       "</pre>\n"
      ],
      "text/plain": [
       "Trained DQN model with loss: 2396892492294599523410471026688.0000\n"
      ]
     },
     "metadata": {},
     "output_type": "display_data"
    },
    {
     "data": {
      "text/html": [
       "<pre style=\"white-space:pre;overflow-x:auto;line-height:normal;font-family:Menlo,'DejaVu Sans Mono',consolas,'Courier New',monospace\">Trained DQN model with loss: 2359687497964504406901594783744.0000\n",
       "</pre>\n"
      ],
      "text/plain": [
       "Trained DQN model with loss: 2359687497964504406901594783744.0000\n"
      ]
     },
     "metadata": {},
     "output_type": "display_data"
    },
    {
     "data": {
      "text/html": [
       "<pre style=\"white-space:pre;overflow-x:auto;line-height:normal;font-family:Menlo,'DejaVu Sans Mono',consolas,'Courier New',monospace\">Trained DQN model with loss: 2499806382813936031280798892032.0000\n",
       "</pre>\n"
      ],
      "text/plain": [
       "Trained DQN model with loss: 2499806382813936031280798892032.0000\n"
      ]
     },
     "metadata": {},
     "output_type": "display_data"
    },
    {
     "data": {
      "text/html": [
       "<pre style=\"white-space:pre;overflow-x:auto;line-height:normal;font-family:Menlo,'DejaVu Sans Mono',consolas,'Courier New',monospace\">Trained DQN model with loss: 2354062668357292441008980623360.0000\n",
       "</pre>\n"
      ],
      "text/plain": [
       "Trained DQN model with loss: 2354062668357292441008980623360.0000\n"
      ]
     },
     "metadata": {},
     "output_type": "display_data"
    },
    {
     "data": {
      "text/html": [
       "<pre style=\"white-space:pre;overflow-x:auto;line-height:normal;font-family:Menlo,'DejaVu Sans Mono',consolas,'Courier New',monospace\">Trained DQN model with loss: 2288611122251901513833094578176.0000\n",
       "</pre>\n"
      ],
      "text/plain": [
       "Trained DQN model with loss: 2288611122251901513833094578176.0000\n"
      ]
     },
     "metadata": {},
     "output_type": "display_data"
    },
    {
     "data": {
      "text/html": [
       "<pre style=\"white-space:pre;overflow-x:auto;line-height:normal;font-family:Menlo,'DejaVu Sans Mono',consolas,'Courier New',monospace\">Trained DQN model with loss: 2169843831881321114451610435584.0000\n",
       "</pre>\n"
      ],
      "text/plain": [
       "Trained DQN model with loss: 2169843831881321114451610435584.0000\n"
      ]
     },
     "metadata": {},
     "output_type": "display_data"
    },
    {
     "data": {
      "text/html": [
       "<pre style=\"white-space:pre;overflow-x:auto;line-height:normal;font-family:Menlo,'DejaVu Sans Mono',consolas,'Courier New',monospace\">Trained DQN model with loss: 1774240386836818129152047579136.0000\n",
       "</pre>\n"
      ],
      "text/plain": [
       "Trained DQN model with loss: 1774240386836818129152047579136.0000\n"
      ]
     },
     "metadata": {},
     "output_type": "display_data"
    },
    {
     "data": {
      "text/html": [
       "<pre style=\"white-space:pre;overflow-x:auto;line-height:normal;font-family:Menlo,'DejaVu Sans Mono',consolas,'Courier New',monospace\">Trained DQN model with loss: 2673281344415264696533908455424.0000\n",
       "</pre>\n"
      ],
      "text/plain": [
       "Trained DQN model with loss: 2673281344415264696533908455424.0000\n"
      ]
     },
     "metadata": {},
     "output_type": "display_data"
    },
    {
     "data": {
      "text/html": [
       "<pre style=\"white-space:pre;overflow-x:auto;line-height:normal;font-family:Menlo,'DejaVu Sans Mono',consolas,'Courier New',monospace\">Trained DQN model with loss: 2424375002951898888439066525696.0000\n",
       "</pre>\n"
      ],
      "text/plain": [
       "Trained DQN model with loss: 2424375002951898888439066525696.0000\n"
      ]
     },
     "metadata": {},
     "output_type": "display_data"
    },
    {
     "data": {
      "text/html": [
       "<pre style=\"white-space:pre;overflow-x:auto;line-height:normal;font-family:Menlo,'DejaVu Sans Mono',consolas,'Courier New',monospace\">Trained DQN model with loss: 2616525299498906893354390257664.0000\n",
       "</pre>\n"
      ],
      "text/plain": [
       "Trained DQN model with loss: 2616525299498906893354390257664.0000\n"
      ]
     },
     "metadata": {},
     "output_type": "display_data"
    },
    {
     "data": {
      "text/html": [
       "<pre style=\"white-space:pre;overflow-x:auto;line-height:normal;font-family:Menlo,'DejaVu Sans Mono',consolas,'Courier New',monospace\">Trained DQN model with loss: 2370173720523841700362996154368.0000\n",
       "</pre>\n"
      ],
      "text/plain": [
       "Trained DQN model with loss: 2370173720523841700362996154368.0000\n"
      ]
     },
     "metadata": {},
     "output_type": "display_data"
    },
    {
     "data": {
      "text/html": [
       "<pre style=\"white-space:pre;overflow-x:auto;line-height:normal;font-family:Menlo,'DejaVu Sans Mono',consolas,'Courier New',monospace\">Trained DQN model with loss: 1964531355473258834396673212416.0000\n",
       "</pre>\n"
      ],
      "text/plain": [
       "Trained DQN model with loss: 1964531355473258834396673212416.0000\n"
      ]
     },
     "metadata": {},
     "output_type": "display_data"
    },
    {
     "data": {
      "text/html": [
       "<pre style=\"white-space:pre;overflow-x:auto;line-height:normal;font-family:Menlo,'DejaVu Sans Mono',consolas,'Courier New',monospace\">Trained DQN model with loss: 2550937447007354416739056091136.0000\n",
       "</pre>\n"
      ],
      "text/plain": [
       "Trained DQN model with loss: 2550937447007354416739056091136.0000\n"
      ]
     },
     "metadata": {},
     "output_type": "display_data"
    },
    {
     "data": {
      "text/html": [
       "<pre style=\"white-space:pre;overflow-x:auto;line-height:normal;font-family:Menlo,'DejaVu Sans Mono',consolas,'Courier New',monospace\">Trained DQN model with loss: 1681875129672256519974265290752.0000\n",
       "</pre>\n"
      ],
      "text/plain": [
       "Trained DQN model with loss: 1681875129672256519974265290752.0000\n"
      ]
     },
     "metadata": {},
     "output_type": "display_data"
    },
    {
     "data": {
      "text/html": [
       "<pre style=\"white-space:pre;overflow-x:auto;line-height:normal;font-family:Menlo,'DejaVu Sans Mono',consolas,'Courier New',monospace\">Trained DQN model with loss: 1605937663238983202994271551488.0000\n",
       "</pre>\n"
      ],
      "text/plain": [
       "Trained DQN model with loss: 1605937663238983202994271551488.0000\n"
      ]
     },
     "metadata": {},
     "output_type": "display_data"
    },
    {
     "data": {
      "text/html": [
       "<pre style=\"white-space:pre;overflow-x:auto;line-height:normal;font-family:Menlo,'DejaVu Sans Mono',consolas,'Courier New',monospace\">Trained DQN model with loss: 2002556303740507573143293919232.0000\n",
       "</pre>\n"
      ],
      "text/plain": [
       "Trained DQN model with loss: 2002556303740507573143293919232.0000\n"
      ]
     },
     "metadata": {},
     "output_type": "display_data"
    },
    {
     "data": {
      "text/html": [
       "<pre style=\"white-space:pre;overflow-x:auto;line-height:normal;font-family:Menlo,'DejaVu Sans Mono',consolas,'Courier New',monospace\">Trained DQN model with loss: 2468341821622553529579368087552.0000\n",
       "</pre>\n"
      ],
      "text/plain": [
       "Trained DQN model with loss: 2468341821622553529579368087552.0000\n"
      ]
     },
     "metadata": {},
     "output_type": "display_data"
    },
    {
     "data": {
      "text/html": [
       "<pre style=\"white-space:pre;overflow-x:auto;line-height:normal;font-family:Menlo,'DejaVu Sans Mono',consolas,'Courier New',monospace\">Trained DQN model with loss: 1630486262047805314844501999616.0000\n",
       "</pre>\n"
      ],
      "text/plain": [
       "Trained DQN model with loss: 1630486262047805314844501999616.0000\n"
      ]
     },
     "metadata": {},
     "output_type": "display_data"
    },
    {
     "data": {
      "text/html": [
       "<pre style=\"white-space:pre;overflow-x:auto;line-height:normal;font-family:Menlo,'DejaVu Sans Mono',consolas,'Courier New',monospace\">Trained DQN model with loss: 3136579799654908457100318343168.0000\n",
       "</pre>\n"
      ],
      "text/plain": [
       "Trained DQN model with loss: 3136579799654908457100318343168.0000\n"
      ]
     },
     "metadata": {},
     "output_type": "display_data"
    },
    {
     "data": {
      "text/html": [
       "<pre style=\"white-space:pre;overflow-x:auto;line-height:normal;font-family:Menlo,'DejaVu Sans Mono',consolas,'Courier New',monospace\">Trained DQN model with loss: 2099025108484023589225969483776.0000\n",
       "</pre>\n"
      ],
      "text/plain": [
       "Trained DQN model with loss: 2099025108484023589225969483776.0000\n"
      ]
     },
     "metadata": {},
     "output_type": "display_data"
    },
    {
     "data": {
      "text/html": [
       "<pre style=\"white-space:pre;overflow-x:auto;line-height:normal;font-family:Menlo,'DejaVu Sans Mono',consolas,'Courier New',monospace\">Trained DQN model with loss: 2165624983002320962289179557888.0000\n",
       "</pre>\n"
      ],
      "text/plain": [
       "Trained DQN model with loss: 2165624983002320962289179557888.0000\n"
      ]
     },
     "metadata": {},
     "output_type": "display_data"
    },
    {
     "data": {
      "text/html": [
       "<pre style=\"white-space:pre;overflow-x:auto;line-height:normal;font-family:Menlo,'DejaVu Sans Mono',consolas,'Courier New',monospace\">Trained DQN model with loss: 1923243818650325115164814213120.0000\n",
       "</pre>\n"
      ],
      "text/plain": [
       "Trained DQN model with loss: 1923243818650325115164814213120.0000\n"
      ]
     },
     "metadata": {},
     "output_type": "display_data"
    },
    {
     "data": {
      "text/html": [
       "<pre style=\"white-space:pre;overflow-x:auto;line-height:normal;font-family:Menlo,'DejaVu Sans Mono',consolas,'Courier New',monospace\">Trained DQN model with loss: 2190937774044866971606471147520.0000\n",
       "</pre>\n"
      ],
      "text/plain": [
       "Trained DQN model with loss: 2190937774044866971606471147520.0000\n"
      ]
     },
     "metadata": {},
     "output_type": "display_data"
    },
    {
     "data": {
      "text/html": [
       "<pre style=\"white-space:pre;overflow-x:auto;line-height:normal;font-family:Menlo,'DejaVu Sans Mono',consolas,'Courier New',monospace\">Trained DQN model with loss: 2424375154067626340267713363968.0000\n",
       "</pre>\n"
      ],
      "text/plain": [
       "Trained DQN model with loss: 2424375154067626340267713363968.0000\n"
      ]
     },
     "metadata": {},
     "output_type": "display_data"
    },
    {
     "data": {
      "text/html": [
       "<pre style=\"white-space:pre;overflow-x:auto;line-height:normal;font-family:Menlo,'DejaVu Sans Mono',consolas,'Courier New',monospace\">Trained DQN model with loss: 2247504470954727633491500990464.0000\n",
       "</pre>\n"
      ],
      "text/plain": [
       "Trained DQN model with loss: 2247504470954727633491500990464.0000\n"
      ]
     },
     "metadata": {},
     "output_type": "display_data"
    },
    {
     "data": {
      "text/html": [
       "<pre style=\"white-space:pre;overflow-x:auto;line-height:normal;font-family:Menlo,'DejaVu Sans Mono',consolas,'Courier New',monospace\">Trained DQN model with loss: 2430642376632236029738037018624.0000\n",
       "</pre>\n"
      ],
      "text/plain": [
       "Trained DQN model with loss: 2430642376632236029738037018624.0000\n"
      ]
     },
     "metadata": {},
     "output_type": "display_data"
    },
    {
     "data": {
      "text/html": [
       "<pre style=\"white-space:pre;overflow-x:auto;line-height:normal;font-family:Menlo,'DejaVu Sans Mono',consolas,'Courier New',monospace\">Trained DQN model with loss: 2265468957518473571198987927552.0000\n",
       "</pre>\n"
      ],
      "text/plain": [
       "Trained DQN model with loss: 2265468957518473571198987927552.0000\n"
      ]
     },
     "metadata": {},
     "output_type": "display_data"
    },
    {
     "data": {
      "text/html": [
       "<pre style=\"white-space:pre;overflow-x:auto;line-height:normal;font-family:Menlo,'DejaVu Sans Mono',consolas,'Courier New',monospace\">Trained DQN model with loss: 2425334285589763096689195876352.0000\n",
       "</pre>\n"
      ],
      "text/plain": [
       "Trained DQN model with loss: 2425334285589763096689195876352.0000\n"
      ]
     },
     "metadata": {},
     "output_type": "display_data"
    },
    {
     "data": {
      "text/html": [
       "<pre style=\"white-space:pre;overflow-x:auto;line-height:normal;font-family:Menlo,'DejaVu Sans Mono',consolas,'Courier New',monospace\">Trained DQN model with loss: 2188125208125533536831517229056.0000\n",
       "</pre>\n"
      ],
      "text/plain": [
       "Trained DQN model with loss: 2188125208125533536831517229056.0000\n"
      ]
     },
     "metadata": {},
     "output_type": "display_data"
    },
    {
     "data": {
      "text/html": [
       "<pre style=\"white-space:pre;overflow-x:auto;line-height:normal;font-family:Menlo,'DejaVu Sans Mono',consolas,'Courier New',monospace\">Trained DQN model with loss: 2366718912762837993838979579904.0000\n",
       "</pre>\n"
      ],
      "text/plain": [
       "Trained DQN model with loss: 2366718912762837993838979579904.0000\n"
      ]
     },
     "metadata": {},
     "output_type": "display_data"
    },
    {
     "data": {
      "text/html": [
       "<pre style=\"white-space:pre;overflow-x:auto;line-height:normal;font-family:Menlo,'DejaVu Sans Mono',consolas,'Courier New',monospace\">Trained DQN model with loss: 2393437533417868365057807613952.0000\n",
       "</pre>\n"
      ],
      "text/plain": [
       "Trained DQN model with loss: 2393437533417868365057807613952.0000\n"
      ]
     },
     "metadata": {},
     "output_type": "display_data"
    },
    {
     "data": {
      "text/html": [
       "<pre style=\"white-space:pre;overflow-x:auto;line-height:normal;font-family:Menlo,'DejaVu Sans Mono',consolas,'Courier New',monospace\">Trained DQN model with loss: 3089531429070056126193690738688.0000\n",
       "</pre>\n"
      ],
      "text/plain": [
       "Trained DQN model with loss: 3089531429070056126193690738688.0000\n"
      ]
     },
     "metadata": {},
     "output_type": "display_data"
    },
    {
     "data": {
      "text/html": [
       "<pre style=\"white-space:pre;overflow-x:auto;line-height:normal;font-family:Menlo,'DejaVu Sans Mono',consolas,'Courier New',monospace\">Trained DQN model with loss: 2469375150966869133866448191488.0000\n",
       "</pre>\n"
      ],
      "text/plain": [
       "Trained DQN model with loss: 2469375150966869133866448191488.0000\n"
      ]
     },
     "metadata": {},
     "output_type": "display_data"
    },
    {
     "data": {
      "text/html": [
       "<pre style=\"white-space:pre;overflow-x:auto;line-height:normal;font-family:Menlo,'DejaVu Sans Mono',consolas,'Courier New',monospace\">Trained DQN model with loss: 2059066936715483606600346763264.0000\n",
       "</pre>\n"
      ],
      "text/plain": [
       "Trained DQN model with loss: 2059066936715483606600346763264.0000\n"
      ]
     },
     "metadata": {},
     "output_type": "display_data"
    },
    {
     "data": {
      "text/html": [
       "<pre style=\"white-space:pre;overflow-x:auto;line-height:normal;font-family:Menlo,'DejaVu Sans Mono',consolas,'Courier New',monospace\">Trained DQN model with loss: 2185368857256812182313187147776.0000\n",
       "</pre>\n"
      ],
      "text/plain": [
       "Trained DQN model with loss: 2185368857256812182313187147776.0000\n"
      ]
     },
     "metadata": {},
     "output_type": "display_data"
    },
    {
     "data": {
      "text/html": [
       "<pre style=\"white-space:pre;overflow-x:auto;line-height:normal;font-family:Menlo,'DejaVu Sans Mono',consolas,'Courier New',monospace\">Trained DQN model with loss: 2768906167820962249623992270848.0000\n",
       "</pre>\n"
      ],
      "text/plain": [
       "Trained DQN model with loss: 2768906167820962249623992270848.0000\n"
      ]
     },
     "metadata": {},
     "output_type": "display_data"
    },
    {
     "data": {
      "text/html": [
       "<pre style=\"white-space:pre;overflow-x:auto;line-height:normal;font-family:Menlo,'DejaVu Sans Mono',consolas,'Courier New',monospace\">Trained DQN model with loss: 2520000128589051345186444017664.0000\n",
       "</pre>\n"
      ],
      "text/plain": [
       "Trained DQN model with loss: 2520000128589051345186444017664.0000\n"
      ]
     },
     "metadata": {},
     "output_type": "display_data"
    },
    {
     "data": {
      "text/html": [
       "<pre style=\"white-space:pre;overflow-x:auto;line-height:normal;font-family:Menlo,'DejaVu Sans Mono',consolas,'Courier New',monospace\">Trained DQN model with loss: 2201154406146430202761913040896.0000\n",
       "</pre>\n"
      ],
      "text/plain": [
       "Trained DQN model with loss: 2201154406146430202761913040896.0000\n"
      ]
     },
     "metadata": {},
     "output_type": "display_data"
    },
    {
     "data": {
      "text/html": [
       "<pre style=\"white-space:pre;overflow-x:auto;line-height:normal;font-family:Menlo,'DejaVu Sans Mono',consolas,'Courier New',monospace\">Trained DQN model with loss: 2906718875553751517023797510144.0000\n",
       "</pre>\n"
      ],
      "text/plain": [
       "Trained DQN model with loss: 2906718875553751517023797510144.0000\n"
      ]
     },
     "metadata": {},
     "output_type": "display_data"
    },
    {
     "data": {
      "text/html": [
       "<pre style=\"white-space:pre;overflow-x:auto;line-height:normal;font-family:Menlo,'DejaVu Sans Mono',consolas,'Courier New',monospace\">Trained DQN model with loss: 3099375107556268244248735776768.0000\n",
       "</pre>\n"
      ],
      "text/plain": [
       "Trained DQN model with loss: 3099375107556268244248735776768.0000\n"
      ]
     },
     "metadata": {},
     "output_type": "display_data"
    },
    {
     "data": {
      "text/html": [
       "<pre style=\"white-space:pre;overflow-x:auto;line-height:normal;font-family:Menlo,'DejaVu Sans Mono',consolas,'Courier New',monospace\">Trained DQN model with loss: 3494531552278968720410951024640.0000\n",
       "</pre>\n"
      ],
      "text/plain": [
       "Trained DQN model with loss: 3494531552278968720410951024640.0000\n"
      ]
     },
     "metadata": {},
     "output_type": "display_data"
    },
    {
     "data": {
      "text/html": [
       "<pre style=\"white-space:pre;overflow-x:auto;line-height:normal;font-family:Menlo,'DejaVu Sans Mono',consolas,'Courier New',monospace\">Trained DQN model with loss: 2498906186425505488031583305728.0000\n",
       "</pre>\n"
      ],
      "text/plain": [
       "Trained DQN model with loss: 2498906186425505488031583305728.0000\n"
      ]
     },
     "metadata": {},
     "output_type": "display_data"
    },
    {
     "data": {
      "text/html": [
       "<pre style=\"white-space:pre;overflow-x:auto;line-height:normal;font-family:Menlo,'DejaVu Sans Mono',consolas,'Courier New',monospace\">Trained DQN model with loss: 3134531274853571467963778727936.0000\n",
       "</pre>\n"
      ],
      "text/plain": [
       "Trained DQN model with loss: 3134531274853571467963778727936.0000\n"
      ]
     },
     "metadata": {},
     "output_type": "display_data"
    },
    {
     "data": {
      "text/html": [
       "<pre style=\"white-space:pre;overflow-x:auto;line-height:normal;font-family:Menlo,'DejaVu Sans Mono',consolas,'Courier New',monospace\">Trained DQN model with loss: 3535706659000678279129562349568.0000\n",
       "</pre>\n"
      ],
      "text/plain": [
       "Trained DQN model with loss: 3535706659000678279129562349568.0000\n"
      ]
     },
     "metadata": {},
     "output_type": "display_data"
    },
    {
     "data": {
      "text/html": [
       "<pre style=\"white-space:pre;overflow-x:auto;line-height:normal;font-family:Menlo,'DejaVu Sans Mono',consolas,'Courier New',monospace\">Trained DQN model with loss: 2332204987307205041872999284736.0000\n",
       "</pre>\n"
      ],
      "text/plain": [
       "Trained DQN model with loss: 2332204987307205041872999284736.0000\n"
      ]
     },
     "metadata": {},
     "output_type": "display_data"
    },
    {
     "data": {
      "text/html": [
       "<pre style=\"white-space:pre;overflow-x:auto;line-height:normal;font-family:Menlo,'DejaVu Sans Mono',consolas,'Courier New',monospace\">Trained DQN model with loss: 2309062822573777099238892634112.0000\n",
       "</pre>\n"
      ],
      "text/plain": [
       "Trained DQN model with loss: 2309062822573777099238892634112.0000\n"
      ]
     },
     "metadata": {},
     "output_type": "display_data"
    },
    {
     "data": {
      "text/html": [
       "<pre style=\"white-space:pre;overflow-x:auto;line-height:normal;font-family:Menlo,'DejaVu Sans Mono',consolas,'Courier New',monospace\">Trained DQN model with loss: 1919531358574016040797938384896.0000\n",
       "</pre>\n"
      ],
      "text/plain": [
       "Trained DQN model with loss: 1919531358574016040797938384896.0000\n"
      ]
     },
     "metadata": {},
     "output_type": "display_data"
    },
    {
     "data": {
      "text/html": [
       "<pre style=\"white-space:pre;overflow-x:auto;line-height:normal;font-family:Menlo,'DejaVu Sans Mono',consolas,'Courier New',monospace\">Trained DQN model with loss: 2009531352372501627995408039936.0000\n",
       "</pre>\n"
      ],
      "text/plain": [
       "Trained DQN model with loss: 2009531352372501627995408039936.0000\n"
      ]
     },
     "metadata": {},
     "output_type": "display_data"
    },
    {
     "data": {
      "text/html": [
       "<pre style=\"white-space:pre;overflow-x:auto;line-height:normal;font-family:Menlo,'DejaVu Sans Mono',consolas,'Courier New',monospace\">Trained DQN model with loss: 2427187568871232323214020444160.0000\n",
       "</pre>\n"
      ],
      "text/plain": [
       "Trained DQN model with loss: 2427187568871232323214020444160.0000\n"
      ]
     },
     "metadata": {},
     "output_type": "display_data"
    },
    {
     "data": {
      "text/html": [
       "<pre style=\"white-space:pre;overflow-x:auto;line-height:normal;font-family:Menlo,'DejaVu Sans Mono',consolas,'Courier New',monospace\">Trained DQN model with loss: 2808281486228720529158759776256.0000\n",
       "</pre>\n"
      ],
      "text/plain": [
       "Trained DQN model with loss: 2808281486228720529158759776256.0000\n"
      ]
     },
     "metadata": {},
     "output_type": "display_data"
    },
    {
     "data": {
      "text/html": [
       "<pre style=\"white-space:pre;overflow-x:auto;line-height:normal;font-family:Menlo,'DejaVu Sans Mono',consolas,'Courier New',monospace\">Trained DQN model with loss: 2541094070752597202341304729600.0000\n",
       "</pre>\n"
      ],
      "text/plain": [
       "Trained DQN model with loss: 2541094070752597202341304729600.0000\n"
      ]
     },
     "metadata": {},
     "output_type": "display_data"
    },
    {
     "data": {
      "text/html": [
       "<pre style=\"white-space:pre;overflow-x:auto;line-height:normal;font-family:Menlo,'DejaVu Sans Mono',consolas,'Courier New',monospace\">Trained DQN model with loss: 2098767456168718221383110230016.0000\n",
       "</pre>\n"
      ],
      "text/plain": [
       "Trained DQN model with loss: 2098767456168718221383110230016.0000\n"
      ]
     },
     "metadata": {},
     "output_type": "display_data"
    },
    {
     "data": {
      "text/html": [
       "<pre style=\"white-space:pre;overflow-x:auto;line-height:normal;font-family:Menlo,'DejaVu Sans Mono',consolas,'Courier New',monospace\">Trained DQN model with loss: 2386406420850989681777716494336.0000\n",
       "</pre>\n"
      ],
      "text/plain": [
       "Trained DQN model with loss: 2386406420850989681777716494336.0000\n"
      ]
     },
     "metadata": {},
     "output_type": "display_data"
    },
    {
     "data": {
      "text/html": [
       "<pre style=\"white-space:pre;overflow-x:auto;line-height:normal;font-family:Menlo,'DejaVu Sans Mono',consolas,'Courier New',monospace\">Trained DQN model with loss: 2659050171898216185546561028096.0000\n",
       "</pre>\n"
      ],
      "text/plain": [
       "Trained DQN model with loss: 2659050171898216185546561028096.0000\n"
      ]
     },
     "metadata": {},
     "output_type": "display_data"
    },
    {
     "data": {
      "text/html": [
       "<pre style=\"white-space:pre;overflow-x:auto;line-height:normal;font-family:Menlo,'DejaVu Sans Mono',consolas,'Courier New',monospace\">Trained DQN model with loss: 2974861188302149705085285826560.0000\n",
       "</pre>\n"
      ],
      "text/plain": [
       "Trained DQN model with loss: 2974861188302149705085285826560.0000\n"
      ]
     },
     "metadata": {},
     "output_type": "display_data"
    },
    {
     "data": {
      "text/html": [
       "<pre style=\"white-space:pre;overflow-x:auto;line-height:normal;font-family:Menlo,'DejaVu Sans Mono',consolas,'Courier New',monospace\">Trained DQN model with loss: 2149392584906627884531752894464.0000\n",
       "</pre>\n"
      ],
      "text/plain": [
       "Trained DQN model with loss: 2149392584906627884531752894464.0000\n"
      ]
     },
     "metadata": {},
     "output_type": "display_data"
    },
    {
     "data": {
      "text/html": [
       "<pre style=\"white-space:pre;overflow-x:auto;line-height:normal;font-family:Menlo,'DejaVu Sans Mono',consolas,'Courier New',monospace\">Trained DQN model with loss: 2962968985014600597893701173248.0000\n",
       "</pre>\n"
      ],
      "text/plain": [
       "Trained DQN model with loss: 2962968985014600597893701173248.0000\n"
      ]
     },
     "metadata": {},
     "output_type": "display_data"
    },
    {
     "data": {
      "text/html": [
       "<pre style=\"white-space:pre;overflow-x:auto;line-height:normal;font-family:Menlo,'DejaVu Sans Mono',consolas,'Courier New',monospace\">Trained DQN model with loss: 2390625118614262382111500533760.0000\n",
       "</pre>\n"
      ],
      "text/plain": [
       "Trained DQN model with loss: 2390625118614262382111500533760.0000\n"
      ]
     },
     "metadata": {},
     "output_type": "display_data"
    },
    {
     "data": {
      "text/html": [
       "<pre style=\"white-space:pre;overflow-x:auto;line-height:normal;font-family:Menlo,'DejaVu Sans Mono',consolas,'Courier New',monospace\">Trained DQN model with loss: 2598750160941658096941391675392.0000\n",
       "</pre>\n"
      ],
      "text/plain": [
       "Trained DQN model with loss: 2598750160941658096941391675392.0000\n"
      ]
     },
     "metadata": {},
     "output_type": "display_data"
    },
    {
     "data": {
      "text/html": [
       "<pre style=\"white-space:pre;overflow-x:auto;line-height:normal;font-family:Menlo,'DejaVu Sans Mono',consolas,'Courier New',monospace\">Trained DQN model with loss: 2258437844951594887918896807936.0000\n",
       "</pre>\n"
      ],
      "text/plain": [
       "Trained DQN model with loss: 2258437844951594887918896807936.0000\n"
      ]
     },
     "metadata": {},
     "output_type": "display_data"
    },
    {
     "data": {
      "text/html": [
       "<pre style=\"white-space:pre;overflow-x:auto;line-height:normal;font-family:Menlo,'DejaVu Sans Mono',consolas,'Courier New',monospace\">Trained DQN model with loss: 2005312654609228927661624000512.0000\n",
       "</pre>\n"
      ],
      "text/plain": [
       "Trained DQN model with loss: 2005312654609228927661624000512.0000\n"
      ]
     },
     "metadata": {},
     "output_type": "display_data"
    },
    {
     "data": {
      "text/html": [
       "<pre style=\"white-space:pre;overflow-x:auto;line-height:normal;font-family:Menlo,'DejaVu Sans Mono',consolas,'Courier New',monospace\">Trained DQN model with loss: 2600156443901324814328868634624.0000\n",
       "</pre>\n"
      ],
      "text/plain": [
       "Trained DQN model with loss: 2600156443901324814328868634624.0000\n"
      ]
     },
     "metadata": {},
     "output_type": "display_data"
    },
    {
     "data": {
      "text/html": [
       "<pre style=\"white-space:pre;overflow-x:auto;line-height:normal;font-family:Menlo,'DejaVu Sans Mono',consolas,'Courier New',monospace\">Trained DQN model with loss: 1800316916765905680450459795456.0000\n",
       "</pre>\n"
      ],
      "text/plain": [
       "Trained DQN model with loss: 1800316916765905680450459795456.0000\n"
      ]
     },
     "metadata": {},
     "output_type": "display_data"
    },
    {
     "data": {
      "text/html": [
       "<pre style=\"white-space:pre;overflow-x:auto;line-height:normal;font-family:Menlo,'DejaVu Sans Mono',consolas,'Courier New',monospace\">Trained DQN model with loss: 3178462430212547477543426457600.0000\n",
       "</pre>\n"
      ],
      "text/plain": [
       "Trained DQN model with loss: 3178462430212547477543426457600.0000\n"
      ]
     },
     "metadata": {},
     "output_type": "display_data"
    },
    {
     "data": {
      "text/html": [
       "<pre style=\"white-space:pre;overflow-x:auto;line-height:normal;font-family:Menlo,'DejaVu Sans Mono',consolas,'Courier New',monospace\">Trained DQN model with loss: 2688750154740143684138861330432.0000\n",
       "</pre>\n"
      ],
      "text/plain": [
       "Trained DQN model with loss: 2688750154740143684138861330432.0000\n"
      ]
     },
     "metadata": {},
     "output_type": "display_data"
    },
    {
     "data": {
      "text/html": [
       "<pre style=\"white-space:pre;overflow-x:auto;line-height:normal;font-family:Menlo,'DejaVu Sans Mono',consolas,'Courier New',monospace\">Trained DQN model with loss: 2739375132362325895458857156608.0000\n",
       "</pre>\n"
      ],
      "text/plain": [
       "Trained DQN model with loss: 2739375132362325895458857156608.0000\n"
      ]
     },
     "metadata": {},
     "output_type": "display_data"
    },
    {
     "data": {
      "text/html": [
       "<pre style=\"white-space:pre;overflow-x:auto;line-height:normal;font-family:Menlo,'DejaVu Sans Mono',consolas,'Courier New',monospace\">Trained DQN model with loss: 2639025222390664564239434252288.0000\n",
       "</pre>\n"
      ],
      "text/plain": [
       "Trained DQN model with loss: 2639025222390664564239434252288.0000\n"
      ]
     },
     "metadata": {},
     "output_type": "display_data"
    },
    {
     "data": {
      "text/html": [
       "<pre style=\"white-space:pre;overflow-x:auto;line-height:normal;font-family:Menlo,'DejaVu Sans Mono',consolas,'Courier New',monospace\">Trained DQN model with loss: 2410312626702414070050237448192.0000\n",
       "</pre>\n"
      ],
      "text/plain": [
       "Trained DQN model with loss: 2410312626702414070050237448192.0000\n"
      ]
     },
     "metadata": {},
     "output_type": "display_data"
    },
    {
     "data": {
      "text/html": [
       "<pre style=\"white-space:pre;overflow-x:auto;line-height:normal;font-family:Menlo,'DejaVu Sans Mono',consolas,'Courier New',monospace\">Trained DQN model with loss: 2740781415321992612846334115840.0000\n",
       "</pre>\n"
      ],
      "text/plain": [
       "Trained DQN model with loss: 2740781415321992612846334115840.0000\n"
      ]
     },
     "metadata": {},
     "output_type": "display_data"
    },
    {
     "data": {
      "text/html": [
       "<pre style=\"white-space:pre;overflow-x:auto;line-height:normal;font-family:Menlo,'DejaVu Sans Mono',consolas,'Courier New',monospace\">Trained DQN model with loss: 2521406411548718062573920976896.0000\n",
       "</pre>\n"
      ],
      "text/plain": [
       "Trained DQN model with loss: 2521406411548718062573920976896.0000\n"
      ]
     },
     "metadata": {},
     "output_type": "display_data"
    },
    {
     "data": {
      "text/html": [
       "<pre style=\"white-space:pre;overflow-x:auto;line-height:normal;font-family:Menlo,'DejaVu Sans Mono',consolas,'Courier New',monospace\">Trained DQN model with loss: 2538923746674934039315413467136.0000\n",
       "</pre>\n"
      ],
      "text/plain": [
       "Trained DQN model with loss: 2538923746674934039315413467136.0000\n"
      ]
     },
     "metadata": {},
     "output_type": "display_data"
    },
    {
     "data": {
      "text/html": [
       "<pre style=\"white-space:pre;overflow-x:auto;line-height:normal;font-family:Menlo,'DejaVu Sans Mono',consolas,'Courier New',monospace\">Trained DQN model with loss: 2055937632231411138981619826688.0000\n",
       "</pre>\n"
      ],
      "text/plain": [
       "Trained DQN model with loss: 2055937632231411138981619826688.0000\n"
      ]
     },
     "metadata": {},
     "output_type": "display_data"
    },
    {
     "data": {
      "text/html": [
       "<pre style=\"white-space:pre;overflow-x:auto;line-height:normal;font-family:Menlo,'DejaVu Sans Mono',consolas,'Courier New',monospace\">Trained DQN model with loss: 2413125041506020052996544528384.0000\n",
       "</pre>\n"
      ],
      "text/plain": [
       "Trained DQN model with loss: 2413125041506020052996544528384.0000\n"
      ]
     },
     "metadata": {},
     "output_type": "display_data"
    },
    {
     "data": {
      "text/html": [
       "<pre style=\"white-space:pre;overflow-x:auto;line-height:normal;font-family:Menlo,'DejaVu Sans Mono',consolas,'Courier New',monospace\">Trained DQN model with loss: 2054531349271744421594142867456.0000\n",
       "</pre>\n"
      ],
      "text/plain": [
       "Trained DQN model with loss: 2054531349271744421594142867456.0000\n"
      ]
     },
     "metadata": {},
     "output_type": "display_data"
    },
    {
     "data": {
      "text/html": [
       "<pre style=\"white-space:pre;overflow-x:auto;line-height:normal;font-family:Menlo,'DejaVu Sans Mono',consolas,'Courier New',monospace\">Trained DQN model with loss: 2906212637866787891056889298944.0000\n",
       "</pre>\n"
      ],
      "text/plain": [
       "Trained DQN model with loss: 2906212637866787891056889298944.0000\n"
      ]
     },
     "metadata": {},
     "output_type": "display_data"
    },
    {
     "data": {
      "text/html": [
       "<pre style=\"white-space:pre;overflow-x:auto;line-height:normal;font-family:Menlo,'DejaVu Sans Mono',consolas,'Courier New',monospace\">Trained DQN model with loss: 2336423836186205194035430162432.0000\n",
       "</pre>\n"
      ],
      "text/plain": [
       "Trained DQN model with loss: 2336423836186205194035430162432.0000\n"
      ]
     },
     "metadata": {},
     "output_type": "display_data"
    },
    {
     "data": {
      "text/html": [
       "<pre style=\"white-space:pre;overflow-x:auto;line-height:normal;font-family:Menlo,'DejaVu Sans Mono',consolas,'Courier New',monospace\">Trained DQN model with loss: 1668712647579747341177358123008.0000\n",
       "</pre>\n"
      ],
      "text/plain": [
       "Trained DQN model with loss: 1668712647579747341177358123008.0000\n"
      ]
     },
     "metadata": {},
     "output_type": "display_data"
    },
    {
     "data": {
      "text/html": [
       "<pre style=\"white-space:pre;overflow-x:auto;line-height:normal;font-family:Menlo,'DejaVu Sans Mono',consolas,'Courier New',monospace\">Trained DQN model with loss: 2168437700037381848892780314624.0000\n",
       "</pre>\n"
      ],
      "text/plain": [
       "Trained DQN model with loss: 2168437700037381848892780314624.0000\n"
      ]
     },
     "metadata": {},
     "output_type": "display_data"
    },
    {
     "data": {
      "text/html": [
       "<pre style=\"white-space:pre;overflow-x:auto;line-height:normal;font-family:Menlo,'DejaVu Sans Mono',consolas,'Courier New',monospace\">Trained DQN model with loss: 2098125214327047949634047574016.0000\n",
       "</pre>\n"
      ],
      "text/plain": [
       "Trained DQN model with loss: 2098125214327047949634047574016.0000\n"
      ]
     },
     "metadata": {},
     "output_type": "display_data"
    },
    {
     "data": {
      "text/html": [
       "<pre style=\"white-space:pre;overflow-x:auto;line-height:normal;font-family:Menlo,'DejaVu Sans Mono',consolas,'Courier New',monospace\">Trained DQN model with loss: 2213437696936624642491515142144.0000\n",
       "</pre>\n"
      ],
      "text/plain": [
       "Trained DQN model with loss: 2213437696936624642491515142144.0000\n"
      ]
     },
     "metadata": {},
     "output_type": "display_data"
    },
    {
     "data": {
      "text/html": [
       "<pre style=\"white-space:pre;overflow-x:auto;line-height:normal;font-family:Menlo,'DejaVu Sans Mono',consolas,'Courier New',monospace\">Trained DQN model with loss: 2272500070085352254479079047168.0000\n",
       "</pre>\n"
      ],
      "text/plain": [
       "Trained DQN model with loss: 2272500070085352254479079047168.0000\n"
      ]
     },
     "metadata": {},
     "output_type": "display_data"
    },
    {
     "data": {
      "text/html": [
       "<pre style=\"white-space:pre;overflow-x:auto;line-height:normal;font-family:Menlo,'DejaVu Sans Mono',consolas,'Courier New',monospace\">Trained DQN model with loss: 2334375160269140753070243708928.0000\n",
       "</pre>\n"
      ],
      "text/plain": [
       "Trained DQN model with loss: 2334375160269140753070243708928.0000\n"
      ]
     },
     "metadata": {},
     "output_type": "display_data"
    },
    {
     "data": {
      "text/html": [
       "<pre style=\"white-space:pre;overflow-x:auto;line-height:normal;font-family:Menlo,'DejaVu Sans Mono',consolas,'Courier New',monospace\">Trained DQN model with loss: 3083142558344847714662662275072.0000\n",
       "</pre>\n"
      ],
      "text/plain": [
       "Trained DQN model with loss: 3083142558344847714662662275072.0000\n"
      ]
     },
     "metadata": {},
     "output_type": "display_data"
    },
    {
     "data": {
      "text/html": [
       "<pre style=\"white-space:pre;overflow-x:auto;line-height:normal;font-family:Menlo,'DejaVu Sans Mono',consolas,'Courier New',monospace\">Trained DQN model with loss: 1904062548249137053192985509888.0000\n",
       "</pre>\n"
      ],
      "text/plain": [
       "Trained DQN model with loss: 1904062548249137053192985509888.0000\n"
      ]
     },
     "metadata": {},
     "output_type": "display_data"
    },
    {
     "data": {
      "text/html": [
       "<pre style=\"white-space:pre;overflow-x:auto;line-height:normal;font-family:Menlo,'DejaVu Sans Mono',consolas,'Courier New',monospace\">Trained DQN model with loss: 2684531305861143531976430452736.0000\n",
       "</pre>\n"
      ],
      "text/plain": [
       "Trained DQN model with loss: 2684531305861143531976430452736.0000\n"
      ]
     },
     "metadata": {},
     "output_type": "display_data"
    },
    {
     "data": {
      "text/html": [
       "<pre style=\"white-space:pre;overflow-x:auto;line-height:normal;font-family:Menlo,'DejaVu Sans Mono',consolas,'Courier New',monospace\">Trained DQN model with loss: 2420292460459060285716083769344.0000\n",
       "</pre>\n"
      ],
      "text/plain": [
       "Trained DQN model with loss: 2420292460459060285716083769344.0000\n"
      ]
     },
     "metadata": {},
     "output_type": "display_data"
    },
    {
     "data": {
      "text/html": [
       "<pre style=\"white-space:pre;overflow-x:auto;line-height:normal;font-family:Menlo,'DejaVu Sans Mono',consolas,'Courier New',monospace\">Trained DQN model with loss: 2338593858032413453404027748352.0000\n",
       "</pre>\n"
      ],
      "text/plain": [
       "Trained DQN model with loss: 2338593858032413453404027748352.0000\n"
      ]
     },
     "metadata": {},
     "output_type": "display_data"
    },
    {
     "data": {
      "text/html": [
       "<pre style=\"white-space:pre;overflow-x:auto;line-height:normal;font-family:Menlo,'DejaVu Sans Mono',consolas,'Courier New',monospace\">Trained DQN model with loss: 1956736201788383705478167789568.0000\n",
       "</pre>\n"
      ],
      "text/plain": [
       "Trained DQN model with loss: 1956736201788383705478167789568.0000\n"
      ]
     },
     "metadata": {},
     "output_type": "display_data"
    },
    {
     "data": {
      "text/html": [
       "<pre style=\"white-space:pre;overflow-x:auto;line-height:normal;font-family:Menlo,'DejaVu Sans Mono',consolas,'Courier New',monospace\">Trained DQN model with loss: 2525941847876729795751478034432.0000\n",
       "</pre>\n"
      ],
      "text/plain": [
       "Trained DQN model with loss: 2525941847876729795751478034432.0000\n"
      ]
     },
     "metadata": {},
     "output_type": "display_data"
    },
    {
     "data": {
      "text/html": [
       "<pre style=\"white-space:pre;overflow-x:auto;line-height:normal;font-family:Menlo,'DejaVu Sans Mono',consolas,'Courier New',monospace\">Trained DQN model with loss: 2223281375422836760546560180224.0000\n",
       "</pre>\n"
      ],
      "text/plain": [
       "Trained DQN model with loss: 2223281375422836760546560180224.0000\n"
      ]
     },
     "metadata": {},
     "output_type": "display_data"
    },
    {
     "data": {
      "text/html": [
       "<pre style=\"white-space:pre;overflow-x:auto;line-height:normal;font-family:Menlo,'DejaVu Sans Mono',consolas,'Courier New',monospace\">Trained DQN model with loss: 2961562399823478976848930537472.0000\n",
       "</pre>\n"
      ],
      "text/plain": [
       "Trained DQN model with loss: 2961562399823478976848930537472.0000\n"
      ]
     },
     "metadata": {},
     "output_type": "display_data"
    },
    {
     "data": {
      "text/html": [
       "<pre style=\"white-space:pre;overflow-x:auto;line-height:normal;font-family:Menlo,'DejaVu Sans Mono',consolas,'Courier New',monospace\">Trained DQN model with loss: 2453906340641990146261495316480.0000\n",
       "</pre>\n"
      ],
      "text/plain": [
       "Trained DQN model with loss: 2453906340641990146261495316480.0000\n"
      ]
     },
     "metadata": {},
     "output_type": "display_data"
    },
    {
     "data": {
      "text/html": [
       "<pre style=\"white-space:pre;overflow-x:auto;line-height:normal;font-family:Menlo,'DejaVu Sans Mono',consolas,'Courier New',monospace\">Trained DQN model with loss: 2124843834982078320852875608064.0000\n",
       "</pre>\n"
      ],
      "text/plain": [
       "Trained DQN model with loss: 2124843834982078320852875608064.0000\n"
      ]
     },
     "metadata": {},
     "output_type": "display_data"
    },
    {
     "data": {
      "text/html": [
       "<pre style=\"white-space:pre;overflow-x:auto;line-height:normal;font-family:Menlo,'DejaVu Sans Mono',consolas,'Courier New',monospace\">Trained DQN model with loss: 2473087762158905660061970857984.0000\n",
       "</pre>\n"
      ],
      "text/plain": [
       "Trained DQN model with loss: 2473087762158905660061970857984.0000\n"
      ]
     },
     "metadata": {},
     "output_type": "display_data"
    },
    {
     "data": {
      "text/html": [
       "<pre style=\"white-space:pre;overflow-x:auto;line-height:normal;font-family:Menlo,'DejaVu Sans Mono',consolas,'Courier New',monospace\">Trained DQN model with loss: 2258268897568303743491731619840.0000\n",
       "</pre>\n"
      ],
      "text/plain": [
       "Trained DQN model with loss: 2258268897568303743491731619840.0000\n"
      ]
     },
     "metadata": {},
     "output_type": "display_data"
    },
    {
     "data": {
      "text/html": [
       "<pre style=\"white-space:pre;overflow-x:auto;line-height:normal;font-family:Menlo,'DejaVu Sans Mono',consolas,'Courier New',monospace\">Trained DQN model with loss: 1895625001606864200696770592768.0000\n",
       "</pre>\n"
      ],
      "text/plain": [
       "Trained DQN model with loss: 1895625001606864200696770592768.0000\n"
      ]
     },
     "metadata": {},
     "output_type": "display_data"
    },
    {
     "data": {
      "text/html": [
       "<pre style=\"white-space:pre;overflow-x:auto;line-height:normal;font-family:Menlo,'DejaVu Sans Mono',consolas,'Courier New',monospace\">Trained DQN model with loss: 2573437369899112087624100085760.0000\n",
       "</pre>\n"
      ],
      "text/plain": [
       "Trained DQN model with loss: 2573437369899112087624100085760.0000\n"
      ]
     },
     "metadata": {},
     "output_type": "display_data"
    },
    {
     "data": {
      "text/html": [
       "<pre style=\"white-space:pre;overflow-x:auto;line-height:normal;font-family:Menlo,'DejaVu Sans Mono',consolas,'Courier New',monospace\">Trained DQN model with loss: 2176875246679654701388995231744.0000\n",
       "</pre>\n"
      ],
      "text/plain": [
       "Trained DQN model with loss: 2176875246679654701388995231744.0000\n"
      ]
     },
     "metadata": {},
     "output_type": "display_data"
    },
    {
     "data": {
      "text/html": [
       "<pre style=\"white-space:pre;overflow-x:auto;line-height:normal;font-family:Menlo,'DejaVu Sans Mono',consolas,'Courier New',monospace\">Trained DQN model with loss: 2852775396556727148619233230848.0000\n",
       "</pre>\n"
      ],
      "text/plain": [
       "Trained DQN model with loss: 2852775396556727148619233230848.0000\n"
      ]
     },
     "metadata": {},
     "output_type": "display_data"
    },
    {
     "data": {
      "text/html": [
       "<pre style=\"white-space:pre;overflow-x:auto;line-height:normal;font-family:Menlo,'DejaVu Sans Mono',consolas,'Courier New',monospace\">Trained DQN model with loss: 1726874975455771861744353280000.0000\n",
       "</pre>\n"
      ],
      "text/plain": [
       "Trained DQN model with loss: 1726874975455771861744353280000.0000\n"
      ]
     },
     "metadata": {},
     "output_type": "display_data"
    },
    {
     "data": {
      "text/html": [
       "<pre style=\"white-space:pre;overflow-x:auto;line-height:normal;font-family:Menlo,'DejaVu Sans Mono',consolas,'Courier New',monospace\">Trained DQN model with loss: 2882812669702327128751276556288.0000\n",
       "</pre>\n"
      ],
      "text/plain": [
       "Trained DQN model with loss: 2882812669702327128751276556288.0000\n"
      ]
     },
     "metadata": {},
     "output_type": "display_data"
    },
    {
     "data": {
      "text/html": [
       "<pre style=\"white-space:pre;overflow-x:auto;line-height:normal;font-family:Menlo,'DejaVu Sans Mono',consolas,'Courier New',monospace\">Trained DQN model with loss: 1656562640861165414314267377664.0000\n",
       "</pre>\n"
      ],
      "text/plain": [
       "Trained DQN model with loss: 1656562640861165414314267377664.0000\n"
      ]
     },
     "metadata": {},
     "output_type": "display_data"
    },
    {
     "data": {
      "text/html": [
       "<pre style=\"white-space:pre;overflow-x:auto;line-height:normal;font-family:Menlo,'DejaVu Sans Mono',consolas,'Courier New',monospace\">Trained DQN model with loss: 2982656341987024834003791249408.0000\n",
       "</pre>\n"
      ],
      "text/plain": [
       "Trained DQN model with loss: 2982656341987024834003791249408.0000\n"
      ]
     },
     "metadata": {},
     "output_type": "display_data"
    },
    {
     "data": {
      "text/html": [
       "<pre style=\"white-space:pre;overflow-x:auto;line-height:normal;font-family:Menlo,'DejaVu Sans Mono',consolas,'Courier New',monospace\">Trained DQN model with loss: 2142035817947090510517725298688.0000\n",
       "</pre>\n"
      ],
      "text/plain": [
       "Trained DQN model with loss: 2142035817947090510517725298688.0000\n"
      ]
     },
     "metadata": {},
     "output_type": "display_data"
    },
    {
     "data": {
      "text/html": [
       "<pre style=\"white-space:pre;overflow-x:auto;line-height:normal;font-family:Menlo,'DejaVu Sans Mono',consolas,'Courier New',monospace\">Trained DQN model with loss: 2280937767843352558803940802560.0000\n",
       "</pre>\n"
      ],
      "text/plain": [
       "Trained DQN model with loss: 2280937767843352558803940802560.0000\n"
      ]
     },
     "metadata": {},
     "output_type": "display_data"
    },
    {
     "data": {
      "text/html": [
       "<pre style=\"white-space:pre;overflow-x:auto;line-height:normal;font-family:Menlo,'DejaVu Sans Mono',consolas,'Courier New',monospace\">Trained DQN model with loss: 1787343933795621094776687820800.0000\n",
       "</pre>\n"
      ],
      "text/plain": [
       "Trained DQN model with loss: 1787343933795621094776687820800.0000\n"
      ]
     },
     "metadata": {},
     "output_type": "display_data"
    },
    {
     "data": {
      "text/html": [
       "<pre style=\"white-space:pre;overflow-x:auto;line-height:normal;font-family:Menlo,'DejaVu Sans Mono',consolas,'Courier New',monospace\">Trained DQN model with loss: 2507343884183505792356445061120.0000\n",
       "</pre>\n"
      ],
      "text/plain": [
       "Trained DQN model with loss: 2507343884183505792356445061120.0000\n"
      ]
     },
     "metadata": {},
     "output_type": "display_data"
    },
    {
     "data": {
      "text/html": [
       "<pre style=\"white-space:pre;overflow-x:auto;line-height:normal;font-family:Menlo,'DejaVu Sans Mono',consolas,'Courier New',monospace\">Trained DQN model with loss: 2252812561997200566540342132736.0000\n",
       "</pre>\n"
      ],
      "text/plain": [
       "Trained DQN model with loss: 2252812561997200566540342132736.0000\n"
      ]
     },
     "metadata": {},
     "output_type": "display_data"
    },
    {
     "data": {
      "text/html": [
       "<pre style=\"white-space:pre;overflow-x:auto;line-height:normal;font-family:Menlo,'DejaVu Sans Mono',consolas,'Courier New',monospace\">Trained DQN model with loss: 1950468828108046564179197296640.0000\n",
       "</pre>\n"
      ],
      "text/plain": [
       "Trained DQN model with loss: 1950468828108046564179197296640.0000\n"
      ]
     },
     "metadata": {},
     "output_type": "display_data"
    },
    {
     "data": {
      "text/html": [
       "<pre style=\"white-space:pre;overflow-x:auto;line-height:normal;font-family:Menlo,'DejaVu Sans Mono',consolas,'Courier New',monospace\">Trained DQN model with loss: 2565959257010430895206661357568.0000\n",
       "</pre>\n"
      ],
      "text/plain": [
       "Trained DQN model with loss: 2565959257010430895206661357568.0000\n"
      ]
     },
     "metadata": {},
     "output_type": "display_data"
    },
    {
     "data": {
      "text/html": [
       "<pre style=\"white-space:pre;overflow-x:auto;line-height:normal;font-family:Menlo,'DejaVu Sans Mono',consolas,'Courier New',monospace\">Trained DQN model with loss: 2330156462505868052736459669504.0000\n",
       "</pre>\n"
      ],
      "text/plain": [
       "Trained DQN model with loss: 2330156462505868052736459669504.0000\n"
      ]
     },
     "metadata": {},
     "output_type": "display_data"
    },
    {
     "data": {
      "text/html": [
       "<pre style=\"white-space:pre;overflow-x:auto;line-height:normal;font-family:Menlo,'DejaVu Sans Mono',consolas,'Courier New',monospace\">Trained DQN model with loss: 2178281227407866515119178514432.0000\n",
       "</pre>\n"
      ],
      "text/plain": [
       "Trained DQN model with loss: 2178281227407866515119178514432.0000\n"
      ]
     },
     "metadata": {},
     "output_type": "display_data"
    },
    {
     "data": {
      "text/html": [
       "<pre style=\"white-space:pre;overflow-x:auto;line-height:normal;font-family:Menlo,'DejaVu Sans Mono',consolas,'Courier New',monospace\">Trained DQN model with loss: 2115000156495866202797830569984.0000\n",
       "</pre>\n"
      ],
      "text/plain": [
       "Trained DQN model with loss: 2115000156495866202797830569984.0000\n"
      ]
     },
     "metadata": {},
     "output_type": "display_data"
    },
    {
     "data": {
      "text/html": [
       "<pre style=\"white-space:pre;overflow-x:auto;line-height:normal;font-family:Menlo,'DejaVu Sans Mono',consolas,'Courier New',monospace\">Trained DQN model with loss: 1960629547390452618735309029376.0000\n",
       "</pre>\n"
      ],
      "text/plain": [
       "Trained DQN model with loss: 1960629547390452618735309029376.0000\n"
      ]
     },
     "metadata": {},
     "output_type": "display_data"
    },
    {
     "data": {
      "text/html": [
       "<pre style=\"white-space:pre;overflow-x:auto;line-height:normal;font-family:Menlo,'DejaVu Sans Mono',consolas,'Courier New',monospace\">Trained DQN model with loss: 2437031247357444441269065482240.0000\n",
       "</pre>\n"
      ],
      "text/plain": [
       "Trained DQN model with loss: 2437031247357444441269065482240.0000\n"
      ]
     },
     "metadata": {},
     "output_type": "display_data"
    },
    {
     "data": {
      "text/html": [
       "<pre style=\"white-space:pre;overflow-x:auto;line-height:normal;font-family:Menlo,'DejaVu Sans Mono',consolas,'Courier New',monospace\">Trained DQN model with loss: 2536931436924209130435497689088.0000\n",
       "</pre>\n"
      ],
      "text/plain": [
       "Trained DQN model with loss: 2536931436924209130435497689088.0000\n"
      ]
     },
     "metadata": {},
     "output_type": "display_data"
    },
    {
     "data": {
      "text/html": [
       "<pre style=\"white-space:pre;overflow-x:auto;line-height:normal;font-family:Menlo,'DejaVu Sans Mono',consolas,'Courier New',monospace\">Trained DQN model with loss: 2680312759213598283471293251584.0000\n",
       "</pre>\n"
      ],
      "text/plain": [
       "Trained DQN model with loss: 2680312759213598283471293251584.0000\n"
      ]
     },
     "metadata": {},
     "output_type": "display_data"
    },
    {
     "data": {
      "text/html": [
       "<pre style=\"white-space:pre;overflow-x:auto;line-height:normal;font-family:Menlo,'DejaVu Sans Mono',consolas,'Courier New',monospace\">Trained DQN model with loss: 1888593889039985517416679473152.0000\n",
       "</pre>\n"
      ],
      "text/plain": [
       "Trained DQN model with loss: 1888593889039985517416679473152.0000\n"
      ]
     },
     "metadata": {},
     "output_type": "display_data"
    },
    {
     "data": {
      "text/html": [
       "<pre style=\"white-space:pre;overflow-x:auto;line-height:normal;font-family:Menlo,'DejaVu Sans Mono',consolas,'Courier New',monospace\">Trained DQN model with loss: 1965937638432925551784150171648.0000\n",
       "</pre>\n"
      ],
      "text/plain": [
       "Trained DQN model with loss: 1965937638432925551784150171648.0000\n"
      ]
     },
     "metadata": {},
     "output_type": "display_data"
    },
    {
     "data": {
      "text/html": [
       "<pre style=\"white-space:pre;overflow-x:auto;line-height:normal;font-family:Menlo,'DejaVu Sans Mono',consolas,'Courier New',monospace\">Trained DQN model with loss: 2541093768521142298684011053056.0000\n",
       "</pre>\n"
      ],
      "text/plain": [
       "Trained DQN model with loss: 2541093768521142298684011053056.0000\n"
      ]
     },
     "metadata": {},
     "output_type": "display_data"
    },
    {
     "data": {
      "text/html": [
       "<pre style=\"white-space:pre;overflow-x:auto;line-height:normal;font-family:Menlo,'DejaVu Sans Mono',consolas,'Courier New',monospace\">Trained DQN model with loss: 2289398737423380444740415651840.0000\n",
       "</pre>\n"
      ],
      "text/plain": [
       "Trained DQN model with loss: 2289398737423380444740415651840.0000\n"
      ]
     },
     "metadata": {},
     "output_type": "display_data"
    },
    {
     "data": {
      "text/html": [
       "<pre style=\"white-space:pre;overflow-x:auto;line-height:normal;font-family:Menlo,'DejaVu Sans Mono',consolas,'Courier New',monospace\">Trained DQN model with loss: 2538597941166547896752830152704.0000\n",
       "</pre>\n"
      ],
      "text/plain": [
       "Trained DQN model with loss: 2538597941166547896752830152704.0000\n"
      ]
     },
     "metadata": {},
     "output_type": "display_data"
    },
    {
     "data": {
      "text/html": [
       "<pre style=\"white-space:pre;overflow-x:auto;line-height:normal;font-family:Menlo,'DejaVu Sans Mono',consolas,'Courier New',monospace\">Trained DQN model with loss: 1880549998867724678545478254592.0000\n",
       "</pre>\n"
      ],
      "text/plain": [
       "Trained DQN model with loss: 1880549998867724678545478254592.0000\n"
      ]
     },
     "metadata": {},
     "output_type": "display_data"
    },
    {
     "data": {
      "text/html": [
       "<pre style=\"white-space:pre;overflow-x:auto;line-height:normal;font-family:Menlo,'DejaVu Sans Mono',consolas,'Courier New',monospace\">Trained DQN model with loss: 2230312639105442895655298138112.0000\n",
       "</pre>\n"
      ],
      "text/plain": [
       "Trained DQN model with loss: 2230312639105442895655298138112.0000\n"
      ]
     },
     "metadata": {},
     "output_type": "display_data"
    },
    {
     "data": {
      "text/html": [
       "<pre style=\"white-space:pre;overflow-x:auto;line-height:normal;font-family:Menlo,'DejaVu Sans Mono',consolas,'Courier New',monospace\">Trained DQN model with loss: 2480625112412747969308970188800.0000\n",
       "</pre>\n"
      ],
      "text/plain": [
       "Trained DQN model with loss: 2480625112412747969308970188800.0000\n"
      ]
     },
     "metadata": {},
     "output_type": "display_data"
    },
    {
     "data": {
      "text/html": [
       "<pre style=\"white-space:pre;overflow-x:auto;line-height:normal;font-family:Menlo,'DejaVu Sans Mono',consolas,'Courier New',monospace\">Trained DQN model with loss: 2482031395372414686696447148032.0000\n",
       "</pre>\n"
      ],
      "text/plain": [
       "Trained DQN model with loss: 2482031395372414686696447148032.0000\n"
      ]
     },
     "metadata": {},
     "output_type": "display_data"
    },
    {
     "data": {
      "text/html": [
       "<pre style=\"white-space:pre;overflow-x:auto;line-height:normal;font-family:Menlo,'DejaVu Sans Mono',consolas,'Courier New',monospace\">Trained DQN model with loss: 2349843819478292288846549745664.0000\n",
       "</pre>\n"
      ],
      "text/plain": [
       "Trained DQN model with loss: 2349843819478292288846549745664.0000\n"
      ]
     },
     "metadata": {},
     "output_type": "display_data"
    },
    {
     "data": {
      "text/html": [
       "<pre style=\"white-space:pre;overflow-x:auto;line-height:normal;font-family:Menlo,'DejaVu Sans Mono',consolas,'Courier New',monospace\">Trained DQN model with loss: 1946567020025240348517833113600.0000\n",
       "</pre>\n"
      ],
      "text/plain": [
       "Trained DQN model with loss: 1946567020025240348517833113600.0000\n"
      ]
     },
     "metadata": {},
     "output_type": "display_data"
    },
    {
     "data": {
      "text/html": [
       "<pre style=\"white-space:pre;overflow-x:auto;line-height:normal;font-family:Menlo,'DejaVu Sans Mono',consolas,'Courier New',monospace\">Trained DQN model with loss: 2361093932039898576117718581248.0000\n",
       "</pre>\n"
      ],
      "text/plain": [
       "Trained DQN model with loss: 2361093932039898576117718581248.0000\n"
      ]
     },
     "metadata": {},
     "output_type": "display_data"
    },
    {
     "data": {
      "text/html": [
       "<pre style=\"white-space:pre;overflow-x:auto;line-height:normal;font-family:Menlo,'DejaVu Sans Mono',consolas,'Courier New',monospace\">Trained DQN model with loss: 3006562850069904125933605879808.0000\n",
       "</pre>\n"
      ],
      "text/plain": [
       "Trained DQN model with loss: 3006562850069904125933605879808.0000\n"
      ]
     },
     "metadata": {},
     "output_type": "display_data"
    },
    {
     "data": {
      "text/html": [
       "<pre style=\"white-space:pre;overflow-x:auto;line-height:normal;font-family:Menlo,'DejaVu Sans Mono',consolas,'Courier New',monospace\">Trained DQN model with loss: 2197350218823557868406406381568.0000\n",
       "</pre>\n"
      ],
      "text/plain": [
       "Trained DQN model with loss: 2197350218823557868406406381568.0000\n"
      ]
     },
     "metadata": {},
     "output_type": "display_data"
    },
    {
     "data": {
      "text/html": [
       "<pre style=\"white-space:pre;overflow-x:auto;line-height:normal;font-family:Menlo,'DejaVu Sans Mono',consolas,'Courier New',monospace\">Trained DQN model with loss: 2201681497803782181082084933632.0000\n",
       "</pre>\n"
      ],
      "text/plain": [
       "Trained DQN model with loss: 2201681497803782181082084933632.0000\n"
      ]
     },
     "metadata": {},
     "output_type": "display_data"
    },
    {
     "data": {
      "text/html": [
       "<pre style=\"white-space:pre;overflow-x:auto;line-height:normal;font-family:Menlo,'DejaVu Sans Mono',consolas,'Courier New',monospace\">Trained DQN model with loss: 2936249911012387871188932624384.0000\n",
       "</pre>\n"
      ],
      "text/plain": [
       "Trained DQN model with loss: 2936249911012387871188932624384.0000\n"
      ]
     },
     "metadata": {},
     "output_type": "display_data"
    },
    {
     "data": {
      "text/html": [
       "<pre style=\"white-space:pre;overflow-x:auto;line-height:normal;font-family:Menlo,'DejaVu Sans Mono',consolas,'Courier New',monospace\">Trained DQN model with loss: 2177191985244393734232768249856.0000\n",
       "</pre>\n"
      ],
      "text/plain": [
       "Trained DQN model with loss: 2177191985244393734232768249856.0000\n"
      ]
     },
     "metadata": {},
     "output_type": "display_data"
    },
    {
     "data": {
      "text/html": [
       "<pre style=\"white-space:pre;overflow-x:auto;line-height:normal;font-family:Menlo,'DejaVu Sans Mono',consolas,'Courier New',monospace\">Trained DQN model with loss: 2579062501737778957174007922688.0000\n",
       "</pre>\n"
      ],
      "text/plain": [
       "Trained DQN model with loss: 2579062501737778957174007922688.0000\n"
      ]
     },
     "metadata": {},
     "output_type": "display_data"
    },
    {
     "data": {
      "text/html": [
       "<pre style=\"white-space:pre;overflow-x:auto;line-height:normal;font-family:Menlo,'DejaVu Sans Mono',consolas,'Courier New',monospace\">Trained DQN model with loss: 2084118750896720307844548657152.0000\n",
       "</pre>\n"
      ],
      "text/plain": [
       "Trained DQN model with loss: 2084118750896720307844548657152.0000\n"
      ]
     },
     "metadata": {},
     "output_type": "display_data"
    },
    {
     "data": {
      "text/html": [
       "<pre style=\"white-space:pre;overflow-x:auto;line-height:normal;font-family:Menlo,'DejaVu Sans Mono',consolas,'Courier New',monospace\">Trained DQN model with loss: 2393437684533595816886454452224.0000\n",
       "</pre>\n"
      ],
      "text/plain": [
       "Trained DQN model with loss: 2393437684533595816886454452224.0000\n"
      ]
     },
     "metadata": {},
     "output_type": "display_data"
    },
    {
     "data": {
      "text/html": [
       "<pre style=\"white-space:pre;overflow-x:auto;line-height:normal;font-family:Menlo,'DejaVu Sans Mono',consolas,'Courier New',monospace\">Trained DQN model with loss: 1920937641533682758185415344128.0000\n",
       "</pre>\n"
      ],
      "text/plain": [
       "Trained DQN model with loss: 1920937641533682758185415344128.0000\n"
      ]
     },
     "metadata": {},
     "output_type": "display_data"
    },
    {
     "data": {
      "text/html": [
       "<pre style=\"white-space:pre;overflow-x:auto;line-height:normal;font-family:Menlo,'DejaVu Sans Mono',consolas,'Courier New',monospace\">Trained DQN model with loss: 2325318945838680114093872906240.0000\n",
       "</pre>\n"
      ],
      "text/plain": [
       "Trained DQN model with loss: 2325318945838680114093872906240.0000\n"
      ]
     },
     "metadata": {},
     "output_type": "display_data"
    },
    {
     "data": {
      "text/html": [
       "<pre style=\"white-space:pre;overflow-x:auto;line-height:normal;font-family:Menlo,'DejaVu Sans Mono',consolas,'Courier New',monospace\">Trained DQN model with loss: 2532656372994596898016442974208.0000\n",
       "</pre>\n"
      ],
      "text/plain": [
       "Trained DQN model with loss: 2532656372994596898016442974208.0000\n"
      ]
     },
     "metadata": {},
     "output_type": "display_data"
    },
    {
     "data": {
      "text/html": [
       "<pre style=\"white-space:pre;overflow-x:auto;line-height:normal;font-family:Menlo,'DejaVu Sans Mono',consolas,'Courier New',monospace\">Trained DQN model with loss: 2129062532745351021186659647488.0000\n",
       "</pre>\n"
      ],
      "text/plain": [
       "Trained DQN model with loss: 2129062532745351021186659647488.0000\n"
      ]
     },
     "metadata": {},
     "output_type": "display_data"
    },
    {
     "data": {
      "text/html": [
       "<pre style=\"white-space:pre;overflow-x:auto;line-height:normal;font-family:Menlo,'DejaVu Sans Mono',consolas,'Courier New',monospace\">Trained DQN model with loss: 1916718943770410057851631304704.0000\n",
       "</pre>\n"
      ],
      "text/plain": [
       "Trained DQN model with loss: 1916718943770410057851631304704.0000\n"
      ]
     },
     "metadata": {},
     "output_type": "display_data"
    },
    {
     "data": {
      "text/html": [
       "<pre style=\"white-space:pre;overflow-x:auto;line-height:normal;font-family:Menlo,'DejaVu Sans Mono',consolas,'Courier New',monospace\">Trained DQN model with loss: 1537031309372588569294368931840.0000\n",
       "</pre>\n"
      ],
      "text/plain": [
       "Trained DQN model with loss: 1537031309372588569294368931840.0000\n"
      ]
     },
     "metadata": {},
     "output_type": "display_data"
    },
    {
     "data": {
      "text/html": [
       "<pre style=\"white-space:pre;overflow-x:auto;line-height:normal;font-family:Menlo,'DejaVu Sans Mono',consolas,'Courier New',monospace\">Trained DQN model with loss: 2436412579569256654788909596672.0000\n",
       "</pre>\n"
      ],
      "text/plain": [
       "Trained DQN model with loss: 2436412579569256654788909596672.0000\n"
      ]
     },
     "metadata": {},
     "output_type": "display_data"
    },
    {
     "data": {
      "text/html": [
       "<pre style=\"white-space:pre;overflow-x:auto;line-height:normal;font-family:Menlo,'DejaVu Sans Mono',consolas,'Courier New',monospace\">Trained DQN model with loss: 2186718925165866819444040269824.0000\n",
       "</pre>\n"
      ],
      "text/plain": [
       "Trained DQN model with loss: 2186718925165866819444040269824.0000\n"
      ]
     },
     "metadata": {},
     "output_type": "display_data"
    },
    {
     "data": {
      "text/html": [
       "<pre style=\"white-space:pre;overflow-x:auto;line-height:normal;font-family:Menlo,'DejaVu Sans Mono',consolas,'Courier New',monospace\">Trained DQN model with loss: 2028712622773689689967236743168.0000\n",
       "</pre>\n"
      ],
      "text/plain": [
       "Trained DQN model with loss: 2028712622773689689967236743168.0000\n"
      ]
     },
     "metadata": {},
     "output_type": "display_data"
    },
    {
     "data": {
      "text/html": [
       "<pre style=\"white-space:pre;overflow-x:auto;line-height:normal;font-family:Menlo,'DejaVu Sans Mono',consolas,'Courier New',monospace\">Trained DQN model with loss: 2247356226426097389588952645632.0000\n",
       "</pre>\n"
      ],
      "text/plain": [
       "Trained DQN model with loss: 2247356226426097389588952645632.0000\n"
      ]
     },
     "metadata": {},
     "output_type": "display_data"
    },
    {
     "data": {
      "text/html": [
       "<pre style=\"white-space:pre;overflow-x:auto;line-height:normal;font-family:Menlo,'DejaVu Sans Mono',consolas,'Courier New',monospace\">Trained DQN model with loss: 2288868774567206881675953831936.0000\n",
       "</pre>\n"
      ],
      "text/plain": [
       "Trained DQN model with loss: 2288868774567206881675953831936.0000\n"
      ]
     },
     "metadata": {},
     "output_type": "display_data"
    },
    {
     "data": {
      "text/html": [
       "<pre style=\"white-space:pre;overflow-x:auto;line-height:normal;font-family:Menlo,'DejaVu Sans Mono',consolas,'Courier New',monospace\">Trained DQN model with loss: 2200781452531079089661516185600.0000\n",
       "</pre>\n"
      ],
      "text/plain": [
       "Trained DQN model with loss: 2200781452531079089661516185600.0000\n"
      ]
     },
     "metadata": {},
     "output_type": "display_data"
    },
    {
     "data": {
      "text/html": [
       "<pre style=\"white-space:pre;overflow-x:auto;line-height:normal;font-family:Menlo,'DejaVu Sans Mono',consolas,'Courier New',monospace\">Trained DQN model with loss: 2245781298314594431431604174848.0000\n",
       "</pre>\n"
      ],
      "text/plain": [
       "Trained DQN model with loss: 2245781298314594431431604174848.0000\n"
      ]
     },
     "metadata": {},
     "output_type": "display_data"
    },
    {
     "data": {
      "text/html": [
       "<pre style=\"white-space:pre;overflow-x:auto;line-height:normal;font-family:Menlo,'DejaVu Sans Mono',consolas,'Courier New',monospace\">Trained DQN model with loss: 2158594021551169730837735276544.0000\n",
       "</pre>\n"
      ],
      "text/plain": [
       "Trained DQN model with loss: 2158594021551169730837735276544.0000\n"
      ]
     },
     "metadata": {},
     "output_type": "display_data"
    },
    {
     "data": {
      "text/html": [
       "<pre style=\"white-space:pre;overflow-x:auto;line-height:normal;font-family:Menlo,'DejaVu Sans Mono',consolas,'Courier New',monospace\">Trained DQN model with loss: 1695173767035199796381973741568.0000\n",
       "</pre>\n"
      ],
      "text/plain": [
       "Trained DQN model with loss: 1695173767035199796381973741568.0000\n"
      ]
     },
     "metadata": {},
     "output_type": "display_data"
    },
    {
     "data": {
      "text/html": [
       "<pre style=\"white-space:pre;overflow-x:auto;line-height:normal;font-family:Menlo,'DejaVu Sans Mono',consolas,'Courier New',monospace\">Trained DQN model with loss: 2399062665256535234607715450880.0000\n",
       "</pre>\n"
      ],
      "text/plain": [
       "Trained DQN model with loss: 2399062665256535234607715450880.0000\n"
      ]
     },
     "metadata": {},
     "output_type": "display_data"
    },
    {
     "data": {
      "text/html": [
       "<pre style=\"white-space:pre;overflow-x:auto;line-height:normal;font-family:Menlo,'DejaVu Sans Mono',consolas,'Courier New',monospace\">Trained DQN model with loss: 2160000153395108996396565397504.0000\n",
       "</pre>\n"
      ],
      "text/plain": [
       "Trained DQN model with loss: 2160000153395108996396565397504.0000\n"
      ]
     },
     "metadata": {},
     "output_type": "display_data"
    },
    {
     "data": {
      "text/html": [
       "<pre style=\"white-space:pre;overflow-x:auto;line-height:normal;font-family:Menlo,'DejaVu Sans Mono',consolas,'Courier New',monospace\">Trained DQN model with loss: 1960312506594258682234242334720.0000\n",
       "</pre>\n"
      ],
      "text/plain": [
       "Trained DQN model with loss: 1960312506594258682234242334720.0000\n"
      ]
     },
     "metadata": {},
     "output_type": "display_data"
    },
    {
     "data": {
      "text/html": [
       "<pre style=\"white-space:pre;overflow-x:auto;line-height:normal;font-family:Menlo,'DejaVu Sans Mono',consolas,'Courier New',monospace\">Trained DQN model with loss: 2091093799528714362696662777856.0000\n",
       "</pre>\n"
      ],
      "text/plain": [
       "Trained DQN model with loss: 2091093799528714362696662777856.0000\n"
      ]
     },
     "metadata": {},
     "output_type": "display_data"
    },
    {
     "data": {
      "text/html": [
       "<pre style=\"white-space:pre;overflow-x:auto;line-height:normal;font-family:Menlo,'DejaVu Sans Mono',consolas,'Courier New',monospace\">Trained DQN model with loss: 1873125229830833981640373436416.0000\n",
       "</pre>\n"
      ],
      "text/plain": [
       "Trained DQN model with loss: 1873125229830833981640373436416.0000\n"
      ]
     },
     "metadata": {},
     "output_type": "display_data"
    },
    {
     "data": {
      "text/html": [
       "<pre style=\"white-space:pre;overflow-x:auto;line-height:normal;font-family:Menlo,'DejaVu Sans Mono',consolas,'Courier New',monospace\">Trained DQN model with loss: 2497837496000966155841143046144.0000\n",
       "</pre>\n"
      ],
      "text/plain": [
       "Trained DQN model with loss: 2497837496000966155841143046144.0000\n"
      ]
     },
     "metadata": {},
     "output_type": "display_data"
    },
    {
     "data": {
      "text/html": [
       "<pre style=\"white-space:pre;overflow-x:auto;line-height:normal;font-family:Menlo,'DejaVu Sans Mono',consolas,'Courier New',monospace\">Trained DQN model with loss: 1860243822991385204126585454592.0000\n",
       "</pre>\n"
      ],
      "text/plain": [
       "Trained DQN model with loss: 1860243822991385204126585454592.0000\n"
      ]
     },
     "metadata": {},
     "output_type": "display_data"
    },
    {
     "data": {
      "text/html": [
       "<pre style=\"white-space:pre;overflow-x:auto;line-height:normal;font-family:Menlo,'DejaVu Sans Mono',consolas,'Courier New',monospace\">Trained DQN model with loss: 1836562628458136588709206687744.0000\n",
       "</pre>\n"
      ],
      "text/plain": [
       "Trained DQN model with loss: 1836562628458136588709206687744.0000\n"
      ]
     },
     "metadata": {},
     "output_type": "display_data"
    },
    {
     "data": {
      "text/html": [
       "<pre style=\"white-space:pre;overflow-x:auto;line-height:normal;font-family:Menlo,'DejaVu Sans Mono',consolas,'Courier New',monospace\">Trained DQN model with loss: 1659375206780498849089221296128.0000\n",
       "</pre>\n"
      ],
      "text/plain": [
       "Trained DQN model with loss: 1659375206780498849089221296128.0000\n"
      ]
     },
     "metadata": {},
     "output_type": "display_data"
    },
    {
     "data": {
      "text/html": [
       "<pre style=\"white-space:pre;overflow-x:auto;line-height:normal;font-family:Menlo,'DejaVu Sans Mono',consolas,'Courier New',monospace\">Trained DQN model with loss: 2562504449249427188682644783104.0000\n",
       "</pre>\n"
      ],
      "text/plain": [
       "Trained DQN model with loss: 2562504449249427188682644783104.0000\n"
      ]
     },
     "metadata": {},
     "output_type": "display_data"
    },
    {
     "data": {
      "text/html": [
       "<pre style=\"white-space:pre;overflow-x:auto;line-height:normal;font-family:Menlo,'DejaVu Sans Mono',consolas,'Courier New',monospace\">Trained DQN model with loss: 2055339818413611704854727622656.0000\n",
       "</pre>\n"
      ],
      "text/plain": [
       "Trained DQN model with loss: 2055339818413611704854727622656.0000\n"
      ]
     },
     "metadata": {},
     "output_type": "display_data"
    },
    {
     "data": {
      "text/html": [
       "<pre style=\"white-space:pre;overflow-x:auto;line-height:normal;font-family:Menlo,'DejaVu Sans Mono',consolas,'Courier New',monospace\">Trained DQN model with loss: 2272500372316807158136372723712.0000\n",
       "</pre>\n"
      ],
      "text/plain": [
       "Trained DQN model with loss: 2272500372316807158136372723712.0000\n"
      ]
     },
     "metadata": {},
     "output_type": "display_data"
    },
    {
     "data": {
      "text/html": [
       "<pre style=\"white-space:pre;overflow-x:auto;line-height:normal;font-family:Menlo,'DejaVu Sans Mono',consolas,'Courier New',monospace\">Trained DQN model with loss: 2028712773889417141795883581440.0000\n",
       "</pre>\n"
      ],
      "text/plain": [
       "Trained DQN model with loss: 2028712773889417141795883581440.0000\n"
      ]
     },
     "metadata": {},
     "output_type": "display_data"
    },
    {
     "data": {
      "text/html": [
       "<pre style=\"white-space:pre;overflow-x:auto;line-height:normal;font-family:Menlo,'DejaVu Sans Mono',consolas,'Courier New',monospace\">Trained DQN model with loss: 1906256295264555249659136704512.0000\n",
       "</pre>\n"
      ],
      "text/plain": [
       "Trained DQN model with loss: 1906256295264555249659136704512.0000\n"
      ]
     },
     "metadata": {},
     "output_type": "display_data"
    },
    {
     "data": {
      "text/html": [
       "<pre style=\"white-space:pre;overflow-x:auto;line-height:normal;font-family:Menlo,'DejaVu Sans Mono',consolas,'Courier New',monospace\">Trained DQN model with loss: 2849198789519397268205865009152.0000\n",
       "</pre>\n"
      ],
      "text/plain": [
       "Trained DQN model with loss: 2849198789519397268205865009152.0000\n"
      ]
     },
     "metadata": {},
     "output_type": "display_data"
    },
    {
     "data": {
      "text/html": [
       "<pre style=\"white-space:pre;overflow-x:auto;line-height:normal;font-family:Menlo,'DejaVu Sans Mono',consolas,'Courier New',monospace\">Trained DQN model with loss: 2095650240942841900056130355200.0000\n",
       "</pre>\n"
      ],
      "text/plain": [
       "Trained DQN model with loss: 2095650240942841900056130355200.0000\n"
      ]
     },
     "metadata": {},
     "output_type": "display_data"
    },
    {
     "data": {
      "text/html": [
       "<pre style=\"white-space:pre;overflow-x:auto;line-height:normal;font-family:Menlo,'DejaVu Sans Mono',consolas,'Courier New',monospace\">Trained DQN model with loss: 1910495998113943754174831263744.0000\n",
       "</pre>\n"
      ],
      "text/plain": [
       "Trained DQN model with loss: 1910495998113943754174831263744.0000\n"
      ]
     },
     "metadata": {},
     "output_type": "display_data"
    },
    {
     "data": {
      "text/html": [
       "<pre style=\"white-space:pre;overflow-x:auto;line-height:normal;font-family:Menlo,'DejaVu Sans Mono',consolas,'Courier New',monospace\">Trained DQN model with loss: 2022995914804187012257344913408.0000\n",
       "</pre>\n"
      ],
      "text/plain": [
       "Trained DQN model with loss: 2022995914804187012257344913408.0000\n"
      ]
     },
     "metadata": {},
     "output_type": "display_data"
    },
    {
     "data": {
      "text/html": [
       "<pre style=\"white-space:pre;overflow-x:auto;line-height:normal;font-family:Menlo,'DejaVu Sans Mono',consolas,'Courier New',monospace\">Trained DQN model with loss: 1680507834570272374377672605696.0000\n",
       "</pre>\n"
      ],
      "text/plain": [
       "Trained DQN model with loss: 1680507834570272374377672605696.0000\n"
      ]
     },
     "metadata": {},
     "output_type": "display_data"
    },
    {
     "data": {
      "text/html": [
       "<pre style=\"white-space:pre;overflow-x:auto;line-height:normal;font-family:Menlo,'DejaVu Sans Mono',consolas,'Courier New',monospace\">Trained DQN model with loss: 2158593870435442279009088438272.0000\n",
       "</pre>\n"
      ],
      "text/plain": [
       "Trained DQN model with loss: 2158593870435442279009088438272.0000\n"
      ]
     },
     "metadata": {},
     "output_type": "display_data"
    },
    {
     "data": {
      "text/html": [
       "<pre style=\"white-space:pre;overflow-x:auto;line-height:normal;font-family:Menlo,'DejaVu Sans Mono',consolas,'Courier New',monospace\">Trained DQN model with loss: 2393437684533595816886454452224.0000\n",
       "</pre>\n"
      ],
      "text/plain": [
       "Trained DQN model with loss: 2393437684533595816886454452224.0000\n"
      ]
     },
     "metadata": {},
     "output_type": "display_data"
    },
    {
     "data": {
      "text/html": [
       "<pre style=\"white-space:pre;overflow-x:auto;line-height:normal;font-family:Menlo,'DejaVu Sans Mono',consolas,'Courier New',monospace\">Trained DQN model with loss: 2247187581274261148819081134080.0000\n",
       "</pre>\n"
      ],
      "text/plain": [
       "Trained DQN model with loss: 2247187581274261148819081134080.0000\n"
      ]
     },
     "metadata": {},
     "output_type": "display_data"
    },
    {
     "data": {
      "text/html": [
       "<pre style=\"white-space:pre;overflow-x:auto;line-height:normal;font-family:Menlo,'DejaVu Sans Mono',consolas,'Courier New',monospace\">Trained DQN model with loss: 1879558377464185778964925513728.0000\n",
       "</pre>\n"
      ],
      "text/plain": [
       "Trained DQN model with loss: 1879558377464185778964925513728.0000\n"
      ]
     },
     "metadata": {},
     "output_type": "display_data"
    },
    {
     "data": {
      "text/html": [
       "<pre style=\"white-space:pre;overflow-x:auto;line-height:normal;font-family:Menlo,'DejaVu Sans Mono',consolas,'Courier New',monospace\">Trained DQN model with loss: 2299218992971837529355200757760.0000\n",
       "</pre>\n"
      ],
      "text/plain": [
       "Trained DQN model with loss: 2299218992971837529355200757760.0000\n"
      ]
     },
     "metadata": {},
     "output_type": "display_data"
    },
    {
     "data": {
      "text/html": [
       "<pre style=\"white-space:pre;overflow-x:auto;line-height:normal;font-family:Menlo,'DejaVu Sans Mono',consolas,'Courier New',monospace\">Trained DQN model with loss: 2084704928803505951165634314240.0000\n",
       "</pre>\n"
      ],
      "text/plain": [
       "Trained DQN model with loss: 2084704928803505951165634314240.0000\n"
      ]
     },
     "metadata": {},
     "output_type": "display_data"
    },
    {
     "data": {
      "text/html": [
       "<pre style=\"white-space:pre;overflow-x:auto;line-height:normal;font-family:Menlo,'DejaVu Sans Mono',consolas,'Courier New',monospace\">Trained DQN model with loss: 2336962714870298414990055440384.0000\n",
       "</pre>\n"
      ],
      "text/plain": [
       "Trained DQN model with loss: 2336962714870298414990055440384.0000\n"
      ]
     },
     "metadata": {},
     "output_type": "display_data"
    },
    {
     "data": {
      "text/html": [
       "<pre style=\"white-space:pre;overflow-x:auto;line-height:normal;font-family:Menlo,'DejaVu Sans Mono',consolas,'Courier New',monospace\">Trained DQN model with loss: 2227500224301836912708991057920.0000\n",
       "</pre>\n"
      ],
      "text/plain": [
       "Trained DQN model with loss: 2227500224301836912708991057920.0000\n"
      ]
     },
     "metadata": {},
     "output_type": "display_data"
    },
    {
     "data": {
      "text/html": [
       "<pre style=\"white-space:pre;overflow-x:auto;line-height:normal;font-family:Menlo,'DejaVu Sans Mono',consolas,'Courier New',monospace\">Trained DQN model with loss: 2210625131017291207716561223680.0000\n",
       "</pre>\n"
      ],
      "text/plain": [
       "Trained DQN model with loss: 2210625131017291207716561223680.0000\n"
      ]
     },
     "metadata": {},
     "output_type": "display_data"
    },
    {
     "data": {
      "text/html": [
       "<pre style=\"white-space:pre;overflow-x:auto;line-height:normal;font-family:Menlo,'DejaVu Sans Mono',consolas,'Courier New',monospace\">Trained DQN model with loss: 1807031441883772782715424735232.0000\n",
       "</pre>\n"
      ],
      "text/plain": [
       "Trained DQN model with loss: 1807031441883772782715424735232.0000\n"
      ]
     },
     "metadata": {},
     "output_type": "display_data"
    },
    {
     "data": {
      "text/html": [
       "<pre style=\"white-space:pre;overflow-x:auto;line-height:normal;font-family:Menlo,'DejaVu Sans Mono',consolas,'Courier New',monospace\">Trained DQN model with loss: 2378925134532032000958694162432.0000\n",
       "</pre>\n"
      ],
      "text/plain": [
       "Trained DQN model with loss: 2378925134532032000958694162432.0000\n"
      ]
     },
     "metadata": {},
     "output_type": "display_data"
    },
    {
     "data": {
      "text/html": [
       "<pre style=\"white-space:pre;overflow-x:auto;line-height:normal;font-family:Menlo,'DejaVu Sans Mono',consolas,'Courier New',monospace\">Trained DQN model with loss: 2309062671458049647410245795840.0000\n",
       "</pre>\n"
      ],
      "text/plain": [
       "Trained DQN model with loss: 2309062671458049647410245795840.0000\n"
      ]
     },
     "metadata": {},
     "output_type": "display_data"
    },
    {
     "data": {
      "text/html": [
       "<pre style=\"white-space:pre;overflow-x:auto;line-height:normal;font-family:Menlo,'DejaVu Sans Mono',consolas,'Courier New',monospace\">Trained DQN model with loss: 2268598262002546038817714864128.0000\n",
       "</pre>\n"
      ],
      "text/plain": [
       "Trained DQN model with loss: 2268598262002546038817714864128.0000\n"
      ]
     },
     "metadata": {},
     "output_type": "display_data"
    },
    {
     "data": {
      "text/html": [
       "<pre style=\"white-space:pre;overflow-x:auto;line-height:normal;font-family:Menlo,'DejaVu Sans Mono',consolas,'Courier New',monospace\">Trained DQN model with loss: 2212031413976957925104038182912.0000\n",
       "</pre>\n"
      ],
      "text/plain": [
       "Trained DQN model with loss: 2212031413976957925104038182912.0000\n"
      ]
     },
     "metadata": {},
     "output_type": "display_data"
    },
    {
     "data": {
      "text/html": [
       "<pre style=\"white-space:pre;overflow-x:auto;line-height:normal;font-family:Menlo,'DejaVu Sans Mono',consolas,'Courier New',monospace\">Trained DQN model with loss: 1814364785905555123289192398848.0000\n",
       "</pre>\n"
      ],
      "text/plain": [
       "Trained DQN model with loss: 1814364785905555123289192398848.0000\n"
      ]
     },
     "metadata": {},
     "output_type": "display_data"
    },
    {
     "data": {
      "text/html": [
       "<pre style=\"white-space:pre;overflow-x:auto;line-height:normal;font-family:Menlo,'DejaVu Sans Mono',consolas,'Courier New',monospace\">Trained DQN model with loss: 2029429364668993713239190667264.0000\n",
       "</pre>\n"
      ],
      "text/plain": [
       "Trained DQN model with loss: 2029429364668993713239190667264.0000\n"
      ]
     },
     "metadata": {},
     "output_type": "display_data"
    },
    {
     "data": {
      "text/html": [
       "<pre style=\"white-space:pre;overflow-x:auto;line-height:normal;font-family:Menlo,'DejaVu Sans Mono',consolas,'Courier New',monospace\">Trained DQN model with loss: 2479275044503693332178117066752.0000\n",
       "</pre>\n"
      ],
      "text/plain": [
       "Trained DQN model with loss: 2479275044503693332178117066752.0000\n"
      ]
     },
     "metadata": {},
     "output_type": "display_data"
    },
    {
     "data": {
      "text/html": [
       "<pre style=\"white-space:pre;overflow-x:auto;line-height:normal;font-family:Menlo,'DejaVu Sans Mono',consolas,'Courier New',monospace\">Trained DQN model with loss: 2074218857359896109532879781888.0000\n",
       "</pre>\n"
      ],
      "text/plain": [
       "Trained DQN model with loss: 2074218857359896109532879781888.0000\n"
      ]
     },
     "metadata": {},
     "output_type": "display_data"
    },
    {
     "data": {
      "text/html": [
       "<pre style=\"white-space:pre;overflow-x:auto;line-height:normal;font-family:Menlo,'DejaVu Sans Mono',consolas,'Courier New',monospace\">Trained DQN model with loss: 2088281384725108379750355697664.0000\n",
       "</pre>\n"
      ],
      "text/plain": [
       "Trained DQN model with loss: 2088281384725108379750355697664.0000\n"
      ]
     },
     "metadata": {},
     "output_type": "display_data"
    },
    {
     "data": {
      "text/html": [
       "<pre style=\"white-space:pre;overflow-x:auto;line-height:normal;font-family:Menlo,'DejaVu Sans Mono',consolas,'Courier New',monospace\">Trained DQN model with loss: 2279925141353697855041477541888.0000\n",
       "</pre>\n"
      ],
      "text/plain": [
       "Trained DQN model with loss: 2279925141353697855041477541888.0000\n"
      ]
     },
     "metadata": {},
     "output_type": "display_data"
    },
    {
     "data": {
      "text/html": [
       "<pre style=\"white-space:pre;overflow-x:auto;line-height:normal;font-family:Menlo,'DejaVu Sans Mono',consolas,'Courier New',monospace\">Trained DQN model with loss: 2493281356818293522138969145344.0000\n",
       "</pre>\n"
      ],
      "text/plain": [
       "Trained DQN model with loss: 2493281356818293522138969145344.0000\n"
      ]
     },
     "metadata": {},
     "output_type": "display_data"
    },
    {
     "data": {
      "text/html": [
       "<pre style=\"white-space:pre;overflow-x:auto;line-height:normal;font-family:Menlo,'DejaVu Sans Mono',consolas,'Courier New',monospace\">Trained DQN model with loss: 1960312657709986134062889172992.0000\n",
       "</pre>\n"
      ],
      "text/plain": [
       "Trained DQN model with loss: 1960312657709986134062889172992.0000\n"
      ]
     },
     "metadata": {},
     "output_type": "display_data"
    },
    {
     "data": {
      "text/html": [
       "<pre style=\"white-space:pre;overflow-x:auto;line-height:normal;font-family:Menlo,'DejaVu Sans Mono',consolas,'Courier New',monospace\">Trained DQN model with loss: 2549531466279142603008872808448.0000\n",
       "</pre>\n"
      ],
      "text/plain": [
       "Trained DQN model with loss: 2549531466279142603008872808448.0000\n"
      ]
     },
     "metadata": {},
     "output_type": "display_data"
    },
    {
     "data": {
      "text/html": [
       "<pre style=\"white-space:pre;overflow-x:auto;line-height:normal;font-family:Menlo,'DejaVu Sans Mono',consolas,'Courier New',monospace\">Trained DQN model with loss: 2212031413976957925104038182912.0000\n",
       "</pre>\n"
      ],
      "text/plain": [
       "Trained DQN model with loss: 2212031413976957925104038182912.0000\n"
      ]
     },
     "metadata": {},
     "output_type": "display_data"
    },
    {
     "data": {
      "text/html": [
       "<pre style=\"white-space:pre;overflow-x:auto;line-height:normal;font-family:Menlo,'DejaVu Sans Mono',consolas,'Courier New',monospace\">Trained DQN model with loss: 1819687686289318335545423691776.0000\n",
       "</pre>\n"
      ],
      "text/plain": [
       "Trained DQN model with loss: 1819687686289318335545423691776.0000\n"
      ]
     },
     "metadata": {},
     "output_type": "display_data"
    },
    {
     "data": {
      "text/html": [
       "<pre style=\"white-space:pre;overflow-x:auto;line-height:normal;font-family:Menlo,'DejaVu Sans Mono',consolas,'Courier New',monospace\">Trained DQN model with loss: 2040770902245708356841696657408.0000\n",
       "</pre>\n"
      ],
      "text/plain": [
       "Trained DQN model with loss: 2040770902245708356841696657408.0000\n"
      ]
     },
     "metadata": {},
     "output_type": "display_data"
    },
    {
     "data": {
      "text/html": [
       "<pre style=\"white-space:pre;overflow-x:auto;line-height:normal;font-family:Menlo,'DejaVu Sans Mono',consolas,'Courier New',monospace\">Trained DQN model with loss: 1515937518324770163968155058176.0000\n",
       "</pre>\n"
      ],
      "text/plain": [
       "Trained DQN model with loss: 1515937518324770163968155058176.0000\n"
      ]
     },
     "metadata": {},
     "output_type": "display_data"
    },
    {
     "data": {
      "text/html": [
       "<pre style=\"white-space:pre;overflow-x:auto;line-height:normal;font-family:Menlo,'DejaVu Sans Mono',consolas,'Courier New',monospace\">Trained DQN model with loss: 2011556454236083583691687723008.0000\n",
       "</pre>\n"
      ],
      "text/plain": [
       "Trained DQN model with loss: 2011556454236083583691687723008.0000\n"
      ]
     },
     "metadata": {},
     "output_type": "display_data"
    },
    {
     "data": {
      "text/html": [
       "<pre style=\"white-space:pre;overflow-x:auto;line-height:normal;font-family:Menlo,'DejaVu Sans Mono',consolas,'Courier New',monospace\">Trained DQN model with loss: 2218612655023212514502491766784.0000\n",
       "</pre>\n"
      ],
      "text/plain": [
       "Trained DQN model with loss: 2218612655023212514502491766784.0000\n"
      ]
     },
     "metadata": {},
     "output_type": "display_data"
    },
    {
     "data": {
      "text/html": [
       "<pre style=\"white-space:pre;overflow-x:auto;line-height:normal;font-family:Menlo,'DejaVu Sans Mono',consolas,'Courier New',monospace\">Trained DQN model with loss: 1900969209308198120792206082048.0000\n",
       "</pre>\n"
      ],
      "text/plain": [
       "Trained DQN model with loss: 1900969209308198120792206082048.0000\n"
      ]
     },
     "metadata": {},
     "output_type": "display_data"
    },
    {
     "data": {
      "text/html": [
       "<pre style=\"white-space:pre;overflow-x:auto;line-height:normal;font-family:Menlo,'DejaVu Sans Mono',consolas,'Courier New',monospace\">Trained DQN model with loss: 1815468988526045635211639652352.0000\n",
       "</pre>\n"
      ],
      "text/plain": [
       "Trained DQN model with loss: 1815468988526045635211639652352.0000\n"
      ]
     },
     "metadata": {},
     "output_type": "display_data"
    },
    {
     "data": {
      "text/html": [
       "<pre style=\"white-space:pre;overflow-x:auto;line-height:normal;font-family:Menlo,'DejaVu Sans Mono',consolas,'Courier New',monospace\">Trained DQN model with loss: 1987558672253823387259182776320.0000\n",
       "</pre>\n"
      ],
      "text/plain": [
       "Trained DQN model with loss: 1987558672253823387259182776320.0000\n"
      ]
     },
     "metadata": {},
     "output_type": "display_data"
    },
    {
     "data": {
      "text/html": [
       "<pre style=\"white-space:pre;overflow-x:auto;line-height:normal;font-family:Menlo,'DejaVu Sans Mono',consolas,'Courier New',monospace\">Trained DQN model with loss: 2144531343070230008791612522496.0000\n",
       "</pre>\n"
      ],
      "text/plain": [
       "Trained DQN model with loss: 2144531343070230008791612522496.0000\n"
      ]
     },
     "metadata": {},
     "output_type": "display_data"
    },
    {
     "data": {
      "text/html": [
       "<pre style=\"white-space:pre;overflow-x:auto;line-height:normal;font-family:Menlo,'DejaVu Sans Mono',consolas,'Courier New',monospace\">Trained DQN model with loss: 2507343884183505792356445061120.0000\n",
       "</pre>\n"
      ],
      "text/plain": [
       "Trained DQN model with loss: 2507343884183505792356445061120.0000\n"
      ]
     },
     "metadata": {},
     "output_type": "display_data"
    },
    {
     "data": {
      "text/html": [
       "<pre style=\"white-space:pre;overflow-x:auto;line-height:normal;font-family:Menlo,'DejaVu Sans Mono',consolas,'Courier New',monospace\">Trained DQN model with loss: 2247187581274261148819081134080.0000\n",
       "</pre>\n"
      ],
      "text/plain": [
       "Trained DQN model with loss: 2247187581274261148819081134080.0000\n"
      ]
     },
     "metadata": {},
     "output_type": "display_data"
    },
    {
     "data": {
      "text/html": [
       "<pre style=\"white-space:pre;overflow-x:auto;line-height:normal;font-family:Menlo,'DejaVu Sans Mono',consolas,'Courier New',monospace\">Trained DQN model with loss: 2524218977468051497348874895360.0000\n",
       "</pre>\n"
      ],
      "text/plain": [
       "Trained DQN model with loss: 2524218977468051497348874895360.0000\n"
      ]
     },
     "metadata": {},
     "output_type": "display_data"
    },
    {
     "data": {
      "text/html": [
       "<pre style=\"white-space:pre;overflow-x:auto;line-height:normal;font-family:Menlo,'DejaVu Sans Mono',consolas,'Courier New',monospace\">Trained DQN model with loss: 2376056504677813937755763245056.0000\n",
       "</pre>\n"
      ],
      "text/plain": [
       "Trained DQN model with loss: 2376056504677813937755763245056.0000\n"
      ]
     },
     "metadata": {},
     "output_type": "display_data"
    },
    {
     "data": {
      "text/html": [
       "<pre style=\"white-space:pre;overflow-x:auto;line-height:normal;font-family:Menlo,'DejaVu Sans Mono',consolas,'Courier New',monospace\">Trained DQN model with loss: 2081250121042502244641617739776.0000\n",
       "</pre>\n"
      ],
      "text/plain": [
       "Trained DQN model with loss: 2081250121042502244641617739776.0000\n"
      ]
     },
     "metadata": {},
     "output_type": "display_data"
    },
    {
     "data": {
      "text/html": [
       "<pre style=\"white-space:pre;overflow-x:auto;line-height:normal;font-family:Menlo,'DejaVu Sans Mono',consolas,'Courier New',monospace\">Trained DQN model with loss: 2057343915191077856369096785920.0000\n",
       "</pre>\n"
      ],
      "text/plain": [
       "Trained DQN model with loss: 2057343915191077856369096785920.0000\n"
      ]
     },
     "metadata": {},
     "output_type": "display_data"
    },
    {
     "data": {
      "text/html": [
       "<pre style=\"white-space:pre;overflow-x:auto;line-height:normal;font-family:Menlo,'DejaVu Sans Mono',consolas,'Courier New',monospace\">Trained DQN model with loss: 2115000307611593654626477408256.0000\n",
       "</pre>\n"
      ],
      "text/plain": [
       "Trained DQN model with loss: 2115000307611593654626477408256.0000\n"
      ]
     },
     "metadata": {},
     "output_type": "display_data"
    },
    {
     "data": {
      "text/html": [
       "<pre style=\"white-space:pre;overflow-x:auto;line-height:normal;font-family:Menlo,'DejaVu Sans Mono',consolas,'Courier New',monospace\">Trained DQN model with loss: 2089519173648666308196607983616.0000\n",
       "</pre>\n"
      ],
      "text/plain": [
       "Trained DQN model with loss: 2089519173648666308196607983616.0000\n"
      ]
     },
     "metadata": {},
     "output_type": "display_data"
    },
    {
     "data": {
      "text/html": [
       "<pre style=\"white-space:pre;overflow-x:auto;line-height:normal;font-family:Menlo,'DejaVu Sans Mono',consolas,'Courier New',monospace\">Trained DQN model with loss: 1772683441496881938603672862720.0000\n",
       "</pre>\n"
      ],
      "text/plain": [
       "Trained DQN model with loss: 1772683441496881938603672862720.0000\n"
      ]
     },
     "metadata": {},
     "output_type": "display_data"
    },
    {
     "data": {
      "text/html": [
       "<pre style=\"white-space:pre;overflow-x:auto;line-height:normal;font-family:Menlo,'DejaVu Sans Mono',consolas,'Courier New',monospace\">Trained DQN model with loss: 1590468852914104215389318676480.0000\n",
       "</pre>\n"
      ],
      "text/plain": [
       "Trained DQN model with loss: 1590468852914104215389318676480.0000\n"
      ]
     },
     "metadata": {},
     "output_type": "display_data"
    },
    {
     "data": {
      "text/html": [
       "<pre style=\"white-space:pre;overflow-x:auto;line-height:normal;font-family:Menlo,'DejaVu Sans Mono',consolas,'Courier New',monospace\">Trained DQN model with loss: 1901250133445531070246678429696.0000\n",
       "</pre>\n"
      ],
      "text/plain": [
       "Trained DQN model with loss: 1901250133445531070246678429696.0000\n"
      ]
     },
     "metadata": {},
     "output_type": "display_data"
    },
    {
     "data": {
      "text/html": [
       "<pre style=\"white-space:pre;overflow-x:auto;line-height:normal;font-family:Menlo,'DejaVu Sans Mono',consolas,'Courier New',monospace\">Trained DQN model with loss: 2766230210519245267945780150272.0000\n",
       "</pre>\n"
      ],
      "text/plain": [
       "Trained DQN model with loss: 2766230210519245267945780150272.0000\n"
      ]
     },
     "metadata": {},
     "output_type": "display_data"
    },
    {
     "data": {
      "text/html": [
       "<pre style=\"white-space:pre;overflow-x:auto;line-height:normal;font-family:Menlo,'DejaVu Sans Mono',consolas,'Courier New',monospace\">Trained DQN model with loss: 2401875080060141217554022531072.0000\n",
       "</pre>\n"
      ],
      "text/plain": [
       "Trained DQN model with loss: 2401875080060141217554022531072.0000\n"
      ]
     },
     "metadata": {},
     "output_type": "display_data"
    },
    {
     "data": {
      "text/html": [
       "<pre style=\"white-space:pre;overflow-x:auto;line-height:normal;font-family:Menlo,'DejaVu Sans Mono',consolas,'Courier New',monospace\">Trained DQN model with loss: 1953320533000790022573682327552.0000\n",
       "</pre>\n"
      ],
      "text/plain": [
       "Trained DQN model with loss: 1953320533000790022573682327552.0000\n"
      ]
     },
     "metadata": {},
     "output_type": "display_data"
    },
    {
     "data": {
      "text/html": [
       "<pre style=\"white-space:pre;overflow-x:auto;line-height:normal;font-family:Menlo,'DejaVu Sans Mono',consolas,'Courier New',monospace\">Trained DQN model with loss: 2176874944448199797731701555200.0000\n",
       "</pre>\n"
      ],
      "text/plain": [
       "Trained DQN model with loss: 2176874944448199797731701555200.0000\n"
      ]
     },
     "metadata": {},
     "output_type": "display_data"
    },
    {
     "data": {
      "text/html": [
       "<pre style=\"white-space:pre;overflow-x:auto;line-height:normal;font-family:Menlo,'DejaVu Sans Mono',consolas,'Courier New',monospace\">Trained DQN model with loss: 2278933519950158955460924801024.0000\n",
       "</pre>\n"
      ],
      "text/plain": [
       "Trained DQN model with loss: 2278933519950158955460924801024.0000\n"
      ]
     },
     "metadata": {},
     "output_type": "display_data"
    },
    {
     "data": {
      "text/html": [
       "<pre style=\"white-space:pre;overflow-x:auto;line-height:normal;font-family:Menlo,'DejaVu Sans Mono',consolas,'Courier New',monospace\">Trained DQN model with loss: 2219062526543836608384129302528.0000\n",
       "</pre>\n"
      ],
      "text/plain": [
       "Trained DQN model with loss: 2219062526543836608384129302528.0000\n"
      ]
     },
     "metadata": {},
     "output_type": "display_data"
    },
    {
     "data": {
      "text/html": [
       "<pre style=\"white-space:pre;overflow-x:auto;line-height:normal;font-family:Menlo,'DejaVu Sans Mono',consolas,'Courier New',monospace\">Trained DQN model with loss: 1840781477337136740871637565440.0000\n",
       "</pre>\n"
      ],
      "text/plain": [
       "Trained DQN model with loss: 1840781477337136740871637565440.0000\n"
      ]
     },
     "metadata": {},
     "output_type": "display_data"
    },
    {
     "data": {
      "text/html": [
       "<pre style=\"white-space:pre;overflow-x:auto;line-height:normal;font-family:Menlo,'DejaVu Sans Mono',consolas,'Courier New',monospace\">Trained DQN model with loss: 1898437567526197635471724511232.0000\n",
       "</pre>\n"
      ],
      "text/plain": [
       "Trained DQN model with loss: 1898437567526197635471724511232.0000\n"
      ]
     },
     "metadata": {},
     "output_type": "display_data"
    },
    {
     "data": {
      "text/html": [
       "<pre style=\"white-space:pre;overflow-x:auto;line-height:normal;font-family:Menlo,'DejaVu Sans Mono',consolas,'Courier New',monospace\">Trained DQN model with loss: 1704414191537424214478840397824.0000\n",
       "</pre>\n"
      ],
      "text/plain": [
       "Trained DQN model with loss: 1704414191537424214478840397824.0000\n"
      ]
     },
     "metadata": {},
     "output_type": "display_data"
    },
    {
     "data": {
      "text/html": [
       "<pre style=\"white-space:pre;overflow-x:auto;line-height:normal;font-family:Menlo,'DejaVu Sans Mono',consolas,'Courier New',monospace\">Trained DQN model with loss: 2155017414513839850424367054848.0000\n",
       "</pre>\n"
      ],
      "text/plain": [
       "Trained DQN model with loss: 2155017414513839850424367054848.0000\n"
      ]
     },
     "metadata": {},
     "output_type": "display_data"
    },
    {
     "data": {
      "text/html": [
       "<pre style=\"white-space:pre;overflow-x:auto;line-height:normal;font-family:Menlo,'DejaVu Sans Mono',consolas,'Courier New',monospace\">Trained DQN model with loss: 2341406272836019436350334828544.0000\n",
       "</pre>\n"
      ],
      "text/plain": [
       "Trained DQN model with loss: 2341406272836019436350334828544.0000\n"
      ]
     },
     "metadata": {},
     "output_type": "display_data"
    },
    {
     "data": {
      "text/html": [
       "<pre style=\"white-space:pre;overflow-x:auto;line-height:normal;font-family:Menlo,'DejaVu Sans Mono',consolas,'Courier New',monospace\">Trained DQN model with loss: 2055339818413611704854727622656.0000\n",
       "</pre>\n"
      ],
      "text/plain": [
       "Trained DQN model with loss: 2055339818413611704854727622656.0000\n"
      ]
     },
     "metadata": {},
     "output_type": "display_data"
    },
    {
     "data": {
      "text/html": [
       "<pre style=\"white-space:pre;overflow-x:auto;line-height:normal;font-family:Menlo,'DejaVu Sans Mono',consolas,'Courier New',monospace\">Trained DQN model with loss: 2335781292113080018629073829888.0000\n",
       "</pre>\n"
      ],
      "text/plain": [
       "Trained DQN model with loss: 2335781292113080018629073829888.0000\n"
      ]
     },
     "metadata": {},
     "output_type": "display_data"
    },
    {
     "data": {
      "text/html": [
       "<pre style=\"white-space:pre;overflow-x:auto;line-height:normal;font-family:Menlo,'DejaVu Sans Mono',consolas,'Courier New',monospace\">Trained DQN model with loss: 1932187754095289045456584179712.0000\n",
       "</pre>\n"
      ],
      "text/plain": [
       "Trained DQN model with loss: 1932187754095289045456584179712.0000\n"
      ]
     },
     "metadata": {},
     "output_type": "display_data"
    },
    {
     "data": {
      "text/html": [
       "<pre style=\"white-space:pre;overflow-x:auto;line-height:normal;font-family:Menlo,'DejaVu Sans Mono',consolas,'Courier New',monospace\">Trained DQN model with loss: 2474402468987736569289463824384.0000\n",
       "</pre>\n"
      ],
      "text/plain": [
       "Trained DQN model with loss: 2474402468987736569289463824384.0000\n"
      ]
     },
     "metadata": {},
     "output_type": "display_data"
    },
    {
     "data": {
      "text/html": [
       "<pre style=\"white-space:pre;overflow-x:auto;line-height:normal;font-family:Menlo,'DejaVu Sans Mono',consolas,'Courier New',monospace\">Trained DQN model with loss: 2444062813271505480035097116672.0000\n",
       "</pre>\n"
      ],
      "text/plain": [
       "Trained DQN model with loss: 2444062813271505480035097116672.0000\n"
      ]
     },
     "metadata": {},
     "output_type": "display_data"
    },
    {
     "data": {
      "text/html": [
       "<pre style=\"white-space:pre;overflow-x:auto;line-height:normal;font-family:Menlo,'DejaVu Sans Mono',consolas,'Courier New',monospace\">Trained DQN model with loss: 2227500224301836912708991057920.0000\n",
       "</pre>\n"
      ],
      "text/plain": [
       "Trained DQN model with loss: 2227500224301836912708991057920.0000\n"
      ]
     },
     "metadata": {},
     "output_type": "display_data"
    },
    {
     "data": {
      "text/html": [
       "<pre style=\"white-space:pre;overflow-x:auto;line-height:normal;font-family:Menlo,'DejaVu Sans Mono',consolas,'Courier New',monospace\">Trained DQN model with loss: 2343958466356953370366786404352.0000\n",
       "</pre>\n"
      ],
      "text/plain": [
       "Trained DQN model with loss: 2343958466356953370366786404352.0000\n"
      ]
     },
     "metadata": {},
     "output_type": "display_data"
    },
    {
     "data": {
      "text/html": [
       "<pre style=\"white-space:pre;overflow-x:auto;line-height:normal;font-family:Menlo,'DejaVu Sans Mono',consolas,'Courier New',monospace\">Trained DQN model with loss: 1638491768825293389239406297088.0000\n",
       "</pre>\n"
      ],
      "text/plain": [
       "Trained DQN model with loss: 1638491768825293389239406297088.0000\n"
      ]
     },
     "metadata": {},
     "output_type": "display_data"
    },
    {
     "data": {
      "text/html": [
       "<pre style=\"white-space:pre;overflow-x:auto;line-height:normal;font-family:Menlo,'DejaVu Sans Mono',consolas,'Courier New',monospace\">Trained DQN model with loss: 2646337712442058552459938234368.0000\n",
       "</pre>\n"
      ],
      "text/plain": [
       "Trained DQN model with loss: 2646337712442058552459938234368.0000\n"
      ]
     },
     "metadata": {},
     "output_type": "display_data"
    },
    {
     "data": {
      "text/html": [
       "<pre style=\"white-space:pre;overflow-x:auto;line-height:normal;font-family:Menlo,'DejaVu Sans Mono',consolas,'Courier New',monospace\">Trained DQN model with loss: 2375156459405110846335194497024.0000\n",
       "</pre>\n"
      ],
      "text/plain": [
       "Trained DQN model with loss: 2375156459405110846335194497024.0000\n"
      ]
     },
     "metadata": {},
     "output_type": "display_data"
    },
    {
     "data": {
      "text/html": [
       "<pre style=\"white-space:pre;overflow-x:auto;line-height:normal;font-family:Menlo,'DejaVu Sans Mono',consolas,'Courier New',monospace\">Trained DQN model with loss: 1799402213267639761651147735040.0000\n",
       "</pre>\n"
      ],
      "text/plain": [
       "Trained DQN model with loss: 1799402213267639761651147735040.0000\n"
      ]
     },
     "metadata": {},
     "output_type": "display_data"
    },
    {
     "data": {
      "text/html": [
       "<pre style=\"white-space:pre;overflow-x:auto;line-height:normal;font-family:Menlo,'DejaVu Sans Mono',consolas,'Courier New',monospace\">Trained DQN model with loss: 2508750167143172509743922020352.0000\n",
       "</pre>\n"
      ],
      "text/plain": [
       "Trained DQN model with loss: 2508750167143172509743922020352.0000\n"
      ]
     },
     "metadata": {},
     "output_type": "display_data"
    },
    {
     "data": {
      "text/html": [
       "<pre style=\"white-space:pre;overflow-x:auto;line-height:normal;font-family:Menlo,'DejaVu Sans Mono',consolas,'Courier New',monospace\">Trained DQN model with loss: 1693125091118135355416787288064.0000\n",
       "</pre>\n"
      ],
      "text/plain": [
       "Trained DQN model with loss: 1693125091118135355416787288064.0000\n"
      ]
     },
     "metadata": {},
     "output_type": "display_data"
    },
    {
     "data": {
      "text/html": [
       "<pre style=\"white-space:pre;overflow-x:auto;line-height:normal;font-family:Menlo,'DejaVu Sans Mono',consolas,'Courier New',monospace\">Trained DQN model with loss: 2872968688984660107038937841664.0000\n",
       "</pre>\n"
      ],
      "text/plain": [
       "Trained DQN model with loss: 2872968688984660107038937841664.0000\n"
      ]
     },
     "metadata": {},
     "output_type": "display_data"
    },
    {
     "data": {
      "text/html": [
       "<pre style=\"white-space:pre;overflow-x:auto;line-height:normal;font-family:Menlo,'DejaVu Sans Mono',consolas,'Courier New',monospace\">Trained DQN model with loss: 1910587574244779562334815256576.0000\n",
       "</pre>\n"
      ],
      "text/plain": [
       "Trained DQN model with loss: 1910587574244779562334815256576.0000\n"
      ]
     },
     "metadata": {},
     "output_type": "display_data"
    },
    {
     "data": {
      "text/html": [
       "<pre style=\"white-space:pre;overflow-x:auto;line-height:normal;font-family:Menlo,'DejaVu Sans Mono',consolas,'Courier New',monospace\">Trained DQN model with loss: 2207868780148569853198231142400.0000\n",
       "</pre>\n"
      ],
      "text/plain": [
       "Trained DQN model with loss: 2207868780148569853198231142400.0000\n"
      ]
     },
     "metadata": {},
     "output_type": "display_data"
    },
    {
     "data": {
      "text/html": [
       "<pre style=\"white-space:pre;overflow-x:auto;line-height:normal;font-family:Menlo,'DejaVu Sans Mono',consolas,'Courier New',monospace\">Trained DQN model with loss: 1882370943383519213739879432192.0000\n",
       "</pre>\n"
      ],
      "text/plain": [
       "Trained DQN model with loss: 1882370943383519213739879432192.0000\n"
      ]
     },
     "metadata": {},
     "output_type": "display_data"
    },
    {
     "data": {
      "text/html": [
       "<pre style=\"white-space:pre;overflow-x:auto;line-height:normal;font-family:Menlo,'DejaVu Sans Mono',consolas,'Courier New',monospace\">Trained DQN model with loss: 2043281387825865586151620870144.0000\n",
       "</pre>\n"
      ],
      "text/plain": [
       "Trained DQN model with loss: 2043281387825865586151620870144.0000\n"
      ]
     },
     "metadata": {},
     "output_type": "display_data"
    },
    {
     "data": {
      "text/html": [
       "<pre style=\"white-space:pre;overflow-x:auto;line-height:normal;font-family:Menlo,'DejaVu Sans Mono',consolas,'Courier New',monospace\">Trained DQN model with loss: 2268281372322079554145295007744.0000\n",
       "</pre>\n"
      ],
      "text/plain": [
       "Trained DQN model with loss: 2268281372322079554145295007744.0000\n"
      ]
     },
     "metadata": {},
     "output_type": "display_data"
    },
    {
     "data": {
      "text/html": [
       "<pre style=\"white-space:pre;overflow-x:auto;line-height:normal;font-family:Menlo,'DejaVu Sans Mono',consolas,'Courier New',monospace\">Trained DQN model with loss: 2240156317591655013710343176192.0000\n",
       "</pre>\n"
      ],
      "text/plain": [
       "Trained DQN model with loss: 2240156317591655013710343176192.0000\n"
      ]
     },
     "metadata": {},
     "output_type": "display_data"
    },
    {
     "data": {
      "text/html": [
       "<pre style=\"white-space:pre;overflow-x:auto;line-height:normal;font-family:Menlo,'DejaVu Sans Mono',consolas,'Courier New',monospace\">Trained DQN model with loss: 2152370924778975975332288397312.0000\n",
       "</pre>\n"
      ],
      "text/plain": [
       "Trained DQN model with loss: 2152370924778975975332288397312.0000\n"
      ]
     },
     "metadata": {},
     "output_type": "display_data"
    },
    {
     "data": {
      "text/html": [
       "<pre style=\"white-space:pre;overflow-x:auto;line-height:normal;font-family:Menlo,'DejaVu Sans Mono',consolas,'Courier New',monospace\">Trained DQN model with loss: 2124245870048551434897336565760.0000\n",
       "</pre>\n"
      ],
      "text/plain": [
       "Trained DQN model with loss: 2124245870048551434897336565760.0000\n"
      ]
     },
     "metadata": {},
     "output_type": "display_data"
    },
    {
     "data": {
      "text/html": [
       "<pre style=\"white-space:pre;overflow-x:auto;line-height:normal;font-family:Menlo,'DejaVu Sans Mono',consolas,'Courier New',monospace\">Trained DQN model with loss: 2112504480256999252695296507904.0000\n",
       "</pre>\n"
      ],
      "text/plain": [
       "Trained DQN model with loss: 2112504480256999252695296507904.0000\n"
      ]
     },
     "metadata": {},
     "output_type": "display_data"
    },
    {
     "data": {
      "text/html": [
       "<pre style=\"white-space:pre;overflow-x:auto;line-height:normal;font-family:Menlo,'DejaVu Sans Mono',consolas,'Courier New',monospace\">Trained DQN model with loss: 2298712604169146451559645708288.0000\n",
       "</pre>\n"
      ],
      "text/plain": [
       "Trained DQN model with loss: 2298712604169146451559645708288.0000\n"
      ]
     },
     "metadata": {},
     "output_type": "display_data"
    },
    {
     "data": {
      "text/html": [
       "<pre style=\"white-space:pre;overflow-x:auto;line-height:normal;font-family:Menlo,'DejaVu Sans Mono',consolas,'Courier New',monospace\">Trained DQN model with loss: 1949062545148379846791720337408.0000\n",
       "</pre>\n"
      ],
      "text/plain": [
       "Trained DQN model with loss: 1949062545148379846791720337408.0000\n"
      ]
     },
     "metadata": {},
     "output_type": "display_data"
    },
    {
     "data": {
      "text/html": [
       "<pre style=\"white-space:pre;overflow-x:auto;line-height:normal;font-family:Menlo,'DejaVu Sans Mono',consolas,'Courier New',monospace\">Trained DQN model with loss: 2406093928939141369716453408768.0000\n",
       "</pre>\n"
      ],
      "text/plain": [
       "Trained DQN model with loss: 2406093928939141369716453408768.0000\n"
      ]
     },
     "metadata": {},
     "output_type": "display_data"
    },
    {
     "data": {
      "text/html": [
       "<pre style=\"white-space:pre;overflow-x:auto;line-height:normal;font-family:Menlo,'DejaVu Sans Mono',consolas,'Courier New',monospace\">Trained DQN model with loss: 2050312651508471721260358828032.0000\n",
       "</pre>\n"
      ],
      "text/plain": [
       "Trained DQN model with loss: 2050312651508471721260358828032.0000\n"
      ]
     },
     "metadata": {},
     "output_type": "display_data"
    },
    {
     "data": {
      "text/html": [
       "<pre style=\"white-space:pre;overflow-x:auto;line-height:normal;font-family:Menlo,'DejaVu Sans Mono',consolas,'Courier New',monospace\">Trained DQN model with loss: 1909687680087803922742893346816.0000\n",
       "</pre>\n"
      ],
      "text/plain": [
       "Trained DQN model with loss: 1909687680087803922742893346816.0000\n"
      ]
     },
     "metadata": {},
     "output_type": "display_data"
    },
    {
     "data": {
      "text/html": [
       "<pre style=\"white-space:pre;overflow-x:auto;line-height:normal;font-family:Menlo,'DejaVu Sans Mono',consolas,'Courier New',monospace\">Trained DQN model with loss: 1573593759629558510396888842240.0000\n",
       "</pre>\n"
      ],
      "text/plain": [
       "Trained DQN model with loss: 1573593759629558510396888842240.0000\n"
      ]
     },
     "metadata": {},
     "output_type": "display_data"
    },
    {
     "data": {
      "text/html": [
       "<pre style=\"white-space:pre;overflow-x:auto;line-height:normal;font-family:Menlo,'DejaVu Sans Mono',consolas,'Courier New',monospace\">Trained DQN model with loss: 1659419634804369686711391748096.0000\n",
       "</pre>\n"
      ],
      "text/plain": [
       "Trained DQN model with loss: 1659419634804369686711391748096.0000\n"
      ]
     },
     "metadata": {},
     "output_type": "display_data"
    },
    {
     "data": {
      "text/html": [
       "<pre style=\"white-space:pre;overflow-x:auto;line-height:normal;font-family:Menlo,'DejaVu Sans Mono',consolas,'Courier New',monospace\">Trained DQN model with loss: 1825954908853928025015747346432.0000\n",
       "</pre>\n"
      ],
      "text/plain": [
       "Trained DQN model with loss: 1825954908853928025015747346432.0000\n"
      ]
     },
     "metadata": {},
     "output_type": "display_data"
    },
    {
     "data": {
      "text/html": [
       "<pre style=\"white-space:pre;overflow-x:auto;line-height:normal;font-family:Menlo,'DejaVu Sans Mono',consolas,'Courier New',monospace\">Trained DQN model with loss: 2122031420178472337906568527872.0000\n",
       "</pre>\n"
      ],
      "text/plain": [
       "Trained DQN model with loss: 2122031420178472337906568527872.0000\n"
      ]
     },
     "metadata": {},
     "output_type": "display_data"
    },
    {
     "data": {
      "text/html": [
       "<pre style=\"white-space:pre;overflow-x:auto;line-height:normal;font-family:Menlo,'DejaVu Sans Mono',consolas,'Courier New',monospace\">Trained DQN model with loss: 2041875104866198868764143910912.0000\n",
       "</pre>\n"
      ],
      "text/plain": [
       "Trained DQN model with loss: 2041875104866198868764143910912.0000\n"
      ]
     },
     "metadata": {},
     "output_type": "display_data"
    },
    {
     "data": {
      "text/html": [
       "<pre style=\"white-space:pre;overflow-x:auto;line-height:normal;font-family:Menlo,'DejaVu Sans Mono',consolas,'Courier New',monospace\">Trained DQN model with loss: 2176875095563927249560348393472.0000\n",
       "</pre>\n"
      ],
      "text/plain": [
       "Trained DQN model with loss: 2176875095563927249560348393472.0000\n"
      ]
     },
     "metadata": {},
     "output_type": "display_data"
    },
    {
     "data": {
      "text/html": [
       "<pre style=\"white-space:pre;overflow-x:auto;line-height:normal;font-family:Menlo,'DejaVu Sans Mono',consolas,'Courier New',monospace\">Trained DQN model with loss: 2028621046642853881807252750336.0000\n",
       "</pre>\n"
      ],
      "text/plain": [
       "Trained DQN model with loss: 2028621046642853881807252750336.0000\n"
      ]
     },
     "metadata": {},
     "output_type": "display_data"
    },
    {
     "data": {
      "text/html": [
       "<pre style=\"white-space:pre;overflow-x:auto;line-height:normal;font-family:Menlo,'DejaVu Sans Mono',consolas,'Courier New',monospace\">Trained DQN model with loss: 2103750043934259915526661734400.0000\n",
       "</pre>\n"
      ],
      "text/plain": [
       "Trained DQN model with loss: 2103750043934259915526661734400.0000\n"
      ]
     },
     "metadata": {},
     "output_type": "display_data"
    },
    {
     "data": {
      "text/html": [
       "<pre style=\"white-space:pre;overflow-x:auto;line-height:normal;font-family:Menlo,'DejaVu Sans Mono',consolas,'Courier New',monospace\">Trained DQN model with loss: 2033326488164248922212502863872.0000\n",
       "</pre>\n"
      ],
      "text/plain": [
       "Trained DQN model with loss: 2033326488164248922212502863872.0000\n"
      ]
     },
     "metadata": {},
     "output_type": "display_data"
    },
    {
     "data": {
      "text/html": [
       "<pre style=\"white-space:pre;overflow-x:auto;line-height:normal;font-family:Menlo,'DejaVu Sans Mono',consolas,'Courier New',monospace\">Trained DQN model with loss: 1650150196082474517514332143616.0000\n",
       "</pre>\n"
      ],
      "text/plain": [
       "Trained DQN model with loss: 1650150196082474517514332143616.0000\n"
      ]
     },
     "metadata": {},
     "output_type": "display_data"
    },
    {
     "data": {
      "text/html": [
       "<pre style=\"white-space:pre;overflow-x:auto;line-height:normal;font-family:Menlo,'DejaVu Sans Mono',consolas,'Courier New',monospace\">Trained DQN model with loss: 1897818899738009848991568625664.0000\n",
       "</pre>\n"
      ],
      "text/plain": [
       "Trained DQN model with loss: 1897818899738009848991568625664.0000\n"
      ]
     },
     "metadata": {},
     "output_type": "display_data"
    },
    {
     "data": {
      "text/html": [
       "<pre style=\"white-space:pre;overflow-x:auto;line-height:normal;font-family:Menlo,'DejaVu Sans Mono',consolas,'Courier New',monospace\">Trained DQN model with loss: 1825357095036128590888855142400.0000\n",
       "</pre>\n"
      ],
      "text/plain": [
       "Trained DQN model with loss: 1825357095036128590888855142400.0000\n"
      ]
     },
     "metadata": {},
     "output_type": "display_data"
    },
    {
     "data": {
      "text/html": [
       "<pre style=\"white-space:pre;overflow-x:auto;line-height:normal;font-family:Menlo,'DejaVu Sans Mono',consolas,'Courier New',monospace\">Trained DQN model with loss: 2180475276654739615242623385600.0000\n",
       "</pre>\n"
      ],
      "text/plain": [
       "Trained DQN model with loss: 2180475276654739615242623385600.0000\n"
      ]
     },
     "metadata": {},
     "output_type": "display_data"
    },
    {
     "data": {
      "text/html": [
       "<pre style=\"white-space:pre;overflow-x:auto;line-height:normal;font-family:Menlo,'DejaVu Sans Mono',consolas,'Courier New',monospace\">Trained DQN model with loss: 2019375181974441197879099916288.0000\n",
       "</pre>\n"
      ],
      "text/plain": [
       "Trained DQN model with loss: 2019375181974441197879099916288.0000\n"
      ]
     },
     "metadata": {},
     "output_type": "display_data"
    },
    {
     "data": {
      "text/html": [
       "<pre style=\"white-space:pre;overflow-x:auto;line-height:normal;font-family:Menlo,'DejaVu Sans Mono',consolas,'Courier New',monospace\">Trained DQN model with loss: 1963912687685071047916517326848.0000\n",
       "</pre>\n"
      ],
      "text/plain": [
       "Trained DQN model with loss: 1963912687685071047916517326848.0000\n"
      ]
     },
     "metadata": {},
     "output_type": "display_data"
    },
    {
     "data": {
      "text/html": [
       "<pre style=\"white-space:pre;overflow-x:auto;line-height:normal;font-family:Menlo,'DejaVu Sans Mono',consolas,'Courier New',monospace\">Trained DQN model with loss: 1539246061474122569942430646272.0000\n",
       "</pre>\n"
      ],
      "text/plain": [
       "Trained DQN model with loss: 1539246061474122569942430646272.0000\n"
      ]
     },
     "metadata": {},
     "output_type": "display_data"
    },
    {
     "data": {
      "text/html": [
       "<pre style=\"white-space:pre;overflow-x:auto;line-height:normal;font-family:Menlo,'DejaVu Sans Mono',consolas,'Courier New',monospace\">Trained DQN model with loss: 1932996072121428876888522096640.0000\n",
       "</pre>\n"
      ],
      "text/plain": [
       "Trained DQN model with loss: 1932996072121428876888522096640.0000\n"
      ]
     },
     "metadata": {},
     "output_type": "display_data"
    },
    {
     "data": {
      "text/html": [
       "<pre style=\"white-space:pre;overflow-x:auto;line-height:normal;font-family:Menlo,'DejaVu Sans Mono',consolas,'Courier New',monospace\">Trained DQN model with loss: 1698750071841074773138048286720.0000\n",
       "</pre>\n"
      ],
      "text/plain": [
       "Trained DQN model with loss: 1698750071841074773138048286720.0000\n"
      ]
     },
     "metadata": {},
     "output_type": "display_data"
    },
    {
     "data": {
      "text/html": [
       "<pre style=\"white-space:pre;overflow-x:auto;line-height:normal;font-family:Menlo,'DejaVu Sans Mono',consolas,'Courier New',monospace\">Trained DQN model with loss: 2556900171381148671486000627712.0000\n",
       "</pre>\n"
      ],
      "text/plain": [
       "Trained DQN model with loss: 2556900171381148671486000627712.0000\n"
      ]
     },
     "metadata": {},
     "output_type": "display_data"
    },
    {
     "data": {
      "text/html": [
       "<pre style=\"white-space:pre;overflow-x:auto;line-height:normal;font-family:Menlo,'DejaVu Sans Mono',consolas,'Courier New',monospace\">Trained DQN model with loss: 2224687658382503477934037139456.0000\n",
       "</pre>\n"
      ],
      "text/plain": [
       "Trained DQN model with loss: 2224687658382503477934037139456.0000\n"
      ]
     },
     "metadata": {},
     "output_type": "display_data"
    },
    {
     "data": {
      "text/html": [
       "<pre style=\"white-space:pre;overflow-x:auto;line-height:normal;font-family:Menlo,'DejaVu Sans Mono',consolas,'Courier New',monospace\">Trained DQN model with loss: 2690156437699810401526338289664.0000\n",
       "</pre>\n"
      ],
      "text/plain": [
       "Trained DQN model with loss: 2690156437699810401526338289664.0000\n"
      ]
     },
     "metadata": {},
     "output_type": "display_data"
    },
    {
     "data": {
      "text/html": [
       "<pre style=\"white-space:pre;overflow-x:auto;line-height:normal;font-family:Menlo,'DejaVu Sans Mono',consolas,'Courier New',monospace\">Trained DQN model with loss: 1608750229158316637769225469952.0000\n",
       "</pre>\n"
      ],
      "text/plain": [
       "Trained DQN model with loss: 1608750229158316637769225469952.0000\n"
      ]
     },
     "metadata": {},
     "output_type": "display_data"
    },
    {
     "data": {
      "text/html": [
       "<pre style=\"white-space:pre;overflow-x:auto;line-height:normal;font-family:Menlo,'DejaVu Sans Mono',consolas,'Courier New',monospace\">Trained DQN model with loss: 2034843690067865281826759114752.0000\n",
       "</pre>\n"
      ],
      "text/plain": [
       "Trained DQN model with loss: 2034843690067865281826759114752.0000\n"
      ]
     },
     "metadata": {},
     "output_type": "display_data"
    },
    {
     "data": {
      "text/html": [
       "<pre style=\"white-space:pre;overflow-x:auto;line-height:normal;font-family:Menlo,'DejaVu Sans Mono',consolas,'Courier New',monospace\">Trained DQN model with loss: 2003906371649562210274147041280.0000\n",
       "</pre>\n"
      ],
      "text/plain": [
       "Trained DQN model with loss: 2003906371649562210274147041280.0000\n"
      ]
     },
     "metadata": {},
     "output_type": "display_data"
    },
    {
     "data": {
      "text/html": [
       "<pre style=\"white-space:pre;overflow-x:auto;line-height:normal;font-family:Menlo,'DejaVu Sans Mono',consolas,'Courier New',monospace\">Trained DQN model with loss: 2275312636004685689254032965632.0000\n",
       "</pre>\n"
      ],
      "text/plain": [
       "Trained DQN model with loss: 2275312636004685689254032965632.0000\n"
      ]
     },
     "metadata": {},
     "output_type": "display_data"
    },
    {
     "data": {
      "text/html": [
       "<pre style=\"white-space:pre;overflow-x:auto;line-height:normal;font-family:Menlo,'DejaVu Sans Mono',consolas,'Courier New',monospace\">Trained DQN model with loss: 2350652288620159572107134500864.0000\n",
       "</pre>\n"
      ],
      "text/plain": [
       "Trained DQN model with loss: 2350652288620159572107134500864.0000\n"
      ]
     },
     "metadata": {},
     "output_type": "display_data"
    },
    {
     "data": {
      "text/html": [
       "<pre style=\"white-space:pre;overflow-x:auto;line-height:normal;font-family:Menlo,'DejaVu Sans Mono',consolas,'Courier New',monospace\">Trained DQN model with loss: 2297812710012170811967723798528.0000\n",
       "</pre>\n"
      ],
      "text/plain": [
       "Trained DQN model with loss: 2297812710012170811967723798528.0000\n"
      ]
     },
     "metadata": {},
     "output_type": "display_data"
    },
    {
     "data": {
      "text/html": [
       "<pre style=\"white-space:pre;overflow-x:auto;line-height:normal;font-family:Menlo,'DejaVu Sans Mono',consolas,'Courier New',monospace\">Trained DQN model with loss: 2125033485220030365804657639424.0000\n",
       "</pre>\n"
      ],
      "text/plain": [
       "Trained DQN model with loss: 2125033485220030365804657639424.0000\n"
      ]
     },
     "metadata": {},
     "output_type": "display_data"
    },
    {
     "data": {
      "text/html": [
       "<pre style=\"white-space:pre;overflow-x:auto;line-height:normal;font-family:Menlo,'DejaVu Sans Mono',consolas,'Courier New',monospace\">Trained DQN model with loss: 1823906384052591035879207731200.0000\n",
       "</pre>\n"
      ],
      "text/plain": [
       "Trained DQN model with loss: 1823906384052591035879207731200.0000\n"
      ]
     },
     "metadata": {},
     "output_type": "display_data"
    },
    {
     "data": {
      "text/html": [
       "<pre style=\"white-space:pre;overflow-x:auto;line-height:normal;font-family:Menlo,'DejaVu Sans Mono',consolas,'Courier New',monospace\">Trained DQN model with loss: 1894218869762924935137940471808.0000\n",
       "</pre>\n"
      ],
      "text/plain": [
       "Trained DQN model with loss: 1894218869762924935137940471808.0000\n"
      ]
     },
     "metadata": {},
     "output_type": "display_data"
    },
    {
     "data": {
      "text/html": [
       "<pre style=\"white-space:pre;overflow-x:auto;line-height:normal;font-family:Menlo,'DejaVu Sans Mono',consolas,'Courier New',monospace\">Trained DQN model with loss: 2199993837359600158754195111936.0000\n",
       "</pre>\n"
      ],
      "text/plain": [
       "Trained DQN model with loss: 2199993837359600158754195111936.0000\n"
      ]
     },
     "metadata": {},
     "output_type": "display_data"
    },
    {
     "data": {
      "text/html": [
       "<pre style=\"white-space:pre;overflow-x:auto;line-height:normal;font-family:Menlo,'DejaVu Sans Mono',consolas,'Courier New',monospace\">Trained DQN model with loss: 1854245888653094673304927600640.0000\n",
       "</pre>\n"
      ],
      "text/plain": [
       "Trained DQN model with loss: 1854245888653094673304927600640.0000\n"
      ]
     },
     "metadata": {},
     "output_type": "display_data"
    },
    {
     "data": {
      "text/html": [
       "<pre style=\"white-space:pre;overflow-x:auto;line-height:normal;font-family:Menlo,'DejaVu Sans Mono',consolas,'Courier New',monospace\">Trained DQN model with loss: 1500468859115618628191849021440.0000\n",
       "</pre>\n"
      ],
      "text/plain": [
       "Trained DQN model with loss: 1500468859115618628191849021440.0000\n"
      ]
     },
     "metadata": {},
     "output_type": "display_data"
    },
    {
     "data": {
      "text/html": [
       "<pre style=\"white-space:pre;overflow-x:auto;line-height:normal;font-family:Menlo,'DejaVu Sans Mono',consolas,'Courier New',monospace\">Trained DQN model with loss: 2268320209064034674107532443648.0000\n",
       "</pre>\n"
      ],
      "text/plain": [
       "Trained DQN model with loss: 2268320209064034674107532443648.0000\n"
      ]
     },
     "metadata": {},
     "output_type": "display_data"
    },
    {
     "data": {
      "text/html": [
       "<pre style=\"white-space:pre;overflow-x:auto;line-height:normal;font-family:Menlo,'DejaVu Sans Mono',consolas,'Courier New',monospace\">Trained DQN model with loss: 1957500242906380151116582092800.0000\n",
       "</pre>\n"
      ],
      "text/plain": [
       "Trained DQN model with loss: 1957500242906380151116582092800.0000\n"
      ]
     },
     "metadata": {},
     "output_type": "display_data"
    },
    {
     "data": {
      "text/html": [
       "<pre style=\"white-space:pre;overflow-x:auto;line-height:normal;font-family:Menlo,'DejaVu Sans Mono',consolas,'Courier New',monospace\">Trained DQN model with loss: 1857431408187779221180278374400.0000\n",
       "</pre>\n"
      ],
      "text/plain": [
       "Trained DQN model with loss: 1857431408187779221180278374400.0000\n"
      ]
     },
     "metadata": {},
     "output_type": "display_data"
    },
    {
     "data": {
      "text/html": [
       "<pre style=\"white-space:pre;overflow-x:auto;line-height:normal;font-family:Menlo,'DejaVu Sans Mono',consolas,'Courier New',monospace\">Trained DQN model with loss: 1969392446193929258308166746112.0000\n",
       "</pre>\n"
      ],
      "text/plain": [
       "Trained DQN model with loss: 1969392446193929258308166746112.0000\n"
      ]
     },
     "metadata": {},
     "output_type": "display_data"
    },
    {
     "data": {
      "text/html": [
       "<pre style=\"white-space:pre;overflow-x:auto;line-height:normal;font-family:Menlo,'DejaVu Sans Mono',consolas,'Courier New',monospace\">Trained DQN model with loss: 1988482140464281512120011456512.0000\n",
       "</pre>\n"
      ],
      "text/plain": [
       "Trained DQN model with loss: 1988482140464281512120011456512.0000\n"
      ]
     },
     "metadata": {},
     "output_type": "display_data"
    },
    {
     "data": {
      "text/html": [
       "<pre style=\"white-space:pre;overflow-x:auto;line-height:normal;font-family:Menlo,'DejaVu Sans Mono',consolas,'Courier New',monospace\">Trained DQN model with loss: 2155781455631836296062781358080.0000\n",
       "</pre>\n"
      ],
      "text/plain": [
       "Trained DQN model with loss: 2155781455631836296062781358080.0000\n"
      ]
     },
     "metadata": {},
     "output_type": "display_data"
    },
    {
     "data": {
      "text/html": [
       "<pre style=\"white-space:pre;overflow-x:auto;line-height:normal;font-family:Menlo,'DejaVu Sans Mono',consolas,'Courier New',monospace\">Trained DQN model with loss: 1742343936896378301177952993280.0000\n",
       "</pre>\n"
      ],
      "text/plain": [
       "Trained DQN model with loss: 1742343936896378301177952993280.0000\n"
      ]
     },
     "metadata": {},
     "output_type": "display_data"
    },
    {
     "data": {
      "text/html": [
       "<pre style=\"white-space:pre;overflow-x:auto;line-height:normal;font-family:Menlo,'DejaVu Sans Mono',consolas,'Courier New',monospace\">Trained DQN model with loss: 1582087672438170894978374434816.0000\n",
       "</pre>\n"
      ],
      "text/plain": [
       "Trained DQN model with loss: 1582087672438170894978374434816.0000\n"
      ]
     },
     "metadata": {},
     "output_type": "display_data"
    },
    {
     "data": {
      "text/html": [
       "<pre style=\"white-space:pre;overflow-x:auto;line-height:normal;font-family:Menlo,'DejaVu Sans Mono',consolas,'Courier New',monospace\">Trained DQN model with loss: 2402192120856335154055089225728.0000\n",
       "</pre>\n"
      ],
      "text/plain": [
       "Trained DQN model with loss: 2402192120856335154055089225728.0000\n"
      ]
     },
     "metadata": {},
     "output_type": "display_data"
    },
    {
     "data": {
      "text/html": [
       "<pre style=\"white-space:pre;overflow-x:auto;line-height:normal;font-family:Menlo,'DejaVu Sans Mono',consolas,'Courier New',monospace\">Trained DQN model with loss: 1906875265284197939796586266624.0000\n",
       "</pre>\n"
      ],
      "text/plain": [
       "Trained DQN model with loss: 1906875265284197939796586266624.0000\n"
      ]
     },
     "metadata": {},
     "output_type": "display_data"
    },
    {
     "data": {
      "text/html": [
       "<pre style=\"white-space:pre;overflow-x:auto;line-height:normal;font-family:Menlo,'DejaVu Sans Mono',consolas,'Courier New',monospace\">Trained DQN model with loss: 1838611153259473577845746302976.0000\n",
       "</pre>\n"
      ],
      "text/plain": [
       "Trained DQN model with loss: 1838611153259473577845746302976.0000\n"
      ]
     },
     "metadata": {},
     "output_type": "display_data"
    },
    {
     "data": {
      "text/html": [
       "<pre style=\"white-space:pre;overflow-x:auto;line-height:normal;font-family:Menlo,'DejaVu Sans Mono',consolas,'Courier New',monospace\">Trained DQN model with loss: 1784848257556754144674153758720.0000\n",
       "</pre>\n"
      ],
      "text/plain": [
       "Trained DQN model with loss: 1784848257556754144674153758720.0000\n"
      ]
     },
     "metadata": {},
     "output_type": "display_data"
    },
    {
     "data": {
      "text/html": [
       "<pre style=\"white-space:pre;overflow-x:auto;line-height:normal;font-family:Menlo,'DejaVu Sans Mono',consolas,'Courier New',monospace\">Trained DQN model with loss: 2022996065919914464085991751680.0000\n",
       "</pre>\n"
      ],
      "text/plain": [
       "Trained DQN model with loss: 2022996065919914464085991751680.0000\n"
      ]
     },
     "metadata": {},
     "output_type": "display_data"
    },
    {
     "data": {
      "text/html": [
       "<pre style=\"white-space:pre;overflow-x:auto;line-height:normal;font-family:Menlo,'DejaVu Sans Mono',consolas,'Courier New',monospace\">Trained DQN model with loss: 2042683574008066152024728666112.0000\n",
       "</pre>\n"
      ],
      "text/plain": [
       "Trained DQN model with loss: 2042683574008066152024728666112.0000\n"
      ]
     },
     "metadata": {},
     "output_type": "display_data"
    },
    {
     "data": {
      "text/html": [
       "<pre style=\"white-space:pre;overflow-x:auto;line-height:normal;font-family:Menlo,'DejaVu Sans Mono',consolas,'Courier New',monospace\">Trained DQN model with loss: 2030625143420320033321621913600.0000\n",
       "</pre>\n"
      ],
      "text/plain": [
       "Trained DQN model with loss: 2030625143420320033321621913600.0000\n"
      ]
     },
     "metadata": {},
     "output_type": "display_data"
    },
    {
     "data": {
      "text/html": [
       "<pre style=\"white-space:pre;overflow-x:auto;line-height:normal;font-family:Menlo,'DejaVu Sans Mono',consolas,'Courier New',monospace\">Trained DQN model with loss: 2030625143420320033321621913600.0000\n",
       "</pre>\n"
      ],
      "text/plain": [
       "Trained DQN model with loss: 2030625143420320033321621913600.0000\n"
      ]
     },
     "metadata": {},
     "output_type": "display_data"
    },
    {
     "data": {
      "text/html": [
       "<pre style=\"white-space:pre;overflow-x:auto;line-height:normal;font-family:Menlo,'DejaVu Sans Mono',consolas,'Courier New',monospace\">Trained DQN model with loss: 1973611295072929410470597623808.0000\n",
       "</pre>\n"
      ],
      "text/plain": [
       "Trained DQN model with loss: 1973611295072929410470597623808.0000\n"
      ]
     },
     "metadata": {},
     "output_type": "display_data"
    },
    {
     "data": {
      "text/html": [
       "<pre style=\"white-space:pre;overflow-x:auto;line-height:normal;font-family:Menlo,'DejaVu Sans Mono',consolas,'Courier New',monospace\">Trained DQN model with loss: 2317544646124193337528631164928.0000\n",
       "</pre>\n"
      ],
      "text/plain": [
       "Trained DQN model with loss: 2317544646124193337528631164928.0000\n"
      ]
     },
     "metadata": {},
     "output_type": "display_data"
    },
    {
     "data": {
      "text/html": [
       "<pre style=\"white-space:pre;overflow-x:auto;line-height:normal;font-family:Menlo,'DejaVu Sans Mono',consolas,'Courier New',monospace\">Trained DQN model with loss: 1601929318568323448136886386688.0000\n",
       "</pre>\n"
      ],
      "text/plain": [
       "Trained DQN model with loss: 1601929318568323448136886386688.0000\n"
      ]
     },
     "metadata": {},
     "output_type": "display_data"
    },
    {
     "data": {
      "text/html": [
       "<pre style=\"white-space:pre;overflow-x:auto;line-height:normal;font-family:Menlo,'DejaVu Sans Mono',consolas,'Courier New',monospace\">Trained DQN model with loss: 1923750056337288741131722424320.0000\n",
       "</pre>\n"
      ],
      "text/plain": [
       "Trained DQN model with loss: 1923750056337288741131722424320.0000\n"
      ]
     },
     "metadata": {},
     "output_type": "display_data"
    },
    {
     "data": {
      "text/html": [
       "<pre style=\"white-space:pre;overflow-x:auto;line-height:normal;font-family:Menlo,'DejaVu Sans Mono',consolas,'Courier New',monospace\">Trained DQN model with loss: 1672031300070316950090573414400.0000\n",
       "</pre>\n"
      ],
      "text/plain": [
       "Trained DQN model with loss: 1672031300070316950090573414400.0000\n"
      ]
     },
     "metadata": {},
     "output_type": "display_data"
    },
    {
     "data": {
      "text/html": [
       "<pre style=\"white-space:pre;overflow-x:auto;line-height:normal;font-family:Menlo,'DejaVu Sans Mono',consolas,'Courier New',monospace\">Trained DQN model with loss: 1605431274436292125198716502016.0000\n",
       "</pre>\n"
      ],
      "text/plain": [
       "Trained DQN model with loss: 1605431274436292125198716502016.0000\n"
      ]
     },
     "metadata": {},
     "output_type": "display_data"
    },
    {
     "data": {
      "text/html": [
       "<pre style=\"white-space:pre;overflow-x:auto;line-height:normal;font-family:Menlo,'DejaVu Sans Mono',consolas,'Courier New',monospace\">Trained DQN model with loss: 2152968889712502861287827439616.0000\n",
       "</pre>\n"
      ],
      "text/plain": [
       "Trained DQN model with loss: 2152968889712502861287827439616.0000\n"
      ]
     },
     "metadata": {},
     "output_type": "display_data"
    },
    {
     "data": {
      "text/html": [
       "<pre style=\"white-space:pre;overflow-x:auto;line-height:normal;font-family:Menlo,'DejaVu Sans Mono',consolas,'Courier New',monospace\">Trained DQN model with loss: 1963125072513592117009196253184.0000\n",
       "</pre>\n"
      ],
      "text/plain": [
       "Trained DQN model with loss: 1963125072513592117009196253184.0000\n"
      ]
     },
     "metadata": {},
     "output_type": "display_data"
    },
    {
     "data": {
      "text/html": [
       "<pre style=\"white-space:pre;overflow-x:auto;line-height:normal;font-family:Menlo,'DejaVu Sans Mono',consolas,'Courier New',monospace\">Trained DQN model with loss: 1722431266374323388555427053568.0000\n",
       "</pre>\n"
      ],
      "text/plain": [
       "Trained DQN model with loss: 1722431266374323388555427053568.0000\n"
      ]
     },
     "metadata": {},
     "output_type": "display_data"
    },
    {
     "data": {
      "text/html": [
       "<pre style=\"white-space:pre;overflow-x:auto;line-height:normal;font-family:Menlo,'DejaVu Sans Mono',consolas,'Courier New',monospace\">Trained DQN model with loss: 1737035694738177916300465012736.0000\n",
       "</pre>\n"
      ],
      "text/plain": [
       "Trained DQN model with loss: 1737035694738177916300465012736.0000\n"
      ]
     },
     "metadata": {},
     "output_type": "display_data"
    },
    {
     "data": {
      "text/html": [
       "<pre style=\"white-space:pre;overflow-x:auto;line-height:normal;font-family:Menlo,'DejaVu Sans Mono',consolas,'Courier New',monospace\">Trained DQN model with loss: 2195964638718552051543546265600.0000\n",
       "</pre>\n"
      ],
      "text/plain": [
       "Trained DQN model with loss: 2195964638718552051543546265600.0000\n"
      ]
     },
     "metadata": {},
     "output_type": "display_data"
    },
    {
     "data": {
      "text/html": [
       "<pre style=\"white-space:pre;overflow-x:auto;line-height:normal;font-family:Menlo,'DejaVu Sans Mono',consolas,'Courier New',monospace\">Trained DQN model with loss: 2444962556312753667798372188160.0000\n",
       "</pre>\n"
      ],
      "text/plain": [
       "Trained DQN model with loss: 2444962556312753667798372188160.0000\n"
      ]
     },
     "metadata": {},
     "output_type": "display_data"
    },
    {
     "data": {
      "text/html": [
       "<pre style=\"white-space:pre;overflow-x:auto;line-height:normal;font-family:Menlo,'DejaVu Sans Mono',consolas,'Courier New',monospace\">Trained DQN model with loss: 2700000418417477423238677004288.0000\n",
       "</pre>\n"
      ],
      "text/plain": [
       "Trained DQN model with loss: 2700000418417477423238677004288.0000\n"
      ]
     },
     "metadata": {},
     "output_type": "display_data"
    },
    {
     "data": {
      "text/html": [
       "<pre style=\"white-space:pre;overflow-x:auto;line-height:normal;font-family:Menlo,'DejaVu Sans Mono',consolas,'Courier New',monospace\">Trained DQN model with loss: 2036892517100657174620592406528.0000\n",
       "</pre>\n"
      ],
      "text/plain": [
       "Trained DQN model with loss: 2036892517100657174620592406528.0000\n"
      ]
     },
     "metadata": {},
     "output_type": "display_data"
    },
    {
     "data": {
      "text/html": [
       "<pre style=\"white-space:pre;overflow-x:auto;line-height:normal;font-family:Menlo,'DejaVu Sans Mono',consolas,'Courier New',monospace\">Trained DQN model with loss: 1656562640861165414314267377664.0000\n",
       "</pre>\n"
      ],
      "text/plain": [
       "Trained DQN model with loss: 1656562640861165414314267377664.0000\n"
      ]
     },
     "metadata": {},
     "output_type": "display_data"
    },
    {
     "data": {
      "text/html": [
       "<pre style=\"white-space:pre;overflow-x:auto;line-height:normal;font-family:Menlo,'DejaVu Sans Mono',consolas,'Courier New',monospace\">Trained DQN model with loss: 2200183789829007107363270819840.0000\n",
       "</pre>\n"
      ],
      "text/plain": [
       "Trained DQN model with loss: 2200183789829007107363270819840.0000\n"
      ]
     },
     "metadata": {},
     "output_type": "display_data"
    },
    {
     "data": {
      "text/html": [
       "<pre style=\"white-space:pre;overflow-x:auto;line-height:normal;font-family:Menlo,'DejaVu Sans Mono',consolas,'Courier New',monospace\">Trained DQN model with loss: 2406736321896539093294162903040.0000\n",
       "</pre>\n"
      ],
      "text/plain": [
       "Trained DQN model with loss: 2406736321896539093294162903040.0000\n"
      ]
     },
     "metadata": {},
     "output_type": "display_data"
    },
    {
     "data": {
      "text/html": [
       "<pre style=\"white-space:pre;overflow-x:auto;line-height:normal;font-family:Menlo,'DejaVu Sans Mono',consolas,'Courier New',monospace\">Trained DQN model with loss: 2145173736027627732369322016768.0000\n",
       "</pre>\n"
      ],
      "text/plain": [
       "Trained DQN model with loss: 2145173736027627732369322016768.0000\n"
      ]
     },
     "metadata": {},
     "output_type": "display_data"
    },
    {
     "data": {
      "text/html": [
       "<pre style=\"white-space:pre;overflow-x:auto;line-height:normal;font-family:Menlo,'DejaVu Sans Mono',consolas,'Courier New',monospace\">Trained DQN model with loss: 1985625297636804691551533924352.0000\n",
       "</pre>\n"
      ],
      "text/plain": [
       "Trained DQN model with loss: 1985625297636804691551533924352.0000\n"
      ]
     },
     "metadata": {},
     "output_type": "display_data"
    },
    {
     "data": {
      "text/html": [
       "<pre style=\"white-space:pre;overflow-x:auto;line-height:normal;font-family:Menlo,'DejaVu Sans Mono',consolas,'Courier New',monospace\">Trained DQN model with loss: 1761560568377790091053141852160.0000\n",
       "</pre>\n"
      ],
      "text/plain": [
       "Trained DQN model with loss: 1761560568377790091053141852160.0000\n"
      ]
     },
     "metadata": {},
     "output_type": "display_data"
    },
    {
     "data": {
      "text/html": [
       "<pre style=\"white-space:pre;overflow-x:auto;line-height:normal;font-family:Menlo,'DejaVu Sans Mono',consolas,'Courier New',monospace\">Trained DQN model with loss: 1668712647579747341177358123008.0000\n",
       "</pre>\n"
      ],
      "text/plain": [
       "Trained DQN model with loss: 1668712647579747341177358123008.0000\n"
      ]
     },
     "metadata": {},
     "output_type": "display_data"
    },
    {
     "data": {
      "text/html": [
       "<pre style=\"white-space:pre;overflow-x:auto;line-height:normal;font-family:Menlo,'DejaVu Sans Mono',consolas,'Courier New',monospace\">Trained DQN model with loss: 1947656262188713129404243378176.0000\n",
       "</pre>\n"
      ],
      "text/plain": [
       "Trained DQN model with loss: 1947656262188713129404243378176.0000\n"
      ]
     },
     "metadata": {},
     "output_type": "display_data"
    },
    {
     "data": {
      "text/html": [
       "<pre style=\"white-space:pre;overflow-x:auto;line-height:normal;font-family:Menlo,'DejaVu Sans Mono',consolas,'Courier New',monospace\">Trained DQN model with loss: 2070039147454305980989980016640.0000\n",
       "</pre>\n"
      ],
      "text/plain": [
       "Trained DQN model with loss: 2070039147454305980989980016640.0000\n"
      ]
     },
     "metadata": {},
     "output_type": "display_data"
    },
    {
     "data": {
      "text/html": [
       "<pre style=\"white-space:pre;overflow-x:auto;line-height:normal;font-family:Menlo,'DejaVu Sans Mono',consolas,'Courier New',monospace\">Trained DQN model with loss: 1407656299397799606219425447936.0000\n",
       "</pre>\n"
      ],
      "text/plain": [
       "Trained DQN model with loss: 1407656299397799606219425447936.0000\n"
      ]
     },
     "metadata": {},
     "output_type": "display_data"
    },
    {
     "data": {
      "text/html": [
       "<pre style=\"white-space:pre;overflow-x:auto;line-height:normal;font-family:Menlo,'DejaVu Sans Mono',consolas,'Courier New',monospace\">Trained DQN model with loss: 2123482131162009892916215939072.0000\n",
       "</pre>\n"
      ],
      "text/plain": [
       "Trained DQN model with loss: 2123482131162009892916215939072.0000\n"
      ]
     },
     "metadata": {},
     "output_type": "display_data"
    },
    {
     "data": {
      "text/html": [
       "<pre style=\"white-space:pre;overflow-x:auto;line-height:normal;font-family:Menlo,'DejaVu Sans Mono',consolas,'Courier New',monospace\">Trained DQN model with loss: 2259056512739782674399052693504.0000\n",
       "</pre>\n"
      ],
      "text/plain": [
       "Trained DQN model with loss: 2259056512739782674399052693504.0000\n"
      ]
     },
     "metadata": {},
     "output_type": "display_data"
    },
    {
     "data": {
      "text/html": [
       "<pre style=\"white-space:pre;overflow-x:auto;line-height:normal;font-family:Menlo,'DejaVu Sans Mono',consolas,'Courier New',monospace\">Trained DQN model with loss: 1611056255159231542919977500672.0000\n",
       "</pre>\n"
      ],
      "text/plain": [
       "Trained DQN model with loss: 1611056255159231542919977500672.0000\n"
      ]
     },
     "metadata": {},
     "output_type": "display_data"
    },
    {
     "data": {
      "text/html": [
       "<pre style=\"white-space:pre;overflow-x:auto;line-height:normal;font-family:Menlo,'DejaVu Sans Mono',consolas,'Courier New',monospace\">Trained DQN model with loss: 2217656394699897342825299181568.0000\n",
       "</pre>\n"
      ],
      "text/plain": [
       "Trained DQN model with loss: 2217656394699897342825299181568.0000\n"
      ]
     },
     "metadata": {},
     "output_type": "display_data"
    },
    {
     "data": {
      "text/html": [
       "<pre style=\"white-space:pre;overflow-x:auto;line-height:normal;font-family:Menlo,'DejaVu Sans Mono',consolas,'Courier New',monospace\">Trained DQN model with loss: 1437995955114030695473792155648.0000\n",
       "</pre>\n"
      ],
      "text/plain": [
       "Trained DQN model with loss: 1437995955114030695473792155648.0000\n"
      ]
     },
     "metadata": {},
     "output_type": "display_data"
    },
    {
     "data": {
      "text/html": [
       "<pre style=\"white-space:pre;overflow-x:auto;line-height:normal;font-family:Menlo,'DejaVu Sans Mono',consolas,'Courier New',monospace\">Trained DQN model with loss: 2191579864770809791526886965248.0000\n",
       "</pre>\n"
      ],
      "text/plain": [
       "Trained DQN model with loss: 2191579864770809791526886965248.0000\n"
      ]
     },
     "metadata": {},
     "output_type": "display_data"
    },
    {
     "data": {
      "text/html": [
       "<pre style=\"white-space:pre;overflow-x:auto;line-height:normal;font-family:Menlo,'DejaVu Sans Mono',consolas,'Courier New',monospace\">Trained DQN model with loss: 1681875129672256519974265290752.0000\n",
       "</pre>\n"
      ],
      "text/plain": [
       "Trained DQN model with loss: 1681875129672256519974265290752.0000\n"
      ]
     },
     "metadata": {},
     "output_type": "display_data"
    },
    {
     "data": {
      "text/html": [
       "<pre style=\"white-space:pre;overflow-x:auto;line-height:normal;font-family:Menlo,'DejaVu Sans Mono',consolas,'Courier New',monospace\">Trained DQN model with loss: 1722656428808226613239216078848.0000\n",
       "</pre>\n"
      ],
      "text/plain": [
       "Trained DQN model with loss: 1722656428808226613239216078848.0000\n"
      ]
     },
     "metadata": {},
     "output_type": "display_data"
    },
    {
     "data": {
      "text/html": [
       "<pre style=\"white-space:pre;overflow-x:auto;line-height:normal;font-family:Menlo,'DejaVu Sans Mono',consolas,'Courier New',monospace\">Trained DQN model with loss: 1652431741335542226424296374272.0000\n",
       "</pre>\n"
      ],
      "text/plain": [
       "Trained DQN model with loss: 1652431741335542226424296374272.0000\n"
      ]
     },
     "metadata": {},
     "output_type": "display_data"
    },
    {
     "data": {
      "text/html": [
       "<pre style=\"white-space:pre;overflow-x:auto;line-height:normal;font-family:Menlo,'DejaVu Sans Mono',consolas,'Courier New',monospace\">Trained DQN model with loss: 2019375181974441197879099916288.0000\n",
       "</pre>\n"
      ],
      "text/plain": [
       "Trained DQN model with loss: 2019375181974441197879099916288.0000\n"
      ]
     },
     "metadata": {},
     "output_type": "display_data"
    },
    {
     "data": {
      "text/html": [
       "<pre style=\"white-space:pre;overflow-x:auto;line-height:normal;font-family:Menlo,'DejaVu Sans Mono',consolas,'Courier New',monospace\">Trained DQN model with loss: 2090535124684324952189301686272.0000\n",
       "</pre>\n"
      ],
      "text/plain": [
       "Trained DQN model with loss: 2090535124684324952189301686272.0000\n"
      ]
     },
     "metadata": {},
     "output_type": "display_data"
    },
    {
     "data": {
      "text/html": [
       "<pre style=\"white-space:pre;overflow-x:auto;line-height:normal;font-family:Menlo,'DejaVu Sans Mono',consolas,'Courier New',monospace\">Trained DQN model with loss: 1963125374745047020666489929728.0000\n",
       "</pre>\n"
      ],
      "text/plain": [
       "Trained DQN model with loss: 1963125374745047020666489929728.0000\n"
      ]
     },
     "metadata": {},
     "output_type": "display_data"
    },
    {
     "data": {
      "text/html": [
       "<pre style=\"white-space:pre;overflow-x:auto;line-height:normal;font-family:Menlo,'DejaVu Sans Mono',consolas,'Courier New',monospace\">Trained DQN model with loss: 1901250133445531070246678429696.0000\n",
       "</pre>\n"
      ],
      "text/plain": [
       "Trained DQN model with loss: 1901250133445531070246678429696.0000\n"
      ]
     },
     "metadata": {},
     "output_type": "display_data"
    },
    {
     "data": {
      "text/html": [
       "<pre style=\"white-space:pre;overflow-x:auto;line-height:normal;font-family:Menlo,'DejaVu Sans Mono',consolas,'Courier New',monospace\">Trained DQN model with loss: 1842830002138473730008177180672.0000\n",
       "</pre>\n"
      ],
      "text/plain": [
       "Trained DQN model with loss: 1842830002138473730008177180672.0000\n"
      ]
     },
     "metadata": {},
     "output_type": "display_data"
    },
    {
     "data": {
      "text/html": [
       "<pre style=\"white-space:pre;overflow-x:auto;line-height:normal;font-family:Menlo,'DejaVu Sans Mono',consolas,'Courier New',monospace\">Trained DQN model with loss: 1991892369085686929193210740736.0000\n",
       "</pre>\n"
      ],
      "text/plain": [
       "Trained DQN model with loss: 1991892369085686929193210740736.0000\n"
      ]
     },
     "metadata": {},
     "output_type": "display_data"
    },
    {
     "data": {
      "text/html": [
       "<pre style=\"white-space:pre;overflow-x:auto;line-height:normal;font-family:Menlo,'DejaVu Sans Mono',consolas,'Courier New',monospace\">Trained DQN model with loss: 1863369349582271376029141434368.0000\n",
       "</pre>\n"
      ],
      "text/plain": [
       "Trained DQN model with loss: 1863369349582271376029141434368.0000\n"
      ]
     },
     "metadata": {},
     "output_type": "display_data"
    },
    {
     "data": {
      "text/html": [
       "<pre style=\"white-space:pre;overflow-x:auto;line-height:normal;font-family:Menlo,'DejaVu Sans Mono',consolas,'Courier New',monospace\">Trained DQN model with loss: 2498906337541232939860230144000.0000\n",
       "</pre>\n"
      ],
      "text/plain": [
       "Trained DQN model with loss: 2498906337541232939860230144000.0000\n"
      ]
     },
     "metadata": {},
     "output_type": "display_data"
    },
    {
     "data": {
      "text/html": [
       "<pre style=\"white-space:pre;overflow-x:auto;line-height:normal;font-family:Menlo,'DejaVu Sans Mono',consolas,'Courier New',monospace\">Trained DQN model with loss: 2188933526151673368263455145984.0000\n",
       "</pre>\n"
      ],
      "text/plain": [
       "Trained DQN model with loss: 2188933526151673368263455145984.0000\n"
      ]
     },
     "metadata": {},
     "output_type": "display_data"
    },
    {
     "data": {
      "text/html": [
       "<pre style=\"white-space:pre;overflow-x:auto;line-height:normal;font-family:Menlo,'DejaVu Sans Mono',consolas,'Courier New',monospace\">Trained DQN model with loss: 1701562637760408207913002205184.0000\n",
       "</pre>\n"
      ],
      "text/plain": [
       "Trained DQN model with loss: 1701562637760408207913002205184.0000\n"
      ]
     },
     "metadata": {},
     "output_type": "display_data"
    },
    {
     "data": {
      "text/html": [
       "<pre style=\"white-space:pre;overflow-x:auto;line-height:normal;font-family:Menlo,'DejaVu Sans Mono',consolas,'Courier New',monospace\">Trained DQN model with loss: 1749229978364903228957079371776.0000\n",
       "</pre>\n"
      ],
      "text/plain": [
       "Trained DQN model with loss: 1749229978364903228957079371776.0000\n"
      ]
     },
     "metadata": {},
     "output_type": "display_data"
    },
    {
     "data": {
      "text/html": [
       "<pre style=\"white-space:pre;overflow-x:auto;line-height:normal;font-family:Menlo,'DejaVu Sans Mono',consolas,'Courier New',monospace\">Trained DQN model with loss: 1684462684273414181894077022208.0000\n",
       "</pre>\n"
      ],
      "text/plain": [
       "Trained DQN model with loss: 1684462684273414181894077022208.0000\n"
      ]
     },
     "metadata": {},
     "output_type": "display_data"
    },
    {
     "data": {
      "text/html": [
       "<pre style=\"white-space:pre;overflow-x:auto;line-height:normal;font-family:Menlo,'DejaVu Sans Mono',consolas,'Courier New',monospace\">Trained DQN model with loss: 1930781320019894876240460382208.0000\n",
       "</pre>\n"
      ],
      "text/plain": [
       "Trained DQN model with loss: 1930781320019894876240460382208.0000\n"
      ]
     },
     "metadata": {},
     "output_type": "display_data"
    },
    {
     "data": {
      "text/html": [
       "<pre style=\"white-space:pre;overflow-x:auto;line-height:normal;font-family:Menlo,'DejaVu Sans Mono',consolas,'Courier New',monospace\">Trained DQN model with loss: 2299218841856110077526553919488.0000\n",
       "</pre>\n"
      ],
      "text/plain": [
       "Trained DQN model with loss: 2299218841856110077526553919488.0000\n"
      ]
     },
     "metadata": {},
     "output_type": "display_data"
    },
    {
     "data": {
      "text/html": [
       "<pre style=\"white-space:pre;overflow-x:auto;line-height:normal;font-family:Menlo,'DejaVu Sans Mono',consolas,'Courier New',monospace\">Trained DQN model with loss: 1660162519720522876339248693248.0000\n",
       "</pre>\n"
      ],
      "text/plain": [
       "Trained DQN model with loss: 1660162519720522876339248693248.0000\n"
      ]
     },
     "metadata": {},
     "output_type": "display_data"
    },
    {
     "data": {
      "text/html": [
       "<pre style=\"white-space:pre;overflow-x:auto;line-height:normal;font-family:Menlo,'DejaVu Sans Mono',consolas,'Courier New',monospace\">Trained DQN model with loss: 1494167635512332277275986755584.0000\n",
       "</pre>\n"
      ],
      "text/plain": [
       "Trained DQN model with loss: 1494167635512332277275986755584.0000\n"
      ]
     },
     "metadata": {},
     "output_type": "display_data"
    },
    {
     "data": {
      "text/html": [
       "<pre style=\"white-space:pre;overflow-x:auto;line-height:normal;font-family:Menlo,'DejaVu Sans Mono',consolas,'Courier New',monospace\">Trained DQN model with loss: 1686093978551256672136696168448.0000\n",
       "</pre>\n"
      ],
      "text/plain": [
       "Trained DQN model with loss: 1686093978551256672136696168448.0000\n"
      ]
     },
     "metadata": {},
     "output_type": "display_data"
    },
    {
     "data": {
      "text/html": [
       "<pre style=\"white-space:pre;overflow-x:auto;line-height:normal;font-family:Menlo,'DejaVu Sans Mono',consolas,'Courier New',monospace\">Trained DQN model with loss: 2036892517100657174620592406528.0000\n",
       "</pre>\n"
      ],
      "text/plain": [
       "Trained DQN model with loss: 2036892517100657174620592406528.0000\n"
      ]
     },
     "metadata": {},
     "output_type": "display_data"
    },
    {
     "data": {
      "text/html": [
       "<pre style=\"white-space:pre;overflow-x:auto;line-height:normal;font-family:Menlo,'DejaVu Sans Mono',consolas,'Courier New',monospace\">Trained DQN model with loss: 1673437431914256215649403535360.0000\n",
       "</pre>\n"
      ],
      "text/plain": [
       "Trained DQN model with loss: 1673437431914256215649403535360.0000\n"
      ]
     },
     "metadata": {},
     "output_type": "display_data"
    },
    {
     "data": {
      "text/html": [
       "<pre style=\"white-space:pre;overflow-x:auto;line-height:normal;font-family:Menlo,'DejaVu Sans Mono',consolas,'Courier New',monospace\">Trained DQN model with loss: 1792968763402833060669301981184.0000\n",
       "</pre>\n"
      ],
      "text/plain": [
       "Trained DQN model with loss: 1792968763402833060669301981184.0000\n"
      ]
     },
     "metadata": {},
     "output_type": "display_data"
    },
    {
     "data": {
      "text/html": [
       "<pre style=\"white-space:pre;overflow-x:auto;line-height:normal;font-family:Menlo,'DejaVu Sans Mono',consolas,'Courier New',monospace\">Trained DQN model with loss: 1832660669259602921219195666432.0000\n",
       "</pre>\n"
      ],
      "text/plain": [
       "Trained DQN model with loss: 1832660669259602921219195666432.0000\n"
      ]
     },
     "metadata": {},
     "output_type": "display_data"
    },
    {
     "data": {
      "text/html": [
       "<pre style=\"white-space:pre;overflow-x:auto;line-height:normal;font-family:Menlo,'DejaVu Sans Mono',consolas,'Courier New',monospace\">Trained DQN model with loss: 1830339682801670285032406646784.0000\n",
       "</pre>\n"
      ],
      "text/plain": [
       "Trained DQN model with loss: 1830339682801670285032406646784.0000\n"
      ]
     },
     "metadata": {},
     "output_type": "display_data"
    },
    {
     "data": {
      "text/html": [
       "<pre style=\"white-space:pre;overflow-x:auto;line-height:normal;font-family:Menlo,'DejaVu Sans Mono',consolas,'Courier New',monospace\">Trained DQN model with loss: 2560556265291118213767605780480.0000\n",
       "</pre>\n"
      ],
      "text/plain": [
       "Trained DQN model with loss: 2560556265291118213767605780480.0000\n"
      ]
     },
     "metadata": {},
     "output_type": "display_data"
    },
    {
     "data": {
      "text/html": [
       "<pre style=\"white-space:pre;overflow-x:auto;line-height:normal;font-family:Menlo,'DejaVu Sans Mono',consolas,'Courier New',monospace\">Trained DQN model with loss: 2110591959610368909340911337472.0000\n",
       "</pre>\n"
      ],
      "text/plain": [
       "Trained DQN model with loss: 2110591959610368909340911337472.0000\n"
      ]
     },
     "metadata": {},
     "output_type": "display_data"
    },
    {
     "data": {
      "text/html": [
       "<pre style=\"white-space:pre;overflow-x:auto;line-height:normal;font-family:Menlo,'DejaVu Sans Mono',consolas,'Courier New',monospace\">Trained DQN model with loss: 2006718937568895645049100959744.0000\n",
       "</pre>\n"
      ],
      "text/plain": [
       "Trained DQN model with loss: 2006718937568895645049100959744.0000\n"
      ]
     },
     "metadata": {},
     "output_type": "display_data"
    },
    {
     "data": {
      "text/html": [
       "<pre style=\"white-space:pre;overflow-x:auto;line-height:normal;font-family:Menlo,'DejaVu Sans Mono',consolas,'Courier New',monospace\">Trained DQN model with loss: 1625263098044160309495183966208.0000\n",
       "</pre>\n"
      ],
      "text/plain": [
       "Trained DQN model with loss: 1625263098044160309495183966208.0000\n"
      ]
     },
     "metadata": {},
     "output_type": "display_data"
    },
    {
     "data": {
      "text/html": [
       "<pre style=\"white-space:pre;overflow-x:auto;line-height:normal;font-family:Menlo,'DejaVu Sans Mono',consolas,'Courier New',monospace\">Trained DQN model with loss: 1557352596821673226577945559040.0000\n",
       "</pre>\n"
      ],
      "text/plain": [
       "Trained DQN model with loss: 1557352596821673226577945559040.0000\n"
      ]
     },
     "metadata": {},
     "output_type": "display_data"
    },
    {
     "data": {
      "text/html": [
       "<pre style=\"white-space:pre;overflow-x:auto;line-height:normal;font-family:Menlo,'DejaVu Sans Mono',consolas,'Courier New',monospace\">Trained DQN model with loss: 1466718823662254670035636191232.0000\n",
       "</pre>\n"
      ],
      "text/plain": [
       "Trained DQN model with loss: 1466718823662254670035636191232.0000\n"
      ]
     },
     "metadata": {},
     "output_type": "display_data"
    },
    {
     "data": {
      "text/html": [
       "<pre style=\"white-space:pre;overflow-x:auto;line-height:normal;font-family:Menlo,'DejaVu Sans Mono',consolas,'Courier New',monospace\">Trained DQN model with loss: 2026406294541319881159191035904.0000\n",
       "</pre>\n"
      ],
      "text/plain": [
       "Trained DQN model with loss: 2026406294541319881159191035904.0000\n"
      ]
     },
     "metadata": {},
     "output_type": "display_data"
    },
    {
     "data": {
      "text/html": [
       "<pre style=\"white-space:pre;overflow-x:auto;line-height:normal;font-family:Menlo,'DejaVu Sans Mono',consolas,'Courier New',monospace\">Trained DQN model with loss: 1469531389581588104810590109696.0000\n",
       "</pre>\n"
      ],
      "text/plain": [
       "Trained DQN model with loss: 1469531389581588104810590109696.0000\n"
      ]
     },
     "metadata": {},
     "output_type": "display_data"
    },
    {
     "data": {
      "text/html": [
       "<pre style=\"white-space:pre;overflow-x:auto;line-height:normal;font-family:Menlo,'DejaVu Sans Mono',consolas,'Courier New',monospace\">Trained DQN model with loss: 1938600198873979942256519413760.0000\n",
       "</pre>\n"
      ],
      "text/plain": [
       "Trained DQN model with loss: 1938600198873979942256519413760.0000\n"
      ]
     },
     "metadata": {},
     "output_type": "display_data"
    },
    {
     "data": {
      "text/html": [
       "<pre style=\"white-space:pre;overflow-x:auto;line-height:normal;font-family:Menlo,'DejaVu Sans Mono',consolas,'Courier New',monospace\">Trained DQN model with loss: 1767146410127319485154871738368.0000\n",
       "</pre>\n"
      ],
      "text/plain": [
       "Trained DQN model with loss: 1767146410127319485154871738368.0000\n"
      ]
     },
     "metadata": {},
     "output_type": "display_data"
    },
    {
     "data": {
      "text/html": [
       "<pre style=\"white-space:pre;overflow-x:auto;line-height:normal;font-family:Menlo,'DejaVu Sans Mono',consolas,'Courier New',monospace\">Trained DQN model with loss: 2199375169571412372274039226368.0000\n",
       "</pre>\n"
      ],
      "text/plain": [
       "Trained DQN model with loss: 2199375169571412372274039226368.0000\n"
      ]
     },
     "metadata": {},
     "output_type": "display_data"
    },
    {
     "data": {
      "text/html": [
       "<pre style=\"white-space:pre;overflow-x:auto;line-height:normal;font-family:Menlo,'DejaVu Sans Mono',consolas,'Courier New',monospace\">Trained DQN model with loss: 2021589782960247746698514792448.0000\n",
       "</pre>\n"
      ],
      "text/plain": [
       "Trained DQN model with loss: 2021589782960247746698514792448.0000\n"
      ]
     },
     "metadata": {},
     "output_type": "display_data"
    },
    {
     "data": {
      "text/html": [
       "<pre style=\"white-space:pre;overflow-x:auto;line-height:normal;font-family:Menlo,'DejaVu Sans Mono',consolas,'Courier New',monospace\">Trained DQN model with loss: 1305000061193768466191956836352.0000\n",
       "</pre>\n"
      ],
      "text/plain": [
       "Trained DQN model with loss: 1305000061193768466191956836352.0000\n"
      ]
     },
     "metadata": {},
     "output_type": "display_data"
    },
    {
     "data": {
      "text/html": [
       "<pre style=\"white-space:pre;overflow-x:auto;line-height:normal;font-family:Menlo,'DejaVu Sans Mono',consolas,'Courier New',monospace\">Trained DQN model with loss: 2222683561605037326419667976192.0000\n",
       "</pre>\n"
      ],
      "text/plain": [
       "Trained DQN model with loss: 2222683561605037326419667976192.0000\n"
      ]
     },
     "metadata": {},
     "output_type": "display_data"
    },
    {
     "data": {
      "text/html": [
       "<pre style=\"white-space:pre;overflow-x:auto;line-height:normal;font-family:Menlo,'DejaVu Sans Mono',consolas,'Courier New',monospace\">Trained DQN model with loss: 1737900076699202376160379928576.0000\n",
       "</pre>\n"
      ],
      "text/plain": [
       "Trained DQN model with loss: 1737900076699202376160379928576.0000\n"
      ]
     },
     "metadata": {},
     "output_type": "display_data"
    },
    {
     "data": {
      "text/html": [
       "<pre style=\"white-space:pre;overflow-x:auto;line-height:normal;font-family:Menlo,'DejaVu Sans Mono',consolas,'Courier New',monospace\">Trained DQN model with loss: 2029636242099875266656712261632.0000\n",
       "</pre>\n"
      ],
      "text/plain": [
       "Trained DQN model with loss: 2029636242099875266656712261632.0000\n"
      ]
     },
     "metadata": {},
     "output_type": "display_data"
    },
    {
     "data": {
      "text/html": [
       "<pre style=\"white-space:pre;overflow-x:auto;line-height:normal;font-family:Menlo,'DejaVu Sans Mono',consolas,'Courier New',monospace\">Trained DQN model with loss: 2004806416922265301694715789312.0000\n",
       "</pre>\n"
      ],
      "text/plain": [
       "Trained DQN model with loss: 2004806416922265301694715789312.0000\n"
      ]
     },
     "metadata": {},
     "output_type": "display_data"
    },
    {
     "data": {
      "text/html": [
       "<pre style=\"white-space:pre;overflow-x:auto;line-height:normal;font-family:Menlo,'DejaVu Sans Mono',consolas,'Courier New',monospace\">Trained DQN model with loss: 1507183535349213182285460799488.0000\n",
       "</pre>\n"
      ],
      "text/plain": [
       "Trained DQN model with loss: 1507183535349213182285460799488.0000\n"
      ]
     },
     "metadata": {},
     "output_type": "display_data"
    },
    {
     "data": {
      "text/html": [
       "<pre style=\"white-space:pre;overflow-x:auto;line-height:normal;font-family:Menlo,'DejaVu Sans Mono',consolas,'Courier New',monospace\">Trained DQN model with loss: 1806771069485373281956922392576.0000\n",
       "</pre>\n"
      ],
      "text/plain": [
       "Trained DQN model with loss: 1806771069485373281956922392576.0000\n"
      ]
     },
     "metadata": {},
     "output_type": "display_data"
    },
    {
     "data": {
      "text/html": [
       "<pre style=\"white-space:pre;overflow-x:auto;line-height:normal;font-family:Menlo,'DejaVu Sans Mono',consolas,'Courier New',monospace\">Trained DQN model with loss: 2266919668502011126208635338752.0000\n",
       "</pre>\n"
      ],
      "text/plain": [
       "Trained DQN model with loss: 2266919668502011126208635338752.0000\n"
      ]
     },
     "metadata": {},
     "output_type": "display_data"
    },
    {
     "data": {
      "text/html": [
       "<pre style=\"white-space:pre;overflow-x:auto;line-height:normal;font-family:Menlo,'DejaVu Sans Mono',consolas,'Courier New',monospace\">Trained DQN model with loss: 2023593879737713898212883955712.0000\n",
       "</pre>\n"
      ],
      "text/plain": [
       "Trained DQN model with loss: 2023593879737713898212883955712.0000\n"
      ]
     },
     "metadata": {},
     "output_type": "display_data"
    },
    {
     "data": {
      "text/html": [
       "<pre style=\"white-space:pre;overflow-x:auto;line-height:normal;font-family:Menlo,'DejaVu Sans Mono',consolas,'Courier New',monospace\">Trained DQN model with loss: 1395000054992254053389426491392.0000\n",
       "</pre>\n"
      ],
      "text/plain": [
       "Trained DQN model with loss: 1395000054992254053389426491392.0000\n"
      ]
     },
     "metadata": {},
     "output_type": "display_data"
    },
    {
     "data": {
      "text/html": [
       "<pre style=\"white-space:pre;overflow-x:auto;line-height:normal;font-family:Menlo,'DejaVu Sans Mono',consolas,'Courier New',monospace\">Trained DQN model with loss: 1853437721742682293701636521984.0000\n",
       "</pre>\n"
      ],
      "text/plain": [
       "Trained DQN model with loss: 1853437721742682293701636521984.0000\n"
      ]
     },
     "metadata": {},
     "output_type": "display_data"
    },
    {
     "data": {
      "text/html": [
       "<pre style=\"white-space:pre;overflow-x:auto;line-height:normal;font-family:Menlo,'DejaVu Sans Mono',consolas,'Courier New',monospace\">Trained DQN model with loss: 1960488405301012610779162083328.0000\n",
       "</pre>\n"
      ],
      "text/plain": [
       "Trained DQN model with loss: 1960488405301012610779162083328.0000\n"
      ]
     },
     "metadata": {},
     "output_type": "display_data"
    },
    {
     "data": {
      "text/html": [
       "<pre style=\"white-space:pre;overflow-x:auto;line-height:normal;font-family:Menlo,'DejaVu Sans Mono',consolas,'Courier New',monospace\">Trained DQN model with loss: 2070000159596623409199095742464.0000\n",
       "</pre>\n"
      ],
      "text/plain": [
       "Trained DQN model with loss: 2070000159596623409199095742464.0000\n"
      ]
     },
     "metadata": {},
     "output_type": "display_data"
    },
    {
     "data": {
      "text/html": [
       "<pre style=\"white-space:pre;overflow-x:auto;line-height:normal;font-family:Menlo,'DejaVu Sans Mono',consolas,'Courier New',monospace\">Trained DQN model with loss: 1546874987858800687349413969920.0000\n",
       "</pre>\n"
      ],
      "text/plain": [
       "Trained DQN model with loss: 1546874987858800687349413969920.0000\n"
      ]
     },
     "metadata": {},
     "output_type": "display_data"
    },
    {
     "data": {
      "text/html": [
       "<pre style=\"white-space:pre;overflow-x:auto;line-height:normal;font-family:Menlo,'DejaVu Sans Mono',consolas,'Courier New',monospace\">Trained DQN model with loss: 2016773120263448160409191710720.0000\n",
       "</pre>\n"
      ],
      "text/plain": [
       "Trained DQN model with loss: 2016773120263448160409191710720.0000\n"
      ]
     },
     "metadata": {},
     "output_type": "display_data"
    },
    {
     "data": {
      "text/html": [
       "<pre style=\"white-space:pre;overflow-x:auto;line-height:normal;font-family:Menlo,'DejaVu Sans Mono',consolas,'Courier New',monospace\">Trained DQN model with loss: 2342730197724224907125284929536.0000\n",
       "</pre>\n"
      ],
      "text/plain": [
       "Trained DQN model with loss: 2342730197724224907125284929536.0000\n"
      ]
     },
     "metadata": {},
     "output_type": "display_data"
    },
    {
     "data": {
      "text/html": [
       "<pre style=\"white-space:pre;overflow-x:auto;line-height:normal;font-family:Menlo,'DejaVu Sans Mono',consolas,'Courier New',monospace\">Trained DQN model with loss: 2278125201924019124028986884096.0000\n",
       "</pre>\n"
      ],
      "text/plain": [
       "Trained DQN model with loss: 2278125201924019124028986884096.0000\n"
      ]
     },
     "metadata": {},
     "output_type": "display_data"
    },
    {
     "data": {
      "text/html": [
       "<pre style=\"white-space:pre;overflow-x:auto;line-height:normal;font-family:Menlo,'DejaVu Sans Mono',consolas,'Courier New',monospace\">Trained DQN model with loss: 2113594024651926937239000449024.0000\n",
       "</pre>\n"
      ],
      "text/plain": [
       "Trained DQN model with loss: 2113594024651926937239000449024.0000\n"
      ]
     },
     "metadata": {},
     "output_type": "display_data"
    },
    {
     "data": {
      "text/html": [
       "<pre style=\"white-space:pre;overflow-x:auto;line-height:normal;font-family:Menlo,'DejaVu Sans Mono',consolas,'Courier New',monospace\">Trained DQN model with loss: 2152204999710233867478059974656.0000\n",
       "</pre>\n"
      ],
      "text/plain": [
       "Trained DQN model with loss: 2152204999710233867478059974656.0000\n"
      ]
     },
     "metadata": {},
     "output_type": "display_data"
    },
    {
     "data": {
      "text/html": [
       "<pre style=\"white-space:pre;overflow-x:auto;line-height:normal;font-family:Menlo,'DejaVu Sans Mono',consolas,'Courier New',monospace\">Trained DQN model with loss: 2096718780251653780417923776512.0000\n",
       "</pre>\n"
      ],
      "text/plain": [
       "Trained DQN model with loss: 2096718780251653780417923776512.0000\n"
      ]
     },
     "metadata": {},
     "output_type": "display_data"
    },
    {
     "data": {
      "text/html": [
       "<pre style=\"white-space:pre;overflow-x:auto;line-height:normal;font-family:Menlo,'DejaVu Sans Mono',consolas,'Courier New',monospace\">Trained DQN model with loss: 1940625149621834446124152258560.0000\n",
       "</pre>\n"
      ],
      "text/plain": [
       "Trained DQN model with loss: 1940625149621834446124152258560.0000\n"
      ]
     },
     "metadata": {},
     "output_type": "display_data"
    },
    {
     "data": {
      "text/html": [
       "<pre style=\"white-space:pre;overflow-x:auto;line-height:normal;font-family:Menlo,'DejaVu Sans Mono',consolas,'Courier New',monospace\">Trained DQN model with loss: 1884375191276712817082895433728.0000\n",
       "</pre>\n"
      ],
      "text/plain": [
       "Trained DQN model with loss: 1884375191276712817082895433728.0000\n"
      ]
     },
     "metadata": {},
     "output_type": "display_data"
    },
    {
     "data": {
      "text/html": [
       "<pre style=\"white-space:pre;overflow-x:auto;line-height:normal;font-family:Menlo,'DejaVu Sans Mono',consolas,'Courier New',monospace\">Trained DQN model with loss: 1546318881981777957929049128960.0000\n",
       "</pre>\n"
      ],
      "text/plain": [
       "Trained DQN model with loss: 1546318881981777957929049128960.0000\n"
      ]
     },
     "metadata": {},
     "output_type": "display_data"
    },
    {
     "data": {
      "text/html": [
       "<pre style=\"white-space:pre;overflow-x:auto;line-height:normal;font-family:Menlo,'DejaVu Sans Mono',consolas,'Courier New',monospace\">Trained DQN model with loss: 1483275969456241727555118301184.0000\n",
       "</pre>\n"
      ],
      "text/plain": [
       "Trained DQN model with loss: 1483275969456241727555118301184.0000\n"
      ]
     },
     "metadata": {},
     "output_type": "display_data"
    },
    {
     "data": {
      "text/html": [
       "<pre style=\"white-space:pre;overflow-x:auto;line-height:normal;font-family:Menlo,'DejaVu Sans Mono',consolas,'Courier New',monospace\">Trained DQN model with loss: 1660305021851509950753217183744.0000\n",
       "</pre>\n"
      ],
      "text/plain": [
       "Trained DQN model with loss: 1660305021851509950753217183744.0000\n"
      ]
     },
     "metadata": {},
     "output_type": "display_data"
    },
    {
     "data": {
      "text/html": [
       "<pre style=\"white-space:pre;overflow-x:auto;line-height:normal;font-family:Menlo,'DejaVu Sans Mono',consolas,'Courier New',monospace\">Trained DQN model with loss: 1888283497335799461376073662464.0000\n",
       "</pre>\n"
      ],
      "text/plain": [
       "Trained DQN model with loss: 1888283497335799461376073662464.0000\n"
      ]
     },
     "metadata": {},
     "output_type": "display_data"
    },
    {
     "data": {
      "text/html": [
       "<pre style=\"white-space:pre;overflow-x:auto;line-height:normal;font-family:Menlo,'DejaVu Sans Mono',consolas,'Courier New',monospace\">Trained DQN model with loss: 1856537558659901654734229995520.0000\n",
       "</pre>\n"
      ],
      "text/plain": [
       "Trained DQN model with loss: 1856537558659901654734229995520.0000\n"
      ]
     },
     "metadata": {},
     "output_type": "display_data"
    },
    {
     "data": {
      "text/html": [
       "<pre style=\"white-space:pre;overflow-x:auto;line-height:normal;font-family:Menlo,'DejaVu Sans Mono',consolas,'Courier New',monospace\">Trained DQN model with loss: 1613013354945460175725179961344.0000\n",
       "</pre>\n"
      ],
      "text/plain": [
       "Trained DQN model with loss: 1613013354945460175725179961344.0000\n"
      ]
     },
     "metadata": {},
     "output_type": "display_data"
    },
    {
     "data": {
      "text/html": [
       "<pre style=\"white-space:pre;overflow-x:auto;line-height:normal;font-family:Menlo,'DejaVu Sans Mono',consolas,'Courier New',monospace\">Trained DQN model with loss: 2050688022975462063619105095680.0000\n",
       "</pre>\n"
      ],
      "text/plain": [
       "Trained DQN model with loss: 2050688022975462063619105095680.0000\n"
      ]
     },
     "metadata": {},
     "output_type": "display_data"
    },
    {
     "data": {
      "text/html": [
       "<pre style=\"white-space:pre;overflow-x:auto;line-height:normal;font-family:Menlo,'DejaVu Sans Mono',consolas,'Courier New',monospace\">Trained DQN model with loss: 1563240216678923922487411474432.0000\n",
       "</pre>\n"
      ],
      "text/plain": [
       "Trained DQN model with loss: 1563240216678923922487411474432.0000\n"
      ]
     },
     "metadata": {},
     "output_type": "display_data"
    },
    {
     "data": {
      "text/html": [
       "<pre style=\"white-space:pre;overflow-x:auto;line-height:normal;font-family:Menlo,'DejaVu Sans Mono',consolas,'Courier New',monospace\">Trained DQN model with loss: 1942031432581501163511629217792.0000\n",
       "</pre>\n"
      ],
      "text/plain": [
       "Trained DQN model with loss: 1942031432581501163511629217792.0000\n"
      ]
     },
     "metadata": {},
     "output_type": "display_data"
    },
    {
     "data": {
      "text/html": [
       "<pre style=\"white-space:pre;overflow-x:auto;line-height:normal;font-family:Menlo,'DejaVu Sans Mono',consolas,'Courier New',monospace\">Trained DQN model with loss: 1662995939610244663467466293248.0000\n",
       "</pre>\n"
      ],
      "text/plain": [
       "Trained DQN model with loss: 1662995939610244663467466293248.0000\n"
      ]
     },
     "metadata": {},
     "output_type": "display_data"
    },
    {
     "data": {
      "text/html": [
       "<pre style=\"white-space:pre;overflow-x:auto;line-height:normal;font-family:Menlo,'DejaVu Sans Mono',consolas,'Courier New',monospace\">Trained DQN model with loss: 1310625193032435335741864673280.0000\n",
       "</pre>\n"
      ],
      "text/plain": [
       "Trained DQN model with loss: 1310625193032435335741864673280.0000\n"
      ]
     },
     "metadata": {},
     "output_type": "display_data"
    },
    {
     "data": {
      "text/html": [
       "<pre style=\"white-space:pre;overflow-x:auto;line-height:normal;font-family:Menlo,'DejaVu Sans Mono',consolas,'Courier New',monospace\">Trained DQN model with loss: 1519037808589171880486689046528.0000\n",
       "</pre>\n"
      ],
      "text/plain": [
       "Trained DQN model with loss: 1519037808589171880486689046528.0000\n"
      ]
     },
     "metadata": {},
     "output_type": "display_data"
    },
    {
     "data": {
      "text/html": [
       "<pre style=\"white-space:pre;overflow-x:auto;line-height:normal;font-family:Menlo,'DejaVu Sans Mono',consolas,'Courier New',monospace\">Trained DQN model with loss: 1438593920047557581429331197952.0000\n",
       "</pre>\n"
      ],
      "text/plain": [
       "Trained DQN model with loss: 1438593920047557581429331197952.0000\n"
      ]
     },
     "metadata": {},
     "output_type": "display_data"
    },
    {
     "data": {
      "text/html": [
       "<pre style=\"white-space:pre;overflow-x:auto;line-height:normal;font-family:Menlo,'DejaVu Sans Mono',consolas,'Courier New',monospace\">Trained DQN model with loss: 1722958660263130270532892622848.0000\n",
       "</pre>\n"
      ],
      "text/plain": [
       "Trained DQN model with loss: 1722958660263130270532892622848.0000\n"
      ]
     },
     "metadata": {},
     "output_type": "display_data"
    },
    {
     "data": {
      "text/html": [
       "<pre style=\"white-space:pre;overflow-x:auto;line-height:normal;font-family:Menlo,'DejaVu Sans Mono',consolas,'Courier New',monospace\">Trained DQN model with loss: 1745443924929325114039193305088.0000\n",
       "</pre>\n"
      ],
      "text/plain": [
       "Trained DQN model with loss: 1745443924929325114039193305088.0000\n"
      ]
     },
     "metadata": {},
     "output_type": "display_data"
    },
    {
     "data": {
      "text/html": [
       "<pre style=\"white-space:pre;overflow-x:auto;line-height:normal;font-family:Menlo,'DejaVu Sans Mono',consolas,'Courier New',monospace\">Trained DQN model with loss: 2179687661483260684335302311936.0000\n",
       "</pre>\n"
      ],
      "text/plain": [
       "Trained DQN model with loss: 2179687661483260684335302311936.0000\n"
      ]
     },
     "metadata": {},
     "output_type": "display_data"
    },
    {
     "data": {
      "text/html": [
       "<pre style=\"white-space:pre;overflow-x:auto;line-height:normal;font-family:Menlo,'DejaVu Sans Mono',consolas,'Courier New',monospace\">Trained DQN model with loss: 1896625538838322758167486791680.0000\n",
       "</pre>\n"
      ],
      "text/plain": [
       "Trained DQN model with loss: 1896625538838322758167486791680.0000\n"
      ]
     },
     "metadata": {},
     "output_type": "display_data"
    },
    {
     "data": {
      "text/html": [
       "<pre style=\"white-space:pre;overflow-x:auto;line-height:normal;font-family:Menlo,'DejaVu Sans Mono',consolas,'Courier New',monospace\">Trained DQN model with loss: 2051718783352410986819188948992.0000\n",
       "</pre>\n"
      ],
      "text/plain": [
       "Trained DQN model with loss: 2051718783352410986819188948992.0000\n"
      ]
     },
     "metadata": {},
     "output_type": "display_data"
    },
    {
     "data": {
      "text/html": [
       "<pre style=\"white-space:pre;overflow-x:auto;line-height:normal;font-family:Menlo,'DejaVu Sans Mono',consolas,'Courier New',monospace\">Trained DQN model with loss: 1668002101429268842879924568064.0000\n",
       "</pre>\n"
      ],
      "text/plain": [
       "Trained DQN model with loss: 1668002101429268842879924568064.0000\n"
      ]
     },
     "metadata": {},
     "output_type": "display_data"
    },
    {
     "data": {
      "text/html": [
       "<pre style=\"white-space:pre;overflow-x:auto;line-height:normal;font-family:Menlo,'DejaVu Sans Mono',consolas,'Courier New',monospace\">Trained DQN model with loss: 1684975117705203332835505602560.0000\n",
       "</pre>\n"
      ],
      "text/plain": [
       "Trained DQN model with loss: 1684975117705203332835505602560.0000\n"
      ]
     },
     "metadata": {},
     "output_type": "display_data"
    },
    {
     "data": {
      "text/html": [
       "<pre style=\"white-space:pre;overflow-x:auto;line-height:normal;font-family:Menlo,'DejaVu Sans Mono',consolas,'Courier New',monospace\">Trained DQN model with loss: 1430156222289557277104469442560.0000\n",
       "</pre>\n"
      ],
      "text/plain": [
       "Trained DQN model with loss: 1430156222289557277104469442560.0000\n"
      ]
     },
     "metadata": {},
     "output_type": "display_data"
    },
    {
     "data": {
      "text/html": [
       "<pre style=\"white-space:pre;overflow-x:auto;line-height:normal;font-family:Menlo,'DejaVu Sans Mono',consolas,'Courier New',monospace\">Trained DQN model with loss: 1651580053095623720170715873280.0000\n",
       "</pre>\n"
      ],
      "text/plain": [
       "Trained DQN model with loss: 1651580053095623720170715873280.0000\n"
      ]
     },
     "metadata": {},
     "output_type": "display_data"
    },
    {
     "data": {
      "text/html": [
       "<pre style=\"white-space:pre;overflow-x:auto;line-height:normal;font-family:Menlo,'DejaVu Sans Mono',consolas,'Courier New',monospace\">Trained DQN model with loss: 1117968885472054882602602987520.0000\n",
       "</pre>\n"
      ],
      "text/plain": [
       "Trained DQN model with loss: 1117968885472054882602602987520.0000\n"
      ]
     },
     "metadata": {},
     "output_type": "display_data"
    },
    {
     "data": {
      "text/html": [
       "<pre style=\"white-space:pre;overflow-x:auto;line-height:normal;font-family:Menlo,'DejaVu Sans Mono',consolas,'Courier New',monospace\">Trained DQN model with loss: 2076433609461430110180941496320.0000\n",
       "</pre>\n"
      ],
      "text/plain": [
       "Trained DQN model with loss: 2076433609461430110180941496320.0000\n"
      ]
     },
     "metadata": {},
     "output_type": "display_data"
    },
    {
     "data": {
      "text/html": [
       "<pre style=\"white-space:pre;overflow-x:auto;line-height:normal;font-family:Menlo,'DejaVu Sans Mono',consolas,'Courier New',monospace\">Trained DQN model with loss: 1877631349707720060060443869184.0000\n",
       "</pre>\n"
      ],
      "text/plain": [
       "Trained DQN model with loss: 1877631349707720060060443869184.0000\n"
      ]
     },
     "metadata": {},
     "output_type": "display_data"
    },
    {
     "data": {
      "text/html": [
       "<pre style=\"white-space:pre;overflow-x:auto;line-height:normal;font-family:Menlo,'DejaVu Sans Mono',consolas,'Courier New',monospace\">Trained DQN model with loss: 1535027212595122417779999768576.0000\n",
       "</pre>\n"
      ],
      "text/plain": [
       "Trained DQN model with loss: 1535027212595122417779999768576.0000\n"
      ]
     },
     "metadata": {},
     "output_type": "display_data"
    },
    {
     "data": {
      "text/html": [
       "<pre style=\"white-space:pre;overflow-x:auto;line-height:normal;font-family:Menlo,'DejaVu Sans Mono',consolas,'Courier New',monospace\">Trained DQN model with loss: 2179975234712601514250235543552.0000\n",
       "</pre>\n"
      ],
      "text/plain": [
       "Trained DQN model with loss: 2179975234712601514250235543552.0000\n"
      ]
     },
     "metadata": {},
     "output_type": "display_data"
    },
    {
     "data": {
      "text/html": [
       "<pre style=\"white-space:pre;overflow-x:auto;line-height:normal;font-family:Menlo,'DejaVu Sans Mono',consolas,'Courier New',monospace\">Trained DQN model with loss: 1287703052798177255617554546688.0000\n",
       "</pre>\n"
      ],
      "text/plain": [
       "Trained DQN model with loss: 1287703052798177255617554546688.0000\n"
      ]
     },
     "metadata": {},
     "output_type": "display_data"
    },
    {
     "data": {
      "text/html": [
       "<pre style=\"white-space:pre;overflow-x:auto;line-height:normal;font-family:Menlo,'DejaVu Sans Mono',consolas,'Courier New',monospace\">Trained DQN model with loss: 1753593898342257136620474990592.0000\n",
       "</pre>\n"
      ],
      "text/plain": [
       "Trained DQN model with loss: 1753593898342257136620474990592.0000\n"
      ]
     },
     "metadata": {},
     "output_type": "display_data"
    },
    {
     "data": {
      "text/html": [
       "<pre style=\"white-space:pre;overflow-x:auto;line-height:normal;font-family:Menlo,'DejaVu Sans Mono',consolas,'Courier New',monospace\">Trained DQN model with loss: 1373083438808460441081178226688.0000\n",
       "</pre>\n"
      ],
      "text/plain": [
       "Trained DQN model with loss: 1373083438808460441081178226688.0000\n"
      ]
     },
     "metadata": {},
     "output_type": "display_data"
    },
    {
     "data": {
      "text/html": [
       "<pre style=\"white-space:pre;overflow-x:auto;line-height:normal;font-family:Menlo,'DejaVu Sans Mono',consolas,'Courier New',monospace\">Trained DQN model with loss: 1812346030902526144396079923200.0000\n",
       "</pre>\n"
      ],
      "text/plain": [
       "Trained DQN model with loss: 1812346030902526144396079923200.0000\n"
      ]
     },
     "metadata": {},
     "output_type": "display_data"
    },
    {
     "data": {
      "text/html": [
       "<pre style=\"white-space:pre;overflow-x:auto;line-height:normal;font-family:Menlo,'DejaVu Sans Mono',consolas,'Courier New',monospace\">Trained DQN model with loss: 1589062721070164949830488555520.0000\n",
       "</pre>\n"
      ],
      "text/plain": [
       "Trained DQN model with loss: 1589062721070164949830488555520.0000\n"
      ]
     },
     "metadata": {},
     "output_type": "display_data"
    },
    {
     "data": {
      "text/html": [
       "<pre style=\"white-space:pre;overflow-x:auto;line-height:normal;font-family:Menlo,'DejaVu Sans Mono',consolas,'Courier New',monospace\">Trained DQN model with loss: 1745156351699984284124260073472.0000\n",
       "</pre>\n"
      ],
      "text/plain": [
       "Trained DQN model with loss: 1745156351699984284124260073472.0000\n"
      ]
     },
     "metadata": {},
     "output_type": "display_data"
    },
    {
     "data": {
      "text/html": [
       "<pre style=\"white-space:pre;overflow-x:auto;line-height:normal;font-family:Menlo,'DejaVu Sans Mono',consolas,'Courier New',monospace\">Trained DQN model with loss: 1716472471009442881353300312064.0000\n",
       "</pre>\n"
      ],
      "text/plain": [
       "Trained DQN model with loss: 1716472471009442881353300312064.0000\n"
      ]
     },
     "metadata": {},
     "output_type": "display_data"
    },
    {
     "data": {
      "text/html": [
       "<pre style=\"white-space:pre;overflow-x:auto;line-height:normal;font-family:Menlo,'DejaVu Sans Mono',consolas,'Courier New',monospace\">Trained DQN model with loss: 1527013394452624492809519366144.0000\n",
       "</pre>\n"
      ],
      "text/plain": [
       "Trained DQN model with loss: 1527013394452624492809519366144.0000\n"
      ]
     },
     "metadata": {},
     "output_type": "display_data"
    },
    {
     "data": {
      "text/html": [
       "<pre style=\"white-space:pre;overflow-x:auto;line-height:normal;font-family:Menlo,'DejaVu Sans Mono',consolas,'Courier New',monospace\">Trained DQN model with loss: 1629012732589422533709182009344.0000\n",
       "</pre>\n"
      ],
      "text/plain": [
       "Trained DQN model with loss: 1629012732589422533709182009344.0000\n"
      ]
     },
     "metadata": {},
     "output_type": "display_data"
    },
    {
     "data": {
      "text/html": [
       "<pre style=\"white-space:pre;overflow-x:auto;line-height:normal;font-family:Menlo,'DejaVu Sans Mono',consolas,'Courier New',monospace\">Trained DQN model with loss: 2036031459685636654990907932672.0000\n",
       "</pre>\n"
      ],
      "text/plain": [
       "Trained DQN model with loss: 2036031459685636654990907932672.0000\n"
      ]
     },
     "metadata": {},
     "output_type": "display_data"
    },
    {
     "data": {
      "text/html": [
       "<pre style=\"white-space:pre;overflow-x:auto;line-height:normal;font-family:Menlo,'DejaVu Sans Mono',consolas,'Courier New',monospace\">Trained DQN model with loss: 1749375200578984436286690951168.0000\n",
       "</pre>\n"
      ],
      "text/plain": [
       "Trained DQN model with loss: 1749375200578984436286690951168.0000\n"
      ]
     },
     "metadata": {},
     "output_type": "display_data"
    },
    {
     "data": {
      "text/html": [
       "<pre style=\"white-space:pre;overflow-x:auto;line-height:normal;font-family:Menlo,'DejaVu Sans Mono',consolas,'Courier New',monospace\">Trained DQN model with loss: 1648700089561846769819272085504.0000\n",
       "</pre>\n"
      ],
      "text/plain": [
       "Trained DQN model with loss: 1648700089561846769819272085504.0000\n"
      ]
     },
     "metadata": {},
     "output_type": "display_data"
    },
    {
     "data": {
      "text/html": [
       "<pre style=\"white-space:pre;overflow-x:auto;line-height:normal;font-family:Menlo,'DejaVu Sans Mono',consolas,'Courier New',monospace\">Trained DQN model with loss: 1721250145848559895851739119616.0000\n",
       "</pre>\n"
      ],
      "text/plain": [
       "Trained DQN model with loss: 1721250145848559895851739119616.0000\n"
      ]
     },
     "metadata": {},
     "output_type": "display_data"
    },
    {
     "data": {
      "text/html": [
       "<pre style=\"white-space:pre;overflow-x:auto;line-height:normal;font-family:Menlo,'DejaVu Sans Mono',consolas,'Courier New',monospace\">Trained DQN model with loss: 1521277343670007981032832237568.0000\n",
       "</pre>\n"
      ],
      "text/plain": [
       "Trained DQN model with loss: 1521277343670007981032832237568.0000\n"
      ]
     },
     "metadata": {},
     "output_type": "display_data"
    },
    {
     "data": {
      "text/html": [
       "<pre style=\"white-space:pre;overflow-x:auto;line-height:normal;font-family:Menlo,'DejaVu Sans Mono',consolas,'Courier New',monospace\">Trained DQN model with loss: 1501111252073016351769558515712.0000\n",
       "</pre>\n"
      ],
      "text/plain": [
       "Trained DQN model with loss: 1501111252073016351769558515712.0000\n"
      ]
     },
     "metadata": {},
     "output_type": "display_data"
    },
    {
     "data": {
      "text/html": [
       "<pre style=\"white-space:pre;overflow-x:auto;line-height:normal;font-family:Menlo,'DejaVu Sans Mono',consolas,'Courier New',monospace\">Trained DQN model with loss: 1672348189750783434762993270784.0000\n",
       "</pre>\n"
      ],
      "text/plain": [
       "Trained DQN model with loss: 1672348189750783434762993270784.0000\n"
      ]
     },
     "metadata": {},
     "output_type": "display_data"
    },
    {
     "data": {
      "text/html": [
       "<pre style=\"white-space:pre;overflow-x:auto;line-height:normal;font-family:Menlo,'DejaVu Sans Mono',consolas,'Courier New',monospace\">Trained DQN model with loss: 1650173770135957002783238914048.0000\n",
       "</pre>\n"
      ],
      "text/plain": [
       "Trained DQN model with loss: 1650173770135957002783238914048.0000\n"
      ]
     },
     "metadata": {},
     "output_type": "display_data"
    },
    {
     "data": {
      "text/html": [
       "<pre style=\"white-space:pre;overflow-x:auto;line-height:normal;font-family:Menlo,'DejaVu Sans Mono',consolas,'Courier New',monospace\">Trained DQN model with loss: 1943437715541167880899106177024.0000\n",
       "</pre>\n"
      ],
      "text/plain": [
       "Trained DQN model with loss: 1943437715541167880899106177024.0000\n"
      ]
     },
     "metadata": {},
     "output_type": "display_data"
    },
    {
     "data": {
      "text/html": [
       "<pre style=\"white-space:pre;overflow-x:auto;line-height:normal;font-family:Menlo,'DejaVu Sans Mono',consolas,'Courier New',monospace\">Trained DQN model with loss: 2596746064164191945427022512128.0000\n",
       "</pre>\n"
      ],
      "text/plain": [
       "Trained DQN model with loss: 2596746064164191945427022512128.0000\n"
      ]
     },
     "metadata": {},
     "output_type": "display_data"
    },
    {
     "data": {
      "text/html": [
       "<pre style=\"white-space:pre;overflow-x:auto;line-height:normal;font-family:Menlo,'DejaVu Sans Mono',consolas,'Courier New',monospace\">Trained DQN model with loss: 2021098203498846948110349893632.0000\n",
       "</pre>\n"
      ],
      "text/plain": [
       "Trained DQN model with loss: 2021098203498846948110349893632.0000\n"
      ]
     },
     "metadata": {},
     "output_type": "display_data"
    },
    {
     "data": {
      "text/html": [
       "<pre style=\"white-space:pre;overflow-x:auto;line-height:normal;font-family:Menlo,'DejaVu Sans Mono',consolas,'Courier New',monospace\">Trained DQN model with loss: 1948819248827182402670310719488.0000\n",
       "</pre>\n"
      ],
      "text/plain": [
       "Trained DQN model with loss: 1948819248827182402670310719488.0000\n"
      ]
     },
     "metadata": {},
     "output_type": "display_data"
    },
    {
     "data": {
      "text/html": [
       "<pre style=\"white-space:pre;overflow-x:auto;line-height:normal;font-family:Menlo,'DejaVu Sans Mono',consolas,'Courier New',monospace\">Trained DQN model with loss: 2022210113021437503293785899008.0000\n",
       "</pre>\n"
      ],
      "text/plain": [
       "Trained DQN model with loss: 2022210113021437503293785899008.0000\n"
      ]
     },
     "metadata": {},
     "output_type": "display_data"
    },
    {
     "data": {
      "text/html": [
       "<pre style=\"white-space:pre;overflow-x:auto;line-height:normal;font-family:Menlo,'DejaVu Sans Mono',consolas,'Courier New',monospace\">Trained DQN model with loss: 1761418972941167727611054391296.0000\n",
       "</pre>\n"
      ],
      "text/plain": [
       "Trained DQN model with loss: 1761418972941167727611054391296.0000\n"
      ]
     },
     "metadata": {},
     "output_type": "display_data"
    },
    {
     "data": {
      "text/html": [
       "<pre style=\"white-space:pre;overflow-x:auto;line-height:normal;font-family:Menlo,'DejaVu Sans Mono',consolas,'Courier New',monospace\">Trained DQN model with loss: 2131875249780411907790260404224.0000\n",
       "</pre>\n"
      ],
      "text/plain": [
       "Trained DQN model with loss: 2131875249780411907790260404224.0000\n"
      ]
     },
     "metadata": {},
     "output_type": "display_data"
    },
    {
     "data": {
      "text/html": [
       "<pre style=\"white-space:pre;overflow-x:auto;line-height:normal;font-family:Menlo,'DejaVu Sans Mono',consolas,'Courier New',monospace\">Trained DQN model with loss: 2086277287947642228235986534400.0000\n",
       "</pre>\n"
      ],
      "text/plain": [
       "Trained DQN model with loss: 2086277287947642228235986534400.0000\n"
      ]
     },
     "metadata": {},
     "output_type": "display_data"
    },
    {
     "data": {
      "text/html": [
       "<pre style=\"white-space:pre;overflow-x:auto;line-height:normal;font-family:Menlo,'DejaVu Sans Mono',consolas,'Courier New',monospace\">Trained DQN model with loss: 1773100974251831341154887008256.0000\n",
       "</pre>\n"
      ],
      "text/plain": [
       "Trained DQN model with loss: 1773100974251831341154887008256.0000\n"
      ]
     },
     "metadata": {},
     "output_type": "display_data"
    },
    {
     "data": {
      "text/html": [
       "<pre style=\"white-space:pre;overflow-x:auto;line-height:normal;font-family:Menlo,'DejaVu Sans Mono',consolas,'Courier New',monospace\">Trained DQN model with loss: 1925634922805795399843736190976.0000\n",
       "</pre>\n"
      ],
      "text/plain": [
       "Trained DQN model with loss: 1925634922805795399843736190976.0000\n"
      ]
     },
     "metadata": {},
     "output_type": "display_data"
    },
    {
     "data": {
      "text/html": [
       "<pre style=\"white-space:pre;overflow-x:auto;line-height:normal;font-family:Menlo,'DejaVu Sans Mono',consolas,'Courier New',monospace\">Trained DQN model with loss: 1563750081143346392341843804160.0000\n",
       "</pre>\n"
      ],
      "text/plain": [
       "Trained DQN model with loss: 1563750081143346392341843804160.0000\n"
      ]
     },
     "metadata": {},
     "output_type": "display_data"
    },
    {
     "data": {
      "text/html": [
       "<pre style=\"white-space:pre;overflow-x:auto;line-height:normal;font-family:Menlo,'DejaVu Sans Mono',consolas,'Courier New',monospace\">Trained DQN model with loss: 2058750198150744573756573745152.0000\n",
       "</pre>\n"
      ],
      "text/plain": [
       "Trained DQN model with loss: 2058750198150744573756573745152.0000\n"
      ]
     },
     "metadata": {},
     "output_type": "display_data"
    },
    {
     "data": {
      "text/html": [
       "<pre style=\"white-space:pre;overflow-x:auto;line-height:normal;font-family:Menlo,'DejaVu Sans Mono',consolas,'Courier New',monospace\">Trained DQN model with loss: 1769705101624533847803137359872.0000\n",
       "</pre>\n"
      ],
      "text/plain": [
       "Trained DQN model with loss: 1769705101624533847803137359872.0000\n"
      ]
     },
     "metadata": {},
     "output_type": "display_data"
    },
    {
     "data": {
      "text/html": [
       "<pre style=\"white-space:pre;overflow-x:auto;line-height:normal;font-family:Menlo,'DejaVu Sans Mono',consolas,'Courier New',monospace\">Trained DQN model with loss: 1912710599099750302994246139904.0000\n",
       "</pre>\n"
      ],
      "text/plain": [
       "Trained DQN model with loss: 1912710599099750302994246139904.0000\n"
      ]
     },
     "metadata": {},
     "output_type": "display_data"
    },
    {
     "data": {
      "text/html": [
       "<pre style=\"white-space:pre;overflow-x:auto;line-height:normal;font-family:Menlo,'DejaVu Sans Mono',consolas,'Courier New',monospace\">Trained DQN model with loss: 2399125227167700291667506495488.0000\n",
       "</pre>\n"
      ],
      "text/plain": [
       "Trained DQN model with loss: 2399125227167700291667506495488.0000\n"
      ]
     },
     "metadata": {},
     "output_type": "display_data"
    },
    {
     "data": {
      "text/html": [
       "<pre style=\"white-space:pre;overflow-x:auto;line-height:normal;font-family:Menlo,'DejaVu Sans Mono',consolas,'Courier New',monospace\">Trained DQN model with loss: 2416892507707121592990869487616.0000\n",
       "</pre>\n"
      ],
      "text/plain": [
       "Trained DQN model with loss: 2416892507707121592990869487616.0000\n"
      ]
     },
     "metadata": {},
     "output_type": "display_data"
    },
    {
     "data": {
      "text/html": [
       "<pre style=\"white-space:pre;overflow-x:auto;line-height:normal;font-family:Menlo,'DejaVu Sans Mono',consolas,'Courier New',monospace\">Trained DQN model with loss: 2026912532228283507126099247104.0000\n",
       "</pre>\n"
      ],
      "text/plain": [
       "Trained DQN model with loss: 2026912532228283507126099247104.0000\n"
      ]
     },
     "metadata": {},
     "output_type": "display_data"
    },
    {
     "data": {
      "text/html": [
       "<pre style=\"white-space:pre;overflow-x:auto;line-height:normal;font-family:Menlo,'DejaVu Sans Mono',consolas,'Courier New',monospace\">Trained DQN model with loss: 2076433609461430110180941496320.0000\n",
       "</pre>\n"
      ],
      "text/plain": [
       "Trained DQN model with loss: 2076433609461430110180941496320.0000\n"
      ]
     },
     "metadata": {},
     "output_type": "display_data"
    },
    {
     "data": {
      "text/html": [
       "<pre style=\"white-space:pre;overflow-x:auto;line-height:normal;font-family:Menlo,'DejaVu Sans Mono',consolas,'Courier New',monospace\">Trained DQN model with loss: 2089687818800502548966479495168.0000\n",
       "</pre>\n"
      ],
      "text/plain": [
       "Trained DQN model with loss: 2089687818800502548966479495168.0000\n"
      ]
     },
     "metadata": {},
     "output_type": "display_data"
    },
    {
     "data": {
      "text/html": [
       "<pre style=\"white-space:pre;overflow-x:auto;line-height:normal;font-family:Menlo,'DejaVu Sans Mono',consolas,'Courier New',monospace\">Trained DQN model with loss: 1769062557551408672396781027328.0000\n",
       "</pre>\n"
      ],
      "text/plain": [
       "Trained DQN model with loss: 1769062557551408672396781027328.0000\n"
      ]
     },
     "metadata": {},
     "output_type": "display_data"
    },
    {
     "data": {
      "text/html": [
       "<pre style=\"white-space:pre;overflow-x:auto;line-height:normal;font-family:Menlo,'DejaVu Sans Mono',consolas,'Courier New',monospace\">Trained DQN model with loss: 1636043845156301216989273128960.0000\n",
       "</pre>\n"
      ],
      "text/plain": [
       "Trained DQN model with loss: 1636043845156301216989273128960.0000\n"
      ]
     },
     "metadata": {},
     "output_type": "display_data"
    },
    {
     "data": {
      "text/html": [
       "<pre style=\"white-space:pre;overflow-x:auto;line-height:normal;font-family:Menlo,'DejaVu Sans Mono',consolas,'Courier New',monospace\">Trained DQN model with loss: 2096500266909758436194595635200.0000\n",
       "</pre>\n"
      ],
      "text/plain": [
       "Trained DQN model with loss: 2096500266909758436194595635200.0000\n"
      ]
     },
     "metadata": {},
     "output_type": "display_data"
    },
    {
     "data": {
      "text/html": [
       "<pre style=\"white-space:pre;overflow-x:auto;line-height:normal;font-family:Menlo,'DejaVu Sans Mono',consolas,'Courier New',monospace\">Trained DQN model with loss: 1835244294851846835594189602816.0000\n",
       "</pre>\n"
      ],
      "text/plain": [
       "Trained DQN model with loss: 1835244294851846835594189602816.0000\n"
      ]
     },
     "metadata": {},
     "output_type": "display_data"
    },
    {
     "data": {
      "text/html": [
       "<pre style=\"white-space:pre;overflow-x:auto;line-height:normal;font-family:Menlo,'DejaVu Sans Mono',consolas,'Courier New',monospace\">Trained DQN model with loss: 1866902284174367677963573395456.0000\n",
       "</pre>\n"
      ],
      "text/plain": [
       "Trained DQN model with loss: 1866902284174367677963573395456.0000\n"
      ]
     },
     "metadata": {},
     "output_type": "display_data"
    },
    {
     "data": {
      "text/html": [
       "<pre style=\"white-space:pre;overflow-x:auto;line-height:normal;font-family:Menlo,'DejaVu Sans Mono',consolas,'Courier New',monospace\">Trained DQN model with loss: 1890642564957049958381865926656.0000\n",
       "</pre>\n"
      ],
      "text/plain": [
       "Trained DQN model with loss: 1890642564957049958381865926656.0000\n"
      ]
     },
     "metadata": {},
     "output_type": "display_data"
    },
    {
     "data": {
      "text/html": [
       "<pre style=\"white-space:pre;overflow-x:auto;line-height:normal;font-family:Menlo,'DejaVu Sans Mono',consolas,'Courier New',monospace\">Trained DQN model with loss: 2047588034942515250757864783872.0000\n",
       "</pre>\n"
      ],
      "text/plain": [
       "Trained DQN model with loss: 2047588034942515250757864783872.0000\n"
      ]
     },
     "metadata": {},
     "output_type": "display_data"
    },
    {
     "data": {
      "text/html": [
       "<pre style=\"white-space:pre;overflow-x:auto;line-height:normal;font-family:Menlo,'DejaVu Sans Mono',consolas,'Courier New',monospace\">Trained DQN model with loss: 2307656388498382930022768836608.0000\n",
       "</pre>\n"
      ],
      "text/plain": [
       "Trained DQN model with loss: 2307656388498382930022768836608.0000\n"
      ]
     },
     "metadata": {},
     "output_type": "display_data"
    },
    {
     "data": {
      "text/html": [
       "<pre style=\"white-space:pre;overflow-x:auto;line-height:normal;font-family:Menlo,'DejaVu Sans Mono',consolas,'Courier New',monospace\">Trained DQN model with loss: 1668484009484112724434691817472.0000\n",
       "</pre>\n"
      ],
      "text/plain": [
       "Trained DQN model with loss: 1668484009484112724434691817472.0000\n"
      ]
     },
     "metadata": {},
     "output_type": "display_data"
    },
    {
     "data": {
      "text/html": [
       "<pre style=\"white-space:pre;overflow-x:auto;line-height:normal;font-family:Menlo,'DejaVu Sans Mono',consolas,'Courier New',monospace\">Trained DQN model with loss: 1627673847244199331898194919424.0000\n",
       "</pre>\n"
      ],
      "text/plain": [
       "Trained DQN model with loss: 1627673847244199331898194919424.0000\n"
      ]
     },
     "metadata": {},
     "output_type": "display_data"
    },
    {
     "data": {
      "text/html": [
       "<pre style=\"white-space:pre;overflow-x:auto;line-height:normal;font-family:Menlo,'DejaVu Sans Mono',consolas,'Courier New',monospace\">Trained DQN model with loss: 1873933547856973813072311353344.0000\n",
       "</pre>\n"
      ],
      "text/plain": [
       "Trained DQN model with loss: 1873933547856973813072311353344.0000\n"
      ]
     },
     "metadata": {},
     "output_type": "display_data"
    },
    {
     "data": {
      "text/html": [
       "<pre style=\"white-space:pre;overflow-x:auto;line-height:normal;font-family:Menlo,'DejaVu Sans Mono',consolas,'Courier New',monospace\">Trained DQN model with loss: 2194705089130241059772149268480.0000\n",
       "</pre>\n"
      ],
      "text/plain": [
       "Trained DQN model with loss: 2194705089130241059772149268480.0000\n"
      ]
     },
     "metadata": {},
     "output_type": "display_data"
    },
    {
     "data": {
      "text/html": [
       "<pre style=\"white-space:pre;overflow-x:auto;line-height:normal;font-family:Menlo,'DejaVu Sans Mono',consolas,'Courier New',monospace\">Trained DQN model with loss: 1825600240241598583181617922048.0000\n",
       "</pre>\n"
      ],
      "text/plain": [
       "Trained DQN model with loss: 1825600240241598583181617922048.0000\n"
      ]
     },
     "metadata": {},
     "output_type": "display_data"
    },
    {
     "data": {
      "text/html": [
       "<pre style=\"white-space:pre;overflow-x:auto;line-height:normal;font-family:Menlo,'DejaVu Sans Mono',consolas,'Courier New',monospace\">Trained DQN model with loss: 1998956424881150111118312603648.0000\n",
       "</pre>\n"
      ],
      "text/plain": [
       "Trained DQN model with loss: 1998956424881150111118312603648.0000\n"
      ]
     },
     "metadata": {},
     "output_type": "display_data"
    },
    {
     "data": {
      "text/html": [
       "<pre style=\"white-space:pre;overflow-x:auto;line-height:normal;font-family:Menlo,'DejaVu Sans Mono',consolas,'Courier New',monospace\">Trained DQN model with loss: 1742343936896378301177952993280.0000\n",
       "</pre>\n"
      ],
      "text/plain": [
       "Trained DQN model with loss: 1742343936896378301177952993280.0000\n"
      ]
     },
     "metadata": {},
     "output_type": "display_data"
    },
    {
     "data": {
      "text/html": [
       "<pre style=\"white-space:pre;overflow-x:auto;line-height:normal;font-family:Menlo,'DejaVu Sans Mono',consolas,'Courier New',monospace\">Trained DQN model with loss: 1811250139647045483049208774656.0000\n",
       "</pre>\n"
      ],
      "text/plain": [
       "Trained DQN model with loss: 1811250139647045483049208774656.0000\n"
      ]
     },
     "metadata": {},
     "output_type": "display_data"
    },
    {
     "data": {
      "text/html": [
       "<pre style=\"white-space:pre;overflow-x:auto;line-height:normal;font-family:Menlo,'DejaVu Sans Mono',consolas,'Courier New',monospace\">Trained DQN model with loss: 1933681835292605275287874174976.0000\n",
       "</pre>\n"
      ],
      "text/plain": [
       "Trained DQN model with loss: 1933681835292605275287874174976.0000\n"
      ]
     },
     "metadata": {},
     "output_type": "display_data"
    },
    {
     "data": {
      "text/html": [
       "<pre style=\"white-space:pre;overflow-x:auto;line-height:normal;font-family:Menlo,'DejaVu Sans Mono',consolas,'Courier New',monospace\">Trained DQN model with loss: 2106252218149407294261009842176.0000\n",
       "</pre>\n"
      ],
      "text/plain": [
       "Trained DQN model with loss: 2106252218149407294261009842176.0000\n"
      ]
     },
     "metadata": {},
     "output_type": "display_data"
    },
    {
     "data": {
      "text/html": [
       "<pre style=\"white-space:pre;overflow-x:auto;line-height:normal;font-family:Menlo,'DejaVu Sans Mono',consolas,'Courier New',monospace\">Trained DQN model with loss: 2244375166470655165872774053888.0000\n",
       "</pre>\n"
      ],
      "text/plain": [
       "Trained DQN model with loss: 2244375166470655165872774053888.0000\n"
      ]
     },
     "metadata": {},
     "output_type": "display_data"
    },
    {
     "data": {
      "text/html": [
       "<pre style=\"white-space:pre;overflow-x:auto;line-height:normal;font-family:Menlo,'DejaVu Sans Mono',consolas,'Courier New',monospace\">Trained DQN model with loss: 1899883140575001828307379421184.0000\n",
       "</pre>\n"
      ],
      "text/plain": [
       "Trained DQN model with loss: 1899883140575001828307379421184.0000\n"
      ]
     },
     "metadata": {},
     "output_type": "display_data"
    },
    {
     "data": {
      "text/html": [
       "<pre style=\"white-space:pre;overflow-x:auto;line-height:normal;font-family:Menlo,'DejaVu Sans Mono',consolas,'Courier New',monospace\">Trained DQN model with loss: 2226093941342170195321514098688.0000\n",
       "</pre>\n"
      ],
      "text/plain": [
       "Trained DQN model with loss: 2226093941342170195321514098688.0000\n"
      ]
     },
     "metadata": {},
     "output_type": "display_data"
    },
    {
     "data": {
      "text/html": [
       "<pre style=\"white-space:pre;overflow-x:auto;line-height:normal;font-family:Menlo,'DejaVu Sans Mono',consolas,'Courier New',monospace\">Trained DQN model with loss: 2145937626029896726179089481728.0000\n",
       "</pre>\n"
      ],
      "text/plain": [
       "Trained DQN model with loss: 2145937626029896726179089481728.0000\n"
      ]
     },
     "metadata": {},
     "output_type": "display_data"
    },
    {
     "data": {
      "text/html": [
       "<pre style=\"white-space:pre;overflow-x:auto;line-height:normal;font-family:Menlo,'DejaVu Sans Mono',consolas,'Courier New',monospace\">Trained DQN model with loss: 2158369010232993957982593089536.0000\n",
       "</pre>\n"
      ],
      "text/plain": [
       "Trained DQN model with loss: 2158369010232993957982593089536.0000\n"
      ]
     },
     "metadata": {},
     "output_type": "display_data"
    },
    {
     "data": {
      "text/html": [
       "<pre style=\"white-space:pre;overflow-x:auto;line-height:normal;font-family:Menlo,'DejaVu Sans Mono',consolas,'Courier New',monospace\">Trained DQN model with loss: 2392509833967041588994867462144.0000\n",
       "</pre>\n"
      ],
      "text/plain": [
       "Trained DQN model with loss: 2392509833967041588994867462144.0000\n"
      ]
     },
     "metadata": {},
     "output_type": "display_data"
    },
    {
     "data": {
      "text/html": [
       "<pre style=\"white-space:pre;overflow-x:auto;line-height:normal;font-family:Menlo,'DejaVu Sans Mono',consolas,'Courier New',monospace\">Trained DQN model with loss: 1335937681843526441401862586368.0000\n",
       "</pre>\n"
      ],
      "text/plain": [
       "Trained DQN model with loss: 1335937681843526441401862586368.0000\n"
      ]
     },
     "metadata": {},
     "output_type": "display_data"
    },
    {
     "data": {
      "text/html": [
       "<pre style=\"white-space:pre;overflow-x:auto;line-height:normal;font-family:Menlo,'DejaVu Sans Mono',consolas,'Courier New',monospace\">Trained DQN model with loss: 2074802315183587619938322350080.0000\n",
       "</pre>\n"
      ],
      "text/plain": [
       "Trained DQN model with loss: 2074802315183587619938322350080.0000\n"
      ]
     },
     "metadata": {},
     "output_type": "display_data"
    },
    {
     "data": {
      "text/html": [
       "<pre style=\"white-space:pre;overflow-x:auto;line-height:normal;font-family:Menlo,'DejaVu Sans Mono',consolas,'Courier New',monospace\">Trained DQN model with loss: 1552837561116867490267711668224.0000\n",
       "</pre>\n"
      ],
      "text/plain": [
       "Trained DQN model with loss: 1552837561116867490267711668224.0000\n"
      ]
     },
     "metadata": {},
     "output_type": "display_data"
    },
    {
     "data": {
      "text/html": [
       "<pre style=\"white-space:pre;overflow-x:auto;line-height:normal;font-family:Menlo,'DejaVu Sans Mono',consolas,'Courier New',monospace\">Trained DQN model with loss: 1488100187939413905276783296512.0000\n",
       "</pre>\n"
      ],
      "text/plain": [
       "Trained DQN model with loss: 1488100187939413905276783296512.0000\n"
      ]
     },
     "metadata": {},
     "output_type": "display_data"
    },
    {
     "data": {
      "text/html": [
       "<pre style=\"white-space:pre;overflow-x:auto;line-height:normal;font-family:Menlo,'DejaVu Sans Mono',consolas,'Courier New',monospace\">Trained DQN model with loss: 1541537580365202099543086202880.0000\n",
       "</pre>\n"
      ],
      "text/plain": [
       "Trained DQN model with loss: 1541537580365202099543086202880.0000\n"
      ]
     },
     "metadata": {},
     "output_type": "display_data"
    },
    {
     "data": {
      "text/html": [
       "<pre style=\"white-space:pre;overflow-x:auto;line-height:normal;font-family:Menlo,'DejaVu Sans Mono',consolas,'Courier New',monospace\">Trained DQN model with loss: 1575000042589225227784365801472.0000\n",
       "</pre>\n"
      ],
      "text/plain": [
       "Trained DQN model with loss: 1575000042589225227784365801472.0000\n"
      ]
     },
     "metadata": {},
     "output_type": "display_data"
    },
    {
     "data": {
      "text/html": [
       "<pre style=\"white-space:pre;overflow-x:auto;line-height:normal;font-family:Menlo,'DejaVu Sans Mono',consolas,'Courier New',monospace\">Trained DQN model with loss: 1492031312473345775695634104320.0000\n",
       "</pre>\n"
      ],
      "text/plain": [
       "Trained DQN model with loss: 1492031312473345775695634104320.0000\n"
      ]
     },
     "metadata": {},
     "output_type": "display_data"
    },
    {
     "data": {
      "text/html": [
       "<pre style=\"white-space:pre;overflow-x:auto;line-height:normal;font-family:Menlo,'DejaVu Sans Mono',consolas,'Courier New',monospace\">Trained DQN model with loss: 1966636246440935355618483503104.0000\n",
       "</pre>\n"
      ],
      "text/plain": [
       "Trained DQN model with loss: 1966636246440935355618483503104.0000\n"
      ]
     },
     "metadata": {},
     "output_type": "display_data"
    },
    {
     "data": {
      "text/html": [
       "<pre style=\"white-space:pre;overflow-x:auto;line-height:normal;font-family:Menlo,'DejaVu Sans Mono',consolas,'Courier New',monospace\">Trained DQN model with loss: 1562822381692519616278903652352.0000\n",
       "</pre>\n"
      ],
      "text/plain": [
       "Trained DQN model with loss: 1562822381692519616278903652352.0000\n"
      ]
     },
     "metadata": {},
     "output_type": "display_data"
    },
    {
     "data": {
      "text/html": [
       "<pre style=\"white-space:pre;overflow-x:auto;line-height:normal;font-family:Menlo,'DejaVu Sans Mono',consolas,'Courier New',monospace\">Trained DQN model with loss: 2477048807606872992552895643648.0000\n",
       "</pre>\n"
      ],
      "text/plain": [
       "Trained DQN model with loss: 2477048807606872992552895643648.0000\n"
      ]
     },
     "metadata": {},
     "output_type": "display_data"
    },
    {
     "data": {
      "text/html": [
       "<pre style=\"white-space:pre;overflow-x:auto;line-height:normal;font-family:Menlo,'DejaVu Sans Mono',consolas,'Courier New',monospace\">Trained DQN model with loss: 1571850186366219311469668859904.0000\n",
       "</pre>\n"
      ],
      "text/plain": [
       "Trained DQN model with loss: 1571850186366219311469668859904.0000\n"
      ]
     },
     "metadata": {},
     "output_type": "display_data"
    },
    {
     "data": {
      "text/html": [
       "<pre style=\"white-space:pre;overflow-x:auto;line-height:normal;font-family:Menlo,'DejaVu Sans Mono',consolas,'Courier New',monospace\">Trained DQN model with loss: 2090688053800506202779902017536.0000\n",
       "</pre>\n"
      ],
      "text/plain": [
       "Trained DQN model with loss: 2090688053800506202779902017536.0000\n"
      ]
     },
     "metadata": {},
     "output_type": "display_data"
    },
    {
     "data": {
      "text/html": [
       "<pre style=\"white-space:pre;overflow-x:auto;line-height:normal;font-family:Menlo,'DejaVu Sans Mono',consolas,'Courier New',monospace\">Trained DQN model with loss: 1622214942705729473859809181696.0000\n",
       "</pre>\n"
      ],
      "text/plain": [
       "Trained DQN model with loss: 1622214942705729473859809181696.0000\n"
      ]
     },
     "metadata": {},
     "output_type": "display_data"
    },
    {
     "data": {
      "text/html": [
       "<pre style=\"white-space:pre;overflow-x:auto;line-height:normal;font-family:Menlo,'DejaVu Sans Mono',consolas,'Courier New',monospace\">Trained DQN model with loss: 1865496001214700960576096436224.0000\n",
       "</pre>\n"
      ],
      "text/plain": [
       "Trained DQN model with loss: 1865496001214700960576096436224.0000\n"
      ]
     },
     "metadata": {},
     "output_type": "display_data"
    },
    {
     "data": {
      "text/html": [
       "<pre style=\"white-space:pre;overflow-x:auto;line-height:normal;font-family:Menlo,'DejaVu Sans Mono',consolas,'Courier New',monospace\">Trained DQN model with loss: 1589062569954437498001841717248.0000\n",
       "</pre>\n"
      ],
      "text/plain": [
       "Trained DQN model with loss: 1589062569954437498001841717248.0000\n"
      ]
     },
     "metadata": {},
     "output_type": "display_data"
    },
    {
     "data": {
      "text/html": [
       "<pre style=\"white-space:pre;overflow-x:auto;line-height:normal;font-family:Menlo,'DejaVu Sans Mono',consolas,'Courier New',monospace\">Trained DQN model with loss: 1901537706674871900161611661312.0000\n",
       "</pre>\n"
      ],
      "text/plain": [
       "Trained DQN model with loss: 1901537706674871900161611661312.0000\n"
      ]
     },
     "metadata": {},
     "output_type": "display_data"
    },
    {
     "data": {
      "text/html": [
       "<pre style=\"white-space:pre;overflow-x:auto;line-height:normal;font-family:Menlo,'DejaVu Sans Mono',consolas,'Courier New',monospace\">Trained DQN model with loss: 1742527240273777369326567817216.0000\n",
       "</pre>\n"
      ],
      "text/plain": [
       "Trained DQN model with loss: 1742527240273777369326567817216.0000\n"
      ]
     },
     "metadata": {},
     "output_type": "display_data"
    },
    {
     "data": {
      "text/html": [
       "<pre style=\"white-space:pre;overflow-x:auto;line-height:normal;font-family:Menlo,'DejaVu Sans Mono',consolas,'Courier New',monospace\">Trained DQN model with loss: 1561443752910976583533798096896.0000\n",
       "</pre>\n"
      ],
      "text/plain": [
       "Trained DQN model with loss: 1561443752910976583533798096896.0000\n"
      ]
     },
     "metadata": {},
     "output_type": "display_data"
    },
    {
     "data": {
      "text/html": [
       "<pre style=\"white-space:pre;overflow-x:auto;line-height:normal;font-family:Menlo,'DejaVu Sans Mono',consolas,'Courier New',monospace\">Trained DQN model with loss: 1715227881878149620617940303872.0000\n",
       "</pre>\n"
      ],
      "text/plain": [
       "Trained DQN model with loss: 1715227881878149620617940303872.0000\n"
      ]
     },
     "metadata": {},
     "output_type": "display_data"
    },
    {
     "data": {
      "text/html": [
       "<pre style=\"white-space:pre;overflow-x:auto;line-height:normal;font-family:Menlo,'DejaVu Sans Mono',consolas,'Courier New',monospace\">Trained DQN model with loss: 1974558488452597472428979912704.0000\n",
       "</pre>\n"
      ],
      "text/plain": [
       "Trained DQN model with loss: 1974558488452597472428979912704.0000\n"
      ]
     },
     "metadata": {},
     "output_type": "display_data"
    },
    {
     "data": {
      "text/html": [
       "<pre style=\"white-space:pre;overflow-x:auto;line-height:normal;font-family:Menlo,'DejaVu Sans Mono',consolas,'Courier New',monospace\">Trained DQN model with loss: 2085756694266570678547628687360.0000\n",
       "</pre>\n"
      ],
      "text/plain": [
       "Trained DQN model with loss: 2085756694266570678547628687360.0000\n"
      ]
     },
     "metadata": {},
     "output_type": "display_data"
    },
    {
     "data": {
      "text/html": [
       "<pre style=\"white-space:pre;overflow-x:auto;line-height:normal;font-family:Menlo,'DejaVu Sans Mono',consolas,'Courier New',monospace\">Trained DQN model with loss: 1855218167243519738818685042688.0000\n",
       "</pre>\n"
      ],
      "text/plain": [
       "Trained DQN model with loss: 1855218167243519738818685042688.0000\n"
      ]
     },
     "metadata": {},
     "output_type": "display_data"
    },
    {
     "data": {
      "text/html": [
       "<pre style=\"white-space:pre;overflow-x:auto;line-height:normal;font-family:Menlo,'DejaVu Sans Mono',consolas,'Courier New',monospace\">Trained DQN model with loss: 2095594025892229819799506518016.0000\n",
       "</pre>\n"
      ],
      "text/plain": [
       "Trained DQN model with loss: 2095594025892229819799506518016.0000\n"
      ]
     },
     "metadata": {},
     "output_type": "display_data"
    },
    {
     "data": {
      "text/html": [
       "<pre style=\"white-space:pre;overflow-x:auto;line-height:normal;font-family:Menlo,'DejaVu Sans Mono',consolas,'Courier New',monospace\">Trained DQN model with loss: 1916902398263536577828892966912.0000\n",
       "</pre>\n"
      ],
      "text/plain": [
       "Trained DQN model with loss: 1916902398263536577828892966912.0000\n"
      ]
     },
     "metadata": {},
     "output_type": "display_data"
    },
    {
     "data": {
      "text/html": [
       "<pre style=\"white-space:pre;overflow-x:auto;line-height:normal;font-family:Menlo,'DejaVu Sans Mono',consolas,'Courier New',monospace\">Trained DQN model with loss: 1697382927854818079370102439936.0000\n",
       "</pre>\n"
      ],
      "text/plain": [
       "Trained DQN model with loss: 1697382927854818079370102439936.0000\n"
      ]
     },
     "metadata": {},
     "output_type": "display_data"
    },
    {
     "data": {
      "text/html": [
       "<pre style=\"white-space:pre;overflow-x:auto;line-height:normal;font-family:Menlo,'DejaVu Sans Mono',consolas,'Courier New',monospace\">Trained DQN model with loss: 1615160709432550660796751806464.0000\n",
       "</pre>\n"
      ],
      "text/plain": [
       "Trained DQN model with loss: 1615160709432550660796751806464.0000\n"
      ]
     },
     "metadata": {},
     "output_type": "display_data"
    },
    {
     "data": {
      "text/html": [
       "<pre style=\"white-space:pre;overflow-x:auto;line-height:normal;font-family:Menlo,'DejaVu Sans Mono',consolas,'Courier New',monospace\">Trained DQN model with loss: 1516892569722265721016172937216.0000\n",
       "</pre>\n"
      ],
      "text/plain": [
       "Trained DQN model with loss: 1516892569722265721016172937216.0000\n"
      ]
     },
     "metadata": {},
     "output_type": "display_data"
    },
    {
     "data": {
      "text/html": [
       "<pre style=\"white-space:pre;overflow-x:auto;line-height:normal;font-family:Menlo,'DejaVu Sans Mono',consolas,'Courier New',monospace\">Trained DQN model with loss: 2085468969921502396804048617472.0000\n",
       "</pre>\n"
      ],
      "text/plain": [
       "Trained DQN model with loss: 2085468969921502396804048617472.0000\n"
      ]
     },
     "metadata": {},
     "output_type": "display_data"
    },
    {
     "data": {
      "text/html": [
       "<pre style=\"white-space:pre;overflow-x:auto;line-height:normal;font-family:Menlo,'DejaVu Sans Mono',consolas,'Courier New',monospace\">Trained DQN model with loss: 1191902179569998322153904144384.0000\n",
       "</pre>\n"
      ],
      "text/plain": [
       "Trained DQN model with loss: 1191902179569998322153904144384.0000\n"
      ]
     },
     "metadata": {},
     "output_type": "display_data"
    },
    {
     "data": {
      "text/html": [
       "<pre style=\"white-space:pre;overflow-x:auto;line-height:normal;font-family:Menlo,'DejaVu Sans Mono',consolas,'Courier New',monospace\">Trained DQN model with loss: 1630027323583534111244054167552.0000\n",
       "</pre>\n"
      ],
      "text/plain": [
       "Trained DQN model with loss: 1630027323583534111244054167552.0000\n"
      ]
     },
     "metadata": {},
     "output_type": "display_data"
    },
    {
     "data": {
      "text/html": [
       "<pre style=\"white-space:pre;overflow-x:auto;line-height:normal;font-family:Menlo,'DejaVu Sans Mono',consolas,'Courier New',monospace\">Trained DQN model with loss: 1742527391389504821155214655488.0000\n",
       "</pre>\n"
      ],
      "text/plain": [
       "Trained DQN model with loss: 1742527391389504821155214655488.0000\n"
      ]
     },
     "metadata": {},
     "output_type": "display_data"
    },
    {
     "data": {
      "text/html": [
       "<pre style=\"white-space:pre;overflow-x:auto;line-height:normal;font-family:Menlo,'DejaVu Sans Mono',consolas,'Courier New',monospace\">Trained DQN model with loss: 2056120935608810207130234650624.0000\n",
       "</pre>\n"
      ],
      "text/plain": [
       "Trained DQN model with loss: 2056120935608810207130234650624.0000\n"
      ]
     },
     "metadata": {},
     "output_type": "display_data"
    },
    {
     "data": {
      "text/html": [
       "<pre style=\"white-space:pre;overflow-x:auto;line-height:normal;font-family:Menlo,'DejaVu Sans Mono',consolas,'Courier New',monospace\">Trained DQN model with loss: 1725347346566961325953465188352.0000\n",
       "</pre>\n"
      ],
      "text/plain": [
       "Trained DQN model with loss: 1725347346566961325953465188352.0000\n"
      ]
     },
     "metadata": {},
     "output_type": "display_data"
    },
    {
     "data": {
      "text/html": [
       "<pre style=\"white-space:pre;overflow-x:auto;line-height:normal;font-family:Menlo,'DejaVu Sans Mono',consolas,'Courier New',monospace\">Trained DQN model with loss: 1416564873762539808607835258880.0000\n",
       "</pre>\n"
      ],
      "text/plain": [
       "Trained DQN model with loss: 1416564873762539808607835258880.0000\n"
      ]
     },
     "metadata": {},
     "output_type": "display_data"
    },
    {
     "data": {
      "text/html": [
       "<pre style=\"white-space:pre;overflow-x:auto;line-height:normal;font-family:Menlo,'DejaVu Sans Mono',consolas,'Courier New',monospace\">Trained DQN model with loss: 1598962463491261696313510592512.0000\n",
       "</pre>\n"
      ],
      "text/plain": [
       "Trained DQN model with loss: 1598962463491261696313510592512.0000\n"
      ]
     },
     "metadata": {},
     "output_type": "display_data"
    },
    {
     "data": {
      "text/html": [
       "<pre style=\"white-space:pre;overflow-x:auto;line-height:normal;font-family:Menlo,'DejaVu Sans Mono',consolas,'Courier New',monospace\">Trained DQN model with loss: 1478056583345783017921971224576.0000\n",
       "</pre>\n"
      ],
      "text/plain": [
       "Trained DQN model with loss: 1478056583345783017921971224576.0000\n"
      ]
     },
     "metadata": {},
     "output_type": "display_data"
    },
    {
     "data": {
      "text/html": [
       "<pre style=\"white-space:pre;overflow-x:auto;line-height:normal;font-family:Menlo,'DejaVu Sans Mono',consolas,'Courier New',monospace\">Trained DQN model with loss: 1818464706707050686306561556480.0000\n",
       "</pre>\n"
      ],
      "text/plain": [
       "Trained DQN model with loss: 1818464706707050686306561556480.0000\n"
      ]
     },
     "metadata": {},
     "output_type": "display_data"
    },
    {
     "data": {
      "text/html": [
       "<pre style=\"white-space:pre;overflow-x:auto;line-height:normal;font-family:Menlo,'DejaVu Sans Mono',consolas,'Courier New',monospace\">Trained DQN model with loss: 2132683567806551739222198321152.0000\n",
       "</pre>\n"
      ],
      "text/plain": [
       "Trained DQN model with loss: 2132683567806551739222198321152.0000\n"
      ]
     },
     "metadata": {},
     "output_type": "display_data"
    },
    {
     "data": {
      "text/html": [
       "<pre style=\"white-space:pre;overflow-x:auto;line-height:normal;font-family:Menlo,'DejaVu Sans Mono',consolas,'Courier New',monospace\">Trained DQN model with loss: 1810066299038187857429877751808.0000\n",
       "</pre>\n"
      ],
      "text/plain": [
       "Trained DQN model with loss: 1810066299038187857429877751808.0000\n"
      ]
     },
     "metadata": {},
     "output_type": "display_data"
    },
    {
     "data": {
      "text/html": [
       "<pre style=\"white-space:pre;overflow-x:auto;line-height:normal;font-family:Menlo,'DejaVu Sans Mono',consolas,'Courier New',monospace\">Trained DQN model with loss: 1898725291871265917215304581120.0000\n",
       "</pre>\n"
      ],
      "text/plain": [
       "Trained DQN model with loss: 1898725291871265917215304581120.0000\n"
      ]
     },
     "metadata": {},
     "output_type": "display_data"
    },
    {
     "data": {
      "text/html": [
       "<pre style=\"white-space:pre;overflow-x:auto;line-height:normal;font-family:Menlo,'DejaVu Sans Mono',consolas,'Courier New',monospace\">Trained DQN model with loss: 2062328920808258779770997702656.0000\n",
       "</pre>\n"
      ],
      "text/plain": [
       "Trained DQN model with loss: 2062328920808258779770997702656.0000\n"
      ]
     },
     "metadata": {},
     "output_type": "display_data"
    },
    {
     "data": {
      "text/html": [
       "<pre style=\"white-space:pre;overflow-x:auto;line-height:normal;font-family:Menlo,'DejaVu Sans Mono',consolas,'Courier New',monospace\">Trained DQN model with loss: 1541963122253706449012582776832.0000\n",
       "</pre>\n"
      ],
      "text/plain": [
       "Trained DQN model with loss: 1541963122253706449012582776832.0000\n"
      ]
     },
     "metadata": {},
     "output_type": "display_data"
    },
    {
     "data": {
      "text/html": [
       "<pre style=\"white-space:pre;overflow-x:auto;line-height:normal;font-family:Menlo,'DejaVu Sans Mono',consolas,'Courier New',monospace\">Trained DQN model with loss: 1978593882838471104614149128192.0000\n",
       "</pre>\n"
      ],
      "text/plain": [
       "Trained DQN model with loss: 1978593882838471104614149128192.0000\n"
      ]
     },
     "metadata": {},
     "output_type": "display_data"
    },
    {
     "data": {
      "text/html": [
       "<pre style=\"white-space:pre;overflow-x:auto;line-height:normal;font-family:Menlo,'DejaVu Sans Mono',consolas,'Courier New',monospace\">Trained DQN model with loss: 2325937613626867900574028791808.0000\n",
       "</pre>\n"
      ],
      "text/plain": [
       "Trained DQN model with loss: 2325937613626867900574028791808.0000\n"
      ]
     },
     "metadata": {},
     "output_type": "display_data"
    },
    {
     "data": {
      "text/html": [
       "<pre style=\"white-space:pre;overflow-x:auto;line-height:normal;font-family:Menlo,'DejaVu Sans Mono',consolas,'Courier New',monospace\">Trained DQN model with loss: 2311248107108457993300820885504.0000\n",
       "</pre>\n"
      ],
      "text/plain": [
       "Trained DQN model with loss: 2311248107108457993300820885504.0000\n"
      ]
     },
     "metadata": {},
     "output_type": "display_data"
    },
    {
     "data": {
      "text/html": [
       "<pre style=\"white-space:pre;overflow-x:auto;line-height:normal;font-family:Menlo,'DejaVu Sans Mono',consolas,'Courier New',monospace\">Trained DQN model with loss: 2142448968345943810038181134336.0000\n",
       "</pre>\n"
      ],
      "text/plain": [
       "Trained DQN model with loss: 2142448968345943810038181134336.0000\n"
      ]
     },
     "metadata": {},
     "output_type": "display_data"
    },
    {
     "data": {
      "text/html": [
       "<pre style=\"white-space:pre;overflow-x:auto;line-height:normal;font-family:Menlo,'DejaVu Sans Mono',consolas,'Courier New',monospace\">Trained DQN model with loss: 1700443928030082320440458477568.0000\n",
       "</pre>\n"
      ],
      "text/plain": [
       "Trained DQN model with loss: 1700443928030082320440458477568.0000\n"
      ]
     },
     "metadata": {},
     "output_type": "display_data"
    },
    {
     "data": {
      "text/html": [
       "<pre style=\"white-space:pre;overflow-x:auto;line-height:normal;font-family:Menlo,'DejaVu Sans Mono',consolas,'Courier New',monospace\">Trained DQN model with loss: 2223320665511974235994738130944.0000\n",
       "</pre>\n"
      ],
      "text/plain": [
       "Trained DQN model with loss: 2223320665511974235994738130944.0000\n"
      ]
     },
     "metadata": {},
     "output_type": "display_data"
    },
    {
     "data": {
      "text/html": [
       "<pre style=\"white-space:pre;overflow-x:auto;line-height:normal;font-family:Menlo,'DejaVu Sans Mono',consolas,'Courier New',monospace\">Trained DQN model with loss: 1515371287694008162028452052992.0000\n",
       "</pre>\n"
      ],
      "text/plain": [
       "Trained DQN model with loss: 1515371287694008162028452052992.0000\n"
      ]
     },
     "metadata": {},
     "output_type": "display_data"
    },
    {
     "data": {
      "text/html": [
       "<pre style=\"white-space:pre;overflow-x:auto;line-height:normal;font-family:Menlo,'DejaVu Sans Mono',consolas,'Courier New',monospace\">Trained DQN model with loss: 1786121105329080897366472523776.0000\n",
       "</pre>\n"
      ],
      "text/plain": [
       "Trained DQN model with loss: 1786121105329080897366472523776.0000\n"
      ]
     },
     "metadata": {},
     "output_type": "display_data"
    },
    {
     "data": {
      "text/html": [
       "<pre style=\"white-space:pre;overflow-x:auto;line-height:normal;font-family:Menlo,'DejaVu Sans Mono',consolas,'Courier New',monospace\">Trained DQN model with loss: 1837878846444242016223168036864.0000\n",
       "</pre>\n"
      ],
      "text/plain": [
       "Trained DQN model with loss: 1837878846444242016223168036864.0000\n"
      ]
     },
     "metadata": {},
     "output_type": "display_data"
    },
    {
     "data": {
      "text/html": [
       "<pre style=\"white-space:pre;overflow-x:auto;line-height:normal;font-family:Menlo,'DejaVu Sans Mono',consolas,'Courier New',monospace\">Trained DQN model with loss: 2156069028861177125977714589696.0000\n",
       "</pre>\n"
      ],
      "text/plain": [
       "Trained DQN model with loss: 2156069028861177125977714589696.0000\n"
      ]
     },
     "metadata": {},
     "output_type": "display_data"
    },
    {
     "data": {
      "text/html": [
       "<pre style=\"white-space:pre;overflow-x:auto;line-height:normal;font-family:Menlo,'DejaVu Sans Mono',consolas,'Courier New',monospace\">Trained DQN model with loss: 1873925992070601221639969439744.0000\n",
       "</pre>\n"
      ],
      "text/plain": [
       "Trained DQN model with loss: 1873925992070601221639969439744.0000\n"
      ]
     },
     "metadata": {},
     "output_type": "display_data"
    },
    {
     "data": {
      "text/html": [
       "<pre style=\"white-space:pre;overflow-x:auto;line-height:normal;font-family:Menlo,'DejaVu Sans Mono',consolas,'Courier New',monospace\">Trained DQN model with loss: 1858669045995609697797883822080.0000\n",
       "</pre>\n"
      ],
      "text/plain": [
       "Trained DQN model with loss: 1858669045995609697797883822080.0000\n"
      ]
     },
     "metadata": {},
     "output_type": "display_data"
    },
    {
     "data": {
      "text/html": [
       "<pre style=\"white-space:pre;overflow-x:auto;line-height:normal;font-family:Menlo,'DejaVu Sans Mono',consolas,'Courier New',monospace\">Trained DQN model with loss: 1701115184091423343289714081792.0000\n",
       "</pre>\n"
      ],
      "text/plain": [
       "Trained DQN model with loss: 1701115184091423343289714081792.0000\n"
      ]
     },
     "metadata": {},
     "output_type": "display_data"
    },
    {
     "data": {
      "text/html": [
       "<pre style=\"white-space:pre;overflow-x:auto;line-height:normal;font-family:Menlo,'DejaVu Sans Mono',consolas,'Courier New',monospace\">Trained DQN model with loss: 2276242602191424242746675691520.0000\n",
       "</pre>\n"
      ],
      "text/plain": [
       "Trained DQN model with loss: 2276242602191424242746675691520.0000\n"
      ]
     },
     "metadata": {},
     "output_type": "display_data"
    },
    {
     "data": {
      "text/html": [
       "<pre style=\"white-space:pre;overflow-x:auto;line-height:normal;font-family:Menlo,'DejaVu Sans Mono',consolas,'Courier New',monospace\">Trained DQN model with loss: 1862829866435268347759928803328.0000\n",
       "</pre>\n"
      ],
      "text/plain": [
       "Trained DQN model with loss: 1862829866435268347759928803328.0000\n"
      ]
     },
     "metadata": {},
     "output_type": "display_data"
    },
    {
     "data": {
      "text/html": [
       "<pre style=\"white-space:pre;overflow-x:auto;line-height:normal;font-family:Menlo,'DejaVu Sans Mono',consolas,'Courier New',monospace\">Trained DQN model with loss: 1596736226594441356688289169408.0000\n",
       "</pre>\n"
      ],
      "text/plain": [
       "Trained DQN model with loss: 1596736226594441356688289169408.0000\n"
      ]
     },
     "metadata": {},
     "output_type": "display_data"
    },
    {
     "data": {
      "text/html": [
       "<pre style=\"white-space:pre;overflow-x:auto;line-height:normal;font-family:Menlo,'DejaVu Sans Mono',consolas,'Courier New',monospace\">Trained DQN model with loss: 1863364816110447821169736286208.0000\n",
       "</pre>\n"
      ],
      "text/plain": [
       "Trained DQN model with loss: 1863364816110447821169736286208.0000\n"
      ]
     },
     "metadata": {},
     "output_type": "display_data"
    },
    {
     "data": {
      "text/html": [
       "<pre style=\"white-space:pre;overflow-x:auto;line-height:normal;font-family:Menlo,'DejaVu Sans Mono',consolas,'Courier New',monospace\">Trained DQN model with loss: 1670349533139505549079910285312.0000\n",
       "</pre>\n"
      ],
      "text/plain": [
       "Trained DQN model with loss: 1670349533139505549079910285312.0000\n"
      ]
     },
     "metadata": {},
     "output_type": "display_data"
    },
    {
     "data": {
      "text/html": [
       "<pre style=\"white-space:pre;overflow-x:auto;line-height:normal;font-family:Menlo,'DejaVu Sans Mono',consolas,'Courier New',monospace\">Trained DQN model with loss: 1895713102075968616797877305344.0000\n",
       "</pre>\n"
      ],
      "text/plain": [
       "Trained DQN model with loss: 1895713102075968616797877305344.0000\n"
      ]
     },
     "metadata": {},
     "output_type": "display_data"
    },
    {
     "data": {
      "text/html": [
       "<pre style=\"white-space:pre;overflow-x:auto;line-height:normal;font-family:Menlo,'DejaVu Sans Mono',consolas,'Courier New',monospace\">Trained DQN model with loss: 2268170604493857363747162554368.0000\n",
       "</pre>\n"
      ],
      "text/plain": [
       "Trained DQN model with loss: 2268170604493857363747162554368.0000\n"
      ]
     },
     "metadata": {},
     "output_type": "display_data"
    },
    {
     "data": {
      "text/html": [
       "<pre style=\"white-space:pre;overflow-x:auto;line-height:normal;font-family:Menlo,'DejaVu Sans Mono',consolas,'Courier New',monospace\">Trained DQN model with loss: 2049293375926809137037434683392.0000\n",
       "</pre>\n"
      ],
      "text/plain": [
       "Trained DQN model with loss: 2049293375926809137037434683392.0000\n"
      ]
     },
     "metadata": {},
     "output_type": "display_data"
    },
    {
     "data": {
      "text/html": [
       "<pre style=\"white-space:pre;overflow-x:auto;line-height:normal;font-family:Menlo,'DejaVu Sans Mono',consolas,'Courier New',monospace\">Trained DQN model with loss: 1933594037054955762844061138944.0000\n",
       "</pre>\n"
      ],
      "text/plain": [
       "Trained DQN model with loss: 1933594037054955762844061138944.0000\n"
      ]
     },
     "metadata": {},
     "output_type": "display_data"
    },
    {
     "data": {
      "text/html": [
       "<pre style=\"white-space:pre;overflow-x:auto;line-height:normal;font-family:Menlo,'DejaVu Sans Mono',consolas,'Courier New',monospace\">Trained DQN model with loss: 1641185708898577138526592172032.0000\n",
       "</pre>\n"
      ],
      "text/plain": [
       "Trained DQN model with loss: 1641185708898577138526592172032.0000\n"
      ]
     },
     "metadata": {},
     "output_type": "display_data"
    },
    {
     "data": {
      "text/html": [
       "<pre style=\"white-space:pre;overflow-x:auto;line-height:normal;font-family:Menlo,'DejaVu Sans Mono',consolas,'Courier New',monospace\">Trained DQN model with loss: 1581956806218197611370212491264.0000\n",
       "</pre>\n"
      ],
      "text/plain": [
       "Trained DQN model with loss: 1581956806218197611370212491264.0000\n"
      ]
     },
     "metadata": {},
     "output_type": "display_data"
    },
    {
     "data": {
      "text/html": [
       "<pre style=\"white-space:pre;overflow-x:auto;line-height:normal;font-family:Menlo,'DejaVu Sans Mono',consolas,'Courier New',monospace\">Trained DQN model with loss: 1989128915777775338728479260672.0000\n",
       "</pre>\n"
      ],
      "text/plain": [
       "Trained DQN model with loss: 1989128915777775338728479260672.0000\n"
      ]
     },
     "metadata": {},
     "output_type": "display_data"
    },
    {
     "data": {
      "text/html": [
       "<pre style=\"white-space:pre;overflow-x:auto;line-height:normal;font-family:Menlo,'DejaVu Sans Mono',consolas,'Courier New',monospace\">Trained DQN model with loss: 1825496121505384273243946352640.0000\n",
       "</pre>\n"
      ],
      "text/plain": [
       "Trained DQN model with loss: 1825496121505384273243946352640.0000\n"
      ]
     },
     "metadata": {},
     "output_type": "display_data"
    },
    {
     "data": {
      "text/html": [
       "<pre style=\"white-space:pre;overflow-x:auto;line-height:normal;font-family:Menlo,'DejaVu Sans Mono',consolas,'Courier New',monospace\">Trained DQN model with loss: 2012343918291835062770361958400.0000\n",
       "</pre>\n"
      ],
      "text/plain": [
       "Trained DQN model with loss: 2012343918291835062770361958400.0000\n"
      ]
     },
     "metadata": {},
     "output_type": "display_data"
    },
    {
     "data": {
      "text/html": [
       "<pre style=\"white-space:pre;overflow-x:auto;line-height:normal;font-family:Menlo,'DejaVu Sans Mono',consolas,'Courier New',monospace\">Trained DQN model with loss: 2072996180009083363951311323136.0000\n",
       "</pre>\n"
      ],
      "text/plain": [
       "Trained DQN model with loss: 2072996180009083363951311323136.0000\n"
      ]
     },
     "metadata": {},
     "output_type": "display_data"
    },
    {
     "data": {
      "text/html": [
       "<pre style=\"white-space:pre;overflow-x:auto;line-height:normal;font-family:Menlo,'DejaVu Sans Mono',consolas,'Courier New',monospace\">Trained DQN model with loss: 2388494235741464146362434060288.0000\n",
       "</pre>\n"
      ],
      "text/plain": [
       "Trained DQN model with loss: 2388494235741464146362434060288.0000\n"
      ]
     },
     "metadata": {},
     "output_type": "display_data"
    },
    {
     "data": {
      "text/html": [
       "<pre style=\"white-space:pre;overflow-x:auto;line-height:normal;font-family:Menlo,'DejaVu Sans Mono',consolas,'Courier New',monospace\">Trained DQN model with loss: 2560781427725021438451394805760.0000\n",
       "</pre>\n"
      ],
      "text/plain": [
       "Trained DQN model with loss: 2560781427725021438451394805760.0000\n"
      ]
     },
     "metadata": {},
     "output_type": "display_data"
    },
    {
     "data": {
      "text/html": [
       "<pre style=\"white-space:pre;overflow-x:auto;line-height:normal;font-family:Menlo,'DejaVu Sans Mono',consolas,'Courier New',monospace\">Trained DQN model with loss: 2424150142749450567412571176960.0000\n",
       "</pre>\n"
      ],
      "text/plain": [
       "Trained DQN model with loss: 2424150142749450567412571176960.0000\n"
      ]
     },
     "metadata": {},
     "output_type": "display_data"
    },
    {
     "data": {
      "text/html": [
       "<pre style=\"white-space:pre;overflow-x:auto;line-height:normal;font-family:Menlo,'DejaVu Sans Mono',consolas,'Courier New',monospace\">Trained DQN model with loss: 2077318996508570374222766931968.0000\n",
       "</pre>\n"
      ],
      "text/plain": [
       "Trained DQN model with loss: 2077318996508570374222766931968.0000\n"
      ]
     },
     "metadata": {},
     "output_type": "display_data"
    },
    {
     "data": {
      "text/html": [
       "<pre style=\"white-space:pre;overflow-x:auto;line-height:normal;font-family:Menlo,'DejaVu Sans Mono',consolas,'Courier New',monospace\">Trained DQN model with loss: 2098164202184730521424931848192.0000\n",
       "</pre>\n"
      ],
      "text/plain": [
       "Trained DQN model with loss: 2098164202184730521424931848192.0000\n"
      ]
     },
     "metadata": {},
     "output_type": "display_data"
    },
    {
     "data": {
      "text/html": [
       "<pre style=\"white-space:pre;overflow-x:auto;line-height:normal;font-family:Menlo,'DejaVu Sans Mono',consolas,'Courier New',monospace\">Trained DQN model with loss: 1795160697029521835191691116544.0000\n",
       "</pre>\n"
      ],
      "text/plain": [
       "Trained DQN model with loss: 1795160697029521835191691116544.0000\n"
      ]
     },
     "metadata": {},
     "output_type": "display_data"
    },
    {
     "data": {
      "text/html": [
       "<pre style=\"white-space:pre;overflow-x:auto;line-height:normal;font-family:Menlo,'DejaVu Sans Mono',consolas,'Courier New',monospace\">Trained DQN model with loss: 2298100283241511641882657030144.0000\n",
       "</pre>\n"
      ],
      "text/plain": [
       "Trained DQN model with loss: 2298100283241511641882657030144.0000\n"
      ]
     },
     "metadata": {},
     "output_type": "display_data"
    }
   ],
   "source": [
    "from pprint import pprint\n",
    "from catanatron_experimental.play import play_batch\n",
    "\n",
    "wins, results_by_player, games = play_batch(30, players)"
   ]
  },
  {
   "cell_type": "markdown",
   "id": "c1e64f53-26dc-40d4-ae7c-1410355617e8",
   "metadata": {},
   "source": [
    "You can inspect the game states in a variety of ways and compute statistics"
   ]
  },
  {
   "cell_type": "code",
   "execution_count": 22,
   "id": "34effc30-5cad-4031-aab8-fa91e2d0d1f3",
   "metadata": {},
   "outputs": [
    {
     "name": "stdout",
     "output_type": "stream",
     "text": [
      "12\n"
     ]
    }
   ],
   "source": [
    "from catanatron.json import GameEncoder\n",
    "from catanatron_gym.features import create_sample_vector, create_sample\n",
    "from catanatron_gym.board_tensor_features import (\n",
    "    create_board_tensor,\n",
    ")\n",
    "\n",
    "\n",
    "game = games[0]  # pick say the first one\n",
    "\n",
    "# 1. Feature dictionary of last state before game ended from REDs perspective. \n",
    "#   See https://catanatron.readthedocs.io/en/latest/catanatron_gym.envs.html#catanatron_gym.envs.catanatron_env.CatanatronEnv.observation_space\n",
    "#   for more information on this representation.\n",
    "# record = create_sample(game, Color.RED)\n",
    "# pprint(record)\n",
    "\n",
    "# 2. Vector (similar to 1) of last state before game ended\n",
    "# vector = create_sample_vector(game, Color.RED)\n",
    "# print(vector)\n",
    "\n",
    "# 3. Board Tensor representation, similar to the one described in https://arxiv.org/abs/2008.07079\n",
    "# tensor = create_board_tensor(game, Color.RED)\n",
    "# print(tensor)\n",
    "\n",
    "# 4. Inspect Python catanatron.state.State class\n",
    "# print(game.state)\n",
    "\n",
    "# 5. JSON Representation (with full action history)\n",
    "redwins=0\n",
    "for i, game in enumerate(games):\n",
    "    redwins+= 1 if game.winning_color() == Color.RED else 0\n",
    "   # print(f\"Game {i} winner:\", game.winning_color())\n",
    "print(redwins)\n",
    "\n"
   ]
  }
 ],
 "metadata": {
  "kernelspec": {
   "display_name": "catan311",
   "language": "python",
   "name": "python3"
  },
  "language_info": {
   "codemirror_mode": {
    "name": "ipython",
    "version": 3
   },
   "file_extension": ".py",
   "mimetype": "text/x-python",
   "name": "python",
   "nbconvert_exporter": "python",
   "pygments_lexer": "ipython3",
   "version": "3.11.11"
  }
 },
 "nbformat": 4,
 "nbformat_minor": 5
}
