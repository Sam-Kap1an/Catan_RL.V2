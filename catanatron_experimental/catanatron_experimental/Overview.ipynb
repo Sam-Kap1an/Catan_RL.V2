{
 "cells": [
  {
   "cell_type": "markdown",
   "id": "38540cf7-9b4f-4c98-9abb-952c84443f1d",
   "metadata": {},
   "source": [
    "# Catanatron Introduction\n",
    "This shows example usage of Catanatron. First, clone the repo and install requirements."
   ]
  },
  {
   "cell_type": "code",
   "execution_count": null,
   "id": "3be394e4-9bcd-46bb-892b-7538ad3b2e55",
   "metadata": {},
   "outputs": [
    {
     "name": "stdout",
     "output_type": "stream",
     "text": [
      "Collecting absl-py==1.0.0 (from -r catanatron/dev-requirements.txt (line 1))\n",
      "  Using cached absl_py-1.0.0-py3-none-any.whl.metadata (2.3 kB)\n",
      "Requirement already satisfied: astunparse==1.6.3 in c:\\users\\sam\\anaconda3\\envs\\catan311\\lib\\site-packages (from -r catanatron/dev-requirements.txt (line 2)) (1.6.3)\n",
      "Collecting attrs==21.4.0 (from -r catanatron/dev-requirements.txt (line 3))\n",
      "  Using cached attrs-21.4.0-py2.py3-none-any.whl.metadata (9.8 kB)\n",
      "Collecting black==22.1.0 (from -r catanatron/dev-requirements.txt (line 4))\n",
      "  Using cached black-22.1.0-py3-none-any.whl.metadata (42 kB)\n",
      "Collecting cachetools==5.0.0 (from -r catanatron/dev-requirements.txt (line 5))\n",
      "  Using cached cachetools-5.0.0-py3-none-any.whl.metadata (4.5 kB)\n",
      "Collecting certifi==2021.10.8 (from -r catanatron/dev-requirements.txt (line 6))\n",
      "  Using cached certifi-2021.10.8-py2.py3-none-any.whl.metadata (3.0 kB)\n",
      "Collecting charset-normalizer==2.0.11 (from -r catanatron/dev-requirements.txt (line 7))\n",
      "  Using cached charset_normalizer-2.0.11-py3-none-any.whl.metadata (11 kB)\n",
      "Collecting click==8.0.3 (from -r catanatron/dev-requirements.txt (line 8))\n",
      "  Using cached click-8.0.3-py3-none-any.whl.metadata (3.2 kB)\n",
      "Collecting cloudpickle==2.0.0 (from -r catanatron/dev-requirements.txt (line 9))\n",
      "  Using cached cloudpickle-2.0.0-py3-none-any.whl.metadata (6.9 kB)\n",
      "Collecting colorama==0.4.4 (from -r catanatron/dev-requirements.txt (line 10))\n",
      "  Using cached colorama-0.4.4-py2.py3-none-any.whl.metadata (14 kB)\n",
      "Collecting commonmark==0.9.1 (from -r catanatron/dev-requirements.txt (line 11))\n",
      "  Using cached commonmark-0.9.1-py2.py3-none-any.whl.metadata (5.7 kB)\n",
      "Collecting coverage==6.3.1 (from -r catanatron/dev-requirements.txt (line 12))\n",
      "  Using cached coverage-6.3.1.tar.gz (707 kB)\n",
      "  Preparing metadata (setup.py): started\n",
      "  Preparing metadata (setup.py): finished with status 'done'\n",
      "Requirement already satisfied: coveralls==3.3.1 in c:\\users\\sam\\anaconda3\\envs\\catan311\\lib\\site-packages (from -r catanatron/dev-requirements.txt (line 13)) (3.3.1)\n",
      "Requirement already satisfied: docopt==0.6.2 in c:\\users\\sam\\anaconda3\\envs\\catan311\\lib\\site-packages (from -r catanatron/dev-requirements.txt (line 14)) (0.6.2)\n",
      "Collecting Flask==2.0.2 (from -r catanatron/dev-requirements.txt (line 15))\n",
      "  Using cached Flask-2.0.2-py3-none-any.whl.metadata (3.8 kB)\n",
      "Requirement already satisfied: Flask-Cors==3.0.10 in c:\\users\\sam\\anaconda3\\envs\\catan311\\lib\\site-packages (from -r catanatron/dev-requirements.txt (line 16)) (3.0.10)\n",
      "Collecting Flask-SQLAlchemy==2.5.1 (from -r catanatron/dev-requirements.txt (line 17))\n",
      "  Using cached Flask_SQLAlchemy-2.5.1-py2.py3-none-any.whl.metadata (3.1 kB)\n",
      "Collecting flatbuffers==2.0 (from -r catanatron/dev-requirements.txt (line 18))\n",
      "  Using cached flatbuffers-2.0-py2.py3-none-any.whl.metadata (871 bytes)\n",
      "Collecting gast==0.5.3 (from -r catanatron/dev-requirements.txt (line 19))\n",
      "  Using cached gast-0.5.3-py3-none-any.whl.metadata (1.3 kB)\n",
      "Collecting google-auth==2.6.0 (from -r catanatron/dev-requirements.txt (line 20))\n",
      "  Using cached google_auth-2.6.0-py2.py3-none-any.whl.metadata (3.6 kB)\n",
      "Collecting google-auth-oauthlib==0.4.6 (from -r catanatron/dev-requirements.txt (line 21))\n",
      "  Using cached google_auth_oauthlib-0.4.6-py2.py3-none-any.whl.metadata (2.7 kB)\n",
      "Requirement already satisfied: google-pasta==0.2.0 in c:\\users\\sam\\anaconda3\\envs\\catan311\\lib\\site-packages (from -r catanatron/dev-requirements.txt (line 22)) (0.2.0)\n",
      "Collecting greenlet==1.1.2 (from -r catanatron/dev-requirements.txt (line 23))\n",
      "  Using cached greenlet-1.1.2.tar.gz (91 kB)\n",
      "  Preparing metadata (setup.py): started\n",
      "  Preparing metadata (setup.py): finished with status 'done'\n",
      "Collecting grpcio==1.43.0 (from -r catanatron/dev-requirements.txt (line 24))\n",
      "  Using cached grpcio-1.43.0.tar.gz (21.5 MB)\n",
      "  Preparing metadata (setup.py): started\n",
      "  Preparing metadata (setup.py): finished with status 'done'\n",
      "Collecting gym==0.21.0 (from -r catanatron/dev-requirements.txt (line 25))\n",
      "  Using cached gym-0.21.0.tar.gz (1.5 MB)\n",
      "  Preparing metadata (setup.py): started\n",
      "  Preparing metadata (setup.py): finished with status 'error'\n",
      "Note: you may need to restart the kernel to use updated packages.\n"
     ]
    },
    {
     "name": "stderr",
     "output_type": "stream",
     "text": [
      "  error: subprocess-exited-with-error\n",
      "  \n",
      "  × python setup.py egg_info did not run successfully.\n",
      "  │ exit code: 1\n",
      "  ╰─> [3 lines of output]\n",
      "      c:\\Users\\SAM\\anaconda3\\envs\\catan311\\Lib\\site-packages\\setuptools\\_distutils\\dist.py:270: UserWarning: Unknown distribution option: 'tests_require'\n",
      "        warnings.warn(msg)\n",
      "      error in gym setup command: 'extras_require' must be a dictionary whose values are strings or lists of strings containing valid project/version requirement specifiers.\n",
      "      [end of output]\n",
      "  \n",
      "  note: This error originates from a subprocess, and is likely not a problem with pip.\n",
      "error: metadata-generation-failed\n",
      "\n",
      "× Encountered error while generating package metadata.\n",
      "╰─> See above for output.\n",
      "\n",
      "note: This is an issue with the package mentioned above, not pip.\n",
      "hint: See above for details.\n"
     ]
    },
    {
     "name": "stdout",
     "output_type": "stream",
     "text": [
      "Obtaining file:///C:/Users/SAM/CODE/catan_atron/catanatron/catanatron_experimental/catanatron_experimental/catanatron/catanatron_core\n",
      "  Preparing metadata (setup.py): started\n",
      "  Preparing metadata (setup.py): finished with status 'done'\n",
      "Requirement already satisfied: networkx in c:\\users\\sam\\anaconda3\\envs\\catan311\\lib\\site-packages (from catanatron==3.2.1) (3.0)\n",
      "Installing collected packages: catanatron\n",
      "  Attempting uninstall: catanatron\n",
      "    Found existing installation: catanatron 3.2.1\n",
      "    Uninstalling catanatron-3.2.1:\n",
      "      Successfully uninstalled catanatron-3.2.1\n",
      "  Running setup.py develop for catanatron\n",
      "Successfully installed catanatron-3.2.1\n",
      "Note: you may need to restart the kernel to use updated packages.\n"
     ]
    },
    {
     "name": "stderr",
     "output_type": "stream",
     "text": [
      "  DEPRECATION: Legacy editable install of catanatron==3.2.1 from file:///C:/Users/SAM/CODE/catan_atron/catanatron/catanatron_experimental/catanatron_experimental/catanatron/catanatron_core (setup.py develop) is deprecated. pip 25.1 will enforce this behaviour change. A possible replacement is to add a pyproject.toml or enable --use-pep517, and use setuptools >= 64. If the resulting installation is not behaving as expected, try using --config-settings editable_mode=compat. Please consult the setuptools documentation for more information. Discussion can be found at https://github.com/pypa/pip/issues/11457\n"
     ]
    },
    {
     "name": "stdout",
     "output_type": "stream",
     "text": [
      "Obtaining file:///C:/Users/SAM/CODE/catan_atron/catanatron/catanatron_experimental/catanatron_experimental/catanatron/catanatron_server\n",
      "  Preparing metadata (setup.py): started\n",
      "  Preparing metadata (setup.py): finished with status 'done'\n",
      "Requirement already satisfied: catanatron in c:\\users\\sam\\code\\catan_atron\\catanatron\\catanatron_experimental\\catanatron_experimental\\catanatron\\catanatron_core (from catanatron_server==1.0.0) (3.2.1)\n",
      "Requirement already satisfied: flask in c:\\users\\sam\\anaconda3\\envs\\catan311\\lib\\site-packages (from catanatron_server==1.0.0) (2.2.3)\n",
      "Requirement already satisfied: flask_cors in c:\\users\\sam\\anaconda3\\envs\\catan311\\lib\\site-packages (from catanatron_server==1.0.0) (3.0.10)\n",
      "Requirement already satisfied: flask_sqlalchemy in c:\\users\\sam\\anaconda3\\envs\\catan311\\lib\\site-packages (from catanatron_server==1.0.0) (3.0.3)\n",
      "Requirement already satisfied: sqlalchemy in c:\\users\\sam\\anaconda3\\envs\\catan311\\lib\\site-packages (from catanatron_server==1.0.0) (2.0.7)\n",
      "Requirement already satisfied: psycopg2-binary in c:\\users\\sam\\anaconda3\\envs\\catan311\\lib\\site-packages (from catanatron_server==1.0.0) (2.9.5)\n",
      "Requirement already satisfied: networkx in c:\\users\\sam\\anaconda3\\envs\\catan311\\lib\\site-packages (from catanatron->catanatron_server==1.0.0) (3.0)\n",
      "Requirement already satisfied: Werkzeug>=2.2.2 in c:\\users\\sam\\anaconda3\\envs\\catan311\\lib\\site-packages (from flask->catanatron_server==1.0.0) (2.2.3)\n",
      "Requirement already satisfied: Jinja2>=3.0 in c:\\users\\sam\\anaconda3\\envs\\catan311\\lib\\site-packages (from flask->catanatron_server==1.0.0) (3.1.2)\n",
      "Requirement already satisfied: itsdangerous>=2.0 in c:\\users\\sam\\anaconda3\\envs\\catan311\\lib\\site-packages (from flask->catanatron_server==1.0.0) (2.1.2)\n",
      "Requirement already satisfied: click>=8.0 in c:\\users\\sam\\anaconda3\\envs\\catan311\\lib\\site-packages (from flask->catanatron_server==1.0.0) (8.1.3)\n",
      "Requirement already satisfied: Six in c:\\users\\sam\\anaconda3\\envs\\catan311\\lib\\site-packages (from flask_cors->catanatron_server==1.0.0) (1.16.0)\n",
      "Requirement already satisfied: typing-extensions>=4.2.0 in c:\\users\\sam\\anaconda3\\envs\\catan311\\lib\\site-packages (from sqlalchemy->catanatron_server==1.0.0) (4.13.2)\n",
      "Requirement already satisfied: greenlet!=0.4.17 in c:\\users\\sam\\anaconda3\\envs\\catan311\\lib\\site-packages (from sqlalchemy->catanatron_server==1.0.0) (3.2.1)\n",
      "Requirement already satisfied: colorama in c:\\users\\sam\\anaconda3\\envs\\catan311\\lib\\site-packages (from click>=8.0->flask->catanatron_server==1.0.0) (0.4.6)\n",
      "Requirement already satisfied: MarkupSafe>=2.0 in c:\\users\\sam\\anaconda3\\envs\\catan311\\lib\\site-packages (from Jinja2>=3.0->flask->catanatron_server==1.0.0) (2.1.2)\n",
      "Installing collected packages: catanatron_server\n",
      "  Attempting uninstall: catanatron_server\n",
      "    Found existing installation: catanatron_server 1.0.0\n",
      "    Uninstalling catanatron_server-1.0.0:\n",
      "      Successfully uninstalled catanatron_server-1.0.0\n",
      "  Running setup.py develop for catanatron_server\n",
      "Successfully installed catanatron_server-1.0.0\n",
      "Note: you may need to restart the kernel to use updated packages.\n"
     ]
    },
    {
     "name": "stderr",
     "output_type": "stream",
     "text": [
      "  DEPRECATION: Legacy editable install of catanatron_server==1.0.0 from file:///C:/Users/SAM/CODE/catan_atron/catanatron/catanatron_experimental/catanatron_experimental/catanatron/catanatron_server (setup.py develop) is deprecated. pip 25.1 will enforce this behaviour change. A possible replacement is to add a pyproject.toml or enable --use-pep517, and use setuptools >= 64. If the resulting installation is not behaving as expected, try using --config-settings editable_mode=compat. Please consult the setuptools documentation for more information. Discussion can be found at https://github.com/pypa/pip/issues/11457\n"
     ]
    },
    {
     "name": "stdout",
     "output_type": "stream",
     "text": [
      "Obtaining file:///C:/Users/SAM/CODE/catan_atron/catanatron/catanatron_experimental/catanatron_experimental/catanatron/catanatron_gym\n",
      "  Preparing metadata (setup.py): started\n",
      "  Preparing metadata (setup.py): finished with status 'done'\n",
      "Requirement already satisfied: catanatron in c:\\users\\sam\\code\\catan_atron\\catanatron\\catanatron_experimental\\catanatron_experimental\\catanatron\\catanatron_core (from catanatron_gym==4.0.0) (3.2.1)\n",
      "Requirement already satisfied: gymnasium==0.29.1 in c:\\users\\sam\\anaconda3\\envs\\catan311\\lib\\site-packages (from catanatron_gym==4.0.0) (0.29.1)\n",
      "Requirement already satisfied: numpy in c:\\users\\sam\\anaconda3\\envs\\catan311\\lib\\site-packages (from catanatron_gym==4.0.0) (2.1.3)\n",
      "Requirement already satisfied: cloudpickle>=1.2.0 in c:\\users\\sam\\anaconda3\\envs\\catan311\\lib\\site-packages (from gymnasium==0.29.1->catanatron_gym==4.0.0) (2.2.1)\n",
      "Requirement already satisfied: typing-extensions>=4.3.0 in c:\\users\\sam\\anaconda3\\envs\\catan311\\lib\\site-packages (from gymnasium==0.29.1->catanatron_gym==4.0.0) (4.13.2)\n",
      "Requirement already satisfied: farama-notifications>=0.0.1 in c:\\users\\sam\\anaconda3\\envs\\catan311\\lib\\site-packages (from gymnasium==0.29.1->catanatron_gym==4.0.0) (0.0.4)\n",
      "Requirement already satisfied: networkx in c:\\users\\sam\\anaconda3\\envs\\catan311\\lib\\site-packages (from catanatron->catanatron_gym==4.0.0) (3.0)\n",
      "Installing collected packages: catanatron_gym\n",
      "  Attempting uninstall: catanatron_gym\n",
      "    Found existing installation: catanatron_gym 4.0.0\n",
      "    Uninstalling catanatron_gym-4.0.0:\n",
      "      Successfully uninstalled catanatron_gym-4.0.0\n",
      "  Running setup.py develop for catanatron_gym\n",
      "Successfully installed catanatron_gym-4.0.0\n",
      "Note: you may need to restart the kernel to use updated packages.\n"
     ]
    },
    {
     "name": "stderr",
     "output_type": "stream",
     "text": [
      "  DEPRECATION: Legacy editable install of catanatron_gym==4.0.0 from file:///C:/Users/SAM/CODE/catan_atron/catanatron/catanatron_experimental/catanatron_experimental/catanatron/catanatron_gym (setup.py develop) is deprecated. pip 25.1 will enforce this behaviour change. A possible replacement is to add a pyproject.toml or enable --use-pep517, and use setuptools >= 64. If the resulting installation is not behaving as expected, try using --config-settings editable_mode=compat. Please consult the setuptools documentation for more information. Discussion can be found at https://github.com/pypa/pip/issues/11457\n"
     ]
    },
    {
     "name": "stdout",
     "output_type": "stream",
     "text": [
      "Obtaining file:///C:/Users/SAM/CODE/catan_atron/catanatron/catanatron_experimental/catanatron_experimental/catanatron/catanatron_experimental\n",
      "  Preparing metadata (setup.py): started\n",
      "  Preparing metadata (setup.py): finished with status 'done'\n",
      "Requirement already satisfied: rich in c:\\users\\sam\\anaconda3\\envs\\catan311\\lib\\site-packages (from catanatron_experimental==1.0.0) (13.3.2)\n",
      "Requirement already satisfied: markdown-it-py<3.0.0,>=2.2.0 in c:\\users\\sam\\anaconda3\\envs\\catan311\\lib\\site-packages (from rich->catanatron_experimental==1.0.0) (2.2.0)\n",
      "Requirement already satisfied: pygments<3.0.0,>=2.13.0 in c:\\users\\sam\\anaconda3\\envs\\catan311\\lib\\site-packages (from rich->catanatron_experimental==1.0.0) (2.14.0)\n",
      "Requirement already satisfied: mdurl~=0.1 in c:\\users\\sam\\anaconda3\\envs\\catan311\\lib\\site-packages (from markdown-it-py<3.0.0,>=2.2.0->rich->catanatron_experimental==1.0.0) (0.1.2)\n",
      "Installing collected packages: catanatron_experimental\n",
      "  Attempting uninstall: catanatron_experimental\n",
      "    Found existing installation: catanatron_experimental 1.0.0\n",
      "    Uninstalling catanatron_experimental-1.0.0:\n",
      "      Successfully uninstalled catanatron_experimental-1.0.0\n",
      "  Running setup.py develop for catanatron_experimental\n",
      "Successfully installed catanatron_experimental-1.0.0\n",
      "Note: you may need to restart the kernel to use updated packages.\n"
     ]
    },
    {
     "name": "stderr",
     "output_type": "stream",
     "text": [
      "  DEPRECATION: Legacy editable install of catanatron_experimental==1.0.0 from file:///C:/Users/SAM/CODE/catan_atron/catanatron/catanatron_experimental/catanatron_experimental/catanatron/catanatron_experimental (setup.py develop) is deprecated. pip 25.1 will enforce this behaviour change. A possible replacement is to add a pyproject.toml or enable --use-pep517, and use setuptools >= 64. If the resulting installation is not behaving as expected, try using --config-settings editable_mode=compat. Please consult the setuptools documentation for more information. Discussion can be found at https://github.com/pypa/pip/issues/11457\n"
     ]
    },
    {
     "ename": "",
     "evalue": "",
     "output_type": "error",
     "traceback": [
      "\u001b[1;31mThe Kernel crashed while executing code in the current cell or a previous cell. \n",
      "\u001b[1;31mPlease review the code in the cell(s) to identify a possible cause of the failure. \n",
      "\u001b[1;31mClick <a href='https://aka.ms/vscodeJupyterKernelCrash'>here</a> for more info. \n",
      "\u001b[1;31mView Jupyter <a href='command:jupyter.viewOutput'>log</a> for further details."
     ]
    }
   ],
   "source": [
    "%pip install -r catanatron/dev-requirements.txt\n",
    "%pip install -e catanatron/catanatron_core\n",
    "%pip install -e catanatron/catanatron_server\n",
    "%pip install -e catanatron/catanatron_gym\n",
    "%pip install -e catanatron/catanatron_experimental\n",
    "exit() # Forcefully restart runtime to picks up installed requirements"
   ]
  },
  {
   "cell_type": "code",
   "execution_count": 1,
   "id": "65228753",
   "metadata": {},
   "outputs": [
    {
     "name": "stdout",
     "output_type": "stream",
     "text": [
      "Obtaining file:///C:/Users/SAM/CODE/catan_atron/catanatron/catanatron_experimental/catanatron_experimental/catanatron/catanatron_experimental\n",
      "  Preparing metadata (setup.py): started\n",
      "  Preparing metadata (setup.py): finished with status 'done'\n",
      "Requirement already satisfied: rich in c:\\users\\sam\\anaconda3\\envs\\catan311\\lib\\site-packages (from catanatron_experimental==1.0.0) (13.3.2)\n",
      "Requirement already satisfied: markdown-it-py<3.0.0,>=2.2.0 in c:\\users\\sam\\anaconda3\\envs\\catan311\\lib\\site-packages (from rich->catanatron_experimental==1.0.0) (2.2.0)\n",
      "Requirement already satisfied: pygments<3.0.0,>=2.13.0 in c:\\users\\sam\\anaconda3\\envs\\catan311\\lib\\site-packages (from rich->catanatron_experimental==1.0.0) (2.14.0)\n",
      "Requirement already satisfied: mdurl~=0.1 in c:\\users\\sam\\anaconda3\\envs\\catan311\\lib\\site-packages (from markdown-it-py<3.0.0,>=2.2.0->rich->catanatron_experimental==1.0.0) (0.1.2)\n",
      "Installing collected packages: catanatron_experimental\n",
      "  Attempting uninstall: catanatron_experimental\n",
      "    Found existing installation: catanatron_experimental 1.0.0\n",
      "    Uninstalling catanatron_experimental-1.0.0:\n",
      "      Successfully uninstalled catanatron_experimental-1.0.0\n",
      "  Running setup.py develop for catanatron_experimental\n",
      "Successfully installed catanatron_experimental-1.0.0\n",
      "Note: you may need to restart the kernel to use updated packages.\n"
     ]
    },
    {
     "name": "stderr",
     "output_type": "stream",
     "text": [
      "  DEPRECATION: Legacy editable install of catanatron_experimental==1.0.0 from file:///C:/Users/SAM/CODE/catan_atron/catanatron/catanatron_experimental/catanatron_experimental/catanatron/catanatron_experimental (setup.py develop) is deprecated. pip 25.1 will enforce this behaviour change. A possible replacement is to add a pyproject.toml or enable --use-pep517, and use setuptools >= 64. If the resulting installation is not behaving as expected, try using --config-settings editable_mode=compat. Please consult the setuptools documentation for more information. Discussion can be found at https://github.com/pypa/pip/issues/11457\n"
     ]
    }
   ],
   "source": [
    "%pip install -e catanatron/catanatron_experimental\n"
   ]
  },
  {
   "cell_type": "code",
   "execution_count": 1,
   "id": "4f56dcbc",
   "metadata": {},
   "outputs": [
    {
     "name": "stdout",
     "output_type": "stream",
     "text": [
      "Requirement already satisfied: tensorflow in c:\\users\\sam\\anaconda3\\envs\\catan311\\lib\\site-packages (2.19.0)\n",
      "Requirement already satisfied: absl-py>=1.0.0 in c:\\users\\sam\\anaconda3\\envs\\catan311\\lib\\site-packages (from tensorflow) (2.2.2)\n",
      "Requirement already satisfied: astunparse>=1.6.0 in c:\\users\\sam\\anaconda3\\envs\\catan311\\lib\\site-packages (from tensorflow) (1.6.3)\n",
      "Requirement already satisfied: flatbuffers>=24.3.25 in c:\\users\\sam\\anaconda3\\envs\\catan311\\lib\\site-packages (from tensorflow) (25.2.10)\n",
      "Requirement already satisfied: gast!=0.5.0,!=0.5.1,!=0.5.2,>=0.2.1 in c:\\users\\sam\\anaconda3\\envs\\catan311\\lib\\site-packages (from tensorflow) (0.6.0)\n",
      "Requirement already satisfied: google-pasta>=0.1.1 in c:\\users\\sam\\anaconda3\\envs\\catan311\\lib\\site-packages (from tensorflow) (0.2.0)\n",
      "Requirement already satisfied: libclang>=13.0.0 in c:\\users\\sam\\anaconda3\\envs\\catan311\\lib\\site-packages (from tensorflow) (18.1.1)\n",
      "Requirement already satisfied: opt-einsum>=2.3.2 in c:\\users\\sam\\anaconda3\\envs\\catan311\\lib\\site-packages (from tensorflow) (3.4.0)\n",
      "Requirement already satisfied: packaging in c:\\users\\sam\\anaconda3\\envs\\catan311\\lib\\site-packages (from tensorflow) (24.1)\n",
      "Requirement already satisfied: protobuf!=4.21.0,!=4.21.1,!=4.21.2,!=4.21.3,!=4.21.4,!=4.21.5,<6.0.0dev,>=3.20.3 in c:\\users\\sam\\anaconda3\\envs\\catan311\\lib\\site-packages (from tensorflow) (5.29.4)\n",
      "Requirement already satisfied: requests<3,>=2.21.0 in c:\\users\\sam\\anaconda3\\envs\\catan311\\lib\\site-packages (from tensorflow) (2.28.2)\n",
      "Requirement already satisfied: setuptools in c:\\users\\sam\\anaconda3\\envs\\catan311\\lib\\site-packages (from tensorflow) (75.8.0)\n",
      "Requirement already satisfied: six>=1.12.0 in c:\\users\\sam\\anaconda3\\envs\\catan311\\lib\\site-packages (from tensorflow) (1.16.0)\n",
      "Requirement already satisfied: termcolor>=1.1.0 in c:\\users\\sam\\anaconda3\\envs\\catan311\\lib\\site-packages (from tensorflow) (3.1.0)\n",
      "Requirement already satisfied: typing-extensions>=3.6.6 in c:\\users\\sam\\anaconda3\\envs\\catan311\\lib\\site-packages (from tensorflow) (4.13.2)\n",
      "Requirement already satisfied: wrapt>=1.11.0 in c:\\users\\sam\\anaconda3\\envs\\catan311\\lib\\site-packages (from tensorflow) (1.17.2)\n",
      "Requirement already satisfied: grpcio<2.0,>=1.24.3 in c:\\users\\sam\\anaconda3\\envs\\catan311\\lib\\site-packages (from tensorflow) (1.71.0)\n",
      "Requirement already satisfied: tensorboard~=2.19.0 in c:\\users\\sam\\anaconda3\\envs\\catan311\\lib\\site-packages (from tensorflow) (2.19.0)\n",
      "Requirement already satisfied: keras>=3.5.0 in c:\\users\\sam\\anaconda3\\envs\\catan311\\lib\\site-packages (from tensorflow) (3.9.2)\n",
      "Requirement already satisfied: numpy<2.2.0,>=1.26.0 in c:\\users\\sam\\anaconda3\\envs\\catan311\\lib\\site-packages (from tensorflow) (2.1.3)\n",
      "Requirement already satisfied: h5py>=3.11.0 in c:\\users\\sam\\anaconda3\\envs\\catan311\\lib\\site-packages (from tensorflow) (3.13.0)\n",
      "Requirement already satisfied: ml-dtypes<1.0.0,>=0.5.1 in c:\\users\\sam\\anaconda3\\envs\\catan311\\lib\\site-packages (from tensorflow) (0.5.1)\n",
      "Requirement already satisfied: tensorflow-io-gcs-filesystem>=0.23.1 in c:\\users\\sam\\anaconda3\\envs\\catan311\\lib\\site-packages (from tensorflow) (0.31.0)\n",
      "Requirement already satisfied: wheel<1.0,>=0.23.0 in c:\\users\\sam\\anaconda3\\envs\\catan311\\lib\\site-packages (from astunparse>=1.6.0->tensorflow) (0.45.1)\n",
      "Requirement already satisfied: rich in c:\\users\\sam\\anaconda3\\envs\\catan311\\lib\\site-packages (from keras>=3.5.0->tensorflow) (13.3.2)\n",
      "Requirement already satisfied: namex in c:\\users\\sam\\anaconda3\\envs\\catan311\\lib\\site-packages (from keras>=3.5.0->tensorflow) (0.0.9)\n",
      "Requirement already satisfied: optree in c:\\users\\sam\\anaconda3\\envs\\catan311\\lib\\site-packages (from keras>=3.5.0->tensorflow) (0.15.0)\n",
      "Requirement already satisfied: charset-normalizer<4,>=2 in c:\\users\\sam\\anaconda3\\envs\\catan311\\lib\\site-packages (from requests<3,>=2.21.0->tensorflow) (3.1.0)\n",
      "Requirement already satisfied: idna<4,>=2.5 in c:\\users\\sam\\anaconda3\\envs\\catan311\\lib\\site-packages (from requests<3,>=2.21.0->tensorflow) (3.4)\n",
      "Requirement already satisfied: urllib3<1.27,>=1.21.1 in c:\\users\\sam\\anaconda3\\envs\\catan311\\lib\\site-packages (from requests<3,>=2.21.0->tensorflow) (1.26.15)\n",
      "Requirement already satisfied: certifi>=2017.4.17 in c:\\users\\sam\\anaconda3\\envs\\catan311\\lib\\site-packages (from requests<3,>=2.21.0->tensorflow) (2022.12.7)\n",
      "Requirement already satisfied: markdown>=2.6.8 in c:\\users\\sam\\anaconda3\\envs\\catan311\\lib\\site-packages (from tensorboard~=2.19.0->tensorflow) (3.8)\n",
      "Requirement already satisfied: tensorboard-data-server<0.8.0,>=0.7.0 in c:\\users\\sam\\anaconda3\\envs\\catan311\\lib\\site-packages (from tensorboard~=2.19.0->tensorflow) (0.7.2)\n",
      "Requirement already satisfied: werkzeug>=1.0.1 in c:\\users\\sam\\anaconda3\\envs\\catan311\\lib\\site-packages (from tensorboard~=2.19.0->tensorflow) (2.2.3)\n",
      "Requirement already satisfied: MarkupSafe>=2.1.1 in c:\\users\\sam\\anaconda3\\envs\\catan311\\lib\\site-packages (from werkzeug>=1.0.1->tensorboard~=2.19.0->tensorflow) (2.1.2)\n",
      "Requirement already satisfied: markdown-it-py<3.0.0,>=2.2.0 in c:\\users\\sam\\anaconda3\\envs\\catan311\\lib\\site-packages (from rich->keras>=3.5.0->tensorflow) (2.2.0)\n",
      "Requirement already satisfied: pygments<3.0.0,>=2.13.0 in c:\\users\\sam\\anaconda3\\envs\\catan311\\lib\\site-packages (from rich->keras>=3.5.0->tensorflow) (2.14.0)\n",
      "Requirement already satisfied: mdurl~=0.1 in c:\\users\\sam\\anaconda3\\envs\\catan311\\lib\\site-packages (from markdown-it-py<3.0.0,>=2.2.0->rich->keras>=3.5.0->tensorflow) (0.1.2)\n",
      "Note: you may need to restart the kernel to use updated packages.\n",
      "Found existing installation: pandas 2.2.3\n",
      "Uninstalling pandas-2.2.3:\n",
      "  Successfully uninstalled pandas-2.2.3\n",
      "Found existing installation: numpy 2.1.3\n",
      "Uninstalling numpy-2.1.3:\n",
      "  Successfully uninstalled numpy-2.1.3\n",
      "Note: you may need to restart the kernel to use updated packages.\n",
      "Collecting numpy\n",
      "  Downloading numpy-2.2.6-cp311-cp311-win_amd64.whl.metadata (60 kB)\n",
      "Collecting pandas\n",
      "  Downloading pandas-2.2.3-cp311-cp311-win_amd64.whl.metadata (19 kB)\n",
      "Requirement already satisfied: python-dateutil>=2.8.2 in c:\\users\\sam\\anaconda3\\envs\\catan311\\lib\\site-packages (from pandas) (2.8.2)\n",
      "Requirement already satisfied: pytz>=2020.1 in c:\\users\\sam\\anaconda3\\envs\\catan311\\lib\\site-packages (from pandas) (2022.7.1)\n",
      "Requirement already satisfied: tzdata>=2022.7 in c:\\users\\sam\\anaconda3\\envs\\catan311\\lib\\site-packages (from pandas) (2025.2)\n",
      "Requirement already satisfied: six>=1.5 in c:\\users\\sam\\anaconda3\\envs\\catan311\\lib\\site-packages (from python-dateutil>=2.8.2->pandas) (1.16.0)\n",
      "Downloading numpy-2.2.6-cp311-cp311-win_amd64.whl (12.9 MB)\n",
      "   ---------------------------------------- 0.0/12.9 MB ? eta -:--:--\n",
      "   --- ------------------------------------ 1.0/12.9 MB 6.3 MB/s eta 0:00:02\n",
      "   ---- ----------------------------------- 1.6/12.9 MB 4.2 MB/s eta 0:00:03\n",
      "   ------ --------------------------------- 2.1/12.9 MB 3.7 MB/s eta 0:00:03\n",
      "   -------- ------------------------------- 2.6/12.9 MB 3.4 MB/s eta 0:00:04\n",
      "   --------- ------------------------------ 3.1/12.9 MB 3.1 MB/s eta 0:00:04\n",
      "   ----------- ---------------------------- 3.7/12.9 MB 3.0 MB/s eta 0:00:04\n",
      "   ------------ --------------------------- 4.2/12.9 MB 2.8 MB/s eta 0:00:04\n",
      "   ------------- -------------------------- 4.5/12.9 MB 2.8 MB/s eta 0:00:04\n",
      "   --------------- ------------------------ 5.0/12.9 MB 2.6 MB/s eta 0:00:04\n",
      "   ---------------- ----------------------- 5.2/12.9 MB 2.6 MB/s eta 0:00:03\n",
      "   ----------------- ---------------------- 5.8/12.9 MB 2.6 MB/s eta 0:00:03\n",
      "   ------------------- -------------------- 6.3/12.9 MB 2.6 MB/s eta 0:00:03\n",
      "   --------------------- ------------------ 6.8/12.9 MB 2.6 MB/s eta 0:00:03\n",
      "   ---------------------- ----------------- 7.3/12.9 MB 2.5 MB/s eta 0:00:03\n",
      "   ----------------------- ---------------- 7.6/12.9 MB 2.5 MB/s eta 0:00:03\n",
      "   ------------------------- -------------- 8.1/12.9 MB 2.4 MB/s eta 0:00:02\n",
      "   ------------------------- -------------- 8.4/12.9 MB 2.4 MB/s eta 0:00:02\n",
      "   -------------------------- ------------- 8.7/12.9 MB 2.3 MB/s eta 0:00:02\n",
      "   ---------------------------- ----------- 9.2/12.9 MB 2.3 MB/s eta 0:00:02\n",
      "   ----------------------------- ---------- 9.4/12.9 MB 2.3 MB/s eta 0:00:02\n",
      "   ------------------------------- -------- 10.2/12.9 MB 2.3 MB/s eta 0:00:02\n",
      "   ---------------------------------- ----- 11.0/12.9 MB 2.4 MB/s eta 0:00:01\n",
      "   ----------------------------------- ---- 11.5/12.9 MB 2.4 MB/s eta 0:00:01\n",
      "   ------------------------------------ --- 11.8/12.9 MB 2.4 MB/s eta 0:00:01\n",
      "   -------------------------------------- - 12.3/12.9 MB 2.4 MB/s eta 0:00:01\n",
      "   ---------------------------------------- 12.9/12.9 MB 2.4 MB/s eta 0:00:00\n",
      "Downloading pandas-2.2.3-cp311-cp311-win_amd64.whl (11.6 MB)\n",
      "   ---------------------------------------- 0.0/11.6 MB ? eta -:--:--\n",
      "   - -------------------------------------- 0.5/11.6 MB 2.4 MB/s eta 0:00:05\n",
      "   -- ------------------------------------- 0.8/11.6 MB 1.8 MB/s eta 0:00:07\n",
      "   --- ------------------------------------ 1.0/11.6 MB 1.6 MB/s eta 0:00:07\n",
      "   ---- ----------------------------------- 1.3/11.6 MB 1.6 MB/s eta 0:00:07\n",
      "   ------ --------------------------------- 1.8/11.6 MB 1.7 MB/s eta 0:00:06\n",
      "   ------- -------------------------------- 2.1/11.6 MB 1.7 MB/s eta 0:00:06\n",
      "   --------- ------------------------------ 2.6/11.6 MB 1.9 MB/s eta 0:00:05\n",
      "   --------- ------------------------------ 2.9/11.6 MB 1.9 MB/s eta 0:00:05\n",
      "   ----------- ---------------------------- 3.4/11.6 MB 1.8 MB/s eta 0:00:05\n",
      "   ------------- -------------------------- 3.9/11.6 MB 1.9 MB/s eta 0:00:04\n",
      "   --------------- ------------------------ 4.5/11.6 MB 1.9 MB/s eta 0:00:04\n",
      "   ----------------- ---------------------- 5.0/11.6 MB 2.0 MB/s eta 0:00:04\n",
      "   ------------------ --------------------- 5.5/11.6 MB 2.0 MB/s eta 0:00:04\n",
      "   -------------------- ------------------- 6.0/11.6 MB 2.1 MB/s eta 0:00:03\n",
      "   --------------------- ------------------ 6.3/11.6 MB 2.1 MB/s eta 0:00:03\n",
      "   ----------------------- ---------------- 6.8/11.6 MB 2.1 MB/s eta 0:00:03\n",
      "   ------------------------ --------------- 7.1/11.6 MB 2.0 MB/s eta 0:00:03\n",
      "   ------------------------- -------------- 7.3/11.6 MB 2.0 MB/s eta 0:00:03\n",
      "   -------------------------- ------------- 7.6/11.6 MB 2.0 MB/s eta 0:00:02\n",
      "   --------------------------- ------------ 8.1/11.6 MB 2.0 MB/s eta 0:00:02\n",
      "   ---------------------------- ----------- 8.4/11.6 MB 2.0 MB/s eta 0:00:02\n",
      "   ------------------------------ --------- 8.9/11.6 MB 2.0 MB/s eta 0:00:02\n",
      "   -------------------------------- ------- 9.4/11.6 MB 2.0 MB/s eta 0:00:02\n",
      "   ---------------------------------- ----- 10.0/11.6 MB 2.0 MB/s eta 0:00:01\n",
      "   ------------------------------------ --- 10.5/11.6 MB 2.0 MB/s eta 0:00:01\n",
      "   ------------------------------------- -- 11.0/11.6 MB 2.1 MB/s eta 0:00:01\n",
      "   ---------------------------------------- 11.6/11.6 MB 2.1 MB/s eta 0:00:00\n",
      "Installing collected packages: numpy, pandas\n",
      "Successfully installed numpy-2.2.6 pandas-2.2.3\n",
      "Note: you may need to restart the kernel to use updated packages.\n"
     ]
    },
    {
     "name": "stderr",
     "output_type": "stream",
     "text": [
      "ERROR: pip's dependency resolver does not currently take into account all the packages that are installed. This behaviour is the source of the following dependency conflicts.\n",
      "tensorflow 2.19.0 requires numpy<2.2.0,>=1.26.0, but you have numpy 2.2.6 which is incompatible.\n"
     ]
    },
    {
     "name": "stdout",
     "output_type": "stream",
     "text": [
      "Collecting numpy<2.2.0,>=1.26.0\n",
      "  Using cached numpy-2.1.3-cp311-cp311-win_amd64.whl.metadata (60 kB)\n",
      "Using cached numpy-2.1.3-cp311-cp311-win_amd64.whl (12.9 MB)\n",
      "Installing collected packages: numpy\n",
      "  Attempting uninstall: numpy\n",
      "    Found existing installation: numpy 2.2.6\n",
      "    Uninstalling numpy-2.2.6:\n",
      "      Successfully uninstalled numpy-2.2.6\n",
      "Successfully installed numpy-2.1.3\n",
      "Note: you may need to restart the kernel to use updated packages.\n",
      "Requirement already satisfied: torch in c:\\users\\sam\\anaconda3\\envs\\catan311\\lib\\site-packages (2.5.1+cu121)\n",
      "Requirement already satisfied: filelock in c:\\users\\sam\\anaconda3\\envs\\catan311\\lib\\site-packages (from torch) (3.18.0)\n",
      "Requirement already satisfied: typing-extensions>=4.8.0 in c:\\users\\sam\\anaconda3\\envs\\catan311\\lib\\site-packages (from torch) (4.13.2)\n",
      "Requirement already satisfied: networkx in c:\\users\\sam\\anaconda3\\envs\\catan311\\lib\\site-packages (from torch) (3.0)\n",
      "Requirement already satisfied: jinja2 in c:\\users\\sam\\anaconda3\\envs\\catan311\\lib\\site-packages (from torch) (3.1.2)\n",
      "Requirement already satisfied: fsspec in c:\\users\\sam\\anaconda3\\envs\\catan311\\lib\\site-packages (from torch) (2025.3.2)\n",
      "Requirement already satisfied: sympy==1.13.1 in c:\\users\\sam\\anaconda3\\envs\\catan311\\lib\\site-packages (from torch) (1.13.1)\n",
      "Requirement already satisfied: mpmath<1.4,>=1.1.0 in c:\\users\\sam\\anaconda3\\envs\\catan311\\lib\\site-packages (from sympy==1.13.1->torch) (1.3.0)\n",
      "Requirement already satisfied: MarkupSafe>=2.0 in c:\\users\\sam\\anaconda3\\envs\\catan311\\lib\\site-packages (from jinja2->torch) (2.1.2)\n",
      "Note: you may need to restart the kernel to use updated packages.\n"
     ]
    }
   ],
   "source": [
    "%pip install tensorflow \n",
    "%pip uninstall pandas numpy -y\n",
    "%pip install --no-cache-dir numpy pandas\n",
    "%pip install \"numpy>=1.26.0,<2.2.0\"\n",
    "%pip install torch\n"
   ]
  },
  {
   "cell_type": "code",
   "execution_count": 1,
   "id": "dd32b2b1",
   "metadata": {},
   "outputs": [
    {
     "name": "stdout",
     "output_type": "stream",
     "text": [
      "Found existing installation: torch 2.5.1+cu121\n",
      "Uninstalling torch-2.5.1+cu121:\n",
      "  Successfully uninstalled torch-2.5.1+cu121\n",
      "Found existing installation: torchvision 0.20.1+cu121\n",
      "Uninstalling torchvision-0.20.1+cu121:\n",
      "  Successfully uninstalled torchvision-0.20.1+cu121\n",
      "Found existing installation: torchaudio 2.5.1+cu121\n",
      "Uninstalling torchaudio-2.5.1+cu121:\n",
      "  Successfully uninstalled torchaudio-2.5.1+cu121\n",
      "Note: you may need to restart the kernel to use updated packages.\n",
      "Looking in indexes: https://download.pytorch.org/whl/cu121\n",
      "Collecting torch\n",
      "  Using cached https://download.pytorch.org/whl/cu121/torch-2.5.1%2Bcu121-cp311-cp311-win_amd64.whl (2449.4 MB)\n",
      "Collecting torchvision\n",
      "  Using cached https://download.pytorch.org/whl/cu121/torchvision-0.20.1%2Bcu121-cp311-cp311-win_amd64.whl (6.1 MB)\n",
      "Collecting torchaudio\n",
      "  Using cached https://download.pytorch.org/whl/cu121/torchaudio-2.5.1%2Bcu121-cp311-cp311-win_amd64.whl (4.1 MB)\n",
      "Requirement already satisfied: filelock in c:\\users\\sam\\anaconda3\\envs\\catan311\\lib\\site-packages (from torch) (3.18.0)\n",
      "Requirement already satisfied: typing-extensions>=4.8.0 in c:\\users\\sam\\anaconda3\\envs\\catan311\\lib\\site-packages (from torch) (4.13.2)\n",
      "Requirement already satisfied: networkx in c:\\users\\sam\\anaconda3\\envs\\catan311\\lib\\site-packages (from torch) (3.0)\n",
      "Requirement already satisfied: jinja2 in c:\\users\\sam\\anaconda3\\envs\\catan311\\lib\\site-packages (from torch) (3.1.2)\n",
      "Requirement already satisfied: fsspec in c:\\users\\sam\\anaconda3\\envs\\catan311\\lib\\site-packages (from torch) (2025.3.2)\n",
      "Requirement already satisfied: sympy==1.13.1 in c:\\users\\sam\\anaconda3\\envs\\catan311\\lib\\site-packages (from torch) (1.13.1)\n",
      "Requirement already satisfied: mpmath<1.4,>=1.1.0 in c:\\users\\sam\\anaconda3\\envs\\catan311\\lib\\site-packages (from sympy==1.13.1->torch) (1.3.0)\n",
      "Requirement already satisfied: numpy in c:\\users\\sam\\anaconda3\\envs\\catan311\\lib\\site-packages (from torchvision) (2.1.3)\n",
      "Requirement already satisfied: pillow!=8.3.*,>=5.3.0 in c:\\users\\sam\\anaconda3\\envs\\catan311\\lib\\site-packages (from torchvision) (11.0.0)\n",
      "Requirement already satisfied: MarkupSafe>=2.0 in c:\\users\\sam\\anaconda3\\envs\\catan311\\lib\\site-packages (from jinja2->torch) (2.1.2)\n",
      "Installing collected packages: torch, torchvision, torchaudio\n",
      "Successfully installed torch-2.5.1+cu121 torchaudio-2.5.1+cu121 torchvision-0.20.1+cu121\n",
      "Note: you may need to restart the kernel to use updated packages.\n"
     ]
    }
   ],
   "source": [
    "%pip uninstall torch torchvision torchaudio -y\n",
    "%pip install torch torchvision torchaudio --index-url https://download.pytorch.org/whl/cu121\n"
   ]
  },
  {
   "cell_type": "code",
   "execution_count": 1,
   "id": "c362339e",
   "metadata": {},
   "outputs": [
    {
     "name": "stdout",
     "output_type": "stream",
     "text": [
      "True\n",
      "NVIDIA GeForce RTX 2060 SUPER\n"
     ]
    }
   ],
   "source": [
    "import torch\n",
    "print(torch.cuda.is_available())\n",
    "print(torch.cuda.get_device_name(0) if torch.cuda.is_available() else \"No GPU detected\")\n"
   ]
  },
  {
   "cell_type": "markdown",
   "id": "5ef8f5a2-feb0-49d3-a2b5-a9f1c462db5d",
   "metadata": {},
   "source": [
    "Then, you can implement your own bot strategy and pit against some benchmark bots."
   ]
  },
  {
   "cell_type": "code",
   "execution_count": 2,
   "id": "ef40e33f-8937-4918-b626-d70a2615e7aa",
   "metadata": {},
   "outputs": [],
   "source": [
    "import random\n",
    "\n",
    "from catanatron.game import Game\n",
    "from catanatron.models.player import Player, RandomPlayer, Color\n",
    "from machine_learning.players.online_mcts_dqn import OnlineMCTSDQNPlayer_1\n",
    "from machine_learning.players.apl_beta_dqn import AB_DQNPlayer_1\n",
    "from catanatron_experimental.machine_learning.players.minimax import AlphaBetaPlayer\n",
    "\n",
    "from catanatron.players.weighted_random import WeightedRandomPlayer\n"
   ]
  },
  {
   "cell_type": "code",
   "execution_count": 3,
   "id": "65d88e4f",
   "metadata": {},
   "outputs": [
    {
     "name": "stdout",
     "output_type": "stream",
     "text": [
      "Collected 500 samples...\n",
      "Collected 1000 samples...\n",
      "Collected 1500 samples...\n",
      "Collected 2000 samples...\n",
      "Collected 2500 samples...\n",
      "Collected 3000 samples...\n",
      "Collected 3500 samples...\n",
      "Collected 4000 samples...\n",
      "Collected 4500 samples...\n",
      "Collected 5000 samples...\n",
      "Collected 5500 samples...\n",
      "Collected 6000 samples...\n",
      "Collected 6500 samples...\n",
      "Collected 7000 samples...\n",
      "Collected 7500 samples...\n",
      "Collected 8000 samples...\n",
      "Collected 8500 samples...\n",
      "Collected 9000 samples...\n",
      "Collected 9500 samples...\n",
      "Collected 10000 samples...\n",
      "Saved mean to: data\\mcts-playouts-validation\\mean.npy\n",
      "Saved variance to: data\\mcts-playouts-validation\\variance.npy\n"
     ]
    }
   ],
   "source": [
    "import numpy as np\n",
    "from pathlib import Path\n",
    "from catanatron.game import Game\n",
    "from catanatron.models.player import Color, RandomPlayer\n",
    "from catanatron_gym.features import create_sample_vector, get_feature_ordering\n",
    "\n",
    "# === Configuration\n",
    "DATA_PATH = \"data/mcts-playouts-validation\"\n",
    "NORMALIZATION_MEAN_PATH = Path(DATA_PATH, \"mean.npy\")\n",
    "NORMALIZATION_VARIANCE_PATH = Path(DATA_PATH, \"variance.npy\")\n",
    "\n",
    "NUM_SAMPLES = 10000  # Feel free to increase\n",
    "\n",
    "def generate_random_game():\n",
    "    players = [\n",
    "        RandomPlayer(Color.RED),\n",
    "        RandomPlayer(Color.BLUE),\n",
    "        RandomPlayer(Color.WHITE),\n",
    "        RandomPlayer(Color.ORANGE),\n",
    "    ]\n",
    "    game = Game(players)\n",
    "\n",
    "    # Step the game forward for a few ticks\n",
    "    for _ in range(30):  # Roughly ~5 turns depending on tick granularity\n",
    "        if game.winning_color() is not None:\n",
    "            break\n",
    "        game.play_tick()\n",
    "\n",
    "    return game\n",
    "\n",
    "\n",
    "# === Collect sample vectors\n",
    "samples = []\n",
    "\n",
    "for i in range(NUM_SAMPLES):\n",
    "    game = generate_random_game()\n",
    "    vec = create_sample_vector(game, game.state.colors[0])  # Use RED's view\n",
    "    samples.append(vec)\n",
    "    if (i + 1) % 500 == 0:\n",
    "        print(f\"Collected {i + 1} samples...\")\n",
    "\n",
    "# === Compute statistics\n",
    "samples = np.array(samples)\n",
    "mean = samples.mean(axis=0)\n",
    "variance = samples.var(axis=0)\n",
    "\n",
    "# === Save to disk\n",
    "Path(DATA_PATH).mkdir(parents=True, exist_ok=True)\n",
    "np.save(NORMALIZATION_MEAN_PATH, mean)\n",
    "np.save(NORMALIZATION_VARIANCE_PATH, variance)\n",
    "\n",
    "print(f\"Saved mean to: {NORMALIZATION_MEAN_PATH}\")\n",
    "print(f\"Saved variance to: {NORMALIZATION_VARIANCE_PATH}\")\n"
   ]
  },
  {
   "cell_type": "code",
   "execution_count": 4,
   "id": "2bfdf5cd",
   "metadata": {},
   "outputs": [
    {
     "name": "stdout",
     "output_type": "stream",
     "text": [
      "['BANK_BRICK', 'BANK_DEV_CARDS', 'BANK_ORE', 'BANK_SHEEP', 'BANK_WHEAT', 'BANK_WOOD', 'EDGE(0, 1)_P0_ROAD', 'EDGE(0, 1)_P1_ROAD', 'EDGE(0, 1)_P2_ROAD', 'EDGE(0, 1)_P3_ROAD', 'EDGE(0, 20)_P0_ROAD', 'EDGE(0, 20)_P1_ROAD', 'EDGE(0, 20)_P2_ROAD', 'EDGE(0, 20)_P3_ROAD', 'EDGE(0, 5)_P0_ROAD', 'EDGE(0, 5)_P1_ROAD', 'EDGE(0, 5)_P2_ROAD', 'EDGE(0, 5)_P3_ROAD', 'EDGE(1, 2)_P0_ROAD', 'EDGE(1, 2)_P1_ROAD', 'EDGE(1, 2)_P2_ROAD', 'EDGE(1, 2)_P3_ROAD', 'EDGE(1, 6)_P0_ROAD', 'EDGE(1, 6)_P1_ROAD', 'EDGE(1, 6)_P2_ROAD', 'EDGE(1, 6)_P3_ROAD', 'EDGE(10, 11)_P0_ROAD', 'EDGE(10, 11)_P1_ROAD', 'EDGE(10, 11)_P2_ROAD', 'EDGE(10, 11)_P3_ROAD', 'EDGE(10, 29)_P0_ROAD', 'EDGE(10, 29)_P1_ROAD', 'EDGE(10, 29)_P2_ROAD', 'EDGE(10, 29)_P3_ROAD', 'EDGE(11, 12)_P0_ROAD', 'EDGE(11, 12)_P1_ROAD', 'EDGE(11, 12)_P2_ROAD', 'EDGE(11, 12)_P3_ROAD', 'EDGE(11, 32)_P0_ROAD', 'EDGE(11, 32)_P1_ROAD', 'EDGE(11, 32)_P2_ROAD', 'EDGE(11, 32)_P3_ROAD', 'EDGE(12, 13)_P0_ROAD', 'EDGE(12, 13)_P1_ROAD', 'EDGE(12, 13)_P2_ROAD', 'EDGE(12, 13)_P3_ROAD', 'EDGE(13, 14)_P0_ROAD', 'EDGE(13, 14)_P1_ROAD', 'EDGE(13, 14)_P2_ROAD', 'EDGE(13, 14)_P3_ROAD', 'EDGE(13, 34)_P0_ROAD', 'EDGE(13, 34)_P1_ROAD', 'EDGE(13, 34)_P2_ROAD', 'EDGE(13, 34)_P3_ROAD', 'EDGE(14, 15)_P0_ROAD', 'EDGE(14, 15)_P1_ROAD', 'EDGE(14, 15)_P2_ROAD', 'EDGE(14, 15)_P3_ROAD', 'EDGE(14, 37)_P0_ROAD', 'EDGE(14, 37)_P1_ROAD', 'EDGE(14, 37)_P2_ROAD', 'EDGE(14, 37)_P3_ROAD', 'EDGE(15, 17)_P0_ROAD', 'EDGE(15, 17)_P1_ROAD', 'EDGE(15, 17)_P2_ROAD', 'EDGE(15, 17)_P3_ROAD', 'EDGE(16, 18)_P0_ROAD', 'EDGE(16, 18)_P1_ROAD', 'EDGE(16, 18)_P2_ROAD', 'EDGE(16, 18)_P3_ROAD', 'EDGE(16, 21)_P0_ROAD', 'EDGE(16, 21)_P1_ROAD', 'EDGE(16, 21)_P2_ROAD', 'EDGE(16, 21)_P3_ROAD', 'EDGE(17, 18)_P0_ROAD', 'EDGE(17, 18)_P1_ROAD', 'EDGE(17, 18)_P2_ROAD', 'EDGE(17, 18)_P3_ROAD', 'EDGE(17, 39)_P0_ROAD', 'EDGE(17, 39)_P1_ROAD', 'EDGE(17, 39)_P2_ROAD', 'EDGE(17, 39)_P3_ROAD', 'EDGE(18, 40)_P0_ROAD', 'EDGE(18, 40)_P1_ROAD', 'EDGE(18, 40)_P2_ROAD', 'EDGE(18, 40)_P3_ROAD', 'EDGE(19, 20)_P0_ROAD', 'EDGE(19, 20)_P1_ROAD', 'EDGE(19, 20)_P2_ROAD', 'EDGE(19, 20)_P3_ROAD', 'EDGE(19, 21)_P0_ROAD', 'EDGE(19, 21)_P1_ROAD', 'EDGE(19, 21)_P2_ROAD', 'EDGE(19, 21)_P3_ROAD', 'EDGE(19, 46)_P0_ROAD', 'EDGE(19, 46)_P1_ROAD', 'EDGE(19, 46)_P2_ROAD', 'EDGE(19, 46)_P3_ROAD', 'EDGE(2, 3)_P0_ROAD', 'EDGE(2, 3)_P1_ROAD', 'EDGE(2, 3)_P2_ROAD', 'EDGE(2, 3)_P3_ROAD', 'EDGE(2, 9)_P0_ROAD', 'EDGE(2, 9)_P1_ROAD', 'EDGE(2, 9)_P2_ROAD', 'EDGE(2, 9)_P3_ROAD', 'EDGE(20, 22)_P0_ROAD', 'EDGE(20, 22)_P1_ROAD', 'EDGE(20, 22)_P2_ROAD', 'EDGE(20, 22)_P3_ROAD', 'EDGE(21, 43)_P0_ROAD', 'EDGE(21, 43)_P1_ROAD', 'EDGE(21, 43)_P2_ROAD', 'EDGE(21, 43)_P3_ROAD', 'EDGE(22, 23)_P0_ROAD', 'EDGE(22, 23)_P1_ROAD', 'EDGE(22, 23)_P2_ROAD', 'EDGE(22, 23)_P3_ROAD', 'EDGE(22, 49)_P0_ROAD', 'EDGE(22, 49)_P1_ROAD', 'EDGE(22, 49)_P2_ROAD', 'EDGE(22, 49)_P3_ROAD', 'EDGE(23, 52)_P0_ROAD', 'EDGE(23, 52)_P1_ROAD', 'EDGE(23, 52)_P2_ROAD', 'EDGE(23, 52)_P3_ROAD', 'EDGE(24, 25)_P0_ROAD', 'EDGE(24, 25)_P1_ROAD', 'EDGE(24, 25)_P2_ROAD', 'EDGE(24, 25)_P3_ROAD', 'EDGE(24, 53)_P0_ROAD', 'EDGE(24, 53)_P1_ROAD', 'EDGE(24, 53)_P2_ROAD', 'EDGE(24, 53)_P3_ROAD', 'EDGE(25, 26)_P0_ROAD', 'EDGE(25, 26)_P1_ROAD', 'EDGE(25, 26)_P2_ROAD', 'EDGE(25, 26)_P3_ROAD', 'EDGE(26, 27)_P0_ROAD', 'EDGE(26, 27)_P1_ROAD', 'EDGE(26, 27)_P2_ROAD', 'EDGE(26, 27)_P3_ROAD', 'EDGE(27, 28)_P0_ROAD', 'EDGE(27, 28)_P1_ROAD', 'EDGE(27, 28)_P2_ROAD', 'EDGE(27, 28)_P3_ROAD', 'EDGE(28, 29)_P0_ROAD', 'EDGE(28, 29)_P1_ROAD', 'EDGE(28, 29)_P2_ROAD', 'EDGE(28, 29)_P3_ROAD', 'EDGE(29, 30)_P0_ROAD', 'EDGE(29, 30)_P1_ROAD', 'EDGE(29, 30)_P2_ROAD', 'EDGE(29, 30)_P3_ROAD', 'EDGE(3, 12)_P0_ROAD', 'EDGE(3, 12)_P1_ROAD', 'EDGE(3, 12)_P2_ROAD', 'EDGE(3, 12)_P3_ROAD', 'EDGE(3, 4)_P0_ROAD', 'EDGE(3, 4)_P1_ROAD', 'EDGE(3, 4)_P2_ROAD', 'EDGE(3, 4)_P3_ROAD', 'EDGE(30, 31)_P0_ROAD', 'EDGE(30, 31)_P1_ROAD', 'EDGE(30, 31)_P2_ROAD', 'EDGE(30, 31)_P3_ROAD', 'EDGE(31, 32)_P0_ROAD', 'EDGE(31, 32)_P1_ROAD', 'EDGE(31, 32)_P2_ROAD', 'EDGE(31, 32)_P3_ROAD', 'EDGE(32, 33)_P0_ROAD', 'EDGE(32, 33)_P1_ROAD', 'EDGE(32, 33)_P2_ROAD', 'EDGE(32, 33)_P3_ROAD', 'EDGE(33, 34)_P0_ROAD', 'EDGE(33, 34)_P1_ROAD', 'EDGE(33, 34)_P2_ROAD', 'EDGE(33, 34)_P3_ROAD', 'EDGE(34, 35)_P0_ROAD', 'EDGE(34, 35)_P1_ROAD', 'EDGE(34, 35)_P2_ROAD', 'EDGE(34, 35)_P3_ROAD', 'EDGE(35, 36)_P0_ROAD', 'EDGE(35, 36)_P1_ROAD', 'EDGE(35, 36)_P2_ROAD', 'EDGE(35, 36)_P3_ROAD', 'EDGE(36, 37)_P0_ROAD', 'EDGE(36, 37)_P1_ROAD', 'EDGE(36, 37)_P2_ROAD', 'EDGE(36, 37)_P3_ROAD', 'EDGE(37, 38)_P0_ROAD', 'EDGE(37, 38)_P1_ROAD', 'EDGE(37, 38)_P2_ROAD', 'EDGE(37, 38)_P3_ROAD', 'EDGE(38, 39)_P0_ROAD', 'EDGE(38, 39)_P1_ROAD', 'EDGE(38, 39)_P2_ROAD', 'EDGE(38, 39)_P3_ROAD', 'EDGE(39, 41)_P0_ROAD', 'EDGE(39, 41)_P1_ROAD', 'EDGE(39, 41)_P2_ROAD', 'EDGE(39, 41)_P3_ROAD', 'EDGE(4, 15)_P0_ROAD', 'EDGE(4, 15)_P1_ROAD', 'EDGE(4, 15)_P2_ROAD', 'EDGE(4, 15)_P3_ROAD', 'EDGE(4, 5)_P0_ROAD', 'EDGE(4, 5)_P1_ROAD', 'EDGE(4, 5)_P2_ROAD', 'EDGE(4, 5)_P3_ROAD', 'EDGE(40, 42)_P0_ROAD', 'EDGE(40, 42)_P1_ROAD', 'EDGE(40, 42)_P2_ROAD', 'EDGE(40, 42)_P3_ROAD', 'EDGE(40, 44)_P0_ROAD', 'EDGE(40, 44)_P1_ROAD', 'EDGE(40, 44)_P2_ROAD', 'EDGE(40, 44)_P3_ROAD', 'EDGE(41, 42)_P0_ROAD', 'EDGE(41, 42)_P1_ROAD', 'EDGE(41, 42)_P2_ROAD', 'EDGE(41, 42)_P3_ROAD', 'EDGE(43, 44)_P0_ROAD', 'EDGE(43, 44)_P1_ROAD', 'EDGE(43, 44)_P2_ROAD', 'EDGE(43, 44)_P3_ROAD', 'EDGE(43, 47)_P0_ROAD', 'EDGE(43, 47)_P1_ROAD', 'EDGE(43, 47)_P2_ROAD', 'EDGE(43, 47)_P3_ROAD', 'EDGE(45, 46)_P0_ROAD', 'EDGE(45, 46)_P1_ROAD', 'EDGE(45, 46)_P2_ROAD', 'EDGE(45, 46)_P3_ROAD', 'EDGE(45, 47)_P0_ROAD', 'EDGE(45, 47)_P1_ROAD', 'EDGE(45, 47)_P2_ROAD', 'EDGE(45, 47)_P3_ROAD', 'EDGE(46, 48)_P0_ROAD', 'EDGE(46, 48)_P1_ROAD', 'EDGE(46, 48)_P2_ROAD', 'EDGE(46, 48)_P3_ROAD', 'EDGE(48, 49)_P0_ROAD', 'EDGE(48, 49)_P1_ROAD', 'EDGE(48, 49)_P2_ROAD', 'EDGE(48, 49)_P3_ROAD', 'EDGE(49, 50)_P0_ROAD', 'EDGE(49, 50)_P1_ROAD', 'EDGE(49, 50)_P2_ROAD', 'EDGE(49, 50)_P3_ROAD', 'EDGE(5, 16)_P0_ROAD', 'EDGE(5, 16)_P1_ROAD', 'EDGE(5, 16)_P2_ROAD', 'EDGE(5, 16)_P3_ROAD', 'EDGE(50, 51)_P0_ROAD', 'EDGE(50, 51)_P1_ROAD', 'EDGE(50, 51)_P2_ROAD', 'EDGE(50, 51)_P3_ROAD', 'EDGE(51, 52)_P0_ROAD', 'EDGE(51, 52)_P1_ROAD', 'EDGE(51, 52)_P2_ROAD', 'EDGE(51, 52)_P3_ROAD', 'EDGE(52, 53)_P0_ROAD', 'EDGE(52, 53)_P1_ROAD', 'EDGE(52, 53)_P2_ROAD', 'EDGE(52, 53)_P3_ROAD', 'EDGE(6, 23)_P0_ROAD', 'EDGE(6, 23)_P1_ROAD', 'EDGE(6, 23)_P2_ROAD', 'EDGE(6, 23)_P3_ROAD', 'EDGE(6, 7)_P0_ROAD', 'EDGE(6, 7)_P1_ROAD', 'EDGE(6, 7)_P2_ROAD', 'EDGE(6, 7)_P3_ROAD', 'EDGE(7, 24)_P0_ROAD', 'EDGE(7, 24)_P1_ROAD', 'EDGE(7, 24)_P2_ROAD', 'EDGE(7, 24)_P3_ROAD', 'EDGE(7, 8)_P0_ROAD', 'EDGE(7, 8)_P1_ROAD', 'EDGE(7, 8)_P2_ROAD', 'EDGE(7, 8)_P3_ROAD', 'EDGE(8, 27)_P0_ROAD', 'EDGE(8, 27)_P1_ROAD', 'EDGE(8, 27)_P2_ROAD', 'EDGE(8, 27)_P3_ROAD', 'EDGE(8, 9)_P0_ROAD', 'EDGE(8, 9)_P1_ROAD', 'EDGE(8, 9)_P2_ROAD', 'EDGE(8, 9)_P3_ROAD', 'EDGE(9, 10)_P0_ROAD', 'EDGE(9, 10)_P1_ROAD', 'EDGE(9, 10)_P2_ROAD', 'EDGE(9, 10)_P3_ROAD', 'IS_DISCARDING', 'IS_MOVING_ROBBER', 'NODE0_P0_CITY', 'NODE0_P0_SETTLEMENT', 'NODE0_P1_CITY', 'NODE0_P1_SETTLEMENT', 'NODE0_P2_CITY', 'NODE0_P2_SETTLEMENT', 'NODE0_P3_CITY', 'NODE0_P3_SETTLEMENT', 'NODE10_P0_CITY', 'NODE10_P0_SETTLEMENT', 'NODE10_P1_CITY', 'NODE10_P1_SETTLEMENT', 'NODE10_P2_CITY', 'NODE10_P2_SETTLEMENT', 'NODE10_P3_CITY', 'NODE10_P3_SETTLEMENT', 'NODE11_P0_CITY', 'NODE11_P0_SETTLEMENT', 'NODE11_P1_CITY', 'NODE11_P1_SETTLEMENT', 'NODE11_P2_CITY', 'NODE11_P2_SETTLEMENT', 'NODE11_P3_CITY', 'NODE11_P3_SETTLEMENT', 'NODE12_P0_CITY', 'NODE12_P0_SETTLEMENT', 'NODE12_P1_CITY', 'NODE12_P1_SETTLEMENT', 'NODE12_P2_CITY', 'NODE12_P2_SETTLEMENT', 'NODE12_P3_CITY', 'NODE12_P3_SETTLEMENT', 'NODE13_P0_CITY', 'NODE13_P0_SETTLEMENT', 'NODE13_P1_CITY', 'NODE13_P1_SETTLEMENT', 'NODE13_P2_CITY', 'NODE13_P2_SETTLEMENT', 'NODE13_P3_CITY', 'NODE13_P3_SETTLEMENT', 'NODE14_P0_CITY', 'NODE14_P0_SETTLEMENT', 'NODE14_P1_CITY', 'NODE14_P1_SETTLEMENT', 'NODE14_P2_CITY', 'NODE14_P2_SETTLEMENT', 'NODE14_P3_CITY', 'NODE14_P3_SETTLEMENT', 'NODE15_P0_CITY', 'NODE15_P0_SETTLEMENT', 'NODE15_P1_CITY', 'NODE15_P1_SETTLEMENT', 'NODE15_P2_CITY', 'NODE15_P2_SETTLEMENT', 'NODE15_P3_CITY', 'NODE15_P3_SETTLEMENT', 'NODE16_P0_CITY', 'NODE16_P0_SETTLEMENT', 'NODE16_P1_CITY', 'NODE16_P1_SETTLEMENT', 'NODE16_P2_CITY', 'NODE16_P2_SETTLEMENT', 'NODE16_P3_CITY', 'NODE16_P3_SETTLEMENT', 'NODE17_P0_CITY', 'NODE17_P0_SETTLEMENT', 'NODE17_P1_CITY', 'NODE17_P1_SETTLEMENT', 'NODE17_P2_CITY', 'NODE17_P2_SETTLEMENT', 'NODE17_P3_CITY', 'NODE17_P3_SETTLEMENT', 'NODE18_P0_CITY', 'NODE18_P0_SETTLEMENT', 'NODE18_P1_CITY', 'NODE18_P1_SETTLEMENT', 'NODE18_P2_CITY', 'NODE18_P2_SETTLEMENT', 'NODE18_P3_CITY', 'NODE18_P3_SETTLEMENT', 'NODE19_P0_CITY', 'NODE19_P0_SETTLEMENT', 'NODE19_P1_CITY', 'NODE19_P1_SETTLEMENT', 'NODE19_P2_CITY', 'NODE19_P2_SETTLEMENT', 'NODE19_P3_CITY', 'NODE19_P3_SETTLEMENT', 'NODE1_P0_CITY', 'NODE1_P0_SETTLEMENT', 'NODE1_P1_CITY', 'NODE1_P1_SETTLEMENT', 'NODE1_P2_CITY', 'NODE1_P2_SETTLEMENT', 'NODE1_P3_CITY', 'NODE1_P3_SETTLEMENT', 'NODE20_P0_CITY', 'NODE20_P0_SETTLEMENT', 'NODE20_P1_CITY', 'NODE20_P1_SETTLEMENT', 'NODE20_P2_CITY', 'NODE20_P2_SETTLEMENT', 'NODE20_P3_CITY', 'NODE20_P3_SETTLEMENT', 'NODE21_P0_CITY', 'NODE21_P0_SETTLEMENT', 'NODE21_P1_CITY', 'NODE21_P1_SETTLEMENT', 'NODE21_P2_CITY', 'NODE21_P2_SETTLEMENT', 'NODE21_P3_CITY', 'NODE21_P3_SETTLEMENT', 'NODE22_P0_CITY', 'NODE22_P0_SETTLEMENT', 'NODE22_P1_CITY', 'NODE22_P1_SETTLEMENT', 'NODE22_P2_CITY', 'NODE22_P2_SETTLEMENT', 'NODE22_P3_CITY', 'NODE22_P3_SETTLEMENT', 'NODE23_P0_CITY', 'NODE23_P0_SETTLEMENT', 'NODE23_P1_CITY', 'NODE23_P1_SETTLEMENT', 'NODE23_P2_CITY', 'NODE23_P2_SETTLEMENT', 'NODE23_P3_CITY', 'NODE23_P3_SETTLEMENT', 'NODE24_P0_CITY', 'NODE24_P0_SETTLEMENT', 'NODE24_P1_CITY', 'NODE24_P1_SETTLEMENT', 'NODE24_P2_CITY', 'NODE24_P2_SETTLEMENT', 'NODE24_P3_CITY', 'NODE24_P3_SETTLEMENT', 'NODE25_P0_CITY', 'NODE25_P0_SETTLEMENT', 'NODE25_P1_CITY', 'NODE25_P1_SETTLEMENT', 'NODE25_P2_CITY', 'NODE25_P2_SETTLEMENT', 'NODE25_P3_CITY', 'NODE25_P3_SETTLEMENT', 'NODE26_P0_CITY', 'NODE26_P0_SETTLEMENT', 'NODE26_P1_CITY', 'NODE26_P1_SETTLEMENT', 'NODE26_P2_CITY', 'NODE26_P2_SETTLEMENT', 'NODE26_P3_CITY', 'NODE26_P3_SETTLEMENT', 'NODE27_P0_CITY', 'NODE27_P0_SETTLEMENT', 'NODE27_P1_CITY', 'NODE27_P1_SETTLEMENT', 'NODE27_P2_CITY', 'NODE27_P2_SETTLEMENT', 'NODE27_P3_CITY', 'NODE27_P3_SETTLEMENT', 'NODE28_P0_CITY', 'NODE28_P0_SETTLEMENT', 'NODE28_P1_CITY', 'NODE28_P1_SETTLEMENT', 'NODE28_P2_CITY', 'NODE28_P2_SETTLEMENT', 'NODE28_P3_CITY', 'NODE28_P3_SETTLEMENT', 'NODE29_P0_CITY', 'NODE29_P0_SETTLEMENT', 'NODE29_P1_CITY', 'NODE29_P1_SETTLEMENT', 'NODE29_P2_CITY', 'NODE29_P2_SETTLEMENT', 'NODE29_P3_CITY', 'NODE29_P3_SETTLEMENT', 'NODE2_P0_CITY', 'NODE2_P0_SETTLEMENT', 'NODE2_P1_CITY', 'NODE2_P1_SETTLEMENT', 'NODE2_P2_CITY', 'NODE2_P2_SETTLEMENT', 'NODE2_P3_CITY', 'NODE2_P3_SETTLEMENT', 'NODE30_P0_CITY', 'NODE30_P0_SETTLEMENT', 'NODE30_P1_CITY', 'NODE30_P1_SETTLEMENT', 'NODE30_P2_CITY', 'NODE30_P2_SETTLEMENT', 'NODE30_P3_CITY', 'NODE30_P3_SETTLEMENT', 'NODE31_P0_CITY', 'NODE31_P0_SETTLEMENT', 'NODE31_P1_CITY', 'NODE31_P1_SETTLEMENT', 'NODE31_P2_CITY', 'NODE31_P2_SETTLEMENT', 'NODE31_P3_CITY', 'NODE31_P3_SETTLEMENT', 'NODE32_P0_CITY', 'NODE32_P0_SETTLEMENT', 'NODE32_P1_CITY', 'NODE32_P1_SETTLEMENT', 'NODE32_P2_CITY', 'NODE32_P2_SETTLEMENT', 'NODE32_P3_CITY', 'NODE32_P3_SETTLEMENT', 'NODE33_P0_CITY', 'NODE33_P0_SETTLEMENT', 'NODE33_P1_CITY', 'NODE33_P1_SETTLEMENT', 'NODE33_P2_CITY', 'NODE33_P2_SETTLEMENT', 'NODE33_P3_CITY', 'NODE33_P3_SETTLEMENT', 'NODE34_P0_CITY', 'NODE34_P0_SETTLEMENT', 'NODE34_P1_CITY', 'NODE34_P1_SETTLEMENT', 'NODE34_P2_CITY', 'NODE34_P2_SETTLEMENT', 'NODE34_P3_CITY', 'NODE34_P3_SETTLEMENT', 'NODE35_P0_CITY', 'NODE35_P0_SETTLEMENT', 'NODE35_P1_CITY', 'NODE35_P1_SETTLEMENT', 'NODE35_P2_CITY', 'NODE35_P2_SETTLEMENT', 'NODE35_P3_CITY', 'NODE35_P3_SETTLEMENT', 'NODE36_P0_CITY', 'NODE36_P0_SETTLEMENT', 'NODE36_P1_CITY', 'NODE36_P1_SETTLEMENT', 'NODE36_P2_CITY', 'NODE36_P2_SETTLEMENT', 'NODE36_P3_CITY', 'NODE36_P3_SETTLEMENT', 'NODE37_P0_CITY', 'NODE37_P0_SETTLEMENT', 'NODE37_P1_CITY', 'NODE37_P1_SETTLEMENT', 'NODE37_P2_CITY', 'NODE37_P2_SETTLEMENT', 'NODE37_P3_CITY', 'NODE37_P3_SETTLEMENT', 'NODE38_P0_CITY', 'NODE38_P0_SETTLEMENT', 'NODE38_P1_CITY', 'NODE38_P1_SETTLEMENT', 'NODE38_P2_CITY', 'NODE38_P2_SETTLEMENT', 'NODE38_P3_CITY', 'NODE38_P3_SETTLEMENT', 'NODE39_P0_CITY', 'NODE39_P0_SETTLEMENT', 'NODE39_P1_CITY', 'NODE39_P1_SETTLEMENT', 'NODE39_P2_CITY', 'NODE39_P2_SETTLEMENT', 'NODE39_P3_CITY', 'NODE39_P3_SETTLEMENT', 'NODE3_P0_CITY', 'NODE3_P0_SETTLEMENT', 'NODE3_P1_CITY', 'NODE3_P1_SETTLEMENT', 'NODE3_P2_CITY', 'NODE3_P2_SETTLEMENT', 'NODE3_P3_CITY', 'NODE3_P3_SETTLEMENT', 'NODE40_P0_CITY', 'NODE40_P0_SETTLEMENT', 'NODE40_P1_CITY', 'NODE40_P1_SETTLEMENT', 'NODE40_P2_CITY', 'NODE40_P2_SETTLEMENT', 'NODE40_P3_CITY', 'NODE40_P3_SETTLEMENT', 'NODE41_P0_CITY', 'NODE41_P0_SETTLEMENT', 'NODE41_P1_CITY', 'NODE41_P1_SETTLEMENT', 'NODE41_P2_CITY', 'NODE41_P2_SETTLEMENT', 'NODE41_P3_CITY', 'NODE41_P3_SETTLEMENT', 'NODE42_P0_CITY', 'NODE42_P0_SETTLEMENT', 'NODE42_P1_CITY', 'NODE42_P1_SETTLEMENT', 'NODE42_P2_CITY', 'NODE42_P2_SETTLEMENT', 'NODE42_P3_CITY', 'NODE42_P3_SETTLEMENT', 'NODE43_P0_CITY', 'NODE43_P0_SETTLEMENT', 'NODE43_P1_CITY', 'NODE43_P1_SETTLEMENT', 'NODE43_P2_CITY', 'NODE43_P2_SETTLEMENT', 'NODE43_P3_CITY', 'NODE43_P3_SETTLEMENT', 'NODE44_P0_CITY', 'NODE44_P0_SETTLEMENT', 'NODE44_P1_CITY', 'NODE44_P1_SETTLEMENT', 'NODE44_P2_CITY', 'NODE44_P2_SETTLEMENT', 'NODE44_P3_CITY', 'NODE44_P3_SETTLEMENT', 'NODE45_P0_CITY', 'NODE45_P0_SETTLEMENT', 'NODE45_P1_CITY', 'NODE45_P1_SETTLEMENT', 'NODE45_P2_CITY', 'NODE45_P2_SETTLEMENT', 'NODE45_P3_CITY', 'NODE45_P3_SETTLEMENT', 'NODE46_P0_CITY', 'NODE46_P0_SETTLEMENT', 'NODE46_P1_CITY', 'NODE46_P1_SETTLEMENT', 'NODE46_P2_CITY', 'NODE46_P2_SETTLEMENT', 'NODE46_P3_CITY', 'NODE46_P3_SETTLEMENT', 'NODE47_P0_CITY', 'NODE47_P0_SETTLEMENT', 'NODE47_P1_CITY', 'NODE47_P1_SETTLEMENT', 'NODE47_P2_CITY', 'NODE47_P2_SETTLEMENT', 'NODE47_P3_CITY', 'NODE47_P3_SETTLEMENT', 'NODE48_P0_CITY', 'NODE48_P0_SETTLEMENT', 'NODE48_P1_CITY', 'NODE48_P1_SETTLEMENT', 'NODE48_P2_CITY', 'NODE48_P2_SETTLEMENT', 'NODE48_P3_CITY', 'NODE48_P3_SETTLEMENT', 'NODE49_P0_CITY', 'NODE49_P0_SETTLEMENT', 'NODE49_P1_CITY', 'NODE49_P1_SETTLEMENT', 'NODE49_P2_CITY', 'NODE49_P2_SETTLEMENT', 'NODE49_P3_CITY', 'NODE49_P3_SETTLEMENT', 'NODE4_P0_CITY', 'NODE4_P0_SETTLEMENT', 'NODE4_P1_CITY', 'NODE4_P1_SETTLEMENT', 'NODE4_P2_CITY', 'NODE4_P2_SETTLEMENT', 'NODE4_P3_CITY', 'NODE4_P3_SETTLEMENT', 'NODE50_P0_CITY', 'NODE50_P0_SETTLEMENT', 'NODE50_P1_CITY', 'NODE50_P1_SETTLEMENT', 'NODE50_P2_CITY', 'NODE50_P2_SETTLEMENT', 'NODE50_P3_CITY', 'NODE50_P3_SETTLEMENT', 'NODE51_P0_CITY', 'NODE51_P0_SETTLEMENT', 'NODE51_P1_CITY', 'NODE51_P1_SETTLEMENT', 'NODE51_P2_CITY', 'NODE51_P2_SETTLEMENT', 'NODE51_P3_CITY', 'NODE51_P3_SETTLEMENT', 'NODE52_P0_CITY', 'NODE52_P0_SETTLEMENT', 'NODE52_P1_CITY', 'NODE52_P1_SETTLEMENT', 'NODE52_P2_CITY', 'NODE52_P2_SETTLEMENT', 'NODE52_P3_CITY', 'NODE52_P3_SETTLEMENT', 'NODE53_P0_CITY', 'NODE53_P0_SETTLEMENT', 'NODE53_P1_CITY', 'NODE53_P1_SETTLEMENT', 'NODE53_P2_CITY', 'NODE53_P2_SETTLEMENT', 'NODE53_P3_CITY', 'NODE53_P3_SETTLEMENT', 'NODE5_P0_CITY', 'NODE5_P0_SETTLEMENT', 'NODE5_P1_CITY', 'NODE5_P1_SETTLEMENT', 'NODE5_P2_CITY', 'NODE5_P2_SETTLEMENT', 'NODE5_P3_CITY', 'NODE5_P3_SETTLEMENT', 'NODE6_P0_CITY', 'NODE6_P0_SETTLEMENT', 'NODE6_P1_CITY', 'NODE6_P1_SETTLEMENT', 'NODE6_P2_CITY', 'NODE6_P2_SETTLEMENT', 'NODE6_P3_CITY', 'NODE6_P3_SETTLEMENT', 'NODE7_P0_CITY', 'NODE7_P0_SETTLEMENT', 'NODE7_P1_CITY', 'NODE7_P1_SETTLEMENT', 'NODE7_P2_CITY', 'NODE7_P2_SETTLEMENT', 'NODE7_P3_CITY', 'NODE7_P3_SETTLEMENT', 'NODE8_P0_CITY', 'NODE8_P0_SETTLEMENT', 'NODE8_P1_CITY', 'NODE8_P1_SETTLEMENT', 'NODE8_P2_CITY', 'NODE8_P2_SETTLEMENT', 'NODE8_P3_CITY', 'NODE8_P3_SETTLEMENT', 'NODE9_P0_CITY', 'NODE9_P0_SETTLEMENT', 'NODE9_P1_CITY', 'NODE9_P1_SETTLEMENT', 'NODE9_P2_CITY', 'NODE9_P2_SETTLEMENT', 'NODE9_P3_CITY', 'NODE9_P3_SETTLEMENT', 'P0_ACTUAL_VPS', 'P0_BRICK_IN_HAND', 'P0_CITIES_LEFT', 'P0_HAS_ARMY', 'P0_HAS_PLAYED_DEVELOPMENT_CARD_IN_TURN', 'P0_HAS_ROAD', 'P0_HAS_ROLLED', 'P0_KNIGHT_IN_HAND', 'P0_KNIGHT_PLAYED', 'P0_LONGEST_ROAD_LENGTH', 'P0_MONOPOLY_IN_HAND', 'P0_MONOPOLY_PLAYED', 'P0_NUM_DEVS_IN_HAND', 'P0_NUM_RESOURCES_IN_HAND', 'P0_ORE_IN_HAND', 'P0_PUBLIC_VPS', 'P0_ROADS_LEFT', 'P0_ROAD_BUILDING_IN_HAND', 'P0_ROAD_BUILDING_PLAYED', 'P0_SETTLEMENTS_LEFT', 'P0_SHEEP_IN_HAND', 'P0_VICTORY_POINT_IN_HAND', 'P0_WHEAT_IN_HAND', 'P0_WOOD_IN_HAND', 'P0_YEAR_OF_PLENTY_IN_HAND', 'P0_YEAR_OF_PLENTY_PLAYED', 'P1_CITIES_LEFT', 'P1_HAS_ARMY', 'P1_HAS_ROAD', 'P1_HAS_ROLLED', 'P1_KNIGHT_PLAYED', 'P1_LONGEST_ROAD_LENGTH', 'P1_MONOPOLY_PLAYED', 'P1_NUM_DEVS_IN_HAND', 'P1_NUM_RESOURCES_IN_HAND', 'P1_PUBLIC_VPS', 'P1_ROADS_LEFT', 'P1_ROAD_BUILDING_PLAYED', 'P1_SETTLEMENTS_LEFT', 'P1_YEAR_OF_PLENTY_PLAYED', 'P2_CITIES_LEFT', 'P2_HAS_ARMY', 'P2_HAS_ROAD', 'P2_HAS_ROLLED', 'P2_KNIGHT_PLAYED', 'P2_LONGEST_ROAD_LENGTH', 'P2_MONOPOLY_PLAYED', 'P2_NUM_DEVS_IN_HAND', 'P2_NUM_RESOURCES_IN_HAND', 'P2_PUBLIC_VPS', 'P2_ROADS_LEFT', 'P2_ROAD_BUILDING_PLAYED', 'P2_SETTLEMENTS_LEFT', 'P2_YEAR_OF_PLENTY_PLAYED', 'P3_CITIES_LEFT', 'P3_HAS_ARMY', 'P3_HAS_ROAD', 'P3_HAS_ROLLED', 'P3_KNIGHT_PLAYED', 'P3_LONGEST_ROAD_LENGTH', 'P3_MONOPOLY_PLAYED', 'P3_NUM_DEVS_IN_HAND', 'P3_NUM_RESOURCES_IN_HAND', 'P3_PUBLIC_VPS', 'P3_ROADS_LEFT', 'P3_ROAD_BUILDING_PLAYED', 'P3_SETTLEMENTS_LEFT', 'P3_YEAR_OF_PLENTY_PLAYED', 'PORT0_IS_BRICK', 'PORT0_IS_ORE', 'PORT0_IS_SHEEP', 'PORT0_IS_THREE_TO_ONE', 'PORT0_IS_WHEAT', 'PORT0_IS_WOOD', 'PORT1_IS_BRICK', 'PORT1_IS_ORE', 'PORT1_IS_SHEEP', 'PORT1_IS_THREE_TO_ONE', 'PORT1_IS_WHEAT', 'PORT1_IS_WOOD', 'PORT2_IS_BRICK', 'PORT2_IS_ORE', 'PORT2_IS_SHEEP', 'PORT2_IS_THREE_TO_ONE', 'PORT2_IS_WHEAT', 'PORT2_IS_WOOD', 'PORT3_IS_BRICK', 'PORT3_IS_ORE', 'PORT3_IS_SHEEP', 'PORT3_IS_THREE_TO_ONE', 'PORT3_IS_WHEAT', 'PORT3_IS_WOOD', 'PORT4_IS_BRICK', 'PORT4_IS_ORE', 'PORT4_IS_SHEEP', 'PORT4_IS_THREE_TO_ONE', 'PORT4_IS_WHEAT', 'PORT4_IS_WOOD', 'PORT5_IS_BRICK', 'PORT5_IS_ORE', 'PORT5_IS_SHEEP', 'PORT5_IS_THREE_TO_ONE', 'PORT5_IS_WHEAT', 'PORT5_IS_WOOD', 'PORT6_IS_BRICK', 'PORT6_IS_ORE', 'PORT6_IS_SHEEP', 'PORT6_IS_THREE_TO_ONE', 'PORT6_IS_WHEAT', 'PORT6_IS_WOOD', 'PORT7_IS_BRICK', 'PORT7_IS_ORE', 'PORT7_IS_SHEEP', 'PORT7_IS_THREE_TO_ONE', 'PORT7_IS_WHEAT', 'PORT7_IS_WOOD', 'PORT8_IS_BRICK', 'PORT8_IS_ORE', 'PORT8_IS_SHEEP', 'PORT8_IS_THREE_TO_ONE', 'PORT8_IS_WHEAT', 'PORT8_IS_WOOD', 'TILE0_HAS_ROBBER', 'TILE0_IS_BRICK', 'TILE0_IS_DESERT', 'TILE0_IS_ORE', 'TILE0_IS_SHEEP', 'TILE0_IS_WHEAT', 'TILE0_IS_WOOD', 'TILE0_PROBA', 'TILE10_HAS_ROBBER', 'TILE10_IS_BRICK', 'TILE10_IS_DESERT', 'TILE10_IS_ORE', 'TILE10_IS_SHEEP', 'TILE10_IS_WHEAT', 'TILE10_IS_WOOD', 'TILE10_PROBA', 'TILE11_HAS_ROBBER', 'TILE11_IS_BRICK', 'TILE11_IS_DESERT', 'TILE11_IS_ORE', 'TILE11_IS_SHEEP', 'TILE11_IS_WHEAT', 'TILE11_IS_WOOD', 'TILE11_PROBA', 'TILE12_HAS_ROBBER', 'TILE12_IS_BRICK', 'TILE12_IS_DESERT', 'TILE12_IS_ORE', 'TILE12_IS_SHEEP', 'TILE12_IS_WHEAT', 'TILE12_IS_WOOD', 'TILE12_PROBA', 'TILE13_HAS_ROBBER', 'TILE13_IS_BRICK', 'TILE13_IS_DESERT', 'TILE13_IS_ORE', 'TILE13_IS_SHEEP', 'TILE13_IS_WHEAT', 'TILE13_IS_WOOD', 'TILE13_PROBA', 'TILE14_HAS_ROBBER', 'TILE14_IS_BRICK', 'TILE14_IS_DESERT', 'TILE14_IS_ORE', 'TILE14_IS_SHEEP', 'TILE14_IS_WHEAT', 'TILE14_IS_WOOD', 'TILE14_PROBA', 'TILE15_HAS_ROBBER', 'TILE15_IS_BRICK', 'TILE15_IS_DESERT', 'TILE15_IS_ORE', 'TILE15_IS_SHEEP', 'TILE15_IS_WHEAT', 'TILE15_IS_WOOD', 'TILE15_PROBA', 'TILE16_HAS_ROBBER', 'TILE16_IS_BRICK', 'TILE16_IS_DESERT', 'TILE16_IS_ORE', 'TILE16_IS_SHEEP', 'TILE16_IS_WHEAT', 'TILE16_IS_WOOD', 'TILE16_PROBA', 'TILE17_HAS_ROBBER', 'TILE17_IS_BRICK', 'TILE17_IS_DESERT', 'TILE17_IS_ORE', 'TILE17_IS_SHEEP', 'TILE17_IS_WHEAT', 'TILE17_IS_WOOD', 'TILE17_PROBA', 'TILE18_HAS_ROBBER', 'TILE18_IS_BRICK', 'TILE18_IS_DESERT', 'TILE18_IS_ORE', 'TILE18_IS_SHEEP', 'TILE18_IS_WHEAT', 'TILE18_IS_WOOD', 'TILE18_PROBA', 'TILE1_HAS_ROBBER', 'TILE1_IS_BRICK', 'TILE1_IS_DESERT', 'TILE1_IS_ORE', 'TILE1_IS_SHEEP', 'TILE1_IS_WHEAT', 'TILE1_IS_WOOD', 'TILE1_PROBA', 'TILE2_HAS_ROBBER', 'TILE2_IS_BRICK', 'TILE2_IS_DESERT', 'TILE2_IS_ORE', 'TILE2_IS_SHEEP', 'TILE2_IS_WHEAT', 'TILE2_IS_WOOD', 'TILE2_PROBA', 'TILE3_HAS_ROBBER', 'TILE3_IS_BRICK', 'TILE3_IS_DESERT', 'TILE3_IS_ORE', 'TILE3_IS_SHEEP', 'TILE3_IS_WHEAT', 'TILE3_IS_WOOD', 'TILE3_PROBA', 'TILE4_HAS_ROBBER', 'TILE4_IS_BRICK', 'TILE4_IS_DESERT', 'TILE4_IS_ORE', 'TILE4_IS_SHEEP', 'TILE4_IS_WHEAT', 'TILE4_IS_WOOD', 'TILE4_PROBA', 'TILE5_HAS_ROBBER', 'TILE5_IS_BRICK', 'TILE5_IS_DESERT', 'TILE5_IS_ORE', 'TILE5_IS_SHEEP', 'TILE5_IS_WHEAT', 'TILE5_IS_WOOD', 'TILE5_PROBA', 'TILE6_HAS_ROBBER', 'TILE6_IS_BRICK', 'TILE6_IS_DESERT', 'TILE6_IS_ORE', 'TILE6_IS_SHEEP', 'TILE6_IS_WHEAT', 'TILE6_IS_WOOD', 'TILE6_PROBA', 'TILE7_HAS_ROBBER', 'TILE7_IS_BRICK', 'TILE7_IS_DESERT', 'TILE7_IS_ORE', 'TILE7_IS_SHEEP', 'TILE7_IS_WHEAT', 'TILE7_IS_WOOD', 'TILE7_PROBA', 'TILE8_HAS_ROBBER', 'TILE8_IS_BRICK', 'TILE8_IS_DESERT', 'TILE8_IS_ORE', 'TILE8_IS_SHEEP', 'TILE8_IS_WHEAT', 'TILE8_IS_WOOD', 'TILE8_PROBA', 'TILE9_HAS_ROBBER', 'TILE9_IS_BRICK', 'TILE9_IS_DESERT', 'TILE9_IS_ORE', 'TILE9_IS_SHEEP', 'TILE9_IS_WHEAT', 'TILE9_IS_WOOD', 'TILE9_PROBA']\n"
     ]
    }
   ],
   "source": [
    "from catanatron_gym.features import (\n",
    "    create_sample_vector,\n",
    "    get_feature_ordering,\n",
    ")\n",
    "print(get_feature_ordering())"
   ]
  },
  {
   "cell_type": "code",
   "execution_count": 11,
   "id": "3d2b9474",
   "metadata": {},
   "outputs": [
    {
     "name": "stdout",
     "output_type": "stream",
     "text": [
      "Loaded replay buffer with 4024 transitions\n"
     ]
    }
   ],
   "source": [
    "\n",
    "\n",
    "# Play a simple 4v4 game. Edit MyPlayer with your logic!\n",
    "players = [\n",
    "    #OnlineMCTSDQNPlayer_1(Color.RED),\n",
    "    RandomPlayer(Color.WHITE), #RandomPlayer\n",
    "    RandomPlayer(Color.ORANGE),\n",
    "    AB_DQNPlayer_1(Color.RED),\n",
    "    RandomPlayer(Color.BLUE),\n",
    "]\n"
   ]
  },
  {
   "cell_type": "code",
   "execution_count": 16,
   "id": "7abd61fb",
   "metadata": {},
   "outputs": [
    {
     "name": "stdout",
     "output_type": "stream",
     "text": [
      "Color.ORANGE\n"
     ]
    }
   ],
   "source": [
    "game = Game(players)\n",
    "print(game.play())  # returns winning color"
   ]
  },
  {
   "cell_type": "code",
   "execution_count": null,
   "id": "42a3a90f",
   "metadata": {},
   "outputs": [],
   "source": [
    "# def random_non_dqn_player(color, ab_used):\n",
    "#     # Only allow AlphaBetaPlayer if not already used\n",
    "#     if ab_used:\n",
    "#         choices = [RandomPlayer, WeightedRandomPlayer]\n",
    "#     else:\n",
    "#         choices = [RandomPlayer, WeightedRandomPlayer, AlphaBetaPlayer]\n",
    "#     cls = random.choice(choices)\n",
    "#     return cls(color), isinstance(cls, AlphaBetaPlayer)\n",
    "\n",
    "# all_wins = []\n",
    "# for _ in range(10):  # 10 batches\n",
    "#     players = []\n",
    "#     ab_used = False\n",
    "\n",
    "#     for color in [Color.WHITE, Color.ORANGE, Color.BLUE]:\n",
    "#         player, is_ab = random_non_dqn_player(color, ab_used)\n",
    "#         players.append(player)\n",
    "#         ab_used = ab_used or is_ab\n",
    "\n",
    "#     players.append(AB_DQNPlayer_1(Color.RED))  # always include DQN\n",
    "\n",
    "#     random.shuffle(players)\n",
    "#     wins, _, _ = play_batch(10, players)\n",
    "#     all_wins.append(wins)"
   ]
  },
  {
   "cell_type": "markdown",
   "id": "cd529f61-6de7-4de1-8e0c-273db6a2de9f",
   "metadata": {},
   "source": [
    "You can also simulate thousands of games to get more statistically significant results:"
   ]
  },
  {
   "cell_type": "code",
   "execution_count": 17,
   "id": "e06b3b9c-aa9c-4ec3-9b05-74c5d389d766",
   "metadata": {},
   "outputs": [
    {
     "data": {
      "text/html": [
       "<pre style=\"white-space:pre;overflow-x:auto;line-height:normal;font-family:Menlo,'DejaVu Sans Mono',consolas,'Courier New',monospace\">c:\\Users\\SAM\\anaconda3\\envs\\catan311\\Lib\\site-packages\\rich\\live.py:231: UserWarning: install \"ipywidgets\" for \n",
       "Jupyter support\n",
       "  warnings.warn('install \"ipywidgets\" for Jupyter support')\n",
       "</pre>\n"
      ],
      "text/plain": [
       "c:\\Users\\SAM\\anaconda3\\envs\\catan311\\Lib\\site-packages\\rich\\live.py:231: UserWarning: install \"ipywidgets\" for \n",
       "Jupyter support\n",
       "  warnings.warn('install \"ipywidgets\" for Jupyter support')\n"
      ]
     },
     "metadata": {},
     "output_type": "display_data"
    },
    {
     "name": "stdout",
     "output_type": "stream",
     "text": [
      "Loaded replay buffer with 3570 transitions\n",
      "atch 1/50: Playing 10 games\n"
     ]
    },
    {
     "data": {
      "text/html": [
       "<pre style=\"white-space:pre;overflow-x:auto;line-height:normal;font-family:Menlo,'DejaVu Sans Mono',consolas,'Courier New',monospace\">Cleared replay buffer to refresh training examples.\n",
       "</pre>\n"
      ],
      "text/plain": [
       "Cleared replay buffer to refresh training examples.\n"
      ]
     },
     "metadata": {},
     "output_type": "display_data"
    },
    {
     "data": {
      "text/html": [
       "<pre style=\"white-space:pre;overflow-x:auto;line-height:normal;font-family:Menlo,'DejaVu Sans Mono',consolas,'Courier New',monospace\">Reward variance in batch: 0.0000\n",
       "</pre>\n"
      ],
      "text/plain": [
       "Reward variance in batch: 0.0000\n"
      ]
     },
     "metadata": {},
     "output_type": "display_data"
    },
    {
     "data": {
      "text/html": [
       "<pre style=\"white-space:pre;overflow-x:auto;line-height:normal;font-family:Menlo,'DejaVu Sans Mono',consolas,'Courier New',monospace\">Trained DQN model with loss: 103.1003\n",
       "</pre>\n"
      ],
      "text/plain": [
       "Trained DQN model with loss: 103.1003\n"
      ]
     },
     "metadata": {},
     "output_type": "display_data"
    },
    {
     "data": {
      "text/html": [
       "<pre style=\"white-space:pre;overflow-x:auto;line-height:normal;font-family:Menlo,'DejaVu Sans Mono',consolas,'Courier New',monospace\">Avg pred: -0.1864, Avg target: 9.9647\n",
       "</pre>\n"
      ],
      "text/plain": [
       "Avg pred: -0.1864, Avg target: 9.9647\n"
      ]
     },
     "metadata": {},
     "output_type": "display_data"
    },
    {
     "data": {
      "text/html": [
       "<pre style=\"white-space:pre;overflow-x:auto;line-height:normal;font-family:Menlo,'DejaVu Sans Mono',consolas,'Courier New',monospace\">Cleared replay buffer to refresh training examples.\n",
       "</pre>\n"
      ],
      "text/plain": [
       "Cleared replay buffer to refresh training examples.\n"
      ]
     },
     "metadata": {},
     "output_type": "display_data"
    },
    {
     "data": {
      "text/html": [
       "<pre style=\"white-space:pre;overflow-x:auto;line-height:normal;font-family:Menlo,'DejaVu Sans Mono',consolas,'Courier New',monospace\">Reward variance in batch: 0.0000\n",
       "</pre>\n"
      ],
      "text/plain": [
       "Reward variance in batch: 0.0000\n"
      ]
     },
     "metadata": {},
     "output_type": "display_data"
    },
    {
     "data": {
      "text/html": [
       "<pre style=\"white-space:pre;overflow-x:auto;line-height:normal;font-family:Menlo,'DejaVu Sans Mono',consolas,'Courier New',monospace\">Trained DQN model with loss: 100.5567\n",
       "</pre>\n"
      ],
      "text/plain": [
       "Trained DQN model with loss: 100.5567\n"
      ]
     },
     "metadata": {},
     "output_type": "display_data"
    },
    {
     "data": {
      "text/html": [
       "<pre style=\"white-space:pre;overflow-x:auto;line-height:normal;font-family:Menlo,'DejaVu Sans Mono',consolas,'Courier New',monospace\">Avg pred: -0.0909, Avg target: 9.9328\n",
       "</pre>\n"
      ],
      "text/plain": [
       "Avg pred: -0.0909, Avg target: 9.9328\n"
      ]
     },
     "metadata": {},
     "output_type": "display_data"
    },
    {
     "data": {
      "text/html": [
       "<pre style=\"white-space:pre;overflow-x:auto;line-height:normal;font-family:Menlo,'DejaVu Sans Mono',consolas,'Courier New',monospace\"></pre>\n"
      ],
      "text/plain": []
     },
     "metadata": {},
     "output_type": "display_data"
    },
    {
     "data": {
      "text/html": [
       "<pre style=\"white-space:pre;overflow-x:auto;line-height:normal;font-family:Menlo,'DejaVu Sans Mono',consolas,'Courier New',monospace\">\n",
       "</pre>\n"
      ],
      "text/plain": [
       "\n"
      ]
     },
     "metadata": {},
     "output_type": "display_data"
    },
    {
     "data": {
      "text/html": [
       "<pre style=\"white-space:pre;overflow-x:auto;line-height:normal;font-family:Menlo,'DejaVu Sans Mono',consolas,'Courier New',monospace\"><span style=\"font-style: italic\">                                      Last 10 Games                                      </span>\n",
       "     ╷                       ╷       ╷          ╷         ╷        ╷           ╷         \n",
       " <span style=\"font-weight: bold\">  # </span>│<span style=\"font-weight: bold\"> SEATING               </span>│<span style=\"font-weight: bold\"> TURNS </span>│<span style=\"font-weight: bold\"> WHITE VP </span>│<span style=\"font-weight: bold\"> BLUE VP </span>│<span style=\"font-weight: bold\"> RED VP </span>│<span style=\"font-weight: bold\"> ORANGE VP </span>│<span style=\"font-weight: bold\"> WINNER </span> \n",
       "╶────┼───────────────────────┼───────┼──────────┼─────────┼────────┼───────────┼────────╴\n",
       "   1 │ <span style=\"color: #800000; text-decoration-color: #800000\">RED</span>,<span style=\"color: #000080; text-decoration-color: #000080\">BLUE</span>,<span style=\"color: #c0c0c0; text-decoration-color: #c0c0c0\">WHITE</span>,<span style=\"color: #808000; text-decoration-color: #808000\">ORANGE</span> │   281 │        4 │       3 │      2 │        10 │ <span style=\"color: #808000; text-decoration-color: #808000\">ORANGE</span>  \n",
       "   2 │ <span style=\"color: #c0c0c0; text-decoration-color: #c0c0c0\">WHITE</span>,<span style=\"color: #800000; text-decoration-color: #800000\">RED</span>,<span style=\"color: #000080; text-decoration-color: #000080\">BLUE</span>,<span style=\"color: #808000; text-decoration-color: #808000\">ORANGE</span> │   250 │       10 │       4 │      4 │         2 │ <span style=\"color: #c0c0c0; text-decoration-color: #c0c0c0\">WHITE</span>   \n",
       "   3 │ <span style=\"color: #000080; text-decoration-color: #000080\">BLUE</span>,<span style=\"color: #c0c0c0; text-decoration-color: #c0c0c0\">WHITE</span>,<span style=\"color: #800000; text-decoration-color: #800000\">RED</span>,<span style=\"color: #808000; text-decoration-color: #808000\">ORANGE</span> │   261 │        2 │       8 │      2 │        10 │ <span style=\"color: #808000; text-decoration-color: #808000\">ORANGE</span>  \n",
       "   4 │ <span style=\"color: #c0c0c0; text-decoration-color: #c0c0c0\">WHITE</span>,<span style=\"color: #000080; text-decoration-color: #000080\">BLUE</span>,<span style=\"color: #800000; text-decoration-color: #800000\">RED</span>,<span style=\"color: #808000; text-decoration-color: #808000\">ORANGE</span> │   430 │       10 │       8 │      2 │         6 │ <span style=\"color: #c0c0c0; text-decoration-color: #c0c0c0\">WHITE</span>   \n",
       "   5 │ <span style=\"color: #808000; text-decoration-color: #808000\">ORANGE</span>,<span style=\"color: #c0c0c0; text-decoration-color: #c0c0c0\">WHITE</span>,<span style=\"color: #000080; text-decoration-color: #000080\">BLUE</span>,<span style=\"color: #800000; text-decoration-color: #800000\">RED</span> │   356 │        3 │      10 │      3 │         8 │ <span style=\"color: #000080; text-decoration-color: #000080\">BLUE</span>    \n",
       "   6 │ <span style=\"color: #800000; text-decoration-color: #800000\">RED</span>,<span style=\"color: #808000; text-decoration-color: #808000\">ORANGE</span>,<span style=\"color: #c0c0c0; text-decoration-color: #c0c0c0\">WHITE</span>,<span style=\"color: #000080; text-decoration-color: #000080\">BLUE</span> │   351 │        5 │       2 │      2 │        10 │ <span style=\"color: #808000; text-decoration-color: #808000\">ORANGE</span>  \n",
       "   7 │ <span style=\"color: #800000; text-decoration-color: #800000\">RED</span>,<span style=\"color: #c0c0c0; text-decoration-color: #c0c0c0\">WHITE</span>,<span style=\"color: #000080; text-decoration-color: #000080\">BLUE</span>,<span style=\"color: #808000; text-decoration-color: #808000\">ORANGE</span> │   525 │        9 │       5 │      2 │        10 │ <span style=\"color: #808000; text-decoration-color: #808000\">ORANGE</span>  \n",
       "   8 │ <span style=\"color: #000080; text-decoration-color: #000080\">BLUE</span>,<span style=\"color: #c0c0c0; text-decoration-color: #c0c0c0\">WHITE</span>,<span style=\"color: #800000; text-decoration-color: #800000\">RED</span>,<span style=\"color: #808000; text-decoration-color: #808000\">ORANGE</span> │   234 │        7 │      10 │      2 │         2 │ <span style=\"color: #000080; text-decoration-color: #000080\">BLUE</span>    \n",
       "   9 │ <span style=\"color: #000080; text-decoration-color: #000080\">BLUE</span>,<span style=\"color: #c0c0c0; text-decoration-color: #c0c0c0\">WHITE</span>,<span style=\"color: #800000; text-decoration-color: #800000\">RED</span>,<span style=\"color: #808000; text-decoration-color: #808000\">ORANGE</span> │   227 │       10 │       4 │      2 │         6 │ <span style=\"color: #c0c0c0; text-decoration-color: #c0c0c0\">WHITE</span>   \n",
       "  10 │ <span style=\"color: #000080; text-decoration-color: #000080\">BLUE</span>,<span style=\"color: #c0c0c0; text-decoration-color: #c0c0c0\">WHITE</span>,<span style=\"color: #808000; text-decoration-color: #808000\">ORANGE</span>,<span style=\"color: #800000; text-decoration-color: #800000\">RED</span> │   235 │       10 │       3 │      2 │         7 │ <span style=\"color: #c0c0c0; text-decoration-color: #c0c0c0\">WHITE</span>   \n",
       "     ╵                       ╵       ╵          ╵         ╵        ╵           ╵         \n",
       "</pre>\n"
      ],
      "text/plain": [
       "\u001b[3m                                      Last 10 Games                                      \u001b[0m\n",
       "     ╷                       ╷       ╷          ╷         ╷        ╷           ╷         \n",
       " \u001b[1m \u001b[0m\u001b[1m #\u001b[0m\u001b[1m \u001b[0m│\u001b[1m \u001b[0m\u001b[1mSEATING              \u001b[0m\u001b[1m \u001b[0m│\u001b[1m \u001b[0m\u001b[1mTURNS\u001b[0m\u001b[1m \u001b[0m│\u001b[1m \u001b[0m\u001b[1mWHITE VP\u001b[0m\u001b[1m \u001b[0m│\u001b[1m \u001b[0m\u001b[1mBLUE VP\u001b[0m\u001b[1m \u001b[0m│\u001b[1m \u001b[0m\u001b[1mRED VP\u001b[0m\u001b[1m \u001b[0m│\u001b[1m \u001b[0m\u001b[1mORANGE VP\u001b[0m\u001b[1m \u001b[0m│\u001b[1m \u001b[0m\u001b[1mWINNER\u001b[0m\u001b[1m \u001b[0m \n",
       "╶────┼───────────────────────┼───────┼──────────┼─────────┼────────┼───────────┼────────╴\n",
       "   1 │ \u001b[31mRED\u001b[0m,\u001b[34mBLUE\u001b[0m,\u001b[37mWHITE\u001b[0m,\u001b[33mORANGE\u001b[0m │   281 │        4 │       3 │      2 │        10 │ \u001b[33mORANGE\u001b[0m  \n",
       "   2 │ \u001b[37mWHITE\u001b[0m,\u001b[31mRED\u001b[0m,\u001b[34mBLUE\u001b[0m,\u001b[33mORANGE\u001b[0m │   250 │       10 │       4 │      4 │         2 │ \u001b[37mWHITE\u001b[0m   \n",
       "   3 │ \u001b[34mBLUE\u001b[0m,\u001b[37mWHITE\u001b[0m,\u001b[31mRED\u001b[0m,\u001b[33mORANGE\u001b[0m │   261 │        2 │       8 │      2 │        10 │ \u001b[33mORANGE\u001b[0m  \n",
       "   4 │ \u001b[37mWHITE\u001b[0m,\u001b[34mBLUE\u001b[0m,\u001b[31mRED\u001b[0m,\u001b[33mORANGE\u001b[0m │   430 │       10 │       8 │      2 │         6 │ \u001b[37mWHITE\u001b[0m   \n",
       "   5 │ \u001b[33mORANGE\u001b[0m,\u001b[37mWHITE\u001b[0m,\u001b[34mBLUE\u001b[0m,\u001b[31mRED\u001b[0m │   356 │        3 │      10 │      3 │         8 │ \u001b[34mBLUE\u001b[0m    \n",
       "   6 │ \u001b[31mRED\u001b[0m,\u001b[33mORANGE\u001b[0m,\u001b[37mWHITE\u001b[0m,\u001b[34mBLUE\u001b[0m │   351 │        5 │       2 │      2 │        10 │ \u001b[33mORANGE\u001b[0m  \n",
       "   7 │ \u001b[31mRED\u001b[0m,\u001b[37mWHITE\u001b[0m,\u001b[34mBLUE\u001b[0m,\u001b[33mORANGE\u001b[0m │   525 │        9 │       5 │      2 │        10 │ \u001b[33mORANGE\u001b[0m  \n",
       "   8 │ \u001b[34mBLUE\u001b[0m,\u001b[37mWHITE\u001b[0m,\u001b[31mRED\u001b[0m,\u001b[33mORANGE\u001b[0m │   234 │        7 │      10 │      2 │         2 │ \u001b[34mBLUE\u001b[0m    \n",
       "   9 │ \u001b[34mBLUE\u001b[0m,\u001b[37mWHITE\u001b[0m,\u001b[31mRED\u001b[0m,\u001b[33mORANGE\u001b[0m │   227 │       10 │       4 │      2 │         6 │ \u001b[37mWHITE\u001b[0m   \n",
       "  10 │ \u001b[34mBLUE\u001b[0m,\u001b[37mWHITE\u001b[0m,\u001b[33mORANGE\u001b[0m,\u001b[31mRED\u001b[0m │   235 │       10 │       3 │      2 │         7 │ \u001b[37mWHITE\u001b[0m   \n",
       "     ╵                       ╵       ╵          ╵         ╵        ╵           ╵         \n"
      ]
     },
     "metadata": {},
     "output_type": "display_data"
    },
    {
     "data": {
      "text/html": [
       "<pre style=\"white-space:pre;overflow-x:auto;line-height:normal;font-family:Menlo,'DejaVu Sans Mono',consolas,'Courier New',monospace\"><span style=\"font-style: italic\">                                           Player Summary                                            </span>\n",
       "                      ╷      ╷        ╷             ╷            ╷          ╷          ╷             \n",
       " <span style=\"font-weight: bold\">                     </span>│<span style=\"font-weight: bold\"> WINS </span>│<span style=\"font-weight: bold\"> AVG VP </span>│<span style=\"font-weight: bold\"> AVG SETTLES </span>│<span style=\"font-weight: bold\"> AVG CITIES </span>│<span style=\"font-weight: bold\"> AVG ROAD </span>│<span style=\"font-weight: bold\"> AVG ARMY </span>│<span style=\"font-weight: bold\"> AVG DEV VP </span> \n",
       "╶─────────────────────┼──────┼────────┼─────────────┼────────────┼──────────┼──────────┼────────────╴\n",
       "  <span style=\"color: #c0c0c0; text-decoration-color: #c0c0c0\">RandomPlayer:WHITE</span>  │    4 │   7.00 │        2.30 │       1.00 │     0.40 │     0.50 │       0.90  \n",
       "  <span style=\"color: #000080; text-decoration-color: #000080\">RandomPlayer:BLUE</span>   │    2 │   5.70 │        2.50 │       0.60 │     0.30 │     0.20 │       1.00  \n",
       "  <span style=\"color: #800000; text-decoration-color: #800000\">AB_DQNPlayer_1:RED</span>  │    0 │   2.30 │        2.20 │       0.00 │     0.00 │     0.00 │       0.10  \n",
       "  <span style=\"color: #808000; text-decoration-color: #808000\">RandomPlayer:ORANGE</span> │    4 │   7.10 │        2.10 │       1.20 │     0.30 │     0.30 │       1.40  \n",
       "                      ╵      ╵        ╵             ╵            ╵          ╵          ╵             \n",
       "</pre>\n"
      ],
      "text/plain": [
       "\u001b[3m                                           Player Summary                                            \u001b[0m\n",
       "                      ╷      ╷        ╷             ╷            ╷          ╷          ╷             \n",
       " \u001b[1m \u001b[0m\u001b[1m                   \u001b[0m\u001b[1m \u001b[0m│\u001b[1m \u001b[0m\u001b[1mWINS\u001b[0m\u001b[1m \u001b[0m│\u001b[1m \u001b[0m\u001b[1mAVG VP\u001b[0m\u001b[1m \u001b[0m│\u001b[1m \u001b[0m\u001b[1mAVG SETTLES\u001b[0m\u001b[1m \u001b[0m│\u001b[1m \u001b[0m\u001b[1mAVG CITIES\u001b[0m\u001b[1m \u001b[0m│\u001b[1m \u001b[0m\u001b[1mAVG ROAD\u001b[0m\u001b[1m \u001b[0m│\u001b[1m \u001b[0m\u001b[1mAVG ARMY\u001b[0m\u001b[1m \u001b[0m│\u001b[1m \u001b[0m\u001b[1mAVG DEV VP\u001b[0m\u001b[1m \u001b[0m \n",
       "╶─────────────────────┼──────┼────────┼─────────────┼────────────┼──────────┼──────────┼────────────╴\n",
       "  \u001b[37mRandomPlayer:WHITE\u001b[0m  │    4 │   7.00 │        2.30 │       1.00 │     0.40 │     0.50 │       0.90  \n",
       "  \u001b[34mRandomPlayer:BLUE\u001b[0m   │    2 │   5.70 │        2.50 │       0.60 │     0.30 │     0.20 │       1.00  \n",
       "  \u001b[31mAB_DQNPlayer_1:RED\u001b[0m  │    0 │   2.30 │        2.20 │       0.00 │     0.00 │     0.00 │       0.10  \n",
       "  \u001b[33mRandomPlayer:ORANGE\u001b[0m │    4 │   7.10 │        2.10 │       1.20 │     0.30 │     0.30 │       1.40  \n",
       "                      ╵      ╵        ╵             ╵            ╵          ╵          ╵             \n"
      ]
     },
     "metadata": {},
     "output_type": "display_data"
    },
    {
     "data": {
      "text/html": [
       "<pre style=\"white-space:pre;overflow-x:auto;line-height:normal;font-family:Menlo,'DejaVu Sans Mono',consolas,'Courier New',monospace\"><span style=\"font-style: italic\">              Game Summary              </span>\n",
       "            ╷           ╷               \n",
       " <span style=\"font-weight: bold\"> AVG TICKS </span>│<span style=\"font-weight: bold\"> AVG TURNS </span>│<span style=\"font-weight: bold\"> AVG DURATION </span> \n",
       "╶───────────┼───────────┼──────────────╴\n",
       "     903.30 │    315.00 │  13.929 secs  \n",
       "            ╵           ╵               \n",
       "</pre>\n"
      ],
      "text/plain": [
       "\u001b[3m              Game Summary              \u001b[0m\n",
       "            ╷           ╷               \n",
       " \u001b[1m \u001b[0m\u001b[1mAVG TICKS\u001b[0m\u001b[1m \u001b[0m│\u001b[1m \u001b[0m\u001b[1mAVG TURNS\u001b[0m\u001b[1m \u001b[0m│\u001b[1m \u001b[0m\u001b[1mAVG DURATION\u001b[0m\u001b[1m \u001b[0m \n",
       "╶───────────┼───────────┼──────────────╴\n",
       "     903.30 │    315.00 │  13.929 secs  \n",
       "            ╵           ╵               \n"
      ]
     },
     "metadata": {},
     "output_type": "display_data"
    },
    {
     "name": "stdout",
     "output_type": "stream",
     "text": [
      "Loaded replay buffer with 2918 transitions\n",
      "atch 2/50: Playing 10 games\n"
     ]
    },
    {
     "data": {
      "text/html": [
       "<pre style=\"white-space:pre;overflow-x:auto;line-height:normal;font-family:Menlo,'DejaVu Sans Mono',consolas,'Courier New',monospace\">Cleared replay buffer to refresh training examples.\n",
       "</pre>\n"
      ],
      "text/plain": [
       "Cleared replay buffer to refresh training examples.\n"
      ]
     },
     "metadata": {},
     "output_type": "display_data"
    },
    {
     "data": {
      "text/html": [
       "<pre style=\"white-space:pre;overflow-x:auto;line-height:normal;font-family:Menlo,'DejaVu Sans Mono',consolas,'Courier New',monospace\">Reward variance in batch: 0.0000\n",
       "</pre>\n"
      ],
      "text/plain": [
       "Reward variance in batch: 0.0000\n"
      ]
     },
     "metadata": {},
     "output_type": "display_data"
    },
    {
     "data": {
      "text/html": [
       "<pre style=\"white-space:pre;overflow-x:auto;line-height:normal;font-family:Menlo,'DejaVu Sans Mono',consolas,'Courier New',monospace\">Trained DQN model with loss: 101.2907\n",
       "</pre>\n"
      ],
      "text/plain": [
       "Trained DQN model with loss: 101.2907\n"
      ]
     },
     "metadata": {},
     "output_type": "display_data"
    },
    {
     "data": {
      "text/html": [
       "<pre style=\"white-space:pre;overflow-x:auto;line-height:normal;font-family:Menlo,'DejaVu Sans Mono',consolas,'Courier New',monospace\">Avg pred: -0.1325, Avg target: 9.9296\n",
       "</pre>\n"
      ],
      "text/plain": [
       "Avg pred: -0.1325, Avg target: 9.9296\n"
      ]
     },
     "metadata": {},
     "output_type": "display_data"
    },
    {
     "data": {
      "text/html": [
       "<pre style=\"white-space:pre;overflow-x:auto;line-height:normal;font-family:Menlo,'DejaVu Sans Mono',consolas,'Courier New',monospace\">Cleared replay buffer to refresh training examples.\n",
       "</pre>\n"
      ],
      "text/plain": [
       "Cleared replay buffer to refresh training examples.\n"
      ]
     },
     "metadata": {},
     "output_type": "display_data"
    },
    {
     "data": {
      "text/html": [
       "<pre style=\"white-space:pre;overflow-x:auto;line-height:normal;font-family:Menlo,'DejaVu Sans Mono',consolas,'Courier New',monospace\">Reward variance in batch: 0.0000\n",
       "</pre>\n"
      ],
      "text/plain": [
       "Reward variance in batch: 0.0000\n"
      ]
     },
     "metadata": {},
     "output_type": "display_data"
    },
    {
     "data": {
      "text/html": [
       "<pre style=\"white-space:pre;overflow-x:auto;line-height:normal;font-family:Menlo,'DejaVu Sans Mono',consolas,'Courier New',monospace\">Trained DQN model with loss: 101.2676\n",
       "</pre>\n"
      ],
      "text/plain": [
       "Trained DQN model with loss: 101.2676\n"
      ]
     },
     "metadata": {},
     "output_type": "display_data"
    },
    {
     "data": {
      "text/html": [
       "<pre style=\"white-space:pre;overflow-x:auto;line-height:normal;font-family:Menlo,'DejaVu Sans Mono',consolas,'Courier New',monospace\">Avg pred: -0.1143, Avg target: 9.9449\n",
       "</pre>\n"
      ],
      "text/plain": [
       "Avg pred: -0.1143, Avg target: 9.9449\n"
      ]
     },
     "metadata": {},
     "output_type": "display_data"
    },
    {
     "data": {
      "text/html": [
       "<pre style=\"white-space:pre;overflow-x:auto;line-height:normal;font-family:Menlo,'DejaVu Sans Mono',consolas,'Courier New',monospace\">Cleared replay buffer to refresh training examples.\n",
       "</pre>\n"
      ],
      "text/plain": [
       "Cleared replay buffer to refresh training examples.\n"
      ]
     },
     "metadata": {},
     "output_type": "display_data"
    },
    {
     "data": {
      "text/html": [
       "<pre style=\"white-space:pre;overflow-x:auto;line-height:normal;font-family:Menlo,'DejaVu Sans Mono',consolas,'Courier New',monospace\">Reward variance in batch: 0.0000\n",
       "</pre>\n"
      ],
      "text/plain": [
       "Reward variance in batch: 0.0000\n"
      ]
     },
     "metadata": {},
     "output_type": "display_data"
    },
    {
     "data": {
      "text/html": [
       "<pre style=\"white-space:pre;overflow-x:auto;line-height:normal;font-family:Menlo,'DejaVu Sans Mono',consolas,'Courier New',monospace\">Trained DQN model with loss: 101.9526\n",
       "</pre>\n"
      ],
      "text/plain": [
       "Trained DQN model with loss: 101.9526\n"
      ]
     },
     "metadata": {},
     "output_type": "display_data"
    },
    {
     "data": {
      "text/html": [
       "<pre style=\"white-space:pre;overflow-x:auto;line-height:normal;font-family:Menlo,'DejaVu Sans Mono',consolas,'Courier New',monospace\">Avg pred: -0.1591, Avg target: 9.9357\n",
       "</pre>\n"
      ],
      "text/plain": [
       "Avg pred: -0.1591, Avg target: 9.9357\n"
      ]
     },
     "metadata": {},
     "output_type": "display_data"
    },
    {
     "data": {
      "text/html": [
       "<pre style=\"white-space:pre;overflow-x:auto;line-height:normal;font-family:Menlo,'DejaVu Sans Mono',consolas,'Courier New',monospace\"></pre>\n"
      ],
      "text/plain": []
     },
     "metadata": {},
     "output_type": "display_data"
    },
    {
     "data": {
      "text/html": [
       "<pre style=\"white-space:pre;overflow-x:auto;line-height:normal;font-family:Menlo,'DejaVu Sans Mono',consolas,'Courier New',monospace\">\n",
       "</pre>\n"
      ],
      "text/plain": [
       "\n"
      ]
     },
     "metadata": {},
     "output_type": "display_data"
    },
    {
     "data": {
      "text/html": [
       "<pre style=\"white-space:pre;overflow-x:auto;line-height:normal;font-family:Menlo,'DejaVu Sans Mono',consolas,'Courier New',monospace\"><span style=\"font-style: italic\">                                      Last 10 Games                                      </span>\n",
       "     ╷                       ╷       ╷         ╷        ╷          ╷           ╷         \n",
       " <span style=\"font-weight: bold\">  # </span>│<span style=\"font-weight: bold\"> SEATING               </span>│<span style=\"font-weight: bold\"> TURNS </span>│<span style=\"font-weight: bold\"> BLUE VP </span>│<span style=\"font-weight: bold\"> RED VP </span>│<span style=\"font-weight: bold\"> WHITE VP </span>│<span style=\"font-weight: bold\"> ORANGE VP </span>│<span style=\"font-weight: bold\"> WINNER </span> \n",
       "╶────┼───────────────────────┼───────┼─────────┼────────┼──────────┼───────────┼────────╴\n",
       "   1 │ <span style=\"color: #c0c0c0; text-decoration-color: #c0c0c0\">WHITE</span>,<span style=\"color: #800000; text-decoration-color: #800000\">RED</span>,<span style=\"color: #808000; text-decoration-color: #808000\">ORANGE</span>,<span style=\"color: #000080; text-decoration-color: #000080\">BLUE</span> │   510 │       7 │      6 │       10 │         5 │ <span style=\"color: #c0c0c0; text-decoration-color: #c0c0c0\">WHITE</span>   \n",
       "   2 │ <span style=\"color: #c0c0c0; text-decoration-color: #c0c0c0\">WHITE</span>,<span style=\"color: #808000; text-decoration-color: #808000\">ORANGE</span>,<span style=\"color: #000080; text-decoration-color: #000080\">BLUE</span>,<span style=\"color: #800000; text-decoration-color: #800000\">RED</span> │   408 │      10 │      3 │        6 │         7 │ <span style=\"color: #000080; text-decoration-color: #000080\">BLUE</span>    \n",
       "   3 │ <span style=\"color: #800000; text-decoration-color: #800000\">RED</span>,<span style=\"color: #808000; text-decoration-color: #808000\">ORANGE</span>,<span style=\"color: #c0c0c0; text-decoration-color: #c0c0c0\">WHITE</span>,<span style=\"color: #000080; text-decoration-color: #000080\">BLUE</span> │   343 │       2 │      2 │        4 │        10 │ <span style=\"color: #808000; text-decoration-color: #808000\">ORANGE</span>  \n",
       "   4 │ <span style=\"color: #c0c0c0; text-decoration-color: #c0c0c0\">WHITE</span>,<span style=\"color: #808000; text-decoration-color: #808000\">ORANGE</span>,<span style=\"color: #000080; text-decoration-color: #000080\">BLUE</span>,<span style=\"color: #800000; text-decoration-color: #800000\">RED</span> │   320 │      10 │      2 │        8 │         3 │ <span style=\"color: #000080; text-decoration-color: #000080\">BLUE</span>    \n",
       "   5 │ <span style=\"color: #000080; text-decoration-color: #000080\">BLUE</span>,<span style=\"color: #808000; text-decoration-color: #808000\">ORANGE</span>,<span style=\"color: #c0c0c0; text-decoration-color: #c0c0c0\">WHITE</span>,<span style=\"color: #800000; text-decoration-color: #800000\">RED</span> │   622 │      10 │      2 │        6 │         8 │ <span style=\"color: #000080; text-decoration-color: #000080\">BLUE</span>    \n",
       "   6 │ <span style=\"color: #800000; text-decoration-color: #800000\">RED</span>,<span style=\"color: #c0c0c0; text-decoration-color: #c0c0c0\">WHITE</span>,<span style=\"color: #000080; text-decoration-color: #000080\">BLUE</span>,<span style=\"color: #808000; text-decoration-color: #808000\">ORANGE</span> │   327 │       6 │      3 │       10 │         2 │ <span style=\"color: #c0c0c0; text-decoration-color: #c0c0c0\">WHITE</span>   \n",
       "   7 │ <span style=\"color: #000080; text-decoration-color: #000080\">BLUE</span>,<span style=\"color: #c0c0c0; text-decoration-color: #c0c0c0\">WHITE</span>,<span style=\"color: #800000; text-decoration-color: #800000\">RED</span>,<span style=\"color: #808000; text-decoration-color: #808000\">ORANGE</span> │   325 │       3 │      2 │        2 │        11 │ <span style=\"color: #808000; text-decoration-color: #808000\">ORANGE</span>  \n",
       "   8 │ <span style=\"color: #000080; text-decoration-color: #000080\">BLUE</span>,<span style=\"color: #c0c0c0; text-decoration-color: #c0c0c0\">WHITE</span>,<span style=\"color: #800000; text-decoration-color: #800000\">RED</span>,<span style=\"color: #808000; text-decoration-color: #808000\">ORANGE</span> │   530 │      10 │      2 │        4 │         9 │ <span style=\"color: #000080; text-decoration-color: #000080\">BLUE</span>    \n",
       "   9 │ <span style=\"color: #800000; text-decoration-color: #800000\">RED</span>,<span style=\"color: #c0c0c0; text-decoration-color: #c0c0c0\">WHITE</span>,<span style=\"color: #000080; text-decoration-color: #000080\">BLUE</span>,<span style=\"color: #808000; text-decoration-color: #808000\">ORANGE</span> │   180 │      10 │      2 │        2 │         4 │ <span style=\"color: #000080; text-decoration-color: #000080\">BLUE</span>    \n",
       "  10 │ <span style=\"color: #c0c0c0; text-decoration-color: #c0c0c0\">WHITE</span>,<span style=\"color: #808000; text-decoration-color: #808000\">ORANGE</span>,<span style=\"color: #000080; text-decoration-color: #000080\">BLUE</span>,<span style=\"color: #800000; text-decoration-color: #800000\">RED</span> │   544 │      10 │      2 │        6 │         8 │ <span style=\"color: #000080; text-decoration-color: #000080\">BLUE</span>    \n",
       "     ╵                       ╵       ╵         ╵        ╵          ╵           ╵         \n",
       "</pre>\n"
      ],
      "text/plain": [
       "\u001b[3m                                      Last 10 Games                                      \u001b[0m\n",
       "     ╷                       ╷       ╷         ╷        ╷          ╷           ╷         \n",
       " \u001b[1m \u001b[0m\u001b[1m #\u001b[0m\u001b[1m \u001b[0m│\u001b[1m \u001b[0m\u001b[1mSEATING              \u001b[0m\u001b[1m \u001b[0m│\u001b[1m \u001b[0m\u001b[1mTURNS\u001b[0m\u001b[1m \u001b[0m│\u001b[1m \u001b[0m\u001b[1mBLUE VP\u001b[0m\u001b[1m \u001b[0m│\u001b[1m \u001b[0m\u001b[1mRED VP\u001b[0m\u001b[1m \u001b[0m│\u001b[1m \u001b[0m\u001b[1mWHITE VP\u001b[0m\u001b[1m \u001b[0m│\u001b[1m \u001b[0m\u001b[1mORANGE VP\u001b[0m\u001b[1m \u001b[0m│\u001b[1m \u001b[0m\u001b[1mWINNER\u001b[0m\u001b[1m \u001b[0m \n",
       "╶────┼───────────────────────┼───────┼─────────┼────────┼──────────┼───────────┼────────╴\n",
       "   1 │ \u001b[37mWHITE\u001b[0m,\u001b[31mRED\u001b[0m,\u001b[33mORANGE\u001b[0m,\u001b[34mBLUE\u001b[0m │   510 │       7 │      6 │       10 │         5 │ \u001b[37mWHITE\u001b[0m   \n",
       "   2 │ \u001b[37mWHITE\u001b[0m,\u001b[33mORANGE\u001b[0m,\u001b[34mBLUE\u001b[0m,\u001b[31mRED\u001b[0m │   408 │      10 │      3 │        6 │         7 │ \u001b[34mBLUE\u001b[0m    \n",
       "   3 │ \u001b[31mRED\u001b[0m,\u001b[33mORANGE\u001b[0m,\u001b[37mWHITE\u001b[0m,\u001b[34mBLUE\u001b[0m │   343 │       2 │      2 │        4 │        10 │ \u001b[33mORANGE\u001b[0m  \n",
       "   4 │ \u001b[37mWHITE\u001b[0m,\u001b[33mORANGE\u001b[0m,\u001b[34mBLUE\u001b[0m,\u001b[31mRED\u001b[0m │   320 │      10 │      2 │        8 │         3 │ \u001b[34mBLUE\u001b[0m    \n",
       "   5 │ \u001b[34mBLUE\u001b[0m,\u001b[33mORANGE\u001b[0m,\u001b[37mWHITE\u001b[0m,\u001b[31mRED\u001b[0m │   622 │      10 │      2 │        6 │         8 │ \u001b[34mBLUE\u001b[0m    \n",
       "   6 │ \u001b[31mRED\u001b[0m,\u001b[37mWHITE\u001b[0m,\u001b[34mBLUE\u001b[0m,\u001b[33mORANGE\u001b[0m │   327 │       6 │      3 │       10 │         2 │ \u001b[37mWHITE\u001b[0m   \n",
       "   7 │ \u001b[34mBLUE\u001b[0m,\u001b[37mWHITE\u001b[0m,\u001b[31mRED\u001b[0m,\u001b[33mORANGE\u001b[0m │   325 │       3 │      2 │        2 │        11 │ \u001b[33mORANGE\u001b[0m  \n",
       "   8 │ \u001b[34mBLUE\u001b[0m,\u001b[37mWHITE\u001b[0m,\u001b[31mRED\u001b[0m,\u001b[33mORANGE\u001b[0m │   530 │      10 │      2 │        4 │         9 │ \u001b[34mBLUE\u001b[0m    \n",
       "   9 │ \u001b[31mRED\u001b[0m,\u001b[37mWHITE\u001b[0m,\u001b[34mBLUE\u001b[0m,\u001b[33mORANGE\u001b[0m │   180 │      10 │      2 │        2 │         4 │ \u001b[34mBLUE\u001b[0m    \n",
       "  10 │ \u001b[37mWHITE\u001b[0m,\u001b[33mORANGE\u001b[0m,\u001b[34mBLUE\u001b[0m,\u001b[31mRED\u001b[0m │   544 │      10 │      2 │        6 │         8 │ \u001b[34mBLUE\u001b[0m    \n",
       "     ╵                       ╵       ╵         ╵        ╵          ╵           ╵         \n"
      ]
     },
     "metadata": {},
     "output_type": "display_data"
    },
    {
     "data": {
      "text/html": [
       "<pre style=\"white-space:pre;overflow-x:auto;line-height:normal;font-family:Menlo,'DejaVu Sans Mono',consolas,'Courier New',monospace\"><span style=\"font-style: italic\">                                           Player Summary                                            </span>\n",
       "                      ╷      ╷        ╷             ╷            ╷          ╷          ╷             \n",
       " <span style=\"font-weight: bold\">                     </span>│<span style=\"font-weight: bold\"> WINS </span>│<span style=\"font-weight: bold\"> AVG VP </span>│<span style=\"font-weight: bold\"> AVG SETTLES </span>│<span style=\"font-weight: bold\"> AVG CITIES </span>│<span style=\"font-weight: bold\"> AVG ROAD </span>│<span style=\"font-weight: bold\"> AVG ARMY </span>│<span style=\"font-weight: bold\"> AVG DEV VP </span> \n",
       "╶─────────────────────┼──────┼────────┼─────────────┼────────────┼──────────┼──────────┼────────────╴\n",
       "  <span style=\"color: #000080; text-decoration-color: #000080\">RandomPlayer:BLUE</span>   │    6 │   7.80 │        3.00 │       0.70 │     0.50 │     0.20 │       2.00  \n",
       "  <span style=\"color: #800000; text-decoration-color: #800000\">AB_DQNPlayer_1:RED</span>  │    0 │   2.60 │        2.20 │       0.10 │     0.00 │     0.00 │       0.20  \n",
       "  <span style=\"color: #c0c0c0; text-decoration-color: #c0c0c0\">RandomPlayer:WHITE</span>  │    2 │   5.80 │        1.90 │       0.80 │     0.20 │     0.40 │       1.10  \n",
       "  <span style=\"color: #808000; text-decoration-color: #808000\">RandomPlayer:ORANGE</span> │    2 │   6.70 │        2.80 │       0.60 │     0.30 │     0.40 │       1.30  \n",
       "                      ╵      ╵        ╵             ╵            ╵          ╵          ╵             \n",
       "</pre>\n"
      ],
      "text/plain": [
       "\u001b[3m                                           Player Summary                                            \u001b[0m\n",
       "                      ╷      ╷        ╷             ╷            ╷          ╷          ╷             \n",
       " \u001b[1m \u001b[0m\u001b[1m                   \u001b[0m\u001b[1m \u001b[0m│\u001b[1m \u001b[0m\u001b[1mWINS\u001b[0m\u001b[1m \u001b[0m│\u001b[1m \u001b[0m\u001b[1mAVG VP\u001b[0m\u001b[1m \u001b[0m│\u001b[1m \u001b[0m\u001b[1mAVG SETTLES\u001b[0m\u001b[1m \u001b[0m│\u001b[1m \u001b[0m\u001b[1mAVG CITIES\u001b[0m\u001b[1m \u001b[0m│\u001b[1m \u001b[0m\u001b[1mAVG ROAD\u001b[0m\u001b[1m \u001b[0m│\u001b[1m \u001b[0m\u001b[1mAVG ARMY\u001b[0m\u001b[1m \u001b[0m│\u001b[1m \u001b[0m\u001b[1mAVG DEV VP\u001b[0m\u001b[1m \u001b[0m \n",
       "╶─────────────────────┼──────┼────────┼─────────────┼────────────┼──────────┼──────────┼────────────╴\n",
       "  \u001b[34mRandomPlayer:BLUE\u001b[0m   │    6 │   7.80 │        3.00 │       0.70 │     0.50 │     0.20 │       2.00  \n",
       "  \u001b[31mAB_DQNPlayer_1:RED\u001b[0m  │    0 │   2.60 │        2.20 │       0.10 │     0.00 │     0.00 │       0.20  \n",
       "  \u001b[37mRandomPlayer:WHITE\u001b[0m  │    2 │   5.80 │        1.90 │       0.80 │     0.20 │     0.40 │       1.10  \n",
       "  \u001b[33mRandomPlayer:ORANGE\u001b[0m │    2 │   6.70 │        2.80 │       0.60 │     0.30 │     0.40 │       1.30  \n",
       "                      ╵      ╵        ╵             ╵            ╵          ╵          ╵             \n"
      ]
     },
     "metadata": {},
     "output_type": "display_data"
    },
    {
     "data": {
      "text/html": [
       "<pre style=\"white-space:pre;overflow-x:auto;line-height:normal;font-family:Menlo,'DejaVu Sans Mono',consolas,'Courier New',monospace\"><span style=\"font-style: italic\">              Game Summary              </span>\n",
       "            ╷           ╷               \n",
       " <span style=\"font-weight: bold\"> AVG TICKS </span>│<span style=\"font-weight: bold\"> AVG TURNS </span>│<span style=\"font-weight: bold\"> AVG DURATION </span> \n",
       "╶───────────┼───────────┼──────────────╴\n",
       "    1177.30 │    410.90 │  16.617 secs  \n",
       "            ╵           ╵               \n",
       "</pre>\n"
      ],
      "text/plain": [
       "\u001b[3m              Game Summary              \u001b[0m\n",
       "            ╷           ╷               \n",
       " \u001b[1m \u001b[0m\u001b[1mAVG TICKS\u001b[0m\u001b[1m \u001b[0m│\u001b[1m \u001b[0m\u001b[1mAVG TURNS\u001b[0m\u001b[1m \u001b[0m│\u001b[1m \u001b[0m\u001b[1mAVG DURATION\u001b[0m\u001b[1m \u001b[0m \n",
       "╶───────────┼───────────┼──────────────╴\n",
       "    1177.30 │    410.90 │  16.617 secs  \n",
       "            ╵           ╵               \n"
      ]
     },
     "metadata": {},
     "output_type": "display_data"
    },
    {
     "name": "stdout",
     "output_type": "stream",
     "text": [
      "Loaded replay buffer with 1038 transitions\n",
      "atch 3/50: Playing 10 games\n"
     ]
    },
    {
     "data": {
      "text/html": [
       "<pre style=\"white-space:pre;overflow-x:auto;line-height:normal;font-family:Menlo,'DejaVu Sans Mono',consolas,'Courier New',monospace\">Cleared replay buffer to refresh training examples.\n",
       "</pre>\n"
      ],
      "text/plain": [
       "Cleared replay buffer to refresh training examples.\n"
      ]
     },
     "metadata": {},
     "output_type": "display_data"
    },
    {
     "data": {
      "text/html": [
       "<pre style=\"white-space:pre;overflow-x:auto;line-height:normal;font-family:Menlo,'DejaVu Sans Mono',consolas,'Courier New',monospace\">Reward variance in batch: 0.0000\n",
       "</pre>\n"
      ],
      "text/plain": [
       "Reward variance in batch: 0.0000\n"
      ]
     },
     "metadata": {},
     "output_type": "display_data"
    },
    {
     "data": {
      "text/html": [
       "<pre style=\"white-space:pre;overflow-x:auto;line-height:normal;font-family:Menlo,'DejaVu Sans Mono',consolas,'Courier New',monospace\">Trained DQN model with loss: 100.4151\n",
       "</pre>\n"
      ],
      "text/plain": [
       "Trained DQN model with loss: 100.4151\n"
      ]
     },
     "metadata": {},
     "output_type": "display_data"
    },
    {
     "data": {
      "text/html": [
       "<pre style=\"white-space:pre;overflow-x:auto;line-height:normal;font-family:Menlo,'DejaVu Sans Mono',consolas,'Courier New',monospace\">Avg pred: -0.0720, Avg target: 9.9458\n",
       "</pre>\n"
      ],
      "text/plain": [
       "Avg pred: -0.0720, Avg target: 9.9458\n"
      ]
     },
     "metadata": {},
     "output_type": "display_data"
    },
    {
     "data": {
      "text/html": [
       "<pre style=\"white-space:pre;overflow-x:auto;line-height:normal;font-family:Menlo,'DejaVu Sans Mono',consolas,'Courier New',monospace\">Cleared replay buffer to refresh training examples.\n",
       "</pre>\n"
      ],
      "text/plain": [
       "Cleared replay buffer to refresh training examples.\n"
      ]
     },
     "metadata": {},
     "output_type": "display_data"
    },
    {
     "data": {
      "text/html": [
       "<pre style=\"white-space:pre;overflow-x:auto;line-height:normal;font-family:Menlo,'DejaVu Sans Mono',consolas,'Courier New',monospace\">Reward variance in batch: 0.0000\n",
       "</pre>\n"
      ],
      "text/plain": [
       "Reward variance in batch: 0.0000\n"
      ]
     },
     "metadata": {},
     "output_type": "display_data"
    },
    {
     "data": {
      "text/html": [
       "<pre style=\"white-space:pre;overflow-x:auto;line-height:normal;font-family:Menlo,'DejaVu Sans Mono',consolas,'Courier New',monospace\">Trained DQN model with loss: 102.2743\n",
       "</pre>\n"
      ],
      "text/plain": [
       "Trained DQN model with loss: 102.2743\n"
      ]
     },
     "metadata": {},
     "output_type": "display_data"
    },
    {
     "data": {
      "text/html": [
       "<pre style=\"white-space:pre;overflow-x:auto;line-height:normal;font-family:Menlo,'DejaVu Sans Mono',consolas,'Courier New',monospace\">Avg pred: -0.1338, Avg target: 9.9763\n",
       "</pre>\n"
      ],
      "text/plain": [
       "Avg pred: -0.1338, Avg target: 9.9763\n"
      ]
     },
     "metadata": {},
     "output_type": "display_data"
    },
    {
     "data": {
      "text/html": [
       "<pre style=\"white-space:pre;overflow-x:auto;line-height:normal;font-family:Menlo,'DejaVu Sans Mono',consolas,'Courier New',monospace\"></pre>\n"
      ],
      "text/plain": []
     },
     "metadata": {},
     "output_type": "display_data"
    },
    {
     "data": {
      "text/html": [
       "<pre style=\"white-space:pre;overflow-x:auto;line-height:normal;font-family:Menlo,'DejaVu Sans Mono',consolas,'Courier New',monospace\">\n",
       "</pre>\n"
      ],
      "text/plain": [
       "\n"
      ]
     },
     "metadata": {},
     "output_type": "display_data"
    },
    {
     "data": {
      "text/html": [
       "<pre style=\"white-space:pre;overflow-x:auto;line-height:normal;font-family:Menlo,'DejaVu Sans Mono',consolas,'Courier New',monospace\"><span style=\"font-style: italic\">                                      Last 10 Games                                      </span>\n",
       "     ╷                       ╷       ╷           ╷          ╷         ╷        ╷         \n",
       " <span style=\"font-weight: bold\">  # </span>│<span style=\"font-weight: bold\"> SEATING               </span>│<span style=\"font-weight: bold\"> TURNS </span>│<span style=\"font-weight: bold\"> ORANGE VP </span>│<span style=\"font-weight: bold\"> WHITE VP </span>│<span style=\"font-weight: bold\"> BLUE VP </span>│<span style=\"font-weight: bold\"> RED VP </span>│<span style=\"font-weight: bold\"> WINNER </span> \n",
       "╶────┼───────────────────────┼───────┼───────────┼──────────┼─────────┼────────┼────────╴\n",
       "   1 │ <span style=\"color: #c0c0c0; text-decoration-color: #c0c0c0\">WHITE</span>,<span style=\"color: #800000; text-decoration-color: #800000\">RED</span>,<span style=\"color: #808000; text-decoration-color: #808000\">ORANGE</span>,<span style=\"color: #000080; text-decoration-color: #000080\">BLUE</span> │   378 │         2 │       10 │       3 │      2 │ <span style=\"color: #c0c0c0; text-decoration-color: #c0c0c0\">WHITE</span>   \n",
       "   2 │ <span style=\"color: #808000; text-decoration-color: #808000\">ORANGE</span>,<span style=\"color: #800000; text-decoration-color: #800000\">RED</span>,<span style=\"color: #c0c0c0; text-decoration-color: #c0c0c0\">WHITE</span>,<span style=\"color: #000080; text-decoration-color: #000080\">BLUE</span> │   198 │        10 │        2 │       3 │      7 │ <span style=\"color: #808000; text-decoration-color: #808000\">ORANGE</span>  \n",
       "   3 │ <span style=\"color: #800000; text-decoration-color: #800000\">RED</span>,<span style=\"color: #000080; text-decoration-color: #000080\">BLUE</span>,<span style=\"color: #c0c0c0; text-decoration-color: #c0c0c0\">WHITE</span>,<span style=\"color: #808000; text-decoration-color: #808000\">ORANGE</span> │   533 │        10 │        3 │       6 │      6 │ <span style=\"color: #808000; text-decoration-color: #808000\">ORANGE</span>  \n",
       "   4 │ <span style=\"color: #000080; text-decoration-color: #000080\">BLUE</span>,<span style=\"color: #808000; text-decoration-color: #808000\">ORANGE</span>,<span style=\"color: #c0c0c0; text-decoration-color: #c0c0c0\">WHITE</span>,<span style=\"color: #800000; text-decoration-color: #800000\">RED</span> │   156 │         2 │       10 │       5 │      2 │ <span style=\"color: #c0c0c0; text-decoration-color: #c0c0c0\">WHITE</span>   \n",
       "   5 │ <span style=\"color: #000080; text-decoration-color: #000080\">BLUE</span>,<span style=\"color: #800000; text-decoration-color: #800000\">RED</span>,<span style=\"color: #c0c0c0; text-decoration-color: #c0c0c0\">WHITE</span>,<span style=\"color: #808000; text-decoration-color: #808000\">ORANGE</span> │   232 │         5 │       10 │       5 │      2 │ <span style=\"color: #c0c0c0; text-decoration-color: #c0c0c0\">WHITE</span>   \n",
       "   6 │ <span style=\"color: #000080; text-decoration-color: #000080\">BLUE</span>,<span style=\"color: #808000; text-decoration-color: #808000\">ORANGE</span>,<span style=\"color: #c0c0c0; text-decoration-color: #c0c0c0\">WHITE</span>,<span style=\"color: #800000; text-decoration-color: #800000\">RED</span> │   535 │        10 │        9 │       6 │      2 │ <span style=\"color: #808000; text-decoration-color: #808000\">ORANGE</span>  \n",
       "   7 │ <span style=\"color: #800000; text-decoration-color: #800000\">RED</span>,<span style=\"color: #808000; text-decoration-color: #808000\">ORANGE</span>,<span style=\"color: #000080; text-decoration-color: #000080\">BLUE</span>,<span style=\"color: #c0c0c0; text-decoration-color: #c0c0c0\">WHITE</span> │   300 │         4 │        6 │      10 │      2 │ <span style=\"color: #000080; text-decoration-color: #000080\">BLUE</span>    \n",
       "   8 │ <span style=\"color: #c0c0c0; text-decoration-color: #c0c0c0\">WHITE</span>,<span style=\"color: #808000; text-decoration-color: #808000\">ORANGE</span>,<span style=\"color: #800000; text-decoration-color: #800000\">RED</span>,<span style=\"color: #000080; text-decoration-color: #000080\">BLUE</span> │   633 │         8 │        9 │      10 │      2 │ <span style=\"color: #000080; text-decoration-color: #000080\">BLUE</span>    \n",
       "   9 │ <span style=\"color: #808000; text-decoration-color: #808000\">ORANGE</span>,<span style=\"color: #000080; text-decoration-color: #000080\">BLUE</span>,<span style=\"color: #800000; text-decoration-color: #800000\">RED</span>,<span style=\"color: #c0c0c0; text-decoration-color: #c0c0c0\">WHITE</span> │    85 │         2 │       10 │       2 │      2 │ <span style=\"color: #c0c0c0; text-decoration-color: #c0c0c0\">WHITE</span>   \n",
       "  10 │ <span style=\"color: #800000; text-decoration-color: #800000\">RED</span>,<span style=\"color: #c0c0c0; text-decoration-color: #c0c0c0\">WHITE</span>,<span style=\"color: #000080; text-decoration-color: #000080\">BLUE</span>,<span style=\"color: #808000; text-decoration-color: #808000\">ORANGE</span> │   325 │        10 │        3 │       3 │      2 │ <span style=\"color: #808000; text-decoration-color: #808000\">ORANGE</span>  \n",
       "     ╵                       ╵       ╵           ╵          ╵         ╵        ╵         \n",
       "</pre>\n"
      ],
      "text/plain": [
       "\u001b[3m                                      Last 10 Games                                      \u001b[0m\n",
       "     ╷                       ╷       ╷           ╷          ╷         ╷        ╷         \n",
       " \u001b[1m \u001b[0m\u001b[1m #\u001b[0m\u001b[1m \u001b[0m│\u001b[1m \u001b[0m\u001b[1mSEATING              \u001b[0m\u001b[1m \u001b[0m│\u001b[1m \u001b[0m\u001b[1mTURNS\u001b[0m\u001b[1m \u001b[0m│\u001b[1m \u001b[0m\u001b[1mORANGE VP\u001b[0m\u001b[1m \u001b[0m│\u001b[1m \u001b[0m\u001b[1mWHITE VP\u001b[0m\u001b[1m \u001b[0m│\u001b[1m \u001b[0m\u001b[1mBLUE VP\u001b[0m\u001b[1m \u001b[0m│\u001b[1m \u001b[0m\u001b[1mRED VP\u001b[0m\u001b[1m \u001b[0m│\u001b[1m \u001b[0m\u001b[1mWINNER\u001b[0m\u001b[1m \u001b[0m \n",
       "╶────┼───────────────────────┼───────┼───────────┼──────────┼─────────┼────────┼────────╴\n",
       "   1 │ \u001b[37mWHITE\u001b[0m,\u001b[31mRED\u001b[0m,\u001b[33mORANGE\u001b[0m,\u001b[34mBLUE\u001b[0m │   378 │         2 │       10 │       3 │      2 │ \u001b[37mWHITE\u001b[0m   \n",
       "   2 │ \u001b[33mORANGE\u001b[0m,\u001b[31mRED\u001b[0m,\u001b[37mWHITE\u001b[0m,\u001b[34mBLUE\u001b[0m │   198 │        10 │        2 │       3 │      7 │ \u001b[33mORANGE\u001b[0m  \n",
       "   3 │ \u001b[31mRED\u001b[0m,\u001b[34mBLUE\u001b[0m,\u001b[37mWHITE\u001b[0m,\u001b[33mORANGE\u001b[0m │   533 │        10 │        3 │       6 │      6 │ \u001b[33mORANGE\u001b[0m  \n",
       "   4 │ \u001b[34mBLUE\u001b[0m,\u001b[33mORANGE\u001b[0m,\u001b[37mWHITE\u001b[0m,\u001b[31mRED\u001b[0m │   156 │         2 │       10 │       5 │      2 │ \u001b[37mWHITE\u001b[0m   \n",
       "   5 │ \u001b[34mBLUE\u001b[0m,\u001b[31mRED\u001b[0m,\u001b[37mWHITE\u001b[0m,\u001b[33mORANGE\u001b[0m │   232 │         5 │       10 │       5 │      2 │ \u001b[37mWHITE\u001b[0m   \n",
       "   6 │ \u001b[34mBLUE\u001b[0m,\u001b[33mORANGE\u001b[0m,\u001b[37mWHITE\u001b[0m,\u001b[31mRED\u001b[0m │   535 │        10 │        9 │       6 │      2 │ \u001b[33mORANGE\u001b[0m  \n",
       "   7 │ \u001b[31mRED\u001b[0m,\u001b[33mORANGE\u001b[0m,\u001b[34mBLUE\u001b[0m,\u001b[37mWHITE\u001b[0m │   300 │         4 │        6 │      10 │      2 │ \u001b[34mBLUE\u001b[0m    \n",
       "   8 │ \u001b[37mWHITE\u001b[0m,\u001b[33mORANGE\u001b[0m,\u001b[31mRED\u001b[0m,\u001b[34mBLUE\u001b[0m │   633 │         8 │        9 │      10 │      2 │ \u001b[34mBLUE\u001b[0m    \n",
       "   9 │ \u001b[33mORANGE\u001b[0m,\u001b[34mBLUE\u001b[0m,\u001b[31mRED\u001b[0m,\u001b[37mWHITE\u001b[0m │    85 │         2 │       10 │       2 │      2 │ \u001b[37mWHITE\u001b[0m   \n",
       "  10 │ \u001b[31mRED\u001b[0m,\u001b[37mWHITE\u001b[0m,\u001b[34mBLUE\u001b[0m,\u001b[33mORANGE\u001b[0m │   325 │        10 │        3 │       3 │      2 │ \u001b[33mORANGE\u001b[0m  \n",
       "     ╵                       ╵       ╵           ╵          ╵         ╵        ╵         \n"
      ]
     },
     "metadata": {},
     "output_type": "display_data"
    },
    {
     "data": {
      "text/html": [
       "<pre style=\"white-space:pre;overflow-x:auto;line-height:normal;font-family:Menlo,'DejaVu Sans Mono',consolas,'Courier New',monospace\"><span style=\"font-style: italic\">                                           Player Summary                                            </span>\n",
       "                      ╷      ╷        ╷             ╷            ╷          ╷          ╷             \n",
       " <span style=\"font-weight: bold\">                     </span>│<span style=\"font-weight: bold\"> WINS </span>│<span style=\"font-weight: bold\"> AVG VP </span>│<span style=\"font-weight: bold\"> AVG SETTLES </span>│<span style=\"font-weight: bold\"> AVG CITIES </span>│<span style=\"font-weight: bold\"> AVG ROAD </span>│<span style=\"font-weight: bold\"> AVG ARMY </span>│<span style=\"font-weight: bold\"> AVG DEV VP </span> \n",
       "╶─────────────────────┼──────┼────────┼─────────────┼────────────┼──────────┼──────────┼────────────╴\n",
       "  <span style=\"color: #808000; text-decoration-color: #808000\">RandomPlayer:ORANGE</span> │    4 │   6.30 │        1.90 │       0.80 │     0.40 │     0.50 │       1.00  \n",
       "  <span style=\"color: #c0c0c0; text-decoration-color: #c0c0c0\">RandomPlayer:WHITE</span>  │    4 │   7.20 │        1.90 │       1.40 │     0.20 │     0.30 │       1.50  \n",
       "  <span style=\"color: #000080; text-decoration-color: #000080\">RandomPlayer:BLUE</span>   │    2 │   5.30 │        2.30 │       0.50 │     0.20 │     0.20 │       1.20  \n",
       "  <span style=\"color: #800000; text-decoration-color: #800000\">AB_DQNPlayer_1:RED</span>  │    0 │   2.90 │        2.30 │       0.10 │     0.10 │     0.00 │       0.20  \n",
       "                      ╵      ╵        ╵             ╵            ╵          ╵          ╵             \n",
       "</pre>\n"
      ],
      "text/plain": [
       "\u001b[3m                                           Player Summary                                            \u001b[0m\n",
       "                      ╷      ╷        ╷             ╷            ╷          ╷          ╷             \n",
       " \u001b[1m \u001b[0m\u001b[1m                   \u001b[0m\u001b[1m \u001b[0m│\u001b[1m \u001b[0m\u001b[1mWINS\u001b[0m\u001b[1m \u001b[0m│\u001b[1m \u001b[0m\u001b[1mAVG VP\u001b[0m\u001b[1m \u001b[0m│\u001b[1m \u001b[0m\u001b[1mAVG SETTLES\u001b[0m\u001b[1m \u001b[0m│\u001b[1m \u001b[0m\u001b[1mAVG CITIES\u001b[0m\u001b[1m \u001b[0m│\u001b[1m \u001b[0m\u001b[1mAVG ROAD\u001b[0m\u001b[1m \u001b[0m│\u001b[1m \u001b[0m\u001b[1mAVG ARMY\u001b[0m\u001b[1m \u001b[0m│\u001b[1m \u001b[0m\u001b[1mAVG DEV VP\u001b[0m\u001b[1m \u001b[0m \n",
       "╶─────────────────────┼──────┼────────┼─────────────┼────────────┼──────────┼──────────┼────────────╴\n",
       "  \u001b[33mRandomPlayer:ORANGE\u001b[0m │    4 │   6.30 │        1.90 │       0.80 │     0.40 │     0.50 │       1.00  \n",
       "  \u001b[37mRandomPlayer:WHITE\u001b[0m  │    4 │   7.20 │        1.90 │       1.40 │     0.20 │     0.30 │       1.50  \n",
       "  \u001b[34mRandomPlayer:BLUE\u001b[0m   │    2 │   5.30 │        2.30 │       0.50 │     0.20 │     0.20 │       1.20  \n",
       "  \u001b[31mAB_DQNPlayer_1:RED\u001b[0m  │    0 │   2.90 │        2.30 │       0.10 │     0.10 │     0.00 │       0.20  \n",
       "                      ╵      ╵        ╵             ╵            ╵          ╵          ╵             \n"
      ]
     },
     "metadata": {},
     "output_type": "display_data"
    },
    {
     "data": {
      "text/html": [
       "<pre style=\"white-space:pre;overflow-x:auto;line-height:normal;font-family:Menlo,'DejaVu Sans Mono',consolas,'Courier New',monospace\"><span style=\"font-style: italic\">              Game Summary              </span>\n",
       "            ╷           ╷               \n",
       " <span style=\"font-weight: bold\"> AVG TICKS </span>│<span style=\"font-weight: bold\"> AVG TURNS </span>│<span style=\"font-weight: bold\"> AVG DURATION </span> \n",
       "╶───────────┼───────────┼──────────────╴\n",
       "     963.20 │    337.50 │  16.127 secs  \n",
       "            ╵           ╵               \n",
       "</pre>\n"
      ],
      "text/plain": [
       "\u001b[3m              Game Summary              \u001b[0m\n",
       "            ╷           ╷               \n",
       " \u001b[1m \u001b[0m\u001b[1mAVG TICKS\u001b[0m\u001b[1m \u001b[0m│\u001b[1m \u001b[0m\u001b[1mAVG TURNS\u001b[0m\u001b[1m \u001b[0m│\u001b[1m \u001b[0m\u001b[1mAVG DURATION\u001b[0m\u001b[1m \u001b[0m \n",
       "╶───────────┼───────────┼──────────────╴\n",
       "     963.20 │    337.50 │  16.127 secs  \n",
       "            ╵           ╵               \n"
      ]
     },
     "metadata": {},
     "output_type": "display_data"
    },
    {
     "name": "stdout",
     "output_type": "stream",
     "text": [
      "Loaded replay buffer with 3668 transitions\n",
      "atch 4/50: Playing 10 games\n"
     ]
    },
    {
     "data": {
      "text/html": [
       "<pre style=\"white-space:pre;overflow-x:auto;line-height:normal;font-family:Menlo,'DejaVu Sans Mono',consolas,'Courier New',monospace\">Cleared replay buffer to refresh training examples.\n",
       "</pre>\n"
      ],
      "text/plain": [
       "Cleared replay buffer to refresh training examples.\n"
      ]
     },
     "metadata": {},
     "output_type": "display_data"
    },
    {
     "data": {
      "text/html": [
       "<pre style=\"white-space:pre;overflow-x:auto;line-height:normal;font-family:Menlo,'DejaVu Sans Mono',consolas,'Courier New',monospace\">Reward variance in batch: 0.0000\n",
       "</pre>\n"
      ],
      "text/plain": [
       "Reward variance in batch: 0.0000\n"
      ]
     },
     "metadata": {},
     "output_type": "display_data"
    },
    {
     "data": {
      "text/html": [
       "<pre style=\"white-space:pre;overflow-x:auto;line-height:normal;font-family:Menlo,'DejaVu Sans Mono',consolas,'Courier New',monospace\">Trained DQN model with loss: 101.5500\n",
       "</pre>\n"
      ],
      "text/plain": [
       "Trained DQN model with loss: 101.5500\n"
      ]
     },
     "metadata": {},
     "output_type": "display_data"
    },
    {
     "data": {
      "text/html": [
       "<pre style=\"white-space:pre;overflow-x:auto;line-height:normal;font-family:Menlo,'DejaVu Sans Mono',consolas,'Courier New',monospace\">Avg pred: -0.1019, Avg target: 9.9738\n",
       "</pre>\n"
      ],
      "text/plain": [
       "Avg pred: -0.1019, Avg target: 9.9738\n"
      ]
     },
     "metadata": {},
     "output_type": "display_data"
    },
    {
     "data": {
      "text/html": [
       "<pre style=\"white-space:pre;overflow-x:auto;line-height:normal;font-family:Menlo,'DejaVu Sans Mono',consolas,'Courier New',monospace\">Cleared replay buffer to refresh training examples.\n",
       "</pre>\n"
      ],
      "text/plain": [
       "Cleared replay buffer to refresh training examples.\n"
      ]
     },
     "metadata": {},
     "output_type": "display_data"
    },
    {
     "data": {
      "text/html": [
       "<pre style=\"white-space:pre;overflow-x:auto;line-height:normal;font-family:Menlo,'DejaVu Sans Mono',consolas,'Courier New',monospace\">Reward variance in batch: 0.0000\n",
       "</pre>\n"
      ],
      "text/plain": [
       "Reward variance in batch: 0.0000\n"
      ]
     },
     "metadata": {},
     "output_type": "display_data"
    },
    {
     "data": {
      "text/html": [
       "<pre style=\"white-space:pre;overflow-x:auto;line-height:normal;font-family:Menlo,'DejaVu Sans Mono',consolas,'Courier New',monospace\">Trained DQN model with loss: 101.4498\n",
       "</pre>\n"
      ],
      "text/plain": [
       "Trained DQN model with loss: 101.4498\n"
      ]
     },
     "metadata": {},
     "output_type": "display_data"
    },
    {
     "data": {
      "text/html": [
       "<pre style=\"white-space:pre;overflow-x:auto;line-height:normal;font-family:Menlo,'DejaVu Sans Mono',consolas,'Courier New',monospace\">Avg pred: -0.1258, Avg target: 9.9417\n",
       "</pre>\n"
      ],
      "text/plain": [
       "Avg pred: -0.1258, Avg target: 9.9417\n"
      ]
     },
     "metadata": {},
     "output_type": "display_data"
    },
    {
     "data": {
      "text/html": [
       "<pre style=\"white-space:pre;overflow-x:auto;line-height:normal;font-family:Menlo,'DejaVu Sans Mono',consolas,'Courier New',monospace\">Cleared replay buffer to refresh training examples.\n",
       "</pre>\n"
      ],
      "text/plain": [
       "Cleared replay buffer to refresh training examples.\n"
      ]
     },
     "metadata": {},
     "output_type": "display_data"
    },
    {
     "data": {
      "text/html": [
       "<pre style=\"white-space:pre;overflow-x:auto;line-height:normal;font-family:Menlo,'DejaVu Sans Mono',consolas,'Courier New',monospace\">Reward variance in batch: 0.0000\n",
       "</pre>\n"
      ],
      "text/plain": [
       "Reward variance in batch: 0.0000\n"
      ]
     },
     "metadata": {},
     "output_type": "display_data"
    },
    {
     "data": {
      "text/html": [
       "<pre style=\"white-space:pre;overflow-x:auto;line-height:normal;font-family:Menlo,'DejaVu Sans Mono',consolas,'Courier New',monospace\">Trained DQN model with loss: 102.1464\n",
       "</pre>\n"
      ],
      "text/plain": [
       "Trained DQN model with loss: 102.1464\n"
      ]
     },
     "metadata": {},
     "output_type": "display_data"
    },
    {
     "data": {
      "text/html": [
       "<pre style=\"white-space:pre;overflow-x:auto;line-height:normal;font-family:Menlo,'DejaVu Sans Mono',consolas,'Courier New',monospace\">Avg pred: -0.1208, Avg target: 9.9845\n",
       "</pre>\n"
      ],
      "text/plain": [
       "Avg pred: -0.1208, Avg target: 9.9845\n"
      ]
     },
     "metadata": {},
     "output_type": "display_data"
    },
    {
     "data": {
      "text/html": [
       "<pre style=\"white-space:pre;overflow-x:auto;line-height:normal;font-family:Menlo,'DejaVu Sans Mono',consolas,'Courier New',monospace\"></pre>\n"
      ],
      "text/plain": []
     },
     "metadata": {},
     "output_type": "display_data"
    },
    {
     "data": {
      "text/html": [
       "<pre style=\"white-space:pre;overflow-x:auto;line-height:normal;font-family:Menlo,'DejaVu Sans Mono',consolas,'Courier New',monospace\">\n",
       "</pre>\n"
      ],
      "text/plain": [
       "\n"
      ]
     },
     "metadata": {},
     "output_type": "display_data"
    },
    {
     "data": {
      "text/html": [
       "<pre style=\"white-space:pre;overflow-x:auto;line-height:normal;font-family:Menlo,'DejaVu Sans Mono',consolas,'Courier New',monospace\"><span style=\"font-style: italic\">                                      Last 10 Games                                      </span>\n",
       "     ╷                       ╷       ╷        ╷          ╷         ╷           ╷         \n",
       " <span style=\"font-weight: bold\">  # </span>│<span style=\"font-weight: bold\"> SEATING               </span>│<span style=\"font-weight: bold\"> TURNS </span>│<span style=\"font-weight: bold\"> RED VP </span>│<span style=\"font-weight: bold\"> WHITE VP </span>│<span style=\"font-weight: bold\"> BLUE VP </span>│<span style=\"font-weight: bold\"> ORANGE VP </span>│<span style=\"font-weight: bold\"> WINNER </span> \n",
       "╶────┼───────────────────────┼───────┼────────┼──────────┼─────────┼───────────┼────────╴\n",
       "   1 │ <span style=\"color: #808000; text-decoration-color: #808000\">ORANGE</span>,<span style=\"color: #c0c0c0; text-decoration-color: #c0c0c0\">WHITE</span>,<span style=\"color: #000080; text-decoration-color: #000080\">BLUE</span>,<span style=\"color: #800000; text-decoration-color: #800000\">RED</span> │   489 │     10 │        4 │       7 │         5 │ <span style=\"color: #800000; text-decoration-color: #800000\">RED</span>     \n",
       "   2 │ <span style=\"color: #808000; text-decoration-color: #808000\">ORANGE</span>,<span style=\"color: #800000; text-decoration-color: #800000\">RED</span>,<span style=\"color: #c0c0c0; text-decoration-color: #c0c0c0\">WHITE</span>,<span style=\"color: #000080; text-decoration-color: #000080\">BLUE</span> │   308 │      4 │       10 │       2 │         3 │ <span style=\"color: #c0c0c0; text-decoration-color: #c0c0c0\">WHITE</span>   \n",
       "   3 │ <span style=\"color: #808000; text-decoration-color: #808000\">ORANGE</span>,<span style=\"color: #c0c0c0; text-decoration-color: #c0c0c0\">WHITE</span>,<span style=\"color: #800000; text-decoration-color: #800000\">RED</span>,<span style=\"color: #000080; text-decoration-color: #000080\">BLUE</span> │   314 │      2 │        7 │       3 │        10 │ <span style=\"color: #808000; text-decoration-color: #808000\">ORANGE</span>  \n",
       "   4 │ <span style=\"color: #000080; text-decoration-color: #000080\">BLUE</span>,<span style=\"color: #800000; text-decoration-color: #800000\">RED</span>,<span style=\"color: #808000; text-decoration-color: #808000\">ORANGE</span>,<span style=\"color: #c0c0c0; text-decoration-color: #c0c0c0\">WHITE</span> │   332 │      3 │        4 │       6 │        10 │ <span style=\"color: #808000; text-decoration-color: #808000\">ORANGE</span>  \n",
       "   5 │ <span style=\"color: #000080; text-decoration-color: #000080\">BLUE</span>,<span style=\"color: #800000; text-decoration-color: #800000\">RED</span>,<span style=\"color: #c0c0c0; text-decoration-color: #c0c0c0\">WHITE</span>,<span style=\"color: #808000; text-decoration-color: #808000\">ORANGE</span> │   333 │      2 │        5 │       8 │        10 │ <span style=\"color: #808000; text-decoration-color: #808000\">ORANGE</span>  \n",
       "   6 │ <span style=\"color: #000080; text-decoration-color: #000080\">BLUE</span>,<span style=\"color: #800000; text-decoration-color: #800000\">RED</span>,<span style=\"color: #808000; text-decoration-color: #808000\">ORANGE</span>,<span style=\"color: #c0c0c0; text-decoration-color: #c0c0c0\">WHITE</span> │   305 │      3 │       10 │       4 │         6 │ <span style=\"color: #c0c0c0; text-decoration-color: #c0c0c0\">WHITE</span>   \n",
       "   7 │ <span style=\"color: #808000; text-decoration-color: #808000\">ORANGE</span>,<span style=\"color: #000080; text-decoration-color: #000080\">BLUE</span>,<span style=\"color: #800000; text-decoration-color: #800000\">RED</span>,<span style=\"color: #c0c0c0; text-decoration-color: #c0c0c0\">WHITE</span> │   519 │      3 │        6 │      10 │         6 │ <span style=\"color: #000080; text-decoration-color: #000080\">BLUE</span>    \n",
       "   8 │ <span style=\"color: #800000; text-decoration-color: #800000\">RED</span>,<span style=\"color: #808000; text-decoration-color: #808000\">ORANGE</span>,<span style=\"color: #c0c0c0; text-decoration-color: #c0c0c0\">WHITE</span>,<span style=\"color: #000080; text-decoration-color: #000080\">BLUE</span> │   365 │      2 │        7 │      10 │         3 │ <span style=\"color: #000080; text-decoration-color: #000080\">BLUE</span>    \n",
       "   9 │ <span style=\"color: #000080; text-decoration-color: #000080\">BLUE</span>,<span style=\"color: #808000; text-decoration-color: #808000\">ORANGE</span>,<span style=\"color: #800000; text-decoration-color: #800000\">RED</span>,<span style=\"color: #c0c0c0; text-decoration-color: #c0c0c0\">WHITE</span> │   821 │      2 │       10 │       9 │         9 │ <span style=\"color: #c0c0c0; text-decoration-color: #c0c0c0\">WHITE</span>   \n",
       "  10 │ <span style=\"color: #800000; text-decoration-color: #800000\">RED</span>,<span style=\"color: #000080; text-decoration-color: #000080\">BLUE</span>,<span style=\"color: #c0c0c0; text-decoration-color: #c0c0c0\">WHITE</span>,<span style=\"color: #808000; text-decoration-color: #808000\">ORANGE</span> │   403 │      2 │        5 │      10 │         7 │ <span style=\"color: #000080; text-decoration-color: #000080\">BLUE</span>    \n",
       "     ╵                       ╵       ╵        ╵          ╵         ╵           ╵         \n",
       "</pre>\n"
      ],
      "text/plain": [
       "\u001b[3m                                      Last 10 Games                                      \u001b[0m\n",
       "     ╷                       ╷       ╷        ╷          ╷         ╷           ╷         \n",
       " \u001b[1m \u001b[0m\u001b[1m #\u001b[0m\u001b[1m \u001b[0m│\u001b[1m \u001b[0m\u001b[1mSEATING              \u001b[0m\u001b[1m \u001b[0m│\u001b[1m \u001b[0m\u001b[1mTURNS\u001b[0m\u001b[1m \u001b[0m│\u001b[1m \u001b[0m\u001b[1mRED VP\u001b[0m\u001b[1m \u001b[0m│\u001b[1m \u001b[0m\u001b[1mWHITE VP\u001b[0m\u001b[1m \u001b[0m│\u001b[1m \u001b[0m\u001b[1mBLUE VP\u001b[0m\u001b[1m \u001b[0m│\u001b[1m \u001b[0m\u001b[1mORANGE VP\u001b[0m\u001b[1m \u001b[0m│\u001b[1m \u001b[0m\u001b[1mWINNER\u001b[0m\u001b[1m \u001b[0m \n",
       "╶────┼───────────────────────┼───────┼────────┼──────────┼─────────┼───────────┼────────╴\n",
       "   1 │ \u001b[33mORANGE\u001b[0m,\u001b[37mWHITE\u001b[0m,\u001b[34mBLUE\u001b[0m,\u001b[31mRED\u001b[0m │   489 │     10 │        4 │       7 │         5 │ \u001b[31mRED\u001b[0m     \n",
       "   2 │ \u001b[33mORANGE\u001b[0m,\u001b[31mRED\u001b[0m,\u001b[37mWHITE\u001b[0m,\u001b[34mBLUE\u001b[0m │   308 │      4 │       10 │       2 │         3 │ \u001b[37mWHITE\u001b[0m   \n",
       "   3 │ \u001b[33mORANGE\u001b[0m,\u001b[37mWHITE\u001b[0m,\u001b[31mRED\u001b[0m,\u001b[34mBLUE\u001b[0m │   314 │      2 │        7 │       3 │        10 │ \u001b[33mORANGE\u001b[0m  \n",
       "   4 │ \u001b[34mBLUE\u001b[0m,\u001b[31mRED\u001b[0m,\u001b[33mORANGE\u001b[0m,\u001b[37mWHITE\u001b[0m │   332 │      3 │        4 │       6 │        10 │ \u001b[33mORANGE\u001b[0m  \n",
       "   5 │ \u001b[34mBLUE\u001b[0m,\u001b[31mRED\u001b[0m,\u001b[37mWHITE\u001b[0m,\u001b[33mORANGE\u001b[0m │   333 │      2 │        5 │       8 │        10 │ \u001b[33mORANGE\u001b[0m  \n",
       "   6 │ \u001b[34mBLUE\u001b[0m,\u001b[31mRED\u001b[0m,\u001b[33mORANGE\u001b[0m,\u001b[37mWHITE\u001b[0m │   305 │      3 │       10 │       4 │         6 │ \u001b[37mWHITE\u001b[0m   \n",
       "   7 │ \u001b[33mORANGE\u001b[0m,\u001b[34mBLUE\u001b[0m,\u001b[31mRED\u001b[0m,\u001b[37mWHITE\u001b[0m │   519 │      3 │        6 │      10 │         6 │ \u001b[34mBLUE\u001b[0m    \n",
       "   8 │ \u001b[31mRED\u001b[0m,\u001b[33mORANGE\u001b[0m,\u001b[37mWHITE\u001b[0m,\u001b[34mBLUE\u001b[0m │   365 │      2 │        7 │      10 │         3 │ \u001b[34mBLUE\u001b[0m    \n",
       "   9 │ \u001b[34mBLUE\u001b[0m,\u001b[33mORANGE\u001b[0m,\u001b[31mRED\u001b[0m,\u001b[37mWHITE\u001b[0m │   821 │      2 │       10 │       9 │         9 │ \u001b[37mWHITE\u001b[0m   \n",
       "  10 │ \u001b[31mRED\u001b[0m,\u001b[34mBLUE\u001b[0m,\u001b[37mWHITE\u001b[0m,\u001b[33mORANGE\u001b[0m │   403 │      2 │        5 │      10 │         7 │ \u001b[34mBLUE\u001b[0m    \n",
       "     ╵                       ╵       ╵        ╵          ╵         ╵           ╵         \n"
      ]
     },
     "metadata": {},
     "output_type": "display_data"
    },
    {
     "data": {
      "text/html": [
       "<pre style=\"white-space:pre;overflow-x:auto;line-height:normal;font-family:Menlo,'DejaVu Sans Mono',consolas,'Courier New',monospace\"><span style=\"font-style: italic\">                                           Player Summary                                            </span>\n",
       "                      ╷      ╷        ╷             ╷            ╷          ╷          ╷             \n",
       " <span style=\"font-weight: bold\">                     </span>│<span style=\"font-weight: bold\"> WINS </span>│<span style=\"font-weight: bold\"> AVG VP </span>│<span style=\"font-weight: bold\"> AVG SETTLES </span>│<span style=\"font-weight: bold\"> AVG CITIES </span>│<span style=\"font-weight: bold\"> AVG ROAD </span>│<span style=\"font-weight: bold\"> AVG ARMY </span>│<span style=\"font-weight: bold\"> AVG DEV VP </span> \n",
       "╶─────────────────────┼──────┼────────┼─────────────┼────────────┼──────────┼──────────┼────────────╴\n",
       "  <span style=\"color: #800000; text-decoration-color: #800000\">AB_DQNPlayer_1:RED</span>  │    1 │   3.30 │        1.80 │       0.50 │     0.00 │     0.10 │       0.30  \n",
       "  <span style=\"color: #c0c0c0; text-decoration-color: #c0c0c0\">RandomPlayer:WHITE</span>  │    3 │   6.80 │        2.70 │       0.60 │     0.40 │     0.40 │       1.30  \n",
       "  <span style=\"color: #000080; text-decoration-color: #000080\">RandomPlayer:BLUE</span>   │    3 │   6.90 │        2.40 │       0.70 │     0.20 │     0.50 │       1.70  \n",
       "  <span style=\"color: #808000; text-decoration-color: #808000\">RandomPlayer:ORANGE</span> │    3 │   6.90 │        3.20 │       0.70 │     0.40 │     0.00 │       1.50  \n",
       "                      ╵      ╵        ╵             ╵            ╵          ╵          ╵             \n",
       "</pre>\n"
      ],
      "text/plain": [
       "\u001b[3m                                           Player Summary                                            \u001b[0m\n",
       "                      ╷      ╷        ╷             ╷            ╷          ╷          ╷             \n",
       " \u001b[1m \u001b[0m\u001b[1m                   \u001b[0m\u001b[1m \u001b[0m│\u001b[1m \u001b[0m\u001b[1mWINS\u001b[0m\u001b[1m \u001b[0m│\u001b[1m \u001b[0m\u001b[1mAVG VP\u001b[0m\u001b[1m \u001b[0m│\u001b[1m \u001b[0m\u001b[1mAVG SETTLES\u001b[0m\u001b[1m \u001b[0m│\u001b[1m \u001b[0m\u001b[1mAVG CITIES\u001b[0m\u001b[1m \u001b[0m│\u001b[1m \u001b[0m\u001b[1mAVG ROAD\u001b[0m\u001b[1m \u001b[0m│\u001b[1m \u001b[0m\u001b[1mAVG ARMY\u001b[0m\u001b[1m \u001b[0m│\u001b[1m \u001b[0m\u001b[1mAVG DEV VP\u001b[0m\u001b[1m \u001b[0m \n",
       "╶─────────────────────┼──────┼────────┼─────────────┼────────────┼──────────┼──────────┼────────────╴\n",
       "  \u001b[31mAB_DQNPlayer_1:RED\u001b[0m  │    1 │   3.30 │        1.80 │       0.50 │     0.00 │     0.10 │       0.30  \n",
       "  \u001b[37mRandomPlayer:WHITE\u001b[0m  │    3 │   6.80 │        2.70 │       0.60 │     0.40 │     0.40 │       1.30  \n",
       "  \u001b[34mRandomPlayer:BLUE\u001b[0m   │    3 │   6.90 │        2.40 │       0.70 │     0.20 │     0.50 │       1.70  \n",
       "  \u001b[33mRandomPlayer:ORANGE\u001b[0m │    3 │   6.90 │        3.20 │       0.70 │     0.40 │     0.00 │       1.50  \n",
       "                      ╵      ╵        ╵             ╵            ╵          ╵          ╵             \n"
      ]
     },
     "metadata": {},
     "output_type": "display_data"
    },
    {
     "data": {
      "text/html": [
       "<pre style=\"white-space:pre;overflow-x:auto;line-height:normal;font-family:Menlo,'DejaVu Sans Mono',consolas,'Courier New',monospace\"><span style=\"font-style: italic\">              Game Summary              </span>\n",
       "            ╷           ╷               \n",
       " <span style=\"font-weight: bold\"> AVG TICKS </span>│<span style=\"font-weight: bold\"> AVG TURNS </span>│<span style=\"font-weight: bold\"> AVG DURATION </span> \n",
       "╶───────────┼───────────┼──────────────╴\n",
       "    1173.20 │    418.90 │  15.727 secs  \n",
       "            ╵           ╵               \n",
       "</pre>\n"
      ],
      "text/plain": [
       "\u001b[3m              Game Summary              \u001b[0m\n",
       "            ╷           ╷               \n",
       " \u001b[1m \u001b[0m\u001b[1mAVG TICKS\u001b[0m\u001b[1m \u001b[0m│\u001b[1m \u001b[0m\u001b[1mAVG TURNS\u001b[0m\u001b[1m \u001b[0m│\u001b[1m \u001b[0m\u001b[1mAVG DURATION\u001b[0m\u001b[1m \u001b[0m \n",
       "╶───────────┼───────────┼──────────────╴\n",
       "    1173.20 │    418.90 │  15.727 secs  \n",
       "            ╵           ╵               \n"
      ]
     },
     "metadata": {},
     "output_type": "display_data"
    },
    {
     "name": "stdout",
     "output_type": "stream",
     "text": [
      "Loaded replay buffer with 261 transitions\n",
      "atch 5/50: Playing 10 games\n"
     ]
    },
    {
     "data": {
      "text/html": [
       "<pre style=\"white-space:pre;overflow-x:auto;line-height:normal;font-family:Menlo,'DejaVu Sans Mono',consolas,'Courier New',monospace\">Cleared replay buffer to refresh training examples.\n",
       "</pre>\n"
      ],
      "text/plain": [
       "Cleared replay buffer to refresh training examples.\n"
      ]
     },
     "metadata": {},
     "output_type": "display_data"
    },
    {
     "data": {
      "text/html": [
       "<pre style=\"white-space:pre;overflow-x:auto;line-height:normal;font-family:Menlo,'DejaVu Sans Mono',consolas,'Courier New',monospace\">Reward variance in batch: 0.0000\n",
       "</pre>\n"
      ],
      "text/plain": [
       "Reward variance in batch: 0.0000\n"
      ]
     },
     "metadata": {},
     "output_type": "display_data"
    },
    {
     "data": {
      "text/html": [
       "<pre style=\"white-space:pre;overflow-x:auto;line-height:normal;font-family:Menlo,'DejaVu Sans Mono',consolas,'Courier New',monospace\">Trained DQN model with loss: 101.0030\n",
       "</pre>\n"
      ],
      "text/plain": [
       "Trained DQN model with loss: 101.0030\n"
      ]
     },
     "metadata": {},
     "output_type": "display_data"
    },
    {
     "data": {
      "text/html": [
       "<pre style=\"white-space:pre;overflow-x:auto;line-height:normal;font-family:Menlo,'DejaVu Sans Mono',consolas,'Courier New',monospace\">Avg pred: -0.0832, Avg target: 9.9662\n",
       "</pre>\n"
      ],
      "text/plain": [
       "Avg pred: -0.0832, Avg target: 9.9662\n"
      ]
     },
     "metadata": {},
     "output_type": "display_data"
    },
    {
     "data": {
      "text/html": [
       "<pre style=\"white-space:pre;overflow-x:auto;line-height:normal;font-family:Menlo,'DejaVu Sans Mono',consolas,'Courier New',monospace\">Cleared replay buffer to refresh training examples.\n",
       "</pre>\n"
      ],
      "text/plain": [
       "Cleared replay buffer to refresh training examples.\n"
      ]
     },
     "metadata": {},
     "output_type": "display_data"
    },
    {
     "data": {
      "text/html": [
       "<pre style=\"white-space:pre;overflow-x:auto;line-height:normal;font-family:Menlo,'DejaVu Sans Mono',consolas,'Courier New',monospace\">Reward variance in batch: 0.0000\n",
       "</pre>\n"
      ],
      "text/plain": [
       "Reward variance in batch: 0.0000\n"
      ]
     },
     "metadata": {},
     "output_type": "display_data"
    },
    {
     "data": {
      "text/html": [
       "<pre style=\"white-space:pre;overflow-x:auto;line-height:normal;font-family:Menlo,'DejaVu Sans Mono',consolas,'Courier New',monospace\">Trained DQN model with loss: 101.9897\n",
       "</pre>\n"
      ],
      "text/plain": [
       "Trained DQN model with loss: 101.9897\n"
      ]
     },
     "metadata": {},
     "output_type": "display_data"
    },
    {
     "data": {
      "text/html": [
       "<pre style=\"white-space:pre;overflow-x:auto;line-height:normal;font-family:Menlo,'DejaVu Sans Mono',consolas,'Courier New',monospace\">Avg pred: -0.1192, Avg target: 9.9774\n",
       "</pre>\n"
      ],
      "text/plain": [
       "Avg pred: -0.1192, Avg target: 9.9774\n"
      ]
     },
     "metadata": {},
     "output_type": "display_data"
    },
    {
     "data": {
      "text/html": [
       "<pre style=\"white-space:pre;overflow-x:auto;line-height:normal;font-family:Menlo,'DejaVu Sans Mono',consolas,'Courier New',monospace\"></pre>\n"
      ],
      "text/plain": []
     },
     "metadata": {},
     "output_type": "display_data"
    },
    {
     "data": {
      "text/html": [
       "<pre style=\"white-space:pre;overflow-x:auto;line-height:normal;font-family:Menlo,'DejaVu Sans Mono',consolas,'Courier New',monospace\">\n",
       "</pre>\n"
      ],
      "text/plain": [
       "\n"
      ]
     },
     "metadata": {},
     "output_type": "display_data"
    },
    {
     "data": {
      "text/html": [
       "<pre style=\"white-space:pre;overflow-x:auto;line-height:normal;font-family:Menlo,'DejaVu Sans Mono',consolas,'Courier New',monospace\"><span style=\"font-style: italic\">                                      Last 10 Games                                      </span>\n",
       "     ╷                       ╷       ╷        ╷           ╷          ╷         ╷         \n",
       " <span style=\"font-weight: bold\">  # </span>│<span style=\"font-weight: bold\"> SEATING               </span>│<span style=\"font-weight: bold\"> TURNS </span>│<span style=\"font-weight: bold\"> RED VP </span>│<span style=\"font-weight: bold\"> ORANGE VP </span>│<span style=\"font-weight: bold\"> WHITE VP </span>│<span style=\"font-weight: bold\"> BLUE VP </span>│<span style=\"font-weight: bold\"> WINNER </span> \n",
       "╶────┼───────────────────────┼───────┼────────┼───────────┼──────────┼─────────┼────────╴\n",
       "   1 │ <span style=\"color: #000080; text-decoration-color: #000080\">BLUE</span>,<span style=\"color: #808000; text-decoration-color: #808000\">ORANGE</span>,<span style=\"color: #c0c0c0; text-decoration-color: #c0c0c0\">WHITE</span>,<span style=\"color: #800000; text-decoration-color: #800000\">RED</span> │   220 │      5 │         2 │       10 │       3 │ <span style=\"color: #c0c0c0; text-decoration-color: #c0c0c0\">WHITE</span>   \n",
       "   2 │ <span style=\"color: #808000; text-decoration-color: #808000\">ORANGE</span>,<span style=\"color: #800000; text-decoration-color: #800000\">RED</span>,<span style=\"color: #000080; text-decoration-color: #000080\">BLUE</span>,<span style=\"color: #c0c0c0; text-decoration-color: #c0c0c0\">WHITE</span> │   338 │      2 │        10 │        4 │       7 │ <span style=\"color: #808000; text-decoration-color: #808000\">ORANGE</span>  \n",
       "   3 │ <span style=\"color: #808000; text-decoration-color: #808000\">ORANGE</span>,<span style=\"color: #c0c0c0; text-decoration-color: #c0c0c0\">WHITE</span>,<span style=\"color: #000080; text-decoration-color: #000080\">BLUE</span>,<span style=\"color: #800000; text-decoration-color: #800000\">RED</span> │   276 │      2 │         4 │        6 │      10 │ <span style=\"color: #000080; text-decoration-color: #000080\">BLUE</span>    \n",
       "   4 │ <span style=\"color: #808000; text-decoration-color: #808000\">ORANGE</span>,<span style=\"color: #c0c0c0; text-decoration-color: #c0c0c0\">WHITE</span>,<span style=\"color: #000080; text-decoration-color: #000080\">BLUE</span>,<span style=\"color: #800000; text-decoration-color: #800000\">RED</span> │   366 │      2 │        10 │        7 │       6 │ <span style=\"color: #808000; text-decoration-color: #808000\">ORANGE</span>  \n",
       "   5 │ <span style=\"color: #800000; text-decoration-color: #800000\">RED</span>,<span style=\"color: #c0c0c0; text-decoration-color: #c0c0c0\">WHITE</span>,<span style=\"color: #000080; text-decoration-color: #000080\">BLUE</span>,<span style=\"color: #808000; text-decoration-color: #808000\">ORANGE</span> │   221 │      2 │        10 │        3 │       5 │ <span style=\"color: #808000; text-decoration-color: #808000\">ORANGE</span>  \n",
       "   6 │ <span style=\"color: #000080; text-decoration-color: #000080\">BLUE</span>,<span style=\"color: #808000; text-decoration-color: #808000\">ORANGE</span>,<span style=\"color: #800000; text-decoration-color: #800000\">RED</span>,<span style=\"color: #c0c0c0; text-decoration-color: #c0c0c0\">WHITE</span> │   483 │      2 │        10 │        6 │       2 │ <span style=\"color: #808000; text-decoration-color: #808000\">ORANGE</span>  \n",
       "   7 │ <span style=\"color: #000080; text-decoration-color: #000080\">BLUE</span>,<span style=\"color: #808000; text-decoration-color: #808000\">ORANGE</span>,<span style=\"color: #800000; text-decoration-color: #800000\">RED</span>,<span style=\"color: #c0c0c0; text-decoration-color: #c0c0c0\">WHITE</span> │   259 │      2 │        10 │        4 │       7 │ <span style=\"color: #808000; text-decoration-color: #808000\">ORANGE</span>  \n",
       "   8 │ <span style=\"color: #800000; text-decoration-color: #800000\">RED</span>,<span style=\"color: #000080; text-decoration-color: #000080\">BLUE</span>,<span style=\"color: #c0c0c0; text-decoration-color: #c0c0c0\">WHITE</span>,<span style=\"color: #808000; text-decoration-color: #808000\">ORANGE</span> │   209 │      2 │        10 │        3 │       6 │ <span style=\"color: #808000; text-decoration-color: #808000\">ORANGE</span>  \n",
       "   9 │ <span style=\"color: #c0c0c0; text-decoration-color: #c0c0c0\">WHITE</span>,<span style=\"color: #000080; text-decoration-color: #000080\">BLUE</span>,<span style=\"color: #808000; text-decoration-color: #808000\">ORANGE</span>,<span style=\"color: #800000; text-decoration-color: #800000\">RED</span> │   334 │      2 │         5 │       10 │       9 │ <span style=\"color: #c0c0c0; text-decoration-color: #c0c0c0\">WHITE</span>   \n",
       "  10 │ <span style=\"color: #808000; text-decoration-color: #808000\">ORANGE</span>,<span style=\"color: #c0c0c0; text-decoration-color: #c0c0c0\">WHITE</span>,<span style=\"color: #800000; text-decoration-color: #800000\">RED</span>,<span style=\"color: #000080; text-decoration-color: #000080\">BLUE</span> │   309 │      3 │         3 │        3 │      10 │ <span style=\"color: #000080; text-decoration-color: #000080\">BLUE</span>    \n",
       "     ╵                       ╵       ╵        ╵           ╵          ╵         ╵         \n",
       "</pre>\n"
      ],
      "text/plain": [
       "\u001b[3m                                      Last 10 Games                                      \u001b[0m\n",
       "     ╷                       ╷       ╷        ╷           ╷          ╷         ╷         \n",
       " \u001b[1m \u001b[0m\u001b[1m #\u001b[0m\u001b[1m \u001b[0m│\u001b[1m \u001b[0m\u001b[1mSEATING              \u001b[0m\u001b[1m \u001b[0m│\u001b[1m \u001b[0m\u001b[1mTURNS\u001b[0m\u001b[1m \u001b[0m│\u001b[1m \u001b[0m\u001b[1mRED VP\u001b[0m\u001b[1m \u001b[0m│\u001b[1m \u001b[0m\u001b[1mORANGE VP\u001b[0m\u001b[1m \u001b[0m│\u001b[1m \u001b[0m\u001b[1mWHITE VP\u001b[0m\u001b[1m \u001b[0m│\u001b[1m \u001b[0m\u001b[1mBLUE VP\u001b[0m\u001b[1m \u001b[0m│\u001b[1m \u001b[0m\u001b[1mWINNER\u001b[0m\u001b[1m \u001b[0m \n",
       "╶────┼───────────────────────┼───────┼────────┼───────────┼──────────┼─────────┼────────╴\n",
       "   1 │ \u001b[34mBLUE\u001b[0m,\u001b[33mORANGE\u001b[0m,\u001b[37mWHITE\u001b[0m,\u001b[31mRED\u001b[0m │   220 │      5 │         2 │       10 │       3 │ \u001b[37mWHITE\u001b[0m   \n",
       "   2 │ \u001b[33mORANGE\u001b[0m,\u001b[31mRED\u001b[0m,\u001b[34mBLUE\u001b[0m,\u001b[37mWHITE\u001b[0m │   338 │      2 │        10 │        4 │       7 │ \u001b[33mORANGE\u001b[0m  \n",
       "   3 │ \u001b[33mORANGE\u001b[0m,\u001b[37mWHITE\u001b[0m,\u001b[34mBLUE\u001b[0m,\u001b[31mRED\u001b[0m │   276 │      2 │         4 │        6 │      10 │ \u001b[34mBLUE\u001b[0m    \n",
       "   4 │ \u001b[33mORANGE\u001b[0m,\u001b[37mWHITE\u001b[0m,\u001b[34mBLUE\u001b[0m,\u001b[31mRED\u001b[0m │   366 │      2 │        10 │        7 │       6 │ \u001b[33mORANGE\u001b[0m  \n",
       "   5 │ \u001b[31mRED\u001b[0m,\u001b[37mWHITE\u001b[0m,\u001b[34mBLUE\u001b[0m,\u001b[33mORANGE\u001b[0m │   221 │      2 │        10 │        3 │       5 │ \u001b[33mORANGE\u001b[0m  \n",
       "   6 │ \u001b[34mBLUE\u001b[0m,\u001b[33mORANGE\u001b[0m,\u001b[31mRED\u001b[0m,\u001b[37mWHITE\u001b[0m │   483 │      2 │        10 │        6 │       2 │ \u001b[33mORANGE\u001b[0m  \n",
       "   7 │ \u001b[34mBLUE\u001b[0m,\u001b[33mORANGE\u001b[0m,\u001b[31mRED\u001b[0m,\u001b[37mWHITE\u001b[0m │   259 │      2 │        10 │        4 │       7 │ \u001b[33mORANGE\u001b[0m  \n",
       "   8 │ \u001b[31mRED\u001b[0m,\u001b[34mBLUE\u001b[0m,\u001b[37mWHITE\u001b[0m,\u001b[33mORANGE\u001b[0m │   209 │      2 │        10 │        3 │       6 │ \u001b[33mORANGE\u001b[0m  \n",
       "   9 │ \u001b[37mWHITE\u001b[0m,\u001b[34mBLUE\u001b[0m,\u001b[33mORANGE\u001b[0m,\u001b[31mRED\u001b[0m │   334 │      2 │         5 │       10 │       9 │ \u001b[37mWHITE\u001b[0m   \n",
       "  10 │ \u001b[33mORANGE\u001b[0m,\u001b[37mWHITE\u001b[0m,\u001b[31mRED\u001b[0m,\u001b[34mBLUE\u001b[0m │   309 │      3 │         3 │        3 │      10 │ \u001b[34mBLUE\u001b[0m    \n",
       "     ╵                       ╵       ╵        ╵           ╵          ╵         ╵         \n"
      ]
     },
     "metadata": {},
     "output_type": "display_data"
    },
    {
     "data": {
      "text/html": [
       "<pre style=\"white-space:pre;overflow-x:auto;line-height:normal;font-family:Menlo,'DejaVu Sans Mono',consolas,'Courier New',monospace\"><span style=\"font-style: italic\">                                           Player Summary                                            </span>\n",
       "                      ╷      ╷        ╷             ╷            ╷          ╷          ╷             \n",
       " <span style=\"font-weight: bold\">                     </span>│<span style=\"font-weight: bold\"> WINS </span>│<span style=\"font-weight: bold\"> AVG VP </span>│<span style=\"font-weight: bold\"> AVG SETTLES </span>│<span style=\"font-weight: bold\"> AVG CITIES </span>│<span style=\"font-weight: bold\"> AVG ROAD </span>│<span style=\"font-weight: bold\"> AVG ARMY </span>│<span style=\"font-weight: bold\"> AVG DEV VP </span> \n",
       "╶─────────────────────┼──────┼────────┼─────────────┼────────────┼──────────┼──────────┼────────────╴\n",
       "  <span style=\"color: #800000; text-decoration-color: #800000\">AB_DQNPlayer_1:RED</span>  │    0 │   2.40 │        2.00 │       0.00 │     0.00 │     0.10 │       0.20  \n",
       "  <span style=\"color: #808000; text-decoration-color: #808000\">RandomPlayer:ORANGE</span> │    6 │   7.40 │        3.10 │       0.70 │     0.50 │     0.20 │       1.50  \n",
       "  <span style=\"color: #c0c0c0; text-decoration-color: #c0c0c0\">RandomPlayer:WHITE</span>  │    2 │   5.60 │        2.60 │       0.70 │     0.30 │     0.00 │       1.00  \n",
       "  <span style=\"color: #000080; text-decoration-color: #000080\">RandomPlayer:BLUE</span>   │    2 │   6.50 │        1.50 │       0.90 │     0.20 │     0.70 │       1.40  \n",
       "                      ╵      ╵        ╵             ╵            ╵          ╵          ╵             \n",
       "</pre>\n"
      ],
      "text/plain": [
       "\u001b[3m                                           Player Summary                                            \u001b[0m\n",
       "                      ╷      ╷        ╷             ╷            ╷          ╷          ╷             \n",
       " \u001b[1m \u001b[0m\u001b[1m                   \u001b[0m\u001b[1m \u001b[0m│\u001b[1m \u001b[0m\u001b[1mWINS\u001b[0m\u001b[1m \u001b[0m│\u001b[1m \u001b[0m\u001b[1mAVG VP\u001b[0m\u001b[1m \u001b[0m│\u001b[1m \u001b[0m\u001b[1mAVG SETTLES\u001b[0m\u001b[1m \u001b[0m│\u001b[1m \u001b[0m\u001b[1mAVG CITIES\u001b[0m\u001b[1m \u001b[0m│\u001b[1m \u001b[0m\u001b[1mAVG ROAD\u001b[0m\u001b[1m \u001b[0m│\u001b[1m \u001b[0m\u001b[1mAVG ARMY\u001b[0m\u001b[1m \u001b[0m│\u001b[1m \u001b[0m\u001b[1mAVG DEV VP\u001b[0m\u001b[1m \u001b[0m \n",
       "╶─────────────────────┼──────┼────────┼─────────────┼────────────┼──────────┼──────────┼────────────╴\n",
       "  \u001b[31mAB_DQNPlayer_1:RED\u001b[0m  │    0 │   2.40 │        2.00 │       0.00 │     0.00 │     0.10 │       0.20  \n",
       "  \u001b[33mRandomPlayer:ORANGE\u001b[0m │    6 │   7.40 │        3.10 │       0.70 │     0.50 │     0.20 │       1.50  \n",
       "  \u001b[37mRandomPlayer:WHITE\u001b[0m  │    2 │   5.60 │        2.60 │       0.70 │     0.30 │     0.00 │       1.00  \n",
       "  \u001b[34mRandomPlayer:BLUE\u001b[0m   │    2 │   6.50 │        1.50 │       0.90 │     0.20 │     0.70 │       1.40  \n",
       "                      ╵      ╵        ╵             ╵            ╵          ╵          ╵             \n"
      ]
     },
     "metadata": {},
     "output_type": "display_data"
    },
    {
     "data": {
      "text/html": [
       "<pre style=\"white-space:pre;overflow-x:auto;line-height:normal;font-family:Menlo,'DejaVu Sans Mono',consolas,'Courier New',monospace\"><span style=\"font-style: italic\">              Game Summary              </span>\n",
       "            ╷           ╷               \n",
       " <span style=\"font-weight: bold\"> AVG TICKS </span>│<span style=\"font-weight: bold\"> AVG TURNS </span>│<span style=\"font-weight: bold\"> AVG DURATION </span> \n",
       "╶───────────┼───────────┼──────────────╴\n",
       "     872.40 │    301.50 │  10.608 secs  \n",
       "            ╵           ╵               \n",
       "</pre>\n"
      ],
      "text/plain": [
       "\u001b[3m              Game Summary              \u001b[0m\n",
       "            ╷           ╷               \n",
       " \u001b[1m \u001b[0m\u001b[1mAVG TICKS\u001b[0m\u001b[1m \u001b[0m│\u001b[1m \u001b[0m\u001b[1mAVG TURNS\u001b[0m\u001b[1m \u001b[0m│\u001b[1m \u001b[0m\u001b[1mAVG DURATION\u001b[0m\u001b[1m \u001b[0m \n",
       "╶───────────┼───────────┼──────────────╴\n",
       "     872.40 │    301.50 │  10.608 secs  \n",
       "            ╵           ╵               \n"
      ]
     },
     "metadata": {},
     "output_type": "display_data"
    },
    {
     "name": "stdout",
     "output_type": "stream",
     "text": [
      "Loaded replay buffer with 2140 transitions\n",
      "atch 6/50: Playing 10 games\n"
     ]
    },
    {
     "data": {
      "text/html": [
       "<pre style=\"white-space:pre;overflow-x:auto;line-height:normal;font-family:Menlo,'DejaVu Sans Mono',consolas,'Courier New',monospace\">Cleared replay buffer to refresh training examples.\n",
       "</pre>\n"
      ],
      "text/plain": [
       "Cleared replay buffer to refresh training examples.\n"
      ]
     },
     "metadata": {},
     "output_type": "display_data"
    },
    {
     "data": {
      "text/html": [
       "<pre style=\"white-space:pre;overflow-x:auto;line-height:normal;font-family:Menlo,'DejaVu Sans Mono',consolas,'Courier New',monospace\">Reward variance in batch: 0.0000\n",
       "</pre>\n"
      ],
      "text/plain": [
       "Reward variance in batch: 0.0000\n"
      ]
     },
     "metadata": {},
     "output_type": "display_data"
    },
    {
     "data": {
      "text/html": [
       "<pre style=\"white-space:pre;overflow-x:auto;line-height:normal;font-family:Menlo,'DejaVu Sans Mono',consolas,'Courier New',monospace\">Trained DQN model with loss: 101.7797\n",
       "</pre>\n"
      ],
      "text/plain": [
       "Trained DQN model with loss: 101.7797\n"
      ]
     },
     "metadata": {},
     "output_type": "display_data"
    },
    {
     "data": {
      "text/html": [
       "<pre style=\"white-space:pre;overflow-x:auto;line-height:normal;font-family:Menlo,'DejaVu Sans Mono',consolas,'Courier New',monospace\">Avg pred: -0.1238, Avg target: 9.9623\n",
       "</pre>\n"
      ],
      "text/plain": [
       "Avg pred: -0.1238, Avg target: 9.9623\n"
      ]
     },
     "metadata": {},
     "output_type": "display_data"
    },
    {
     "data": {
      "text/html": [
       "<pre style=\"white-space:pre;overflow-x:auto;line-height:normal;font-family:Menlo,'DejaVu Sans Mono',consolas,'Courier New',monospace\">Cleared replay buffer to refresh training examples.\n",
       "</pre>\n"
      ],
      "text/plain": [
       "Cleared replay buffer to refresh training examples.\n"
      ]
     },
     "metadata": {},
     "output_type": "display_data"
    },
    {
     "data": {
      "text/html": [
       "<pre style=\"white-space:pre;overflow-x:auto;line-height:normal;font-family:Menlo,'DejaVu Sans Mono',consolas,'Courier New',monospace\">Reward variance in batch: 0.0000\n",
       "</pre>\n"
      ],
      "text/plain": [
       "Reward variance in batch: 0.0000\n"
      ]
     },
     "metadata": {},
     "output_type": "display_data"
    },
    {
     "data": {
      "text/html": [
       "<pre style=\"white-space:pre;overflow-x:auto;line-height:normal;font-family:Menlo,'DejaVu Sans Mono',consolas,'Courier New',monospace\">Trained DQN model with loss: 102.8191\n",
       "</pre>\n"
      ],
      "text/plain": [
       "Trained DQN model with loss: 102.8191\n"
      ]
     },
     "metadata": {},
     "output_type": "display_data"
    },
    {
     "data": {
      "text/html": [
       "<pre style=\"white-space:pre;overflow-x:auto;line-height:normal;font-family:Menlo,'DejaVu Sans Mono',consolas,'Courier New',monospace\">Avg pred: -0.1770, Avg target: 9.9599\n",
       "</pre>\n"
      ],
      "text/plain": [
       "Avg pred: -0.1770, Avg target: 9.9599\n"
      ]
     },
     "metadata": {},
     "output_type": "display_data"
    },
    {
     "data": {
      "text/html": [
       "<pre style=\"white-space:pre;overflow-x:auto;line-height:normal;font-family:Menlo,'DejaVu Sans Mono',consolas,'Courier New',monospace\">Cleared replay buffer to refresh training examples.\n",
       "</pre>\n"
      ],
      "text/plain": [
       "Cleared replay buffer to refresh training examples.\n"
      ]
     },
     "metadata": {},
     "output_type": "display_data"
    },
    {
     "data": {
      "text/html": [
       "<pre style=\"white-space:pre;overflow-x:auto;line-height:normal;font-family:Menlo,'DejaVu Sans Mono',consolas,'Courier New',monospace\">Reward variance in batch: 0.0000\n",
       "</pre>\n"
      ],
      "text/plain": [
       "Reward variance in batch: 0.0000\n"
      ]
     },
     "metadata": {},
     "output_type": "display_data"
    },
    {
     "data": {
      "text/html": [
       "<pre style=\"white-space:pre;overflow-x:auto;line-height:normal;font-family:Menlo,'DejaVu Sans Mono',consolas,'Courier New',monospace\">Trained DQN model with loss: 101.5372\n",
       "</pre>\n"
      ],
      "text/plain": [
       "Trained DQN model with loss: 101.5372\n"
      ]
     },
     "metadata": {},
     "output_type": "display_data"
    },
    {
     "data": {
      "text/html": [
       "<pre style=\"white-space:pre;overflow-x:auto;line-height:normal;font-family:Menlo,'DejaVu Sans Mono',consolas,'Courier New',monospace\">Avg pred: -0.1203, Avg target: 9.9536\n",
       "</pre>\n"
      ],
      "text/plain": [
       "Avg pred: -0.1203, Avg target: 9.9536\n"
      ]
     },
     "metadata": {},
     "output_type": "display_data"
    },
    {
     "data": {
      "text/html": [
       "<pre style=\"white-space:pre;overflow-x:auto;line-height:normal;font-family:Menlo,'DejaVu Sans Mono',consolas,'Courier New',monospace\"></pre>\n"
      ],
      "text/plain": []
     },
     "metadata": {},
     "output_type": "display_data"
    },
    {
     "data": {
      "text/html": [
       "<pre style=\"white-space:pre;overflow-x:auto;line-height:normal;font-family:Menlo,'DejaVu Sans Mono',consolas,'Courier New',monospace\">\n",
       "</pre>\n"
      ],
      "text/plain": [
       "\n"
      ]
     },
     "metadata": {},
     "output_type": "display_data"
    },
    {
     "data": {
      "text/html": [
       "<pre style=\"white-space:pre;overflow-x:auto;line-height:normal;font-family:Menlo,'DejaVu Sans Mono',consolas,'Courier New',monospace\"><span style=\"font-style: italic\">                                      Last 10 Games                                      </span>\n",
       "     ╷                       ╷       ╷          ╷           ╷         ╷        ╷         \n",
       " <span style=\"font-weight: bold\">  # </span>│<span style=\"font-weight: bold\"> SEATING               </span>│<span style=\"font-weight: bold\"> TURNS </span>│<span style=\"font-weight: bold\"> WHITE VP </span>│<span style=\"font-weight: bold\"> ORANGE VP </span>│<span style=\"font-weight: bold\"> BLUE VP </span>│<span style=\"font-weight: bold\"> RED VP </span>│<span style=\"font-weight: bold\"> WINNER </span> \n",
       "╶────┼───────────────────────┼───────┼──────────┼───────────┼─────────┼────────┼────────╴\n",
       "   1 │ <span style=\"color: #808000; text-decoration-color: #808000\">ORANGE</span>,<span style=\"color: #800000; text-decoration-color: #800000\">RED</span>,<span style=\"color: #c0c0c0; text-decoration-color: #c0c0c0\">WHITE</span>,<span style=\"color: #000080; text-decoration-color: #000080\">BLUE</span> │   362 │        6 │        10 │       6 │      6 │ <span style=\"color: #808000; text-decoration-color: #808000\">ORANGE</span>  \n",
       "   2 │ <span style=\"color: #c0c0c0; text-decoration-color: #c0c0c0\">WHITE</span>,<span style=\"color: #000080; text-decoration-color: #000080\">BLUE</span>,<span style=\"color: #808000; text-decoration-color: #808000\">ORANGE</span>,<span style=\"color: #800000; text-decoration-color: #800000\">RED</span> │   256 │        3 │        10 │       5 │      3 │ <span style=\"color: #808000; text-decoration-color: #808000\">ORANGE</span>  \n",
       "   3 │ <span style=\"color: #808000; text-decoration-color: #808000\">ORANGE</span>,<span style=\"color: #800000; text-decoration-color: #800000\">RED</span>,<span style=\"color: #c0c0c0; text-decoration-color: #c0c0c0\">WHITE</span>,<span style=\"color: #000080; text-decoration-color: #000080\">BLUE</span> │   209 │        4 │         3 │      10 │      2 │ <span style=\"color: #000080; text-decoration-color: #000080\">BLUE</span>    \n",
       "   4 │ <span style=\"color: #000080; text-decoration-color: #000080\">BLUE</span>,<span style=\"color: #808000; text-decoration-color: #808000\">ORANGE</span>,<span style=\"color: #c0c0c0; text-decoration-color: #c0c0c0\">WHITE</span>,<span style=\"color: #800000; text-decoration-color: #800000\">RED</span> │   327 │        9 │        10 │       4 │      6 │ <span style=\"color: #808000; text-decoration-color: #808000\">ORANGE</span>  \n",
       "   5 │ <span style=\"color: #000080; text-decoration-color: #000080\">BLUE</span>,<span style=\"color: #808000; text-decoration-color: #808000\">ORANGE</span>,<span style=\"color: #800000; text-decoration-color: #800000\">RED</span>,<span style=\"color: #c0c0c0; text-decoration-color: #c0c0c0\">WHITE</span> │   562 │        3 │         3 │      10 │      2 │ <span style=\"color: #000080; text-decoration-color: #000080\">BLUE</span>    \n",
       "   6 │ <span style=\"color: #808000; text-decoration-color: #808000\">ORANGE</span>,<span style=\"color: #800000; text-decoration-color: #800000\">RED</span>,<span style=\"color: #c0c0c0; text-decoration-color: #c0c0c0\">WHITE</span>,<span style=\"color: #000080; text-decoration-color: #000080\">BLUE</span> │   614 │        9 │        10 │       6 │      2 │ <span style=\"color: #808000; text-decoration-color: #808000\">ORANGE</span>  \n",
       "   7 │ <span style=\"color: #800000; text-decoration-color: #800000\">RED</span>,<span style=\"color: #c0c0c0; text-decoration-color: #c0c0c0\">WHITE</span>,<span style=\"color: #000080; text-decoration-color: #000080\">BLUE</span>,<span style=\"color: #808000; text-decoration-color: #808000\">ORANGE</span> │   275 │       10 │         3 │       3 │      2 │ <span style=\"color: #c0c0c0; text-decoration-color: #c0c0c0\">WHITE</span>   \n",
       "   8 │ <span style=\"color: #000080; text-decoration-color: #000080\">BLUE</span>,<span style=\"color: #800000; text-decoration-color: #800000\">RED</span>,<span style=\"color: #808000; text-decoration-color: #808000\">ORANGE</span>,<span style=\"color: #c0c0c0; text-decoration-color: #c0c0c0\">WHITE</span> │   225 │       10 │         3 │       2 │      2 │ <span style=\"color: #c0c0c0; text-decoration-color: #c0c0c0\">WHITE</span>   \n",
       "   9 │ <span style=\"color: #c0c0c0; text-decoration-color: #c0c0c0\">WHITE</span>,<span style=\"color: #000080; text-decoration-color: #000080\">BLUE</span>,<span style=\"color: #808000; text-decoration-color: #808000\">ORANGE</span>,<span style=\"color: #800000; text-decoration-color: #800000\">RED</span> │   416 │        4 │        10 │       9 │      2 │ <span style=\"color: #808000; text-decoration-color: #808000\">ORANGE</span>  \n",
       "  10 │ <span style=\"color: #808000; text-decoration-color: #808000\">ORANGE</span>,<span style=\"color: #800000; text-decoration-color: #800000\">RED</span>,<span style=\"color: #000080; text-decoration-color: #000080\">BLUE</span>,<span style=\"color: #c0c0c0; text-decoration-color: #c0c0c0\">WHITE</span> │   465 │       10 │         9 │       6 │      2 │ <span style=\"color: #c0c0c0; text-decoration-color: #c0c0c0\">WHITE</span>   \n",
       "     ╵                       ╵       ╵          ╵           ╵         ╵        ╵         \n",
       "</pre>\n"
      ],
      "text/plain": [
       "\u001b[3m                                      Last 10 Games                                      \u001b[0m\n",
       "     ╷                       ╷       ╷          ╷           ╷         ╷        ╷         \n",
       " \u001b[1m \u001b[0m\u001b[1m #\u001b[0m\u001b[1m \u001b[0m│\u001b[1m \u001b[0m\u001b[1mSEATING              \u001b[0m\u001b[1m \u001b[0m│\u001b[1m \u001b[0m\u001b[1mTURNS\u001b[0m\u001b[1m \u001b[0m│\u001b[1m \u001b[0m\u001b[1mWHITE VP\u001b[0m\u001b[1m \u001b[0m│\u001b[1m \u001b[0m\u001b[1mORANGE VP\u001b[0m\u001b[1m \u001b[0m│\u001b[1m \u001b[0m\u001b[1mBLUE VP\u001b[0m\u001b[1m \u001b[0m│\u001b[1m \u001b[0m\u001b[1mRED VP\u001b[0m\u001b[1m \u001b[0m│\u001b[1m \u001b[0m\u001b[1mWINNER\u001b[0m\u001b[1m \u001b[0m \n",
       "╶────┼───────────────────────┼───────┼──────────┼───────────┼─────────┼────────┼────────╴\n",
       "   1 │ \u001b[33mORANGE\u001b[0m,\u001b[31mRED\u001b[0m,\u001b[37mWHITE\u001b[0m,\u001b[34mBLUE\u001b[0m │   362 │        6 │        10 │       6 │      6 │ \u001b[33mORANGE\u001b[0m  \n",
       "   2 │ \u001b[37mWHITE\u001b[0m,\u001b[34mBLUE\u001b[0m,\u001b[33mORANGE\u001b[0m,\u001b[31mRED\u001b[0m │   256 │        3 │        10 │       5 │      3 │ \u001b[33mORANGE\u001b[0m  \n",
       "   3 │ \u001b[33mORANGE\u001b[0m,\u001b[31mRED\u001b[0m,\u001b[37mWHITE\u001b[0m,\u001b[34mBLUE\u001b[0m │   209 │        4 │         3 │      10 │      2 │ \u001b[34mBLUE\u001b[0m    \n",
       "   4 │ \u001b[34mBLUE\u001b[0m,\u001b[33mORANGE\u001b[0m,\u001b[37mWHITE\u001b[0m,\u001b[31mRED\u001b[0m │   327 │        9 │        10 │       4 │      6 │ \u001b[33mORANGE\u001b[0m  \n",
       "   5 │ \u001b[34mBLUE\u001b[0m,\u001b[33mORANGE\u001b[0m,\u001b[31mRED\u001b[0m,\u001b[37mWHITE\u001b[0m │   562 │        3 │         3 │      10 │      2 │ \u001b[34mBLUE\u001b[0m    \n",
       "   6 │ \u001b[33mORANGE\u001b[0m,\u001b[31mRED\u001b[0m,\u001b[37mWHITE\u001b[0m,\u001b[34mBLUE\u001b[0m │   614 │        9 │        10 │       6 │      2 │ \u001b[33mORANGE\u001b[0m  \n",
       "   7 │ \u001b[31mRED\u001b[0m,\u001b[37mWHITE\u001b[0m,\u001b[34mBLUE\u001b[0m,\u001b[33mORANGE\u001b[0m │   275 │       10 │         3 │       3 │      2 │ \u001b[37mWHITE\u001b[0m   \n",
       "   8 │ \u001b[34mBLUE\u001b[0m,\u001b[31mRED\u001b[0m,\u001b[33mORANGE\u001b[0m,\u001b[37mWHITE\u001b[0m │   225 │       10 │         3 │       2 │      2 │ \u001b[37mWHITE\u001b[0m   \n",
       "   9 │ \u001b[37mWHITE\u001b[0m,\u001b[34mBLUE\u001b[0m,\u001b[33mORANGE\u001b[0m,\u001b[31mRED\u001b[0m │   416 │        4 │        10 │       9 │      2 │ \u001b[33mORANGE\u001b[0m  \n",
       "  10 │ \u001b[33mORANGE\u001b[0m,\u001b[31mRED\u001b[0m,\u001b[34mBLUE\u001b[0m,\u001b[37mWHITE\u001b[0m │   465 │       10 │         9 │       6 │      2 │ \u001b[37mWHITE\u001b[0m   \n",
       "     ╵                       ╵       ╵          ╵           ╵         ╵        ╵         \n"
      ]
     },
     "metadata": {},
     "output_type": "display_data"
    },
    {
     "data": {
      "text/html": [
       "<pre style=\"white-space:pre;overflow-x:auto;line-height:normal;font-family:Menlo,'DejaVu Sans Mono',consolas,'Courier New',monospace\"><span style=\"font-style: italic\">                                           Player Summary                                            </span>\n",
       "                      ╷      ╷        ╷             ╷            ╷          ╷          ╷             \n",
       " <span style=\"font-weight: bold\">                     </span>│<span style=\"font-weight: bold\"> WINS </span>│<span style=\"font-weight: bold\"> AVG VP </span>│<span style=\"font-weight: bold\"> AVG SETTLES </span>│<span style=\"font-weight: bold\"> AVG CITIES </span>│<span style=\"font-weight: bold\"> AVG ROAD </span>│<span style=\"font-weight: bold\"> AVG ARMY </span>│<span style=\"font-weight: bold\"> AVG DEV VP </span> \n",
       "╶─────────────────────┼──────┼────────┼─────────────┼────────────┼──────────┼──────────┼────────────╴\n",
       "  <span style=\"color: #c0c0c0; text-decoration-color: #c0c0c0\">RandomPlayer:WHITE</span>  │    3 │   6.80 │        2.60 │       0.90 │     0.30 │     0.40 │       1.00  \n",
       "  <span style=\"color: #808000; text-decoration-color: #808000\">RandomPlayer:ORANGE</span> │    5 │   7.10 │        2.30 │       1.00 │     0.30 │     0.40 │       1.40  \n",
       "  <span style=\"color: #000080; text-decoration-color: #000080\">RandomPlayer:BLUE</span>   │    2 │   6.10 │        2.70 │       0.40 │     0.30 │     0.20 │       1.60  \n",
       "  <span style=\"color: #800000; text-decoration-color: #800000\">AB_DQNPlayer_1:RED</span>  │    0 │   2.90 │        2.30 │       0.20 │     0.10 │     0.00 │       0.00  \n",
       "                      ╵      ╵        ╵             ╵            ╵          ╵          ╵             \n",
       "</pre>\n"
      ],
      "text/plain": [
       "\u001b[3m                                           Player Summary                                            \u001b[0m\n",
       "                      ╷      ╷        ╷             ╷            ╷          ╷          ╷             \n",
       " \u001b[1m \u001b[0m\u001b[1m                   \u001b[0m\u001b[1m \u001b[0m│\u001b[1m \u001b[0m\u001b[1mWINS\u001b[0m\u001b[1m \u001b[0m│\u001b[1m \u001b[0m\u001b[1mAVG VP\u001b[0m\u001b[1m \u001b[0m│\u001b[1m \u001b[0m\u001b[1mAVG SETTLES\u001b[0m\u001b[1m \u001b[0m│\u001b[1m \u001b[0m\u001b[1mAVG CITIES\u001b[0m\u001b[1m \u001b[0m│\u001b[1m \u001b[0m\u001b[1mAVG ROAD\u001b[0m\u001b[1m \u001b[0m│\u001b[1m \u001b[0m\u001b[1mAVG ARMY\u001b[0m\u001b[1m \u001b[0m│\u001b[1m \u001b[0m\u001b[1mAVG DEV VP\u001b[0m\u001b[1m \u001b[0m \n",
       "╶─────────────────────┼──────┼────────┼─────────────┼────────────┼──────────┼──────────┼────────────╴\n",
       "  \u001b[37mRandomPlayer:WHITE\u001b[0m  │    3 │   6.80 │        2.60 │       0.90 │     0.30 │     0.40 │       1.00  \n",
       "  \u001b[33mRandomPlayer:ORANGE\u001b[0m │    5 │   7.10 │        2.30 │       1.00 │     0.30 │     0.40 │       1.40  \n",
       "  \u001b[34mRandomPlayer:BLUE\u001b[0m   │    2 │   6.10 │        2.70 │       0.40 │     0.30 │     0.20 │       1.60  \n",
       "  \u001b[31mAB_DQNPlayer_1:RED\u001b[0m  │    0 │   2.90 │        2.30 │       0.20 │     0.10 │     0.00 │       0.00  \n",
       "                      ╵      ╵        ╵             ╵            ╵          ╵          ╵             \n"
      ]
     },
     "metadata": {},
     "output_type": "display_data"
    },
    {
     "data": {
      "text/html": [
       "<pre style=\"white-space:pre;overflow-x:auto;line-height:normal;font-family:Menlo,'DejaVu Sans Mono',consolas,'Courier New',monospace\"><span style=\"font-style: italic\">              Game Summary              </span>\n",
       "            ╷           ╷               \n",
       " <span style=\"font-weight: bold\"> AVG TICKS </span>│<span style=\"font-weight: bold\"> AVG TURNS </span>│<span style=\"font-weight: bold\"> AVG DURATION </span> \n",
       "╶───────────┼───────────┼──────────────╴\n",
       "    1071.00 │    371.10 │  22.537 secs  \n",
       "            ╵           ╵               \n",
       "</pre>\n"
      ],
      "text/plain": [
       "\u001b[3m              Game Summary              \u001b[0m\n",
       "            ╷           ╷               \n",
       " \u001b[1m \u001b[0m\u001b[1mAVG TICKS\u001b[0m\u001b[1m \u001b[0m│\u001b[1m \u001b[0m\u001b[1mAVG TURNS\u001b[0m\u001b[1m \u001b[0m│\u001b[1m \u001b[0m\u001b[1mAVG DURATION\u001b[0m\u001b[1m \u001b[0m \n",
       "╶───────────┼───────────┼──────────────╴\n",
       "    1071.00 │    371.10 │  22.537 secs  \n",
       "            ╵           ╵               \n"
      ]
     },
     "metadata": {},
     "output_type": "display_data"
    },
    {
     "name": "stdout",
     "output_type": "stream",
     "text": [
      "Loaded replay buffer with 4854 transitions\n",
      "atch 7/50: Playing 10 games\n"
     ]
    },
    {
     "data": {
      "text/html": [
       "<pre style=\"white-space:pre;overflow-x:auto;line-height:normal;font-family:Menlo,'DejaVu Sans Mono',consolas,'Courier New',monospace\">Cleared replay buffer to refresh training examples.\n",
       "</pre>\n"
      ],
      "text/plain": [
       "Cleared replay buffer to refresh training examples.\n"
      ]
     },
     "metadata": {},
     "output_type": "display_data"
    },
    {
     "data": {
      "text/html": [
       "<pre style=\"white-space:pre;overflow-x:auto;line-height:normal;font-family:Menlo,'DejaVu Sans Mono',consolas,'Courier New',monospace\">Reward variance in batch: 0.0000\n",
       "</pre>\n"
      ],
      "text/plain": [
       "Reward variance in batch: 0.0000\n"
      ]
     },
     "metadata": {},
     "output_type": "display_data"
    },
    {
     "data": {
      "text/html": [
       "<pre style=\"white-space:pre;overflow-x:auto;line-height:normal;font-family:Menlo,'DejaVu Sans Mono',consolas,'Courier New',monospace\">Trained DQN model with loss: 101.8108\n",
       "</pre>\n"
      ],
      "text/plain": [
       "Trained DQN model with loss: 101.8108\n"
      ]
     },
     "metadata": {},
     "output_type": "display_data"
    },
    {
     "data": {
      "text/html": [
       "<pre style=\"white-space:pre;overflow-x:auto;line-height:normal;font-family:Menlo,'DejaVu Sans Mono',consolas,'Courier New',monospace\">Avg pred: -0.1225, Avg target: 9.9654\n",
       "</pre>\n"
      ],
      "text/plain": [
       "Avg pred: -0.1225, Avg target: 9.9654\n"
      ]
     },
     "metadata": {},
     "output_type": "display_data"
    },
    {
     "data": {
      "text/html": [
       "<pre style=\"white-space:pre;overflow-x:auto;line-height:normal;font-family:Menlo,'DejaVu Sans Mono',consolas,'Courier New',monospace\">Cleared replay buffer to refresh training examples.\n",
       "</pre>\n"
      ],
      "text/plain": [
       "Cleared replay buffer to refresh training examples.\n"
      ]
     },
     "metadata": {},
     "output_type": "display_data"
    },
    {
     "data": {
      "text/html": [
       "<pre style=\"white-space:pre;overflow-x:auto;line-height:normal;font-family:Menlo,'DejaVu Sans Mono',consolas,'Courier New',monospace\">Reward variance in batch: 0.0000\n",
       "</pre>\n"
      ],
      "text/plain": [
       "Reward variance in batch: 0.0000\n"
      ]
     },
     "metadata": {},
     "output_type": "display_data"
    },
    {
     "data": {
      "text/html": [
       "<pre style=\"white-space:pre;overflow-x:auto;line-height:normal;font-family:Menlo,'DejaVu Sans Mono',consolas,'Courier New',monospace\">Trained DQN model with loss: 101.9787\n",
       "</pre>\n"
      ],
      "text/plain": [
       "Trained DQN model with loss: 101.9787\n"
      ]
     },
     "metadata": {},
     "output_type": "display_data"
    },
    {
     "data": {
      "text/html": [
       "<pre style=\"white-space:pre;overflow-x:auto;line-height:normal;font-family:Menlo,'DejaVu Sans Mono',consolas,'Courier New',monospace\">Avg pred: -0.1145, Avg target: 9.9818\n",
       "</pre>\n"
      ],
      "text/plain": [
       "Avg pred: -0.1145, Avg target: 9.9818\n"
      ]
     },
     "metadata": {},
     "output_type": "display_data"
    },
    {
     "data": {
      "text/html": [
       "<pre style=\"white-space:pre;overflow-x:auto;line-height:normal;font-family:Menlo,'DejaVu Sans Mono',consolas,'Courier New',monospace\"></pre>\n"
      ],
      "text/plain": []
     },
     "metadata": {},
     "output_type": "display_data"
    },
    {
     "data": {
      "text/html": [
       "<pre style=\"white-space:pre;overflow-x:auto;line-height:normal;font-family:Menlo,'DejaVu Sans Mono',consolas,'Courier New',monospace\">\n",
       "</pre>\n"
      ],
      "text/plain": [
       "\n"
      ]
     },
     "metadata": {},
     "output_type": "display_data"
    },
    {
     "data": {
      "text/html": [
       "<pre style=\"white-space:pre;overflow-x:auto;line-height:normal;font-family:Menlo,'DejaVu Sans Mono',consolas,'Courier New',monospace\"><span style=\"font-style: italic\">                                      Last 10 Games                                      </span>\n",
       "     ╷                       ╷       ╷        ╷         ╷           ╷          ╷         \n",
       " <span style=\"font-weight: bold\">  # </span>│<span style=\"font-weight: bold\"> SEATING               </span>│<span style=\"font-weight: bold\"> TURNS </span>│<span style=\"font-weight: bold\"> RED VP </span>│<span style=\"font-weight: bold\"> BLUE VP </span>│<span style=\"font-weight: bold\"> ORANGE VP </span>│<span style=\"font-weight: bold\"> WHITE VP </span>│<span style=\"font-weight: bold\"> WINNER </span> \n",
       "╶────┼───────────────────────┼───────┼────────┼─────────┼───────────┼──────────┼────────╴\n",
       "   1 │ <span style=\"color: #800000; text-decoration-color: #800000\">RED</span>,<span style=\"color: #808000; text-decoration-color: #808000\">ORANGE</span>,<span style=\"color: #c0c0c0; text-decoration-color: #c0c0c0\">WHITE</span>,<span style=\"color: #000080; text-decoration-color: #000080\">BLUE</span> │   148 │      2 │       2 │         7 │       10 │ <span style=\"color: #c0c0c0; text-decoration-color: #c0c0c0\">WHITE</span>   \n",
       "   2 │ <span style=\"color: #808000; text-decoration-color: #808000\">ORANGE</span>,<span style=\"color: #000080; text-decoration-color: #000080\">BLUE</span>,<span style=\"color: #800000; text-decoration-color: #800000\">RED</span>,<span style=\"color: #c0c0c0; text-decoration-color: #c0c0c0\">WHITE</span> │   198 │      2 │       2 │         5 │       11 │ <span style=\"color: #c0c0c0; text-decoration-color: #c0c0c0\">WHITE</span>   \n",
       "   3 │ <span style=\"color: #808000; text-decoration-color: #808000\">ORANGE</span>,<span style=\"color: #000080; text-decoration-color: #000080\">BLUE</span>,<span style=\"color: #c0c0c0; text-decoration-color: #c0c0c0\">WHITE</span>,<span style=\"color: #800000; text-decoration-color: #800000\">RED</span> │   461 │     10 │       3 │         6 │        6 │ <span style=\"color: #800000; text-decoration-color: #800000\">RED</span>     \n",
       "   4 │ <span style=\"color: #c0c0c0; text-decoration-color: #c0c0c0\">WHITE</span>,<span style=\"color: #808000; text-decoration-color: #808000\">ORANGE</span>,<span style=\"color: #800000; text-decoration-color: #800000\">RED</span>,<span style=\"color: #000080; text-decoration-color: #000080\">BLUE</span> │   186 │      2 │       2 │         5 │       10 │ <span style=\"color: #c0c0c0; text-decoration-color: #c0c0c0\">WHITE</span>   \n",
       "   5 │ <span style=\"color: #800000; text-decoration-color: #800000\">RED</span>,<span style=\"color: #808000; text-decoration-color: #808000\">ORANGE</span>,<span style=\"color: #000080; text-decoration-color: #000080\">BLUE</span>,<span style=\"color: #c0c0c0; text-decoration-color: #c0c0c0\">WHITE</span> │   320 │      4 │      10 │         7 │        2 │ <span style=\"color: #000080; text-decoration-color: #000080\">BLUE</span>    \n",
       "   6 │ <span style=\"color: #808000; text-decoration-color: #808000\">ORANGE</span>,<span style=\"color: #c0c0c0; text-decoration-color: #c0c0c0\">WHITE</span>,<span style=\"color: #800000; text-decoration-color: #800000\">RED</span>,<span style=\"color: #000080; text-decoration-color: #000080\">BLUE</span> │   270 │      2 │       9 │        10 │        4 │ <span style=\"color: #808000; text-decoration-color: #808000\">ORANGE</span>  \n",
       "   7 │ <span style=\"color: #000080; text-decoration-color: #000080\">BLUE</span>,<span style=\"color: #808000; text-decoration-color: #808000\">ORANGE</span>,<span style=\"color: #c0c0c0; text-decoration-color: #c0c0c0\">WHITE</span>,<span style=\"color: #800000; text-decoration-color: #800000\">RED</span> │   366 │      3 │      10 │         6 │        9 │ <span style=\"color: #000080; text-decoration-color: #000080\">BLUE</span>    \n",
       "   8 │ <span style=\"color: #c0c0c0; text-decoration-color: #c0c0c0\">WHITE</span>,<span style=\"color: #808000; text-decoration-color: #808000\">ORANGE</span>,<span style=\"color: #000080; text-decoration-color: #000080\">BLUE</span>,<span style=\"color: #800000; text-decoration-color: #800000\">RED</span> │   394 │      3 │       2 │         3 │       10 │ <span style=\"color: #c0c0c0; text-decoration-color: #c0c0c0\">WHITE</span>   \n",
       "   9 │ <span style=\"color: #c0c0c0; text-decoration-color: #c0c0c0\">WHITE</span>,<span style=\"color: #000080; text-decoration-color: #000080\">BLUE</span>,<span style=\"color: #800000; text-decoration-color: #800000\">RED</span>,<span style=\"color: #808000; text-decoration-color: #808000\">ORANGE</span> │   295 │      2 │      10 │         4 │        4 │ <span style=\"color: #000080; text-decoration-color: #000080\">BLUE</span>    \n",
       "  10 │ <span style=\"color: #c0c0c0; text-decoration-color: #c0c0c0\">WHITE</span>,<span style=\"color: #800000; text-decoration-color: #800000\">RED</span>,<span style=\"color: #000080; text-decoration-color: #000080\">BLUE</span>,<span style=\"color: #808000; text-decoration-color: #808000\">ORANGE</span> │   622 │      2 │       9 │         9 │       10 │ <span style=\"color: #c0c0c0; text-decoration-color: #c0c0c0\">WHITE</span>   \n",
       "     ╵                       ╵       ╵        ╵         ╵           ╵          ╵         \n",
       "</pre>\n"
      ],
      "text/plain": [
       "\u001b[3m                                      Last 10 Games                                      \u001b[0m\n",
       "     ╷                       ╷       ╷        ╷         ╷           ╷          ╷         \n",
       " \u001b[1m \u001b[0m\u001b[1m #\u001b[0m\u001b[1m \u001b[0m│\u001b[1m \u001b[0m\u001b[1mSEATING              \u001b[0m\u001b[1m \u001b[0m│\u001b[1m \u001b[0m\u001b[1mTURNS\u001b[0m\u001b[1m \u001b[0m│\u001b[1m \u001b[0m\u001b[1mRED VP\u001b[0m\u001b[1m \u001b[0m│\u001b[1m \u001b[0m\u001b[1mBLUE VP\u001b[0m\u001b[1m \u001b[0m│\u001b[1m \u001b[0m\u001b[1mORANGE VP\u001b[0m\u001b[1m \u001b[0m│\u001b[1m \u001b[0m\u001b[1mWHITE VP\u001b[0m\u001b[1m \u001b[0m│\u001b[1m \u001b[0m\u001b[1mWINNER\u001b[0m\u001b[1m \u001b[0m \n",
       "╶────┼───────────────────────┼───────┼────────┼─────────┼───────────┼──────────┼────────╴\n",
       "   1 │ \u001b[31mRED\u001b[0m,\u001b[33mORANGE\u001b[0m,\u001b[37mWHITE\u001b[0m,\u001b[34mBLUE\u001b[0m │   148 │      2 │       2 │         7 │       10 │ \u001b[37mWHITE\u001b[0m   \n",
       "   2 │ \u001b[33mORANGE\u001b[0m,\u001b[34mBLUE\u001b[0m,\u001b[31mRED\u001b[0m,\u001b[37mWHITE\u001b[0m │   198 │      2 │       2 │         5 │       11 │ \u001b[37mWHITE\u001b[0m   \n",
       "   3 │ \u001b[33mORANGE\u001b[0m,\u001b[34mBLUE\u001b[0m,\u001b[37mWHITE\u001b[0m,\u001b[31mRED\u001b[0m │   461 │     10 │       3 │         6 │        6 │ \u001b[31mRED\u001b[0m     \n",
       "   4 │ \u001b[37mWHITE\u001b[0m,\u001b[33mORANGE\u001b[0m,\u001b[31mRED\u001b[0m,\u001b[34mBLUE\u001b[0m │   186 │      2 │       2 │         5 │       10 │ \u001b[37mWHITE\u001b[0m   \n",
       "   5 │ \u001b[31mRED\u001b[0m,\u001b[33mORANGE\u001b[0m,\u001b[34mBLUE\u001b[0m,\u001b[37mWHITE\u001b[0m │   320 │      4 │      10 │         7 │        2 │ \u001b[34mBLUE\u001b[0m    \n",
       "   6 │ \u001b[33mORANGE\u001b[0m,\u001b[37mWHITE\u001b[0m,\u001b[31mRED\u001b[0m,\u001b[34mBLUE\u001b[0m │   270 │      2 │       9 │        10 │        4 │ \u001b[33mORANGE\u001b[0m  \n",
       "   7 │ \u001b[34mBLUE\u001b[0m,\u001b[33mORANGE\u001b[0m,\u001b[37mWHITE\u001b[0m,\u001b[31mRED\u001b[0m │   366 │      3 │      10 │         6 │        9 │ \u001b[34mBLUE\u001b[0m    \n",
       "   8 │ \u001b[37mWHITE\u001b[0m,\u001b[33mORANGE\u001b[0m,\u001b[34mBLUE\u001b[0m,\u001b[31mRED\u001b[0m │   394 │      3 │       2 │         3 │       10 │ \u001b[37mWHITE\u001b[0m   \n",
       "   9 │ \u001b[37mWHITE\u001b[0m,\u001b[34mBLUE\u001b[0m,\u001b[31mRED\u001b[0m,\u001b[33mORANGE\u001b[0m │   295 │      2 │      10 │         4 │        4 │ \u001b[34mBLUE\u001b[0m    \n",
       "  10 │ \u001b[37mWHITE\u001b[0m,\u001b[31mRED\u001b[0m,\u001b[34mBLUE\u001b[0m,\u001b[33mORANGE\u001b[0m │   622 │      2 │       9 │         9 │       10 │ \u001b[37mWHITE\u001b[0m   \n",
       "     ╵                       ╵       ╵        ╵         ╵           ╵          ╵         \n"
      ]
     },
     "metadata": {},
     "output_type": "display_data"
    },
    {
     "data": {
      "text/html": [
       "<pre style=\"white-space:pre;overflow-x:auto;line-height:normal;font-family:Menlo,'DejaVu Sans Mono',consolas,'Courier New',monospace\"><span style=\"font-style: italic\">                                           Player Summary                                            </span>\n",
       "                      ╷      ╷        ╷             ╷            ╷          ╷          ╷             \n",
       " <span style=\"font-weight: bold\">                     </span>│<span style=\"font-weight: bold\"> WINS </span>│<span style=\"font-weight: bold\"> AVG VP </span>│<span style=\"font-weight: bold\"> AVG SETTLES </span>│<span style=\"font-weight: bold\"> AVG CITIES </span>│<span style=\"font-weight: bold\"> AVG ROAD </span>│<span style=\"font-weight: bold\"> AVG ARMY </span>│<span style=\"font-weight: bold\"> AVG DEV VP </span> \n",
       "╶─────────────────────┼──────┼────────┼─────────────┼────────────┼──────────┼──────────┼────────────╴\n",
       "  <span style=\"color: #800000; text-decoration-color: #800000\">AB_DQNPlayer_1:RED</span>  │    1 │   3.20 │        1.80 │       0.60 │     0.10 │     0.00 │       0.00  \n",
       "  <span style=\"color: #000080; text-decoration-color: #000080\">RandomPlayer:BLUE</span>   │    3 │   5.90 │        2.30 │       1.00 │     0.20 │     0.10 │       1.00  \n",
       "  <span style=\"color: #808000; text-decoration-color: #808000\">RandomPlayer:ORANGE</span> │    1 │   6.20 │        2.70 │       0.50 │     0.10 │     0.50 │       1.30  \n",
       "  <span style=\"color: #c0c0c0; text-decoration-color: #c0c0c0\">RandomPlayer:WHITE</span>  │    5 │   7.60 │        2.30 │       1.00 │     0.60 │     0.40 │       1.30  \n",
       "                      ╵      ╵        ╵             ╵            ╵          ╵          ╵             \n",
       "</pre>\n"
      ],
      "text/plain": [
       "\u001b[3m                                           Player Summary                                            \u001b[0m\n",
       "                      ╷      ╷        ╷             ╷            ╷          ╷          ╷             \n",
       " \u001b[1m \u001b[0m\u001b[1m                   \u001b[0m\u001b[1m \u001b[0m│\u001b[1m \u001b[0m\u001b[1mWINS\u001b[0m\u001b[1m \u001b[0m│\u001b[1m \u001b[0m\u001b[1mAVG VP\u001b[0m\u001b[1m \u001b[0m│\u001b[1m \u001b[0m\u001b[1mAVG SETTLES\u001b[0m\u001b[1m \u001b[0m│\u001b[1m \u001b[0m\u001b[1mAVG CITIES\u001b[0m\u001b[1m \u001b[0m│\u001b[1m \u001b[0m\u001b[1mAVG ROAD\u001b[0m\u001b[1m \u001b[0m│\u001b[1m \u001b[0m\u001b[1mAVG ARMY\u001b[0m\u001b[1m \u001b[0m│\u001b[1m \u001b[0m\u001b[1mAVG DEV VP\u001b[0m\u001b[1m \u001b[0m \n",
       "╶─────────────────────┼──────┼────────┼─────────────┼────────────┼──────────┼──────────┼────────────╴\n",
       "  \u001b[31mAB_DQNPlayer_1:RED\u001b[0m  │    1 │   3.20 │        1.80 │       0.60 │     0.10 │     0.00 │       0.00  \n",
       "  \u001b[34mRandomPlayer:BLUE\u001b[0m   │    3 │   5.90 │        2.30 │       1.00 │     0.20 │     0.10 │       1.00  \n",
       "  \u001b[33mRandomPlayer:ORANGE\u001b[0m │    1 │   6.20 │        2.70 │       0.50 │     0.10 │     0.50 │       1.30  \n",
       "  \u001b[37mRandomPlayer:WHITE\u001b[0m  │    5 │   7.60 │        2.30 │       1.00 │     0.60 │     0.40 │       1.30  \n",
       "                      ╵      ╵        ╵             ╵            ╵          ╵          ╵             \n"
      ]
     },
     "metadata": {},
     "output_type": "display_data"
    },
    {
     "data": {
      "text/html": [
       "<pre style=\"white-space:pre;overflow-x:auto;line-height:normal;font-family:Menlo,'DejaVu Sans Mono',consolas,'Courier New',monospace\"><span style=\"font-style: italic\">              Game Summary              </span>\n",
       "            ╷           ╷               \n",
       " <span style=\"font-weight: bold\"> AVG TICKS </span>│<span style=\"font-weight: bold\"> AVG TURNS </span>│<span style=\"font-weight: bold\"> AVG DURATION </span> \n",
       "╶───────────┼───────────┼──────────────╴\n",
       "     948.20 │    326.00 │  12.112 secs  \n",
       "            ╵           ╵               \n",
       "</pre>\n"
      ],
      "text/plain": [
       "\u001b[3m              Game Summary              \u001b[0m\n",
       "            ╷           ╷               \n",
       " \u001b[1m \u001b[0m\u001b[1mAVG TICKS\u001b[0m\u001b[1m \u001b[0m│\u001b[1m \u001b[0m\u001b[1mAVG TURNS\u001b[0m\u001b[1m \u001b[0m│\u001b[1m \u001b[0m\u001b[1mAVG DURATION\u001b[0m\u001b[1m \u001b[0m \n",
       "╶───────────┼───────────┼──────────────╴\n",
       "     948.20 │    326.00 │  12.112 secs  \n",
       "            ╵           ╵               \n"
      ]
     },
     "metadata": {},
     "output_type": "display_data"
    },
    {
     "name": "stdout",
     "output_type": "stream",
     "text": [
      "Loaded replay buffer with 2941 transitions\n",
      "atch 8/50: Playing 10 games\n"
     ]
    },
    {
     "data": {
      "text/html": [
       "<pre style=\"white-space:pre;overflow-x:auto;line-height:normal;font-family:Menlo,'DejaVu Sans Mono',consolas,'Courier New',monospace\">Cleared replay buffer to refresh training examples.\n",
       "</pre>\n"
      ],
      "text/plain": [
       "Cleared replay buffer to refresh training examples.\n"
      ]
     },
     "metadata": {},
     "output_type": "display_data"
    },
    {
     "data": {
      "text/html": [
       "<pre style=\"white-space:pre;overflow-x:auto;line-height:normal;font-family:Menlo,'DejaVu Sans Mono',consolas,'Courier New',monospace\">Reward variance in batch: 0.0000\n",
       "</pre>\n"
      ],
      "text/plain": [
       "Reward variance in batch: 0.0000\n"
      ]
     },
     "metadata": {},
     "output_type": "display_data"
    },
    {
     "data": {
      "text/html": [
       "<pre style=\"white-space:pre;overflow-x:auto;line-height:normal;font-family:Menlo,'DejaVu Sans Mono',consolas,'Courier New',monospace\">Trained DQN model with loss: 101.8945\n",
       "</pre>\n"
      ],
      "text/plain": [
       "Trained DQN model with loss: 101.8945\n"
      ]
     },
     "metadata": {},
     "output_type": "display_data"
    },
    {
     "data": {
      "text/html": [
       "<pre style=\"white-space:pre;overflow-x:auto;line-height:normal;font-family:Menlo,'DejaVu Sans Mono',consolas,'Courier New',monospace\">Avg pred: -0.1732, Avg target: 9.9189\n",
       "</pre>\n"
      ],
      "text/plain": [
       "Avg pred: -0.1732, Avg target: 9.9189\n"
      ]
     },
     "metadata": {},
     "output_type": "display_data"
    },
    {
     "data": {
      "text/html": [
       "<pre style=\"white-space:pre;overflow-x:auto;line-height:normal;font-family:Menlo,'DejaVu Sans Mono',consolas,'Courier New',monospace\">Cleared replay buffer to refresh training examples.\n",
       "</pre>\n"
      ],
      "text/plain": [
       "Cleared replay buffer to refresh training examples.\n"
      ]
     },
     "metadata": {},
     "output_type": "display_data"
    },
    {
     "data": {
      "text/html": [
       "<pre style=\"white-space:pre;overflow-x:auto;line-height:normal;font-family:Menlo,'DejaVu Sans Mono',consolas,'Courier New',monospace\">Reward variance in batch: 0.0000\n",
       "</pre>\n"
      ],
      "text/plain": [
       "Reward variance in batch: 0.0000\n"
      ]
     },
     "metadata": {},
     "output_type": "display_data"
    },
    {
     "data": {
      "text/html": [
       "<pre style=\"white-space:pre;overflow-x:auto;line-height:normal;font-family:Menlo,'DejaVu Sans Mono',consolas,'Courier New',monospace\">Trained DQN model with loss: 102.6087\n",
       "</pre>\n"
      ],
      "text/plain": [
       "Trained DQN model with loss: 102.6087\n"
      ]
     },
     "metadata": {},
     "output_type": "display_data"
    },
    {
     "data": {
      "text/html": [
       "<pre style=\"white-space:pre;overflow-x:auto;line-height:normal;font-family:Menlo,'DejaVu Sans Mono',consolas,'Courier New',monospace\">Avg pred: -0.1402, Avg target: 9.9864\n",
       "</pre>\n"
      ],
      "text/plain": [
       "Avg pred: -0.1402, Avg target: 9.9864\n"
      ]
     },
     "metadata": {},
     "output_type": "display_data"
    },
    {
     "data": {
      "text/html": [
       "<pre style=\"white-space:pre;overflow-x:auto;line-height:normal;font-family:Menlo,'DejaVu Sans Mono',consolas,'Courier New',monospace\">Cleared replay buffer to refresh training examples.\n",
       "</pre>\n"
      ],
      "text/plain": [
       "Cleared replay buffer to refresh training examples.\n"
      ]
     },
     "metadata": {},
     "output_type": "display_data"
    },
    {
     "data": {
      "text/html": [
       "<pre style=\"white-space:pre;overflow-x:auto;line-height:normal;font-family:Menlo,'DejaVu Sans Mono',consolas,'Courier New',monospace\">Reward variance in batch: 0.0000\n",
       "</pre>\n"
      ],
      "text/plain": [
       "Reward variance in batch: 0.0000\n"
      ]
     },
     "metadata": {},
     "output_type": "display_data"
    },
    {
     "data": {
      "text/html": [
       "<pre style=\"white-space:pre;overflow-x:auto;line-height:normal;font-family:Menlo,'DejaVu Sans Mono',consolas,'Courier New',monospace\">Trained DQN model with loss: 101.7791\n",
       "</pre>\n"
      ],
      "text/plain": [
       "Trained DQN model with loss: 101.7791\n"
      ]
     },
     "metadata": {},
     "output_type": "display_data"
    },
    {
     "data": {
      "text/html": [
       "<pre style=\"white-space:pre;overflow-x:auto;line-height:normal;font-family:Menlo,'DejaVu Sans Mono',consolas,'Courier New',monospace\">Avg pred: -0.1335, Avg target: 9.9529\n",
       "</pre>\n"
      ],
      "text/plain": [
       "Avg pred: -0.1335, Avg target: 9.9529\n"
      ]
     },
     "metadata": {},
     "output_type": "display_data"
    },
    {
     "data": {
      "text/html": [
       "<pre style=\"white-space:pre;overflow-x:auto;line-height:normal;font-family:Menlo,'DejaVu Sans Mono',consolas,'Courier New',monospace\"></pre>\n"
      ],
      "text/plain": []
     },
     "metadata": {},
     "output_type": "display_data"
    },
    {
     "data": {
      "text/html": [
       "<pre style=\"white-space:pre;overflow-x:auto;line-height:normal;font-family:Menlo,'DejaVu Sans Mono',consolas,'Courier New',monospace\">\n",
       "</pre>\n"
      ],
      "text/plain": [
       "\n"
      ]
     },
     "metadata": {},
     "output_type": "display_data"
    },
    {
     "data": {
      "text/html": [
       "<pre style=\"white-space:pre;overflow-x:auto;line-height:normal;font-family:Menlo,'DejaVu Sans Mono',consolas,'Courier New',monospace\"><span style=\"font-style: italic\">                                      Last 10 Games                                      </span>\n",
       "     ╷                       ╷       ╷          ╷        ╷           ╷         ╷         \n",
       " <span style=\"font-weight: bold\">  # </span>│<span style=\"font-weight: bold\"> SEATING               </span>│<span style=\"font-weight: bold\"> TURNS </span>│<span style=\"font-weight: bold\"> WHITE VP </span>│<span style=\"font-weight: bold\"> RED VP </span>│<span style=\"font-weight: bold\"> ORANGE VP </span>│<span style=\"font-weight: bold\"> BLUE VP </span>│<span style=\"font-weight: bold\"> WINNER </span> \n",
       "╶────┼───────────────────────┼───────┼──────────┼────────┼───────────┼─────────┼────────╴\n",
       "   1 │ <span style=\"color: #800000; text-decoration-color: #800000\">RED</span>,<span style=\"color: #000080; text-decoration-color: #000080\">BLUE</span>,<span style=\"color: #808000; text-decoration-color: #808000\">ORANGE</span>,<span style=\"color: #c0c0c0; text-decoration-color: #c0c0c0\">WHITE</span> │   407 │        7 │      6 │         4 │      10 │ <span style=\"color: #000080; text-decoration-color: #000080\">BLUE</span>    \n",
       "   2 │ <span style=\"color: #800000; text-decoration-color: #800000\">RED</span>,<span style=\"color: #c0c0c0; text-decoration-color: #c0c0c0\">WHITE</span>,<span style=\"color: #000080; text-decoration-color: #000080\">BLUE</span>,<span style=\"color: #808000; text-decoration-color: #808000\">ORANGE</span> │   381 │        5 │      5 │        10 │       4 │ <span style=\"color: #808000; text-decoration-color: #808000\">ORANGE</span>  \n",
       "   3 │ <span style=\"color: #c0c0c0; text-decoration-color: #c0c0c0\">WHITE</span>,<span style=\"color: #800000; text-decoration-color: #800000\">RED</span>,<span style=\"color: #808000; text-decoration-color: #808000\">ORANGE</span>,<span style=\"color: #000080; text-decoration-color: #000080\">BLUE</span> │   312 │        3 │      2 │        10 │       9 │ <span style=\"color: #808000; text-decoration-color: #808000\">ORANGE</span>  \n",
       "   4 │ <span style=\"color: #808000; text-decoration-color: #808000\">ORANGE</span>,<span style=\"color: #c0c0c0; text-decoration-color: #c0c0c0\">WHITE</span>,<span style=\"color: #000080; text-decoration-color: #000080\">BLUE</span>,<span style=\"color: #800000; text-decoration-color: #800000\">RED</span> │   922 │        9 │      2 │        10 │       9 │ <span style=\"color: #808000; text-decoration-color: #808000\">ORANGE</span>  \n",
       "   5 │ <span style=\"color: #000080; text-decoration-color: #000080\">BLUE</span>,<span style=\"color: #c0c0c0; text-decoration-color: #c0c0c0\">WHITE</span>,<span style=\"color: #808000; text-decoration-color: #808000\">ORANGE</span>,<span style=\"color: #800000; text-decoration-color: #800000\">RED</span> │   346 │        2 │      2 │         4 │      10 │ <span style=\"color: #000080; text-decoration-color: #000080\">BLUE</span>    \n",
       "   6 │ <span style=\"color: #000080; text-decoration-color: #000080\">BLUE</span>,<span style=\"color: #800000; text-decoration-color: #800000\">RED</span>,<span style=\"color: #c0c0c0; text-decoration-color: #c0c0c0\">WHITE</span>,<span style=\"color: #808000; text-decoration-color: #808000\">ORANGE</span> │   308 │       10 │      2 │         4 │       4 │ <span style=\"color: #c0c0c0; text-decoration-color: #c0c0c0\">WHITE</span>   \n",
       "   7 │ <span style=\"color: #800000; text-decoration-color: #800000\">RED</span>,<span style=\"color: #000080; text-decoration-color: #000080\">BLUE</span>,<span style=\"color: #808000; text-decoration-color: #808000\">ORANGE</span>,<span style=\"color: #c0c0c0; text-decoration-color: #c0c0c0\">WHITE</span> │   395 │        3 │      2 │         6 │      11 │ <span style=\"color: #000080; text-decoration-color: #000080\">BLUE</span>    \n",
       "   8 │ <span style=\"color: #808000; text-decoration-color: #808000\">ORANGE</span>,<span style=\"color: #800000; text-decoration-color: #800000\">RED</span>,<span style=\"color: #000080; text-decoration-color: #000080\">BLUE</span>,<span style=\"color: #c0c0c0; text-decoration-color: #c0c0c0\">WHITE</span> │   241 │       10 │      2 │         5 │       6 │ <span style=\"color: #c0c0c0; text-decoration-color: #c0c0c0\">WHITE</span>   \n",
       "   9 │ <span style=\"color: #800000; text-decoration-color: #800000\">RED</span>,<span style=\"color: #000080; text-decoration-color: #000080\">BLUE</span>,<span style=\"color: #c0c0c0; text-decoration-color: #c0c0c0\">WHITE</span>,<span style=\"color: #808000; text-decoration-color: #808000\">ORANGE</span> │   385 │        2 │      3 │        10 │       7 │ <span style=\"color: #808000; text-decoration-color: #808000\">ORANGE</span>  \n",
       "  10 │ <span style=\"color: #c0c0c0; text-decoration-color: #c0c0c0\">WHITE</span>,<span style=\"color: #808000; text-decoration-color: #808000\">ORANGE</span>,<span style=\"color: #000080; text-decoration-color: #000080\">BLUE</span>,<span style=\"color: #800000; text-decoration-color: #800000\">RED</span> │   503 │        5 │      2 │        10 │       3 │ <span style=\"color: #808000; text-decoration-color: #808000\">ORANGE</span>  \n",
       "     ╵                       ╵       ╵          ╵        ╵           ╵         ╵         \n",
       "</pre>\n"
      ],
      "text/plain": [
       "\u001b[3m                                      Last 10 Games                                      \u001b[0m\n",
       "     ╷                       ╷       ╷          ╷        ╷           ╷         ╷         \n",
       " \u001b[1m \u001b[0m\u001b[1m #\u001b[0m\u001b[1m \u001b[0m│\u001b[1m \u001b[0m\u001b[1mSEATING              \u001b[0m\u001b[1m \u001b[0m│\u001b[1m \u001b[0m\u001b[1mTURNS\u001b[0m\u001b[1m \u001b[0m│\u001b[1m \u001b[0m\u001b[1mWHITE VP\u001b[0m\u001b[1m \u001b[0m│\u001b[1m \u001b[0m\u001b[1mRED VP\u001b[0m\u001b[1m \u001b[0m│\u001b[1m \u001b[0m\u001b[1mORANGE VP\u001b[0m\u001b[1m \u001b[0m│\u001b[1m \u001b[0m\u001b[1mBLUE VP\u001b[0m\u001b[1m \u001b[0m│\u001b[1m \u001b[0m\u001b[1mWINNER\u001b[0m\u001b[1m \u001b[0m \n",
       "╶────┼───────────────────────┼───────┼──────────┼────────┼───────────┼─────────┼────────╴\n",
       "   1 │ \u001b[31mRED\u001b[0m,\u001b[34mBLUE\u001b[0m,\u001b[33mORANGE\u001b[0m,\u001b[37mWHITE\u001b[0m │   407 │        7 │      6 │         4 │      10 │ \u001b[34mBLUE\u001b[0m    \n",
       "   2 │ \u001b[31mRED\u001b[0m,\u001b[37mWHITE\u001b[0m,\u001b[34mBLUE\u001b[0m,\u001b[33mORANGE\u001b[0m │   381 │        5 │      5 │        10 │       4 │ \u001b[33mORANGE\u001b[0m  \n",
       "   3 │ \u001b[37mWHITE\u001b[0m,\u001b[31mRED\u001b[0m,\u001b[33mORANGE\u001b[0m,\u001b[34mBLUE\u001b[0m │   312 │        3 │      2 │        10 │       9 │ \u001b[33mORANGE\u001b[0m  \n",
       "   4 │ \u001b[33mORANGE\u001b[0m,\u001b[37mWHITE\u001b[0m,\u001b[34mBLUE\u001b[0m,\u001b[31mRED\u001b[0m │   922 │        9 │      2 │        10 │       9 │ \u001b[33mORANGE\u001b[0m  \n",
       "   5 │ \u001b[34mBLUE\u001b[0m,\u001b[37mWHITE\u001b[0m,\u001b[33mORANGE\u001b[0m,\u001b[31mRED\u001b[0m │   346 │        2 │      2 │         4 │      10 │ \u001b[34mBLUE\u001b[0m    \n",
       "   6 │ \u001b[34mBLUE\u001b[0m,\u001b[31mRED\u001b[0m,\u001b[37mWHITE\u001b[0m,\u001b[33mORANGE\u001b[0m │   308 │       10 │      2 │         4 │       4 │ \u001b[37mWHITE\u001b[0m   \n",
       "   7 │ \u001b[31mRED\u001b[0m,\u001b[34mBLUE\u001b[0m,\u001b[33mORANGE\u001b[0m,\u001b[37mWHITE\u001b[0m │   395 │        3 │      2 │         6 │      11 │ \u001b[34mBLUE\u001b[0m    \n",
       "   8 │ \u001b[33mORANGE\u001b[0m,\u001b[31mRED\u001b[0m,\u001b[34mBLUE\u001b[0m,\u001b[37mWHITE\u001b[0m │   241 │       10 │      2 │         5 │       6 │ \u001b[37mWHITE\u001b[0m   \n",
       "   9 │ \u001b[31mRED\u001b[0m,\u001b[34mBLUE\u001b[0m,\u001b[37mWHITE\u001b[0m,\u001b[33mORANGE\u001b[0m │   385 │        2 │      3 │        10 │       7 │ \u001b[33mORANGE\u001b[0m  \n",
       "  10 │ \u001b[37mWHITE\u001b[0m,\u001b[33mORANGE\u001b[0m,\u001b[34mBLUE\u001b[0m,\u001b[31mRED\u001b[0m │   503 │        5 │      2 │        10 │       3 │ \u001b[33mORANGE\u001b[0m  \n",
       "     ╵                       ╵       ╵          ╵        ╵           ╵         ╵         \n"
      ]
     },
     "metadata": {},
     "output_type": "display_data"
    },
    {
     "data": {
      "text/html": [
       "<pre style=\"white-space:pre;overflow-x:auto;line-height:normal;font-family:Menlo,'DejaVu Sans Mono',consolas,'Courier New',monospace\"><span style=\"font-style: italic\">                                           Player Summary                                            </span>\n",
       "                      ╷      ╷        ╷             ╷            ╷          ╷          ╷             \n",
       " <span style=\"font-weight: bold\">                     </span>│<span style=\"font-weight: bold\"> WINS </span>│<span style=\"font-weight: bold\"> AVG VP </span>│<span style=\"font-weight: bold\"> AVG SETTLES </span>│<span style=\"font-weight: bold\"> AVG CITIES </span>│<span style=\"font-weight: bold\"> AVG ROAD </span>│<span style=\"font-weight: bold\"> AVG ARMY </span>│<span style=\"font-weight: bold\"> AVG DEV VP </span> \n",
       "╶─────────────────────┼──────┼────────┼─────────────┼────────────┼──────────┼──────────┼────────────╴\n",
       "  <span style=\"color: #c0c0c0; text-decoration-color: #c0c0c0\">RandomPlayer:WHITE</span>  │    2 │   5.60 │        2.50 │       0.70 │     0.10 │     0.20 │       1.10  \n",
       "  <span style=\"color: #800000; text-decoration-color: #800000\">AB_DQNPlayer_1:RED</span>  │    0 │   2.80 │        1.90 │       0.10 │     0.00 │     0.00 │       0.70  \n",
       "  <span style=\"color: #808000; text-decoration-color: #808000\">RandomPlayer:ORANGE</span> │    5 │   7.30 │        2.70 │       0.90 │     0.40 │     0.40 │       1.20  \n",
       "  <span style=\"color: #000080; text-decoration-color: #000080\">RandomPlayer:BLUE</span>   │    3 │   7.30 │        1.70 │       1.10 │     0.50 │     0.40 │       1.60  \n",
       "                      ╵      ╵        ╵             ╵            ╵          ╵          ╵             \n",
       "</pre>\n"
      ],
      "text/plain": [
       "\u001b[3m                                           Player Summary                                            \u001b[0m\n",
       "                      ╷      ╷        ╷             ╷            ╷          ╷          ╷             \n",
       " \u001b[1m \u001b[0m\u001b[1m                   \u001b[0m\u001b[1m \u001b[0m│\u001b[1m \u001b[0m\u001b[1mWINS\u001b[0m\u001b[1m \u001b[0m│\u001b[1m \u001b[0m\u001b[1mAVG VP\u001b[0m\u001b[1m \u001b[0m│\u001b[1m \u001b[0m\u001b[1mAVG SETTLES\u001b[0m\u001b[1m \u001b[0m│\u001b[1m \u001b[0m\u001b[1mAVG CITIES\u001b[0m\u001b[1m \u001b[0m│\u001b[1m \u001b[0m\u001b[1mAVG ROAD\u001b[0m\u001b[1m \u001b[0m│\u001b[1m \u001b[0m\u001b[1mAVG ARMY\u001b[0m\u001b[1m \u001b[0m│\u001b[1m \u001b[0m\u001b[1mAVG DEV VP\u001b[0m\u001b[1m \u001b[0m \n",
       "╶─────────────────────┼──────┼────────┼─────────────┼────────────┼──────────┼──────────┼────────────╴\n",
       "  \u001b[37mRandomPlayer:WHITE\u001b[0m  │    2 │   5.60 │        2.50 │       0.70 │     0.10 │     0.20 │       1.10  \n",
       "  \u001b[31mAB_DQNPlayer_1:RED\u001b[0m  │    0 │   2.80 │        1.90 │       0.10 │     0.00 │     0.00 │       0.70  \n",
       "  \u001b[33mRandomPlayer:ORANGE\u001b[0m │    5 │   7.30 │        2.70 │       0.90 │     0.40 │     0.40 │       1.20  \n",
       "  \u001b[34mRandomPlayer:BLUE\u001b[0m   │    3 │   7.30 │        1.70 │       1.10 │     0.50 │     0.40 │       1.60  \n",
       "                      ╵      ╵        ╵             ╵            ╵          ╵          ╵             \n"
      ]
     },
     "metadata": {},
     "output_type": "display_data"
    },
    {
     "data": {
      "text/html": [
       "<pre style=\"white-space:pre;overflow-x:auto;line-height:normal;font-family:Menlo,'DejaVu Sans Mono',consolas,'Courier New',monospace\"><span style=\"font-style: italic\">              Game Summary              </span>\n",
       "            ╷           ╷               \n",
       " <span style=\"font-weight: bold\"> AVG TICKS </span>│<span style=\"font-weight: bold\"> AVG TURNS </span>│<span style=\"font-weight: bold\"> AVG DURATION </span> \n",
       "╶───────────┼───────────┼──────────────╴\n",
       "    1186.10 │    420.00 │  13.518 secs  \n",
       "            ╵           ╵               \n",
       "</pre>\n"
      ],
      "text/plain": [
       "\u001b[3m              Game Summary              \u001b[0m\n",
       "            ╷           ╷               \n",
       " \u001b[1m \u001b[0m\u001b[1mAVG TICKS\u001b[0m\u001b[1m \u001b[0m│\u001b[1m \u001b[0m\u001b[1mAVG TURNS\u001b[0m\u001b[1m \u001b[0m│\u001b[1m \u001b[0m\u001b[1mAVG DURATION\u001b[0m\u001b[1m \u001b[0m \n",
       "╶───────────┼───────────┼──────────────╴\n",
       "    1186.10 │    420.00 │  13.518 secs  \n",
       "            ╵           ╵               \n"
      ]
     },
     "metadata": {},
     "output_type": "display_data"
    },
    {
     "name": "stdout",
     "output_type": "stream",
     "text": [
      "Loaded replay buffer with 514 transitions\n",
      "atch 9/50: Playing 10 games\n"
     ]
    },
    {
     "data": {
      "text/html": [
       "<pre style=\"white-space:pre;overflow-x:auto;line-height:normal;font-family:Menlo,'DejaVu Sans Mono',consolas,'Courier New',monospace\">Cleared replay buffer to refresh training examples.\n",
       "</pre>\n"
      ],
      "text/plain": [
       "Cleared replay buffer to refresh training examples.\n"
      ]
     },
     "metadata": {},
     "output_type": "display_data"
    },
    {
     "data": {
      "text/html": [
       "<pre style=\"white-space:pre;overflow-x:auto;line-height:normal;font-family:Menlo,'DejaVu Sans Mono',consolas,'Courier New',monospace\">Reward variance in batch: 0.0000\n",
       "</pre>\n"
      ],
      "text/plain": [
       "Reward variance in batch: 0.0000\n"
      ]
     },
     "metadata": {},
     "output_type": "display_data"
    },
    {
     "data": {
      "text/html": [
       "<pre style=\"white-space:pre;overflow-x:auto;line-height:normal;font-family:Menlo,'DejaVu Sans Mono',consolas,'Courier New',monospace\">Trained DQN model with loss: 100.9983\n",
       "</pre>\n"
      ],
      "text/plain": [
       "Trained DQN model with loss: 100.9983\n"
      ]
     },
     "metadata": {},
     "output_type": "display_data"
    },
    {
     "data": {
      "text/html": [
       "<pre style=\"white-space:pre;overflow-x:auto;line-height:normal;font-family:Menlo,'DejaVu Sans Mono',consolas,'Courier New',monospace\">Avg pred: -0.1036, Avg target: 9.9444\n",
       "</pre>\n"
      ],
      "text/plain": [
       "Avg pred: -0.1036, Avg target: 9.9444\n"
      ]
     },
     "metadata": {},
     "output_type": "display_data"
    },
    {
     "data": {
      "text/html": [
       "<pre style=\"white-space:pre;overflow-x:auto;line-height:normal;font-family:Menlo,'DejaVu Sans Mono',consolas,'Courier New',monospace\">Cleared replay buffer to refresh training examples.\n",
       "</pre>\n"
      ],
      "text/plain": [
       "Cleared replay buffer to refresh training examples.\n"
      ]
     },
     "metadata": {},
     "output_type": "display_data"
    },
    {
     "data": {
      "text/html": [
       "<pre style=\"white-space:pre;overflow-x:auto;line-height:normal;font-family:Menlo,'DejaVu Sans Mono',consolas,'Courier New',monospace\">Reward variance in batch: 0.0000\n",
       "</pre>\n"
      ],
      "text/plain": [
       "Reward variance in batch: 0.0000\n"
      ]
     },
     "metadata": {},
     "output_type": "display_data"
    },
    {
     "data": {
      "text/html": [
       "<pre style=\"white-space:pre;overflow-x:auto;line-height:normal;font-family:Menlo,'DejaVu Sans Mono',consolas,'Courier New',monospace\">Trained DQN model with loss: 102.4040\n",
       "</pre>\n"
      ],
      "text/plain": [
       "Trained DQN model with loss: 102.4040\n"
      ]
     },
     "metadata": {},
     "output_type": "display_data"
    },
    {
     "data": {
      "text/html": [
       "<pre style=\"white-space:pre;overflow-x:auto;line-height:normal;font-family:Menlo,'DejaVu Sans Mono',consolas,'Courier New',monospace\">Avg pred: -0.1241, Avg target: 9.9929\n",
       "</pre>\n"
      ],
      "text/plain": [
       "Avg pred: -0.1241, Avg target: 9.9929\n"
      ]
     },
     "metadata": {},
     "output_type": "display_data"
    },
    {
     "data": {
      "text/html": [
       "<pre style=\"white-space:pre;overflow-x:auto;line-height:normal;font-family:Menlo,'DejaVu Sans Mono',consolas,'Courier New',monospace\"></pre>\n"
      ],
      "text/plain": []
     },
     "metadata": {},
     "output_type": "display_data"
    },
    {
     "data": {
      "text/html": [
       "<pre style=\"white-space:pre;overflow-x:auto;line-height:normal;font-family:Menlo,'DejaVu Sans Mono',consolas,'Courier New',monospace\">\n",
       "</pre>\n"
      ],
      "text/plain": [
       "\n"
      ]
     },
     "metadata": {},
     "output_type": "display_data"
    },
    {
     "data": {
      "text/html": [
       "<pre style=\"white-space:pre;overflow-x:auto;line-height:normal;font-family:Menlo,'DejaVu Sans Mono',consolas,'Courier New',monospace\"><span style=\"font-style: italic\">                                      Last 10 Games                                      </span>\n",
       "     ╷                       ╷       ╷        ╷          ╷           ╷         ╷         \n",
       " <span style=\"font-weight: bold\">  # </span>│<span style=\"font-weight: bold\"> SEATING               </span>│<span style=\"font-weight: bold\"> TURNS </span>│<span style=\"font-weight: bold\"> RED VP </span>│<span style=\"font-weight: bold\"> WHITE VP </span>│<span style=\"font-weight: bold\"> ORANGE VP </span>│<span style=\"font-weight: bold\"> BLUE VP </span>│<span style=\"font-weight: bold\"> WINNER </span> \n",
       "╶────┼───────────────────────┼───────┼────────┼──────────┼───────────┼─────────┼────────╴\n",
       "   1 │ <span style=\"color: #c0c0c0; text-decoration-color: #c0c0c0\">WHITE</span>,<span style=\"color: #000080; text-decoration-color: #000080\">BLUE</span>,<span style=\"color: #800000; text-decoration-color: #800000\">RED</span>,<span style=\"color: #808000; text-decoration-color: #808000\">ORANGE</span> │   315 │      5 │        2 │         6 │      10 │ <span style=\"color: #000080; text-decoration-color: #000080\">BLUE</span>    \n",
       "   2 │ <span style=\"color: #800000; text-decoration-color: #800000\">RED</span>,<span style=\"color: #c0c0c0; text-decoration-color: #c0c0c0\">WHITE</span>,<span style=\"color: #000080; text-decoration-color: #000080\">BLUE</span>,<span style=\"color: #808000; text-decoration-color: #808000\">ORANGE</span> │   412 │      3 │        4 │         6 │      10 │ <span style=\"color: #000080; text-decoration-color: #000080\">BLUE</span>    \n",
       "   3 │ <span style=\"color: #000080; text-decoration-color: #000080\">BLUE</span>,<span style=\"color: #c0c0c0; text-decoration-color: #c0c0c0\">WHITE</span>,<span style=\"color: #800000; text-decoration-color: #800000\">RED</span>,<span style=\"color: #808000; text-decoration-color: #808000\">ORANGE</span> │   250 │      2 │        2 │         5 │      10 │ <span style=\"color: #000080; text-decoration-color: #000080\">BLUE</span>    \n",
       "   4 │ <span style=\"color: #800000; text-decoration-color: #800000\">RED</span>,<span style=\"color: #000080; text-decoration-color: #000080\">BLUE</span>,<span style=\"color: #c0c0c0; text-decoration-color: #c0c0c0\">WHITE</span>,<span style=\"color: #808000; text-decoration-color: #808000\">ORANGE</span> │  1000 │      4 │        6 │         6 │       9 │         \n",
       "   5 │ <span style=\"color: #808000; text-decoration-color: #808000\">ORANGE</span>,<span style=\"color: #000080; text-decoration-color: #000080\">BLUE</span>,<span style=\"color: #c0c0c0; text-decoration-color: #c0c0c0\">WHITE</span>,<span style=\"color: #800000; text-decoration-color: #800000\">RED</span> │   384 │      2 │       10 │         7 │       3 │ <span style=\"color: #c0c0c0; text-decoration-color: #c0c0c0\">WHITE</span>   \n",
       "   6 │ <span style=\"color: #000080; text-decoration-color: #000080\">BLUE</span>,<span style=\"color: #808000; text-decoration-color: #808000\">ORANGE</span>,<span style=\"color: #800000; text-decoration-color: #800000\">RED</span>,<span style=\"color: #c0c0c0; text-decoration-color: #c0c0c0\">WHITE</span> │   338 │      2 │        6 │         6 │      10 │ <span style=\"color: #000080; text-decoration-color: #000080\">BLUE</span>    \n",
       "   7 │ <span style=\"color: #c0c0c0; text-decoration-color: #c0c0c0\">WHITE</span>,<span style=\"color: #000080; text-decoration-color: #000080\">BLUE</span>,<span style=\"color: #808000; text-decoration-color: #808000\">ORANGE</span>,<span style=\"color: #800000; text-decoration-color: #800000\">RED</span> │   366 │      2 │       10 │         6 │       4 │ <span style=\"color: #c0c0c0; text-decoration-color: #c0c0c0\">WHITE</span>   \n",
       "   8 │ <span style=\"color: #800000; text-decoration-color: #800000\">RED</span>,<span style=\"color: #808000; text-decoration-color: #808000\">ORANGE</span>,<span style=\"color: #000080; text-decoration-color: #000080\">BLUE</span>,<span style=\"color: #c0c0c0; text-decoration-color: #c0c0c0\">WHITE</span> │   368 │      2 │        2 │         2 │      11 │ <span style=\"color: #000080; text-decoration-color: #000080\">BLUE</span>    \n",
       "   9 │ <span style=\"color: #808000; text-decoration-color: #808000\">ORANGE</span>,<span style=\"color: #000080; text-decoration-color: #000080\">BLUE</span>,<span style=\"color: #800000; text-decoration-color: #800000\">RED</span>,<span style=\"color: #c0c0c0; text-decoration-color: #c0c0c0\">WHITE</span> │   331 │      2 │        3 │         5 │      10 │ <span style=\"color: #000080; text-decoration-color: #000080\">BLUE</span>    \n",
       "  10 │ <span style=\"color: #808000; text-decoration-color: #808000\">ORANGE</span>,<span style=\"color: #c0c0c0; text-decoration-color: #c0c0c0\">WHITE</span>,<span style=\"color: #800000; text-decoration-color: #800000\">RED</span>,<span style=\"color: #000080; text-decoration-color: #000080\">BLUE</span> │   206 │      2 │        3 │        10 │       4 │ <span style=\"color: #808000; text-decoration-color: #808000\">ORANGE</span>  \n",
       "     ╵                       ╵       ╵        ╵          ╵           ╵         ╵         \n",
       "</pre>\n"
      ],
      "text/plain": [
       "\u001b[3m                                      Last 10 Games                                      \u001b[0m\n",
       "     ╷                       ╷       ╷        ╷          ╷           ╷         ╷         \n",
       " \u001b[1m \u001b[0m\u001b[1m #\u001b[0m\u001b[1m \u001b[0m│\u001b[1m \u001b[0m\u001b[1mSEATING              \u001b[0m\u001b[1m \u001b[0m│\u001b[1m \u001b[0m\u001b[1mTURNS\u001b[0m\u001b[1m \u001b[0m│\u001b[1m \u001b[0m\u001b[1mRED VP\u001b[0m\u001b[1m \u001b[0m│\u001b[1m \u001b[0m\u001b[1mWHITE VP\u001b[0m\u001b[1m \u001b[0m│\u001b[1m \u001b[0m\u001b[1mORANGE VP\u001b[0m\u001b[1m \u001b[0m│\u001b[1m \u001b[0m\u001b[1mBLUE VP\u001b[0m\u001b[1m \u001b[0m│\u001b[1m \u001b[0m\u001b[1mWINNER\u001b[0m\u001b[1m \u001b[0m \n",
       "╶────┼───────────────────────┼───────┼────────┼──────────┼───────────┼─────────┼────────╴\n",
       "   1 │ \u001b[37mWHITE\u001b[0m,\u001b[34mBLUE\u001b[0m,\u001b[31mRED\u001b[0m,\u001b[33mORANGE\u001b[0m │   315 │      5 │        2 │         6 │      10 │ \u001b[34mBLUE\u001b[0m    \n",
       "   2 │ \u001b[31mRED\u001b[0m,\u001b[37mWHITE\u001b[0m,\u001b[34mBLUE\u001b[0m,\u001b[33mORANGE\u001b[0m │   412 │      3 │        4 │         6 │      10 │ \u001b[34mBLUE\u001b[0m    \n",
       "   3 │ \u001b[34mBLUE\u001b[0m,\u001b[37mWHITE\u001b[0m,\u001b[31mRED\u001b[0m,\u001b[33mORANGE\u001b[0m │   250 │      2 │        2 │         5 │      10 │ \u001b[34mBLUE\u001b[0m    \n",
       "   4 │ \u001b[31mRED\u001b[0m,\u001b[34mBLUE\u001b[0m,\u001b[37mWHITE\u001b[0m,\u001b[33mORANGE\u001b[0m │  1000 │      4 │        6 │         6 │       9 │         \n",
       "   5 │ \u001b[33mORANGE\u001b[0m,\u001b[34mBLUE\u001b[0m,\u001b[37mWHITE\u001b[0m,\u001b[31mRED\u001b[0m │   384 │      2 │       10 │         7 │       3 │ \u001b[37mWHITE\u001b[0m   \n",
       "   6 │ \u001b[34mBLUE\u001b[0m,\u001b[33mORANGE\u001b[0m,\u001b[31mRED\u001b[0m,\u001b[37mWHITE\u001b[0m │   338 │      2 │        6 │         6 │      10 │ \u001b[34mBLUE\u001b[0m    \n",
       "   7 │ \u001b[37mWHITE\u001b[0m,\u001b[34mBLUE\u001b[0m,\u001b[33mORANGE\u001b[0m,\u001b[31mRED\u001b[0m │   366 │      2 │       10 │         6 │       4 │ \u001b[37mWHITE\u001b[0m   \n",
       "   8 │ \u001b[31mRED\u001b[0m,\u001b[33mORANGE\u001b[0m,\u001b[34mBLUE\u001b[0m,\u001b[37mWHITE\u001b[0m │   368 │      2 │        2 │         2 │      11 │ \u001b[34mBLUE\u001b[0m    \n",
       "   9 │ \u001b[33mORANGE\u001b[0m,\u001b[34mBLUE\u001b[0m,\u001b[31mRED\u001b[0m,\u001b[37mWHITE\u001b[0m │   331 │      2 │        3 │         5 │      10 │ \u001b[34mBLUE\u001b[0m    \n",
       "  10 │ \u001b[33mORANGE\u001b[0m,\u001b[37mWHITE\u001b[0m,\u001b[31mRED\u001b[0m,\u001b[34mBLUE\u001b[0m │   206 │      2 │        3 │        10 │       4 │ \u001b[33mORANGE\u001b[0m  \n",
       "     ╵                       ╵       ╵        ╵          ╵           ╵         ╵         \n"
      ]
     },
     "metadata": {},
     "output_type": "display_data"
    },
    {
     "data": {
      "text/html": [
       "<pre style=\"white-space:pre;overflow-x:auto;line-height:normal;font-family:Menlo,'DejaVu Sans Mono',consolas,'Courier New',monospace\"><span style=\"font-style: italic\">                                           Player Summary                                            </span>\n",
       "                      ╷      ╷        ╷             ╷            ╷          ╷          ╷             \n",
       " <span style=\"font-weight: bold\">                     </span>│<span style=\"font-weight: bold\"> WINS </span>│<span style=\"font-weight: bold\"> AVG VP </span>│<span style=\"font-weight: bold\"> AVG SETTLES </span>│<span style=\"font-weight: bold\"> AVG CITIES </span>│<span style=\"font-weight: bold\"> AVG ROAD </span>│<span style=\"font-weight: bold\"> AVG ARMY </span>│<span style=\"font-weight: bold\"> AVG DEV VP </span> \n",
       "╶─────────────────────┼──────┼────────┼─────────────┼────────────┼──────────┼──────────┼────────────╴\n",
       "  <span style=\"color: #800000; text-decoration-color: #800000\">AB_DQNPlayer_1:RED</span>  │    0 │   2.44 │        2.00 │       0.00 │     0.11 │     0.00 │       0.22  \n",
       "  <span style=\"color: #c0c0c0; text-decoration-color: #c0c0c0\">RandomPlayer:WHITE</span>  │    2 │   4.67 │        2.22 │       0.44 │     0.22 │     0.22 │       0.67  \n",
       "  <span style=\"color: #808000; text-decoration-color: #808000\">RandomPlayer:ORANGE</span> │    1 │   5.89 │        2.33 │       0.22 │     0.33 │     0.22 │       2.00  \n",
       "  <span style=\"color: #000080; text-decoration-color: #000080\">RandomPlayer:BLUE</span>   │    6 │   8.00 │        3.00 │       1.00 │     0.33 │     0.56 │       1.22  \n",
       "                      ╵      ╵        ╵             ╵            ╵          ╵          ╵             \n",
       "</pre>\n"
      ],
      "text/plain": [
       "\u001b[3m                                           Player Summary                                            \u001b[0m\n",
       "                      ╷      ╷        ╷             ╷            ╷          ╷          ╷             \n",
       " \u001b[1m \u001b[0m\u001b[1m                   \u001b[0m\u001b[1m \u001b[0m│\u001b[1m \u001b[0m\u001b[1mWINS\u001b[0m\u001b[1m \u001b[0m│\u001b[1m \u001b[0m\u001b[1mAVG VP\u001b[0m\u001b[1m \u001b[0m│\u001b[1m \u001b[0m\u001b[1mAVG SETTLES\u001b[0m\u001b[1m \u001b[0m│\u001b[1m \u001b[0m\u001b[1mAVG CITIES\u001b[0m\u001b[1m \u001b[0m│\u001b[1m \u001b[0m\u001b[1mAVG ROAD\u001b[0m\u001b[1m \u001b[0m│\u001b[1m \u001b[0m\u001b[1mAVG ARMY\u001b[0m\u001b[1m \u001b[0m│\u001b[1m \u001b[0m\u001b[1mAVG DEV VP\u001b[0m\u001b[1m \u001b[0m \n",
       "╶─────────────────────┼──────┼────────┼─────────────┼────────────┼──────────┼──────────┼────────────╴\n",
       "  \u001b[31mAB_DQNPlayer_1:RED\u001b[0m  │    0 │   2.44 │        2.00 │       0.00 │     0.11 │     0.00 │       0.22  \n",
       "  \u001b[37mRandomPlayer:WHITE\u001b[0m  │    2 │   4.67 │        2.22 │       0.44 │     0.22 │     0.22 │       0.67  \n",
       "  \u001b[33mRandomPlayer:ORANGE\u001b[0m │    1 │   5.89 │        2.33 │       0.22 │     0.33 │     0.22 │       2.00  \n",
       "  \u001b[34mRandomPlayer:BLUE\u001b[0m   │    6 │   8.00 │        3.00 │       1.00 │     0.33 │     0.56 │       1.22  \n",
       "                      ╵      ╵        ╵             ╵            ╵          ╵          ╵             \n"
      ]
     },
     "metadata": {},
     "output_type": "display_data"
    },
    {
     "data": {
      "text/html": [
       "<pre style=\"white-space:pre;overflow-x:auto;line-height:normal;font-family:Menlo,'DejaVu Sans Mono',consolas,'Courier New',monospace\"><span style=\"font-style: italic\">              Game Summary              </span>\n",
       "            ╷           ╷               \n",
       " <span style=\"font-weight: bold\"> AVG TICKS </span>│<span style=\"font-weight: bold\"> AVG TURNS </span>│<span style=\"font-weight: bold\"> AVG DURATION </span> \n",
       "╶───────────┼───────────┼──────────────╴\n",
       "     929.22 │    330.00 │  11.581 secs  \n",
       "            ╵           ╵               \n",
       "</pre>\n"
      ],
      "text/plain": [
       "\u001b[3m              Game Summary              \u001b[0m\n",
       "            ╷           ╷               \n",
       " \u001b[1m \u001b[0m\u001b[1mAVG TICKS\u001b[0m\u001b[1m \u001b[0m│\u001b[1m \u001b[0m\u001b[1mAVG TURNS\u001b[0m\u001b[1m \u001b[0m│\u001b[1m \u001b[0m\u001b[1mAVG DURATION\u001b[0m\u001b[1m \u001b[0m \n",
       "╶───────────┼───────────┼──────────────╴\n",
       "     929.22 │    330.00 │  11.581 secs  \n",
       "            ╵           ╵               \n"
      ]
     },
     "metadata": {},
     "output_type": "display_data"
    },
    {
     "name": "stdout",
     "output_type": "stream",
     "text": [
      "Loaded replay buffer with 4847 transitions\n",
      "atch 10/50: Playing 10 games\n"
     ]
    },
    {
     "data": {
      "text/html": [
       "<pre style=\"white-space:pre;overflow-x:auto;line-height:normal;font-family:Menlo,'DejaVu Sans Mono',consolas,'Courier New',monospace\">Cleared replay buffer to refresh training examples.\n",
       "</pre>\n"
      ],
      "text/plain": [
       "Cleared replay buffer to refresh training examples.\n"
      ]
     },
     "metadata": {},
     "output_type": "display_data"
    },
    {
     "data": {
      "text/html": [
       "<pre style=\"white-space:pre;overflow-x:auto;line-height:normal;font-family:Menlo,'DejaVu Sans Mono',consolas,'Courier New',monospace\">Reward variance in batch: 0.0000\n",
       "</pre>\n"
      ],
      "text/plain": [
       "Reward variance in batch: 0.0000\n"
      ]
     },
     "metadata": {},
     "output_type": "display_data"
    },
    {
     "data": {
      "text/html": [
       "<pre style=\"white-space:pre;overflow-x:auto;line-height:normal;font-family:Menlo,'DejaVu Sans Mono',consolas,'Courier New',monospace\">Trained DQN model with loss: 102.2209\n",
       "</pre>\n"
      ],
      "text/plain": [
       "Trained DQN model with loss: 102.2209\n"
      ]
     },
     "metadata": {},
     "output_type": "display_data"
    },
    {
     "data": {
      "text/html": [
       "<pre style=\"white-space:pre;overflow-x:auto;line-height:normal;font-family:Menlo,'DejaVu Sans Mono',consolas,'Courier New',monospace\">Avg pred: -0.1281, Avg target: 9.9808\n",
       "</pre>\n"
      ],
      "text/plain": [
       "Avg pred: -0.1281, Avg target: 9.9808\n"
      ]
     },
     "metadata": {},
     "output_type": "display_data"
    },
    {
     "data": {
      "text/html": [
       "<pre style=\"white-space:pre;overflow-x:auto;line-height:normal;font-family:Menlo,'DejaVu Sans Mono',consolas,'Courier New',monospace\">Cleared replay buffer to refresh training examples.\n",
       "</pre>\n"
      ],
      "text/plain": [
       "Cleared replay buffer to refresh training examples.\n"
      ]
     },
     "metadata": {},
     "output_type": "display_data"
    },
    {
     "data": {
      "text/html": [
       "<pre style=\"white-space:pre;overflow-x:auto;line-height:normal;font-family:Menlo,'DejaVu Sans Mono',consolas,'Courier New',monospace\">Reward variance in batch: 0.0000\n",
       "</pre>\n"
      ],
      "text/plain": [
       "Reward variance in batch: 0.0000\n"
      ]
     },
     "metadata": {},
     "output_type": "display_data"
    },
    {
     "data": {
      "text/html": [
       "<pre style=\"white-space:pre;overflow-x:auto;line-height:normal;font-family:Menlo,'DejaVu Sans Mono',consolas,'Courier New',monospace\">Trained DQN model with loss: 102.3699\n",
       "</pre>\n"
      ],
      "text/plain": [
       "Trained DQN model with loss: 102.3699\n"
      ]
     },
     "metadata": {},
     "output_type": "display_data"
    },
    {
     "data": {
      "text/html": [
       "<pre style=\"white-space:pre;overflow-x:auto;line-height:normal;font-family:Menlo,'DejaVu Sans Mono',consolas,'Courier New',monospace\">Avg pred: -0.1441, Avg target: 9.9720\n",
       "</pre>\n"
      ],
      "text/plain": [
       "Avg pred: -0.1441, Avg target: 9.9720\n"
      ]
     },
     "metadata": {},
     "output_type": "display_data"
    },
    {
     "data": {
      "text/html": [
       "<pre style=\"white-space:pre;overflow-x:auto;line-height:normal;font-family:Menlo,'DejaVu Sans Mono',consolas,'Courier New',monospace\"></pre>\n"
      ],
      "text/plain": []
     },
     "metadata": {},
     "output_type": "display_data"
    },
    {
     "data": {
      "text/html": [
       "<pre style=\"white-space:pre;overflow-x:auto;line-height:normal;font-family:Menlo,'DejaVu Sans Mono',consolas,'Courier New',monospace\">\n",
       "</pre>\n"
      ],
      "text/plain": [
       "\n"
      ]
     },
     "metadata": {},
     "output_type": "display_data"
    },
    {
     "data": {
      "text/html": [
       "<pre style=\"white-space:pre;overflow-x:auto;line-height:normal;font-family:Menlo,'DejaVu Sans Mono',consolas,'Courier New',monospace\"><span style=\"font-style: italic\">                                      Last 10 Games                                      </span>\n",
       "     ╷                       ╷       ╷          ╷        ╷         ╷           ╷         \n",
       " <span style=\"font-weight: bold\">  # </span>│<span style=\"font-weight: bold\"> SEATING               </span>│<span style=\"font-weight: bold\"> TURNS </span>│<span style=\"font-weight: bold\"> WHITE VP </span>│<span style=\"font-weight: bold\"> RED VP </span>│<span style=\"font-weight: bold\"> BLUE VP </span>│<span style=\"font-weight: bold\"> ORANGE VP </span>│<span style=\"font-weight: bold\"> WINNER </span> \n",
       "╶────┼───────────────────────┼───────┼──────────┼────────┼─────────┼───────────┼────────╴\n",
       "   1 │ <span style=\"color: #c0c0c0; text-decoration-color: #c0c0c0\">WHITE</span>,<span style=\"color: #000080; text-decoration-color: #000080\">BLUE</span>,<span style=\"color: #808000; text-decoration-color: #808000\">ORANGE</span>,<span style=\"color: #800000; text-decoration-color: #800000\">RED</span> │   310 │       10 │      7 │       2 │         5 │ <span style=\"color: #c0c0c0; text-decoration-color: #c0c0c0\">WHITE</span>   \n",
       "   2 │ <span style=\"color: #808000; text-decoration-color: #808000\">ORANGE</span>,<span style=\"color: #c0c0c0; text-decoration-color: #c0c0c0\">WHITE</span>,<span style=\"color: #000080; text-decoration-color: #000080\">BLUE</span>,<span style=\"color: #800000; text-decoration-color: #800000\">RED</span> │   260 │        5 │      2 │      10 │         3 │ <span style=\"color: #000080; text-decoration-color: #000080\">BLUE</span>    \n",
       "   3 │ <span style=\"color: #000080; text-decoration-color: #000080\">BLUE</span>,<span style=\"color: #808000; text-decoration-color: #808000\">ORANGE</span>,<span style=\"color: #800000; text-decoration-color: #800000\">RED</span>,<span style=\"color: #c0c0c0; text-decoration-color: #c0c0c0\">WHITE</span> │   339 │        8 │      2 │       6 │        10 │ <span style=\"color: #808000; text-decoration-color: #808000\">ORANGE</span>  \n",
       "   4 │ <span style=\"color: #800000; text-decoration-color: #800000\">RED</span>,<span style=\"color: #808000; text-decoration-color: #808000\">ORANGE</span>,<span style=\"color: #c0c0c0; text-decoration-color: #c0c0c0\">WHITE</span>,<span style=\"color: #000080; text-decoration-color: #000080\">BLUE</span> │   409 │        5 │      3 │      10 │         2 │ <span style=\"color: #000080; text-decoration-color: #000080\">BLUE</span>    \n",
       "   5 │ <span style=\"color: #800000; text-decoration-color: #800000\">RED</span>,<span style=\"color: #808000; text-decoration-color: #808000\">ORANGE</span>,<span style=\"color: #000080; text-decoration-color: #000080\">BLUE</span>,<span style=\"color: #c0c0c0; text-decoration-color: #c0c0c0\">WHITE</span> │   283 │        6 │      2 │       2 │        10 │ <span style=\"color: #808000; text-decoration-color: #808000\">ORANGE</span>  \n",
       "   6 │ <span style=\"color: #808000; text-decoration-color: #808000\">ORANGE</span>,<span style=\"color: #c0c0c0; text-decoration-color: #c0c0c0\">WHITE</span>,<span style=\"color: #000080; text-decoration-color: #000080\">BLUE</span>,<span style=\"color: #800000; text-decoration-color: #800000\">RED</span> │   231 │       10 │      2 │       3 │         4 │ <span style=\"color: #c0c0c0; text-decoration-color: #c0c0c0\">WHITE</span>   \n",
       "   7 │ <span style=\"color: #000080; text-decoration-color: #000080\">BLUE</span>,<span style=\"color: #c0c0c0; text-decoration-color: #c0c0c0\">WHITE</span>,<span style=\"color: #808000; text-decoration-color: #808000\">ORANGE</span>,<span style=\"color: #800000; text-decoration-color: #800000\">RED</span> │   240 │        2 │      2 │       9 │        11 │ <span style=\"color: #808000; text-decoration-color: #808000\">ORANGE</span>  \n",
       "   8 │ <span style=\"color: #808000; text-decoration-color: #808000\">ORANGE</span>,<span style=\"color: #000080; text-decoration-color: #000080\">BLUE</span>,<span style=\"color: #c0c0c0; text-decoration-color: #c0c0c0\">WHITE</span>,<span style=\"color: #800000; text-decoration-color: #800000\">RED</span> │   196 │       11 │      2 │       3 │         2 │ <span style=\"color: #c0c0c0; text-decoration-color: #c0c0c0\">WHITE</span>   \n",
       "   9 │ <span style=\"color: #800000; text-decoration-color: #800000\">RED</span>,<span style=\"color: #808000; text-decoration-color: #808000\">ORANGE</span>,<span style=\"color: #c0c0c0; text-decoration-color: #c0c0c0\">WHITE</span>,<span style=\"color: #000080; text-decoration-color: #000080\">BLUE</span> │   288 │       10 │      2 │       4 │         3 │ <span style=\"color: #c0c0c0; text-decoration-color: #c0c0c0\">WHITE</span>   \n",
       "  10 │ <span style=\"color: #808000; text-decoration-color: #808000\">ORANGE</span>,<span style=\"color: #000080; text-decoration-color: #000080\">BLUE</span>,<span style=\"color: #c0c0c0; text-decoration-color: #c0c0c0\">WHITE</span>,<span style=\"color: #800000; text-decoration-color: #800000\">RED</span> │   238 │        4 │      3 │       8 │        11 │ <span style=\"color: #808000; text-decoration-color: #808000\">ORANGE</span>  \n",
       "     ╵                       ╵       ╵          ╵        ╵         ╵           ╵         \n",
       "</pre>\n"
      ],
      "text/plain": [
       "\u001b[3m                                      Last 10 Games                                      \u001b[0m\n",
       "     ╷                       ╷       ╷          ╷        ╷         ╷           ╷         \n",
       " \u001b[1m \u001b[0m\u001b[1m #\u001b[0m\u001b[1m \u001b[0m│\u001b[1m \u001b[0m\u001b[1mSEATING              \u001b[0m\u001b[1m \u001b[0m│\u001b[1m \u001b[0m\u001b[1mTURNS\u001b[0m\u001b[1m \u001b[0m│\u001b[1m \u001b[0m\u001b[1mWHITE VP\u001b[0m\u001b[1m \u001b[0m│\u001b[1m \u001b[0m\u001b[1mRED VP\u001b[0m\u001b[1m \u001b[0m│\u001b[1m \u001b[0m\u001b[1mBLUE VP\u001b[0m\u001b[1m \u001b[0m│\u001b[1m \u001b[0m\u001b[1mORANGE VP\u001b[0m\u001b[1m \u001b[0m│\u001b[1m \u001b[0m\u001b[1mWINNER\u001b[0m\u001b[1m \u001b[0m \n",
       "╶────┼───────────────────────┼───────┼──────────┼────────┼─────────┼───────────┼────────╴\n",
       "   1 │ \u001b[37mWHITE\u001b[0m,\u001b[34mBLUE\u001b[0m,\u001b[33mORANGE\u001b[0m,\u001b[31mRED\u001b[0m │   310 │       10 │      7 │       2 │         5 │ \u001b[37mWHITE\u001b[0m   \n",
       "   2 │ \u001b[33mORANGE\u001b[0m,\u001b[37mWHITE\u001b[0m,\u001b[34mBLUE\u001b[0m,\u001b[31mRED\u001b[0m │   260 │        5 │      2 │      10 │         3 │ \u001b[34mBLUE\u001b[0m    \n",
       "   3 │ \u001b[34mBLUE\u001b[0m,\u001b[33mORANGE\u001b[0m,\u001b[31mRED\u001b[0m,\u001b[37mWHITE\u001b[0m │   339 │        8 │      2 │       6 │        10 │ \u001b[33mORANGE\u001b[0m  \n",
       "   4 │ \u001b[31mRED\u001b[0m,\u001b[33mORANGE\u001b[0m,\u001b[37mWHITE\u001b[0m,\u001b[34mBLUE\u001b[0m │   409 │        5 │      3 │      10 │         2 │ \u001b[34mBLUE\u001b[0m    \n",
       "   5 │ \u001b[31mRED\u001b[0m,\u001b[33mORANGE\u001b[0m,\u001b[34mBLUE\u001b[0m,\u001b[37mWHITE\u001b[0m │   283 │        6 │      2 │       2 │        10 │ \u001b[33mORANGE\u001b[0m  \n",
       "   6 │ \u001b[33mORANGE\u001b[0m,\u001b[37mWHITE\u001b[0m,\u001b[34mBLUE\u001b[0m,\u001b[31mRED\u001b[0m │   231 │       10 │      2 │       3 │         4 │ \u001b[37mWHITE\u001b[0m   \n",
       "   7 │ \u001b[34mBLUE\u001b[0m,\u001b[37mWHITE\u001b[0m,\u001b[33mORANGE\u001b[0m,\u001b[31mRED\u001b[0m │   240 │        2 │      2 │       9 │        11 │ \u001b[33mORANGE\u001b[0m  \n",
       "   8 │ \u001b[33mORANGE\u001b[0m,\u001b[34mBLUE\u001b[0m,\u001b[37mWHITE\u001b[0m,\u001b[31mRED\u001b[0m │   196 │       11 │      2 │       3 │         2 │ \u001b[37mWHITE\u001b[0m   \n",
       "   9 │ \u001b[31mRED\u001b[0m,\u001b[33mORANGE\u001b[0m,\u001b[37mWHITE\u001b[0m,\u001b[34mBLUE\u001b[0m │   288 │       10 │      2 │       4 │         3 │ \u001b[37mWHITE\u001b[0m   \n",
       "  10 │ \u001b[33mORANGE\u001b[0m,\u001b[34mBLUE\u001b[0m,\u001b[37mWHITE\u001b[0m,\u001b[31mRED\u001b[0m │   238 │        4 │      3 │       8 │        11 │ \u001b[33mORANGE\u001b[0m  \n",
       "     ╵                       ╵       ╵          ╵        ╵         ╵           ╵         \n"
      ]
     },
     "metadata": {},
     "output_type": "display_data"
    },
    {
     "data": {
      "text/html": [
       "<pre style=\"white-space:pre;overflow-x:auto;line-height:normal;font-family:Menlo,'DejaVu Sans Mono',consolas,'Courier New',monospace\"><span style=\"font-style: italic\">                                           Player Summary                                            </span>\n",
       "                      ╷      ╷        ╷             ╷            ╷          ╷          ╷             \n",
       " <span style=\"font-weight: bold\">                     </span>│<span style=\"font-weight: bold\"> WINS </span>│<span style=\"font-weight: bold\"> AVG VP </span>│<span style=\"font-weight: bold\"> AVG SETTLES </span>│<span style=\"font-weight: bold\"> AVG CITIES </span>│<span style=\"font-weight: bold\"> AVG ROAD </span>│<span style=\"font-weight: bold\"> AVG ARMY </span>│<span style=\"font-weight: bold\"> AVG DEV VP </span> \n",
       "╶─────────────────────┼──────┼────────┼─────────────┼────────────┼──────────┼──────────┼────────────╴\n",
       "  <span style=\"color: #c0c0c0; text-decoration-color: #c0c0c0\">RandomPlayer:WHITE</span>  │    4 │   7.10 │        2.40 │       0.80 │     0.40 │     0.70 │       0.90  \n",
       "  <span style=\"color: #800000; text-decoration-color: #800000\">AB_DQNPlayer_1:RED</span>  │    0 │   2.70 │        2.10 │       0.10 │     0.10 │     0.00 │       0.20  \n",
       "  <span style=\"color: #000080; text-decoration-color: #000080\">RandomPlayer:BLUE</span>   │    2 │   5.70 │        2.40 │       0.90 │     0.30 │     0.00 │       0.90  \n",
       "  <span style=\"color: #808000; text-decoration-color: #808000\">RandomPlayer:ORANGE</span> │    4 │   6.10 │        2.30 │       0.80 │     0.20 │     0.30 │       1.20  \n",
       "                      ╵      ╵        ╵             ╵            ╵          ╵          ╵             \n",
       "</pre>\n"
      ],
      "text/plain": [
       "\u001b[3m                                           Player Summary                                            \u001b[0m\n",
       "                      ╷      ╷        ╷             ╷            ╷          ╷          ╷             \n",
       " \u001b[1m \u001b[0m\u001b[1m                   \u001b[0m\u001b[1m \u001b[0m│\u001b[1m \u001b[0m\u001b[1mWINS\u001b[0m\u001b[1m \u001b[0m│\u001b[1m \u001b[0m\u001b[1mAVG VP\u001b[0m\u001b[1m \u001b[0m│\u001b[1m \u001b[0m\u001b[1mAVG SETTLES\u001b[0m\u001b[1m \u001b[0m│\u001b[1m \u001b[0m\u001b[1mAVG CITIES\u001b[0m\u001b[1m \u001b[0m│\u001b[1m \u001b[0m\u001b[1mAVG ROAD\u001b[0m\u001b[1m \u001b[0m│\u001b[1m \u001b[0m\u001b[1mAVG ARMY\u001b[0m\u001b[1m \u001b[0m│\u001b[1m \u001b[0m\u001b[1mAVG DEV VP\u001b[0m\u001b[1m \u001b[0m \n",
       "╶─────────────────────┼──────┼────────┼─────────────┼────────────┼──────────┼──────────┼────────────╴\n",
       "  \u001b[37mRandomPlayer:WHITE\u001b[0m  │    4 │   7.10 │        2.40 │       0.80 │     0.40 │     0.70 │       0.90  \n",
       "  \u001b[31mAB_DQNPlayer_1:RED\u001b[0m  │    0 │   2.70 │        2.10 │       0.10 │     0.10 │     0.00 │       0.20  \n",
       "  \u001b[34mRandomPlayer:BLUE\u001b[0m   │    2 │   5.70 │        2.40 │       0.90 │     0.30 │     0.00 │       0.90  \n",
       "  \u001b[33mRandomPlayer:ORANGE\u001b[0m │    4 │   6.10 │        2.30 │       0.80 │     0.20 │     0.30 │       1.20  \n",
       "                      ╵      ╵        ╵             ╵            ╵          ╵          ╵             \n"
      ]
     },
     "metadata": {},
     "output_type": "display_data"
    },
    {
     "data": {
      "text/html": [
       "<pre style=\"white-space:pre;overflow-x:auto;line-height:normal;font-family:Menlo,'DejaVu Sans Mono',consolas,'Courier New',monospace\"><span style=\"font-style: italic\">              Game Summary              </span>\n",
       "            ╷           ╷               \n",
       " <span style=\"font-weight: bold\"> AVG TICKS </span>│<span style=\"font-weight: bold\"> AVG TURNS </span>│<span style=\"font-weight: bold\"> AVG DURATION </span> \n",
       "╶───────────┼───────────┼──────────────╴\n",
       "     803.20 │    279.40 │  13.412 secs  \n",
       "            ╵           ╵               \n",
       "</pre>\n"
      ],
      "text/plain": [
       "\u001b[3m              Game Summary              \u001b[0m\n",
       "            ╷           ╷               \n",
       " \u001b[1m \u001b[0m\u001b[1mAVG TICKS\u001b[0m\u001b[1m \u001b[0m│\u001b[1m \u001b[0m\u001b[1mAVG TURNS\u001b[0m\u001b[1m \u001b[0m│\u001b[1m \u001b[0m\u001b[1mAVG DURATION\u001b[0m\u001b[1m \u001b[0m \n",
       "╶───────────┼───────────┼──────────────╴\n",
       "     803.20 │    279.40 │  13.412 secs  \n",
       "            ╵           ╵               \n"
      ]
     },
     "metadata": {},
     "output_type": "display_data"
    },
    {
     "name": "stdout",
     "output_type": "stream",
     "text": [
      "Loaded replay buffer with 2484 transitions\n",
      "atch 11/50: Playing 10 games\n"
     ]
    },
    {
     "data": {
      "text/html": [
       "<pre style=\"white-space:pre;overflow-x:auto;line-height:normal;font-family:Menlo,'DejaVu Sans Mono',consolas,'Courier New',monospace\">Cleared replay buffer to refresh training examples.\n",
       "</pre>\n"
      ],
      "text/plain": [
       "Cleared replay buffer to refresh training examples.\n"
      ]
     },
     "metadata": {},
     "output_type": "display_data"
    },
    {
     "data": {
      "text/html": [
       "<pre style=\"white-space:pre;overflow-x:auto;line-height:normal;font-family:Menlo,'DejaVu Sans Mono',consolas,'Courier New',monospace\">Reward variance in batch: 0.0000\n",
       "</pre>\n"
      ],
      "text/plain": [
       "Reward variance in batch: 0.0000\n"
      ]
     },
     "metadata": {},
     "output_type": "display_data"
    },
    {
     "data": {
      "text/html": [
       "<pre style=\"white-space:pre;overflow-x:auto;line-height:normal;font-family:Menlo,'DejaVu Sans Mono',consolas,'Courier New',monospace\">Trained DQN model with loss: 102.8368\n",
       "</pre>\n"
      ],
      "text/plain": [
       "Trained DQN model with loss: 102.8368\n"
      ]
     },
     "metadata": {},
     "output_type": "display_data"
    },
    {
     "data": {
      "text/html": [
       "<pre style=\"white-space:pre;overflow-x:auto;line-height:normal;font-family:Menlo,'DejaVu Sans Mono',consolas,'Courier New',monospace\">Avg pred: -0.1379, Avg target: 10.0007\n",
       "</pre>\n"
      ],
      "text/plain": [
       "Avg pred: -0.1379, Avg target: 10.0007\n"
      ]
     },
     "metadata": {},
     "output_type": "display_data"
    },
    {
     "data": {
      "text/html": [
       "<pre style=\"white-space:pre;overflow-x:auto;line-height:normal;font-family:Menlo,'DejaVu Sans Mono',consolas,'Courier New',monospace\">Cleared replay buffer to refresh training examples.\n",
       "</pre>\n"
      ],
      "text/plain": [
       "Cleared replay buffer to refresh training examples.\n"
      ]
     },
     "metadata": {},
     "output_type": "display_data"
    },
    {
     "data": {
      "text/html": [
       "<pre style=\"white-space:pre;overflow-x:auto;line-height:normal;font-family:Menlo,'DejaVu Sans Mono',consolas,'Courier New',monospace\">Reward variance in batch: 0.0000\n",
       "</pre>\n"
      ],
      "text/plain": [
       "Reward variance in batch: 0.0000\n"
      ]
     },
     "metadata": {},
     "output_type": "display_data"
    },
    {
     "data": {
      "text/html": [
       "<pre style=\"white-space:pre;overflow-x:auto;line-height:normal;font-family:Menlo,'DejaVu Sans Mono',consolas,'Courier New',monospace\">Trained DQN model with loss: 102.0824\n",
       "</pre>\n"
      ],
      "text/plain": [
       "Trained DQN model with loss: 102.0824\n"
      ]
     },
     "metadata": {},
     "output_type": "display_data"
    },
    {
     "data": {
      "text/html": [
       "<pre style=\"white-space:pre;overflow-x:auto;line-height:normal;font-family:Menlo,'DejaVu Sans Mono',consolas,'Courier New',monospace\">Avg pred: -0.1143, Avg target: 9.9871\n",
       "</pre>\n"
      ],
      "text/plain": [
       "Avg pred: -0.1143, Avg target: 9.9871\n"
      ]
     },
     "metadata": {},
     "output_type": "display_data"
    },
    {
     "data": {
      "text/html": [
       "<pre style=\"white-space:pre;overflow-x:auto;line-height:normal;font-family:Menlo,'DejaVu Sans Mono',consolas,'Courier New',monospace\"></pre>\n"
      ],
      "text/plain": []
     },
     "metadata": {},
     "output_type": "display_data"
    },
    {
     "data": {
      "text/html": [
       "<pre style=\"white-space:pre;overflow-x:auto;line-height:normal;font-family:Menlo,'DejaVu Sans Mono',consolas,'Courier New',monospace\">\n",
       "</pre>\n"
      ],
      "text/plain": [
       "\n"
      ]
     },
     "metadata": {},
     "output_type": "display_data"
    },
    {
     "data": {
      "text/html": [
       "<pre style=\"white-space:pre;overflow-x:auto;line-height:normal;font-family:Menlo,'DejaVu Sans Mono',consolas,'Courier New',monospace\"><span style=\"font-style: italic\">                                      Last 10 Games                                      </span>\n",
       "     ╷                       ╷       ╷           ╷          ╷         ╷        ╷         \n",
       " <span style=\"font-weight: bold\">  # </span>│<span style=\"font-weight: bold\"> SEATING               </span>│<span style=\"font-weight: bold\"> TURNS </span>│<span style=\"font-weight: bold\"> ORANGE VP </span>│<span style=\"font-weight: bold\"> WHITE VP </span>│<span style=\"font-weight: bold\"> BLUE VP </span>│<span style=\"font-weight: bold\"> RED VP </span>│<span style=\"font-weight: bold\"> WINNER </span> \n",
       "╶────┼───────────────────────┼───────┼───────────┼──────────┼─────────┼────────┼────────╴\n",
       "   1 │ <span style=\"color: #c0c0c0; text-decoration-color: #c0c0c0\">WHITE</span>,<span style=\"color: #000080; text-decoration-color: #000080\">BLUE</span>,<span style=\"color: #808000; text-decoration-color: #808000\">ORANGE</span>,<span style=\"color: #800000; text-decoration-color: #800000\">RED</span> │   184 │        10 │        4 │       5 │      2 │ <span style=\"color: #808000; text-decoration-color: #808000\">ORANGE</span>  \n",
       "   2 │ <span style=\"color: #800000; text-decoration-color: #800000\">RED</span>,<span style=\"color: #808000; text-decoration-color: #808000\">ORANGE</span>,<span style=\"color: #000080; text-decoration-color: #000080\">BLUE</span>,<span style=\"color: #c0c0c0; text-decoration-color: #c0c0c0\">WHITE</span> │   416 │         3 │        2 │      10 │      2 │ <span style=\"color: #000080; text-decoration-color: #000080\">BLUE</span>    \n",
       "   3 │ <span style=\"color: #808000; text-decoration-color: #808000\">ORANGE</span>,<span style=\"color: #c0c0c0; text-decoration-color: #c0c0c0\">WHITE</span>,<span style=\"color: #000080; text-decoration-color: #000080\">BLUE</span>,<span style=\"color: #800000; text-decoration-color: #800000\">RED</span> │   271 │         9 │       10 │       3 │      5 │ <span style=\"color: #c0c0c0; text-decoration-color: #c0c0c0\">WHITE</span>   \n",
       "   4 │ <span style=\"color: #000080; text-decoration-color: #000080\">BLUE</span>,<span style=\"color: #808000; text-decoration-color: #808000\">ORANGE</span>,<span style=\"color: #800000; text-decoration-color: #800000\">RED</span>,<span style=\"color: #c0c0c0; text-decoration-color: #c0c0c0\">WHITE</span> │   606 │         7 │        5 │      10 │      4 │ <span style=\"color: #000080; text-decoration-color: #000080\">BLUE</span>    \n",
       "   5 │ <span style=\"color: #000080; text-decoration-color: #000080\">BLUE</span>,<span style=\"color: #808000; text-decoration-color: #808000\">ORANGE</span>,<span style=\"color: #800000; text-decoration-color: #800000\">RED</span>,<span style=\"color: #c0c0c0; text-decoration-color: #c0c0c0\">WHITE</span> │   222 │         2 │        2 │      10 │      2 │ <span style=\"color: #000080; text-decoration-color: #000080\">BLUE</span>    \n",
       "   6 │ <span style=\"color: #000080; text-decoration-color: #000080\">BLUE</span>,<span style=\"color: #808000; text-decoration-color: #808000\">ORANGE</span>,<span style=\"color: #c0c0c0; text-decoration-color: #c0c0c0\">WHITE</span>,<span style=\"color: #800000; text-decoration-color: #800000\">RED</span> │   214 │         4 │        2 │      10 │      2 │ <span style=\"color: #000080; text-decoration-color: #000080\">BLUE</span>    \n",
       "   7 │ <span style=\"color: #c0c0c0; text-decoration-color: #c0c0c0\">WHITE</span>,<span style=\"color: #000080; text-decoration-color: #000080\">BLUE</span>,<span style=\"color: #808000; text-decoration-color: #808000\">ORANGE</span>,<span style=\"color: #800000; text-decoration-color: #800000\">RED</span> │   271 │         5 │        6 │      10 │      2 │ <span style=\"color: #000080; text-decoration-color: #000080\">BLUE</span>    \n",
       "   8 │ <span style=\"color: #808000; text-decoration-color: #808000\">ORANGE</span>,<span style=\"color: #c0c0c0; text-decoration-color: #c0c0c0\">WHITE</span>,<span style=\"color: #800000; text-decoration-color: #800000\">RED</span>,<span style=\"color: #000080; text-decoration-color: #000080\">BLUE</span> │   139 │         2 │       10 │       2 │      2 │ <span style=\"color: #c0c0c0; text-decoration-color: #c0c0c0\">WHITE</span>   \n",
       "   9 │ <span style=\"color: #c0c0c0; text-decoration-color: #c0c0c0\">WHITE</span>,<span style=\"color: #800000; text-decoration-color: #800000\">RED</span>,<span style=\"color: #000080; text-decoration-color: #000080\">BLUE</span>,<span style=\"color: #808000; text-decoration-color: #808000\">ORANGE</span> │   232 │         3 │        6 │      10 │      2 │ <span style=\"color: #000080; text-decoration-color: #000080\">BLUE</span>    \n",
       "  10 │ <span style=\"color: #c0c0c0; text-decoration-color: #c0c0c0\">WHITE</span>,<span style=\"color: #808000; text-decoration-color: #808000\">ORANGE</span>,<span style=\"color: #800000; text-decoration-color: #800000\">RED</span>,<span style=\"color: #000080; text-decoration-color: #000080\">BLUE</span> │   259 │        10 │        8 │       3 │      2 │ <span style=\"color: #808000; text-decoration-color: #808000\">ORANGE</span>  \n",
       "     ╵                       ╵       ╵           ╵          ╵         ╵        ╵         \n",
       "</pre>\n"
      ],
      "text/plain": [
       "\u001b[3m                                      Last 10 Games                                      \u001b[0m\n",
       "     ╷                       ╷       ╷           ╷          ╷         ╷        ╷         \n",
       " \u001b[1m \u001b[0m\u001b[1m #\u001b[0m\u001b[1m \u001b[0m│\u001b[1m \u001b[0m\u001b[1mSEATING              \u001b[0m\u001b[1m \u001b[0m│\u001b[1m \u001b[0m\u001b[1mTURNS\u001b[0m\u001b[1m \u001b[0m│\u001b[1m \u001b[0m\u001b[1mORANGE VP\u001b[0m\u001b[1m \u001b[0m│\u001b[1m \u001b[0m\u001b[1mWHITE VP\u001b[0m\u001b[1m \u001b[0m│\u001b[1m \u001b[0m\u001b[1mBLUE VP\u001b[0m\u001b[1m \u001b[0m│\u001b[1m \u001b[0m\u001b[1mRED VP\u001b[0m\u001b[1m \u001b[0m│\u001b[1m \u001b[0m\u001b[1mWINNER\u001b[0m\u001b[1m \u001b[0m \n",
       "╶────┼───────────────────────┼───────┼───────────┼──────────┼─────────┼────────┼────────╴\n",
       "   1 │ \u001b[37mWHITE\u001b[0m,\u001b[34mBLUE\u001b[0m,\u001b[33mORANGE\u001b[0m,\u001b[31mRED\u001b[0m │   184 │        10 │        4 │       5 │      2 │ \u001b[33mORANGE\u001b[0m  \n",
       "   2 │ \u001b[31mRED\u001b[0m,\u001b[33mORANGE\u001b[0m,\u001b[34mBLUE\u001b[0m,\u001b[37mWHITE\u001b[0m │   416 │         3 │        2 │      10 │      2 │ \u001b[34mBLUE\u001b[0m    \n",
       "   3 │ \u001b[33mORANGE\u001b[0m,\u001b[37mWHITE\u001b[0m,\u001b[34mBLUE\u001b[0m,\u001b[31mRED\u001b[0m │   271 │         9 │       10 │       3 │      5 │ \u001b[37mWHITE\u001b[0m   \n",
       "   4 │ \u001b[34mBLUE\u001b[0m,\u001b[33mORANGE\u001b[0m,\u001b[31mRED\u001b[0m,\u001b[37mWHITE\u001b[0m │   606 │         7 │        5 │      10 │      4 │ \u001b[34mBLUE\u001b[0m    \n",
       "   5 │ \u001b[34mBLUE\u001b[0m,\u001b[33mORANGE\u001b[0m,\u001b[31mRED\u001b[0m,\u001b[37mWHITE\u001b[0m │   222 │         2 │        2 │      10 │      2 │ \u001b[34mBLUE\u001b[0m    \n",
       "   6 │ \u001b[34mBLUE\u001b[0m,\u001b[33mORANGE\u001b[0m,\u001b[37mWHITE\u001b[0m,\u001b[31mRED\u001b[0m │   214 │         4 │        2 │      10 │      2 │ \u001b[34mBLUE\u001b[0m    \n",
       "   7 │ \u001b[37mWHITE\u001b[0m,\u001b[34mBLUE\u001b[0m,\u001b[33mORANGE\u001b[0m,\u001b[31mRED\u001b[0m │   271 │         5 │        6 │      10 │      2 │ \u001b[34mBLUE\u001b[0m    \n",
       "   8 │ \u001b[33mORANGE\u001b[0m,\u001b[37mWHITE\u001b[0m,\u001b[31mRED\u001b[0m,\u001b[34mBLUE\u001b[0m │   139 │         2 │       10 │       2 │      2 │ \u001b[37mWHITE\u001b[0m   \n",
       "   9 │ \u001b[37mWHITE\u001b[0m,\u001b[31mRED\u001b[0m,\u001b[34mBLUE\u001b[0m,\u001b[33mORANGE\u001b[0m │   232 │         3 │        6 │      10 │      2 │ \u001b[34mBLUE\u001b[0m    \n",
       "  10 │ \u001b[37mWHITE\u001b[0m,\u001b[33mORANGE\u001b[0m,\u001b[31mRED\u001b[0m,\u001b[34mBLUE\u001b[0m │   259 │        10 │        8 │       3 │      2 │ \u001b[33mORANGE\u001b[0m  \n",
       "     ╵                       ╵       ╵           ╵          ╵         ╵        ╵         \n"
      ]
     },
     "metadata": {},
     "output_type": "display_data"
    },
    {
     "data": {
      "text/html": [
       "<pre style=\"white-space:pre;overflow-x:auto;line-height:normal;font-family:Menlo,'DejaVu Sans Mono',consolas,'Courier New',monospace\"><span style=\"font-style: italic\">                                           Player Summary                                            </span>\n",
       "                      ╷      ╷        ╷             ╷            ╷          ╷          ╷             \n",
       " <span style=\"font-weight: bold\">                     </span>│<span style=\"font-weight: bold\"> WINS </span>│<span style=\"font-weight: bold\"> AVG VP </span>│<span style=\"font-weight: bold\"> AVG SETTLES </span>│<span style=\"font-weight: bold\"> AVG CITIES </span>│<span style=\"font-weight: bold\"> AVG ROAD </span>│<span style=\"font-weight: bold\"> AVG ARMY </span>│<span style=\"font-weight: bold\"> AVG DEV VP </span> \n",
       "╶─────────────────────┼──────┼────────┼─────────────┼────────────┼──────────┼──────────┼────────────╴\n",
       "  <span style=\"color: #808000; text-decoration-color: #808000\">RandomPlayer:ORANGE</span> │    2 │   5.50 │        2.70 │       0.30 │     0.10 │     0.30 │       1.40  \n",
       "  <span style=\"color: #c0c0c0; text-decoration-color: #c0c0c0\">RandomPlayer:WHITE</span>  │    2 │   5.50 │        1.90 │       0.70 │     0.30 │     0.30 │       1.00  \n",
       "  <span style=\"color: #000080; text-decoration-color: #000080\">RandomPlayer:BLUE</span>   │    6 │   7.30 │        3.00 │       0.70 │     0.60 │     0.40 │       0.90  \n",
       "  <span style=\"color: #800000; text-decoration-color: #800000\">AB_DQNPlayer_1:RED</span>  │    0 │   2.50 │        1.80 │       0.30 │     0.00 │     0.00 │       0.10  \n",
       "                      ╵      ╵        ╵             ╵            ╵          ╵          ╵             \n",
       "</pre>\n"
      ],
      "text/plain": [
       "\u001b[3m                                           Player Summary                                            \u001b[0m\n",
       "                      ╷      ╷        ╷             ╷            ╷          ╷          ╷             \n",
       " \u001b[1m \u001b[0m\u001b[1m                   \u001b[0m\u001b[1m \u001b[0m│\u001b[1m \u001b[0m\u001b[1mWINS\u001b[0m\u001b[1m \u001b[0m│\u001b[1m \u001b[0m\u001b[1mAVG VP\u001b[0m\u001b[1m \u001b[0m│\u001b[1m \u001b[0m\u001b[1mAVG SETTLES\u001b[0m\u001b[1m \u001b[0m│\u001b[1m \u001b[0m\u001b[1mAVG CITIES\u001b[0m\u001b[1m \u001b[0m│\u001b[1m \u001b[0m\u001b[1mAVG ROAD\u001b[0m\u001b[1m \u001b[0m│\u001b[1m \u001b[0m\u001b[1mAVG ARMY\u001b[0m\u001b[1m \u001b[0m│\u001b[1m \u001b[0m\u001b[1mAVG DEV VP\u001b[0m\u001b[1m \u001b[0m \n",
       "╶─────────────────────┼──────┼────────┼─────────────┼────────────┼──────────┼──────────┼────────────╴\n",
       "  \u001b[33mRandomPlayer:ORANGE\u001b[0m │    2 │   5.50 │        2.70 │       0.30 │     0.10 │     0.30 │       1.40  \n",
       "  \u001b[37mRandomPlayer:WHITE\u001b[0m  │    2 │   5.50 │        1.90 │       0.70 │     0.30 │     0.30 │       1.00  \n",
       "  \u001b[34mRandomPlayer:BLUE\u001b[0m   │    6 │   7.30 │        3.00 │       0.70 │     0.60 │     0.40 │       0.90  \n",
       "  \u001b[31mAB_DQNPlayer_1:RED\u001b[0m  │    0 │   2.50 │        1.80 │       0.30 │     0.00 │     0.00 │       0.10  \n",
       "                      ╵      ╵        ╵             ╵            ╵          ╵          ╵             \n"
      ]
     },
     "metadata": {},
     "output_type": "display_data"
    },
    {
     "data": {
      "text/html": [
       "<pre style=\"white-space:pre;overflow-x:auto;line-height:normal;font-family:Menlo,'DejaVu Sans Mono',consolas,'Courier New',monospace\"><span style=\"font-style: italic\">              Game Summary              </span>\n",
       "            ╷           ╷               \n",
       " <span style=\"font-weight: bold\"> AVG TICKS </span>│<span style=\"font-weight: bold\"> AVG TURNS </span>│<span style=\"font-weight: bold\"> AVG DURATION </span> \n",
       "╶───────────┼───────────┼──────────────╴\n",
       "     815.80 │    281.40 │  18.169 secs  \n",
       "            ╵           ╵               \n",
       "</pre>\n"
      ],
      "text/plain": [
       "\u001b[3m              Game Summary              \u001b[0m\n",
       "            ╷           ╷               \n",
       " \u001b[1m \u001b[0m\u001b[1mAVG TICKS\u001b[0m\u001b[1m \u001b[0m│\u001b[1m \u001b[0m\u001b[1mAVG TURNS\u001b[0m\u001b[1m \u001b[0m│\u001b[1m \u001b[0m\u001b[1mAVG DURATION\u001b[0m\u001b[1m \u001b[0m \n",
       "╶───────────┼───────────┼──────────────╴\n",
       "     815.80 │    281.40 │  18.169 secs  \n",
       "            ╵           ╵               \n"
      ]
     },
     "metadata": {},
     "output_type": "display_data"
    },
    {
     "name": "stdout",
     "output_type": "stream",
     "text": [
      "Loaded replay buffer with 2856 transitions\n",
      "atch 12/50: Playing 10 games\n"
     ]
    },
    {
     "data": {
      "text/html": [
       "<pre style=\"white-space:pre;overflow-x:auto;line-height:normal;font-family:Menlo,'DejaVu Sans Mono',consolas,'Courier New',monospace\">Cleared replay buffer to refresh training examples.\n",
       "</pre>\n"
      ],
      "text/plain": [
       "Cleared replay buffer to refresh training examples.\n"
      ]
     },
     "metadata": {},
     "output_type": "display_data"
    },
    {
     "data": {
      "text/html": [
       "<pre style=\"white-space:pre;overflow-x:auto;line-height:normal;font-family:Menlo,'DejaVu Sans Mono',consolas,'Courier New',monospace\">Reward variance in batch: 0.0000\n",
       "</pre>\n"
      ],
      "text/plain": [
       "Reward variance in batch: 0.0000\n"
      ]
     },
     "metadata": {},
     "output_type": "display_data"
    },
    {
     "data": {
      "text/html": [
       "<pre style=\"white-space:pre;overflow-x:auto;line-height:normal;font-family:Menlo,'DejaVu Sans Mono',consolas,'Courier New',monospace\">Trained DQN model with loss: 102.0017\n",
       "</pre>\n"
      ],
      "text/plain": [
       "Trained DQN model with loss: 102.0017\n"
      ]
     },
     "metadata": {},
     "output_type": "display_data"
    },
    {
     "data": {
      "text/html": [
       "<pre style=\"white-space:pre;overflow-x:auto;line-height:normal;font-family:Menlo,'DejaVu Sans Mono',consolas,'Courier New',monospace\">Avg pred: -0.1093, Avg target: 9.9887\n",
       "</pre>\n"
      ],
      "text/plain": [
       "Avg pred: -0.1093, Avg target: 9.9887\n"
      ]
     },
     "metadata": {},
     "output_type": "display_data"
    },
    {
     "data": {
      "text/html": [
       "<pre style=\"white-space:pre;overflow-x:auto;line-height:normal;font-family:Menlo,'DejaVu Sans Mono',consolas,'Courier New',monospace\">Cleared replay buffer to refresh training examples.\n",
       "</pre>\n"
      ],
      "text/plain": [
       "Cleared replay buffer to refresh training examples.\n"
      ]
     },
     "metadata": {},
     "output_type": "display_data"
    },
    {
     "data": {
      "text/html": [
       "<pre style=\"white-space:pre;overflow-x:auto;line-height:normal;font-family:Menlo,'DejaVu Sans Mono',consolas,'Courier New',monospace\">Reward variance in batch: 0.0000\n",
       "</pre>\n"
      ],
      "text/plain": [
       "Reward variance in batch: 0.0000\n"
      ]
     },
     "metadata": {},
     "output_type": "display_data"
    },
    {
     "data": {
      "text/html": [
       "<pre style=\"white-space:pre;overflow-x:auto;line-height:normal;font-family:Menlo,'DejaVu Sans Mono',consolas,'Courier New',monospace\">Trained DQN model with loss: 101.5046\n",
       "</pre>\n"
      ],
      "text/plain": [
       "Trained DQN model with loss: 101.5046\n"
      ]
     },
     "metadata": {},
     "output_type": "display_data"
    },
    {
     "data": {
      "text/html": [
       "<pre style=\"white-space:pre;overflow-x:auto;line-height:normal;font-family:Menlo,'DejaVu Sans Mono',consolas,'Courier New',monospace\">Avg pred: -0.1046, Avg target: 9.9689\n",
       "</pre>\n"
      ],
      "text/plain": [
       "Avg pred: -0.1046, Avg target: 9.9689\n"
      ]
     },
     "metadata": {},
     "output_type": "display_data"
    },
    {
     "data": {
      "text/html": [
       "<pre style=\"white-space:pre;overflow-x:auto;line-height:normal;font-family:Menlo,'DejaVu Sans Mono',consolas,'Courier New',monospace\"></pre>\n"
      ],
      "text/plain": []
     },
     "metadata": {},
     "output_type": "display_data"
    },
    {
     "data": {
      "text/html": [
       "<pre style=\"white-space:pre;overflow-x:auto;line-height:normal;font-family:Menlo,'DejaVu Sans Mono',consolas,'Courier New',monospace\">\n",
       "</pre>\n"
      ],
      "text/plain": [
       "\n"
      ]
     },
     "metadata": {},
     "output_type": "display_data"
    },
    {
     "data": {
      "text/html": [
       "<pre style=\"white-space:pre;overflow-x:auto;line-height:normal;font-family:Menlo,'DejaVu Sans Mono',consolas,'Courier New',monospace\"><span style=\"font-style: italic\">                                      Last 10 Games                                      </span>\n",
       "     ╷                       ╷       ╷           ╷        ╷          ╷         ╷         \n",
       " <span style=\"font-weight: bold\">  # </span>│<span style=\"font-weight: bold\"> SEATING               </span>│<span style=\"font-weight: bold\"> TURNS </span>│<span style=\"font-weight: bold\"> ORANGE VP </span>│<span style=\"font-weight: bold\"> RED VP </span>│<span style=\"font-weight: bold\"> WHITE VP </span>│<span style=\"font-weight: bold\"> BLUE VP </span>│<span style=\"font-weight: bold\"> WINNER </span> \n",
       "╶────┼───────────────────────┼───────┼───────────┼────────┼──────────┼─────────┼────────╴\n",
       "   1 │ <span style=\"color: #800000; text-decoration-color: #800000\">RED</span>,<span style=\"color: #808000; text-decoration-color: #808000\">ORANGE</span>,<span style=\"color: #000080; text-decoration-color: #000080\">BLUE</span>,<span style=\"color: #c0c0c0; text-decoration-color: #c0c0c0\">WHITE</span> │   341 │         5 │      4 │       10 │       4 │ <span style=\"color: #c0c0c0; text-decoration-color: #c0c0c0\">WHITE</span>   \n",
       "   2 │ <span style=\"color: #808000; text-decoration-color: #808000\">ORANGE</span>,<span style=\"color: #000080; text-decoration-color: #000080\">BLUE</span>,<span style=\"color: #800000; text-decoration-color: #800000\">RED</span>,<span style=\"color: #c0c0c0; text-decoration-color: #c0c0c0\">WHITE</span> │   417 │         5 │      4 │       10 │       6 │ <span style=\"color: #c0c0c0; text-decoration-color: #c0c0c0\">WHITE</span>   \n",
       "   3 │ <span style=\"color: #800000; text-decoration-color: #800000\">RED</span>,<span style=\"color: #c0c0c0; text-decoration-color: #c0c0c0\">WHITE</span>,<span style=\"color: #000080; text-decoration-color: #000080\">BLUE</span>,<span style=\"color: #808000; text-decoration-color: #808000\">ORANGE</span> │   233 │        11 │      3 │        3 │       4 │ <span style=\"color: #808000; text-decoration-color: #808000\">ORANGE</span>  \n",
       "   4 │ <span style=\"color: #000080; text-decoration-color: #000080\">BLUE</span>,<span style=\"color: #c0c0c0; text-decoration-color: #c0c0c0\">WHITE</span>,<span style=\"color: #808000; text-decoration-color: #808000\">ORANGE</span>,<span style=\"color: #800000; text-decoration-color: #800000\">RED</span> │   278 │         2 │      2 │        3 │      10 │ <span style=\"color: #000080; text-decoration-color: #000080\">BLUE</span>    \n",
       "   5 │ <span style=\"color: #808000; text-decoration-color: #808000\">ORANGE</span>,<span style=\"color: #c0c0c0; text-decoration-color: #c0c0c0\">WHITE</span>,<span style=\"color: #800000; text-decoration-color: #800000\">RED</span>,<span style=\"color: #000080; text-decoration-color: #000080\">BLUE</span> │   282 │        10 │      2 │        6 │       2 │ <span style=\"color: #808000; text-decoration-color: #808000\">ORANGE</span>  \n",
       "   6 │ <span style=\"color: #800000; text-decoration-color: #800000\">RED</span>,<span style=\"color: #000080; text-decoration-color: #000080\">BLUE</span>,<span style=\"color: #c0c0c0; text-decoration-color: #c0c0c0\">WHITE</span>,<span style=\"color: #808000; text-decoration-color: #808000\">ORANGE</span> │   619 │         4 │      3 │        9 │      10 │ <span style=\"color: #000080; text-decoration-color: #000080\">BLUE</span>    \n",
       "   7 │ <span style=\"color: #c0c0c0; text-decoration-color: #c0c0c0\">WHITE</span>,<span style=\"color: #800000; text-decoration-color: #800000\">RED</span>,<span style=\"color: #808000; text-decoration-color: #808000\">ORANGE</span>,<span style=\"color: #000080; text-decoration-color: #000080\">BLUE</span> │   260 │        10 │      2 │        2 │       6 │ <span style=\"color: #808000; text-decoration-color: #808000\">ORANGE</span>  \n",
       "   8 │ <span style=\"color: #808000; text-decoration-color: #808000\">ORANGE</span>,<span style=\"color: #800000; text-decoration-color: #800000\">RED</span>,<span style=\"color: #c0c0c0; text-decoration-color: #c0c0c0\">WHITE</span>,<span style=\"color: #000080; text-decoration-color: #000080\">BLUE</span> │   822 │        10 │      2 │        7 │       6 │ <span style=\"color: #808000; text-decoration-color: #808000\">ORANGE</span>  \n",
       "   9 │ <span style=\"color: #c0c0c0; text-decoration-color: #c0c0c0\">WHITE</span>,<span style=\"color: #000080; text-decoration-color: #000080\">BLUE</span>,<span style=\"color: #808000; text-decoration-color: #808000\">ORANGE</span>,<span style=\"color: #800000; text-decoration-color: #800000\">RED</span> │   135 │         2 │      3 │        4 │      10 │ <span style=\"color: #000080; text-decoration-color: #000080\">BLUE</span>    \n",
       "  10 │ <span style=\"color: #000080; text-decoration-color: #000080\">BLUE</span>,<span style=\"color: #800000; text-decoration-color: #800000\">RED</span>,<span style=\"color: #c0c0c0; text-decoration-color: #c0c0c0\">WHITE</span>,<span style=\"color: #808000; text-decoration-color: #808000\">ORANGE</span> │   336 │         9 │      2 │       10 │       4 │ <span style=\"color: #c0c0c0; text-decoration-color: #c0c0c0\">WHITE</span>   \n",
       "     ╵                       ╵       ╵           ╵        ╵          ╵         ╵         \n",
       "</pre>\n"
      ],
      "text/plain": [
       "\u001b[3m                                      Last 10 Games                                      \u001b[0m\n",
       "     ╷                       ╷       ╷           ╷        ╷          ╷         ╷         \n",
       " \u001b[1m \u001b[0m\u001b[1m #\u001b[0m\u001b[1m \u001b[0m│\u001b[1m \u001b[0m\u001b[1mSEATING              \u001b[0m\u001b[1m \u001b[0m│\u001b[1m \u001b[0m\u001b[1mTURNS\u001b[0m\u001b[1m \u001b[0m│\u001b[1m \u001b[0m\u001b[1mORANGE VP\u001b[0m\u001b[1m \u001b[0m│\u001b[1m \u001b[0m\u001b[1mRED VP\u001b[0m\u001b[1m \u001b[0m│\u001b[1m \u001b[0m\u001b[1mWHITE VP\u001b[0m\u001b[1m \u001b[0m│\u001b[1m \u001b[0m\u001b[1mBLUE VP\u001b[0m\u001b[1m \u001b[0m│\u001b[1m \u001b[0m\u001b[1mWINNER\u001b[0m\u001b[1m \u001b[0m \n",
       "╶────┼───────────────────────┼───────┼───────────┼────────┼──────────┼─────────┼────────╴\n",
       "   1 │ \u001b[31mRED\u001b[0m,\u001b[33mORANGE\u001b[0m,\u001b[34mBLUE\u001b[0m,\u001b[37mWHITE\u001b[0m │   341 │         5 │      4 │       10 │       4 │ \u001b[37mWHITE\u001b[0m   \n",
       "   2 │ \u001b[33mORANGE\u001b[0m,\u001b[34mBLUE\u001b[0m,\u001b[31mRED\u001b[0m,\u001b[37mWHITE\u001b[0m │   417 │         5 │      4 │       10 │       6 │ \u001b[37mWHITE\u001b[0m   \n",
       "   3 │ \u001b[31mRED\u001b[0m,\u001b[37mWHITE\u001b[0m,\u001b[34mBLUE\u001b[0m,\u001b[33mORANGE\u001b[0m │   233 │        11 │      3 │        3 │       4 │ \u001b[33mORANGE\u001b[0m  \n",
       "   4 │ \u001b[34mBLUE\u001b[0m,\u001b[37mWHITE\u001b[0m,\u001b[33mORANGE\u001b[0m,\u001b[31mRED\u001b[0m │   278 │         2 │      2 │        3 │      10 │ \u001b[34mBLUE\u001b[0m    \n",
       "   5 │ \u001b[33mORANGE\u001b[0m,\u001b[37mWHITE\u001b[0m,\u001b[31mRED\u001b[0m,\u001b[34mBLUE\u001b[0m │   282 │        10 │      2 │        6 │       2 │ \u001b[33mORANGE\u001b[0m  \n",
       "   6 │ \u001b[31mRED\u001b[0m,\u001b[34mBLUE\u001b[0m,\u001b[37mWHITE\u001b[0m,\u001b[33mORANGE\u001b[0m │   619 │         4 │      3 │        9 │      10 │ \u001b[34mBLUE\u001b[0m    \n",
       "   7 │ \u001b[37mWHITE\u001b[0m,\u001b[31mRED\u001b[0m,\u001b[33mORANGE\u001b[0m,\u001b[34mBLUE\u001b[0m │   260 │        10 │      2 │        2 │       6 │ \u001b[33mORANGE\u001b[0m  \n",
       "   8 │ \u001b[33mORANGE\u001b[0m,\u001b[31mRED\u001b[0m,\u001b[37mWHITE\u001b[0m,\u001b[34mBLUE\u001b[0m │   822 │        10 │      2 │        7 │       6 │ \u001b[33mORANGE\u001b[0m  \n",
       "   9 │ \u001b[37mWHITE\u001b[0m,\u001b[34mBLUE\u001b[0m,\u001b[33mORANGE\u001b[0m,\u001b[31mRED\u001b[0m │   135 │         2 │      3 │        4 │      10 │ \u001b[34mBLUE\u001b[0m    \n",
       "  10 │ \u001b[34mBLUE\u001b[0m,\u001b[31mRED\u001b[0m,\u001b[37mWHITE\u001b[0m,\u001b[33mORANGE\u001b[0m │   336 │         9 │      2 │       10 │       4 │ \u001b[37mWHITE\u001b[0m   \n",
       "     ╵                       ╵       ╵           ╵        ╵          ╵         ╵         \n"
      ]
     },
     "metadata": {},
     "output_type": "display_data"
    },
    {
     "data": {
      "text/html": [
       "<pre style=\"white-space:pre;overflow-x:auto;line-height:normal;font-family:Menlo,'DejaVu Sans Mono',consolas,'Courier New',monospace\"><span style=\"font-style: italic\">                                           Player Summary                                            </span>\n",
       "                      ╷      ╷        ╷             ╷            ╷          ╷          ╷             \n",
       " <span style=\"font-weight: bold\">                     </span>│<span style=\"font-weight: bold\"> WINS </span>│<span style=\"font-weight: bold\"> AVG VP </span>│<span style=\"font-weight: bold\"> AVG SETTLES </span>│<span style=\"font-weight: bold\"> AVG CITIES </span>│<span style=\"font-weight: bold\"> AVG ROAD </span>│<span style=\"font-weight: bold\"> AVG ARMY </span>│<span style=\"font-weight: bold\"> AVG DEV VP </span> \n",
       "╶─────────────────────┼──────┼────────┼─────────────┼────────────┼──────────┼──────────┼────────────╴\n",
       "  <span style=\"color: #808000; text-decoration-color: #808000\">RandomPlayer:ORANGE</span> │    4 │   6.80 │        2.60 │       0.80 │     0.20 │     0.40 │       1.40  \n",
       "  <span style=\"color: #800000; text-decoration-color: #800000\">AB_DQNPlayer_1:RED</span>  │    0 │   2.70 │        2.00 │       0.30 │     0.00 │     0.00 │       0.10  \n",
       "  <span style=\"color: #c0c0c0; text-decoration-color: #c0c0c0\">RandomPlayer:WHITE</span>  │    3 │   6.40 │        2.60 │       0.70 │     0.50 │     0.30 │       0.80  \n",
       "  <span style=\"color: #000080; text-decoration-color: #000080\">RandomPlayer:BLUE</span>   │    3 │   6.20 │        2.20 │       0.50 │     0.20 │     0.30 │       2.00  \n",
       "                      ╵      ╵        ╵             ╵            ╵          ╵          ╵             \n",
       "</pre>\n"
      ],
      "text/plain": [
       "\u001b[3m                                           Player Summary                                            \u001b[0m\n",
       "                      ╷      ╷        ╷             ╷            ╷          ╷          ╷             \n",
       " \u001b[1m \u001b[0m\u001b[1m                   \u001b[0m\u001b[1m \u001b[0m│\u001b[1m \u001b[0m\u001b[1mWINS\u001b[0m\u001b[1m \u001b[0m│\u001b[1m \u001b[0m\u001b[1mAVG VP\u001b[0m\u001b[1m \u001b[0m│\u001b[1m \u001b[0m\u001b[1mAVG SETTLES\u001b[0m\u001b[1m \u001b[0m│\u001b[1m \u001b[0m\u001b[1mAVG CITIES\u001b[0m\u001b[1m \u001b[0m│\u001b[1m \u001b[0m\u001b[1mAVG ROAD\u001b[0m\u001b[1m \u001b[0m│\u001b[1m \u001b[0m\u001b[1mAVG ARMY\u001b[0m\u001b[1m \u001b[0m│\u001b[1m \u001b[0m\u001b[1mAVG DEV VP\u001b[0m\u001b[1m \u001b[0m \n",
       "╶─────────────────────┼──────┼────────┼─────────────┼────────────┼──────────┼──────────┼────────────╴\n",
       "  \u001b[33mRandomPlayer:ORANGE\u001b[0m │    4 │   6.80 │        2.60 │       0.80 │     0.20 │     0.40 │       1.40  \n",
       "  \u001b[31mAB_DQNPlayer_1:RED\u001b[0m  │    0 │   2.70 │        2.00 │       0.30 │     0.00 │     0.00 │       0.10  \n",
       "  \u001b[37mRandomPlayer:WHITE\u001b[0m  │    3 │   6.40 │        2.60 │       0.70 │     0.50 │     0.30 │       0.80  \n",
       "  \u001b[34mRandomPlayer:BLUE\u001b[0m   │    3 │   6.20 │        2.20 │       0.50 │     0.20 │     0.30 │       2.00  \n",
       "                      ╵      ╵        ╵             ╵            ╵          ╵          ╵             \n"
      ]
     },
     "metadata": {},
     "output_type": "display_data"
    },
    {
     "data": {
      "text/html": [
       "<pre style=\"white-space:pre;overflow-x:auto;line-height:normal;font-family:Menlo,'DejaVu Sans Mono',consolas,'Courier New',monospace\"><span style=\"font-style: italic\">              Game Summary              </span>\n",
       "            ╷           ╷               \n",
       " <span style=\"font-weight: bold\"> AVG TICKS </span>│<span style=\"font-weight: bold\"> AVG TURNS </span>│<span style=\"font-weight: bold\"> AVG DURATION </span> \n",
       "╶───────────┼───────────┼──────────────╴\n",
       "    1058.40 │    372.30 │  15.796 secs  \n",
       "            ╵           ╵               \n",
       "</pre>\n"
      ],
      "text/plain": [
       "\u001b[3m              Game Summary              \u001b[0m\n",
       "            ╷           ╷               \n",
       " \u001b[1m \u001b[0m\u001b[1mAVG TICKS\u001b[0m\u001b[1m \u001b[0m│\u001b[1m \u001b[0m\u001b[1mAVG TURNS\u001b[0m\u001b[1m \u001b[0m│\u001b[1m \u001b[0m\u001b[1mAVG DURATION\u001b[0m\u001b[1m \u001b[0m \n",
       "╶───────────┼───────────┼──────────────╴\n",
       "    1058.40 │    372.30 │  15.796 secs  \n",
       "            ╵           ╵               \n"
      ]
     },
     "metadata": {},
     "output_type": "display_data"
    },
    {
     "name": "stdout",
     "output_type": "stream",
     "text": [
      "Loaded replay buffer with 4453 transitions\n",
      "atch 13/50: Playing 10 games\n"
     ]
    },
    {
     "data": {
      "text/html": [
       "<pre style=\"white-space:pre;overflow-x:auto;line-height:normal;font-family:Menlo,'DejaVu Sans Mono',consolas,'Courier New',monospace\">Cleared replay buffer to refresh training examples.\n",
       "</pre>\n"
      ],
      "text/plain": [
       "Cleared replay buffer to refresh training examples.\n"
      ]
     },
     "metadata": {},
     "output_type": "display_data"
    },
    {
     "data": {
      "text/html": [
       "<pre style=\"white-space:pre;overflow-x:auto;line-height:normal;font-family:Menlo,'DejaVu Sans Mono',consolas,'Courier New',monospace\">Reward variance in batch: 0.0000\n",
       "</pre>\n"
      ],
      "text/plain": [
       "Reward variance in batch: 0.0000\n"
      ]
     },
     "metadata": {},
     "output_type": "display_data"
    },
    {
     "data": {
      "text/html": [
       "<pre style=\"white-space:pre;overflow-x:auto;line-height:normal;font-family:Menlo,'DejaVu Sans Mono',consolas,'Courier New',monospace\">Trained DQN model with loss: 102.2674\n",
       "</pre>\n"
      ],
      "text/plain": [
       "Trained DQN model with loss: 102.2674\n"
      ]
     },
     "metadata": {},
     "output_type": "display_data"
    },
    {
     "data": {
      "text/html": [
       "<pre style=\"white-space:pre;overflow-x:auto;line-height:normal;font-family:Menlo,'DejaVu Sans Mono',consolas,'Courier New',monospace\">Avg pred: -0.1176, Avg target: 9.9931\n",
       "</pre>\n"
      ],
      "text/plain": [
       "Avg pred: -0.1176, Avg target: 9.9931\n"
      ]
     },
     "metadata": {},
     "output_type": "display_data"
    },
    {
     "data": {
      "text/html": [
       "<pre style=\"white-space:pre;overflow-x:auto;line-height:normal;font-family:Menlo,'DejaVu Sans Mono',consolas,'Courier New',monospace\">Cleared replay buffer to refresh training examples.\n",
       "</pre>\n"
      ],
      "text/plain": [
       "Cleared replay buffer to refresh training examples.\n"
      ]
     },
     "metadata": {},
     "output_type": "display_data"
    },
    {
     "data": {
      "text/html": [
       "<pre style=\"white-space:pre;overflow-x:auto;line-height:normal;font-family:Menlo,'DejaVu Sans Mono',consolas,'Courier New',monospace\">Reward variance in batch: 0.0000\n",
       "</pre>\n"
      ],
      "text/plain": [
       "Reward variance in batch: 0.0000\n"
      ]
     },
     "metadata": {},
     "output_type": "display_data"
    },
    {
     "data": {
      "text/html": [
       "<pre style=\"white-space:pre;overflow-x:auto;line-height:normal;font-family:Menlo,'DejaVu Sans Mono',consolas,'Courier New',monospace\">Trained DQN model with loss: 102.3445\n",
       "</pre>\n"
      ],
      "text/plain": [
       "Trained DQN model with loss: 102.3445\n"
      ]
     },
     "metadata": {},
     "output_type": "display_data"
    },
    {
     "data": {
      "text/html": [
       "<pre style=\"white-space:pre;overflow-x:auto;line-height:normal;font-family:Menlo,'DejaVu Sans Mono',consolas,'Courier New',monospace\">Avg pred: -0.1397, Avg target: 9.9746\n",
       "</pre>\n"
      ],
      "text/plain": [
       "Avg pred: -0.1397, Avg target: 9.9746\n"
      ]
     },
     "metadata": {},
     "output_type": "display_data"
    },
    {
     "data": {
      "text/html": [
       "<pre style=\"white-space:pre;overflow-x:auto;line-height:normal;font-family:Menlo,'DejaVu Sans Mono',consolas,'Courier New',monospace\">Cleared replay buffer to refresh training examples.\n",
       "</pre>\n"
      ],
      "text/plain": [
       "Cleared replay buffer to refresh training examples.\n"
      ]
     },
     "metadata": {},
     "output_type": "display_data"
    },
    {
     "data": {
      "text/html": [
       "<pre style=\"white-space:pre;overflow-x:auto;line-height:normal;font-family:Menlo,'DejaVu Sans Mono',consolas,'Courier New',monospace\">Reward variance in batch: 0.0000\n",
       "</pre>\n"
      ],
      "text/plain": [
       "Reward variance in batch: 0.0000\n"
      ]
     },
     "metadata": {},
     "output_type": "display_data"
    },
    {
     "data": {
      "text/html": [
       "<pre style=\"white-space:pre;overflow-x:auto;line-height:normal;font-family:Menlo,'DejaVu Sans Mono',consolas,'Courier New',monospace\">Trained DQN model with loss: 102.4020\n",
       "</pre>\n"
      ],
      "text/plain": [
       "Trained DQN model with loss: 102.4020\n"
      ]
     },
     "metadata": {},
     "output_type": "display_data"
    },
    {
     "data": {
      "text/html": [
       "<pre style=\"white-space:pre;overflow-x:auto;line-height:normal;font-family:Menlo,'DejaVu Sans Mono',consolas,'Courier New',monospace\">Avg pred: -0.1399, Avg target: 9.9769\n",
       "</pre>\n"
      ],
      "text/plain": [
       "Avg pred: -0.1399, Avg target: 9.9769\n"
      ]
     },
     "metadata": {},
     "output_type": "display_data"
    },
    {
     "data": {
      "text/html": [
       "<pre style=\"white-space:pre;overflow-x:auto;line-height:normal;font-family:Menlo,'DejaVu Sans Mono',consolas,'Courier New',monospace\"></pre>\n"
      ],
      "text/plain": []
     },
     "metadata": {},
     "output_type": "display_data"
    },
    {
     "data": {
      "text/html": [
       "<pre style=\"white-space:pre;overflow-x:auto;line-height:normal;font-family:Menlo,'DejaVu Sans Mono',consolas,'Courier New',monospace\">\n",
       "</pre>\n"
      ],
      "text/plain": [
       "\n"
      ]
     },
     "metadata": {},
     "output_type": "display_data"
    },
    {
     "data": {
      "text/html": [
       "<pre style=\"white-space:pre;overflow-x:auto;line-height:normal;font-family:Menlo,'DejaVu Sans Mono',consolas,'Courier New',monospace\"><span style=\"font-style: italic\">                                      Last 10 Games                                      </span>\n",
       "     ╷                       ╷       ╷         ╷        ╷           ╷          ╷         \n",
       " <span style=\"font-weight: bold\">  # </span>│<span style=\"font-weight: bold\"> SEATING               </span>│<span style=\"font-weight: bold\"> TURNS </span>│<span style=\"font-weight: bold\"> BLUE VP </span>│<span style=\"font-weight: bold\"> RED VP </span>│<span style=\"font-weight: bold\"> ORANGE VP </span>│<span style=\"font-weight: bold\"> WHITE VP </span>│<span style=\"font-weight: bold\"> WINNER </span> \n",
       "╶────┼───────────────────────┼───────┼─────────┼────────┼───────────┼──────────┼────────╴\n",
       "   1 │ <span style=\"color: #000080; text-decoration-color: #000080\">BLUE</span>,<span style=\"color: #808000; text-decoration-color: #808000\">ORANGE</span>,<span style=\"color: #c0c0c0; text-decoration-color: #c0c0c0\">WHITE</span>,<span style=\"color: #800000; text-decoration-color: #800000\">RED</span> │   173 │       2 │     10 │         3 │        2 │ <span style=\"color: #800000; text-decoration-color: #800000\">RED</span>     \n",
       "   2 │ <span style=\"color: #000080; text-decoration-color: #000080\">BLUE</span>,<span style=\"color: #808000; text-decoration-color: #808000\">ORANGE</span>,<span style=\"color: #800000; text-decoration-color: #800000\">RED</span>,<span style=\"color: #c0c0c0; text-decoration-color: #c0c0c0\">WHITE</span> │   279 │       8 │      9 │        10 │        3 │ <span style=\"color: #808000; text-decoration-color: #808000\">ORANGE</span>  \n",
       "   3 │ <span style=\"color: #808000; text-decoration-color: #808000\">ORANGE</span>,<span style=\"color: #800000; text-decoration-color: #800000\">RED</span>,<span style=\"color: #000080; text-decoration-color: #000080\">BLUE</span>,<span style=\"color: #c0c0c0; text-decoration-color: #c0c0c0\">WHITE</span> │   157 │       2 │      2 │         2 │       10 │ <span style=\"color: #c0c0c0; text-decoration-color: #c0c0c0\">WHITE</span>   \n",
       "   4 │ <span style=\"color: #808000; text-decoration-color: #808000\">ORANGE</span>,<span style=\"color: #c0c0c0; text-decoration-color: #c0c0c0\">WHITE</span>,<span style=\"color: #000080; text-decoration-color: #000080\">BLUE</span>,<span style=\"color: #800000; text-decoration-color: #800000\">RED</span> │   514 │       2 │      3 │        10 │        7 │ <span style=\"color: #808000; text-decoration-color: #808000\">ORANGE</span>  \n",
       "   5 │ <span style=\"color: #808000; text-decoration-color: #808000\">ORANGE</span>,<span style=\"color: #800000; text-decoration-color: #800000\">RED</span>,<span style=\"color: #c0c0c0; text-decoration-color: #c0c0c0\">WHITE</span>,<span style=\"color: #000080; text-decoration-color: #000080\">BLUE</span> │   397 │      10 │      2 │         3 │        5 │ <span style=\"color: #000080; text-decoration-color: #000080\">BLUE</span>    \n",
       "   6 │ <span style=\"color: #000080; text-decoration-color: #000080\">BLUE</span>,<span style=\"color: #808000; text-decoration-color: #808000\">ORANGE</span>,<span style=\"color: #800000; text-decoration-color: #800000\">RED</span>,<span style=\"color: #c0c0c0; text-decoration-color: #c0c0c0\">WHITE</span> │   342 │      10 │      2 │         7 │        6 │ <span style=\"color: #000080; text-decoration-color: #000080\">BLUE</span>    \n",
       "   7 │ <span style=\"color: #c0c0c0; text-decoration-color: #c0c0c0\">WHITE</span>,<span style=\"color: #808000; text-decoration-color: #808000\">ORANGE</span>,<span style=\"color: #800000; text-decoration-color: #800000\">RED</span>,<span style=\"color: #000080; text-decoration-color: #000080\">BLUE</span> │   613 │      10 │      2 │         6 │        4 │ <span style=\"color: #000080; text-decoration-color: #000080\">BLUE</span>    \n",
       "   8 │ <span style=\"color: #800000; text-decoration-color: #800000\">RED</span>,<span style=\"color: #808000; text-decoration-color: #808000\">ORANGE</span>,<span style=\"color: #c0c0c0; text-decoration-color: #c0c0c0\">WHITE</span>,<span style=\"color: #000080; text-decoration-color: #000080\">BLUE</span> │   291 │       5 │      2 │        10 │        2 │ <span style=\"color: #808000; text-decoration-color: #808000\">ORANGE</span>  \n",
       "   9 │ <span style=\"color: #800000; text-decoration-color: #800000\">RED</span>,<span style=\"color: #000080; text-decoration-color: #000080\">BLUE</span>,<span style=\"color: #c0c0c0; text-decoration-color: #c0c0c0\">WHITE</span>,<span style=\"color: #808000; text-decoration-color: #808000\">ORANGE</span> │   523 │      10 │      2 │         9 │        9 │ <span style=\"color: #000080; text-decoration-color: #000080\">BLUE</span>    \n",
       "  10 │ <span style=\"color: #c0c0c0; text-decoration-color: #c0c0c0\">WHITE</span>,<span style=\"color: #800000; text-decoration-color: #800000\">RED</span>,<span style=\"color: #000080; text-decoration-color: #000080\">BLUE</span>,<span style=\"color: #808000; text-decoration-color: #808000\">ORANGE</span> │   554 │       6 │      2 │         4 │       10 │ <span style=\"color: #c0c0c0; text-decoration-color: #c0c0c0\">WHITE</span>   \n",
       "     ╵                       ╵       ╵         ╵        ╵           ╵          ╵         \n",
       "</pre>\n"
      ],
      "text/plain": [
       "\u001b[3m                                      Last 10 Games                                      \u001b[0m\n",
       "     ╷                       ╷       ╷         ╷        ╷           ╷          ╷         \n",
       " \u001b[1m \u001b[0m\u001b[1m #\u001b[0m\u001b[1m \u001b[0m│\u001b[1m \u001b[0m\u001b[1mSEATING              \u001b[0m\u001b[1m \u001b[0m│\u001b[1m \u001b[0m\u001b[1mTURNS\u001b[0m\u001b[1m \u001b[0m│\u001b[1m \u001b[0m\u001b[1mBLUE VP\u001b[0m\u001b[1m \u001b[0m│\u001b[1m \u001b[0m\u001b[1mRED VP\u001b[0m\u001b[1m \u001b[0m│\u001b[1m \u001b[0m\u001b[1mORANGE VP\u001b[0m\u001b[1m \u001b[0m│\u001b[1m \u001b[0m\u001b[1mWHITE VP\u001b[0m\u001b[1m \u001b[0m│\u001b[1m \u001b[0m\u001b[1mWINNER\u001b[0m\u001b[1m \u001b[0m \n",
       "╶────┼───────────────────────┼───────┼─────────┼────────┼───────────┼──────────┼────────╴\n",
       "   1 │ \u001b[34mBLUE\u001b[0m,\u001b[33mORANGE\u001b[0m,\u001b[37mWHITE\u001b[0m,\u001b[31mRED\u001b[0m │   173 │       2 │     10 │         3 │        2 │ \u001b[31mRED\u001b[0m     \n",
       "   2 │ \u001b[34mBLUE\u001b[0m,\u001b[33mORANGE\u001b[0m,\u001b[31mRED\u001b[0m,\u001b[37mWHITE\u001b[0m │   279 │       8 │      9 │        10 │        3 │ \u001b[33mORANGE\u001b[0m  \n",
       "   3 │ \u001b[33mORANGE\u001b[0m,\u001b[31mRED\u001b[0m,\u001b[34mBLUE\u001b[0m,\u001b[37mWHITE\u001b[0m │   157 │       2 │      2 │         2 │       10 │ \u001b[37mWHITE\u001b[0m   \n",
       "   4 │ \u001b[33mORANGE\u001b[0m,\u001b[37mWHITE\u001b[0m,\u001b[34mBLUE\u001b[0m,\u001b[31mRED\u001b[0m │   514 │       2 │      3 │        10 │        7 │ \u001b[33mORANGE\u001b[0m  \n",
       "   5 │ \u001b[33mORANGE\u001b[0m,\u001b[31mRED\u001b[0m,\u001b[37mWHITE\u001b[0m,\u001b[34mBLUE\u001b[0m │   397 │      10 │      2 │         3 │        5 │ \u001b[34mBLUE\u001b[0m    \n",
       "   6 │ \u001b[34mBLUE\u001b[0m,\u001b[33mORANGE\u001b[0m,\u001b[31mRED\u001b[0m,\u001b[37mWHITE\u001b[0m │   342 │      10 │      2 │         7 │        6 │ \u001b[34mBLUE\u001b[0m    \n",
       "   7 │ \u001b[37mWHITE\u001b[0m,\u001b[33mORANGE\u001b[0m,\u001b[31mRED\u001b[0m,\u001b[34mBLUE\u001b[0m │   613 │      10 │      2 │         6 │        4 │ \u001b[34mBLUE\u001b[0m    \n",
       "   8 │ \u001b[31mRED\u001b[0m,\u001b[33mORANGE\u001b[0m,\u001b[37mWHITE\u001b[0m,\u001b[34mBLUE\u001b[0m │   291 │       5 │      2 │        10 │        2 │ \u001b[33mORANGE\u001b[0m  \n",
       "   9 │ \u001b[31mRED\u001b[0m,\u001b[34mBLUE\u001b[0m,\u001b[37mWHITE\u001b[0m,\u001b[33mORANGE\u001b[0m │   523 │      10 │      2 │         9 │        9 │ \u001b[34mBLUE\u001b[0m    \n",
       "  10 │ \u001b[37mWHITE\u001b[0m,\u001b[31mRED\u001b[0m,\u001b[34mBLUE\u001b[0m,\u001b[33mORANGE\u001b[0m │   554 │       6 │      2 │         4 │       10 │ \u001b[37mWHITE\u001b[0m   \n",
       "     ╵                       ╵       ╵         ╵        ╵           ╵          ╵         \n"
      ]
     },
     "metadata": {},
     "output_type": "display_data"
    },
    {
     "data": {
      "text/html": [
       "<pre style=\"white-space:pre;overflow-x:auto;line-height:normal;font-family:Menlo,'DejaVu Sans Mono',consolas,'Courier New',monospace\"><span style=\"font-style: italic\">                                           Player Summary                                            </span>\n",
       "                      ╷      ╷        ╷             ╷            ╷          ╷          ╷             \n",
       " <span style=\"font-weight: bold\">                     </span>│<span style=\"font-weight: bold\"> WINS </span>│<span style=\"font-weight: bold\"> AVG VP </span>│<span style=\"font-weight: bold\"> AVG SETTLES </span>│<span style=\"font-weight: bold\"> AVG CITIES </span>│<span style=\"font-weight: bold\"> AVG ROAD </span>│<span style=\"font-weight: bold\"> AVG ARMY </span>│<span style=\"font-weight: bold\"> AVG DEV VP </span> \n",
       "╶─────────────────────┼──────┼────────┼─────────────┼────────────┼──────────┼──────────┼────────────╴\n",
       "  <span style=\"color: #000080; text-decoration-color: #000080\">RandomPlayer:BLUE</span>   │    4 │   6.50 │        2.50 │       1.10 │     0.10 │     0.20 │       1.20  \n",
       "  <span style=\"color: #800000; text-decoration-color: #800000\">AB_DQNPlayer_1:RED</span>  │    1 │   3.60 │        2.10 │       0.30 │     0.20 │     0.10 │       0.30  \n",
       "  <span style=\"color: #808000; text-decoration-color: #808000\">RandomPlayer:ORANGE</span> │    3 │   6.40 │        2.30 │       0.90 │     0.40 │     0.10 │       1.30  \n",
       "  <span style=\"color: #c0c0c0; text-decoration-color: #c0c0c0\">RandomPlayer:WHITE</span>  │    2 │   5.80 │        2.10 │       0.30 │     0.30 │     0.50 │       1.50  \n",
       "                      ╵      ╵        ╵             ╵            ╵          ╵          ╵             \n",
       "</pre>\n"
      ],
      "text/plain": [
       "\u001b[3m                                           Player Summary                                            \u001b[0m\n",
       "                      ╷      ╷        ╷             ╷            ╷          ╷          ╷             \n",
       " \u001b[1m \u001b[0m\u001b[1m                   \u001b[0m\u001b[1m \u001b[0m│\u001b[1m \u001b[0m\u001b[1mWINS\u001b[0m\u001b[1m \u001b[0m│\u001b[1m \u001b[0m\u001b[1mAVG VP\u001b[0m\u001b[1m \u001b[0m│\u001b[1m \u001b[0m\u001b[1mAVG SETTLES\u001b[0m\u001b[1m \u001b[0m│\u001b[1m \u001b[0m\u001b[1mAVG CITIES\u001b[0m\u001b[1m \u001b[0m│\u001b[1m \u001b[0m\u001b[1mAVG ROAD\u001b[0m\u001b[1m \u001b[0m│\u001b[1m \u001b[0m\u001b[1mAVG ARMY\u001b[0m\u001b[1m \u001b[0m│\u001b[1m \u001b[0m\u001b[1mAVG DEV VP\u001b[0m\u001b[1m \u001b[0m \n",
       "╶─────────────────────┼──────┼────────┼─────────────┼────────────┼──────────┼──────────┼────────────╴\n",
       "  \u001b[34mRandomPlayer:BLUE\u001b[0m   │    4 │   6.50 │        2.50 │       1.10 │     0.10 │     0.20 │       1.20  \n",
       "  \u001b[31mAB_DQNPlayer_1:RED\u001b[0m  │    1 │   3.60 │        2.10 │       0.30 │     0.20 │     0.10 │       0.30  \n",
       "  \u001b[33mRandomPlayer:ORANGE\u001b[0m │    3 │   6.40 │        2.30 │       0.90 │     0.40 │     0.10 │       1.30  \n",
       "  \u001b[37mRandomPlayer:WHITE\u001b[0m  │    2 │   5.80 │        2.10 │       0.30 │     0.30 │     0.50 │       1.50  \n",
       "                      ╵      ╵        ╵             ╵            ╵          ╵          ╵             \n"
      ]
     },
     "metadata": {},
     "output_type": "display_data"
    },
    {
     "data": {
      "text/html": [
       "<pre style=\"white-space:pre;overflow-x:auto;line-height:normal;font-family:Menlo,'DejaVu Sans Mono',consolas,'Courier New',monospace\"><span style=\"font-style: italic\">              Game Summary              </span>\n",
       "            ╷           ╷               \n",
       " <span style=\"font-weight: bold\"> AVG TICKS </span>│<span style=\"font-weight: bold\"> AVG TURNS </span>│<span style=\"font-weight: bold\"> AVG DURATION </span> \n",
       "╶───────────┼───────────┼──────────────╴\n",
       "    1073.70 │    384.30 │  21.845 secs  \n",
       "            ╵           ╵               \n",
       "</pre>\n"
      ],
      "text/plain": [
       "\u001b[3m              Game Summary              \u001b[0m\n",
       "            ╷           ╷               \n",
       " \u001b[1m \u001b[0m\u001b[1mAVG TICKS\u001b[0m\u001b[1m \u001b[0m│\u001b[1m \u001b[0m\u001b[1mAVG TURNS\u001b[0m\u001b[1m \u001b[0m│\u001b[1m \u001b[0m\u001b[1mAVG DURATION\u001b[0m\u001b[1m \u001b[0m \n",
       "╶───────────┼───────────┼──────────────╴\n",
       "    1073.70 │    384.30 │  21.845 secs  \n",
       "            ╵           ╵               \n"
      ]
     },
     "metadata": {},
     "output_type": "display_data"
    },
    {
     "name": "stdout",
     "output_type": "stream",
     "text": [
      "Loaded replay buffer with 304 transitions\n",
      "atch 14/50: Playing 10 games\n"
     ]
    },
    {
     "data": {
      "text/html": [
       "<pre style=\"white-space:pre;overflow-x:auto;line-height:normal;font-family:Menlo,'DejaVu Sans Mono',consolas,'Courier New',monospace\">Cleared replay buffer to refresh training examples.\n",
       "</pre>\n"
      ],
      "text/plain": [
       "Cleared replay buffer to refresh training examples.\n"
      ]
     },
     "metadata": {},
     "output_type": "display_data"
    },
    {
     "data": {
      "text/html": [
       "<pre style=\"white-space:pre;overflow-x:auto;line-height:normal;font-family:Menlo,'DejaVu Sans Mono',consolas,'Courier New',monospace\">Reward variance in batch: 0.0000\n",
       "</pre>\n"
      ],
      "text/plain": [
       "Reward variance in batch: 0.0000\n"
      ]
     },
     "metadata": {},
     "output_type": "display_data"
    },
    {
     "data": {
      "text/html": [
       "<pre style=\"white-space:pre;overflow-x:auto;line-height:normal;font-family:Menlo,'DejaVu Sans Mono',consolas,'Courier New',monospace\">Trained DQN model with loss: 99.2907\n",
       "</pre>\n"
      ],
      "text/plain": [
       "Trained DQN model with loss: 99.2907\n"
      ]
     },
     "metadata": {},
     "output_type": "display_data"
    },
    {
     "data": {
      "text/html": [
       "<pre style=\"white-space:pre;overflow-x:auto;line-height:normal;font-family:Menlo,'DejaVu Sans Mono',consolas,'Courier New',monospace\">Avg pred: -0.0938, Avg target: 9.8625\n",
       "</pre>\n"
      ],
      "text/plain": [
       "Avg pred: -0.0938, Avg target: 9.8625\n"
      ]
     },
     "metadata": {},
     "output_type": "display_data"
    },
    {
     "data": {
      "text/html": [
       "<pre style=\"white-space:pre;overflow-x:auto;line-height:normal;font-family:Menlo,'DejaVu Sans Mono',consolas,'Courier New',monospace\">Cleared replay buffer to refresh training examples.\n",
       "</pre>\n"
      ],
      "text/plain": [
       "Cleared replay buffer to refresh training examples.\n"
      ]
     },
     "metadata": {},
     "output_type": "display_data"
    },
    {
     "data": {
      "text/html": [
       "<pre style=\"white-space:pre;overflow-x:auto;line-height:normal;font-family:Menlo,'DejaVu Sans Mono',consolas,'Courier New',monospace\">Reward variance in batch: 0.0000\n",
       "</pre>\n"
      ],
      "text/plain": [
       "Reward variance in batch: 0.0000\n"
      ]
     },
     "metadata": {},
     "output_type": "display_data"
    },
    {
     "data": {
      "text/html": [
       "<pre style=\"white-space:pre;overflow-x:auto;line-height:normal;font-family:Menlo,'DejaVu Sans Mono',consolas,'Courier New',monospace\">Trained DQN model with loss: 102.6932\n",
       "</pre>\n"
      ],
      "text/plain": [
       "Trained DQN model with loss: 102.6932\n"
      ]
     },
     "metadata": {},
     "output_type": "display_data"
    },
    {
     "data": {
      "text/html": [
       "<pre style=\"white-space:pre;overflow-x:auto;line-height:normal;font-family:Menlo,'DejaVu Sans Mono',consolas,'Courier New',monospace\">Avg pred: -0.1419, Avg target: 9.9905\n",
       "</pre>\n"
      ],
      "text/plain": [
       "Avg pred: -0.1419, Avg target: 9.9905\n"
      ]
     },
     "metadata": {},
     "output_type": "display_data"
    },
    {
     "data": {
      "text/html": [
       "<pre style=\"white-space:pre;overflow-x:auto;line-height:normal;font-family:Menlo,'DejaVu Sans Mono',consolas,'Courier New',monospace\"></pre>\n"
      ],
      "text/plain": []
     },
     "metadata": {},
     "output_type": "display_data"
    },
    {
     "data": {
      "text/html": [
       "<pre style=\"white-space:pre;overflow-x:auto;line-height:normal;font-family:Menlo,'DejaVu Sans Mono',consolas,'Courier New',monospace\">\n",
       "</pre>\n"
      ],
      "text/plain": [
       "\n"
      ]
     },
     "metadata": {},
     "output_type": "display_data"
    },
    {
     "data": {
      "text/html": [
       "<pre style=\"white-space:pre;overflow-x:auto;line-height:normal;font-family:Menlo,'DejaVu Sans Mono',consolas,'Courier New',monospace\"><span style=\"font-style: italic\">                                      Last 10 Games                                      </span>\n",
       "     ╷                       ╷       ╷         ╷        ╷           ╷          ╷         \n",
       " <span style=\"font-weight: bold\">  # </span>│<span style=\"font-weight: bold\"> SEATING               </span>│<span style=\"font-weight: bold\"> TURNS </span>│<span style=\"font-weight: bold\"> BLUE VP </span>│<span style=\"font-weight: bold\"> RED VP </span>│<span style=\"font-weight: bold\"> ORANGE VP </span>│<span style=\"font-weight: bold\"> WHITE VP </span>│<span style=\"font-weight: bold\"> WINNER </span> \n",
       "╶────┼───────────────────────┼───────┼─────────┼────────┼───────────┼──────────┼────────╴\n",
       "   1 │ <span style=\"color: #800000; text-decoration-color: #800000\">RED</span>,<span style=\"color: #c0c0c0; text-decoration-color: #c0c0c0\">WHITE</span>,<span style=\"color: #808000; text-decoration-color: #808000\">ORANGE</span>,<span style=\"color: #000080; text-decoration-color: #000080\">BLUE</span> │   165 │      10 │      4 │         3 │        4 │ <span style=\"color: #000080; text-decoration-color: #000080\">BLUE</span>    \n",
       "   2 │ <span style=\"color: #000080; text-decoration-color: #000080\">BLUE</span>,<span style=\"color: #808000; text-decoration-color: #808000\">ORANGE</span>,<span style=\"color: #c0c0c0; text-decoration-color: #c0c0c0\">WHITE</span>,<span style=\"color: #800000; text-decoration-color: #800000\">RED</span> │   251 │       5 │      7 │        11 │        3 │ <span style=\"color: #808000; text-decoration-color: #808000\">ORANGE</span>  \n",
       "   3 │ <span style=\"color: #800000; text-decoration-color: #800000\">RED</span>,<span style=\"color: #808000; text-decoration-color: #808000\">ORANGE</span>,<span style=\"color: #000080; text-decoration-color: #000080\">BLUE</span>,<span style=\"color: #c0c0c0; text-decoration-color: #c0c0c0\">WHITE</span> │   447 │       2 │      6 │        10 │        5 │ <span style=\"color: #808000; text-decoration-color: #808000\">ORANGE</span>  \n",
       "   4 │ <span style=\"color: #808000; text-decoration-color: #808000\">ORANGE</span>,<span style=\"color: #800000; text-decoration-color: #800000\">RED</span>,<span style=\"color: #000080; text-decoration-color: #000080\">BLUE</span>,<span style=\"color: #c0c0c0; text-decoration-color: #c0c0c0\">WHITE</span> │   256 │      10 │      3 │         4 │        3 │ <span style=\"color: #000080; text-decoration-color: #000080\">BLUE</span>    \n",
       "   5 │ <span style=\"color: #c0c0c0; text-decoration-color: #c0c0c0\">WHITE</span>,<span style=\"color: #800000; text-decoration-color: #800000\">RED</span>,<span style=\"color: #000080; text-decoration-color: #000080\">BLUE</span>,<span style=\"color: #808000; text-decoration-color: #808000\">ORANGE</span> │   390 │       5 │      2 │         6 │       10 │ <span style=\"color: #c0c0c0; text-decoration-color: #c0c0c0\">WHITE</span>   \n",
       "   6 │ <span style=\"color: #800000; text-decoration-color: #800000\">RED</span>,<span style=\"color: #808000; text-decoration-color: #808000\">ORANGE</span>,<span style=\"color: #000080; text-decoration-color: #000080\">BLUE</span>,<span style=\"color: #c0c0c0; text-decoration-color: #c0c0c0\">WHITE</span> │   373 │       9 │      2 │         7 │       10 │ <span style=\"color: #c0c0c0; text-decoration-color: #c0c0c0\">WHITE</span>   \n",
       "   7 │ <span style=\"color: #800000; text-decoration-color: #800000\">RED</span>,<span style=\"color: #000080; text-decoration-color: #000080\">BLUE</span>,<span style=\"color: #c0c0c0; text-decoration-color: #c0c0c0\">WHITE</span>,<span style=\"color: #808000; text-decoration-color: #808000\">ORANGE</span> │   244 │       6 │      2 │         7 │       10 │ <span style=\"color: #c0c0c0; text-decoration-color: #c0c0c0\">WHITE</span>   \n",
       "   8 │ <span style=\"color: #808000; text-decoration-color: #808000\">ORANGE</span>,<span style=\"color: #c0c0c0; text-decoration-color: #c0c0c0\">WHITE</span>,<span style=\"color: #800000; text-decoration-color: #800000\">RED</span>,<span style=\"color: #000080; text-decoration-color: #000080\">BLUE</span> │   290 │       6 │      2 │        10 │        9 │ <span style=\"color: #808000; text-decoration-color: #808000\">ORANGE</span>  \n",
       "   9 │ <span style=\"color: #c0c0c0; text-decoration-color: #c0c0c0\">WHITE</span>,<span style=\"color: #800000; text-decoration-color: #800000\">RED</span>,<span style=\"color: #808000; text-decoration-color: #808000\">ORANGE</span>,<span style=\"color: #000080; text-decoration-color: #000080\">BLUE</span> │   312 │       6 │      2 │        10 │        6 │ <span style=\"color: #808000; text-decoration-color: #808000\">ORANGE</span>  \n",
       "  10 │ <span style=\"color: #c0c0c0; text-decoration-color: #c0c0c0\">WHITE</span>,<span style=\"color: #808000; text-decoration-color: #808000\">ORANGE</span>,<span style=\"color: #800000; text-decoration-color: #800000\">RED</span>,<span style=\"color: #000080; text-decoration-color: #000080\">BLUE</span> │   414 │       4 │      3 │         3 │       10 │ <span style=\"color: #c0c0c0; text-decoration-color: #c0c0c0\">WHITE</span>   \n",
       "     ╵                       ╵       ╵         ╵        ╵           ╵          ╵         \n",
       "</pre>\n"
      ],
      "text/plain": [
       "\u001b[3m                                      Last 10 Games                                      \u001b[0m\n",
       "     ╷                       ╷       ╷         ╷        ╷           ╷          ╷         \n",
       " \u001b[1m \u001b[0m\u001b[1m #\u001b[0m\u001b[1m \u001b[0m│\u001b[1m \u001b[0m\u001b[1mSEATING              \u001b[0m\u001b[1m \u001b[0m│\u001b[1m \u001b[0m\u001b[1mTURNS\u001b[0m\u001b[1m \u001b[0m│\u001b[1m \u001b[0m\u001b[1mBLUE VP\u001b[0m\u001b[1m \u001b[0m│\u001b[1m \u001b[0m\u001b[1mRED VP\u001b[0m\u001b[1m \u001b[0m│\u001b[1m \u001b[0m\u001b[1mORANGE VP\u001b[0m\u001b[1m \u001b[0m│\u001b[1m \u001b[0m\u001b[1mWHITE VP\u001b[0m\u001b[1m \u001b[0m│\u001b[1m \u001b[0m\u001b[1mWINNER\u001b[0m\u001b[1m \u001b[0m \n",
       "╶────┼───────────────────────┼───────┼─────────┼────────┼───────────┼──────────┼────────╴\n",
       "   1 │ \u001b[31mRED\u001b[0m,\u001b[37mWHITE\u001b[0m,\u001b[33mORANGE\u001b[0m,\u001b[34mBLUE\u001b[0m │   165 │      10 │      4 │         3 │        4 │ \u001b[34mBLUE\u001b[0m    \n",
       "   2 │ \u001b[34mBLUE\u001b[0m,\u001b[33mORANGE\u001b[0m,\u001b[37mWHITE\u001b[0m,\u001b[31mRED\u001b[0m │   251 │       5 │      7 │        11 │        3 │ \u001b[33mORANGE\u001b[0m  \n",
       "   3 │ \u001b[31mRED\u001b[0m,\u001b[33mORANGE\u001b[0m,\u001b[34mBLUE\u001b[0m,\u001b[37mWHITE\u001b[0m │   447 │       2 │      6 │        10 │        5 │ \u001b[33mORANGE\u001b[0m  \n",
       "   4 │ \u001b[33mORANGE\u001b[0m,\u001b[31mRED\u001b[0m,\u001b[34mBLUE\u001b[0m,\u001b[37mWHITE\u001b[0m │   256 │      10 │      3 │         4 │        3 │ \u001b[34mBLUE\u001b[0m    \n",
       "   5 │ \u001b[37mWHITE\u001b[0m,\u001b[31mRED\u001b[0m,\u001b[34mBLUE\u001b[0m,\u001b[33mORANGE\u001b[0m │   390 │       5 │      2 │         6 │       10 │ \u001b[37mWHITE\u001b[0m   \n",
       "   6 │ \u001b[31mRED\u001b[0m,\u001b[33mORANGE\u001b[0m,\u001b[34mBLUE\u001b[0m,\u001b[37mWHITE\u001b[0m │   373 │       9 │      2 │         7 │       10 │ \u001b[37mWHITE\u001b[0m   \n",
       "   7 │ \u001b[31mRED\u001b[0m,\u001b[34mBLUE\u001b[0m,\u001b[37mWHITE\u001b[0m,\u001b[33mORANGE\u001b[0m │   244 │       6 │      2 │         7 │       10 │ \u001b[37mWHITE\u001b[0m   \n",
       "   8 │ \u001b[33mORANGE\u001b[0m,\u001b[37mWHITE\u001b[0m,\u001b[31mRED\u001b[0m,\u001b[34mBLUE\u001b[0m │   290 │       6 │      2 │        10 │        9 │ \u001b[33mORANGE\u001b[0m  \n",
       "   9 │ \u001b[37mWHITE\u001b[0m,\u001b[31mRED\u001b[0m,\u001b[33mORANGE\u001b[0m,\u001b[34mBLUE\u001b[0m │   312 │       6 │      2 │        10 │        6 │ \u001b[33mORANGE\u001b[0m  \n",
       "  10 │ \u001b[37mWHITE\u001b[0m,\u001b[33mORANGE\u001b[0m,\u001b[31mRED\u001b[0m,\u001b[34mBLUE\u001b[0m │   414 │       4 │      3 │         3 │       10 │ \u001b[37mWHITE\u001b[0m   \n",
       "     ╵                       ╵       ╵         ╵        ╵           ╵          ╵         \n"
      ]
     },
     "metadata": {},
     "output_type": "display_data"
    },
    {
     "data": {
      "text/html": [
       "<pre style=\"white-space:pre;overflow-x:auto;line-height:normal;font-family:Menlo,'DejaVu Sans Mono',consolas,'Courier New',monospace\"><span style=\"font-style: italic\">                                           Player Summary                                            </span>\n",
       "                      ╷      ╷        ╷             ╷            ╷          ╷          ╷             \n",
       " <span style=\"font-weight: bold\">                     </span>│<span style=\"font-weight: bold\"> WINS </span>│<span style=\"font-weight: bold\"> AVG VP </span>│<span style=\"font-weight: bold\"> AVG SETTLES </span>│<span style=\"font-weight: bold\"> AVG CITIES </span>│<span style=\"font-weight: bold\"> AVG ROAD </span>│<span style=\"font-weight: bold\"> AVG ARMY </span>│<span style=\"font-weight: bold\"> AVG DEV VP </span> \n",
       "╶─────────────────────┼──────┼────────┼─────────────┼────────────┼──────────┼──────────┼────────────╴\n",
       "  <span style=\"color: #000080; text-decoration-color: #000080\">RandomPlayer:BLUE</span>   │    2 │   6.30 │        2.10 │       1.00 │     0.20 │     0.20 │       1.40  \n",
       "  <span style=\"color: #800000; text-decoration-color: #800000\">AB_DQNPlayer_1:RED</span>  │    0 │   3.30 │        1.60 │       0.60 │     0.10 │     0.10 │       0.10  \n",
       "  <span style=\"color: #808000; text-decoration-color: #808000\">RandomPlayer:ORANGE</span> │    4 │   7.10 │        3.00 │       0.70 │     0.20 │     0.40 │       1.50  \n",
       "  <span style=\"color: #c0c0c0; text-decoration-color: #c0c0c0\">RandomPlayer:WHITE</span>  │    4 │   7.00 │        2.40 │       1.10 │     0.50 │     0.20 │       1.00  \n",
       "                      ╵      ╵        ╵             ╵            ╵          ╵          ╵             \n",
       "</pre>\n"
      ],
      "text/plain": [
       "\u001b[3m                                           Player Summary                                            \u001b[0m\n",
       "                      ╷      ╷        ╷             ╷            ╷          ╷          ╷             \n",
       " \u001b[1m \u001b[0m\u001b[1m                   \u001b[0m\u001b[1m \u001b[0m│\u001b[1m \u001b[0m\u001b[1mWINS\u001b[0m\u001b[1m \u001b[0m│\u001b[1m \u001b[0m\u001b[1mAVG VP\u001b[0m\u001b[1m \u001b[0m│\u001b[1m \u001b[0m\u001b[1mAVG SETTLES\u001b[0m\u001b[1m \u001b[0m│\u001b[1m \u001b[0m\u001b[1mAVG CITIES\u001b[0m\u001b[1m \u001b[0m│\u001b[1m \u001b[0m\u001b[1mAVG ROAD\u001b[0m\u001b[1m \u001b[0m│\u001b[1m \u001b[0m\u001b[1mAVG ARMY\u001b[0m\u001b[1m \u001b[0m│\u001b[1m \u001b[0m\u001b[1mAVG DEV VP\u001b[0m\u001b[1m \u001b[0m \n",
       "╶─────────────────────┼──────┼────────┼─────────────┼────────────┼──────────┼──────────┼────────────╴\n",
       "  \u001b[34mRandomPlayer:BLUE\u001b[0m   │    2 │   6.30 │        2.10 │       1.00 │     0.20 │     0.20 │       1.40  \n",
       "  \u001b[31mAB_DQNPlayer_1:RED\u001b[0m  │    0 │   3.30 │        1.60 │       0.60 │     0.10 │     0.10 │       0.10  \n",
       "  \u001b[33mRandomPlayer:ORANGE\u001b[0m │    4 │   7.10 │        3.00 │       0.70 │     0.20 │     0.40 │       1.50  \n",
       "  \u001b[37mRandomPlayer:WHITE\u001b[0m  │    4 │   7.00 │        2.40 │       1.10 │     0.50 │     0.20 │       1.00  \n",
       "                      ╵      ╵        ╵             ╵            ╵          ╵          ╵             \n"
      ]
     },
     "metadata": {},
     "output_type": "display_data"
    },
    {
     "data": {
      "text/html": [
       "<pre style=\"white-space:pre;overflow-x:auto;line-height:normal;font-family:Menlo,'DejaVu Sans Mono',consolas,'Courier New',monospace\"><span style=\"font-style: italic\">              Game Summary              </span>\n",
       "            ╷           ╷               \n",
       " <span style=\"font-weight: bold\"> AVG TICKS </span>│<span style=\"font-weight: bold\"> AVG TURNS </span>│<span style=\"font-weight: bold\"> AVG DURATION </span> \n",
       "╶───────────┼───────────┼──────────────╴\n",
       "     908.50 │    314.20 │  15.180 secs  \n",
       "            ╵           ╵               \n",
       "</pre>\n"
      ],
      "text/plain": [
       "\u001b[3m              Game Summary              \u001b[0m\n",
       "            ╷           ╷               \n",
       " \u001b[1m \u001b[0m\u001b[1mAVG TICKS\u001b[0m\u001b[1m \u001b[0m│\u001b[1m \u001b[0m\u001b[1mAVG TURNS\u001b[0m\u001b[1m \u001b[0m│\u001b[1m \u001b[0m\u001b[1mAVG DURATION\u001b[0m\u001b[1m \u001b[0m \n",
       "╶───────────┼───────────┼──────────────╴\n",
       "     908.50 │    314.20 │  15.180 secs  \n",
       "            ╵           ╵               \n"
      ]
     },
     "metadata": {},
     "output_type": "display_data"
    },
    {
     "name": "stdout",
     "output_type": "stream",
     "text": [
      "Loaded replay buffer with 3127 transitions\n",
      "atch 15/50: Playing 10 games\n"
     ]
    },
    {
     "data": {
      "text/html": [
       "<pre style=\"white-space:pre;overflow-x:auto;line-height:normal;font-family:Menlo,'DejaVu Sans Mono',consolas,'Courier New',monospace\">Cleared replay buffer to refresh training examples.\n",
       "</pre>\n"
      ],
      "text/plain": [
       "Cleared replay buffer to refresh training examples.\n"
      ]
     },
     "metadata": {},
     "output_type": "display_data"
    },
    {
     "data": {
      "text/html": [
       "<pre style=\"white-space:pre;overflow-x:auto;line-height:normal;font-family:Menlo,'DejaVu Sans Mono',consolas,'Courier New',monospace\">Reward variance in batch: 0.0000\n",
       "</pre>\n"
      ],
      "text/plain": [
       "Reward variance in batch: 0.0000\n"
      ]
     },
     "metadata": {},
     "output_type": "display_data"
    },
    {
     "data": {
      "text/html": [
       "<pre style=\"white-space:pre;overflow-x:auto;line-height:normal;font-family:Menlo,'DejaVu Sans Mono',consolas,'Courier New',monospace\">Trained DQN model with loss: 102.5713\n",
       "</pre>\n"
      ],
      "text/plain": [
       "Trained DQN model with loss: 102.5713\n"
      ]
     },
     "metadata": {},
     "output_type": "display_data"
    },
    {
     "data": {
      "text/html": [
       "<pre style=\"white-space:pre;overflow-x:auto;line-height:normal;font-family:Menlo,'DejaVu Sans Mono',consolas,'Courier New',monospace\">Avg pred: -0.1301, Avg target: 9.9958\n",
       "</pre>\n"
      ],
      "text/plain": [
       "Avg pred: -0.1301, Avg target: 9.9958\n"
      ]
     },
     "metadata": {},
     "output_type": "display_data"
    },
    {
     "data": {
      "text/html": [
       "<pre style=\"white-space:pre;overflow-x:auto;line-height:normal;font-family:Menlo,'DejaVu Sans Mono',consolas,'Courier New',monospace\">Cleared replay buffer to refresh training examples.\n",
       "</pre>\n"
      ],
      "text/plain": [
       "Cleared replay buffer to refresh training examples.\n"
      ]
     },
     "metadata": {},
     "output_type": "display_data"
    },
    {
     "data": {
      "text/html": [
       "<pre style=\"white-space:pre;overflow-x:auto;line-height:normal;font-family:Menlo,'DejaVu Sans Mono',consolas,'Courier New',monospace\">Reward variance in batch: 0.0000\n",
       "</pre>\n"
      ],
      "text/plain": [
       "Reward variance in batch: 0.0000\n"
      ]
     },
     "metadata": {},
     "output_type": "display_data"
    },
    {
     "data": {
      "text/html": [
       "<pre style=\"white-space:pre;overflow-x:auto;line-height:normal;font-family:Menlo,'DejaVu Sans Mono',consolas,'Courier New',monospace\">Trained DQN model with loss: 103.1554\n",
       "</pre>\n"
      ],
      "text/plain": [
       "Trained DQN model with loss: 103.1554\n"
      ]
     },
     "metadata": {},
     "output_type": "display_data"
    },
    {
     "data": {
      "text/html": [
       "<pre style=\"white-space:pre;overflow-x:auto;line-height:normal;font-family:Menlo,'DejaVu Sans Mono',consolas,'Courier New',monospace\">Avg pred: -0.1459, Avg target: 10.0083\n",
       "</pre>\n"
      ],
      "text/plain": [
       "Avg pred: -0.1459, Avg target: 10.0083\n"
      ]
     },
     "metadata": {},
     "output_type": "display_data"
    },
    {
     "data": {
      "text/html": [
       "<pre style=\"white-space:pre;overflow-x:auto;line-height:normal;font-family:Menlo,'DejaVu Sans Mono',consolas,'Courier New',monospace\"></pre>\n"
      ],
      "text/plain": []
     },
     "metadata": {},
     "output_type": "display_data"
    },
    {
     "data": {
      "text/html": [
       "<pre style=\"white-space:pre;overflow-x:auto;line-height:normal;font-family:Menlo,'DejaVu Sans Mono',consolas,'Courier New',monospace\">\n",
       "</pre>\n"
      ],
      "text/plain": [
       "\n"
      ]
     },
     "metadata": {},
     "output_type": "display_data"
    },
    {
     "data": {
      "text/html": [
       "<pre style=\"white-space:pre;overflow-x:auto;line-height:normal;font-family:Menlo,'DejaVu Sans Mono',consolas,'Courier New',monospace\"><span style=\"font-style: italic\">                                      Last 10 Games                                      </span>\n",
       "     ╷                       ╷       ╷          ╷         ╷           ╷        ╷         \n",
       " <span style=\"font-weight: bold\">  # </span>│<span style=\"font-weight: bold\"> SEATING               </span>│<span style=\"font-weight: bold\"> TURNS </span>│<span style=\"font-weight: bold\"> WHITE VP </span>│<span style=\"font-weight: bold\"> BLUE VP </span>│<span style=\"font-weight: bold\"> ORANGE VP </span>│<span style=\"font-weight: bold\"> RED VP </span>│<span style=\"font-weight: bold\"> WINNER </span> \n",
       "╶────┼───────────────────────┼───────┼──────────┼─────────┼───────────┼────────┼────────╴\n",
       "   1 │ <span style=\"color: #808000; text-decoration-color: #808000\">ORANGE</span>,<span style=\"color: #000080; text-decoration-color: #000080\">BLUE</span>,<span style=\"color: #c0c0c0; text-decoration-color: #c0c0c0\">WHITE</span>,<span style=\"color: #800000; text-decoration-color: #800000\">RED</span> │   186 │        4 │       3 │        10 │      2 │ <span style=\"color: #808000; text-decoration-color: #808000\">ORANGE</span>  \n",
       "   2 │ <span style=\"color: #800000; text-decoration-color: #800000\">RED</span>,<span style=\"color: #000080; text-decoration-color: #000080\">BLUE</span>,<span style=\"color: #c0c0c0; text-decoration-color: #c0c0c0\">WHITE</span>,<span style=\"color: #808000; text-decoration-color: #808000\">ORANGE</span> │   280 │       10 │       5 │         7 │      4 │ <span style=\"color: #c0c0c0; text-decoration-color: #c0c0c0\">WHITE</span>   \n",
       "   3 │ <span style=\"color: #000080; text-decoration-color: #000080\">BLUE</span>,<span style=\"color: #c0c0c0; text-decoration-color: #c0c0c0\">WHITE</span>,<span style=\"color: #808000; text-decoration-color: #808000\">ORANGE</span>,<span style=\"color: #800000; text-decoration-color: #800000\">RED</span> │   132 │        2 │       2 │        10 │      2 │ <span style=\"color: #808000; text-decoration-color: #808000\">ORANGE</span>  \n",
       "   4 │ <span style=\"color: #c0c0c0; text-decoration-color: #c0c0c0\">WHITE</span>,<span style=\"color: #808000; text-decoration-color: #808000\">ORANGE</span>,<span style=\"color: #800000; text-decoration-color: #800000\">RED</span>,<span style=\"color: #000080; text-decoration-color: #000080\">BLUE</span> │   171 │        5 │       3 │        10 │      2 │ <span style=\"color: #808000; text-decoration-color: #808000\">ORANGE</span>  \n",
       "   5 │ <span style=\"color: #c0c0c0; text-decoration-color: #c0c0c0\">WHITE</span>,<span style=\"color: #800000; text-decoration-color: #800000\">RED</span>,<span style=\"color: #000080; text-decoration-color: #000080\">BLUE</span>,<span style=\"color: #808000; text-decoration-color: #808000\">ORANGE</span> │   457 │        3 │       3 │        10 │      3 │ <span style=\"color: #808000; text-decoration-color: #808000\">ORANGE</span>  \n",
       "   6 │ <span style=\"color: #000080; text-decoration-color: #000080\">BLUE</span>,<span style=\"color: #808000; text-decoration-color: #808000\">ORANGE</span>,<span style=\"color: #c0c0c0; text-decoration-color: #c0c0c0\">WHITE</span>,<span style=\"color: #800000; text-decoration-color: #800000\">RED</span> │   554 │        3 │      10 │         8 │      2 │ <span style=\"color: #000080; text-decoration-color: #000080\">BLUE</span>    \n",
       "   7 │ <span style=\"color: #808000; text-decoration-color: #808000\">ORANGE</span>,<span style=\"color: #c0c0c0; text-decoration-color: #c0c0c0\">WHITE</span>,<span style=\"color: #800000; text-decoration-color: #800000\">RED</span>,<span style=\"color: #000080; text-decoration-color: #000080\">BLUE</span> │   199 │       10 │       2 │         5 │      2 │ <span style=\"color: #c0c0c0; text-decoration-color: #c0c0c0\">WHITE</span>   \n",
       "   8 │ <span style=\"color: #c0c0c0; text-decoration-color: #c0c0c0\">WHITE</span>,<span style=\"color: #800000; text-decoration-color: #800000\">RED</span>,<span style=\"color: #808000; text-decoration-color: #808000\">ORANGE</span>,<span style=\"color: #000080; text-decoration-color: #000080\">BLUE</span> │   484 │        6 │       3 │        10 │      2 │ <span style=\"color: #808000; text-decoration-color: #808000\">ORANGE</span>  \n",
       "   9 │ <span style=\"color: #000080; text-decoration-color: #000080\">BLUE</span>,<span style=\"color: #800000; text-decoration-color: #800000\">RED</span>,<span style=\"color: #808000; text-decoration-color: #808000\">ORANGE</span>,<span style=\"color: #c0c0c0; text-decoration-color: #c0c0c0\">WHITE</span> │   710 │        5 │      10 │         5 │      4 │ <span style=\"color: #000080; text-decoration-color: #000080\">BLUE</span>    \n",
       "  10 │ <span style=\"color: #000080; text-decoration-color: #000080\">BLUE</span>,<span style=\"color: #808000; text-decoration-color: #808000\">ORANGE</span>,<span style=\"color: #c0c0c0; text-decoration-color: #c0c0c0\">WHITE</span>,<span style=\"color: #800000; text-decoration-color: #800000\">RED</span> │   487 │        7 │       6 │        10 │      2 │ <span style=\"color: #808000; text-decoration-color: #808000\">ORANGE</span>  \n",
       "     ╵                       ╵       ╵          ╵         ╵           ╵        ╵         \n",
       "</pre>\n"
      ],
      "text/plain": [
       "\u001b[3m                                      Last 10 Games                                      \u001b[0m\n",
       "     ╷                       ╷       ╷          ╷         ╷           ╷        ╷         \n",
       " \u001b[1m \u001b[0m\u001b[1m #\u001b[0m\u001b[1m \u001b[0m│\u001b[1m \u001b[0m\u001b[1mSEATING              \u001b[0m\u001b[1m \u001b[0m│\u001b[1m \u001b[0m\u001b[1mTURNS\u001b[0m\u001b[1m \u001b[0m│\u001b[1m \u001b[0m\u001b[1mWHITE VP\u001b[0m\u001b[1m \u001b[0m│\u001b[1m \u001b[0m\u001b[1mBLUE VP\u001b[0m\u001b[1m \u001b[0m│\u001b[1m \u001b[0m\u001b[1mORANGE VP\u001b[0m\u001b[1m \u001b[0m│\u001b[1m \u001b[0m\u001b[1mRED VP\u001b[0m\u001b[1m \u001b[0m│\u001b[1m \u001b[0m\u001b[1mWINNER\u001b[0m\u001b[1m \u001b[0m \n",
       "╶────┼───────────────────────┼───────┼──────────┼─────────┼───────────┼────────┼────────╴\n",
       "   1 │ \u001b[33mORANGE\u001b[0m,\u001b[34mBLUE\u001b[0m,\u001b[37mWHITE\u001b[0m,\u001b[31mRED\u001b[0m │   186 │        4 │       3 │        10 │      2 │ \u001b[33mORANGE\u001b[0m  \n",
       "   2 │ \u001b[31mRED\u001b[0m,\u001b[34mBLUE\u001b[0m,\u001b[37mWHITE\u001b[0m,\u001b[33mORANGE\u001b[0m │   280 │       10 │       5 │         7 │      4 │ \u001b[37mWHITE\u001b[0m   \n",
       "   3 │ \u001b[34mBLUE\u001b[0m,\u001b[37mWHITE\u001b[0m,\u001b[33mORANGE\u001b[0m,\u001b[31mRED\u001b[0m │   132 │        2 │       2 │        10 │      2 │ \u001b[33mORANGE\u001b[0m  \n",
       "   4 │ \u001b[37mWHITE\u001b[0m,\u001b[33mORANGE\u001b[0m,\u001b[31mRED\u001b[0m,\u001b[34mBLUE\u001b[0m │   171 │        5 │       3 │        10 │      2 │ \u001b[33mORANGE\u001b[0m  \n",
       "   5 │ \u001b[37mWHITE\u001b[0m,\u001b[31mRED\u001b[0m,\u001b[34mBLUE\u001b[0m,\u001b[33mORANGE\u001b[0m │   457 │        3 │       3 │        10 │      3 │ \u001b[33mORANGE\u001b[0m  \n",
       "   6 │ \u001b[34mBLUE\u001b[0m,\u001b[33mORANGE\u001b[0m,\u001b[37mWHITE\u001b[0m,\u001b[31mRED\u001b[0m │   554 │        3 │      10 │         8 │      2 │ \u001b[34mBLUE\u001b[0m    \n",
       "   7 │ \u001b[33mORANGE\u001b[0m,\u001b[37mWHITE\u001b[0m,\u001b[31mRED\u001b[0m,\u001b[34mBLUE\u001b[0m │   199 │       10 │       2 │         5 │      2 │ \u001b[37mWHITE\u001b[0m   \n",
       "   8 │ \u001b[37mWHITE\u001b[0m,\u001b[31mRED\u001b[0m,\u001b[33mORANGE\u001b[0m,\u001b[34mBLUE\u001b[0m │   484 │        6 │       3 │        10 │      2 │ \u001b[33mORANGE\u001b[0m  \n",
       "   9 │ \u001b[34mBLUE\u001b[0m,\u001b[31mRED\u001b[0m,\u001b[33mORANGE\u001b[0m,\u001b[37mWHITE\u001b[0m │   710 │        5 │      10 │         5 │      4 │ \u001b[34mBLUE\u001b[0m    \n",
       "  10 │ \u001b[34mBLUE\u001b[0m,\u001b[33mORANGE\u001b[0m,\u001b[37mWHITE\u001b[0m,\u001b[31mRED\u001b[0m │   487 │        7 │       6 │        10 │      2 │ \u001b[33mORANGE\u001b[0m  \n",
       "     ╵                       ╵       ╵          ╵         ╵           ╵        ╵         \n"
      ]
     },
     "metadata": {},
     "output_type": "display_data"
    },
    {
     "data": {
      "text/html": [
       "<pre style=\"white-space:pre;overflow-x:auto;line-height:normal;font-family:Menlo,'DejaVu Sans Mono',consolas,'Courier New',monospace\"><span style=\"font-style: italic\">                                           Player Summary                                            </span>\n",
       "                      ╷      ╷        ╷             ╷            ╷          ╷          ╷             \n",
       " <span style=\"font-weight: bold\">                     </span>│<span style=\"font-weight: bold\"> WINS </span>│<span style=\"font-weight: bold\"> AVG VP </span>│<span style=\"font-weight: bold\"> AVG SETTLES </span>│<span style=\"font-weight: bold\"> AVG CITIES </span>│<span style=\"font-weight: bold\"> AVG ROAD </span>│<span style=\"font-weight: bold\"> AVG ARMY </span>│<span style=\"font-weight: bold\"> AVG DEV VP </span> \n",
       "╶─────────────────────┼──────┼────────┼─────────────┼────────────┼──────────┼──────────┼────────────╴\n",
       "  <span style=\"color: #c0c0c0; text-decoration-color: #c0c0c0\">RandomPlayer:WHITE</span>  │    2 │   5.50 │        2.10 │       0.80 │     0.10 │     0.30 │       1.00  \n",
       "  <span style=\"color: #000080; text-decoration-color: #000080\">RandomPlayer:BLUE</span>   │    2 │   4.70 │        2.60 │       0.20 │     0.10 │     0.20 │       1.10  \n",
       "  <span style=\"color: #808000; text-decoration-color: #808000\">RandomPlayer:ORANGE</span> │    6 │   8.50 │        2.70 │       1.00 │     0.80 │     0.30 │       1.60  \n",
       "  <span style=\"color: #800000; text-decoration-color: #800000\">AB_DQNPlayer_1:RED</span>  │    0 │   2.50 │        2.10 │       0.10 │     0.00 │     0.00 │       0.20  \n",
       "                      ╵      ╵        ╵             ╵            ╵          ╵          ╵             \n",
       "</pre>\n"
      ],
      "text/plain": [
       "\u001b[3m                                           Player Summary                                            \u001b[0m\n",
       "                      ╷      ╷        ╷             ╷            ╷          ╷          ╷             \n",
       " \u001b[1m \u001b[0m\u001b[1m                   \u001b[0m\u001b[1m \u001b[0m│\u001b[1m \u001b[0m\u001b[1mWINS\u001b[0m\u001b[1m \u001b[0m│\u001b[1m \u001b[0m\u001b[1mAVG VP\u001b[0m\u001b[1m \u001b[0m│\u001b[1m \u001b[0m\u001b[1mAVG SETTLES\u001b[0m\u001b[1m \u001b[0m│\u001b[1m \u001b[0m\u001b[1mAVG CITIES\u001b[0m\u001b[1m \u001b[0m│\u001b[1m \u001b[0m\u001b[1mAVG ROAD\u001b[0m\u001b[1m \u001b[0m│\u001b[1m \u001b[0m\u001b[1mAVG ARMY\u001b[0m\u001b[1m \u001b[0m│\u001b[1m \u001b[0m\u001b[1mAVG DEV VP\u001b[0m\u001b[1m \u001b[0m \n",
       "╶─────────────────────┼──────┼────────┼─────────────┼────────────┼──────────┼──────────┼────────────╴\n",
       "  \u001b[37mRandomPlayer:WHITE\u001b[0m  │    2 │   5.50 │        2.10 │       0.80 │     0.10 │     0.30 │       1.00  \n",
       "  \u001b[34mRandomPlayer:BLUE\u001b[0m   │    2 │   4.70 │        2.60 │       0.20 │     0.10 │     0.20 │       1.10  \n",
       "  \u001b[33mRandomPlayer:ORANGE\u001b[0m │    6 │   8.50 │        2.70 │       1.00 │     0.80 │     0.30 │       1.60  \n",
       "  \u001b[31mAB_DQNPlayer_1:RED\u001b[0m  │    0 │   2.50 │        2.10 │       0.10 │     0.00 │     0.00 │       0.20  \n",
       "                      ╵      ╵        ╵             ╵            ╵          ╵          ╵             \n"
      ]
     },
     "metadata": {},
     "output_type": "display_data"
    },
    {
     "data": {
      "text/html": [
       "<pre style=\"white-space:pre;overflow-x:auto;line-height:normal;font-family:Menlo,'DejaVu Sans Mono',consolas,'Courier New',monospace\"><span style=\"font-style: italic\">              Game Summary              </span>\n",
       "            ╷           ╷               \n",
       " <span style=\"font-weight: bold\"> AVG TICKS </span>│<span style=\"font-weight: bold\"> AVG TURNS </span>│<span style=\"font-weight: bold\"> AVG DURATION </span> \n",
       "╶───────────┼───────────┼──────────────╴\n",
       "    1025.10 │    366.00 │  14.746 secs  \n",
       "            ╵           ╵               \n",
       "</pre>\n"
      ],
      "text/plain": [
       "\u001b[3m              Game Summary              \u001b[0m\n",
       "            ╷           ╷               \n",
       " \u001b[1m \u001b[0m\u001b[1mAVG TICKS\u001b[0m\u001b[1m \u001b[0m│\u001b[1m \u001b[0m\u001b[1mAVG TURNS\u001b[0m\u001b[1m \u001b[0m│\u001b[1m \u001b[0m\u001b[1mAVG DURATION\u001b[0m\u001b[1m \u001b[0m \n",
       "╶───────────┼───────────┼──────────────╴\n",
       "    1025.10 │    366.00 │  14.746 secs  \n",
       "            ╵           ╵               \n"
      ]
     },
     "metadata": {},
     "output_type": "display_data"
    },
    {
     "name": "stdout",
     "output_type": "stream",
     "text": [
      "Loaded replay buffer with 3706 transitions\n",
      "atch 16/50: Playing 10 games\n"
     ]
    },
    {
     "data": {
      "text/html": [
       "<pre style=\"white-space:pre;overflow-x:auto;line-height:normal;font-family:Menlo,'DejaVu Sans Mono',consolas,'Courier New',monospace\">Cleared replay buffer to refresh training examples.\n",
       "</pre>\n"
      ],
      "text/plain": [
       "Cleared replay buffer to refresh training examples.\n"
      ]
     },
     "metadata": {},
     "output_type": "display_data"
    },
    {
     "data": {
      "text/html": [
       "<pre style=\"white-space:pre;overflow-x:auto;line-height:normal;font-family:Menlo,'DejaVu Sans Mono',consolas,'Courier New',monospace\">Reward variance in batch: 0.0000\n",
       "</pre>\n"
      ],
      "text/plain": [
       "Reward variance in batch: 0.0000\n"
      ]
     },
     "metadata": {},
     "output_type": "display_data"
    },
    {
     "data": {
      "text/html": [
       "<pre style=\"white-space:pre;overflow-x:auto;line-height:normal;font-family:Menlo,'DejaVu Sans Mono',consolas,'Courier New',monospace\">Trained DQN model with loss: 102.3563\n",
       "</pre>\n"
      ],
      "text/plain": [
       "Trained DQN model with loss: 102.3563\n"
      ]
     },
     "metadata": {},
     "output_type": "display_data"
    },
    {
     "data": {
      "text/html": [
       "<pre style=\"white-space:pre;overflow-x:auto;line-height:normal;font-family:Menlo,'DejaVu Sans Mono',consolas,'Courier New',monospace\">Avg pred: -0.1366, Avg target: 9.9780\n",
       "</pre>\n"
      ],
      "text/plain": [
       "Avg pred: -0.1366, Avg target: 9.9780\n"
      ]
     },
     "metadata": {},
     "output_type": "display_data"
    },
    {
     "data": {
      "text/html": [
       "<pre style=\"white-space:pre;overflow-x:auto;line-height:normal;font-family:Menlo,'DejaVu Sans Mono',consolas,'Courier New',monospace\">Cleared replay buffer to refresh training examples.\n",
       "</pre>\n"
      ],
      "text/plain": [
       "Cleared replay buffer to refresh training examples.\n"
      ]
     },
     "metadata": {},
     "output_type": "display_data"
    },
    {
     "data": {
      "text/html": [
       "<pre style=\"white-space:pre;overflow-x:auto;line-height:normal;font-family:Menlo,'DejaVu Sans Mono',consolas,'Courier New',monospace\">Reward variance in batch: 0.0000\n",
       "</pre>\n"
      ],
      "text/plain": [
       "Reward variance in batch: 0.0000\n"
      ]
     },
     "metadata": {},
     "output_type": "display_data"
    },
    {
     "data": {
      "text/html": [
       "<pre style=\"white-space:pre;overflow-x:auto;line-height:normal;font-family:Menlo,'DejaVu Sans Mono',consolas,'Courier New',monospace\">Trained DQN model with loss: 102.4232\n",
       "</pre>\n"
      ],
      "text/plain": [
       "Trained DQN model with loss: 102.4232\n"
      ]
     },
     "metadata": {},
     "output_type": "display_data"
    },
    {
     "data": {
      "text/html": [
       "<pre style=\"white-space:pre;overflow-x:auto;line-height:normal;font-family:Menlo,'DejaVu Sans Mono',consolas,'Courier New',monospace\">Avg pred: -0.1407, Avg target: 9.9771\n",
       "</pre>\n"
      ],
      "text/plain": [
       "Avg pred: -0.1407, Avg target: 9.9771\n"
      ]
     },
     "metadata": {},
     "output_type": "display_data"
    },
    {
     "data": {
      "text/html": [
       "<pre style=\"white-space:pre;overflow-x:auto;line-height:normal;font-family:Menlo,'DejaVu Sans Mono',consolas,'Courier New',monospace\">Cleared replay buffer to refresh training examples.\n",
       "</pre>\n"
      ],
      "text/plain": [
       "Cleared replay buffer to refresh training examples.\n"
      ]
     },
     "metadata": {},
     "output_type": "display_data"
    },
    {
     "data": {
      "text/html": [
       "<pre style=\"white-space:pre;overflow-x:auto;line-height:normal;font-family:Menlo,'DejaVu Sans Mono',consolas,'Courier New',monospace\">Reward variance in batch: 0.0000\n",
       "</pre>\n"
      ],
      "text/plain": [
       "Reward variance in batch: 0.0000\n"
      ]
     },
     "metadata": {},
     "output_type": "display_data"
    },
    {
     "data": {
      "text/html": [
       "<pre style=\"white-space:pre;overflow-x:auto;line-height:normal;font-family:Menlo,'DejaVu Sans Mono',consolas,'Courier New',monospace\">Trained DQN model with loss: 102.0967\n",
       "</pre>\n"
      ],
      "text/plain": [
       "Trained DQN model with loss: 102.0967\n"
      ]
     },
     "metadata": {},
     "output_type": "display_data"
    },
    {
     "data": {
      "text/html": [
       "<pre style=\"white-space:pre;overflow-x:auto;line-height:normal;font-family:Menlo,'DejaVu Sans Mono',consolas,'Courier New',monospace\">Avg pred: -0.1362, Avg target: 9.9655\n",
       "</pre>\n"
      ],
      "text/plain": [
       "Avg pred: -0.1362, Avg target: 9.9655\n"
      ]
     },
     "metadata": {},
     "output_type": "display_data"
    },
    {
     "data": {
      "text/html": [
       "<pre style=\"white-space:pre;overflow-x:auto;line-height:normal;font-family:Menlo,'DejaVu Sans Mono',consolas,'Courier New',monospace\"></pre>\n"
      ],
      "text/plain": []
     },
     "metadata": {},
     "output_type": "display_data"
    },
    {
     "data": {
      "text/html": [
       "<pre style=\"white-space:pre;overflow-x:auto;line-height:normal;font-family:Menlo,'DejaVu Sans Mono',consolas,'Courier New',monospace\">\n",
       "</pre>\n"
      ],
      "text/plain": [
       "\n"
      ]
     },
     "metadata": {},
     "output_type": "display_data"
    },
    {
     "data": {
      "text/html": [
       "<pre style=\"white-space:pre;overflow-x:auto;line-height:normal;font-family:Menlo,'DejaVu Sans Mono',consolas,'Courier New',monospace\"><span style=\"font-style: italic\">                                      Last 10 Games                                      </span>\n",
       "     ╷                       ╷       ╷         ╷           ╷          ╷        ╷         \n",
       " <span style=\"font-weight: bold\">  # </span>│<span style=\"font-weight: bold\"> SEATING               </span>│<span style=\"font-weight: bold\"> TURNS </span>│<span style=\"font-weight: bold\"> BLUE VP </span>│<span style=\"font-weight: bold\"> ORANGE VP </span>│<span style=\"font-weight: bold\"> WHITE VP </span>│<span style=\"font-weight: bold\"> RED VP </span>│<span style=\"font-weight: bold\"> WINNER </span> \n",
       "╶────┼───────────────────────┼───────┼─────────┼───────────┼──────────┼────────┼────────╴\n",
       "   1 │ <span style=\"color: #800000; text-decoration-color: #800000\">RED</span>,<span style=\"color: #808000; text-decoration-color: #808000\">ORANGE</span>,<span style=\"color: #c0c0c0; text-decoration-color: #c0c0c0\">WHITE</span>,<span style=\"color: #000080; text-decoration-color: #000080\">BLUE</span> │   255 │       3 │        11 │        6 │      5 │ <span style=\"color: #808000; text-decoration-color: #808000\">ORANGE</span>  \n",
       "   2 │ <span style=\"color: #c0c0c0; text-decoration-color: #c0c0c0\">WHITE</span>,<span style=\"color: #800000; text-decoration-color: #800000\">RED</span>,<span style=\"color: #000080; text-decoration-color: #000080\">BLUE</span>,<span style=\"color: #808000; text-decoration-color: #808000\">ORANGE</span> │   289 │       7 │        10 │        3 │      6 │ <span style=\"color: #808000; text-decoration-color: #808000\">ORANGE</span>  \n",
       "   3 │ <span style=\"color: #808000; text-decoration-color: #808000\">ORANGE</span>,<span style=\"color: #000080; text-decoration-color: #000080\">BLUE</span>,<span style=\"color: #800000; text-decoration-color: #800000\">RED</span>,<span style=\"color: #c0c0c0; text-decoration-color: #c0c0c0\">WHITE</span> │   663 │      10 │         9 │        9 │      5 │ <span style=\"color: #000080; text-decoration-color: #000080\">BLUE</span>    \n",
       "   4 │ <span style=\"color: #c0c0c0; text-decoration-color: #c0c0c0\">WHITE</span>,<span style=\"color: #808000; text-decoration-color: #808000\">ORANGE</span>,<span style=\"color: #000080; text-decoration-color: #000080\">BLUE</span>,<span style=\"color: #800000; text-decoration-color: #800000\">RED</span> │   228 │      10 │         3 │        4 │      2 │ <span style=\"color: #000080; text-decoration-color: #000080\">BLUE</span>    \n",
       "   5 │ <span style=\"color: #000080; text-decoration-color: #000080\">BLUE</span>,<span style=\"color: #c0c0c0; text-decoration-color: #c0c0c0\">WHITE</span>,<span style=\"color: #808000; text-decoration-color: #808000\">ORANGE</span>,<span style=\"color: #800000; text-decoration-color: #800000\">RED</span> │   610 │      10 │         7 │        5 │      2 │ <span style=\"color: #000080; text-decoration-color: #000080\">BLUE</span>    \n",
       "   6 │ <span style=\"color: #000080; text-decoration-color: #000080\">BLUE</span>,<span style=\"color: #800000; text-decoration-color: #800000\">RED</span>,<span style=\"color: #808000; text-decoration-color: #808000\">ORANGE</span>,<span style=\"color: #c0c0c0; text-decoration-color: #c0c0c0\">WHITE</span> │   454 │      10 │         6 │        4 │      2 │ <span style=\"color: #000080; text-decoration-color: #000080\">BLUE</span>    \n",
       "   7 │ <span style=\"color: #000080; text-decoration-color: #000080\">BLUE</span>,<span style=\"color: #c0c0c0; text-decoration-color: #c0c0c0\">WHITE</span>,<span style=\"color: #808000; text-decoration-color: #808000\">ORANGE</span>,<span style=\"color: #800000; text-decoration-color: #800000\">RED</span> │   335 │       6 │         3 │       10 │      2 │ <span style=\"color: #c0c0c0; text-decoration-color: #c0c0c0\">WHITE</span>   \n",
       "   8 │ <span style=\"color: #c0c0c0; text-decoration-color: #c0c0c0\">WHITE</span>,<span style=\"color: #800000; text-decoration-color: #800000\">RED</span>,<span style=\"color: #808000; text-decoration-color: #808000\">ORANGE</span>,<span style=\"color: #000080; text-decoration-color: #000080\">BLUE</span> │   364 │       3 │        10 │        8 │      2 │ <span style=\"color: #808000; text-decoration-color: #808000\">ORANGE</span>  \n",
       "   9 │ <span style=\"color: #000080; text-decoration-color: #000080\">BLUE</span>,<span style=\"color: #808000; text-decoration-color: #808000\">ORANGE</span>,<span style=\"color: #c0c0c0; text-decoration-color: #c0c0c0\">WHITE</span>,<span style=\"color: #800000; text-decoration-color: #800000\">RED</span> │   218 │      10 │         2 │        4 │      2 │ <span style=\"color: #000080; text-decoration-color: #000080\">BLUE</span>    \n",
       "  10 │ <span style=\"color: #808000; text-decoration-color: #808000\">ORANGE</span>,<span style=\"color: #800000; text-decoration-color: #800000\">RED</span>,<span style=\"color: #c0c0c0; text-decoration-color: #c0c0c0\">WHITE</span>,<span style=\"color: #000080; text-decoration-color: #000080\">BLUE</span> │   582 │       9 │        10 │        8 │      2 │ <span style=\"color: #808000; text-decoration-color: #808000\">ORANGE</span>  \n",
       "     ╵                       ╵       ╵         ╵           ╵          ╵        ╵         \n",
       "</pre>\n"
      ],
      "text/plain": [
       "\u001b[3m                                      Last 10 Games                                      \u001b[0m\n",
       "     ╷                       ╷       ╷         ╷           ╷          ╷        ╷         \n",
       " \u001b[1m \u001b[0m\u001b[1m #\u001b[0m\u001b[1m \u001b[0m│\u001b[1m \u001b[0m\u001b[1mSEATING              \u001b[0m\u001b[1m \u001b[0m│\u001b[1m \u001b[0m\u001b[1mTURNS\u001b[0m\u001b[1m \u001b[0m│\u001b[1m \u001b[0m\u001b[1mBLUE VP\u001b[0m\u001b[1m \u001b[0m│\u001b[1m \u001b[0m\u001b[1mORANGE VP\u001b[0m\u001b[1m \u001b[0m│\u001b[1m \u001b[0m\u001b[1mWHITE VP\u001b[0m\u001b[1m \u001b[0m│\u001b[1m \u001b[0m\u001b[1mRED VP\u001b[0m\u001b[1m \u001b[0m│\u001b[1m \u001b[0m\u001b[1mWINNER\u001b[0m\u001b[1m \u001b[0m \n",
       "╶────┼───────────────────────┼───────┼─────────┼───────────┼──────────┼────────┼────────╴\n",
       "   1 │ \u001b[31mRED\u001b[0m,\u001b[33mORANGE\u001b[0m,\u001b[37mWHITE\u001b[0m,\u001b[34mBLUE\u001b[0m │   255 │       3 │        11 │        6 │      5 │ \u001b[33mORANGE\u001b[0m  \n",
       "   2 │ \u001b[37mWHITE\u001b[0m,\u001b[31mRED\u001b[0m,\u001b[34mBLUE\u001b[0m,\u001b[33mORANGE\u001b[0m │   289 │       7 │        10 │        3 │      6 │ \u001b[33mORANGE\u001b[0m  \n",
       "   3 │ \u001b[33mORANGE\u001b[0m,\u001b[34mBLUE\u001b[0m,\u001b[31mRED\u001b[0m,\u001b[37mWHITE\u001b[0m │   663 │      10 │         9 │        9 │      5 │ \u001b[34mBLUE\u001b[0m    \n",
       "   4 │ \u001b[37mWHITE\u001b[0m,\u001b[33mORANGE\u001b[0m,\u001b[34mBLUE\u001b[0m,\u001b[31mRED\u001b[0m │   228 │      10 │         3 │        4 │      2 │ \u001b[34mBLUE\u001b[0m    \n",
       "   5 │ \u001b[34mBLUE\u001b[0m,\u001b[37mWHITE\u001b[0m,\u001b[33mORANGE\u001b[0m,\u001b[31mRED\u001b[0m │   610 │      10 │         7 │        5 │      2 │ \u001b[34mBLUE\u001b[0m    \n",
       "   6 │ \u001b[34mBLUE\u001b[0m,\u001b[31mRED\u001b[0m,\u001b[33mORANGE\u001b[0m,\u001b[37mWHITE\u001b[0m │   454 │      10 │         6 │        4 │      2 │ \u001b[34mBLUE\u001b[0m    \n",
       "   7 │ \u001b[34mBLUE\u001b[0m,\u001b[37mWHITE\u001b[0m,\u001b[33mORANGE\u001b[0m,\u001b[31mRED\u001b[0m │   335 │       6 │         3 │       10 │      2 │ \u001b[37mWHITE\u001b[0m   \n",
       "   8 │ \u001b[37mWHITE\u001b[0m,\u001b[31mRED\u001b[0m,\u001b[33mORANGE\u001b[0m,\u001b[34mBLUE\u001b[0m │   364 │       3 │        10 │        8 │      2 │ \u001b[33mORANGE\u001b[0m  \n",
       "   9 │ \u001b[34mBLUE\u001b[0m,\u001b[33mORANGE\u001b[0m,\u001b[37mWHITE\u001b[0m,\u001b[31mRED\u001b[0m │   218 │      10 │         2 │        4 │      2 │ \u001b[34mBLUE\u001b[0m    \n",
       "  10 │ \u001b[33mORANGE\u001b[0m,\u001b[31mRED\u001b[0m,\u001b[37mWHITE\u001b[0m,\u001b[34mBLUE\u001b[0m │   582 │       9 │        10 │        8 │      2 │ \u001b[33mORANGE\u001b[0m  \n",
       "     ╵                       ╵       ╵         ╵           ╵          ╵        ╵         \n"
      ]
     },
     "metadata": {},
     "output_type": "display_data"
    },
    {
     "data": {
      "text/html": [
       "<pre style=\"white-space:pre;overflow-x:auto;line-height:normal;font-family:Menlo,'DejaVu Sans Mono',consolas,'Courier New',monospace\"><span style=\"font-style: italic\">                                           Player Summary                                            </span>\n",
       "                      ╷      ╷        ╷             ╷            ╷          ╷          ╷             \n",
       " <span style=\"font-weight: bold\">                     </span>│<span style=\"font-weight: bold\"> WINS </span>│<span style=\"font-weight: bold\"> AVG VP </span>│<span style=\"font-weight: bold\"> AVG SETTLES </span>│<span style=\"font-weight: bold\"> AVG CITIES </span>│<span style=\"font-weight: bold\"> AVG ROAD </span>│<span style=\"font-weight: bold\"> AVG ARMY </span>│<span style=\"font-weight: bold\"> AVG DEV VP </span> \n",
       "╶─────────────────────┼──────┼────────┼─────────────┼────────────┼──────────┼──────────┼────────────╴\n",
       "  <span style=\"color: #000080; text-decoration-color: #000080\">RandomPlayer:BLUE</span>   │    5 │   7.80 │        2.30 │       1.20 │     0.30 │     0.40 │       1.70  \n",
       "  <span style=\"color: #808000; text-decoration-color: #808000\">RandomPlayer:ORANGE</span> │    4 │   7.10 │        3.30 │       0.80 │     0.30 │     0.30 │       1.00  \n",
       "  <span style=\"color: #c0c0c0; text-decoration-color: #c0c0c0\">RandomPlayer:WHITE</span>  │    1 │   6.10 │        2.30 │       0.70 │     0.40 │     0.20 │       1.20  \n",
       "  <span style=\"color: #800000; text-decoration-color: #800000\">AB_DQNPlayer_1:RED</span>  │    0 │   3.00 │        1.60 │       0.50 │     0.00 │     0.00 │       0.40  \n",
       "                      ╵      ╵        ╵             ╵            ╵          ╵          ╵             \n",
       "</pre>\n"
      ],
      "text/plain": [
       "\u001b[3m                                           Player Summary                                            \u001b[0m\n",
       "                      ╷      ╷        ╷             ╷            ╷          ╷          ╷             \n",
       " \u001b[1m \u001b[0m\u001b[1m                   \u001b[0m\u001b[1m \u001b[0m│\u001b[1m \u001b[0m\u001b[1mWINS\u001b[0m\u001b[1m \u001b[0m│\u001b[1m \u001b[0m\u001b[1mAVG VP\u001b[0m\u001b[1m \u001b[0m│\u001b[1m \u001b[0m\u001b[1mAVG SETTLES\u001b[0m\u001b[1m \u001b[0m│\u001b[1m \u001b[0m\u001b[1mAVG CITIES\u001b[0m\u001b[1m \u001b[0m│\u001b[1m \u001b[0m\u001b[1mAVG ROAD\u001b[0m\u001b[1m \u001b[0m│\u001b[1m \u001b[0m\u001b[1mAVG ARMY\u001b[0m\u001b[1m \u001b[0m│\u001b[1m \u001b[0m\u001b[1mAVG DEV VP\u001b[0m\u001b[1m \u001b[0m \n",
       "╶─────────────────────┼──────┼────────┼─────────────┼────────────┼──────────┼──────────┼────────────╴\n",
       "  \u001b[34mRandomPlayer:BLUE\u001b[0m   │    5 │   7.80 │        2.30 │       1.20 │     0.30 │     0.40 │       1.70  \n",
       "  \u001b[33mRandomPlayer:ORANGE\u001b[0m │    4 │   7.10 │        3.30 │       0.80 │     0.30 │     0.30 │       1.00  \n",
       "  \u001b[37mRandomPlayer:WHITE\u001b[0m  │    1 │   6.10 │        2.30 │       0.70 │     0.40 │     0.20 │       1.20  \n",
       "  \u001b[31mAB_DQNPlayer_1:RED\u001b[0m  │    0 │   3.00 │        1.60 │       0.50 │     0.00 │     0.00 │       0.40  \n",
       "                      ╵      ╵        ╵             ╵            ╵          ╵          ╵             \n"
      ]
     },
     "metadata": {},
     "output_type": "display_data"
    },
    {
     "data": {
      "text/html": [
       "<pre style=\"white-space:pre;overflow-x:auto;line-height:normal;font-family:Menlo,'DejaVu Sans Mono',consolas,'Courier New',monospace\"><span style=\"font-style: italic\">              Game Summary              </span>\n",
       "            ╷           ╷               \n",
       " <span style=\"font-weight: bold\"> AVG TICKS </span>│<span style=\"font-weight: bold\"> AVG TURNS </span>│<span style=\"font-weight: bold\"> AVG DURATION </span> \n",
       "╶───────────┼───────────┼──────────────╴\n",
       "    1143.50 │    399.80 │  18.913 secs  \n",
       "            ╵           ╵               \n",
       "</pre>\n"
      ],
      "text/plain": [
       "\u001b[3m              Game Summary              \u001b[0m\n",
       "            ╷           ╷               \n",
       " \u001b[1m \u001b[0m\u001b[1mAVG TICKS\u001b[0m\u001b[1m \u001b[0m│\u001b[1m \u001b[0m\u001b[1mAVG TURNS\u001b[0m\u001b[1m \u001b[0m│\u001b[1m \u001b[0m\u001b[1mAVG DURATION\u001b[0m\u001b[1m \u001b[0m \n",
       "╶───────────┼───────────┼──────────────╴\n",
       "    1143.50 │    399.80 │  18.913 secs  \n",
       "            ╵           ╵               \n"
      ]
     },
     "metadata": {},
     "output_type": "display_data"
    },
    {
     "name": "stdout",
     "output_type": "stream",
     "text": [
      "Loaded replay buffer with 545 transitions\n",
      "atch 17/50: Playing 10 games\n"
     ]
    },
    {
     "data": {
      "text/html": [
       "<pre style=\"white-space:pre;overflow-x:auto;line-height:normal;font-family:Menlo,'DejaVu Sans Mono',consolas,'Courier New',monospace\">Cleared replay buffer to refresh training examples.\n",
       "</pre>\n"
      ],
      "text/plain": [
       "Cleared replay buffer to refresh training examples.\n"
      ]
     },
     "metadata": {},
     "output_type": "display_data"
    },
    {
     "data": {
      "text/html": [
       "<pre style=\"white-space:pre;overflow-x:auto;line-height:normal;font-family:Menlo,'DejaVu Sans Mono',consolas,'Courier New',monospace\">Reward variance in batch: 0.0000\n",
       "</pre>\n"
      ],
      "text/plain": [
       "Reward variance in batch: 0.0000\n"
      ]
     },
     "metadata": {},
     "output_type": "display_data"
    },
    {
     "data": {
      "text/html": [
       "<pre style=\"white-space:pre;overflow-x:auto;line-height:normal;font-family:Menlo,'DejaVu Sans Mono',consolas,'Courier New',monospace\">Trained DQN model with loss: 99.0234\n",
       "</pre>\n"
      ],
      "text/plain": [
       "Trained DQN model with loss: 99.0234\n"
      ]
     },
     "metadata": {},
     "output_type": "display_data"
    },
    {
     "data": {
      "text/html": [
       "<pre style=\"white-space:pre;overflow-x:auto;line-height:normal;font-family:Menlo,'DejaVu Sans Mono',consolas,'Courier New',monospace\">Avg pred: -0.0833, Avg target: 9.8609\n",
       "</pre>\n"
      ],
      "text/plain": [
       "Avg pred: -0.0833, Avg target: 9.8609\n"
      ]
     },
     "metadata": {},
     "output_type": "display_data"
    },
    {
     "data": {
      "text/html": [
       "<pre style=\"white-space:pre;overflow-x:auto;line-height:normal;font-family:Menlo,'DejaVu Sans Mono',consolas,'Courier New',monospace\">Cleared replay buffer to refresh training examples.\n",
       "</pre>\n"
      ],
      "text/plain": [
       "Cleared replay buffer to refresh training examples.\n"
      ]
     },
     "metadata": {},
     "output_type": "display_data"
    },
    {
     "data": {
      "text/html": [
       "<pre style=\"white-space:pre;overflow-x:auto;line-height:normal;font-family:Menlo,'DejaVu Sans Mono',consolas,'Courier New',monospace\">Reward variance in batch: 0.0000\n",
       "</pre>\n"
      ],
      "text/plain": [
       "Reward variance in batch: 0.0000\n"
      ]
     },
     "metadata": {},
     "output_type": "display_data"
    },
    {
     "data": {
      "text/html": [
       "<pre style=\"white-space:pre;overflow-x:auto;line-height:normal;font-family:Menlo,'DejaVu Sans Mono',consolas,'Courier New',monospace\">Trained DQN model with loss: 101.5275\n",
       "</pre>\n"
      ],
      "text/plain": [
       "Trained DQN model with loss: 101.5275\n"
      ]
     },
     "metadata": {},
     "output_type": "display_data"
    },
    {
     "data": {
      "text/html": [
       "<pre style=\"white-space:pre;overflow-x:auto;line-height:normal;font-family:Menlo,'DejaVu Sans Mono',consolas,'Courier New',monospace\">Avg pred: -0.1028, Avg target: 9.9705\n",
       "</pre>\n"
      ],
      "text/plain": [
       "Avg pred: -0.1028, Avg target: 9.9705\n"
      ]
     },
     "metadata": {},
     "output_type": "display_data"
    },
    {
     "data": {
      "text/html": [
       "<pre style=\"white-space:pre;overflow-x:auto;line-height:normal;font-family:Menlo,'DejaVu Sans Mono',consolas,'Courier New',monospace\"></pre>\n"
      ],
      "text/plain": []
     },
     "metadata": {},
     "output_type": "display_data"
    },
    {
     "data": {
      "text/html": [
       "<pre style=\"white-space:pre;overflow-x:auto;line-height:normal;font-family:Menlo,'DejaVu Sans Mono',consolas,'Courier New',monospace\">\n",
       "</pre>\n"
      ],
      "text/plain": [
       "\n"
      ]
     },
     "metadata": {},
     "output_type": "display_data"
    },
    {
     "data": {
      "text/html": [
       "<pre style=\"white-space:pre;overflow-x:auto;line-height:normal;font-family:Menlo,'DejaVu Sans Mono',consolas,'Courier New',monospace\"><span style=\"font-style: italic\">                                      Last 10 Games                                      </span>\n",
       "     ╷                       ╷       ╷          ╷         ╷           ╷        ╷         \n",
       " <span style=\"font-weight: bold\">  # </span>│<span style=\"font-weight: bold\"> SEATING               </span>│<span style=\"font-weight: bold\"> TURNS </span>│<span style=\"font-weight: bold\"> WHITE VP </span>│<span style=\"font-weight: bold\"> BLUE VP </span>│<span style=\"font-weight: bold\"> ORANGE VP </span>│<span style=\"font-weight: bold\"> RED VP </span>│<span style=\"font-weight: bold\"> WINNER </span> \n",
       "╶────┼───────────────────────┼───────┼──────────┼─────────┼───────────┼────────┼────────╴\n",
       "   1 │ <span style=\"color: #808000; text-decoration-color: #808000\">ORANGE</span>,<span style=\"color: #800000; text-decoration-color: #800000\">RED</span>,<span style=\"color: #c0c0c0; text-decoration-color: #c0c0c0\">WHITE</span>,<span style=\"color: #000080; text-decoration-color: #000080\">BLUE</span> │   161 │        2 │      10 │         2 │      8 │ <span style=\"color: #000080; text-decoration-color: #000080\">BLUE</span>    \n",
       "   2 │ <span style=\"color: #c0c0c0; text-decoration-color: #c0c0c0\">WHITE</span>,<span style=\"color: #000080; text-decoration-color: #000080\">BLUE</span>,<span style=\"color: #800000; text-decoration-color: #800000\">RED</span>,<span style=\"color: #808000; text-decoration-color: #808000\">ORANGE</span> │   267 │        2 │      10 │         3 │      2 │ <span style=\"color: #000080; text-decoration-color: #000080\">BLUE</span>    \n",
       "   3 │ <span style=\"color: #800000; text-decoration-color: #800000\">RED</span>,<span style=\"color: #c0c0c0; text-decoration-color: #c0c0c0\">WHITE</span>,<span style=\"color: #000080; text-decoration-color: #000080\">BLUE</span>,<span style=\"color: #808000; text-decoration-color: #808000\">ORANGE</span> │   393 │        4 │       8 │        10 │      4 │ <span style=\"color: #808000; text-decoration-color: #808000\">ORANGE</span>  \n",
       "   4 │ <span style=\"color: #800000; text-decoration-color: #800000\">RED</span>,<span style=\"color: #808000; text-decoration-color: #808000\">ORANGE</span>,<span style=\"color: #000080; text-decoration-color: #000080\">BLUE</span>,<span style=\"color: #c0c0c0; text-decoration-color: #c0c0c0\">WHITE</span> │   363 │        5 │       3 │        10 │      2 │ <span style=\"color: #808000; text-decoration-color: #808000\">ORANGE</span>  \n",
       "   5 │ <span style=\"color: #c0c0c0; text-decoration-color: #c0c0c0\">WHITE</span>,<span style=\"color: #800000; text-decoration-color: #800000\">RED</span>,<span style=\"color: #000080; text-decoration-color: #000080\">BLUE</span>,<span style=\"color: #808000; text-decoration-color: #808000\">ORANGE</span> │   281 │        4 │       2 │        10 │      2 │ <span style=\"color: #808000; text-decoration-color: #808000\">ORANGE</span>  \n",
       "   6 │ <span style=\"color: #800000; text-decoration-color: #800000\">RED</span>,<span style=\"color: #000080; text-decoration-color: #000080\">BLUE</span>,<span style=\"color: #c0c0c0; text-decoration-color: #c0c0c0\">WHITE</span>,<span style=\"color: #808000; text-decoration-color: #808000\">ORANGE</span> │   393 │        7 │       9 │        10 │      2 │ <span style=\"color: #808000; text-decoration-color: #808000\">ORANGE</span>  \n",
       "   7 │ <span style=\"color: #c0c0c0; text-decoration-color: #c0c0c0\">WHITE</span>,<span style=\"color: #000080; text-decoration-color: #000080\">BLUE</span>,<span style=\"color: #800000; text-decoration-color: #800000\">RED</span>,<span style=\"color: #808000; text-decoration-color: #808000\">ORANGE</span> │   370 │       10 │       6 │         6 │      2 │ <span style=\"color: #c0c0c0; text-decoration-color: #c0c0c0\">WHITE</span>   \n",
       "   8 │ <span style=\"color: #000080; text-decoration-color: #000080\">BLUE</span>,<span style=\"color: #808000; text-decoration-color: #808000\">ORANGE</span>,<span style=\"color: #800000; text-decoration-color: #800000\">RED</span>,<span style=\"color: #c0c0c0; text-decoration-color: #c0c0c0\">WHITE</span> │   221 │       10 │       2 │         4 │      2 │ <span style=\"color: #c0c0c0; text-decoration-color: #c0c0c0\">WHITE</span>   \n",
       "   9 │ <span style=\"color: #808000; text-decoration-color: #808000\">ORANGE</span>,<span style=\"color: #800000; text-decoration-color: #800000\">RED</span>,<span style=\"color: #000080; text-decoration-color: #000080\">BLUE</span>,<span style=\"color: #c0c0c0; text-decoration-color: #c0c0c0\">WHITE</span> │   444 │        8 │      10 │         7 │      2 │ <span style=\"color: #000080; text-decoration-color: #000080\">BLUE</span>    \n",
       "  10 │ <span style=\"color: #800000; text-decoration-color: #800000\">RED</span>,<span style=\"color: #000080; text-decoration-color: #000080\">BLUE</span>,<span style=\"color: #808000; text-decoration-color: #808000\">ORANGE</span>,<span style=\"color: #c0c0c0; text-decoration-color: #c0c0c0\">WHITE</span> │   241 │       10 │       2 │         5 │      2 │ <span style=\"color: #c0c0c0; text-decoration-color: #c0c0c0\">WHITE</span>   \n",
       "     ╵                       ╵       ╵          ╵         ╵           ╵        ╵         \n",
       "</pre>\n"
      ],
      "text/plain": [
       "\u001b[3m                                      Last 10 Games                                      \u001b[0m\n",
       "     ╷                       ╷       ╷          ╷         ╷           ╷        ╷         \n",
       " \u001b[1m \u001b[0m\u001b[1m #\u001b[0m\u001b[1m \u001b[0m│\u001b[1m \u001b[0m\u001b[1mSEATING              \u001b[0m\u001b[1m \u001b[0m│\u001b[1m \u001b[0m\u001b[1mTURNS\u001b[0m\u001b[1m \u001b[0m│\u001b[1m \u001b[0m\u001b[1mWHITE VP\u001b[0m\u001b[1m \u001b[0m│\u001b[1m \u001b[0m\u001b[1mBLUE VP\u001b[0m\u001b[1m \u001b[0m│\u001b[1m \u001b[0m\u001b[1mORANGE VP\u001b[0m\u001b[1m \u001b[0m│\u001b[1m \u001b[0m\u001b[1mRED VP\u001b[0m\u001b[1m \u001b[0m│\u001b[1m \u001b[0m\u001b[1mWINNER\u001b[0m\u001b[1m \u001b[0m \n",
       "╶────┼───────────────────────┼───────┼──────────┼─────────┼───────────┼────────┼────────╴\n",
       "   1 │ \u001b[33mORANGE\u001b[0m,\u001b[31mRED\u001b[0m,\u001b[37mWHITE\u001b[0m,\u001b[34mBLUE\u001b[0m │   161 │        2 │      10 │         2 │      8 │ \u001b[34mBLUE\u001b[0m    \n",
       "   2 │ \u001b[37mWHITE\u001b[0m,\u001b[34mBLUE\u001b[0m,\u001b[31mRED\u001b[0m,\u001b[33mORANGE\u001b[0m │   267 │        2 │      10 │         3 │      2 │ \u001b[34mBLUE\u001b[0m    \n",
       "   3 │ \u001b[31mRED\u001b[0m,\u001b[37mWHITE\u001b[0m,\u001b[34mBLUE\u001b[0m,\u001b[33mORANGE\u001b[0m │   393 │        4 │       8 │        10 │      4 │ \u001b[33mORANGE\u001b[0m  \n",
       "   4 │ \u001b[31mRED\u001b[0m,\u001b[33mORANGE\u001b[0m,\u001b[34mBLUE\u001b[0m,\u001b[37mWHITE\u001b[0m │   363 │        5 │       3 │        10 │      2 │ \u001b[33mORANGE\u001b[0m  \n",
       "   5 │ \u001b[37mWHITE\u001b[0m,\u001b[31mRED\u001b[0m,\u001b[34mBLUE\u001b[0m,\u001b[33mORANGE\u001b[0m │   281 │        4 │       2 │        10 │      2 │ \u001b[33mORANGE\u001b[0m  \n",
       "   6 │ \u001b[31mRED\u001b[0m,\u001b[34mBLUE\u001b[0m,\u001b[37mWHITE\u001b[0m,\u001b[33mORANGE\u001b[0m │   393 │        7 │       9 │        10 │      2 │ \u001b[33mORANGE\u001b[0m  \n",
       "   7 │ \u001b[37mWHITE\u001b[0m,\u001b[34mBLUE\u001b[0m,\u001b[31mRED\u001b[0m,\u001b[33mORANGE\u001b[0m │   370 │       10 │       6 │         6 │      2 │ \u001b[37mWHITE\u001b[0m   \n",
       "   8 │ \u001b[34mBLUE\u001b[0m,\u001b[33mORANGE\u001b[0m,\u001b[31mRED\u001b[0m,\u001b[37mWHITE\u001b[0m │   221 │       10 │       2 │         4 │      2 │ \u001b[37mWHITE\u001b[0m   \n",
       "   9 │ \u001b[33mORANGE\u001b[0m,\u001b[31mRED\u001b[0m,\u001b[34mBLUE\u001b[0m,\u001b[37mWHITE\u001b[0m │   444 │        8 │      10 │         7 │      2 │ \u001b[34mBLUE\u001b[0m    \n",
       "  10 │ \u001b[31mRED\u001b[0m,\u001b[34mBLUE\u001b[0m,\u001b[33mORANGE\u001b[0m,\u001b[37mWHITE\u001b[0m │   241 │       10 │       2 │         5 │      2 │ \u001b[37mWHITE\u001b[0m   \n",
       "     ╵                       ╵       ╵          ╵         ╵           ╵        ╵         \n"
      ]
     },
     "metadata": {},
     "output_type": "display_data"
    },
    {
     "data": {
      "text/html": [
       "<pre style=\"white-space:pre;overflow-x:auto;line-height:normal;font-family:Menlo,'DejaVu Sans Mono',consolas,'Courier New',monospace\"><span style=\"font-style: italic\">                                           Player Summary                                            </span>\n",
       "                      ╷      ╷        ╷             ╷            ╷          ╷          ╷             \n",
       " <span style=\"font-weight: bold\">                     </span>│<span style=\"font-weight: bold\"> WINS </span>│<span style=\"font-weight: bold\"> AVG VP </span>│<span style=\"font-weight: bold\"> AVG SETTLES </span>│<span style=\"font-weight: bold\"> AVG CITIES </span>│<span style=\"font-weight: bold\"> AVG ROAD </span>│<span style=\"font-weight: bold\"> AVG ARMY </span>│<span style=\"font-weight: bold\"> AVG DEV VP </span> \n",
       "╶─────────────────────┼──────┼────────┼─────────────┼────────────┼──────────┼──────────┼────────────╴\n",
       "  <span style=\"color: #c0c0c0; text-decoration-color: #c0c0c0\">RandomPlayer:WHITE</span>  │    3 │   6.20 │        1.90 │       1.10 │     0.20 │     0.20 │       1.30  \n",
       "  <span style=\"color: #000080; text-decoration-color: #000080\">RandomPlayer:BLUE</span>   │    3 │   6.20 │        2.90 │       0.50 │     0.30 │     0.30 │       1.10  \n",
       "  <span style=\"color: #808000; text-decoration-color: #808000\">RandomPlayer:ORANGE</span> │    4 │   6.70 │        2.60 │       0.50 │     0.40 │     0.50 │       1.30  \n",
       "  <span style=\"color: #800000; text-decoration-color: #800000\">AB_DQNPlayer_1:RED</span>  │    0 │   2.80 │        1.60 │       0.50 │     0.00 │     0.00 │       0.20  \n",
       "                      ╵      ╵        ╵             ╵            ╵          ╵          ╵             \n",
       "</pre>\n"
      ],
      "text/plain": [
       "\u001b[3m                                           Player Summary                                            \u001b[0m\n",
       "                      ╷      ╷        ╷             ╷            ╷          ╷          ╷             \n",
       " \u001b[1m \u001b[0m\u001b[1m                   \u001b[0m\u001b[1m \u001b[0m│\u001b[1m \u001b[0m\u001b[1mWINS\u001b[0m\u001b[1m \u001b[0m│\u001b[1m \u001b[0m\u001b[1mAVG VP\u001b[0m\u001b[1m \u001b[0m│\u001b[1m \u001b[0m\u001b[1mAVG SETTLES\u001b[0m\u001b[1m \u001b[0m│\u001b[1m \u001b[0m\u001b[1mAVG CITIES\u001b[0m\u001b[1m \u001b[0m│\u001b[1m \u001b[0m\u001b[1mAVG ROAD\u001b[0m\u001b[1m \u001b[0m│\u001b[1m \u001b[0m\u001b[1mAVG ARMY\u001b[0m\u001b[1m \u001b[0m│\u001b[1m \u001b[0m\u001b[1mAVG DEV VP\u001b[0m\u001b[1m \u001b[0m \n",
       "╶─────────────────────┼──────┼────────┼─────────────┼────────────┼──────────┼──────────┼────────────╴\n",
       "  \u001b[37mRandomPlayer:WHITE\u001b[0m  │    3 │   6.20 │        1.90 │       1.10 │     0.20 │     0.20 │       1.30  \n",
       "  \u001b[34mRandomPlayer:BLUE\u001b[0m   │    3 │   6.20 │        2.90 │       0.50 │     0.30 │     0.30 │       1.10  \n",
       "  \u001b[33mRandomPlayer:ORANGE\u001b[0m │    4 │   6.70 │        2.60 │       0.50 │     0.40 │     0.50 │       1.30  \n",
       "  \u001b[31mAB_DQNPlayer_1:RED\u001b[0m  │    0 │   2.80 │        1.60 │       0.50 │     0.00 │     0.00 │       0.20  \n",
       "                      ╵      ╵        ╵             ╵            ╵          ╵          ╵             \n"
      ]
     },
     "metadata": {},
     "output_type": "display_data"
    },
    {
     "data": {
      "text/html": [
       "<pre style=\"white-space:pre;overflow-x:auto;line-height:normal;font-family:Menlo,'DejaVu Sans Mono',consolas,'Courier New',monospace\"><span style=\"font-style: italic\">              Game Summary              </span>\n",
       "            ╷           ╷               \n",
       " <span style=\"font-weight: bold\"> AVG TICKS </span>│<span style=\"font-weight: bold\"> AVG TURNS </span>│<span style=\"font-weight: bold\"> AVG DURATION </span> \n",
       "╶───────────┼───────────┼──────────────╴\n",
       "     889.80 │    313.40 │  18.429 secs  \n",
       "            ╵           ╵               \n",
       "</pre>\n"
      ],
      "text/plain": [
       "\u001b[3m              Game Summary              \u001b[0m\n",
       "            ╷           ╷               \n",
       " \u001b[1m \u001b[0m\u001b[1mAVG TICKS\u001b[0m\u001b[1m \u001b[0m│\u001b[1m \u001b[0m\u001b[1mAVG TURNS\u001b[0m\u001b[1m \u001b[0m│\u001b[1m \u001b[0m\u001b[1mAVG DURATION\u001b[0m\u001b[1m \u001b[0m \n",
       "╶───────────┼───────────┼──────────────╴\n",
       "     889.80 │    313.40 │  18.429 secs  \n",
       "            ╵           ╵               \n"
      ]
     },
     "metadata": {},
     "output_type": "display_data"
    },
    {
     "name": "stdout",
     "output_type": "stream",
     "text": [
      "Loaded replay buffer with 3585 transitions\n",
      "atch 18/50: Playing 10 games\n"
     ]
    },
    {
     "data": {
      "text/html": [
       "<pre style=\"white-space:pre;overflow-x:auto;line-height:normal;font-family:Menlo,'DejaVu Sans Mono',consolas,'Courier New',monospace\">Cleared replay buffer to refresh training examples.\n",
       "</pre>\n"
      ],
      "text/plain": [
       "Cleared replay buffer to refresh training examples.\n"
      ]
     },
     "metadata": {},
     "output_type": "display_data"
    },
    {
     "data": {
      "text/html": [
       "<pre style=\"white-space:pre;overflow-x:auto;line-height:normal;font-family:Menlo,'DejaVu Sans Mono',consolas,'Courier New',monospace\">Reward variance in batch: 0.0000\n",
       "</pre>\n"
      ],
      "text/plain": [
       "Reward variance in batch: 0.0000\n"
      ]
     },
     "metadata": {},
     "output_type": "display_data"
    },
    {
     "data": {
      "text/html": [
       "<pre style=\"white-space:pre;overflow-x:auto;line-height:normal;font-family:Menlo,'DejaVu Sans Mono',consolas,'Courier New',monospace\">Trained DQN model with loss: 102.3792\n",
       "</pre>\n"
      ],
      "text/plain": [
       "Trained DQN model with loss: 102.3792\n"
      ]
     },
     "metadata": {},
     "output_type": "display_data"
    },
    {
     "data": {
      "text/html": [
       "<pre style=\"white-space:pre;overflow-x:auto;line-height:normal;font-family:Menlo,'DejaVu Sans Mono',consolas,'Courier New',monospace\">Avg pred: -0.1409, Avg target: 9.9749\n",
       "</pre>\n"
      ],
      "text/plain": [
       "Avg pred: -0.1409, Avg target: 9.9749\n"
      ]
     },
     "metadata": {},
     "output_type": "display_data"
    },
    {
     "data": {
      "text/html": [
       "<pre style=\"white-space:pre;overflow-x:auto;line-height:normal;font-family:Menlo,'DejaVu Sans Mono',consolas,'Courier New',monospace\">Cleared replay buffer to refresh training examples.\n",
       "</pre>\n"
      ],
      "text/plain": [
       "Cleared replay buffer to refresh training examples.\n"
      ]
     },
     "metadata": {},
     "output_type": "display_data"
    },
    {
     "data": {
      "text/html": [
       "<pre style=\"white-space:pre;overflow-x:auto;line-height:normal;font-family:Menlo,'DejaVu Sans Mono',consolas,'Courier New',monospace\">Reward variance in batch: 0.0000\n",
       "</pre>\n"
      ],
      "text/plain": [
       "Reward variance in batch: 0.0000\n"
      ]
     },
     "metadata": {},
     "output_type": "display_data"
    },
    {
     "data": {
      "text/html": [
       "<pre style=\"white-space:pre;overflow-x:auto;line-height:normal;font-family:Menlo,'DejaVu Sans Mono',consolas,'Courier New',monospace\">Trained DQN model with loss: 100.9876\n",
       "</pre>\n"
      ],
      "text/plain": [
       "Trained DQN model with loss: 100.9876\n"
      ]
     },
     "metadata": {},
     "output_type": "display_data"
    },
    {
     "data": {
      "text/html": [
       "<pre style=\"white-space:pre;overflow-x:auto;line-height:normal;font-family:Menlo,'DejaVu Sans Mono',consolas,'Courier New',monospace\">Avg pred: -0.1177, Avg target: 9.9293\n",
       "</pre>\n"
      ],
      "text/plain": [
       "Avg pred: -0.1177, Avg target: 9.9293\n"
      ]
     },
     "metadata": {},
     "output_type": "display_data"
    },
    {
     "data": {
      "text/html": [
       "<pre style=\"white-space:pre;overflow-x:auto;line-height:normal;font-family:Menlo,'DejaVu Sans Mono',consolas,'Courier New',monospace\">Cleared replay buffer to refresh training examples.\n",
       "</pre>\n"
      ],
      "text/plain": [
       "Cleared replay buffer to refresh training examples.\n"
      ]
     },
     "metadata": {},
     "output_type": "display_data"
    },
    {
     "data": {
      "text/html": [
       "<pre style=\"white-space:pre;overflow-x:auto;line-height:normal;font-family:Menlo,'DejaVu Sans Mono',consolas,'Courier New',monospace\">Reward variance in batch: 0.0000\n",
       "</pre>\n"
      ],
      "text/plain": [
       "Reward variance in batch: 0.0000\n"
      ]
     },
     "metadata": {},
     "output_type": "display_data"
    },
    {
     "data": {
      "text/html": [
       "<pre style=\"white-space:pre;overflow-x:auto;line-height:normal;font-family:Menlo,'DejaVu Sans Mono',consolas,'Courier New',monospace\">Trained DQN model with loss: 101.4420\n",
       "</pre>\n"
      ],
      "text/plain": [
       "Trained DQN model with loss: 101.4420\n"
      ]
     },
     "metadata": {},
     "output_type": "display_data"
    },
    {
     "data": {
      "text/html": [
       "<pre style=\"white-space:pre;overflow-x:auto;line-height:normal;font-family:Menlo,'DejaVu Sans Mono',consolas,'Courier New',monospace\">Avg pred: -0.1124, Avg target: 9.9576\n",
       "</pre>\n"
      ],
      "text/plain": [
       "Avg pred: -0.1124, Avg target: 9.9576\n"
      ]
     },
     "metadata": {},
     "output_type": "display_data"
    },
    {
     "data": {
      "text/html": [
       "<pre style=\"white-space:pre;overflow-x:auto;line-height:normal;font-family:Menlo,'DejaVu Sans Mono',consolas,'Courier New',monospace\"></pre>\n"
      ],
      "text/plain": []
     },
     "metadata": {},
     "output_type": "display_data"
    },
    {
     "data": {
      "text/html": [
       "<pre style=\"white-space:pre;overflow-x:auto;line-height:normal;font-family:Menlo,'DejaVu Sans Mono',consolas,'Courier New',monospace\">\n",
       "</pre>\n"
      ],
      "text/plain": [
       "\n"
      ]
     },
     "metadata": {},
     "output_type": "display_data"
    },
    {
     "data": {
      "text/html": [
       "<pre style=\"white-space:pre;overflow-x:auto;line-height:normal;font-family:Menlo,'DejaVu Sans Mono',consolas,'Courier New',monospace\"><span style=\"font-style: italic\">                                      Last 10 Games                                      </span>\n",
       "     ╷                       ╷       ╷           ╷          ╷        ╷         ╷         \n",
       " <span style=\"font-weight: bold\">  # </span>│<span style=\"font-weight: bold\"> SEATING               </span>│<span style=\"font-weight: bold\"> TURNS </span>│<span style=\"font-weight: bold\"> ORANGE VP </span>│<span style=\"font-weight: bold\"> WHITE VP </span>│<span style=\"font-weight: bold\"> RED VP </span>│<span style=\"font-weight: bold\"> BLUE VP </span>│<span style=\"font-weight: bold\"> WINNER </span> \n",
       "╶────┼───────────────────────┼───────┼───────────┼──────────┼────────┼─────────┼────────╴\n",
       "   1 │ <span style=\"color: #000080; text-decoration-color: #000080\">BLUE</span>,<span style=\"color: #c0c0c0; text-decoration-color: #c0c0c0\">WHITE</span>,<span style=\"color: #800000; text-decoration-color: #800000\">RED</span>,<span style=\"color: #808000; text-decoration-color: #808000\">ORANGE</span> │   394 │         4 │        2 │      4 │      10 │ <span style=\"color: #000080; text-decoration-color: #000080\">BLUE</span>    \n",
       "   2 │ <span style=\"color: #800000; text-decoration-color: #800000\">RED</span>,<span style=\"color: #808000; text-decoration-color: #808000\">ORANGE</span>,<span style=\"color: #c0c0c0; text-decoration-color: #c0c0c0\">WHITE</span>,<span style=\"color: #000080; text-decoration-color: #000080\">BLUE</span> │   434 │         6 │        2 │     10 │       4 │ <span style=\"color: #800000; text-decoration-color: #800000\">RED</span>     \n",
       "   3 │ <span style=\"color: #800000; text-decoration-color: #800000\">RED</span>,<span style=\"color: #000080; text-decoration-color: #000080\">BLUE</span>,<span style=\"color: #c0c0c0; text-decoration-color: #c0c0c0\">WHITE</span>,<span style=\"color: #808000; text-decoration-color: #808000\">ORANGE</span> │   656 │         3 │       10 │      4 │       4 │ <span style=\"color: #c0c0c0; text-decoration-color: #c0c0c0\">WHITE</span>   \n",
       "   4 │ <span style=\"color: #800000; text-decoration-color: #800000\">RED</span>,<span style=\"color: #000080; text-decoration-color: #000080\">BLUE</span>,<span style=\"color: #808000; text-decoration-color: #808000\">ORANGE</span>,<span style=\"color: #c0c0c0; text-decoration-color: #c0c0c0\">WHITE</span> │   428 │        10 │        6 │      3 │       4 │ <span style=\"color: #808000; text-decoration-color: #808000\">ORANGE</span>  \n",
       "   5 │ <span style=\"color: #c0c0c0; text-decoration-color: #c0c0c0\">WHITE</span>,<span style=\"color: #808000; text-decoration-color: #808000\">ORANGE</span>,<span style=\"color: #800000; text-decoration-color: #800000\">RED</span>,<span style=\"color: #000080; text-decoration-color: #000080\">BLUE</span> │   435 │        10 │        8 │      2 │       3 │ <span style=\"color: #808000; text-decoration-color: #808000\">ORANGE</span>  \n",
       "   6 │ <span style=\"color: #000080; text-decoration-color: #000080\">BLUE</span>,<span style=\"color: #808000; text-decoration-color: #808000\">ORANGE</span>,<span style=\"color: #c0c0c0; text-decoration-color: #c0c0c0\">WHITE</span>,<span style=\"color: #800000; text-decoration-color: #800000\">RED</span> │   284 │         3 │       10 │      2 │       5 │ <span style=\"color: #c0c0c0; text-decoration-color: #c0c0c0\">WHITE</span>   \n",
       "   7 │ <span style=\"color: #c0c0c0; text-decoration-color: #c0c0c0\">WHITE</span>,<span style=\"color: #000080; text-decoration-color: #000080\">BLUE</span>,<span style=\"color: #800000; text-decoration-color: #800000\">RED</span>,<span style=\"color: #808000; text-decoration-color: #808000\">ORANGE</span> │   353 │        10 │        6 │      2 │       5 │ <span style=\"color: #808000; text-decoration-color: #808000\">ORANGE</span>  \n",
       "   8 │ <span style=\"color: #c0c0c0; text-decoration-color: #c0c0c0\">WHITE</span>,<span style=\"color: #000080; text-decoration-color: #000080\">BLUE</span>,<span style=\"color: #808000; text-decoration-color: #808000\">ORANGE</span>,<span style=\"color: #800000; text-decoration-color: #800000\">RED</span> │   310 │         5 │       10 │      2 │       7 │ <span style=\"color: #c0c0c0; text-decoration-color: #c0c0c0\">WHITE</span>   \n",
       "   9 │ <span style=\"color: #000080; text-decoration-color: #000080\">BLUE</span>,<span style=\"color: #800000; text-decoration-color: #800000\">RED</span>,<span style=\"color: #c0c0c0; text-decoration-color: #c0c0c0\">WHITE</span>,<span style=\"color: #808000; text-decoration-color: #808000\">ORANGE</span> │   346 │         4 │        2 │      2 │      10 │ <span style=\"color: #000080; text-decoration-color: #000080\">BLUE</span>    \n",
       "  10 │ <span style=\"color: #808000; text-decoration-color: #808000\">ORANGE</span>,<span style=\"color: #000080; text-decoration-color: #000080\">BLUE</span>,<span style=\"color: #800000; text-decoration-color: #800000\">RED</span>,<span style=\"color: #c0c0c0; text-decoration-color: #c0c0c0\">WHITE</span> │   393 │         3 │       10 │      2 │       5 │ <span style=\"color: #c0c0c0; text-decoration-color: #c0c0c0\">WHITE</span>   \n",
       "     ╵                       ╵       ╵           ╵          ╵        ╵         ╵         \n",
       "</pre>\n"
      ],
      "text/plain": [
       "\u001b[3m                                      Last 10 Games                                      \u001b[0m\n",
       "     ╷                       ╷       ╷           ╷          ╷        ╷         ╷         \n",
       " \u001b[1m \u001b[0m\u001b[1m #\u001b[0m\u001b[1m \u001b[0m│\u001b[1m \u001b[0m\u001b[1mSEATING              \u001b[0m\u001b[1m \u001b[0m│\u001b[1m \u001b[0m\u001b[1mTURNS\u001b[0m\u001b[1m \u001b[0m│\u001b[1m \u001b[0m\u001b[1mORANGE VP\u001b[0m\u001b[1m \u001b[0m│\u001b[1m \u001b[0m\u001b[1mWHITE VP\u001b[0m\u001b[1m \u001b[0m│\u001b[1m \u001b[0m\u001b[1mRED VP\u001b[0m\u001b[1m \u001b[0m│\u001b[1m \u001b[0m\u001b[1mBLUE VP\u001b[0m\u001b[1m \u001b[0m│\u001b[1m \u001b[0m\u001b[1mWINNER\u001b[0m\u001b[1m \u001b[0m \n",
       "╶────┼───────────────────────┼───────┼───────────┼──────────┼────────┼─────────┼────────╴\n",
       "   1 │ \u001b[34mBLUE\u001b[0m,\u001b[37mWHITE\u001b[0m,\u001b[31mRED\u001b[0m,\u001b[33mORANGE\u001b[0m │   394 │         4 │        2 │      4 │      10 │ \u001b[34mBLUE\u001b[0m    \n",
       "   2 │ \u001b[31mRED\u001b[0m,\u001b[33mORANGE\u001b[0m,\u001b[37mWHITE\u001b[0m,\u001b[34mBLUE\u001b[0m │   434 │         6 │        2 │     10 │       4 │ \u001b[31mRED\u001b[0m     \n",
       "   3 │ \u001b[31mRED\u001b[0m,\u001b[34mBLUE\u001b[0m,\u001b[37mWHITE\u001b[0m,\u001b[33mORANGE\u001b[0m │   656 │         3 │       10 │      4 │       4 │ \u001b[37mWHITE\u001b[0m   \n",
       "   4 │ \u001b[31mRED\u001b[0m,\u001b[34mBLUE\u001b[0m,\u001b[33mORANGE\u001b[0m,\u001b[37mWHITE\u001b[0m │   428 │        10 │        6 │      3 │       4 │ \u001b[33mORANGE\u001b[0m  \n",
       "   5 │ \u001b[37mWHITE\u001b[0m,\u001b[33mORANGE\u001b[0m,\u001b[31mRED\u001b[0m,\u001b[34mBLUE\u001b[0m │   435 │        10 │        8 │      2 │       3 │ \u001b[33mORANGE\u001b[0m  \n",
       "   6 │ \u001b[34mBLUE\u001b[0m,\u001b[33mORANGE\u001b[0m,\u001b[37mWHITE\u001b[0m,\u001b[31mRED\u001b[0m │   284 │         3 │       10 │      2 │       5 │ \u001b[37mWHITE\u001b[0m   \n",
       "   7 │ \u001b[37mWHITE\u001b[0m,\u001b[34mBLUE\u001b[0m,\u001b[31mRED\u001b[0m,\u001b[33mORANGE\u001b[0m │   353 │        10 │        6 │      2 │       5 │ \u001b[33mORANGE\u001b[0m  \n",
       "   8 │ \u001b[37mWHITE\u001b[0m,\u001b[34mBLUE\u001b[0m,\u001b[33mORANGE\u001b[0m,\u001b[31mRED\u001b[0m │   310 │         5 │       10 │      2 │       7 │ \u001b[37mWHITE\u001b[0m   \n",
       "   9 │ \u001b[34mBLUE\u001b[0m,\u001b[31mRED\u001b[0m,\u001b[37mWHITE\u001b[0m,\u001b[33mORANGE\u001b[0m │   346 │         4 │        2 │      2 │      10 │ \u001b[34mBLUE\u001b[0m    \n",
       "  10 │ \u001b[33mORANGE\u001b[0m,\u001b[34mBLUE\u001b[0m,\u001b[31mRED\u001b[0m,\u001b[37mWHITE\u001b[0m │   393 │         3 │       10 │      2 │       5 │ \u001b[37mWHITE\u001b[0m   \n",
       "     ╵                       ╵       ╵           ╵          ╵        ╵         ╵         \n"
      ]
     },
     "metadata": {},
     "output_type": "display_data"
    },
    {
     "data": {
      "text/html": [
       "<pre style=\"white-space:pre;overflow-x:auto;line-height:normal;font-family:Menlo,'DejaVu Sans Mono',consolas,'Courier New',monospace\"><span style=\"font-style: italic\">                                           Player Summary                                            </span>\n",
       "                      ╷      ╷        ╷             ╷            ╷          ╷          ╷             \n",
       " <span style=\"font-weight: bold\">                     </span>│<span style=\"font-weight: bold\"> WINS </span>│<span style=\"font-weight: bold\"> AVG VP </span>│<span style=\"font-weight: bold\"> AVG SETTLES </span>│<span style=\"font-weight: bold\"> AVG CITIES </span>│<span style=\"font-weight: bold\"> AVG ROAD </span>│<span style=\"font-weight: bold\"> AVG ARMY </span>│<span style=\"font-weight: bold\"> AVG DEV VP </span> \n",
       "╶─────────────────────┼──────┼────────┼─────────────┼────────────┼──────────┼──────────┼────────────╴\n",
       "  <span style=\"color: #808000; text-decoration-color: #808000\">RandomPlayer:ORANGE</span> │    3 │   5.80 │        1.60 │       1.10 │     0.10 │     0.40 │       1.00  \n",
       "  <span style=\"color: #c0c0c0; text-decoration-color: #c0c0c0\">RandomPlayer:WHITE</span>  │    4 │   6.60 │        2.80 │       0.80 │     0.30 │     0.40 │       0.80  \n",
       "  <span style=\"color: #800000; text-decoration-color: #800000\">AB_DQNPlayer_1:RED</span>  │    1 │   3.30 │        2.00 │       0.40 │     0.10 │     0.00 │       0.30  \n",
       "  <span style=\"color: #000080; text-decoration-color: #000080\">RandomPlayer:BLUE</span>   │    2 │   5.70 │        2.50 │       0.40 │     0.50 │     0.10 │       1.20  \n",
       "                      ╵      ╵        ╵             ╵            ╵          ╵          ╵             \n",
       "</pre>\n"
      ],
      "text/plain": [
       "\u001b[3m                                           Player Summary                                            \u001b[0m\n",
       "                      ╷      ╷        ╷             ╷            ╷          ╷          ╷             \n",
       " \u001b[1m \u001b[0m\u001b[1m                   \u001b[0m\u001b[1m \u001b[0m│\u001b[1m \u001b[0m\u001b[1mWINS\u001b[0m\u001b[1m \u001b[0m│\u001b[1m \u001b[0m\u001b[1mAVG VP\u001b[0m\u001b[1m \u001b[0m│\u001b[1m \u001b[0m\u001b[1mAVG SETTLES\u001b[0m\u001b[1m \u001b[0m│\u001b[1m \u001b[0m\u001b[1mAVG CITIES\u001b[0m\u001b[1m \u001b[0m│\u001b[1m \u001b[0m\u001b[1mAVG ROAD\u001b[0m\u001b[1m \u001b[0m│\u001b[1m \u001b[0m\u001b[1mAVG ARMY\u001b[0m\u001b[1m \u001b[0m│\u001b[1m \u001b[0m\u001b[1mAVG DEV VP\u001b[0m\u001b[1m \u001b[0m \n",
       "╶─────────────────────┼──────┼────────┼─────────────┼────────────┼──────────┼──────────┼────────────╴\n",
       "  \u001b[33mRandomPlayer:ORANGE\u001b[0m │    3 │   5.80 │        1.60 │       1.10 │     0.10 │     0.40 │       1.00  \n",
       "  \u001b[37mRandomPlayer:WHITE\u001b[0m  │    4 │   6.60 │        2.80 │       0.80 │     0.30 │     0.40 │       0.80  \n",
       "  \u001b[31mAB_DQNPlayer_1:RED\u001b[0m  │    1 │   3.30 │        2.00 │       0.40 │     0.10 │     0.00 │       0.30  \n",
       "  \u001b[34mRandomPlayer:BLUE\u001b[0m   │    2 │   5.70 │        2.50 │       0.40 │     0.50 │     0.10 │       1.20  \n",
       "                      ╵      ╵        ╵             ╵            ╵          ╵          ╵             \n"
      ]
     },
     "metadata": {},
     "output_type": "display_data"
    },
    {
     "data": {
      "text/html": [
       "<pre style=\"white-space:pre;overflow-x:auto;line-height:normal;font-family:Menlo,'DejaVu Sans Mono',consolas,'Courier New',monospace\"><span style=\"font-style: italic\">              Game Summary              </span>\n",
       "            ╷           ╷               \n",
       " <span style=\"font-weight: bold\"> AVG TICKS </span>│<span style=\"font-weight: bold\"> AVG TURNS </span>│<span style=\"font-weight: bold\"> AVG DURATION </span> \n",
       "╶───────────┼───────────┼──────────────╴\n",
       "    1116.40 │    403.30 │  17.550 secs  \n",
       "            ╵           ╵               \n",
       "</pre>\n"
      ],
      "text/plain": [
       "\u001b[3m              Game Summary              \u001b[0m\n",
       "            ╷           ╷               \n",
       " \u001b[1m \u001b[0m\u001b[1mAVG TICKS\u001b[0m\u001b[1m \u001b[0m│\u001b[1m \u001b[0m\u001b[1mAVG TURNS\u001b[0m\u001b[1m \u001b[0m│\u001b[1m \u001b[0m\u001b[1mAVG DURATION\u001b[0m\u001b[1m \u001b[0m \n",
       "╶───────────┼───────────┼──────────────╴\n",
       "    1116.40 │    403.30 │  17.550 secs  \n",
       "            ╵           ╵               \n"
      ]
     },
     "metadata": {},
     "output_type": "display_data"
    },
    {
     "name": "stdout",
     "output_type": "stream",
     "text": [
      "Loaded replay buffer with 147 transitions\n",
      "atch 19/50: Playing 10 games\n"
     ]
    },
    {
     "data": {
      "text/html": [
       "<pre style=\"white-space:pre;overflow-x:auto;line-height:normal;font-family:Menlo,'DejaVu Sans Mono',consolas,'Courier New',monospace\">Cleared replay buffer to refresh training examples.\n",
       "</pre>\n"
      ],
      "text/plain": [
       "Cleared replay buffer to refresh training examples.\n"
      ]
     },
     "metadata": {},
     "output_type": "display_data"
    },
    {
     "data": {
      "text/html": [
       "<pre style=\"white-space:pre;overflow-x:auto;line-height:normal;font-family:Menlo,'DejaVu Sans Mono',consolas,'Courier New',monospace\">Reward variance in batch: 0.0000\n",
       "</pre>\n"
      ],
      "text/plain": [
       "Reward variance in batch: 0.0000\n"
      ]
     },
     "metadata": {},
     "output_type": "display_data"
    },
    {
     "data": {
      "text/html": [
       "<pre style=\"white-space:pre;overflow-x:auto;line-height:normal;font-family:Menlo,'DejaVu Sans Mono',consolas,'Courier New',monospace\">Trained DQN model with loss: 100.4441\n",
       "</pre>\n"
      ],
      "text/plain": [
       "Trained DQN model with loss: 100.4441\n"
      ]
     },
     "metadata": {},
     "output_type": "display_data"
    },
    {
     "data": {
      "text/html": [
       "<pre style=\"white-space:pre;overflow-x:auto;line-height:normal;font-family:Menlo,'DejaVu Sans Mono',consolas,'Courier New',monospace\">Avg pred: -0.0720, Avg target: 9.9485\n",
       "</pre>\n"
      ],
      "text/plain": [
       "Avg pred: -0.0720, Avg target: 9.9485\n"
      ]
     },
     "metadata": {},
     "output_type": "display_data"
    },
    {
     "data": {
      "text/html": [
       "<pre style=\"white-space:pre;overflow-x:auto;line-height:normal;font-family:Menlo,'DejaVu Sans Mono',consolas,'Courier New',monospace\">Cleared replay buffer to refresh training examples.\n",
       "</pre>\n"
      ],
      "text/plain": [
       "Cleared replay buffer to refresh training examples.\n"
      ]
     },
     "metadata": {},
     "output_type": "display_data"
    },
    {
     "data": {
      "text/html": [
       "<pre style=\"white-space:pre;overflow-x:auto;line-height:normal;font-family:Menlo,'DejaVu Sans Mono',consolas,'Courier New',monospace\">Reward variance in batch: 0.0000\n",
       "</pre>\n"
      ],
      "text/plain": [
       "Reward variance in batch: 0.0000\n"
      ]
     },
     "metadata": {},
     "output_type": "display_data"
    },
    {
     "data": {
      "text/html": [
       "<pre style=\"white-space:pre;overflow-x:auto;line-height:normal;font-family:Menlo,'DejaVu Sans Mono',consolas,'Courier New',monospace\">Trained DQN model with loss: 101.6650\n",
       "</pre>\n"
      ],
      "text/plain": [
       "Trained DQN model with loss: 101.6650\n"
      ]
     },
     "metadata": {},
     "output_type": "display_data"
    },
    {
     "data": {
      "text/html": [
       "<pre style=\"white-space:pre;overflow-x:auto;line-height:normal;font-family:Menlo,'DejaVu Sans Mono',consolas,'Courier New',monospace\">Avg pred: -0.1018, Avg target: 9.9803\n",
       "</pre>\n"
      ],
      "text/plain": [
       "Avg pred: -0.1018, Avg target: 9.9803\n"
      ]
     },
     "metadata": {},
     "output_type": "display_data"
    },
    {
     "data": {
      "text/html": [
       "<pre style=\"white-space:pre;overflow-x:auto;line-height:normal;font-family:Menlo,'DejaVu Sans Mono',consolas,'Courier New',monospace\"></pre>\n"
      ],
      "text/plain": []
     },
     "metadata": {},
     "output_type": "display_data"
    },
    {
     "data": {
      "text/html": [
       "<pre style=\"white-space:pre;overflow-x:auto;line-height:normal;font-family:Menlo,'DejaVu Sans Mono',consolas,'Courier New',monospace\">\n",
       "</pre>\n"
      ],
      "text/plain": [
       "\n"
      ]
     },
     "metadata": {},
     "output_type": "display_data"
    },
    {
     "data": {
      "text/html": [
       "<pre style=\"white-space:pre;overflow-x:auto;line-height:normal;font-family:Menlo,'DejaVu Sans Mono',consolas,'Courier New',monospace\"><span style=\"font-style: italic\">                                      Last 10 Games                                      </span>\n",
       "     ╷                       ╷       ╷           ╷          ╷        ╷         ╷         \n",
       " <span style=\"font-weight: bold\">  # </span>│<span style=\"font-weight: bold\"> SEATING               </span>│<span style=\"font-weight: bold\"> TURNS </span>│<span style=\"font-weight: bold\"> ORANGE VP </span>│<span style=\"font-weight: bold\"> WHITE VP </span>│<span style=\"font-weight: bold\"> RED VP </span>│<span style=\"font-weight: bold\"> BLUE VP </span>│<span style=\"font-weight: bold\"> WINNER </span> \n",
       "╶────┼───────────────────────┼───────┼───────────┼──────────┼────────┼─────────┼────────╴\n",
       "   1 │ <span style=\"color: #808000; text-decoration-color: #808000\">ORANGE</span>,<span style=\"color: #000080; text-decoration-color: #000080\">BLUE</span>,<span style=\"color: #800000; text-decoration-color: #800000\">RED</span>,<span style=\"color: #c0c0c0; text-decoration-color: #c0c0c0\">WHITE</span> │   151 │         3 │        2 │      2 │      10 │ <span style=\"color: #000080; text-decoration-color: #000080\">BLUE</span>    \n",
       "   2 │ <span style=\"color: #800000; text-decoration-color: #800000\">RED</span>,<span style=\"color: #c0c0c0; text-decoration-color: #c0c0c0\">WHITE</span>,<span style=\"color: #000080; text-decoration-color: #000080\">BLUE</span>,<span style=\"color: #808000; text-decoration-color: #808000\">ORANGE</span> │   268 │         2 │        2 │      4 │      10 │ <span style=\"color: #000080; text-decoration-color: #000080\">BLUE</span>    \n",
       "   3 │ <span style=\"color: #000080; text-decoration-color: #000080\">BLUE</span>,<span style=\"color: #800000; text-decoration-color: #800000\">RED</span>,<span style=\"color: #808000; text-decoration-color: #808000\">ORANGE</span>,<span style=\"color: #c0c0c0; text-decoration-color: #c0c0c0\">WHITE</span> │   261 │         3 │       10 │      2 │       7 │ <span style=\"color: #c0c0c0; text-decoration-color: #c0c0c0\">WHITE</span>   \n",
       "   4 │ <span style=\"color: #c0c0c0; text-decoration-color: #c0c0c0\">WHITE</span>,<span style=\"color: #000080; text-decoration-color: #000080\">BLUE</span>,<span style=\"color: #808000; text-decoration-color: #808000\">ORANGE</span>,<span style=\"color: #800000; text-decoration-color: #800000\">RED</span> │   470 │         2 │       10 │      3 │       3 │ <span style=\"color: #c0c0c0; text-decoration-color: #c0c0c0\">WHITE</span>   \n",
       "   5 │ <span style=\"color: #800000; text-decoration-color: #800000\">RED</span>,<span style=\"color: #808000; text-decoration-color: #808000\">ORANGE</span>,<span style=\"color: #000080; text-decoration-color: #000080\">BLUE</span>,<span style=\"color: #c0c0c0; text-decoration-color: #c0c0c0\">WHITE</span> │   241 │         5 │       10 │      2 │       4 │ <span style=\"color: #c0c0c0; text-decoration-color: #c0c0c0\">WHITE</span>   \n",
       "   6 │ <span style=\"color: #c0c0c0; text-decoration-color: #c0c0c0\">WHITE</span>,<span style=\"color: #000080; text-decoration-color: #000080\">BLUE</span>,<span style=\"color: #800000; text-decoration-color: #800000\">RED</span>,<span style=\"color: #808000; text-decoration-color: #808000\">ORANGE</span> │   417 │        10 │        3 │      2 │       6 │ <span style=\"color: #808000; text-decoration-color: #808000\">ORANGE</span>  \n",
       "   7 │ <span style=\"color: #808000; text-decoration-color: #808000\">ORANGE</span>,<span style=\"color: #800000; text-decoration-color: #800000\">RED</span>,<span style=\"color: #c0c0c0; text-decoration-color: #c0c0c0\">WHITE</span>,<span style=\"color: #000080; text-decoration-color: #000080\">BLUE</span> │   160 │         3 │       10 │      2 │       2 │ <span style=\"color: #c0c0c0; text-decoration-color: #c0c0c0\">WHITE</span>   \n",
       "   8 │ <span style=\"color: #c0c0c0; text-decoration-color: #c0c0c0\">WHITE</span>,<span style=\"color: #800000; text-decoration-color: #800000\">RED</span>,<span style=\"color: #000080; text-decoration-color: #000080\">BLUE</span>,<span style=\"color: #808000; text-decoration-color: #808000\">ORANGE</span> │   180 │         3 │        2 │      2 │      10 │ <span style=\"color: #000080; text-decoration-color: #000080\">BLUE</span>    \n",
       "   9 │ <span style=\"color: #000080; text-decoration-color: #000080\">BLUE</span>,<span style=\"color: #c0c0c0; text-decoration-color: #c0c0c0\">WHITE</span>,<span style=\"color: #808000; text-decoration-color: #808000\">ORANGE</span>,<span style=\"color: #800000; text-decoration-color: #800000\">RED</span> │   443 │         5 │       10 │      2 │       5 │ <span style=\"color: #c0c0c0; text-decoration-color: #c0c0c0\">WHITE</span>   \n",
       "  10 │ <span style=\"color: #808000; text-decoration-color: #808000\">ORANGE</span>,<span style=\"color: #000080; text-decoration-color: #000080\">BLUE</span>,<span style=\"color: #800000; text-decoration-color: #800000\">RED</span>,<span style=\"color: #c0c0c0; text-decoration-color: #c0c0c0\">WHITE</span> │   698 │        10 │        7 │      2 │       6 │ <span style=\"color: #808000; text-decoration-color: #808000\">ORANGE</span>  \n",
       "     ╵                       ╵       ╵           ╵          ╵        ╵         ╵         \n",
       "</pre>\n"
      ],
      "text/plain": [
       "\u001b[3m                                      Last 10 Games                                      \u001b[0m\n",
       "     ╷                       ╷       ╷           ╷          ╷        ╷         ╷         \n",
       " \u001b[1m \u001b[0m\u001b[1m #\u001b[0m\u001b[1m \u001b[0m│\u001b[1m \u001b[0m\u001b[1mSEATING              \u001b[0m\u001b[1m \u001b[0m│\u001b[1m \u001b[0m\u001b[1mTURNS\u001b[0m\u001b[1m \u001b[0m│\u001b[1m \u001b[0m\u001b[1mORANGE VP\u001b[0m\u001b[1m \u001b[0m│\u001b[1m \u001b[0m\u001b[1mWHITE VP\u001b[0m\u001b[1m \u001b[0m│\u001b[1m \u001b[0m\u001b[1mRED VP\u001b[0m\u001b[1m \u001b[0m│\u001b[1m \u001b[0m\u001b[1mBLUE VP\u001b[0m\u001b[1m \u001b[0m│\u001b[1m \u001b[0m\u001b[1mWINNER\u001b[0m\u001b[1m \u001b[0m \n",
       "╶────┼───────────────────────┼───────┼───────────┼──────────┼────────┼─────────┼────────╴\n",
       "   1 │ \u001b[33mORANGE\u001b[0m,\u001b[34mBLUE\u001b[0m,\u001b[31mRED\u001b[0m,\u001b[37mWHITE\u001b[0m │   151 │         3 │        2 │      2 │      10 │ \u001b[34mBLUE\u001b[0m    \n",
       "   2 │ \u001b[31mRED\u001b[0m,\u001b[37mWHITE\u001b[0m,\u001b[34mBLUE\u001b[0m,\u001b[33mORANGE\u001b[0m │   268 │         2 │        2 │      4 │      10 │ \u001b[34mBLUE\u001b[0m    \n",
       "   3 │ \u001b[34mBLUE\u001b[0m,\u001b[31mRED\u001b[0m,\u001b[33mORANGE\u001b[0m,\u001b[37mWHITE\u001b[0m │   261 │         3 │       10 │      2 │       7 │ \u001b[37mWHITE\u001b[0m   \n",
       "   4 │ \u001b[37mWHITE\u001b[0m,\u001b[34mBLUE\u001b[0m,\u001b[33mORANGE\u001b[0m,\u001b[31mRED\u001b[0m │   470 │         2 │       10 │      3 │       3 │ \u001b[37mWHITE\u001b[0m   \n",
       "   5 │ \u001b[31mRED\u001b[0m,\u001b[33mORANGE\u001b[0m,\u001b[34mBLUE\u001b[0m,\u001b[37mWHITE\u001b[0m │   241 │         5 │       10 │      2 │       4 │ \u001b[37mWHITE\u001b[0m   \n",
       "   6 │ \u001b[37mWHITE\u001b[0m,\u001b[34mBLUE\u001b[0m,\u001b[31mRED\u001b[0m,\u001b[33mORANGE\u001b[0m │   417 │        10 │        3 │      2 │       6 │ \u001b[33mORANGE\u001b[0m  \n",
       "   7 │ \u001b[33mORANGE\u001b[0m,\u001b[31mRED\u001b[0m,\u001b[37mWHITE\u001b[0m,\u001b[34mBLUE\u001b[0m │   160 │         3 │       10 │      2 │       2 │ \u001b[37mWHITE\u001b[0m   \n",
       "   8 │ \u001b[37mWHITE\u001b[0m,\u001b[31mRED\u001b[0m,\u001b[34mBLUE\u001b[0m,\u001b[33mORANGE\u001b[0m │   180 │         3 │        2 │      2 │      10 │ \u001b[34mBLUE\u001b[0m    \n",
       "   9 │ \u001b[34mBLUE\u001b[0m,\u001b[37mWHITE\u001b[0m,\u001b[33mORANGE\u001b[0m,\u001b[31mRED\u001b[0m │   443 │         5 │       10 │      2 │       5 │ \u001b[37mWHITE\u001b[0m   \n",
       "  10 │ \u001b[33mORANGE\u001b[0m,\u001b[34mBLUE\u001b[0m,\u001b[31mRED\u001b[0m,\u001b[37mWHITE\u001b[0m │   698 │        10 │        7 │      2 │       6 │ \u001b[33mORANGE\u001b[0m  \n",
       "     ╵                       ╵       ╵           ╵          ╵        ╵         ╵         \n"
      ]
     },
     "metadata": {},
     "output_type": "display_data"
    },
    {
     "data": {
      "text/html": [
       "<pre style=\"white-space:pre;overflow-x:auto;line-height:normal;font-family:Menlo,'DejaVu Sans Mono',consolas,'Courier New',monospace\"><span style=\"font-style: italic\">                                           Player Summary                                            </span>\n",
       "                      ╷      ╷        ╷             ╷            ╷          ╷          ╷             \n",
       " <span style=\"font-weight: bold\">                     </span>│<span style=\"font-weight: bold\"> WINS </span>│<span style=\"font-weight: bold\"> AVG VP </span>│<span style=\"font-weight: bold\"> AVG SETTLES </span>│<span style=\"font-weight: bold\"> AVG CITIES </span>│<span style=\"font-weight: bold\"> AVG ROAD </span>│<span style=\"font-weight: bold\"> AVG ARMY </span>│<span style=\"font-weight: bold\"> AVG DEV VP </span> \n",
       "╶─────────────────────┼──────┼────────┼─────────────┼────────────┼──────────┼──────────┼────────────╴\n",
       "  <span style=\"color: #808000; text-decoration-color: #808000\">RandomPlayer:ORANGE</span> │    2 │   4.60 │        1.90 │       0.70 │     0.10 │     0.10 │       0.90  \n",
       "  <span style=\"color: #c0c0c0; text-decoration-color: #c0c0c0\">RandomPlayer:WHITE</span>  │    5 │   6.60 │        2.50 │       0.70 │     0.40 │     0.50 │       0.90  \n",
       "  <span style=\"color: #800000; text-decoration-color: #800000\">AB_DQNPlayer_1:RED</span>  │    0 │   2.30 │        1.80 │       0.20 │     0.00 │     0.00 │       0.10  \n",
       "  <span style=\"color: #000080; text-decoration-color: #000080\">RandomPlayer:BLUE</span>   │    3 │   6.30 │        2.20 │       0.70 │     0.50 │     0.30 │       1.10  \n",
       "                      ╵      ╵        ╵             ╵            ╵          ╵          ╵             \n",
       "</pre>\n"
      ],
      "text/plain": [
       "\u001b[3m                                           Player Summary                                            \u001b[0m\n",
       "                      ╷      ╷        ╷             ╷            ╷          ╷          ╷             \n",
       " \u001b[1m \u001b[0m\u001b[1m                   \u001b[0m\u001b[1m \u001b[0m│\u001b[1m \u001b[0m\u001b[1mWINS\u001b[0m\u001b[1m \u001b[0m│\u001b[1m \u001b[0m\u001b[1mAVG VP\u001b[0m\u001b[1m \u001b[0m│\u001b[1m \u001b[0m\u001b[1mAVG SETTLES\u001b[0m\u001b[1m \u001b[0m│\u001b[1m \u001b[0m\u001b[1mAVG CITIES\u001b[0m\u001b[1m \u001b[0m│\u001b[1m \u001b[0m\u001b[1mAVG ROAD\u001b[0m\u001b[1m \u001b[0m│\u001b[1m \u001b[0m\u001b[1mAVG ARMY\u001b[0m\u001b[1m \u001b[0m│\u001b[1m \u001b[0m\u001b[1mAVG DEV VP\u001b[0m\u001b[1m \u001b[0m \n",
       "╶─────────────────────┼──────┼────────┼─────────────┼────────────┼──────────┼──────────┼────────────╴\n",
       "  \u001b[33mRandomPlayer:ORANGE\u001b[0m │    2 │   4.60 │        1.90 │       0.70 │     0.10 │     0.10 │       0.90  \n",
       "  \u001b[37mRandomPlayer:WHITE\u001b[0m  │    5 │   6.60 │        2.50 │       0.70 │     0.40 │     0.50 │       0.90  \n",
       "  \u001b[31mAB_DQNPlayer_1:RED\u001b[0m  │    0 │   2.30 │        1.80 │       0.20 │     0.00 │     0.00 │       0.10  \n",
       "  \u001b[34mRandomPlayer:BLUE\u001b[0m   │    3 │   6.30 │        2.20 │       0.70 │     0.50 │     0.30 │       1.10  \n",
       "                      ╵      ╵        ╵             ╵            ╵          ╵          ╵             \n"
      ]
     },
     "metadata": {},
     "output_type": "display_data"
    },
    {
     "data": {
      "text/html": [
       "<pre style=\"white-space:pre;overflow-x:auto;line-height:normal;font-family:Menlo,'DejaVu Sans Mono',consolas,'Courier New',monospace\"><span style=\"font-style: italic\">              Game Summary              </span>\n",
       "            ╷           ╷               \n",
       " <span style=\"font-weight: bold\"> AVG TICKS </span>│<span style=\"font-weight: bold\"> AVG TURNS </span>│<span style=\"font-weight: bold\"> AVG DURATION </span> \n",
       "╶───────────┼───────────┼──────────────╴\n",
       "     911.20 │    328.90 │  13.065 secs  \n",
       "            ╵           ╵               \n",
       "</pre>\n"
      ],
      "text/plain": [
       "\u001b[3m              Game Summary              \u001b[0m\n",
       "            ╷           ╷               \n",
       " \u001b[1m \u001b[0m\u001b[1mAVG TICKS\u001b[0m\u001b[1m \u001b[0m│\u001b[1m \u001b[0m\u001b[1mAVG TURNS\u001b[0m\u001b[1m \u001b[0m│\u001b[1m \u001b[0m\u001b[1mAVG DURATION\u001b[0m\u001b[1m \u001b[0m \n",
       "╶───────────┼───────────┼──────────────╴\n",
       "     911.20 │    328.90 │  13.065 secs  \n",
       "            ╵           ╵               \n"
      ]
     },
     "metadata": {},
     "output_type": "display_data"
    },
    {
     "name": "stdout",
     "output_type": "stream",
     "text": [
      "Loaded replay buffer with 3025 transitions\n",
      "atch 20/50: Playing 10 games\n"
     ]
    },
    {
     "data": {
      "text/html": [
       "<pre style=\"white-space:pre;overflow-x:auto;line-height:normal;font-family:Menlo,'DejaVu Sans Mono',consolas,'Courier New',monospace\">Cleared replay buffer to refresh training examples.\n",
       "</pre>\n"
      ],
      "text/plain": [
       "Cleared replay buffer to refresh training examples.\n"
      ]
     },
     "metadata": {},
     "output_type": "display_data"
    },
    {
     "data": {
      "text/html": [
       "<pre style=\"white-space:pre;overflow-x:auto;line-height:normal;font-family:Menlo,'DejaVu Sans Mono',consolas,'Courier New',monospace\">Reward variance in batch: 0.0000\n",
       "</pre>\n"
      ],
      "text/plain": [
       "Reward variance in batch: 0.0000\n"
      ]
     },
     "metadata": {},
     "output_type": "display_data"
    },
    {
     "data": {
      "text/html": [
       "<pre style=\"white-space:pre;overflow-x:auto;line-height:normal;font-family:Menlo,'DejaVu Sans Mono',consolas,'Courier New',monospace\">Trained DQN model with loss: 102.2339\n",
       "</pre>\n"
      ],
      "text/plain": [
       "Trained DQN model with loss: 102.2339\n"
      ]
     },
     "metadata": {},
     "output_type": "display_data"
    },
    {
     "data": {
      "text/html": [
       "<pre style=\"white-space:pre;overflow-x:auto;line-height:normal;font-family:Menlo,'DejaVu Sans Mono',consolas,'Courier New',monospace\">Avg pred: -0.1546, Avg target: 9.9544\n",
       "</pre>\n"
      ],
      "text/plain": [
       "Avg pred: -0.1546, Avg target: 9.9544\n"
      ]
     },
     "metadata": {},
     "output_type": "display_data"
    },
    {
     "data": {
      "text/html": [
       "<pre style=\"white-space:pre;overflow-x:auto;line-height:normal;font-family:Menlo,'DejaVu Sans Mono',consolas,'Courier New',monospace\">Cleared replay buffer to refresh training examples.\n",
       "</pre>\n"
      ],
      "text/plain": [
       "Cleared replay buffer to refresh training examples.\n"
      ]
     },
     "metadata": {},
     "output_type": "display_data"
    },
    {
     "data": {
      "text/html": [
       "<pre style=\"white-space:pre;overflow-x:auto;line-height:normal;font-family:Menlo,'DejaVu Sans Mono',consolas,'Courier New',monospace\">Reward variance in batch: 0.0000\n",
       "</pre>\n"
      ],
      "text/plain": [
       "Reward variance in batch: 0.0000\n"
      ]
     },
     "metadata": {},
     "output_type": "display_data"
    },
    {
     "data": {
      "text/html": [
       "<pre style=\"white-space:pre;overflow-x:auto;line-height:normal;font-family:Menlo,'DejaVu Sans Mono',consolas,'Courier New',monospace\">Trained DQN model with loss: 101.6196\n",
       "</pre>\n"
      ],
      "text/plain": [
       "Trained DQN model with loss: 101.6196\n"
      ]
     },
     "metadata": {},
     "output_type": "display_data"
    },
    {
     "data": {
      "text/html": [
       "<pre style=\"white-space:pre;overflow-x:auto;line-height:normal;font-family:Menlo,'DejaVu Sans Mono',consolas,'Courier New',monospace\">Avg pred: -0.1069, Avg target: 9.9715\n",
       "</pre>\n"
      ],
      "text/plain": [
       "Avg pred: -0.1069, Avg target: 9.9715\n"
      ]
     },
     "metadata": {},
     "output_type": "display_data"
    },
    {
     "data": {
      "text/html": [
       "<pre style=\"white-space:pre;overflow-x:auto;line-height:normal;font-family:Menlo,'DejaVu Sans Mono',consolas,'Courier New',monospace\">Cleared replay buffer to refresh training examples.\n",
       "</pre>\n"
      ],
      "text/plain": [
       "Cleared replay buffer to refresh training examples.\n"
      ]
     },
     "metadata": {},
     "output_type": "display_data"
    },
    {
     "data": {
      "text/html": [
       "<pre style=\"white-space:pre;overflow-x:auto;line-height:normal;font-family:Menlo,'DejaVu Sans Mono',consolas,'Courier New',monospace\">Reward variance in batch: 0.0000\n",
       "</pre>\n"
      ],
      "text/plain": [
       "Reward variance in batch: 0.0000\n"
      ]
     },
     "metadata": {},
     "output_type": "display_data"
    },
    {
     "data": {
      "text/html": [
       "<pre style=\"white-space:pre;overflow-x:auto;line-height:normal;font-family:Menlo,'DejaVu Sans Mono',consolas,'Courier New',monospace\">Trained DQN model with loss: 103.1582\n",
       "</pre>\n"
      ],
      "text/plain": [
       "Trained DQN model with loss: 103.1582\n"
      ]
     },
     "metadata": {},
     "output_type": "display_data"
    },
    {
     "data": {
      "text/html": [
       "<pre style=\"white-space:pre;overflow-x:auto;line-height:normal;font-family:Menlo,'DejaVu Sans Mono',consolas,'Courier New',monospace\">Avg pred: -0.1775, Avg target: 9.9779\n",
       "</pre>\n"
      ],
      "text/plain": [
       "Avg pred: -0.1775, Avg target: 9.9779\n"
      ]
     },
     "metadata": {},
     "output_type": "display_data"
    },
    {
     "data": {
      "text/html": [
       "<pre style=\"white-space:pre;overflow-x:auto;line-height:normal;font-family:Menlo,'DejaVu Sans Mono',consolas,'Courier New',monospace\"></pre>\n"
      ],
      "text/plain": []
     },
     "metadata": {},
     "output_type": "display_data"
    },
    {
     "data": {
      "text/html": [
       "<pre style=\"white-space:pre;overflow-x:auto;line-height:normal;font-family:Menlo,'DejaVu Sans Mono',consolas,'Courier New',monospace\">\n",
       "</pre>\n"
      ],
      "text/plain": [
       "\n"
      ]
     },
     "metadata": {},
     "output_type": "display_data"
    },
    {
     "data": {
      "text/html": [
       "<pre style=\"white-space:pre;overflow-x:auto;line-height:normal;font-family:Menlo,'DejaVu Sans Mono',consolas,'Courier New',monospace\"><span style=\"font-style: italic\">                                      Last 10 Games                                      </span>\n",
       "     ╷                       ╷       ╷        ╷         ╷           ╷          ╷         \n",
       " <span style=\"font-weight: bold\">  # </span>│<span style=\"font-weight: bold\"> SEATING               </span>│<span style=\"font-weight: bold\"> TURNS </span>│<span style=\"font-weight: bold\"> RED VP </span>│<span style=\"font-weight: bold\"> BLUE VP </span>│<span style=\"font-weight: bold\"> ORANGE VP </span>│<span style=\"font-weight: bold\"> WHITE VP </span>│<span style=\"font-weight: bold\"> WINNER </span> \n",
       "╶────┼───────────────────────┼───────┼────────┼─────────┼───────────┼──────────┼────────╴\n",
       "   1 │ <span style=\"color: #000080; text-decoration-color: #000080\">BLUE</span>,<span style=\"color: #808000; text-decoration-color: #808000\">ORANGE</span>,<span style=\"color: #c0c0c0; text-decoration-color: #c0c0c0\">WHITE</span>,<span style=\"color: #800000; text-decoration-color: #800000\">RED</span> │   350 │      2 │      11 │         4 │        6 │ <span style=\"color: #000080; text-decoration-color: #000080\">BLUE</span>    \n",
       "   2 │ <span style=\"color: #000080; text-decoration-color: #000080\">BLUE</span>,<span style=\"color: #800000; text-decoration-color: #800000\">RED</span>,<span style=\"color: #808000; text-decoration-color: #808000\">ORANGE</span>,<span style=\"color: #c0c0c0; text-decoration-color: #c0c0c0\">WHITE</span> │   538 │      3 │      10 │         4 │        8 │ <span style=\"color: #000080; text-decoration-color: #000080\">BLUE</span>    \n",
       "   3 │ <span style=\"color: #808000; text-decoration-color: #808000\">ORANGE</span>,<span style=\"color: #000080; text-decoration-color: #000080\">BLUE</span>,<span style=\"color: #800000; text-decoration-color: #800000\">RED</span>,<span style=\"color: #c0c0c0; text-decoration-color: #c0c0c0\">WHITE</span> │   330 │      3 │       7 │        11 │        2 │ <span style=\"color: #808000; text-decoration-color: #808000\">ORANGE</span>  \n",
       "   4 │ <span style=\"color: #800000; text-decoration-color: #800000\">RED</span>,<span style=\"color: #c0c0c0; text-decoration-color: #c0c0c0\">WHITE</span>,<span style=\"color: #808000; text-decoration-color: #808000\">ORANGE</span>,<span style=\"color: #000080; text-decoration-color: #000080\">BLUE</span> │   871 │      3 │       7 │         7 │       10 │ <span style=\"color: #c0c0c0; text-decoration-color: #c0c0c0\">WHITE</span>   \n",
       "   5 │ <span style=\"color: #c0c0c0; text-decoration-color: #c0c0c0\">WHITE</span>,<span style=\"color: #808000; text-decoration-color: #808000\">ORANGE</span>,<span style=\"color: #000080; text-decoration-color: #000080\">BLUE</span>,<span style=\"color: #800000; text-decoration-color: #800000\">RED</span> │   311 │      2 │       9 │        10 │        9 │ <span style=\"color: #808000; text-decoration-color: #808000\">ORANGE</span>  \n",
       "   6 │ <span style=\"color: #800000; text-decoration-color: #800000\">RED</span>,<span style=\"color: #c0c0c0; text-decoration-color: #c0c0c0\">WHITE</span>,<span style=\"color: #808000; text-decoration-color: #808000\">ORANGE</span>,<span style=\"color: #000080; text-decoration-color: #000080\">BLUE</span> │   569 │      2 │      10 │         7 │        2 │ <span style=\"color: #000080; text-decoration-color: #000080\">BLUE</span>    \n",
       "   7 │ <span style=\"color: #000080; text-decoration-color: #000080\">BLUE</span>,<span style=\"color: #c0c0c0; text-decoration-color: #c0c0c0\">WHITE</span>,<span style=\"color: #808000; text-decoration-color: #808000\">ORANGE</span>,<span style=\"color: #800000; text-decoration-color: #800000\">RED</span> │   108 │      2 │       3 │        10 │        2 │ <span style=\"color: #808000; text-decoration-color: #808000\">ORANGE</span>  \n",
       "   8 │ <span style=\"color: #800000; text-decoration-color: #800000\">RED</span>,<span style=\"color: #000080; text-decoration-color: #000080\">BLUE</span>,<span style=\"color: #808000; text-decoration-color: #808000\">ORANGE</span>,<span style=\"color: #c0c0c0; text-decoration-color: #c0c0c0\">WHITE</span> │   345 │      2 │       4 │         5 │       10 │ <span style=\"color: #c0c0c0; text-decoration-color: #c0c0c0\">WHITE</span>   \n",
       "   9 │ <span style=\"color: #808000; text-decoration-color: #808000\">ORANGE</span>,<span style=\"color: #800000; text-decoration-color: #800000\">RED</span>,<span style=\"color: #000080; text-decoration-color: #000080\">BLUE</span>,<span style=\"color: #c0c0c0; text-decoration-color: #c0c0c0\">WHITE</span> │   573 │      2 │       7 │         6 │       10 │ <span style=\"color: #c0c0c0; text-decoration-color: #c0c0c0\">WHITE</span>   \n",
       "  10 │ <span style=\"color: #808000; text-decoration-color: #808000\">ORANGE</span>,<span style=\"color: #800000; text-decoration-color: #800000\">RED</span>,<span style=\"color: #c0c0c0; text-decoration-color: #c0c0c0\">WHITE</span>,<span style=\"color: #000080; text-decoration-color: #000080\">BLUE</span> │   240 │      2 │       7 │         3 │       10 │ <span style=\"color: #c0c0c0; text-decoration-color: #c0c0c0\">WHITE</span>   \n",
       "     ╵                       ╵       ╵        ╵         ╵           ╵          ╵         \n",
       "</pre>\n"
      ],
      "text/plain": [
       "\u001b[3m                                      Last 10 Games                                      \u001b[0m\n",
       "     ╷                       ╷       ╷        ╷         ╷           ╷          ╷         \n",
       " \u001b[1m \u001b[0m\u001b[1m #\u001b[0m\u001b[1m \u001b[0m│\u001b[1m \u001b[0m\u001b[1mSEATING              \u001b[0m\u001b[1m \u001b[0m│\u001b[1m \u001b[0m\u001b[1mTURNS\u001b[0m\u001b[1m \u001b[0m│\u001b[1m \u001b[0m\u001b[1mRED VP\u001b[0m\u001b[1m \u001b[0m│\u001b[1m \u001b[0m\u001b[1mBLUE VP\u001b[0m\u001b[1m \u001b[0m│\u001b[1m \u001b[0m\u001b[1mORANGE VP\u001b[0m\u001b[1m \u001b[0m│\u001b[1m \u001b[0m\u001b[1mWHITE VP\u001b[0m\u001b[1m \u001b[0m│\u001b[1m \u001b[0m\u001b[1mWINNER\u001b[0m\u001b[1m \u001b[0m \n",
       "╶────┼───────────────────────┼───────┼────────┼─────────┼───────────┼──────────┼────────╴\n",
       "   1 │ \u001b[34mBLUE\u001b[0m,\u001b[33mORANGE\u001b[0m,\u001b[37mWHITE\u001b[0m,\u001b[31mRED\u001b[0m │   350 │      2 │      11 │         4 │        6 │ \u001b[34mBLUE\u001b[0m    \n",
       "   2 │ \u001b[34mBLUE\u001b[0m,\u001b[31mRED\u001b[0m,\u001b[33mORANGE\u001b[0m,\u001b[37mWHITE\u001b[0m │   538 │      3 │      10 │         4 │        8 │ \u001b[34mBLUE\u001b[0m    \n",
       "   3 │ \u001b[33mORANGE\u001b[0m,\u001b[34mBLUE\u001b[0m,\u001b[31mRED\u001b[0m,\u001b[37mWHITE\u001b[0m │   330 │      3 │       7 │        11 │        2 │ \u001b[33mORANGE\u001b[0m  \n",
       "   4 │ \u001b[31mRED\u001b[0m,\u001b[37mWHITE\u001b[0m,\u001b[33mORANGE\u001b[0m,\u001b[34mBLUE\u001b[0m │   871 │      3 │       7 │         7 │       10 │ \u001b[37mWHITE\u001b[0m   \n",
       "   5 │ \u001b[37mWHITE\u001b[0m,\u001b[33mORANGE\u001b[0m,\u001b[34mBLUE\u001b[0m,\u001b[31mRED\u001b[0m │   311 │      2 │       9 │        10 │        9 │ \u001b[33mORANGE\u001b[0m  \n",
       "   6 │ \u001b[31mRED\u001b[0m,\u001b[37mWHITE\u001b[0m,\u001b[33mORANGE\u001b[0m,\u001b[34mBLUE\u001b[0m │   569 │      2 │      10 │         7 │        2 │ \u001b[34mBLUE\u001b[0m    \n",
       "   7 │ \u001b[34mBLUE\u001b[0m,\u001b[37mWHITE\u001b[0m,\u001b[33mORANGE\u001b[0m,\u001b[31mRED\u001b[0m │   108 │      2 │       3 │        10 │        2 │ \u001b[33mORANGE\u001b[0m  \n",
       "   8 │ \u001b[31mRED\u001b[0m,\u001b[34mBLUE\u001b[0m,\u001b[33mORANGE\u001b[0m,\u001b[37mWHITE\u001b[0m │   345 │      2 │       4 │         5 │       10 │ \u001b[37mWHITE\u001b[0m   \n",
       "   9 │ \u001b[33mORANGE\u001b[0m,\u001b[31mRED\u001b[0m,\u001b[34mBLUE\u001b[0m,\u001b[37mWHITE\u001b[0m │   573 │      2 │       7 │         6 │       10 │ \u001b[37mWHITE\u001b[0m   \n",
       "  10 │ \u001b[33mORANGE\u001b[0m,\u001b[31mRED\u001b[0m,\u001b[37mWHITE\u001b[0m,\u001b[34mBLUE\u001b[0m │   240 │      2 │       7 │         3 │       10 │ \u001b[37mWHITE\u001b[0m   \n",
       "     ╵                       ╵       ╵        ╵         ╵           ╵          ╵         \n"
      ]
     },
     "metadata": {},
     "output_type": "display_data"
    },
    {
     "data": {
      "text/html": [
       "<pre style=\"white-space:pre;overflow-x:auto;line-height:normal;font-family:Menlo,'DejaVu Sans Mono',consolas,'Courier New',monospace\"><span style=\"font-style: italic\">                                           Player Summary                                            </span>\n",
       "                      ╷      ╷        ╷             ╷            ╷          ╷          ╷             \n",
       " <span style=\"font-weight: bold\">                     </span>│<span style=\"font-weight: bold\"> WINS </span>│<span style=\"font-weight: bold\"> AVG VP </span>│<span style=\"font-weight: bold\"> AVG SETTLES </span>│<span style=\"font-weight: bold\"> AVG CITIES </span>│<span style=\"font-weight: bold\"> AVG ROAD </span>│<span style=\"font-weight: bold\"> AVG ARMY </span>│<span style=\"font-weight: bold\"> AVG DEV VP </span> \n",
       "╶─────────────────────┼──────┼────────┼─────────────┼────────────┼──────────┼──────────┼────────────╴\n",
       "  <span style=\"color: #800000; text-decoration-color: #800000\">AB_DQNPlayer_1:RED</span>  │    0 │   2.30 │        2.20 │       0.00 │     0.00 │     0.00 │       0.10  \n",
       "  <span style=\"color: #000080; text-decoration-color: #000080\">RandomPlayer:BLUE</span>   │    3 │   7.50 │        2.60 │       1.10 │     0.30 │     0.40 │       1.30  \n",
       "  <span style=\"color: #808000; text-decoration-color: #808000\">RandomPlayer:ORANGE</span> │    3 │   6.70 │        2.70 │       0.90 │     0.40 │     0.20 │       1.00  \n",
       "  <span style=\"color: #c0c0c0; text-decoration-color: #c0c0c0\">RandomPlayer:WHITE</span>  │    4 │   6.90 │        2.60 │       0.70 │     0.30 │     0.40 │       1.50  \n",
       "                      ╵      ╵        ╵             ╵            ╵          ╵          ╵             \n",
       "</pre>\n"
      ],
      "text/plain": [
       "\u001b[3m                                           Player Summary                                            \u001b[0m\n",
       "                      ╷      ╷        ╷             ╷            ╷          ╷          ╷             \n",
       " \u001b[1m \u001b[0m\u001b[1m                   \u001b[0m\u001b[1m \u001b[0m│\u001b[1m \u001b[0m\u001b[1mWINS\u001b[0m\u001b[1m \u001b[0m│\u001b[1m \u001b[0m\u001b[1mAVG VP\u001b[0m\u001b[1m \u001b[0m│\u001b[1m \u001b[0m\u001b[1mAVG SETTLES\u001b[0m\u001b[1m \u001b[0m│\u001b[1m \u001b[0m\u001b[1mAVG CITIES\u001b[0m\u001b[1m \u001b[0m│\u001b[1m \u001b[0m\u001b[1mAVG ROAD\u001b[0m\u001b[1m \u001b[0m│\u001b[1m \u001b[0m\u001b[1mAVG ARMY\u001b[0m\u001b[1m \u001b[0m│\u001b[1m \u001b[0m\u001b[1mAVG DEV VP\u001b[0m\u001b[1m \u001b[0m \n",
       "╶─────────────────────┼──────┼────────┼─────────────┼────────────┼──────────┼──────────┼────────────╴\n",
       "  \u001b[31mAB_DQNPlayer_1:RED\u001b[0m  │    0 │   2.30 │        2.20 │       0.00 │     0.00 │     0.00 │       0.10  \n",
       "  \u001b[34mRandomPlayer:BLUE\u001b[0m   │    3 │   7.50 │        2.60 │       1.10 │     0.30 │     0.40 │       1.30  \n",
       "  \u001b[33mRandomPlayer:ORANGE\u001b[0m │    3 │   6.70 │        2.70 │       0.90 │     0.40 │     0.20 │       1.00  \n",
       "  \u001b[37mRandomPlayer:WHITE\u001b[0m  │    4 │   6.90 │        2.60 │       0.70 │     0.30 │     0.40 │       1.50  \n",
       "                      ╵      ╵        ╵             ╵            ╵          ╵          ╵             \n"
      ]
     },
     "metadata": {},
     "output_type": "display_data"
    },
    {
     "data": {
      "text/html": [
       "<pre style=\"white-space:pre;overflow-x:auto;line-height:normal;font-family:Menlo,'DejaVu Sans Mono',consolas,'Courier New',monospace\"><span style=\"font-style: italic\">              Game Summary              </span>\n",
       "            ╷           ╷               \n",
       " <span style=\"font-weight: bold\"> AVG TICKS </span>│<span style=\"font-weight: bold\"> AVG TURNS </span>│<span style=\"font-weight: bold\"> AVG DURATION </span> \n",
       "╶───────────┼───────────┼──────────────╴\n",
       "    1194.00 │    423.50 │  19.644 secs  \n",
       "            ╵           ╵               \n",
       "</pre>\n"
      ],
      "text/plain": [
       "\u001b[3m              Game Summary              \u001b[0m\n",
       "            ╷           ╷               \n",
       " \u001b[1m \u001b[0m\u001b[1mAVG TICKS\u001b[0m\u001b[1m \u001b[0m│\u001b[1m \u001b[0m\u001b[1mAVG TURNS\u001b[0m\u001b[1m \u001b[0m│\u001b[1m \u001b[0m\u001b[1mAVG DURATION\u001b[0m\u001b[1m \u001b[0m \n",
       "╶───────────┼───────────┼──────────────╴\n",
       "    1194.00 │    423.50 │  19.644 secs  \n",
       "            ╵           ╵               \n"
      ]
     },
     "metadata": {},
     "output_type": "display_data"
    },
    {
     "name": "stdout",
     "output_type": "stream",
     "text": [
      "Loaded replay buffer with 1500 transitions\n",
      "atch 21/50: Playing 10 games\n"
     ]
    },
    {
     "data": {
      "text/html": [
       "<pre style=\"white-space:pre;overflow-x:auto;line-height:normal;font-family:Menlo,'DejaVu Sans Mono',consolas,'Courier New',monospace\">Cleared replay buffer to refresh training examples.\n",
       "</pre>\n"
      ],
      "text/plain": [
       "Cleared replay buffer to refresh training examples.\n"
      ]
     },
     "metadata": {},
     "output_type": "display_data"
    },
    {
     "data": {
      "text/html": [
       "<pre style=\"white-space:pre;overflow-x:auto;line-height:normal;font-family:Menlo,'DejaVu Sans Mono',consolas,'Courier New',monospace\">Reward variance in batch: 0.0000\n",
       "</pre>\n"
      ],
      "text/plain": [
       "Reward variance in batch: 0.0000\n"
      ]
     },
     "metadata": {},
     "output_type": "display_data"
    },
    {
     "data": {
      "text/html": [
       "<pre style=\"white-space:pre;overflow-x:auto;line-height:normal;font-family:Menlo,'DejaVu Sans Mono',consolas,'Courier New',monospace\">Trained DQN model with loss: 102.4100\n",
       "</pre>\n"
      ],
      "text/plain": [
       "Trained DQN model with loss: 102.4100\n"
      ]
     },
     "metadata": {},
     "output_type": "display_data"
    },
    {
     "data": {
      "text/html": [
       "<pre style=\"white-space:pre;overflow-x:auto;line-height:normal;font-family:Menlo,'DejaVu Sans Mono',consolas,'Courier New',monospace\">Avg pred: -0.1632, Avg target: 9.9553\n",
       "</pre>\n"
      ],
      "text/plain": [
       "Avg pred: -0.1632, Avg target: 9.9553\n"
      ]
     },
     "metadata": {},
     "output_type": "display_data"
    },
    {
     "data": {
      "text/html": [
       "<pre style=\"white-space:pre;overflow-x:auto;line-height:normal;font-family:Menlo,'DejaVu Sans Mono',consolas,'Courier New',monospace\">Cleared replay buffer to refresh training examples.\n",
       "</pre>\n"
      ],
      "text/plain": [
       "Cleared replay buffer to refresh training examples.\n"
      ]
     },
     "metadata": {},
     "output_type": "display_data"
    },
    {
     "data": {
      "text/html": [
       "<pre style=\"white-space:pre;overflow-x:auto;line-height:normal;font-family:Menlo,'DejaVu Sans Mono',consolas,'Courier New',monospace\">Reward variance in batch: 0.0000\n",
       "</pre>\n"
      ],
      "text/plain": [
       "Reward variance in batch: 0.0000\n"
      ]
     },
     "metadata": {},
     "output_type": "display_data"
    },
    {
     "data": {
      "text/html": [
       "<pre style=\"white-space:pre;overflow-x:auto;line-height:normal;font-family:Menlo,'DejaVu Sans Mono',consolas,'Courier New',monospace\">Trained DQN model with loss: 101.8841\n",
       "</pre>\n"
      ],
      "text/plain": [
       "Trained DQN model with loss: 101.8841\n"
      ]
     },
     "metadata": {},
     "output_type": "display_data"
    },
    {
     "data": {
      "text/html": [
       "<pre style=\"white-space:pre;overflow-x:auto;line-height:normal;font-family:Menlo,'DejaVu Sans Mono',consolas,'Courier New',monospace\">Avg pred: -0.1117, Avg target: 9.9797\n",
       "</pre>\n"
      ],
      "text/plain": [
       "Avg pred: -0.1117, Avg target: 9.9797\n"
      ]
     },
     "metadata": {},
     "output_type": "display_data"
    },
    {
     "data": {
      "text/html": [
       "<pre style=\"white-space:pre;overflow-x:auto;line-height:normal;font-family:Menlo,'DejaVu Sans Mono',consolas,'Courier New',monospace\"></pre>\n"
      ],
      "text/plain": []
     },
     "metadata": {},
     "output_type": "display_data"
    },
    {
     "data": {
      "text/html": [
       "<pre style=\"white-space:pre;overflow-x:auto;line-height:normal;font-family:Menlo,'DejaVu Sans Mono',consolas,'Courier New',monospace\">\n",
       "</pre>\n"
      ],
      "text/plain": [
       "\n"
      ]
     },
     "metadata": {},
     "output_type": "display_data"
    },
    {
     "data": {
      "text/html": [
       "<pre style=\"white-space:pre;overflow-x:auto;line-height:normal;font-family:Menlo,'DejaVu Sans Mono',consolas,'Courier New',monospace\"><span style=\"font-style: italic\">                                      Last 10 Games                                      </span>\n",
       "     ╷                       ╷       ╷         ╷          ╷        ╷           ╷         \n",
       " <span style=\"font-weight: bold\">  # </span>│<span style=\"font-weight: bold\"> SEATING               </span>│<span style=\"font-weight: bold\"> TURNS </span>│<span style=\"font-weight: bold\"> BLUE VP </span>│<span style=\"font-weight: bold\"> WHITE VP </span>│<span style=\"font-weight: bold\"> RED VP </span>│<span style=\"font-weight: bold\"> ORANGE VP </span>│<span style=\"font-weight: bold\"> WINNER </span> \n",
       "╶────┼───────────────────────┼───────┼─────────┼──────────┼────────┼───────────┼────────╴\n",
       "   1 │ <span style=\"color: #808000; text-decoration-color: #808000\">ORANGE</span>,<span style=\"color: #800000; text-decoration-color: #800000\">RED</span>,<span style=\"color: #c0c0c0; text-decoration-color: #c0c0c0\">WHITE</span>,<span style=\"color: #000080; text-decoration-color: #000080\">BLUE</span> │   309 │      10 │        3 │      6 │         9 │ <span style=\"color: #000080; text-decoration-color: #000080\">BLUE</span>    \n",
       "   2 │ <span style=\"color: #808000; text-decoration-color: #808000\">ORANGE</span>,<span style=\"color: #c0c0c0; text-decoration-color: #c0c0c0\">WHITE</span>,<span style=\"color: #800000; text-decoration-color: #800000\">RED</span>,<span style=\"color: #000080; text-decoration-color: #000080\">BLUE</span> │   251 │       4 │       10 │      5 │         6 │ <span style=\"color: #c0c0c0; text-decoration-color: #c0c0c0\">WHITE</span>   \n",
       "   3 │ <span style=\"color: #c0c0c0; text-decoration-color: #c0c0c0\">WHITE</span>,<span style=\"color: #800000; text-decoration-color: #800000\">RED</span>,<span style=\"color: #808000; text-decoration-color: #808000\">ORANGE</span>,<span style=\"color: #000080; text-decoration-color: #000080\">BLUE</span> │   141 │      10 │        3 │      3 │         3 │ <span style=\"color: #000080; text-decoration-color: #000080\">BLUE</span>    \n",
       "   4 │ <span style=\"color: #000080; text-decoration-color: #000080\">BLUE</span>,<span style=\"color: #808000; text-decoration-color: #808000\">ORANGE</span>,<span style=\"color: #c0c0c0; text-decoration-color: #c0c0c0\">WHITE</span>,<span style=\"color: #800000; text-decoration-color: #800000\">RED</span> │   242 │      10 │        3 │      2 │         2 │ <span style=\"color: #000080; text-decoration-color: #000080\">BLUE</span>    \n",
       "   5 │ <span style=\"color: #c0c0c0; text-decoration-color: #c0c0c0\">WHITE</span>,<span style=\"color: #808000; text-decoration-color: #808000\">ORANGE</span>,<span style=\"color: #000080; text-decoration-color: #000080\">BLUE</span>,<span style=\"color: #800000; text-decoration-color: #800000\">RED</span> │   396 │      10 │        7 │      3 │         6 │ <span style=\"color: #000080; text-decoration-color: #000080\">BLUE</span>    \n",
       "   6 │ <span style=\"color: #808000; text-decoration-color: #808000\">ORANGE</span>,<span style=\"color: #800000; text-decoration-color: #800000\">RED</span>,<span style=\"color: #c0c0c0; text-decoration-color: #c0c0c0\">WHITE</span>,<span style=\"color: #000080; text-decoration-color: #000080\">BLUE</span> │   134 │       4 │        2 │      2 │        10 │ <span style=\"color: #808000; text-decoration-color: #808000\">ORANGE</span>  \n",
       "   7 │ <span style=\"color: #800000; text-decoration-color: #800000\">RED</span>,<span style=\"color: #000080; text-decoration-color: #000080\">BLUE</span>,<span style=\"color: #c0c0c0; text-decoration-color: #c0c0c0\">WHITE</span>,<span style=\"color: #808000; text-decoration-color: #808000\">ORANGE</span> │   173 │       2 │        6 │      3 │        10 │ <span style=\"color: #808000; text-decoration-color: #808000\">ORANGE</span>  \n",
       "   8 │ <span style=\"color: #800000; text-decoration-color: #800000\">RED</span>,<span style=\"color: #c0c0c0; text-decoration-color: #c0c0c0\">WHITE</span>,<span style=\"color: #000080; text-decoration-color: #000080\">BLUE</span>,<span style=\"color: #808000; text-decoration-color: #808000\">ORANGE</span> │   369 │       5 │        4 │      2 │        10 │ <span style=\"color: #808000; text-decoration-color: #808000\">ORANGE</span>  \n",
       "   9 │ <span style=\"color: #000080; text-decoration-color: #000080\">BLUE</span>,<span style=\"color: #c0c0c0; text-decoration-color: #c0c0c0\">WHITE</span>,<span style=\"color: #800000; text-decoration-color: #800000\">RED</span>,<span style=\"color: #808000; text-decoration-color: #808000\">ORANGE</span> │   377 │       5 │        6 │      2 │        10 │ <span style=\"color: #808000; text-decoration-color: #808000\">ORANGE</span>  \n",
       "  10 │ <span style=\"color: #000080; text-decoration-color: #000080\">BLUE</span>,<span style=\"color: #800000; text-decoration-color: #800000\">RED</span>,<span style=\"color: #c0c0c0; text-decoration-color: #c0c0c0\">WHITE</span>,<span style=\"color: #808000; text-decoration-color: #808000\">ORANGE</span> │   240 │       2 │       10 │      2 │         7 │ <span style=\"color: #c0c0c0; text-decoration-color: #c0c0c0\">WHITE</span>   \n",
       "     ╵                       ╵       ╵         ╵          ╵        ╵           ╵         \n",
       "</pre>\n"
      ],
      "text/plain": [
       "\u001b[3m                                      Last 10 Games                                      \u001b[0m\n",
       "     ╷                       ╷       ╷         ╷          ╷        ╷           ╷         \n",
       " \u001b[1m \u001b[0m\u001b[1m #\u001b[0m\u001b[1m \u001b[0m│\u001b[1m \u001b[0m\u001b[1mSEATING              \u001b[0m\u001b[1m \u001b[0m│\u001b[1m \u001b[0m\u001b[1mTURNS\u001b[0m\u001b[1m \u001b[0m│\u001b[1m \u001b[0m\u001b[1mBLUE VP\u001b[0m\u001b[1m \u001b[0m│\u001b[1m \u001b[0m\u001b[1mWHITE VP\u001b[0m\u001b[1m \u001b[0m│\u001b[1m \u001b[0m\u001b[1mRED VP\u001b[0m\u001b[1m \u001b[0m│\u001b[1m \u001b[0m\u001b[1mORANGE VP\u001b[0m\u001b[1m \u001b[0m│\u001b[1m \u001b[0m\u001b[1mWINNER\u001b[0m\u001b[1m \u001b[0m \n",
       "╶────┼───────────────────────┼───────┼─────────┼──────────┼────────┼───────────┼────────╴\n",
       "   1 │ \u001b[33mORANGE\u001b[0m,\u001b[31mRED\u001b[0m,\u001b[37mWHITE\u001b[0m,\u001b[34mBLUE\u001b[0m │   309 │      10 │        3 │      6 │         9 │ \u001b[34mBLUE\u001b[0m    \n",
       "   2 │ \u001b[33mORANGE\u001b[0m,\u001b[37mWHITE\u001b[0m,\u001b[31mRED\u001b[0m,\u001b[34mBLUE\u001b[0m │   251 │       4 │       10 │      5 │         6 │ \u001b[37mWHITE\u001b[0m   \n",
       "   3 │ \u001b[37mWHITE\u001b[0m,\u001b[31mRED\u001b[0m,\u001b[33mORANGE\u001b[0m,\u001b[34mBLUE\u001b[0m │   141 │      10 │        3 │      3 │         3 │ \u001b[34mBLUE\u001b[0m    \n",
       "   4 │ \u001b[34mBLUE\u001b[0m,\u001b[33mORANGE\u001b[0m,\u001b[37mWHITE\u001b[0m,\u001b[31mRED\u001b[0m │   242 │      10 │        3 │      2 │         2 │ \u001b[34mBLUE\u001b[0m    \n",
       "   5 │ \u001b[37mWHITE\u001b[0m,\u001b[33mORANGE\u001b[0m,\u001b[34mBLUE\u001b[0m,\u001b[31mRED\u001b[0m │   396 │      10 │        7 │      3 │         6 │ \u001b[34mBLUE\u001b[0m    \n",
       "   6 │ \u001b[33mORANGE\u001b[0m,\u001b[31mRED\u001b[0m,\u001b[37mWHITE\u001b[0m,\u001b[34mBLUE\u001b[0m │   134 │       4 │        2 │      2 │        10 │ \u001b[33mORANGE\u001b[0m  \n",
       "   7 │ \u001b[31mRED\u001b[0m,\u001b[34mBLUE\u001b[0m,\u001b[37mWHITE\u001b[0m,\u001b[33mORANGE\u001b[0m │   173 │       2 │        6 │      3 │        10 │ \u001b[33mORANGE\u001b[0m  \n",
       "   8 │ \u001b[31mRED\u001b[0m,\u001b[37mWHITE\u001b[0m,\u001b[34mBLUE\u001b[0m,\u001b[33mORANGE\u001b[0m │   369 │       5 │        4 │      2 │        10 │ \u001b[33mORANGE\u001b[0m  \n",
       "   9 │ \u001b[34mBLUE\u001b[0m,\u001b[37mWHITE\u001b[0m,\u001b[31mRED\u001b[0m,\u001b[33mORANGE\u001b[0m │   377 │       5 │        6 │      2 │        10 │ \u001b[33mORANGE\u001b[0m  \n",
       "  10 │ \u001b[34mBLUE\u001b[0m,\u001b[31mRED\u001b[0m,\u001b[37mWHITE\u001b[0m,\u001b[33mORANGE\u001b[0m │   240 │       2 │       10 │      2 │         7 │ \u001b[37mWHITE\u001b[0m   \n",
       "     ╵                       ╵       ╵         ╵          ╵        ╵           ╵         \n"
      ]
     },
     "metadata": {},
     "output_type": "display_data"
    },
    {
     "data": {
      "text/html": [
       "<pre style=\"white-space:pre;overflow-x:auto;line-height:normal;font-family:Menlo,'DejaVu Sans Mono',consolas,'Courier New',monospace\"><span style=\"font-style: italic\">                                               Player Summary                                                </span>\n",
       "                              ╷      ╷        ╷             ╷            ╷          ╷          ╷             \n",
       " <span style=\"font-weight: bold\">                             </span>│<span style=\"font-weight: bold\"> WINS </span>│<span style=\"font-weight: bold\"> AVG VP </span>│<span style=\"font-weight: bold\"> AVG SETTLES </span>│<span style=\"font-weight: bold\"> AVG CITIES </span>│<span style=\"font-weight: bold\"> AVG ROAD </span>│<span style=\"font-weight: bold\"> AVG ARMY </span>│<span style=\"font-weight: bold\"> AVG DEV VP </span> \n",
       "╶─────────────────────────────┼──────┼────────┼─────────────┼────────────┼──────────┼──────────┼────────────╴\n",
       "  <span style=\"color: #000080; text-decoration-color: #000080\">WeightedRandomPlayer:BLUE</span>   │    4 │   6.20 │        2.40 │       0.50 │     0.30 │     0.40 │       1.40  \n",
       "  <span style=\"color: #c0c0c0; text-decoration-color: #c0c0c0\">RandomPlayer:WHITE</span>          │    2 │   5.40 │        3.10 │       0.30 │     0.30 │     0.10 │       0.90  \n",
       "  <span style=\"color: #800000; text-decoration-color: #800000\">AB_DQNPlayer_1:RED</span>          │    0 │   3.00 │        2.10 │       0.20 │     0.10 │     0.00 │       0.30  \n",
       "  <span style=\"color: #808000; text-decoration-color: #808000\">WeightedRandomPlayer:ORANGE</span> │    4 │   7.30 │        2.50 │       1.10 │     0.30 │     0.50 │       1.00  \n",
       "                              ╵      ╵        ╵             ╵            ╵          ╵          ╵             \n",
       "</pre>\n"
      ],
      "text/plain": [
       "\u001b[3m                                               Player Summary                                                \u001b[0m\n",
       "                              ╷      ╷        ╷             ╷            ╷          ╷          ╷             \n",
       " \u001b[1m \u001b[0m\u001b[1m                           \u001b[0m\u001b[1m \u001b[0m│\u001b[1m \u001b[0m\u001b[1mWINS\u001b[0m\u001b[1m \u001b[0m│\u001b[1m \u001b[0m\u001b[1mAVG VP\u001b[0m\u001b[1m \u001b[0m│\u001b[1m \u001b[0m\u001b[1mAVG SETTLES\u001b[0m\u001b[1m \u001b[0m│\u001b[1m \u001b[0m\u001b[1mAVG CITIES\u001b[0m\u001b[1m \u001b[0m│\u001b[1m \u001b[0m\u001b[1mAVG ROAD\u001b[0m\u001b[1m \u001b[0m│\u001b[1m \u001b[0m\u001b[1mAVG ARMY\u001b[0m\u001b[1m \u001b[0m│\u001b[1m \u001b[0m\u001b[1mAVG DEV VP\u001b[0m\u001b[1m \u001b[0m \n",
       "╶─────────────────────────────┼──────┼────────┼─────────────┼────────────┼──────────┼──────────┼────────────╴\n",
       "  \u001b[34mWeightedRandomPlayer:BLUE\u001b[0m   │    4 │   6.20 │        2.40 │       0.50 │     0.30 │     0.40 │       1.40  \n",
       "  \u001b[37mRandomPlayer:WHITE\u001b[0m          │    2 │   5.40 │        3.10 │       0.30 │     0.30 │     0.10 │       0.90  \n",
       "  \u001b[31mAB_DQNPlayer_1:RED\u001b[0m          │    0 │   3.00 │        2.10 │       0.20 │     0.10 │     0.00 │       0.30  \n",
       "  \u001b[33mWeightedRandomPlayer:ORANGE\u001b[0m │    4 │   7.30 │        2.50 │       1.10 │     0.30 │     0.50 │       1.00  \n",
       "                              ╵      ╵        ╵             ╵            ╵          ╵          ╵             \n"
      ]
     },
     "metadata": {},
     "output_type": "display_data"
    },
    {
     "data": {
      "text/html": [
       "<pre style=\"white-space:pre;overflow-x:auto;line-height:normal;font-family:Menlo,'DejaVu Sans Mono',consolas,'Courier New',monospace\"><span style=\"font-style: italic\">              Game Summary              </span>\n",
       "            ╷           ╷               \n",
       " <span style=\"font-weight: bold\"> AVG TICKS </span>│<span style=\"font-weight: bold\"> AVG TURNS </span>│<span style=\"font-weight: bold\"> AVG DURATION </span> \n",
       "╶───────────┼───────────┼──────────────╴\n",
       "     763.20 │    263.20 │  10.775 secs  \n",
       "            ╵           ╵               \n",
       "</pre>\n"
      ],
      "text/plain": [
       "\u001b[3m              Game Summary              \u001b[0m\n",
       "            ╷           ╷               \n",
       " \u001b[1m \u001b[0m\u001b[1mAVG TICKS\u001b[0m\u001b[1m \u001b[0m│\u001b[1m \u001b[0m\u001b[1mAVG TURNS\u001b[0m\u001b[1m \u001b[0m│\u001b[1m \u001b[0m\u001b[1mAVG DURATION\u001b[0m\u001b[1m \u001b[0m \n",
       "╶───────────┼───────────┼──────────────╴\n",
       "     763.20 │    263.20 │  10.775 secs  \n",
       "            ╵           ╵               \n"
      ]
     },
     "metadata": {},
     "output_type": "display_data"
    },
    {
     "name": "stdout",
     "output_type": "stream",
     "text": [
      "Loaded replay buffer with 1779 transitions\n",
      "atch 22/50: Playing 10 games\n"
     ]
    },
    {
     "data": {
      "text/html": [
       "<pre style=\"white-space:pre;overflow-x:auto;line-height:normal;font-family:Menlo,'DejaVu Sans Mono',consolas,'Courier New',monospace\">Cleared replay buffer to refresh training examples.\n",
       "</pre>\n"
      ],
      "text/plain": [
       "Cleared replay buffer to refresh training examples.\n"
      ]
     },
     "metadata": {},
     "output_type": "display_data"
    },
    {
     "data": {
      "text/html": [
       "<pre style=\"white-space:pre;overflow-x:auto;line-height:normal;font-family:Menlo,'DejaVu Sans Mono',consolas,'Courier New',monospace\">Reward variance in batch: 0.0000\n",
       "</pre>\n"
      ],
      "text/plain": [
       "Reward variance in batch: 0.0000\n"
      ]
     },
     "metadata": {},
     "output_type": "display_data"
    },
    {
     "data": {
      "text/html": [
       "<pre style=\"white-space:pre;overflow-x:auto;line-height:normal;font-family:Menlo,'DejaVu Sans Mono',consolas,'Courier New',monospace\">Trained DQN model with loss: 100.9586\n",
       "</pre>\n"
      ],
      "text/plain": [
       "Trained DQN model with loss: 100.9586\n"
      ]
     },
     "metadata": {},
     "output_type": "display_data"
    },
    {
     "data": {
      "text/html": [
       "<pre style=\"white-space:pre;overflow-x:auto;line-height:normal;font-family:Menlo,'DejaVu Sans Mono',consolas,'Courier New',monospace\">Avg pred: -0.1025, Avg target: 9.9419\n",
       "</pre>\n"
      ],
      "text/plain": [
       "Avg pred: -0.1025, Avg target: 9.9419\n"
      ]
     },
     "metadata": {},
     "output_type": "display_data"
    },
    {
     "data": {
      "text/html": [
       "<pre style=\"white-space:pre;overflow-x:auto;line-height:normal;font-family:Menlo,'DejaVu Sans Mono',consolas,'Courier New',monospace\">Cleared replay buffer to refresh training examples.\n",
       "</pre>\n"
      ],
      "text/plain": [
       "Cleared replay buffer to refresh training examples.\n"
      ]
     },
     "metadata": {},
     "output_type": "display_data"
    },
    {
     "data": {
      "text/html": [
       "<pre style=\"white-space:pre;overflow-x:auto;line-height:normal;font-family:Menlo,'DejaVu Sans Mono',consolas,'Courier New',monospace\">Reward variance in batch: 0.0000\n",
       "</pre>\n"
      ],
      "text/plain": [
       "Reward variance in batch: 0.0000\n"
      ]
     },
     "metadata": {},
     "output_type": "display_data"
    },
    {
     "data": {
      "text/html": [
       "<pre style=\"white-space:pre;overflow-x:auto;line-height:normal;font-family:Menlo,'DejaVu Sans Mono',consolas,'Courier New',monospace\">Trained DQN model with loss: 102.7506\n",
       "</pre>\n"
      ],
      "text/plain": [
       "Trained DQN model with loss: 102.7506\n"
      ]
     },
     "metadata": {},
     "output_type": "display_data"
    },
    {
     "data": {
      "text/html": [
       "<pre style=\"white-space:pre;overflow-x:auto;line-height:normal;font-family:Menlo,'DejaVu Sans Mono',consolas,'Courier New',monospace\">Avg pred: -0.1627, Avg target: 9.9719\n",
       "</pre>\n"
      ],
      "text/plain": [
       "Avg pred: -0.1627, Avg target: 9.9719\n"
      ]
     },
     "metadata": {},
     "output_type": "display_data"
    },
    {
     "data": {
      "text/html": [
       "<pre style=\"white-space:pre;overflow-x:auto;line-height:normal;font-family:Menlo,'DejaVu Sans Mono',consolas,'Courier New',monospace\"></pre>\n"
      ],
      "text/plain": []
     },
     "metadata": {},
     "output_type": "display_data"
    },
    {
     "data": {
      "text/html": [
       "<pre style=\"white-space:pre;overflow-x:auto;line-height:normal;font-family:Menlo,'DejaVu Sans Mono',consolas,'Courier New',monospace\">\n",
       "</pre>\n"
      ],
      "text/plain": [
       "\n"
      ]
     },
     "metadata": {},
     "output_type": "display_data"
    },
    {
     "data": {
      "text/html": [
       "<pre style=\"white-space:pre;overflow-x:auto;line-height:normal;font-family:Menlo,'DejaVu Sans Mono',consolas,'Courier New',monospace\"><span style=\"font-style: italic\">                                      Last 10 Games                                      </span>\n",
       "     ╷                       ╷       ╷           ╷         ╷          ╷        ╷         \n",
       " <span style=\"font-weight: bold\">  # </span>│<span style=\"font-weight: bold\"> SEATING               </span>│<span style=\"font-weight: bold\"> TURNS </span>│<span style=\"font-weight: bold\"> ORANGE VP </span>│<span style=\"font-weight: bold\"> BLUE VP </span>│<span style=\"font-weight: bold\"> WHITE VP </span>│<span style=\"font-weight: bold\"> RED VP </span>│<span style=\"font-weight: bold\"> WINNER </span> \n",
       "╶────┼───────────────────────┼───────┼───────────┼─────────┼──────────┼────────┼────────╴\n",
       "   1 │ <span style=\"color: #000080; text-decoration-color: #000080\">BLUE</span>,<span style=\"color: #808000; text-decoration-color: #808000\">ORANGE</span>,<span style=\"color: #800000; text-decoration-color: #800000\">RED</span>,<span style=\"color: #c0c0c0; text-decoration-color: #c0c0c0\">WHITE</span> │   263 │        10 │       2 │        9 │      3 │ <span style=\"color: #808000; text-decoration-color: #808000\">ORANGE</span>  \n",
       "   2 │ <span style=\"color: #800000; text-decoration-color: #800000\">RED</span>,<span style=\"color: #c0c0c0; text-decoration-color: #c0c0c0\">WHITE</span>,<span style=\"color: #808000; text-decoration-color: #808000\">ORANGE</span>,<span style=\"color: #000080; text-decoration-color: #000080\">BLUE</span> │   260 │        10 │       3 │        6 │      2 │ <span style=\"color: #808000; text-decoration-color: #808000\">ORANGE</span>  \n",
       "   3 │ <span style=\"color: #800000; text-decoration-color: #800000\">RED</span>,<span style=\"color: #c0c0c0; text-decoration-color: #c0c0c0\">WHITE</span>,<span style=\"color: #000080; text-decoration-color: #000080\">BLUE</span>,<span style=\"color: #808000; text-decoration-color: #808000\">ORANGE</span> │   163 │         4 │       2 │       10 │      2 │ <span style=\"color: #c0c0c0; text-decoration-color: #c0c0c0\">WHITE</span>   \n",
       "   4 │ <span style=\"color: #800000; text-decoration-color: #800000\">RED</span>,<span style=\"color: #000080; text-decoration-color: #000080\">BLUE</span>,<span style=\"color: #808000; text-decoration-color: #808000\">ORANGE</span>,<span style=\"color: #c0c0c0; text-decoration-color: #c0c0c0\">WHITE</span> │   337 │         3 │       5 │       10 │      2 │ <span style=\"color: #c0c0c0; text-decoration-color: #c0c0c0\">WHITE</span>   \n",
       "   5 │ <span style=\"color: #c0c0c0; text-decoration-color: #c0c0c0\">WHITE</span>,<span style=\"color: #808000; text-decoration-color: #808000\">ORANGE</span>,<span style=\"color: #000080; text-decoration-color: #000080\">BLUE</span>,<span style=\"color: #800000; text-decoration-color: #800000\">RED</span> │   286 │         3 │       6 │       10 │      2 │ <span style=\"color: #c0c0c0; text-decoration-color: #c0c0c0\">WHITE</span>   \n",
       "   6 │ <span style=\"color: #800000; text-decoration-color: #800000\">RED</span>,<span style=\"color: #808000; text-decoration-color: #808000\">ORANGE</span>,<span style=\"color: #c0c0c0; text-decoration-color: #c0c0c0\">WHITE</span>,<span style=\"color: #000080; text-decoration-color: #000080\">BLUE</span> │   171 │        10 │       2 │        4 │      3 │ <span style=\"color: #808000; text-decoration-color: #808000\">ORANGE</span>  \n",
       "   7 │ <span style=\"color: #800000; text-decoration-color: #800000\">RED</span>,<span style=\"color: #000080; text-decoration-color: #000080\">BLUE</span>,<span style=\"color: #808000; text-decoration-color: #808000\">ORANGE</span>,<span style=\"color: #c0c0c0; text-decoration-color: #c0c0c0\">WHITE</span> │   292 │        10 │       3 │        4 │      3 │ <span style=\"color: #808000; text-decoration-color: #808000\">ORANGE</span>  \n",
       "   8 │ <span style=\"color: #000080; text-decoration-color: #000080\">BLUE</span>,<span style=\"color: #c0c0c0; text-decoration-color: #c0c0c0\">WHITE</span>,<span style=\"color: #808000; text-decoration-color: #808000\">ORANGE</span>,<span style=\"color: #800000; text-decoration-color: #800000\">RED</span> │   323 │         7 │       4 │       10 │      2 │ <span style=\"color: #c0c0c0; text-decoration-color: #c0c0c0\">WHITE</span>   \n",
       "   9 │ <span style=\"color: #800000; text-decoration-color: #800000\">RED</span>,<span style=\"color: #c0c0c0; text-decoration-color: #c0c0c0\">WHITE</span>,<span style=\"color: #808000; text-decoration-color: #808000\">ORANGE</span>,<span style=\"color: #000080; text-decoration-color: #000080\">BLUE</span> │   279 │         4 │       2 │       10 │      2 │ <span style=\"color: #c0c0c0; text-decoration-color: #c0c0c0\">WHITE</span>   \n",
       "  10 │ <span style=\"color: #000080; text-decoration-color: #000080\">BLUE</span>,<span style=\"color: #808000; text-decoration-color: #808000\">ORANGE</span>,<span style=\"color: #800000; text-decoration-color: #800000\">RED</span>,<span style=\"color: #c0c0c0; text-decoration-color: #c0c0c0\">WHITE</span> │   273 │         2 │       6 │       10 │      2 │ <span style=\"color: #c0c0c0; text-decoration-color: #c0c0c0\">WHITE</span>   \n",
       "     ╵                       ╵       ╵           ╵         ╵          ╵        ╵         \n",
       "</pre>\n"
      ],
      "text/plain": [
       "\u001b[3m                                      Last 10 Games                                      \u001b[0m\n",
       "     ╷                       ╷       ╷           ╷         ╷          ╷        ╷         \n",
       " \u001b[1m \u001b[0m\u001b[1m #\u001b[0m\u001b[1m \u001b[0m│\u001b[1m \u001b[0m\u001b[1mSEATING              \u001b[0m\u001b[1m \u001b[0m│\u001b[1m \u001b[0m\u001b[1mTURNS\u001b[0m\u001b[1m \u001b[0m│\u001b[1m \u001b[0m\u001b[1mORANGE VP\u001b[0m\u001b[1m \u001b[0m│\u001b[1m \u001b[0m\u001b[1mBLUE VP\u001b[0m\u001b[1m \u001b[0m│\u001b[1m \u001b[0m\u001b[1mWHITE VP\u001b[0m\u001b[1m \u001b[0m│\u001b[1m \u001b[0m\u001b[1mRED VP\u001b[0m\u001b[1m \u001b[0m│\u001b[1m \u001b[0m\u001b[1mWINNER\u001b[0m\u001b[1m \u001b[0m \n",
       "╶────┼───────────────────────┼───────┼───────────┼─────────┼──────────┼────────┼────────╴\n",
       "   1 │ \u001b[34mBLUE\u001b[0m,\u001b[33mORANGE\u001b[0m,\u001b[31mRED\u001b[0m,\u001b[37mWHITE\u001b[0m │   263 │        10 │       2 │        9 │      3 │ \u001b[33mORANGE\u001b[0m  \n",
       "   2 │ \u001b[31mRED\u001b[0m,\u001b[37mWHITE\u001b[0m,\u001b[33mORANGE\u001b[0m,\u001b[34mBLUE\u001b[0m │   260 │        10 │       3 │        6 │      2 │ \u001b[33mORANGE\u001b[0m  \n",
       "   3 │ \u001b[31mRED\u001b[0m,\u001b[37mWHITE\u001b[0m,\u001b[34mBLUE\u001b[0m,\u001b[33mORANGE\u001b[0m │   163 │         4 │       2 │       10 │      2 │ \u001b[37mWHITE\u001b[0m   \n",
       "   4 │ \u001b[31mRED\u001b[0m,\u001b[34mBLUE\u001b[0m,\u001b[33mORANGE\u001b[0m,\u001b[37mWHITE\u001b[0m │   337 │         3 │       5 │       10 │      2 │ \u001b[37mWHITE\u001b[0m   \n",
       "   5 │ \u001b[37mWHITE\u001b[0m,\u001b[33mORANGE\u001b[0m,\u001b[34mBLUE\u001b[0m,\u001b[31mRED\u001b[0m │   286 │         3 │       6 │       10 │      2 │ \u001b[37mWHITE\u001b[0m   \n",
       "   6 │ \u001b[31mRED\u001b[0m,\u001b[33mORANGE\u001b[0m,\u001b[37mWHITE\u001b[0m,\u001b[34mBLUE\u001b[0m │   171 │        10 │       2 │        4 │      3 │ \u001b[33mORANGE\u001b[0m  \n",
       "   7 │ \u001b[31mRED\u001b[0m,\u001b[34mBLUE\u001b[0m,\u001b[33mORANGE\u001b[0m,\u001b[37mWHITE\u001b[0m │   292 │        10 │       3 │        4 │      3 │ \u001b[33mORANGE\u001b[0m  \n",
       "   8 │ \u001b[34mBLUE\u001b[0m,\u001b[37mWHITE\u001b[0m,\u001b[33mORANGE\u001b[0m,\u001b[31mRED\u001b[0m │   323 │         7 │       4 │       10 │      2 │ \u001b[37mWHITE\u001b[0m   \n",
       "   9 │ \u001b[31mRED\u001b[0m,\u001b[37mWHITE\u001b[0m,\u001b[33mORANGE\u001b[0m,\u001b[34mBLUE\u001b[0m │   279 │         4 │       2 │       10 │      2 │ \u001b[37mWHITE\u001b[0m   \n",
       "  10 │ \u001b[34mBLUE\u001b[0m,\u001b[33mORANGE\u001b[0m,\u001b[31mRED\u001b[0m,\u001b[37mWHITE\u001b[0m │   273 │         2 │       6 │       10 │      2 │ \u001b[37mWHITE\u001b[0m   \n",
       "     ╵                       ╵       ╵           ╵         ╵          ╵        ╵         \n"
      ]
     },
     "metadata": {},
     "output_type": "display_data"
    },
    {
     "data": {
      "text/html": [
       "<pre style=\"white-space:pre;overflow-x:auto;line-height:normal;font-family:Menlo,'DejaVu Sans Mono',consolas,'Courier New',monospace\"><span style=\"font-style: italic\">                                               Player Summary                                               </span>\n",
       "                             ╷      ╷        ╷             ╷            ╷          ╷          ╷             \n",
       " <span style=\"font-weight: bold\">                            </span>│<span style=\"font-weight: bold\"> WINS </span>│<span style=\"font-weight: bold\"> AVG VP </span>│<span style=\"font-weight: bold\"> AVG SETTLES </span>│<span style=\"font-weight: bold\"> AVG CITIES </span>│<span style=\"font-weight: bold\"> AVG ROAD </span>│<span style=\"font-weight: bold\"> AVG ARMY </span>│<span style=\"font-weight: bold\"> AVG DEV VP </span> \n",
       "╶────────────────────────────┼──────┼────────┼─────────────┼────────────┼──────────┼──────────┼────────────╴\n",
       "  <span style=\"color: #808000; text-decoration-color: #808000\">RandomPlayer:ORANGE</span>        │    4 │   6.30 │        2.60 │       0.50 │     0.50 │     0.20 │       1.30  \n",
       "  <span style=\"color: #000080; text-decoration-color: #000080\">RandomPlayer:BLUE</span>          │    0 │   3.50 │        2.00 │       0.40 │     0.20 │     0.00 │       0.30  \n",
       "  <span style=\"color: #c0c0c0; text-decoration-color: #c0c0c0\">WeightedRandomPlayer:WHITE</span> │    6 │   8.30 │        2.90 │       0.90 │     0.30 │     0.70 │       1.60  \n",
       "  <span style=\"color: #800000; text-decoration-color: #800000\">AB_DQNPlayer_1:RED</span>         │    0 │   2.30 │        2.10 │       0.00 │     0.00 │     0.00 │       0.20  \n",
       "                             ╵      ╵        ╵             ╵            ╵          ╵          ╵             \n",
       "</pre>\n"
      ],
      "text/plain": [
       "\u001b[3m                                               Player Summary                                               \u001b[0m\n",
       "                             ╷      ╷        ╷             ╷            ╷          ╷          ╷             \n",
       " \u001b[1m \u001b[0m\u001b[1m                          \u001b[0m\u001b[1m \u001b[0m│\u001b[1m \u001b[0m\u001b[1mWINS\u001b[0m\u001b[1m \u001b[0m│\u001b[1m \u001b[0m\u001b[1mAVG VP\u001b[0m\u001b[1m \u001b[0m│\u001b[1m \u001b[0m\u001b[1mAVG SETTLES\u001b[0m\u001b[1m \u001b[0m│\u001b[1m \u001b[0m\u001b[1mAVG CITIES\u001b[0m\u001b[1m \u001b[0m│\u001b[1m \u001b[0m\u001b[1mAVG ROAD\u001b[0m\u001b[1m \u001b[0m│\u001b[1m \u001b[0m\u001b[1mAVG ARMY\u001b[0m\u001b[1m \u001b[0m│\u001b[1m \u001b[0m\u001b[1mAVG DEV VP\u001b[0m\u001b[1m \u001b[0m \n",
       "╶────────────────────────────┼──────┼────────┼─────────────┼────────────┼──────────┼──────────┼────────────╴\n",
       "  \u001b[33mRandomPlayer:ORANGE\u001b[0m        │    4 │   6.30 │        2.60 │       0.50 │     0.50 │     0.20 │       1.30  \n",
       "  \u001b[34mRandomPlayer:BLUE\u001b[0m          │    0 │   3.50 │        2.00 │       0.40 │     0.20 │     0.00 │       0.30  \n",
       "  \u001b[37mWeightedRandomPlayer:WHITE\u001b[0m │    6 │   8.30 │        2.90 │       0.90 │     0.30 │     0.70 │       1.60  \n",
       "  \u001b[31mAB_DQNPlayer_1:RED\u001b[0m         │    0 │   2.30 │        2.10 │       0.00 │     0.00 │     0.00 │       0.20  \n",
       "                             ╵      ╵        ╵             ╵            ╵          ╵          ╵             \n"
      ]
     },
     "metadata": {},
     "output_type": "display_data"
    },
    {
     "data": {
      "text/html": [
       "<pre style=\"white-space:pre;overflow-x:auto;line-height:normal;font-family:Menlo,'DejaVu Sans Mono',consolas,'Courier New',monospace\"><span style=\"font-style: italic\">              Game Summary              </span>\n",
       "            ╷           ╷               \n",
       " <span style=\"font-weight: bold\"> AVG TICKS </span>│<span style=\"font-weight: bold\"> AVG TURNS </span>│<span style=\"font-weight: bold\"> AVG DURATION </span> \n",
       "╶───────────┼───────────┼──────────────╴\n",
       "     742.50 │    264.70 │  11.788 secs  \n",
       "            ╵           ╵               \n",
       "</pre>\n"
      ],
      "text/plain": [
       "\u001b[3m              Game Summary              \u001b[0m\n",
       "            ╷           ╷               \n",
       " \u001b[1m \u001b[0m\u001b[1mAVG TICKS\u001b[0m\u001b[1m \u001b[0m│\u001b[1m \u001b[0m\u001b[1mAVG TURNS\u001b[0m\u001b[1m \u001b[0m│\u001b[1m \u001b[0m\u001b[1mAVG DURATION\u001b[0m\u001b[1m \u001b[0m \n",
       "╶───────────┼───────────┼──────────────╴\n",
       "     742.50 │    264.70 │  11.788 secs  \n",
       "            ╵           ╵               \n"
      ]
     },
     "metadata": {},
     "output_type": "display_data"
    },
    {
     "name": "stdout",
     "output_type": "stream",
     "text": [
      "Loaded replay buffer with 2106 transitions\n",
      "atch 23/50: Playing 10 games\n"
     ]
    },
    {
     "data": {
      "text/html": [
       "<pre style=\"white-space:pre;overflow-x:auto;line-height:normal;font-family:Menlo,'DejaVu Sans Mono',consolas,'Courier New',monospace\">Cleared replay buffer to refresh training examples.\n",
       "</pre>\n"
      ],
      "text/plain": [
       "Cleared replay buffer to refresh training examples.\n"
      ]
     },
     "metadata": {},
     "output_type": "display_data"
    },
    {
     "data": {
      "text/html": [
       "<pre style=\"white-space:pre;overflow-x:auto;line-height:normal;font-family:Menlo,'DejaVu Sans Mono',consolas,'Courier New',monospace\">Reward variance in batch: 0.0000\n",
       "</pre>\n"
      ],
      "text/plain": [
       "Reward variance in batch: 0.0000\n"
      ]
     },
     "metadata": {},
     "output_type": "display_data"
    },
    {
     "data": {
      "text/html": [
       "<pre style=\"white-space:pre;overflow-x:auto;line-height:normal;font-family:Menlo,'DejaVu Sans Mono',consolas,'Courier New',monospace\">Trained DQN model with loss: 102.8103\n",
       "</pre>\n"
      ],
      "text/plain": [
       "Trained DQN model with loss: 102.8103\n"
      ]
     },
     "metadata": {},
     "output_type": "display_data"
    },
    {
     "data": {
      "text/html": [
       "<pre style=\"white-space:pre;overflow-x:auto;line-height:normal;font-family:Menlo,'DejaVu Sans Mono',consolas,'Courier New',monospace\">Avg pred: -0.1488, Avg target: 9.9894\n",
       "</pre>\n"
      ],
      "text/plain": [
       "Avg pred: -0.1488, Avg target: 9.9894\n"
      ]
     },
     "metadata": {},
     "output_type": "display_data"
    },
    {
     "data": {
      "text/html": [
       "<pre style=\"white-space:pre;overflow-x:auto;line-height:normal;font-family:Menlo,'DejaVu Sans Mono',consolas,'Courier New',monospace\">Cleared replay buffer to refresh training examples.\n",
       "</pre>\n"
      ],
      "text/plain": [
       "Cleared replay buffer to refresh training examples.\n"
      ]
     },
     "metadata": {},
     "output_type": "display_data"
    },
    {
     "data": {
      "text/html": [
       "<pre style=\"white-space:pre;overflow-x:auto;line-height:normal;font-family:Menlo,'DejaVu Sans Mono',consolas,'Courier New',monospace\">Reward variance in batch: 0.0000\n",
       "</pre>\n"
      ],
      "text/plain": [
       "Reward variance in batch: 0.0000\n"
      ]
     },
     "metadata": {},
     "output_type": "display_data"
    },
    {
     "data": {
      "text/html": [
       "<pre style=\"white-space:pre;overflow-x:auto;line-height:normal;font-family:Menlo,'DejaVu Sans Mono',consolas,'Courier New',monospace\">Trained DQN model with loss: 101.5675\n",
       "</pre>\n"
      ],
      "text/plain": [
       "Trained DQN model with loss: 101.5675\n"
      ]
     },
     "metadata": {},
     "output_type": "display_data"
    },
    {
     "data": {
      "text/html": [
       "<pre style=\"white-space:pre;overflow-x:auto;line-height:normal;font-family:Menlo,'DejaVu Sans Mono',consolas,'Courier New',monospace\">Avg pred: -0.1014, Avg target: 9.9743\n",
       "</pre>\n"
      ],
      "text/plain": [
       "Avg pred: -0.1014, Avg target: 9.9743\n"
      ]
     },
     "metadata": {},
     "output_type": "display_data"
    },
    {
     "data": {
      "text/html": [
       "<pre style=\"white-space:pre;overflow-x:auto;line-height:normal;font-family:Menlo,'DejaVu Sans Mono',consolas,'Courier New',monospace\"></pre>\n"
      ],
      "text/plain": []
     },
     "metadata": {},
     "output_type": "display_data"
    },
    {
     "data": {
      "text/html": [
       "<pre style=\"white-space:pre;overflow-x:auto;line-height:normal;font-family:Menlo,'DejaVu Sans Mono',consolas,'Courier New',monospace\">\n",
       "</pre>\n"
      ],
      "text/plain": [
       "\n"
      ]
     },
     "metadata": {},
     "output_type": "display_data"
    },
    {
     "data": {
      "text/html": [
       "<pre style=\"white-space:pre;overflow-x:auto;line-height:normal;font-family:Menlo,'DejaVu Sans Mono',consolas,'Courier New',monospace\"><span style=\"font-style: italic\">                                      Last 10 Games                                      </span>\n",
       "     ╷                       ╷       ╷         ╷          ╷           ╷        ╷         \n",
       " <span style=\"font-weight: bold\">  # </span>│<span style=\"font-weight: bold\"> SEATING               </span>│<span style=\"font-weight: bold\"> TURNS </span>│<span style=\"font-weight: bold\"> BLUE VP </span>│<span style=\"font-weight: bold\"> WHITE VP </span>│<span style=\"font-weight: bold\"> ORANGE VP </span>│<span style=\"font-weight: bold\"> RED VP </span>│<span style=\"font-weight: bold\"> WINNER </span> \n",
       "╶────┼───────────────────────┼───────┼─────────┼──────────┼───────────┼────────┼────────╴\n",
       "   1 │ <span style=\"color: #000080; text-decoration-color: #000080\">BLUE</span>,<span style=\"color: #800000; text-decoration-color: #800000\">RED</span>,<span style=\"color: #808000; text-decoration-color: #808000\">ORANGE</span>,<span style=\"color: #c0c0c0; text-decoration-color: #c0c0c0\">WHITE</span> │   304 │       4 │        4 │        10 │      6 │ <span style=\"color: #808000; text-decoration-color: #808000\">ORANGE</span>  \n",
       "   2 │ <span style=\"color: #800000; text-decoration-color: #800000\">RED</span>,<span style=\"color: #c0c0c0; text-decoration-color: #c0c0c0\">WHITE</span>,<span style=\"color: #000080; text-decoration-color: #000080\">BLUE</span>,<span style=\"color: #808000; text-decoration-color: #808000\">ORANGE</span> │   117 │       5 │        2 │        10 │      2 │ <span style=\"color: #808000; text-decoration-color: #808000\">ORANGE</span>  \n",
       "   3 │ <span style=\"color: #800000; text-decoration-color: #800000\">RED</span>,<span style=\"color: #808000; text-decoration-color: #808000\">ORANGE</span>,<span style=\"color: #000080; text-decoration-color: #000080\">BLUE</span>,<span style=\"color: #c0c0c0; text-decoration-color: #c0c0c0\">WHITE</span> │   340 │      10 │        4 │         7 │      5 │ <span style=\"color: #000080; text-decoration-color: #000080\">BLUE</span>    \n",
       "   4 │ <span style=\"color: #000080; text-decoration-color: #000080\">BLUE</span>,<span style=\"color: #808000; text-decoration-color: #808000\">ORANGE</span>,<span style=\"color: #c0c0c0; text-decoration-color: #c0c0c0\">WHITE</span>,<span style=\"color: #800000; text-decoration-color: #800000\">RED</span> │   130 │      10 │        3 │         2 │      3 │ <span style=\"color: #000080; text-decoration-color: #000080\">BLUE</span>    \n",
       "   5 │ <span style=\"color: #000080; text-decoration-color: #000080\">BLUE</span>,<span style=\"color: #c0c0c0; text-decoration-color: #c0c0c0\">WHITE</span>,<span style=\"color: #808000; text-decoration-color: #808000\">ORANGE</span>,<span style=\"color: #800000; text-decoration-color: #800000\">RED</span> │   267 │       6 │       10 │         5 │      3 │ <span style=\"color: #c0c0c0; text-decoration-color: #c0c0c0\">WHITE</span>   \n",
       "   6 │ <span style=\"color: #800000; text-decoration-color: #800000\">RED</span>,<span style=\"color: #c0c0c0; text-decoration-color: #c0c0c0\">WHITE</span>,<span style=\"color: #808000; text-decoration-color: #808000\">ORANGE</span>,<span style=\"color: #000080; text-decoration-color: #000080\">BLUE</span> │   109 │      11 │        2 │         2 │      2 │ <span style=\"color: #000080; text-decoration-color: #000080\">BLUE</span>    \n",
       "   7 │ <span style=\"color: #000080; text-decoration-color: #000080\">BLUE</span>,<span style=\"color: #800000; text-decoration-color: #800000\">RED</span>,<span style=\"color: #c0c0c0; text-decoration-color: #c0c0c0\">WHITE</span>,<span style=\"color: #808000; text-decoration-color: #808000\">ORANGE</span> │   110 │      10 │        2 │         5 │      2 │ <span style=\"color: #000080; text-decoration-color: #000080\">BLUE</span>    \n",
       "   8 │ <span style=\"color: #808000; text-decoration-color: #808000\">ORANGE</span>,<span style=\"color: #800000; text-decoration-color: #800000\">RED</span>,<span style=\"color: #c0c0c0; text-decoration-color: #c0c0c0\">WHITE</span>,<span style=\"color: #000080; text-decoration-color: #000080\">BLUE</span> │   161 │      10 │        3 │         3 │      4 │ <span style=\"color: #000080; text-decoration-color: #000080\">BLUE</span>    \n",
       "   9 │ <span style=\"color: #800000; text-decoration-color: #800000\">RED</span>,<span style=\"color: #000080; text-decoration-color: #000080\">BLUE</span>,<span style=\"color: #c0c0c0; text-decoration-color: #c0c0c0\">WHITE</span>,<span style=\"color: #808000; text-decoration-color: #808000\">ORANGE</span> │   393 │       3 │        4 │        10 │      2 │ <span style=\"color: #808000; text-decoration-color: #808000\">ORANGE</span>  \n",
       "  10 │ <span style=\"color: #800000; text-decoration-color: #800000\">RED</span>,<span style=\"color: #808000; text-decoration-color: #808000\">ORANGE</span>,<span style=\"color: #000080; text-decoration-color: #000080\">BLUE</span>,<span style=\"color: #c0c0c0; text-decoration-color: #c0c0c0\">WHITE</span> │   279 │       3 │        2 │        10 │      2 │ <span style=\"color: #808000; text-decoration-color: #808000\">ORANGE</span>  \n",
       "     ╵                       ╵       ╵         ╵          ╵           ╵        ╵         \n",
       "</pre>\n"
      ],
      "text/plain": [
       "\u001b[3m                                      Last 10 Games                                      \u001b[0m\n",
       "     ╷                       ╷       ╷         ╷          ╷           ╷        ╷         \n",
       " \u001b[1m \u001b[0m\u001b[1m #\u001b[0m\u001b[1m \u001b[0m│\u001b[1m \u001b[0m\u001b[1mSEATING              \u001b[0m\u001b[1m \u001b[0m│\u001b[1m \u001b[0m\u001b[1mTURNS\u001b[0m\u001b[1m \u001b[0m│\u001b[1m \u001b[0m\u001b[1mBLUE VP\u001b[0m\u001b[1m \u001b[0m│\u001b[1m \u001b[0m\u001b[1mWHITE VP\u001b[0m\u001b[1m \u001b[0m│\u001b[1m \u001b[0m\u001b[1mORANGE VP\u001b[0m\u001b[1m \u001b[0m│\u001b[1m \u001b[0m\u001b[1mRED VP\u001b[0m\u001b[1m \u001b[0m│\u001b[1m \u001b[0m\u001b[1mWINNER\u001b[0m\u001b[1m \u001b[0m \n",
       "╶────┼───────────────────────┼───────┼─────────┼──────────┼───────────┼────────┼────────╴\n",
       "   1 │ \u001b[34mBLUE\u001b[0m,\u001b[31mRED\u001b[0m,\u001b[33mORANGE\u001b[0m,\u001b[37mWHITE\u001b[0m │   304 │       4 │        4 │        10 │      6 │ \u001b[33mORANGE\u001b[0m  \n",
       "   2 │ \u001b[31mRED\u001b[0m,\u001b[37mWHITE\u001b[0m,\u001b[34mBLUE\u001b[0m,\u001b[33mORANGE\u001b[0m │   117 │       5 │        2 │        10 │      2 │ \u001b[33mORANGE\u001b[0m  \n",
       "   3 │ \u001b[31mRED\u001b[0m,\u001b[33mORANGE\u001b[0m,\u001b[34mBLUE\u001b[0m,\u001b[37mWHITE\u001b[0m │   340 │      10 │        4 │         7 │      5 │ \u001b[34mBLUE\u001b[0m    \n",
       "   4 │ \u001b[34mBLUE\u001b[0m,\u001b[33mORANGE\u001b[0m,\u001b[37mWHITE\u001b[0m,\u001b[31mRED\u001b[0m │   130 │      10 │        3 │         2 │      3 │ \u001b[34mBLUE\u001b[0m    \n",
       "   5 │ \u001b[34mBLUE\u001b[0m,\u001b[37mWHITE\u001b[0m,\u001b[33mORANGE\u001b[0m,\u001b[31mRED\u001b[0m │   267 │       6 │       10 │         5 │      3 │ \u001b[37mWHITE\u001b[0m   \n",
       "   6 │ \u001b[31mRED\u001b[0m,\u001b[37mWHITE\u001b[0m,\u001b[33mORANGE\u001b[0m,\u001b[34mBLUE\u001b[0m │   109 │      11 │        2 │         2 │      2 │ \u001b[34mBLUE\u001b[0m    \n",
       "   7 │ \u001b[34mBLUE\u001b[0m,\u001b[31mRED\u001b[0m,\u001b[37mWHITE\u001b[0m,\u001b[33mORANGE\u001b[0m │   110 │      10 │        2 │         5 │      2 │ \u001b[34mBLUE\u001b[0m    \n",
       "   8 │ \u001b[33mORANGE\u001b[0m,\u001b[31mRED\u001b[0m,\u001b[37mWHITE\u001b[0m,\u001b[34mBLUE\u001b[0m │   161 │      10 │        3 │         3 │      4 │ \u001b[34mBLUE\u001b[0m    \n",
       "   9 │ \u001b[31mRED\u001b[0m,\u001b[34mBLUE\u001b[0m,\u001b[37mWHITE\u001b[0m,\u001b[33mORANGE\u001b[0m │   393 │       3 │        4 │        10 │      2 │ \u001b[33mORANGE\u001b[0m  \n",
       "  10 │ \u001b[31mRED\u001b[0m,\u001b[33mORANGE\u001b[0m,\u001b[34mBLUE\u001b[0m,\u001b[37mWHITE\u001b[0m │   279 │       3 │        2 │        10 │      2 │ \u001b[33mORANGE\u001b[0m  \n",
       "     ╵                       ╵       ╵         ╵          ╵           ╵        ╵         \n"
      ]
     },
     "metadata": {},
     "output_type": "display_data"
    },
    {
     "data": {
      "text/html": [
       "<pre style=\"white-space:pre;overflow-x:auto;line-height:normal;font-family:Menlo,'DejaVu Sans Mono',consolas,'Courier New',monospace\"><span style=\"font-style: italic\">                                               Player Summary                                                </span>\n",
       "                              ╷      ╷        ╷             ╷            ╷          ╷          ╷             \n",
       " <span style=\"font-weight: bold\">                             </span>│<span style=\"font-weight: bold\"> WINS </span>│<span style=\"font-weight: bold\"> AVG VP </span>│<span style=\"font-weight: bold\"> AVG SETTLES </span>│<span style=\"font-weight: bold\"> AVG CITIES </span>│<span style=\"font-weight: bold\"> AVG ROAD </span>│<span style=\"font-weight: bold\"> AVG ARMY </span>│<span style=\"font-weight: bold\"> AVG DEV VP </span> \n",
       "╶─────────────────────────────┼──────┼────────┼─────────────┼────────────┼──────────┼──────────┼────────────╴\n",
       "  <span style=\"color: #000080; text-decoration-color: #000080\">WeightedRandomPlayer:BLUE</span>   │    5 │   7.20 │        2.50 │       0.80 │     0.30 │     0.30 │       1.90  \n",
       "  <span style=\"color: #c0c0c0; text-decoration-color: #c0c0c0\">RandomPlayer:WHITE</span>          │    1 │   3.60 │        2.10 │       0.30 │     0.10 │     0.10 │       0.50  \n",
       "  <span style=\"color: #808000; text-decoration-color: #808000\">WeightedRandomPlayer:ORANGE</span> │    4 │   6.40 │        3.00 │       0.50 │     0.30 │     0.30 │       1.20  \n",
       "  <span style=\"color: #800000; text-decoration-color: #800000\">AB_DQNPlayer_1:RED</span>          │    0 │   3.10 │        2.20 │       0.00 │     0.20 │     0.10 │       0.30  \n",
       "                              ╵      ╵        ╵             ╵            ╵          ╵          ╵             \n",
       "</pre>\n"
      ],
      "text/plain": [
       "\u001b[3m                                               Player Summary                                                \u001b[0m\n",
       "                              ╷      ╷        ╷             ╷            ╷          ╷          ╷             \n",
       " \u001b[1m \u001b[0m\u001b[1m                           \u001b[0m\u001b[1m \u001b[0m│\u001b[1m \u001b[0m\u001b[1mWINS\u001b[0m\u001b[1m \u001b[0m│\u001b[1m \u001b[0m\u001b[1mAVG VP\u001b[0m\u001b[1m \u001b[0m│\u001b[1m \u001b[0m\u001b[1mAVG SETTLES\u001b[0m\u001b[1m \u001b[0m│\u001b[1m \u001b[0m\u001b[1mAVG CITIES\u001b[0m\u001b[1m \u001b[0m│\u001b[1m \u001b[0m\u001b[1mAVG ROAD\u001b[0m\u001b[1m \u001b[0m│\u001b[1m \u001b[0m\u001b[1mAVG ARMY\u001b[0m\u001b[1m \u001b[0m│\u001b[1m \u001b[0m\u001b[1mAVG DEV VP\u001b[0m\u001b[1m \u001b[0m \n",
       "╶─────────────────────────────┼──────┼────────┼─────────────┼────────────┼──────────┼──────────┼────────────╴\n",
       "  \u001b[34mWeightedRandomPlayer:BLUE\u001b[0m   │    5 │   7.20 │        2.50 │       0.80 │     0.30 │     0.30 │       1.90  \n",
       "  \u001b[37mRandomPlayer:WHITE\u001b[0m          │    1 │   3.60 │        2.10 │       0.30 │     0.10 │     0.10 │       0.50  \n",
       "  \u001b[33mWeightedRandomPlayer:ORANGE\u001b[0m │    4 │   6.40 │        3.00 │       0.50 │     0.30 │     0.30 │       1.20  \n",
       "  \u001b[31mAB_DQNPlayer_1:RED\u001b[0m          │    0 │   3.10 │        2.20 │       0.00 │     0.20 │     0.10 │       0.30  \n",
       "                              ╵      ╵        ╵             ╵            ╵          ╵          ╵             \n"
      ]
     },
     "metadata": {},
     "output_type": "display_data"
    },
    {
     "data": {
      "text/html": [
       "<pre style=\"white-space:pre;overflow-x:auto;line-height:normal;font-family:Menlo,'DejaVu Sans Mono',consolas,'Courier New',monospace\"><span style=\"font-style: italic\">              Game Summary              </span>\n",
       "            ╷           ╷               \n",
       " <span style=\"font-weight: bold\"> AVG TICKS </span>│<span style=\"font-weight: bold\"> AVG TURNS </span>│<span style=\"font-weight: bold\"> AVG DURATION </span> \n",
       "╶───────────┼───────────┼──────────────╴\n",
       "     619.80 │    221.00 │  14.367 secs  \n",
       "            ╵           ╵               \n",
       "</pre>\n"
      ],
      "text/plain": [
       "\u001b[3m              Game Summary              \u001b[0m\n",
       "            ╷           ╷               \n",
       " \u001b[1m \u001b[0m\u001b[1mAVG TICKS\u001b[0m\u001b[1m \u001b[0m│\u001b[1m \u001b[0m\u001b[1mAVG TURNS\u001b[0m\u001b[1m \u001b[0m│\u001b[1m \u001b[0m\u001b[1mAVG DURATION\u001b[0m\u001b[1m \u001b[0m \n",
       "╶───────────┼───────────┼──────────────╴\n",
       "     619.80 │    221.00 │  14.367 secs  \n",
       "            ╵           ╵               \n"
      ]
     },
     "metadata": {},
     "output_type": "display_data"
    },
    {
     "name": "stdout",
     "output_type": "stream",
     "text": [
      "Loaded replay buffer with 1411 transitions\n",
      "atch 24/50: Playing 10 games\n"
     ]
    },
    {
     "data": {
      "text/html": [
       "<pre style=\"white-space:pre;overflow-x:auto;line-height:normal;font-family:Menlo,'DejaVu Sans Mono',consolas,'Courier New',monospace\">Cleared replay buffer to refresh training examples.\n",
       "</pre>\n"
      ],
      "text/plain": [
       "Cleared replay buffer to refresh training examples.\n"
      ]
     },
     "metadata": {},
     "output_type": "display_data"
    },
    {
     "data": {
      "text/html": [
       "<pre style=\"white-space:pre;overflow-x:auto;line-height:normal;font-family:Menlo,'DejaVu Sans Mono',consolas,'Courier New',monospace\">Reward variance in batch: 0.0000\n",
       "</pre>\n"
      ],
      "text/plain": [
       "Reward variance in batch: 0.0000\n"
      ]
     },
     "metadata": {},
     "output_type": "display_data"
    },
    {
     "data": {
      "text/html": [
       "<pre style=\"white-space:pre;overflow-x:auto;line-height:normal;font-family:Menlo,'DejaVu Sans Mono',consolas,'Courier New',monospace\">Trained DQN model with loss: 101.2769\n",
       "</pre>\n"
      ],
      "text/plain": [
       "Trained DQN model with loss: 101.2769\n"
      ]
     },
     "metadata": {},
     "output_type": "display_data"
    },
    {
     "data": {
      "text/html": [
       "<pre style=\"white-space:pre;overflow-x:auto;line-height:normal;font-family:Menlo,'DejaVu Sans Mono',consolas,'Courier New',monospace\">Avg pred: -0.1089, Avg target: 9.9529\n",
       "</pre>\n"
      ],
      "text/plain": [
       "Avg pred: -0.1089, Avg target: 9.9529\n"
      ]
     },
     "metadata": {},
     "output_type": "display_data"
    },
    {
     "data": {
      "text/html": [
       "<pre style=\"white-space:pre;overflow-x:auto;line-height:normal;font-family:Menlo,'DejaVu Sans Mono',consolas,'Courier New',monospace\">Cleared replay buffer to refresh training examples.\n",
       "</pre>\n"
      ],
      "text/plain": [
       "Cleared replay buffer to refresh training examples.\n"
      ]
     },
     "metadata": {},
     "output_type": "display_data"
    },
    {
     "data": {
      "text/html": [
       "<pre style=\"white-space:pre;overflow-x:auto;line-height:normal;font-family:Menlo,'DejaVu Sans Mono',consolas,'Courier New',monospace\">Reward variance in batch: 0.0000\n",
       "</pre>\n"
      ],
      "text/plain": [
       "Reward variance in batch: 0.0000\n"
      ]
     },
     "metadata": {},
     "output_type": "display_data"
    },
    {
     "data": {
      "text/html": [
       "<pre style=\"white-space:pre;overflow-x:auto;line-height:normal;font-family:Menlo,'DejaVu Sans Mono',consolas,'Courier New',monospace\">Trained DQN model with loss: 102.4460\n",
       "</pre>\n"
      ],
      "text/plain": [
       "Trained DQN model with loss: 102.4460\n"
      ]
     },
     "metadata": {},
     "output_type": "display_data"
    },
    {
     "data": {
      "text/html": [
       "<pre style=\"white-space:pre;overflow-x:auto;line-height:normal;font-family:Menlo,'DejaVu Sans Mono',consolas,'Courier New',monospace\">Avg pred: -0.1175, Avg target: 10.0004\n",
       "</pre>\n"
      ],
      "text/plain": [
       "Avg pred: -0.1175, Avg target: 10.0004\n"
      ]
     },
     "metadata": {},
     "output_type": "display_data"
    },
    {
     "data": {
      "text/html": [
       "<pre style=\"white-space:pre;overflow-x:auto;line-height:normal;font-family:Menlo,'DejaVu Sans Mono',consolas,'Courier New',monospace\"></pre>\n"
      ],
      "text/plain": []
     },
     "metadata": {},
     "output_type": "display_data"
    },
    {
     "data": {
      "text/html": [
       "<pre style=\"white-space:pre;overflow-x:auto;line-height:normal;font-family:Menlo,'DejaVu Sans Mono',consolas,'Courier New',monospace\">\n",
       "</pre>\n"
      ],
      "text/plain": [
       "\n"
      ]
     },
     "metadata": {},
     "output_type": "display_data"
    },
    {
     "data": {
      "text/html": [
       "<pre style=\"white-space:pre;overflow-x:auto;line-height:normal;font-family:Menlo,'DejaVu Sans Mono',consolas,'Courier New',monospace\"><span style=\"font-style: italic\">                                      Last 10 Games                                      </span>\n",
       "     ╷                       ╷       ╷           ╷         ╷        ╷          ╷         \n",
       " <span style=\"font-weight: bold\">  # </span>│<span style=\"font-weight: bold\"> SEATING               </span>│<span style=\"font-weight: bold\"> TURNS </span>│<span style=\"font-weight: bold\"> ORANGE VP </span>│<span style=\"font-weight: bold\"> BLUE VP </span>│<span style=\"font-weight: bold\"> RED VP </span>│<span style=\"font-weight: bold\"> WHITE VP </span>│<span style=\"font-weight: bold\"> WINNER </span> \n",
       "╶────┼───────────────────────┼───────┼───────────┼─────────┼────────┼──────────┼────────╴\n",
       "   1 │ <span style=\"color: #c0c0c0; text-decoration-color: #c0c0c0\">WHITE</span>,<span style=\"color: #000080; text-decoration-color: #000080\">BLUE</span>,<span style=\"color: #808000; text-decoration-color: #808000\">ORANGE</span>,<span style=\"color: #800000; text-decoration-color: #800000\">RED</span> │   356 │        10 │       5 │      5 │        8 │ <span style=\"color: #808000; text-decoration-color: #808000\">ORANGE</span>  \n",
       "   2 │ <span style=\"color: #000080; text-decoration-color: #000080\">BLUE</span>,<span style=\"color: #c0c0c0; text-decoration-color: #c0c0c0\">WHITE</span>,<span style=\"color: #808000; text-decoration-color: #808000\">ORANGE</span>,<span style=\"color: #800000; text-decoration-color: #800000\">RED</span> │   283 │         4 │       2 │      4 │       10 │ <span style=\"color: #c0c0c0; text-decoration-color: #c0c0c0\">WHITE</span>   \n",
       "   3 │ <span style=\"color: #c0c0c0; text-decoration-color: #c0c0c0\">WHITE</span>,<span style=\"color: #800000; text-decoration-color: #800000\">RED</span>,<span style=\"color: #000080; text-decoration-color: #000080\">BLUE</span>,<span style=\"color: #808000; text-decoration-color: #808000\">ORANGE</span> │   269 │        10 │       2 │      2 │        6 │ <span style=\"color: #808000; text-decoration-color: #808000\">ORANGE</span>  \n",
       "   4 │ <span style=\"color: #808000; text-decoration-color: #808000\">ORANGE</span>,<span style=\"color: #000080; text-decoration-color: #000080\">BLUE</span>,<span style=\"color: #800000; text-decoration-color: #800000\">RED</span>,<span style=\"color: #c0c0c0; text-decoration-color: #c0c0c0\">WHITE</span> │   425 │         7 │       8 │      2 │       10 │ <span style=\"color: #c0c0c0; text-decoration-color: #c0c0c0\">WHITE</span>   \n",
       "   5 │ <span style=\"color: #000080; text-decoration-color: #000080\">BLUE</span>,<span style=\"color: #800000; text-decoration-color: #800000\">RED</span>,<span style=\"color: #c0c0c0; text-decoration-color: #c0c0c0\">WHITE</span>,<span style=\"color: #808000; text-decoration-color: #808000\">ORANGE</span> │   542 │         8 │      10 │      4 │        9 │ <span style=\"color: #000080; text-decoration-color: #000080\">BLUE</span>    \n",
       "   6 │ <span style=\"color: #808000; text-decoration-color: #808000\">ORANGE</span>,<span style=\"color: #800000; text-decoration-color: #800000\">RED</span>,<span style=\"color: #c0c0c0; text-decoration-color: #c0c0c0\">WHITE</span>,<span style=\"color: #000080; text-decoration-color: #000080\">BLUE</span> │   365 │         4 │      10 │      2 │        5 │ <span style=\"color: #000080; text-decoration-color: #000080\">BLUE</span>    \n",
       "   7 │ <span style=\"color: #800000; text-decoration-color: #800000\">RED</span>,<span style=\"color: #000080; text-decoration-color: #000080\">BLUE</span>,<span style=\"color: #808000; text-decoration-color: #808000\">ORANGE</span>,<span style=\"color: #c0c0c0; text-decoration-color: #c0c0c0\">WHITE</span> │   207 │         3 │      10 │      2 │        4 │ <span style=\"color: #000080; text-decoration-color: #000080\">BLUE</span>    \n",
       "   8 │ <span style=\"color: #808000; text-decoration-color: #808000\">ORANGE</span>,<span style=\"color: #c0c0c0; text-decoration-color: #c0c0c0\">WHITE</span>,<span style=\"color: #000080; text-decoration-color: #000080\">BLUE</span>,<span style=\"color: #800000; text-decoration-color: #800000\">RED</span> │   195 │         2 │       3 │      2 │       10 │ <span style=\"color: #c0c0c0; text-decoration-color: #c0c0c0\">WHITE</span>   \n",
       "   9 │ <span style=\"color: #808000; text-decoration-color: #808000\">ORANGE</span>,<span style=\"color: #c0c0c0; text-decoration-color: #c0c0c0\">WHITE</span>,<span style=\"color: #800000; text-decoration-color: #800000\">RED</span>,<span style=\"color: #000080; text-decoration-color: #000080\">BLUE</span> │   281 │         2 │      10 │      2 │        3 │ <span style=\"color: #000080; text-decoration-color: #000080\">BLUE</span>    \n",
       "  10 │ <span style=\"color: #000080; text-decoration-color: #000080\">BLUE</span>,<span style=\"color: #c0c0c0; text-decoration-color: #c0c0c0\">WHITE</span>,<span style=\"color: #808000; text-decoration-color: #808000\">ORANGE</span>,<span style=\"color: #800000; text-decoration-color: #800000\">RED</span> │   310 │         8 │      10 │      2 │        5 │ <span style=\"color: #000080; text-decoration-color: #000080\">BLUE</span>    \n",
       "     ╵                       ╵       ╵           ╵         ╵        ╵          ╵         \n",
       "</pre>\n"
      ],
      "text/plain": [
       "\u001b[3m                                      Last 10 Games                                      \u001b[0m\n",
       "     ╷                       ╷       ╷           ╷         ╷        ╷          ╷         \n",
       " \u001b[1m \u001b[0m\u001b[1m #\u001b[0m\u001b[1m \u001b[0m│\u001b[1m \u001b[0m\u001b[1mSEATING              \u001b[0m\u001b[1m \u001b[0m│\u001b[1m \u001b[0m\u001b[1mTURNS\u001b[0m\u001b[1m \u001b[0m│\u001b[1m \u001b[0m\u001b[1mORANGE VP\u001b[0m\u001b[1m \u001b[0m│\u001b[1m \u001b[0m\u001b[1mBLUE VP\u001b[0m\u001b[1m \u001b[0m│\u001b[1m \u001b[0m\u001b[1mRED VP\u001b[0m\u001b[1m \u001b[0m│\u001b[1m \u001b[0m\u001b[1mWHITE VP\u001b[0m\u001b[1m \u001b[0m│\u001b[1m \u001b[0m\u001b[1mWINNER\u001b[0m\u001b[1m \u001b[0m \n",
       "╶────┼───────────────────────┼───────┼───────────┼─────────┼────────┼──────────┼────────╴\n",
       "   1 │ \u001b[37mWHITE\u001b[0m,\u001b[34mBLUE\u001b[0m,\u001b[33mORANGE\u001b[0m,\u001b[31mRED\u001b[0m │   356 │        10 │       5 │      5 │        8 │ \u001b[33mORANGE\u001b[0m  \n",
       "   2 │ \u001b[34mBLUE\u001b[0m,\u001b[37mWHITE\u001b[0m,\u001b[33mORANGE\u001b[0m,\u001b[31mRED\u001b[0m │   283 │         4 │       2 │      4 │       10 │ \u001b[37mWHITE\u001b[0m   \n",
       "   3 │ \u001b[37mWHITE\u001b[0m,\u001b[31mRED\u001b[0m,\u001b[34mBLUE\u001b[0m,\u001b[33mORANGE\u001b[0m │   269 │        10 │       2 │      2 │        6 │ \u001b[33mORANGE\u001b[0m  \n",
       "   4 │ \u001b[33mORANGE\u001b[0m,\u001b[34mBLUE\u001b[0m,\u001b[31mRED\u001b[0m,\u001b[37mWHITE\u001b[0m │   425 │         7 │       8 │      2 │       10 │ \u001b[37mWHITE\u001b[0m   \n",
       "   5 │ \u001b[34mBLUE\u001b[0m,\u001b[31mRED\u001b[0m,\u001b[37mWHITE\u001b[0m,\u001b[33mORANGE\u001b[0m │   542 │         8 │      10 │      4 │        9 │ \u001b[34mBLUE\u001b[0m    \n",
       "   6 │ \u001b[33mORANGE\u001b[0m,\u001b[31mRED\u001b[0m,\u001b[37mWHITE\u001b[0m,\u001b[34mBLUE\u001b[0m │   365 │         4 │      10 │      2 │        5 │ \u001b[34mBLUE\u001b[0m    \n",
       "   7 │ \u001b[31mRED\u001b[0m,\u001b[34mBLUE\u001b[0m,\u001b[33mORANGE\u001b[0m,\u001b[37mWHITE\u001b[0m │   207 │         3 │      10 │      2 │        4 │ \u001b[34mBLUE\u001b[0m    \n",
       "   8 │ \u001b[33mORANGE\u001b[0m,\u001b[37mWHITE\u001b[0m,\u001b[34mBLUE\u001b[0m,\u001b[31mRED\u001b[0m │   195 │         2 │       3 │      2 │       10 │ \u001b[37mWHITE\u001b[0m   \n",
       "   9 │ \u001b[33mORANGE\u001b[0m,\u001b[37mWHITE\u001b[0m,\u001b[31mRED\u001b[0m,\u001b[34mBLUE\u001b[0m │   281 │         2 │      10 │      2 │        3 │ \u001b[34mBLUE\u001b[0m    \n",
       "  10 │ \u001b[34mBLUE\u001b[0m,\u001b[37mWHITE\u001b[0m,\u001b[33mORANGE\u001b[0m,\u001b[31mRED\u001b[0m │   310 │         8 │      10 │      2 │        5 │ \u001b[34mBLUE\u001b[0m    \n",
       "     ╵                       ╵       ╵           ╵         ╵        ╵          ╵         \n"
      ]
     },
     "metadata": {},
     "output_type": "display_data"
    },
    {
     "data": {
      "text/html": [
       "<pre style=\"white-space:pre;overflow-x:auto;line-height:normal;font-family:Menlo,'DejaVu Sans Mono',consolas,'Courier New',monospace\"><span style=\"font-style: italic\">                                               Player Summary                                               </span>\n",
       "                             ╷      ╷        ╷             ╷            ╷          ╷          ╷             \n",
       " <span style=\"font-weight: bold\">                            </span>│<span style=\"font-weight: bold\"> WINS </span>│<span style=\"font-weight: bold\"> AVG VP </span>│<span style=\"font-weight: bold\"> AVG SETTLES </span>│<span style=\"font-weight: bold\"> AVG CITIES </span>│<span style=\"font-weight: bold\"> AVG ROAD </span>│<span style=\"font-weight: bold\"> AVG ARMY </span>│<span style=\"font-weight: bold\"> AVG DEV VP </span> \n",
       "╶────────────────────────────┼──────┼────────┼─────────────┼────────────┼──────────┼──────────┼────────────╴\n",
       "  <span style=\"color: #808000; text-decoration-color: #808000\">RandomPlayer:ORANGE</span>        │    2 │   5.80 │        2.60 │       0.50 │     0.20 │     0.30 │       1.20  \n",
       "  <span style=\"color: #000080; text-decoration-color: #000080\">RandomPlayer:BLUE</span>          │    5 │   7.00 │        2.50 │       1.40 │     0.30 │     0.20 │       0.70  \n",
       "  <span style=\"color: #800000; text-decoration-color: #800000\">AB_DQNPlayer_1:RED</span>         │    0 │   2.70 │        2.30 │       0.00 │     0.20 │     0.00 │       0.00  \n",
       "  <span style=\"color: #c0c0c0; text-decoration-color: #c0c0c0\">WeightedRandomPlayer:WHITE</span> │    3 │   7.00 │        2.30 │       1.00 │     0.30 │     0.40 │       1.30  \n",
       "                             ╵      ╵        ╵             ╵            ╵          ╵          ╵             \n",
       "</pre>\n"
      ],
      "text/plain": [
       "\u001b[3m                                               Player Summary                                               \u001b[0m\n",
       "                             ╷      ╷        ╷             ╷            ╷          ╷          ╷             \n",
       " \u001b[1m \u001b[0m\u001b[1m                          \u001b[0m\u001b[1m \u001b[0m│\u001b[1m \u001b[0m\u001b[1mWINS\u001b[0m\u001b[1m \u001b[0m│\u001b[1m \u001b[0m\u001b[1mAVG VP\u001b[0m\u001b[1m \u001b[0m│\u001b[1m \u001b[0m\u001b[1mAVG SETTLES\u001b[0m\u001b[1m \u001b[0m│\u001b[1m \u001b[0m\u001b[1mAVG CITIES\u001b[0m\u001b[1m \u001b[0m│\u001b[1m \u001b[0m\u001b[1mAVG ROAD\u001b[0m\u001b[1m \u001b[0m│\u001b[1m \u001b[0m\u001b[1mAVG ARMY\u001b[0m\u001b[1m \u001b[0m│\u001b[1m \u001b[0m\u001b[1mAVG DEV VP\u001b[0m\u001b[1m \u001b[0m \n",
       "╶────────────────────────────┼──────┼────────┼─────────────┼────────────┼──────────┼──────────┼────────────╴\n",
       "  \u001b[33mRandomPlayer:ORANGE\u001b[0m        │    2 │   5.80 │        2.60 │       0.50 │     0.20 │     0.30 │       1.20  \n",
       "  \u001b[34mRandomPlayer:BLUE\u001b[0m          │    5 │   7.00 │        2.50 │       1.40 │     0.30 │     0.20 │       0.70  \n",
       "  \u001b[31mAB_DQNPlayer_1:RED\u001b[0m         │    0 │   2.70 │        2.30 │       0.00 │     0.20 │     0.00 │       0.00  \n",
       "  \u001b[37mWeightedRandomPlayer:WHITE\u001b[0m │    3 │   7.00 │        2.30 │       1.00 │     0.30 │     0.40 │       1.30  \n",
       "                             ╵      ╵        ╵             ╵            ╵          ╵          ╵             \n"
      ]
     },
     "metadata": {},
     "output_type": "display_data"
    },
    {
     "data": {
      "text/html": [
       "<pre style=\"white-space:pre;overflow-x:auto;line-height:normal;font-family:Menlo,'DejaVu Sans Mono',consolas,'Courier New',monospace\"><span style=\"font-style: italic\">              Game Summary              </span>\n",
       "            ╷           ╷               \n",
       " <span style=\"font-weight: bold\"> AVG TICKS </span>│<span style=\"font-weight: bold\"> AVG TURNS </span>│<span style=\"font-weight: bold\"> AVG DURATION </span> \n",
       "╶───────────┼───────────┼──────────────╴\n",
       "     920.40 │    323.30 │  15.058 secs  \n",
       "            ╵           ╵               \n",
       "</pre>\n"
      ],
      "text/plain": [
       "\u001b[3m              Game Summary              \u001b[0m\n",
       "            ╷           ╷               \n",
       " \u001b[1m \u001b[0m\u001b[1mAVG TICKS\u001b[0m\u001b[1m \u001b[0m│\u001b[1m \u001b[0m\u001b[1mAVG TURNS\u001b[0m\u001b[1m \u001b[0m│\u001b[1m \u001b[0m\u001b[1mAVG DURATION\u001b[0m\u001b[1m \u001b[0m \n",
       "╶───────────┼───────────┼──────────────╴\n",
       "     920.40 │    323.30 │  15.058 secs  \n",
       "            ╵           ╵               \n"
      ]
     },
     "metadata": {},
     "output_type": "display_data"
    },
    {
     "name": "stdout",
     "output_type": "stream",
     "text": [
      "Loaded replay buffer with 3766 transitions\n",
      "atch 25/50: Playing 10 games\n"
     ]
    },
    {
     "data": {
      "text/html": [
       "<pre style=\"white-space:pre;overflow-x:auto;line-height:normal;font-family:Menlo,'DejaVu Sans Mono',consolas,'Courier New',monospace\">Cleared replay buffer to refresh training examples.\n",
       "</pre>\n"
      ],
      "text/plain": [
       "Cleared replay buffer to refresh training examples.\n"
      ]
     },
     "metadata": {},
     "output_type": "display_data"
    },
    {
     "data": {
      "text/html": [
       "<pre style=\"white-space:pre;overflow-x:auto;line-height:normal;font-family:Menlo,'DejaVu Sans Mono',consolas,'Courier New',monospace\">Reward variance in batch: 0.0000\n",
       "</pre>\n"
      ],
      "text/plain": [
       "Reward variance in batch: 0.0000\n"
      ]
     },
     "metadata": {},
     "output_type": "display_data"
    },
    {
     "data": {
      "text/html": [
       "<pre style=\"white-space:pre;overflow-x:auto;line-height:normal;font-family:Menlo,'DejaVu Sans Mono',consolas,'Courier New',monospace\">Trained DQN model with loss: 102.6369\n",
       "</pre>\n"
      ],
      "text/plain": [
       "Trained DQN model with loss: 102.6369\n"
      ]
     },
     "metadata": {},
     "output_type": "display_data"
    },
    {
     "data": {
      "text/html": [
       "<pre style=\"white-space:pre;overflow-x:auto;line-height:normal;font-family:Menlo,'DejaVu Sans Mono',consolas,'Courier New',monospace\">Avg pred: -0.1307, Avg target: 9.9988\n",
       "</pre>\n"
      ],
      "text/plain": [
       "Avg pred: -0.1307, Avg target: 9.9988\n"
      ]
     },
     "metadata": {},
     "output_type": "display_data"
    },
    {
     "data": {
      "text/html": [
       "<pre style=\"white-space:pre;overflow-x:auto;line-height:normal;font-family:Menlo,'DejaVu Sans Mono',consolas,'Courier New',monospace\">Cleared replay buffer to refresh training examples.\n",
       "</pre>\n"
      ],
      "text/plain": [
       "Cleared replay buffer to refresh training examples.\n"
      ]
     },
     "metadata": {},
     "output_type": "display_data"
    },
    {
     "data": {
      "text/html": [
       "<pre style=\"white-space:pre;overflow-x:auto;line-height:normal;font-family:Menlo,'DejaVu Sans Mono',consolas,'Courier New',monospace\">Reward variance in batch: 0.0000\n",
       "</pre>\n"
      ],
      "text/plain": [
       "Reward variance in batch: 0.0000\n"
      ]
     },
     "metadata": {},
     "output_type": "display_data"
    },
    {
     "data": {
      "text/html": [
       "<pre style=\"white-space:pre;overflow-x:auto;line-height:normal;font-family:Menlo,'DejaVu Sans Mono',consolas,'Courier New',monospace\">Trained DQN model with loss: 102.1229\n",
       "</pre>\n"
      ],
      "text/plain": [
       "Trained DQN model with loss: 102.1229\n"
      ]
     },
     "metadata": {},
     "output_type": "display_data"
    },
    {
     "data": {
      "text/html": [
       "<pre style=\"white-space:pre;overflow-x:auto;line-height:normal;font-family:Menlo,'DejaVu Sans Mono',consolas,'Courier New',monospace\">Avg pred: -0.1341, Avg target: 9.9688\n",
       "</pre>\n"
      ],
      "text/plain": [
       "Avg pred: -0.1341, Avg target: 9.9688\n"
      ]
     },
     "metadata": {},
     "output_type": "display_data"
    },
    {
     "data": {
      "text/html": [
       "<pre style=\"white-space:pre;overflow-x:auto;line-height:normal;font-family:Menlo,'DejaVu Sans Mono',consolas,'Courier New',monospace\"></pre>\n"
      ],
      "text/plain": []
     },
     "metadata": {},
     "output_type": "display_data"
    },
    {
     "data": {
      "text/html": [
       "<pre style=\"white-space:pre;overflow-x:auto;line-height:normal;font-family:Menlo,'DejaVu Sans Mono',consolas,'Courier New',monospace\">\n",
       "</pre>\n"
      ],
      "text/plain": [
       "\n"
      ]
     },
     "metadata": {},
     "output_type": "display_data"
    },
    {
     "data": {
      "text/html": [
       "<pre style=\"white-space:pre;overflow-x:auto;line-height:normal;font-family:Menlo,'DejaVu Sans Mono',consolas,'Courier New',monospace\"><span style=\"font-style: italic\">                                      Last 10 Games                                      </span>\n",
       "     ╷                       ╷       ╷          ╷        ╷           ╷         ╷         \n",
       " <span style=\"font-weight: bold\">  # </span>│<span style=\"font-weight: bold\"> SEATING               </span>│<span style=\"font-weight: bold\"> TURNS </span>│<span style=\"font-weight: bold\"> WHITE VP </span>│<span style=\"font-weight: bold\"> RED VP </span>│<span style=\"font-weight: bold\"> ORANGE VP </span>│<span style=\"font-weight: bold\"> BLUE VP </span>│<span style=\"font-weight: bold\"> WINNER </span> \n",
       "╶────┼───────────────────────┼───────┼──────────┼────────┼───────────┼─────────┼────────╴\n",
       "   1 │ <span style=\"color: #808000; text-decoration-color: #808000\">ORANGE</span>,<span style=\"color: #800000; text-decoration-color: #800000\">RED</span>,<span style=\"color: #c0c0c0; text-decoration-color: #c0c0c0\">WHITE</span>,<span style=\"color: #000080; text-decoration-color: #000080\">BLUE</span> │   597 │        6 │      8 │         5 │      10 │ <span style=\"color: #000080; text-decoration-color: #000080\">BLUE</span>    \n",
       "   2 │ <span style=\"color: #c0c0c0; text-decoration-color: #c0c0c0\">WHITE</span>,<span style=\"color: #808000; text-decoration-color: #808000\">ORANGE</span>,<span style=\"color: #000080; text-decoration-color: #000080\">BLUE</span>,<span style=\"color: #800000; text-decoration-color: #800000\">RED</span> │   310 │       10 │      4 │         5 │       4 │ <span style=\"color: #c0c0c0; text-decoration-color: #c0c0c0\">WHITE</span>   \n",
       "   3 │ <span style=\"color: #c0c0c0; text-decoration-color: #c0c0c0\">WHITE</span>,<span style=\"color: #000080; text-decoration-color: #000080\">BLUE</span>,<span style=\"color: #800000; text-decoration-color: #800000\">RED</span>,<span style=\"color: #808000; text-decoration-color: #808000\">ORANGE</span> │   257 │        3 │      3 │        10 │       5 │ <span style=\"color: #808000; text-decoration-color: #808000\">ORANGE</span>  \n",
       "   4 │ <span style=\"color: #800000; text-decoration-color: #800000\">RED</span>,<span style=\"color: #000080; text-decoration-color: #000080\">BLUE</span>,<span style=\"color: #c0c0c0; text-decoration-color: #c0c0c0\">WHITE</span>,<span style=\"color: #808000; text-decoration-color: #808000\">ORANGE</span> │   375 │        8 │      2 │         6 │      10 │ <span style=\"color: #000080; text-decoration-color: #000080\">BLUE</span>    \n",
       "   5 │ <span style=\"color: #000080; text-decoration-color: #000080\">BLUE</span>,<span style=\"color: #808000; text-decoration-color: #808000\">ORANGE</span>,<span style=\"color: #c0c0c0; text-decoration-color: #c0c0c0\">WHITE</span>,<span style=\"color: #800000; text-decoration-color: #800000\">RED</span> │   176 │       10 │      2 │         2 │       2 │ <span style=\"color: #c0c0c0; text-decoration-color: #c0c0c0\">WHITE</span>   \n",
       "   6 │ <span style=\"color: #000080; text-decoration-color: #000080\">BLUE</span>,<span style=\"color: #c0c0c0; text-decoration-color: #c0c0c0\">WHITE</span>,<span style=\"color: #800000; text-decoration-color: #800000\">RED</span>,<span style=\"color: #808000; text-decoration-color: #808000\">ORANGE</span> │   141 │        3 │      2 │        10 │       4 │ <span style=\"color: #808000; text-decoration-color: #808000\">ORANGE</span>  \n",
       "   7 │ <span style=\"color: #800000; text-decoration-color: #800000\">RED</span>,<span style=\"color: #c0c0c0; text-decoration-color: #c0c0c0\">WHITE</span>,<span style=\"color: #808000; text-decoration-color: #808000\">ORANGE</span>,<span style=\"color: #000080; text-decoration-color: #000080\">BLUE</span> │   219 │       10 │      2 │         6 │       2 │ <span style=\"color: #c0c0c0; text-decoration-color: #c0c0c0\">WHITE</span>   \n",
       "   8 │ <span style=\"color: #c0c0c0; text-decoration-color: #c0c0c0\">WHITE</span>,<span style=\"color: #800000; text-decoration-color: #800000\">RED</span>,<span style=\"color: #808000; text-decoration-color: #808000\">ORANGE</span>,<span style=\"color: #000080; text-decoration-color: #000080\">BLUE</span> │   814 │       10 │      2 │         6 │       9 │ <span style=\"color: #c0c0c0; text-decoration-color: #c0c0c0\">WHITE</span>   \n",
       "   9 │ <span style=\"color: #800000; text-decoration-color: #800000\">RED</span>,<span style=\"color: #808000; text-decoration-color: #808000\">ORANGE</span>,<span style=\"color: #c0c0c0; text-decoration-color: #c0c0c0\">WHITE</span>,<span style=\"color: #000080; text-decoration-color: #000080\">BLUE</span> │   104 │       10 │      2 │         2 │       2 │ <span style=\"color: #c0c0c0; text-decoration-color: #c0c0c0\">WHITE</span>   \n",
       "  10 │ <span style=\"color: #800000; text-decoration-color: #800000\">RED</span>,<span style=\"color: #c0c0c0; text-decoration-color: #c0c0c0\">WHITE</span>,<span style=\"color: #808000; text-decoration-color: #808000\">ORANGE</span>,<span style=\"color: #000080; text-decoration-color: #000080\">BLUE</span> │   119 │       10 │      2 │         4 │       2 │ <span style=\"color: #c0c0c0; text-decoration-color: #c0c0c0\">WHITE</span>   \n",
       "     ╵                       ╵       ╵          ╵        ╵           ╵         ╵         \n",
       "</pre>\n"
      ],
      "text/plain": [
       "\u001b[3m                                      Last 10 Games                                      \u001b[0m\n",
       "     ╷                       ╷       ╷          ╷        ╷           ╷         ╷         \n",
       " \u001b[1m \u001b[0m\u001b[1m #\u001b[0m\u001b[1m \u001b[0m│\u001b[1m \u001b[0m\u001b[1mSEATING              \u001b[0m\u001b[1m \u001b[0m│\u001b[1m \u001b[0m\u001b[1mTURNS\u001b[0m\u001b[1m \u001b[0m│\u001b[1m \u001b[0m\u001b[1mWHITE VP\u001b[0m\u001b[1m \u001b[0m│\u001b[1m \u001b[0m\u001b[1mRED VP\u001b[0m\u001b[1m \u001b[0m│\u001b[1m \u001b[0m\u001b[1mORANGE VP\u001b[0m\u001b[1m \u001b[0m│\u001b[1m \u001b[0m\u001b[1mBLUE VP\u001b[0m\u001b[1m \u001b[0m│\u001b[1m \u001b[0m\u001b[1mWINNER\u001b[0m\u001b[1m \u001b[0m \n",
       "╶────┼───────────────────────┼───────┼──────────┼────────┼───────────┼─────────┼────────╴\n",
       "   1 │ \u001b[33mORANGE\u001b[0m,\u001b[31mRED\u001b[0m,\u001b[37mWHITE\u001b[0m,\u001b[34mBLUE\u001b[0m │   597 │        6 │      8 │         5 │      10 │ \u001b[34mBLUE\u001b[0m    \n",
       "   2 │ \u001b[37mWHITE\u001b[0m,\u001b[33mORANGE\u001b[0m,\u001b[34mBLUE\u001b[0m,\u001b[31mRED\u001b[0m │   310 │       10 │      4 │         5 │       4 │ \u001b[37mWHITE\u001b[0m   \n",
       "   3 │ \u001b[37mWHITE\u001b[0m,\u001b[34mBLUE\u001b[0m,\u001b[31mRED\u001b[0m,\u001b[33mORANGE\u001b[0m │   257 │        3 │      3 │        10 │       5 │ \u001b[33mORANGE\u001b[0m  \n",
       "   4 │ \u001b[31mRED\u001b[0m,\u001b[34mBLUE\u001b[0m,\u001b[37mWHITE\u001b[0m,\u001b[33mORANGE\u001b[0m │   375 │        8 │      2 │         6 │      10 │ \u001b[34mBLUE\u001b[0m    \n",
       "   5 │ \u001b[34mBLUE\u001b[0m,\u001b[33mORANGE\u001b[0m,\u001b[37mWHITE\u001b[0m,\u001b[31mRED\u001b[0m │   176 │       10 │      2 │         2 │       2 │ \u001b[37mWHITE\u001b[0m   \n",
       "   6 │ \u001b[34mBLUE\u001b[0m,\u001b[37mWHITE\u001b[0m,\u001b[31mRED\u001b[0m,\u001b[33mORANGE\u001b[0m │   141 │        3 │      2 │        10 │       4 │ \u001b[33mORANGE\u001b[0m  \n",
       "   7 │ \u001b[31mRED\u001b[0m,\u001b[37mWHITE\u001b[0m,\u001b[33mORANGE\u001b[0m,\u001b[34mBLUE\u001b[0m │   219 │       10 │      2 │         6 │       2 │ \u001b[37mWHITE\u001b[0m   \n",
       "   8 │ \u001b[37mWHITE\u001b[0m,\u001b[31mRED\u001b[0m,\u001b[33mORANGE\u001b[0m,\u001b[34mBLUE\u001b[0m │   814 │       10 │      2 │         6 │       9 │ \u001b[37mWHITE\u001b[0m   \n",
       "   9 │ \u001b[31mRED\u001b[0m,\u001b[33mORANGE\u001b[0m,\u001b[37mWHITE\u001b[0m,\u001b[34mBLUE\u001b[0m │   104 │       10 │      2 │         2 │       2 │ \u001b[37mWHITE\u001b[0m   \n",
       "  10 │ \u001b[31mRED\u001b[0m,\u001b[37mWHITE\u001b[0m,\u001b[33mORANGE\u001b[0m,\u001b[34mBLUE\u001b[0m │   119 │       10 │      2 │         4 │       2 │ \u001b[37mWHITE\u001b[0m   \n",
       "     ╵                       ╵       ╵          ╵        ╵           ╵         ╵         \n"
      ]
     },
     "metadata": {},
     "output_type": "display_data"
    },
    {
     "data": {
      "text/html": [
       "<pre style=\"white-space:pre;overflow-x:auto;line-height:normal;font-family:Menlo,'DejaVu Sans Mono',consolas,'Courier New',monospace\"><span style=\"font-style: italic\">                                               Player Summary                                               </span>\n",
       "                             ╷      ╷        ╷             ╷            ╷          ╷          ╷             \n",
       " <span style=\"font-weight: bold\">                            </span>│<span style=\"font-weight: bold\"> WINS </span>│<span style=\"font-weight: bold\"> AVG VP </span>│<span style=\"font-weight: bold\"> AVG SETTLES </span>│<span style=\"font-weight: bold\"> AVG CITIES </span>│<span style=\"font-weight: bold\"> AVG ROAD </span>│<span style=\"font-weight: bold\"> AVG ARMY </span>│<span style=\"font-weight: bold\"> AVG DEV VP </span> \n",
       "╶────────────────────────────┼──────┼────────┼─────────────┼────────────┼──────────┼──────────┼────────────╴\n",
       "  <span style=\"color: #c0c0c0; text-decoration-color: #c0c0c0\">WeightedRandomPlayer:WHITE</span> │    6 │   8.00 │        3.50 │       0.70 │     0.60 │     0.50 │       0.90  \n",
       "  <span style=\"color: #800000; text-decoration-color: #800000\">AB_DQNPlayer_1:RED</span>         │    0 │   2.90 │        1.80 │       0.30 │     0.00 │     0.10 │       0.30  \n",
       "  <span style=\"color: #808000; text-decoration-color: #808000\">RandomPlayer:ORANGE</span>        │    2 │   5.60 │        1.30 │       1.30 │     0.30 │     0.30 │       0.50  \n",
       "  <span style=\"color: #000080; text-decoration-color: #000080\">RandomPlayer:BLUE</span>          │    2 │   5.00 │        2.20 │       0.70 │     0.10 │     0.00 │       1.20  \n",
       "                             ╵      ╵        ╵             ╵            ╵          ╵          ╵             \n",
       "</pre>\n"
      ],
      "text/plain": [
       "\u001b[3m                                               Player Summary                                               \u001b[0m\n",
       "                             ╷      ╷        ╷             ╷            ╷          ╷          ╷             \n",
       " \u001b[1m \u001b[0m\u001b[1m                          \u001b[0m\u001b[1m \u001b[0m│\u001b[1m \u001b[0m\u001b[1mWINS\u001b[0m\u001b[1m \u001b[0m│\u001b[1m \u001b[0m\u001b[1mAVG VP\u001b[0m\u001b[1m \u001b[0m│\u001b[1m \u001b[0m\u001b[1mAVG SETTLES\u001b[0m\u001b[1m \u001b[0m│\u001b[1m \u001b[0m\u001b[1mAVG CITIES\u001b[0m\u001b[1m \u001b[0m│\u001b[1m \u001b[0m\u001b[1mAVG ROAD\u001b[0m\u001b[1m \u001b[0m│\u001b[1m \u001b[0m\u001b[1mAVG ARMY\u001b[0m\u001b[1m \u001b[0m│\u001b[1m \u001b[0m\u001b[1mAVG DEV VP\u001b[0m\u001b[1m \u001b[0m \n",
       "╶────────────────────────────┼──────┼────────┼─────────────┼────────────┼──────────┼──────────┼────────────╴\n",
       "  \u001b[37mWeightedRandomPlayer:WHITE\u001b[0m │    6 │   8.00 │        3.50 │       0.70 │     0.60 │     0.50 │       0.90  \n",
       "  \u001b[31mAB_DQNPlayer_1:RED\u001b[0m         │    0 │   2.90 │        1.80 │       0.30 │     0.00 │     0.10 │       0.30  \n",
       "  \u001b[33mRandomPlayer:ORANGE\u001b[0m        │    2 │   5.60 │        1.30 │       1.30 │     0.30 │     0.30 │       0.50  \n",
       "  \u001b[34mRandomPlayer:BLUE\u001b[0m          │    2 │   5.00 │        2.20 │       0.70 │     0.10 │     0.00 │       1.20  \n",
       "                             ╵      ╵        ╵             ╵            ╵          ╵          ╵             \n"
      ]
     },
     "metadata": {},
     "output_type": "display_data"
    },
    {
     "data": {
      "text/html": [
       "<pre style=\"white-space:pre;overflow-x:auto;line-height:normal;font-family:Menlo,'DejaVu Sans Mono',consolas,'Courier New',monospace\"><span style=\"font-style: italic\">              Game Summary              </span>\n",
       "            ╷           ╷               \n",
       " <span style=\"font-weight: bold\"> AVG TICKS </span>│<span style=\"font-weight: bold\"> AVG TURNS </span>│<span style=\"font-weight: bold\"> AVG DURATION </span> \n",
       "╶───────────┼───────────┼──────────────╴\n",
       "     907.80 │    311.20 │  16.306 secs  \n",
       "            ╵           ╵               \n",
       "</pre>\n"
      ],
      "text/plain": [
       "\u001b[3m              Game Summary              \u001b[0m\n",
       "            ╷           ╷               \n",
       " \u001b[1m \u001b[0m\u001b[1mAVG TICKS\u001b[0m\u001b[1m \u001b[0m│\u001b[1m \u001b[0m\u001b[1mAVG TURNS\u001b[0m\u001b[1m \u001b[0m│\u001b[1m \u001b[0m\u001b[1mAVG DURATION\u001b[0m\u001b[1m \u001b[0m \n",
       "╶───────────┼───────────┼──────────────╴\n",
       "     907.80 │    311.20 │  16.306 secs  \n",
       "            ╵           ╵               \n"
      ]
     },
     "metadata": {},
     "output_type": "display_data"
    },
    {
     "name": "stdout",
     "output_type": "stream",
     "text": [
      "Loaded replay buffer with 2799 transitions\n",
      "atch 26/50: Playing 10 games\n"
     ]
    },
    {
     "data": {
      "text/html": [
       "<pre style=\"white-space:pre;overflow-x:auto;line-height:normal;font-family:Menlo,'DejaVu Sans Mono',consolas,'Courier New',monospace\">Cleared replay buffer to refresh training examples.\n",
       "</pre>\n"
      ],
      "text/plain": [
       "Cleared replay buffer to refresh training examples.\n"
      ]
     },
     "metadata": {},
     "output_type": "display_data"
    },
    {
     "data": {
      "text/html": [
       "<pre style=\"white-space:pre;overflow-x:auto;line-height:normal;font-family:Menlo,'DejaVu Sans Mono',consolas,'Courier New',monospace\">Reward variance in batch: 0.0000\n",
       "</pre>\n"
      ],
      "text/plain": [
       "Reward variance in batch: 0.0000\n"
      ]
     },
     "metadata": {},
     "output_type": "display_data"
    },
    {
     "data": {
      "text/html": [
       "<pre style=\"white-space:pre;overflow-x:auto;line-height:normal;font-family:Menlo,'DejaVu Sans Mono',consolas,'Courier New',monospace\">Trained DQN model with loss: 102.3039\n",
       "</pre>\n"
      ],
      "text/plain": [
       "Trained DQN model with loss: 102.3039\n"
      ]
     },
     "metadata": {},
     "output_type": "display_data"
    },
    {
     "data": {
      "text/html": [
       "<pre style=\"white-space:pre;overflow-x:auto;line-height:normal;font-family:Menlo,'DejaVu Sans Mono',consolas,'Courier New',monospace\">Avg pred: -0.1377, Avg target: 9.9740\n",
       "</pre>\n"
      ],
      "text/plain": [
       "Avg pred: -0.1377, Avg target: 9.9740\n"
      ]
     },
     "metadata": {},
     "output_type": "display_data"
    },
    {
     "data": {
      "text/html": [
       "<pre style=\"white-space:pre;overflow-x:auto;line-height:normal;font-family:Menlo,'DejaVu Sans Mono',consolas,'Courier New',monospace\">Cleared replay buffer to refresh training examples.\n",
       "</pre>\n"
      ],
      "text/plain": [
       "Cleared replay buffer to refresh training examples.\n"
      ]
     },
     "metadata": {},
     "output_type": "display_data"
    },
    {
     "data": {
      "text/html": [
       "<pre style=\"white-space:pre;overflow-x:auto;line-height:normal;font-family:Menlo,'DejaVu Sans Mono',consolas,'Courier New',monospace\">Reward variance in batch: 0.0000\n",
       "</pre>\n"
      ],
      "text/plain": [
       "Reward variance in batch: 0.0000\n"
      ]
     },
     "metadata": {},
     "output_type": "display_data"
    },
    {
     "data": {
      "text/html": [
       "<pre style=\"white-space:pre;overflow-x:auto;line-height:normal;font-family:Menlo,'DejaVu Sans Mono',consolas,'Courier New',monospace\">Trained DQN model with loss: 101.2730\n",
       "</pre>\n"
      ],
      "text/plain": [
       "Trained DQN model with loss: 101.2730\n"
      ]
     },
     "metadata": {},
     "output_type": "display_data"
    },
    {
     "data": {
      "text/html": [
       "<pre style=\"white-space:pre;overflow-x:auto;line-height:normal;font-family:Menlo,'DejaVu Sans Mono',consolas,'Courier New',monospace\">Avg pred: -0.0928, Avg target: 9.9690\n",
       "</pre>\n"
      ],
      "text/plain": [
       "Avg pred: -0.0928, Avg target: 9.9690\n"
      ]
     },
     "metadata": {},
     "output_type": "display_data"
    },
    {
     "data": {
      "text/html": [
       "<pre style=\"white-space:pre;overflow-x:auto;line-height:normal;font-family:Menlo,'DejaVu Sans Mono',consolas,'Courier New',monospace\">Cleared replay buffer to refresh training examples.\n",
       "</pre>\n"
      ],
      "text/plain": [
       "Cleared replay buffer to refresh training examples.\n"
      ]
     },
     "metadata": {},
     "output_type": "display_data"
    },
    {
     "data": {
      "text/html": [
       "<pre style=\"white-space:pre;overflow-x:auto;line-height:normal;font-family:Menlo,'DejaVu Sans Mono',consolas,'Courier New',monospace\">Reward variance in batch: 0.0000\n",
       "</pre>\n"
      ],
      "text/plain": [
       "Reward variance in batch: 0.0000\n"
      ]
     },
     "metadata": {},
     "output_type": "display_data"
    },
    {
     "data": {
      "text/html": [
       "<pre style=\"white-space:pre;overflow-x:auto;line-height:normal;font-family:Menlo,'DejaVu Sans Mono',consolas,'Courier New',monospace\">Trained DQN model with loss: 101.4385\n",
       "</pre>\n"
      ],
      "text/plain": [
       "Trained DQN model with loss: 101.4385\n"
      ]
     },
     "metadata": {},
     "output_type": "display_data"
    },
    {
     "data": {
      "text/html": [
       "<pre style=\"white-space:pre;overflow-x:auto;line-height:normal;font-family:Menlo,'DejaVu Sans Mono',consolas,'Courier New',monospace\">Avg pred: -0.0884, Avg target: 9.9799\n",
       "</pre>\n"
      ],
      "text/plain": [
       "Avg pred: -0.0884, Avg target: 9.9799\n"
      ]
     },
     "metadata": {},
     "output_type": "display_data"
    },
    {
     "data": {
      "text/html": [
       "<pre style=\"white-space:pre;overflow-x:auto;line-height:normal;font-family:Menlo,'DejaVu Sans Mono',consolas,'Courier New',monospace\"></pre>\n"
      ],
      "text/plain": []
     },
     "metadata": {},
     "output_type": "display_data"
    },
    {
     "data": {
      "text/html": [
       "<pre style=\"white-space:pre;overflow-x:auto;line-height:normal;font-family:Menlo,'DejaVu Sans Mono',consolas,'Courier New',monospace\">\n",
       "</pre>\n"
      ],
      "text/plain": [
       "\n"
      ]
     },
     "metadata": {},
     "output_type": "display_data"
    },
    {
     "data": {
      "text/html": [
       "<pre style=\"white-space:pre;overflow-x:auto;line-height:normal;font-family:Menlo,'DejaVu Sans Mono',consolas,'Courier New',monospace\"><span style=\"font-style: italic\">                                      Last 10 Games                                      </span>\n",
       "     ╷                       ╷       ╷           ╷         ╷        ╷          ╷         \n",
       " <span style=\"font-weight: bold\">  # </span>│<span style=\"font-weight: bold\"> SEATING               </span>│<span style=\"font-weight: bold\"> TURNS </span>│<span style=\"font-weight: bold\"> ORANGE VP </span>│<span style=\"font-weight: bold\"> BLUE VP </span>│<span style=\"font-weight: bold\"> RED VP </span>│<span style=\"font-weight: bold\"> WHITE VP </span>│<span style=\"font-weight: bold\"> WINNER </span> \n",
       "╶────┼───────────────────────┼───────┼───────────┼─────────┼────────┼──────────┼────────╴\n",
       "   1 │ <span style=\"color: #800000; text-decoration-color: #800000\">RED</span>,<span style=\"color: #c0c0c0; text-decoration-color: #c0c0c0\">WHITE</span>,<span style=\"color: #000080; text-decoration-color: #000080\">BLUE</span>,<span style=\"color: #808000; text-decoration-color: #808000\">ORANGE</span> │   372 │         5 │      10 │      8 │        5 │ <span style=\"color: #000080; text-decoration-color: #000080\">BLUE</span>    \n",
       "   2 │ <span style=\"color: #808000; text-decoration-color: #808000\">ORANGE</span>,<span style=\"color: #800000; text-decoration-color: #800000\">RED</span>,<span style=\"color: #000080; text-decoration-color: #000080\">BLUE</span>,<span style=\"color: #c0c0c0; text-decoration-color: #c0c0c0\">WHITE</span> │   584 │         9 │      10 │      4 │        9 │ <span style=\"color: #000080; text-decoration-color: #000080\">BLUE</span>    \n",
       "   3 │ <span style=\"color: #808000; text-decoration-color: #808000\">ORANGE</span>,<span style=\"color: #c0c0c0; text-decoration-color: #c0c0c0\">WHITE</span>,<span style=\"color: #800000; text-decoration-color: #800000\">RED</span>,<span style=\"color: #000080; text-decoration-color: #000080\">BLUE</span> │   437 │         3 │      10 │      4 │        4 │ <span style=\"color: #000080; text-decoration-color: #000080\">BLUE</span>    \n",
       "   4 │ <span style=\"color: #000080; text-decoration-color: #000080\">BLUE</span>,<span style=\"color: #c0c0c0; text-decoration-color: #c0c0c0\">WHITE</span>,<span style=\"color: #808000; text-decoration-color: #808000\">ORANGE</span>,<span style=\"color: #800000; text-decoration-color: #800000\">RED</span> │   271 │         9 │       4 │      2 │       10 │ <span style=\"color: #c0c0c0; text-decoration-color: #c0c0c0\">WHITE</span>   \n",
       "   5 │ <span style=\"color: #800000; text-decoration-color: #800000\">RED</span>,<span style=\"color: #c0c0c0; text-decoration-color: #c0c0c0\">WHITE</span>,<span style=\"color: #808000; text-decoration-color: #808000\">ORANGE</span>,<span style=\"color: #000080; text-decoration-color: #000080\">BLUE</span> │   437 │         7 │      10 │      2 │        3 │ <span style=\"color: #000080; text-decoration-color: #000080\">BLUE</span>    \n",
       "   6 │ <span style=\"color: #808000; text-decoration-color: #808000\">ORANGE</span>,<span style=\"color: #c0c0c0; text-decoration-color: #c0c0c0\">WHITE</span>,<span style=\"color: #000080; text-decoration-color: #000080\">BLUE</span>,<span style=\"color: #800000; text-decoration-color: #800000\">RED</span> │   327 │         4 │       2 │      2 │       10 │ <span style=\"color: #c0c0c0; text-decoration-color: #c0c0c0\">WHITE</span>   \n",
       "   7 │ <span style=\"color: #800000; text-decoration-color: #800000\">RED</span>,<span style=\"color: #c0c0c0; text-decoration-color: #c0c0c0\">WHITE</span>,<span style=\"color: #808000; text-decoration-color: #808000\">ORANGE</span>,<span style=\"color: #000080; text-decoration-color: #000080\">BLUE</span> │   263 │         3 │       4 │      2 │       11 │ <span style=\"color: #c0c0c0; text-decoration-color: #c0c0c0\">WHITE</span>   \n",
       "   8 │ <span style=\"color: #000080; text-decoration-color: #000080\">BLUE</span>,<span style=\"color: #c0c0c0; text-decoration-color: #c0c0c0\">WHITE</span>,<span style=\"color: #800000; text-decoration-color: #800000\">RED</span>,<span style=\"color: #808000; text-decoration-color: #808000\">ORANGE</span> │   389 │        10 │       6 │      2 │        7 │ <span style=\"color: #808000; text-decoration-color: #808000\">ORANGE</span>  \n",
       "   9 │ <span style=\"color: #808000; text-decoration-color: #808000\">ORANGE</span>,<span style=\"color: #800000; text-decoration-color: #800000\">RED</span>,<span style=\"color: #c0c0c0; text-decoration-color: #c0c0c0\">WHITE</span>,<span style=\"color: #000080; text-decoration-color: #000080\">BLUE</span> │   270 │        10 │       3 │      2 │        2 │ <span style=\"color: #808000; text-decoration-color: #808000\">ORANGE</span>  \n",
       "  10 │ <span style=\"color: #c0c0c0; text-decoration-color: #c0c0c0\">WHITE</span>,<span style=\"color: #800000; text-decoration-color: #800000\">RED</span>,<span style=\"color: #000080; text-decoration-color: #000080\">BLUE</span>,<span style=\"color: #808000; text-decoration-color: #808000\">ORANGE</span> │   600 │         9 │      10 │      2 │        4 │ <span style=\"color: #000080; text-decoration-color: #000080\">BLUE</span>    \n",
       "     ╵                       ╵       ╵           ╵         ╵        ╵          ╵         \n",
       "</pre>\n"
      ],
      "text/plain": [
       "\u001b[3m                                      Last 10 Games                                      \u001b[0m\n",
       "     ╷                       ╷       ╷           ╷         ╷        ╷          ╷         \n",
       " \u001b[1m \u001b[0m\u001b[1m #\u001b[0m\u001b[1m \u001b[0m│\u001b[1m \u001b[0m\u001b[1mSEATING              \u001b[0m\u001b[1m \u001b[0m│\u001b[1m \u001b[0m\u001b[1mTURNS\u001b[0m\u001b[1m \u001b[0m│\u001b[1m \u001b[0m\u001b[1mORANGE VP\u001b[0m\u001b[1m \u001b[0m│\u001b[1m \u001b[0m\u001b[1mBLUE VP\u001b[0m\u001b[1m \u001b[0m│\u001b[1m \u001b[0m\u001b[1mRED VP\u001b[0m\u001b[1m \u001b[0m│\u001b[1m \u001b[0m\u001b[1mWHITE VP\u001b[0m\u001b[1m \u001b[0m│\u001b[1m \u001b[0m\u001b[1mWINNER\u001b[0m\u001b[1m \u001b[0m \n",
       "╶────┼───────────────────────┼───────┼───────────┼─────────┼────────┼──────────┼────────╴\n",
       "   1 │ \u001b[31mRED\u001b[0m,\u001b[37mWHITE\u001b[0m,\u001b[34mBLUE\u001b[0m,\u001b[33mORANGE\u001b[0m │   372 │         5 │      10 │      8 │        5 │ \u001b[34mBLUE\u001b[0m    \n",
       "   2 │ \u001b[33mORANGE\u001b[0m,\u001b[31mRED\u001b[0m,\u001b[34mBLUE\u001b[0m,\u001b[37mWHITE\u001b[0m │   584 │         9 │      10 │      4 │        9 │ \u001b[34mBLUE\u001b[0m    \n",
       "   3 │ \u001b[33mORANGE\u001b[0m,\u001b[37mWHITE\u001b[0m,\u001b[31mRED\u001b[0m,\u001b[34mBLUE\u001b[0m │   437 │         3 │      10 │      4 │        4 │ \u001b[34mBLUE\u001b[0m    \n",
       "   4 │ \u001b[34mBLUE\u001b[0m,\u001b[37mWHITE\u001b[0m,\u001b[33mORANGE\u001b[0m,\u001b[31mRED\u001b[0m │   271 │         9 │       4 │      2 │       10 │ \u001b[37mWHITE\u001b[0m   \n",
       "   5 │ \u001b[31mRED\u001b[0m,\u001b[37mWHITE\u001b[0m,\u001b[33mORANGE\u001b[0m,\u001b[34mBLUE\u001b[0m │   437 │         7 │      10 │      2 │        3 │ \u001b[34mBLUE\u001b[0m    \n",
       "   6 │ \u001b[33mORANGE\u001b[0m,\u001b[37mWHITE\u001b[0m,\u001b[34mBLUE\u001b[0m,\u001b[31mRED\u001b[0m │   327 │         4 │       2 │      2 │       10 │ \u001b[37mWHITE\u001b[0m   \n",
       "   7 │ \u001b[31mRED\u001b[0m,\u001b[37mWHITE\u001b[0m,\u001b[33mORANGE\u001b[0m,\u001b[34mBLUE\u001b[0m │   263 │         3 │       4 │      2 │       11 │ \u001b[37mWHITE\u001b[0m   \n",
       "   8 │ \u001b[34mBLUE\u001b[0m,\u001b[37mWHITE\u001b[0m,\u001b[31mRED\u001b[0m,\u001b[33mORANGE\u001b[0m │   389 │        10 │       6 │      2 │        7 │ \u001b[33mORANGE\u001b[0m  \n",
       "   9 │ \u001b[33mORANGE\u001b[0m,\u001b[31mRED\u001b[0m,\u001b[37mWHITE\u001b[0m,\u001b[34mBLUE\u001b[0m │   270 │        10 │       3 │      2 │        2 │ \u001b[33mORANGE\u001b[0m  \n",
       "  10 │ \u001b[37mWHITE\u001b[0m,\u001b[31mRED\u001b[0m,\u001b[34mBLUE\u001b[0m,\u001b[33mORANGE\u001b[0m │   600 │         9 │      10 │      2 │        4 │ \u001b[34mBLUE\u001b[0m    \n",
       "     ╵                       ╵       ╵           ╵         ╵        ╵          ╵         \n"
      ]
     },
     "metadata": {},
     "output_type": "display_data"
    },
    {
     "data": {
      "text/html": [
       "<pre style=\"white-space:pre;overflow-x:auto;line-height:normal;font-family:Menlo,'DejaVu Sans Mono',consolas,'Courier New',monospace\"><span style=\"font-style: italic\">                                           Player Summary                                            </span>\n",
       "                      ╷      ╷        ╷             ╷            ╷          ╷          ╷             \n",
       " <span style=\"font-weight: bold\">                     </span>│<span style=\"font-weight: bold\"> WINS </span>│<span style=\"font-weight: bold\"> AVG VP </span>│<span style=\"font-weight: bold\"> AVG SETTLES </span>│<span style=\"font-weight: bold\"> AVG CITIES </span>│<span style=\"font-weight: bold\"> AVG ROAD </span>│<span style=\"font-weight: bold\"> AVG ARMY </span>│<span style=\"font-weight: bold\"> AVG DEV VP </span> \n",
       "╶─────────────────────┼──────┼────────┼─────────────┼────────────┼──────────┼──────────┼────────────╴\n",
       "  <span style=\"color: #808000; text-decoration-color: #808000\">RandomPlayer:ORANGE</span> │    2 │   6.90 │        2.80 │       0.70 │     0.20 │     0.30 │       1.70  \n",
       "  <span style=\"color: #000080; text-decoration-color: #000080\">RandomPlayer:BLUE</span>   │    5 │   6.90 │        3.00 │       0.70 │     0.50 │     0.20 │       1.10  \n",
       "  <span style=\"color: #800000; text-decoration-color: #800000\">AB_DQNPlayer_1:RED</span>  │    0 │   3.00 │        1.50 │       0.60 │     0.00 │     0.10 │       0.10  \n",
       "  <span style=\"color: #c0c0c0; text-decoration-color: #c0c0c0\">RandomPlayer:WHITE</span>  │    3 │   6.50 │        2.40 │       0.70 │     0.30 │     0.40 │       1.30  \n",
       "                      ╵      ╵        ╵             ╵            ╵          ╵          ╵             \n",
       "</pre>\n"
      ],
      "text/plain": [
       "\u001b[3m                                           Player Summary                                            \u001b[0m\n",
       "                      ╷      ╷        ╷             ╷            ╷          ╷          ╷             \n",
       " \u001b[1m \u001b[0m\u001b[1m                   \u001b[0m\u001b[1m \u001b[0m│\u001b[1m \u001b[0m\u001b[1mWINS\u001b[0m\u001b[1m \u001b[0m│\u001b[1m \u001b[0m\u001b[1mAVG VP\u001b[0m\u001b[1m \u001b[0m│\u001b[1m \u001b[0m\u001b[1mAVG SETTLES\u001b[0m\u001b[1m \u001b[0m│\u001b[1m \u001b[0m\u001b[1mAVG CITIES\u001b[0m\u001b[1m \u001b[0m│\u001b[1m \u001b[0m\u001b[1mAVG ROAD\u001b[0m\u001b[1m \u001b[0m│\u001b[1m \u001b[0m\u001b[1mAVG ARMY\u001b[0m\u001b[1m \u001b[0m│\u001b[1m \u001b[0m\u001b[1mAVG DEV VP\u001b[0m\u001b[1m \u001b[0m \n",
       "╶─────────────────────┼──────┼────────┼─────────────┼────────────┼──────────┼──────────┼────────────╴\n",
       "  \u001b[33mRandomPlayer:ORANGE\u001b[0m │    2 │   6.90 │        2.80 │       0.70 │     0.20 │     0.30 │       1.70  \n",
       "  \u001b[34mRandomPlayer:BLUE\u001b[0m   │    5 │   6.90 │        3.00 │       0.70 │     0.50 │     0.20 │       1.10  \n",
       "  \u001b[31mAB_DQNPlayer_1:RED\u001b[0m  │    0 │   3.00 │        1.50 │       0.60 │     0.00 │     0.10 │       0.10  \n",
       "  \u001b[37mRandomPlayer:WHITE\u001b[0m  │    3 │   6.50 │        2.40 │       0.70 │     0.30 │     0.40 │       1.30  \n",
       "                      ╵      ╵        ╵             ╵            ╵          ╵          ╵             \n"
      ]
     },
     "metadata": {},
     "output_type": "display_data"
    },
    {
     "data": {
      "text/html": [
       "<pre style=\"white-space:pre;overflow-x:auto;line-height:normal;font-family:Menlo,'DejaVu Sans Mono',consolas,'Courier New',monospace\"><span style=\"font-style: italic\">              Game Summary              </span>\n",
       "            ╷           ╷               \n",
       " <span style=\"font-weight: bold\"> AVG TICKS </span>│<span style=\"font-weight: bold\"> AVG TURNS </span>│<span style=\"font-weight: bold\"> AVG DURATION </span> \n",
       "╶───────────┼───────────┼──────────────╴\n",
       "    1121.40 │    395.00 │  20.616 secs  \n",
       "            ╵           ╵               \n",
       "</pre>\n"
      ],
      "text/plain": [
       "\u001b[3m              Game Summary              \u001b[0m\n",
       "            ╷           ╷               \n",
       " \u001b[1m \u001b[0m\u001b[1mAVG TICKS\u001b[0m\u001b[1m \u001b[0m│\u001b[1m \u001b[0m\u001b[1mAVG TURNS\u001b[0m\u001b[1m \u001b[0m│\u001b[1m \u001b[0m\u001b[1mAVG DURATION\u001b[0m\u001b[1m \u001b[0m \n",
       "╶───────────┼───────────┼──────────────╴\n",
       "    1121.40 │    395.00 │  20.616 secs  \n",
       "            ╵           ╵               \n"
      ]
     },
     "metadata": {},
     "output_type": "display_data"
    },
    {
     "name": "stdout",
     "output_type": "stream",
     "text": [
      "Loaded replay buffer with 1434 transitions\n",
      "atch 27/50: Playing 10 games\n"
     ]
    },
    {
     "data": {
      "text/html": [
       "<pre style=\"white-space:pre;overflow-x:auto;line-height:normal;font-family:Menlo,'DejaVu Sans Mono',consolas,'Courier New',monospace\">Cleared replay buffer to refresh training examples.\n",
       "</pre>\n"
      ],
      "text/plain": [
       "Cleared replay buffer to refresh training examples.\n"
      ]
     },
     "metadata": {},
     "output_type": "display_data"
    },
    {
     "data": {
      "text/html": [
       "<pre style=\"white-space:pre;overflow-x:auto;line-height:normal;font-family:Menlo,'DejaVu Sans Mono',consolas,'Courier New',monospace\">Reward variance in batch: 0.0000\n",
       "</pre>\n"
      ],
      "text/plain": [
       "Reward variance in batch: 0.0000\n"
      ]
     },
     "metadata": {},
     "output_type": "display_data"
    },
    {
     "data": {
      "text/html": [
       "<pre style=\"white-space:pre;overflow-x:auto;line-height:normal;font-family:Menlo,'DejaVu Sans Mono',consolas,'Courier New',monospace\">Trained DQN model with loss: 110.0924\n",
       "</pre>\n"
      ],
      "text/plain": [
       "Trained DQN model with loss: 110.0924\n"
      ]
     },
     "metadata": {},
     "output_type": "display_data"
    },
    {
     "data": {
      "text/html": [
       "<pre style=\"white-space:pre;overflow-x:auto;line-height:normal;font-family:Menlo,'DejaVu Sans Mono',consolas,'Courier New',monospace\">Avg pred: -0.1309, Avg target: 10.3059\n",
       "</pre>\n"
      ],
      "text/plain": [
       "Avg pred: -0.1309, Avg target: 10.3059\n"
      ]
     },
     "metadata": {},
     "output_type": "display_data"
    },
    {
     "data": {
      "text/html": [
       "<pre style=\"white-space:pre;overflow-x:auto;line-height:normal;font-family:Menlo,'DejaVu Sans Mono',consolas,'Courier New',monospace\">Cleared replay buffer to refresh training examples.\n",
       "</pre>\n"
      ],
      "text/plain": [
       "Cleared replay buffer to refresh training examples.\n"
      ]
     },
     "metadata": {},
     "output_type": "display_data"
    },
    {
     "data": {
      "text/html": [
       "<pre style=\"white-space:pre;overflow-x:auto;line-height:normal;font-family:Menlo,'DejaVu Sans Mono',consolas,'Courier New',monospace\">Reward variance in batch: 0.0000\n",
       "</pre>\n"
      ],
      "text/plain": [
       "Reward variance in batch: 0.0000\n"
      ]
     },
     "metadata": {},
     "output_type": "display_data"
    },
    {
     "data": {
      "text/html": [
       "<pre style=\"white-space:pre;overflow-x:auto;line-height:normal;font-family:Menlo,'DejaVu Sans Mono',consolas,'Courier New',monospace\">Trained DQN model with loss: 102.8022\n",
       "</pre>\n"
      ],
      "text/plain": [
       "Trained DQN model with loss: 102.8022\n"
      ]
     },
     "metadata": {},
     "output_type": "display_data"
    },
    {
     "data": {
      "text/html": [
       "<pre style=\"white-space:pre;overflow-x:auto;line-height:normal;font-family:Menlo,'DejaVu Sans Mono',consolas,'Courier New',monospace\">Avg pred: -0.1563, Avg target: 9.9806\n",
       "</pre>\n"
      ],
      "text/plain": [
       "Avg pred: -0.1563, Avg target: 9.9806\n"
      ]
     },
     "metadata": {},
     "output_type": "display_data"
    },
    {
     "data": {
      "text/html": [
       "<pre style=\"white-space:pre;overflow-x:auto;line-height:normal;font-family:Menlo,'DejaVu Sans Mono',consolas,'Courier New',monospace\"></pre>\n"
      ],
      "text/plain": []
     },
     "metadata": {},
     "output_type": "display_data"
    },
    {
     "data": {
      "text/html": [
       "<pre style=\"white-space:pre;overflow-x:auto;line-height:normal;font-family:Menlo,'DejaVu Sans Mono',consolas,'Courier New',monospace\">\n",
       "</pre>\n"
      ],
      "text/plain": [
       "\n"
      ]
     },
     "metadata": {},
     "output_type": "display_data"
    },
    {
     "data": {
      "text/html": [
       "<pre style=\"white-space:pre;overflow-x:auto;line-height:normal;font-family:Menlo,'DejaVu Sans Mono',consolas,'Courier New',monospace\"><span style=\"font-style: italic\">                                      Last 10 Games                                      </span>\n",
       "     ╷                       ╷       ╷         ╷           ╷          ╷        ╷         \n",
       " <span style=\"font-weight: bold\">  # </span>│<span style=\"font-weight: bold\"> SEATING               </span>│<span style=\"font-weight: bold\"> TURNS </span>│<span style=\"font-weight: bold\"> BLUE VP </span>│<span style=\"font-weight: bold\"> ORANGE VP </span>│<span style=\"font-weight: bold\"> WHITE VP </span>│<span style=\"font-weight: bold\"> RED VP </span>│<span style=\"font-weight: bold\"> WINNER </span> \n",
       "╶────┼───────────────────────┼───────┼─────────┼───────────┼──────────┼────────┼────────╴\n",
       "   1 │ <span style=\"color: #c0c0c0; text-decoration-color: #c0c0c0\">WHITE</span>,<span style=\"color: #800000; text-decoration-color: #800000\">RED</span>,<span style=\"color: #808000; text-decoration-color: #808000\">ORANGE</span>,<span style=\"color: #000080; text-decoration-color: #000080\">BLUE</span> │   268 │       2 │        10 │        8 │      4 │ <span style=\"color: #808000; text-decoration-color: #808000\">ORANGE</span>  \n",
       "   2 │ <span style=\"color: #000080; text-decoration-color: #000080\">BLUE</span>,<span style=\"color: #800000; text-decoration-color: #800000\">RED</span>,<span style=\"color: #c0c0c0; text-decoration-color: #c0c0c0\">WHITE</span>,<span style=\"color: #808000; text-decoration-color: #808000\">ORANGE</span> │   586 │      10 │         6 │        6 │      5 │ <span style=\"color: #000080; text-decoration-color: #000080\">BLUE</span>    \n",
       "   3 │ <span style=\"color: #c0c0c0; text-decoration-color: #c0c0c0\">WHITE</span>,<span style=\"color: #000080; text-decoration-color: #000080\">BLUE</span>,<span style=\"color: #800000; text-decoration-color: #800000\">RED</span>,<span style=\"color: #808000; text-decoration-color: #808000\">ORANGE</span> │   137 │       4 │        10 │        2 │      2 │ <span style=\"color: #808000; text-decoration-color: #808000\">ORANGE</span>  \n",
       "   4 │ <span style=\"color: #800000; text-decoration-color: #800000\">RED</span>,<span style=\"color: #c0c0c0; text-decoration-color: #c0c0c0\">WHITE</span>,<span style=\"color: #808000; text-decoration-color: #808000\">ORANGE</span>,<span style=\"color: #000080; text-decoration-color: #000080\">BLUE</span> │   180 │       4 │        10 │        2 │      2 │ <span style=\"color: #808000; text-decoration-color: #808000\">ORANGE</span>  \n",
       "   5 │ <span style=\"color: #000080; text-decoration-color: #000080\">BLUE</span>,<span style=\"color: #800000; text-decoration-color: #800000\">RED</span>,<span style=\"color: #808000; text-decoration-color: #808000\">ORANGE</span>,<span style=\"color: #c0c0c0; text-decoration-color: #c0c0c0\">WHITE</span> │   253 │       3 │         5 │       10 │      3 │ <span style=\"color: #c0c0c0; text-decoration-color: #c0c0c0\">WHITE</span>   \n",
       "   6 │ <span style=\"color: #c0c0c0; text-decoration-color: #c0c0c0\">WHITE</span>,<span style=\"color: #800000; text-decoration-color: #800000\">RED</span>,<span style=\"color: #808000; text-decoration-color: #808000\">ORANGE</span>,<span style=\"color: #000080; text-decoration-color: #000080\">BLUE</span> │   250 │       2 │         8 │       10 │      2 │ <span style=\"color: #c0c0c0; text-decoration-color: #c0c0c0\">WHITE</span>   \n",
       "   7 │ <span style=\"color: #808000; text-decoration-color: #808000\">ORANGE</span>,<span style=\"color: #800000; text-decoration-color: #800000\">RED</span>,<span style=\"color: #000080; text-decoration-color: #000080\">BLUE</span>,<span style=\"color: #c0c0c0; text-decoration-color: #c0c0c0\">WHITE</span> │   202 │       6 │        10 │        8 │      3 │ <span style=\"color: #808000; text-decoration-color: #808000\">ORANGE</span>  \n",
       "   8 │ <span style=\"color: #808000; text-decoration-color: #808000\">ORANGE</span>,<span style=\"color: #000080; text-decoration-color: #000080\">BLUE</span>,<span style=\"color: #c0c0c0; text-decoration-color: #c0c0c0\">WHITE</span>,<span style=\"color: #800000; text-decoration-color: #800000\">RED</span> │   190 │       3 │        10 │        2 │      2 │ <span style=\"color: #808000; text-decoration-color: #808000\">ORANGE</span>  \n",
       "   9 │ <span style=\"color: #000080; text-decoration-color: #000080\">BLUE</span>,<span style=\"color: #c0c0c0; text-decoration-color: #c0c0c0\">WHITE</span>,<span style=\"color: #808000; text-decoration-color: #808000\">ORANGE</span>,<span style=\"color: #800000; text-decoration-color: #800000\">RED</span> │   591 │       9 │         3 │       10 │      3 │ <span style=\"color: #c0c0c0; text-decoration-color: #c0c0c0\">WHITE</span>   \n",
       "  10 │ <span style=\"color: #808000; text-decoration-color: #808000\">ORANGE</span>,<span style=\"color: #800000; text-decoration-color: #800000\">RED</span>,<span style=\"color: #c0c0c0; text-decoration-color: #c0c0c0\">WHITE</span>,<span style=\"color: #000080; text-decoration-color: #000080\">BLUE</span> │   266 │       3 │        10 │        8 │      2 │ <span style=\"color: #808000; text-decoration-color: #808000\">ORANGE</span>  \n",
       "     ╵                       ╵       ╵         ╵           ╵          ╵        ╵         \n",
       "</pre>\n"
      ],
      "text/plain": [
       "\u001b[3m                                      Last 10 Games                                      \u001b[0m\n",
       "     ╷                       ╷       ╷         ╷           ╷          ╷        ╷         \n",
       " \u001b[1m \u001b[0m\u001b[1m #\u001b[0m\u001b[1m \u001b[0m│\u001b[1m \u001b[0m\u001b[1mSEATING              \u001b[0m\u001b[1m \u001b[0m│\u001b[1m \u001b[0m\u001b[1mTURNS\u001b[0m\u001b[1m \u001b[0m│\u001b[1m \u001b[0m\u001b[1mBLUE VP\u001b[0m\u001b[1m \u001b[0m│\u001b[1m \u001b[0m\u001b[1mORANGE VP\u001b[0m\u001b[1m \u001b[0m│\u001b[1m \u001b[0m\u001b[1mWHITE VP\u001b[0m\u001b[1m \u001b[0m│\u001b[1m \u001b[0m\u001b[1mRED VP\u001b[0m\u001b[1m \u001b[0m│\u001b[1m \u001b[0m\u001b[1mWINNER\u001b[0m\u001b[1m \u001b[0m \n",
       "╶────┼───────────────────────┼───────┼─────────┼───────────┼──────────┼────────┼────────╴\n",
       "   1 │ \u001b[37mWHITE\u001b[0m,\u001b[31mRED\u001b[0m,\u001b[33mORANGE\u001b[0m,\u001b[34mBLUE\u001b[0m │   268 │       2 │        10 │        8 │      4 │ \u001b[33mORANGE\u001b[0m  \n",
       "   2 │ \u001b[34mBLUE\u001b[0m,\u001b[31mRED\u001b[0m,\u001b[37mWHITE\u001b[0m,\u001b[33mORANGE\u001b[0m │   586 │      10 │         6 │        6 │      5 │ \u001b[34mBLUE\u001b[0m    \n",
       "   3 │ \u001b[37mWHITE\u001b[0m,\u001b[34mBLUE\u001b[0m,\u001b[31mRED\u001b[0m,\u001b[33mORANGE\u001b[0m │   137 │       4 │        10 │        2 │      2 │ \u001b[33mORANGE\u001b[0m  \n",
       "   4 │ \u001b[31mRED\u001b[0m,\u001b[37mWHITE\u001b[0m,\u001b[33mORANGE\u001b[0m,\u001b[34mBLUE\u001b[0m │   180 │       4 │        10 │        2 │      2 │ \u001b[33mORANGE\u001b[0m  \n",
       "   5 │ \u001b[34mBLUE\u001b[0m,\u001b[31mRED\u001b[0m,\u001b[33mORANGE\u001b[0m,\u001b[37mWHITE\u001b[0m │   253 │       3 │         5 │       10 │      3 │ \u001b[37mWHITE\u001b[0m   \n",
       "   6 │ \u001b[37mWHITE\u001b[0m,\u001b[31mRED\u001b[0m,\u001b[33mORANGE\u001b[0m,\u001b[34mBLUE\u001b[0m │   250 │       2 │         8 │       10 │      2 │ \u001b[37mWHITE\u001b[0m   \n",
       "   7 │ \u001b[33mORANGE\u001b[0m,\u001b[31mRED\u001b[0m,\u001b[34mBLUE\u001b[0m,\u001b[37mWHITE\u001b[0m │   202 │       6 │        10 │        8 │      3 │ \u001b[33mORANGE\u001b[0m  \n",
       "   8 │ \u001b[33mORANGE\u001b[0m,\u001b[34mBLUE\u001b[0m,\u001b[37mWHITE\u001b[0m,\u001b[31mRED\u001b[0m │   190 │       3 │        10 │        2 │      2 │ \u001b[33mORANGE\u001b[0m  \n",
       "   9 │ \u001b[34mBLUE\u001b[0m,\u001b[37mWHITE\u001b[0m,\u001b[33mORANGE\u001b[0m,\u001b[31mRED\u001b[0m │   591 │       9 │         3 │       10 │      3 │ \u001b[37mWHITE\u001b[0m   \n",
       "  10 │ \u001b[33mORANGE\u001b[0m,\u001b[31mRED\u001b[0m,\u001b[37mWHITE\u001b[0m,\u001b[34mBLUE\u001b[0m │   266 │       3 │        10 │        8 │      2 │ \u001b[33mORANGE\u001b[0m  \n",
       "     ╵                       ╵       ╵         ╵           ╵          ╵        ╵         \n"
      ]
     },
     "metadata": {},
     "output_type": "display_data"
    },
    {
     "data": {
      "text/html": [
       "<pre style=\"white-space:pre;overflow-x:auto;line-height:normal;font-family:Menlo,'DejaVu Sans Mono',consolas,'Courier New',monospace\"><span style=\"font-style: italic\">                                               Player Summary                                                </span>\n",
       "                              ╷      ╷        ╷             ╷            ╷          ╷          ╷             \n",
       " <span style=\"font-weight: bold\">                             </span>│<span style=\"font-weight: bold\"> WINS </span>│<span style=\"font-weight: bold\"> AVG VP </span>│<span style=\"font-weight: bold\"> AVG SETTLES </span>│<span style=\"font-weight: bold\"> AVG CITIES </span>│<span style=\"font-weight: bold\"> AVG ROAD </span>│<span style=\"font-weight: bold\"> AVG ARMY </span>│<span style=\"font-weight: bold\"> AVG DEV VP </span> \n",
       "╶─────────────────────────────┼──────┼────────┼─────────────┼────────────┼──────────┼──────────┼────────────╴\n",
       "  <span style=\"color: #000080; text-decoration-color: #000080\">RandomPlayer:BLUE</span>           │    1 │   4.60 │        2.40 │       0.40 │     0.20 │     0.00 │       1.00  \n",
       "  <span style=\"color: #808000; text-decoration-color: #808000\">WeightedRandomPlayer:ORANGE</span> │    6 │   8.20 │        2.40 │       1.40 │     0.50 │     0.50 │       1.00  \n",
       "  <span style=\"color: #c0c0c0; text-decoration-color: #c0c0c0\">WeightedRandomPlayer:WHITE</span>  │    3 │   6.60 │        3.00 │       0.30 │     0.30 │     0.40 │       1.60  \n",
       "  <span style=\"color: #800000; text-decoration-color: #800000\">AB_DQNPlayer_1:RED</span>          │    0 │   2.80 │        2.10 │       0.20 │     0.00 │     0.00 │       0.30  \n",
       "                              ╵      ╵        ╵             ╵            ╵          ╵          ╵             \n",
       "</pre>\n"
      ],
      "text/plain": [
       "\u001b[3m                                               Player Summary                                                \u001b[0m\n",
       "                              ╷      ╷        ╷             ╷            ╷          ╷          ╷             \n",
       " \u001b[1m \u001b[0m\u001b[1m                           \u001b[0m\u001b[1m \u001b[0m│\u001b[1m \u001b[0m\u001b[1mWINS\u001b[0m\u001b[1m \u001b[0m│\u001b[1m \u001b[0m\u001b[1mAVG VP\u001b[0m\u001b[1m \u001b[0m│\u001b[1m \u001b[0m\u001b[1mAVG SETTLES\u001b[0m\u001b[1m \u001b[0m│\u001b[1m \u001b[0m\u001b[1mAVG CITIES\u001b[0m\u001b[1m \u001b[0m│\u001b[1m \u001b[0m\u001b[1mAVG ROAD\u001b[0m\u001b[1m \u001b[0m│\u001b[1m \u001b[0m\u001b[1mAVG ARMY\u001b[0m\u001b[1m \u001b[0m│\u001b[1m \u001b[0m\u001b[1mAVG DEV VP\u001b[0m\u001b[1m \u001b[0m \n",
       "╶─────────────────────────────┼──────┼────────┼─────────────┼────────────┼──────────┼──────────┼────────────╴\n",
       "  \u001b[34mRandomPlayer:BLUE\u001b[0m           │    1 │   4.60 │        2.40 │       0.40 │     0.20 │     0.00 │       1.00  \n",
       "  \u001b[33mWeightedRandomPlayer:ORANGE\u001b[0m │    6 │   8.20 │        2.40 │       1.40 │     0.50 │     0.50 │       1.00  \n",
       "  \u001b[37mWeightedRandomPlayer:WHITE\u001b[0m  │    3 │   6.60 │        3.00 │       0.30 │     0.30 │     0.40 │       1.60  \n",
       "  \u001b[31mAB_DQNPlayer_1:RED\u001b[0m          │    0 │   2.80 │        2.10 │       0.20 │     0.00 │     0.00 │       0.30  \n",
       "                              ╵      ╵        ╵             ╵            ╵          ╵          ╵             \n"
      ]
     },
     "metadata": {},
     "output_type": "display_data"
    },
    {
     "data": {
      "text/html": [
       "<pre style=\"white-space:pre;overflow-x:auto;line-height:normal;font-family:Menlo,'DejaVu Sans Mono',consolas,'Courier New',monospace\"><span style=\"font-style: italic\">              Game Summary              </span>\n",
       "            ╷           ╷               \n",
       " <span style=\"font-weight: bold\"> AVG TICKS </span>│<span style=\"font-weight: bold\"> AVG TURNS </span>│<span style=\"font-weight: bold\"> AVG DURATION </span> \n",
       "╶───────────┼───────────┼──────────────╴\n",
       "     832.20 │    292.30 │  11.880 secs  \n",
       "            ╵           ╵               \n",
       "</pre>\n"
      ],
      "text/plain": [
       "\u001b[3m              Game Summary              \u001b[0m\n",
       "            ╷           ╷               \n",
       " \u001b[1m \u001b[0m\u001b[1mAVG TICKS\u001b[0m\u001b[1m \u001b[0m│\u001b[1m \u001b[0m\u001b[1mAVG TURNS\u001b[0m\u001b[1m \u001b[0m│\u001b[1m \u001b[0m\u001b[1mAVG DURATION\u001b[0m\u001b[1m \u001b[0m \n",
       "╶───────────┼───────────┼──────────────╴\n",
       "     832.20 │    292.30 │  11.880 secs  \n",
       "            ╵           ╵               \n"
      ]
     },
     "metadata": {},
     "output_type": "display_data"
    },
    {
     "name": "stdout",
     "output_type": "stream",
     "text": [
      "Loaded replay buffer with 2411 transitions\n",
      "atch 28/50: Playing 10 games\n"
     ]
    },
    {
     "data": {
      "text/html": [
       "<pre style=\"white-space:pre;overflow-x:auto;line-height:normal;font-family:Menlo,'DejaVu Sans Mono',consolas,'Courier New',monospace\">Cleared replay buffer to refresh training examples.\n",
       "</pre>\n"
      ],
      "text/plain": [
       "Cleared replay buffer to refresh training examples.\n"
      ]
     },
     "metadata": {},
     "output_type": "display_data"
    },
    {
     "data": {
      "text/html": [
       "<pre style=\"white-space:pre;overflow-x:auto;line-height:normal;font-family:Menlo,'DejaVu Sans Mono',consolas,'Courier New',monospace\">Reward variance in batch: 0.0000\n",
       "</pre>\n"
      ],
      "text/plain": [
       "Reward variance in batch: 0.0000\n"
      ]
     },
     "metadata": {},
     "output_type": "display_data"
    },
    {
     "data": {
      "text/html": [
       "<pre style=\"white-space:pre;overflow-x:auto;line-height:normal;font-family:Menlo,'DejaVu Sans Mono',consolas,'Courier New',monospace\">Trained DQN model with loss: 102.6305\n",
       "</pre>\n"
      ],
      "text/plain": [
       "Trained DQN model with loss: 102.6305\n"
      ]
     },
     "metadata": {},
     "output_type": "display_data"
    },
    {
     "data": {
      "text/html": [
       "<pre style=\"white-space:pre;overflow-x:auto;line-height:normal;font-family:Menlo,'DejaVu Sans Mono',consolas,'Courier New',monospace\">Avg pred: -0.1674, Avg target: 9.9620\n",
       "</pre>\n"
      ],
      "text/plain": [
       "Avg pred: -0.1674, Avg target: 9.9620\n"
      ]
     },
     "metadata": {},
     "output_type": "display_data"
    },
    {
     "data": {
      "text/html": [
       "<pre style=\"white-space:pre;overflow-x:auto;line-height:normal;font-family:Menlo,'DejaVu Sans Mono',consolas,'Courier New',monospace\">Cleared replay buffer to refresh training examples.\n",
       "</pre>\n"
      ],
      "text/plain": [
       "Cleared replay buffer to refresh training examples.\n"
      ]
     },
     "metadata": {},
     "output_type": "display_data"
    },
    {
     "data": {
      "text/html": [
       "<pre style=\"white-space:pre;overflow-x:auto;line-height:normal;font-family:Menlo,'DejaVu Sans Mono',consolas,'Courier New',monospace\">Reward variance in batch: 0.0000\n",
       "</pre>\n"
      ],
      "text/plain": [
       "Reward variance in batch: 0.0000\n"
      ]
     },
     "metadata": {},
     "output_type": "display_data"
    },
    {
     "data": {
      "text/html": [
       "<pre style=\"white-space:pre;overflow-x:auto;line-height:normal;font-family:Menlo,'DejaVu Sans Mono',consolas,'Courier New',monospace\">Trained DQN model with loss: 101.8833\n",
       "</pre>\n"
      ],
      "text/plain": [
       "Trained DQN model with loss: 101.8833\n"
      ]
     },
     "metadata": {},
     "output_type": "display_data"
    },
    {
     "data": {
      "text/html": [
       "<pre style=\"white-space:pre;overflow-x:auto;line-height:normal;font-family:Menlo,'DejaVu Sans Mono',consolas,'Courier New',monospace\">Avg pred: -0.1130, Avg target: 9.9780\n",
       "</pre>\n"
      ],
      "text/plain": [
       "Avg pred: -0.1130, Avg target: 9.9780\n"
      ]
     },
     "metadata": {},
     "output_type": "display_data"
    },
    {
     "data": {
      "text/html": [
       "<pre style=\"white-space:pre;overflow-x:auto;line-height:normal;font-family:Menlo,'DejaVu Sans Mono',consolas,'Courier New',monospace\"></pre>\n"
      ],
      "text/plain": []
     },
     "metadata": {},
     "output_type": "display_data"
    },
    {
     "data": {
      "text/html": [
       "<pre style=\"white-space:pre;overflow-x:auto;line-height:normal;font-family:Menlo,'DejaVu Sans Mono',consolas,'Courier New',monospace\">\n",
       "</pre>\n"
      ],
      "text/plain": [
       "\n"
      ]
     },
     "metadata": {},
     "output_type": "display_data"
    },
    {
     "data": {
      "text/html": [
       "<pre style=\"white-space:pre;overflow-x:auto;line-height:normal;font-family:Menlo,'DejaVu Sans Mono',consolas,'Courier New',monospace\"><span style=\"font-style: italic\">                                      Last 10 Games                                      </span>\n",
       "     ╷                       ╷       ╷        ╷          ╷           ╷         ╷         \n",
       " <span style=\"font-weight: bold\">  # </span>│<span style=\"font-weight: bold\"> SEATING               </span>│<span style=\"font-weight: bold\"> TURNS </span>│<span style=\"font-weight: bold\"> RED VP </span>│<span style=\"font-weight: bold\"> WHITE VP </span>│<span style=\"font-weight: bold\"> ORANGE VP </span>│<span style=\"font-weight: bold\"> BLUE VP </span>│<span style=\"font-weight: bold\"> WINNER </span> \n",
       "╶────┼───────────────────────┼───────┼────────┼──────────┼───────────┼─────────┼────────╴\n",
       "   1 │ <span style=\"color: #000080; text-decoration-color: #000080\">BLUE</span>,<span style=\"color: #c0c0c0; text-decoration-color: #c0c0c0\">WHITE</span>,<span style=\"color: #808000; text-decoration-color: #808000\">ORANGE</span>,<span style=\"color: #800000; text-decoration-color: #800000\">RED</span> │   255 │      2 │       10 │         4 │       3 │ <span style=\"color: #c0c0c0; text-decoration-color: #c0c0c0\">WHITE</span>   \n",
       "   2 │ <span style=\"color: #000080; text-decoration-color: #000080\">BLUE</span>,<span style=\"color: #808000; text-decoration-color: #808000\">ORANGE</span>,<span style=\"color: #c0c0c0; text-decoration-color: #c0c0c0\">WHITE</span>,<span style=\"color: #800000; text-decoration-color: #800000\">RED</span> │   320 │      2 │       11 │         5 │       6 │ <span style=\"color: #c0c0c0; text-decoration-color: #c0c0c0\">WHITE</span>   \n",
       "   3 │ <span style=\"color: #000080; text-decoration-color: #000080\">BLUE</span>,<span style=\"color: #800000; text-decoration-color: #800000\">RED</span>,<span style=\"color: #c0c0c0; text-decoration-color: #c0c0c0\">WHITE</span>,<span style=\"color: #808000; text-decoration-color: #808000\">ORANGE</span> │   225 │      2 │        3 │        10 │       3 │ <span style=\"color: #808000; text-decoration-color: #808000\">ORANGE</span>  \n",
       "   4 │ <span style=\"color: #800000; text-decoration-color: #800000\">RED</span>,<span style=\"color: #c0c0c0; text-decoration-color: #c0c0c0\">WHITE</span>,<span style=\"color: #808000; text-decoration-color: #808000\">ORANGE</span>,<span style=\"color: #000080; text-decoration-color: #000080\">BLUE</span> │   588 │      3 │        6 │        10 │       3 │ <span style=\"color: #808000; text-decoration-color: #808000\">ORANGE</span>  \n",
       "   5 │ <span style=\"color: #800000; text-decoration-color: #800000\">RED</span>,<span style=\"color: #c0c0c0; text-decoration-color: #c0c0c0\">WHITE</span>,<span style=\"color: #000080; text-decoration-color: #000080\">BLUE</span>,<span style=\"color: #808000; text-decoration-color: #808000\">ORANGE</span> │   215 │      2 │       10 │         4 │       2 │ <span style=\"color: #c0c0c0; text-decoration-color: #c0c0c0\">WHITE</span>   \n",
       "   6 │ <span style=\"color: #000080; text-decoration-color: #000080\">BLUE</span>,<span style=\"color: #c0c0c0; text-decoration-color: #c0c0c0\">WHITE</span>,<span style=\"color: #808000; text-decoration-color: #808000\">ORANGE</span>,<span style=\"color: #800000; text-decoration-color: #800000\">RED</span> │   368 │      2 │        5 │        10 │       2 │ <span style=\"color: #808000; text-decoration-color: #808000\">ORANGE</span>  \n",
       "   7 │ <span style=\"color: #000080; text-decoration-color: #000080\">BLUE</span>,<span style=\"color: #800000; text-decoration-color: #800000\">RED</span>,<span style=\"color: #808000; text-decoration-color: #808000\">ORANGE</span>,<span style=\"color: #c0c0c0; text-decoration-color: #c0c0c0\">WHITE</span> │   141 │      2 │       10 │         2 │       2 │ <span style=\"color: #c0c0c0; text-decoration-color: #c0c0c0\">WHITE</span>   \n",
       "   8 │ <span style=\"color: #000080; text-decoration-color: #000080\">BLUE</span>,<span style=\"color: #c0c0c0; text-decoration-color: #c0c0c0\">WHITE</span>,<span style=\"color: #800000; text-decoration-color: #800000\">RED</span>,<span style=\"color: #808000; text-decoration-color: #808000\">ORANGE</span> │   451 │      2 │       10 │         7 │       5 │ <span style=\"color: #c0c0c0; text-decoration-color: #c0c0c0\">WHITE</span>   \n",
       "   9 │ <span style=\"color: #800000; text-decoration-color: #800000\">RED</span>,<span style=\"color: #c0c0c0; text-decoration-color: #c0c0c0\">WHITE</span>,<span style=\"color: #808000; text-decoration-color: #808000\">ORANGE</span>,<span style=\"color: #000080; text-decoration-color: #000080\">BLUE</span> │   152 │      2 │        7 │        10 │       2 │ <span style=\"color: #808000; text-decoration-color: #808000\">ORANGE</span>  \n",
       "  10 │ <span style=\"color: #000080; text-decoration-color: #000080\">BLUE</span>,<span style=\"color: #808000; text-decoration-color: #808000\">ORANGE</span>,<span style=\"color: #c0c0c0; text-decoration-color: #c0c0c0\">WHITE</span>,<span style=\"color: #800000; text-decoration-color: #800000\">RED</span> │   284 │      3 │       10 │         6 │       3 │ <span style=\"color: #c0c0c0; text-decoration-color: #c0c0c0\">WHITE</span>   \n",
       "     ╵                       ╵       ╵        ╵          ╵           ╵         ╵         \n",
       "</pre>\n"
      ],
      "text/plain": [
       "\u001b[3m                                      Last 10 Games                                      \u001b[0m\n",
       "     ╷                       ╷       ╷        ╷          ╷           ╷         ╷         \n",
       " \u001b[1m \u001b[0m\u001b[1m #\u001b[0m\u001b[1m \u001b[0m│\u001b[1m \u001b[0m\u001b[1mSEATING              \u001b[0m\u001b[1m \u001b[0m│\u001b[1m \u001b[0m\u001b[1mTURNS\u001b[0m\u001b[1m \u001b[0m│\u001b[1m \u001b[0m\u001b[1mRED VP\u001b[0m\u001b[1m \u001b[0m│\u001b[1m \u001b[0m\u001b[1mWHITE VP\u001b[0m\u001b[1m \u001b[0m│\u001b[1m \u001b[0m\u001b[1mORANGE VP\u001b[0m\u001b[1m \u001b[0m│\u001b[1m \u001b[0m\u001b[1mBLUE VP\u001b[0m\u001b[1m \u001b[0m│\u001b[1m \u001b[0m\u001b[1mWINNER\u001b[0m\u001b[1m \u001b[0m \n",
       "╶────┼───────────────────────┼───────┼────────┼──────────┼───────────┼─────────┼────────╴\n",
       "   1 │ \u001b[34mBLUE\u001b[0m,\u001b[37mWHITE\u001b[0m,\u001b[33mORANGE\u001b[0m,\u001b[31mRED\u001b[0m │   255 │      2 │       10 │         4 │       3 │ \u001b[37mWHITE\u001b[0m   \n",
       "   2 │ \u001b[34mBLUE\u001b[0m,\u001b[33mORANGE\u001b[0m,\u001b[37mWHITE\u001b[0m,\u001b[31mRED\u001b[0m │   320 │      2 │       11 │         5 │       6 │ \u001b[37mWHITE\u001b[0m   \n",
       "   3 │ \u001b[34mBLUE\u001b[0m,\u001b[31mRED\u001b[0m,\u001b[37mWHITE\u001b[0m,\u001b[33mORANGE\u001b[0m │   225 │      2 │        3 │        10 │       3 │ \u001b[33mORANGE\u001b[0m  \n",
       "   4 │ \u001b[31mRED\u001b[0m,\u001b[37mWHITE\u001b[0m,\u001b[33mORANGE\u001b[0m,\u001b[34mBLUE\u001b[0m │   588 │      3 │        6 │        10 │       3 │ \u001b[33mORANGE\u001b[0m  \n",
       "   5 │ \u001b[31mRED\u001b[0m,\u001b[37mWHITE\u001b[0m,\u001b[34mBLUE\u001b[0m,\u001b[33mORANGE\u001b[0m │   215 │      2 │       10 │         4 │       2 │ \u001b[37mWHITE\u001b[0m   \n",
       "   6 │ \u001b[34mBLUE\u001b[0m,\u001b[37mWHITE\u001b[0m,\u001b[33mORANGE\u001b[0m,\u001b[31mRED\u001b[0m │   368 │      2 │        5 │        10 │       2 │ \u001b[33mORANGE\u001b[0m  \n",
       "   7 │ \u001b[34mBLUE\u001b[0m,\u001b[31mRED\u001b[0m,\u001b[33mORANGE\u001b[0m,\u001b[37mWHITE\u001b[0m │   141 │      2 │       10 │         2 │       2 │ \u001b[37mWHITE\u001b[0m   \n",
       "   8 │ \u001b[34mBLUE\u001b[0m,\u001b[37mWHITE\u001b[0m,\u001b[31mRED\u001b[0m,\u001b[33mORANGE\u001b[0m │   451 │      2 │       10 │         7 │       5 │ \u001b[37mWHITE\u001b[0m   \n",
       "   9 │ \u001b[31mRED\u001b[0m,\u001b[37mWHITE\u001b[0m,\u001b[33mORANGE\u001b[0m,\u001b[34mBLUE\u001b[0m │   152 │      2 │        7 │        10 │       2 │ \u001b[33mORANGE\u001b[0m  \n",
       "  10 │ \u001b[34mBLUE\u001b[0m,\u001b[33mORANGE\u001b[0m,\u001b[37mWHITE\u001b[0m,\u001b[31mRED\u001b[0m │   284 │      3 │       10 │         6 │       3 │ \u001b[37mWHITE\u001b[0m   \n",
       "     ╵                       ╵       ╵        ╵          ╵           ╵         ╵         \n"
      ]
     },
     "metadata": {},
     "output_type": "display_data"
    },
    {
     "data": {
      "text/html": [
       "<pre style=\"white-space:pre;overflow-x:auto;line-height:normal;font-family:Menlo,'DejaVu Sans Mono',consolas,'Courier New',monospace\"><span style=\"font-style: italic\">                                               Player Summary                                               </span>\n",
       "                             ╷      ╷        ╷             ╷            ╷          ╷          ╷             \n",
       " <span style=\"font-weight: bold\">                            </span>│<span style=\"font-weight: bold\"> WINS </span>│<span style=\"font-weight: bold\"> AVG VP </span>│<span style=\"font-weight: bold\"> AVG SETTLES </span>│<span style=\"font-weight: bold\"> AVG CITIES </span>│<span style=\"font-weight: bold\"> AVG ROAD </span>│<span style=\"font-weight: bold\"> AVG ARMY </span>│<span style=\"font-weight: bold\"> AVG DEV VP </span> \n",
       "╶────────────────────────────┼──────┼────────┼─────────────┼────────────┼──────────┼──────────┼────────────╴\n",
       "  <span style=\"color: #800000; text-decoration-color: #800000\">AB_DQNPlayer_1:RED</span>         │    0 │   2.20 │        1.80 │       0.20 │     0.00 │     0.00 │       0.00  \n",
       "  <span style=\"color: #c0c0c0; text-decoration-color: #c0c0c0\">WeightedRandomPlayer:WHITE</span> │    6 │   8.20 │        2.50 │       1.00 │     0.60 │     0.40 │       1.70  \n",
       "  <span style=\"color: #808000; text-decoration-color: #808000\">RandomPlayer:ORANGE</span>        │    4 │   6.80 │        2.20 │       0.70 │     0.40 │     0.50 │       1.40  \n",
       "  <span style=\"color: #000080; text-decoration-color: #000080\">RandomPlayer:BLUE</span>          │    0 │   3.10 │        2.50 │       0.00 │     0.00 │     0.00 │       0.60  \n",
       "                             ╵      ╵        ╵             ╵            ╵          ╵          ╵             \n",
       "</pre>\n"
      ],
      "text/plain": [
       "\u001b[3m                                               Player Summary                                               \u001b[0m\n",
       "                             ╷      ╷        ╷             ╷            ╷          ╷          ╷             \n",
       " \u001b[1m \u001b[0m\u001b[1m                          \u001b[0m\u001b[1m \u001b[0m│\u001b[1m \u001b[0m\u001b[1mWINS\u001b[0m\u001b[1m \u001b[0m│\u001b[1m \u001b[0m\u001b[1mAVG VP\u001b[0m\u001b[1m \u001b[0m│\u001b[1m \u001b[0m\u001b[1mAVG SETTLES\u001b[0m\u001b[1m \u001b[0m│\u001b[1m \u001b[0m\u001b[1mAVG CITIES\u001b[0m\u001b[1m \u001b[0m│\u001b[1m \u001b[0m\u001b[1mAVG ROAD\u001b[0m\u001b[1m \u001b[0m│\u001b[1m \u001b[0m\u001b[1mAVG ARMY\u001b[0m\u001b[1m \u001b[0m│\u001b[1m \u001b[0m\u001b[1mAVG DEV VP\u001b[0m\u001b[1m \u001b[0m \n",
       "╶────────────────────────────┼──────┼────────┼─────────────┼────────────┼──────────┼──────────┼────────────╴\n",
       "  \u001b[31mAB_DQNPlayer_1:RED\u001b[0m         │    0 │   2.20 │        1.80 │       0.20 │     0.00 │     0.00 │       0.00  \n",
       "  \u001b[37mWeightedRandomPlayer:WHITE\u001b[0m │    6 │   8.20 │        2.50 │       1.00 │     0.60 │     0.40 │       1.70  \n",
       "  \u001b[33mRandomPlayer:ORANGE\u001b[0m        │    4 │   6.80 │        2.20 │       0.70 │     0.40 │     0.50 │       1.40  \n",
       "  \u001b[34mRandomPlayer:BLUE\u001b[0m          │    0 │   3.10 │        2.50 │       0.00 │     0.00 │     0.00 │       0.60  \n",
       "                             ╵      ╵        ╵             ╵            ╵          ╵          ╵             \n"
      ]
     },
     "metadata": {},
     "output_type": "display_data"
    },
    {
     "data": {
      "text/html": [
       "<pre style=\"white-space:pre;overflow-x:auto;line-height:normal;font-family:Menlo,'DejaVu Sans Mono',consolas,'Courier New',monospace\"><span style=\"font-style: italic\">              Game Summary              </span>\n",
       "            ╷           ╷               \n",
       " <span style=\"font-weight: bold\"> AVG TICKS </span>│<span style=\"font-weight: bold\"> AVG TURNS </span>│<span style=\"font-weight: bold\"> AVG DURATION </span> \n",
       "╶───────────┼───────────┼──────────────╴\n",
       "     848.00 │    299.90 │  10.052 secs  \n",
       "            ╵           ╵               \n",
       "</pre>\n"
      ],
      "text/plain": [
       "\u001b[3m              Game Summary              \u001b[0m\n",
       "            ╷           ╷               \n",
       " \u001b[1m \u001b[0m\u001b[1mAVG TICKS\u001b[0m\u001b[1m \u001b[0m│\u001b[1m \u001b[0m\u001b[1mAVG TURNS\u001b[0m\u001b[1m \u001b[0m│\u001b[1m \u001b[0m\u001b[1mAVG DURATION\u001b[0m\u001b[1m \u001b[0m \n",
       "╶───────────┼───────────┼──────────────╴\n",
       "     848.00 │    299.90 │  10.052 secs  \n",
       "            ╵           ╵               \n"
      ]
     },
     "metadata": {},
     "output_type": "display_data"
    },
    {
     "name": "stdout",
     "output_type": "stream",
     "text": [
      "Loaded replay buffer with 2188 transitions\n",
      "atch 29/50: Playing 10 games\n"
     ]
    },
    {
     "data": {
      "text/html": [
       "<pre style=\"white-space:pre;overflow-x:auto;line-height:normal;font-family:Menlo,'DejaVu Sans Mono',consolas,'Courier New',monospace\">Cleared replay buffer to refresh training examples.\n",
       "</pre>\n"
      ],
      "text/plain": [
       "Cleared replay buffer to refresh training examples.\n"
      ]
     },
     "metadata": {},
     "output_type": "display_data"
    },
    {
     "data": {
      "text/html": [
       "<pre style=\"white-space:pre;overflow-x:auto;line-height:normal;font-family:Menlo,'DejaVu Sans Mono',consolas,'Courier New',monospace\">Reward variance in batch: 0.0000\n",
       "</pre>\n"
      ],
      "text/plain": [
       "Reward variance in batch: 0.0000\n"
      ]
     },
     "metadata": {},
     "output_type": "display_data"
    },
    {
     "data": {
      "text/html": [
       "<pre style=\"white-space:pre;overflow-x:auto;line-height:normal;font-family:Menlo,'DejaVu Sans Mono',consolas,'Courier New',monospace\">Trained DQN model with loss: 101.9057\n",
       "</pre>\n"
      ],
      "text/plain": [
       "Trained DQN model with loss: 101.9057\n"
      ]
     },
     "metadata": {},
     "output_type": "display_data"
    },
    {
     "data": {
      "text/html": [
       "<pre style=\"white-space:pre;overflow-x:auto;line-height:normal;font-family:Menlo,'DejaVu Sans Mono',consolas,'Courier New',monospace\">Avg pred: -0.1317, Avg target: 9.9607\n",
       "</pre>\n"
      ],
      "text/plain": [
       "Avg pred: -0.1317, Avg target: 9.9607\n"
      ]
     },
     "metadata": {},
     "output_type": "display_data"
    },
    {
     "data": {
      "text/html": [
       "<pre style=\"white-space:pre;overflow-x:auto;line-height:normal;font-family:Menlo,'DejaVu Sans Mono',consolas,'Courier New',monospace\">Cleared replay buffer to refresh training examples.\n",
       "</pre>\n"
      ],
      "text/plain": [
       "Cleared replay buffer to refresh training examples.\n"
      ]
     },
     "metadata": {},
     "output_type": "display_data"
    },
    {
     "data": {
      "text/html": [
       "<pre style=\"white-space:pre;overflow-x:auto;line-height:normal;font-family:Menlo,'DejaVu Sans Mono',consolas,'Courier New',monospace\">Reward variance in batch: 0.0000\n",
       "</pre>\n"
      ],
      "text/plain": [
       "Reward variance in batch: 0.0000\n"
      ]
     },
     "metadata": {},
     "output_type": "display_data"
    },
    {
     "data": {
      "text/html": [
       "<pre style=\"white-space:pre;overflow-x:auto;line-height:normal;font-family:Menlo,'DejaVu Sans Mono',consolas,'Courier New',monospace\">Trained DQN model with loss: 102.5680\n",
       "</pre>\n"
      ],
      "text/plain": [
       "Trained DQN model with loss: 102.5680\n"
      ]
     },
     "metadata": {},
     "output_type": "display_data"
    },
    {
     "data": {
      "text/html": [
       "<pre style=\"white-space:pre;overflow-x:auto;line-height:normal;font-family:Menlo,'DejaVu Sans Mono',consolas,'Courier New',monospace\">Avg pred: -0.1442, Avg target: 9.9818\n",
       "</pre>\n"
      ],
      "text/plain": [
       "Avg pred: -0.1442, Avg target: 9.9818\n"
      ]
     },
     "metadata": {},
     "output_type": "display_data"
    },
    {
     "data": {
      "text/html": [
       "<pre style=\"white-space:pre;overflow-x:auto;line-height:normal;font-family:Menlo,'DejaVu Sans Mono',consolas,'Courier New',monospace\"></pre>\n"
      ],
      "text/plain": []
     },
     "metadata": {},
     "output_type": "display_data"
    },
    {
     "data": {
      "text/html": [
       "<pre style=\"white-space:pre;overflow-x:auto;line-height:normal;font-family:Menlo,'DejaVu Sans Mono',consolas,'Courier New',monospace\">\n",
       "</pre>\n"
      ],
      "text/plain": [
       "\n"
      ]
     },
     "metadata": {},
     "output_type": "display_data"
    },
    {
     "data": {
      "text/html": [
       "<pre style=\"white-space:pre;overflow-x:auto;line-height:normal;font-family:Menlo,'DejaVu Sans Mono',consolas,'Courier New',monospace\"><span style=\"font-style: italic\">                                      Last 10 Games                                      </span>\n",
       "     ╷                       ╷       ╷         ╷        ╷           ╷          ╷         \n",
       " <span style=\"font-weight: bold\">  # </span>│<span style=\"font-weight: bold\"> SEATING               </span>│<span style=\"font-weight: bold\"> TURNS </span>│<span style=\"font-weight: bold\"> BLUE VP </span>│<span style=\"font-weight: bold\"> RED VP </span>│<span style=\"font-weight: bold\"> ORANGE VP </span>│<span style=\"font-weight: bold\"> WHITE VP </span>│<span style=\"font-weight: bold\"> WINNER </span> \n",
       "╶────┼───────────────────────┼───────┼─────────┼────────┼───────────┼──────────┼────────╴\n",
       "   1 │ <span style=\"color: #808000; text-decoration-color: #808000\">ORANGE</span>,<span style=\"color: #000080; text-decoration-color: #000080\">BLUE</span>,<span style=\"color: #800000; text-decoration-color: #800000\">RED</span>,<span style=\"color: #c0c0c0; text-decoration-color: #c0c0c0\">WHITE</span> │   377 │       5 │      8 │         6 │       10 │ <span style=\"color: #c0c0c0; text-decoration-color: #c0c0c0\">WHITE</span>   \n",
       "   2 │ <span style=\"color: #000080; text-decoration-color: #000080\">BLUE</span>,<span style=\"color: #808000; text-decoration-color: #808000\">ORANGE</span>,<span style=\"color: #c0c0c0; text-decoration-color: #c0c0c0\">WHITE</span>,<span style=\"color: #800000; text-decoration-color: #800000\">RED</span> │   542 │      10 │      3 │         7 │        4 │ <span style=\"color: #000080; text-decoration-color: #000080\">BLUE</span>    \n",
       "   3 │ <span style=\"color: #808000; text-decoration-color: #808000\">ORANGE</span>,<span style=\"color: #000080; text-decoration-color: #000080\">BLUE</span>,<span style=\"color: #c0c0c0; text-decoration-color: #c0c0c0\">WHITE</span>,<span style=\"color: #800000; text-decoration-color: #800000\">RED</span> │   290 │       7 │      4 │        10 │        8 │ <span style=\"color: #808000; text-decoration-color: #808000\">ORANGE</span>  \n",
       "   4 │ <span style=\"color: #c0c0c0; text-decoration-color: #c0c0c0\">WHITE</span>,<span style=\"color: #000080; text-decoration-color: #000080\">BLUE</span>,<span style=\"color: #808000; text-decoration-color: #808000\">ORANGE</span>,<span style=\"color: #800000; text-decoration-color: #800000\">RED</span> │   275 │      10 │      2 │         2 │        5 │ <span style=\"color: #000080; text-decoration-color: #000080\">BLUE</span>    \n",
       "   5 │ <span style=\"color: #000080; text-decoration-color: #000080\">BLUE</span>,<span style=\"color: #c0c0c0; text-decoration-color: #c0c0c0\">WHITE</span>,<span style=\"color: #808000; text-decoration-color: #808000\">ORANGE</span>,<span style=\"color: #800000; text-decoration-color: #800000\">RED</span> │   430 │      10 │      2 │         5 │        9 │ <span style=\"color: #000080; text-decoration-color: #000080\">BLUE</span>    \n",
       "   6 │ <span style=\"color: #808000; text-decoration-color: #808000\">ORANGE</span>,<span style=\"color: #c0c0c0; text-decoration-color: #c0c0c0\">WHITE</span>,<span style=\"color: #000080; text-decoration-color: #000080\">BLUE</span>,<span style=\"color: #800000; text-decoration-color: #800000\">RED</span> │   190 │       5 │      3 │        10 │        2 │ <span style=\"color: #808000; text-decoration-color: #808000\">ORANGE</span>  \n",
       "   7 │ <span style=\"color: #808000; text-decoration-color: #808000\">ORANGE</span>,<span style=\"color: #c0c0c0; text-decoration-color: #c0c0c0\">WHITE</span>,<span style=\"color: #000080; text-decoration-color: #000080\">BLUE</span>,<span style=\"color: #800000; text-decoration-color: #800000\">RED</span> │   218 │       8 │      2 │        10 │        3 │ <span style=\"color: #808000; text-decoration-color: #808000\">ORANGE</span>  \n",
       "   8 │ <span style=\"color: #c0c0c0; text-decoration-color: #c0c0c0\">WHITE</span>,<span style=\"color: #000080; text-decoration-color: #000080\">BLUE</span>,<span style=\"color: #808000; text-decoration-color: #808000\">ORANGE</span>,<span style=\"color: #800000; text-decoration-color: #800000\">RED</span> │   234 │       2 │      2 │         5 │       10 │ <span style=\"color: #c0c0c0; text-decoration-color: #c0c0c0\">WHITE</span>   \n",
       "   9 │ <span style=\"color: #000080; text-decoration-color: #000080\">BLUE</span>,<span style=\"color: #808000; text-decoration-color: #808000\">ORANGE</span>,<span style=\"color: #800000; text-decoration-color: #800000\">RED</span>,<span style=\"color: #c0c0c0; text-decoration-color: #c0c0c0\">WHITE</span> │   465 │       3 │      2 │         6 │       10 │ <span style=\"color: #c0c0c0; text-decoration-color: #c0c0c0\">WHITE</span>   \n",
       "  10 │ <span style=\"color: #800000; text-decoration-color: #800000\">RED</span>,<span style=\"color: #c0c0c0; text-decoration-color: #c0c0c0\">WHITE</span>,<span style=\"color: #000080; text-decoration-color: #000080\">BLUE</span>,<span style=\"color: #808000; text-decoration-color: #808000\">ORANGE</span> │   307 │       5 │      2 │         4 │       10 │ <span style=\"color: #c0c0c0; text-decoration-color: #c0c0c0\">WHITE</span>   \n",
       "     ╵                       ╵       ╵         ╵        ╵           ╵          ╵         \n",
       "</pre>\n"
      ],
      "text/plain": [
       "\u001b[3m                                      Last 10 Games                                      \u001b[0m\n",
       "     ╷                       ╷       ╷         ╷        ╷           ╷          ╷         \n",
       " \u001b[1m \u001b[0m\u001b[1m #\u001b[0m\u001b[1m \u001b[0m│\u001b[1m \u001b[0m\u001b[1mSEATING              \u001b[0m\u001b[1m \u001b[0m│\u001b[1m \u001b[0m\u001b[1mTURNS\u001b[0m\u001b[1m \u001b[0m│\u001b[1m \u001b[0m\u001b[1mBLUE VP\u001b[0m\u001b[1m \u001b[0m│\u001b[1m \u001b[0m\u001b[1mRED VP\u001b[0m\u001b[1m \u001b[0m│\u001b[1m \u001b[0m\u001b[1mORANGE VP\u001b[0m\u001b[1m \u001b[0m│\u001b[1m \u001b[0m\u001b[1mWHITE VP\u001b[0m\u001b[1m \u001b[0m│\u001b[1m \u001b[0m\u001b[1mWINNER\u001b[0m\u001b[1m \u001b[0m \n",
       "╶────┼───────────────────────┼───────┼─────────┼────────┼───────────┼──────────┼────────╴\n",
       "   1 │ \u001b[33mORANGE\u001b[0m,\u001b[34mBLUE\u001b[0m,\u001b[31mRED\u001b[0m,\u001b[37mWHITE\u001b[0m │   377 │       5 │      8 │         6 │       10 │ \u001b[37mWHITE\u001b[0m   \n",
       "   2 │ \u001b[34mBLUE\u001b[0m,\u001b[33mORANGE\u001b[0m,\u001b[37mWHITE\u001b[0m,\u001b[31mRED\u001b[0m │   542 │      10 │      3 │         7 │        4 │ \u001b[34mBLUE\u001b[0m    \n",
       "   3 │ \u001b[33mORANGE\u001b[0m,\u001b[34mBLUE\u001b[0m,\u001b[37mWHITE\u001b[0m,\u001b[31mRED\u001b[0m │   290 │       7 │      4 │        10 │        8 │ \u001b[33mORANGE\u001b[0m  \n",
       "   4 │ \u001b[37mWHITE\u001b[0m,\u001b[34mBLUE\u001b[0m,\u001b[33mORANGE\u001b[0m,\u001b[31mRED\u001b[0m │   275 │      10 │      2 │         2 │        5 │ \u001b[34mBLUE\u001b[0m    \n",
       "   5 │ \u001b[34mBLUE\u001b[0m,\u001b[37mWHITE\u001b[0m,\u001b[33mORANGE\u001b[0m,\u001b[31mRED\u001b[0m │   430 │      10 │      2 │         5 │        9 │ \u001b[34mBLUE\u001b[0m    \n",
       "   6 │ \u001b[33mORANGE\u001b[0m,\u001b[37mWHITE\u001b[0m,\u001b[34mBLUE\u001b[0m,\u001b[31mRED\u001b[0m │   190 │       5 │      3 │        10 │        2 │ \u001b[33mORANGE\u001b[0m  \n",
       "   7 │ \u001b[33mORANGE\u001b[0m,\u001b[37mWHITE\u001b[0m,\u001b[34mBLUE\u001b[0m,\u001b[31mRED\u001b[0m │   218 │       8 │      2 │        10 │        3 │ \u001b[33mORANGE\u001b[0m  \n",
       "   8 │ \u001b[37mWHITE\u001b[0m,\u001b[34mBLUE\u001b[0m,\u001b[33mORANGE\u001b[0m,\u001b[31mRED\u001b[0m │   234 │       2 │      2 │         5 │       10 │ \u001b[37mWHITE\u001b[0m   \n",
       "   9 │ \u001b[34mBLUE\u001b[0m,\u001b[33mORANGE\u001b[0m,\u001b[31mRED\u001b[0m,\u001b[37mWHITE\u001b[0m │   465 │       3 │      2 │         6 │       10 │ \u001b[37mWHITE\u001b[0m   \n",
       "  10 │ \u001b[31mRED\u001b[0m,\u001b[37mWHITE\u001b[0m,\u001b[34mBLUE\u001b[0m,\u001b[33mORANGE\u001b[0m │   307 │       5 │      2 │         4 │       10 │ \u001b[37mWHITE\u001b[0m   \n",
       "     ╵                       ╵       ╵         ╵        ╵           ╵          ╵         \n"
      ]
     },
     "metadata": {},
     "output_type": "display_data"
    },
    {
     "data": {
      "text/html": [
       "<pre style=\"white-space:pre;overflow-x:auto;line-height:normal;font-family:Menlo,'DejaVu Sans Mono',consolas,'Courier New',monospace\"><span style=\"font-style: italic\">                                           Player Summary                                            </span>\n",
       "                      ╷      ╷        ╷             ╷            ╷          ╷          ╷             \n",
       " <span style=\"font-weight: bold\">                     </span>│<span style=\"font-weight: bold\"> WINS </span>│<span style=\"font-weight: bold\"> AVG VP </span>│<span style=\"font-weight: bold\"> AVG SETTLES </span>│<span style=\"font-weight: bold\"> AVG CITIES </span>│<span style=\"font-weight: bold\"> AVG ROAD </span>│<span style=\"font-weight: bold\"> AVG ARMY </span>│<span style=\"font-weight: bold\"> AVG DEV VP </span> \n",
       "╶─────────────────────┼──────┼────────┼─────────────┼────────────┼──────────┼──────────┼────────────╴\n",
       "  <span style=\"color: #000080; text-decoration-color: #000080\">RandomPlayer:BLUE</span>   │    3 │   6.50 │        2.20 │       0.80 │     0.40 │     0.20 │       1.50  \n",
       "  <span style=\"color: #800000; text-decoration-color: #800000\">AB_DQNPlayer_1:RED</span>  │    0 │   3.00 │        1.90 │       0.50 │     0.00 │     0.00 │       0.10  \n",
       "  <span style=\"color: #808000; text-decoration-color: #808000\">RandomPlayer:ORANGE</span> │    3 │   6.50 │        1.60 │       1.20 │     0.40 │     0.40 │       0.90  \n",
       "  <span style=\"color: #c0c0c0; text-decoration-color: #c0c0c0\">RandomPlayer:WHITE</span>  │    4 │   7.10 │        2.90 │       0.90 │     0.20 │     0.40 │       1.20  \n",
       "                      ╵      ╵        ╵             ╵            ╵          ╵          ╵             \n",
       "</pre>\n"
      ],
      "text/plain": [
       "\u001b[3m                                           Player Summary                                            \u001b[0m\n",
       "                      ╷      ╷        ╷             ╷            ╷          ╷          ╷             \n",
       " \u001b[1m \u001b[0m\u001b[1m                   \u001b[0m\u001b[1m \u001b[0m│\u001b[1m \u001b[0m\u001b[1mWINS\u001b[0m\u001b[1m \u001b[0m│\u001b[1m \u001b[0m\u001b[1mAVG VP\u001b[0m\u001b[1m \u001b[0m│\u001b[1m \u001b[0m\u001b[1mAVG SETTLES\u001b[0m\u001b[1m \u001b[0m│\u001b[1m \u001b[0m\u001b[1mAVG CITIES\u001b[0m\u001b[1m \u001b[0m│\u001b[1m \u001b[0m\u001b[1mAVG ROAD\u001b[0m\u001b[1m \u001b[0m│\u001b[1m \u001b[0m\u001b[1mAVG ARMY\u001b[0m\u001b[1m \u001b[0m│\u001b[1m \u001b[0m\u001b[1mAVG DEV VP\u001b[0m\u001b[1m \u001b[0m \n",
       "╶─────────────────────┼──────┼────────┼─────────────┼────────────┼──────────┼──────────┼────────────╴\n",
       "  \u001b[34mRandomPlayer:BLUE\u001b[0m   │    3 │   6.50 │        2.20 │       0.80 │     0.40 │     0.20 │       1.50  \n",
       "  \u001b[31mAB_DQNPlayer_1:RED\u001b[0m  │    0 │   3.00 │        1.90 │       0.50 │     0.00 │     0.00 │       0.10  \n",
       "  \u001b[33mRandomPlayer:ORANGE\u001b[0m │    3 │   6.50 │        1.60 │       1.20 │     0.40 │     0.40 │       0.90  \n",
       "  \u001b[37mRandomPlayer:WHITE\u001b[0m  │    4 │   7.10 │        2.90 │       0.90 │     0.20 │     0.40 │       1.20  \n",
       "                      ╵      ╵        ╵             ╵            ╵          ╵          ╵             \n"
      ]
     },
     "metadata": {},
     "output_type": "display_data"
    },
    {
     "data": {
      "text/html": [
       "<pre style=\"white-space:pre;overflow-x:auto;line-height:normal;font-family:Menlo,'DejaVu Sans Mono',consolas,'Courier New',monospace\"><span style=\"font-style: italic\">              Game Summary              </span>\n",
       "            ╷           ╷               \n",
       " <span style=\"font-weight: bold\"> AVG TICKS </span>│<span style=\"font-weight: bold\"> AVG TURNS </span>│<span style=\"font-weight: bold\"> AVG DURATION </span> \n",
       "╶───────────┼───────────┼──────────────╴\n",
       "     949.90 │    332.80 │  18.259 secs  \n",
       "            ╵           ╵               \n",
       "</pre>\n"
      ],
      "text/plain": [
       "\u001b[3m              Game Summary              \u001b[0m\n",
       "            ╷           ╷               \n",
       " \u001b[1m \u001b[0m\u001b[1mAVG TICKS\u001b[0m\u001b[1m \u001b[0m│\u001b[1m \u001b[0m\u001b[1mAVG TURNS\u001b[0m\u001b[1m \u001b[0m│\u001b[1m \u001b[0m\u001b[1mAVG DURATION\u001b[0m\u001b[1m \u001b[0m \n",
       "╶───────────┼───────────┼──────────────╴\n",
       "     949.90 │    332.80 │  18.259 secs  \n",
       "            ╵           ╵               \n"
      ]
     },
     "metadata": {},
     "output_type": "display_data"
    },
    {
     "name": "stdout",
     "output_type": "stream",
     "text": [
      "Loaded replay buffer with 3567 transitions\n",
      "atch 30/50: Playing 10 games\n"
     ]
    },
    {
     "data": {
      "text/html": [
       "<pre style=\"white-space:pre;overflow-x:auto;line-height:normal;font-family:Menlo,'DejaVu Sans Mono',consolas,'Courier New',monospace\">Cleared replay buffer to refresh training examples.\n",
       "</pre>\n"
      ],
      "text/plain": [
       "Cleared replay buffer to refresh training examples.\n"
      ]
     },
     "metadata": {},
     "output_type": "display_data"
    },
    {
     "data": {
      "text/html": [
       "<pre style=\"white-space:pre;overflow-x:auto;line-height:normal;font-family:Menlo,'DejaVu Sans Mono',consolas,'Courier New',monospace\">Reward variance in batch: 0.0000\n",
       "</pre>\n"
      ],
      "text/plain": [
       "Reward variance in batch: 0.0000\n"
      ]
     },
     "metadata": {},
     "output_type": "display_data"
    },
    {
     "data": {
      "text/html": [
       "<pre style=\"white-space:pre;overflow-x:auto;line-height:normal;font-family:Menlo,'DejaVu Sans Mono',consolas,'Courier New',monospace\">Trained DQN model with loss: 102.0620\n",
       "</pre>\n"
      ],
      "text/plain": [
       "Trained DQN model with loss: 102.0620\n"
      ]
     },
     "metadata": {},
     "output_type": "display_data"
    },
    {
     "data": {
      "text/html": [
       "<pre style=\"white-space:pre;overflow-x:auto;line-height:normal;font-family:Menlo,'DejaVu Sans Mono',consolas,'Courier New',monospace\">Avg pred: -0.1408, Avg target: 9.9594\n",
       "</pre>\n"
      ],
      "text/plain": [
       "Avg pred: -0.1408, Avg target: 9.9594\n"
      ]
     },
     "metadata": {},
     "output_type": "display_data"
    },
    {
     "data": {
      "text/html": [
       "<pre style=\"white-space:pre;overflow-x:auto;line-height:normal;font-family:Menlo,'DejaVu Sans Mono',consolas,'Courier New',monospace\">Cleared replay buffer to refresh training examples.\n",
       "</pre>\n"
      ],
      "text/plain": [
       "Cleared replay buffer to refresh training examples.\n"
      ]
     },
     "metadata": {},
     "output_type": "display_data"
    },
    {
     "data": {
      "text/html": [
       "<pre style=\"white-space:pre;overflow-x:auto;line-height:normal;font-family:Menlo,'DejaVu Sans Mono',consolas,'Courier New',monospace\">Reward variance in batch: 0.0000\n",
       "</pre>\n"
      ],
      "text/plain": [
       "Reward variance in batch: 0.0000\n"
      ]
     },
     "metadata": {},
     "output_type": "display_data"
    },
    {
     "data": {
      "text/html": [
       "<pre style=\"white-space:pre;overflow-x:auto;line-height:normal;font-family:Menlo,'DejaVu Sans Mono',consolas,'Courier New',monospace\">Trained DQN model with loss: 101.6276\n",
       "</pre>\n"
      ],
      "text/plain": [
       "Trained DQN model with loss: 101.6276\n"
      ]
     },
     "metadata": {},
     "output_type": "display_data"
    },
    {
     "data": {
      "text/html": [
       "<pre style=\"white-space:pre;overflow-x:auto;line-height:normal;font-family:Menlo,'DejaVu Sans Mono',consolas,'Courier New',monospace\">Avg pred: -0.1003, Avg target: 9.9779\n",
       "</pre>\n"
      ],
      "text/plain": [
       "Avg pred: -0.1003, Avg target: 9.9779\n"
      ]
     },
     "metadata": {},
     "output_type": "display_data"
    },
    {
     "data": {
      "text/html": [
       "<pre style=\"white-space:pre;overflow-x:auto;line-height:normal;font-family:Menlo,'DejaVu Sans Mono',consolas,'Courier New',monospace\"></pre>\n"
      ],
      "text/plain": []
     },
     "metadata": {},
     "output_type": "display_data"
    },
    {
     "data": {
      "text/html": [
       "<pre style=\"white-space:pre;overflow-x:auto;line-height:normal;font-family:Menlo,'DejaVu Sans Mono',consolas,'Courier New',monospace\">\n",
       "</pre>\n"
      ],
      "text/plain": [
       "\n"
      ]
     },
     "metadata": {},
     "output_type": "display_data"
    },
    {
     "data": {
      "text/html": [
       "<pre style=\"white-space:pre;overflow-x:auto;line-height:normal;font-family:Menlo,'DejaVu Sans Mono',consolas,'Courier New',monospace\"><span style=\"font-style: italic\">                                      Last 10 Games                                      </span>\n",
       "     ╷                       ╷       ╷        ╷          ╷         ╷           ╷         \n",
       " <span style=\"font-weight: bold\">  # </span>│<span style=\"font-weight: bold\"> SEATING               </span>│<span style=\"font-weight: bold\"> TURNS </span>│<span style=\"font-weight: bold\"> RED VP </span>│<span style=\"font-weight: bold\"> WHITE VP </span>│<span style=\"font-weight: bold\"> BLUE VP </span>│<span style=\"font-weight: bold\"> ORANGE VP </span>│<span style=\"font-weight: bold\"> WINNER </span> \n",
       "╶────┼───────────────────────┼───────┼────────┼──────────┼─────────┼───────────┼────────╴\n",
       "   1 │ <span style=\"color: #808000; text-decoration-color: #808000\">ORANGE</span>,<span style=\"color: #800000; text-decoration-color: #800000\">RED</span>,<span style=\"color: #000080; text-decoration-color: #000080\">BLUE</span>,<span style=\"color: #c0c0c0; text-decoration-color: #c0c0c0\">WHITE</span> │   113 │      2 │       10 │       4 │         2 │ <span style=\"color: #c0c0c0; text-decoration-color: #c0c0c0\">WHITE</span>   \n",
       "   2 │ <span style=\"color: #000080; text-decoration-color: #000080\">BLUE</span>,<span style=\"color: #c0c0c0; text-decoration-color: #c0c0c0\">WHITE</span>,<span style=\"color: #808000; text-decoration-color: #808000\">ORANGE</span>,<span style=\"color: #800000; text-decoration-color: #800000\">RED</span> │   374 │      7 │        6 │      10 │         8 │ <span style=\"color: #000080; text-decoration-color: #000080\">BLUE</span>    \n",
       "   3 │ <span style=\"color: #c0c0c0; text-decoration-color: #c0c0c0\">WHITE</span>,<span style=\"color: #000080; text-decoration-color: #000080\">BLUE</span>,<span style=\"color: #808000; text-decoration-color: #808000\">ORANGE</span>,<span style=\"color: #800000; text-decoration-color: #800000\">RED</span> │   256 │      2 │        2 │       4 │        10 │ <span style=\"color: #808000; text-decoration-color: #808000\">ORANGE</span>  \n",
       "   4 │ <span style=\"color: #800000; text-decoration-color: #800000\">RED</span>,<span style=\"color: #c0c0c0; text-decoration-color: #c0c0c0\">WHITE</span>,<span style=\"color: #808000; text-decoration-color: #808000\">ORANGE</span>,<span style=\"color: #000080; text-decoration-color: #000080\">BLUE</span> │   128 │      2 │        2 │       5 │        10 │ <span style=\"color: #808000; text-decoration-color: #808000\">ORANGE</span>  \n",
       "   5 │ <span style=\"color: #800000; text-decoration-color: #800000\">RED</span>,<span style=\"color: #000080; text-decoration-color: #000080\">BLUE</span>,<span style=\"color: #808000; text-decoration-color: #808000\">ORANGE</span>,<span style=\"color: #c0c0c0; text-decoration-color: #c0c0c0\">WHITE</span> │   215 │      3 │        5 │      10 │         4 │ <span style=\"color: #000080; text-decoration-color: #000080\">BLUE</span>    \n",
       "   6 │ <span style=\"color: #800000; text-decoration-color: #800000\">RED</span>,<span style=\"color: #808000; text-decoration-color: #808000\">ORANGE</span>,<span style=\"color: #000080; text-decoration-color: #000080\">BLUE</span>,<span style=\"color: #c0c0c0; text-decoration-color: #c0c0c0\">WHITE</span> │   169 │      2 │       10 │       5 │         2 │ <span style=\"color: #c0c0c0; text-decoration-color: #c0c0c0\">WHITE</span>   \n",
       "   7 │ <span style=\"color: #000080; text-decoration-color: #000080\">BLUE</span>,<span style=\"color: #800000; text-decoration-color: #800000\">RED</span>,<span style=\"color: #c0c0c0; text-decoration-color: #c0c0c0\">WHITE</span>,<span style=\"color: #808000; text-decoration-color: #808000\">ORANGE</span> │   210 │      2 │        4 │      10 │         5 │ <span style=\"color: #000080; text-decoration-color: #000080\">BLUE</span>    \n",
       "   8 │ <span style=\"color: #808000; text-decoration-color: #808000\">ORANGE</span>,<span style=\"color: #800000; text-decoration-color: #800000\">RED</span>,<span style=\"color: #000080; text-decoration-color: #000080\">BLUE</span>,<span style=\"color: #c0c0c0; text-decoration-color: #c0c0c0\">WHITE</span> │   382 │      2 │        9 │       7 │        10 │ <span style=\"color: #808000; text-decoration-color: #808000\">ORANGE</span>  \n",
       "   9 │ <span style=\"color: #800000; text-decoration-color: #800000\">RED</span>,<span style=\"color: #000080; text-decoration-color: #000080\">BLUE</span>,<span style=\"color: #808000; text-decoration-color: #808000\">ORANGE</span>,<span style=\"color: #c0c0c0; text-decoration-color: #c0c0c0\">WHITE</span> │   240 │      2 │        4 │       2 │        10 │ <span style=\"color: #808000; text-decoration-color: #808000\">ORANGE</span>  \n",
       "  10 │ <span style=\"color: #000080; text-decoration-color: #000080\">BLUE</span>,<span style=\"color: #c0c0c0; text-decoration-color: #c0c0c0\">WHITE</span>,<span style=\"color: #808000; text-decoration-color: #808000\">ORANGE</span>,<span style=\"color: #800000; text-decoration-color: #800000\">RED</span> │   338 │      2 │        5 │      10 │         4 │ <span style=\"color: #000080; text-decoration-color: #000080\">BLUE</span>    \n",
       "     ╵                       ╵       ╵        ╵          ╵         ╵           ╵         \n",
       "</pre>\n"
      ],
      "text/plain": [
       "\u001b[3m                                      Last 10 Games                                      \u001b[0m\n",
       "     ╷                       ╷       ╷        ╷          ╷         ╷           ╷         \n",
       " \u001b[1m \u001b[0m\u001b[1m #\u001b[0m\u001b[1m \u001b[0m│\u001b[1m \u001b[0m\u001b[1mSEATING              \u001b[0m\u001b[1m \u001b[0m│\u001b[1m \u001b[0m\u001b[1mTURNS\u001b[0m\u001b[1m \u001b[0m│\u001b[1m \u001b[0m\u001b[1mRED VP\u001b[0m\u001b[1m \u001b[0m│\u001b[1m \u001b[0m\u001b[1mWHITE VP\u001b[0m\u001b[1m \u001b[0m│\u001b[1m \u001b[0m\u001b[1mBLUE VP\u001b[0m\u001b[1m \u001b[0m│\u001b[1m \u001b[0m\u001b[1mORANGE VP\u001b[0m\u001b[1m \u001b[0m│\u001b[1m \u001b[0m\u001b[1mWINNER\u001b[0m\u001b[1m \u001b[0m \n",
       "╶────┼───────────────────────┼───────┼────────┼──────────┼─────────┼───────────┼────────╴\n",
       "   1 │ \u001b[33mORANGE\u001b[0m,\u001b[31mRED\u001b[0m,\u001b[34mBLUE\u001b[0m,\u001b[37mWHITE\u001b[0m │   113 │      2 │       10 │       4 │         2 │ \u001b[37mWHITE\u001b[0m   \n",
       "   2 │ \u001b[34mBLUE\u001b[0m,\u001b[37mWHITE\u001b[0m,\u001b[33mORANGE\u001b[0m,\u001b[31mRED\u001b[0m │   374 │      7 │        6 │      10 │         8 │ \u001b[34mBLUE\u001b[0m    \n",
       "   3 │ \u001b[37mWHITE\u001b[0m,\u001b[34mBLUE\u001b[0m,\u001b[33mORANGE\u001b[0m,\u001b[31mRED\u001b[0m │   256 │      2 │        2 │       4 │        10 │ \u001b[33mORANGE\u001b[0m  \n",
       "   4 │ \u001b[31mRED\u001b[0m,\u001b[37mWHITE\u001b[0m,\u001b[33mORANGE\u001b[0m,\u001b[34mBLUE\u001b[0m │   128 │      2 │        2 │       5 │        10 │ \u001b[33mORANGE\u001b[0m  \n",
       "   5 │ \u001b[31mRED\u001b[0m,\u001b[34mBLUE\u001b[0m,\u001b[33mORANGE\u001b[0m,\u001b[37mWHITE\u001b[0m │   215 │      3 │        5 │      10 │         4 │ \u001b[34mBLUE\u001b[0m    \n",
       "   6 │ \u001b[31mRED\u001b[0m,\u001b[33mORANGE\u001b[0m,\u001b[34mBLUE\u001b[0m,\u001b[37mWHITE\u001b[0m │   169 │      2 │       10 │       5 │         2 │ \u001b[37mWHITE\u001b[0m   \n",
       "   7 │ \u001b[34mBLUE\u001b[0m,\u001b[31mRED\u001b[0m,\u001b[37mWHITE\u001b[0m,\u001b[33mORANGE\u001b[0m │   210 │      2 │        4 │      10 │         5 │ \u001b[34mBLUE\u001b[0m    \n",
       "   8 │ \u001b[33mORANGE\u001b[0m,\u001b[31mRED\u001b[0m,\u001b[34mBLUE\u001b[0m,\u001b[37mWHITE\u001b[0m │   382 │      2 │        9 │       7 │        10 │ \u001b[33mORANGE\u001b[0m  \n",
       "   9 │ \u001b[31mRED\u001b[0m,\u001b[34mBLUE\u001b[0m,\u001b[33mORANGE\u001b[0m,\u001b[37mWHITE\u001b[0m │   240 │      2 │        4 │       2 │        10 │ \u001b[33mORANGE\u001b[0m  \n",
       "  10 │ \u001b[34mBLUE\u001b[0m,\u001b[37mWHITE\u001b[0m,\u001b[33mORANGE\u001b[0m,\u001b[31mRED\u001b[0m │   338 │      2 │        5 │      10 │         4 │ \u001b[34mBLUE\u001b[0m    \n",
       "     ╵                       ╵       ╵        ╵          ╵         ╵           ╵         \n"
      ]
     },
     "metadata": {},
     "output_type": "display_data"
    },
    {
     "data": {
      "text/html": [
       "<pre style=\"white-space:pre;overflow-x:auto;line-height:normal;font-family:Menlo,'DejaVu Sans Mono',consolas,'Courier New',monospace\"><span style=\"font-style: italic\">                                               Player Summary                                                </span>\n",
       "                              ╷      ╷        ╷             ╷            ╷          ╷          ╷             \n",
       " <span style=\"font-weight: bold\">                             </span>│<span style=\"font-weight: bold\"> WINS </span>│<span style=\"font-weight: bold\"> AVG VP </span>│<span style=\"font-weight: bold\"> AVG SETTLES </span>│<span style=\"font-weight: bold\"> AVG CITIES </span>│<span style=\"font-weight: bold\"> AVG ROAD </span>│<span style=\"font-weight: bold\"> AVG ARMY </span>│<span style=\"font-weight: bold\"> AVG DEV VP </span> \n",
       "╶─────────────────────────────┼──────┼────────┼─────────────┼────────────┼──────────┼──────────┼────────────╴\n",
       "  <span style=\"color: #800000; text-decoration-color: #800000\">AB_DQNPlayer_1:RED</span>          │    0 │   2.60 │        2.10 │       0.20 │     0.00 │     0.00 │       0.10  \n",
       "  <span style=\"color: #c0c0c0; text-decoration-color: #c0c0c0\">WeightedRandomPlayer:WHITE</span>  │    2 │   5.70 │        2.60 │       0.40 │     0.30 │     0.20 │       1.30  \n",
       "  <span style=\"color: #000080; text-decoration-color: #000080\">WeightedRandomPlayer:BLUE</span>   │    4 │   6.70 │        2.30 │       0.90 │     0.50 │     0.40 │       0.80  \n",
       "  <span style=\"color: #808000; text-decoration-color: #808000\">WeightedRandomPlayer:ORANGE</span> │    4 │   6.50 │        2.20 │       1.00 │     0.20 │     0.40 │       1.10  \n",
       "                              ╵      ╵        ╵             ╵            ╵          ╵          ╵             \n",
       "</pre>\n"
      ],
      "text/plain": [
       "\u001b[3m                                               Player Summary                                                \u001b[0m\n",
       "                              ╷      ╷        ╷             ╷            ╷          ╷          ╷             \n",
       " \u001b[1m \u001b[0m\u001b[1m                           \u001b[0m\u001b[1m \u001b[0m│\u001b[1m \u001b[0m\u001b[1mWINS\u001b[0m\u001b[1m \u001b[0m│\u001b[1m \u001b[0m\u001b[1mAVG VP\u001b[0m\u001b[1m \u001b[0m│\u001b[1m \u001b[0m\u001b[1mAVG SETTLES\u001b[0m\u001b[1m \u001b[0m│\u001b[1m \u001b[0m\u001b[1mAVG CITIES\u001b[0m\u001b[1m \u001b[0m│\u001b[1m \u001b[0m\u001b[1mAVG ROAD\u001b[0m\u001b[1m \u001b[0m│\u001b[1m \u001b[0m\u001b[1mAVG ARMY\u001b[0m\u001b[1m \u001b[0m│\u001b[1m \u001b[0m\u001b[1mAVG DEV VP\u001b[0m\u001b[1m \u001b[0m \n",
       "╶─────────────────────────────┼──────┼────────┼─────────────┼────────────┼──────────┼──────────┼────────────╴\n",
       "  \u001b[31mAB_DQNPlayer_1:RED\u001b[0m          │    0 │   2.60 │        2.10 │       0.20 │     0.00 │     0.00 │       0.10  \n",
       "  \u001b[37mWeightedRandomPlayer:WHITE\u001b[0m  │    2 │   5.70 │        2.60 │       0.40 │     0.30 │     0.20 │       1.30  \n",
       "  \u001b[34mWeightedRandomPlayer:BLUE\u001b[0m   │    4 │   6.70 │        2.30 │       0.90 │     0.50 │     0.40 │       0.80  \n",
       "  \u001b[33mWeightedRandomPlayer:ORANGE\u001b[0m │    4 │   6.50 │        2.20 │       1.00 │     0.20 │     0.40 │       1.10  \n",
       "                              ╵      ╵        ╵             ╵            ╵          ╵          ╵             \n"
      ]
     },
     "metadata": {},
     "output_type": "display_data"
    },
    {
     "data": {
      "text/html": [
       "<pre style=\"white-space:pre;overflow-x:auto;line-height:normal;font-family:Menlo,'DejaVu Sans Mono',consolas,'Courier New',monospace\"><span style=\"font-style: italic\">              Game Summary              </span>\n",
       "            ╷           ╷               \n",
       " <span style=\"font-weight: bold\"> AVG TICKS </span>│<span style=\"font-weight: bold\"> AVG TURNS </span>│<span style=\"font-weight: bold\"> AVG DURATION </span> \n",
       "╶───────────┼───────────┼──────────────╴\n",
       "     712.50 │    242.50 │  14.628 secs  \n",
       "            ╵           ╵               \n",
       "</pre>\n"
      ],
      "text/plain": [
       "\u001b[3m              Game Summary              \u001b[0m\n",
       "            ╷           ╷               \n",
       " \u001b[1m \u001b[0m\u001b[1mAVG TICKS\u001b[0m\u001b[1m \u001b[0m│\u001b[1m \u001b[0m\u001b[1mAVG TURNS\u001b[0m\u001b[1m \u001b[0m│\u001b[1m \u001b[0m\u001b[1mAVG DURATION\u001b[0m\u001b[1m \u001b[0m \n",
       "╶───────────┼───────────┼──────────────╴\n",
       "     712.50 │    242.50 │  14.628 secs  \n",
       "            ╵           ╵               \n"
      ]
     },
     "metadata": {},
     "output_type": "display_data"
    },
    {
     "name": "stdout",
     "output_type": "stream",
     "text": [
      "Loaded replay buffer with 1686 transitions\n",
      "atch 31/50: Playing 10 games\n"
     ]
    },
    {
     "data": {
      "text/html": [
       "<pre style=\"white-space:pre;overflow-x:auto;line-height:normal;font-family:Menlo,'DejaVu Sans Mono',consolas,'Courier New',monospace\">Cleared replay buffer to refresh training examples.\n",
       "</pre>\n"
      ],
      "text/plain": [
       "Cleared replay buffer to refresh training examples.\n"
      ]
     },
     "metadata": {},
     "output_type": "display_data"
    },
    {
     "data": {
      "text/html": [
       "<pre style=\"white-space:pre;overflow-x:auto;line-height:normal;font-family:Menlo,'DejaVu Sans Mono',consolas,'Courier New',monospace\">Reward variance in batch: 0.0000\n",
       "</pre>\n"
      ],
      "text/plain": [
       "Reward variance in batch: 0.0000\n"
      ]
     },
     "metadata": {},
     "output_type": "display_data"
    },
    {
     "data": {
      "text/html": [
       "<pre style=\"white-space:pre;overflow-x:auto;line-height:normal;font-family:Menlo,'DejaVu Sans Mono',consolas,'Courier New',monospace\">Trained DQN model with loss: 101.0579\n",
       "</pre>\n"
      ],
      "text/plain": [
       "Trained DQN model with loss: 101.0579\n"
      ]
     },
     "metadata": {},
     "output_type": "display_data"
    },
    {
     "data": {
      "text/html": [
       "<pre style=\"white-space:pre;overflow-x:auto;line-height:normal;font-family:Menlo,'DejaVu Sans Mono',consolas,'Courier New',monospace\">Avg pred: -0.1012, Avg target: 9.9500\n",
       "</pre>\n"
      ],
      "text/plain": [
       "Avg pred: -0.1012, Avg target: 9.9500\n"
      ]
     },
     "metadata": {},
     "output_type": "display_data"
    },
    {
     "data": {
      "text/html": [
       "<pre style=\"white-space:pre;overflow-x:auto;line-height:normal;font-family:Menlo,'DejaVu Sans Mono',consolas,'Courier New',monospace\"></pre>\n"
      ],
      "text/plain": []
     },
     "metadata": {},
     "output_type": "display_data"
    },
    {
     "data": {
      "text/html": [
       "<pre style=\"white-space:pre;overflow-x:auto;line-height:normal;font-family:Menlo,'DejaVu Sans Mono',consolas,'Courier New',monospace\">\n",
       "</pre>\n"
      ],
      "text/plain": [
       "\n"
      ]
     },
     "metadata": {},
     "output_type": "display_data"
    },
    {
     "data": {
      "text/html": [
       "<pre style=\"white-space:pre;overflow-x:auto;line-height:normal;font-family:Menlo,'DejaVu Sans Mono',consolas,'Courier New',monospace\"><span style=\"font-style: italic\">                                      Last 10 Games                                      </span>\n",
       "     ╷                       ╷       ╷           ╷          ╷        ╷         ╷         \n",
       " <span style=\"font-weight: bold\">  # </span>│<span style=\"font-weight: bold\"> SEATING               </span>│<span style=\"font-weight: bold\"> TURNS </span>│<span style=\"font-weight: bold\"> ORANGE VP </span>│<span style=\"font-weight: bold\"> WHITE VP </span>│<span style=\"font-weight: bold\"> RED VP </span>│<span style=\"font-weight: bold\"> BLUE VP </span>│<span style=\"font-weight: bold\"> WINNER </span> \n",
       "╶────┼───────────────────────┼───────┼───────────┼──────────┼────────┼─────────┼────────╴\n",
       "   1 │ <span style=\"color: #000080; text-decoration-color: #000080\">BLUE</span>,<span style=\"color: #808000; text-decoration-color: #808000\">ORANGE</span>,<span style=\"color: #800000; text-decoration-color: #800000\">RED</span>,<span style=\"color: #c0c0c0; text-decoration-color: #c0c0c0\">WHITE</span> │   154 │         2 │        2 │      2 │      10 │ <span style=\"color: #000080; text-decoration-color: #000080\">BLUE</span>    \n",
       "   2 │ <span style=\"color: #800000; text-decoration-color: #800000\">RED</span>,<span style=\"color: #000080; text-decoration-color: #000080\">BLUE</span>,<span style=\"color: #c0c0c0; text-decoration-color: #c0c0c0\">WHITE</span>,<span style=\"color: #808000; text-decoration-color: #808000\">ORANGE</span> │   188 │         6 │       10 │      3 │       3 │ <span style=\"color: #c0c0c0; text-decoration-color: #c0c0c0\">WHITE</span>   \n",
       "   3 │ <span style=\"color: #800000; text-decoration-color: #800000\">RED</span>,<span style=\"color: #808000; text-decoration-color: #808000\">ORANGE</span>,<span style=\"color: #c0c0c0; text-decoration-color: #c0c0c0\">WHITE</span>,<span style=\"color: #000080; text-decoration-color: #000080\">BLUE</span> │   319 │        10 │        5 │      3 │       4 │ <span style=\"color: #808000; text-decoration-color: #808000\">ORANGE</span>  \n",
       "   4 │ <span style=\"color: #c0c0c0; text-decoration-color: #c0c0c0\">WHITE</span>,<span style=\"color: #000080; text-decoration-color: #000080\">BLUE</span>,<span style=\"color: #808000; text-decoration-color: #808000\">ORANGE</span>,<span style=\"color: #800000; text-decoration-color: #800000\">RED</span> │    82 │         2 │       10 │      2 │       2 │ <span style=\"color: #c0c0c0; text-decoration-color: #c0c0c0\">WHITE</span>   \n",
       "   5 │ <span style=\"color: #000080; text-decoration-color: #000080\">BLUE</span>,<span style=\"color: #808000; text-decoration-color: #808000\">ORANGE</span>,<span style=\"color: #800000; text-decoration-color: #800000\">RED</span>,<span style=\"color: #c0c0c0; text-decoration-color: #c0c0c0\">WHITE</span> │   186 │         2 │        5 │      2 │      10 │ <span style=\"color: #000080; text-decoration-color: #000080\">BLUE</span>    \n",
       "   6 │ <span style=\"color: #000080; text-decoration-color: #000080\">BLUE</span>,<span style=\"color: #800000; text-decoration-color: #800000\">RED</span>,<span style=\"color: #808000; text-decoration-color: #808000\">ORANGE</span>,<span style=\"color: #c0c0c0; text-decoration-color: #c0c0c0\">WHITE</span> │   129 │         2 │       10 │      2 │       5 │ <span style=\"color: #c0c0c0; text-decoration-color: #c0c0c0\">WHITE</span>   \n",
       "   7 │ <span style=\"color: #c0c0c0; text-decoration-color: #c0c0c0\">WHITE</span>,<span style=\"color: #000080; text-decoration-color: #000080\">BLUE</span>,<span style=\"color: #808000; text-decoration-color: #808000\">ORANGE</span>,<span style=\"color: #800000; text-decoration-color: #800000\">RED</span> │   182 │         3 │       10 │      2 │       7 │ <span style=\"color: #c0c0c0; text-decoration-color: #c0c0c0\">WHITE</span>   \n",
       "   8 │ <span style=\"color: #808000; text-decoration-color: #808000\">ORANGE</span>,<span style=\"color: #800000; text-decoration-color: #800000\">RED</span>,<span style=\"color: #c0c0c0; text-decoration-color: #c0c0c0\">WHITE</span>,<span style=\"color: #000080; text-decoration-color: #000080\">BLUE</span> │   128 │         2 │       10 │      2 │       2 │ <span style=\"color: #c0c0c0; text-decoration-color: #c0c0c0\">WHITE</span>   \n",
       "   9 │ <span style=\"color: #000080; text-decoration-color: #000080\">BLUE</span>,<span style=\"color: #808000; text-decoration-color: #808000\">ORANGE</span>,<span style=\"color: #800000; text-decoration-color: #800000\">RED</span>,<span style=\"color: #c0c0c0; text-decoration-color: #c0c0c0\">WHITE</span> │   213 │         6 │       10 │      4 │       2 │ <span style=\"color: #c0c0c0; text-decoration-color: #c0c0c0\">WHITE</span>   \n",
       "  10 │ <span style=\"color: #800000; text-decoration-color: #800000\">RED</span>,<span style=\"color: #000080; text-decoration-color: #000080\">BLUE</span>,<span style=\"color: #808000; text-decoration-color: #808000\">ORANGE</span>,<span style=\"color: #c0c0c0; text-decoration-color: #c0c0c0\">WHITE</span> │   255 │         4 │        6 │      2 │      10 │ <span style=\"color: #000080; text-decoration-color: #000080\">BLUE</span>    \n",
       "     ╵                       ╵       ╵           ╵          ╵        ╵         ╵         \n",
       "</pre>\n"
      ],
      "text/plain": [
       "\u001b[3m                                      Last 10 Games                                      \u001b[0m\n",
       "     ╷                       ╷       ╷           ╷          ╷        ╷         ╷         \n",
       " \u001b[1m \u001b[0m\u001b[1m #\u001b[0m\u001b[1m \u001b[0m│\u001b[1m \u001b[0m\u001b[1mSEATING              \u001b[0m\u001b[1m \u001b[0m│\u001b[1m \u001b[0m\u001b[1mTURNS\u001b[0m\u001b[1m \u001b[0m│\u001b[1m \u001b[0m\u001b[1mORANGE VP\u001b[0m\u001b[1m \u001b[0m│\u001b[1m \u001b[0m\u001b[1mWHITE VP\u001b[0m\u001b[1m \u001b[0m│\u001b[1m \u001b[0m\u001b[1mRED VP\u001b[0m\u001b[1m \u001b[0m│\u001b[1m \u001b[0m\u001b[1mBLUE VP\u001b[0m\u001b[1m \u001b[0m│\u001b[1m \u001b[0m\u001b[1mWINNER\u001b[0m\u001b[1m \u001b[0m \n",
       "╶────┼───────────────────────┼───────┼───────────┼──────────┼────────┼─────────┼────────╴\n",
       "   1 │ \u001b[34mBLUE\u001b[0m,\u001b[33mORANGE\u001b[0m,\u001b[31mRED\u001b[0m,\u001b[37mWHITE\u001b[0m │   154 │         2 │        2 │      2 │      10 │ \u001b[34mBLUE\u001b[0m    \n",
       "   2 │ \u001b[31mRED\u001b[0m,\u001b[34mBLUE\u001b[0m,\u001b[37mWHITE\u001b[0m,\u001b[33mORANGE\u001b[0m │   188 │         6 │       10 │      3 │       3 │ \u001b[37mWHITE\u001b[0m   \n",
       "   3 │ \u001b[31mRED\u001b[0m,\u001b[33mORANGE\u001b[0m,\u001b[37mWHITE\u001b[0m,\u001b[34mBLUE\u001b[0m │   319 │        10 │        5 │      3 │       4 │ \u001b[33mORANGE\u001b[0m  \n",
       "   4 │ \u001b[37mWHITE\u001b[0m,\u001b[34mBLUE\u001b[0m,\u001b[33mORANGE\u001b[0m,\u001b[31mRED\u001b[0m │    82 │         2 │       10 │      2 │       2 │ \u001b[37mWHITE\u001b[0m   \n",
       "   5 │ \u001b[34mBLUE\u001b[0m,\u001b[33mORANGE\u001b[0m,\u001b[31mRED\u001b[0m,\u001b[37mWHITE\u001b[0m │   186 │         2 │        5 │      2 │      10 │ \u001b[34mBLUE\u001b[0m    \n",
       "   6 │ \u001b[34mBLUE\u001b[0m,\u001b[31mRED\u001b[0m,\u001b[33mORANGE\u001b[0m,\u001b[37mWHITE\u001b[0m │   129 │         2 │       10 │      2 │       5 │ \u001b[37mWHITE\u001b[0m   \n",
       "   7 │ \u001b[37mWHITE\u001b[0m,\u001b[34mBLUE\u001b[0m,\u001b[33mORANGE\u001b[0m,\u001b[31mRED\u001b[0m │   182 │         3 │       10 │      2 │       7 │ \u001b[37mWHITE\u001b[0m   \n",
       "   8 │ \u001b[33mORANGE\u001b[0m,\u001b[31mRED\u001b[0m,\u001b[37mWHITE\u001b[0m,\u001b[34mBLUE\u001b[0m │   128 │         2 │       10 │      2 │       2 │ \u001b[37mWHITE\u001b[0m   \n",
       "   9 │ \u001b[34mBLUE\u001b[0m,\u001b[33mORANGE\u001b[0m,\u001b[31mRED\u001b[0m,\u001b[37mWHITE\u001b[0m │   213 │         6 │       10 │      4 │       2 │ \u001b[37mWHITE\u001b[0m   \n",
       "  10 │ \u001b[31mRED\u001b[0m,\u001b[34mBLUE\u001b[0m,\u001b[33mORANGE\u001b[0m,\u001b[37mWHITE\u001b[0m │   255 │         4 │        6 │      2 │      10 │ \u001b[34mBLUE\u001b[0m    \n",
       "     ╵                       ╵       ╵           ╵          ╵        ╵         ╵         \n"
      ]
     },
     "metadata": {},
     "output_type": "display_data"
    },
    {
     "data": {
      "text/html": [
       "<pre style=\"white-space:pre;overflow-x:auto;line-height:normal;font-family:Menlo,'DejaVu Sans Mono',consolas,'Courier New',monospace\"><span style=\"font-style: italic\">                                               Player Summary                                               </span>\n",
       "                             ╷      ╷        ╷             ╷            ╷          ╷          ╷             \n",
       " <span style=\"font-weight: bold\">                            </span>│<span style=\"font-weight: bold\"> WINS </span>│<span style=\"font-weight: bold\"> AVG VP </span>│<span style=\"font-weight: bold\"> AVG SETTLES </span>│<span style=\"font-weight: bold\"> AVG CITIES </span>│<span style=\"font-weight: bold\"> AVG ROAD </span>│<span style=\"font-weight: bold\"> AVG ARMY </span>│<span style=\"font-weight: bold\"> AVG DEV VP </span> \n",
       "╶────────────────────────────┼──────┼────────┼─────────────┼────────────┼──────────┼──────────┼────────────╴\n",
       "  <span style=\"color: #808000; text-decoration-color: #808000\">RandomPlayer:ORANGE</span>        │    1 │   3.90 │        2.10 │       0.50 │     0.20 │     0.00 │       0.40  \n",
       "  <span style=\"color: #c0c0c0; text-decoration-color: #c0c0c0\">WeightedRandomPlayer:WHITE</span> │    6 │   7.80 │        2.60 │       0.70 │     0.70 │     0.50 │       1.40  \n",
       "  <span style=\"color: #800000; text-decoration-color: #800000\">AB_DQNPlayer_1:RED</span>         │    0 │   2.40 │        1.90 │       0.20 │     0.00 │     0.00 │       0.10  \n",
       "  <span style=\"color: #000080; text-decoration-color: #000080\">WeightedRandomPlayer:BLUE</span>  │    3 │   5.50 │        2.40 │       0.50 │     0.10 │     0.40 │       1.10  \n",
       "                             ╵      ╵        ╵             ╵            ╵          ╵          ╵             \n",
       "</pre>\n"
      ],
      "text/plain": [
       "\u001b[3m                                               Player Summary                                               \u001b[0m\n",
       "                             ╷      ╷        ╷             ╷            ╷          ╷          ╷             \n",
       " \u001b[1m \u001b[0m\u001b[1m                          \u001b[0m\u001b[1m \u001b[0m│\u001b[1m \u001b[0m\u001b[1mWINS\u001b[0m\u001b[1m \u001b[0m│\u001b[1m \u001b[0m\u001b[1mAVG VP\u001b[0m\u001b[1m \u001b[0m│\u001b[1m \u001b[0m\u001b[1mAVG SETTLES\u001b[0m\u001b[1m \u001b[0m│\u001b[1m \u001b[0m\u001b[1mAVG CITIES\u001b[0m\u001b[1m \u001b[0m│\u001b[1m \u001b[0m\u001b[1mAVG ROAD\u001b[0m\u001b[1m \u001b[0m│\u001b[1m \u001b[0m\u001b[1mAVG ARMY\u001b[0m\u001b[1m \u001b[0m│\u001b[1m \u001b[0m\u001b[1mAVG DEV VP\u001b[0m\u001b[1m \u001b[0m \n",
       "╶────────────────────────────┼──────┼────────┼─────────────┼────────────┼──────────┼──────────┼────────────╴\n",
       "  \u001b[33mRandomPlayer:ORANGE\u001b[0m        │    1 │   3.90 │        2.10 │       0.50 │     0.20 │     0.00 │       0.40  \n",
       "  \u001b[37mWeightedRandomPlayer:WHITE\u001b[0m │    6 │   7.80 │        2.60 │       0.70 │     0.70 │     0.50 │       1.40  \n",
       "  \u001b[31mAB_DQNPlayer_1:RED\u001b[0m         │    0 │   2.40 │        1.90 │       0.20 │     0.00 │     0.00 │       0.10  \n",
       "  \u001b[34mWeightedRandomPlayer:BLUE\u001b[0m  │    3 │   5.50 │        2.40 │       0.50 │     0.10 │     0.40 │       1.10  \n",
       "                             ╵      ╵        ╵             ╵            ╵          ╵          ╵             \n"
      ]
     },
     "metadata": {},
     "output_type": "display_data"
    },
    {
     "data": {
      "text/html": [
       "<pre style=\"white-space:pre;overflow-x:auto;line-height:normal;font-family:Menlo,'DejaVu Sans Mono',consolas,'Courier New',monospace\"><span style=\"font-style: italic\">              Game Summary              </span>\n",
       "            ╷           ╷               \n",
       " <span style=\"font-weight: bold\"> AVG TICKS </span>│<span style=\"font-weight: bold\"> AVG TURNS </span>│<span style=\"font-weight: bold\"> AVG DURATION </span> \n",
       "╶───────────┼───────────┼──────────────╴\n",
       "     530.10 │    183.60 │   8.346 secs  \n",
       "            ╵           ╵               \n",
       "</pre>\n"
      ],
      "text/plain": [
       "\u001b[3m              Game Summary              \u001b[0m\n",
       "            ╷           ╷               \n",
       " \u001b[1m \u001b[0m\u001b[1mAVG TICKS\u001b[0m\u001b[1m \u001b[0m│\u001b[1m \u001b[0m\u001b[1mAVG TURNS\u001b[0m\u001b[1m \u001b[0m│\u001b[1m \u001b[0m\u001b[1mAVG DURATION\u001b[0m\u001b[1m \u001b[0m \n",
       "╶───────────┼───────────┼──────────────╴\n",
       "     530.10 │    183.60 │   8.346 secs  \n",
       "            ╵           ╵               \n"
      ]
     },
     "metadata": {},
     "output_type": "display_data"
    },
    {
     "name": "stdout",
     "output_type": "stream",
     "text": [
      "Loaded replay buffer with 4746 transitions\n",
      "atch 32/50: Playing 10 games\n"
     ]
    },
    {
     "data": {
      "text/html": [
       "<pre style=\"white-space:pre;overflow-x:auto;line-height:normal;font-family:Menlo,'DejaVu Sans Mono',consolas,'Courier New',monospace\">Cleared replay buffer to refresh training examples.\n",
       "</pre>\n"
      ],
      "text/plain": [
       "Cleared replay buffer to refresh training examples.\n"
      ]
     },
     "metadata": {},
     "output_type": "display_data"
    },
    {
     "data": {
      "text/html": [
       "<pre style=\"white-space:pre;overflow-x:auto;line-height:normal;font-family:Menlo,'DejaVu Sans Mono',consolas,'Courier New',monospace\">Reward variance in batch: 0.0000\n",
       "</pre>\n"
      ],
      "text/plain": [
       "Reward variance in batch: 0.0000\n"
      ]
     },
     "metadata": {},
     "output_type": "display_data"
    },
    {
     "data": {
      "text/html": [
       "<pre style=\"white-space:pre;overflow-x:auto;line-height:normal;font-family:Menlo,'DejaVu Sans Mono',consolas,'Courier New',monospace\">Trained DQN model with loss: 102.2113\n",
       "</pre>\n"
      ],
      "text/plain": [
       "Trained DQN model with loss: 102.2113\n"
      ]
     },
     "metadata": {},
     "output_type": "display_data"
    },
    {
     "data": {
      "text/html": [
       "<pre style=\"white-space:pre;overflow-x:auto;line-height:normal;font-family:Menlo,'DejaVu Sans Mono',consolas,'Courier New',monospace\">Avg pred: -0.1269, Avg target: 9.9807\n",
       "</pre>\n"
      ],
      "text/plain": [
       "Avg pred: -0.1269, Avg target: 9.9807\n"
      ]
     },
     "metadata": {},
     "output_type": "display_data"
    },
    {
     "data": {
      "text/html": [
       "<pre style=\"white-space:pre;overflow-x:auto;line-height:normal;font-family:Menlo,'DejaVu Sans Mono',consolas,'Courier New',monospace\">Cleared replay buffer to refresh training examples.\n",
       "</pre>\n"
      ],
      "text/plain": [
       "Cleared replay buffer to refresh training examples.\n"
      ]
     },
     "metadata": {},
     "output_type": "display_data"
    },
    {
     "data": {
      "text/html": [
       "<pre style=\"white-space:pre;overflow-x:auto;line-height:normal;font-family:Menlo,'DejaVu Sans Mono',consolas,'Courier New',monospace\">Reward variance in batch: 0.0000\n",
       "</pre>\n"
      ],
      "text/plain": [
       "Reward variance in batch: 0.0000\n"
      ]
     },
     "metadata": {},
     "output_type": "display_data"
    },
    {
     "data": {
      "text/html": [
       "<pre style=\"white-space:pre;overflow-x:auto;line-height:normal;font-family:Menlo,'DejaVu Sans Mono',consolas,'Courier New',monospace\">Trained DQN model with loss: 102.1830\n",
       "</pre>\n"
      ],
      "text/plain": [
       "Trained DQN model with loss: 102.1830\n"
      ]
     },
     "metadata": {},
     "output_type": "display_data"
    },
    {
     "data": {
      "text/html": [
       "<pre style=\"white-space:pre;overflow-x:auto;line-height:normal;font-family:Menlo,'DejaVu Sans Mono',consolas,'Courier New',monospace\">Avg pred: -0.1346, Avg target: 9.9698\n",
       "</pre>\n"
      ],
      "text/plain": [
       "Avg pred: -0.1346, Avg target: 9.9698\n"
      ]
     },
     "metadata": {},
     "output_type": "display_data"
    },
    {
     "data": {
      "text/html": [
       "<pre style=\"white-space:pre;overflow-x:auto;line-height:normal;font-family:Menlo,'DejaVu Sans Mono',consolas,'Courier New',monospace\"></pre>\n"
      ],
      "text/plain": []
     },
     "metadata": {},
     "output_type": "display_data"
    },
    {
     "data": {
      "text/html": [
       "<pre style=\"white-space:pre;overflow-x:auto;line-height:normal;font-family:Menlo,'DejaVu Sans Mono',consolas,'Courier New',monospace\">\n",
       "</pre>\n"
      ],
      "text/plain": [
       "\n"
      ]
     },
     "metadata": {},
     "output_type": "display_data"
    },
    {
     "data": {
      "text/html": [
       "<pre style=\"white-space:pre;overflow-x:auto;line-height:normal;font-family:Menlo,'DejaVu Sans Mono',consolas,'Courier New',monospace\"><span style=\"font-style: italic\">                                      Last 10 Games                                      </span>\n",
       "     ╷                       ╷       ╷          ╷        ╷         ╷           ╷         \n",
       " <span style=\"font-weight: bold\">  # </span>│<span style=\"font-weight: bold\"> SEATING               </span>│<span style=\"font-weight: bold\"> TURNS </span>│<span style=\"font-weight: bold\"> WHITE VP </span>│<span style=\"font-weight: bold\"> RED VP </span>│<span style=\"font-weight: bold\"> BLUE VP </span>│<span style=\"font-weight: bold\"> ORANGE VP </span>│<span style=\"font-weight: bold\"> WINNER </span> \n",
       "╶────┼───────────────────────┼───────┼──────────┼────────┼─────────┼───────────┼────────╴\n",
       "   1 │ <span style=\"color: #000080; text-decoration-color: #000080\">BLUE</span>,<span style=\"color: #c0c0c0; text-decoration-color: #c0c0c0\">WHITE</span>,<span style=\"color: #808000; text-decoration-color: #808000\">ORANGE</span>,<span style=\"color: #800000; text-decoration-color: #800000\">RED</span> │   246 │        4 │      7 │      10 │         2 │ <span style=\"color: #000080; text-decoration-color: #000080\">BLUE</span>    \n",
       "   2 │ <span style=\"color: #800000; text-decoration-color: #800000\">RED</span>,<span style=\"color: #000080; text-decoration-color: #000080\">BLUE</span>,<span style=\"color: #808000; text-decoration-color: #808000\">ORANGE</span>,<span style=\"color: #c0c0c0; text-decoration-color: #c0c0c0\">WHITE</span> │   100 │        2 │      2 │       2 │        10 │ <span style=\"color: #808000; text-decoration-color: #808000\">ORANGE</span>  \n",
       "   3 │ <span style=\"color: #c0c0c0; text-decoration-color: #c0c0c0\">WHITE</span>,<span style=\"color: #800000; text-decoration-color: #800000\">RED</span>,<span style=\"color: #000080; text-decoration-color: #000080\">BLUE</span>,<span style=\"color: #808000; text-decoration-color: #808000\">ORANGE</span> │    89 │        2 │      3 │       2 │        10 │ <span style=\"color: #808000; text-decoration-color: #808000\">ORANGE</span>  \n",
       "   4 │ <span style=\"color: #000080; text-decoration-color: #000080\">BLUE</span>,<span style=\"color: #808000; text-decoration-color: #808000\">ORANGE</span>,<span style=\"color: #c0c0c0; text-decoration-color: #c0c0c0\">WHITE</span>,<span style=\"color: #800000; text-decoration-color: #800000\">RED</span> │   286 │        5 │      4 │      10 │         3 │ <span style=\"color: #000080; text-decoration-color: #000080\">BLUE</span>    \n",
       "   5 │ <span style=\"color: #c0c0c0; text-decoration-color: #c0c0c0\">WHITE</span>,<span style=\"color: #800000; text-decoration-color: #800000\">RED</span>,<span style=\"color: #000080; text-decoration-color: #000080\">BLUE</span>,<span style=\"color: #808000; text-decoration-color: #808000\">ORANGE</span> │   198 │       10 │      3 │       2 │         2 │ <span style=\"color: #c0c0c0; text-decoration-color: #c0c0c0\">WHITE</span>   \n",
       "   6 │ <span style=\"color: #000080; text-decoration-color: #000080\">BLUE</span>,<span style=\"color: #800000; text-decoration-color: #800000\">RED</span>,<span style=\"color: #c0c0c0; text-decoration-color: #c0c0c0\">WHITE</span>,<span style=\"color: #808000; text-decoration-color: #808000\">ORANGE</span> │   357 │        5 │      2 │       5 │        10 │ <span style=\"color: #808000; text-decoration-color: #808000\">ORANGE</span>  \n",
       "   7 │ <span style=\"color: #000080; text-decoration-color: #000080\">BLUE</span>,<span style=\"color: #808000; text-decoration-color: #808000\">ORANGE</span>,<span style=\"color: #800000; text-decoration-color: #800000\">RED</span>,<span style=\"color: #c0c0c0; text-decoration-color: #c0c0c0\">WHITE</span> │   339 │        9 │      2 │       6 │        10 │ <span style=\"color: #808000; text-decoration-color: #808000\">ORANGE</span>  \n",
       "   8 │ <span style=\"color: #c0c0c0; text-decoration-color: #c0c0c0\">WHITE</span>,<span style=\"color: #800000; text-decoration-color: #800000\">RED</span>,<span style=\"color: #000080; text-decoration-color: #000080\">BLUE</span>,<span style=\"color: #808000; text-decoration-color: #808000\">ORANGE</span> │   232 │        3 │      2 │      11 │         6 │ <span style=\"color: #000080; text-decoration-color: #000080\">BLUE</span>    \n",
       "   9 │ <span style=\"color: #000080; text-decoration-color: #000080\">BLUE</span>,<span style=\"color: #800000; text-decoration-color: #800000\">RED</span>,<span style=\"color: #c0c0c0; text-decoration-color: #c0c0c0\">WHITE</span>,<span style=\"color: #808000; text-decoration-color: #808000\">ORANGE</span> │   168 │       10 │      2 │       6 │         3 │ <span style=\"color: #c0c0c0; text-decoration-color: #c0c0c0\">WHITE</span>   \n",
       "  10 │ <span style=\"color: #800000; text-decoration-color: #800000\">RED</span>,<span style=\"color: #000080; text-decoration-color: #000080\">BLUE</span>,<span style=\"color: #808000; text-decoration-color: #808000\">ORANGE</span>,<span style=\"color: #c0c0c0; text-decoration-color: #c0c0c0\">WHITE</span> │   251 │        3 │      2 │      10 │         5 │ <span style=\"color: #000080; text-decoration-color: #000080\">BLUE</span>    \n",
       "     ╵                       ╵       ╵          ╵        ╵         ╵           ╵         \n",
       "</pre>\n"
      ],
      "text/plain": [
       "\u001b[3m                                      Last 10 Games                                      \u001b[0m\n",
       "     ╷                       ╷       ╷          ╷        ╷         ╷           ╷         \n",
       " \u001b[1m \u001b[0m\u001b[1m #\u001b[0m\u001b[1m \u001b[0m│\u001b[1m \u001b[0m\u001b[1mSEATING              \u001b[0m\u001b[1m \u001b[0m│\u001b[1m \u001b[0m\u001b[1mTURNS\u001b[0m\u001b[1m \u001b[0m│\u001b[1m \u001b[0m\u001b[1mWHITE VP\u001b[0m\u001b[1m \u001b[0m│\u001b[1m \u001b[0m\u001b[1mRED VP\u001b[0m\u001b[1m \u001b[0m│\u001b[1m \u001b[0m\u001b[1mBLUE VP\u001b[0m\u001b[1m \u001b[0m│\u001b[1m \u001b[0m\u001b[1mORANGE VP\u001b[0m\u001b[1m \u001b[0m│\u001b[1m \u001b[0m\u001b[1mWINNER\u001b[0m\u001b[1m \u001b[0m \n",
       "╶────┼───────────────────────┼───────┼──────────┼────────┼─────────┼───────────┼────────╴\n",
       "   1 │ \u001b[34mBLUE\u001b[0m,\u001b[37mWHITE\u001b[0m,\u001b[33mORANGE\u001b[0m,\u001b[31mRED\u001b[0m │   246 │        4 │      7 │      10 │         2 │ \u001b[34mBLUE\u001b[0m    \n",
       "   2 │ \u001b[31mRED\u001b[0m,\u001b[34mBLUE\u001b[0m,\u001b[33mORANGE\u001b[0m,\u001b[37mWHITE\u001b[0m │   100 │        2 │      2 │       2 │        10 │ \u001b[33mORANGE\u001b[0m  \n",
       "   3 │ \u001b[37mWHITE\u001b[0m,\u001b[31mRED\u001b[0m,\u001b[34mBLUE\u001b[0m,\u001b[33mORANGE\u001b[0m │    89 │        2 │      3 │       2 │        10 │ \u001b[33mORANGE\u001b[0m  \n",
       "   4 │ \u001b[34mBLUE\u001b[0m,\u001b[33mORANGE\u001b[0m,\u001b[37mWHITE\u001b[0m,\u001b[31mRED\u001b[0m │   286 │        5 │      4 │      10 │         3 │ \u001b[34mBLUE\u001b[0m    \n",
       "   5 │ \u001b[37mWHITE\u001b[0m,\u001b[31mRED\u001b[0m,\u001b[34mBLUE\u001b[0m,\u001b[33mORANGE\u001b[0m │   198 │       10 │      3 │       2 │         2 │ \u001b[37mWHITE\u001b[0m   \n",
       "   6 │ \u001b[34mBLUE\u001b[0m,\u001b[31mRED\u001b[0m,\u001b[37mWHITE\u001b[0m,\u001b[33mORANGE\u001b[0m │   357 │        5 │      2 │       5 │        10 │ \u001b[33mORANGE\u001b[0m  \n",
       "   7 │ \u001b[34mBLUE\u001b[0m,\u001b[33mORANGE\u001b[0m,\u001b[31mRED\u001b[0m,\u001b[37mWHITE\u001b[0m │   339 │        9 │      2 │       6 │        10 │ \u001b[33mORANGE\u001b[0m  \n",
       "   8 │ \u001b[37mWHITE\u001b[0m,\u001b[31mRED\u001b[0m,\u001b[34mBLUE\u001b[0m,\u001b[33mORANGE\u001b[0m │   232 │        3 │      2 │      11 │         6 │ \u001b[34mBLUE\u001b[0m    \n",
       "   9 │ \u001b[34mBLUE\u001b[0m,\u001b[31mRED\u001b[0m,\u001b[37mWHITE\u001b[0m,\u001b[33mORANGE\u001b[0m │   168 │       10 │      2 │       6 │         3 │ \u001b[37mWHITE\u001b[0m   \n",
       "  10 │ \u001b[31mRED\u001b[0m,\u001b[34mBLUE\u001b[0m,\u001b[33mORANGE\u001b[0m,\u001b[37mWHITE\u001b[0m │   251 │        3 │      2 │      10 │         5 │ \u001b[34mBLUE\u001b[0m    \n",
       "     ╵                       ╵       ╵          ╵        ╵         ╵           ╵         \n"
      ]
     },
     "metadata": {},
     "output_type": "display_data"
    },
    {
     "data": {
      "text/html": [
       "<pre style=\"white-space:pre;overflow-x:auto;line-height:normal;font-family:Menlo,'DejaVu Sans Mono',consolas,'Courier New',monospace\"><span style=\"font-style: italic\">                                               Player Summary                                                </span>\n",
       "                              ╷      ╷        ╷             ╷            ╷          ╷          ╷             \n",
       " <span style=\"font-weight: bold\">                             </span>│<span style=\"font-weight: bold\"> WINS </span>│<span style=\"font-weight: bold\"> AVG VP </span>│<span style=\"font-weight: bold\"> AVG SETTLES </span>│<span style=\"font-weight: bold\"> AVG CITIES </span>│<span style=\"font-weight: bold\"> AVG ROAD </span>│<span style=\"font-weight: bold\"> AVG ARMY </span>│<span style=\"font-weight: bold\"> AVG DEV VP </span> \n",
       "╶─────────────────────────────┼──────┼────────┼─────────────┼────────────┼──────────┼──────────┼────────────╴\n",
       "  <span style=\"color: #c0c0c0; text-decoration-color: #c0c0c0\">RandomPlayer:WHITE</span>          │    2 │   5.30 │        2.40 │       0.40 │     0.20 │     0.20 │       1.30  \n",
       "  <span style=\"color: #800000; text-decoration-color: #800000\">AB_DQNPlayer_1:RED</span>          │    0 │   2.90 │        2.40 │       0.20 │     0.00 │     0.00 │       0.10  \n",
       "  <span style=\"color: #000080; text-decoration-color: #000080\">WeightedRandomPlayer:BLUE</span>   │    4 │   6.40 │        2.80 │       0.80 │     0.40 │     0.30 │       0.60  \n",
       "  <span style=\"color: #808000; text-decoration-color: #808000\">WeightedRandomPlayer:ORANGE</span> │    4 │   6.10 │        2.90 │       0.30 │     0.40 │     0.20 │       1.40  \n",
       "                              ╵      ╵        ╵             ╵            ╵          ╵          ╵             \n",
       "</pre>\n"
      ],
      "text/plain": [
       "\u001b[3m                                               Player Summary                                                \u001b[0m\n",
       "                              ╷      ╷        ╷             ╷            ╷          ╷          ╷             \n",
       " \u001b[1m \u001b[0m\u001b[1m                           \u001b[0m\u001b[1m \u001b[0m│\u001b[1m \u001b[0m\u001b[1mWINS\u001b[0m\u001b[1m \u001b[0m│\u001b[1m \u001b[0m\u001b[1mAVG VP\u001b[0m\u001b[1m \u001b[0m│\u001b[1m \u001b[0m\u001b[1mAVG SETTLES\u001b[0m\u001b[1m \u001b[0m│\u001b[1m \u001b[0m\u001b[1mAVG CITIES\u001b[0m\u001b[1m \u001b[0m│\u001b[1m \u001b[0m\u001b[1mAVG ROAD\u001b[0m\u001b[1m \u001b[0m│\u001b[1m \u001b[0m\u001b[1mAVG ARMY\u001b[0m\u001b[1m \u001b[0m│\u001b[1m \u001b[0m\u001b[1mAVG DEV VP\u001b[0m\u001b[1m \u001b[0m \n",
       "╶─────────────────────────────┼──────┼────────┼─────────────┼────────────┼──────────┼──────────┼────────────╴\n",
       "  \u001b[37mRandomPlayer:WHITE\u001b[0m          │    2 │   5.30 │        2.40 │       0.40 │     0.20 │     0.20 │       1.30  \n",
       "  \u001b[31mAB_DQNPlayer_1:RED\u001b[0m          │    0 │   2.90 │        2.40 │       0.20 │     0.00 │     0.00 │       0.10  \n",
       "  \u001b[34mWeightedRandomPlayer:BLUE\u001b[0m   │    4 │   6.40 │        2.80 │       0.80 │     0.40 │     0.30 │       0.60  \n",
       "  \u001b[33mWeightedRandomPlayer:ORANGE\u001b[0m │    4 │   6.10 │        2.90 │       0.30 │     0.40 │     0.20 │       1.40  \n",
       "                              ╵      ╵        ╵             ╵            ╵          ╵          ╵             \n"
      ]
     },
     "metadata": {},
     "output_type": "display_data"
    },
    {
     "data": {
      "text/html": [
       "<pre style=\"white-space:pre;overflow-x:auto;line-height:normal;font-family:Menlo,'DejaVu Sans Mono',consolas,'Courier New',monospace\"><span style=\"font-style: italic\">              Game Summary              </span>\n",
       "            ╷           ╷               \n",
       " <span style=\"font-weight: bold\"> AVG TICKS </span>│<span style=\"font-weight: bold\"> AVG TURNS </span>│<span style=\"font-weight: bold\"> AVG DURATION </span> \n",
       "╶───────────┼───────────┼──────────────╴\n",
       "     653.10 │    226.60 │  14.576 secs  \n",
       "            ╵           ╵               \n",
       "</pre>\n"
      ],
      "text/plain": [
       "\u001b[3m              Game Summary              \u001b[0m\n",
       "            ╷           ╷               \n",
       " \u001b[1m \u001b[0m\u001b[1mAVG TICKS\u001b[0m\u001b[1m \u001b[0m│\u001b[1m \u001b[0m\u001b[1mAVG TURNS\u001b[0m\u001b[1m \u001b[0m│\u001b[1m \u001b[0m\u001b[1mAVG DURATION\u001b[0m\u001b[1m \u001b[0m \n",
       "╶───────────┼───────────┼──────────────╴\n",
       "     653.10 │    226.60 │  14.576 secs  \n",
       "            ╵           ╵               \n"
      ]
     },
     "metadata": {},
     "output_type": "display_data"
    },
    {
     "name": "stdout",
     "output_type": "stream",
     "text": [
      "Loaded replay buffer with 1262 transitions\n",
      "atch 33/50: Playing 10 games\n"
     ]
    },
    {
     "data": {
      "text/html": [
       "<pre style=\"white-space:pre;overflow-x:auto;line-height:normal;font-family:Menlo,'DejaVu Sans Mono',consolas,'Courier New',monospace\">Cleared replay buffer to refresh training examples.\n",
       "</pre>\n"
      ],
      "text/plain": [
       "Cleared replay buffer to refresh training examples.\n"
      ]
     },
     "metadata": {},
     "output_type": "display_data"
    },
    {
     "data": {
      "text/html": [
       "<pre style=\"white-space:pre;overflow-x:auto;line-height:normal;font-family:Menlo,'DejaVu Sans Mono',consolas,'Courier New',monospace\">Reward variance in batch: 0.0000\n",
       "</pre>\n"
      ],
      "text/plain": [
       "Reward variance in batch: 0.0000\n"
      ]
     },
     "metadata": {},
     "output_type": "display_data"
    },
    {
     "data": {
      "text/html": [
       "<pre style=\"white-space:pre;overflow-x:auto;line-height:normal;font-family:Menlo,'DejaVu Sans Mono',consolas,'Courier New',monospace\">Trained DQN model with loss: 102.4137\n",
       "</pre>\n"
      ],
      "text/plain": [
       "Trained DQN model with loss: 102.4137\n"
      ]
     },
     "metadata": {},
     "output_type": "display_data"
    },
    {
     "data": {
      "text/html": [
       "<pre style=\"white-space:pre;overflow-x:auto;line-height:normal;font-family:Menlo,'DejaVu Sans Mono',consolas,'Courier New',monospace\">Avg pred: -0.1416, Avg target: 9.9771\n",
       "</pre>\n"
      ],
      "text/plain": [
       "Avg pred: -0.1416, Avg target: 9.9771\n"
      ]
     },
     "metadata": {},
     "output_type": "display_data"
    },
    {
     "data": {
      "text/html": [
       "<pre style=\"white-space:pre;overflow-x:auto;line-height:normal;font-family:Menlo,'DejaVu Sans Mono',consolas,'Courier New',monospace\">Cleared replay buffer to refresh training examples.\n",
       "</pre>\n"
      ],
      "text/plain": [
       "Cleared replay buffer to refresh training examples.\n"
      ]
     },
     "metadata": {},
     "output_type": "display_data"
    },
    {
     "data": {
      "text/html": [
       "<pre style=\"white-space:pre;overflow-x:auto;line-height:normal;font-family:Menlo,'DejaVu Sans Mono',consolas,'Courier New',monospace\">Reward variance in batch: 0.0000\n",
       "</pre>\n"
      ],
      "text/plain": [
       "Reward variance in batch: 0.0000\n"
      ]
     },
     "metadata": {},
     "output_type": "display_data"
    },
    {
     "data": {
      "text/html": [
       "<pre style=\"white-space:pre;overflow-x:auto;line-height:normal;font-family:Menlo,'DejaVu Sans Mono',consolas,'Courier New',monospace\">Trained DQN model with loss: 102.0484\n",
       "</pre>\n"
      ],
      "text/plain": [
       "Trained DQN model with loss: 102.0484\n"
      ]
     },
     "metadata": {},
     "output_type": "display_data"
    },
    {
     "data": {
      "text/html": [
       "<pre style=\"white-space:pre;overflow-x:auto;line-height:normal;font-family:Menlo,'DejaVu Sans Mono',consolas,'Courier New',monospace\">Avg pred: -0.1290, Avg target: 9.9704\n",
       "</pre>\n"
      ],
      "text/plain": [
       "Avg pred: -0.1290, Avg target: 9.9704\n"
      ]
     },
     "metadata": {},
     "output_type": "display_data"
    },
    {
     "data": {
      "text/html": [
       "<pre style=\"white-space:pre;overflow-x:auto;line-height:normal;font-family:Menlo,'DejaVu Sans Mono',consolas,'Courier New',monospace\"></pre>\n"
      ],
      "text/plain": []
     },
     "metadata": {},
     "output_type": "display_data"
    },
    {
     "data": {
      "text/html": [
       "<pre style=\"white-space:pre;overflow-x:auto;line-height:normal;font-family:Menlo,'DejaVu Sans Mono',consolas,'Courier New',monospace\">\n",
       "</pre>\n"
      ],
      "text/plain": [
       "\n"
      ]
     },
     "metadata": {},
     "output_type": "display_data"
    },
    {
     "data": {
      "text/html": [
       "<pre style=\"white-space:pre;overflow-x:auto;line-height:normal;font-family:Menlo,'DejaVu Sans Mono',consolas,'Courier New',monospace\"><span style=\"font-style: italic\">                                      Last 10 Games                                      </span>\n",
       "     ╷                       ╷       ╷         ╷        ╷           ╷          ╷         \n",
       " <span style=\"font-weight: bold\">  # </span>│<span style=\"font-weight: bold\"> SEATING               </span>│<span style=\"font-weight: bold\"> TURNS </span>│<span style=\"font-weight: bold\"> BLUE VP </span>│<span style=\"font-weight: bold\"> RED VP </span>│<span style=\"font-weight: bold\"> ORANGE VP </span>│<span style=\"font-weight: bold\"> WHITE VP </span>│<span style=\"font-weight: bold\"> WINNER </span> \n",
       "╶────┼───────────────────────┼───────┼─────────┼────────┼───────────┼──────────┼────────╴\n",
       "   1 │ <span style=\"color: #808000; text-decoration-color: #808000\">ORANGE</span>,<span style=\"color: #000080; text-decoration-color: #000080\">BLUE</span>,<span style=\"color: #c0c0c0; text-decoration-color: #c0c0c0\">WHITE</span>,<span style=\"color: #800000; text-decoration-color: #800000\">RED</span> │   320 │       5 │      4 │         3 │       10 │ <span style=\"color: #c0c0c0; text-decoration-color: #c0c0c0\">WHITE</span>   \n",
       "   2 │ <span style=\"color: #000080; text-decoration-color: #000080\">BLUE</span>,<span style=\"color: #808000; text-decoration-color: #808000\">ORANGE</span>,<span style=\"color: #800000; text-decoration-color: #800000\">RED</span>,<span style=\"color: #c0c0c0; text-decoration-color: #c0c0c0\">WHITE</span> │   283 │       5 │      2 │        10 │        5 │ <span style=\"color: #808000; text-decoration-color: #808000\">ORANGE</span>  \n",
       "   3 │ <span style=\"color: #800000; text-decoration-color: #800000\">RED</span>,<span style=\"color: #c0c0c0; text-decoration-color: #c0c0c0\">WHITE</span>,<span style=\"color: #808000; text-decoration-color: #808000\">ORANGE</span>,<span style=\"color: #000080; text-decoration-color: #000080\">BLUE</span> │   357 │      10 │      4 │         3 │        2 │ <span style=\"color: #000080; text-decoration-color: #000080\">BLUE</span>    \n",
       "   4 │ <span style=\"color: #000080; text-decoration-color: #000080\">BLUE</span>,<span style=\"color: #808000; text-decoration-color: #808000\">ORANGE</span>,<span style=\"color: #800000; text-decoration-color: #800000\">RED</span>,<span style=\"color: #c0c0c0; text-decoration-color: #c0c0c0\">WHITE</span> │   371 │       5 │      2 │        10 │        7 │ <span style=\"color: #808000; text-decoration-color: #808000\">ORANGE</span>  \n",
       "   5 │ <span style=\"color: #808000; text-decoration-color: #808000\">ORANGE</span>,<span style=\"color: #000080; text-decoration-color: #000080\">BLUE</span>,<span style=\"color: #800000; text-decoration-color: #800000\">RED</span>,<span style=\"color: #c0c0c0; text-decoration-color: #c0c0c0\">WHITE</span> │   325 │       7 │      2 │         5 │       10 │ <span style=\"color: #c0c0c0; text-decoration-color: #c0c0c0\">WHITE</span>   \n",
       "   6 │ <span style=\"color: #000080; text-decoration-color: #000080\">BLUE</span>,<span style=\"color: #800000; text-decoration-color: #800000\">RED</span>,<span style=\"color: #808000; text-decoration-color: #808000\">ORANGE</span>,<span style=\"color: #c0c0c0; text-decoration-color: #c0c0c0\">WHITE</span> │   252 │       2 │      2 │        10 │        3 │ <span style=\"color: #808000; text-decoration-color: #808000\">ORANGE</span>  \n",
       "   7 │ <span style=\"color: #c0c0c0; text-decoration-color: #c0c0c0\">WHITE</span>,<span style=\"color: #800000; text-decoration-color: #800000\">RED</span>,<span style=\"color: #808000; text-decoration-color: #808000\">ORANGE</span>,<span style=\"color: #000080; text-decoration-color: #000080\">BLUE</span> │   453 │      10 │      6 │         2 │        4 │ <span style=\"color: #000080; text-decoration-color: #000080\">BLUE</span>    \n",
       "   8 │ <span style=\"color: #c0c0c0; text-decoration-color: #c0c0c0\">WHITE</span>,<span style=\"color: #808000; text-decoration-color: #808000\">ORANGE</span>,<span style=\"color: #000080; text-decoration-color: #000080\">BLUE</span>,<span style=\"color: #800000; text-decoration-color: #800000\">RED</span> │   295 │       2 │      2 │        10 │        7 │ <span style=\"color: #808000; text-decoration-color: #808000\">ORANGE</span>  \n",
       "   9 │ <span style=\"color: #808000; text-decoration-color: #808000\">ORANGE</span>,<span style=\"color: #c0c0c0; text-decoration-color: #c0c0c0\">WHITE</span>,<span style=\"color: #000080; text-decoration-color: #000080\">BLUE</span>,<span style=\"color: #800000; text-decoration-color: #800000\">RED</span> │   120 │      10 │      2 │         3 │        2 │ <span style=\"color: #000080; text-decoration-color: #000080\">BLUE</span>    \n",
       "  10 │ <span style=\"color: #800000; text-decoration-color: #800000\">RED</span>,<span style=\"color: #808000; text-decoration-color: #808000\">ORANGE</span>,<span style=\"color: #c0c0c0; text-decoration-color: #c0c0c0\">WHITE</span>,<span style=\"color: #000080; text-decoration-color: #000080\">BLUE</span> │   403 │       3 │      2 │        10 │        5 │ <span style=\"color: #808000; text-decoration-color: #808000\">ORANGE</span>  \n",
       "     ╵                       ╵       ╵         ╵        ╵           ╵          ╵         \n",
       "</pre>\n"
      ],
      "text/plain": [
       "\u001b[3m                                      Last 10 Games                                      \u001b[0m\n",
       "     ╷                       ╷       ╷         ╷        ╷           ╷          ╷         \n",
       " \u001b[1m \u001b[0m\u001b[1m #\u001b[0m\u001b[1m \u001b[0m│\u001b[1m \u001b[0m\u001b[1mSEATING              \u001b[0m\u001b[1m \u001b[0m│\u001b[1m \u001b[0m\u001b[1mTURNS\u001b[0m\u001b[1m \u001b[0m│\u001b[1m \u001b[0m\u001b[1mBLUE VP\u001b[0m\u001b[1m \u001b[0m│\u001b[1m \u001b[0m\u001b[1mRED VP\u001b[0m\u001b[1m \u001b[0m│\u001b[1m \u001b[0m\u001b[1mORANGE VP\u001b[0m\u001b[1m \u001b[0m│\u001b[1m \u001b[0m\u001b[1mWHITE VP\u001b[0m\u001b[1m \u001b[0m│\u001b[1m \u001b[0m\u001b[1mWINNER\u001b[0m\u001b[1m \u001b[0m \n",
       "╶────┼───────────────────────┼───────┼─────────┼────────┼───────────┼──────────┼────────╴\n",
       "   1 │ \u001b[33mORANGE\u001b[0m,\u001b[34mBLUE\u001b[0m,\u001b[37mWHITE\u001b[0m,\u001b[31mRED\u001b[0m │   320 │       5 │      4 │         3 │       10 │ \u001b[37mWHITE\u001b[0m   \n",
       "   2 │ \u001b[34mBLUE\u001b[0m,\u001b[33mORANGE\u001b[0m,\u001b[31mRED\u001b[0m,\u001b[37mWHITE\u001b[0m │   283 │       5 │      2 │        10 │        5 │ \u001b[33mORANGE\u001b[0m  \n",
       "   3 │ \u001b[31mRED\u001b[0m,\u001b[37mWHITE\u001b[0m,\u001b[33mORANGE\u001b[0m,\u001b[34mBLUE\u001b[0m │   357 │      10 │      4 │         3 │        2 │ \u001b[34mBLUE\u001b[0m    \n",
       "   4 │ \u001b[34mBLUE\u001b[0m,\u001b[33mORANGE\u001b[0m,\u001b[31mRED\u001b[0m,\u001b[37mWHITE\u001b[0m │   371 │       5 │      2 │        10 │        7 │ \u001b[33mORANGE\u001b[0m  \n",
       "   5 │ \u001b[33mORANGE\u001b[0m,\u001b[34mBLUE\u001b[0m,\u001b[31mRED\u001b[0m,\u001b[37mWHITE\u001b[0m │   325 │       7 │      2 │         5 │       10 │ \u001b[37mWHITE\u001b[0m   \n",
       "   6 │ \u001b[34mBLUE\u001b[0m,\u001b[31mRED\u001b[0m,\u001b[33mORANGE\u001b[0m,\u001b[37mWHITE\u001b[0m │   252 │       2 │      2 │        10 │        3 │ \u001b[33mORANGE\u001b[0m  \n",
       "   7 │ \u001b[37mWHITE\u001b[0m,\u001b[31mRED\u001b[0m,\u001b[33mORANGE\u001b[0m,\u001b[34mBLUE\u001b[0m │   453 │      10 │      6 │         2 │        4 │ \u001b[34mBLUE\u001b[0m    \n",
       "   8 │ \u001b[37mWHITE\u001b[0m,\u001b[33mORANGE\u001b[0m,\u001b[34mBLUE\u001b[0m,\u001b[31mRED\u001b[0m │   295 │       2 │      2 │        10 │        7 │ \u001b[33mORANGE\u001b[0m  \n",
       "   9 │ \u001b[33mORANGE\u001b[0m,\u001b[37mWHITE\u001b[0m,\u001b[34mBLUE\u001b[0m,\u001b[31mRED\u001b[0m │   120 │      10 │      2 │         3 │        2 │ \u001b[34mBLUE\u001b[0m    \n",
       "  10 │ \u001b[31mRED\u001b[0m,\u001b[33mORANGE\u001b[0m,\u001b[37mWHITE\u001b[0m,\u001b[34mBLUE\u001b[0m │   403 │       3 │      2 │        10 │        5 │ \u001b[33mORANGE\u001b[0m  \n",
       "     ╵                       ╵       ╵         ╵        ╵           ╵          ╵         \n"
      ]
     },
     "metadata": {},
     "output_type": "display_data"
    },
    {
     "data": {
      "text/html": [
       "<pre style=\"white-space:pre;overflow-x:auto;line-height:normal;font-family:Menlo,'DejaVu Sans Mono',consolas,'Courier New',monospace\"><span style=\"font-style: italic\">                                           Player Summary                                            </span>\n",
       "                      ╷      ╷        ╷             ╷            ╷          ╷          ╷             \n",
       " <span style=\"font-weight: bold\">                     </span>│<span style=\"font-weight: bold\"> WINS </span>│<span style=\"font-weight: bold\"> AVG VP </span>│<span style=\"font-weight: bold\"> AVG SETTLES </span>│<span style=\"font-weight: bold\"> AVG CITIES </span>│<span style=\"font-weight: bold\"> AVG ROAD </span>│<span style=\"font-weight: bold\"> AVG ARMY </span>│<span style=\"font-weight: bold\"> AVG DEV VP </span> \n",
       "╶─────────────────────┼──────┼────────┼─────────────┼────────────┼──────────┼──────────┼────────────╴\n",
       "  <span style=\"color: #000080; text-decoration-color: #000080\">RandomPlayer:BLUE</span>   │    3 │   5.90 │        1.60 │       0.90 │     0.30 │     0.30 │       1.30  \n",
       "  <span style=\"color: #800000; text-decoration-color: #800000\">AB_DQNPlayer_1:RED</span>  │    0 │   2.80 │        1.90 │       0.20 │     0.10 │     0.00 │       0.30  \n",
       "  <span style=\"color: #808000; text-decoration-color: #808000\">RandomPlayer:ORANGE</span> │    5 │   6.60 │        2.60 │       0.70 │     0.30 │     0.20 │       1.60  \n",
       "  <span style=\"color: #c0c0c0; text-decoration-color: #c0c0c0\">RandomPlayer:WHITE</span>  │    2 │   5.50 │        2.40 │       0.50 │     0.30 │     0.40 │       0.70  \n",
       "                      ╵      ╵        ╵             ╵            ╵          ╵          ╵             \n",
       "</pre>\n"
      ],
      "text/plain": [
       "\u001b[3m                                           Player Summary                                            \u001b[0m\n",
       "                      ╷      ╷        ╷             ╷            ╷          ╷          ╷             \n",
       " \u001b[1m \u001b[0m\u001b[1m                   \u001b[0m\u001b[1m \u001b[0m│\u001b[1m \u001b[0m\u001b[1mWINS\u001b[0m\u001b[1m \u001b[0m│\u001b[1m \u001b[0m\u001b[1mAVG VP\u001b[0m\u001b[1m \u001b[0m│\u001b[1m \u001b[0m\u001b[1mAVG SETTLES\u001b[0m\u001b[1m \u001b[0m│\u001b[1m \u001b[0m\u001b[1mAVG CITIES\u001b[0m\u001b[1m \u001b[0m│\u001b[1m \u001b[0m\u001b[1mAVG ROAD\u001b[0m\u001b[1m \u001b[0m│\u001b[1m \u001b[0m\u001b[1mAVG ARMY\u001b[0m\u001b[1m \u001b[0m│\u001b[1m \u001b[0m\u001b[1mAVG DEV VP\u001b[0m\u001b[1m \u001b[0m \n",
       "╶─────────────────────┼──────┼────────┼─────────────┼────────────┼──────────┼──────────┼────────────╴\n",
       "  \u001b[34mRandomPlayer:BLUE\u001b[0m   │    3 │   5.90 │        1.60 │       0.90 │     0.30 │     0.30 │       1.30  \n",
       "  \u001b[31mAB_DQNPlayer_1:RED\u001b[0m  │    0 │   2.80 │        1.90 │       0.20 │     0.10 │     0.00 │       0.30  \n",
       "  \u001b[33mRandomPlayer:ORANGE\u001b[0m │    5 │   6.60 │        2.60 │       0.70 │     0.30 │     0.20 │       1.60  \n",
       "  \u001b[37mRandomPlayer:WHITE\u001b[0m  │    2 │   5.50 │        2.40 │       0.50 │     0.30 │     0.40 │       0.70  \n",
       "                      ╵      ╵        ╵             ╵            ╵          ╵          ╵             \n"
      ]
     },
     "metadata": {},
     "output_type": "display_data"
    },
    {
     "data": {
      "text/html": [
       "<pre style=\"white-space:pre;overflow-x:auto;line-height:normal;font-family:Menlo,'DejaVu Sans Mono',consolas,'Courier New',monospace\"><span style=\"font-style: italic\">              Game Summary              </span>\n",
       "            ╷           ╷               \n",
       " <span style=\"font-weight: bold\"> AVG TICKS </span>│<span style=\"font-weight: bold\"> AVG TURNS </span>│<span style=\"font-weight: bold\"> AVG DURATION </span> \n",
       "╶───────────┼───────────┼──────────────╴\n",
       "     892.90 │    317.90 │  17.209 secs  \n",
       "            ╵           ╵               \n",
       "</pre>\n"
      ],
      "text/plain": [
       "\u001b[3m              Game Summary              \u001b[0m\n",
       "            ╷           ╷               \n",
       " \u001b[1m \u001b[0m\u001b[1mAVG TICKS\u001b[0m\u001b[1m \u001b[0m│\u001b[1m \u001b[0m\u001b[1mAVG TURNS\u001b[0m\u001b[1m \u001b[0m│\u001b[1m \u001b[0m\u001b[1mAVG DURATION\u001b[0m\u001b[1m \u001b[0m \n",
       "╶───────────┼───────────┼──────────────╴\n",
       "     892.90 │    317.90 │  17.209 secs  \n",
       "            ╵           ╵               \n"
      ]
     },
     "metadata": {},
     "output_type": "display_data"
    },
    {
     "name": "stdout",
     "output_type": "stream",
     "text": [
      "Loaded replay buffer with 3270 transitions\n",
      "atch 34/50: Playing 10 games\n"
     ]
    },
    {
     "data": {
      "text/html": [
       "<pre style=\"white-space:pre;overflow-x:auto;line-height:normal;font-family:Menlo,'DejaVu Sans Mono',consolas,'Courier New',monospace\">Cleared replay buffer to refresh training examples.\n",
       "</pre>\n"
      ],
      "text/plain": [
       "Cleared replay buffer to refresh training examples.\n"
      ]
     },
     "metadata": {},
     "output_type": "display_data"
    },
    {
     "data": {
      "text/html": [
       "<pre style=\"white-space:pre;overflow-x:auto;line-height:normal;font-family:Menlo,'DejaVu Sans Mono',consolas,'Courier New',monospace\">Reward variance in batch: 0.0000\n",
       "</pre>\n"
      ],
      "text/plain": [
       "Reward variance in batch: 0.0000\n"
      ]
     },
     "metadata": {},
     "output_type": "display_data"
    },
    {
     "data": {
      "text/html": [
       "<pre style=\"white-space:pre;overflow-x:auto;line-height:normal;font-family:Menlo,'DejaVu Sans Mono',consolas,'Courier New',monospace\">Trained DQN model with loss: 101.0797\n",
       "</pre>\n"
      ],
      "text/plain": [
       "Trained DQN model with loss: 101.0797\n"
      ]
     },
     "metadata": {},
     "output_type": "display_data"
    },
    {
     "data": {
      "text/html": [
       "<pre style=\"white-space:pre;overflow-x:auto;line-height:normal;font-family:Menlo,'DejaVu Sans Mono',consolas,'Courier New',monospace\">Avg pred: -0.0765, Avg target: 9.9758\n",
       "</pre>\n"
      ],
      "text/plain": [
       "Avg pred: -0.0765, Avg target: 9.9758\n"
      ]
     },
     "metadata": {},
     "output_type": "display_data"
    },
    {
     "data": {
      "text/html": [
       "<pre style=\"white-space:pre;overflow-x:auto;line-height:normal;font-family:Menlo,'DejaVu Sans Mono',consolas,'Courier New',monospace\">Cleared replay buffer to refresh training examples.\n",
       "</pre>\n"
      ],
      "text/plain": [
       "Cleared replay buffer to refresh training examples.\n"
      ]
     },
     "metadata": {},
     "output_type": "display_data"
    },
    {
     "data": {
      "text/html": [
       "<pre style=\"white-space:pre;overflow-x:auto;line-height:normal;font-family:Menlo,'DejaVu Sans Mono',consolas,'Courier New',monospace\">Reward variance in batch: 0.0000\n",
       "</pre>\n"
      ],
      "text/plain": [
       "Reward variance in batch: 0.0000\n"
      ]
     },
     "metadata": {},
     "output_type": "display_data"
    },
    {
     "data": {
      "text/html": [
       "<pre style=\"white-space:pre;overflow-x:auto;line-height:normal;font-family:Menlo,'DejaVu Sans Mono',consolas,'Courier New',monospace\">Trained DQN model with loss: 102.7539\n",
       "</pre>\n"
      ],
      "text/plain": [
       "Trained DQN model with loss: 102.7539\n"
      ]
     },
     "metadata": {},
     "output_type": "display_data"
    },
    {
     "data": {
      "text/html": [
       "<pre style=\"white-space:pre;overflow-x:auto;line-height:normal;font-family:Menlo,'DejaVu Sans Mono',consolas,'Courier New',monospace\">Avg pred: -0.1478, Avg target: 9.9872\n",
       "</pre>\n"
      ],
      "text/plain": [
       "Avg pred: -0.1478, Avg target: 9.9872\n"
      ]
     },
     "metadata": {},
     "output_type": "display_data"
    },
    {
     "data": {
      "text/html": [
       "<pre style=\"white-space:pre;overflow-x:auto;line-height:normal;font-family:Menlo,'DejaVu Sans Mono',consolas,'Courier New',monospace\"></pre>\n"
      ],
      "text/plain": []
     },
     "metadata": {},
     "output_type": "display_data"
    },
    {
     "data": {
      "text/html": [
       "<pre style=\"white-space:pre;overflow-x:auto;line-height:normal;font-family:Menlo,'DejaVu Sans Mono',consolas,'Courier New',monospace\">\n",
       "</pre>\n"
      ],
      "text/plain": [
       "\n"
      ]
     },
     "metadata": {},
     "output_type": "display_data"
    },
    {
     "data": {
      "text/html": [
       "<pre style=\"white-space:pre;overflow-x:auto;line-height:normal;font-family:Menlo,'DejaVu Sans Mono',consolas,'Courier New',monospace\"><span style=\"font-style: italic\">                                      Last 10 Games                                      </span>\n",
       "     ╷                       ╷       ╷          ╷         ╷           ╷        ╷         \n",
       " <span style=\"font-weight: bold\">  # </span>│<span style=\"font-weight: bold\"> SEATING               </span>│<span style=\"font-weight: bold\"> TURNS </span>│<span style=\"font-weight: bold\"> WHITE VP </span>│<span style=\"font-weight: bold\"> BLUE VP </span>│<span style=\"font-weight: bold\"> ORANGE VP </span>│<span style=\"font-weight: bold\"> RED VP </span>│<span style=\"font-weight: bold\"> WINNER </span> \n",
       "╶────┼───────────────────────┼───────┼──────────┼─────────┼───────────┼────────┼────────╴\n",
       "   1 │ <span style=\"color: #c0c0c0; text-decoration-color: #c0c0c0\">WHITE</span>,<span style=\"color: #000080; text-decoration-color: #000080\">BLUE</span>,<span style=\"color: #800000; text-decoration-color: #800000\">RED</span>,<span style=\"color: #808000; text-decoration-color: #808000\">ORANGE</span> │   267 │        4 │      10 │         9 │      5 │ <span style=\"color: #000080; text-decoration-color: #000080\">BLUE</span>    \n",
       "   2 │ <span style=\"color: #808000; text-decoration-color: #808000\">ORANGE</span>,<span style=\"color: #800000; text-decoration-color: #800000\">RED</span>,<span style=\"color: #c0c0c0; text-decoration-color: #c0c0c0\">WHITE</span>,<span style=\"color: #000080; text-decoration-color: #000080\">BLUE</span> │   157 │        5 │      10 │         3 │      2 │ <span style=\"color: #000080; text-decoration-color: #000080\">BLUE</span>    \n",
       "   3 │ <span style=\"color: #c0c0c0; text-decoration-color: #c0c0c0\">WHITE</span>,<span style=\"color: #808000; text-decoration-color: #808000\">ORANGE</span>,<span style=\"color: #000080; text-decoration-color: #000080\">BLUE</span>,<span style=\"color: #800000; text-decoration-color: #800000\">RED</span> │   280 │        3 │      10 │         5 │      2 │ <span style=\"color: #000080; text-decoration-color: #000080\">BLUE</span>    \n",
       "   4 │ <span style=\"color: #808000; text-decoration-color: #808000\">ORANGE</span>,<span style=\"color: #800000; text-decoration-color: #800000\">RED</span>,<span style=\"color: #000080; text-decoration-color: #000080\">BLUE</span>,<span style=\"color: #c0c0c0; text-decoration-color: #c0c0c0\">WHITE</span> │   252 │        3 │      10 │         7 │      3 │ <span style=\"color: #000080; text-decoration-color: #000080\">BLUE</span>    \n",
       "   5 │ <span style=\"color: #800000; text-decoration-color: #800000\">RED</span>,<span style=\"color: #c0c0c0; text-decoration-color: #c0c0c0\">WHITE</span>,<span style=\"color: #808000; text-decoration-color: #808000\">ORANGE</span>,<span style=\"color: #000080; text-decoration-color: #000080\">BLUE</span> │   265 │        3 │      10 │         7 │      2 │ <span style=\"color: #000080; text-decoration-color: #000080\">BLUE</span>    \n",
       "   6 │ <span style=\"color: #c0c0c0; text-decoration-color: #c0c0c0\">WHITE</span>,<span style=\"color: #000080; text-decoration-color: #000080\">BLUE</span>,<span style=\"color: #800000; text-decoration-color: #800000\">RED</span>,<span style=\"color: #808000; text-decoration-color: #808000\">ORANGE</span> │   479 │        5 │      10 │         9 │      2 │ <span style=\"color: #000080; text-decoration-color: #000080\">BLUE</span>    \n",
       "   7 │ <span style=\"color: #000080; text-decoration-color: #000080\">BLUE</span>,<span style=\"color: #808000; text-decoration-color: #808000\">ORANGE</span>,<span style=\"color: #800000; text-decoration-color: #800000\">RED</span>,<span style=\"color: #c0c0c0; text-decoration-color: #c0c0c0\">WHITE</span> │   194 │        3 │      11 │         2 │      2 │ <span style=\"color: #000080; text-decoration-color: #000080\">BLUE</span>    \n",
       "   8 │ <span style=\"color: #808000; text-decoration-color: #808000\">ORANGE</span>,<span style=\"color: #c0c0c0; text-decoration-color: #c0c0c0\">WHITE</span>,<span style=\"color: #000080; text-decoration-color: #000080\">BLUE</span>,<span style=\"color: #800000; text-decoration-color: #800000\">RED</span> │   204 │        3 │      10 │         3 │      2 │ <span style=\"color: #000080; text-decoration-color: #000080\">BLUE</span>    \n",
       "   9 │ <span style=\"color: #c0c0c0; text-decoration-color: #c0c0c0\">WHITE</span>,<span style=\"color: #808000; text-decoration-color: #808000\">ORANGE</span>,<span style=\"color: #800000; text-decoration-color: #800000\">RED</span>,<span style=\"color: #000080; text-decoration-color: #000080\">BLUE</span> │   209 │        2 │      11 │         2 │      2 │ <span style=\"color: #000080; text-decoration-color: #000080\">BLUE</span>    \n",
       "  10 │ <span style=\"color: #000080; text-decoration-color: #000080\">BLUE</span>,<span style=\"color: #c0c0c0; text-decoration-color: #c0c0c0\">WHITE</span>,<span style=\"color: #808000; text-decoration-color: #808000\">ORANGE</span>,<span style=\"color: #800000; text-decoration-color: #800000\">RED</span> │   172 │        2 │       3 │        10 │      2 │ <span style=\"color: #808000; text-decoration-color: #808000\">ORANGE</span>  \n",
       "     ╵                       ╵       ╵          ╵         ╵           ╵        ╵         \n",
       "</pre>\n"
      ],
      "text/plain": [
       "\u001b[3m                                      Last 10 Games                                      \u001b[0m\n",
       "     ╷                       ╷       ╷          ╷         ╷           ╷        ╷         \n",
       " \u001b[1m \u001b[0m\u001b[1m #\u001b[0m\u001b[1m \u001b[0m│\u001b[1m \u001b[0m\u001b[1mSEATING              \u001b[0m\u001b[1m \u001b[0m│\u001b[1m \u001b[0m\u001b[1mTURNS\u001b[0m\u001b[1m \u001b[0m│\u001b[1m \u001b[0m\u001b[1mWHITE VP\u001b[0m\u001b[1m \u001b[0m│\u001b[1m \u001b[0m\u001b[1mBLUE VP\u001b[0m\u001b[1m \u001b[0m│\u001b[1m \u001b[0m\u001b[1mORANGE VP\u001b[0m\u001b[1m \u001b[0m│\u001b[1m \u001b[0m\u001b[1mRED VP\u001b[0m\u001b[1m \u001b[0m│\u001b[1m \u001b[0m\u001b[1mWINNER\u001b[0m\u001b[1m \u001b[0m \n",
       "╶────┼───────────────────────┼───────┼──────────┼─────────┼───────────┼────────┼────────╴\n",
       "   1 │ \u001b[37mWHITE\u001b[0m,\u001b[34mBLUE\u001b[0m,\u001b[31mRED\u001b[0m,\u001b[33mORANGE\u001b[0m │   267 │        4 │      10 │         9 │      5 │ \u001b[34mBLUE\u001b[0m    \n",
       "   2 │ \u001b[33mORANGE\u001b[0m,\u001b[31mRED\u001b[0m,\u001b[37mWHITE\u001b[0m,\u001b[34mBLUE\u001b[0m │   157 │        5 │      10 │         3 │      2 │ \u001b[34mBLUE\u001b[0m    \n",
       "   3 │ \u001b[37mWHITE\u001b[0m,\u001b[33mORANGE\u001b[0m,\u001b[34mBLUE\u001b[0m,\u001b[31mRED\u001b[0m │   280 │        3 │      10 │         5 │      2 │ \u001b[34mBLUE\u001b[0m    \n",
       "   4 │ \u001b[33mORANGE\u001b[0m,\u001b[31mRED\u001b[0m,\u001b[34mBLUE\u001b[0m,\u001b[37mWHITE\u001b[0m │   252 │        3 │      10 │         7 │      3 │ \u001b[34mBLUE\u001b[0m    \n",
       "   5 │ \u001b[31mRED\u001b[0m,\u001b[37mWHITE\u001b[0m,\u001b[33mORANGE\u001b[0m,\u001b[34mBLUE\u001b[0m │   265 │        3 │      10 │         7 │      2 │ \u001b[34mBLUE\u001b[0m    \n",
       "   6 │ \u001b[37mWHITE\u001b[0m,\u001b[34mBLUE\u001b[0m,\u001b[31mRED\u001b[0m,\u001b[33mORANGE\u001b[0m │   479 │        5 │      10 │         9 │      2 │ \u001b[34mBLUE\u001b[0m    \n",
       "   7 │ \u001b[34mBLUE\u001b[0m,\u001b[33mORANGE\u001b[0m,\u001b[31mRED\u001b[0m,\u001b[37mWHITE\u001b[0m │   194 │        3 │      11 │         2 │      2 │ \u001b[34mBLUE\u001b[0m    \n",
       "   8 │ \u001b[33mORANGE\u001b[0m,\u001b[37mWHITE\u001b[0m,\u001b[34mBLUE\u001b[0m,\u001b[31mRED\u001b[0m │   204 │        3 │      10 │         3 │      2 │ \u001b[34mBLUE\u001b[0m    \n",
       "   9 │ \u001b[37mWHITE\u001b[0m,\u001b[33mORANGE\u001b[0m,\u001b[31mRED\u001b[0m,\u001b[34mBLUE\u001b[0m │   209 │        2 │      11 │         2 │      2 │ \u001b[34mBLUE\u001b[0m    \n",
       "  10 │ \u001b[34mBLUE\u001b[0m,\u001b[37mWHITE\u001b[0m,\u001b[33mORANGE\u001b[0m,\u001b[31mRED\u001b[0m │   172 │        2 │       3 │        10 │      2 │ \u001b[33mORANGE\u001b[0m  \n",
       "     ╵                       ╵       ╵          ╵         ╵           ╵        ╵         \n"
      ]
     },
     "metadata": {},
     "output_type": "display_data"
    },
    {
     "data": {
      "text/html": [
       "<pre style=\"white-space:pre;overflow-x:auto;line-height:normal;font-family:Menlo,'DejaVu Sans Mono',consolas,'Courier New',monospace\"><span style=\"font-style: italic\">                                              Player Summary                                               </span>\n",
       "                            ╷      ╷        ╷             ╷            ╷          ╷          ╷             \n",
       " <span style=\"font-weight: bold\">                           </span>│<span style=\"font-weight: bold\"> WINS </span>│<span style=\"font-weight: bold\"> AVG VP </span>│<span style=\"font-weight: bold\"> AVG SETTLES </span>│<span style=\"font-weight: bold\"> AVG CITIES </span>│<span style=\"font-weight: bold\"> AVG ROAD </span>│<span style=\"font-weight: bold\"> AVG ARMY </span>│<span style=\"font-weight: bold\"> AVG DEV VP </span> \n",
       "╶───────────────────────────┼──────┼────────┼─────────────┼────────────┼──────────┼──────────┼────────────╴\n",
       "  <span style=\"color: #c0c0c0; text-decoration-color: #c0c0c0\">RandomPlayer:WHITE</span>        │    0 │   3.30 │        2.10 │       0.20 │     0.00 │     0.10 │       0.60  \n",
       "  <span style=\"color: #000080; text-decoration-color: #000080\">WeightedRandomPlayer:BLUE</span> │    9 │   9.50 │        2.60 │       1.60 │     0.70 │     0.40 │       1.50  \n",
       "  <span style=\"color: #808000; text-decoration-color: #808000\">RandomPlayer:ORANGE</span>       │    1 │   5.70 │        2.40 │       0.50 │     0.30 │     0.40 │       0.90  \n",
       "  <span style=\"color: #800000; text-decoration-color: #800000\">AB_DQNPlayer_1:RED</span>        │    0 │   2.40 │        1.80 │       0.20 │     0.00 │     0.10 │       0.00  \n",
       "                            ╵      ╵        ╵             ╵            ╵          ╵          ╵             \n",
       "</pre>\n"
      ],
      "text/plain": [
       "\u001b[3m                                              Player Summary                                               \u001b[0m\n",
       "                            ╷      ╷        ╷             ╷            ╷          ╷          ╷             \n",
       " \u001b[1m \u001b[0m\u001b[1m                         \u001b[0m\u001b[1m \u001b[0m│\u001b[1m \u001b[0m\u001b[1mWINS\u001b[0m\u001b[1m \u001b[0m│\u001b[1m \u001b[0m\u001b[1mAVG VP\u001b[0m\u001b[1m \u001b[0m│\u001b[1m \u001b[0m\u001b[1mAVG SETTLES\u001b[0m\u001b[1m \u001b[0m│\u001b[1m \u001b[0m\u001b[1mAVG CITIES\u001b[0m\u001b[1m \u001b[0m│\u001b[1m \u001b[0m\u001b[1mAVG ROAD\u001b[0m\u001b[1m \u001b[0m│\u001b[1m \u001b[0m\u001b[1mAVG ARMY\u001b[0m\u001b[1m \u001b[0m│\u001b[1m \u001b[0m\u001b[1mAVG DEV VP\u001b[0m\u001b[1m \u001b[0m \n",
       "╶───────────────────────────┼──────┼────────┼─────────────┼────────────┼──────────┼──────────┼────────────╴\n",
       "  \u001b[37mRandomPlayer:WHITE\u001b[0m        │    0 │   3.30 │        2.10 │       0.20 │     0.00 │     0.10 │       0.60  \n",
       "  \u001b[34mWeightedRandomPlayer:BLUE\u001b[0m │    9 │   9.50 │        2.60 │       1.60 │     0.70 │     0.40 │       1.50  \n",
       "  \u001b[33mRandomPlayer:ORANGE\u001b[0m       │    1 │   5.70 │        2.40 │       0.50 │     0.30 │     0.40 │       0.90  \n",
       "  \u001b[31mAB_DQNPlayer_1:RED\u001b[0m        │    0 │   2.40 │        1.80 │       0.20 │     0.00 │     0.10 │       0.00  \n",
       "                            ╵      ╵        ╵             ╵            ╵          ╵          ╵             \n"
      ]
     },
     "metadata": {},
     "output_type": "display_data"
    },
    {
     "data": {
      "text/html": [
       "<pre style=\"white-space:pre;overflow-x:auto;line-height:normal;font-family:Menlo,'DejaVu Sans Mono',consolas,'Courier New',monospace\"><span style=\"font-style: italic\">              Game Summary              </span>\n",
       "            ╷           ╷               \n",
       " <span style=\"font-weight: bold\"> AVG TICKS </span>│<span style=\"font-weight: bold\"> AVG TURNS </span>│<span style=\"font-weight: bold\"> AVG DURATION </span> \n",
       "╶───────────┼───────────┼──────────────╴\n",
       "     721.60 │    247.90 │  10.302 secs  \n",
       "            ╵           ╵               \n",
       "</pre>\n"
      ],
      "text/plain": [
       "\u001b[3m              Game Summary              \u001b[0m\n",
       "            ╷           ╷               \n",
       " \u001b[1m \u001b[0m\u001b[1mAVG TICKS\u001b[0m\u001b[1m \u001b[0m│\u001b[1m \u001b[0m\u001b[1mAVG TURNS\u001b[0m\u001b[1m \u001b[0m│\u001b[1m \u001b[0m\u001b[1mAVG DURATION\u001b[0m\u001b[1m \u001b[0m \n",
       "╶───────────┼───────────┼──────────────╴\n",
       "     721.60 │    247.90 │  10.302 secs  \n",
       "            ╵           ╵               \n"
      ]
     },
     "metadata": {},
     "output_type": "display_data"
    },
    {
     "name": "stdout",
     "output_type": "stream",
     "text": [
      "Loaded replay buffer with 1413 transitions\n",
      "atch 35/50: Playing 10 games\n"
     ]
    },
    {
     "data": {
      "text/html": [
       "<pre style=\"white-space:pre;overflow-x:auto;line-height:normal;font-family:Menlo,'DejaVu Sans Mono',consolas,'Courier New',monospace\">Cleared replay buffer to refresh training examples.\n",
       "</pre>\n"
      ],
      "text/plain": [
       "Cleared replay buffer to refresh training examples.\n"
      ]
     },
     "metadata": {},
     "output_type": "display_data"
    },
    {
     "data": {
      "text/html": [
       "<pre style=\"white-space:pre;overflow-x:auto;line-height:normal;font-family:Menlo,'DejaVu Sans Mono',consolas,'Courier New',monospace\">Reward variance in batch: 0.0000\n",
       "</pre>\n"
      ],
      "text/plain": [
       "Reward variance in batch: 0.0000\n"
      ]
     },
     "metadata": {},
     "output_type": "display_data"
    },
    {
     "data": {
      "text/html": [
       "<pre style=\"white-space:pre;overflow-x:auto;line-height:normal;font-family:Menlo,'DejaVu Sans Mono',consolas,'Courier New',monospace\">Trained DQN model with loss: 102.5826\n",
       "</pre>\n"
      ],
      "text/plain": [
       "Trained DQN model with loss: 102.5826\n"
      ]
     },
     "metadata": {},
     "output_type": "display_data"
    },
    {
     "data": {
      "text/html": [
       "<pre style=\"white-space:pre;overflow-x:auto;line-height:normal;font-family:Menlo,'DejaVu Sans Mono',consolas,'Courier New',monospace\">Avg pred: -0.1504, Avg target: 9.9761\n",
       "</pre>\n"
      ],
      "text/plain": [
       "Avg pred: -0.1504, Avg target: 9.9761\n"
      ]
     },
     "metadata": {},
     "output_type": "display_data"
    },
    {
     "data": {
      "text/html": [
       "<pre style=\"white-space:pre;overflow-x:auto;line-height:normal;font-family:Menlo,'DejaVu Sans Mono',consolas,'Courier New',monospace\">Cleared replay buffer to refresh training examples.\n",
       "</pre>\n"
      ],
      "text/plain": [
       "Cleared replay buffer to refresh training examples.\n"
      ]
     },
     "metadata": {},
     "output_type": "display_data"
    },
    {
     "data": {
      "text/html": [
       "<pre style=\"white-space:pre;overflow-x:auto;line-height:normal;font-family:Menlo,'DejaVu Sans Mono',consolas,'Courier New',monospace\">Reward variance in batch: 0.0000\n",
       "</pre>\n"
      ],
      "text/plain": [
       "Reward variance in batch: 0.0000\n"
      ]
     },
     "metadata": {},
     "output_type": "display_data"
    },
    {
     "data": {
      "text/html": [
       "<pre style=\"white-space:pre;overflow-x:auto;line-height:normal;font-family:Menlo,'DejaVu Sans Mono',consolas,'Courier New',monospace\">Trained DQN model with loss: 102.1049\n",
       "</pre>\n"
      ],
      "text/plain": [
       "Trained DQN model with loss: 102.1049\n"
      ]
     },
     "metadata": {},
     "output_type": "display_data"
    },
    {
     "data": {
      "text/html": [
       "<pre style=\"white-space:pre;overflow-x:auto;line-height:normal;font-family:Menlo,'DejaVu Sans Mono',consolas,'Courier New',monospace\">Avg pred: -0.1378, Avg target: 9.9641\n",
       "</pre>\n"
      ],
      "text/plain": [
       "Avg pred: -0.1378, Avg target: 9.9641\n"
      ]
     },
     "metadata": {},
     "output_type": "display_data"
    },
    {
     "data": {
      "text/html": [
       "<pre style=\"white-space:pre;overflow-x:auto;line-height:normal;font-family:Menlo,'DejaVu Sans Mono',consolas,'Courier New',monospace\"></pre>\n"
      ],
      "text/plain": []
     },
     "metadata": {},
     "output_type": "display_data"
    },
    {
     "data": {
      "text/html": [
       "<pre style=\"white-space:pre;overflow-x:auto;line-height:normal;font-family:Menlo,'DejaVu Sans Mono',consolas,'Courier New',monospace\">\n",
       "</pre>\n"
      ],
      "text/plain": [
       "\n"
      ]
     },
     "metadata": {},
     "output_type": "display_data"
    },
    {
     "data": {
      "text/html": [
       "<pre style=\"white-space:pre;overflow-x:auto;line-height:normal;font-family:Menlo,'DejaVu Sans Mono',consolas,'Courier New',monospace\"><span style=\"font-style: italic\">                                      Last 10 Games                                      </span>\n",
       "     ╷                       ╷       ╷           ╷         ╷          ╷        ╷         \n",
       " <span style=\"font-weight: bold\">  # </span>│<span style=\"font-weight: bold\"> SEATING               </span>│<span style=\"font-weight: bold\"> TURNS </span>│<span style=\"font-weight: bold\"> ORANGE VP </span>│<span style=\"font-weight: bold\"> BLUE VP </span>│<span style=\"font-weight: bold\"> WHITE VP </span>│<span style=\"font-weight: bold\"> RED VP </span>│<span style=\"font-weight: bold\"> WINNER </span> \n",
       "╶────┼───────────────────────┼───────┼───────────┼─────────┼──────────┼────────┼────────╴\n",
       "   1 │ <span style=\"color: #800000; text-decoration-color: #800000\">RED</span>,<span style=\"color: #000080; text-decoration-color: #000080\">BLUE</span>,<span style=\"color: #c0c0c0; text-decoration-color: #c0c0c0\">WHITE</span>,<span style=\"color: #808000; text-decoration-color: #808000\">ORANGE</span> │   312 │         7 │       5 │       10 │      2 │ <span style=\"color: #c0c0c0; text-decoration-color: #c0c0c0\">WHITE</span>   \n",
       "   2 │ <span style=\"color: #000080; text-decoration-color: #000080\">BLUE</span>,<span style=\"color: #c0c0c0; text-decoration-color: #c0c0c0\">WHITE</span>,<span style=\"color: #808000; text-decoration-color: #808000\">ORANGE</span>,<span style=\"color: #800000; text-decoration-color: #800000\">RED</span> │   388 │        10 │       3 │        5 │      5 │ <span style=\"color: #808000; text-decoration-color: #808000\">ORANGE</span>  \n",
       "   3 │ <span style=\"color: #800000; text-decoration-color: #800000\">RED</span>,<span style=\"color: #000080; text-decoration-color: #000080\">BLUE</span>,<span style=\"color: #808000; text-decoration-color: #808000\">ORANGE</span>,<span style=\"color: #c0c0c0; text-decoration-color: #c0c0c0\">WHITE</span> │   305 │         4 │       6 │       10 │      5 │ <span style=\"color: #c0c0c0; text-decoration-color: #c0c0c0\">WHITE</span>   \n",
       "   4 │ <span style=\"color: #808000; text-decoration-color: #808000\">ORANGE</span>,<span style=\"color: #c0c0c0; text-decoration-color: #c0c0c0\">WHITE</span>,<span style=\"color: #000080; text-decoration-color: #000080\">BLUE</span>,<span style=\"color: #800000; text-decoration-color: #800000\">RED</span> │   230 │        10 │       4 │        9 │      2 │ <span style=\"color: #808000; text-decoration-color: #808000\">ORANGE</span>  \n",
       "   5 │ <span style=\"color: #800000; text-decoration-color: #800000\">RED</span>,<span style=\"color: #000080; text-decoration-color: #000080\">BLUE</span>,<span style=\"color: #808000; text-decoration-color: #808000\">ORANGE</span>,<span style=\"color: #c0c0c0; text-decoration-color: #c0c0c0\">WHITE</span> │   264 │        10 │       6 │        8 │      2 │ <span style=\"color: #808000; text-decoration-color: #808000\">ORANGE</span>  \n",
       "   6 │ <span style=\"color: #800000; text-decoration-color: #800000\">RED</span>,<span style=\"color: #000080; text-decoration-color: #000080\">BLUE</span>,<span style=\"color: #808000; text-decoration-color: #808000\">ORANGE</span>,<span style=\"color: #c0c0c0; text-decoration-color: #c0c0c0\">WHITE</span> │   307 │         8 │      10 │        2 │      2 │ <span style=\"color: #000080; text-decoration-color: #000080\">BLUE</span>    \n",
       "   7 │ <span style=\"color: #000080; text-decoration-color: #000080\">BLUE</span>,<span style=\"color: #808000; text-decoration-color: #808000\">ORANGE</span>,<span style=\"color: #800000; text-decoration-color: #800000\">RED</span>,<span style=\"color: #c0c0c0; text-decoration-color: #c0c0c0\">WHITE</span> │   319 │        10 │       3 │        4 │      2 │ <span style=\"color: #808000; text-decoration-color: #808000\">ORANGE</span>  \n",
       "   8 │ <span style=\"color: #000080; text-decoration-color: #000080\">BLUE</span>,<span style=\"color: #c0c0c0; text-decoration-color: #c0c0c0\">WHITE</span>,<span style=\"color: #800000; text-decoration-color: #800000\">RED</span>,<span style=\"color: #808000; text-decoration-color: #808000\">ORANGE</span> │   159 │         9 │       2 │       10 │      2 │ <span style=\"color: #c0c0c0; text-decoration-color: #c0c0c0\">WHITE</span>   \n",
       "   9 │ <span style=\"color: #c0c0c0; text-decoration-color: #c0c0c0\">WHITE</span>,<span style=\"color: #000080; text-decoration-color: #000080\">BLUE</span>,<span style=\"color: #800000; text-decoration-color: #800000\">RED</span>,<span style=\"color: #808000; text-decoration-color: #808000\">ORANGE</span> │   149 │        10 │       3 │        2 │      2 │ <span style=\"color: #808000; text-decoration-color: #808000\">ORANGE</span>  \n",
       "  10 │ <span style=\"color: #808000; text-decoration-color: #808000\">ORANGE</span>,<span style=\"color: #000080; text-decoration-color: #000080\">BLUE</span>,<span style=\"color: #800000; text-decoration-color: #800000\">RED</span>,<span style=\"color: #c0c0c0; text-decoration-color: #c0c0c0\">WHITE</span> │   551 │         7 │      10 │        7 │      2 │ <span style=\"color: #000080; text-decoration-color: #000080\">BLUE</span>    \n",
       "     ╵                       ╵       ╵           ╵         ╵          ╵        ╵         \n",
       "</pre>\n"
      ],
      "text/plain": [
       "\u001b[3m                                      Last 10 Games                                      \u001b[0m\n",
       "     ╷                       ╷       ╷           ╷         ╷          ╷        ╷         \n",
       " \u001b[1m \u001b[0m\u001b[1m #\u001b[0m\u001b[1m \u001b[0m│\u001b[1m \u001b[0m\u001b[1mSEATING              \u001b[0m\u001b[1m \u001b[0m│\u001b[1m \u001b[0m\u001b[1mTURNS\u001b[0m\u001b[1m \u001b[0m│\u001b[1m \u001b[0m\u001b[1mORANGE VP\u001b[0m\u001b[1m \u001b[0m│\u001b[1m \u001b[0m\u001b[1mBLUE VP\u001b[0m\u001b[1m \u001b[0m│\u001b[1m \u001b[0m\u001b[1mWHITE VP\u001b[0m\u001b[1m \u001b[0m│\u001b[1m \u001b[0m\u001b[1mRED VP\u001b[0m\u001b[1m \u001b[0m│\u001b[1m \u001b[0m\u001b[1mWINNER\u001b[0m\u001b[1m \u001b[0m \n",
       "╶────┼───────────────────────┼───────┼───────────┼─────────┼──────────┼────────┼────────╴\n",
       "   1 │ \u001b[31mRED\u001b[0m,\u001b[34mBLUE\u001b[0m,\u001b[37mWHITE\u001b[0m,\u001b[33mORANGE\u001b[0m │   312 │         7 │       5 │       10 │      2 │ \u001b[37mWHITE\u001b[0m   \n",
       "   2 │ \u001b[34mBLUE\u001b[0m,\u001b[37mWHITE\u001b[0m,\u001b[33mORANGE\u001b[0m,\u001b[31mRED\u001b[0m │   388 │        10 │       3 │        5 │      5 │ \u001b[33mORANGE\u001b[0m  \n",
       "   3 │ \u001b[31mRED\u001b[0m,\u001b[34mBLUE\u001b[0m,\u001b[33mORANGE\u001b[0m,\u001b[37mWHITE\u001b[0m │   305 │         4 │       6 │       10 │      5 │ \u001b[37mWHITE\u001b[0m   \n",
       "   4 │ \u001b[33mORANGE\u001b[0m,\u001b[37mWHITE\u001b[0m,\u001b[34mBLUE\u001b[0m,\u001b[31mRED\u001b[0m │   230 │        10 │       4 │        9 │      2 │ \u001b[33mORANGE\u001b[0m  \n",
       "   5 │ \u001b[31mRED\u001b[0m,\u001b[34mBLUE\u001b[0m,\u001b[33mORANGE\u001b[0m,\u001b[37mWHITE\u001b[0m │   264 │        10 │       6 │        8 │      2 │ \u001b[33mORANGE\u001b[0m  \n",
       "   6 │ \u001b[31mRED\u001b[0m,\u001b[34mBLUE\u001b[0m,\u001b[33mORANGE\u001b[0m,\u001b[37mWHITE\u001b[0m │   307 │         8 │      10 │        2 │      2 │ \u001b[34mBLUE\u001b[0m    \n",
       "   7 │ \u001b[34mBLUE\u001b[0m,\u001b[33mORANGE\u001b[0m,\u001b[31mRED\u001b[0m,\u001b[37mWHITE\u001b[0m │   319 │        10 │       3 │        4 │      2 │ \u001b[33mORANGE\u001b[0m  \n",
       "   8 │ \u001b[34mBLUE\u001b[0m,\u001b[37mWHITE\u001b[0m,\u001b[31mRED\u001b[0m,\u001b[33mORANGE\u001b[0m │   159 │         9 │       2 │       10 │      2 │ \u001b[37mWHITE\u001b[0m   \n",
       "   9 │ \u001b[37mWHITE\u001b[0m,\u001b[34mBLUE\u001b[0m,\u001b[31mRED\u001b[0m,\u001b[33mORANGE\u001b[0m │   149 │        10 │       3 │        2 │      2 │ \u001b[33mORANGE\u001b[0m  \n",
       "  10 │ \u001b[33mORANGE\u001b[0m,\u001b[34mBLUE\u001b[0m,\u001b[31mRED\u001b[0m,\u001b[37mWHITE\u001b[0m │   551 │         7 │      10 │        7 │      2 │ \u001b[34mBLUE\u001b[0m    \n",
       "     ╵                       ╵       ╵           ╵         ╵          ╵        ╵         \n"
      ]
     },
     "metadata": {},
     "output_type": "display_data"
    },
    {
     "data": {
      "text/html": [
       "<pre style=\"white-space:pre;overflow-x:auto;line-height:normal;font-family:Menlo,'DejaVu Sans Mono',consolas,'Courier New',monospace\"><span style=\"font-style: italic\">                                               Player Summary                                                </span>\n",
       "                              ╷      ╷        ╷             ╷            ╷          ╷          ╷             \n",
       " <span style=\"font-weight: bold\">                             </span>│<span style=\"font-weight: bold\"> WINS </span>│<span style=\"font-weight: bold\"> AVG VP </span>│<span style=\"font-weight: bold\"> AVG SETTLES </span>│<span style=\"font-weight: bold\"> AVG CITIES </span>│<span style=\"font-weight: bold\"> AVG ROAD </span>│<span style=\"font-weight: bold\"> AVG ARMY </span>│<span style=\"font-weight: bold\"> AVG DEV VP </span> \n",
       "╶─────────────────────────────┼──────┼────────┼─────────────┼────────────┼──────────┼──────────┼────────────╴\n",
       "  <span style=\"color: #808000; text-decoration-color: #808000\">WeightedRandomPlayer:ORANGE</span> │    5 │   8.50 │        2.40 │       1.60 │     0.40 │     0.30 │       1.50  \n",
       "  <span style=\"color: #000080; text-decoration-color: #000080\">RandomPlayer:BLUE</span>           │    2 │   5.20 │        1.90 │       0.80 │     0.20 │     0.20 │       0.90  \n",
       "  <span style=\"color: #c0c0c0; text-decoration-color: #c0c0c0\">RandomPlayer:WHITE</span>          │    3 │   6.70 │        2.60 │       0.80 │     0.40 │     0.50 │       0.70  \n",
       "  <span style=\"color: #800000; text-decoration-color: #800000\">AB_DQNPlayer_1:RED</span>          │    0 │   2.60 │        2.20 │       0.10 │     0.00 │     0.00 │       0.20  \n",
       "                              ╵      ╵        ╵             ╵            ╵          ╵          ╵             \n",
       "</pre>\n"
      ],
      "text/plain": [
       "\u001b[3m                                               Player Summary                                                \u001b[0m\n",
       "                              ╷      ╷        ╷             ╷            ╷          ╷          ╷             \n",
       " \u001b[1m \u001b[0m\u001b[1m                           \u001b[0m\u001b[1m \u001b[0m│\u001b[1m \u001b[0m\u001b[1mWINS\u001b[0m\u001b[1m \u001b[0m│\u001b[1m \u001b[0m\u001b[1mAVG VP\u001b[0m\u001b[1m \u001b[0m│\u001b[1m \u001b[0m\u001b[1mAVG SETTLES\u001b[0m\u001b[1m \u001b[0m│\u001b[1m \u001b[0m\u001b[1mAVG CITIES\u001b[0m\u001b[1m \u001b[0m│\u001b[1m \u001b[0m\u001b[1mAVG ROAD\u001b[0m\u001b[1m \u001b[0m│\u001b[1m \u001b[0m\u001b[1mAVG ARMY\u001b[0m\u001b[1m \u001b[0m│\u001b[1m \u001b[0m\u001b[1mAVG DEV VP\u001b[0m\u001b[1m \u001b[0m \n",
       "╶─────────────────────────────┼──────┼────────┼─────────────┼────────────┼──────────┼──────────┼────────────╴\n",
       "  \u001b[33mWeightedRandomPlayer:ORANGE\u001b[0m │    5 │   8.50 │        2.40 │       1.60 │     0.40 │     0.30 │       1.50  \n",
       "  \u001b[34mRandomPlayer:BLUE\u001b[0m           │    2 │   5.20 │        1.90 │       0.80 │     0.20 │     0.20 │       0.90  \n",
       "  \u001b[37mRandomPlayer:WHITE\u001b[0m          │    3 │   6.70 │        2.60 │       0.80 │     0.40 │     0.50 │       0.70  \n",
       "  \u001b[31mAB_DQNPlayer_1:RED\u001b[0m          │    0 │   2.60 │        2.20 │       0.10 │     0.00 │     0.00 │       0.20  \n",
       "                              ╵      ╵        ╵             ╵            ╵          ╵          ╵             \n"
      ]
     },
     "metadata": {},
     "output_type": "display_data"
    },
    {
     "data": {
      "text/html": [
       "<pre style=\"white-space:pre;overflow-x:auto;line-height:normal;font-family:Menlo,'DejaVu Sans Mono',consolas,'Courier New',monospace\"><span style=\"font-style: italic\">              Game Summary              </span>\n",
       "            ╷           ╷               \n",
       " <span style=\"font-weight: bold\"> AVG TICKS </span>│<span style=\"font-weight: bold\"> AVG TURNS </span>│<span style=\"font-weight: bold\"> AVG DURATION </span> \n",
       "╶───────────┼───────────┼──────────────╴\n",
       "     847.00 │    298.40 │  13.635 secs  \n",
       "            ╵           ╵               \n",
       "</pre>\n"
      ],
      "text/plain": [
       "\u001b[3m              Game Summary              \u001b[0m\n",
       "            ╷           ╷               \n",
       " \u001b[1m \u001b[0m\u001b[1mAVG TICKS\u001b[0m\u001b[1m \u001b[0m│\u001b[1m \u001b[0m\u001b[1mAVG TURNS\u001b[0m\u001b[1m \u001b[0m│\u001b[1m \u001b[0m\u001b[1mAVG DURATION\u001b[0m\u001b[1m \u001b[0m \n",
       "╶───────────┼───────────┼──────────────╴\n",
       "     847.00 │    298.40 │  13.635 secs  \n",
       "            ╵           ╵               \n"
      ]
     },
     "metadata": {},
     "output_type": "display_data"
    },
    {
     "name": "stdout",
     "output_type": "stream",
     "text": [
      "Loaded replay buffer with 2544 transitions\n",
      "atch 36/50: Playing 10 games\n"
     ]
    },
    {
     "data": {
      "text/html": [
       "<pre style=\"white-space:pre;overflow-x:auto;line-height:normal;font-family:Menlo,'DejaVu Sans Mono',consolas,'Courier New',monospace\">Cleared replay buffer to refresh training examples.\n",
       "</pre>\n"
      ],
      "text/plain": [
       "Cleared replay buffer to refresh training examples.\n"
      ]
     },
     "metadata": {},
     "output_type": "display_data"
    },
    {
     "data": {
      "text/html": [
       "<pre style=\"white-space:pre;overflow-x:auto;line-height:normal;font-family:Menlo,'DejaVu Sans Mono',consolas,'Courier New',monospace\">Reward variance in batch: 0.0000\n",
       "</pre>\n"
      ],
      "text/plain": [
       "Reward variance in batch: 0.0000\n"
      ]
     },
     "metadata": {},
     "output_type": "display_data"
    },
    {
     "data": {
      "text/html": [
       "<pre style=\"white-space:pre;overflow-x:auto;line-height:normal;font-family:Menlo,'DejaVu Sans Mono',consolas,'Courier New',monospace\">Trained DQN model with loss: 102.0992\n",
       "</pre>\n"
      ],
      "text/plain": [
       "Trained DQN model with loss: 102.0992\n"
      ]
     },
     "metadata": {},
     "output_type": "display_data"
    },
    {
     "data": {
      "text/html": [
       "<pre style=\"white-space:pre;overflow-x:auto;line-height:normal;font-family:Menlo,'DejaVu Sans Mono',consolas,'Courier New',monospace\">Avg pred: -0.1287, Avg target: 9.9742\n",
       "</pre>\n"
      ],
      "text/plain": [
       "Avg pred: -0.1287, Avg target: 9.9742\n"
      ]
     },
     "metadata": {},
     "output_type": "display_data"
    },
    {
     "data": {
      "text/html": [
       "<pre style=\"white-space:pre;overflow-x:auto;line-height:normal;font-family:Menlo,'DejaVu Sans Mono',consolas,'Courier New',monospace\">Cleared replay buffer to refresh training examples.\n",
       "</pre>\n"
      ],
      "text/plain": [
       "Cleared replay buffer to refresh training examples.\n"
      ]
     },
     "metadata": {},
     "output_type": "display_data"
    },
    {
     "data": {
      "text/html": [
       "<pre style=\"white-space:pre;overflow-x:auto;line-height:normal;font-family:Menlo,'DejaVu Sans Mono',consolas,'Courier New',monospace\">Reward variance in batch: 0.0000\n",
       "</pre>\n"
      ],
      "text/plain": [
       "Reward variance in batch: 0.0000\n"
      ]
     },
     "metadata": {},
     "output_type": "display_data"
    },
    {
     "data": {
      "text/html": [
       "<pre style=\"white-space:pre;overflow-x:auto;line-height:normal;font-family:Menlo,'DejaVu Sans Mono',consolas,'Courier New',monospace\">Trained DQN model with loss: 101.8578\n",
       "</pre>\n"
      ],
      "text/plain": [
       "Trained DQN model with loss: 101.8578\n"
      ]
     },
     "metadata": {},
     "output_type": "display_data"
    },
    {
     "data": {
      "text/html": [
       "<pre style=\"white-space:pre;overflow-x:auto;line-height:normal;font-family:Menlo,'DejaVu Sans Mono',consolas,'Courier New',monospace\">Avg pred: -0.1231, Avg target: 9.9669\n",
       "</pre>\n"
      ],
      "text/plain": [
       "Avg pred: -0.1231, Avg target: 9.9669\n"
      ]
     },
     "metadata": {},
     "output_type": "display_data"
    },
    {
     "data": {
      "text/html": [
       "<pre style=\"white-space:pre;overflow-x:auto;line-height:normal;font-family:Menlo,'DejaVu Sans Mono',consolas,'Courier New',monospace\"></pre>\n"
      ],
      "text/plain": []
     },
     "metadata": {},
     "output_type": "display_data"
    },
    {
     "data": {
      "text/html": [
       "<pre style=\"white-space:pre;overflow-x:auto;line-height:normal;font-family:Menlo,'DejaVu Sans Mono',consolas,'Courier New',monospace\">\n",
       "</pre>\n"
      ],
      "text/plain": [
       "\n"
      ]
     },
     "metadata": {},
     "output_type": "display_data"
    },
    {
     "data": {
      "text/html": [
       "<pre style=\"white-space:pre;overflow-x:auto;line-height:normal;font-family:Menlo,'DejaVu Sans Mono',consolas,'Courier New',monospace\"><span style=\"font-style: italic\">                                      Last 10 Games                                      </span>\n",
       "     ╷                       ╷       ╷          ╷         ╷           ╷        ╷         \n",
       " <span style=\"font-weight: bold\">  # </span>│<span style=\"font-weight: bold\"> SEATING               </span>│<span style=\"font-weight: bold\"> TURNS </span>│<span style=\"font-weight: bold\"> WHITE VP </span>│<span style=\"font-weight: bold\"> BLUE VP </span>│<span style=\"font-weight: bold\"> ORANGE VP </span>│<span style=\"font-weight: bold\"> RED VP </span>│<span style=\"font-weight: bold\"> WINNER </span> \n",
       "╶────┼───────────────────────┼───────┼──────────┼─────────┼───────────┼────────┼────────╴\n",
       "   1 │ <span style=\"color: #c0c0c0; text-decoration-color: #c0c0c0\">WHITE</span>,<span style=\"color: #000080; text-decoration-color: #000080\">BLUE</span>,<span style=\"color: #808000; text-decoration-color: #808000\">ORANGE</span>,<span style=\"color: #800000; text-decoration-color: #800000\">RED</span> │   242 │       10 │       8 │         5 │      3 │ <span style=\"color: #c0c0c0; text-decoration-color: #c0c0c0\">WHITE</span>   \n",
       "   2 │ <span style=\"color: #800000; text-decoration-color: #800000\">RED</span>,<span style=\"color: #c0c0c0; text-decoration-color: #c0c0c0\">WHITE</span>,<span style=\"color: #000080; text-decoration-color: #000080\">BLUE</span>,<span style=\"color: #808000; text-decoration-color: #808000\">ORANGE</span> │    96 │        2 │      10 │         2 │      2 │ <span style=\"color: #000080; text-decoration-color: #000080\">BLUE</span>    \n",
       "   3 │ <span style=\"color: #000080; text-decoration-color: #000080\">BLUE</span>,<span style=\"color: #808000; text-decoration-color: #808000\">ORANGE</span>,<span style=\"color: #800000; text-decoration-color: #800000\">RED</span>,<span style=\"color: #c0c0c0; text-decoration-color: #c0c0c0\">WHITE</span> │   255 │        5 │       4 │        10 │      2 │ <span style=\"color: #808000; text-decoration-color: #808000\">ORANGE</span>  \n",
       "   4 │ <span style=\"color: #000080; text-decoration-color: #000080\">BLUE</span>,<span style=\"color: #808000; text-decoration-color: #808000\">ORANGE</span>,<span style=\"color: #800000; text-decoration-color: #800000\">RED</span>,<span style=\"color: #c0c0c0; text-decoration-color: #c0c0c0\">WHITE</span> │   222 │        2 │      10 │         3 │      3 │ <span style=\"color: #000080; text-decoration-color: #000080\">BLUE</span>    \n",
       "   5 │ <span style=\"color: #800000; text-decoration-color: #800000\">RED</span>,<span style=\"color: #808000; text-decoration-color: #808000\">ORANGE</span>,<span style=\"color: #000080; text-decoration-color: #000080\">BLUE</span>,<span style=\"color: #c0c0c0; text-decoration-color: #c0c0c0\">WHITE</span> │   328 │        7 │      10 │         4 │      3 │ <span style=\"color: #000080; text-decoration-color: #000080\">BLUE</span>    \n",
       "   6 │ <span style=\"color: #c0c0c0; text-decoration-color: #c0c0c0\">WHITE</span>,<span style=\"color: #000080; text-decoration-color: #000080\">BLUE</span>,<span style=\"color: #800000; text-decoration-color: #800000\">RED</span>,<span style=\"color: #808000; text-decoration-color: #808000\">ORANGE</span> │   167 │        3 │      10 │         2 │      2 │ <span style=\"color: #000080; text-decoration-color: #000080\">BLUE</span>    \n",
       "   7 │ <span style=\"color: #c0c0c0; text-decoration-color: #c0c0c0\">WHITE</span>,<span style=\"color: #800000; text-decoration-color: #800000\">RED</span>,<span style=\"color: #000080; text-decoration-color: #000080\">BLUE</span>,<span style=\"color: #808000; text-decoration-color: #808000\">ORANGE</span> │   260 │        4 │      10 │         5 │      4 │ <span style=\"color: #000080; text-decoration-color: #000080\">BLUE</span>    \n",
       "   8 │ <span style=\"color: #c0c0c0; text-decoration-color: #c0c0c0\">WHITE</span>,<span style=\"color: #800000; text-decoration-color: #800000\">RED</span>,<span style=\"color: #808000; text-decoration-color: #808000\">ORANGE</span>,<span style=\"color: #000080; text-decoration-color: #000080\">BLUE</span> │   354 │       10 │       4 │         8 │      2 │ <span style=\"color: #c0c0c0; text-decoration-color: #c0c0c0\">WHITE</span>   \n",
       "   9 │ <span style=\"color: #800000; text-decoration-color: #800000\">RED</span>,<span style=\"color: #000080; text-decoration-color: #000080\">BLUE</span>,<span style=\"color: #c0c0c0; text-decoration-color: #c0c0c0\">WHITE</span>,<span style=\"color: #808000; text-decoration-color: #808000\">ORANGE</span> │   239 │        3 │      10 │         6 │      3 │ <span style=\"color: #000080; text-decoration-color: #000080\">BLUE</span>    \n",
       "  10 │ <span style=\"color: #000080; text-decoration-color: #000080\">BLUE</span>,<span style=\"color: #800000; text-decoration-color: #800000\">RED</span>,<span style=\"color: #c0c0c0; text-decoration-color: #c0c0c0\">WHITE</span>,<span style=\"color: #808000; text-decoration-color: #808000\">ORANGE</span> │   182 │        7 │      10 │         4 │      2 │ <span style=\"color: #000080; text-decoration-color: #000080\">BLUE</span>    \n",
       "     ╵                       ╵       ╵          ╵         ╵           ╵        ╵         \n",
       "</pre>\n"
      ],
      "text/plain": [
       "\u001b[3m                                      Last 10 Games                                      \u001b[0m\n",
       "     ╷                       ╷       ╷          ╷         ╷           ╷        ╷         \n",
       " \u001b[1m \u001b[0m\u001b[1m #\u001b[0m\u001b[1m \u001b[0m│\u001b[1m \u001b[0m\u001b[1mSEATING              \u001b[0m\u001b[1m \u001b[0m│\u001b[1m \u001b[0m\u001b[1mTURNS\u001b[0m\u001b[1m \u001b[0m│\u001b[1m \u001b[0m\u001b[1mWHITE VP\u001b[0m\u001b[1m \u001b[0m│\u001b[1m \u001b[0m\u001b[1mBLUE VP\u001b[0m\u001b[1m \u001b[0m│\u001b[1m \u001b[0m\u001b[1mORANGE VP\u001b[0m\u001b[1m \u001b[0m│\u001b[1m \u001b[0m\u001b[1mRED VP\u001b[0m\u001b[1m \u001b[0m│\u001b[1m \u001b[0m\u001b[1mWINNER\u001b[0m\u001b[1m \u001b[0m \n",
       "╶────┼───────────────────────┼───────┼──────────┼─────────┼───────────┼────────┼────────╴\n",
       "   1 │ \u001b[37mWHITE\u001b[0m,\u001b[34mBLUE\u001b[0m,\u001b[33mORANGE\u001b[0m,\u001b[31mRED\u001b[0m │   242 │       10 │       8 │         5 │      3 │ \u001b[37mWHITE\u001b[0m   \n",
       "   2 │ \u001b[31mRED\u001b[0m,\u001b[37mWHITE\u001b[0m,\u001b[34mBLUE\u001b[0m,\u001b[33mORANGE\u001b[0m │    96 │        2 │      10 │         2 │      2 │ \u001b[34mBLUE\u001b[0m    \n",
       "   3 │ \u001b[34mBLUE\u001b[0m,\u001b[33mORANGE\u001b[0m,\u001b[31mRED\u001b[0m,\u001b[37mWHITE\u001b[0m │   255 │        5 │       4 │        10 │      2 │ \u001b[33mORANGE\u001b[0m  \n",
       "   4 │ \u001b[34mBLUE\u001b[0m,\u001b[33mORANGE\u001b[0m,\u001b[31mRED\u001b[0m,\u001b[37mWHITE\u001b[0m │   222 │        2 │      10 │         3 │      3 │ \u001b[34mBLUE\u001b[0m    \n",
       "   5 │ \u001b[31mRED\u001b[0m,\u001b[33mORANGE\u001b[0m,\u001b[34mBLUE\u001b[0m,\u001b[37mWHITE\u001b[0m │   328 │        7 │      10 │         4 │      3 │ \u001b[34mBLUE\u001b[0m    \n",
       "   6 │ \u001b[37mWHITE\u001b[0m,\u001b[34mBLUE\u001b[0m,\u001b[31mRED\u001b[0m,\u001b[33mORANGE\u001b[0m │   167 │        3 │      10 │         2 │      2 │ \u001b[34mBLUE\u001b[0m    \n",
       "   7 │ \u001b[37mWHITE\u001b[0m,\u001b[31mRED\u001b[0m,\u001b[34mBLUE\u001b[0m,\u001b[33mORANGE\u001b[0m │   260 │        4 │      10 │         5 │      4 │ \u001b[34mBLUE\u001b[0m    \n",
       "   8 │ \u001b[37mWHITE\u001b[0m,\u001b[31mRED\u001b[0m,\u001b[33mORANGE\u001b[0m,\u001b[34mBLUE\u001b[0m │   354 │       10 │       4 │         8 │      2 │ \u001b[37mWHITE\u001b[0m   \n",
       "   9 │ \u001b[31mRED\u001b[0m,\u001b[34mBLUE\u001b[0m,\u001b[37mWHITE\u001b[0m,\u001b[33mORANGE\u001b[0m │   239 │        3 │      10 │         6 │      3 │ \u001b[34mBLUE\u001b[0m    \n",
       "  10 │ \u001b[34mBLUE\u001b[0m,\u001b[31mRED\u001b[0m,\u001b[37mWHITE\u001b[0m,\u001b[33mORANGE\u001b[0m │   182 │        7 │      10 │         4 │      2 │ \u001b[34mBLUE\u001b[0m    \n",
       "     ╵                       ╵       ╵          ╵         ╵           ╵        ╵         \n"
      ]
     },
     "metadata": {},
     "output_type": "display_data"
    },
    {
     "data": {
      "text/html": [
       "<pre style=\"white-space:pre;overflow-x:auto;line-height:normal;font-family:Menlo,'DejaVu Sans Mono',consolas,'Courier New',monospace\"><span style=\"font-style: italic\">                                               Player Summary                                               </span>\n",
       "                             ╷      ╷        ╷             ╷            ╷          ╷          ╷             \n",
       " <span style=\"font-weight: bold\">                            </span>│<span style=\"font-weight: bold\"> WINS </span>│<span style=\"font-weight: bold\"> AVG VP </span>│<span style=\"font-weight: bold\"> AVG SETTLES </span>│<span style=\"font-weight: bold\"> AVG CITIES </span>│<span style=\"font-weight: bold\"> AVG ROAD </span>│<span style=\"font-weight: bold\"> AVG ARMY </span>│<span style=\"font-weight: bold\"> AVG DEV VP </span> \n",
       "╶────────────────────────────┼──────┼────────┼─────────────┼────────────┼──────────┼──────────┼────────────╴\n",
       "  <span style=\"color: #c0c0c0; text-decoration-color: #c0c0c0\">WeightedRandomPlayer:WHITE</span> │    2 │   5.30 │        3.00 │       0.20 │     0.30 │     0.30 │       0.70  \n",
       "  <span style=\"color: #000080; text-decoration-color: #000080\">WeightedRandomPlayer:BLUE</span>  │    7 │   8.60 │        2.80 │       0.90 │     0.30 │     0.60 │       2.20  \n",
       "  <span style=\"color: #808000; text-decoration-color: #808000\">RandomPlayer:ORANGE</span>        │    1 │   4.90 │        2.50 │       0.30 │     0.20 │     0.10 │       1.20  \n",
       "  <span style=\"color: #800000; text-decoration-color: #800000\">AB_DQNPlayer_1:RED</span>         │    0 │   2.60 │        2.20 │       0.10 │     0.00 │     0.00 │       0.20  \n",
       "                             ╵      ╵        ╵             ╵            ╵          ╵          ╵             \n",
       "</pre>\n"
      ],
      "text/plain": [
       "\u001b[3m                                               Player Summary                                               \u001b[0m\n",
       "                             ╷      ╷        ╷             ╷            ╷          ╷          ╷             \n",
       " \u001b[1m \u001b[0m\u001b[1m                          \u001b[0m\u001b[1m \u001b[0m│\u001b[1m \u001b[0m\u001b[1mWINS\u001b[0m\u001b[1m \u001b[0m│\u001b[1m \u001b[0m\u001b[1mAVG VP\u001b[0m\u001b[1m \u001b[0m│\u001b[1m \u001b[0m\u001b[1mAVG SETTLES\u001b[0m\u001b[1m \u001b[0m│\u001b[1m \u001b[0m\u001b[1mAVG CITIES\u001b[0m\u001b[1m \u001b[0m│\u001b[1m \u001b[0m\u001b[1mAVG ROAD\u001b[0m\u001b[1m \u001b[0m│\u001b[1m \u001b[0m\u001b[1mAVG ARMY\u001b[0m\u001b[1m \u001b[0m│\u001b[1m \u001b[0m\u001b[1mAVG DEV VP\u001b[0m\u001b[1m \u001b[0m \n",
       "╶────────────────────────────┼──────┼────────┼─────────────┼────────────┼──────────┼──────────┼────────────╴\n",
       "  \u001b[37mWeightedRandomPlayer:WHITE\u001b[0m │    2 │   5.30 │        3.00 │       0.20 │     0.30 │     0.30 │       0.70  \n",
       "  \u001b[34mWeightedRandomPlayer:BLUE\u001b[0m  │    7 │   8.60 │        2.80 │       0.90 │     0.30 │     0.60 │       2.20  \n",
       "  \u001b[33mRandomPlayer:ORANGE\u001b[0m        │    1 │   4.90 │        2.50 │       0.30 │     0.20 │     0.10 │       1.20  \n",
       "  \u001b[31mAB_DQNPlayer_1:RED\u001b[0m         │    0 │   2.60 │        2.20 │       0.10 │     0.00 │     0.00 │       0.20  \n",
       "                             ╵      ╵        ╵             ╵            ╵          ╵          ╵             \n"
      ]
     },
     "metadata": {},
     "output_type": "display_data"
    },
    {
     "data": {
      "text/html": [
       "<pre style=\"white-space:pre;overflow-x:auto;line-height:normal;font-family:Menlo,'DejaVu Sans Mono',consolas,'Courier New',monospace\"><span style=\"font-style: italic\">              Game Summary              </span>\n",
       "            ╷           ╷               \n",
       " <span style=\"font-weight: bold\"> AVG TICKS </span>│<span style=\"font-weight: bold\"> AVG TURNS </span>│<span style=\"font-weight: bold\"> AVG DURATION </span> \n",
       "╶───────────┼───────────┼──────────────╴\n",
       "     685.10 │    234.50 │  11.727 secs  \n",
       "            ╵           ╵               \n",
       "</pre>\n"
      ],
      "text/plain": [
       "\u001b[3m              Game Summary              \u001b[0m\n",
       "            ╷           ╷               \n",
       " \u001b[1m \u001b[0m\u001b[1mAVG TICKS\u001b[0m\u001b[1m \u001b[0m│\u001b[1m \u001b[0m\u001b[1mAVG TURNS\u001b[0m\u001b[1m \u001b[0m│\u001b[1m \u001b[0m\u001b[1mAVG DURATION\u001b[0m\u001b[1m \u001b[0m \n",
       "╶───────────┼───────────┼──────────────╴\n",
       "     685.10 │    234.50 │  11.727 secs  \n",
       "            ╵           ╵               \n"
      ]
     },
     "metadata": {},
     "output_type": "display_data"
    },
    {
     "name": "stdout",
     "output_type": "stream",
     "text": [
      "Loaded replay buffer with 999 transitions\n",
      "atch 37/50: Playing 10 games\n"
     ]
    },
    {
     "data": {
      "text/html": [
       "<pre style=\"white-space:pre;overflow-x:auto;line-height:normal;font-family:Menlo,'DejaVu Sans Mono',consolas,'Courier New',monospace\">Cleared replay buffer to refresh training examples.\n",
       "</pre>\n"
      ],
      "text/plain": [
       "Cleared replay buffer to refresh training examples.\n"
      ]
     },
     "metadata": {},
     "output_type": "display_data"
    },
    {
     "data": {
      "text/html": [
       "<pre style=\"white-space:pre;overflow-x:auto;line-height:normal;font-family:Menlo,'DejaVu Sans Mono',consolas,'Courier New',monospace\">Reward variance in batch: 0.0000\n",
       "</pre>\n"
      ],
      "text/plain": [
       "Reward variance in batch: 0.0000\n"
      ]
     },
     "metadata": {},
     "output_type": "display_data"
    },
    {
     "data": {
      "text/html": [
       "<pre style=\"white-space:pre;overflow-x:auto;line-height:normal;font-family:Menlo,'DejaVu Sans Mono',consolas,'Courier New',monospace\">Trained DQN model with loss: 100.4963\n",
       "</pre>\n"
      ],
      "text/plain": [
       "Trained DQN model with loss: 100.4963\n"
      ]
     },
     "metadata": {},
     "output_type": "display_data"
    },
    {
     "data": {
      "text/html": [
       "<pre style=\"white-space:pre;overflow-x:auto;line-height:normal;font-family:Menlo,'DejaVu Sans Mono',consolas,'Courier New',monospace\">Avg pred: -0.0960, Avg target: 9.9258\n",
       "</pre>\n"
      ],
      "text/plain": [
       "Avg pred: -0.0960, Avg target: 9.9258\n"
      ]
     },
     "metadata": {},
     "output_type": "display_data"
    },
    {
     "data": {
      "text/html": [
       "<pre style=\"white-space:pre;overflow-x:auto;line-height:normal;font-family:Menlo,'DejaVu Sans Mono',consolas,'Courier New',monospace\">Cleared replay buffer to refresh training examples.\n",
       "</pre>\n"
      ],
      "text/plain": [
       "Cleared replay buffer to refresh training examples.\n"
      ]
     },
     "metadata": {},
     "output_type": "display_data"
    },
    {
     "data": {
      "text/html": [
       "<pre style=\"white-space:pre;overflow-x:auto;line-height:normal;font-family:Menlo,'DejaVu Sans Mono',consolas,'Courier New',monospace\">Reward variance in batch: 0.0000\n",
       "</pre>\n"
      ],
      "text/plain": [
       "Reward variance in batch: 0.0000\n"
      ]
     },
     "metadata": {},
     "output_type": "display_data"
    },
    {
     "data": {
      "text/html": [
       "<pre style=\"white-space:pre;overflow-x:auto;line-height:normal;font-family:Menlo,'DejaVu Sans Mono',consolas,'Courier New',monospace\">Trained DQN model with loss: 102.5179\n",
       "</pre>\n"
      ],
      "text/plain": [
       "Trained DQN model with loss: 102.5179\n"
      ]
     },
     "metadata": {},
     "output_type": "display_data"
    },
    {
     "data": {
      "text/html": [
       "<pre style=\"white-space:pre;overflow-x:auto;line-height:normal;font-family:Menlo,'DejaVu Sans Mono',consolas,'Courier New',monospace\">Avg pred: -0.1325, Avg target: 9.9905\n",
       "</pre>\n"
      ],
      "text/plain": [
       "Avg pred: -0.1325, Avg target: 9.9905\n"
      ]
     },
     "metadata": {},
     "output_type": "display_data"
    },
    {
     "data": {
      "text/html": [
       "<pre style=\"white-space:pre;overflow-x:auto;line-height:normal;font-family:Menlo,'DejaVu Sans Mono',consolas,'Courier New',monospace\"></pre>\n"
      ],
      "text/plain": []
     },
     "metadata": {},
     "output_type": "display_data"
    },
    {
     "data": {
      "text/html": [
       "<pre style=\"white-space:pre;overflow-x:auto;line-height:normal;font-family:Menlo,'DejaVu Sans Mono',consolas,'Courier New',monospace\">\n",
       "</pre>\n"
      ],
      "text/plain": [
       "\n"
      ]
     },
     "metadata": {},
     "output_type": "display_data"
    },
    {
     "data": {
      "text/html": [
       "<pre style=\"white-space:pre;overflow-x:auto;line-height:normal;font-family:Menlo,'DejaVu Sans Mono',consolas,'Courier New',monospace\"><span style=\"font-style: italic\">                                      Last 10 Games                                      </span>\n",
       "     ╷                       ╷       ╷           ╷        ╷         ╷          ╷         \n",
       " <span style=\"font-weight: bold\">  # </span>│<span style=\"font-weight: bold\"> SEATING               </span>│<span style=\"font-weight: bold\"> TURNS </span>│<span style=\"font-weight: bold\"> ORANGE VP </span>│<span style=\"font-weight: bold\"> RED VP </span>│<span style=\"font-weight: bold\"> BLUE VP </span>│<span style=\"font-weight: bold\"> WHITE VP </span>│<span style=\"font-weight: bold\"> WINNER </span> \n",
       "╶────┼───────────────────────┼───────┼───────────┼────────┼─────────┼──────────┼────────╴\n",
       "   1 │ <span style=\"color: #808000; text-decoration-color: #808000\">ORANGE</span>,<span style=\"color: #000080; text-decoration-color: #000080\">BLUE</span>,<span style=\"color: #c0c0c0; text-decoration-color: #c0c0c0\">WHITE</span>,<span style=\"color: #800000; text-decoration-color: #800000\">RED</span> │   362 │        10 │      4 │       3 │        2 │ <span style=\"color: #808000; text-decoration-color: #808000\">ORANGE</span>  \n",
       "   2 │ <span style=\"color: #800000; text-decoration-color: #800000\">RED</span>,<span style=\"color: #c0c0c0; text-decoration-color: #c0c0c0\">WHITE</span>,<span style=\"color: #000080; text-decoration-color: #000080\">BLUE</span>,<span style=\"color: #808000; text-decoration-color: #808000\">ORANGE</span> │   100 │         3 │      3 │      10 │        8 │ <span style=\"color: #000080; text-decoration-color: #000080\">BLUE</span>    \n",
       "   3 │ <span style=\"color: #c0c0c0; text-decoration-color: #c0c0c0\">WHITE</span>,<span style=\"color: #808000; text-decoration-color: #808000\">ORANGE</span>,<span style=\"color: #000080; text-decoration-color: #000080\">BLUE</span>,<span style=\"color: #800000; text-decoration-color: #800000\">RED</span> │   176 │         8 │      2 │      10 │        5 │ <span style=\"color: #000080; text-decoration-color: #000080\">BLUE</span>    \n",
       "   4 │ <span style=\"color: #000080; text-decoration-color: #000080\">BLUE</span>,<span style=\"color: #808000; text-decoration-color: #808000\">ORANGE</span>,<span style=\"color: #c0c0c0; text-decoration-color: #c0c0c0\">WHITE</span>,<span style=\"color: #800000; text-decoration-color: #800000\">RED</span> │   107 │        10 │      2 │       2 │        3 │ <span style=\"color: #808000; text-decoration-color: #808000\">ORANGE</span>  \n",
       "   5 │ <span style=\"color: #000080; text-decoration-color: #000080\">BLUE</span>,<span style=\"color: #c0c0c0; text-decoration-color: #c0c0c0\">WHITE</span>,<span style=\"color: #808000; text-decoration-color: #808000\">ORANGE</span>,<span style=\"color: #800000; text-decoration-color: #800000\">RED</span> │   184 │        10 │      4 │       6 │        5 │ <span style=\"color: #808000; text-decoration-color: #808000\">ORANGE</span>  \n",
       "   6 │ <span style=\"color: #c0c0c0; text-decoration-color: #c0c0c0\">WHITE</span>,<span style=\"color: #800000; text-decoration-color: #800000\">RED</span>,<span style=\"color: #808000; text-decoration-color: #808000\">ORANGE</span>,<span style=\"color: #000080; text-decoration-color: #000080\">BLUE</span> │   288 │        10 │      2 │       4 │        5 │ <span style=\"color: #808000; text-decoration-color: #808000\">ORANGE</span>  \n",
       "   7 │ <span style=\"color: #000080; text-decoration-color: #000080\">BLUE</span>,<span style=\"color: #800000; text-decoration-color: #800000\">RED</span>,<span style=\"color: #808000; text-decoration-color: #808000\">ORANGE</span>,<span style=\"color: #c0c0c0; text-decoration-color: #c0c0c0\">WHITE</span> │   254 │         8 │      2 │      10 │        8 │ <span style=\"color: #000080; text-decoration-color: #000080\">BLUE</span>    \n",
       "   8 │ <span style=\"color: #800000; text-decoration-color: #800000\">RED</span>,<span style=\"color: #000080; text-decoration-color: #000080\">BLUE</span>,<span style=\"color: #c0c0c0; text-decoration-color: #c0c0c0\">WHITE</span>,<span style=\"color: #808000; text-decoration-color: #808000\">ORANGE</span> │   151 │         3 │      2 │      10 │        6 │ <span style=\"color: #000080; text-decoration-color: #000080\">BLUE</span>    \n",
       "   9 │ <span style=\"color: #800000; text-decoration-color: #800000\">RED</span>,<span style=\"color: #000080; text-decoration-color: #000080\">BLUE</span>,<span style=\"color: #808000; text-decoration-color: #808000\">ORANGE</span>,<span style=\"color: #c0c0c0; text-decoration-color: #c0c0c0\">WHITE</span> │   359 │         3 │      2 │      11 │        3 │ <span style=\"color: #000080; text-decoration-color: #000080\">BLUE</span>    \n",
       "  10 │ <span style=\"color: #000080; text-decoration-color: #000080\">BLUE</span>,<span style=\"color: #800000; text-decoration-color: #800000\">RED</span>,<span style=\"color: #808000; text-decoration-color: #808000\">ORANGE</span>,<span style=\"color: #c0c0c0; text-decoration-color: #c0c0c0\">WHITE</span> │   649 │         4 │      3 │       5 │       11 │ <span style=\"color: #c0c0c0; text-decoration-color: #c0c0c0\">WHITE</span>   \n",
       "     ╵                       ╵       ╵           ╵        ╵         ╵          ╵         \n",
       "</pre>\n"
      ],
      "text/plain": [
       "\u001b[3m                                      Last 10 Games                                      \u001b[0m\n",
       "     ╷                       ╷       ╷           ╷        ╷         ╷          ╷         \n",
       " \u001b[1m \u001b[0m\u001b[1m #\u001b[0m\u001b[1m \u001b[0m│\u001b[1m \u001b[0m\u001b[1mSEATING              \u001b[0m\u001b[1m \u001b[0m│\u001b[1m \u001b[0m\u001b[1mTURNS\u001b[0m\u001b[1m \u001b[0m│\u001b[1m \u001b[0m\u001b[1mORANGE VP\u001b[0m\u001b[1m \u001b[0m│\u001b[1m \u001b[0m\u001b[1mRED VP\u001b[0m\u001b[1m \u001b[0m│\u001b[1m \u001b[0m\u001b[1mBLUE VP\u001b[0m\u001b[1m \u001b[0m│\u001b[1m \u001b[0m\u001b[1mWHITE VP\u001b[0m\u001b[1m \u001b[0m│\u001b[1m \u001b[0m\u001b[1mWINNER\u001b[0m\u001b[1m \u001b[0m \n",
       "╶────┼───────────────────────┼───────┼───────────┼────────┼─────────┼──────────┼────────╴\n",
       "   1 │ \u001b[33mORANGE\u001b[0m,\u001b[34mBLUE\u001b[0m,\u001b[37mWHITE\u001b[0m,\u001b[31mRED\u001b[0m │   362 │        10 │      4 │       3 │        2 │ \u001b[33mORANGE\u001b[0m  \n",
       "   2 │ \u001b[31mRED\u001b[0m,\u001b[37mWHITE\u001b[0m,\u001b[34mBLUE\u001b[0m,\u001b[33mORANGE\u001b[0m │   100 │         3 │      3 │      10 │        8 │ \u001b[34mBLUE\u001b[0m    \n",
       "   3 │ \u001b[37mWHITE\u001b[0m,\u001b[33mORANGE\u001b[0m,\u001b[34mBLUE\u001b[0m,\u001b[31mRED\u001b[0m │   176 │         8 │      2 │      10 │        5 │ \u001b[34mBLUE\u001b[0m    \n",
       "   4 │ \u001b[34mBLUE\u001b[0m,\u001b[33mORANGE\u001b[0m,\u001b[37mWHITE\u001b[0m,\u001b[31mRED\u001b[0m │   107 │        10 │      2 │       2 │        3 │ \u001b[33mORANGE\u001b[0m  \n",
       "   5 │ \u001b[34mBLUE\u001b[0m,\u001b[37mWHITE\u001b[0m,\u001b[33mORANGE\u001b[0m,\u001b[31mRED\u001b[0m │   184 │        10 │      4 │       6 │        5 │ \u001b[33mORANGE\u001b[0m  \n",
       "   6 │ \u001b[37mWHITE\u001b[0m,\u001b[31mRED\u001b[0m,\u001b[33mORANGE\u001b[0m,\u001b[34mBLUE\u001b[0m │   288 │        10 │      2 │       4 │        5 │ \u001b[33mORANGE\u001b[0m  \n",
       "   7 │ \u001b[34mBLUE\u001b[0m,\u001b[31mRED\u001b[0m,\u001b[33mORANGE\u001b[0m,\u001b[37mWHITE\u001b[0m │   254 │         8 │      2 │      10 │        8 │ \u001b[34mBLUE\u001b[0m    \n",
       "   8 │ \u001b[31mRED\u001b[0m,\u001b[34mBLUE\u001b[0m,\u001b[37mWHITE\u001b[0m,\u001b[33mORANGE\u001b[0m │   151 │         3 │      2 │      10 │        6 │ \u001b[34mBLUE\u001b[0m    \n",
       "   9 │ \u001b[31mRED\u001b[0m,\u001b[34mBLUE\u001b[0m,\u001b[33mORANGE\u001b[0m,\u001b[37mWHITE\u001b[0m │   359 │         3 │      2 │      11 │        3 │ \u001b[34mBLUE\u001b[0m    \n",
       "  10 │ \u001b[34mBLUE\u001b[0m,\u001b[31mRED\u001b[0m,\u001b[33mORANGE\u001b[0m,\u001b[37mWHITE\u001b[0m │   649 │         4 │      3 │       5 │       11 │ \u001b[37mWHITE\u001b[0m   \n",
       "     ╵                       ╵       ╵           ╵        ╵         ╵          ╵         \n"
      ]
     },
     "metadata": {},
     "output_type": "display_data"
    },
    {
     "data": {
      "text/html": [
       "<pre style=\"white-space:pre;overflow-x:auto;line-height:normal;font-family:Menlo,'DejaVu Sans Mono',consolas,'Courier New',monospace\"><span style=\"font-style: italic\">                                               Player Summary                                                </span>\n",
       "                              ╷      ╷        ╷             ╷            ╷          ╷          ╷             \n",
       " <span style=\"font-weight: bold\">                             </span>│<span style=\"font-weight: bold\"> WINS </span>│<span style=\"font-weight: bold\"> AVG VP </span>│<span style=\"font-weight: bold\"> AVG SETTLES </span>│<span style=\"font-weight: bold\"> AVG CITIES </span>│<span style=\"font-weight: bold\"> AVG ROAD </span>│<span style=\"font-weight: bold\"> AVG ARMY </span>│<span style=\"font-weight: bold\"> AVG DEV VP </span> \n",
       "╶─────────────────────────────┼──────┼────────┼─────────────┼────────────┼──────────┼──────────┼────────────╴\n",
       "  <span style=\"color: #808000; text-decoration-color: #808000\">WeightedRandomPlayer:ORANGE</span> │    4 │   6.90 │        1.50 │       1.20 │     0.30 │     0.40 │       1.60  \n",
       "  <span style=\"color: #800000; text-decoration-color: #800000\">AB_DQNPlayer_1:RED</span>          │    0 │   2.60 │        1.70 │       0.40 │     0.00 │     0.00 │       0.10  \n",
       "  <span style=\"color: #000080; text-decoration-color: #000080\">WeightedRandomPlayer:BLUE</span>   │    5 │   7.10 │        2.00 │       1.10 │     0.30 │     0.50 │       1.30  \n",
       "  <span style=\"color: #c0c0c0; text-decoration-color: #c0c0c0\">WeightedRandomPlayer:WHITE</span>  │    1 │   5.60 │        2.40 │       0.60 │     0.40 │     0.10 │       1.00  \n",
       "                              ╵      ╵        ╵             ╵            ╵          ╵          ╵             \n",
       "</pre>\n"
      ],
      "text/plain": [
       "\u001b[3m                                               Player Summary                                                \u001b[0m\n",
       "                              ╷      ╷        ╷             ╷            ╷          ╷          ╷             \n",
       " \u001b[1m \u001b[0m\u001b[1m                           \u001b[0m\u001b[1m \u001b[0m│\u001b[1m \u001b[0m\u001b[1mWINS\u001b[0m\u001b[1m \u001b[0m│\u001b[1m \u001b[0m\u001b[1mAVG VP\u001b[0m\u001b[1m \u001b[0m│\u001b[1m \u001b[0m\u001b[1mAVG SETTLES\u001b[0m\u001b[1m \u001b[0m│\u001b[1m \u001b[0m\u001b[1mAVG CITIES\u001b[0m\u001b[1m \u001b[0m│\u001b[1m \u001b[0m\u001b[1mAVG ROAD\u001b[0m\u001b[1m \u001b[0m│\u001b[1m \u001b[0m\u001b[1mAVG ARMY\u001b[0m\u001b[1m \u001b[0m│\u001b[1m \u001b[0m\u001b[1mAVG DEV VP\u001b[0m\u001b[1m \u001b[0m \n",
       "╶─────────────────────────────┼──────┼────────┼─────────────┼────────────┼──────────┼──────────┼────────────╴\n",
       "  \u001b[33mWeightedRandomPlayer:ORANGE\u001b[0m │    4 │   6.90 │        1.50 │       1.20 │     0.30 │     0.40 │       1.60  \n",
       "  \u001b[31mAB_DQNPlayer_1:RED\u001b[0m          │    0 │   2.60 │        1.70 │       0.40 │     0.00 │     0.00 │       0.10  \n",
       "  \u001b[34mWeightedRandomPlayer:BLUE\u001b[0m   │    5 │   7.10 │        2.00 │       1.10 │     0.30 │     0.50 │       1.30  \n",
       "  \u001b[37mWeightedRandomPlayer:WHITE\u001b[0m  │    1 │   5.60 │        2.40 │       0.60 │     0.40 │     0.10 │       1.00  \n",
       "                              ╵      ╵        ╵             ╵            ╵          ╵          ╵             \n"
      ]
     },
     "metadata": {},
     "output_type": "display_data"
    },
    {
     "data": {
      "text/html": [
       "<pre style=\"white-space:pre;overflow-x:auto;line-height:normal;font-family:Menlo,'DejaVu Sans Mono',consolas,'Courier New',monospace\"><span style=\"font-style: italic\">              Game Summary              </span>\n",
       "            ╷           ╷               \n",
       " <span style=\"font-weight: bold\"> AVG TICKS </span>│<span style=\"font-weight: bold\"> AVG TURNS </span>│<span style=\"font-weight: bold\"> AVG DURATION </span> \n",
       "╶───────────┼───────────┼──────────────╴\n",
       "     733.10 │    263.00 │  13.962 secs  \n",
       "            ╵           ╵               \n",
       "</pre>\n"
      ],
      "text/plain": [
       "\u001b[3m              Game Summary              \u001b[0m\n",
       "            ╷           ╷               \n",
       " \u001b[1m \u001b[0m\u001b[1mAVG TICKS\u001b[0m\u001b[1m \u001b[0m│\u001b[1m \u001b[0m\u001b[1mAVG TURNS\u001b[0m\u001b[1m \u001b[0m│\u001b[1m \u001b[0m\u001b[1mAVG DURATION\u001b[0m\u001b[1m \u001b[0m \n",
       "╶───────────┼───────────┼──────────────╴\n",
       "     733.10 │    263.00 │  13.962 secs  \n",
       "            ╵           ╵               \n"
      ]
     },
     "metadata": {},
     "output_type": "display_data"
    },
    {
     "name": "stdout",
     "output_type": "stream",
     "text": [
      "Loaded replay buffer with 1306 transitions\n",
      "atch 38/50: Playing 10 games\n"
     ]
    },
    {
     "data": {
      "text/html": [
       "<pre style=\"white-space:pre;overflow-x:auto;line-height:normal;font-family:Menlo,'DejaVu Sans Mono',consolas,'Courier New',monospace\">Cleared replay buffer to refresh training examples.\n",
       "</pre>\n"
      ],
      "text/plain": [
       "Cleared replay buffer to refresh training examples.\n"
      ]
     },
     "metadata": {},
     "output_type": "display_data"
    },
    {
     "data": {
      "text/html": [
       "<pre style=\"white-space:pre;overflow-x:auto;line-height:normal;font-family:Menlo,'DejaVu Sans Mono',consolas,'Courier New',monospace\">Reward variance in batch: 0.0000\n",
       "</pre>\n"
      ],
      "text/plain": [
       "Reward variance in batch: 0.0000\n"
      ]
     },
     "metadata": {},
     "output_type": "display_data"
    },
    {
     "data": {
      "text/html": [
       "<pre style=\"white-space:pre;overflow-x:auto;line-height:normal;font-family:Menlo,'DejaVu Sans Mono',consolas,'Courier New',monospace\">Trained DQN model with loss: 99.6736\n",
       "</pre>\n"
      ],
      "text/plain": [
       "Trained DQN model with loss: 99.6736\n"
      ]
     },
     "metadata": {},
     "output_type": "display_data"
    },
    {
     "data": {
      "text/html": [
       "<pre style=\"white-space:pre;overflow-x:auto;line-height:normal;font-family:Menlo,'DejaVu Sans Mono',consolas,'Courier New',monospace\">Avg pred: -0.0656, Avg target: 9.9132\n",
       "</pre>\n"
      ],
      "text/plain": [
       "Avg pred: -0.0656, Avg target: 9.9132\n"
      ]
     },
     "metadata": {},
     "output_type": "display_data"
    },
    {
     "data": {
      "text/html": [
       "<pre style=\"white-space:pre;overflow-x:auto;line-height:normal;font-family:Menlo,'DejaVu Sans Mono',consolas,'Courier New',monospace\">Cleared replay buffer to refresh training examples.\n",
       "</pre>\n"
      ],
      "text/plain": [
       "Cleared replay buffer to refresh training examples.\n"
      ]
     },
     "metadata": {},
     "output_type": "display_data"
    },
    {
     "data": {
      "text/html": [
       "<pre style=\"white-space:pre;overflow-x:auto;line-height:normal;font-family:Menlo,'DejaVu Sans Mono',consolas,'Courier New',monospace\">Reward variance in batch: 0.0000\n",
       "</pre>\n"
      ],
      "text/plain": [
       "Reward variance in batch: 0.0000\n"
      ]
     },
     "metadata": {},
     "output_type": "display_data"
    },
    {
     "data": {
      "text/html": [
       "<pre style=\"white-space:pre;overflow-x:auto;line-height:normal;font-family:Menlo,'DejaVu Sans Mono',consolas,'Courier New',monospace\">Trained DQN model with loss: 100.8869\n",
       "</pre>\n"
      ],
      "text/plain": [
       "Trained DQN model with loss: 100.8869\n"
      ]
     },
     "metadata": {},
     "output_type": "display_data"
    },
    {
     "data": {
      "text/html": [
       "<pre style=\"white-space:pre;overflow-x:auto;line-height:normal;font-family:Menlo,'DejaVu Sans Mono',consolas,'Courier New',monospace\">Avg pred: -0.0979, Avg target: 9.9427\n",
       "</pre>\n"
      ],
      "text/plain": [
       "Avg pred: -0.0979, Avg target: 9.9427\n"
      ]
     },
     "metadata": {},
     "output_type": "display_data"
    },
    {
     "data": {
      "text/html": [
       "<pre style=\"white-space:pre;overflow-x:auto;line-height:normal;font-family:Menlo,'DejaVu Sans Mono',consolas,'Courier New',monospace\"></pre>\n"
      ],
      "text/plain": []
     },
     "metadata": {},
     "output_type": "display_data"
    },
    {
     "data": {
      "text/html": [
       "<pre style=\"white-space:pre;overflow-x:auto;line-height:normal;font-family:Menlo,'DejaVu Sans Mono',consolas,'Courier New',monospace\">\n",
       "</pre>\n"
      ],
      "text/plain": [
       "\n"
      ]
     },
     "metadata": {},
     "output_type": "display_data"
    },
    {
     "data": {
      "text/html": [
       "<pre style=\"white-space:pre;overflow-x:auto;line-height:normal;font-family:Menlo,'DejaVu Sans Mono',consolas,'Courier New',monospace\"><span style=\"font-style: italic\">                                      Last 10 Games                                      </span>\n",
       "     ╷                       ╷       ╷        ╷          ╷         ╷           ╷         \n",
       " <span style=\"font-weight: bold\">  # </span>│<span style=\"font-weight: bold\"> SEATING               </span>│<span style=\"font-weight: bold\"> TURNS </span>│<span style=\"font-weight: bold\"> RED VP </span>│<span style=\"font-weight: bold\"> WHITE VP </span>│<span style=\"font-weight: bold\"> BLUE VP </span>│<span style=\"font-weight: bold\"> ORANGE VP </span>│<span style=\"font-weight: bold\"> WINNER </span> \n",
       "╶────┼───────────────────────┼───────┼────────┼──────────┼─────────┼───────────┼────────╴\n",
       "   1 │ <span style=\"color: #c0c0c0; text-decoration-color: #c0c0c0\">WHITE</span>,<span style=\"color: #808000; text-decoration-color: #808000\">ORANGE</span>,<span style=\"color: #000080; text-decoration-color: #000080\">BLUE</span>,<span style=\"color: #800000; text-decoration-color: #800000\">RED</span> │   556 │      5 │        8 │      10 │         5 │ <span style=\"color: #000080; text-decoration-color: #000080\">BLUE</span>    \n",
       "   2 │ <span style=\"color: #808000; text-decoration-color: #808000\">ORANGE</span>,<span style=\"color: #000080; text-decoration-color: #000080\">BLUE</span>,<span style=\"color: #800000; text-decoration-color: #800000\">RED</span>,<span style=\"color: #c0c0c0; text-decoration-color: #c0c0c0\">WHITE</span> │   283 │      2 │        2 │      10 │         5 │ <span style=\"color: #000080; text-decoration-color: #000080\">BLUE</span>    \n",
       "   3 │ <span style=\"color: #000080; text-decoration-color: #000080\">BLUE</span>,<span style=\"color: #c0c0c0; text-decoration-color: #c0c0c0\">WHITE</span>,<span style=\"color: #800000; text-decoration-color: #800000\">RED</span>,<span style=\"color: #808000; text-decoration-color: #808000\">ORANGE</span> │   205 │      3 │        3 │       2 │        10 │ <span style=\"color: #808000; text-decoration-color: #808000\">ORANGE</span>  \n",
       "   4 │ <span style=\"color: #800000; text-decoration-color: #800000\">RED</span>,<span style=\"color: #000080; text-decoration-color: #000080\">BLUE</span>,<span style=\"color: #c0c0c0; text-decoration-color: #c0c0c0\">WHITE</span>,<span style=\"color: #808000; text-decoration-color: #808000\">ORANGE</span> │   440 │      3 │       10 │       4 │         7 │ <span style=\"color: #c0c0c0; text-decoration-color: #c0c0c0\">WHITE</span>   \n",
       "   5 │ <span style=\"color: #c0c0c0; text-decoration-color: #c0c0c0\">WHITE</span>,<span style=\"color: #808000; text-decoration-color: #808000\">ORANGE</span>,<span style=\"color: #800000; text-decoration-color: #800000\">RED</span>,<span style=\"color: #000080; text-decoration-color: #000080\">BLUE</span> │   291 │      4 │        3 │       2 │        10 │ <span style=\"color: #808000; text-decoration-color: #808000\">ORANGE</span>  \n",
       "   6 │ <span style=\"color: #000080; text-decoration-color: #000080\">BLUE</span>,<span style=\"color: #800000; text-decoration-color: #800000\">RED</span>,<span style=\"color: #808000; text-decoration-color: #808000\">ORANGE</span>,<span style=\"color: #c0c0c0; text-decoration-color: #c0c0c0\">WHITE</span> │   458 │      2 │        3 │      10 │         9 │ <span style=\"color: #000080; text-decoration-color: #000080\">BLUE</span>    \n",
       "   7 │ <span style=\"color: #808000; text-decoration-color: #808000\">ORANGE</span>,<span style=\"color: #000080; text-decoration-color: #000080\">BLUE</span>,<span style=\"color: #c0c0c0; text-decoration-color: #c0c0c0\">WHITE</span>,<span style=\"color: #800000; text-decoration-color: #800000\">RED</span> │   671 │      2 │        3 │      10 │         9 │ <span style=\"color: #000080; text-decoration-color: #000080\">BLUE</span>    \n",
       "   8 │ <span style=\"color: #000080; text-decoration-color: #000080\">BLUE</span>,<span style=\"color: #c0c0c0; text-decoration-color: #c0c0c0\">WHITE</span>,<span style=\"color: #800000; text-decoration-color: #800000\">RED</span>,<span style=\"color: #808000; text-decoration-color: #808000\">ORANGE</span> │   121 │      2 │        2 │       2 │        10 │ <span style=\"color: #808000; text-decoration-color: #808000\">ORANGE</span>  \n",
       "   9 │ <span style=\"color: #800000; text-decoration-color: #800000\">RED</span>,<span style=\"color: #000080; text-decoration-color: #000080\">BLUE</span>,<span style=\"color: #808000; text-decoration-color: #808000\">ORANGE</span>,<span style=\"color: #c0c0c0; text-decoration-color: #c0c0c0\">WHITE</span> │   323 │      3 │        4 │      11 │         4 │ <span style=\"color: #000080; text-decoration-color: #000080\">BLUE</span>    \n",
       "  10 │ <span style=\"color: #c0c0c0; text-decoration-color: #c0c0c0\">WHITE</span>,<span style=\"color: #800000; text-decoration-color: #800000\">RED</span>,<span style=\"color: #000080; text-decoration-color: #000080\">BLUE</span>,<span style=\"color: #808000; text-decoration-color: #808000\">ORANGE</span> │   297 │      2 │        5 │       7 │        10 │ <span style=\"color: #808000; text-decoration-color: #808000\">ORANGE</span>  \n",
       "     ╵                       ╵       ╵        ╵          ╵         ╵           ╵         \n",
       "</pre>\n"
      ],
      "text/plain": [
       "\u001b[3m                                      Last 10 Games                                      \u001b[0m\n",
       "     ╷                       ╷       ╷        ╷          ╷         ╷           ╷         \n",
       " \u001b[1m \u001b[0m\u001b[1m #\u001b[0m\u001b[1m \u001b[0m│\u001b[1m \u001b[0m\u001b[1mSEATING              \u001b[0m\u001b[1m \u001b[0m│\u001b[1m \u001b[0m\u001b[1mTURNS\u001b[0m\u001b[1m \u001b[0m│\u001b[1m \u001b[0m\u001b[1mRED VP\u001b[0m\u001b[1m \u001b[0m│\u001b[1m \u001b[0m\u001b[1mWHITE VP\u001b[0m\u001b[1m \u001b[0m│\u001b[1m \u001b[0m\u001b[1mBLUE VP\u001b[0m\u001b[1m \u001b[0m│\u001b[1m \u001b[0m\u001b[1mORANGE VP\u001b[0m\u001b[1m \u001b[0m│\u001b[1m \u001b[0m\u001b[1mWINNER\u001b[0m\u001b[1m \u001b[0m \n",
       "╶────┼───────────────────────┼───────┼────────┼──────────┼─────────┼───────────┼────────╴\n",
       "   1 │ \u001b[37mWHITE\u001b[0m,\u001b[33mORANGE\u001b[0m,\u001b[34mBLUE\u001b[0m,\u001b[31mRED\u001b[0m │   556 │      5 │        8 │      10 │         5 │ \u001b[34mBLUE\u001b[0m    \n",
       "   2 │ \u001b[33mORANGE\u001b[0m,\u001b[34mBLUE\u001b[0m,\u001b[31mRED\u001b[0m,\u001b[37mWHITE\u001b[0m │   283 │      2 │        2 │      10 │         5 │ \u001b[34mBLUE\u001b[0m    \n",
       "   3 │ \u001b[34mBLUE\u001b[0m,\u001b[37mWHITE\u001b[0m,\u001b[31mRED\u001b[0m,\u001b[33mORANGE\u001b[0m │   205 │      3 │        3 │       2 │        10 │ \u001b[33mORANGE\u001b[0m  \n",
       "   4 │ \u001b[31mRED\u001b[0m,\u001b[34mBLUE\u001b[0m,\u001b[37mWHITE\u001b[0m,\u001b[33mORANGE\u001b[0m │   440 │      3 │       10 │       4 │         7 │ \u001b[37mWHITE\u001b[0m   \n",
       "   5 │ \u001b[37mWHITE\u001b[0m,\u001b[33mORANGE\u001b[0m,\u001b[31mRED\u001b[0m,\u001b[34mBLUE\u001b[0m │   291 │      4 │        3 │       2 │        10 │ \u001b[33mORANGE\u001b[0m  \n",
       "   6 │ \u001b[34mBLUE\u001b[0m,\u001b[31mRED\u001b[0m,\u001b[33mORANGE\u001b[0m,\u001b[37mWHITE\u001b[0m │   458 │      2 │        3 │      10 │         9 │ \u001b[34mBLUE\u001b[0m    \n",
       "   7 │ \u001b[33mORANGE\u001b[0m,\u001b[34mBLUE\u001b[0m,\u001b[37mWHITE\u001b[0m,\u001b[31mRED\u001b[0m │   671 │      2 │        3 │      10 │         9 │ \u001b[34mBLUE\u001b[0m    \n",
       "   8 │ \u001b[34mBLUE\u001b[0m,\u001b[37mWHITE\u001b[0m,\u001b[31mRED\u001b[0m,\u001b[33mORANGE\u001b[0m │   121 │      2 │        2 │       2 │        10 │ \u001b[33mORANGE\u001b[0m  \n",
       "   9 │ \u001b[31mRED\u001b[0m,\u001b[34mBLUE\u001b[0m,\u001b[33mORANGE\u001b[0m,\u001b[37mWHITE\u001b[0m │   323 │      3 │        4 │      11 │         4 │ \u001b[34mBLUE\u001b[0m    \n",
       "  10 │ \u001b[37mWHITE\u001b[0m,\u001b[31mRED\u001b[0m,\u001b[34mBLUE\u001b[0m,\u001b[33mORANGE\u001b[0m │   297 │      2 │        5 │       7 │        10 │ \u001b[33mORANGE\u001b[0m  \n",
       "     ╵                       ╵       ╵        ╵          ╵         ╵           ╵         \n"
      ]
     },
     "metadata": {},
     "output_type": "display_data"
    },
    {
     "data": {
      "text/html": [
       "<pre style=\"white-space:pre;overflow-x:auto;line-height:normal;font-family:Menlo,'DejaVu Sans Mono',consolas,'Courier New',monospace\"><span style=\"font-style: italic\">                                               Player Summary                                                </span>\n",
       "                              ╷      ╷        ╷             ╷            ╷          ╷          ╷             \n",
       " <span style=\"font-weight: bold\">                             </span>│<span style=\"font-weight: bold\"> WINS </span>│<span style=\"font-weight: bold\"> AVG VP </span>│<span style=\"font-weight: bold\"> AVG SETTLES </span>│<span style=\"font-weight: bold\"> AVG CITIES </span>│<span style=\"font-weight: bold\"> AVG ROAD </span>│<span style=\"font-weight: bold\"> AVG ARMY </span>│<span style=\"font-weight: bold\"> AVG DEV VP </span> \n",
       "╶─────────────────────────────┼──────┼────────┼─────────────┼────────────┼──────────┼──────────┼────────────╴\n",
       "  <span style=\"color: #800000; text-decoration-color: #800000\">AB_DQNPlayer_1:RED</span>          │    0 │   2.80 │        2.10 │       0.30 │     0.00 │     0.00 │       0.10  \n",
       "  <span style=\"color: #c0c0c0; text-decoration-color: #c0c0c0\">RandomPlayer:WHITE</span>          │    1 │   4.30 │        2.50 │       0.10 │     0.20 │     0.20 │       0.80  \n",
       "  <span style=\"color: #000080; text-decoration-color: #000080\">RandomPlayer:BLUE</span>           │    5 │   6.80 │        2.40 │       1.00 │     0.30 │     0.30 │       1.20  \n",
       "  <span style=\"color: #808000; text-decoration-color: #808000\">WeightedRandomPlayer:ORANGE</span> │    4 │   7.90 │        2.40 │       1.00 │     0.30 │     0.40 │       2.10  \n",
       "                              ╵      ╵        ╵             ╵            ╵          ╵          ╵             \n",
       "</pre>\n"
      ],
      "text/plain": [
       "\u001b[3m                                               Player Summary                                                \u001b[0m\n",
       "                              ╷      ╷        ╷             ╷            ╷          ╷          ╷             \n",
       " \u001b[1m \u001b[0m\u001b[1m                           \u001b[0m\u001b[1m \u001b[0m│\u001b[1m \u001b[0m\u001b[1mWINS\u001b[0m\u001b[1m \u001b[0m│\u001b[1m \u001b[0m\u001b[1mAVG VP\u001b[0m\u001b[1m \u001b[0m│\u001b[1m \u001b[0m\u001b[1mAVG SETTLES\u001b[0m\u001b[1m \u001b[0m│\u001b[1m \u001b[0m\u001b[1mAVG CITIES\u001b[0m\u001b[1m \u001b[0m│\u001b[1m \u001b[0m\u001b[1mAVG ROAD\u001b[0m\u001b[1m \u001b[0m│\u001b[1m \u001b[0m\u001b[1mAVG ARMY\u001b[0m\u001b[1m \u001b[0m│\u001b[1m \u001b[0m\u001b[1mAVG DEV VP\u001b[0m\u001b[1m \u001b[0m \n",
       "╶─────────────────────────────┼──────┼────────┼─────────────┼────────────┼──────────┼──────────┼────────────╴\n",
       "  \u001b[31mAB_DQNPlayer_1:RED\u001b[0m          │    0 │   2.80 │        2.10 │       0.30 │     0.00 │     0.00 │       0.10  \n",
       "  \u001b[37mRandomPlayer:WHITE\u001b[0m          │    1 │   4.30 │        2.50 │       0.10 │     0.20 │     0.20 │       0.80  \n",
       "  \u001b[34mRandomPlayer:BLUE\u001b[0m           │    5 │   6.80 │        2.40 │       1.00 │     0.30 │     0.30 │       1.20  \n",
       "  \u001b[33mWeightedRandomPlayer:ORANGE\u001b[0m │    4 │   7.90 │        2.40 │       1.00 │     0.30 │     0.40 │       2.10  \n",
       "                              ╵      ╵        ╵             ╵            ╵          ╵          ╵             \n"
      ]
     },
     "metadata": {},
     "output_type": "display_data"
    },
    {
     "data": {
      "text/html": [
       "<pre style=\"white-space:pre;overflow-x:auto;line-height:normal;font-family:Menlo,'DejaVu Sans Mono',consolas,'Courier New',monospace\"><span style=\"font-style: italic\">              Game Summary              </span>\n",
       "            ╷           ╷               \n",
       " <span style=\"font-weight: bold\"> AVG TICKS </span>│<span style=\"font-weight: bold\"> AVG TURNS </span>│<span style=\"font-weight: bold\"> AVG DURATION </span> \n",
       "╶───────────┼───────────┼──────────────╴\n",
       "    1026.50 │    364.50 │  20.362 secs  \n",
       "            ╵           ╵               \n",
       "</pre>\n"
      ],
      "text/plain": [
       "\u001b[3m              Game Summary              \u001b[0m\n",
       "            ╷           ╷               \n",
       " \u001b[1m \u001b[0m\u001b[1mAVG TICKS\u001b[0m\u001b[1m \u001b[0m│\u001b[1m \u001b[0m\u001b[1mAVG TURNS\u001b[0m\u001b[1m \u001b[0m│\u001b[1m \u001b[0m\u001b[1mAVG DURATION\u001b[0m\u001b[1m \u001b[0m \n",
       "╶───────────┼───────────┼──────────────╴\n",
       "    1026.50 │    364.50 │  20.362 secs  \n",
       "            ╵           ╵               \n"
      ]
     },
     "metadata": {},
     "output_type": "display_data"
    },
    {
     "name": "stdout",
     "output_type": "stream",
     "text": [
      "Loaded replay buffer with 5000 transitions\n",
      "atch 39/50: Playing 10 games\n"
     ]
    },
    {
     "data": {
      "text/html": [
       "<pre style=\"white-space:pre;overflow-x:auto;line-height:normal;font-family:Menlo,'DejaVu Sans Mono',consolas,'Courier New',monospace\">Cleared replay buffer to refresh training examples.\n",
       "</pre>\n"
      ],
      "text/plain": [
       "Cleared replay buffer to refresh training examples.\n"
      ]
     },
     "metadata": {},
     "output_type": "display_data"
    },
    {
     "data": {
      "text/html": [
       "<pre style=\"white-space:pre;overflow-x:auto;line-height:normal;font-family:Menlo,'DejaVu Sans Mono',consolas,'Courier New',monospace\">Reward variance in batch: 0.0000\n",
       "</pre>\n"
      ],
      "text/plain": [
       "Reward variance in batch: 0.0000\n"
      ]
     },
     "metadata": {},
     "output_type": "display_data"
    },
    {
     "data": {
      "text/html": [
       "<pre style=\"white-space:pre;overflow-x:auto;line-height:normal;font-family:Menlo,'DejaVu Sans Mono',consolas,'Courier New',monospace\">Trained DQN model with loss: 102.6806\n",
       "</pre>\n"
      ],
      "text/plain": [
       "Trained DQN model with loss: 102.6806\n"
      ]
     },
     "metadata": {},
     "output_type": "display_data"
    },
    {
     "data": {
      "text/html": [
       "<pre style=\"white-space:pre;overflow-x:auto;line-height:normal;font-family:Menlo,'DejaVu Sans Mono',consolas,'Courier New',monospace\">Avg pred: -0.1386, Avg target: 9.9903\n",
       "</pre>\n"
      ],
      "text/plain": [
       "Avg pred: -0.1386, Avg target: 9.9903\n"
      ]
     },
     "metadata": {},
     "output_type": "display_data"
    },
    {
     "data": {
      "text/html": [
       "<pre style=\"white-space:pre;overflow-x:auto;line-height:normal;font-family:Menlo,'DejaVu Sans Mono',consolas,'Courier New',monospace\">Cleared replay buffer to refresh training examples.\n",
       "</pre>\n"
      ],
      "text/plain": [
       "Cleared replay buffer to refresh training examples.\n"
      ]
     },
     "metadata": {},
     "output_type": "display_data"
    },
    {
     "data": {
      "text/html": [
       "<pre style=\"white-space:pre;overflow-x:auto;line-height:normal;font-family:Menlo,'DejaVu Sans Mono',consolas,'Courier New',monospace\">Reward variance in batch: 0.0000\n",
       "</pre>\n"
      ],
      "text/plain": [
       "Reward variance in batch: 0.0000\n"
      ]
     },
     "metadata": {},
     "output_type": "display_data"
    },
    {
     "data": {
      "text/html": [
       "<pre style=\"white-space:pre;overflow-x:auto;line-height:normal;font-family:Menlo,'DejaVu Sans Mono',consolas,'Courier New',monospace\">Trained DQN model with loss: 102.1929\n",
       "</pre>\n"
      ],
      "text/plain": [
       "Trained DQN model with loss: 102.1929\n"
      ]
     },
     "metadata": {},
     "output_type": "display_data"
    },
    {
     "data": {
      "text/html": [
       "<pre style=\"white-space:pre;overflow-x:auto;line-height:normal;font-family:Menlo,'DejaVu Sans Mono',consolas,'Courier New',monospace\">Avg pred: -0.1266, Avg target: 9.9791\n",
       "</pre>\n"
      ],
      "text/plain": [
       "Avg pred: -0.1266, Avg target: 9.9791\n"
      ]
     },
     "metadata": {},
     "output_type": "display_data"
    },
    {
     "data": {
      "text/html": [
       "<pre style=\"white-space:pre;overflow-x:auto;line-height:normal;font-family:Menlo,'DejaVu Sans Mono',consolas,'Courier New',monospace\"></pre>\n"
      ],
      "text/plain": []
     },
     "metadata": {},
     "output_type": "display_data"
    },
    {
     "data": {
      "text/html": [
       "<pre style=\"white-space:pre;overflow-x:auto;line-height:normal;font-family:Menlo,'DejaVu Sans Mono',consolas,'Courier New',monospace\">\n",
       "</pre>\n"
      ],
      "text/plain": [
       "\n"
      ]
     },
     "metadata": {},
     "output_type": "display_data"
    },
    {
     "data": {
      "text/html": [
       "<pre style=\"white-space:pre;overflow-x:auto;line-height:normal;font-family:Menlo,'DejaVu Sans Mono',consolas,'Courier New',monospace\"><span style=\"font-style: italic\">                                      Last 10 Games                                      </span>\n",
       "     ╷                       ╷       ╷          ╷         ╷        ╷           ╷         \n",
       " <span style=\"font-weight: bold\">  # </span>│<span style=\"font-weight: bold\"> SEATING               </span>│<span style=\"font-weight: bold\"> TURNS </span>│<span style=\"font-weight: bold\"> WHITE VP </span>│<span style=\"font-weight: bold\"> BLUE VP </span>│<span style=\"font-weight: bold\"> RED VP </span>│<span style=\"font-weight: bold\"> ORANGE VP </span>│<span style=\"font-weight: bold\"> WINNER </span> \n",
       "╶────┼───────────────────────┼───────┼──────────┼─────────┼────────┼───────────┼────────╴\n",
       "   1 │ <span style=\"color: #800000; text-decoration-color: #800000\">RED</span>,<span style=\"color: #c0c0c0; text-decoration-color: #c0c0c0\">WHITE</span>,<span style=\"color: #000080; text-decoration-color: #000080\">BLUE</span>,<span style=\"color: #808000; text-decoration-color: #808000\">ORANGE</span> │   273 │        2 │       6 │      4 │        10 │ <span style=\"color: #808000; text-decoration-color: #808000\">ORANGE</span>  \n",
       "   2 │ <span style=\"color: #808000; text-decoration-color: #808000\">ORANGE</span>,<span style=\"color: #800000; text-decoration-color: #800000\">RED</span>,<span style=\"color: #c0c0c0; text-decoration-color: #c0c0c0\">WHITE</span>,<span style=\"color: #000080; text-decoration-color: #000080\">BLUE</span> │   142 │        3 │       3 │      4 │        10 │ <span style=\"color: #808000; text-decoration-color: #808000\">ORANGE</span>  \n",
       "   3 │ <span style=\"color: #800000; text-decoration-color: #800000\">RED</span>,<span style=\"color: #000080; text-decoration-color: #000080\">BLUE</span>,<span style=\"color: #808000; text-decoration-color: #808000\">ORANGE</span>,<span style=\"color: #c0c0c0; text-decoration-color: #c0c0c0\">WHITE</span> │   304 │        5 │       4 │      2 │        10 │ <span style=\"color: #808000; text-decoration-color: #808000\">ORANGE</span>  \n",
       "   4 │ <span style=\"color: #800000; text-decoration-color: #800000\">RED</span>,<span style=\"color: #c0c0c0; text-decoration-color: #c0c0c0\">WHITE</span>,<span style=\"color: #000080; text-decoration-color: #000080\">BLUE</span>,<span style=\"color: #808000; text-decoration-color: #808000\">ORANGE</span> │   217 │        6 │       2 │      2 │        10 │ <span style=\"color: #808000; text-decoration-color: #808000\">ORANGE</span>  \n",
       "   5 │ <span style=\"color: #c0c0c0; text-decoration-color: #c0c0c0\">WHITE</span>,<span style=\"color: #000080; text-decoration-color: #000080\">BLUE</span>,<span style=\"color: #808000; text-decoration-color: #808000\">ORANGE</span>,<span style=\"color: #800000; text-decoration-color: #800000\">RED</span> │   611 │        8 │      10 │      2 │         5 │ <span style=\"color: #000080; text-decoration-color: #000080\">BLUE</span>    \n",
       "   6 │ <span style=\"color: #c0c0c0; text-decoration-color: #c0c0c0\">WHITE</span>,<span style=\"color: #000080; text-decoration-color: #000080\">BLUE</span>,<span style=\"color: #808000; text-decoration-color: #808000\">ORANGE</span>,<span style=\"color: #800000; text-decoration-color: #800000\">RED</span> │   540 │        7 │       3 │      3 │        10 │ <span style=\"color: #808000; text-decoration-color: #808000\">ORANGE</span>  \n",
       "   7 │ <span style=\"color: #800000; text-decoration-color: #800000\">RED</span>,<span style=\"color: #000080; text-decoration-color: #000080\">BLUE</span>,<span style=\"color: #808000; text-decoration-color: #808000\">ORANGE</span>,<span style=\"color: #c0c0c0; text-decoration-color: #c0c0c0\">WHITE</span> │   196 │        3 │       5 │      2 │        10 │ <span style=\"color: #808000; text-decoration-color: #808000\">ORANGE</span>  \n",
       "   8 │ <span style=\"color: #000080; text-decoration-color: #000080\">BLUE</span>,<span style=\"color: #808000; text-decoration-color: #808000\">ORANGE</span>,<span style=\"color: #800000; text-decoration-color: #800000\">RED</span>,<span style=\"color: #c0c0c0; text-decoration-color: #c0c0c0\">WHITE</span> │   437 │       10 │       5 │      2 │         7 │ <span style=\"color: #c0c0c0; text-decoration-color: #c0c0c0\">WHITE</span>   \n",
       "   9 │ <span style=\"color: #800000; text-decoration-color: #800000\">RED</span>,<span style=\"color: #808000; text-decoration-color: #808000\">ORANGE</span>,<span style=\"color: #c0c0c0; text-decoration-color: #c0c0c0\">WHITE</span>,<span style=\"color: #000080; text-decoration-color: #000080\">BLUE</span> │   255 │        2 │       7 │      2 │        10 │ <span style=\"color: #808000; text-decoration-color: #808000\">ORANGE</span>  \n",
       "  10 │ <span style=\"color: #c0c0c0; text-decoration-color: #c0c0c0\">WHITE</span>,<span style=\"color: #808000; text-decoration-color: #808000\">ORANGE</span>,<span style=\"color: #800000; text-decoration-color: #800000\">RED</span>,<span style=\"color: #000080; text-decoration-color: #000080\">BLUE</span> │   267 │        3 │       5 │      2 │        10 │ <span style=\"color: #808000; text-decoration-color: #808000\">ORANGE</span>  \n",
       "     ╵                       ╵       ╵          ╵         ╵        ╵           ╵         \n",
       "</pre>\n"
      ],
      "text/plain": [
       "\u001b[3m                                      Last 10 Games                                      \u001b[0m\n",
       "     ╷                       ╷       ╷          ╷         ╷        ╷           ╷         \n",
       " \u001b[1m \u001b[0m\u001b[1m #\u001b[0m\u001b[1m \u001b[0m│\u001b[1m \u001b[0m\u001b[1mSEATING              \u001b[0m\u001b[1m \u001b[0m│\u001b[1m \u001b[0m\u001b[1mTURNS\u001b[0m\u001b[1m \u001b[0m│\u001b[1m \u001b[0m\u001b[1mWHITE VP\u001b[0m\u001b[1m \u001b[0m│\u001b[1m \u001b[0m\u001b[1mBLUE VP\u001b[0m\u001b[1m \u001b[0m│\u001b[1m \u001b[0m\u001b[1mRED VP\u001b[0m\u001b[1m \u001b[0m│\u001b[1m \u001b[0m\u001b[1mORANGE VP\u001b[0m\u001b[1m \u001b[0m│\u001b[1m \u001b[0m\u001b[1mWINNER\u001b[0m\u001b[1m \u001b[0m \n",
       "╶────┼───────────────────────┼───────┼──────────┼─────────┼────────┼───────────┼────────╴\n",
       "   1 │ \u001b[31mRED\u001b[0m,\u001b[37mWHITE\u001b[0m,\u001b[34mBLUE\u001b[0m,\u001b[33mORANGE\u001b[0m │   273 │        2 │       6 │      4 │        10 │ \u001b[33mORANGE\u001b[0m  \n",
       "   2 │ \u001b[33mORANGE\u001b[0m,\u001b[31mRED\u001b[0m,\u001b[37mWHITE\u001b[0m,\u001b[34mBLUE\u001b[0m │   142 │        3 │       3 │      4 │        10 │ \u001b[33mORANGE\u001b[0m  \n",
       "   3 │ \u001b[31mRED\u001b[0m,\u001b[34mBLUE\u001b[0m,\u001b[33mORANGE\u001b[0m,\u001b[37mWHITE\u001b[0m │   304 │        5 │       4 │      2 │        10 │ \u001b[33mORANGE\u001b[0m  \n",
       "   4 │ \u001b[31mRED\u001b[0m,\u001b[37mWHITE\u001b[0m,\u001b[34mBLUE\u001b[0m,\u001b[33mORANGE\u001b[0m │   217 │        6 │       2 │      2 │        10 │ \u001b[33mORANGE\u001b[0m  \n",
       "   5 │ \u001b[37mWHITE\u001b[0m,\u001b[34mBLUE\u001b[0m,\u001b[33mORANGE\u001b[0m,\u001b[31mRED\u001b[0m │   611 │        8 │      10 │      2 │         5 │ \u001b[34mBLUE\u001b[0m    \n",
       "   6 │ \u001b[37mWHITE\u001b[0m,\u001b[34mBLUE\u001b[0m,\u001b[33mORANGE\u001b[0m,\u001b[31mRED\u001b[0m │   540 │        7 │       3 │      3 │        10 │ \u001b[33mORANGE\u001b[0m  \n",
       "   7 │ \u001b[31mRED\u001b[0m,\u001b[34mBLUE\u001b[0m,\u001b[33mORANGE\u001b[0m,\u001b[37mWHITE\u001b[0m │   196 │        3 │       5 │      2 │        10 │ \u001b[33mORANGE\u001b[0m  \n",
       "   8 │ \u001b[34mBLUE\u001b[0m,\u001b[33mORANGE\u001b[0m,\u001b[31mRED\u001b[0m,\u001b[37mWHITE\u001b[0m │   437 │       10 │       5 │      2 │         7 │ \u001b[37mWHITE\u001b[0m   \n",
       "   9 │ \u001b[31mRED\u001b[0m,\u001b[33mORANGE\u001b[0m,\u001b[37mWHITE\u001b[0m,\u001b[34mBLUE\u001b[0m │   255 │        2 │       7 │      2 │        10 │ \u001b[33mORANGE\u001b[0m  \n",
       "  10 │ \u001b[37mWHITE\u001b[0m,\u001b[33mORANGE\u001b[0m,\u001b[31mRED\u001b[0m,\u001b[34mBLUE\u001b[0m │   267 │        3 │       5 │      2 │        10 │ \u001b[33mORANGE\u001b[0m  \n",
       "     ╵                       ╵       ╵          ╵         ╵        ╵           ╵         \n"
      ]
     },
     "metadata": {},
     "output_type": "display_data"
    },
    {
     "data": {
      "text/html": [
       "<pre style=\"white-space:pre;overflow-x:auto;line-height:normal;font-family:Menlo,'DejaVu Sans Mono',consolas,'Courier New',monospace\"><span style=\"font-style: italic\">                                               Player Summary                                                </span>\n",
       "                              ╷      ╷        ╷             ╷            ╷          ╷          ╷             \n",
       " <span style=\"font-weight: bold\">                             </span>│<span style=\"font-weight: bold\"> WINS </span>│<span style=\"font-weight: bold\"> AVG VP </span>│<span style=\"font-weight: bold\"> AVG SETTLES </span>│<span style=\"font-weight: bold\"> AVG CITIES </span>│<span style=\"font-weight: bold\"> AVG ROAD </span>│<span style=\"font-weight: bold\"> AVG ARMY </span>│<span style=\"font-weight: bold\"> AVG DEV VP </span> \n",
       "╶─────────────────────────────┼──────┼────────┼─────────────┼────────────┼──────────┼──────────┼────────────╴\n",
       "  <span style=\"color: #c0c0c0; text-decoration-color: #c0c0c0\">RandomPlayer:WHITE</span>          │    1 │   4.90 │        2.70 │       0.30 │     0.30 │     0.20 │       0.60  \n",
       "  <span style=\"color: #000080; text-decoration-color: #000080\">RandomPlayer:BLUE</span>           │    1 │   5.00 │        1.50 │       0.70 │     0.10 │     0.40 │       1.10  \n",
       "  <span style=\"color: #800000; text-decoration-color: #800000\">AB_DQNPlayer_1:RED</span>          │    0 │   2.50 │        2.00 │       0.00 │     0.10 │     0.00 │       0.30  \n",
       "  <span style=\"color: #808000; text-decoration-color: #808000\">WeightedRandomPlayer:ORANGE</span> │    8 │   9.20 │        3.10 │       1.20 │     0.50 │     0.40 │       1.90  \n",
       "                              ╵      ╵        ╵             ╵            ╵          ╵          ╵             \n",
       "</pre>\n"
      ],
      "text/plain": [
       "\u001b[3m                                               Player Summary                                                \u001b[0m\n",
       "                              ╷      ╷        ╷             ╷            ╷          ╷          ╷             \n",
       " \u001b[1m \u001b[0m\u001b[1m                           \u001b[0m\u001b[1m \u001b[0m│\u001b[1m \u001b[0m\u001b[1mWINS\u001b[0m\u001b[1m \u001b[0m│\u001b[1m \u001b[0m\u001b[1mAVG VP\u001b[0m\u001b[1m \u001b[0m│\u001b[1m \u001b[0m\u001b[1mAVG SETTLES\u001b[0m\u001b[1m \u001b[0m│\u001b[1m \u001b[0m\u001b[1mAVG CITIES\u001b[0m\u001b[1m \u001b[0m│\u001b[1m \u001b[0m\u001b[1mAVG ROAD\u001b[0m\u001b[1m \u001b[0m│\u001b[1m \u001b[0m\u001b[1mAVG ARMY\u001b[0m\u001b[1m \u001b[0m│\u001b[1m \u001b[0m\u001b[1mAVG DEV VP\u001b[0m\u001b[1m \u001b[0m \n",
       "╶─────────────────────────────┼──────┼────────┼─────────────┼────────────┼──────────┼──────────┼────────────╴\n",
       "  \u001b[37mRandomPlayer:WHITE\u001b[0m          │    1 │   4.90 │        2.70 │       0.30 │     0.30 │     0.20 │       0.60  \n",
       "  \u001b[34mRandomPlayer:BLUE\u001b[0m           │    1 │   5.00 │        1.50 │       0.70 │     0.10 │     0.40 │       1.10  \n",
       "  \u001b[31mAB_DQNPlayer_1:RED\u001b[0m          │    0 │   2.50 │        2.00 │       0.00 │     0.10 │     0.00 │       0.30  \n",
       "  \u001b[33mWeightedRandomPlayer:ORANGE\u001b[0m │    8 │   9.20 │        3.10 │       1.20 │     0.50 │     0.40 │       1.90  \n",
       "                              ╵      ╵        ╵             ╵            ╵          ╵          ╵             \n"
      ]
     },
     "metadata": {},
     "output_type": "display_data"
    },
    {
     "data": {
      "text/html": [
       "<pre style=\"white-space:pre;overflow-x:auto;line-height:normal;font-family:Menlo,'DejaVu Sans Mono',consolas,'Courier New',monospace\"><span style=\"font-style: italic\">              Game Summary              </span>\n",
       "            ╷           ╷               \n",
       " <span style=\"font-weight: bold\"> AVG TICKS </span>│<span style=\"font-weight: bold\"> AVG TURNS </span>│<span style=\"font-weight: bold\"> AVG DURATION </span> \n",
       "╶───────────┼───────────┼──────────────╴\n",
       "     913.00 │    324.20 │  17.294 secs  \n",
       "            ╵           ╵               \n",
       "</pre>\n"
      ],
      "text/plain": [
       "\u001b[3m              Game Summary              \u001b[0m\n",
       "            ╷           ╷               \n",
       " \u001b[1m \u001b[0m\u001b[1mAVG TICKS\u001b[0m\u001b[1m \u001b[0m│\u001b[1m \u001b[0m\u001b[1mAVG TURNS\u001b[0m\u001b[1m \u001b[0m│\u001b[1m \u001b[0m\u001b[1mAVG DURATION\u001b[0m\u001b[1m \u001b[0m \n",
       "╶───────────┼───────────┼──────────────╴\n",
       "     913.00 │    324.20 │  17.294 secs  \n",
       "            ╵           ╵               \n"
      ]
     },
     "metadata": {},
     "output_type": "display_data"
    },
    {
     "name": "stdout",
     "output_type": "stream",
     "text": [
      "Loaded replay buffer with 3830 transitions\n",
      "atch 40/50: Playing 10 games\n"
     ]
    },
    {
     "data": {
      "text/html": [
       "<pre style=\"white-space:pre;overflow-x:auto;line-height:normal;font-family:Menlo,'DejaVu Sans Mono',consolas,'Courier New',monospace\">Cleared replay buffer to refresh training examples.\n",
       "</pre>\n"
      ],
      "text/plain": [
       "Cleared replay buffer to refresh training examples.\n"
      ]
     },
     "metadata": {},
     "output_type": "display_data"
    },
    {
     "data": {
      "text/html": [
       "<pre style=\"white-space:pre;overflow-x:auto;line-height:normal;font-family:Menlo,'DejaVu Sans Mono',consolas,'Courier New',monospace\">Reward variance in batch: 0.0000\n",
       "</pre>\n"
      ],
      "text/plain": [
       "Reward variance in batch: 0.0000\n"
      ]
     },
     "metadata": {},
     "output_type": "display_data"
    },
    {
     "data": {
      "text/html": [
       "<pre style=\"white-space:pre;overflow-x:auto;line-height:normal;font-family:Menlo,'DejaVu Sans Mono',consolas,'Courier New',monospace\">Trained DQN model with loss: 102.0131\n",
       "</pre>\n"
      ],
      "text/plain": [
       "Trained DQN model with loss: 102.0131\n"
      ]
     },
     "metadata": {},
     "output_type": "display_data"
    },
    {
     "data": {
      "text/html": [
       "<pre style=\"white-space:pre;overflow-x:auto;line-height:normal;font-family:Menlo,'DejaVu Sans Mono',consolas,'Courier New',monospace\">Avg pred: -0.1148, Avg target: 9.9830\n",
       "</pre>\n"
      ],
      "text/plain": [
       "Avg pred: -0.1148, Avg target: 9.9830\n"
      ]
     },
     "metadata": {},
     "output_type": "display_data"
    },
    {
     "data": {
      "text/html": [
       "<pre style=\"white-space:pre;overflow-x:auto;line-height:normal;font-family:Menlo,'DejaVu Sans Mono',consolas,'Courier New',monospace\">Cleared replay buffer to refresh training examples.\n",
       "</pre>\n"
      ],
      "text/plain": [
       "Cleared replay buffer to refresh training examples.\n"
      ]
     },
     "metadata": {},
     "output_type": "display_data"
    },
    {
     "data": {
      "text/html": [
       "<pre style=\"white-space:pre;overflow-x:auto;line-height:normal;font-family:Menlo,'DejaVu Sans Mono',consolas,'Courier New',monospace\">Reward variance in batch: 0.0000\n",
       "</pre>\n"
      ],
      "text/plain": [
       "Reward variance in batch: 0.0000\n"
      ]
     },
     "metadata": {},
     "output_type": "display_data"
    },
    {
     "data": {
      "text/html": [
       "<pre style=\"white-space:pre;overflow-x:auto;line-height:normal;font-family:Menlo,'DejaVu Sans Mono',consolas,'Courier New',monospace\">Trained DQN model with loss: 101.8898\n",
       "</pre>\n"
      ],
      "text/plain": [
       "Trained DQN model with loss: 101.8898\n"
      ]
     },
     "metadata": {},
     "output_type": "display_data"
    },
    {
     "data": {
      "text/html": [
       "<pre style=\"white-space:pre;overflow-x:auto;line-height:normal;font-family:Menlo,'DejaVu Sans Mono',consolas,'Courier New',monospace\">Avg pred: -0.1253, Avg target: 9.9664\n",
       "</pre>\n"
      ],
      "text/plain": [
       "Avg pred: -0.1253, Avg target: 9.9664\n"
      ]
     },
     "metadata": {},
     "output_type": "display_data"
    },
    {
     "data": {
      "text/html": [
       "<pre style=\"white-space:pre;overflow-x:auto;line-height:normal;font-family:Menlo,'DejaVu Sans Mono',consolas,'Courier New',monospace\"></pre>\n"
      ],
      "text/plain": []
     },
     "metadata": {},
     "output_type": "display_data"
    },
    {
     "data": {
      "text/html": [
       "<pre style=\"white-space:pre;overflow-x:auto;line-height:normal;font-family:Menlo,'DejaVu Sans Mono',consolas,'Courier New',monospace\">\n",
       "</pre>\n"
      ],
      "text/plain": [
       "\n"
      ]
     },
     "metadata": {},
     "output_type": "display_data"
    },
    {
     "data": {
      "text/html": [
       "<pre style=\"white-space:pre;overflow-x:auto;line-height:normal;font-family:Menlo,'DejaVu Sans Mono',consolas,'Courier New',monospace\"><span style=\"font-style: italic\">                                      Last 10 Games                                      </span>\n",
       "     ╷                       ╷       ╷         ╷        ╷           ╷          ╷         \n",
       " <span style=\"font-weight: bold\">  # </span>│<span style=\"font-weight: bold\"> SEATING               </span>│<span style=\"font-weight: bold\"> TURNS </span>│<span style=\"font-weight: bold\"> BLUE VP </span>│<span style=\"font-weight: bold\"> RED VP </span>│<span style=\"font-weight: bold\"> ORANGE VP </span>│<span style=\"font-weight: bold\"> WHITE VP </span>│<span style=\"font-weight: bold\"> WINNER </span> \n",
       "╶────┼───────────────────────┼───────┼─────────┼────────┼───────────┼──────────┼────────╴\n",
       "   1 │ <span style=\"color: #c0c0c0; text-decoration-color: #c0c0c0\">WHITE</span>,<span style=\"color: #800000; text-decoration-color: #800000\">RED</span>,<span style=\"color: #000080; text-decoration-color: #000080\">BLUE</span>,<span style=\"color: #808000; text-decoration-color: #808000\">ORANGE</span> │   345 │       2 │      3 │        10 │        7 │ <span style=\"color: #808000; text-decoration-color: #808000\">ORANGE</span>  \n",
       "   2 │ <span style=\"color: #800000; text-decoration-color: #800000\">RED</span>,<span style=\"color: #808000; text-decoration-color: #808000\">ORANGE</span>,<span style=\"color: #000080; text-decoration-color: #000080\">BLUE</span>,<span style=\"color: #c0c0c0; text-decoration-color: #c0c0c0\">WHITE</span> │   453 │       4 │      5 │         8 │       10 │ <span style=\"color: #c0c0c0; text-decoration-color: #c0c0c0\">WHITE</span>   \n",
       "   3 │ <span style=\"color: #c0c0c0; text-decoration-color: #c0c0c0\">WHITE</span>,<span style=\"color: #808000; text-decoration-color: #808000\">ORANGE</span>,<span style=\"color: #800000; text-decoration-color: #800000\">RED</span>,<span style=\"color: #000080; text-decoration-color: #000080\">BLUE</span> │   531 │       7 │      6 │        10 │        5 │ <span style=\"color: #808000; text-decoration-color: #808000\">ORANGE</span>  \n",
       "   4 │ <span style=\"color: #808000; text-decoration-color: #808000\">ORANGE</span>,<span style=\"color: #c0c0c0; text-decoration-color: #c0c0c0\">WHITE</span>,<span style=\"color: #800000; text-decoration-color: #800000\">RED</span>,<span style=\"color: #000080; text-decoration-color: #000080\">BLUE</span> │   251 │       3 │      3 │         3 │       10 │ <span style=\"color: #c0c0c0; text-decoration-color: #c0c0c0\">WHITE</span>   \n",
       "   5 │ <span style=\"color: #000080; text-decoration-color: #000080\">BLUE</span>,<span style=\"color: #c0c0c0; text-decoration-color: #c0c0c0\">WHITE</span>,<span style=\"color: #808000; text-decoration-color: #808000\">ORANGE</span>,<span style=\"color: #800000; text-decoration-color: #800000\">RED</span> │   432 │       5 │      2 │        10 │        9 │ <span style=\"color: #808000; text-decoration-color: #808000\">ORANGE</span>  \n",
       "   6 │ <span style=\"color: #808000; text-decoration-color: #808000\">ORANGE</span>,<span style=\"color: #800000; text-decoration-color: #800000\">RED</span>,<span style=\"color: #000080; text-decoration-color: #000080\">BLUE</span>,<span style=\"color: #c0c0c0; text-decoration-color: #c0c0c0\">WHITE</span> │   160 │      10 │      2 │         3 │        3 │ <span style=\"color: #000080; text-decoration-color: #000080\">BLUE</span>    \n",
       "   7 │ <span style=\"color: #808000; text-decoration-color: #808000\">ORANGE</span>,<span style=\"color: #c0c0c0; text-decoration-color: #c0c0c0\">WHITE</span>,<span style=\"color: #800000; text-decoration-color: #800000\">RED</span>,<span style=\"color: #000080; text-decoration-color: #000080\">BLUE</span> │   586 │       7 │      2 │        10 │        6 │ <span style=\"color: #808000; text-decoration-color: #808000\">ORANGE</span>  \n",
       "   8 │ <span style=\"color: #800000; text-decoration-color: #800000\">RED</span>,<span style=\"color: #c0c0c0; text-decoration-color: #c0c0c0\">WHITE</span>,<span style=\"color: #808000; text-decoration-color: #808000\">ORANGE</span>,<span style=\"color: #000080; text-decoration-color: #000080\">BLUE</span> │   129 │      11 │      3 │         3 │        4 │ <span style=\"color: #000080; text-decoration-color: #000080\">BLUE</span>    \n",
       "   9 │ <span style=\"color: #000080; text-decoration-color: #000080\">BLUE</span>,<span style=\"color: #808000; text-decoration-color: #808000\">ORANGE</span>,<span style=\"color: #800000; text-decoration-color: #800000\">RED</span>,<span style=\"color: #c0c0c0; text-decoration-color: #c0c0c0\">WHITE</span> │   214 │      10 │      2 │         5 │        4 │ <span style=\"color: #000080; text-decoration-color: #000080\">BLUE</span>    \n",
       "  10 │ <span style=\"color: #808000; text-decoration-color: #808000\">ORANGE</span>,<span style=\"color: #000080; text-decoration-color: #000080\">BLUE</span>,<span style=\"color: #c0c0c0; text-decoration-color: #c0c0c0\">WHITE</span>,<span style=\"color: #800000; text-decoration-color: #800000\">RED</span> │   559 │      10 │      2 │         6 │        3 │ <span style=\"color: #000080; text-decoration-color: #000080\">BLUE</span>    \n",
       "     ╵                       ╵       ╵         ╵        ╵           ╵          ╵         \n",
       "</pre>\n"
      ],
      "text/plain": [
       "\u001b[3m                                      Last 10 Games                                      \u001b[0m\n",
       "     ╷                       ╷       ╷         ╷        ╷           ╷          ╷         \n",
       " \u001b[1m \u001b[0m\u001b[1m #\u001b[0m\u001b[1m \u001b[0m│\u001b[1m \u001b[0m\u001b[1mSEATING              \u001b[0m\u001b[1m \u001b[0m│\u001b[1m \u001b[0m\u001b[1mTURNS\u001b[0m\u001b[1m \u001b[0m│\u001b[1m \u001b[0m\u001b[1mBLUE VP\u001b[0m\u001b[1m \u001b[0m│\u001b[1m \u001b[0m\u001b[1mRED VP\u001b[0m\u001b[1m \u001b[0m│\u001b[1m \u001b[0m\u001b[1mORANGE VP\u001b[0m\u001b[1m \u001b[0m│\u001b[1m \u001b[0m\u001b[1mWHITE VP\u001b[0m\u001b[1m \u001b[0m│\u001b[1m \u001b[0m\u001b[1mWINNER\u001b[0m\u001b[1m \u001b[0m \n",
       "╶────┼───────────────────────┼───────┼─────────┼────────┼───────────┼──────────┼────────╴\n",
       "   1 │ \u001b[37mWHITE\u001b[0m,\u001b[31mRED\u001b[0m,\u001b[34mBLUE\u001b[0m,\u001b[33mORANGE\u001b[0m │   345 │       2 │      3 │        10 │        7 │ \u001b[33mORANGE\u001b[0m  \n",
       "   2 │ \u001b[31mRED\u001b[0m,\u001b[33mORANGE\u001b[0m,\u001b[34mBLUE\u001b[0m,\u001b[37mWHITE\u001b[0m │   453 │       4 │      5 │         8 │       10 │ \u001b[37mWHITE\u001b[0m   \n",
       "   3 │ \u001b[37mWHITE\u001b[0m,\u001b[33mORANGE\u001b[0m,\u001b[31mRED\u001b[0m,\u001b[34mBLUE\u001b[0m │   531 │       7 │      6 │        10 │        5 │ \u001b[33mORANGE\u001b[0m  \n",
       "   4 │ \u001b[33mORANGE\u001b[0m,\u001b[37mWHITE\u001b[0m,\u001b[31mRED\u001b[0m,\u001b[34mBLUE\u001b[0m │   251 │       3 │      3 │         3 │       10 │ \u001b[37mWHITE\u001b[0m   \n",
       "   5 │ \u001b[34mBLUE\u001b[0m,\u001b[37mWHITE\u001b[0m,\u001b[33mORANGE\u001b[0m,\u001b[31mRED\u001b[0m │   432 │       5 │      2 │        10 │        9 │ \u001b[33mORANGE\u001b[0m  \n",
       "   6 │ \u001b[33mORANGE\u001b[0m,\u001b[31mRED\u001b[0m,\u001b[34mBLUE\u001b[0m,\u001b[37mWHITE\u001b[0m │   160 │      10 │      2 │         3 │        3 │ \u001b[34mBLUE\u001b[0m    \n",
       "   7 │ \u001b[33mORANGE\u001b[0m,\u001b[37mWHITE\u001b[0m,\u001b[31mRED\u001b[0m,\u001b[34mBLUE\u001b[0m │   586 │       7 │      2 │        10 │        6 │ \u001b[33mORANGE\u001b[0m  \n",
       "   8 │ \u001b[31mRED\u001b[0m,\u001b[37mWHITE\u001b[0m,\u001b[33mORANGE\u001b[0m,\u001b[34mBLUE\u001b[0m │   129 │      11 │      3 │         3 │        4 │ \u001b[34mBLUE\u001b[0m    \n",
       "   9 │ \u001b[34mBLUE\u001b[0m,\u001b[33mORANGE\u001b[0m,\u001b[31mRED\u001b[0m,\u001b[37mWHITE\u001b[0m │   214 │      10 │      2 │         5 │        4 │ \u001b[34mBLUE\u001b[0m    \n",
       "  10 │ \u001b[33mORANGE\u001b[0m,\u001b[34mBLUE\u001b[0m,\u001b[37mWHITE\u001b[0m,\u001b[31mRED\u001b[0m │   559 │      10 │      2 │         6 │        3 │ \u001b[34mBLUE\u001b[0m    \n",
       "     ╵                       ╵       ╵         ╵        ╵           ╵          ╵         \n"
      ]
     },
     "metadata": {},
     "output_type": "display_data"
    },
    {
     "data": {
      "text/html": [
       "<pre style=\"white-space:pre;overflow-x:auto;line-height:normal;font-family:Menlo,'DejaVu Sans Mono',consolas,'Courier New',monospace\"><span style=\"font-style: italic\">                                              Player Summary                                               </span>\n",
       "                            ╷      ╷        ╷             ╷            ╷          ╷          ╷             \n",
       " <span style=\"font-weight: bold\">                           </span>│<span style=\"font-weight: bold\"> WINS </span>│<span style=\"font-weight: bold\"> AVG VP </span>│<span style=\"font-weight: bold\"> AVG SETTLES </span>│<span style=\"font-weight: bold\"> AVG CITIES </span>│<span style=\"font-weight: bold\"> AVG ROAD </span>│<span style=\"font-weight: bold\"> AVG ARMY </span>│<span style=\"font-weight: bold\"> AVG DEV VP </span> \n",
       "╶───────────────────────────┼──────┼────────┼─────────────┼────────────┼──────────┼──────────┼────────────╴\n",
       "  <span style=\"color: #000080; text-decoration-color: #000080\">WeightedRandomPlayer:BLUE</span> │    4 │   6.90 │        2.50 │       0.80 │     0.20 │     0.40 │       1.60  \n",
       "  <span style=\"color: #800000; text-decoration-color: #800000\">AB_DQNPlayer_1:RED</span>        │    0 │   3.00 │        2.00 │       0.30 │     0.10 │     0.00 │       0.20  \n",
       "  <span style=\"color: #808000; text-decoration-color: #808000\">RandomPlayer:ORANGE</span>       │    4 │   6.80 │        2.40 │       0.80 │     0.40 │     0.30 │       1.40  \n",
       "  <span style=\"color: #c0c0c0; text-decoration-color: #c0c0c0\">RandomPlayer:WHITE</span>        │    2 │   6.10 │        3.00 │       0.60 │     0.20 │     0.20 │       1.10  \n",
       "                            ╵      ╵        ╵             ╵            ╵          ╵          ╵             \n",
       "</pre>\n"
      ],
      "text/plain": [
       "\u001b[3m                                              Player Summary                                               \u001b[0m\n",
       "                            ╷      ╷        ╷             ╷            ╷          ╷          ╷             \n",
       " \u001b[1m \u001b[0m\u001b[1m                         \u001b[0m\u001b[1m \u001b[0m│\u001b[1m \u001b[0m\u001b[1mWINS\u001b[0m\u001b[1m \u001b[0m│\u001b[1m \u001b[0m\u001b[1mAVG VP\u001b[0m\u001b[1m \u001b[0m│\u001b[1m \u001b[0m\u001b[1mAVG SETTLES\u001b[0m\u001b[1m \u001b[0m│\u001b[1m \u001b[0m\u001b[1mAVG CITIES\u001b[0m\u001b[1m \u001b[0m│\u001b[1m \u001b[0m\u001b[1mAVG ROAD\u001b[0m\u001b[1m \u001b[0m│\u001b[1m \u001b[0m\u001b[1mAVG ARMY\u001b[0m\u001b[1m \u001b[0m│\u001b[1m \u001b[0m\u001b[1mAVG DEV VP\u001b[0m\u001b[1m \u001b[0m \n",
       "╶───────────────────────────┼──────┼────────┼─────────────┼────────────┼──────────┼──────────┼────────────╴\n",
       "  \u001b[34mWeightedRandomPlayer:BLUE\u001b[0m │    4 │   6.90 │        2.50 │       0.80 │     0.20 │     0.40 │       1.60  \n",
       "  \u001b[31mAB_DQNPlayer_1:RED\u001b[0m        │    0 │   3.00 │        2.00 │       0.30 │     0.10 │     0.00 │       0.20  \n",
       "  \u001b[33mRandomPlayer:ORANGE\u001b[0m       │    4 │   6.80 │        2.40 │       0.80 │     0.40 │     0.30 │       1.40  \n",
       "  \u001b[37mRandomPlayer:WHITE\u001b[0m        │    2 │   6.10 │        3.00 │       0.60 │     0.20 │     0.20 │       1.10  \n",
       "                            ╵      ╵        ╵             ╵            ╵          ╵          ╵             \n"
      ]
     },
     "metadata": {},
     "output_type": "display_data"
    },
    {
     "data": {
      "text/html": [
       "<pre style=\"white-space:pre;overflow-x:auto;line-height:normal;font-family:Menlo,'DejaVu Sans Mono',consolas,'Courier New',monospace\"><span style=\"font-style: italic\">              Game Summary              </span>\n",
       "            ╷           ╷               \n",
       " <span style=\"font-weight: bold\"> AVG TICKS </span>│<span style=\"font-weight: bold\"> AVG TURNS </span>│<span style=\"font-weight: bold\"> AVG DURATION </span> \n",
       "╶───────────┼───────────┼──────────────╴\n",
       "    1038.50 │    366.00 │  17.955 secs  \n",
       "            ╵           ╵               \n",
       "</pre>\n"
      ],
      "text/plain": [
       "\u001b[3m              Game Summary              \u001b[0m\n",
       "            ╷           ╷               \n",
       " \u001b[1m \u001b[0m\u001b[1mAVG TICKS\u001b[0m\u001b[1m \u001b[0m│\u001b[1m \u001b[0m\u001b[1mAVG TURNS\u001b[0m\u001b[1m \u001b[0m│\u001b[1m \u001b[0m\u001b[1mAVG DURATION\u001b[0m\u001b[1m \u001b[0m \n",
       "╶───────────┼───────────┼──────────────╴\n",
       "    1038.50 │    366.00 │  17.955 secs  \n",
       "            ╵           ╵               \n"
      ]
     },
     "metadata": {},
     "output_type": "display_data"
    },
    {
     "name": "stdout",
     "output_type": "stream",
     "text": [
      "Loaded replay buffer with 4999 transitions\n",
      "atch 41/50: Playing 10 games\n"
     ]
    },
    {
     "data": {
      "text/html": [
       "<pre style=\"white-space:pre;overflow-x:auto;line-height:normal;font-family:Menlo,'DejaVu Sans Mono',consolas,'Courier New',monospace\">Cleared replay buffer to refresh training examples.\n",
       "</pre>\n"
      ],
      "text/plain": [
       "Cleared replay buffer to refresh training examples.\n"
      ]
     },
     "metadata": {},
     "output_type": "display_data"
    },
    {
     "data": {
      "text/html": [
       "<pre style=\"white-space:pre;overflow-x:auto;line-height:normal;font-family:Menlo,'DejaVu Sans Mono',consolas,'Courier New',monospace\">Reward variance in batch: 0.0000\n",
       "</pre>\n"
      ],
      "text/plain": [
       "Reward variance in batch: 0.0000\n"
      ]
     },
     "metadata": {},
     "output_type": "display_data"
    },
    {
     "data": {
      "text/html": [
       "<pre style=\"white-space:pre;overflow-x:auto;line-height:normal;font-family:Menlo,'DejaVu Sans Mono',consolas,'Courier New',monospace\">Trained DQN model with loss: 102.5148\n",
       "</pre>\n"
      ],
      "text/plain": [
       "Trained DQN model with loss: 102.5148\n"
      ]
     },
     "metadata": {},
     "output_type": "display_data"
    },
    {
     "data": {
      "text/html": [
       "<pre style=\"white-space:pre;overflow-x:auto;line-height:normal;font-family:Menlo,'DejaVu Sans Mono',consolas,'Courier New',monospace\">Avg pred: -0.1367, Avg target: 9.9868\n",
       "</pre>\n"
      ],
      "text/plain": [
       "Avg pred: -0.1367, Avg target: 9.9868\n"
      ]
     },
     "metadata": {},
     "output_type": "display_data"
    },
    {
     "data": {
      "text/html": [
       "<pre style=\"white-space:pre;overflow-x:auto;line-height:normal;font-family:Menlo,'DejaVu Sans Mono',consolas,'Courier New',monospace\">Cleared replay buffer to refresh training examples.\n",
       "</pre>\n"
      ],
      "text/plain": [
       "Cleared replay buffer to refresh training examples.\n"
      ]
     },
     "metadata": {},
     "output_type": "display_data"
    },
    {
     "data": {
      "text/html": [
       "<pre style=\"white-space:pre;overflow-x:auto;line-height:normal;font-family:Menlo,'DejaVu Sans Mono',consolas,'Courier New',monospace\">Reward variance in batch: 0.0000\n",
       "</pre>\n"
      ],
      "text/plain": [
       "Reward variance in batch: 0.0000\n"
      ]
     },
     "metadata": {},
     "output_type": "display_data"
    },
    {
     "data": {
      "text/html": [
       "<pre style=\"white-space:pre;overflow-x:auto;line-height:normal;font-family:Menlo,'DejaVu Sans Mono',consolas,'Courier New',monospace\">Trained DQN model with loss: 101.6846\n",
       "</pre>\n"
      ],
      "text/plain": [
       "Trained DQN model with loss: 101.6846\n"
      ]
     },
     "metadata": {},
     "output_type": "display_data"
    },
    {
     "data": {
      "text/html": [
       "<pre style=\"white-space:pre;overflow-x:auto;line-height:normal;font-family:Menlo,'DejaVu Sans Mono',consolas,'Courier New',monospace\">Avg pred: -0.1133, Avg target: 9.9695\n",
       "</pre>\n"
      ],
      "text/plain": [
       "Avg pred: -0.1133, Avg target: 9.9695\n"
      ]
     },
     "metadata": {},
     "output_type": "display_data"
    },
    {
     "data": {
      "text/html": [
       "<pre style=\"white-space:pre;overflow-x:auto;line-height:normal;font-family:Menlo,'DejaVu Sans Mono',consolas,'Courier New',monospace\"></pre>\n"
      ],
      "text/plain": []
     },
     "metadata": {},
     "output_type": "display_data"
    },
    {
     "data": {
      "text/html": [
       "<pre style=\"white-space:pre;overflow-x:auto;line-height:normal;font-family:Menlo,'DejaVu Sans Mono',consolas,'Courier New',monospace\">\n",
       "</pre>\n"
      ],
      "text/plain": [
       "\n"
      ]
     },
     "metadata": {},
     "output_type": "display_data"
    },
    {
     "data": {
      "text/html": [
       "<pre style=\"white-space:pre;overflow-x:auto;line-height:normal;font-family:Menlo,'DejaVu Sans Mono',consolas,'Courier New',monospace\"><span style=\"font-style: italic\">                                      Last 10 Games                                      </span>\n",
       "     ╷                       ╷       ╷          ╷           ╷         ╷        ╷         \n",
       " <span style=\"font-weight: bold\">  # </span>│<span style=\"font-weight: bold\"> SEATING               </span>│<span style=\"font-weight: bold\"> TURNS </span>│<span style=\"font-weight: bold\"> WHITE VP </span>│<span style=\"font-weight: bold\"> ORANGE VP </span>│<span style=\"font-weight: bold\"> BLUE VP </span>│<span style=\"font-weight: bold\"> RED VP </span>│<span style=\"font-weight: bold\"> WINNER </span> \n",
       "╶────┼───────────────────────┼───────┼──────────┼───────────┼─────────┼────────┼────────╴\n",
       "   1 │ <span style=\"color: #000080; text-decoration-color: #000080\">BLUE</span>,<span style=\"color: #800000; text-decoration-color: #800000\">RED</span>,<span style=\"color: #c0c0c0; text-decoration-color: #c0c0c0\">WHITE</span>,<span style=\"color: #808000; text-decoration-color: #808000\">ORANGE</span> │   206 │        2 │         7 │      10 │      2 │ <span style=\"color: #000080; text-decoration-color: #000080\">BLUE</span>    \n",
       "   2 │ <span style=\"color: #808000; text-decoration-color: #808000\">ORANGE</span>,<span style=\"color: #c0c0c0; text-decoration-color: #c0c0c0\">WHITE</span>,<span style=\"color: #800000; text-decoration-color: #800000\">RED</span>,<span style=\"color: #000080; text-decoration-color: #000080\">BLUE</span> │   482 │        9 │        10 │       8 │      4 │ <span style=\"color: #808000; text-decoration-color: #808000\">ORANGE</span>  \n",
       "   3 │ <span style=\"color: #800000; text-decoration-color: #800000\">RED</span>,<span style=\"color: #000080; text-decoration-color: #000080\">BLUE</span>,<span style=\"color: #808000; text-decoration-color: #808000\">ORANGE</span>,<span style=\"color: #c0c0c0; text-decoration-color: #c0c0c0\">WHITE</span> │   167 │        3 │         7 │      10 │      3 │ <span style=\"color: #000080; text-decoration-color: #000080\">BLUE</span>    \n",
       "   4 │ <span style=\"color: #808000; text-decoration-color: #808000\">ORANGE</span>,<span style=\"color: #c0c0c0; text-decoration-color: #c0c0c0\">WHITE</span>,<span style=\"color: #800000; text-decoration-color: #800000\">RED</span>,<span style=\"color: #000080; text-decoration-color: #000080\">BLUE</span> │   521 │        5 │         3 │      10 │      4 │ <span style=\"color: #000080; text-decoration-color: #000080\">BLUE</span>    \n",
       "   5 │ <span style=\"color: #800000; text-decoration-color: #800000\">RED</span>,<span style=\"color: #c0c0c0; text-decoration-color: #c0c0c0\">WHITE</span>,<span style=\"color: #000080; text-decoration-color: #000080\">BLUE</span>,<span style=\"color: #808000; text-decoration-color: #808000\">ORANGE</span> │   164 │        2 │         2 │      10 │      2 │ <span style=\"color: #000080; text-decoration-color: #000080\">BLUE</span>    \n",
       "   6 │ <span style=\"color: #000080; text-decoration-color: #000080\">BLUE</span>,<span style=\"color: #c0c0c0; text-decoration-color: #c0c0c0\">WHITE</span>,<span style=\"color: #800000; text-decoration-color: #800000\">RED</span>,<span style=\"color: #808000; text-decoration-color: #808000\">ORANGE</span> │   454 │        5 │         6 │      10 │      3 │ <span style=\"color: #000080; text-decoration-color: #000080\">BLUE</span>    \n",
       "   7 │ <span style=\"color: #800000; text-decoration-color: #800000\">RED</span>,<span style=\"color: #c0c0c0; text-decoration-color: #c0c0c0\">WHITE</span>,<span style=\"color: #808000; text-decoration-color: #808000\">ORANGE</span>,<span style=\"color: #000080; text-decoration-color: #000080\">BLUE</span> │   223 │       10 │         2 │       7 │      2 │ <span style=\"color: #c0c0c0; text-decoration-color: #c0c0c0\">WHITE</span>   \n",
       "   8 │ <span style=\"color: #800000; text-decoration-color: #800000\">RED</span>,<span style=\"color: #808000; text-decoration-color: #808000\">ORANGE</span>,<span style=\"color: #000080; text-decoration-color: #000080\">BLUE</span>,<span style=\"color: #c0c0c0; text-decoration-color: #c0c0c0\">WHITE</span> │   172 │        5 │         3 │      10 │      2 │ <span style=\"color: #000080; text-decoration-color: #000080\">BLUE</span>    \n",
       "   9 │ <span style=\"color: #000080; text-decoration-color: #000080\">BLUE</span>,<span style=\"color: #808000; text-decoration-color: #808000\">ORANGE</span>,<span style=\"color: #800000; text-decoration-color: #800000\">RED</span>,<span style=\"color: #c0c0c0; text-decoration-color: #c0c0c0\">WHITE</span> │   651 │        8 │        10 │       8 │      3 │ <span style=\"color: #808000; text-decoration-color: #808000\">ORANGE</span>  \n",
       "  10 │ <span style=\"color: #800000; text-decoration-color: #800000\">RED</span>,<span style=\"color: #c0c0c0; text-decoration-color: #c0c0c0\">WHITE</span>,<span style=\"color: #000080; text-decoration-color: #000080\">BLUE</span>,<span style=\"color: #808000; text-decoration-color: #808000\">ORANGE</span> │   544 │        7 │         4 │      10 │      2 │ <span style=\"color: #000080; text-decoration-color: #000080\">BLUE</span>    \n",
       "     ╵                       ╵       ╵          ╵           ╵         ╵        ╵         \n",
       "</pre>\n"
      ],
      "text/plain": [
       "\u001b[3m                                      Last 10 Games                                      \u001b[0m\n",
       "     ╷                       ╷       ╷          ╷           ╷         ╷        ╷         \n",
       " \u001b[1m \u001b[0m\u001b[1m #\u001b[0m\u001b[1m \u001b[0m│\u001b[1m \u001b[0m\u001b[1mSEATING              \u001b[0m\u001b[1m \u001b[0m│\u001b[1m \u001b[0m\u001b[1mTURNS\u001b[0m\u001b[1m \u001b[0m│\u001b[1m \u001b[0m\u001b[1mWHITE VP\u001b[0m\u001b[1m \u001b[0m│\u001b[1m \u001b[0m\u001b[1mORANGE VP\u001b[0m\u001b[1m \u001b[0m│\u001b[1m \u001b[0m\u001b[1mBLUE VP\u001b[0m\u001b[1m \u001b[0m│\u001b[1m \u001b[0m\u001b[1mRED VP\u001b[0m\u001b[1m \u001b[0m│\u001b[1m \u001b[0m\u001b[1mWINNER\u001b[0m\u001b[1m \u001b[0m \n",
       "╶────┼───────────────────────┼───────┼──────────┼───────────┼─────────┼────────┼────────╴\n",
       "   1 │ \u001b[34mBLUE\u001b[0m,\u001b[31mRED\u001b[0m,\u001b[37mWHITE\u001b[0m,\u001b[33mORANGE\u001b[0m │   206 │        2 │         7 │      10 │      2 │ \u001b[34mBLUE\u001b[0m    \n",
       "   2 │ \u001b[33mORANGE\u001b[0m,\u001b[37mWHITE\u001b[0m,\u001b[31mRED\u001b[0m,\u001b[34mBLUE\u001b[0m │   482 │        9 │        10 │       8 │      4 │ \u001b[33mORANGE\u001b[0m  \n",
       "   3 │ \u001b[31mRED\u001b[0m,\u001b[34mBLUE\u001b[0m,\u001b[33mORANGE\u001b[0m,\u001b[37mWHITE\u001b[0m │   167 │        3 │         7 │      10 │      3 │ \u001b[34mBLUE\u001b[0m    \n",
       "   4 │ \u001b[33mORANGE\u001b[0m,\u001b[37mWHITE\u001b[0m,\u001b[31mRED\u001b[0m,\u001b[34mBLUE\u001b[0m │   521 │        5 │         3 │      10 │      4 │ \u001b[34mBLUE\u001b[0m    \n",
       "   5 │ \u001b[31mRED\u001b[0m,\u001b[37mWHITE\u001b[0m,\u001b[34mBLUE\u001b[0m,\u001b[33mORANGE\u001b[0m │   164 │        2 │         2 │      10 │      2 │ \u001b[34mBLUE\u001b[0m    \n",
       "   6 │ \u001b[34mBLUE\u001b[0m,\u001b[37mWHITE\u001b[0m,\u001b[31mRED\u001b[0m,\u001b[33mORANGE\u001b[0m │   454 │        5 │         6 │      10 │      3 │ \u001b[34mBLUE\u001b[0m    \n",
       "   7 │ \u001b[31mRED\u001b[0m,\u001b[37mWHITE\u001b[0m,\u001b[33mORANGE\u001b[0m,\u001b[34mBLUE\u001b[0m │   223 │       10 │         2 │       7 │      2 │ \u001b[37mWHITE\u001b[0m   \n",
       "   8 │ \u001b[31mRED\u001b[0m,\u001b[33mORANGE\u001b[0m,\u001b[34mBLUE\u001b[0m,\u001b[37mWHITE\u001b[0m │   172 │        5 │         3 │      10 │      2 │ \u001b[34mBLUE\u001b[0m    \n",
       "   9 │ \u001b[34mBLUE\u001b[0m,\u001b[33mORANGE\u001b[0m,\u001b[31mRED\u001b[0m,\u001b[37mWHITE\u001b[0m │   651 │        8 │        10 │       8 │      3 │ \u001b[33mORANGE\u001b[0m  \n",
       "  10 │ \u001b[31mRED\u001b[0m,\u001b[37mWHITE\u001b[0m,\u001b[34mBLUE\u001b[0m,\u001b[33mORANGE\u001b[0m │   544 │        7 │         4 │      10 │      2 │ \u001b[34mBLUE\u001b[0m    \n",
       "     ╵                       ╵       ╵          ╵           ╵         ╵        ╵         \n"
      ]
     },
     "metadata": {},
     "output_type": "display_data"
    },
    {
     "data": {
      "text/html": [
       "<pre style=\"white-space:pre;overflow-x:auto;line-height:normal;font-family:Menlo,'DejaVu Sans Mono',consolas,'Courier New',monospace\"><span style=\"font-style: italic\">                                              Player Summary                                               </span>\n",
       "                            ╷      ╷        ╷             ╷            ╷          ╷          ╷             \n",
       " <span style=\"font-weight: bold\">                           </span>│<span style=\"font-weight: bold\"> WINS </span>│<span style=\"font-weight: bold\"> AVG VP </span>│<span style=\"font-weight: bold\"> AVG SETTLES </span>│<span style=\"font-weight: bold\"> AVG CITIES </span>│<span style=\"font-weight: bold\"> AVG ROAD </span>│<span style=\"font-weight: bold\"> AVG ARMY </span>│<span style=\"font-weight: bold\"> AVG DEV VP </span> \n",
       "╶───────────────────────────┼──────┼────────┼─────────────┼────────────┼──────────┼──────────┼────────────╴\n",
       "  <span style=\"color: #c0c0c0; text-decoration-color: #c0c0c0\">RandomPlayer:WHITE</span>        │    1 │   5.60 │        2.60 │       0.40 │     0.40 │     0.30 │       0.80  \n",
       "  <span style=\"color: #808000; text-decoration-color: #808000\">RandomPlayer:ORANGE</span>       │    2 │   5.40 │        2.70 │       0.70 │     0.20 │     0.00 │       0.90  \n",
       "  <span style=\"color: #000080; text-decoration-color: #000080\">WeightedRandomPlayer:BLUE</span> │    7 │   9.30 │        2.40 │       1.60 │     0.40 │     0.70 │       1.50  \n",
       "  <span style=\"color: #800000; text-decoration-color: #800000\">AB_DQNPlayer_1:RED</span>        │    0 │   2.70 │        1.90 │       0.30 │     0.00 │     0.00 │       0.20  \n",
       "                            ╵      ╵        ╵             ╵            ╵          ╵          ╵             \n",
       "</pre>\n"
      ],
      "text/plain": [
       "\u001b[3m                                              Player Summary                                               \u001b[0m\n",
       "                            ╷      ╷        ╷             ╷            ╷          ╷          ╷             \n",
       " \u001b[1m \u001b[0m\u001b[1m                         \u001b[0m\u001b[1m \u001b[0m│\u001b[1m \u001b[0m\u001b[1mWINS\u001b[0m\u001b[1m \u001b[0m│\u001b[1m \u001b[0m\u001b[1mAVG VP\u001b[0m\u001b[1m \u001b[0m│\u001b[1m \u001b[0m\u001b[1mAVG SETTLES\u001b[0m\u001b[1m \u001b[0m│\u001b[1m \u001b[0m\u001b[1mAVG CITIES\u001b[0m\u001b[1m \u001b[0m│\u001b[1m \u001b[0m\u001b[1mAVG ROAD\u001b[0m\u001b[1m \u001b[0m│\u001b[1m \u001b[0m\u001b[1mAVG ARMY\u001b[0m\u001b[1m \u001b[0m│\u001b[1m \u001b[0m\u001b[1mAVG DEV VP\u001b[0m\u001b[1m \u001b[0m \n",
       "╶───────────────────────────┼──────┼────────┼─────────────┼────────────┼──────────┼──────────┼────────────╴\n",
       "  \u001b[37mRandomPlayer:WHITE\u001b[0m        │    1 │   5.60 │        2.60 │       0.40 │     0.40 │     0.30 │       0.80  \n",
       "  \u001b[33mRandomPlayer:ORANGE\u001b[0m       │    2 │   5.40 │        2.70 │       0.70 │     0.20 │     0.00 │       0.90  \n",
       "  \u001b[34mWeightedRandomPlayer:BLUE\u001b[0m │    7 │   9.30 │        2.40 │       1.60 │     0.40 │     0.70 │       1.50  \n",
       "  \u001b[31mAB_DQNPlayer_1:RED\u001b[0m        │    0 │   2.70 │        1.90 │       0.30 │     0.00 │     0.00 │       0.20  \n",
       "                            ╵      ╵        ╵             ╵            ╵          ╵          ╵             \n"
      ]
     },
     "metadata": {},
     "output_type": "display_data"
    },
    {
     "data": {
      "text/html": [
       "<pre style=\"white-space:pre;overflow-x:auto;line-height:normal;font-family:Menlo,'DejaVu Sans Mono',consolas,'Courier New',monospace\"><span style=\"font-style: italic\">              Game Summary              </span>\n",
       "            ╷           ╷               \n",
       " <span style=\"font-weight: bold\"> AVG TICKS </span>│<span style=\"font-weight: bold\"> AVG TURNS </span>│<span style=\"font-weight: bold\"> AVG DURATION </span> \n",
       "╶───────────┼───────────┼──────────────╴\n",
       "    1003.60 │    358.40 │  22.983 secs  \n",
       "            ╵           ╵               \n",
       "</pre>\n"
      ],
      "text/plain": [
       "\u001b[3m              Game Summary              \u001b[0m\n",
       "            ╷           ╷               \n",
       " \u001b[1m \u001b[0m\u001b[1mAVG TICKS\u001b[0m\u001b[1m \u001b[0m│\u001b[1m \u001b[0m\u001b[1mAVG TURNS\u001b[0m\u001b[1m \u001b[0m│\u001b[1m \u001b[0m\u001b[1mAVG DURATION\u001b[0m\u001b[1m \u001b[0m \n",
       "╶───────────┼───────────┼──────────────╴\n",
       "    1003.60 │    358.40 │  22.983 secs  \n",
       "            ╵           ╵               \n"
      ]
     },
     "metadata": {},
     "output_type": "display_data"
    },
    {
     "name": "stdout",
     "output_type": "stream",
     "text": [
      "Loaded replay buffer with 3623 transitions\n",
      "atch 42/50: Playing 10 games\n"
     ]
    },
    {
     "data": {
      "text/html": [
       "<pre style=\"white-space:pre;overflow-x:auto;line-height:normal;font-family:Menlo,'DejaVu Sans Mono',consolas,'Courier New',monospace\">Cleared replay buffer to refresh training examples.\n",
       "</pre>\n"
      ],
      "text/plain": [
       "Cleared replay buffer to refresh training examples.\n"
      ]
     },
     "metadata": {},
     "output_type": "display_data"
    },
    {
     "data": {
      "text/html": [
       "<pre style=\"white-space:pre;overflow-x:auto;line-height:normal;font-family:Menlo,'DejaVu Sans Mono',consolas,'Courier New',monospace\">Reward variance in batch: 0.0000\n",
       "</pre>\n"
      ],
      "text/plain": [
       "Reward variance in batch: 0.0000\n"
      ]
     },
     "metadata": {},
     "output_type": "display_data"
    },
    {
     "data": {
      "text/html": [
       "<pre style=\"white-space:pre;overflow-x:auto;line-height:normal;font-family:Menlo,'DejaVu Sans Mono',consolas,'Courier New',monospace\">Trained DQN model with loss: 101.8857\n",
       "</pre>\n"
      ],
      "text/plain": [
       "Trained DQN model with loss: 101.8857\n"
      ]
     },
     "metadata": {},
     "output_type": "display_data"
    },
    {
     "data": {
      "text/html": [
       "<pre style=\"white-space:pre;overflow-x:auto;line-height:normal;font-family:Menlo,'DejaVu Sans Mono',consolas,'Courier New',monospace\">Avg pred: -0.1478, Avg target: 9.9438\n",
       "</pre>\n"
      ],
      "text/plain": [
       "Avg pred: -0.1478, Avg target: 9.9438\n"
      ]
     },
     "metadata": {},
     "output_type": "display_data"
    },
    {
     "data": {
      "text/html": [
       "<pre style=\"white-space:pre;overflow-x:auto;line-height:normal;font-family:Menlo,'DejaVu Sans Mono',consolas,'Courier New',monospace\"></pre>\n"
      ],
      "text/plain": []
     },
     "metadata": {},
     "output_type": "display_data"
    },
    {
     "data": {
      "text/html": [
       "<pre style=\"white-space:pre;overflow-x:auto;line-height:normal;font-family:Menlo,'DejaVu Sans Mono',consolas,'Courier New',monospace\">\n",
       "</pre>\n"
      ],
      "text/plain": [
       "\n"
      ]
     },
     "metadata": {},
     "output_type": "display_data"
    },
    {
     "data": {
      "text/html": [
       "<pre style=\"white-space:pre;overflow-x:auto;line-height:normal;font-family:Menlo,'DejaVu Sans Mono',consolas,'Courier New',monospace\"><span style=\"font-style: italic\">                                      Last 10 Games                                      </span>\n",
       "     ╷                       ╷       ╷          ╷           ╷         ╷        ╷         \n",
       " <span style=\"font-weight: bold\">  # </span>│<span style=\"font-weight: bold\"> SEATING               </span>│<span style=\"font-weight: bold\"> TURNS </span>│<span style=\"font-weight: bold\"> WHITE VP </span>│<span style=\"font-weight: bold\"> ORANGE VP </span>│<span style=\"font-weight: bold\"> BLUE VP </span>│<span style=\"font-weight: bold\"> RED VP </span>│<span style=\"font-weight: bold\"> WINNER </span> \n",
       "╶────┼───────────────────────┼───────┼──────────┼───────────┼─────────┼────────┼────────╴\n",
       "   1 │ <span style=\"color: #800000; text-decoration-color: #800000\">RED</span>,<span style=\"color: #c0c0c0; text-decoration-color: #c0c0c0\">WHITE</span>,<span style=\"color: #000080; text-decoration-color: #000080\">BLUE</span>,<span style=\"color: #808000; text-decoration-color: #808000\">ORANGE</span> │    75 │       10 │         6 │       2 │      2 │ <span style=\"color: #c0c0c0; text-decoration-color: #c0c0c0\">WHITE</span>   \n",
       "   2 │ <span style=\"color: #800000; text-decoration-color: #800000\">RED</span>,<span style=\"color: #c0c0c0; text-decoration-color: #c0c0c0\">WHITE</span>,<span style=\"color: #808000; text-decoration-color: #808000\">ORANGE</span>,<span style=\"color: #000080; text-decoration-color: #000080\">BLUE</span> │    55 │       11 │         4 │       2 │      2 │ <span style=\"color: #c0c0c0; text-decoration-color: #c0c0c0\">WHITE</span>   \n",
       "   3 │ <span style=\"color: #000080; text-decoration-color: #000080\">BLUE</span>,<span style=\"color: #808000; text-decoration-color: #808000\">ORANGE</span>,<span style=\"color: #800000; text-decoration-color: #800000\">RED</span>,<span style=\"color: #c0c0c0; text-decoration-color: #c0c0c0\">WHITE</span> │    59 │        9 │        10 │       2 │      3 │ <span style=\"color: #808000; text-decoration-color: #808000\">ORANGE</span>  \n",
       "   4 │ <span style=\"color: #000080; text-decoration-color: #000080\">BLUE</span>,<span style=\"color: #800000; text-decoration-color: #800000\">RED</span>,<span style=\"color: #808000; text-decoration-color: #808000\">ORANGE</span>,<span style=\"color: #c0c0c0; text-decoration-color: #c0c0c0\">WHITE</span> │    64 │        5 │        10 │       2 │      2 │ <span style=\"color: #808000; text-decoration-color: #808000\">ORANGE</span>  \n",
       "   5 │ <span style=\"color: #000080; text-decoration-color: #000080\">BLUE</span>,<span style=\"color: #c0c0c0; text-decoration-color: #c0c0c0\">WHITE</span>,<span style=\"color: #808000; text-decoration-color: #808000\">ORANGE</span>,<span style=\"color: #800000; text-decoration-color: #800000\">RED</span> │   115 │       10 │         8 │       2 │      2 │ <span style=\"color: #c0c0c0; text-decoration-color: #c0c0c0\">WHITE</span>   \n",
       "   6 │ <span style=\"color: #c0c0c0; text-decoration-color: #c0c0c0\">WHITE</span>,<span style=\"color: #000080; text-decoration-color: #000080\">BLUE</span>,<span style=\"color: #800000; text-decoration-color: #800000\">RED</span>,<span style=\"color: #808000; text-decoration-color: #808000\">ORANGE</span> │    77 │        7 │        10 │       2 │      2 │ <span style=\"color: #808000; text-decoration-color: #808000\">ORANGE</span>  \n",
       "   7 │ <span style=\"color: #808000; text-decoration-color: #808000\">ORANGE</span>,<span style=\"color: #c0c0c0; text-decoration-color: #c0c0c0\">WHITE</span>,<span style=\"color: #000080; text-decoration-color: #000080\">BLUE</span>,<span style=\"color: #800000; text-decoration-color: #800000\">RED</span> │    82 │        7 │        10 │       2 │      2 │ <span style=\"color: #808000; text-decoration-color: #808000\">ORANGE</span>  \n",
       "   8 │ <span style=\"color: #800000; text-decoration-color: #800000\">RED</span>,<span style=\"color: #808000; text-decoration-color: #808000\">ORANGE</span>,<span style=\"color: #c0c0c0; text-decoration-color: #c0c0c0\">WHITE</span>,<span style=\"color: #000080; text-decoration-color: #000080\">BLUE</span> │    83 │        8 │        11 │       2 │      3 │ <span style=\"color: #808000; text-decoration-color: #808000\">ORANGE</span>  \n",
       "   9 │ <span style=\"color: #000080; text-decoration-color: #000080\">BLUE</span>,<span style=\"color: #808000; text-decoration-color: #808000\">ORANGE</span>,<span style=\"color: #800000; text-decoration-color: #800000\">RED</span>,<span style=\"color: #c0c0c0; text-decoration-color: #c0c0c0\">WHITE</span> │    71 │        5 │        10 │       3 │      3 │ <span style=\"color: #808000; text-decoration-color: #808000\">ORANGE</span>  \n",
       "  10 │ <span style=\"color: #808000; text-decoration-color: #808000\">ORANGE</span>,<span style=\"color: #800000; text-decoration-color: #800000\">RED</span>,<span style=\"color: #c0c0c0; text-decoration-color: #c0c0c0\">WHITE</span>,<span style=\"color: #000080; text-decoration-color: #000080\">BLUE</span> │    72 │       10 │         5 │       2 │      2 │ <span style=\"color: #c0c0c0; text-decoration-color: #c0c0c0\">WHITE</span>   \n",
       "     ╵                       ╵       ╵          ╵           ╵         ╵        ╵         \n",
       "</pre>\n"
      ],
      "text/plain": [
       "\u001b[3m                                      Last 10 Games                                      \u001b[0m\n",
       "     ╷                       ╷       ╷          ╷           ╷         ╷        ╷         \n",
       " \u001b[1m \u001b[0m\u001b[1m #\u001b[0m\u001b[1m \u001b[0m│\u001b[1m \u001b[0m\u001b[1mSEATING              \u001b[0m\u001b[1m \u001b[0m│\u001b[1m \u001b[0m\u001b[1mTURNS\u001b[0m\u001b[1m \u001b[0m│\u001b[1m \u001b[0m\u001b[1mWHITE VP\u001b[0m\u001b[1m \u001b[0m│\u001b[1m \u001b[0m\u001b[1mORANGE VP\u001b[0m\u001b[1m \u001b[0m│\u001b[1m \u001b[0m\u001b[1mBLUE VP\u001b[0m\u001b[1m \u001b[0m│\u001b[1m \u001b[0m\u001b[1mRED VP\u001b[0m\u001b[1m \u001b[0m│\u001b[1m \u001b[0m\u001b[1mWINNER\u001b[0m\u001b[1m \u001b[0m \n",
       "╶────┼───────────────────────┼───────┼──────────┼───────────┼─────────┼────────┼────────╴\n",
       "   1 │ \u001b[31mRED\u001b[0m,\u001b[37mWHITE\u001b[0m,\u001b[34mBLUE\u001b[0m,\u001b[33mORANGE\u001b[0m │    75 │       10 │         6 │       2 │      2 │ \u001b[37mWHITE\u001b[0m   \n",
       "   2 │ \u001b[31mRED\u001b[0m,\u001b[37mWHITE\u001b[0m,\u001b[33mORANGE\u001b[0m,\u001b[34mBLUE\u001b[0m │    55 │       11 │         4 │       2 │      2 │ \u001b[37mWHITE\u001b[0m   \n",
       "   3 │ \u001b[34mBLUE\u001b[0m,\u001b[33mORANGE\u001b[0m,\u001b[31mRED\u001b[0m,\u001b[37mWHITE\u001b[0m │    59 │        9 │        10 │       2 │      3 │ \u001b[33mORANGE\u001b[0m  \n",
       "   4 │ \u001b[34mBLUE\u001b[0m,\u001b[31mRED\u001b[0m,\u001b[33mORANGE\u001b[0m,\u001b[37mWHITE\u001b[0m │    64 │        5 │        10 │       2 │      2 │ \u001b[33mORANGE\u001b[0m  \n",
       "   5 │ \u001b[34mBLUE\u001b[0m,\u001b[37mWHITE\u001b[0m,\u001b[33mORANGE\u001b[0m,\u001b[31mRED\u001b[0m │   115 │       10 │         8 │       2 │      2 │ \u001b[37mWHITE\u001b[0m   \n",
       "   6 │ \u001b[37mWHITE\u001b[0m,\u001b[34mBLUE\u001b[0m,\u001b[31mRED\u001b[0m,\u001b[33mORANGE\u001b[0m │    77 │        7 │        10 │       2 │      2 │ \u001b[33mORANGE\u001b[0m  \n",
       "   7 │ \u001b[33mORANGE\u001b[0m,\u001b[37mWHITE\u001b[0m,\u001b[34mBLUE\u001b[0m,\u001b[31mRED\u001b[0m │    82 │        7 │        10 │       2 │      2 │ \u001b[33mORANGE\u001b[0m  \n",
       "   8 │ \u001b[31mRED\u001b[0m,\u001b[33mORANGE\u001b[0m,\u001b[37mWHITE\u001b[0m,\u001b[34mBLUE\u001b[0m │    83 │        8 │        11 │       2 │      3 │ \u001b[33mORANGE\u001b[0m  \n",
       "   9 │ \u001b[34mBLUE\u001b[0m,\u001b[33mORANGE\u001b[0m,\u001b[31mRED\u001b[0m,\u001b[37mWHITE\u001b[0m │    71 │        5 │        10 │       3 │      3 │ \u001b[33mORANGE\u001b[0m  \n",
       "  10 │ \u001b[33mORANGE\u001b[0m,\u001b[31mRED\u001b[0m,\u001b[37mWHITE\u001b[0m,\u001b[34mBLUE\u001b[0m │    72 │       10 │         5 │       2 │      2 │ \u001b[37mWHITE\u001b[0m   \n",
       "     ╵                       ╵       ╵          ╵           ╵         ╵        ╵         \n"
      ]
     },
     "metadata": {},
     "output_type": "display_data"
    },
    {
     "data": {
      "text/html": [
       "<pre style=\"white-space:pre;overflow-x:auto;line-height:normal;font-family:Menlo,'DejaVu Sans Mono',consolas,'Courier New',monospace\"><span style=\"font-style: italic\">                                                  Player Summary                                                   </span>\n",
       "                                                                  ╷      ╷      ╷      ╷      ╷      ╷      ╷      \n",
       " <span style=\"font-weight: bold\">                                                                 </span>│<span style=\"font-weight: bold\">      </span>│<span style=\"font-weight: bold\">      </span>│<span style=\"font-weight: bold\">      </span>│<span style=\"font-weight: bold\">      </span>│<span style=\"font-weight: bold\">      </span>│<span style=\"font-weight: bold\">      </span>│<span style=\"font-weight: bold\"> AVG </span> \n",
       " <span style=\"font-weight: bold\">                                                                 </span>│<span style=\"font-weight: bold\">      </span>│<span style=\"font-weight: bold\">  AVG </span>│<span style=\"font-weight: bold\">  AVG </span>│<span style=\"font-weight: bold\">  AVG </span>│<span style=\"font-weight: bold\">  AVG </span>│<span style=\"font-weight: bold\">  AVG </span>│<span style=\"font-weight: bold\"> DEV </span> \n",
       " <span style=\"font-weight: bold\">                                                                 </span>│<span style=\"font-weight: bold\"> WINS </span>│<span style=\"font-weight: bold\">   VP </span>│<span style=\"font-weight: bold\"> SET… </span>│<span style=\"font-weight: bold\"> CIT… </span>│<span style=\"font-weight: bold\"> ROAD </span>│<span style=\"font-weight: bold\"> ARMY </span>│<span style=\"font-weight: bold\">  VP </span> \n",
       "╶─────────────────────────────────────────────────────────────────┼──────┼──────┼──────┼──────┼──────┼──────┼─────╴\n",
       "  <span style=\"color: #c0c0c0; text-decoration-color: #c0c0c0\">AlphaBetaPlayer:WHITE(depth=2,value_fn=base_fn,prunning=False)</span>  │    4 │ 8.20 │ 2.60 │ 2.50 │ 0.30 │ 0.00 │ 0.…  \n",
       "  <span style=\"color: #808000; text-decoration-color: #808000\">AlphaBetaPlayer:ORANGE(depth=2,value_fn=base_fn,prunning=False)</span> │    6 │ 8.40 │ 2.90 │ 2.00 │ 0.70 │ 0.00 │ 0.…  \n",
       "  <span style=\"color: #000080; text-decoration-color: #000080\">RandomPlayer:BLUE</span>                                               │    0 │ 2.10 │ 2.00 │ 0.00 │ 0.00 │ 0.00 │ 0.…  \n",
       "  <span style=\"color: #800000; text-decoration-color: #800000\">AB_DQNPlayer_1:RED</span>                                              │    0 │ 2.30 │ 1.90 │ 0.10 │ 0.00 │ 0.00 │ 0.…  \n",
       "                                                                  ╵      ╵      ╵      ╵      ╵      ╵      ╵      \n",
       "</pre>\n"
      ],
      "text/plain": [
       "\u001b[3m                                                  Player Summary                                                   \u001b[0m\n",
       "                                                                  ╷      ╷      ╷      ╷      ╷      ╷      ╷      \n",
       " \u001b[1m                                                                 \u001b[0m│\u001b[1m      \u001b[0m│\u001b[1m      \u001b[0m│\u001b[1m      \u001b[0m│\u001b[1m      \u001b[0m│\u001b[1m      \u001b[0m│\u001b[1m      \u001b[0m│\u001b[1m \u001b[0m\u001b[1mAVG\u001b[0m\u001b[1m \u001b[0m \n",
       " \u001b[1m                                                                 \u001b[0m│\u001b[1m      \u001b[0m│\u001b[1m \u001b[0m\u001b[1m AVG\u001b[0m\u001b[1m \u001b[0m│\u001b[1m \u001b[0m\u001b[1m AVG\u001b[0m\u001b[1m \u001b[0m│\u001b[1m \u001b[0m\u001b[1m AVG\u001b[0m\u001b[1m \u001b[0m│\u001b[1m \u001b[0m\u001b[1m AVG\u001b[0m\u001b[1m \u001b[0m│\u001b[1m \u001b[0m\u001b[1m AVG\u001b[0m\u001b[1m \u001b[0m│\u001b[1m \u001b[0m\u001b[1mDEV\u001b[0m\u001b[1m \u001b[0m \n",
       " \u001b[1m \u001b[0m\u001b[1m                                                               \u001b[0m\u001b[1m \u001b[0m│\u001b[1m \u001b[0m\u001b[1mWINS\u001b[0m\u001b[1m \u001b[0m│\u001b[1m \u001b[0m\u001b[1m  VP\u001b[0m\u001b[1m \u001b[0m│\u001b[1m \u001b[0m\u001b[1mSET…\u001b[0m\u001b[1m \u001b[0m│\u001b[1m \u001b[0m\u001b[1mCIT…\u001b[0m\u001b[1m \u001b[0m│\u001b[1m \u001b[0m\u001b[1mROAD\u001b[0m\u001b[1m \u001b[0m│\u001b[1m \u001b[0m\u001b[1mARMY\u001b[0m\u001b[1m \u001b[0m│\u001b[1m \u001b[0m\u001b[1m VP\u001b[0m\u001b[1m \u001b[0m \n",
       "╶─────────────────────────────────────────────────────────────────┼──────┼──────┼──────┼──────┼──────┼──────┼─────╴\n",
       "  \u001b[37mAlphaBetaPlayer:WHITE(depth=2,value_fn=base_fn,prunning=False)\u001b[0m  │    4 │ 8.20 │ 2.60 │ 2.50 │ 0.30 │ 0.00 │ 0.…  \n",
       "  \u001b[33mAlphaBetaPlayer:ORANGE(depth=2,value_fn=base_fn,prunning=False)\u001b[0m │    6 │ 8.40 │ 2.90 │ 2.00 │ 0.70 │ 0.00 │ 0.…  \n",
       "  \u001b[34mRandomPlayer:BLUE\u001b[0m                                               │    0 │ 2.10 │ 2.00 │ 0.00 │ 0.00 │ 0.00 │ 0.…  \n",
       "  \u001b[31mAB_DQNPlayer_1:RED\u001b[0m                                              │    0 │ 2.30 │ 1.90 │ 0.10 │ 0.00 │ 0.00 │ 0.…  \n",
       "                                                                  ╵      ╵      ╵      ╵      ╵      ╵      ╵      \n"
      ]
     },
     "metadata": {},
     "output_type": "display_data"
    },
    {
     "data": {
      "text/html": [
       "<pre style=\"white-space:pre;overflow-x:auto;line-height:normal;font-family:Menlo,'DejaVu Sans Mono',consolas,'Courier New',monospace\"><span style=\"font-style: italic\">              Game Summary              </span>\n",
       "            ╷           ╷               \n",
       " <span style=\"font-weight: bold\"> AVG TICKS </span>│<span style=\"font-weight: bold\"> AVG TURNS </span>│<span style=\"font-weight: bold\"> AVG DURATION </span> \n",
       "╶───────────┼───────────┼──────────────╴\n",
       "     230.90 │     75.30 │   9.287 secs  \n",
       "            ╵           ╵               \n",
       "</pre>\n"
      ],
      "text/plain": [
       "\u001b[3m              Game Summary              \u001b[0m\n",
       "            ╷           ╷               \n",
       " \u001b[1m \u001b[0m\u001b[1mAVG TICKS\u001b[0m\u001b[1m \u001b[0m│\u001b[1m \u001b[0m\u001b[1mAVG TURNS\u001b[0m\u001b[1m \u001b[0m│\u001b[1m \u001b[0m\u001b[1mAVG DURATION\u001b[0m\u001b[1m \u001b[0m \n",
       "╶───────────┼───────────┼──────────────╴\n",
       "     230.90 │     75.30 │   9.287 secs  \n",
       "            ╵           ╵               \n"
      ]
     },
     "metadata": {},
     "output_type": "display_data"
    },
    {
     "name": "stdout",
     "output_type": "stream",
     "text": [
      "Loaded replay buffer with 2536 transitions\n",
      "atch 43/50: Playing 10 games\n"
     ]
    },
    {
     "data": {
      "text/html": [
       "<pre style=\"white-space:pre;overflow-x:auto;line-height:normal;font-family:Menlo,'DejaVu Sans Mono',consolas,'Courier New',monospace\">Cleared replay buffer to refresh training examples.\n",
       "</pre>\n"
      ],
      "text/plain": [
       "Cleared replay buffer to refresh training examples.\n"
      ]
     },
     "metadata": {},
     "output_type": "display_data"
    },
    {
     "data": {
      "text/html": [
       "<pre style=\"white-space:pre;overflow-x:auto;line-height:normal;font-family:Menlo,'DejaVu Sans Mono',consolas,'Courier New',monospace\">Reward variance in batch: 0.0000\n",
       "</pre>\n"
      ],
      "text/plain": [
       "Reward variance in batch: 0.0000\n"
      ]
     },
     "metadata": {},
     "output_type": "display_data"
    },
    {
     "data": {
      "text/html": [
       "<pre style=\"white-space:pre;overflow-x:auto;line-height:normal;font-family:Menlo,'DejaVu Sans Mono',consolas,'Courier New',monospace\">Trained DQN model with loss: 102.5698\n",
       "</pre>\n"
      ],
      "text/plain": [
       "Trained DQN model with loss: 102.5698\n"
      ]
     },
     "metadata": {},
     "output_type": "display_data"
    },
    {
     "data": {
      "text/html": [
       "<pre style=\"white-space:pre;overflow-x:auto;line-height:normal;font-family:Menlo,'DejaVu Sans Mono',consolas,'Courier New',monospace\">Avg pred: -0.1322, Avg target: 9.9945\n",
       "</pre>\n"
      ],
      "text/plain": [
       "Avg pred: -0.1322, Avg target: 9.9945\n"
      ]
     },
     "metadata": {},
     "output_type": "display_data"
    },
    {
     "data": {
      "text/html": [
       "<pre style=\"white-space:pre;overflow-x:auto;line-height:normal;font-family:Menlo,'DejaVu Sans Mono',consolas,'Courier New',monospace\"></pre>\n"
      ],
      "text/plain": []
     },
     "metadata": {},
     "output_type": "display_data"
    },
    {
     "data": {
      "text/html": [
       "<pre style=\"white-space:pre;overflow-x:auto;line-height:normal;font-family:Menlo,'DejaVu Sans Mono',consolas,'Courier New',monospace\">\n",
       "</pre>\n"
      ],
      "text/plain": [
       "\n"
      ]
     },
     "metadata": {},
     "output_type": "display_data"
    },
    {
     "data": {
      "text/html": [
       "<pre style=\"white-space:pre;overflow-x:auto;line-height:normal;font-family:Menlo,'DejaVu Sans Mono',consolas,'Courier New',monospace\"><span style=\"font-style: italic\">                                      Last 10 Games                                      </span>\n",
       "     ╷                       ╷       ╷          ╷        ╷           ╷         ╷         \n",
       " <span style=\"font-weight: bold\">  # </span>│<span style=\"font-weight: bold\"> SEATING               </span>│<span style=\"font-weight: bold\"> TURNS </span>│<span style=\"font-weight: bold\"> WHITE VP </span>│<span style=\"font-weight: bold\"> RED VP </span>│<span style=\"font-weight: bold\"> ORANGE VP </span>│<span style=\"font-weight: bold\"> BLUE VP </span>│<span style=\"font-weight: bold\"> WINNER </span> \n",
       "╶────┼───────────────────────┼───────┼──────────┼────────┼───────────┼─────────┼────────╴\n",
       "   1 │ <span style=\"color: #808000; text-decoration-color: #808000\">ORANGE</span>,<span style=\"color: #000080; text-decoration-color: #000080\">BLUE</span>,<span style=\"color: #800000; text-decoration-color: #800000\">RED</span>,<span style=\"color: #c0c0c0; text-decoration-color: #c0c0c0\">WHITE</span> │   105 │       10 │      2 │         4 │       3 │ <span style=\"color: #c0c0c0; text-decoration-color: #c0c0c0\">WHITE</span>   \n",
       "   2 │ <span style=\"color: #800000; text-decoration-color: #800000\">RED</span>,<span style=\"color: #808000; text-decoration-color: #808000\">ORANGE</span>,<span style=\"color: #000080; text-decoration-color: #000080\">BLUE</span>,<span style=\"color: #c0c0c0; text-decoration-color: #c0c0c0\">WHITE</span> │    89 │       10 │      2 │         2 │       3 │ <span style=\"color: #c0c0c0; text-decoration-color: #c0c0c0\">WHITE</span>   \n",
       "   3 │ <span style=\"color: #808000; text-decoration-color: #808000\">ORANGE</span>,<span style=\"color: #c0c0c0; text-decoration-color: #c0c0c0\">WHITE</span>,<span style=\"color: #000080; text-decoration-color: #000080\">BLUE</span>,<span style=\"color: #800000; text-decoration-color: #800000\">RED</span> │    75 │       10 │      2 │         3 │       2 │ <span style=\"color: #c0c0c0; text-decoration-color: #c0c0c0\">WHITE</span>   \n",
       "   4 │ <span style=\"color: #c0c0c0; text-decoration-color: #c0c0c0\">WHITE</span>,<span style=\"color: #808000; text-decoration-color: #808000\">ORANGE</span>,<span style=\"color: #000080; text-decoration-color: #000080\">BLUE</span>,<span style=\"color: #800000; text-decoration-color: #800000\">RED</span> │    42 │       10 │      2 │         2 │       3 │ <span style=\"color: #c0c0c0; text-decoration-color: #c0c0c0\">WHITE</span>   \n",
       "   5 │ <span style=\"color: #c0c0c0; text-decoration-color: #c0c0c0\">WHITE</span>,<span style=\"color: #808000; text-decoration-color: #808000\">ORANGE</span>,<span style=\"color: #000080; text-decoration-color: #000080\">BLUE</span>,<span style=\"color: #800000; text-decoration-color: #800000\">RED</span> │   118 │       10 │      2 │         2 │       8 │ <span style=\"color: #c0c0c0; text-decoration-color: #c0c0c0\">WHITE</span>   \n",
       "   6 │ <span style=\"color: #c0c0c0; text-decoration-color: #c0c0c0\">WHITE</span>,<span style=\"color: #800000; text-decoration-color: #800000\">RED</span>,<span style=\"color: #000080; text-decoration-color: #000080\">BLUE</span>,<span style=\"color: #808000; text-decoration-color: #808000\">ORANGE</span> │   106 │       10 │      2 │         2 │       4 │ <span style=\"color: #c0c0c0; text-decoration-color: #c0c0c0\">WHITE</span>   \n",
       "   7 │ <span style=\"color: #000080; text-decoration-color: #000080\">BLUE</span>,<span style=\"color: #c0c0c0; text-decoration-color: #c0c0c0\">WHITE</span>,<span style=\"color: #808000; text-decoration-color: #808000\">ORANGE</span>,<span style=\"color: #800000; text-decoration-color: #800000\">RED</span> │   111 │       10 │      3 │         2 │       2 │ <span style=\"color: #c0c0c0; text-decoration-color: #c0c0c0\">WHITE</span>   \n",
       "   8 │ <span style=\"color: #800000; text-decoration-color: #800000\">RED</span>,<span style=\"color: #000080; text-decoration-color: #000080\">BLUE</span>,<span style=\"color: #c0c0c0; text-decoration-color: #c0c0c0\">WHITE</span>,<span style=\"color: #808000; text-decoration-color: #808000\">ORANGE</span> │    64 │       10 │      2 │         2 │       4 │ <span style=\"color: #c0c0c0; text-decoration-color: #c0c0c0\">WHITE</span>   \n",
       "   9 │ <span style=\"color: #000080; text-decoration-color: #000080\">BLUE</span>,<span style=\"color: #800000; text-decoration-color: #800000\">RED</span>,<span style=\"color: #c0c0c0; text-decoration-color: #c0c0c0\">WHITE</span>,<span style=\"color: #808000; text-decoration-color: #808000\">ORANGE</span> │   108 │       10 │      2 │         4 │       3 │ <span style=\"color: #c0c0c0; text-decoration-color: #c0c0c0\">WHITE</span>   \n",
       "  10 │ <span style=\"color: #000080; text-decoration-color: #000080\">BLUE</span>,<span style=\"color: #808000; text-decoration-color: #808000\">ORANGE</span>,<span style=\"color: #c0c0c0; text-decoration-color: #c0c0c0\">WHITE</span>,<span style=\"color: #800000; text-decoration-color: #800000\">RED</span> │    96 │       10 │      2 │         2 │       3 │ <span style=\"color: #c0c0c0; text-decoration-color: #c0c0c0\">WHITE</span>   \n",
       "     ╵                       ╵       ╵          ╵        ╵           ╵         ╵         \n",
       "</pre>\n"
      ],
      "text/plain": [
       "\u001b[3m                                      Last 10 Games                                      \u001b[0m\n",
       "     ╷                       ╷       ╷          ╷        ╷           ╷         ╷         \n",
       " \u001b[1m \u001b[0m\u001b[1m #\u001b[0m\u001b[1m \u001b[0m│\u001b[1m \u001b[0m\u001b[1mSEATING              \u001b[0m\u001b[1m \u001b[0m│\u001b[1m \u001b[0m\u001b[1mTURNS\u001b[0m\u001b[1m \u001b[0m│\u001b[1m \u001b[0m\u001b[1mWHITE VP\u001b[0m\u001b[1m \u001b[0m│\u001b[1m \u001b[0m\u001b[1mRED VP\u001b[0m\u001b[1m \u001b[0m│\u001b[1m \u001b[0m\u001b[1mORANGE VP\u001b[0m\u001b[1m \u001b[0m│\u001b[1m \u001b[0m\u001b[1mBLUE VP\u001b[0m\u001b[1m \u001b[0m│\u001b[1m \u001b[0m\u001b[1mWINNER\u001b[0m\u001b[1m \u001b[0m \n",
       "╶────┼───────────────────────┼───────┼──────────┼────────┼───────────┼─────────┼────────╴\n",
       "   1 │ \u001b[33mORANGE\u001b[0m,\u001b[34mBLUE\u001b[0m,\u001b[31mRED\u001b[0m,\u001b[37mWHITE\u001b[0m │   105 │       10 │      2 │         4 │       3 │ \u001b[37mWHITE\u001b[0m   \n",
       "   2 │ \u001b[31mRED\u001b[0m,\u001b[33mORANGE\u001b[0m,\u001b[34mBLUE\u001b[0m,\u001b[37mWHITE\u001b[0m │    89 │       10 │      2 │         2 │       3 │ \u001b[37mWHITE\u001b[0m   \n",
       "   3 │ \u001b[33mORANGE\u001b[0m,\u001b[37mWHITE\u001b[0m,\u001b[34mBLUE\u001b[0m,\u001b[31mRED\u001b[0m │    75 │       10 │      2 │         3 │       2 │ \u001b[37mWHITE\u001b[0m   \n",
       "   4 │ \u001b[37mWHITE\u001b[0m,\u001b[33mORANGE\u001b[0m,\u001b[34mBLUE\u001b[0m,\u001b[31mRED\u001b[0m │    42 │       10 │      2 │         2 │       3 │ \u001b[37mWHITE\u001b[0m   \n",
       "   5 │ \u001b[37mWHITE\u001b[0m,\u001b[33mORANGE\u001b[0m,\u001b[34mBLUE\u001b[0m,\u001b[31mRED\u001b[0m │   118 │       10 │      2 │         2 │       8 │ \u001b[37mWHITE\u001b[0m   \n",
       "   6 │ \u001b[37mWHITE\u001b[0m,\u001b[31mRED\u001b[0m,\u001b[34mBLUE\u001b[0m,\u001b[33mORANGE\u001b[0m │   106 │       10 │      2 │         2 │       4 │ \u001b[37mWHITE\u001b[0m   \n",
       "   7 │ \u001b[34mBLUE\u001b[0m,\u001b[37mWHITE\u001b[0m,\u001b[33mORANGE\u001b[0m,\u001b[31mRED\u001b[0m │   111 │       10 │      3 │         2 │       2 │ \u001b[37mWHITE\u001b[0m   \n",
       "   8 │ \u001b[31mRED\u001b[0m,\u001b[34mBLUE\u001b[0m,\u001b[37mWHITE\u001b[0m,\u001b[33mORANGE\u001b[0m │    64 │       10 │      2 │         2 │       4 │ \u001b[37mWHITE\u001b[0m   \n",
       "   9 │ \u001b[34mBLUE\u001b[0m,\u001b[31mRED\u001b[0m,\u001b[37mWHITE\u001b[0m,\u001b[33mORANGE\u001b[0m │   108 │       10 │      2 │         4 │       3 │ \u001b[37mWHITE\u001b[0m   \n",
       "  10 │ \u001b[34mBLUE\u001b[0m,\u001b[33mORANGE\u001b[0m,\u001b[37mWHITE\u001b[0m,\u001b[31mRED\u001b[0m │    96 │       10 │      2 │         2 │       3 │ \u001b[37mWHITE\u001b[0m   \n",
       "     ╵                       ╵       ╵          ╵        ╵           ╵         ╵         \n"
      ]
     },
     "metadata": {},
     "output_type": "display_data"
    },
    {
     "data": {
      "text/html": [
       "<pre style=\"white-space:pre;overflow-x:auto;line-height:normal;font-family:Menlo,'DejaVu Sans Mono',consolas,'Courier New',monospace\"><span style=\"font-style: italic\">                                                  Player Summary                                                   </span>\n",
       "                                                                 ╷      ╷      ╷      ╷      ╷      ╷      ╷       \n",
       " <span style=\"font-weight: bold\">                                                                </span>│<span style=\"font-weight: bold\">      </span>│<span style=\"font-weight: bold\">      </span>│<span style=\"font-weight: bold\">      </span>│<span style=\"font-weight: bold\">      </span>│<span style=\"font-weight: bold\">      </span>│<span style=\"font-weight: bold\">      </span>│<span style=\"font-weight: bold\">  AVG </span> \n",
       " <span style=\"font-weight: bold\">                                                                </span>│<span style=\"font-weight: bold\">      </span>│<span style=\"font-weight: bold\">  AVG </span>│<span style=\"font-weight: bold\">  AVG </span>│<span style=\"font-weight: bold\">  AVG </span>│<span style=\"font-weight: bold\">  AVG </span>│<span style=\"font-weight: bold\">  AVG </span>│<span style=\"font-weight: bold\">  DEV </span> \n",
       " <span style=\"font-weight: bold\">                                                                </span>│<span style=\"font-weight: bold\"> WINS </span>│<span style=\"font-weight: bold\">   VP </span>│<span style=\"font-weight: bold\"> SET… </span>│<span style=\"font-weight: bold\"> CIT… </span>│<span style=\"font-weight: bold\"> ROAD </span>│<span style=\"font-weight: bold\"> ARMY </span>│<span style=\"font-weight: bold\">   VP </span> \n",
       "╶────────────────────────────────────────────────────────────────┼──────┼──────┼──────┼──────┼──────┼──────┼──────╴\n",
       "  <span style=\"color: #c0c0c0; text-decoration-color: #c0c0c0\">AlphaBetaPlayer:WHITE(depth=2,value_fn=base_fn,prunning=False)</span> │   10 │ 10.… │ 3.00 │ 2.50 │ 1.00 │ 0.00 │ 0.00  \n",
       "  <span style=\"color: #800000; text-decoration-color: #800000\">AB_DQNPlayer_1:RED</span>                                             │    0 │ 2.10 │ 1.90 │ 0.10 │ 0.00 │ 0.00 │ 0.00  \n",
       "  <span style=\"color: #808000; text-decoration-color: #808000\">RandomPlayer:ORANGE</span>                                            │    0 │ 2.50 │ 1.70 │ 0.40 │ 0.00 │ 0.00 │ 0.00  \n",
       "  <span style=\"color: #000080; text-decoration-color: #000080\">WeightedRandomPlayer:BLUE</span>                                      │    0 │ 3.50 │ 1.60 │ 0.50 │ 0.00 │ 0.10 │ 0.70  \n",
       "                                                                 ╵      ╵      ╵      ╵      ╵      ╵      ╵       \n",
       "</pre>\n"
      ],
      "text/plain": [
       "\u001b[3m                                                  Player Summary                                                   \u001b[0m\n",
       "                                                                 ╷      ╷      ╷      ╷      ╷      ╷      ╷       \n",
       " \u001b[1m                                                                \u001b[0m│\u001b[1m      \u001b[0m│\u001b[1m      \u001b[0m│\u001b[1m      \u001b[0m│\u001b[1m      \u001b[0m│\u001b[1m      \u001b[0m│\u001b[1m      \u001b[0m│\u001b[1m \u001b[0m\u001b[1m AVG\u001b[0m\u001b[1m \u001b[0m \n",
       " \u001b[1m                                                                \u001b[0m│\u001b[1m      \u001b[0m│\u001b[1m \u001b[0m\u001b[1m AVG\u001b[0m\u001b[1m \u001b[0m│\u001b[1m \u001b[0m\u001b[1m AVG\u001b[0m\u001b[1m \u001b[0m│\u001b[1m \u001b[0m\u001b[1m AVG\u001b[0m\u001b[1m \u001b[0m│\u001b[1m \u001b[0m\u001b[1m AVG\u001b[0m\u001b[1m \u001b[0m│\u001b[1m \u001b[0m\u001b[1m AVG\u001b[0m\u001b[1m \u001b[0m│\u001b[1m \u001b[0m\u001b[1m DEV\u001b[0m\u001b[1m \u001b[0m \n",
       " \u001b[1m \u001b[0m\u001b[1m                                                              \u001b[0m\u001b[1m \u001b[0m│\u001b[1m \u001b[0m\u001b[1mWINS\u001b[0m\u001b[1m \u001b[0m│\u001b[1m \u001b[0m\u001b[1m  VP\u001b[0m\u001b[1m \u001b[0m│\u001b[1m \u001b[0m\u001b[1mSET…\u001b[0m\u001b[1m \u001b[0m│\u001b[1m \u001b[0m\u001b[1mCIT…\u001b[0m\u001b[1m \u001b[0m│\u001b[1m \u001b[0m\u001b[1mROAD\u001b[0m\u001b[1m \u001b[0m│\u001b[1m \u001b[0m\u001b[1mARMY\u001b[0m\u001b[1m \u001b[0m│\u001b[1m \u001b[0m\u001b[1m  VP\u001b[0m\u001b[1m \u001b[0m \n",
       "╶────────────────────────────────────────────────────────────────┼──────┼──────┼──────┼──────┼──────┼──────┼──────╴\n",
       "  \u001b[37mAlphaBetaPlayer:WHITE(depth=2,value_fn=base_fn,prunning=False)\u001b[0m │   10 │ 10.… │ 3.00 │ 2.50 │ 1.00 │ 0.00 │ 0.00  \n",
       "  \u001b[31mAB_DQNPlayer_1:RED\u001b[0m                                             │    0 │ 2.10 │ 1.90 │ 0.10 │ 0.00 │ 0.00 │ 0.00  \n",
       "  \u001b[33mRandomPlayer:ORANGE\u001b[0m                                            │    0 │ 2.50 │ 1.70 │ 0.40 │ 0.00 │ 0.00 │ 0.00  \n",
       "  \u001b[34mWeightedRandomPlayer:BLUE\u001b[0m                                      │    0 │ 3.50 │ 1.60 │ 0.50 │ 0.00 │ 0.10 │ 0.70  \n",
       "                                                                 ╵      ╵      ╵      ╵      ╵      ╵      ╵       \n"
      ]
     },
     "metadata": {},
     "output_type": "display_data"
    },
    {
     "data": {
      "text/html": [
       "<pre style=\"white-space:pre;overflow-x:auto;line-height:normal;font-family:Menlo,'DejaVu Sans Mono',consolas,'Courier New',monospace\"><span style=\"font-style: italic\">              Game Summary              </span>\n",
       "            ╷           ╷               \n",
       " <span style=\"font-weight: bold\"> AVG TICKS </span>│<span style=\"font-weight: bold\"> AVG TURNS </span>│<span style=\"font-weight: bold\"> AVG DURATION </span> \n",
       "╶───────────┼───────────┼──────────────╴\n",
       "     269.50 │     91.40 │   6.924 secs  \n",
       "            ╵           ╵               \n",
       "</pre>\n"
      ],
      "text/plain": [
       "\u001b[3m              Game Summary              \u001b[0m\n",
       "            ╷           ╷               \n",
       " \u001b[1m \u001b[0m\u001b[1mAVG TICKS\u001b[0m\u001b[1m \u001b[0m│\u001b[1m \u001b[0m\u001b[1mAVG TURNS\u001b[0m\u001b[1m \u001b[0m│\u001b[1m \u001b[0m\u001b[1mAVG DURATION\u001b[0m\u001b[1m \u001b[0m \n",
       "╶───────────┼───────────┼──────────────╴\n",
       "     269.50 │     91.40 │   6.924 secs  \n",
       "            ╵           ╵               \n"
      ]
     },
     "metadata": {},
     "output_type": "display_data"
    },
    {
     "name": "stdout",
     "output_type": "stream",
     "text": [
      "Loaded replay buffer with 2400 transitions\n",
      "atch 44/50: Playing 10 games\n"
     ]
    },
    {
     "data": {
      "text/html": [
       "<pre style=\"white-space:pre;overflow-x:auto;line-height:normal;font-family:Menlo,'DejaVu Sans Mono',consolas,'Courier New',monospace\">Cleared replay buffer to refresh training examples.\n",
       "</pre>\n"
      ],
      "text/plain": [
       "Cleared replay buffer to refresh training examples.\n"
      ]
     },
     "metadata": {},
     "output_type": "display_data"
    },
    {
     "data": {
      "text/html": [
       "<pre style=\"white-space:pre;overflow-x:auto;line-height:normal;font-family:Menlo,'DejaVu Sans Mono',consolas,'Courier New',monospace\">Reward variance in batch: 0.0000\n",
       "</pre>\n"
      ],
      "text/plain": [
       "Reward variance in batch: 0.0000\n"
      ]
     },
     "metadata": {},
     "output_type": "display_data"
    },
    {
     "data": {
      "text/html": [
       "<pre style=\"white-space:pre;overflow-x:auto;line-height:normal;font-family:Menlo,'DejaVu Sans Mono',consolas,'Courier New',monospace\">Trained DQN model with loss: 101.5175\n",
       "</pre>\n"
      ],
      "text/plain": [
       "Trained DQN model with loss: 101.5175\n"
      ]
     },
     "metadata": {},
     "output_type": "display_data"
    },
    {
     "data": {
      "text/html": [
       "<pre style=\"white-space:pre;overflow-x:auto;line-height:normal;font-family:Menlo,'DejaVu Sans Mono',consolas,'Courier New',monospace\">Avg pred: -0.0926, Avg target: 9.9807\n",
       "</pre>\n"
      ],
      "text/plain": [
       "Avg pred: -0.0926, Avg target: 9.9807\n"
      ]
     },
     "metadata": {},
     "output_type": "display_data"
    },
    {
     "data": {
      "text/html": [
       "<pre style=\"white-space:pre;overflow-x:auto;line-height:normal;font-family:Menlo,'DejaVu Sans Mono',consolas,'Courier New',monospace\"></pre>\n"
      ],
      "text/plain": []
     },
     "metadata": {},
     "output_type": "display_data"
    },
    {
     "data": {
      "text/html": [
       "<pre style=\"white-space:pre;overflow-x:auto;line-height:normal;font-family:Menlo,'DejaVu Sans Mono',consolas,'Courier New',monospace\">\n",
       "</pre>\n"
      ],
      "text/plain": [
       "\n"
      ]
     },
     "metadata": {},
     "output_type": "display_data"
    },
    {
     "data": {
      "text/html": [
       "<pre style=\"white-space:pre;overflow-x:auto;line-height:normal;font-family:Menlo,'DejaVu Sans Mono',consolas,'Courier New',monospace\"><span style=\"font-style: italic\">                                      Last 10 Games                                      </span>\n",
       "     ╷                       ╷       ╷          ╷           ╷         ╷        ╷         \n",
       " <span style=\"font-weight: bold\">  # </span>│<span style=\"font-weight: bold\"> SEATING               </span>│<span style=\"font-weight: bold\"> TURNS </span>│<span style=\"font-weight: bold\"> WHITE VP </span>│<span style=\"font-weight: bold\"> ORANGE VP </span>│<span style=\"font-weight: bold\"> BLUE VP </span>│<span style=\"font-weight: bold\"> RED VP </span>│<span style=\"font-weight: bold\"> WINNER </span> \n",
       "╶────┼───────────────────────┼───────┼──────────┼───────────┼─────────┼────────┼────────╴\n",
       "   1 │ <span style=\"color: #808000; text-decoration-color: #808000\">ORANGE</span>,<span style=\"color: #000080; text-decoration-color: #000080\">BLUE</span>,<span style=\"color: #800000; text-decoration-color: #800000\">RED</span>,<span style=\"color: #c0c0c0; text-decoration-color: #c0c0c0\">WHITE</span> │    95 │        2 │         2 │      10 │      2 │ <span style=\"color: #000080; text-decoration-color: #000080\">BLUE</span>    \n",
       "   2 │ <span style=\"color: #000080; text-decoration-color: #000080\">BLUE</span>,<span style=\"color: #808000; text-decoration-color: #808000\">ORANGE</span>,<span style=\"color: #800000; text-decoration-color: #800000\">RED</span>,<span style=\"color: #c0c0c0; text-decoration-color: #c0c0c0\">WHITE</span> │    38 │        2 │         2 │      10 │      2 │ <span style=\"color: #000080; text-decoration-color: #000080\">BLUE</span>    \n",
       "   3 │ <span style=\"color: #c0c0c0; text-decoration-color: #c0c0c0\">WHITE</span>,<span style=\"color: #800000; text-decoration-color: #800000\">RED</span>,<span style=\"color: #808000; text-decoration-color: #808000\">ORANGE</span>,<span style=\"color: #000080; text-decoration-color: #000080\">BLUE</span> │    81 │        3 │         2 │      10 │      2 │ <span style=\"color: #000080; text-decoration-color: #000080\">BLUE</span>    \n",
       "   4 │ <span style=\"color: #800000; text-decoration-color: #800000\">RED</span>,<span style=\"color: #000080; text-decoration-color: #000080\">BLUE</span>,<span style=\"color: #c0c0c0; text-decoration-color: #c0c0c0\">WHITE</span>,<span style=\"color: #808000; text-decoration-color: #808000\">ORANGE</span> │    95 │        3 │         4 │      10 │      4 │ <span style=\"color: #000080; text-decoration-color: #000080\">BLUE</span>    \n",
       "   5 │ <span style=\"color: #000080; text-decoration-color: #000080\">BLUE</span>,<span style=\"color: #800000; text-decoration-color: #800000\">RED</span>,<span style=\"color: #c0c0c0; text-decoration-color: #c0c0c0\">WHITE</span>,<span style=\"color: #808000; text-decoration-color: #808000\">ORANGE</span> │    66 │        3 │         2 │      11 │      2 │ <span style=\"color: #000080; text-decoration-color: #000080\">BLUE</span>    \n",
       "   6 │ <span style=\"color: #c0c0c0; text-decoration-color: #c0c0c0\">WHITE</span>,<span style=\"color: #808000; text-decoration-color: #808000\">ORANGE</span>,<span style=\"color: #800000; text-decoration-color: #800000\">RED</span>,<span style=\"color: #000080; text-decoration-color: #000080\">BLUE</span> │    85 │        2 │         2 │      10 │      4 │ <span style=\"color: #000080; text-decoration-color: #000080\">BLUE</span>    \n",
       "   7 │ <span style=\"color: #808000; text-decoration-color: #808000\">ORANGE</span>,<span style=\"color: #c0c0c0; text-decoration-color: #c0c0c0\">WHITE</span>,<span style=\"color: #000080; text-decoration-color: #000080\">BLUE</span>,<span style=\"color: #800000; text-decoration-color: #800000\">RED</span> │    76 │        6 │         2 │      10 │      2 │ <span style=\"color: #000080; text-decoration-color: #000080\">BLUE</span>    \n",
       "   8 │ <span style=\"color: #808000; text-decoration-color: #808000\">ORANGE</span>,<span style=\"color: #000080; text-decoration-color: #000080\">BLUE</span>,<span style=\"color: #c0c0c0; text-decoration-color: #c0c0c0\">WHITE</span>,<span style=\"color: #800000; text-decoration-color: #800000\">RED</span> │    55 │        5 │         3 │      10 │      2 │ <span style=\"color: #000080; text-decoration-color: #000080\">BLUE</span>    \n",
       "   9 │ <span style=\"color: #c0c0c0; text-decoration-color: #c0c0c0\">WHITE</span>,<span style=\"color: #000080; text-decoration-color: #000080\">BLUE</span>,<span style=\"color: #808000; text-decoration-color: #808000\">ORANGE</span>,<span style=\"color: #800000; text-decoration-color: #800000\">RED</span> │   111 │        4 │         3 │      10 │      2 │ <span style=\"color: #000080; text-decoration-color: #000080\">BLUE</span>    \n",
       "  10 │ <span style=\"color: #c0c0c0; text-decoration-color: #c0c0c0\">WHITE</span>,<span style=\"color: #000080; text-decoration-color: #000080\">BLUE</span>,<span style=\"color: #800000; text-decoration-color: #800000\">RED</span>,<span style=\"color: #808000; text-decoration-color: #808000\">ORANGE</span> │    95 │        2 │         2 │      10 │      2 │ <span style=\"color: #000080; text-decoration-color: #000080\">BLUE</span>    \n",
       "     ╵                       ╵       ╵          ╵           ╵         ╵        ╵         \n",
       "</pre>\n"
      ],
      "text/plain": [
       "\u001b[3m                                      Last 10 Games                                      \u001b[0m\n",
       "     ╷                       ╷       ╷          ╷           ╷         ╷        ╷         \n",
       " \u001b[1m \u001b[0m\u001b[1m #\u001b[0m\u001b[1m \u001b[0m│\u001b[1m \u001b[0m\u001b[1mSEATING              \u001b[0m\u001b[1m \u001b[0m│\u001b[1m \u001b[0m\u001b[1mTURNS\u001b[0m\u001b[1m \u001b[0m│\u001b[1m \u001b[0m\u001b[1mWHITE VP\u001b[0m\u001b[1m \u001b[0m│\u001b[1m \u001b[0m\u001b[1mORANGE VP\u001b[0m\u001b[1m \u001b[0m│\u001b[1m \u001b[0m\u001b[1mBLUE VP\u001b[0m\u001b[1m \u001b[0m│\u001b[1m \u001b[0m\u001b[1mRED VP\u001b[0m\u001b[1m \u001b[0m│\u001b[1m \u001b[0m\u001b[1mWINNER\u001b[0m\u001b[1m \u001b[0m \n",
       "╶────┼───────────────────────┼───────┼──────────┼───────────┼─────────┼────────┼────────╴\n",
       "   1 │ \u001b[33mORANGE\u001b[0m,\u001b[34mBLUE\u001b[0m,\u001b[31mRED\u001b[0m,\u001b[37mWHITE\u001b[0m │    95 │        2 │         2 │      10 │      2 │ \u001b[34mBLUE\u001b[0m    \n",
       "   2 │ \u001b[34mBLUE\u001b[0m,\u001b[33mORANGE\u001b[0m,\u001b[31mRED\u001b[0m,\u001b[37mWHITE\u001b[0m │    38 │        2 │         2 │      10 │      2 │ \u001b[34mBLUE\u001b[0m    \n",
       "   3 │ \u001b[37mWHITE\u001b[0m,\u001b[31mRED\u001b[0m,\u001b[33mORANGE\u001b[0m,\u001b[34mBLUE\u001b[0m │    81 │        3 │         2 │      10 │      2 │ \u001b[34mBLUE\u001b[0m    \n",
       "   4 │ \u001b[31mRED\u001b[0m,\u001b[34mBLUE\u001b[0m,\u001b[37mWHITE\u001b[0m,\u001b[33mORANGE\u001b[0m │    95 │        3 │         4 │      10 │      4 │ \u001b[34mBLUE\u001b[0m    \n",
       "   5 │ \u001b[34mBLUE\u001b[0m,\u001b[31mRED\u001b[0m,\u001b[37mWHITE\u001b[0m,\u001b[33mORANGE\u001b[0m │    66 │        3 │         2 │      11 │      2 │ \u001b[34mBLUE\u001b[0m    \n",
       "   6 │ \u001b[37mWHITE\u001b[0m,\u001b[33mORANGE\u001b[0m,\u001b[31mRED\u001b[0m,\u001b[34mBLUE\u001b[0m │    85 │        2 │         2 │      10 │      4 │ \u001b[34mBLUE\u001b[0m    \n",
       "   7 │ \u001b[33mORANGE\u001b[0m,\u001b[37mWHITE\u001b[0m,\u001b[34mBLUE\u001b[0m,\u001b[31mRED\u001b[0m │    76 │        6 │         2 │      10 │      2 │ \u001b[34mBLUE\u001b[0m    \n",
       "   8 │ \u001b[33mORANGE\u001b[0m,\u001b[34mBLUE\u001b[0m,\u001b[37mWHITE\u001b[0m,\u001b[31mRED\u001b[0m │    55 │        5 │         3 │      10 │      2 │ \u001b[34mBLUE\u001b[0m    \n",
       "   9 │ \u001b[37mWHITE\u001b[0m,\u001b[34mBLUE\u001b[0m,\u001b[33mORANGE\u001b[0m,\u001b[31mRED\u001b[0m │   111 │        4 │         3 │      10 │      2 │ \u001b[34mBLUE\u001b[0m    \n",
       "  10 │ \u001b[37mWHITE\u001b[0m,\u001b[34mBLUE\u001b[0m,\u001b[31mRED\u001b[0m,\u001b[33mORANGE\u001b[0m │    95 │        2 │         2 │      10 │      2 │ \u001b[34mBLUE\u001b[0m    \n",
       "     ╵                       ╵       ╵          ╵           ╵         ╵        ╵         \n"
      ]
     },
     "metadata": {},
     "output_type": "display_data"
    },
    {
     "data": {
      "text/html": [
       "<pre style=\"white-space:pre;overflow-x:auto;line-height:normal;font-family:Menlo,'DejaVu Sans Mono',consolas,'Courier New',monospace\"><span style=\"font-style: italic\">                                                  Player Summary                                                   </span>\n",
       "                                                                ╷      ╷      ╷      ╷      ╷      ╷      ╷        \n",
       " <span style=\"font-weight: bold\">                                                               </span>│<span style=\"font-weight: bold\">      </span>│<span style=\"font-weight: bold\">      </span>│<span style=\"font-weight: bold\">      </span>│<span style=\"font-weight: bold\">      </span>│<span style=\"font-weight: bold\">      </span>│<span style=\"font-weight: bold\">      </span>│<span style=\"font-weight: bold\">   AVG </span> \n",
       " <span style=\"font-weight: bold\">                                                               </span>│<span style=\"font-weight: bold\">      </span>│<span style=\"font-weight: bold\">  AVG </span>│<span style=\"font-weight: bold\">  AVG </span>│<span style=\"font-weight: bold\">  AVG </span>│<span style=\"font-weight: bold\">  AVG </span>│<span style=\"font-weight: bold\">  AVG </span>│<span style=\"font-weight: bold\">   DEV </span> \n",
       " <span style=\"font-weight: bold\">                                                               </span>│<span style=\"font-weight: bold\"> WINS </span>│<span style=\"font-weight: bold\">   VP </span>│<span style=\"font-weight: bold\"> SET… </span>│<span style=\"font-weight: bold\"> CIT… </span>│<span style=\"font-weight: bold\"> ROAD </span>│<span style=\"font-weight: bold\"> ARMY </span>│<span style=\"font-weight: bold\">    VP </span> \n",
       "╶───────────────────────────────────────────────────────────────┼──────┼──────┼──────┼──────┼──────┼──────┼───────╴\n",
       "  <span style=\"color: #c0c0c0; text-decoration-color: #c0c0c0\">WeightedRandomPlayer:WHITE</span>                                    │    0 │ 3.20 │ 1.50 │ 0.60 │ 0.00 │ 0.10 │  0.30  \n",
       "  <span style=\"color: #808000; text-decoration-color: #808000\">WeightedRandomPlayer:ORANGE</span>                                   │    0 │ 2.40 │ 2.10 │ 0.10 │ 0.00 │ 0.00 │  0.10  \n",
       "  <span style=\"color: #000080; text-decoration-color: #000080\">AlphaBetaPlayer:BLUE(depth=2,value_fn=base_fn,prunning=False)</span> │   10 │ 10.… │ 2.50 │ 2.80 │ 1.00 │ 0.00 │  0.00  \n",
       "  <span style=\"color: #800000; text-decoration-color: #800000\">AB_DQNPlayer_1:RED</span>                                            │    0 │ 2.40 │ 1.80 │ 0.20 │ 0.00 │ 0.00 │  0.20  \n",
       "                                                                ╵      ╵      ╵      ╵      ╵      ╵      ╵        \n",
       "</pre>\n"
      ],
      "text/plain": [
       "\u001b[3m                                                  Player Summary                                                   \u001b[0m\n",
       "                                                                ╷      ╷      ╷      ╷      ╷      ╷      ╷        \n",
       " \u001b[1m                                                               \u001b[0m│\u001b[1m      \u001b[0m│\u001b[1m      \u001b[0m│\u001b[1m      \u001b[0m│\u001b[1m      \u001b[0m│\u001b[1m      \u001b[0m│\u001b[1m      \u001b[0m│\u001b[1m \u001b[0m\u001b[1m  AVG\u001b[0m\u001b[1m \u001b[0m \n",
       " \u001b[1m                                                               \u001b[0m│\u001b[1m      \u001b[0m│\u001b[1m \u001b[0m\u001b[1m AVG\u001b[0m\u001b[1m \u001b[0m│\u001b[1m \u001b[0m\u001b[1m AVG\u001b[0m\u001b[1m \u001b[0m│\u001b[1m \u001b[0m\u001b[1m AVG\u001b[0m\u001b[1m \u001b[0m│\u001b[1m \u001b[0m\u001b[1m AVG\u001b[0m\u001b[1m \u001b[0m│\u001b[1m \u001b[0m\u001b[1m AVG\u001b[0m\u001b[1m \u001b[0m│\u001b[1m \u001b[0m\u001b[1m  DEV\u001b[0m\u001b[1m \u001b[0m \n",
       " \u001b[1m \u001b[0m\u001b[1m                                                             \u001b[0m\u001b[1m \u001b[0m│\u001b[1m \u001b[0m\u001b[1mWINS\u001b[0m\u001b[1m \u001b[0m│\u001b[1m \u001b[0m\u001b[1m  VP\u001b[0m\u001b[1m \u001b[0m│\u001b[1m \u001b[0m\u001b[1mSET…\u001b[0m\u001b[1m \u001b[0m│\u001b[1m \u001b[0m\u001b[1mCIT…\u001b[0m\u001b[1m \u001b[0m│\u001b[1m \u001b[0m\u001b[1mROAD\u001b[0m\u001b[1m \u001b[0m│\u001b[1m \u001b[0m\u001b[1mARMY\u001b[0m\u001b[1m \u001b[0m│\u001b[1m \u001b[0m\u001b[1m   VP\u001b[0m\u001b[1m \u001b[0m \n",
       "╶───────────────────────────────────────────────────────────────┼──────┼──────┼──────┼──────┼──────┼──────┼───────╴\n",
       "  \u001b[37mWeightedRandomPlayer:WHITE\u001b[0m                                    │    0 │ 3.20 │ 1.50 │ 0.60 │ 0.00 │ 0.10 │  0.30  \n",
       "  \u001b[33mWeightedRandomPlayer:ORANGE\u001b[0m                                   │    0 │ 2.40 │ 2.10 │ 0.10 │ 0.00 │ 0.00 │  0.10  \n",
       "  \u001b[34mAlphaBetaPlayer:BLUE(depth=2,value_fn=base_fn,prunning=False)\u001b[0m │   10 │ 10.… │ 2.50 │ 2.80 │ 1.00 │ 0.00 │  0.00  \n",
       "  \u001b[31mAB_DQNPlayer_1:RED\u001b[0m                                            │    0 │ 2.40 │ 1.80 │ 0.20 │ 0.00 │ 0.00 │  0.20  \n",
       "                                                                ╵      ╵      ╵      ╵      ╵      ╵      ╵        \n"
      ]
     },
     "metadata": {},
     "output_type": "display_data"
    },
    {
     "data": {
      "text/html": [
       "<pre style=\"white-space:pre;overflow-x:auto;line-height:normal;font-family:Menlo,'DejaVu Sans Mono',consolas,'Courier New',monospace\"><span style=\"font-style: italic\">              Game Summary              </span>\n",
       "            ╷           ╷               \n",
       " <span style=\"font-weight: bold\"> AVG TICKS </span>│<span style=\"font-weight: bold\"> AVG TURNS </span>│<span style=\"font-weight: bold\"> AVG DURATION </span> \n",
       "╶───────────┼───────────┼──────────────╴\n",
       "     236.10 │     79.70 │   8.622 secs  \n",
       "            ╵           ╵               \n",
       "</pre>\n"
      ],
      "text/plain": [
       "\u001b[3m              Game Summary              \u001b[0m\n",
       "            ╷           ╷               \n",
       " \u001b[1m \u001b[0m\u001b[1mAVG TICKS\u001b[0m\u001b[1m \u001b[0m│\u001b[1m \u001b[0m\u001b[1mAVG TURNS\u001b[0m\u001b[1m \u001b[0m│\u001b[1m \u001b[0m\u001b[1mAVG DURATION\u001b[0m\u001b[1m \u001b[0m \n",
       "╶───────────┼───────────┼──────────────╴\n",
       "     236.10 │     79.70 │   8.622 secs  \n",
       "            ╵           ╵               \n"
      ]
     },
     "metadata": {},
     "output_type": "display_data"
    },
    {
     "name": "stdout",
     "output_type": "stream",
     "text": [
      "Loaded replay buffer with 3035 transitions\n",
      "atch 45/50: Playing 10 games\n"
     ]
    },
    {
     "data": {
      "text/html": [
       "<pre style=\"white-space:pre;overflow-x:auto;line-height:normal;font-family:Menlo,'DejaVu Sans Mono',consolas,'Courier New',monospace\">Cleared replay buffer to refresh training examples.\n",
       "</pre>\n"
      ],
      "text/plain": [
       "Cleared replay buffer to refresh training examples.\n"
      ]
     },
     "metadata": {},
     "output_type": "display_data"
    },
    {
     "data": {
      "text/html": [
       "<pre style=\"white-space:pre;overflow-x:auto;line-height:normal;font-family:Menlo,'DejaVu Sans Mono',consolas,'Courier New',monospace\">Reward variance in batch: 0.0000\n",
       "</pre>\n"
      ],
      "text/plain": [
       "Reward variance in batch: 0.0000\n"
      ]
     },
     "metadata": {},
     "output_type": "display_data"
    },
    {
     "data": {
      "text/html": [
       "<pre style=\"white-space:pre;overflow-x:auto;line-height:normal;font-family:Menlo,'DejaVu Sans Mono',consolas,'Courier New',monospace\">Trained DQN model with loss: 100.4844\n",
       "</pre>\n"
      ],
      "text/plain": [
       "Trained DQN model with loss: 100.4844\n"
      ]
     },
     "metadata": {},
     "output_type": "display_data"
    },
    {
     "data": {
      "text/html": [
       "<pre style=\"white-space:pre;overflow-x:auto;line-height:normal;font-family:Menlo,'DejaVu Sans Mono',consolas,'Courier New',monospace\">Avg pred: -0.0296, Avg target: 9.9932\n",
       "</pre>\n"
      ],
      "text/plain": [
       "Avg pred: -0.0296, Avg target: 9.9932\n"
      ]
     },
     "metadata": {},
     "output_type": "display_data"
    },
    {
     "data": {
      "text/html": [
       "<pre style=\"white-space:pre;overflow-x:auto;line-height:normal;font-family:Menlo,'DejaVu Sans Mono',consolas,'Courier New',monospace\"></pre>\n"
      ],
      "text/plain": []
     },
     "metadata": {},
     "output_type": "display_data"
    },
    {
     "data": {
      "text/html": [
       "<pre style=\"white-space:pre;overflow-x:auto;line-height:normal;font-family:Menlo,'DejaVu Sans Mono',consolas,'Courier New',monospace\">\n",
       "</pre>\n"
      ],
      "text/plain": [
       "\n"
      ]
     },
     "metadata": {},
     "output_type": "display_data"
    },
    {
     "data": {
      "text/html": [
       "<pre style=\"white-space:pre;overflow-x:auto;line-height:normal;font-family:Menlo,'DejaVu Sans Mono',consolas,'Courier New',monospace\"><span style=\"font-style: italic\">                                      Last 10 Games                                      </span>\n",
       "     ╷                       ╷       ╷        ╷          ╷           ╷         ╷         \n",
       " <span style=\"font-weight: bold\">  # </span>│<span style=\"font-weight: bold\"> SEATING               </span>│<span style=\"font-weight: bold\"> TURNS </span>│<span style=\"font-weight: bold\"> RED VP </span>│<span style=\"font-weight: bold\"> WHITE VP </span>│<span style=\"font-weight: bold\"> ORANGE VP </span>│<span style=\"font-weight: bold\"> BLUE VP </span>│<span style=\"font-weight: bold\"> WINNER </span> \n",
       "╶────┼───────────────────────┼───────┼────────┼──────────┼───────────┼─────────┼────────╴\n",
       "   1 │ <span style=\"color: #800000; text-decoration-color: #800000\">RED</span>,<span style=\"color: #000080; text-decoration-color: #000080\">BLUE</span>,<span style=\"color: #808000; text-decoration-color: #808000\">ORANGE</span>,<span style=\"color: #c0c0c0; text-decoration-color: #c0c0c0\">WHITE</span> │   120 │      2 │        9 │        10 │       8 │ <span style=\"color: #808000; text-decoration-color: #808000\">ORANGE</span>  \n",
       "   2 │ <span style=\"color: #800000; text-decoration-color: #800000\">RED</span>,<span style=\"color: #c0c0c0; text-decoration-color: #c0c0c0\">WHITE</span>,<span style=\"color: #808000; text-decoration-color: #808000\">ORANGE</span>,<span style=\"color: #000080; text-decoration-color: #000080\">BLUE</span> │   111 │      5 │       10 │         5 │       8 │ <span style=\"color: #c0c0c0; text-decoration-color: #c0c0c0\">WHITE</span>   \n",
       "   3 │ <span style=\"color: #000080; text-decoration-color: #000080\">BLUE</span>,<span style=\"color: #808000; text-decoration-color: #808000\">ORANGE</span>,<span style=\"color: #800000; text-decoration-color: #800000\">RED</span>,<span style=\"color: #c0c0c0; text-decoration-color: #c0c0c0\">WHITE</span> │    75 │      3 │        5 │        10 │       8 │ <span style=\"color: #808000; text-decoration-color: #808000\">ORANGE</span>  \n",
       "   4 │ <span style=\"color: #800000; text-decoration-color: #800000\">RED</span>,<span style=\"color: #000080; text-decoration-color: #000080\">BLUE</span>,<span style=\"color: #c0c0c0; text-decoration-color: #c0c0c0\">WHITE</span>,<span style=\"color: #808000; text-decoration-color: #808000\">ORANGE</span> │    76 │      2 │       10 │         4 │       7 │ <span style=\"color: #c0c0c0; text-decoration-color: #c0c0c0\">WHITE</span>   \n",
       "   5 │ <span style=\"color: #808000; text-decoration-color: #808000\">ORANGE</span>,<span style=\"color: #800000; text-decoration-color: #800000\">RED</span>,<span style=\"color: #000080; text-decoration-color: #000080\">BLUE</span>,<span style=\"color: #c0c0c0; text-decoration-color: #c0c0c0\">WHITE</span> │    69 │      2 │       10 │         5 │       5 │ <span style=\"color: #c0c0c0; text-decoration-color: #c0c0c0\">WHITE</span>   \n",
       "   6 │ <span style=\"color: #800000; text-decoration-color: #800000\">RED</span>,<span style=\"color: #000080; text-decoration-color: #000080\">BLUE</span>,<span style=\"color: #808000; text-decoration-color: #808000\">ORANGE</span>,<span style=\"color: #c0c0c0; text-decoration-color: #c0c0c0\">WHITE</span> │   104 │      3 │        6 │        10 │       7 │ <span style=\"color: #808000; text-decoration-color: #808000\">ORANGE</span>  \n",
       "   7 │ <span style=\"color: #800000; text-decoration-color: #800000\">RED</span>,<span style=\"color: #808000; text-decoration-color: #808000\">ORANGE</span>,<span style=\"color: #c0c0c0; text-decoration-color: #c0c0c0\">WHITE</span>,<span style=\"color: #000080; text-decoration-color: #000080\">BLUE</span> │    92 │      2 │       10 │         4 │       9 │ <span style=\"color: #c0c0c0; text-decoration-color: #c0c0c0\">WHITE</span>   \n",
       "   8 │ <span style=\"color: #808000; text-decoration-color: #808000\">ORANGE</span>,<span style=\"color: #c0c0c0; text-decoration-color: #c0c0c0\">WHITE</span>,<span style=\"color: #000080; text-decoration-color: #000080\">BLUE</span>,<span style=\"color: #800000; text-decoration-color: #800000\">RED</span> │    59 │      2 │       10 │         5 │       4 │ <span style=\"color: #c0c0c0; text-decoration-color: #c0c0c0\">WHITE</span>   \n",
       "   9 │ <span style=\"color: #000080; text-decoration-color: #000080\">BLUE</span>,<span style=\"color: #808000; text-decoration-color: #808000\">ORANGE</span>,<span style=\"color: #c0c0c0; text-decoration-color: #c0c0c0\">WHITE</span>,<span style=\"color: #800000; text-decoration-color: #800000\">RED</span> │    99 │      3 │        5 │        10 │       6 │ <span style=\"color: #808000; text-decoration-color: #808000\">ORANGE</span>  \n",
       "  10 │ <span style=\"color: #000080; text-decoration-color: #000080\">BLUE</span>,<span style=\"color: #c0c0c0; text-decoration-color: #c0c0c0\">WHITE</span>,<span style=\"color: #808000; text-decoration-color: #808000\">ORANGE</span>,<span style=\"color: #800000; text-decoration-color: #800000\">RED</span> │   116 │      2 │        8 │        10 │       9 │ <span style=\"color: #808000; text-decoration-color: #808000\">ORANGE</span>  \n",
       "     ╵                       ╵       ╵        ╵          ╵           ╵         ╵         \n",
       "</pre>\n"
      ],
      "text/plain": [
       "\u001b[3m                                      Last 10 Games                                      \u001b[0m\n",
       "     ╷                       ╷       ╷        ╷          ╷           ╷         ╷         \n",
       " \u001b[1m \u001b[0m\u001b[1m #\u001b[0m\u001b[1m \u001b[0m│\u001b[1m \u001b[0m\u001b[1mSEATING              \u001b[0m\u001b[1m \u001b[0m│\u001b[1m \u001b[0m\u001b[1mTURNS\u001b[0m\u001b[1m \u001b[0m│\u001b[1m \u001b[0m\u001b[1mRED VP\u001b[0m\u001b[1m \u001b[0m│\u001b[1m \u001b[0m\u001b[1mWHITE VP\u001b[0m\u001b[1m \u001b[0m│\u001b[1m \u001b[0m\u001b[1mORANGE VP\u001b[0m\u001b[1m \u001b[0m│\u001b[1m \u001b[0m\u001b[1mBLUE VP\u001b[0m\u001b[1m \u001b[0m│\u001b[1m \u001b[0m\u001b[1mWINNER\u001b[0m\u001b[1m \u001b[0m \n",
       "╶────┼───────────────────────┼───────┼────────┼──────────┼───────────┼─────────┼────────╴\n",
       "   1 │ \u001b[31mRED\u001b[0m,\u001b[34mBLUE\u001b[0m,\u001b[33mORANGE\u001b[0m,\u001b[37mWHITE\u001b[0m │   120 │      2 │        9 │        10 │       8 │ \u001b[33mORANGE\u001b[0m  \n",
       "   2 │ \u001b[31mRED\u001b[0m,\u001b[37mWHITE\u001b[0m,\u001b[33mORANGE\u001b[0m,\u001b[34mBLUE\u001b[0m │   111 │      5 │       10 │         5 │       8 │ \u001b[37mWHITE\u001b[0m   \n",
       "   3 │ \u001b[34mBLUE\u001b[0m,\u001b[33mORANGE\u001b[0m,\u001b[31mRED\u001b[0m,\u001b[37mWHITE\u001b[0m │    75 │      3 │        5 │        10 │       8 │ \u001b[33mORANGE\u001b[0m  \n",
       "   4 │ \u001b[31mRED\u001b[0m,\u001b[34mBLUE\u001b[0m,\u001b[37mWHITE\u001b[0m,\u001b[33mORANGE\u001b[0m │    76 │      2 │       10 │         4 │       7 │ \u001b[37mWHITE\u001b[0m   \n",
       "   5 │ \u001b[33mORANGE\u001b[0m,\u001b[31mRED\u001b[0m,\u001b[34mBLUE\u001b[0m,\u001b[37mWHITE\u001b[0m │    69 │      2 │       10 │         5 │       5 │ \u001b[37mWHITE\u001b[0m   \n",
       "   6 │ \u001b[31mRED\u001b[0m,\u001b[34mBLUE\u001b[0m,\u001b[33mORANGE\u001b[0m,\u001b[37mWHITE\u001b[0m │   104 │      3 │        6 │        10 │       7 │ \u001b[33mORANGE\u001b[0m  \n",
       "   7 │ \u001b[31mRED\u001b[0m,\u001b[33mORANGE\u001b[0m,\u001b[37mWHITE\u001b[0m,\u001b[34mBLUE\u001b[0m │    92 │      2 │       10 │         4 │       9 │ \u001b[37mWHITE\u001b[0m   \n",
       "   8 │ \u001b[33mORANGE\u001b[0m,\u001b[37mWHITE\u001b[0m,\u001b[34mBLUE\u001b[0m,\u001b[31mRED\u001b[0m │    59 │      2 │       10 │         5 │       4 │ \u001b[37mWHITE\u001b[0m   \n",
       "   9 │ \u001b[34mBLUE\u001b[0m,\u001b[33mORANGE\u001b[0m,\u001b[37mWHITE\u001b[0m,\u001b[31mRED\u001b[0m │    99 │      3 │        5 │        10 │       6 │ \u001b[33mORANGE\u001b[0m  \n",
       "  10 │ \u001b[34mBLUE\u001b[0m,\u001b[37mWHITE\u001b[0m,\u001b[33mORANGE\u001b[0m,\u001b[31mRED\u001b[0m │   116 │      2 │        8 │        10 │       9 │ \u001b[33mORANGE\u001b[0m  \n",
       "     ╵                       ╵       ╵        ╵          ╵           ╵         ╵         \n"
      ]
     },
     "metadata": {},
     "output_type": "display_data"
    },
    {
     "data": {
      "text/html": [
       "<pre style=\"white-space:pre;overflow-x:auto;line-height:normal;font-family:Menlo,'DejaVu Sans Mono',consolas,'Courier New',monospace\"><span style=\"font-style: italic\">                                                  Player Summary                                                   </span>\n",
       "                                                                  ╷      ╷      ╷      ╷      ╷      ╷      ╷      \n",
       " <span style=\"font-weight: bold\">                                                                 </span>│<span style=\"font-weight: bold\">      </span>│<span style=\"font-weight: bold\">      </span>│<span style=\"font-weight: bold\">      </span>│<span style=\"font-weight: bold\">      </span>│<span style=\"font-weight: bold\">      </span>│<span style=\"font-weight: bold\">      </span>│<span style=\"font-weight: bold\"> AVG </span> \n",
       " <span style=\"font-weight: bold\">                                                                 </span>│<span style=\"font-weight: bold\">      </span>│<span style=\"font-weight: bold\">  AVG </span>│<span style=\"font-weight: bold\">  AVG </span>│<span style=\"font-weight: bold\">  AVG </span>│<span style=\"font-weight: bold\">  AVG </span>│<span style=\"font-weight: bold\">  AVG </span>│<span style=\"font-weight: bold\"> DEV </span> \n",
       " <span style=\"font-weight: bold\">                                                                 </span>│<span style=\"font-weight: bold\"> WINS </span>│<span style=\"font-weight: bold\">   VP </span>│<span style=\"font-weight: bold\"> SET… </span>│<span style=\"font-weight: bold\"> CIT… </span>│<span style=\"font-weight: bold\"> ROAD </span>│<span style=\"font-weight: bold\"> ARMY </span>│<span style=\"font-weight: bold\">  VP </span> \n",
       "╶─────────────────────────────────────────────────────────────────┼──────┼──────┼──────┼──────┼──────┼──────┼─────╴\n",
       "  <span style=\"color: #800000; text-decoration-color: #800000\">AB_DQNPlayer_1:RED</span>                                              │    0 │ 2.60 │ 2.00 │ 0.00 │ 0.00 │ 0.00 │ 0.…  \n",
       "  <span style=\"color: #c0c0c0; text-decoration-color: #c0c0c0\">AlphaBetaPlayer:WHITE(depth=2,value_fn=base_fn,prunning=False)</span>  │    5 │ 8.30 │ 3.30 │ 1.90 │ 0.50 │ 0.10 │ 0.…  \n",
       "  <span style=\"color: #808000; text-decoration-color: #808000\">AlphaBetaPlayer:ORANGE(depth=2,value_fn=base_fn,prunning=False)</span> │    5 │ 7.30 │ 2.90 │ 2.20 │ 0.00 │ 0.00 │ 0.…  \n",
       "  <span style=\"color: #000080; text-decoration-color: #000080\">AlphaBetaPlayer:BLUE(depth=2,value_fn=base_fn,prunning=False)</span>   │    0 │ 7.10 │ 2.30 │ 1.90 │ 0.50 │ 0.00 │ 0.…  \n",
       "                                                                  ╵      ╵      ╵      ╵      ╵      ╵      ╵      \n",
       "</pre>\n"
      ],
      "text/plain": [
       "\u001b[3m                                                  Player Summary                                                   \u001b[0m\n",
       "                                                                  ╷      ╷      ╷      ╷      ╷      ╷      ╷      \n",
       " \u001b[1m                                                                 \u001b[0m│\u001b[1m      \u001b[0m│\u001b[1m      \u001b[0m│\u001b[1m      \u001b[0m│\u001b[1m      \u001b[0m│\u001b[1m      \u001b[0m│\u001b[1m      \u001b[0m│\u001b[1m \u001b[0m\u001b[1mAVG\u001b[0m\u001b[1m \u001b[0m \n",
       " \u001b[1m                                                                 \u001b[0m│\u001b[1m      \u001b[0m│\u001b[1m \u001b[0m\u001b[1m AVG\u001b[0m\u001b[1m \u001b[0m│\u001b[1m \u001b[0m\u001b[1m AVG\u001b[0m\u001b[1m \u001b[0m│\u001b[1m \u001b[0m\u001b[1m AVG\u001b[0m\u001b[1m \u001b[0m│\u001b[1m \u001b[0m\u001b[1m AVG\u001b[0m\u001b[1m \u001b[0m│\u001b[1m \u001b[0m\u001b[1m AVG\u001b[0m\u001b[1m \u001b[0m│\u001b[1m \u001b[0m\u001b[1mDEV\u001b[0m\u001b[1m \u001b[0m \n",
       " \u001b[1m \u001b[0m\u001b[1m                                                               \u001b[0m\u001b[1m \u001b[0m│\u001b[1m \u001b[0m\u001b[1mWINS\u001b[0m\u001b[1m \u001b[0m│\u001b[1m \u001b[0m\u001b[1m  VP\u001b[0m\u001b[1m \u001b[0m│\u001b[1m \u001b[0m\u001b[1mSET…\u001b[0m\u001b[1m \u001b[0m│\u001b[1m \u001b[0m\u001b[1mCIT…\u001b[0m\u001b[1m \u001b[0m│\u001b[1m \u001b[0m\u001b[1mROAD\u001b[0m\u001b[1m \u001b[0m│\u001b[1m \u001b[0m\u001b[1mARMY\u001b[0m\u001b[1m \u001b[0m│\u001b[1m \u001b[0m\u001b[1m VP\u001b[0m\u001b[1m \u001b[0m \n",
       "╶─────────────────────────────────────────────────────────────────┼──────┼──────┼──────┼──────┼──────┼──────┼─────╴\n",
       "  \u001b[31mAB_DQNPlayer_1:RED\u001b[0m                                              │    0 │ 2.60 │ 2.00 │ 0.00 │ 0.00 │ 0.00 │ 0.…  \n",
       "  \u001b[37mAlphaBetaPlayer:WHITE(depth=2,value_fn=base_fn,prunning=False)\u001b[0m  │    5 │ 8.30 │ 3.30 │ 1.90 │ 0.50 │ 0.10 │ 0.…  \n",
       "  \u001b[33mAlphaBetaPlayer:ORANGE(depth=2,value_fn=base_fn,prunning=False)\u001b[0m │    5 │ 7.30 │ 2.90 │ 2.20 │ 0.00 │ 0.00 │ 0.…  \n",
       "  \u001b[34mAlphaBetaPlayer:BLUE(depth=2,value_fn=base_fn,prunning=False)\u001b[0m   │    0 │ 7.10 │ 2.30 │ 1.90 │ 0.50 │ 0.00 │ 0.…  \n",
       "                                                                  ╵      ╵      ╵      ╵      ╵      ╵      ╵      \n"
      ]
     },
     "metadata": {},
     "output_type": "display_data"
    },
    {
     "data": {
      "text/html": [
       "<pre style=\"white-space:pre;overflow-x:auto;line-height:normal;font-family:Menlo,'DejaVu Sans Mono',consolas,'Courier New',monospace\"><span style=\"font-style: italic\">              Game Summary              </span>\n",
       "            ╷           ╷               \n",
       " <span style=\"font-weight: bold\"> AVG TICKS </span>│<span style=\"font-weight: bold\"> AVG TURNS </span>│<span style=\"font-weight: bold\"> AVG DURATION </span> \n",
       "╶───────────┼───────────┼──────────────╴\n",
       "     295.10 │     92.10 │  18.435 secs  \n",
       "            ╵           ╵               \n",
       "</pre>\n"
      ],
      "text/plain": [
       "\u001b[3m              Game Summary              \u001b[0m\n",
       "            ╷           ╷               \n",
       " \u001b[1m \u001b[0m\u001b[1mAVG TICKS\u001b[0m\u001b[1m \u001b[0m│\u001b[1m \u001b[0m\u001b[1mAVG TURNS\u001b[0m\u001b[1m \u001b[0m│\u001b[1m \u001b[0m\u001b[1mAVG DURATION\u001b[0m\u001b[1m \u001b[0m \n",
       "╶───────────┼───────────┼──────────────╴\n",
       "     295.10 │     92.10 │  18.435 secs  \n",
       "            ╵           ╵               \n"
      ]
     },
     "metadata": {},
     "output_type": "display_data"
    },
    {
     "name": "stdout",
     "output_type": "stream",
     "text": [
      "Loaded replay buffer with 2661 transitions\n",
      "atch 46/50: Playing 10 games\n"
     ]
    },
    {
     "data": {
      "text/html": [
       "<pre style=\"white-space:pre;overflow-x:auto;line-height:normal;font-family:Menlo,'DejaVu Sans Mono',consolas,'Courier New',monospace\">Cleared replay buffer to refresh training examples.\n",
       "</pre>\n"
      ],
      "text/plain": [
       "Cleared replay buffer to refresh training examples.\n"
      ]
     },
     "metadata": {},
     "output_type": "display_data"
    },
    {
     "data": {
      "text/html": [
       "<pre style=\"white-space:pre;overflow-x:auto;line-height:normal;font-family:Menlo,'DejaVu Sans Mono',consolas,'Courier New',monospace\">Reward variance in batch: 0.0000\n",
       "</pre>\n"
      ],
      "text/plain": [
       "Reward variance in batch: 0.0000\n"
      ]
     },
     "metadata": {},
     "output_type": "display_data"
    },
    {
     "data": {
      "text/html": [
       "<pre style=\"white-space:pre;overflow-x:auto;line-height:normal;font-family:Menlo,'DejaVu Sans Mono',consolas,'Courier New',monospace\">Trained DQN model with loss: 102.3086\n",
       "</pre>\n"
      ],
      "text/plain": [
       "Trained DQN model with loss: 102.3086\n"
      ]
     },
     "metadata": {},
     "output_type": "display_data"
    },
    {
     "data": {
      "text/html": [
       "<pre style=\"white-space:pre;overflow-x:auto;line-height:normal;font-family:Menlo,'DejaVu Sans Mono',consolas,'Courier New',monospace\">Avg pred: -0.1090, Avg target: 10.0048\n",
       "</pre>\n"
      ],
      "text/plain": [
       "Avg pred: -0.1090, Avg target: 10.0048\n"
      ]
     },
     "metadata": {},
     "output_type": "display_data"
    },
    {
     "data": {
      "text/html": [
       "<pre style=\"white-space:pre;overflow-x:auto;line-height:normal;font-family:Menlo,'DejaVu Sans Mono',consolas,'Courier New',monospace\"></pre>\n"
      ],
      "text/plain": []
     },
     "metadata": {},
     "output_type": "display_data"
    },
    {
     "data": {
      "text/html": [
       "<pre style=\"white-space:pre;overflow-x:auto;line-height:normal;font-family:Menlo,'DejaVu Sans Mono',consolas,'Courier New',monospace\">\n",
       "</pre>\n"
      ],
      "text/plain": [
       "\n"
      ]
     },
     "metadata": {},
     "output_type": "display_data"
    },
    {
     "data": {
      "text/html": [
       "<pre style=\"white-space:pre;overflow-x:auto;line-height:normal;font-family:Menlo,'DejaVu Sans Mono',consolas,'Courier New',monospace\"><span style=\"font-style: italic\">                                      Last 10 Games                                      </span>\n",
       "     ╷                       ╷       ╷           ╷          ╷         ╷        ╷         \n",
       " <span style=\"font-weight: bold\">  # </span>│<span style=\"font-weight: bold\"> SEATING               </span>│<span style=\"font-weight: bold\"> TURNS </span>│<span style=\"font-weight: bold\"> ORANGE VP </span>│<span style=\"font-weight: bold\"> WHITE VP </span>│<span style=\"font-weight: bold\"> BLUE VP </span>│<span style=\"font-weight: bold\"> RED VP </span>│<span style=\"font-weight: bold\"> WINNER </span> \n",
       "╶────┼───────────────────────┼───────┼───────────┼──────────┼─────────┼────────┼────────╴\n",
       "   1 │ <span style=\"color: #800000; text-decoration-color: #800000\">RED</span>,<span style=\"color: #000080; text-decoration-color: #000080\">BLUE</span>,<span style=\"color: #808000; text-decoration-color: #808000\">ORANGE</span>,<span style=\"color: #c0c0c0; text-decoration-color: #c0c0c0\">WHITE</span> │    59 │         3 │        2 │      10 │      3 │ <span style=\"color: #000080; text-decoration-color: #000080\">BLUE</span>    \n",
       "   2 │ <span style=\"color: #800000; text-decoration-color: #800000\">RED</span>,<span style=\"color: #000080; text-decoration-color: #000080\">BLUE</span>,<span style=\"color: #808000; text-decoration-color: #808000\">ORANGE</span>,<span style=\"color: #c0c0c0; text-decoration-color: #c0c0c0\">WHITE</span> │    99 │         2 │        6 │      10 │      2 │ <span style=\"color: #000080; text-decoration-color: #000080\">BLUE</span>    \n",
       "   3 │ <span style=\"color: #c0c0c0; text-decoration-color: #c0c0c0\">WHITE</span>,<span style=\"color: #800000; text-decoration-color: #800000\">RED</span>,<span style=\"color: #000080; text-decoration-color: #000080\">BLUE</span>,<span style=\"color: #808000; text-decoration-color: #808000\">ORANGE</span> │    60 │         2 │        3 │      10 │      2 │ <span style=\"color: #000080; text-decoration-color: #000080\">BLUE</span>    \n",
       "   4 │ <span style=\"color: #800000; text-decoration-color: #800000\">RED</span>,<span style=\"color: #c0c0c0; text-decoration-color: #c0c0c0\">WHITE</span>,<span style=\"color: #000080; text-decoration-color: #000080\">BLUE</span>,<span style=\"color: #808000; text-decoration-color: #808000\">ORANGE</span> │    60 │         2 │        3 │      10 │      2 │ <span style=\"color: #000080; text-decoration-color: #000080\">BLUE</span>    \n",
       "   5 │ <span style=\"color: #c0c0c0; text-decoration-color: #c0c0c0\">WHITE</span>,<span style=\"color: #800000; text-decoration-color: #800000\">RED</span>,<span style=\"color: #808000; text-decoration-color: #808000\">ORANGE</span>,<span style=\"color: #000080; text-decoration-color: #000080\">BLUE</span> │    65 │         2 │        2 │      10 │      2 │ <span style=\"color: #000080; text-decoration-color: #000080\">BLUE</span>    \n",
       "   6 │ <span style=\"color: #808000; text-decoration-color: #808000\">ORANGE</span>,<span style=\"color: #000080; text-decoration-color: #000080\">BLUE</span>,<span style=\"color: #800000; text-decoration-color: #800000\">RED</span>,<span style=\"color: #c0c0c0; text-decoration-color: #c0c0c0\">WHITE</span> │    67 │         2 │        2 │      10 │      2 │ <span style=\"color: #000080; text-decoration-color: #000080\">BLUE</span>    \n",
       "   7 │ <span style=\"color: #800000; text-decoration-color: #800000\">RED</span>,<span style=\"color: #808000; text-decoration-color: #808000\">ORANGE</span>,<span style=\"color: #c0c0c0; text-decoration-color: #c0c0c0\">WHITE</span>,<span style=\"color: #000080; text-decoration-color: #000080\">BLUE</span> │   121 │         3 │        3 │      11 │      2 │ <span style=\"color: #000080; text-decoration-color: #000080\">BLUE</span>    \n",
       "   8 │ <span style=\"color: #808000; text-decoration-color: #808000\">ORANGE</span>,<span style=\"color: #800000; text-decoration-color: #800000\">RED</span>,<span style=\"color: #000080; text-decoration-color: #000080\">BLUE</span>,<span style=\"color: #c0c0c0; text-decoration-color: #c0c0c0\">WHITE</span> │    76 │         2 │        2 │      10 │      2 │ <span style=\"color: #000080; text-decoration-color: #000080\">BLUE</span>    \n",
       "   9 │ <span style=\"color: #808000; text-decoration-color: #808000\">ORANGE</span>,<span style=\"color: #c0c0c0; text-decoration-color: #c0c0c0\">WHITE</span>,<span style=\"color: #800000; text-decoration-color: #800000\">RED</span>,<span style=\"color: #000080; text-decoration-color: #000080\">BLUE</span> │    57 │         3 │        2 │      10 │      2 │ <span style=\"color: #000080; text-decoration-color: #000080\">BLUE</span>    \n",
       "  10 │ <span style=\"color: #808000; text-decoration-color: #808000\">ORANGE</span>,<span style=\"color: #800000; text-decoration-color: #800000\">RED</span>,<span style=\"color: #c0c0c0; text-decoration-color: #c0c0c0\">WHITE</span>,<span style=\"color: #000080; text-decoration-color: #000080\">BLUE</span> │    69 │         4 │        5 │      10 │      2 │ <span style=\"color: #000080; text-decoration-color: #000080\">BLUE</span>    \n",
       "     ╵                       ╵       ╵           ╵          ╵         ╵        ╵         \n",
       "</pre>\n"
      ],
      "text/plain": [
       "\u001b[3m                                      Last 10 Games                                      \u001b[0m\n",
       "     ╷                       ╷       ╷           ╷          ╷         ╷        ╷         \n",
       " \u001b[1m \u001b[0m\u001b[1m #\u001b[0m\u001b[1m \u001b[0m│\u001b[1m \u001b[0m\u001b[1mSEATING              \u001b[0m\u001b[1m \u001b[0m│\u001b[1m \u001b[0m\u001b[1mTURNS\u001b[0m\u001b[1m \u001b[0m│\u001b[1m \u001b[0m\u001b[1mORANGE VP\u001b[0m\u001b[1m \u001b[0m│\u001b[1m \u001b[0m\u001b[1mWHITE VP\u001b[0m\u001b[1m \u001b[0m│\u001b[1m \u001b[0m\u001b[1mBLUE VP\u001b[0m\u001b[1m \u001b[0m│\u001b[1m \u001b[0m\u001b[1mRED VP\u001b[0m\u001b[1m \u001b[0m│\u001b[1m \u001b[0m\u001b[1mWINNER\u001b[0m\u001b[1m \u001b[0m \n",
       "╶────┼───────────────────────┼───────┼───────────┼──────────┼─────────┼────────┼────────╴\n",
       "   1 │ \u001b[31mRED\u001b[0m,\u001b[34mBLUE\u001b[0m,\u001b[33mORANGE\u001b[0m,\u001b[37mWHITE\u001b[0m │    59 │         3 │        2 │      10 │      3 │ \u001b[34mBLUE\u001b[0m    \n",
       "   2 │ \u001b[31mRED\u001b[0m,\u001b[34mBLUE\u001b[0m,\u001b[33mORANGE\u001b[0m,\u001b[37mWHITE\u001b[0m │    99 │         2 │        6 │      10 │      2 │ \u001b[34mBLUE\u001b[0m    \n",
       "   3 │ \u001b[37mWHITE\u001b[0m,\u001b[31mRED\u001b[0m,\u001b[34mBLUE\u001b[0m,\u001b[33mORANGE\u001b[0m │    60 │         2 │        3 │      10 │      2 │ \u001b[34mBLUE\u001b[0m    \n",
       "   4 │ \u001b[31mRED\u001b[0m,\u001b[37mWHITE\u001b[0m,\u001b[34mBLUE\u001b[0m,\u001b[33mORANGE\u001b[0m │    60 │         2 │        3 │      10 │      2 │ \u001b[34mBLUE\u001b[0m    \n",
       "   5 │ \u001b[37mWHITE\u001b[0m,\u001b[31mRED\u001b[0m,\u001b[33mORANGE\u001b[0m,\u001b[34mBLUE\u001b[0m │    65 │         2 │        2 │      10 │      2 │ \u001b[34mBLUE\u001b[0m    \n",
       "   6 │ \u001b[33mORANGE\u001b[0m,\u001b[34mBLUE\u001b[0m,\u001b[31mRED\u001b[0m,\u001b[37mWHITE\u001b[0m │    67 │         2 │        2 │      10 │      2 │ \u001b[34mBLUE\u001b[0m    \n",
       "   7 │ \u001b[31mRED\u001b[0m,\u001b[33mORANGE\u001b[0m,\u001b[37mWHITE\u001b[0m,\u001b[34mBLUE\u001b[0m │   121 │         3 │        3 │      11 │      2 │ \u001b[34mBLUE\u001b[0m    \n",
       "   8 │ \u001b[33mORANGE\u001b[0m,\u001b[31mRED\u001b[0m,\u001b[34mBLUE\u001b[0m,\u001b[37mWHITE\u001b[0m │    76 │         2 │        2 │      10 │      2 │ \u001b[34mBLUE\u001b[0m    \n",
       "   9 │ \u001b[33mORANGE\u001b[0m,\u001b[37mWHITE\u001b[0m,\u001b[31mRED\u001b[0m,\u001b[34mBLUE\u001b[0m │    57 │         3 │        2 │      10 │      2 │ \u001b[34mBLUE\u001b[0m    \n",
       "  10 │ \u001b[33mORANGE\u001b[0m,\u001b[31mRED\u001b[0m,\u001b[37mWHITE\u001b[0m,\u001b[34mBLUE\u001b[0m │    69 │         4 │        5 │      10 │      2 │ \u001b[34mBLUE\u001b[0m    \n",
       "     ╵                       ╵       ╵           ╵          ╵         ╵        ╵         \n"
      ]
     },
     "metadata": {},
     "output_type": "display_data"
    },
    {
     "data": {
      "text/html": [
       "<pre style=\"white-space:pre;overflow-x:auto;line-height:normal;font-family:Menlo,'DejaVu Sans Mono',consolas,'Courier New',monospace\"><span style=\"font-style: italic\">                                                  Player Summary                                                   </span>\n",
       "                                                                ╷      ╷      ╷      ╷      ╷      ╷      ╷        \n",
       " <span style=\"font-weight: bold\">                                                               </span>│<span style=\"font-weight: bold\">      </span>│<span style=\"font-weight: bold\">      </span>│<span style=\"font-weight: bold\">      </span>│<span style=\"font-weight: bold\">      </span>│<span style=\"font-weight: bold\">      </span>│<span style=\"font-weight: bold\">      </span>│<span style=\"font-weight: bold\">   AVG </span> \n",
       " <span style=\"font-weight: bold\">                                                               </span>│<span style=\"font-weight: bold\">      </span>│<span style=\"font-weight: bold\">  AVG </span>│<span style=\"font-weight: bold\">  AVG </span>│<span style=\"font-weight: bold\">  AVG </span>│<span style=\"font-weight: bold\">  AVG </span>│<span style=\"font-weight: bold\">  AVG </span>│<span style=\"font-weight: bold\">   DEV </span> \n",
       " <span style=\"font-weight: bold\">                                                               </span>│<span style=\"font-weight: bold\"> WINS </span>│<span style=\"font-weight: bold\">   VP </span>│<span style=\"font-weight: bold\"> SET… </span>│<span style=\"font-weight: bold\"> CIT… </span>│<span style=\"font-weight: bold\"> ROAD </span>│<span style=\"font-weight: bold\"> ARMY </span>│<span style=\"font-weight: bold\">    VP </span> \n",
       "╶───────────────────────────────────────────────────────────────┼──────┼──────┼──────┼──────┼──────┼──────┼───────╴\n",
       "  <span style=\"color: #808000; text-decoration-color: #808000\">RandomPlayer:ORANGE</span>                                           │    0 │ 2.50 │ 1.60 │ 0.40 │ 0.00 │ 0.00 │  0.10  \n",
       "  <span style=\"color: #c0c0c0; text-decoration-color: #c0c0c0\">RandomPlayer:WHITE</span>                                            │    0 │ 3.00 │ 1.80 │ 0.20 │ 0.00 │ 0.20 │  0.40  \n",
       "  <span style=\"color: #000080; text-decoration-color: #000080\">AlphaBetaPlayer:BLUE(depth=2,value_fn=base_fn,prunning=False)</span> │   10 │ 10.… │ 1.80 │ 3.10 │ 1.00 │ 0.00 │  0.10  \n",
       "  <span style=\"color: #800000; text-decoration-color: #800000\">AB_DQNPlayer_1:RED</span>                                            │    0 │ 2.10 │ 2.10 │ 0.00 │ 0.00 │ 0.00 │  0.00  \n",
       "                                                                ╵      ╵      ╵      ╵      ╵      ╵      ╵        \n",
       "</pre>\n"
      ],
      "text/plain": [
       "\u001b[3m                                                  Player Summary                                                   \u001b[0m\n",
       "                                                                ╷      ╷      ╷      ╷      ╷      ╷      ╷        \n",
       " \u001b[1m                                                               \u001b[0m│\u001b[1m      \u001b[0m│\u001b[1m      \u001b[0m│\u001b[1m      \u001b[0m│\u001b[1m      \u001b[0m│\u001b[1m      \u001b[0m│\u001b[1m      \u001b[0m│\u001b[1m \u001b[0m\u001b[1m  AVG\u001b[0m\u001b[1m \u001b[0m \n",
       " \u001b[1m                                                               \u001b[0m│\u001b[1m      \u001b[0m│\u001b[1m \u001b[0m\u001b[1m AVG\u001b[0m\u001b[1m \u001b[0m│\u001b[1m \u001b[0m\u001b[1m AVG\u001b[0m\u001b[1m \u001b[0m│\u001b[1m \u001b[0m\u001b[1m AVG\u001b[0m\u001b[1m \u001b[0m│\u001b[1m \u001b[0m\u001b[1m AVG\u001b[0m\u001b[1m \u001b[0m│\u001b[1m \u001b[0m\u001b[1m AVG\u001b[0m\u001b[1m \u001b[0m│\u001b[1m \u001b[0m\u001b[1m  DEV\u001b[0m\u001b[1m \u001b[0m \n",
       " \u001b[1m \u001b[0m\u001b[1m                                                             \u001b[0m\u001b[1m \u001b[0m│\u001b[1m \u001b[0m\u001b[1mWINS\u001b[0m\u001b[1m \u001b[0m│\u001b[1m \u001b[0m\u001b[1m  VP\u001b[0m\u001b[1m \u001b[0m│\u001b[1m \u001b[0m\u001b[1mSET…\u001b[0m\u001b[1m \u001b[0m│\u001b[1m \u001b[0m\u001b[1mCIT…\u001b[0m\u001b[1m \u001b[0m│\u001b[1m \u001b[0m\u001b[1mROAD\u001b[0m\u001b[1m \u001b[0m│\u001b[1m \u001b[0m\u001b[1mARMY\u001b[0m\u001b[1m \u001b[0m│\u001b[1m \u001b[0m\u001b[1m   VP\u001b[0m\u001b[1m \u001b[0m \n",
       "╶───────────────────────────────────────────────────────────────┼──────┼──────┼──────┼──────┼──────┼──────┼───────╴\n",
       "  \u001b[33mRandomPlayer:ORANGE\u001b[0m                                           │    0 │ 2.50 │ 1.60 │ 0.40 │ 0.00 │ 0.00 │  0.10  \n",
       "  \u001b[37mRandomPlayer:WHITE\u001b[0m                                            │    0 │ 3.00 │ 1.80 │ 0.20 │ 0.00 │ 0.20 │  0.40  \n",
       "  \u001b[34mAlphaBetaPlayer:BLUE(depth=2,value_fn=base_fn,prunning=False)\u001b[0m │   10 │ 10.… │ 1.80 │ 3.10 │ 1.00 │ 0.00 │  0.10  \n",
       "  \u001b[31mAB_DQNPlayer_1:RED\u001b[0m                                            │    0 │ 2.10 │ 2.10 │ 0.00 │ 0.00 │ 0.00 │  0.00  \n",
       "                                                                ╵      ╵      ╵      ╵      ╵      ╵      ╵        \n"
      ]
     },
     "metadata": {},
     "output_type": "display_data"
    },
    {
     "data": {
      "text/html": [
       "<pre style=\"white-space:pre;overflow-x:auto;line-height:normal;font-family:Menlo,'DejaVu Sans Mono',consolas,'Courier New',monospace\"><span style=\"font-style: italic\">              Game Summary              </span>\n",
       "            ╷           ╷               \n",
       " <span style=\"font-weight: bold\"> AVG TICKS </span>│<span style=\"font-weight: bold\"> AVG TURNS </span>│<span style=\"font-weight: bold\"> AVG DURATION </span> \n",
       "╶───────────┼───────────┼──────────────╴\n",
       "     217.90 │     73.30 │   5.392 secs  \n",
       "            ╵           ╵               \n",
       "</pre>\n"
      ],
      "text/plain": [
       "\u001b[3m              Game Summary              \u001b[0m\n",
       "            ╷           ╷               \n",
       " \u001b[1m \u001b[0m\u001b[1mAVG TICKS\u001b[0m\u001b[1m \u001b[0m│\u001b[1m \u001b[0m\u001b[1mAVG TURNS\u001b[0m\u001b[1m \u001b[0m│\u001b[1m \u001b[0m\u001b[1mAVG DURATION\u001b[0m\u001b[1m \u001b[0m \n",
       "╶───────────┼───────────┼──────────────╴\n",
       "     217.90 │     73.30 │   5.392 secs  \n",
       "            ╵           ╵               \n"
      ]
     },
     "metadata": {},
     "output_type": "display_data"
    },
    {
     "name": "stdout",
     "output_type": "stream",
     "text": [
      "Loaded replay buffer with 2352 transitions\n",
      "atch 47/50: Playing 10 games\n"
     ]
    },
    {
     "data": {
      "text/html": [
       "<pre style=\"white-space:pre;overflow-x:auto;line-height:normal;font-family:Menlo,'DejaVu Sans Mono',consolas,'Courier New',monospace\">Cleared replay buffer to refresh training examples.\n",
       "</pre>\n"
      ],
      "text/plain": [
       "Cleared replay buffer to refresh training examples.\n"
      ]
     },
     "metadata": {},
     "output_type": "display_data"
    },
    {
     "data": {
      "text/html": [
       "<pre style=\"white-space:pre;overflow-x:auto;line-height:normal;font-family:Menlo,'DejaVu Sans Mono',consolas,'Courier New',monospace\">Reward variance in batch: 0.0000\n",
       "</pre>\n"
      ],
      "text/plain": [
       "Reward variance in batch: 0.0000\n"
      ]
     },
     "metadata": {},
     "output_type": "display_data"
    },
    {
     "data": {
      "text/html": [
       "<pre style=\"white-space:pre;overflow-x:auto;line-height:normal;font-family:Menlo,'DejaVu Sans Mono',consolas,'Courier New',monospace\">Trained DQN model with loss: 100.9567\n",
       "</pre>\n"
      ],
      "text/plain": [
       "Trained DQN model with loss: 100.9567\n"
      ]
     },
     "metadata": {},
     "output_type": "display_data"
    },
    {
     "data": {
      "text/html": [
       "<pre style=\"white-space:pre;overflow-x:auto;line-height:normal;font-family:Menlo,'DejaVu Sans Mono',consolas,'Courier New',monospace\">Avg pred: -0.0556, Avg target: 9.9907\n",
       "</pre>\n"
      ],
      "text/plain": [
       "Avg pred: -0.0556, Avg target: 9.9907\n"
      ]
     },
     "metadata": {},
     "output_type": "display_data"
    },
    {
     "data": {
      "text/html": [
       "<pre style=\"white-space:pre;overflow-x:auto;line-height:normal;font-family:Menlo,'DejaVu Sans Mono',consolas,'Courier New',monospace\"></pre>\n"
      ],
      "text/plain": []
     },
     "metadata": {},
     "output_type": "display_data"
    },
    {
     "data": {
      "text/html": [
       "<pre style=\"white-space:pre;overflow-x:auto;line-height:normal;font-family:Menlo,'DejaVu Sans Mono',consolas,'Courier New',monospace\">\n",
       "</pre>\n"
      ],
      "text/plain": [
       "\n"
      ]
     },
     "metadata": {},
     "output_type": "display_data"
    },
    {
     "data": {
      "text/html": [
       "<pre style=\"white-space:pre;overflow-x:auto;line-height:normal;font-family:Menlo,'DejaVu Sans Mono',consolas,'Courier New',monospace\"><span style=\"font-style: italic\">                                      Last 10 Games                                      </span>\n",
       "     ╷                       ╷       ╷        ╷           ╷          ╷         ╷         \n",
       " <span style=\"font-weight: bold\">  # </span>│<span style=\"font-weight: bold\"> SEATING               </span>│<span style=\"font-weight: bold\"> TURNS </span>│<span style=\"font-weight: bold\"> RED VP </span>│<span style=\"font-weight: bold\"> ORANGE VP </span>│<span style=\"font-weight: bold\"> WHITE VP </span>│<span style=\"font-weight: bold\"> BLUE VP </span>│<span style=\"font-weight: bold\"> WINNER </span> \n",
       "╶────┼───────────────────────┼───────┼────────┼───────────┼──────────┼─────────┼────────╴\n",
       "   1 │ <span style=\"color: #c0c0c0; text-decoration-color: #c0c0c0\">WHITE</span>,<span style=\"color: #808000; text-decoration-color: #808000\">ORANGE</span>,<span style=\"color: #800000; text-decoration-color: #800000\">RED</span>,<span style=\"color: #000080; text-decoration-color: #000080\">BLUE</span> │   101 │      2 │         2 │        3 │      10 │ <span style=\"color: #000080; text-decoration-color: #000080\">BLUE</span>    \n",
       "   2 │ <span style=\"color: #c0c0c0; text-decoration-color: #c0c0c0\">WHITE</span>,<span style=\"color: #800000; text-decoration-color: #800000\">RED</span>,<span style=\"color: #000080; text-decoration-color: #000080\">BLUE</span>,<span style=\"color: #808000; text-decoration-color: #808000\">ORANGE</span> │    84 │      2 │         3 │        2 │      10 │ <span style=\"color: #000080; text-decoration-color: #000080\">BLUE</span>    \n",
       "   3 │ <span style=\"color: #808000; text-decoration-color: #808000\">ORANGE</span>,<span style=\"color: #c0c0c0; text-decoration-color: #c0c0c0\">WHITE</span>,<span style=\"color: #000080; text-decoration-color: #000080\">BLUE</span>,<span style=\"color: #800000; text-decoration-color: #800000\">RED</span> │   116 │      2 │         4 │        3 │      10 │ <span style=\"color: #000080; text-decoration-color: #000080\">BLUE</span>    \n",
       "   4 │ <span style=\"color: #c0c0c0; text-decoration-color: #c0c0c0\">WHITE</span>,<span style=\"color: #808000; text-decoration-color: #808000\">ORANGE</span>,<span style=\"color: #000080; text-decoration-color: #000080\">BLUE</span>,<span style=\"color: #800000; text-decoration-color: #800000\">RED</span> │    56 │      2 │         2 │        2 │      10 │ <span style=\"color: #000080; text-decoration-color: #000080\">BLUE</span>    \n",
       "   5 │ <span style=\"color: #800000; text-decoration-color: #800000\">RED</span>,<span style=\"color: #808000; text-decoration-color: #808000\">ORANGE</span>,<span style=\"color: #c0c0c0; text-decoration-color: #c0c0c0\">WHITE</span>,<span style=\"color: #000080; text-decoration-color: #000080\">BLUE</span> │    65 │      2 │         2 │        3 │      10 │ <span style=\"color: #000080; text-decoration-color: #000080\">BLUE</span>    \n",
       "   6 │ <span style=\"color: #800000; text-decoration-color: #800000\">RED</span>,<span style=\"color: #808000; text-decoration-color: #808000\">ORANGE</span>,<span style=\"color: #c0c0c0; text-decoration-color: #c0c0c0\">WHITE</span>,<span style=\"color: #000080; text-decoration-color: #000080\">BLUE</span> │   125 │      2 │         4 │        3 │      10 │ <span style=\"color: #000080; text-decoration-color: #000080\">BLUE</span>    \n",
       "   7 │ <span style=\"color: #000080; text-decoration-color: #000080\">BLUE</span>,<span style=\"color: #808000; text-decoration-color: #808000\">ORANGE</span>,<span style=\"color: #c0c0c0; text-decoration-color: #c0c0c0\">WHITE</span>,<span style=\"color: #800000; text-decoration-color: #800000\">RED</span> │    58 │      2 │         2 │        2 │      10 │ <span style=\"color: #000080; text-decoration-color: #000080\">BLUE</span>    \n",
       "   8 │ <span style=\"color: #000080; text-decoration-color: #000080\">BLUE</span>,<span style=\"color: #800000; text-decoration-color: #800000\">RED</span>,<span style=\"color: #808000; text-decoration-color: #808000\">ORANGE</span>,<span style=\"color: #c0c0c0; text-decoration-color: #c0c0c0\">WHITE</span> │   102 │      2 │         2 │        2 │      10 │ <span style=\"color: #000080; text-decoration-color: #000080\">BLUE</span>    \n",
       "   9 │ <span style=\"color: #800000; text-decoration-color: #800000\">RED</span>,<span style=\"color: #808000; text-decoration-color: #808000\">ORANGE</span>,<span style=\"color: #c0c0c0; text-decoration-color: #c0c0c0\">WHITE</span>,<span style=\"color: #000080; text-decoration-color: #000080\">BLUE</span> │    77 │      2 │         2 │        2 │      10 │ <span style=\"color: #000080; text-decoration-color: #000080\">BLUE</span>    \n",
       "  10 │ <span style=\"color: #808000; text-decoration-color: #808000\">ORANGE</span>,<span style=\"color: #000080; text-decoration-color: #000080\">BLUE</span>,<span style=\"color: #800000; text-decoration-color: #800000\">RED</span>,<span style=\"color: #c0c0c0; text-decoration-color: #c0c0c0\">WHITE</span> │    59 │      2 │         3 │        3 │      10 │ <span style=\"color: #000080; text-decoration-color: #000080\">BLUE</span>    \n",
       "     ╵                       ╵       ╵        ╵           ╵          ╵         ╵         \n",
       "</pre>\n"
      ],
      "text/plain": [
       "\u001b[3m                                      Last 10 Games                                      \u001b[0m\n",
       "     ╷                       ╷       ╷        ╷           ╷          ╷         ╷         \n",
       " \u001b[1m \u001b[0m\u001b[1m #\u001b[0m\u001b[1m \u001b[0m│\u001b[1m \u001b[0m\u001b[1mSEATING              \u001b[0m\u001b[1m \u001b[0m│\u001b[1m \u001b[0m\u001b[1mTURNS\u001b[0m\u001b[1m \u001b[0m│\u001b[1m \u001b[0m\u001b[1mRED VP\u001b[0m\u001b[1m \u001b[0m│\u001b[1m \u001b[0m\u001b[1mORANGE VP\u001b[0m\u001b[1m \u001b[0m│\u001b[1m \u001b[0m\u001b[1mWHITE VP\u001b[0m\u001b[1m \u001b[0m│\u001b[1m \u001b[0m\u001b[1mBLUE VP\u001b[0m\u001b[1m \u001b[0m│\u001b[1m \u001b[0m\u001b[1mWINNER\u001b[0m\u001b[1m \u001b[0m \n",
       "╶────┼───────────────────────┼───────┼────────┼───────────┼──────────┼─────────┼────────╴\n",
       "   1 │ \u001b[37mWHITE\u001b[0m,\u001b[33mORANGE\u001b[0m,\u001b[31mRED\u001b[0m,\u001b[34mBLUE\u001b[0m │   101 │      2 │         2 │        3 │      10 │ \u001b[34mBLUE\u001b[0m    \n",
       "   2 │ \u001b[37mWHITE\u001b[0m,\u001b[31mRED\u001b[0m,\u001b[34mBLUE\u001b[0m,\u001b[33mORANGE\u001b[0m │    84 │      2 │         3 │        2 │      10 │ \u001b[34mBLUE\u001b[0m    \n",
       "   3 │ \u001b[33mORANGE\u001b[0m,\u001b[37mWHITE\u001b[0m,\u001b[34mBLUE\u001b[0m,\u001b[31mRED\u001b[0m │   116 │      2 │         4 │        3 │      10 │ \u001b[34mBLUE\u001b[0m    \n",
       "   4 │ \u001b[37mWHITE\u001b[0m,\u001b[33mORANGE\u001b[0m,\u001b[34mBLUE\u001b[0m,\u001b[31mRED\u001b[0m │    56 │      2 │         2 │        2 │      10 │ \u001b[34mBLUE\u001b[0m    \n",
       "   5 │ \u001b[31mRED\u001b[0m,\u001b[33mORANGE\u001b[0m,\u001b[37mWHITE\u001b[0m,\u001b[34mBLUE\u001b[0m │    65 │      2 │         2 │        3 │      10 │ \u001b[34mBLUE\u001b[0m    \n",
       "   6 │ \u001b[31mRED\u001b[0m,\u001b[33mORANGE\u001b[0m,\u001b[37mWHITE\u001b[0m,\u001b[34mBLUE\u001b[0m │   125 │      2 │         4 │        3 │      10 │ \u001b[34mBLUE\u001b[0m    \n",
       "   7 │ \u001b[34mBLUE\u001b[0m,\u001b[33mORANGE\u001b[0m,\u001b[37mWHITE\u001b[0m,\u001b[31mRED\u001b[0m │    58 │      2 │         2 │        2 │      10 │ \u001b[34mBLUE\u001b[0m    \n",
       "   8 │ \u001b[34mBLUE\u001b[0m,\u001b[31mRED\u001b[0m,\u001b[33mORANGE\u001b[0m,\u001b[37mWHITE\u001b[0m │   102 │      2 │         2 │        2 │      10 │ \u001b[34mBLUE\u001b[0m    \n",
       "   9 │ \u001b[31mRED\u001b[0m,\u001b[33mORANGE\u001b[0m,\u001b[37mWHITE\u001b[0m,\u001b[34mBLUE\u001b[0m │    77 │      2 │         2 │        2 │      10 │ \u001b[34mBLUE\u001b[0m    \n",
       "  10 │ \u001b[33mORANGE\u001b[0m,\u001b[34mBLUE\u001b[0m,\u001b[31mRED\u001b[0m,\u001b[37mWHITE\u001b[0m │    59 │      2 │         3 │        3 │      10 │ \u001b[34mBLUE\u001b[0m    \n",
       "     ╵                       ╵       ╵        ╵           ╵          ╵         ╵         \n"
      ]
     },
     "metadata": {},
     "output_type": "display_data"
    },
    {
     "data": {
      "text/html": [
       "<pre style=\"white-space:pre;overflow-x:auto;line-height:normal;font-family:Menlo,'DejaVu Sans Mono',consolas,'Courier New',monospace\"><span style=\"font-style: italic\">                                                  Player Summary                                                   </span>\n",
       "                                                                ╷      ╷      ╷      ╷      ╷      ╷      ╷        \n",
       " <span style=\"font-weight: bold\">                                                               </span>│<span style=\"font-weight: bold\">      </span>│<span style=\"font-weight: bold\">      </span>│<span style=\"font-weight: bold\">      </span>│<span style=\"font-weight: bold\">      </span>│<span style=\"font-weight: bold\">      </span>│<span style=\"font-weight: bold\">      </span>│<span style=\"font-weight: bold\">   AVG </span> \n",
       " <span style=\"font-weight: bold\">                                                               </span>│<span style=\"font-weight: bold\">      </span>│<span style=\"font-weight: bold\">  AVG </span>│<span style=\"font-weight: bold\">  AVG </span>│<span style=\"font-weight: bold\">  AVG </span>│<span style=\"font-weight: bold\">  AVG </span>│<span style=\"font-weight: bold\">  AVG </span>│<span style=\"font-weight: bold\">   DEV </span> \n",
       " <span style=\"font-weight: bold\">                                                               </span>│<span style=\"font-weight: bold\"> WINS </span>│<span style=\"font-weight: bold\">   VP </span>│<span style=\"font-weight: bold\"> SET… </span>│<span style=\"font-weight: bold\"> CIT… </span>│<span style=\"font-weight: bold\"> ROAD </span>│<span style=\"font-weight: bold\"> ARMY </span>│<span style=\"font-weight: bold\">    VP </span> \n",
       "╶───────────────────────────────────────────────────────────────┼──────┼──────┼──────┼──────┼──────┼──────┼───────╴\n",
       "  <span style=\"color: #800000; text-decoration-color: #800000\">AB_DQNPlayer_1:RED</span>                                            │    0 │ 2.00 │ 2.00 │ 0.00 │ 0.00 │ 0.00 │  0.00  \n",
       "  <span style=\"color: #808000; text-decoration-color: #808000\">RandomPlayer:ORANGE</span>                                           │    0 │ 2.60 │ 1.90 │ 0.10 │ 0.10 │ 0.10 │  0.10  \n",
       "  <span style=\"color: #c0c0c0; text-decoration-color: #c0c0c0\">RandomPlayer:WHITE</span>                                            │    0 │ 2.50 │ 1.80 │ 0.20 │ 0.00 │ 0.00 │  0.30  \n",
       "  <span style=\"color: #000080; text-decoration-color: #000080\">AlphaBetaPlayer:BLUE(depth=2,value_fn=base_fn,prunning=False)</span> │   10 │ 10.… │ 3.00 │ 2.60 │ 0.90 │ 0.00 │  0.00  \n",
       "                                                                ╵      ╵      ╵      ╵      ╵      ╵      ╵        \n",
       "</pre>\n"
      ],
      "text/plain": [
       "\u001b[3m                                                  Player Summary                                                   \u001b[0m\n",
       "                                                                ╷      ╷      ╷      ╷      ╷      ╷      ╷        \n",
       " \u001b[1m                                                               \u001b[0m│\u001b[1m      \u001b[0m│\u001b[1m      \u001b[0m│\u001b[1m      \u001b[0m│\u001b[1m      \u001b[0m│\u001b[1m      \u001b[0m│\u001b[1m      \u001b[0m│\u001b[1m \u001b[0m\u001b[1m  AVG\u001b[0m\u001b[1m \u001b[0m \n",
       " \u001b[1m                                                               \u001b[0m│\u001b[1m      \u001b[0m│\u001b[1m \u001b[0m\u001b[1m AVG\u001b[0m\u001b[1m \u001b[0m│\u001b[1m \u001b[0m\u001b[1m AVG\u001b[0m\u001b[1m \u001b[0m│\u001b[1m \u001b[0m\u001b[1m AVG\u001b[0m\u001b[1m \u001b[0m│\u001b[1m \u001b[0m\u001b[1m AVG\u001b[0m\u001b[1m \u001b[0m│\u001b[1m \u001b[0m\u001b[1m AVG\u001b[0m\u001b[1m \u001b[0m│\u001b[1m \u001b[0m\u001b[1m  DEV\u001b[0m\u001b[1m \u001b[0m \n",
       " \u001b[1m \u001b[0m\u001b[1m                                                             \u001b[0m\u001b[1m \u001b[0m│\u001b[1m \u001b[0m\u001b[1mWINS\u001b[0m\u001b[1m \u001b[0m│\u001b[1m \u001b[0m\u001b[1m  VP\u001b[0m\u001b[1m \u001b[0m│\u001b[1m \u001b[0m\u001b[1mSET…\u001b[0m\u001b[1m \u001b[0m│\u001b[1m \u001b[0m\u001b[1mCIT…\u001b[0m\u001b[1m \u001b[0m│\u001b[1m \u001b[0m\u001b[1mROAD\u001b[0m\u001b[1m \u001b[0m│\u001b[1m \u001b[0m\u001b[1mARMY\u001b[0m\u001b[1m \u001b[0m│\u001b[1m \u001b[0m\u001b[1m   VP\u001b[0m\u001b[1m \u001b[0m \n",
       "╶───────────────────────────────────────────────────────────────┼──────┼──────┼──────┼──────┼──────┼──────┼───────╴\n",
       "  \u001b[31mAB_DQNPlayer_1:RED\u001b[0m                                            │    0 │ 2.00 │ 2.00 │ 0.00 │ 0.00 │ 0.00 │  0.00  \n",
       "  \u001b[33mRandomPlayer:ORANGE\u001b[0m                                           │    0 │ 2.60 │ 1.90 │ 0.10 │ 0.10 │ 0.10 │  0.10  \n",
       "  \u001b[37mRandomPlayer:WHITE\u001b[0m                                            │    0 │ 2.50 │ 1.80 │ 0.20 │ 0.00 │ 0.00 │  0.30  \n",
       "  \u001b[34mAlphaBetaPlayer:BLUE(depth=2,value_fn=base_fn,prunning=False)\u001b[0m │   10 │ 10.… │ 3.00 │ 2.60 │ 0.90 │ 0.00 │  0.00  \n",
       "                                                                ╵      ╵      ╵      ╵      ╵      ╵      ╵        \n"
      ]
     },
     "metadata": {},
     "output_type": "display_data"
    },
    {
     "data": {
      "text/html": [
       "<pre style=\"white-space:pre;overflow-x:auto;line-height:normal;font-family:Menlo,'DejaVu Sans Mono',consolas,'Courier New',monospace\"><span style=\"font-style: italic\">              Game Summary              </span>\n",
       "            ╷           ╷               \n",
       " <span style=\"font-weight: bold\"> AVG TICKS </span>│<span style=\"font-weight: bold\"> AVG TURNS </span>│<span style=\"font-weight: bold\"> AVG DURATION </span> \n",
       "╶───────────┼───────────┼──────────────╴\n",
       "     248.00 │     84.30 │   6.200 secs  \n",
       "            ╵           ╵               \n",
       "</pre>\n"
      ],
      "text/plain": [
       "\u001b[3m              Game Summary              \u001b[0m\n",
       "            ╷           ╷               \n",
       " \u001b[1m \u001b[0m\u001b[1mAVG TICKS\u001b[0m\u001b[1m \u001b[0m│\u001b[1m \u001b[0m\u001b[1mAVG TURNS\u001b[0m\u001b[1m \u001b[0m│\u001b[1m \u001b[0m\u001b[1mAVG DURATION\u001b[0m\u001b[1m \u001b[0m \n",
       "╶───────────┼───────────┼──────────────╴\n",
       "     248.00 │     84.30 │   6.200 secs  \n",
       "            ╵           ╵               \n"
      ]
     },
     "metadata": {},
     "output_type": "display_data"
    },
    {
     "name": "stdout",
     "output_type": "stream",
     "text": [
      "Loaded replay buffer with 2445 transitions\n",
      "atch 48/50: Playing 10 games\n"
     ]
    },
    {
     "data": {
      "text/html": [
       "<pre style=\"white-space:pre;overflow-x:auto;line-height:normal;font-family:Menlo,'DejaVu Sans Mono',consolas,'Courier New',monospace\">Cleared replay buffer to refresh training examples.\n",
       "</pre>\n"
      ],
      "text/plain": [
       "Cleared replay buffer to refresh training examples.\n"
      ]
     },
     "metadata": {},
     "output_type": "display_data"
    },
    {
     "data": {
      "text/html": [
       "<pre style=\"white-space:pre;overflow-x:auto;line-height:normal;font-family:Menlo,'DejaVu Sans Mono',consolas,'Courier New',monospace\">Reward variance in batch: 0.0000\n",
       "</pre>\n"
      ],
      "text/plain": [
       "Reward variance in batch: 0.0000\n"
      ]
     },
     "metadata": {},
     "output_type": "display_data"
    },
    {
     "data": {
      "text/html": [
       "<pre style=\"white-space:pre;overflow-x:auto;line-height:normal;font-family:Menlo,'DejaVu Sans Mono',consolas,'Courier New',monospace\">Trained DQN model with loss: 103.7667\n",
       "</pre>\n"
      ],
      "text/plain": [
       "Trained DQN model with loss: 103.7667\n"
      ]
     },
     "metadata": {},
     "output_type": "display_data"
    },
    {
     "data": {
      "text/html": [
       "<pre style=\"white-space:pre;overflow-x:auto;line-height:normal;font-family:Menlo,'DejaVu Sans Mono',consolas,'Courier New',monospace\">Avg pred: -0.1247, Avg target: 10.0601\n",
       "</pre>\n"
      ],
      "text/plain": [
       "Avg pred: -0.1247, Avg target: 10.0601\n"
      ]
     },
     "metadata": {},
     "output_type": "display_data"
    },
    {
     "data": {
      "text/html": [
       "<pre style=\"white-space:pre;overflow-x:auto;line-height:normal;font-family:Menlo,'DejaVu Sans Mono',consolas,'Courier New',monospace\"></pre>\n"
      ],
      "text/plain": []
     },
     "metadata": {},
     "output_type": "display_data"
    },
    {
     "data": {
      "text/html": [
       "<pre style=\"white-space:pre;overflow-x:auto;line-height:normal;font-family:Menlo,'DejaVu Sans Mono',consolas,'Courier New',monospace\">\n",
       "</pre>\n"
      ],
      "text/plain": [
       "\n"
      ]
     },
     "metadata": {},
     "output_type": "display_data"
    },
    {
     "data": {
      "text/html": [
       "<pre style=\"white-space:pre;overflow-x:auto;line-height:normal;font-family:Menlo,'DejaVu Sans Mono',consolas,'Courier New',monospace\"><span style=\"font-style: italic\">                                      Last 10 Games                                      </span>\n",
       "     ╷                       ╷       ╷        ╷         ╷          ╷           ╷         \n",
       " <span style=\"font-weight: bold\">  # </span>│<span style=\"font-weight: bold\"> SEATING               </span>│<span style=\"font-weight: bold\"> TURNS </span>│<span style=\"font-weight: bold\"> RED VP </span>│<span style=\"font-weight: bold\"> BLUE VP </span>│<span style=\"font-weight: bold\"> WHITE VP </span>│<span style=\"font-weight: bold\"> ORANGE VP </span>│<span style=\"font-weight: bold\"> WINNER </span> \n",
       "╶────┼───────────────────────┼───────┼────────┼─────────┼──────────┼───────────┼────────╴\n",
       "   1 │ <span style=\"color: #000080; text-decoration-color: #000080\">BLUE</span>,<span style=\"color: #800000; text-decoration-color: #800000\">RED</span>,<span style=\"color: #c0c0c0; text-decoration-color: #c0c0c0\">WHITE</span>,<span style=\"color: #808000; text-decoration-color: #808000\">ORANGE</span> │    38 │      2 │      10 │        2 │         2 │ <span style=\"color: #000080; text-decoration-color: #000080\">BLUE</span>    \n",
       "   2 │ <span style=\"color: #c0c0c0; text-decoration-color: #c0c0c0\">WHITE</span>,<span style=\"color: #800000; text-decoration-color: #800000\">RED</span>,<span style=\"color: #000080; text-decoration-color: #000080\">BLUE</span>,<span style=\"color: #808000; text-decoration-color: #808000\">ORANGE</span> │    84 │      2 │      10 │        2 │         4 │ <span style=\"color: #000080; text-decoration-color: #000080\">BLUE</span>    \n",
       "   3 │ <span style=\"color: #808000; text-decoration-color: #808000\">ORANGE</span>,<span style=\"color: #c0c0c0; text-decoration-color: #c0c0c0\">WHITE</span>,<span style=\"color: #000080; text-decoration-color: #000080\">BLUE</span>,<span style=\"color: #800000; text-decoration-color: #800000\">RED</span> │    96 │      2 │      10 │        3 │         3 │ <span style=\"color: #000080; text-decoration-color: #000080\">BLUE</span>    \n",
       "   4 │ <span style=\"color: #c0c0c0; text-decoration-color: #c0c0c0\">WHITE</span>,<span style=\"color: #808000; text-decoration-color: #808000\">ORANGE</span>,<span style=\"color: #800000; text-decoration-color: #800000\">RED</span>,<span style=\"color: #000080; text-decoration-color: #000080\">BLUE</span> │    65 │      2 │      10 │        2 │         2 │ <span style=\"color: #000080; text-decoration-color: #000080\">BLUE</span>    \n",
       "   5 │ <span style=\"color: #000080; text-decoration-color: #000080\">BLUE</span>,<span style=\"color: #c0c0c0; text-decoration-color: #c0c0c0\">WHITE</span>,<span style=\"color: #808000; text-decoration-color: #808000\">ORANGE</span>,<span style=\"color: #800000; text-decoration-color: #800000\">RED</span> │    82 │      3 │      10 │        4 │         5 │ <span style=\"color: #000080; text-decoration-color: #000080\">BLUE</span>    \n",
       "   6 │ <span style=\"color: #c0c0c0; text-decoration-color: #c0c0c0\">WHITE</span>,<span style=\"color: #800000; text-decoration-color: #800000\">RED</span>,<span style=\"color: #808000; text-decoration-color: #808000\">ORANGE</span>,<span style=\"color: #000080; text-decoration-color: #000080\">BLUE</span> │   121 │      2 │      10 │        2 │         3 │ <span style=\"color: #000080; text-decoration-color: #000080\">BLUE</span>    \n",
       "   7 │ <span style=\"color: #808000; text-decoration-color: #808000\">ORANGE</span>,<span style=\"color: #000080; text-decoration-color: #000080\">BLUE</span>,<span style=\"color: #c0c0c0; text-decoration-color: #c0c0c0\">WHITE</span>,<span style=\"color: #800000; text-decoration-color: #800000\">RED</span> │    67 │      2 │      10 │        5 │         2 │ <span style=\"color: #000080; text-decoration-color: #000080\">BLUE</span>    \n",
       "   8 │ <span style=\"color: #808000; text-decoration-color: #808000\">ORANGE</span>,<span style=\"color: #000080; text-decoration-color: #000080\">BLUE</span>,<span style=\"color: #800000; text-decoration-color: #800000\">RED</span>,<span style=\"color: #c0c0c0; text-decoration-color: #c0c0c0\">WHITE</span> │    59 │      2 │      10 │        2 │         5 │ <span style=\"color: #000080; text-decoration-color: #000080\">BLUE</span>    \n",
       "   9 │ <span style=\"color: #808000; text-decoration-color: #808000\">ORANGE</span>,<span style=\"color: #800000; text-decoration-color: #800000\">RED</span>,<span style=\"color: #c0c0c0; text-decoration-color: #c0c0c0\">WHITE</span>,<span style=\"color: #000080; text-decoration-color: #000080\">BLUE</span> │    81 │      2 │      10 │        2 │         3 │ <span style=\"color: #000080; text-decoration-color: #000080\">BLUE</span>    \n",
       "  10 │ <span style=\"color: #c0c0c0; text-decoration-color: #c0c0c0\">WHITE</span>,<span style=\"color: #800000; text-decoration-color: #800000\">RED</span>,<span style=\"color: #000080; text-decoration-color: #000080\">BLUE</span>,<span style=\"color: #808000; text-decoration-color: #808000\">ORANGE</span> │    92 │      2 │      10 │        4 │         9 │ <span style=\"color: #000080; text-decoration-color: #000080\">BLUE</span>    \n",
       "     ╵                       ╵       ╵        ╵         ╵          ╵           ╵         \n",
       "</pre>\n"
      ],
      "text/plain": [
       "\u001b[3m                                      Last 10 Games                                      \u001b[0m\n",
       "     ╷                       ╷       ╷        ╷         ╷          ╷           ╷         \n",
       " \u001b[1m \u001b[0m\u001b[1m #\u001b[0m\u001b[1m \u001b[0m│\u001b[1m \u001b[0m\u001b[1mSEATING              \u001b[0m\u001b[1m \u001b[0m│\u001b[1m \u001b[0m\u001b[1mTURNS\u001b[0m\u001b[1m \u001b[0m│\u001b[1m \u001b[0m\u001b[1mRED VP\u001b[0m\u001b[1m \u001b[0m│\u001b[1m \u001b[0m\u001b[1mBLUE VP\u001b[0m\u001b[1m \u001b[0m│\u001b[1m \u001b[0m\u001b[1mWHITE VP\u001b[0m\u001b[1m \u001b[0m│\u001b[1m \u001b[0m\u001b[1mORANGE VP\u001b[0m\u001b[1m \u001b[0m│\u001b[1m \u001b[0m\u001b[1mWINNER\u001b[0m\u001b[1m \u001b[0m \n",
       "╶────┼───────────────────────┼───────┼────────┼─────────┼──────────┼───────────┼────────╴\n",
       "   1 │ \u001b[34mBLUE\u001b[0m,\u001b[31mRED\u001b[0m,\u001b[37mWHITE\u001b[0m,\u001b[33mORANGE\u001b[0m │    38 │      2 │      10 │        2 │         2 │ \u001b[34mBLUE\u001b[0m    \n",
       "   2 │ \u001b[37mWHITE\u001b[0m,\u001b[31mRED\u001b[0m,\u001b[34mBLUE\u001b[0m,\u001b[33mORANGE\u001b[0m │    84 │      2 │      10 │        2 │         4 │ \u001b[34mBLUE\u001b[0m    \n",
       "   3 │ \u001b[33mORANGE\u001b[0m,\u001b[37mWHITE\u001b[0m,\u001b[34mBLUE\u001b[0m,\u001b[31mRED\u001b[0m │    96 │      2 │      10 │        3 │         3 │ \u001b[34mBLUE\u001b[0m    \n",
       "   4 │ \u001b[37mWHITE\u001b[0m,\u001b[33mORANGE\u001b[0m,\u001b[31mRED\u001b[0m,\u001b[34mBLUE\u001b[0m │    65 │      2 │      10 │        2 │         2 │ \u001b[34mBLUE\u001b[0m    \n",
       "   5 │ \u001b[34mBLUE\u001b[0m,\u001b[37mWHITE\u001b[0m,\u001b[33mORANGE\u001b[0m,\u001b[31mRED\u001b[0m │    82 │      3 │      10 │        4 │         5 │ \u001b[34mBLUE\u001b[0m    \n",
       "   6 │ \u001b[37mWHITE\u001b[0m,\u001b[31mRED\u001b[0m,\u001b[33mORANGE\u001b[0m,\u001b[34mBLUE\u001b[0m │   121 │      2 │      10 │        2 │         3 │ \u001b[34mBLUE\u001b[0m    \n",
       "   7 │ \u001b[33mORANGE\u001b[0m,\u001b[34mBLUE\u001b[0m,\u001b[37mWHITE\u001b[0m,\u001b[31mRED\u001b[0m │    67 │      2 │      10 │        5 │         2 │ \u001b[34mBLUE\u001b[0m    \n",
       "   8 │ \u001b[33mORANGE\u001b[0m,\u001b[34mBLUE\u001b[0m,\u001b[31mRED\u001b[0m,\u001b[37mWHITE\u001b[0m │    59 │      2 │      10 │        2 │         5 │ \u001b[34mBLUE\u001b[0m    \n",
       "   9 │ \u001b[33mORANGE\u001b[0m,\u001b[31mRED\u001b[0m,\u001b[37mWHITE\u001b[0m,\u001b[34mBLUE\u001b[0m │    81 │      2 │      10 │        2 │         3 │ \u001b[34mBLUE\u001b[0m    \n",
       "  10 │ \u001b[37mWHITE\u001b[0m,\u001b[31mRED\u001b[0m,\u001b[34mBLUE\u001b[0m,\u001b[33mORANGE\u001b[0m │    92 │      2 │      10 │        4 │         9 │ \u001b[34mBLUE\u001b[0m    \n",
       "     ╵                       ╵       ╵        ╵         ╵          ╵           ╵         \n"
      ]
     },
     "metadata": {},
     "output_type": "display_data"
    },
    {
     "data": {
      "text/html": [
       "<pre style=\"white-space:pre;overflow-x:auto;line-height:normal;font-family:Menlo,'DejaVu Sans Mono',consolas,'Courier New',monospace\"><span style=\"font-style: italic\">                                                  Player Summary                                                   </span>\n",
       "                                                                ╷      ╷      ╷      ╷      ╷      ╷      ╷        \n",
       " <span style=\"font-weight: bold\">                                                               </span>│<span style=\"font-weight: bold\">      </span>│<span style=\"font-weight: bold\">      </span>│<span style=\"font-weight: bold\">      </span>│<span style=\"font-weight: bold\">      </span>│<span style=\"font-weight: bold\">      </span>│<span style=\"font-weight: bold\">      </span>│<span style=\"font-weight: bold\">   AVG </span> \n",
       " <span style=\"font-weight: bold\">                                                               </span>│<span style=\"font-weight: bold\">      </span>│<span style=\"font-weight: bold\">  AVG </span>│<span style=\"font-weight: bold\">  AVG </span>│<span style=\"font-weight: bold\">  AVG </span>│<span style=\"font-weight: bold\">  AVG </span>│<span style=\"font-weight: bold\">  AVG </span>│<span style=\"font-weight: bold\">   DEV </span> \n",
       " <span style=\"font-weight: bold\">                                                               </span>│<span style=\"font-weight: bold\"> WINS </span>│<span style=\"font-weight: bold\">   VP </span>│<span style=\"font-weight: bold\"> SET… </span>│<span style=\"font-weight: bold\"> CIT… </span>│<span style=\"font-weight: bold\"> ROAD </span>│<span style=\"font-weight: bold\"> ARMY </span>│<span style=\"font-weight: bold\">    VP </span> \n",
       "╶───────────────────────────────────────────────────────────────┼──────┼──────┼──────┼──────┼──────┼──────┼───────╴\n",
       "  <span style=\"color: #800000; text-decoration-color: #800000\">AB_DQNPlayer_1:RED</span>                                            │    0 │ 2.10 │ 2.00 │ 0.00 │ 0.00 │ 0.00 │  0.10  \n",
       "  <span style=\"color: #000080; text-decoration-color: #000080\">AlphaBetaPlayer:BLUE(depth=2,value_fn=base_fn,prunning=False)</span> │   10 │ 10.… │ 2.60 │ 2.70 │ 1.00 │ 0.00 │  0.00  \n",
       "  <span style=\"color: #c0c0c0; text-decoration-color: #c0c0c0\">WeightedRandomPlayer:WHITE</span>                                    │    0 │ 2.80 │ 1.60 │ 0.40 │ 0.00 │ 0.10 │  0.20  \n",
       "  <span style=\"color: #808000; text-decoration-color: #808000\">WeightedRandomPlayer:ORANGE</span>                                   │    0 │ 3.80 │ 1.40 │ 0.60 │ 0.00 │ 0.20 │  0.80  \n",
       "                                                                ╵      ╵      ╵      ╵      ╵      ╵      ╵        \n",
       "</pre>\n"
      ],
      "text/plain": [
       "\u001b[3m                                                  Player Summary                                                   \u001b[0m\n",
       "                                                                ╷      ╷      ╷      ╷      ╷      ╷      ╷        \n",
       " \u001b[1m                                                               \u001b[0m│\u001b[1m      \u001b[0m│\u001b[1m      \u001b[0m│\u001b[1m      \u001b[0m│\u001b[1m      \u001b[0m│\u001b[1m      \u001b[0m│\u001b[1m      \u001b[0m│\u001b[1m \u001b[0m\u001b[1m  AVG\u001b[0m\u001b[1m \u001b[0m \n",
       " \u001b[1m                                                               \u001b[0m│\u001b[1m      \u001b[0m│\u001b[1m \u001b[0m\u001b[1m AVG\u001b[0m\u001b[1m \u001b[0m│\u001b[1m \u001b[0m\u001b[1m AVG\u001b[0m\u001b[1m \u001b[0m│\u001b[1m \u001b[0m\u001b[1m AVG\u001b[0m\u001b[1m \u001b[0m│\u001b[1m \u001b[0m\u001b[1m AVG\u001b[0m\u001b[1m \u001b[0m│\u001b[1m \u001b[0m\u001b[1m AVG\u001b[0m\u001b[1m \u001b[0m│\u001b[1m \u001b[0m\u001b[1m  DEV\u001b[0m\u001b[1m \u001b[0m \n",
       " \u001b[1m \u001b[0m\u001b[1m                                                             \u001b[0m\u001b[1m \u001b[0m│\u001b[1m \u001b[0m\u001b[1mWINS\u001b[0m\u001b[1m \u001b[0m│\u001b[1m \u001b[0m\u001b[1m  VP\u001b[0m\u001b[1m \u001b[0m│\u001b[1m \u001b[0m\u001b[1mSET…\u001b[0m\u001b[1m \u001b[0m│\u001b[1m \u001b[0m\u001b[1mCIT…\u001b[0m\u001b[1m \u001b[0m│\u001b[1m \u001b[0m\u001b[1mROAD\u001b[0m\u001b[1m \u001b[0m│\u001b[1m \u001b[0m\u001b[1mARMY\u001b[0m\u001b[1m \u001b[0m│\u001b[1m \u001b[0m\u001b[1m   VP\u001b[0m\u001b[1m \u001b[0m \n",
       "╶───────────────────────────────────────────────────────────────┼──────┼──────┼──────┼──────┼──────┼──────┼───────╴\n",
       "  \u001b[31mAB_DQNPlayer_1:RED\u001b[0m                                            │    0 │ 2.10 │ 2.00 │ 0.00 │ 0.00 │ 0.00 │  0.10  \n",
       "  \u001b[34mAlphaBetaPlayer:BLUE(depth=2,value_fn=base_fn,prunning=False)\u001b[0m │   10 │ 10.… │ 2.60 │ 2.70 │ 1.00 │ 0.00 │  0.00  \n",
       "  \u001b[37mWeightedRandomPlayer:WHITE\u001b[0m                                    │    0 │ 2.80 │ 1.60 │ 0.40 │ 0.00 │ 0.10 │  0.20  \n",
       "  \u001b[33mWeightedRandomPlayer:ORANGE\u001b[0m                                   │    0 │ 3.80 │ 1.40 │ 0.60 │ 0.00 │ 0.20 │  0.80  \n",
       "                                                                ╵      ╵      ╵      ╵      ╵      ╵      ╵        \n"
      ]
     },
     "metadata": {},
     "output_type": "display_data"
    },
    {
     "data": {
      "text/html": [
       "<pre style=\"white-space:pre;overflow-x:auto;line-height:normal;font-family:Menlo,'DejaVu Sans Mono',consolas,'Courier New',monospace\"><span style=\"font-style: italic\">              Game Summary              </span>\n",
       "            ╷           ╷               \n",
       " <span style=\"font-weight: bold\"> AVG TICKS </span>│<span style=\"font-weight: bold\"> AVG TURNS </span>│<span style=\"font-weight: bold\"> AVG DURATION </span> \n",
       "╶───────────┼───────────┼──────────────╴\n",
       "     233.80 │     78.50 │   6.309 secs  \n",
       "            ╵           ╵               \n",
       "</pre>\n"
      ],
      "text/plain": [
       "\u001b[3m              Game Summary              \u001b[0m\n",
       "            ╷           ╷               \n",
       " \u001b[1m \u001b[0m\u001b[1mAVG TICKS\u001b[0m\u001b[1m \u001b[0m│\u001b[1m \u001b[0m\u001b[1mAVG TURNS\u001b[0m\u001b[1m \u001b[0m│\u001b[1m \u001b[0m\u001b[1mAVG DURATION\u001b[0m\u001b[1m \u001b[0m \n",
       "╶───────────┼───────────┼──────────────╴\n",
       "     233.80 │     78.50 │   6.309 secs  \n",
       "            ╵           ╵               \n"
      ]
     },
     "metadata": {},
     "output_type": "display_data"
    },
    {
     "name": "stdout",
     "output_type": "stream",
     "text": [
      "Loaded replay buffer with 2252 transitions\n",
      "atch 49/50: Playing 10 games\n"
     ]
    },
    {
     "data": {
      "text/html": [
       "<pre style=\"white-space:pre;overflow-x:auto;line-height:normal;font-family:Menlo,'DejaVu Sans Mono',consolas,'Courier New',monospace\">Cleared replay buffer to refresh training examples.\n",
       "</pre>\n"
      ],
      "text/plain": [
       "Cleared replay buffer to refresh training examples.\n"
      ]
     },
     "metadata": {},
     "output_type": "display_data"
    },
    {
     "data": {
      "text/html": [
       "<pre style=\"white-space:pre;overflow-x:auto;line-height:normal;font-family:Menlo,'DejaVu Sans Mono',consolas,'Courier New',monospace\">Reward variance in batch: 0.0000\n",
       "</pre>\n"
      ],
      "text/plain": [
       "Reward variance in batch: 0.0000\n"
      ]
     },
     "metadata": {},
     "output_type": "display_data"
    },
    {
     "data": {
      "text/html": [
       "<pre style=\"white-space:pre;overflow-x:auto;line-height:normal;font-family:Menlo,'DejaVu Sans Mono',consolas,'Courier New',monospace\">Trained DQN model with loss: 101.4875\n",
       "</pre>\n"
      ],
      "text/plain": [
       "Trained DQN model with loss: 101.4875\n"
      ]
     },
     "metadata": {},
     "output_type": "display_data"
    },
    {
     "data": {
      "text/html": [
       "<pre style=\"white-space:pre;overflow-x:auto;line-height:normal;font-family:Menlo,'DejaVu Sans Mono',consolas,'Courier New',monospace\">Avg pred: -0.0867, Avg target: 9.9849\n",
       "</pre>\n"
      ],
      "text/plain": [
       "Avg pred: -0.0867, Avg target: 9.9849\n"
      ]
     },
     "metadata": {},
     "output_type": "display_data"
    },
    {
     "data": {
      "text/html": [
       "<pre style=\"white-space:pre;overflow-x:auto;line-height:normal;font-family:Menlo,'DejaVu Sans Mono',consolas,'Courier New',monospace\"></pre>\n"
      ],
      "text/plain": []
     },
     "metadata": {},
     "output_type": "display_data"
    },
    {
     "data": {
      "text/html": [
       "<pre style=\"white-space:pre;overflow-x:auto;line-height:normal;font-family:Menlo,'DejaVu Sans Mono',consolas,'Courier New',monospace\">\n",
       "</pre>\n"
      ],
      "text/plain": [
       "\n"
      ]
     },
     "metadata": {},
     "output_type": "display_data"
    },
    {
     "data": {
      "text/html": [
       "<pre style=\"white-space:pre;overflow-x:auto;line-height:normal;font-family:Menlo,'DejaVu Sans Mono',consolas,'Courier New',monospace\"><span style=\"font-style: italic\">                                      Last 10 Games                                      </span>\n",
       "     ╷                       ╷       ╷        ╷          ╷         ╷           ╷         \n",
       " <span style=\"font-weight: bold\">  # </span>│<span style=\"font-weight: bold\"> SEATING               </span>│<span style=\"font-weight: bold\"> TURNS </span>│<span style=\"font-weight: bold\"> RED VP </span>│<span style=\"font-weight: bold\"> WHITE VP </span>│<span style=\"font-weight: bold\"> BLUE VP </span>│<span style=\"font-weight: bold\"> ORANGE VP </span>│<span style=\"font-weight: bold\"> WINNER </span> \n",
       "╶────┼───────────────────────┼───────┼────────┼──────────┼─────────┼───────────┼────────╴\n",
       "   1 │ <span style=\"color: #808000; text-decoration-color: #808000\">ORANGE</span>,<span style=\"color: #000080; text-decoration-color: #000080\">BLUE</span>,<span style=\"color: #800000; text-decoration-color: #800000\">RED</span>,<span style=\"color: #c0c0c0; text-decoration-color: #c0c0c0\">WHITE</span> │    87 │      3 │        2 │      10 │         6 │ <span style=\"color: #000080; text-decoration-color: #000080\">BLUE</span>    \n",
       "   2 │ <span style=\"color: #c0c0c0; text-decoration-color: #c0c0c0\">WHITE</span>,<span style=\"color: #800000; text-decoration-color: #800000\">RED</span>,<span style=\"color: #000080; text-decoration-color: #000080\">BLUE</span>,<span style=\"color: #808000; text-decoration-color: #808000\">ORANGE</span> │    60 │      2 │        2 │      10 │         2 │ <span style=\"color: #000080; text-decoration-color: #000080\">BLUE</span>    \n",
       "   3 │ <span style=\"color: #c0c0c0; text-decoration-color: #c0c0c0\">WHITE</span>,<span style=\"color: #000080; text-decoration-color: #000080\">BLUE</span>,<span style=\"color: #808000; text-decoration-color: #808000\">ORANGE</span>,<span style=\"color: #800000; text-decoration-color: #800000\">RED</span> │    59 │      2 │        2 │      10 │         2 │ <span style=\"color: #000080; text-decoration-color: #000080\">BLUE</span>    \n",
       "   4 │ <span style=\"color: #808000; text-decoration-color: #808000\">ORANGE</span>,<span style=\"color: #800000; text-decoration-color: #800000\">RED</span>,<span style=\"color: #c0c0c0; text-decoration-color: #c0c0c0\">WHITE</span>,<span style=\"color: #000080; text-decoration-color: #000080\">BLUE</span> │    33 │      2 │        3 │      10 │         2 │ <span style=\"color: #000080; text-decoration-color: #000080\">BLUE</span>    \n",
       "   5 │ <span style=\"color: #800000; text-decoration-color: #800000\">RED</span>,<span style=\"color: #000080; text-decoration-color: #000080\">BLUE</span>,<span style=\"color: #808000; text-decoration-color: #808000\">ORANGE</span>,<span style=\"color: #c0c0c0; text-decoration-color: #c0c0c0\">WHITE</span> │   111 │      4 │        5 │      10 │         6 │ <span style=\"color: #000080; text-decoration-color: #000080\">BLUE</span>    \n",
       "   6 │ <span style=\"color: #800000; text-decoration-color: #800000\">RED</span>,<span style=\"color: #808000; text-decoration-color: #808000\">ORANGE</span>,<span style=\"color: #c0c0c0; text-decoration-color: #c0c0c0\">WHITE</span>,<span style=\"color: #000080; text-decoration-color: #000080\">BLUE</span> │   113 │      2 │        5 │      10 │         4 │ <span style=\"color: #000080; text-decoration-color: #000080\">BLUE</span>    \n",
       "   7 │ <span style=\"color: #000080; text-decoration-color: #000080\">BLUE</span>,<span style=\"color: #c0c0c0; text-decoration-color: #c0c0c0\">WHITE</span>,<span style=\"color: #808000; text-decoration-color: #808000\">ORANGE</span>,<span style=\"color: #800000; text-decoration-color: #800000\">RED</span> │   118 │      4 │        2 │      10 │         5 │ <span style=\"color: #000080; text-decoration-color: #000080\">BLUE</span>    \n",
       "   8 │ <span style=\"color: #000080; text-decoration-color: #000080\">BLUE</span>,<span style=\"color: #c0c0c0; text-decoration-color: #c0c0c0\">WHITE</span>,<span style=\"color: #808000; text-decoration-color: #808000\">ORANGE</span>,<span style=\"color: #800000; text-decoration-color: #800000\">RED</span> │    70 │      3 │        2 │      10 │         2 │ <span style=\"color: #000080; text-decoration-color: #000080\">BLUE</span>    \n",
       "   9 │ <span style=\"color: #000080; text-decoration-color: #000080\">BLUE</span>,<span style=\"color: #808000; text-decoration-color: #808000\">ORANGE</span>,<span style=\"color: #800000; text-decoration-color: #800000\">RED</span>,<span style=\"color: #c0c0c0; text-decoration-color: #c0c0c0\">WHITE</span> │    78 │      2 │        2 │      10 │         2 │ <span style=\"color: #000080; text-decoration-color: #000080\">BLUE</span>    \n",
       "  10 │ <span style=\"color: #808000; text-decoration-color: #808000\">ORANGE</span>,<span style=\"color: #c0c0c0; text-decoration-color: #c0c0c0\">WHITE</span>,<span style=\"color: #800000; text-decoration-color: #800000\">RED</span>,<span style=\"color: #000080; text-decoration-color: #000080\">BLUE</span> │   109 │      3 │        2 │      10 │         2 │ <span style=\"color: #000080; text-decoration-color: #000080\">BLUE</span>    \n",
       "     ╵                       ╵       ╵        ╵          ╵         ╵           ╵         \n",
       "</pre>\n"
      ],
      "text/plain": [
       "\u001b[3m                                      Last 10 Games                                      \u001b[0m\n",
       "     ╷                       ╷       ╷        ╷          ╷         ╷           ╷         \n",
       " \u001b[1m \u001b[0m\u001b[1m #\u001b[0m\u001b[1m \u001b[0m│\u001b[1m \u001b[0m\u001b[1mSEATING              \u001b[0m\u001b[1m \u001b[0m│\u001b[1m \u001b[0m\u001b[1mTURNS\u001b[0m\u001b[1m \u001b[0m│\u001b[1m \u001b[0m\u001b[1mRED VP\u001b[0m\u001b[1m \u001b[0m│\u001b[1m \u001b[0m\u001b[1mWHITE VP\u001b[0m\u001b[1m \u001b[0m│\u001b[1m \u001b[0m\u001b[1mBLUE VP\u001b[0m\u001b[1m \u001b[0m│\u001b[1m \u001b[0m\u001b[1mORANGE VP\u001b[0m\u001b[1m \u001b[0m│\u001b[1m \u001b[0m\u001b[1mWINNER\u001b[0m\u001b[1m \u001b[0m \n",
       "╶────┼───────────────────────┼───────┼────────┼──────────┼─────────┼───────────┼────────╴\n",
       "   1 │ \u001b[33mORANGE\u001b[0m,\u001b[34mBLUE\u001b[0m,\u001b[31mRED\u001b[0m,\u001b[37mWHITE\u001b[0m │    87 │      3 │        2 │      10 │         6 │ \u001b[34mBLUE\u001b[0m    \n",
       "   2 │ \u001b[37mWHITE\u001b[0m,\u001b[31mRED\u001b[0m,\u001b[34mBLUE\u001b[0m,\u001b[33mORANGE\u001b[0m │    60 │      2 │        2 │      10 │         2 │ \u001b[34mBLUE\u001b[0m    \n",
       "   3 │ \u001b[37mWHITE\u001b[0m,\u001b[34mBLUE\u001b[0m,\u001b[33mORANGE\u001b[0m,\u001b[31mRED\u001b[0m │    59 │      2 │        2 │      10 │         2 │ \u001b[34mBLUE\u001b[0m    \n",
       "   4 │ \u001b[33mORANGE\u001b[0m,\u001b[31mRED\u001b[0m,\u001b[37mWHITE\u001b[0m,\u001b[34mBLUE\u001b[0m │    33 │      2 │        3 │      10 │         2 │ \u001b[34mBLUE\u001b[0m    \n",
       "   5 │ \u001b[31mRED\u001b[0m,\u001b[34mBLUE\u001b[0m,\u001b[33mORANGE\u001b[0m,\u001b[37mWHITE\u001b[0m │   111 │      4 │        5 │      10 │         6 │ \u001b[34mBLUE\u001b[0m    \n",
       "   6 │ \u001b[31mRED\u001b[0m,\u001b[33mORANGE\u001b[0m,\u001b[37mWHITE\u001b[0m,\u001b[34mBLUE\u001b[0m │   113 │      2 │        5 │      10 │         4 │ \u001b[34mBLUE\u001b[0m    \n",
       "   7 │ \u001b[34mBLUE\u001b[0m,\u001b[37mWHITE\u001b[0m,\u001b[33mORANGE\u001b[0m,\u001b[31mRED\u001b[0m │   118 │      4 │        2 │      10 │         5 │ \u001b[34mBLUE\u001b[0m    \n",
       "   8 │ \u001b[34mBLUE\u001b[0m,\u001b[37mWHITE\u001b[0m,\u001b[33mORANGE\u001b[0m,\u001b[31mRED\u001b[0m │    70 │      3 │        2 │      10 │         2 │ \u001b[34mBLUE\u001b[0m    \n",
       "   9 │ \u001b[34mBLUE\u001b[0m,\u001b[33mORANGE\u001b[0m,\u001b[31mRED\u001b[0m,\u001b[37mWHITE\u001b[0m │    78 │      2 │        2 │      10 │         2 │ \u001b[34mBLUE\u001b[0m    \n",
       "  10 │ \u001b[33mORANGE\u001b[0m,\u001b[37mWHITE\u001b[0m,\u001b[31mRED\u001b[0m,\u001b[34mBLUE\u001b[0m │   109 │      3 │        2 │      10 │         2 │ \u001b[34mBLUE\u001b[0m    \n",
       "     ╵                       ╵       ╵        ╵          ╵         ╵           ╵         \n"
      ]
     },
     "metadata": {},
     "output_type": "display_data"
    },
    {
     "data": {
      "text/html": [
       "<pre style=\"white-space:pre;overflow-x:auto;line-height:normal;font-family:Menlo,'DejaVu Sans Mono',consolas,'Courier New',monospace\"><span style=\"font-style: italic\">                                                  Player Summary                                                   </span>\n",
       "                                                                ╷      ╷      ╷      ╷      ╷      ╷      ╷        \n",
       " <span style=\"font-weight: bold\">                                                               </span>│<span style=\"font-weight: bold\">      </span>│<span style=\"font-weight: bold\">      </span>│<span style=\"font-weight: bold\">      </span>│<span style=\"font-weight: bold\">      </span>│<span style=\"font-weight: bold\">      </span>│<span style=\"font-weight: bold\">      </span>│<span style=\"font-weight: bold\">   AVG </span> \n",
       " <span style=\"font-weight: bold\">                                                               </span>│<span style=\"font-weight: bold\">      </span>│<span style=\"font-weight: bold\">  AVG </span>│<span style=\"font-weight: bold\">  AVG </span>│<span style=\"font-weight: bold\">  AVG </span>│<span style=\"font-weight: bold\">  AVG </span>│<span style=\"font-weight: bold\">  AVG </span>│<span style=\"font-weight: bold\">   DEV </span> \n",
       " <span style=\"font-weight: bold\">                                                               </span>│<span style=\"font-weight: bold\"> WINS </span>│<span style=\"font-weight: bold\">   VP </span>│<span style=\"font-weight: bold\"> SET… </span>│<span style=\"font-weight: bold\"> CIT… </span>│<span style=\"font-weight: bold\"> ROAD </span>│<span style=\"font-weight: bold\"> ARMY </span>│<span style=\"font-weight: bold\">    VP </span> \n",
       "╶───────────────────────────────────────────────────────────────┼──────┼──────┼──────┼──────┼──────┼──────┼───────╴\n",
       "  <span style=\"color: #800000; text-decoration-color: #800000\">AB_DQNPlayer_1:RED</span>                                            │    0 │ 2.70 │ 2.10 │ 0.10 │ 0.00 │ 0.00 │  0.40  \n",
       "  <span style=\"color: #c0c0c0; text-decoration-color: #c0c0c0\">WeightedRandomPlayer:WHITE</span>                                    │    0 │ 2.70 │ 1.90 │ 0.10 │ 0.00 │ 0.10 │  0.40  \n",
       "  <span style=\"color: #000080; text-decoration-color: #000080\">AlphaBetaPlayer:BLUE(depth=2,value_fn=base_fn,prunning=False)</span> │   10 │ 10.… │ 3.00 │ 2.60 │ 0.90 │ 0.00 │  0.00  \n",
       "  <span style=\"color: #808000; text-decoration-color: #808000\">WeightedRandomPlayer:ORANGE</span>                                   │    0 │ 3.30 │ 1.40 │ 0.60 │ 0.10 │ 0.20 │  0.10  \n",
       "                                                                ╵      ╵      ╵      ╵      ╵      ╵      ╵        \n",
       "</pre>\n"
      ],
      "text/plain": [
       "\u001b[3m                                                  Player Summary                                                   \u001b[0m\n",
       "                                                                ╷      ╷      ╷      ╷      ╷      ╷      ╷        \n",
       " \u001b[1m                                                               \u001b[0m│\u001b[1m      \u001b[0m│\u001b[1m      \u001b[0m│\u001b[1m      \u001b[0m│\u001b[1m      \u001b[0m│\u001b[1m      \u001b[0m│\u001b[1m      \u001b[0m│\u001b[1m \u001b[0m\u001b[1m  AVG\u001b[0m\u001b[1m \u001b[0m \n",
       " \u001b[1m                                                               \u001b[0m│\u001b[1m      \u001b[0m│\u001b[1m \u001b[0m\u001b[1m AVG\u001b[0m\u001b[1m \u001b[0m│\u001b[1m \u001b[0m\u001b[1m AVG\u001b[0m\u001b[1m \u001b[0m│\u001b[1m \u001b[0m\u001b[1m AVG\u001b[0m\u001b[1m \u001b[0m│\u001b[1m \u001b[0m\u001b[1m AVG\u001b[0m\u001b[1m \u001b[0m│\u001b[1m \u001b[0m\u001b[1m AVG\u001b[0m\u001b[1m \u001b[0m│\u001b[1m \u001b[0m\u001b[1m  DEV\u001b[0m\u001b[1m \u001b[0m \n",
       " \u001b[1m \u001b[0m\u001b[1m                                                             \u001b[0m\u001b[1m \u001b[0m│\u001b[1m \u001b[0m\u001b[1mWINS\u001b[0m\u001b[1m \u001b[0m│\u001b[1m \u001b[0m\u001b[1m  VP\u001b[0m\u001b[1m \u001b[0m│\u001b[1m \u001b[0m\u001b[1mSET…\u001b[0m\u001b[1m \u001b[0m│\u001b[1m \u001b[0m\u001b[1mCIT…\u001b[0m\u001b[1m \u001b[0m│\u001b[1m \u001b[0m\u001b[1mROAD\u001b[0m\u001b[1m \u001b[0m│\u001b[1m \u001b[0m\u001b[1mARMY\u001b[0m\u001b[1m \u001b[0m│\u001b[1m \u001b[0m\u001b[1m   VP\u001b[0m\u001b[1m \u001b[0m \n",
       "╶───────────────────────────────────────────────────────────────┼──────┼──────┼──────┼──────┼──────┼──────┼───────╴\n",
       "  \u001b[31mAB_DQNPlayer_1:RED\u001b[0m                                            │    0 │ 2.70 │ 2.10 │ 0.10 │ 0.00 │ 0.00 │  0.40  \n",
       "  \u001b[37mWeightedRandomPlayer:WHITE\u001b[0m                                    │    0 │ 2.70 │ 1.90 │ 0.10 │ 0.00 │ 0.10 │  0.40  \n",
       "  \u001b[34mAlphaBetaPlayer:BLUE(depth=2,value_fn=base_fn,prunning=False)\u001b[0m │   10 │ 10.… │ 3.00 │ 2.60 │ 0.90 │ 0.00 │  0.00  \n",
       "  \u001b[33mWeightedRandomPlayer:ORANGE\u001b[0m                                   │    0 │ 3.30 │ 1.40 │ 0.60 │ 0.10 │ 0.20 │  0.10  \n",
       "                                                                ╵      ╵      ╵      ╵      ╵      ╵      ╵        \n"
      ]
     },
     "metadata": {},
     "output_type": "display_data"
    },
    {
     "data": {
      "text/html": [
       "<pre style=\"white-space:pre;overflow-x:auto;line-height:normal;font-family:Menlo,'DejaVu Sans Mono',consolas,'Courier New',monospace\"><span style=\"font-style: italic\">              Game Summary              </span>\n",
       "            ╷           ╷               \n",
       " <span style=\"font-weight: bold\"> AVG TICKS </span>│<span style=\"font-weight: bold\"> AVG TURNS </span>│<span style=\"font-weight: bold\"> AVG DURATION </span> \n",
       "╶───────────┼───────────┼──────────────╴\n",
       "     252.20 │     83.80 │   7.802 secs  \n",
       "            ╵           ╵               \n",
       "</pre>\n"
      ],
      "text/plain": [
       "\u001b[3m              Game Summary              \u001b[0m\n",
       "            ╷           ╷               \n",
       " \u001b[1m \u001b[0m\u001b[1mAVG TICKS\u001b[0m\u001b[1m \u001b[0m│\u001b[1m \u001b[0m\u001b[1mAVG TURNS\u001b[0m\u001b[1m \u001b[0m│\u001b[1m \u001b[0m\u001b[1mAVG DURATION\u001b[0m\u001b[1m \u001b[0m \n",
       "╶───────────┼───────────┼──────────────╴\n",
       "     252.20 │     83.80 │   7.802 secs  \n",
       "            ╵           ╵               \n"
      ]
     },
     "metadata": {},
     "output_type": "display_data"
    },
    {
     "name": "stdout",
     "output_type": "stream",
     "text": [
      "Loaded replay buffer with 2653 transitions\n",
      "atch 50/50: Playing 10 games\n"
     ]
    },
    {
     "data": {
      "text/html": [
       "<pre style=\"white-space:pre;overflow-x:auto;line-height:normal;font-family:Menlo,'DejaVu Sans Mono',consolas,'Courier New',monospace\">Cleared replay buffer to refresh training examples.\n",
       "</pre>\n"
      ],
      "text/plain": [
       "Cleared replay buffer to refresh training examples.\n"
      ]
     },
     "metadata": {},
     "output_type": "display_data"
    },
    {
     "data": {
      "text/html": [
       "<pre style=\"white-space:pre;overflow-x:auto;line-height:normal;font-family:Menlo,'DejaVu Sans Mono',consolas,'Courier New',monospace\">Reward variance in batch: 0.0000\n",
       "</pre>\n"
      ],
      "text/plain": [
       "Reward variance in batch: 0.0000\n"
      ]
     },
     "metadata": {},
     "output_type": "display_data"
    },
    {
     "data": {
      "text/html": [
       "<pre style=\"white-space:pre;overflow-x:auto;line-height:normal;font-family:Menlo,'DejaVu Sans Mono',consolas,'Courier New',monospace\">Trained DQN model with loss: 101.8850\n",
       "</pre>\n"
      ],
      "text/plain": [
       "Trained DQN model with loss: 101.8850\n"
      ]
     },
     "metadata": {},
     "output_type": "display_data"
    },
    {
     "data": {
      "text/html": [
       "<pre style=\"white-space:pre;overflow-x:auto;line-height:normal;font-family:Menlo,'DejaVu Sans Mono',consolas,'Courier New',monospace\">Avg pred: -0.0926, Avg target: 9.9985\n",
       "</pre>\n"
      ],
      "text/plain": [
       "Avg pred: -0.0926, Avg target: 9.9985\n"
      ]
     },
     "metadata": {},
     "output_type": "display_data"
    },
    {
     "data": {
      "text/html": [
       "<pre style=\"white-space:pre;overflow-x:auto;line-height:normal;font-family:Menlo,'DejaVu Sans Mono',consolas,'Courier New',monospace\">Cleared replay buffer to refresh training examples.\n",
       "</pre>\n"
      ],
      "text/plain": [
       "Cleared replay buffer to refresh training examples.\n"
      ]
     },
     "metadata": {},
     "output_type": "display_data"
    },
    {
     "data": {
      "text/html": [
       "<pre style=\"white-space:pre;overflow-x:auto;line-height:normal;font-family:Menlo,'DejaVu Sans Mono',consolas,'Courier New',monospace\">Reward variance in batch: 0.0000\n",
       "</pre>\n"
      ],
      "text/plain": [
       "Reward variance in batch: 0.0000\n"
      ]
     },
     "metadata": {},
     "output_type": "display_data"
    },
    {
     "data": {
      "text/html": [
       "<pre style=\"white-space:pre;overflow-x:auto;line-height:normal;font-family:Menlo,'DejaVu Sans Mono',consolas,'Courier New',monospace\">Trained DQN model with loss: 101.4195\n",
       "</pre>\n"
      ],
      "text/plain": [
       "Trained DQN model with loss: 101.4195\n"
      ]
     },
     "metadata": {},
     "output_type": "display_data"
    },
    {
     "data": {
      "text/html": [
       "<pre style=\"white-space:pre;overflow-x:auto;line-height:normal;font-family:Menlo,'DejaVu Sans Mono',consolas,'Courier New',monospace\">Avg pred: -0.1168, Avg target: 9.9508\n",
       "</pre>\n"
      ],
      "text/plain": [
       "Avg pred: -0.1168, Avg target: 9.9508\n"
      ]
     },
     "metadata": {},
     "output_type": "display_data"
    },
    {
     "data": {
      "text/html": [
       "<pre style=\"white-space:pre;overflow-x:auto;line-height:normal;font-family:Menlo,'DejaVu Sans Mono',consolas,'Courier New',monospace\"></pre>\n"
      ],
      "text/plain": []
     },
     "metadata": {},
     "output_type": "display_data"
    },
    {
     "data": {
      "text/html": [
       "<pre style=\"white-space:pre;overflow-x:auto;line-height:normal;font-family:Menlo,'DejaVu Sans Mono',consolas,'Courier New',monospace\">\n",
       "</pre>\n"
      ],
      "text/plain": [
       "\n"
      ]
     },
     "metadata": {},
     "output_type": "display_data"
    },
    {
     "data": {
      "text/html": [
       "<pre style=\"white-space:pre;overflow-x:auto;line-height:normal;font-family:Menlo,'DejaVu Sans Mono',consolas,'Courier New',monospace\"><span style=\"font-style: italic\">                                      Last 10 Games                                      </span>\n",
       "     ╷                       ╷       ╷         ╷           ╷          ╷        ╷         \n",
       " <span style=\"font-weight: bold\">  # </span>│<span style=\"font-weight: bold\"> SEATING               </span>│<span style=\"font-weight: bold\"> TURNS </span>│<span style=\"font-weight: bold\"> BLUE VP </span>│<span style=\"font-weight: bold\"> ORANGE VP </span>│<span style=\"font-weight: bold\"> WHITE VP </span>│<span style=\"font-weight: bold\"> RED VP </span>│<span style=\"font-weight: bold\"> WINNER </span> \n",
       "╶────┼───────────────────────┼───────┼─────────┼───────────┼──────────┼────────┼────────╴\n",
       "   1 │ <span style=\"color: #000080; text-decoration-color: #000080\">BLUE</span>,<span style=\"color: #808000; text-decoration-color: #808000\">ORANGE</span>,<span style=\"color: #c0c0c0; text-decoration-color: #c0c0c0\">WHITE</span>,<span style=\"color: #800000; text-decoration-color: #800000\">RED</span> │   362 │      10 │         7 │        9 │      8 │ <span style=\"color: #000080; text-decoration-color: #000080\">BLUE</span>    \n",
       "   2 │ <span style=\"color: #800000; text-decoration-color: #800000\">RED</span>,<span style=\"color: #c0c0c0; text-decoration-color: #c0c0c0\">WHITE</span>,<span style=\"color: #808000; text-decoration-color: #808000\">ORANGE</span>,<span style=\"color: #000080; text-decoration-color: #000080\">BLUE</span> │   211 │       4 │         3 │       10 │      2 │ <span style=\"color: #c0c0c0; text-decoration-color: #c0c0c0\">WHITE</span>   \n",
       "   3 │ <span style=\"color: #000080; text-decoration-color: #000080\">BLUE</span>,<span style=\"color: #c0c0c0; text-decoration-color: #c0c0c0\">WHITE</span>,<span style=\"color: #808000; text-decoration-color: #808000\">ORANGE</span>,<span style=\"color: #800000; text-decoration-color: #800000\">RED</span> │   300 │       3 │        10 │        7 │      3 │ <span style=\"color: #808000; text-decoration-color: #808000\">ORANGE</span>  \n",
       "   4 │ <span style=\"color: #c0c0c0; text-decoration-color: #c0c0c0\">WHITE</span>,<span style=\"color: #808000; text-decoration-color: #808000\">ORANGE</span>,<span style=\"color: #000080; text-decoration-color: #000080\">BLUE</span>,<span style=\"color: #800000; text-decoration-color: #800000\">RED</span> │   715 │       9 │        10 │        9 │      3 │ <span style=\"color: #808000; text-decoration-color: #808000\">ORANGE</span>  \n",
       "   5 │ <span style=\"color: #c0c0c0; text-decoration-color: #c0c0c0\">WHITE</span>,<span style=\"color: #808000; text-decoration-color: #808000\">ORANGE</span>,<span style=\"color: #000080; text-decoration-color: #000080\">BLUE</span>,<span style=\"color: #800000; text-decoration-color: #800000\">RED</span> │   311 │       2 │        10 │        6 │      3 │ <span style=\"color: #808000; text-decoration-color: #808000\">ORANGE</span>  \n",
       "   6 │ <span style=\"color: #808000; text-decoration-color: #808000\">ORANGE</span>,<span style=\"color: #800000; text-decoration-color: #800000\">RED</span>,<span style=\"color: #000080; text-decoration-color: #000080\">BLUE</span>,<span style=\"color: #c0c0c0; text-decoration-color: #c0c0c0\">WHITE</span> │   160 │      10 │         2 │        2 │      2 │ <span style=\"color: #000080; text-decoration-color: #000080\">BLUE</span>    \n",
       "   7 │ <span style=\"color: #c0c0c0; text-decoration-color: #c0c0c0\">WHITE</span>,<span style=\"color: #800000; text-decoration-color: #800000\">RED</span>,<span style=\"color: #808000; text-decoration-color: #808000\">ORANGE</span>,<span style=\"color: #000080; text-decoration-color: #000080\">BLUE</span> │   192 │       2 │        10 │        7 │      2 │ <span style=\"color: #808000; text-decoration-color: #808000\">ORANGE</span>  \n",
       "   8 │ <span style=\"color: #c0c0c0; text-decoration-color: #c0c0c0\">WHITE</span>,<span style=\"color: #800000; text-decoration-color: #800000\">RED</span>,<span style=\"color: #808000; text-decoration-color: #808000\">ORANGE</span>,<span style=\"color: #000080; text-decoration-color: #000080\">BLUE</span> │   200 │       2 │        10 │        4 │      3 │ <span style=\"color: #808000; text-decoration-color: #808000\">ORANGE</span>  \n",
       "   9 │ <span style=\"color: #c0c0c0; text-decoration-color: #c0c0c0\">WHITE</span>,<span style=\"color: #800000; text-decoration-color: #800000\">RED</span>,<span style=\"color: #808000; text-decoration-color: #808000\">ORANGE</span>,<span style=\"color: #000080; text-decoration-color: #000080\">BLUE</span> │   204 │       2 │        10 │        4 │      2 │ <span style=\"color: #808000; text-decoration-color: #808000\">ORANGE</span>  \n",
       "  10 │ <span style=\"color: #c0c0c0; text-decoration-color: #c0c0c0\">WHITE</span>,<span style=\"color: #808000; text-decoration-color: #808000\">ORANGE</span>,<span style=\"color: #800000; text-decoration-color: #800000\">RED</span>,<span style=\"color: #000080; text-decoration-color: #000080\">BLUE</span> │   238 │       5 │         4 │       10 │      2 │ <span style=\"color: #c0c0c0; text-decoration-color: #c0c0c0\">WHITE</span>   \n",
       "     ╵                       ╵       ╵         ╵           ╵          ╵        ╵         \n",
       "</pre>\n"
      ],
      "text/plain": [
       "\u001b[3m                                      Last 10 Games                                      \u001b[0m\n",
       "     ╷                       ╷       ╷         ╷           ╷          ╷        ╷         \n",
       " \u001b[1m \u001b[0m\u001b[1m #\u001b[0m\u001b[1m \u001b[0m│\u001b[1m \u001b[0m\u001b[1mSEATING              \u001b[0m\u001b[1m \u001b[0m│\u001b[1m \u001b[0m\u001b[1mTURNS\u001b[0m\u001b[1m \u001b[0m│\u001b[1m \u001b[0m\u001b[1mBLUE VP\u001b[0m\u001b[1m \u001b[0m│\u001b[1m \u001b[0m\u001b[1mORANGE VP\u001b[0m\u001b[1m \u001b[0m│\u001b[1m \u001b[0m\u001b[1mWHITE VP\u001b[0m\u001b[1m \u001b[0m│\u001b[1m \u001b[0m\u001b[1mRED VP\u001b[0m\u001b[1m \u001b[0m│\u001b[1m \u001b[0m\u001b[1mWINNER\u001b[0m\u001b[1m \u001b[0m \n",
       "╶────┼───────────────────────┼───────┼─────────┼───────────┼──────────┼────────┼────────╴\n",
       "   1 │ \u001b[34mBLUE\u001b[0m,\u001b[33mORANGE\u001b[0m,\u001b[37mWHITE\u001b[0m,\u001b[31mRED\u001b[0m │   362 │      10 │         7 │        9 │      8 │ \u001b[34mBLUE\u001b[0m    \n",
       "   2 │ \u001b[31mRED\u001b[0m,\u001b[37mWHITE\u001b[0m,\u001b[33mORANGE\u001b[0m,\u001b[34mBLUE\u001b[0m │   211 │       4 │         3 │       10 │      2 │ \u001b[37mWHITE\u001b[0m   \n",
       "   3 │ \u001b[34mBLUE\u001b[0m,\u001b[37mWHITE\u001b[0m,\u001b[33mORANGE\u001b[0m,\u001b[31mRED\u001b[0m │   300 │       3 │        10 │        7 │      3 │ \u001b[33mORANGE\u001b[0m  \n",
       "   4 │ \u001b[37mWHITE\u001b[0m,\u001b[33mORANGE\u001b[0m,\u001b[34mBLUE\u001b[0m,\u001b[31mRED\u001b[0m │   715 │       9 │        10 │        9 │      3 │ \u001b[33mORANGE\u001b[0m  \n",
       "   5 │ \u001b[37mWHITE\u001b[0m,\u001b[33mORANGE\u001b[0m,\u001b[34mBLUE\u001b[0m,\u001b[31mRED\u001b[0m │   311 │       2 │        10 │        6 │      3 │ \u001b[33mORANGE\u001b[0m  \n",
       "   6 │ \u001b[33mORANGE\u001b[0m,\u001b[31mRED\u001b[0m,\u001b[34mBLUE\u001b[0m,\u001b[37mWHITE\u001b[0m │   160 │      10 │         2 │        2 │      2 │ \u001b[34mBLUE\u001b[0m    \n",
       "   7 │ \u001b[37mWHITE\u001b[0m,\u001b[31mRED\u001b[0m,\u001b[33mORANGE\u001b[0m,\u001b[34mBLUE\u001b[0m │   192 │       2 │        10 │        7 │      2 │ \u001b[33mORANGE\u001b[0m  \n",
       "   8 │ \u001b[37mWHITE\u001b[0m,\u001b[31mRED\u001b[0m,\u001b[33mORANGE\u001b[0m,\u001b[34mBLUE\u001b[0m │   200 │       2 │        10 │        4 │      3 │ \u001b[33mORANGE\u001b[0m  \n",
       "   9 │ \u001b[37mWHITE\u001b[0m,\u001b[31mRED\u001b[0m,\u001b[33mORANGE\u001b[0m,\u001b[34mBLUE\u001b[0m │   204 │       2 │        10 │        4 │      2 │ \u001b[33mORANGE\u001b[0m  \n",
       "  10 │ \u001b[37mWHITE\u001b[0m,\u001b[33mORANGE\u001b[0m,\u001b[31mRED\u001b[0m,\u001b[34mBLUE\u001b[0m │   238 │       5 │         4 │       10 │      2 │ \u001b[37mWHITE\u001b[0m   \n",
       "     ╵                       ╵       ╵         ╵           ╵          ╵        ╵         \n"
      ]
     },
     "metadata": {},
     "output_type": "display_data"
    },
    {
     "data": {
      "text/html": [
       "<pre style=\"white-space:pre;overflow-x:auto;line-height:normal;font-family:Menlo,'DejaVu Sans Mono',consolas,'Courier New',monospace\"><span style=\"font-style: italic\">                                               Player Summary                                                </span>\n",
       "                              ╷      ╷        ╷             ╷            ╷          ╷          ╷             \n",
       " <span style=\"font-weight: bold\">                             </span>│<span style=\"font-weight: bold\"> WINS </span>│<span style=\"font-weight: bold\"> AVG VP </span>│<span style=\"font-weight: bold\"> AVG SETTLES </span>│<span style=\"font-weight: bold\"> AVG CITIES </span>│<span style=\"font-weight: bold\"> AVG ROAD </span>│<span style=\"font-weight: bold\"> AVG ARMY </span>│<span style=\"font-weight: bold\"> AVG DEV VP </span> \n",
       "╶─────────────────────────────┼──────┼────────┼─────────────┼────────────┼──────────┼──────────┼────────────╴\n",
       "  <span style=\"color: #000080; text-decoration-color: #000080\">RandomPlayer:BLUE</span>           │    2 │   4.90 │        1.80 │       1.10 │     0.10 │     0.10 │       0.50  \n",
       "  <span style=\"color: #808000; text-decoration-color: #808000\">WeightedRandomPlayer:ORANGE</span> │    6 │   7.60 │        2.00 │       1.30 │     0.30 │     0.40 │       1.60  \n",
       "  <span style=\"color: #c0c0c0; text-decoration-color: #c0c0c0\">WeightedRandomPlayer:WHITE</span>  │    2 │   6.80 │        3.30 │       0.40 │     0.40 │     0.40 │       1.10  \n",
       "  <span style=\"color: #800000; text-decoration-color: #800000\">AB_DQNPlayer_1:RED</span>          │    0 │   3.00 │        1.50 │       0.50 │     0.10 │     0.00 │       0.30  \n",
       "                              ╵      ╵        ╵             ╵            ╵          ╵          ╵             \n",
       "</pre>\n"
      ],
      "text/plain": [
       "\u001b[3m                                               Player Summary                                                \u001b[0m\n",
       "                              ╷      ╷        ╷             ╷            ╷          ╷          ╷             \n",
       " \u001b[1m \u001b[0m\u001b[1m                           \u001b[0m\u001b[1m \u001b[0m│\u001b[1m \u001b[0m\u001b[1mWINS\u001b[0m\u001b[1m \u001b[0m│\u001b[1m \u001b[0m\u001b[1mAVG VP\u001b[0m\u001b[1m \u001b[0m│\u001b[1m \u001b[0m\u001b[1mAVG SETTLES\u001b[0m\u001b[1m \u001b[0m│\u001b[1m \u001b[0m\u001b[1mAVG CITIES\u001b[0m\u001b[1m \u001b[0m│\u001b[1m \u001b[0m\u001b[1mAVG ROAD\u001b[0m\u001b[1m \u001b[0m│\u001b[1m \u001b[0m\u001b[1mAVG ARMY\u001b[0m\u001b[1m \u001b[0m│\u001b[1m \u001b[0m\u001b[1mAVG DEV VP\u001b[0m\u001b[1m \u001b[0m \n",
       "╶─────────────────────────────┼──────┼────────┼─────────────┼────────────┼──────────┼──────────┼────────────╴\n",
       "  \u001b[34mRandomPlayer:BLUE\u001b[0m           │    2 │   4.90 │        1.80 │       1.10 │     0.10 │     0.10 │       0.50  \n",
       "  \u001b[33mWeightedRandomPlayer:ORANGE\u001b[0m │    6 │   7.60 │        2.00 │       1.30 │     0.30 │     0.40 │       1.60  \n",
       "  \u001b[37mWeightedRandomPlayer:WHITE\u001b[0m  │    2 │   6.80 │        3.30 │       0.40 │     0.40 │     0.40 │       1.10  \n",
       "  \u001b[31mAB_DQNPlayer_1:RED\u001b[0m          │    0 │   3.00 │        1.50 │       0.50 │     0.10 │     0.00 │       0.30  \n",
       "                              ╵      ╵        ╵             ╵            ╵          ╵          ╵             \n"
      ]
     },
     "metadata": {},
     "output_type": "display_data"
    },
    {
     "data": {
      "text/html": [
       "<pre style=\"white-space:pre;overflow-x:auto;line-height:normal;font-family:Menlo,'DejaVu Sans Mono',consolas,'Courier New',monospace\"><span style=\"font-style: italic\">              Game Summary              </span>\n",
       "            ╷           ╷               \n",
       " <span style=\"font-weight: bold\"> AVG TICKS </span>│<span style=\"font-weight: bold\"> AVG TURNS </span>│<span style=\"font-weight: bold\"> AVG DURATION </span> \n",
       "╶───────────┼───────────┼──────────────╴\n",
       "     843.80 │    289.30 │  12.676 secs  \n",
       "            ╵           ╵               \n",
       "</pre>\n"
      ],
      "text/plain": [
       "\u001b[3m              Game Summary              \u001b[0m\n",
       "            ╷           ╷               \n",
       " \u001b[1m \u001b[0m\u001b[1mAVG TICKS\u001b[0m\u001b[1m \u001b[0m│\u001b[1m \u001b[0m\u001b[1mAVG TURNS\u001b[0m\u001b[1m \u001b[0m│\u001b[1m \u001b[0m\u001b[1mAVG DURATION\u001b[0m\u001b[1m \u001b[0m \n",
       "╶───────────┼───────────┼──────────────╴\n",
       "     843.80 │    289.30 │  12.676 secs  \n",
       "            ╵           ╵               \n"
      ]
     },
     "metadata": {},
     "output_type": "display_data"
    }
   ],
   "source": [
    "from catanatron_experimental.play import play_batch\n",
    "import random\n",
    "\n",
    "\n",
    "num_batches = 50\n",
    "games_per_batch = 10\n",
    "ab_threshold = 40  # AlphaBeta allowed after 40 batches\n",
    "weighted_threshold = 20  # WeightedRandom allowed after 20 batches\n",
    "\n",
    "def curriculum_player_selector(batch_num, color, ab_used):\n",
    "    choices = []\n",
    "\n",
    "    # Phase 1: only random\n",
    "    if batch_num < weighted_threshold:\n",
    "        choices = [RandomPlayer]\n",
    "    # Phase 2: random + weighted\n",
    "    elif batch_num < ab_threshold:\n",
    "        choices = [RandomPlayer, WeightedRandomPlayer]\n",
    "    # Phase 3: add AlphaBeta (only 1 per game)\n",
    "    else:\n",
    "        choices = [RandomPlayer, WeightedRandomPlayer]\n",
    "        if not ab_used:\n",
    "            choices.append(AlphaBetaPlayer)\n",
    "\n",
    "    cls = random.choice(choices)\n",
    "    return cls(color), isinstance(cls, AlphaBetaPlayer)\n",
    "\n",
    "all_wins = []\n",
    "\n",
    "for batch in range(num_batches):\n",
    "    players = []\n",
    "    ab_used = False\n",
    "\n",
    "    for color in [Color.WHITE, Color.ORANGE, Color.BLUE]:\n",
    "        player, is_ab = curriculum_player_selector(batch, color, ab_used)\n",
    "        players.append(player)\n",
    "        ab_used = ab_used or is_ab\n",
    "\n",
    "    players.append(AB_DQNPlayer_1(Color.RED))  # Always include the DQN agent\n",
    "    random.shuffle(players)\n",
    "\n",
    "    print(f\"Batch {batch + 1}/{num_batches}: Playing {games_per_batch} games\")\n",
    "    wins, _, _ = play_batch(games_per_batch, players)\n",
    "    all_wins.append(wins)"
   ]
  },
  {
   "cell_type": "markdown",
   "id": "c1e64f53-26dc-40d4-ae7c-1410355617e8",
   "metadata": {},
   "source": [
    "You can inspect the game states in a variety of ways and compute statistics"
   ]
  }
 ],
 "metadata": {
  "kernelspec": {
   "display_name": "catan311",
   "language": "python",
   "name": "python3"
  },
  "language_info": {
   "codemirror_mode": {
    "name": "ipython",
    "version": 3
   },
   "file_extension": ".py",
   "mimetype": "text/x-python",
   "name": "python",
   "nbconvert_exporter": "python",
   "pygments_lexer": "ipython3",
   "version": "3.11.11"
  }
 },
 "nbformat": 4,
 "nbformat_minor": 5
}
