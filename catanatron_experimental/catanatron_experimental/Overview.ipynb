{
 "cells": [
  {
   "cell_type": "markdown",
   "id": "38540cf7-9b4f-4c98-9abb-952c84443f1d",
   "metadata": {},
   "source": [
    "# Catanatron Introduction\n",
    "This shows example usage of Catanatron. First, clone the repo and install requirements."
   ]
  },
  {
   "cell_type": "code",
   "execution_count": null,
   "id": "3be394e4-9bcd-46bb-892b-7538ad3b2e55",
   "metadata": {},
   "outputs": [],
   "source": [
    "%pip install -r catanatron/dev-requirements.txt\n",
    "%pip install -e catanatron/catanatron_core\n",
    "%pip install -e catanatron/catanatron_server\n",
    "%pip install -e catanatron/catanatron_gym\n",
    "%pip install -e catanatron/catanatron_experimental\n",
    "exit() # Forcefully restart runtime to picks up installed requirements"
   ]
  },
  {
   "cell_type": "code",
   "execution_count": 1,
   "id": "65228753",
   "metadata": {},
   "outputs": [
    {
     "name": "stdout",
     "output_type": "stream",
     "text": [
      "Obtaining file:///C:/Users/SAM/CODE/catan_atron/catanatron/catanatron_experimental/catanatron_experimental/catanatron/catanatron_experimental\n",
      "  Preparing metadata (setup.py): started\n",
      "  Preparing metadata (setup.py): finished with status 'done'\n",
      "Requirement already satisfied: rich in c:\\users\\sam\\anaconda3\\envs\\catan311\\lib\\site-packages (from catanatron_experimental==1.0.0) (13.3.2)\n",
      "Requirement already satisfied: markdown-it-py<3.0.0,>=2.2.0 in c:\\users\\sam\\anaconda3\\envs\\catan311\\lib\\site-packages (from rich->catanatron_experimental==1.0.0) (2.2.0)\n",
      "Requirement already satisfied: pygments<3.0.0,>=2.13.0 in c:\\users\\sam\\anaconda3\\envs\\catan311\\lib\\site-packages (from rich->catanatron_experimental==1.0.0) (2.14.0)\n",
      "Requirement already satisfied: mdurl~=0.1 in c:\\users\\sam\\anaconda3\\envs\\catan311\\lib\\site-packages (from markdown-it-py<3.0.0,>=2.2.0->rich->catanatron_experimental==1.0.0) (0.1.2)\n",
      "Installing collected packages: catanatron_experimental\n",
      "  Attempting uninstall: catanatron_experimental\n",
      "    Found existing installation: catanatron_experimental 1.0.0\n",
      "    Uninstalling catanatron_experimental-1.0.0:\n",
      "      Successfully uninstalled catanatron_experimental-1.0.0\n",
      "  Running setup.py develop for catanatron_experimental\n",
      "Successfully installed catanatron_experimental-1.0.0\n",
      "Note: you may need to restart the kernel to use updated packages.\n"
     ]
    },
    {
     "name": "stderr",
     "output_type": "stream",
     "text": [
      "  DEPRECATION: Legacy editable install of catanatron_experimental==1.0.0 from file:///C:/Users/SAM/CODE/catan_atron/catanatron/catanatron_experimental/catanatron_experimental/catanatron/catanatron_experimental (setup.py develop) is deprecated. pip 25.1 will enforce this behaviour change. A possible replacement is to add a pyproject.toml or enable --use-pep517, and use setuptools >= 64. If the resulting installation is not behaving as expected, try using --config-settings editable_mode=compat. Please consult the setuptools documentation for more information. Discussion can be found at https://github.com/pypa/pip/issues/11457\n"
     ]
    }
   ],
   "source": [
    "%pip install -e catanatron/catanatron_experimental\n"
   ]
  },
  {
   "cell_type": "code",
   "execution_count": 1,
   "id": "4f56dcbc",
   "metadata": {},
   "outputs": [
    {
     "name": "stdout",
     "output_type": "stream",
     "text": [
      "Requirement already satisfied: tensorflow in c:\\users\\sam\\anaconda3\\envs\\catan311\\lib\\site-packages (2.19.0)\n",
      "Requirement already satisfied: absl-py>=1.0.0 in c:\\users\\sam\\anaconda3\\envs\\catan311\\lib\\site-packages (from tensorflow) (2.2.2)\n",
      "Requirement already satisfied: astunparse>=1.6.0 in c:\\users\\sam\\anaconda3\\envs\\catan311\\lib\\site-packages (from tensorflow) (1.6.3)\n",
      "Requirement already satisfied: flatbuffers>=24.3.25 in c:\\users\\sam\\anaconda3\\envs\\catan311\\lib\\site-packages (from tensorflow) (25.2.10)\n",
      "Requirement already satisfied: gast!=0.5.0,!=0.5.1,!=0.5.2,>=0.2.1 in c:\\users\\sam\\anaconda3\\envs\\catan311\\lib\\site-packages (from tensorflow) (0.6.0)\n",
      "Requirement already satisfied: google-pasta>=0.1.1 in c:\\users\\sam\\anaconda3\\envs\\catan311\\lib\\site-packages (from tensorflow) (0.2.0)\n",
      "Requirement already satisfied: libclang>=13.0.0 in c:\\users\\sam\\anaconda3\\envs\\catan311\\lib\\site-packages (from tensorflow) (18.1.1)\n",
      "Requirement already satisfied: opt-einsum>=2.3.2 in c:\\users\\sam\\anaconda3\\envs\\catan311\\lib\\site-packages (from tensorflow) (3.4.0)\n",
      "Requirement already satisfied: packaging in c:\\users\\sam\\anaconda3\\envs\\catan311\\lib\\site-packages (from tensorflow) (24.1)\n",
      "Requirement already satisfied: protobuf!=4.21.0,!=4.21.1,!=4.21.2,!=4.21.3,!=4.21.4,!=4.21.5,<6.0.0dev,>=3.20.3 in c:\\users\\sam\\anaconda3\\envs\\catan311\\lib\\site-packages (from tensorflow) (5.29.4)\n",
      "Requirement already satisfied: requests<3,>=2.21.0 in c:\\users\\sam\\anaconda3\\envs\\catan311\\lib\\site-packages (from tensorflow) (2.28.2)\n",
      "Requirement already satisfied: setuptools in c:\\users\\sam\\anaconda3\\envs\\catan311\\lib\\site-packages (from tensorflow) (75.8.0)\n",
      "Requirement already satisfied: six>=1.12.0 in c:\\users\\sam\\anaconda3\\envs\\catan311\\lib\\site-packages (from tensorflow) (1.16.0)\n",
      "Requirement already satisfied: termcolor>=1.1.0 in c:\\users\\sam\\anaconda3\\envs\\catan311\\lib\\site-packages (from tensorflow) (3.1.0)\n",
      "Requirement already satisfied: typing-extensions>=3.6.6 in c:\\users\\sam\\anaconda3\\envs\\catan311\\lib\\site-packages (from tensorflow) (4.13.2)\n",
      "Requirement already satisfied: wrapt>=1.11.0 in c:\\users\\sam\\anaconda3\\envs\\catan311\\lib\\site-packages (from tensorflow) (1.17.2)\n",
      "Requirement already satisfied: grpcio<2.0,>=1.24.3 in c:\\users\\sam\\anaconda3\\envs\\catan311\\lib\\site-packages (from tensorflow) (1.71.0)\n",
      "Requirement already satisfied: tensorboard~=2.19.0 in c:\\users\\sam\\anaconda3\\envs\\catan311\\lib\\site-packages (from tensorflow) (2.19.0)\n",
      "Requirement already satisfied: keras>=3.5.0 in c:\\users\\sam\\anaconda3\\envs\\catan311\\lib\\site-packages (from tensorflow) (3.9.2)\n",
      "Requirement already satisfied: numpy<2.2.0,>=1.26.0 in c:\\users\\sam\\anaconda3\\envs\\catan311\\lib\\site-packages (from tensorflow) (2.1.3)\n",
      "Requirement already satisfied: h5py>=3.11.0 in c:\\users\\sam\\anaconda3\\envs\\catan311\\lib\\site-packages (from tensorflow) (3.13.0)\n",
      "Requirement already satisfied: ml-dtypes<1.0.0,>=0.5.1 in c:\\users\\sam\\anaconda3\\envs\\catan311\\lib\\site-packages (from tensorflow) (0.5.1)\n",
      "Requirement already satisfied: tensorflow-io-gcs-filesystem>=0.23.1 in c:\\users\\sam\\anaconda3\\envs\\catan311\\lib\\site-packages (from tensorflow) (0.31.0)\n",
      "Requirement already satisfied: wheel<1.0,>=0.23.0 in c:\\users\\sam\\anaconda3\\envs\\catan311\\lib\\site-packages (from astunparse>=1.6.0->tensorflow) (0.45.1)\n",
      "Requirement already satisfied: rich in c:\\users\\sam\\anaconda3\\envs\\catan311\\lib\\site-packages (from keras>=3.5.0->tensorflow) (13.3.2)\n",
      "Requirement already satisfied: namex in c:\\users\\sam\\anaconda3\\envs\\catan311\\lib\\site-packages (from keras>=3.5.0->tensorflow) (0.0.9)\n",
      "Requirement already satisfied: optree in c:\\users\\sam\\anaconda3\\envs\\catan311\\lib\\site-packages (from keras>=3.5.0->tensorflow) (0.15.0)\n",
      "Requirement already satisfied: charset-normalizer<4,>=2 in c:\\users\\sam\\anaconda3\\envs\\catan311\\lib\\site-packages (from requests<3,>=2.21.0->tensorflow) (3.1.0)\n",
      "Requirement already satisfied: idna<4,>=2.5 in c:\\users\\sam\\anaconda3\\envs\\catan311\\lib\\site-packages (from requests<3,>=2.21.0->tensorflow) (3.4)\n",
      "Requirement already satisfied: urllib3<1.27,>=1.21.1 in c:\\users\\sam\\anaconda3\\envs\\catan311\\lib\\site-packages (from requests<3,>=2.21.0->tensorflow) (1.26.15)\n",
      "Requirement already satisfied: certifi>=2017.4.17 in c:\\users\\sam\\anaconda3\\envs\\catan311\\lib\\site-packages (from requests<3,>=2.21.0->tensorflow) (2022.12.7)\n",
      "Requirement already satisfied: markdown>=2.6.8 in c:\\users\\sam\\anaconda3\\envs\\catan311\\lib\\site-packages (from tensorboard~=2.19.0->tensorflow) (3.8)\n",
      "Requirement already satisfied: tensorboard-data-server<0.8.0,>=0.7.0 in c:\\users\\sam\\anaconda3\\envs\\catan311\\lib\\site-packages (from tensorboard~=2.19.0->tensorflow) (0.7.2)\n",
      "Requirement already satisfied: werkzeug>=1.0.1 in c:\\users\\sam\\anaconda3\\envs\\catan311\\lib\\site-packages (from tensorboard~=2.19.0->tensorflow) (2.2.3)\n",
      "Requirement already satisfied: MarkupSafe>=2.1.1 in c:\\users\\sam\\anaconda3\\envs\\catan311\\lib\\site-packages (from werkzeug>=1.0.1->tensorboard~=2.19.0->tensorflow) (2.1.2)\n",
      "Requirement already satisfied: markdown-it-py<3.0.0,>=2.2.0 in c:\\users\\sam\\anaconda3\\envs\\catan311\\lib\\site-packages (from rich->keras>=3.5.0->tensorflow) (2.2.0)\n",
      "Requirement already satisfied: pygments<3.0.0,>=2.13.0 in c:\\users\\sam\\anaconda3\\envs\\catan311\\lib\\site-packages (from rich->keras>=3.5.0->tensorflow) (2.14.0)\n",
      "Requirement already satisfied: mdurl~=0.1 in c:\\users\\sam\\anaconda3\\envs\\catan311\\lib\\site-packages (from markdown-it-py<3.0.0,>=2.2.0->rich->keras>=3.5.0->tensorflow) (0.1.2)\n",
      "Note: you may need to restart the kernel to use updated packages.\n",
      "Found existing installation: pandas 2.2.3\n",
      "Uninstalling pandas-2.2.3:\n",
      "  Successfully uninstalled pandas-2.2.3\n",
      "Found existing installation: numpy 2.1.3\n",
      "Uninstalling numpy-2.1.3:\n",
      "  Successfully uninstalled numpy-2.1.3\n",
      "Note: you may need to restart the kernel to use updated packages.\n",
      "Collecting numpy\n",
      "  Downloading numpy-2.2.6-cp311-cp311-win_amd64.whl.metadata (60 kB)\n",
      "Collecting pandas\n",
      "  Downloading pandas-2.2.3-cp311-cp311-win_amd64.whl.metadata (19 kB)\n",
      "Requirement already satisfied: python-dateutil>=2.8.2 in c:\\users\\sam\\anaconda3\\envs\\catan311\\lib\\site-packages (from pandas) (2.8.2)\n",
      "Requirement already satisfied: pytz>=2020.1 in c:\\users\\sam\\anaconda3\\envs\\catan311\\lib\\site-packages (from pandas) (2022.7.1)\n",
      "Requirement already satisfied: tzdata>=2022.7 in c:\\users\\sam\\anaconda3\\envs\\catan311\\lib\\site-packages (from pandas) (2025.2)\n",
      "Requirement already satisfied: six>=1.5 in c:\\users\\sam\\anaconda3\\envs\\catan311\\lib\\site-packages (from python-dateutil>=2.8.2->pandas) (1.16.0)\n",
      "Downloading numpy-2.2.6-cp311-cp311-win_amd64.whl (12.9 MB)\n",
      "   ---------------------------------------- 0.0/12.9 MB ? eta -:--:--\n",
      "   ---------------- ----------------------- 5.2/12.9 MB 29.0 MB/s eta 0:00:01\n",
      "   --------------------- ------------------ 7.1/12.9 MB 19.0 MB/s eta 0:00:01\n",
      "   ------------------------ --------------- 7.9/12.9 MB 14.3 MB/s eta 0:00:01\n",
      "   ------------------------- -------------- 8.1/12.9 MB 12.0 MB/s eta 0:00:01\n",
      "   -------------------------- ------------- 8.7/12.9 MB 8.5 MB/s eta 0:00:01\n",
      "   --------------------------- ------------ 8.9/12.9 MB 7.6 MB/s eta 0:00:01\n",
      "   ---------------------------- ----------- 9.2/12.9 MB 6.7 MB/s eta 0:00:01\n",
      "   ----------------------------- ---------- 9.4/12.9 MB 6.2 MB/s eta 0:00:01\n",
      "   ------------------------------ --------- 10.0/12.9 MB 5.5 MB/s eta 0:00:01\n",
      "   -------------------------------- ------- 10.5/12.9 MB 5.2 MB/s eta 0:00:01\n",
      "   --------------------------------- ------ 10.7/12.9 MB 4.8 MB/s eta 0:00:01\n",
      "   ---------------------------------- ----- 11.0/12.9 MB 4.6 MB/s eta 0:00:01\n",
      "   ----------------------------------- ---- 11.5/12.9 MB 4.3 MB/s eta 0:00:01\n",
      "   ------------------------------------ --- 11.8/12.9 MB 4.2 MB/s eta 0:00:01\n",
      "   ------------------------------------- -- 12.1/12.9 MB 4.1 MB/s eta 0:00:01\n",
      "   -------------------------------------- - 12.3/12.9 MB 3.9 MB/s eta 0:00:01\n",
      "   -------------------------------------- - 12.6/12.9 MB 3.7 MB/s eta 0:00:01\n",
      "   ---------------------------------------- 12.9/12.9 MB 3.5 MB/s eta 0:00:00\n",
      "Downloading pandas-2.2.3-cp311-cp311-win_amd64.whl (11.6 MB)\n",
      "   ---------------------------------------- 0.0/11.6 MB ? eta -:--:--\n",
      "    --------------------------------------- 0.3/11.6 MB ? eta -:--:--\n",
      "   - -------------------------------------- 0.5/11.6 MB 1.3 MB/s eta 0:00:09\n",
      "   -- ------------------------------------- 0.8/11.6 MB 1.5 MB/s eta 0:00:08\n",
      "   ----- ---------------------------------- 1.6/11.6 MB 2.1 MB/s eta 0:00:05\n",
      "   ------- -------------------------------- 2.1/11.6 MB 2.3 MB/s eta 0:00:05\n",
      "   --------- ------------------------------ 2.9/11.6 MB 2.5 MB/s eta 0:00:04\n",
      "   ---------- ----------------------------- 3.1/11.6 MB 2.6 MB/s eta 0:00:04\n",
      "   ------------ --------------------------- 3.7/11.6 MB 2.3 MB/s eta 0:00:04\n",
      "   ------------ --------------------------- 3.7/11.6 MB 2.3 MB/s eta 0:00:04\n",
      "   -------------- ------------------------- 4.2/11.6 MB 2.1 MB/s eta 0:00:04\n",
      "   ---------------- ----------------------- 4.7/11.6 MB 2.2 MB/s eta 0:00:04\n",
      "   ------------------ --------------------- 5.2/11.6 MB 2.2 MB/s eta 0:00:03\n",
      "   ------------------- -------------------- 5.8/11.6 MB 2.3 MB/s eta 0:00:03\n",
      "   -------------------- ------------------- 6.0/11.6 MB 2.3 MB/s eta 0:00:03\n",
      "   ---------------------- ----------------- 6.6/11.6 MB 2.2 MB/s eta 0:00:03\n",
      "   ----------------------- ---------------- 6.8/11.6 MB 2.2 MB/s eta 0:00:03\n",
      "   ------------------------- -------------- 7.3/11.6 MB 2.2 MB/s eta 0:00:02\n",
      "   -------------------------- ------------- 7.6/11.6 MB 2.1 MB/s eta 0:00:02\n",
      "   --------------------------- ------------ 7.9/11.6 MB 2.1 MB/s eta 0:00:02\n",
      "   ---------------------------- ----------- 8.4/11.6 MB 2.1 MB/s eta 0:00:02\n",
      "   ---------------------------- ----------- 8.4/11.6 MB 2.1 MB/s eta 0:00:02\n",
      "   ----------------------------- ---------- 8.7/11.6 MB 2.0 MB/s eta 0:00:02\n",
      "   ------------------------------ --------- 8.9/11.6 MB 2.0 MB/s eta 0:00:02\n",
      "   ------------------------------- -------- 9.2/11.6 MB 1.9 MB/s eta 0:00:02\n",
      "   -------------------------------- ------- 9.4/11.6 MB 1.9 MB/s eta 0:00:02\n",
      "   ---------------------------------- ----- 10.0/11.6 MB 1.9 MB/s eta 0:00:01\n",
      "   ----------------------------------- ---- 10.2/11.6 MB 1.9 MB/s eta 0:00:01\n",
      "   ------------------------------------- -- 10.7/11.6 MB 1.9 MB/s eta 0:00:01\n",
      "   -------------------------------------- - 11.3/11.6 MB 1.9 MB/s eta 0:00:01\n",
      "   ---------------------------------------- 11.6/11.6 MB 1.9 MB/s eta 0:00:00\n",
      "Installing collected packages: numpy, pandas\n",
      "Successfully installed numpy-2.2.6 pandas-2.2.3\n",
      "Note: you may need to restart the kernel to use updated packages.\n"
     ]
    },
    {
     "name": "stderr",
     "output_type": "stream",
     "text": [
      "ERROR: pip's dependency resolver does not currently take into account all the packages that are installed. This behaviour is the source of the following dependency conflicts.\n",
      "tensorflow 2.19.0 requires numpy<2.2.0,>=1.26.0, but you have numpy 2.2.6 which is incompatible.\n"
     ]
    },
    {
     "name": "stdout",
     "output_type": "stream",
     "text": [
      "Collecting numpy<2.2.0,>=1.26.0\n",
      "  Using cached numpy-2.1.3-cp311-cp311-win_amd64.whl.metadata (60 kB)\n",
      "Using cached numpy-2.1.3-cp311-cp311-win_amd64.whl (12.9 MB)\n",
      "Installing collected packages: numpy\n",
      "  Attempting uninstall: numpy\n",
      "    Found existing installation: numpy 2.2.6\n",
      "    Uninstalling numpy-2.2.6:\n",
      "      Successfully uninstalled numpy-2.2.6\n",
      "Successfully installed numpy-2.1.3\n",
      "Note: you may need to restart the kernel to use updated packages.\n",
      "Requirement already satisfied: torch in c:\\users\\sam\\anaconda3\\envs\\catan311\\lib\\site-packages (2.5.1+cu121)\n",
      "Requirement already satisfied: filelock in c:\\users\\sam\\anaconda3\\envs\\catan311\\lib\\site-packages (from torch) (3.18.0)\n",
      "Requirement already satisfied: typing-extensions>=4.8.0 in c:\\users\\sam\\anaconda3\\envs\\catan311\\lib\\site-packages (from torch) (4.13.2)\n",
      "Requirement already satisfied: networkx in c:\\users\\sam\\anaconda3\\envs\\catan311\\lib\\site-packages (from torch) (3.0)\n",
      "Requirement already satisfied: jinja2 in c:\\users\\sam\\anaconda3\\envs\\catan311\\lib\\site-packages (from torch) (3.1.2)\n",
      "Requirement already satisfied: fsspec in c:\\users\\sam\\anaconda3\\envs\\catan311\\lib\\site-packages (from torch) (2025.3.2)\n",
      "Requirement already satisfied: sympy==1.13.1 in c:\\users\\sam\\anaconda3\\envs\\catan311\\lib\\site-packages (from torch) (1.13.1)\n",
      "Requirement already satisfied: mpmath<1.4,>=1.1.0 in c:\\users\\sam\\anaconda3\\envs\\catan311\\lib\\site-packages (from sympy==1.13.1->torch) (1.3.0)\n",
      "Requirement already satisfied: MarkupSafe>=2.0 in c:\\users\\sam\\anaconda3\\envs\\catan311\\lib\\site-packages (from jinja2->torch) (2.1.2)\n",
      "Note: you may need to restart the kernel to use updated packages.\n"
     ]
    }
   ],
   "source": [
    "%pip install tensorflow \n",
    "%pip uninstall pandas numpy -y\n",
    "%pip install --no-cache-dir numpy pandas\n",
    "%pip install \"numpy>=1.26.0,<2.2.0\"\n",
    "%pip install torch\n"
   ]
  },
  {
   "cell_type": "code",
   "execution_count": 1,
   "id": "dd32b2b1",
   "metadata": {},
   "outputs": [
    {
     "name": "stdout",
     "output_type": "stream",
     "text": [
      "Found existing installation: torch 2.5.1+cu121\n",
      "Uninstalling torch-2.5.1+cu121:\n",
      "  Successfully uninstalled torch-2.5.1+cu121\n",
      "Found existing installation: torchvision 0.20.1+cu121\n",
      "Uninstalling torchvision-0.20.1+cu121:\n",
      "  Successfully uninstalled torchvision-0.20.1+cu121\n",
      "Found existing installation: torchaudio 2.5.1+cu121\n",
      "Uninstalling torchaudio-2.5.1+cu121:\n",
      "  Successfully uninstalled torchaudio-2.5.1+cu121\n",
      "Note: you may need to restart the kernel to use updated packages.\n",
      "Looking in indexes: https://download.pytorch.org/whl/cu121\n",
      "Collecting torch\n",
      "  Using cached https://download.pytorch.org/whl/cu121/torch-2.5.1%2Bcu121-cp311-cp311-win_amd64.whl (2449.4 MB)\n",
      "Collecting torchvision\n",
      "  Using cached https://download.pytorch.org/whl/cu121/torchvision-0.20.1%2Bcu121-cp311-cp311-win_amd64.whl (6.1 MB)\n",
      "Collecting torchaudio\n",
      "  Using cached https://download.pytorch.org/whl/cu121/torchaudio-2.5.1%2Bcu121-cp311-cp311-win_amd64.whl (4.1 MB)\n",
      "Requirement already satisfied: filelock in c:\\users\\sam\\anaconda3\\envs\\catan311\\lib\\site-packages (from torch) (3.18.0)\n",
      "Requirement already satisfied: typing-extensions>=4.8.0 in c:\\users\\sam\\anaconda3\\envs\\catan311\\lib\\site-packages (from torch) (4.13.2)\n",
      "Requirement already satisfied: networkx in c:\\users\\sam\\anaconda3\\envs\\catan311\\lib\\site-packages (from torch) (3.0)\n",
      "Requirement already satisfied: jinja2 in c:\\users\\sam\\anaconda3\\envs\\catan311\\lib\\site-packages (from torch) (3.1.2)\n",
      "Requirement already satisfied: fsspec in c:\\users\\sam\\anaconda3\\envs\\catan311\\lib\\site-packages (from torch) (2025.3.2)\n",
      "Requirement already satisfied: sympy==1.13.1 in c:\\users\\sam\\anaconda3\\envs\\catan311\\lib\\site-packages (from torch) (1.13.1)\n",
      "Requirement already satisfied: mpmath<1.4,>=1.1.0 in c:\\users\\sam\\anaconda3\\envs\\catan311\\lib\\site-packages (from sympy==1.13.1->torch) (1.3.0)\n",
      "Requirement already satisfied: numpy in c:\\users\\sam\\anaconda3\\envs\\catan311\\lib\\site-packages (from torchvision) (2.1.3)\n",
      "Requirement already satisfied: pillow!=8.3.*,>=5.3.0 in c:\\users\\sam\\anaconda3\\envs\\catan311\\lib\\site-packages (from torchvision) (11.0.0)\n",
      "Requirement already satisfied: MarkupSafe>=2.0 in c:\\users\\sam\\anaconda3\\envs\\catan311\\lib\\site-packages (from jinja2->torch) (2.1.2)\n",
      "Installing collected packages: torch, torchvision, torchaudio\n",
      "Successfully installed torch-2.5.1+cu121 torchaudio-2.5.1+cu121 torchvision-0.20.1+cu121\n",
      "Note: you may need to restart the kernel to use updated packages.\n"
     ]
    }
   ],
   "source": [
    "%pip uninstall torch torchvision torchaudio -y\n",
    "%pip install torch torchvision torchaudio --index-url https://download.pytorch.org/whl/cu121\n"
   ]
  },
  {
   "cell_type": "code",
   "execution_count": 1,
   "id": "c362339e",
   "metadata": {},
   "outputs": [
    {
     "name": "stdout",
     "output_type": "stream",
     "text": [
      "True\n",
      "NVIDIA GeForce RTX 2060 SUPER\n"
     ]
    }
   ],
   "source": [
    "import torch\n",
    "print(torch.cuda.is_available())\n",
    "print(torch.cuda.get_device_name(0) if torch.cuda.is_available() else \"No GPU detected\")\n"
   ]
  },
  {
   "cell_type": "markdown",
   "id": "5ef8f5a2-feb0-49d3-a2b5-a9f1c462db5d",
   "metadata": {},
   "source": [
    "Then, you can implement your own bot strategy and pit against some benchmark bots."
   ]
  },
  {
   "cell_type": "code",
   "execution_count": 2,
   "id": "ef40e33f-8937-4918-b626-d70a2615e7aa",
   "metadata": {},
   "outputs": [],
   "source": [
    "import random\n",
    "\n",
    "from catanatron.game import Game\n",
    "from catanatron.models.player import Player, RandomPlayer, Color\n",
    "from machine_learning.players.online_mcts_dqn import OnlineMCTSDQNPlayer_1\n",
    "from machine_learning.players.apl_beta_dqn import AB_DQNPlayer_1\n",
    "from catanatron_experimental.machine_learning.players.minimax import AlphaBetaPlayer\n",
    "\n",
    "from catanatron.players.weighted_random import WeightedRandomPlayer\n"
   ]
  },
  {
   "cell_type": "code",
   "execution_count": 3,
   "id": "2bfdf5cd",
   "metadata": {},
   "outputs": [
    {
     "name": "stdout",
     "output_type": "stream",
     "text": [
      "['BANK_BRICK', 'BANK_DEV_CARDS', 'BANK_ORE', 'BANK_SHEEP', 'BANK_WHEAT', 'BANK_WOOD', 'EDGE(0, 1)_P0_ROAD', 'EDGE(0, 1)_P1_ROAD', 'EDGE(0, 1)_P2_ROAD', 'EDGE(0, 1)_P3_ROAD', 'EDGE(0, 20)_P0_ROAD', 'EDGE(0, 20)_P1_ROAD', 'EDGE(0, 20)_P2_ROAD', 'EDGE(0, 20)_P3_ROAD', 'EDGE(0, 5)_P0_ROAD', 'EDGE(0, 5)_P1_ROAD', 'EDGE(0, 5)_P2_ROAD', 'EDGE(0, 5)_P3_ROAD', 'EDGE(1, 2)_P0_ROAD', 'EDGE(1, 2)_P1_ROAD', 'EDGE(1, 2)_P2_ROAD', 'EDGE(1, 2)_P3_ROAD', 'EDGE(1, 6)_P0_ROAD', 'EDGE(1, 6)_P1_ROAD', 'EDGE(1, 6)_P2_ROAD', 'EDGE(1, 6)_P3_ROAD', 'EDGE(10, 11)_P0_ROAD', 'EDGE(10, 11)_P1_ROAD', 'EDGE(10, 11)_P2_ROAD', 'EDGE(10, 11)_P3_ROAD', 'EDGE(10, 29)_P0_ROAD', 'EDGE(10, 29)_P1_ROAD', 'EDGE(10, 29)_P2_ROAD', 'EDGE(10, 29)_P3_ROAD', 'EDGE(11, 12)_P0_ROAD', 'EDGE(11, 12)_P1_ROAD', 'EDGE(11, 12)_P2_ROAD', 'EDGE(11, 12)_P3_ROAD', 'EDGE(11, 32)_P0_ROAD', 'EDGE(11, 32)_P1_ROAD', 'EDGE(11, 32)_P2_ROAD', 'EDGE(11, 32)_P3_ROAD', 'EDGE(12, 13)_P0_ROAD', 'EDGE(12, 13)_P1_ROAD', 'EDGE(12, 13)_P2_ROAD', 'EDGE(12, 13)_P3_ROAD', 'EDGE(13, 14)_P0_ROAD', 'EDGE(13, 14)_P1_ROAD', 'EDGE(13, 14)_P2_ROAD', 'EDGE(13, 14)_P3_ROAD', 'EDGE(13, 34)_P0_ROAD', 'EDGE(13, 34)_P1_ROAD', 'EDGE(13, 34)_P2_ROAD', 'EDGE(13, 34)_P3_ROAD', 'EDGE(14, 15)_P0_ROAD', 'EDGE(14, 15)_P1_ROAD', 'EDGE(14, 15)_P2_ROAD', 'EDGE(14, 15)_P3_ROAD', 'EDGE(14, 37)_P0_ROAD', 'EDGE(14, 37)_P1_ROAD', 'EDGE(14, 37)_P2_ROAD', 'EDGE(14, 37)_P3_ROAD', 'EDGE(15, 17)_P0_ROAD', 'EDGE(15, 17)_P1_ROAD', 'EDGE(15, 17)_P2_ROAD', 'EDGE(15, 17)_P3_ROAD', 'EDGE(16, 18)_P0_ROAD', 'EDGE(16, 18)_P1_ROAD', 'EDGE(16, 18)_P2_ROAD', 'EDGE(16, 18)_P3_ROAD', 'EDGE(16, 21)_P0_ROAD', 'EDGE(16, 21)_P1_ROAD', 'EDGE(16, 21)_P2_ROAD', 'EDGE(16, 21)_P3_ROAD', 'EDGE(17, 18)_P0_ROAD', 'EDGE(17, 18)_P1_ROAD', 'EDGE(17, 18)_P2_ROAD', 'EDGE(17, 18)_P3_ROAD', 'EDGE(17, 39)_P0_ROAD', 'EDGE(17, 39)_P1_ROAD', 'EDGE(17, 39)_P2_ROAD', 'EDGE(17, 39)_P3_ROAD', 'EDGE(18, 40)_P0_ROAD', 'EDGE(18, 40)_P1_ROAD', 'EDGE(18, 40)_P2_ROAD', 'EDGE(18, 40)_P3_ROAD', 'EDGE(19, 20)_P0_ROAD', 'EDGE(19, 20)_P1_ROAD', 'EDGE(19, 20)_P2_ROAD', 'EDGE(19, 20)_P3_ROAD', 'EDGE(19, 21)_P0_ROAD', 'EDGE(19, 21)_P1_ROAD', 'EDGE(19, 21)_P2_ROAD', 'EDGE(19, 21)_P3_ROAD', 'EDGE(19, 46)_P0_ROAD', 'EDGE(19, 46)_P1_ROAD', 'EDGE(19, 46)_P2_ROAD', 'EDGE(19, 46)_P3_ROAD', 'EDGE(2, 3)_P0_ROAD', 'EDGE(2, 3)_P1_ROAD', 'EDGE(2, 3)_P2_ROAD', 'EDGE(2, 3)_P3_ROAD', 'EDGE(2, 9)_P0_ROAD', 'EDGE(2, 9)_P1_ROAD', 'EDGE(2, 9)_P2_ROAD', 'EDGE(2, 9)_P3_ROAD', 'EDGE(20, 22)_P0_ROAD', 'EDGE(20, 22)_P1_ROAD', 'EDGE(20, 22)_P2_ROAD', 'EDGE(20, 22)_P3_ROAD', 'EDGE(21, 43)_P0_ROAD', 'EDGE(21, 43)_P1_ROAD', 'EDGE(21, 43)_P2_ROAD', 'EDGE(21, 43)_P3_ROAD', 'EDGE(22, 23)_P0_ROAD', 'EDGE(22, 23)_P1_ROAD', 'EDGE(22, 23)_P2_ROAD', 'EDGE(22, 23)_P3_ROAD', 'EDGE(22, 49)_P0_ROAD', 'EDGE(22, 49)_P1_ROAD', 'EDGE(22, 49)_P2_ROAD', 'EDGE(22, 49)_P3_ROAD', 'EDGE(23, 52)_P0_ROAD', 'EDGE(23, 52)_P1_ROAD', 'EDGE(23, 52)_P2_ROAD', 'EDGE(23, 52)_P3_ROAD', 'EDGE(24, 25)_P0_ROAD', 'EDGE(24, 25)_P1_ROAD', 'EDGE(24, 25)_P2_ROAD', 'EDGE(24, 25)_P3_ROAD', 'EDGE(24, 53)_P0_ROAD', 'EDGE(24, 53)_P1_ROAD', 'EDGE(24, 53)_P2_ROAD', 'EDGE(24, 53)_P3_ROAD', 'EDGE(25, 26)_P0_ROAD', 'EDGE(25, 26)_P1_ROAD', 'EDGE(25, 26)_P2_ROAD', 'EDGE(25, 26)_P3_ROAD', 'EDGE(26, 27)_P0_ROAD', 'EDGE(26, 27)_P1_ROAD', 'EDGE(26, 27)_P2_ROAD', 'EDGE(26, 27)_P3_ROAD', 'EDGE(27, 28)_P0_ROAD', 'EDGE(27, 28)_P1_ROAD', 'EDGE(27, 28)_P2_ROAD', 'EDGE(27, 28)_P3_ROAD', 'EDGE(28, 29)_P0_ROAD', 'EDGE(28, 29)_P1_ROAD', 'EDGE(28, 29)_P2_ROAD', 'EDGE(28, 29)_P3_ROAD', 'EDGE(29, 30)_P0_ROAD', 'EDGE(29, 30)_P1_ROAD', 'EDGE(29, 30)_P2_ROAD', 'EDGE(29, 30)_P3_ROAD', 'EDGE(3, 12)_P0_ROAD', 'EDGE(3, 12)_P1_ROAD', 'EDGE(3, 12)_P2_ROAD', 'EDGE(3, 12)_P3_ROAD', 'EDGE(3, 4)_P0_ROAD', 'EDGE(3, 4)_P1_ROAD', 'EDGE(3, 4)_P2_ROAD', 'EDGE(3, 4)_P3_ROAD', 'EDGE(30, 31)_P0_ROAD', 'EDGE(30, 31)_P1_ROAD', 'EDGE(30, 31)_P2_ROAD', 'EDGE(30, 31)_P3_ROAD', 'EDGE(31, 32)_P0_ROAD', 'EDGE(31, 32)_P1_ROAD', 'EDGE(31, 32)_P2_ROAD', 'EDGE(31, 32)_P3_ROAD', 'EDGE(32, 33)_P0_ROAD', 'EDGE(32, 33)_P1_ROAD', 'EDGE(32, 33)_P2_ROAD', 'EDGE(32, 33)_P3_ROAD', 'EDGE(33, 34)_P0_ROAD', 'EDGE(33, 34)_P1_ROAD', 'EDGE(33, 34)_P2_ROAD', 'EDGE(33, 34)_P3_ROAD', 'EDGE(34, 35)_P0_ROAD', 'EDGE(34, 35)_P1_ROAD', 'EDGE(34, 35)_P2_ROAD', 'EDGE(34, 35)_P3_ROAD', 'EDGE(35, 36)_P0_ROAD', 'EDGE(35, 36)_P1_ROAD', 'EDGE(35, 36)_P2_ROAD', 'EDGE(35, 36)_P3_ROAD', 'EDGE(36, 37)_P0_ROAD', 'EDGE(36, 37)_P1_ROAD', 'EDGE(36, 37)_P2_ROAD', 'EDGE(36, 37)_P3_ROAD', 'EDGE(37, 38)_P0_ROAD', 'EDGE(37, 38)_P1_ROAD', 'EDGE(37, 38)_P2_ROAD', 'EDGE(37, 38)_P3_ROAD', 'EDGE(38, 39)_P0_ROAD', 'EDGE(38, 39)_P1_ROAD', 'EDGE(38, 39)_P2_ROAD', 'EDGE(38, 39)_P3_ROAD', 'EDGE(39, 41)_P0_ROAD', 'EDGE(39, 41)_P1_ROAD', 'EDGE(39, 41)_P2_ROAD', 'EDGE(39, 41)_P3_ROAD', 'EDGE(4, 15)_P0_ROAD', 'EDGE(4, 15)_P1_ROAD', 'EDGE(4, 15)_P2_ROAD', 'EDGE(4, 15)_P3_ROAD', 'EDGE(4, 5)_P0_ROAD', 'EDGE(4, 5)_P1_ROAD', 'EDGE(4, 5)_P2_ROAD', 'EDGE(4, 5)_P3_ROAD', 'EDGE(40, 42)_P0_ROAD', 'EDGE(40, 42)_P1_ROAD', 'EDGE(40, 42)_P2_ROAD', 'EDGE(40, 42)_P3_ROAD', 'EDGE(40, 44)_P0_ROAD', 'EDGE(40, 44)_P1_ROAD', 'EDGE(40, 44)_P2_ROAD', 'EDGE(40, 44)_P3_ROAD', 'EDGE(41, 42)_P0_ROAD', 'EDGE(41, 42)_P1_ROAD', 'EDGE(41, 42)_P2_ROAD', 'EDGE(41, 42)_P3_ROAD', 'EDGE(43, 44)_P0_ROAD', 'EDGE(43, 44)_P1_ROAD', 'EDGE(43, 44)_P2_ROAD', 'EDGE(43, 44)_P3_ROAD', 'EDGE(43, 47)_P0_ROAD', 'EDGE(43, 47)_P1_ROAD', 'EDGE(43, 47)_P2_ROAD', 'EDGE(43, 47)_P3_ROAD', 'EDGE(45, 46)_P0_ROAD', 'EDGE(45, 46)_P1_ROAD', 'EDGE(45, 46)_P2_ROAD', 'EDGE(45, 46)_P3_ROAD', 'EDGE(45, 47)_P0_ROAD', 'EDGE(45, 47)_P1_ROAD', 'EDGE(45, 47)_P2_ROAD', 'EDGE(45, 47)_P3_ROAD', 'EDGE(46, 48)_P0_ROAD', 'EDGE(46, 48)_P1_ROAD', 'EDGE(46, 48)_P2_ROAD', 'EDGE(46, 48)_P3_ROAD', 'EDGE(48, 49)_P0_ROAD', 'EDGE(48, 49)_P1_ROAD', 'EDGE(48, 49)_P2_ROAD', 'EDGE(48, 49)_P3_ROAD', 'EDGE(49, 50)_P0_ROAD', 'EDGE(49, 50)_P1_ROAD', 'EDGE(49, 50)_P2_ROAD', 'EDGE(49, 50)_P3_ROAD', 'EDGE(5, 16)_P0_ROAD', 'EDGE(5, 16)_P1_ROAD', 'EDGE(5, 16)_P2_ROAD', 'EDGE(5, 16)_P3_ROAD', 'EDGE(50, 51)_P0_ROAD', 'EDGE(50, 51)_P1_ROAD', 'EDGE(50, 51)_P2_ROAD', 'EDGE(50, 51)_P3_ROAD', 'EDGE(51, 52)_P0_ROAD', 'EDGE(51, 52)_P1_ROAD', 'EDGE(51, 52)_P2_ROAD', 'EDGE(51, 52)_P3_ROAD', 'EDGE(52, 53)_P0_ROAD', 'EDGE(52, 53)_P1_ROAD', 'EDGE(52, 53)_P2_ROAD', 'EDGE(52, 53)_P3_ROAD', 'EDGE(6, 23)_P0_ROAD', 'EDGE(6, 23)_P1_ROAD', 'EDGE(6, 23)_P2_ROAD', 'EDGE(6, 23)_P3_ROAD', 'EDGE(6, 7)_P0_ROAD', 'EDGE(6, 7)_P1_ROAD', 'EDGE(6, 7)_P2_ROAD', 'EDGE(6, 7)_P3_ROAD', 'EDGE(7, 24)_P0_ROAD', 'EDGE(7, 24)_P1_ROAD', 'EDGE(7, 24)_P2_ROAD', 'EDGE(7, 24)_P3_ROAD', 'EDGE(7, 8)_P0_ROAD', 'EDGE(7, 8)_P1_ROAD', 'EDGE(7, 8)_P2_ROAD', 'EDGE(7, 8)_P3_ROAD', 'EDGE(8, 27)_P0_ROAD', 'EDGE(8, 27)_P1_ROAD', 'EDGE(8, 27)_P2_ROAD', 'EDGE(8, 27)_P3_ROAD', 'EDGE(8, 9)_P0_ROAD', 'EDGE(8, 9)_P1_ROAD', 'EDGE(8, 9)_P2_ROAD', 'EDGE(8, 9)_P3_ROAD', 'EDGE(9, 10)_P0_ROAD', 'EDGE(9, 10)_P1_ROAD', 'EDGE(9, 10)_P2_ROAD', 'EDGE(9, 10)_P3_ROAD', 'IS_DISCARDING', 'IS_MOVING_ROBBER', 'NODE0_P0_CITY', 'NODE0_P0_SETTLEMENT', 'NODE0_P1_CITY', 'NODE0_P1_SETTLEMENT', 'NODE0_P2_CITY', 'NODE0_P2_SETTLEMENT', 'NODE0_P3_CITY', 'NODE0_P3_SETTLEMENT', 'NODE10_P0_CITY', 'NODE10_P0_SETTLEMENT', 'NODE10_P1_CITY', 'NODE10_P1_SETTLEMENT', 'NODE10_P2_CITY', 'NODE10_P2_SETTLEMENT', 'NODE10_P3_CITY', 'NODE10_P3_SETTLEMENT', 'NODE11_P0_CITY', 'NODE11_P0_SETTLEMENT', 'NODE11_P1_CITY', 'NODE11_P1_SETTLEMENT', 'NODE11_P2_CITY', 'NODE11_P2_SETTLEMENT', 'NODE11_P3_CITY', 'NODE11_P3_SETTLEMENT', 'NODE12_P0_CITY', 'NODE12_P0_SETTLEMENT', 'NODE12_P1_CITY', 'NODE12_P1_SETTLEMENT', 'NODE12_P2_CITY', 'NODE12_P2_SETTLEMENT', 'NODE12_P3_CITY', 'NODE12_P3_SETTLEMENT', 'NODE13_P0_CITY', 'NODE13_P0_SETTLEMENT', 'NODE13_P1_CITY', 'NODE13_P1_SETTLEMENT', 'NODE13_P2_CITY', 'NODE13_P2_SETTLEMENT', 'NODE13_P3_CITY', 'NODE13_P3_SETTLEMENT', 'NODE14_P0_CITY', 'NODE14_P0_SETTLEMENT', 'NODE14_P1_CITY', 'NODE14_P1_SETTLEMENT', 'NODE14_P2_CITY', 'NODE14_P2_SETTLEMENT', 'NODE14_P3_CITY', 'NODE14_P3_SETTLEMENT', 'NODE15_P0_CITY', 'NODE15_P0_SETTLEMENT', 'NODE15_P1_CITY', 'NODE15_P1_SETTLEMENT', 'NODE15_P2_CITY', 'NODE15_P2_SETTLEMENT', 'NODE15_P3_CITY', 'NODE15_P3_SETTLEMENT', 'NODE16_P0_CITY', 'NODE16_P0_SETTLEMENT', 'NODE16_P1_CITY', 'NODE16_P1_SETTLEMENT', 'NODE16_P2_CITY', 'NODE16_P2_SETTLEMENT', 'NODE16_P3_CITY', 'NODE16_P3_SETTLEMENT', 'NODE17_P0_CITY', 'NODE17_P0_SETTLEMENT', 'NODE17_P1_CITY', 'NODE17_P1_SETTLEMENT', 'NODE17_P2_CITY', 'NODE17_P2_SETTLEMENT', 'NODE17_P3_CITY', 'NODE17_P3_SETTLEMENT', 'NODE18_P0_CITY', 'NODE18_P0_SETTLEMENT', 'NODE18_P1_CITY', 'NODE18_P1_SETTLEMENT', 'NODE18_P2_CITY', 'NODE18_P2_SETTLEMENT', 'NODE18_P3_CITY', 'NODE18_P3_SETTLEMENT', 'NODE19_P0_CITY', 'NODE19_P0_SETTLEMENT', 'NODE19_P1_CITY', 'NODE19_P1_SETTLEMENT', 'NODE19_P2_CITY', 'NODE19_P2_SETTLEMENT', 'NODE19_P3_CITY', 'NODE19_P3_SETTLEMENT', 'NODE1_P0_CITY', 'NODE1_P0_SETTLEMENT', 'NODE1_P1_CITY', 'NODE1_P1_SETTLEMENT', 'NODE1_P2_CITY', 'NODE1_P2_SETTLEMENT', 'NODE1_P3_CITY', 'NODE1_P3_SETTLEMENT', 'NODE20_P0_CITY', 'NODE20_P0_SETTLEMENT', 'NODE20_P1_CITY', 'NODE20_P1_SETTLEMENT', 'NODE20_P2_CITY', 'NODE20_P2_SETTLEMENT', 'NODE20_P3_CITY', 'NODE20_P3_SETTLEMENT', 'NODE21_P0_CITY', 'NODE21_P0_SETTLEMENT', 'NODE21_P1_CITY', 'NODE21_P1_SETTLEMENT', 'NODE21_P2_CITY', 'NODE21_P2_SETTLEMENT', 'NODE21_P3_CITY', 'NODE21_P3_SETTLEMENT', 'NODE22_P0_CITY', 'NODE22_P0_SETTLEMENT', 'NODE22_P1_CITY', 'NODE22_P1_SETTLEMENT', 'NODE22_P2_CITY', 'NODE22_P2_SETTLEMENT', 'NODE22_P3_CITY', 'NODE22_P3_SETTLEMENT', 'NODE23_P0_CITY', 'NODE23_P0_SETTLEMENT', 'NODE23_P1_CITY', 'NODE23_P1_SETTLEMENT', 'NODE23_P2_CITY', 'NODE23_P2_SETTLEMENT', 'NODE23_P3_CITY', 'NODE23_P3_SETTLEMENT', 'NODE24_P0_CITY', 'NODE24_P0_SETTLEMENT', 'NODE24_P1_CITY', 'NODE24_P1_SETTLEMENT', 'NODE24_P2_CITY', 'NODE24_P2_SETTLEMENT', 'NODE24_P3_CITY', 'NODE24_P3_SETTLEMENT', 'NODE25_P0_CITY', 'NODE25_P0_SETTLEMENT', 'NODE25_P1_CITY', 'NODE25_P1_SETTLEMENT', 'NODE25_P2_CITY', 'NODE25_P2_SETTLEMENT', 'NODE25_P3_CITY', 'NODE25_P3_SETTLEMENT', 'NODE26_P0_CITY', 'NODE26_P0_SETTLEMENT', 'NODE26_P1_CITY', 'NODE26_P1_SETTLEMENT', 'NODE26_P2_CITY', 'NODE26_P2_SETTLEMENT', 'NODE26_P3_CITY', 'NODE26_P3_SETTLEMENT', 'NODE27_P0_CITY', 'NODE27_P0_SETTLEMENT', 'NODE27_P1_CITY', 'NODE27_P1_SETTLEMENT', 'NODE27_P2_CITY', 'NODE27_P2_SETTLEMENT', 'NODE27_P3_CITY', 'NODE27_P3_SETTLEMENT', 'NODE28_P0_CITY', 'NODE28_P0_SETTLEMENT', 'NODE28_P1_CITY', 'NODE28_P1_SETTLEMENT', 'NODE28_P2_CITY', 'NODE28_P2_SETTLEMENT', 'NODE28_P3_CITY', 'NODE28_P3_SETTLEMENT', 'NODE29_P0_CITY', 'NODE29_P0_SETTLEMENT', 'NODE29_P1_CITY', 'NODE29_P1_SETTLEMENT', 'NODE29_P2_CITY', 'NODE29_P2_SETTLEMENT', 'NODE29_P3_CITY', 'NODE29_P3_SETTLEMENT', 'NODE2_P0_CITY', 'NODE2_P0_SETTLEMENT', 'NODE2_P1_CITY', 'NODE2_P1_SETTLEMENT', 'NODE2_P2_CITY', 'NODE2_P2_SETTLEMENT', 'NODE2_P3_CITY', 'NODE2_P3_SETTLEMENT', 'NODE30_P0_CITY', 'NODE30_P0_SETTLEMENT', 'NODE30_P1_CITY', 'NODE30_P1_SETTLEMENT', 'NODE30_P2_CITY', 'NODE30_P2_SETTLEMENT', 'NODE30_P3_CITY', 'NODE30_P3_SETTLEMENT', 'NODE31_P0_CITY', 'NODE31_P0_SETTLEMENT', 'NODE31_P1_CITY', 'NODE31_P1_SETTLEMENT', 'NODE31_P2_CITY', 'NODE31_P2_SETTLEMENT', 'NODE31_P3_CITY', 'NODE31_P3_SETTLEMENT', 'NODE32_P0_CITY', 'NODE32_P0_SETTLEMENT', 'NODE32_P1_CITY', 'NODE32_P1_SETTLEMENT', 'NODE32_P2_CITY', 'NODE32_P2_SETTLEMENT', 'NODE32_P3_CITY', 'NODE32_P3_SETTLEMENT', 'NODE33_P0_CITY', 'NODE33_P0_SETTLEMENT', 'NODE33_P1_CITY', 'NODE33_P1_SETTLEMENT', 'NODE33_P2_CITY', 'NODE33_P2_SETTLEMENT', 'NODE33_P3_CITY', 'NODE33_P3_SETTLEMENT', 'NODE34_P0_CITY', 'NODE34_P0_SETTLEMENT', 'NODE34_P1_CITY', 'NODE34_P1_SETTLEMENT', 'NODE34_P2_CITY', 'NODE34_P2_SETTLEMENT', 'NODE34_P3_CITY', 'NODE34_P3_SETTLEMENT', 'NODE35_P0_CITY', 'NODE35_P0_SETTLEMENT', 'NODE35_P1_CITY', 'NODE35_P1_SETTLEMENT', 'NODE35_P2_CITY', 'NODE35_P2_SETTLEMENT', 'NODE35_P3_CITY', 'NODE35_P3_SETTLEMENT', 'NODE36_P0_CITY', 'NODE36_P0_SETTLEMENT', 'NODE36_P1_CITY', 'NODE36_P1_SETTLEMENT', 'NODE36_P2_CITY', 'NODE36_P2_SETTLEMENT', 'NODE36_P3_CITY', 'NODE36_P3_SETTLEMENT', 'NODE37_P0_CITY', 'NODE37_P0_SETTLEMENT', 'NODE37_P1_CITY', 'NODE37_P1_SETTLEMENT', 'NODE37_P2_CITY', 'NODE37_P2_SETTLEMENT', 'NODE37_P3_CITY', 'NODE37_P3_SETTLEMENT', 'NODE38_P0_CITY', 'NODE38_P0_SETTLEMENT', 'NODE38_P1_CITY', 'NODE38_P1_SETTLEMENT', 'NODE38_P2_CITY', 'NODE38_P2_SETTLEMENT', 'NODE38_P3_CITY', 'NODE38_P3_SETTLEMENT', 'NODE39_P0_CITY', 'NODE39_P0_SETTLEMENT', 'NODE39_P1_CITY', 'NODE39_P1_SETTLEMENT', 'NODE39_P2_CITY', 'NODE39_P2_SETTLEMENT', 'NODE39_P3_CITY', 'NODE39_P3_SETTLEMENT', 'NODE3_P0_CITY', 'NODE3_P0_SETTLEMENT', 'NODE3_P1_CITY', 'NODE3_P1_SETTLEMENT', 'NODE3_P2_CITY', 'NODE3_P2_SETTLEMENT', 'NODE3_P3_CITY', 'NODE3_P3_SETTLEMENT', 'NODE40_P0_CITY', 'NODE40_P0_SETTLEMENT', 'NODE40_P1_CITY', 'NODE40_P1_SETTLEMENT', 'NODE40_P2_CITY', 'NODE40_P2_SETTLEMENT', 'NODE40_P3_CITY', 'NODE40_P3_SETTLEMENT', 'NODE41_P0_CITY', 'NODE41_P0_SETTLEMENT', 'NODE41_P1_CITY', 'NODE41_P1_SETTLEMENT', 'NODE41_P2_CITY', 'NODE41_P2_SETTLEMENT', 'NODE41_P3_CITY', 'NODE41_P3_SETTLEMENT', 'NODE42_P0_CITY', 'NODE42_P0_SETTLEMENT', 'NODE42_P1_CITY', 'NODE42_P1_SETTLEMENT', 'NODE42_P2_CITY', 'NODE42_P2_SETTLEMENT', 'NODE42_P3_CITY', 'NODE42_P3_SETTLEMENT', 'NODE43_P0_CITY', 'NODE43_P0_SETTLEMENT', 'NODE43_P1_CITY', 'NODE43_P1_SETTLEMENT', 'NODE43_P2_CITY', 'NODE43_P2_SETTLEMENT', 'NODE43_P3_CITY', 'NODE43_P3_SETTLEMENT', 'NODE44_P0_CITY', 'NODE44_P0_SETTLEMENT', 'NODE44_P1_CITY', 'NODE44_P1_SETTLEMENT', 'NODE44_P2_CITY', 'NODE44_P2_SETTLEMENT', 'NODE44_P3_CITY', 'NODE44_P3_SETTLEMENT', 'NODE45_P0_CITY', 'NODE45_P0_SETTLEMENT', 'NODE45_P1_CITY', 'NODE45_P1_SETTLEMENT', 'NODE45_P2_CITY', 'NODE45_P2_SETTLEMENT', 'NODE45_P3_CITY', 'NODE45_P3_SETTLEMENT', 'NODE46_P0_CITY', 'NODE46_P0_SETTLEMENT', 'NODE46_P1_CITY', 'NODE46_P1_SETTLEMENT', 'NODE46_P2_CITY', 'NODE46_P2_SETTLEMENT', 'NODE46_P3_CITY', 'NODE46_P3_SETTLEMENT', 'NODE47_P0_CITY', 'NODE47_P0_SETTLEMENT', 'NODE47_P1_CITY', 'NODE47_P1_SETTLEMENT', 'NODE47_P2_CITY', 'NODE47_P2_SETTLEMENT', 'NODE47_P3_CITY', 'NODE47_P3_SETTLEMENT', 'NODE48_P0_CITY', 'NODE48_P0_SETTLEMENT', 'NODE48_P1_CITY', 'NODE48_P1_SETTLEMENT', 'NODE48_P2_CITY', 'NODE48_P2_SETTLEMENT', 'NODE48_P3_CITY', 'NODE48_P3_SETTLEMENT', 'NODE49_P0_CITY', 'NODE49_P0_SETTLEMENT', 'NODE49_P1_CITY', 'NODE49_P1_SETTLEMENT', 'NODE49_P2_CITY', 'NODE49_P2_SETTLEMENT', 'NODE49_P3_CITY', 'NODE49_P3_SETTLEMENT', 'NODE4_P0_CITY', 'NODE4_P0_SETTLEMENT', 'NODE4_P1_CITY', 'NODE4_P1_SETTLEMENT', 'NODE4_P2_CITY', 'NODE4_P2_SETTLEMENT', 'NODE4_P3_CITY', 'NODE4_P3_SETTLEMENT', 'NODE50_P0_CITY', 'NODE50_P0_SETTLEMENT', 'NODE50_P1_CITY', 'NODE50_P1_SETTLEMENT', 'NODE50_P2_CITY', 'NODE50_P2_SETTLEMENT', 'NODE50_P3_CITY', 'NODE50_P3_SETTLEMENT', 'NODE51_P0_CITY', 'NODE51_P0_SETTLEMENT', 'NODE51_P1_CITY', 'NODE51_P1_SETTLEMENT', 'NODE51_P2_CITY', 'NODE51_P2_SETTLEMENT', 'NODE51_P3_CITY', 'NODE51_P3_SETTLEMENT', 'NODE52_P0_CITY', 'NODE52_P0_SETTLEMENT', 'NODE52_P1_CITY', 'NODE52_P1_SETTLEMENT', 'NODE52_P2_CITY', 'NODE52_P2_SETTLEMENT', 'NODE52_P3_CITY', 'NODE52_P3_SETTLEMENT', 'NODE53_P0_CITY', 'NODE53_P0_SETTLEMENT', 'NODE53_P1_CITY', 'NODE53_P1_SETTLEMENT', 'NODE53_P2_CITY', 'NODE53_P2_SETTLEMENT', 'NODE53_P3_CITY', 'NODE53_P3_SETTLEMENT', 'NODE5_P0_CITY', 'NODE5_P0_SETTLEMENT', 'NODE5_P1_CITY', 'NODE5_P1_SETTLEMENT', 'NODE5_P2_CITY', 'NODE5_P2_SETTLEMENT', 'NODE5_P3_CITY', 'NODE5_P3_SETTLEMENT', 'NODE6_P0_CITY', 'NODE6_P0_SETTLEMENT', 'NODE6_P1_CITY', 'NODE6_P1_SETTLEMENT', 'NODE6_P2_CITY', 'NODE6_P2_SETTLEMENT', 'NODE6_P3_CITY', 'NODE6_P3_SETTLEMENT', 'NODE7_P0_CITY', 'NODE7_P0_SETTLEMENT', 'NODE7_P1_CITY', 'NODE7_P1_SETTLEMENT', 'NODE7_P2_CITY', 'NODE7_P2_SETTLEMENT', 'NODE7_P3_CITY', 'NODE7_P3_SETTLEMENT', 'NODE8_P0_CITY', 'NODE8_P0_SETTLEMENT', 'NODE8_P1_CITY', 'NODE8_P1_SETTLEMENT', 'NODE8_P2_CITY', 'NODE8_P2_SETTLEMENT', 'NODE8_P3_CITY', 'NODE8_P3_SETTLEMENT', 'NODE9_P0_CITY', 'NODE9_P0_SETTLEMENT', 'NODE9_P1_CITY', 'NODE9_P1_SETTLEMENT', 'NODE9_P2_CITY', 'NODE9_P2_SETTLEMENT', 'NODE9_P3_CITY', 'NODE9_P3_SETTLEMENT', 'P0_ACTUAL_VPS', 'P0_BRICK_IN_HAND', 'P0_CITIES_LEFT', 'P0_HAS_ARMY', 'P0_HAS_PLAYED_DEVELOPMENT_CARD_IN_TURN', 'P0_HAS_ROAD', 'P0_HAS_ROLLED', 'P0_KNIGHT_IN_HAND', 'P0_KNIGHT_PLAYED', 'P0_LONGEST_ROAD_LENGTH', 'P0_MONOPOLY_IN_HAND', 'P0_MONOPOLY_PLAYED', 'P0_NUM_DEVS_IN_HAND', 'P0_NUM_RESOURCES_IN_HAND', 'P0_ORE_IN_HAND', 'P0_PUBLIC_VPS', 'P0_ROADS_LEFT', 'P0_ROAD_BUILDING_IN_HAND', 'P0_ROAD_BUILDING_PLAYED', 'P0_SETTLEMENTS_LEFT', 'P0_SHEEP_IN_HAND', 'P0_VICTORY_POINT_IN_HAND', 'P0_WHEAT_IN_HAND', 'P0_WOOD_IN_HAND', 'P0_YEAR_OF_PLENTY_IN_HAND', 'P0_YEAR_OF_PLENTY_PLAYED', 'P1_CITIES_LEFT', 'P1_HAS_ARMY', 'P1_HAS_ROAD', 'P1_HAS_ROLLED', 'P1_KNIGHT_PLAYED', 'P1_LONGEST_ROAD_LENGTH', 'P1_MONOPOLY_PLAYED', 'P1_NUM_DEVS_IN_HAND', 'P1_NUM_RESOURCES_IN_HAND', 'P1_PUBLIC_VPS', 'P1_ROADS_LEFT', 'P1_ROAD_BUILDING_PLAYED', 'P1_SETTLEMENTS_LEFT', 'P1_YEAR_OF_PLENTY_PLAYED', 'P2_CITIES_LEFT', 'P2_HAS_ARMY', 'P2_HAS_ROAD', 'P2_HAS_ROLLED', 'P2_KNIGHT_PLAYED', 'P2_LONGEST_ROAD_LENGTH', 'P2_MONOPOLY_PLAYED', 'P2_NUM_DEVS_IN_HAND', 'P2_NUM_RESOURCES_IN_HAND', 'P2_PUBLIC_VPS', 'P2_ROADS_LEFT', 'P2_ROAD_BUILDING_PLAYED', 'P2_SETTLEMENTS_LEFT', 'P2_YEAR_OF_PLENTY_PLAYED', 'P3_CITIES_LEFT', 'P3_HAS_ARMY', 'P3_HAS_ROAD', 'P3_HAS_ROLLED', 'P3_KNIGHT_PLAYED', 'P3_LONGEST_ROAD_LENGTH', 'P3_MONOPOLY_PLAYED', 'P3_NUM_DEVS_IN_HAND', 'P3_NUM_RESOURCES_IN_HAND', 'P3_PUBLIC_VPS', 'P3_ROADS_LEFT', 'P3_ROAD_BUILDING_PLAYED', 'P3_SETTLEMENTS_LEFT', 'P3_YEAR_OF_PLENTY_PLAYED', 'PORT0_IS_BRICK', 'PORT0_IS_ORE', 'PORT0_IS_SHEEP', 'PORT0_IS_THREE_TO_ONE', 'PORT0_IS_WHEAT', 'PORT0_IS_WOOD', 'PORT1_IS_BRICK', 'PORT1_IS_ORE', 'PORT1_IS_SHEEP', 'PORT1_IS_THREE_TO_ONE', 'PORT1_IS_WHEAT', 'PORT1_IS_WOOD', 'PORT2_IS_BRICK', 'PORT2_IS_ORE', 'PORT2_IS_SHEEP', 'PORT2_IS_THREE_TO_ONE', 'PORT2_IS_WHEAT', 'PORT2_IS_WOOD', 'PORT3_IS_BRICK', 'PORT3_IS_ORE', 'PORT3_IS_SHEEP', 'PORT3_IS_THREE_TO_ONE', 'PORT3_IS_WHEAT', 'PORT3_IS_WOOD', 'PORT4_IS_BRICK', 'PORT4_IS_ORE', 'PORT4_IS_SHEEP', 'PORT4_IS_THREE_TO_ONE', 'PORT4_IS_WHEAT', 'PORT4_IS_WOOD', 'PORT5_IS_BRICK', 'PORT5_IS_ORE', 'PORT5_IS_SHEEP', 'PORT5_IS_THREE_TO_ONE', 'PORT5_IS_WHEAT', 'PORT5_IS_WOOD', 'PORT6_IS_BRICK', 'PORT6_IS_ORE', 'PORT6_IS_SHEEP', 'PORT6_IS_THREE_TO_ONE', 'PORT6_IS_WHEAT', 'PORT6_IS_WOOD', 'PORT7_IS_BRICK', 'PORT7_IS_ORE', 'PORT7_IS_SHEEP', 'PORT7_IS_THREE_TO_ONE', 'PORT7_IS_WHEAT', 'PORT7_IS_WOOD', 'PORT8_IS_BRICK', 'PORT8_IS_ORE', 'PORT8_IS_SHEEP', 'PORT8_IS_THREE_TO_ONE', 'PORT8_IS_WHEAT', 'PORT8_IS_WOOD', 'TILE0_HAS_ROBBER', 'TILE0_IS_BRICK', 'TILE0_IS_DESERT', 'TILE0_IS_ORE', 'TILE0_IS_SHEEP', 'TILE0_IS_WHEAT', 'TILE0_IS_WOOD', 'TILE0_PROBA', 'TILE10_HAS_ROBBER', 'TILE10_IS_BRICK', 'TILE10_IS_DESERT', 'TILE10_IS_ORE', 'TILE10_IS_SHEEP', 'TILE10_IS_WHEAT', 'TILE10_IS_WOOD', 'TILE10_PROBA', 'TILE11_HAS_ROBBER', 'TILE11_IS_BRICK', 'TILE11_IS_DESERT', 'TILE11_IS_ORE', 'TILE11_IS_SHEEP', 'TILE11_IS_WHEAT', 'TILE11_IS_WOOD', 'TILE11_PROBA', 'TILE12_HAS_ROBBER', 'TILE12_IS_BRICK', 'TILE12_IS_DESERT', 'TILE12_IS_ORE', 'TILE12_IS_SHEEP', 'TILE12_IS_WHEAT', 'TILE12_IS_WOOD', 'TILE12_PROBA', 'TILE13_HAS_ROBBER', 'TILE13_IS_BRICK', 'TILE13_IS_DESERT', 'TILE13_IS_ORE', 'TILE13_IS_SHEEP', 'TILE13_IS_WHEAT', 'TILE13_IS_WOOD', 'TILE13_PROBA', 'TILE14_HAS_ROBBER', 'TILE14_IS_BRICK', 'TILE14_IS_DESERT', 'TILE14_IS_ORE', 'TILE14_IS_SHEEP', 'TILE14_IS_WHEAT', 'TILE14_IS_WOOD', 'TILE14_PROBA', 'TILE15_HAS_ROBBER', 'TILE15_IS_BRICK', 'TILE15_IS_DESERT', 'TILE15_IS_ORE', 'TILE15_IS_SHEEP', 'TILE15_IS_WHEAT', 'TILE15_IS_WOOD', 'TILE15_PROBA', 'TILE16_HAS_ROBBER', 'TILE16_IS_BRICK', 'TILE16_IS_DESERT', 'TILE16_IS_ORE', 'TILE16_IS_SHEEP', 'TILE16_IS_WHEAT', 'TILE16_IS_WOOD', 'TILE16_PROBA', 'TILE17_HAS_ROBBER', 'TILE17_IS_BRICK', 'TILE17_IS_DESERT', 'TILE17_IS_ORE', 'TILE17_IS_SHEEP', 'TILE17_IS_WHEAT', 'TILE17_IS_WOOD', 'TILE17_PROBA', 'TILE18_HAS_ROBBER', 'TILE18_IS_BRICK', 'TILE18_IS_DESERT', 'TILE18_IS_ORE', 'TILE18_IS_SHEEP', 'TILE18_IS_WHEAT', 'TILE18_IS_WOOD', 'TILE18_PROBA', 'TILE1_HAS_ROBBER', 'TILE1_IS_BRICK', 'TILE1_IS_DESERT', 'TILE1_IS_ORE', 'TILE1_IS_SHEEP', 'TILE1_IS_WHEAT', 'TILE1_IS_WOOD', 'TILE1_PROBA', 'TILE2_HAS_ROBBER', 'TILE2_IS_BRICK', 'TILE2_IS_DESERT', 'TILE2_IS_ORE', 'TILE2_IS_SHEEP', 'TILE2_IS_WHEAT', 'TILE2_IS_WOOD', 'TILE2_PROBA', 'TILE3_HAS_ROBBER', 'TILE3_IS_BRICK', 'TILE3_IS_DESERT', 'TILE3_IS_ORE', 'TILE3_IS_SHEEP', 'TILE3_IS_WHEAT', 'TILE3_IS_WOOD', 'TILE3_PROBA', 'TILE4_HAS_ROBBER', 'TILE4_IS_BRICK', 'TILE4_IS_DESERT', 'TILE4_IS_ORE', 'TILE4_IS_SHEEP', 'TILE4_IS_WHEAT', 'TILE4_IS_WOOD', 'TILE4_PROBA', 'TILE5_HAS_ROBBER', 'TILE5_IS_BRICK', 'TILE5_IS_DESERT', 'TILE5_IS_ORE', 'TILE5_IS_SHEEP', 'TILE5_IS_WHEAT', 'TILE5_IS_WOOD', 'TILE5_PROBA', 'TILE6_HAS_ROBBER', 'TILE6_IS_BRICK', 'TILE6_IS_DESERT', 'TILE6_IS_ORE', 'TILE6_IS_SHEEP', 'TILE6_IS_WHEAT', 'TILE6_IS_WOOD', 'TILE6_PROBA', 'TILE7_HAS_ROBBER', 'TILE7_IS_BRICK', 'TILE7_IS_DESERT', 'TILE7_IS_ORE', 'TILE7_IS_SHEEP', 'TILE7_IS_WHEAT', 'TILE7_IS_WOOD', 'TILE7_PROBA', 'TILE8_HAS_ROBBER', 'TILE8_IS_BRICK', 'TILE8_IS_DESERT', 'TILE8_IS_ORE', 'TILE8_IS_SHEEP', 'TILE8_IS_WHEAT', 'TILE8_IS_WOOD', 'TILE8_PROBA', 'TILE9_HAS_ROBBER', 'TILE9_IS_BRICK', 'TILE9_IS_DESERT', 'TILE9_IS_ORE', 'TILE9_IS_SHEEP', 'TILE9_IS_WHEAT', 'TILE9_IS_WOOD', 'TILE9_PROBA']\n"
     ]
    }
   ],
   "source": [
    "from catanatron_gym.features import (\n",
    "    create_sample_vector,\n",
    "    get_feature_ordering,\n",
    ")\n",
    "print(get_feature_ordering())"
   ]
  },
  {
   "cell_type": "code",
   "execution_count": 15,
   "id": "3d2b9474",
   "metadata": {},
   "outputs": [],
   "source": [
    "\n",
    "\n",
    "# Play a simple 4v4 game. Edit MyPlayer with your logic!\n",
    "players = [\n",
    "    #OnlineMCTSDQNPlayer_1(Color.RED),\n",
    "    RandomPlayer(Color.WHITE), #RandomPlayer\n",
    "    RandomPlayer(Color.ORANGE),\n",
    "    AB_DQNPlayer_1(Color.RED),\n",
    "    WeightedRandomPlayer(Color.BLUE),\n",
    "]\n"
   ]
  },
  {
   "cell_type": "code",
   "execution_count": 16,
   "id": "7abd61fb",
   "metadata": {},
   "outputs": [
    {
     "name": "stdout",
     "output_type": "stream",
     "text": [
      "Trained DQN model with loss: 97.7801\n",
      "Trained DQN model with loss: 97.8232\n",
      "Trained DQN model with loss: 97.7583\n",
      "Trained DQN model with loss: 97.9086\n",
      "Trained DQN model with loss: 97.7149\n",
      "Trained DQN model with loss: 97.7725\n",
      "Trained DQN model with loss: 97.8010\n",
      "Trained DQN model with loss: 97.8054\n",
      "Trained DQN model with loss: 97.9233\n",
      "Trained DQN model with loss: 97.8903\n",
      "Trained DQN model with loss: 97.9408\n",
      "Trained DQN model with loss: 98.0235\n",
      "Trained DQN model with loss: 97.9636\n",
      "Trained DQN model with loss: 98.1103\n",
      "Trained DQN model with loss: 98.0678\n",
      "Trained DQN model with loss: 98.1969\n",
      "Trained DQN model with loss: 98.0751\n",
      "Trained DQN model with loss: 98.1207\n",
      "Trained DQN model with loss: 98.2019\n",
      "Trained DQN model with loss: 98.1325\n",
      "Trained DQN model with loss: 98.0937\n",
      "Trained DQN model with loss: 98.1808\n",
      "Trained DQN model with loss: 98.3705\n",
      "Trained DQN model with loss: 98.2247\n",
      "Trained DQN model with loss: 98.1270\n",
      "Trained DQN model with loss: 98.1783\n",
      "Trained DQN model with loss: 98.3611\n",
      "Trained DQN model with loss: 98.1485\n",
      "Trained DQN model with loss: 98.3509\n",
      "Trained DQN model with loss: 98.3547\n",
      "Trained DQN model with loss: 98.2540\n",
      "Trained DQN model with loss: 98.5277\n",
      "Trained DQN model with loss: 98.2124\n",
      "Trained DQN model with loss: 98.2864\n",
      "Trained DQN model with loss: 98.4141\n",
      "Trained DQN model with loss: 98.4375\n",
      "Trained DQN model with loss: 98.4910\n",
      "Trained DQN model with loss: 98.2413\n",
      "Trained DQN model with loss: 98.3690\n",
      "Trained DQN model with loss: 98.5482\n",
      "Trained DQN model with loss: 98.4242\n",
      "Trained DQN model with loss: 98.4300\n",
      "Trained DQN model with loss: 98.5195\n",
      "Trained DQN model with loss: 98.5367\n",
      "Trained DQN model with loss: 98.4216\n",
      "Trained DQN model with loss: 98.5700\n",
      "Trained DQN model with loss: 98.6618\n",
      "Trained DQN model with loss: 98.7684\n",
      "Trained DQN model with loss: 98.4388\n",
      "Trained DQN model with loss: 98.9224\n",
      "Trained DQN model with loss: 98.7010\n",
      "Trained DQN model with loss: 98.7105\n",
      "Trained DQN model with loss: 98.8617\n",
      "Trained DQN model with loss: 98.7951\n",
      "Trained DQN model with loss: 98.6950\n",
      "Trained DQN model with loss: 98.9631\n",
      "Trained DQN model with loss: 98.9268\n",
      "Trained DQN model with loss: 98.8358\n",
      "Trained DQN model with loss: 98.8620\n",
      "Trained DQN model with loss: 98.9379\n",
      "Trained DQN model with loss: 98.9793\n",
      "Trained DQN model with loss: 98.9185\n",
      "Trained DQN model with loss: 98.9719\n",
      "Trained DQN model with loss: 98.8387\n",
      "Trained DQN model with loss: 99.1268\n",
      "Trained DQN model with loss: 99.0605\n",
      "Trained DQN model with loss: 99.0008\n",
      "Color.BLUE\n"
     ]
    }
   ],
   "source": [
    "game = Game(players)\n",
    "print(game.play())  # returns winning color"
   ]
  },
  {
   "cell_type": "markdown",
   "id": "cd529f61-6de7-4de1-8e0c-273db6a2de9f",
   "metadata": {},
   "source": [
    "You can also simulate thousands of games to get more statistically significant results:"
   ]
  },
  {
   "cell_type": "code",
   "execution_count": 17,
   "id": "e06b3b9c-aa9c-4ec3-9b05-74c5d389d766",
   "metadata": {},
   "outputs": [
    {
     "data": {
      "text/html": [
       "<pre style=\"white-space:pre;overflow-x:auto;line-height:normal;font-family:Menlo,'DejaVu Sans Mono',consolas,'Courier New',monospace\">c:\\Users\\SAM\\anaconda3\\envs\\catan311\\Lib\\site-packages\\rich\\live.py:231: UserWarning: install \"ipywidgets\" for \n",
       "Jupyter support\n",
       "  warnings.warn('install \"ipywidgets\" for Jupyter support')\n",
       "</pre>\n"
      ],
      "text/plain": [
       "c:\\Users\\SAM\\anaconda3\\envs\\catan311\\Lib\\site-packages\\rich\\live.py:231: UserWarning: install \"ipywidgets\" for \n",
       "Jupyter support\n",
       "  warnings.warn('install \"ipywidgets\" for Jupyter support')\n"
      ]
     },
     "metadata": {},
     "output_type": "display_data"
    },
    {
     "data": {
      "text/html": [
       "<pre style=\"white-space:pre;overflow-x:auto;line-height:normal;font-family:Menlo,'DejaVu Sans Mono',consolas,'Courier New',monospace\">Trained DQN model with loss: 98.9962\n",
       "</pre>\n"
      ],
      "text/plain": [
       "Trained DQN model with loss: 98.9962\n"
      ]
     },
     "metadata": {},
     "output_type": "display_data"
    },
    {
     "data": {
      "text/html": [
       "<pre style=\"white-space:pre;overflow-x:auto;line-height:normal;font-family:Menlo,'DejaVu Sans Mono',consolas,'Courier New',monospace\">Trained DQN model with loss: 98.8438\n",
       "</pre>\n"
      ],
      "text/plain": [
       "Trained DQN model with loss: 98.8438\n"
      ]
     },
     "metadata": {},
     "output_type": "display_data"
    },
    {
     "data": {
      "text/html": [
       "<pre style=\"white-space:pre;overflow-x:auto;line-height:normal;font-family:Menlo,'DejaVu Sans Mono',consolas,'Courier New',monospace\">Trained DQN model with loss: 98.8665\n",
       "</pre>\n"
      ],
      "text/plain": [
       "Trained DQN model with loss: 98.8665\n"
      ]
     },
     "metadata": {},
     "output_type": "display_data"
    },
    {
     "data": {
      "text/html": [
       "<pre style=\"white-space:pre;overflow-x:auto;line-height:normal;font-family:Menlo,'DejaVu Sans Mono',consolas,'Courier New',monospace\">Trained DQN model with loss: 98.9688\n",
       "</pre>\n"
      ],
      "text/plain": [
       "Trained DQN model with loss: 98.9688\n"
      ]
     },
     "metadata": {},
     "output_type": "display_data"
    },
    {
     "data": {
      "text/html": [
       "<pre style=\"white-space:pre;overflow-x:auto;line-height:normal;font-family:Menlo,'DejaVu Sans Mono',consolas,'Courier New',monospace\">Trained DQN model with loss: 98.9461\n",
       "</pre>\n"
      ],
      "text/plain": [
       "Trained DQN model with loss: 98.9461\n"
      ]
     },
     "metadata": {},
     "output_type": "display_data"
    },
    {
     "data": {
      "text/html": [
       "<pre style=\"white-space:pre;overflow-x:auto;line-height:normal;font-family:Menlo,'DejaVu Sans Mono',consolas,'Courier New',monospace\">Trained DQN model with loss: 98.9932\n",
       "</pre>\n"
      ],
      "text/plain": [
       "Trained DQN model with loss: 98.9932\n"
      ]
     },
     "metadata": {},
     "output_type": "display_data"
    },
    {
     "data": {
      "text/html": [
       "<pre style=\"white-space:pre;overflow-x:auto;line-height:normal;font-family:Menlo,'DejaVu Sans Mono',consolas,'Courier New',monospace\">Trained DQN model with loss: 98.8094\n",
       "</pre>\n"
      ],
      "text/plain": [
       "Trained DQN model with loss: 98.8094\n"
      ]
     },
     "metadata": {},
     "output_type": "display_data"
    },
    {
     "data": {
      "text/html": [
       "<pre style=\"white-space:pre;overflow-x:auto;line-height:normal;font-family:Menlo,'DejaVu Sans Mono',consolas,'Courier New',monospace\">Trained DQN model with loss: 98.9707\n",
       "</pre>\n"
      ],
      "text/plain": [
       "Trained DQN model with loss: 98.9707\n"
      ]
     },
     "metadata": {},
     "output_type": "display_data"
    },
    {
     "data": {
      "text/html": [
       "<pre style=\"white-space:pre;overflow-x:auto;line-height:normal;font-family:Menlo,'DejaVu Sans Mono',consolas,'Courier New',monospace\">Trained DQN model with loss: 98.8667\n",
       "</pre>\n"
      ],
      "text/plain": [
       "Trained DQN model with loss: 98.8667\n"
      ]
     },
     "metadata": {},
     "output_type": "display_data"
    },
    {
     "data": {
      "text/html": [
       "<pre style=\"white-space:pre;overflow-x:auto;line-height:normal;font-family:Menlo,'DejaVu Sans Mono',consolas,'Courier New',monospace\">Trained DQN model with loss: 99.0395\n",
       "</pre>\n"
      ],
      "text/plain": [
       "Trained DQN model with loss: 99.0395\n"
      ]
     },
     "metadata": {},
     "output_type": "display_data"
    },
    {
     "data": {
      "text/html": [
       "<pre style=\"white-space:pre;overflow-x:auto;line-height:normal;font-family:Menlo,'DejaVu Sans Mono',consolas,'Courier New',monospace\">Trained DQN model with loss: 98.8691\n",
       "</pre>\n"
      ],
      "text/plain": [
       "Trained DQN model with loss: 98.8691\n"
      ]
     },
     "metadata": {},
     "output_type": "display_data"
    },
    {
     "data": {
      "text/html": [
       "<pre style=\"white-space:pre;overflow-x:auto;line-height:normal;font-family:Menlo,'DejaVu Sans Mono',consolas,'Courier New',monospace\">Trained DQN model with loss: 98.8461\n",
       "</pre>\n"
      ],
      "text/plain": [
       "Trained DQN model with loss: 98.8461\n"
      ]
     },
     "metadata": {},
     "output_type": "display_data"
    },
    {
     "data": {
      "text/html": [
       "<pre style=\"white-space:pre;overflow-x:auto;line-height:normal;font-family:Menlo,'DejaVu Sans Mono',consolas,'Courier New',monospace\">Trained DQN model with loss: 98.7070\n",
       "</pre>\n"
      ],
      "text/plain": [
       "Trained DQN model with loss: 98.7070\n"
      ]
     },
     "metadata": {},
     "output_type": "display_data"
    },
    {
     "data": {
      "text/html": [
       "<pre style=\"white-space:pre;overflow-x:auto;line-height:normal;font-family:Menlo,'DejaVu Sans Mono',consolas,'Courier New',monospace\">Trained DQN model with loss: 98.8143\n",
       "</pre>\n"
      ],
      "text/plain": [
       "Trained DQN model with loss: 98.8143\n"
      ]
     },
     "metadata": {},
     "output_type": "display_data"
    },
    {
     "data": {
      "text/html": [
       "<pre style=\"white-space:pre;overflow-x:auto;line-height:normal;font-family:Menlo,'DejaVu Sans Mono',consolas,'Courier New',monospace\">Trained DQN model with loss: 98.9263\n",
       "</pre>\n"
      ],
      "text/plain": [
       "Trained DQN model with loss: 98.9263\n"
      ]
     },
     "metadata": {},
     "output_type": "display_data"
    },
    {
     "data": {
      "text/html": [
       "<pre style=\"white-space:pre;overflow-x:auto;line-height:normal;font-family:Menlo,'DejaVu Sans Mono',consolas,'Courier New',monospace\">Trained DQN model with loss: 98.8670\n",
       "</pre>\n"
      ],
      "text/plain": [
       "Trained DQN model with loss: 98.8670\n"
      ]
     },
     "metadata": {},
     "output_type": "display_data"
    },
    {
     "data": {
      "text/html": [
       "<pre style=\"white-space:pre;overflow-x:auto;line-height:normal;font-family:Menlo,'DejaVu Sans Mono',consolas,'Courier New',monospace\">Trained DQN model with loss: 98.9974\n",
       "</pre>\n"
      ],
      "text/plain": [
       "Trained DQN model with loss: 98.9974\n"
      ]
     },
     "metadata": {},
     "output_type": "display_data"
    },
    {
     "data": {
      "text/html": [
       "<pre style=\"white-space:pre;overflow-x:auto;line-height:normal;font-family:Menlo,'DejaVu Sans Mono',consolas,'Courier New',monospace\">Trained DQN model with loss: 98.8040\n",
       "</pre>\n"
      ],
      "text/plain": [
       "Trained DQN model with loss: 98.8040\n"
      ]
     },
     "metadata": {},
     "output_type": "display_data"
    },
    {
     "data": {
      "text/html": [
       "<pre style=\"white-space:pre;overflow-x:auto;line-height:normal;font-family:Menlo,'DejaVu Sans Mono',consolas,'Courier New',monospace\">Trained DQN model with loss: 99.0070\n",
       "</pre>\n"
      ],
      "text/plain": [
       "Trained DQN model with loss: 99.0070\n"
      ]
     },
     "metadata": {},
     "output_type": "display_data"
    },
    {
     "data": {
      "text/html": [
       "<pre style=\"white-space:pre;overflow-x:auto;line-height:normal;font-family:Menlo,'DejaVu Sans Mono',consolas,'Courier New',monospace\">Trained DQN model with loss: 98.8951\n",
       "</pre>\n"
      ],
      "text/plain": [
       "Trained DQN model with loss: 98.8951\n"
      ]
     },
     "metadata": {},
     "output_type": "display_data"
    },
    {
     "data": {
      "text/html": [
       "<pre style=\"white-space:pre;overflow-x:auto;line-height:normal;font-family:Menlo,'DejaVu Sans Mono',consolas,'Courier New',monospace\">Trained DQN model with loss: 98.7600\n",
       "</pre>\n"
      ],
      "text/plain": [
       "Trained DQN model with loss: 98.7600\n"
      ]
     },
     "metadata": {},
     "output_type": "display_data"
    },
    {
     "data": {
      "text/html": [
       "<pre style=\"white-space:pre;overflow-x:auto;line-height:normal;font-family:Menlo,'DejaVu Sans Mono',consolas,'Courier New',monospace\">Trained DQN model with loss: 99.0250\n",
       "</pre>\n"
      ],
      "text/plain": [
       "Trained DQN model with loss: 99.0250\n"
      ]
     },
     "metadata": {},
     "output_type": "display_data"
    },
    {
     "data": {
      "text/html": [
       "<pre style=\"white-space:pre;overflow-x:auto;line-height:normal;font-family:Menlo,'DejaVu Sans Mono',consolas,'Courier New',monospace\">Trained DQN model with loss: 99.1098\n",
       "</pre>\n"
      ],
      "text/plain": [
       "Trained DQN model with loss: 99.1098\n"
      ]
     },
     "metadata": {},
     "output_type": "display_data"
    },
    {
     "data": {
      "text/html": [
       "<pre style=\"white-space:pre;overflow-x:auto;line-height:normal;font-family:Menlo,'DejaVu Sans Mono',consolas,'Courier New',monospace\">Trained DQN model with loss: 99.0839\n",
       "</pre>\n"
      ],
      "text/plain": [
       "Trained DQN model with loss: 99.0839\n"
      ]
     },
     "metadata": {},
     "output_type": "display_data"
    },
    {
     "data": {
      "text/html": [
       "<pre style=\"white-space:pre;overflow-x:auto;line-height:normal;font-family:Menlo,'DejaVu Sans Mono',consolas,'Courier New',monospace\">Trained DQN model with loss: 99.0920\n",
       "</pre>\n"
      ],
      "text/plain": [
       "Trained DQN model with loss: 99.0920\n"
      ]
     },
     "metadata": {},
     "output_type": "display_data"
    },
    {
     "data": {
      "text/html": [
       "<pre style=\"white-space:pre;overflow-x:auto;line-height:normal;font-family:Menlo,'DejaVu Sans Mono',consolas,'Courier New',monospace\">Trained DQN model with loss: 99.1028\n",
       "</pre>\n"
      ],
      "text/plain": [
       "Trained DQN model with loss: 99.1028\n"
      ]
     },
     "metadata": {},
     "output_type": "display_data"
    },
    {
     "data": {
      "text/html": [
       "<pre style=\"white-space:pre;overflow-x:auto;line-height:normal;font-family:Menlo,'DejaVu Sans Mono',consolas,'Courier New',monospace\">Trained DQN model with loss: 99.0997\n",
       "</pre>\n"
      ],
      "text/plain": [
       "Trained DQN model with loss: 99.0997\n"
      ]
     },
     "metadata": {},
     "output_type": "display_data"
    },
    {
     "data": {
      "text/html": [
       "<pre style=\"white-space:pre;overflow-x:auto;line-height:normal;font-family:Menlo,'DejaVu Sans Mono',consolas,'Courier New',monospace\">Trained DQN model with loss: 99.1488\n",
       "</pre>\n"
      ],
      "text/plain": [
       "Trained DQN model with loss: 99.1488\n"
      ]
     },
     "metadata": {},
     "output_type": "display_data"
    },
    {
     "data": {
      "text/html": [
       "<pre style=\"white-space:pre;overflow-x:auto;line-height:normal;font-family:Menlo,'DejaVu Sans Mono',consolas,'Courier New',monospace\">Trained DQN model with loss: 99.0142\n",
       "</pre>\n"
      ],
      "text/plain": [
       "Trained DQN model with loss: 99.0142\n"
      ]
     },
     "metadata": {},
     "output_type": "display_data"
    },
    {
     "data": {
      "text/html": [
       "<pre style=\"white-space:pre;overflow-x:auto;line-height:normal;font-family:Menlo,'DejaVu Sans Mono',consolas,'Courier New',monospace\">Trained DQN model with loss: 99.1192\n",
       "</pre>\n"
      ],
      "text/plain": [
       "Trained DQN model with loss: 99.1192\n"
      ]
     },
     "metadata": {},
     "output_type": "display_data"
    },
    {
     "data": {
      "text/html": [
       "<pre style=\"white-space:pre;overflow-x:auto;line-height:normal;font-family:Menlo,'DejaVu Sans Mono',consolas,'Courier New',monospace\">Trained DQN model with loss: 99.1506\n",
       "</pre>\n"
      ],
      "text/plain": [
       "Trained DQN model with loss: 99.1506\n"
      ]
     },
     "metadata": {},
     "output_type": "display_data"
    },
    {
     "data": {
      "text/html": [
       "<pre style=\"white-space:pre;overflow-x:auto;line-height:normal;font-family:Menlo,'DejaVu Sans Mono',consolas,'Courier New',monospace\">Trained DQN model with loss: 99.1523\n",
       "</pre>\n"
      ],
      "text/plain": [
       "Trained DQN model with loss: 99.1523\n"
      ]
     },
     "metadata": {},
     "output_type": "display_data"
    },
    {
     "data": {
      "text/html": [
       "<pre style=\"white-space:pre;overflow-x:auto;line-height:normal;font-family:Menlo,'DejaVu Sans Mono',consolas,'Courier New',monospace\">Trained DQN model with loss: 98.9904\n",
       "</pre>\n"
      ],
      "text/plain": [
       "Trained DQN model with loss: 98.9904\n"
      ]
     },
     "metadata": {},
     "output_type": "display_data"
    },
    {
     "data": {
      "text/html": [
       "<pre style=\"white-space:pre;overflow-x:auto;line-height:normal;font-family:Menlo,'DejaVu Sans Mono',consolas,'Courier New',monospace\">Trained DQN model with loss: 99.1125\n",
       "</pre>\n"
      ],
      "text/plain": [
       "Trained DQN model with loss: 99.1125\n"
      ]
     },
     "metadata": {},
     "output_type": "display_data"
    },
    {
     "data": {
      "text/html": [
       "<pre style=\"white-space:pre;overflow-x:auto;line-height:normal;font-family:Menlo,'DejaVu Sans Mono',consolas,'Courier New',monospace\">Trained DQN model with loss: 99.0654\n",
       "</pre>\n"
      ],
      "text/plain": [
       "Trained DQN model with loss: 99.0654\n"
      ]
     },
     "metadata": {},
     "output_type": "display_data"
    },
    {
     "data": {
      "text/html": [
       "<pre style=\"white-space:pre;overflow-x:auto;line-height:normal;font-family:Menlo,'DejaVu Sans Mono',consolas,'Courier New',monospace\">Trained DQN model with loss: 98.9882\n",
       "</pre>\n"
      ],
      "text/plain": [
       "Trained DQN model with loss: 98.9882\n"
      ]
     },
     "metadata": {},
     "output_type": "display_data"
    },
    {
     "data": {
      "text/html": [
       "<pre style=\"white-space:pre;overflow-x:auto;line-height:normal;font-family:Menlo,'DejaVu Sans Mono',consolas,'Courier New',monospace\">Trained DQN model with loss: 99.3784\n",
       "</pre>\n"
      ],
      "text/plain": [
       "Trained DQN model with loss: 99.3784\n"
      ]
     },
     "metadata": {},
     "output_type": "display_data"
    },
    {
     "data": {
      "text/html": [
       "<pre style=\"white-space:pre;overflow-x:auto;line-height:normal;font-family:Menlo,'DejaVu Sans Mono',consolas,'Courier New',monospace\">Trained DQN model with loss: 99.3591\n",
       "</pre>\n"
      ],
      "text/plain": [
       "Trained DQN model with loss: 99.3591\n"
      ]
     },
     "metadata": {},
     "output_type": "display_data"
    },
    {
     "data": {
      "text/html": [
       "<pre style=\"white-space:pre;overflow-x:auto;line-height:normal;font-family:Menlo,'DejaVu Sans Mono',consolas,'Courier New',monospace\">Trained DQN model with loss: 99.0682\n",
       "</pre>\n"
      ],
      "text/plain": [
       "Trained DQN model with loss: 99.0682\n"
      ]
     },
     "metadata": {},
     "output_type": "display_data"
    },
    {
     "data": {
      "text/html": [
       "<pre style=\"white-space:pre;overflow-x:auto;line-height:normal;font-family:Menlo,'DejaVu Sans Mono',consolas,'Courier New',monospace\">Trained DQN model with loss: 99.2279\n",
       "</pre>\n"
      ],
      "text/plain": [
       "Trained DQN model with loss: 99.2279\n"
      ]
     },
     "metadata": {},
     "output_type": "display_data"
    },
    {
     "data": {
      "text/html": [
       "<pre style=\"white-space:pre;overflow-x:auto;line-height:normal;font-family:Menlo,'DejaVu Sans Mono',consolas,'Courier New',monospace\">Trained DQN model with loss: 99.1978\n",
       "</pre>\n"
      ],
      "text/plain": [
       "Trained DQN model with loss: 99.1978\n"
      ]
     },
     "metadata": {},
     "output_type": "display_data"
    },
    {
     "data": {
      "text/html": [
       "<pre style=\"white-space:pre;overflow-x:auto;line-height:normal;font-family:Menlo,'DejaVu Sans Mono',consolas,'Courier New',monospace\">Trained DQN model with loss: 99.0018\n",
       "</pre>\n"
      ],
      "text/plain": [
       "Trained DQN model with loss: 99.0018\n"
      ]
     },
     "metadata": {},
     "output_type": "display_data"
    },
    {
     "data": {
      "text/html": [
       "<pre style=\"white-space:pre;overflow-x:auto;line-height:normal;font-family:Menlo,'DejaVu Sans Mono',consolas,'Courier New',monospace\">Trained DQN model with loss: 99.5179\n",
       "</pre>\n"
      ],
      "text/plain": [
       "Trained DQN model with loss: 99.5179\n"
      ]
     },
     "metadata": {},
     "output_type": "display_data"
    },
    {
     "data": {
      "text/html": [
       "<pre style=\"white-space:pre;overflow-x:auto;line-height:normal;font-family:Menlo,'DejaVu Sans Mono',consolas,'Courier New',monospace\"></pre>\n"
      ],
      "text/plain": []
     },
     "metadata": {},
     "output_type": "display_data"
    },
    {
     "data": {
      "text/html": [
       "<pre style=\"white-space:pre;overflow-x:auto;line-height:normal;font-family:Menlo,'DejaVu Sans Mono',consolas,'Courier New',monospace\">\n",
       "</pre>\n"
      ],
      "text/plain": [
       "\n"
      ]
     },
     "metadata": {},
     "output_type": "display_data"
    },
    {
     "data": {
      "text/html": [
       "<pre style=\"white-space:pre;overflow-x:auto;line-height:normal;font-family:Menlo,'DejaVu Sans Mono',consolas,'Courier New',monospace\"><span style=\"font-style: italic\">                                      Last 1 Games                                      </span>\n",
       "    ╷                       ╷       ╷           ╷        ╷          ╷         ╷         \n",
       " <span style=\"font-weight: bold\"> # </span>│<span style=\"font-weight: bold\"> SEATING               </span>│<span style=\"font-weight: bold\"> TURNS </span>│<span style=\"font-weight: bold\"> ORANGE VP </span>│<span style=\"font-weight: bold\"> RED VP </span>│<span style=\"font-weight: bold\"> WHITE VP </span>│<span style=\"font-weight: bold\"> BLUE VP </span>│<span style=\"font-weight: bold\"> WINNER </span> \n",
       "╶───┼───────────────────────┼───────┼───────────┼────────┼──────────┼─────────┼────────╴\n",
       "  1 │ <span style=\"color: #808000; text-decoration-color: #808000\">ORANGE</span>,<span style=\"color: #800000; text-decoration-color: #800000\">RED</span>,<span style=\"color: #c0c0c0; text-decoration-color: #c0c0c0\">WHITE</span>,<span style=\"color: #000080; text-decoration-color: #000080\">BLUE</span> │   173 │         3 │      2 │        5 │      10 │ <span style=\"color: #000080; text-decoration-color: #000080\">BLUE</span>    \n",
       "    ╵                       ╵       ╵           ╵        ╵          ╵         ╵         \n",
       "</pre>\n"
      ],
      "text/plain": [
       "\u001b[3m                                      Last 1 Games                                      \u001b[0m\n",
       "    ╷                       ╷       ╷           ╷        ╷          ╷         ╷         \n",
       " \u001b[1m \u001b[0m\u001b[1m#\u001b[0m\u001b[1m \u001b[0m│\u001b[1m \u001b[0m\u001b[1mSEATING              \u001b[0m\u001b[1m \u001b[0m│\u001b[1m \u001b[0m\u001b[1mTURNS\u001b[0m\u001b[1m \u001b[0m│\u001b[1m \u001b[0m\u001b[1mORANGE VP\u001b[0m\u001b[1m \u001b[0m│\u001b[1m \u001b[0m\u001b[1mRED VP\u001b[0m\u001b[1m \u001b[0m│\u001b[1m \u001b[0m\u001b[1mWHITE VP\u001b[0m\u001b[1m \u001b[0m│\u001b[1m \u001b[0m\u001b[1mBLUE VP\u001b[0m\u001b[1m \u001b[0m│\u001b[1m \u001b[0m\u001b[1mWINNER\u001b[0m\u001b[1m \u001b[0m \n",
       "╶───┼───────────────────────┼───────┼───────────┼────────┼──────────┼─────────┼────────╴\n",
       "  1 │ \u001b[33mORANGE\u001b[0m,\u001b[31mRED\u001b[0m,\u001b[37mWHITE\u001b[0m,\u001b[34mBLUE\u001b[0m │   173 │         3 │      2 │        5 │      10 │ \u001b[34mBLUE\u001b[0m    \n",
       "    ╵                       ╵       ╵           ╵        ╵          ╵         ╵         \n"
      ]
     },
     "metadata": {},
     "output_type": "display_data"
    },
    {
     "data": {
      "text/html": [
       "<pre style=\"white-space:pre;overflow-x:auto;line-height:normal;font-family:Menlo,'DejaVu Sans Mono',consolas,'Courier New',monospace\"><span style=\"font-style: italic\">                                              Player Summary                                               </span>\n",
       "                            ╷      ╷        ╷             ╷            ╷          ╷          ╷             \n",
       " <span style=\"font-weight: bold\">                           </span>│<span style=\"font-weight: bold\"> WINS </span>│<span style=\"font-weight: bold\"> AVG VP </span>│<span style=\"font-weight: bold\"> AVG SETTLES </span>│<span style=\"font-weight: bold\"> AVG CITIES </span>│<span style=\"font-weight: bold\"> AVG ROAD </span>│<span style=\"font-weight: bold\"> AVG ARMY </span>│<span style=\"font-weight: bold\"> AVG DEV VP </span> \n",
       "╶───────────────────────────┼──────┼────────┼─────────────┼────────────┼──────────┼──────────┼────────────╴\n",
       "  <span style=\"color: #808000; text-decoration-color: #808000\">RandomPlayer:ORANGE</span>       │    0 │   3.00 │        2.00 │       0.00 │     0.00 │     0.00 │       1.00  \n",
       "  <span style=\"color: #800000; text-decoration-color: #800000\">AB_DQNPlayer_1:RED</span>        │    0 │   2.00 │        2.00 │       0.00 │     0.00 │     0.00 │       0.00  \n",
       "  <span style=\"color: #c0c0c0; text-decoration-color: #c0c0c0\">RandomPlayer:WHITE</span>        │    0 │   5.00 │        0.00 │       2.00 │     0.00 │     0.00 │       1.00  \n",
       "  <span style=\"color: #000080; text-decoration-color: #000080\">WeightedRandomPlayer:BLUE</span> │    1 │  10.00 │        1.00 │       2.00 │     0.00 │     1.00 │       3.00  \n",
       "                            ╵      ╵        ╵             ╵            ╵          ╵          ╵             \n",
       "</pre>\n"
      ],
      "text/plain": [
       "\u001b[3m                                              Player Summary                                               \u001b[0m\n",
       "                            ╷      ╷        ╷             ╷            ╷          ╷          ╷             \n",
       " \u001b[1m \u001b[0m\u001b[1m                         \u001b[0m\u001b[1m \u001b[0m│\u001b[1m \u001b[0m\u001b[1mWINS\u001b[0m\u001b[1m \u001b[0m│\u001b[1m \u001b[0m\u001b[1mAVG VP\u001b[0m\u001b[1m \u001b[0m│\u001b[1m \u001b[0m\u001b[1mAVG SETTLES\u001b[0m\u001b[1m \u001b[0m│\u001b[1m \u001b[0m\u001b[1mAVG CITIES\u001b[0m\u001b[1m \u001b[0m│\u001b[1m \u001b[0m\u001b[1mAVG ROAD\u001b[0m\u001b[1m \u001b[0m│\u001b[1m \u001b[0m\u001b[1mAVG ARMY\u001b[0m\u001b[1m \u001b[0m│\u001b[1m \u001b[0m\u001b[1mAVG DEV VP\u001b[0m\u001b[1m \u001b[0m \n",
       "╶───────────────────────────┼──────┼────────┼─────────────┼────────────┼──────────┼──────────┼────────────╴\n",
       "  \u001b[33mRandomPlayer:ORANGE\u001b[0m       │    0 │   3.00 │        2.00 │       0.00 │     0.00 │     0.00 │       1.00  \n",
       "  \u001b[31mAB_DQNPlayer_1:RED\u001b[0m        │    0 │   2.00 │        2.00 │       0.00 │     0.00 │     0.00 │       0.00  \n",
       "  \u001b[37mRandomPlayer:WHITE\u001b[0m        │    0 │   5.00 │        0.00 │       2.00 │     0.00 │     0.00 │       1.00  \n",
       "  \u001b[34mWeightedRandomPlayer:BLUE\u001b[0m │    1 │  10.00 │        1.00 │       2.00 │     0.00 │     1.00 │       3.00  \n",
       "                            ╵      ╵        ╵             ╵            ╵          ╵          ╵             \n"
      ]
     },
     "metadata": {},
     "output_type": "display_data"
    },
    {
     "data": {
      "text/html": [
       "<pre style=\"white-space:pre;overflow-x:auto;line-height:normal;font-family:Menlo,'DejaVu Sans Mono',consolas,'Courier New',monospace\"><span style=\"font-style: italic\">              Game Summary              </span>\n",
       "            ╷           ╷               \n",
       " <span style=\"font-weight: bold\"> AVG TICKS </span>│<span style=\"font-weight: bold\"> AVG TURNS </span>│<span style=\"font-weight: bold\"> AVG DURATION </span> \n",
       "╶───────────┼───────────┼──────────────╴\n",
       "     525.00 │    173.00 │   7.756 secs  \n",
       "            ╵           ╵               \n",
       "</pre>\n"
      ],
      "text/plain": [
       "\u001b[3m              Game Summary              \u001b[0m\n",
       "            ╷           ╷               \n",
       " \u001b[1m \u001b[0m\u001b[1mAVG TICKS\u001b[0m\u001b[1m \u001b[0m│\u001b[1m \u001b[0m\u001b[1mAVG TURNS\u001b[0m\u001b[1m \u001b[0m│\u001b[1m \u001b[0m\u001b[1mAVG DURATION\u001b[0m\u001b[1m \u001b[0m \n",
       "╶───────────┼───────────┼──────────────╴\n",
       "     525.00 │    173.00 │   7.756 secs  \n",
       "            ╵           ╵               \n"
      ]
     },
     "metadata": {},
     "output_type": "display_data"
    },
    {
     "data": {
      "text/html": [
       "<pre style=\"white-space:pre;overflow-x:auto;line-height:normal;font-family:Menlo,'DejaVu Sans Mono',consolas,'Courier New',monospace\">Trained DQN model with loss: 99.1360\n",
       "</pre>\n"
      ],
      "text/plain": [
       "Trained DQN model with loss: 99.1360\n"
      ]
     },
     "metadata": {},
     "output_type": "display_data"
    },
    {
     "data": {
      "text/html": [
       "<pre style=\"white-space:pre;overflow-x:auto;line-height:normal;font-family:Menlo,'DejaVu Sans Mono',consolas,'Courier New',monospace\">Trained DQN model with loss: 99.2563\n",
       "</pre>\n"
      ],
      "text/plain": [
       "Trained DQN model with loss: 99.2563\n"
      ]
     },
     "metadata": {},
     "output_type": "display_data"
    },
    {
     "data": {
      "text/html": [
       "<pre style=\"white-space:pre;overflow-x:auto;line-height:normal;font-family:Menlo,'DejaVu Sans Mono',consolas,'Courier New',monospace\">Trained DQN model with loss: 99.3913\n",
       "</pre>\n"
      ],
      "text/plain": [
       "Trained DQN model with loss: 99.3913\n"
      ]
     },
     "metadata": {},
     "output_type": "display_data"
    },
    {
     "data": {
      "text/html": [
       "<pre style=\"white-space:pre;overflow-x:auto;line-height:normal;font-family:Menlo,'DejaVu Sans Mono',consolas,'Courier New',monospace\">Trained DQN model with loss: 99.1543\n",
       "</pre>\n"
      ],
      "text/plain": [
       "Trained DQN model with loss: 99.1543\n"
      ]
     },
     "metadata": {},
     "output_type": "display_data"
    },
    {
     "data": {
      "text/html": [
       "<pre style=\"white-space:pre;overflow-x:auto;line-height:normal;font-family:Menlo,'DejaVu Sans Mono',consolas,'Courier New',monospace\">Trained DQN model with loss: 99.3563\n",
       "</pre>\n"
      ],
      "text/plain": [
       "Trained DQN model with loss: 99.3563\n"
      ]
     },
     "metadata": {},
     "output_type": "display_data"
    },
    {
     "data": {
      "text/html": [
       "<pre style=\"white-space:pre;overflow-x:auto;line-height:normal;font-family:Menlo,'DejaVu Sans Mono',consolas,'Courier New',monospace\">Trained DQN model with loss: 99.1576\n",
       "</pre>\n"
      ],
      "text/plain": [
       "Trained DQN model with loss: 99.1576\n"
      ]
     },
     "metadata": {},
     "output_type": "display_data"
    },
    {
     "data": {
      "text/html": [
       "<pre style=\"white-space:pre;overflow-x:auto;line-height:normal;font-family:Menlo,'DejaVu Sans Mono',consolas,'Courier New',monospace\">Trained DQN model with loss: 99.2586\n",
       "</pre>\n"
      ],
      "text/plain": [
       "Trained DQN model with loss: 99.2586\n"
      ]
     },
     "metadata": {},
     "output_type": "display_data"
    },
    {
     "data": {
      "text/html": [
       "<pre style=\"white-space:pre;overflow-x:auto;line-height:normal;font-family:Menlo,'DejaVu Sans Mono',consolas,'Courier New',monospace\">Trained DQN model with loss: 99.1180\n",
       "</pre>\n"
      ],
      "text/plain": [
       "Trained DQN model with loss: 99.1180\n"
      ]
     },
     "metadata": {},
     "output_type": "display_data"
    },
    {
     "data": {
      "text/html": [
       "<pre style=\"white-space:pre;overflow-x:auto;line-height:normal;font-family:Menlo,'DejaVu Sans Mono',consolas,'Courier New',monospace\">Trained DQN model with loss: 99.4236\n",
       "</pre>\n"
      ],
      "text/plain": [
       "Trained DQN model with loss: 99.4236\n"
      ]
     },
     "metadata": {},
     "output_type": "display_data"
    },
    {
     "data": {
      "text/html": [
       "<pre style=\"white-space:pre;overflow-x:auto;line-height:normal;font-family:Menlo,'DejaVu Sans Mono',consolas,'Courier New',monospace\">Trained DQN model with loss: 99.2393\n",
       "</pre>\n"
      ],
      "text/plain": [
       "Trained DQN model with loss: 99.2393\n"
      ]
     },
     "metadata": {},
     "output_type": "display_data"
    },
    {
     "data": {
      "text/html": [
       "<pre style=\"white-space:pre;overflow-x:auto;line-height:normal;font-family:Menlo,'DejaVu Sans Mono',consolas,'Courier New',monospace\">Trained DQN model with loss: 99.1891\n",
       "</pre>\n"
      ],
      "text/plain": [
       "Trained DQN model with loss: 99.1891\n"
      ]
     },
     "metadata": {},
     "output_type": "display_data"
    },
    {
     "data": {
      "text/html": [
       "<pre style=\"white-space:pre;overflow-x:auto;line-height:normal;font-family:Menlo,'DejaVu Sans Mono',consolas,'Courier New',monospace\">Trained DQN model with loss: 99.1506\n",
       "</pre>\n"
      ],
      "text/plain": [
       "Trained DQN model with loss: 99.1506\n"
      ]
     },
     "metadata": {},
     "output_type": "display_data"
    },
    {
     "data": {
      "text/html": [
       "<pre style=\"white-space:pre;overflow-x:auto;line-height:normal;font-family:Menlo,'DejaVu Sans Mono',consolas,'Courier New',monospace\">Trained DQN model with loss: 99.0832\n",
       "</pre>\n"
      ],
      "text/plain": [
       "Trained DQN model with loss: 99.0832\n"
      ]
     },
     "metadata": {},
     "output_type": "display_data"
    },
    {
     "data": {
      "text/html": [
       "<pre style=\"white-space:pre;overflow-x:auto;line-height:normal;font-family:Menlo,'DejaVu Sans Mono',consolas,'Courier New',monospace\">Trained DQN model with loss: 99.2043\n",
       "</pre>\n"
      ],
      "text/plain": [
       "Trained DQN model with loss: 99.2043\n"
      ]
     },
     "metadata": {},
     "output_type": "display_data"
    },
    {
     "data": {
      "text/html": [
       "<pre style=\"white-space:pre;overflow-x:auto;line-height:normal;font-family:Menlo,'DejaVu Sans Mono',consolas,'Courier New',monospace\">Trained DQN model with loss: 99.0661\n",
       "</pre>\n"
      ],
      "text/plain": [
       "Trained DQN model with loss: 99.0661\n"
      ]
     },
     "metadata": {},
     "output_type": "display_data"
    },
    {
     "data": {
      "text/html": [
       "<pre style=\"white-space:pre;overflow-x:auto;line-height:normal;font-family:Menlo,'DejaVu Sans Mono',consolas,'Courier New',monospace\">Trained DQN model with loss: 99.1016\n",
       "</pre>\n"
      ],
      "text/plain": [
       "Trained DQN model with loss: 99.1016\n"
      ]
     },
     "metadata": {},
     "output_type": "display_data"
    },
    {
     "data": {
      "text/html": [
       "<pre style=\"white-space:pre;overflow-x:auto;line-height:normal;font-family:Menlo,'DejaVu Sans Mono',consolas,'Courier New',monospace\">Trained DQN model with loss: 99.3941\n",
       "</pre>\n"
      ],
      "text/plain": [
       "Trained DQN model with loss: 99.3941\n"
      ]
     },
     "metadata": {},
     "output_type": "display_data"
    },
    {
     "data": {
      "text/html": [
       "<pre style=\"white-space:pre;overflow-x:auto;line-height:normal;font-family:Menlo,'DejaVu Sans Mono',consolas,'Courier New',monospace\">Trained DQN model with loss: 99.0836\n",
       "</pre>\n"
      ],
      "text/plain": [
       "Trained DQN model with loss: 99.0836\n"
      ]
     },
     "metadata": {},
     "output_type": "display_data"
    },
    {
     "data": {
      "text/html": [
       "<pre style=\"white-space:pre;overflow-x:auto;line-height:normal;font-family:Menlo,'DejaVu Sans Mono',consolas,'Courier New',monospace\">Trained DQN model with loss: 99.1735\n",
       "</pre>\n"
      ],
      "text/plain": [
       "Trained DQN model with loss: 99.1735\n"
      ]
     },
     "metadata": {},
     "output_type": "display_data"
    },
    {
     "data": {
      "text/html": [
       "<pre style=\"white-space:pre;overflow-x:auto;line-height:normal;font-family:Menlo,'DejaVu Sans Mono',consolas,'Courier New',monospace\">Trained DQN model with loss: 99.1604\n",
       "</pre>\n"
      ],
      "text/plain": [
       "Trained DQN model with loss: 99.1604\n"
      ]
     },
     "metadata": {},
     "output_type": "display_data"
    },
    {
     "data": {
      "text/html": [
       "<pre style=\"white-space:pre;overflow-x:auto;line-height:normal;font-family:Menlo,'DejaVu Sans Mono',consolas,'Courier New',monospace\">Trained DQN model with loss: 98.8223\n",
       "</pre>\n"
      ],
      "text/plain": [
       "Trained DQN model with loss: 98.8223\n"
      ]
     },
     "metadata": {},
     "output_type": "display_data"
    },
    {
     "data": {
      "text/html": [
       "<pre style=\"white-space:pre;overflow-x:auto;line-height:normal;font-family:Menlo,'DejaVu Sans Mono',consolas,'Courier New',monospace\">Trained DQN model with loss: 99.0115\n",
       "</pre>\n"
      ],
      "text/plain": [
       "Trained DQN model with loss: 99.0115\n"
      ]
     },
     "metadata": {},
     "output_type": "display_data"
    },
    {
     "data": {
      "text/html": [
       "<pre style=\"white-space:pre;overflow-x:auto;line-height:normal;font-family:Menlo,'DejaVu Sans Mono',consolas,'Courier New',monospace\">Trained DQN model with loss: 99.1494\n",
       "</pre>\n"
      ],
      "text/plain": [
       "Trained DQN model with loss: 99.1494\n"
      ]
     },
     "metadata": {},
     "output_type": "display_data"
    },
    {
     "data": {
      "text/html": [
       "<pre style=\"white-space:pre;overflow-x:auto;line-height:normal;font-family:Menlo,'DejaVu Sans Mono',consolas,'Courier New',monospace\">Trained DQN model with loss: 98.9590\n",
       "</pre>\n"
      ],
      "text/plain": [
       "Trained DQN model with loss: 98.9590\n"
      ]
     },
     "metadata": {},
     "output_type": "display_data"
    },
    {
     "data": {
      "text/html": [
       "<pre style=\"white-space:pre;overflow-x:auto;line-height:normal;font-family:Menlo,'DejaVu Sans Mono',consolas,'Courier New',monospace\">Trained DQN model with loss: 98.8745\n",
       "</pre>\n"
      ],
      "text/plain": [
       "Trained DQN model with loss: 98.8745\n"
      ]
     },
     "metadata": {},
     "output_type": "display_data"
    },
    {
     "data": {
      "text/html": [
       "<pre style=\"white-space:pre;overflow-x:auto;line-height:normal;font-family:Menlo,'DejaVu Sans Mono',consolas,'Courier New',monospace\">Trained DQN model with loss: 99.1470\n",
       "</pre>\n"
      ],
      "text/plain": [
       "Trained DQN model with loss: 99.1470\n"
      ]
     },
     "metadata": {},
     "output_type": "display_data"
    },
    {
     "data": {
      "text/html": [
       "<pre style=\"white-space:pre;overflow-x:auto;line-height:normal;font-family:Menlo,'DejaVu Sans Mono',consolas,'Courier New',monospace\">Trained DQN model with loss: 99.1090\n",
       "</pre>\n"
      ],
      "text/plain": [
       "Trained DQN model with loss: 99.1090\n"
      ]
     },
     "metadata": {},
     "output_type": "display_data"
    },
    {
     "data": {
      "text/html": [
       "<pre style=\"white-space:pre;overflow-x:auto;line-height:normal;font-family:Menlo,'DejaVu Sans Mono',consolas,'Courier New',monospace\">Trained DQN model with loss: 98.9530\n",
       "</pre>\n"
      ],
      "text/plain": [
       "Trained DQN model with loss: 98.9530\n"
      ]
     },
     "metadata": {},
     "output_type": "display_data"
    },
    {
     "data": {
      "text/html": [
       "<pre style=\"white-space:pre;overflow-x:auto;line-height:normal;font-family:Menlo,'DejaVu Sans Mono',consolas,'Courier New',monospace\">Trained DQN model with loss: 99.0477\n",
       "</pre>\n"
      ],
      "text/plain": [
       "Trained DQN model with loss: 99.0477\n"
      ]
     },
     "metadata": {},
     "output_type": "display_data"
    },
    {
     "data": {
      "text/html": [
       "<pre style=\"white-space:pre;overflow-x:auto;line-height:normal;font-family:Menlo,'DejaVu Sans Mono',consolas,'Courier New',monospace\">Trained DQN model with loss: 99.0865\n",
       "</pre>\n"
      ],
      "text/plain": [
       "Trained DQN model with loss: 99.0865\n"
      ]
     },
     "metadata": {},
     "output_type": "display_data"
    },
    {
     "data": {
      "text/html": [
       "<pre style=\"white-space:pre;overflow-x:auto;line-height:normal;font-family:Menlo,'DejaVu Sans Mono',consolas,'Courier New',monospace\">Trained DQN model with loss: 99.1847\n",
       "</pre>\n"
      ],
      "text/plain": [
       "Trained DQN model with loss: 99.1847\n"
      ]
     },
     "metadata": {},
     "output_type": "display_data"
    },
    {
     "data": {
      "text/html": [
       "<pre style=\"white-space:pre;overflow-x:auto;line-height:normal;font-family:Menlo,'DejaVu Sans Mono',consolas,'Courier New',monospace\">Trained DQN model with loss: 99.0863\n",
       "</pre>\n"
      ],
      "text/plain": [
       "Trained DQN model with loss: 99.0863\n"
      ]
     },
     "metadata": {},
     "output_type": "display_data"
    },
    {
     "data": {
      "text/html": [
       "<pre style=\"white-space:pre;overflow-x:auto;line-height:normal;font-family:Menlo,'DejaVu Sans Mono',consolas,'Courier New',monospace\">Trained DQN model with loss: 98.8894\n",
       "</pre>\n"
      ],
      "text/plain": [
       "Trained DQN model with loss: 98.8894\n"
      ]
     },
     "metadata": {},
     "output_type": "display_data"
    },
    {
     "data": {
      "text/html": [
       "<pre style=\"white-space:pre;overflow-x:auto;line-height:normal;font-family:Menlo,'DejaVu Sans Mono',consolas,'Courier New',monospace\">Trained DQN model with loss: 99.2298\n",
       "</pre>\n"
      ],
      "text/plain": [
       "Trained DQN model with loss: 99.2298\n"
      ]
     },
     "metadata": {},
     "output_type": "display_data"
    },
    {
     "data": {
      "text/html": [
       "<pre style=\"white-space:pre;overflow-x:auto;line-height:normal;font-family:Menlo,'DejaVu Sans Mono',consolas,'Courier New',monospace\">Trained DQN model with loss: 98.8532\n",
       "</pre>\n"
      ],
      "text/plain": [
       "Trained DQN model with loss: 98.8532\n"
      ]
     },
     "metadata": {},
     "output_type": "display_data"
    },
    {
     "data": {
      "text/html": [
       "<pre style=\"white-space:pre;overflow-x:auto;line-height:normal;font-family:Menlo,'DejaVu Sans Mono',consolas,'Courier New',monospace\">Trained DQN model with loss: 99.0777\n",
       "</pre>\n"
      ],
      "text/plain": [
       "Trained DQN model with loss: 99.0777\n"
      ]
     },
     "metadata": {},
     "output_type": "display_data"
    },
    {
     "data": {
      "text/html": [
       "<pre style=\"white-space:pre;overflow-x:auto;line-height:normal;font-family:Menlo,'DejaVu Sans Mono',consolas,'Courier New',monospace\">Trained DQN model with loss: 99.0983\n",
       "</pre>\n"
      ],
      "text/plain": [
       "Trained DQN model with loss: 99.0983\n"
      ]
     },
     "metadata": {},
     "output_type": "display_data"
    },
    {
     "data": {
      "text/html": [
       "<pre style=\"white-space:pre;overflow-x:auto;line-height:normal;font-family:Menlo,'DejaVu Sans Mono',consolas,'Courier New',monospace\">Trained DQN model with loss: 99.1436\n",
       "</pre>\n"
      ],
      "text/plain": [
       "Trained DQN model with loss: 99.1436\n"
      ]
     },
     "metadata": {},
     "output_type": "display_data"
    },
    {
     "data": {
      "text/html": [
       "<pre style=\"white-space:pre;overflow-x:auto;line-height:normal;font-family:Menlo,'DejaVu Sans Mono',consolas,'Courier New',monospace\">Trained DQN model with loss: 99.1787\n",
       "</pre>\n"
      ],
      "text/plain": [
       "Trained DQN model with loss: 99.1787\n"
      ]
     },
     "metadata": {},
     "output_type": "display_data"
    },
    {
     "data": {
      "text/html": [
       "<pre style=\"white-space:pre;overflow-x:auto;line-height:normal;font-family:Menlo,'DejaVu Sans Mono',consolas,'Courier New',monospace\">Trained DQN model with loss: 99.2818\n",
       "</pre>\n"
      ],
      "text/plain": [
       "Trained DQN model with loss: 99.2818\n"
      ]
     },
     "metadata": {},
     "output_type": "display_data"
    },
    {
     "data": {
      "text/html": [
       "<pre style=\"white-space:pre;overflow-x:auto;line-height:normal;font-family:Menlo,'DejaVu Sans Mono',consolas,'Courier New',monospace\">Trained DQN model with loss: 99.2273\n",
       "</pre>\n"
      ],
      "text/plain": [
       "Trained DQN model with loss: 99.2273\n"
      ]
     },
     "metadata": {},
     "output_type": "display_data"
    },
    {
     "data": {
      "text/html": [
       "<pre style=\"white-space:pre;overflow-x:auto;line-height:normal;font-family:Menlo,'DejaVu Sans Mono',consolas,'Courier New',monospace\">Trained DQN model with loss: 99.1855\n",
       "</pre>\n"
      ],
      "text/plain": [
       "Trained DQN model with loss: 99.1855\n"
      ]
     },
     "metadata": {},
     "output_type": "display_data"
    },
    {
     "data": {
      "text/html": [
       "<pre style=\"white-space:pre;overflow-x:auto;line-height:normal;font-family:Menlo,'DejaVu Sans Mono',consolas,'Courier New',monospace\">Trained DQN model with loss: 99.2033\n",
       "</pre>\n"
      ],
      "text/plain": [
       "Trained DQN model with loss: 99.2033\n"
      ]
     },
     "metadata": {},
     "output_type": "display_data"
    },
    {
     "data": {
      "text/html": [
       "<pre style=\"white-space:pre;overflow-x:auto;line-height:normal;font-family:Menlo,'DejaVu Sans Mono',consolas,'Courier New',monospace\">Trained DQN model with loss: 99.4135\n",
       "</pre>\n"
      ],
      "text/plain": [
       "Trained DQN model with loss: 99.4135\n"
      ]
     },
     "metadata": {},
     "output_type": "display_data"
    },
    {
     "data": {
      "text/html": [
       "<pre style=\"white-space:pre;overflow-x:auto;line-height:normal;font-family:Menlo,'DejaVu Sans Mono',consolas,'Courier New',monospace\">Trained DQN model with loss: 99.2730\n",
       "</pre>\n"
      ],
      "text/plain": [
       "Trained DQN model with loss: 99.2730\n"
      ]
     },
     "metadata": {},
     "output_type": "display_data"
    },
    {
     "data": {
      "text/html": [
       "<pre style=\"white-space:pre;overflow-x:auto;line-height:normal;font-family:Menlo,'DejaVu Sans Mono',consolas,'Courier New',monospace\">Trained DQN model with loss: 99.1315\n",
       "</pre>\n"
      ],
      "text/plain": [
       "Trained DQN model with loss: 99.1315\n"
      ]
     },
     "metadata": {},
     "output_type": "display_data"
    },
    {
     "data": {
      "text/html": [
       "<pre style=\"white-space:pre;overflow-x:auto;line-height:normal;font-family:Menlo,'DejaVu Sans Mono',consolas,'Courier New',monospace\">Trained DQN model with loss: 99.1626\n",
       "</pre>\n"
      ],
      "text/plain": [
       "Trained DQN model with loss: 99.1626\n"
      ]
     },
     "metadata": {},
     "output_type": "display_data"
    },
    {
     "data": {
      "text/html": [
       "<pre style=\"white-space:pre;overflow-x:auto;line-height:normal;font-family:Menlo,'DejaVu Sans Mono',consolas,'Courier New',monospace\">Trained DQN model with loss: 99.0896\n",
       "</pre>\n"
      ],
      "text/plain": [
       "Trained DQN model with loss: 99.0896\n"
      ]
     },
     "metadata": {},
     "output_type": "display_data"
    },
    {
     "data": {
      "text/html": [
       "<pre style=\"white-space:pre;overflow-x:auto;line-height:normal;font-family:Menlo,'DejaVu Sans Mono',consolas,'Courier New',monospace\">Trained DQN model with loss: 99.1305\n",
       "</pre>\n"
      ],
      "text/plain": [
       "Trained DQN model with loss: 99.1305\n"
      ]
     },
     "metadata": {},
     "output_type": "display_data"
    },
    {
     "data": {
      "text/html": [
       "<pre style=\"white-space:pre;overflow-x:auto;line-height:normal;font-family:Menlo,'DejaVu Sans Mono',consolas,'Courier New',monospace\">Trained DQN model with loss: 99.1933\n",
       "</pre>\n"
      ],
      "text/plain": [
       "Trained DQN model with loss: 99.1933\n"
      ]
     },
     "metadata": {},
     "output_type": "display_data"
    },
    {
     "data": {
      "text/html": [
       "<pre style=\"white-space:pre;overflow-x:auto;line-height:normal;font-family:Menlo,'DejaVu Sans Mono',consolas,'Courier New',monospace\">Trained DQN model with loss: 99.1799\n",
       "</pre>\n"
      ],
      "text/plain": [
       "Trained DQN model with loss: 99.1799\n"
      ]
     },
     "metadata": {},
     "output_type": "display_data"
    },
    {
     "data": {
      "text/html": [
       "<pre style=\"white-space:pre;overflow-x:auto;line-height:normal;font-family:Menlo,'DejaVu Sans Mono',consolas,'Courier New',monospace\">Trained DQN model with loss: 99.1391\n",
       "</pre>\n"
      ],
      "text/plain": [
       "Trained DQN model with loss: 99.1391\n"
      ]
     },
     "metadata": {},
     "output_type": "display_data"
    },
    {
     "data": {
      "text/html": [
       "<pre style=\"white-space:pre;overflow-x:auto;line-height:normal;font-family:Menlo,'DejaVu Sans Mono',consolas,'Courier New',monospace\"></pre>\n"
      ],
      "text/plain": []
     },
     "metadata": {},
     "output_type": "display_data"
    },
    {
     "data": {
      "text/html": [
       "<pre style=\"white-space:pre;overflow-x:auto;line-height:normal;font-family:Menlo,'DejaVu Sans Mono',consolas,'Courier New',monospace\">\n",
       "</pre>\n"
      ],
      "text/plain": [
       "\n"
      ]
     },
     "metadata": {},
     "output_type": "display_data"
    },
    {
     "data": {
      "text/html": [
       "<pre style=\"white-space:pre;overflow-x:auto;line-height:normal;font-family:Menlo,'DejaVu Sans Mono',consolas,'Courier New',monospace\"><span style=\"font-style: italic\">                                      Last 1 Games                                      </span>\n",
       "    ╷                       ╷       ╷         ╷          ╷           ╷        ╷         \n",
       " <span style=\"font-weight: bold\"> # </span>│<span style=\"font-weight: bold\"> SEATING               </span>│<span style=\"font-weight: bold\"> TURNS </span>│<span style=\"font-weight: bold\"> BLUE VP </span>│<span style=\"font-weight: bold\"> WHITE VP </span>│<span style=\"font-weight: bold\"> ORANGE VP </span>│<span style=\"font-weight: bold\"> RED VP </span>│<span style=\"font-weight: bold\"> WINNER </span> \n",
       "╶───┼───────────────────────┼───────┼─────────┼──────────┼───────────┼────────┼────────╴\n",
       "  1 │ <span style=\"color: #c0c0c0; text-decoration-color: #c0c0c0\">WHITE</span>,<span style=\"color: #808000; text-decoration-color: #808000\">ORANGE</span>,<span style=\"color: #800000; text-decoration-color: #800000\">RED</span>,<span style=\"color: #000080; text-decoration-color: #000080\">BLUE</span> │   189 │      10 │        4 │         3 │      2 │ <span style=\"color: #000080; text-decoration-color: #000080\">BLUE</span>    \n",
       "    ╵                       ╵       ╵         ╵          ╵           ╵        ╵         \n",
       "</pre>\n"
      ],
      "text/plain": [
       "\u001b[3m                                      Last 1 Games                                      \u001b[0m\n",
       "    ╷                       ╷       ╷         ╷          ╷           ╷        ╷         \n",
       " \u001b[1m \u001b[0m\u001b[1m#\u001b[0m\u001b[1m \u001b[0m│\u001b[1m \u001b[0m\u001b[1mSEATING              \u001b[0m\u001b[1m \u001b[0m│\u001b[1m \u001b[0m\u001b[1mTURNS\u001b[0m\u001b[1m \u001b[0m│\u001b[1m \u001b[0m\u001b[1mBLUE VP\u001b[0m\u001b[1m \u001b[0m│\u001b[1m \u001b[0m\u001b[1mWHITE VP\u001b[0m\u001b[1m \u001b[0m│\u001b[1m \u001b[0m\u001b[1mORANGE VP\u001b[0m\u001b[1m \u001b[0m│\u001b[1m \u001b[0m\u001b[1mRED VP\u001b[0m\u001b[1m \u001b[0m│\u001b[1m \u001b[0m\u001b[1mWINNER\u001b[0m\u001b[1m \u001b[0m \n",
       "╶───┼───────────────────────┼───────┼─────────┼──────────┼───────────┼────────┼────────╴\n",
       "  1 │ \u001b[37mWHITE\u001b[0m,\u001b[33mORANGE\u001b[0m,\u001b[31mRED\u001b[0m,\u001b[34mBLUE\u001b[0m │   189 │      10 │        4 │         3 │      2 │ \u001b[34mBLUE\u001b[0m    \n",
       "    ╵                       ╵       ╵         ╵          ╵           ╵        ╵         \n"
      ]
     },
     "metadata": {},
     "output_type": "display_data"
    },
    {
     "data": {
      "text/html": [
       "<pre style=\"white-space:pre;overflow-x:auto;line-height:normal;font-family:Menlo,'DejaVu Sans Mono',consolas,'Courier New',monospace\"><span style=\"font-style: italic\">                                              Player Summary                                               </span>\n",
       "                            ╷      ╷        ╷             ╷            ╷          ╷          ╷             \n",
       " <span style=\"font-weight: bold\">                           </span>│<span style=\"font-weight: bold\"> WINS </span>│<span style=\"font-weight: bold\"> AVG VP </span>│<span style=\"font-weight: bold\"> AVG SETTLES </span>│<span style=\"font-weight: bold\"> AVG CITIES </span>│<span style=\"font-weight: bold\"> AVG ROAD </span>│<span style=\"font-weight: bold\"> AVG ARMY </span>│<span style=\"font-weight: bold\"> AVG DEV VP </span> \n",
       "╶───────────────────────────┼──────┼────────┼─────────────┼────────────┼──────────┼──────────┼────────────╴\n",
       "  <span style=\"color: #000080; text-decoration-color: #000080\">WeightedRandomPlayer:BLUE</span> │    1 │  10.00 │        5.00 │       0.00 │     1.00 │     1.00 │       1.00  \n",
       "  <span style=\"color: #c0c0c0; text-decoration-color: #c0c0c0\">RandomPlayer:WHITE</span>        │    0 │   4.00 │        2.00 │       0.00 │     0.00 │     0.00 │       2.00  \n",
       "  <span style=\"color: #808000; text-decoration-color: #808000\">RandomPlayer:ORANGE</span>       │    0 │   3.00 │        2.00 │       0.00 │     0.00 │     0.00 │       1.00  \n",
       "  <span style=\"color: #800000; text-decoration-color: #800000\">AB_DQNPlayer_1:RED</span>        │    0 │   2.00 │        2.00 │       0.00 │     0.00 │     0.00 │       0.00  \n",
       "                            ╵      ╵        ╵             ╵            ╵          ╵          ╵             \n",
       "</pre>\n"
      ],
      "text/plain": [
       "\u001b[3m                                              Player Summary                                               \u001b[0m\n",
       "                            ╷      ╷        ╷             ╷            ╷          ╷          ╷             \n",
       " \u001b[1m \u001b[0m\u001b[1m                         \u001b[0m\u001b[1m \u001b[0m│\u001b[1m \u001b[0m\u001b[1mWINS\u001b[0m\u001b[1m \u001b[0m│\u001b[1m \u001b[0m\u001b[1mAVG VP\u001b[0m\u001b[1m \u001b[0m│\u001b[1m \u001b[0m\u001b[1mAVG SETTLES\u001b[0m\u001b[1m \u001b[0m│\u001b[1m \u001b[0m\u001b[1mAVG CITIES\u001b[0m\u001b[1m \u001b[0m│\u001b[1m \u001b[0m\u001b[1mAVG ROAD\u001b[0m\u001b[1m \u001b[0m│\u001b[1m \u001b[0m\u001b[1mAVG ARMY\u001b[0m\u001b[1m \u001b[0m│\u001b[1m \u001b[0m\u001b[1mAVG DEV VP\u001b[0m\u001b[1m \u001b[0m \n",
       "╶───────────────────────────┼──────┼────────┼─────────────┼────────────┼──────────┼──────────┼────────────╴\n",
       "  \u001b[34mWeightedRandomPlayer:BLUE\u001b[0m │    1 │  10.00 │        5.00 │       0.00 │     1.00 │     1.00 │       1.00  \n",
       "  \u001b[37mRandomPlayer:WHITE\u001b[0m        │    0 │   4.00 │        2.00 │       0.00 │     0.00 │     0.00 │       2.00  \n",
       "  \u001b[33mRandomPlayer:ORANGE\u001b[0m       │    0 │   3.00 │        2.00 │       0.00 │     0.00 │     0.00 │       1.00  \n",
       "  \u001b[31mAB_DQNPlayer_1:RED\u001b[0m        │    0 │   2.00 │        2.00 │       0.00 │     0.00 │     0.00 │       0.00  \n",
       "                            ╵      ╵        ╵             ╵            ╵          ╵          ╵             \n"
      ]
     },
     "metadata": {},
     "output_type": "display_data"
    },
    {
     "data": {
      "text/html": [
       "<pre style=\"white-space:pre;overflow-x:auto;line-height:normal;font-family:Menlo,'DejaVu Sans Mono',consolas,'Courier New',monospace\"><span style=\"font-style: italic\">              Game Summary              </span>\n",
       "            ╷           ╷               \n",
       " <span style=\"font-weight: bold\"> AVG TICKS </span>│<span style=\"font-weight: bold\"> AVG TURNS </span>│<span style=\"font-weight: bold\"> AVG DURATION </span> \n",
       "╶───────────┼───────────┼──────────────╴\n",
       "     532.00 │    189.00 │   5.525 secs  \n",
       "            ╵           ╵               \n",
       "</pre>\n"
      ],
      "text/plain": [
       "\u001b[3m              Game Summary              \u001b[0m\n",
       "            ╷           ╷               \n",
       " \u001b[1m \u001b[0m\u001b[1mAVG TICKS\u001b[0m\u001b[1m \u001b[0m│\u001b[1m \u001b[0m\u001b[1mAVG TURNS\u001b[0m\u001b[1m \u001b[0m│\u001b[1m \u001b[0m\u001b[1mAVG DURATION\u001b[0m\u001b[1m \u001b[0m \n",
       "╶───────────┼───────────┼──────────────╴\n",
       "     532.00 │    189.00 │   5.525 secs  \n",
       "            ╵           ╵               \n"
      ]
     },
     "metadata": {},
     "output_type": "display_data"
    },
    {
     "data": {
      "text/html": [
       "<pre style=\"white-space:pre;overflow-x:auto;line-height:normal;font-family:Menlo,'DejaVu Sans Mono',consolas,'Courier New',monospace\">Trained DQN model with loss: 99.3595\n",
       "</pre>\n"
      ],
      "text/plain": [
       "Trained DQN model with loss: 99.3595\n"
      ]
     },
     "metadata": {},
     "output_type": "display_data"
    },
    {
     "data": {
      "text/html": [
       "<pre style=\"white-space:pre;overflow-x:auto;line-height:normal;font-family:Menlo,'DejaVu Sans Mono',consolas,'Courier New',monospace\">Trained DQN model with loss: 98.8991\n",
       "</pre>\n"
      ],
      "text/plain": [
       "Trained DQN model with loss: 98.8991\n"
      ]
     },
     "metadata": {},
     "output_type": "display_data"
    },
    {
     "data": {
      "text/html": [
       "<pre style=\"white-space:pre;overflow-x:auto;line-height:normal;font-family:Menlo,'DejaVu Sans Mono',consolas,'Courier New',monospace\">Trained DQN model with loss: 99.1462\n",
       "</pre>\n"
      ],
      "text/plain": [
       "Trained DQN model with loss: 99.1462\n"
      ]
     },
     "metadata": {},
     "output_type": "display_data"
    },
    {
     "data": {
      "text/html": [
       "<pre style=\"white-space:pre;overflow-x:auto;line-height:normal;font-family:Menlo,'DejaVu Sans Mono',consolas,'Courier New',monospace\">Trained DQN model with loss: 99.0962\n",
       "</pre>\n"
      ],
      "text/plain": [
       "Trained DQN model with loss: 99.0962\n"
      ]
     },
     "metadata": {},
     "output_type": "display_data"
    },
    {
     "data": {
      "text/html": [
       "<pre style=\"white-space:pre;overflow-x:auto;line-height:normal;font-family:Menlo,'DejaVu Sans Mono',consolas,'Courier New',monospace\">Trained DQN model with loss: 99.1082\n",
       "</pre>\n"
      ],
      "text/plain": [
       "Trained DQN model with loss: 99.1082\n"
      ]
     },
     "metadata": {},
     "output_type": "display_data"
    },
    {
     "data": {
      "text/html": [
       "<pre style=\"white-space:pre;overflow-x:auto;line-height:normal;font-family:Menlo,'DejaVu Sans Mono',consolas,'Courier New',monospace\">Trained DQN model with loss: 99.1484\n",
       "</pre>\n"
      ],
      "text/plain": [
       "Trained DQN model with loss: 99.1484\n"
      ]
     },
     "metadata": {},
     "output_type": "display_data"
    },
    {
     "data": {
      "text/html": [
       "<pre style=\"white-space:pre;overflow-x:auto;line-height:normal;font-family:Menlo,'DejaVu Sans Mono',consolas,'Courier New',monospace\">Trained DQN model with loss: 99.4223\n",
       "</pre>\n"
      ],
      "text/plain": [
       "Trained DQN model with loss: 99.4223\n"
      ]
     },
     "metadata": {},
     "output_type": "display_data"
    },
    {
     "data": {
      "text/html": [
       "<pre style=\"white-space:pre;overflow-x:auto;line-height:normal;font-family:Menlo,'DejaVu Sans Mono',consolas,'Courier New',monospace\">Trained DQN model with loss: 98.9991\n",
       "</pre>\n"
      ],
      "text/plain": [
       "Trained DQN model with loss: 98.9991\n"
      ]
     },
     "metadata": {},
     "output_type": "display_data"
    },
    {
     "data": {
      "text/html": [
       "<pre style=\"white-space:pre;overflow-x:auto;line-height:normal;font-family:Menlo,'DejaVu Sans Mono',consolas,'Courier New',monospace\">Trained DQN model with loss: 99.0475\n",
       "</pre>\n"
      ],
      "text/plain": [
       "Trained DQN model with loss: 99.0475\n"
      ]
     },
     "metadata": {},
     "output_type": "display_data"
    },
    {
     "data": {
      "text/html": [
       "<pre style=\"white-space:pre;overflow-x:auto;line-height:normal;font-family:Menlo,'DejaVu Sans Mono',consolas,'Courier New',monospace\">Trained DQN model with loss: 99.0321\n",
       "</pre>\n"
      ],
      "text/plain": [
       "Trained DQN model with loss: 99.0321\n"
      ]
     },
     "metadata": {},
     "output_type": "display_data"
    },
    {
     "data": {
      "text/html": [
       "<pre style=\"white-space:pre;overflow-x:auto;line-height:normal;font-family:Menlo,'DejaVu Sans Mono',consolas,'Courier New',monospace\">Trained DQN model with loss: 99.2172\n",
       "</pre>\n"
      ],
      "text/plain": [
       "Trained DQN model with loss: 99.2172\n"
      ]
     },
     "metadata": {},
     "output_type": "display_data"
    },
    {
     "data": {
      "text/html": [
       "<pre style=\"white-space:pre;overflow-x:auto;line-height:normal;font-family:Menlo,'DejaVu Sans Mono',consolas,'Courier New',monospace\">Trained DQN model with loss: 99.0277\n",
       "</pre>\n"
      ],
      "text/plain": [
       "Trained DQN model with loss: 99.0277\n"
      ]
     },
     "metadata": {},
     "output_type": "display_data"
    },
    {
     "data": {
      "text/html": [
       "<pre style=\"white-space:pre;overflow-x:auto;line-height:normal;font-family:Menlo,'DejaVu Sans Mono',consolas,'Courier New',monospace\">Trained DQN model with loss: 99.0398\n",
       "</pre>\n"
      ],
      "text/plain": [
       "Trained DQN model with loss: 99.0398\n"
      ]
     },
     "metadata": {},
     "output_type": "display_data"
    },
    {
     "data": {
      "text/html": [
       "<pre style=\"white-space:pre;overflow-x:auto;line-height:normal;font-family:Menlo,'DejaVu Sans Mono',consolas,'Courier New',monospace\">Trained DQN model with loss: 99.2263\n",
       "</pre>\n"
      ],
      "text/plain": [
       "Trained DQN model with loss: 99.2263\n"
      ]
     },
     "metadata": {},
     "output_type": "display_data"
    },
    {
     "data": {
      "text/html": [
       "<pre style=\"white-space:pre;overflow-x:auto;line-height:normal;font-family:Menlo,'DejaVu Sans Mono',consolas,'Courier New',monospace\">Trained DQN model with loss: 99.0686\n",
       "</pre>\n"
      ],
      "text/plain": [
       "Trained DQN model with loss: 99.0686\n"
      ]
     },
     "metadata": {},
     "output_type": "display_data"
    },
    {
     "data": {
      "text/html": [
       "<pre style=\"white-space:pre;overflow-x:auto;line-height:normal;font-family:Menlo,'DejaVu Sans Mono',consolas,'Courier New',monospace\">Trained DQN model with loss: 99.3682\n",
       "</pre>\n"
      ],
      "text/plain": [
       "Trained DQN model with loss: 99.3682\n"
      ]
     },
     "metadata": {},
     "output_type": "display_data"
    },
    {
     "data": {
      "text/html": [
       "<pre style=\"white-space:pre;overflow-x:auto;line-height:normal;font-family:Menlo,'DejaVu Sans Mono',consolas,'Courier New',monospace\">Trained DQN model with loss: 99.1943\n",
       "</pre>\n"
      ],
      "text/plain": [
       "Trained DQN model with loss: 99.1943\n"
      ]
     },
     "metadata": {},
     "output_type": "display_data"
    },
    {
     "data": {
      "text/html": [
       "<pre style=\"white-space:pre;overflow-x:auto;line-height:normal;font-family:Menlo,'DejaVu Sans Mono',consolas,'Courier New',monospace\">Trained DQN model with loss: 99.2454\n",
       "</pre>\n"
      ],
      "text/plain": [
       "Trained DQN model with loss: 99.2454\n"
      ]
     },
     "metadata": {},
     "output_type": "display_data"
    },
    {
     "data": {
      "text/html": [
       "<pre style=\"white-space:pre;overflow-x:auto;line-height:normal;font-family:Menlo,'DejaVu Sans Mono',consolas,'Courier New',monospace\">Trained DQN model with loss: 99.2927\n",
       "</pre>\n"
      ],
      "text/plain": [
       "Trained DQN model with loss: 99.2927\n"
      ]
     },
     "metadata": {},
     "output_type": "display_data"
    },
    {
     "data": {
      "text/html": [
       "<pre style=\"white-space:pre;overflow-x:auto;line-height:normal;font-family:Menlo,'DejaVu Sans Mono',consolas,'Courier New',monospace\">Trained DQN model with loss: 99.0004\n",
       "</pre>\n"
      ],
      "text/plain": [
       "Trained DQN model with loss: 99.0004\n"
      ]
     },
     "metadata": {},
     "output_type": "display_data"
    },
    {
     "data": {
      "text/html": [
       "<pre style=\"white-space:pre;overflow-x:auto;line-height:normal;font-family:Menlo,'DejaVu Sans Mono',consolas,'Courier New',monospace\">Trained DQN model with loss: 99.3221\n",
       "</pre>\n"
      ],
      "text/plain": [
       "Trained DQN model with loss: 99.3221\n"
      ]
     },
     "metadata": {},
     "output_type": "display_data"
    },
    {
     "data": {
      "text/html": [
       "<pre style=\"white-space:pre;overflow-x:auto;line-height:normal;font-family:Menlo,'DejaVu Sans Mono',consolas,'Courier New',monospace\">Trained DQN model with loss: 98.9495\n",
       "</pre>\n"
      ],
      "text/plain": [
       "Trained DQN model with loss: 98.9495\n"
      ]
     },
     "metadata": {},
     "output_type": "display_data"
    },
    {
     "data": {
      "text/html": [
       "<pre style=\"white-space:pre;overflow-x:auto;line-height:normal;font-family:Menlo,'DejaVu Sans Mono',consolas,'Courier New',monospace\">Trained DQN model with loss: 98.9851\n",
       "</pre>\n"
      ],
      "text/plain": [
       "Trained DQN model with loss: 98.9851\n"
      ]
     },
     "metadata": {},
     "output_type": "display_data"
    },
    {
     "data": {
      "text/html": [
       "<pre style=\"white-space:pre;overflow-x:auto;line-height:normal;font-family:Menlo,'DejaVu Sans Mono',consolas,'Courier New',monospace\">Trained DQN model with loss: 99.1335\n",
       "</pre>\n"
      ],
      "text/plain": [
       "Trained DQN model with loss: 99.1335\n"
      ]
     },
     "metadata": {},
     "output_type": "display_data"
    },
    {
     "data": {
      "text/html": [
       "<pre style=\"white-space:pre;overflow-x:auto;line-height:normal;font-family:Menlo,'DejaVu Sans Mono',consolas,'Courier New',monospace\">Trained DQN model with loss: 99.1461\n",
       "</pre>\n"
      ],
      "text/plain": [
       "Trained DQN model with loss: 99.1461\n"
      ]
     },
     "metadata": {},
     "output_type": "display_data"
    },
    {
     "data": {
      "text/html": [
       "<pre style=\"white-space:pre;overflow-x:auto;line-height:normal;font-family:Menlo,'DejaVu Sans Mono',consolas,'Courier New',monospace\">Trained DQN model with loss: 99.1503\n",
       "</pre>\n"
      ],
      "text/plain": [
       "Trained DQN model with loss: 99.1503\n"
      ]
     },
     "metadata": {},
     "output_type": "display_data"
    },
    {
     "data": {
      "text/html": [
       "<pre style=\"white-space:pre;overflow-x:auto;line-height:normal;font-family:Menlo,'DejaVu Sans Mono',consolas,'Courier New',monospace\">Trained DQN model with loss: 98.9667\n",
       "</pre>\n"
      ],
      "text/plain": [
       "Trained DQN model with loss: 98.9667\n"
      ]
     },
     "metadata": {},
     "output_type": "display_data"
    },
    {
     "data": {
      "text/html": [
       "<pre style=\"white-space:pre;overflow-x:auto;line-height:normal;font-family:Menlo,'DejaVu Sans Mono',consolas,'Courier New',monospace\">Trained DQN model with loss: 99.2283\n",
       "</pre>\n"
      ],
      "text/plain": [
       "Trained DQN model with loss: 99.2283\n"
      ]
     },
     "metadata": {},
     "output_type": "display_data"
    },
    {
     "data": {
      "text/html": [
       "<pre style=\"white-space:pre;overflow-x:auto;line-height:normal;font-family:Menlo,'DejaVu Sans Mono',consolas,'Courier New',monospace\">Trained DQN model with loss: 99.1462\n",
       "</pre>\n"
      ],
      "text/plain": [
       "Trained DQN model with loss: 99.1462\n"
      ]
     },
     "metadata": {},
     "output_type": "display_data"
    },
    {
     "data": {
      "text/html": [
       "<pre style=\"white-space:pre;overflow-x:auto;line-height:normal;font-family:Menlo,'DejaVu Sans Mono',consolas,'Courier New',monospace\">Trained DQN model with loss: 99.3599\n",
       "</pre>\n"
      ],
      "text/plain": [
       "Trained DQN model with loss: 99.3599\n"
      ]
     },
     "metadata": {},
     "output_type": "display_data"
    },
    {
     "data": {
      "text/html": [
       "<pre style=\"white-space:pre;overflow-x:auto;line-height:normal;font-family:Menlo,'DejaVu Sans Mono',consolas,'Courier New',monospace\">Trained DQN model with loss: 99.0592\n",
       "</pre>\n"
      ],
      "text/plain": [
       "Trained DQN model with loss: 99.0592\n"
      ]
     },
     "metadata": {},
     "output_type": "display_data"
    },
    {
     "data": {
      "text/html": [
       "<pre style=\"white-space:pre;overflow-x:auto;line-height:normal;font-family:Menlo,'DejaVu Sans Mono',consolas,'Courier New',monospace\">Trained DQN model with loss: 99.1011\n",
       "</pre>\n"
      ],
      "text/plain": [
       "Trained DQN model with loss: 99.1011\n"
      ]
     },
     "metadata": {},
     "output_type": "display_data"
    },
    {
     "data": {
      "text/html": [
       "<pre style=\"white-space:pre;overflow-x:auto;line-height:normal;font-family:Menlo,'DejaVu Sans Mono',consolas,'Courier New',monospace\">Trained DQN model with loss: 99.0856\n",
       "</pre>\n"
      ],
      "text/plain": [
       "Trained DQN model with loss: 99.0856\n"
      ]
     },
     "metadata": {},
     "output_type": "display_data"
    },
    {
     "data": {
      "text/html": [
       "<pre style=\"white-space:pre;overflow-x:auto;line-height:normal;font-family:Menlo,'DejaVu Sans Mono',consolas,'Courier New',monospace\">Trained DQN model with loss: 99.2153\n",
       "</pre>\n"
      ],
      "text/plain": [
       "Trained DQN model with loss: 99.2153\n"
      ]
     },
     "metadata": {},
     "output_type": "display_data"
    },
    {
     "data": {
      "text/html": [
       "<pre style=\"white-space:pre;overflow-x:auto;line-height:normal;font-family:Menlo,'DejaVu Sans Mono',consolas,'Courier New',monospace\">Trained DQN model with loss: 99.2167\n",
       "</pre>\n"
      ],
      "text/plain": [
       "Trained DQN model with loss: 99.2167\n"
      ]
     },
     "metadata": {},
     "output_type": "display_data"
    },
    {
     "data": {
      "text/html": [
       "<pre style=\"white-space:pre;overflow-x:auto;line-height:normal;font-family:Menlo,'DejaVu Sans Mono',consolas,'Courier New',monospace\">Trained DQN model with loss: 99.2285\n",
       "</pre>\n"
      ],
      "text/plain": [
       "Trained DQN model with loss: 99.2285\n"
      ]
     },
     "metadata": {},
     "output_type": "display_data"
    },
    {
     "data": {
      "text/html": [
       "<pre style=\"white-space:pre;overflow-x:auto;line-height:normal;font-family:Menlo,'DejaVu Sans Mono',consolas,'Courier New',monospace\">Trained DQN model with loss: 99.2540\n",
       "</pre>\n"
      ],
      "text/plain": [
       "Trained DQN model with loss: 99.2540\n"
      ]
     },
     "metadata": {},
     "output_type": "display_data"
    },
    {
     "data": {
      "text/html": [
       "<pre style=\"white-space:pre;overflow-x:auto;line-height:normal;font-family:Menlo,'DejaVu Sans Mono',consolas,'Courier New',monospace\">Trained DQN model with loss: 99.2773\n",
       "</pre>\n"
      ],
      "text/plain": [
       "Trained DQN model with loss: 99.2773\n"
      ]
     },
     "metadata": {},
     "output_type": "display_data"
    },
    {
     "data": {
      "text/html": [
       "<pre style=\"white-space:pre;overflow-x:auto;line-height:normal;font-family:Menlo,'DejaVu Sans Mono',consolas,'Courier New',monospace\">Trained DQN model with loss: 99.2628\n",
       "</pre>\n"
      ],
      "text/plain": [
       "Trained DQN model with loss: 99.2628\n"
      ]
     },
     "metadata": {},
     "output_type": "display_data"
    },
    {
     "data": {
      "text/html": [
       "<pre style=\"white-space:pre;overflow-x:auto;line-height:normal;font-family:Menlo,'DejaVu Sans Mono',consolas,'Courier New',monospace\">Trained DQN model with loss: 99.0950\n",
       "</pre>\n"
      ],
      "text/plain": [
       "Trained DQN model with loss: 99.0950\n"
      ]
     },
     "metadata": {},
     "output_type": "display_data"
    },
    {
     "data": {
      "text/html": [
       "<pre style=\"white-space:pre;overflow-x:auto;line-height:normal;font-family:Menlo,'DejaVu Sans Mono',consolas,'Courier New',monospace\">Trained DQN model with loss: 99.1389\n",
       "</pre>\n"
      ],
      "text/plain": [
       "Trained DQN model with loss: 99.1389\n"
      ]
     },
     "metadata": {},
     "output_type": "display_data"
    },
    {
     "data": {
      "text/html": [
       "<pre style=\"white-space:pre;overflow-x:auto;line-height:normal;font-family:Menlo,'DejaVu Sans Mono',consolas,'Courier New',monospace\">Trained DQN model with loss: 99.1269\n",
       "</pre>\n"
      ],
      "text/plain": [
       "Trained DQN model with loss: 99.1269\n"
      ]
     },
     "metadata": {},
     "output_type": "display_data"
    },
    {
     "data": {
      "text/html": [
       "<pre style=\"white-space:pre;overflow-x:auto;line-height:normal;font-family:Menlo,'DejaVu Sans Mono',consolas,'Courier New',monospace\">Trained DQN model with loss: 99.0336\n",
       "</pre>\n"
      ],
      "text/plain": [
       "Trained DQN model with loss: 99.0336\n"
      ]
     },
     "metadata": {},
     "output_type": "display_data"
    },
    {
     "data": {
      "text/html": [
       "<pre style=\"white-space:pre;overflow-x:auto;line-height:normal;font-family:Menlo,'DejaVu Sans Mono',consolas,'Courier New',monospace\">Trained DQN model with loss: 99.1417\n",
       "</pre>\n"
      ],
      "text/plain": [
       "Trained DQN model with loss: 99.1417\n"
      ]
     },
     "metadata": {},
     "output_type": "display_data"
    },
    {
     "data": {
      "text/html": [
       "<pre style=\"white-space:pre;overflow-x:auto;line-height:normal;font-family:Menlo,'DejaVu Sans Mono',consolas,'Courier New',monospace\">Trained DQN model with loss: 99.0553\n",
       "</pre>\n"
      ],
      "text/plain": [
       "Trained DQN model with loss: 99.0553\n"
      ]
     },
     "metadata": {},
     "output_type": "display_data"
    },
    {
     "data": {
      "text/html": [
       "<pre style=\"white-space:pre;overflow-x:auto;line-height:normal;font-family:Menlo,'DejaVu Sans Mono',consolas,'Courier New',monospace\">Trained DQN model with loss: 99.0855\n",
       "</pre>\n"
      ],
      "text/plain": [
       "Trained DQN model with loss: 99.0855\n"
      ]
     },
     "metadata": {},
     "output_type": "display_data"
    },
    {
     "data": {
      "text/html": [
       "<pre style=\"white-space:pre;overflow-x:auto;line-height:normal;font-family:Menlo,'DejaVu Sans Mono',consolas,'Courier New',monospace\">Trained DQN model with loss: 98.9285\n",
       "</pre>\n"
      ],
      "text/plain": [
       "Trained DQN model with loss: 98.9285\n"
      ]
     },
     "metadata": {},
     "output_type": "display_data"
    },
    {
     "data": {
      "text/html": [
       "<pre style=\"white-space:pre;overflow-x:auto;line-height:normal;font-family:Menlo,'DejaVu Sans Mono',consolas,'Courier New',monospace\">Trained DQN model with loss: 99.0699\n",
       "</pre>\n"
      ],
      "text/plain": [
       "Trained DQN model with loss: 99.0699\n"
      ]
     },
     "metadata": {},
     "output_type": "display_data"
    },
    {
     "data": {
      "text/html": [
       "<pre style=\"white-space:pre;overflow-x:auto;line-height:normal;font-family:Menlo,'DejaVu Sans Mono',consolas,'Courier New',monospace\">Trained DQN model with loss: 99.2793\n",
       "</pre>\n"
      ],
      "text/plain": [
       "Trained DQN model with loss: 99.2793\n"
      ]
     },
     "metadata": {},
     "output_type": "display_data"
    },
    {
     "data": {
      "text/html": [
       "<pre style=\"white-space:pre;overflow-x:auto;line-height:normal;font-family:Menlo,'DejaVu Sans Mono',consolas,'Courier New',monospace\">Trained DQN model with loss: 99.2817\n",
       "</pre>\n"
      ],
      "text/plain": [
       "Trained DQN model with loss: 99.2817\n"
      ]
     },
     "metadata": {},
     "output_type": "display_data"
    },
    {
     "data": {
      "text/html": [
       "<pre style=\"white-space:pre;overflow-x:auto;line-height:normal;font-family:Menlo,'DejaVu Sans Mono',consolas,'Courier New',monospace\">Trained DQN model with loss: 99.3281\n",
       "</pre>\n"
      ],
      "text/plain": [
       "Trained DQN model with loss: 99.3281\n"
      ]
     },
     "metadata": {},
     "output_type": "display_data"
    },
    {
     "data": {
      "text/html": [
       "<pre style=\"white-space:pre;overflow-x:auto;line-height:normal;font-family:Menlo,'DejaVu Sans Mono',consolas,'Courier New',monospace\">Trained DQN model with loss: 99.4046\n",
       "</pre>\n"
      ],
      "text/plain": [
       "Trained DQN model with loss: 99.4046\n"
      ]
     },
     "metadata": {},
     "output_type": "display_data"
    },
    {
     "data": {
      "text/html": [
       "<pre style=\"white-space:pre;overflow-x:auto;line-height:normal;font-family:Menlo,'DejaVu Sans Mono',consolas,'Courier New',monospace\">Trained DQN model with loss: 99.0663\n",
       "</pre>\n"
      ],
      "text/plain": [
       "Trained DQN model with loss: 99.0663\n"
      ]
     },
     "metadata": {},
     "output_type": "display_data"
    },
    {
     "data": {
      "text/html": [
       "<pre style=\"white-space:pre;overflow-x:auto;line-height:normal;font-family:Menlo,'DejaVu Sans Mono',consolas,'Courier New',monospace\">Trained DQN model with loss: 99.1110\n",
       "</pre>\n"
      ],
      "text/plain": [
       "Trained DQN model with loss: 99.1110\n"
      ]
     },
     "metadata": {},
     "output_type": "display_data"
    },
    {
     "data": {
      "text/html": [
       "<pre style=\"white-space:pre;overflow-x:auto;line-height:normal;font-family:Menlo,'DejaVu Sans Mono',consolas,'Courier New',monospace\">Trained DQN model with loss: 99.3266\n",
       "</pre>\n"
      ],
      "text/plain": [
       "Trained DQN model with loss: 99.3266\n"
      ]
     },
     "metadata": {},
     "output_type": "display_data"
    },
    {
     "data": {
      "text/html": [
       "<pre style=\"white-space:pre;overflow-x:auto;line-height:normal;font-family:Menlo,'DejaVu Sans Mono',consolas,'Courier New',monospace\">Trained DQN model with loss: 99.2644\n",
       "</pre>\n"
      ],
      "text/plain": [
       "Trained DQN model with loss: 99.2644\n"
      ]
     },
     "metadata": {},
     "output_type": "display_data"
    },
    {
     "data": {
      "text/html": [
       "<pre style=\"white-space:pre;overflow-x:auto;line-height:normal;font-family:Menlo,'DejaVu Sans Mono',consolas,'Courier New',monospace\">Trained DQN model with loss: 99.2650\n",
       "</pre>\n"
      ],
      "text/plain": [
       "Trained DQN model with loss: 99.2650\n"
      ]
     },
     "metadata": {},
     "output_type": "display_data"
    },
    {
     "data": {
      "text/html": [
       "<pre style=\"white-space:pre;overflow-x:auto;line-height:normal;font-family:Menlo,'DejaVu Sans Mono',consolas,'Courier New',monospace\">Trained DQN model with loss: 99.3230\n",
       "</pre>\n"
      ],
      "text/plain": [
       "Trained DQN model with loss: 99.3230\n"
      ]
     },
     "metadata": {},
     "output_type": "display_data"
    },
    {
     "data": {
      "text/html": [
       "<pre style=\"white-space:pre;overflow-x:auto;line-height:normal;font-family:Menlo,'DejaVu Sans Mono',consolas,'Courier New',monospace\">Trained DQN model with loss: 99.4812\n",
       "</pre>\n"
      ],
      "text/plain": [
       "Trained DQN model with loss: 99.4812\n"
      ]
     },
     "metadata": {},
     "output_type": "display_data"
    },
    {
     "data": {
      "text/html": [
       "<pre style=\"white-space:pre;overflow-x:auto;line-height:normal;font-family:Menlo,'DejaVu Sans Mono',consolas,'Courier New',monospace\">Trained DQN model with loss: 99.1531\n",
       "</pre>\n"
      ],
      "text/plain": [
       "Trained DQN model with loss: 99.1531\n"
      ]
     },
     "metadata": {},
     "output_type": "display_data"
    },
    {
     "data": {
      "text/html": [
       "<pre style=\"white-space:pre;overflow-x:auto;line-height:normal;font-family:Menlo,'DejaVu Sans Mono',consolas,'Courier New',monospace\">Trained DQN model with loss: 99.3883\n",
       "</pre>\n"
      ],
      "text/plain": [
       "Trained DQN model with loss: 99.3883\n"
      ]
     },
     "metadata": {},
     "output_type": "display_data"
    },
    {
     "data": {
      "text/html": [
       "<pre style=\"white-space:pre;overflow-x:auto;line-height:normal;font-family:Menlo,'DejaVu Sans Mono',consolas,'Courier New',monospace\">Trained DQN model with loss: 99.1342\n",
       "</pre>\n"
      ],
      "text/plain": [
       "Trained DQN model with loss: 99.1342\n"
      ]
     },
     "metadata": {},
     "output_type": "display_data"
    },
    {
     "data": {
      "text/html": [
       "<pre style=\"white-space:pre;overflow-x:auto;line-height:normal;font-family:Menlo,'DejaVu Sans Mono',consolas,'Courier New',monospace\">Trained DQN model with loss: 99.3323\n",
       "</pre>\n"
      ],
      "text/plain": [
       "Trained DQN model with loss: 99.3323\n"
      ]
     },
     "metadata": {},
     "output_type": "display_data"
    },
    {
     "data": {
      "text/html": [
       "<pre style=\"white-space:pre;overflow-x:auto;line-height:normal;font-family:Menlo,'DejaVu Sans Mono',consolas,'Courier New',monospace\">Trained DQN model with loss: 99.3978\n",
       "</pre>\n"
      ],
      "text/plain": [
       "Trained DQN model with loss: 99.3978\n"
      ]
     },
     "metadata": {},
     "output_type": "display_data"
    },
    {
     "data": {
      "text/html": [
       "<pre style=\"white-space:pre;overflow-x:auto;line-height:normal;font-family:Menlo,'DejaVu Sans Mono',consolas,'Courier New',monospace\">Trained DQN model with loss: 99.0993\n",
       "</pre>\n"
      ],
      "text/plain": [
       "Trained DQN model with loss: 99.0993\n"
      ]
     },
     "metadata": {},
     "output_type": "display_data"
    },
    {
     "data": {
      "text/html": [
       "<pre style=\"white-space:pre;overflow-x:auto;line-height:normal;font-family:Menlo,'DejaVu Sans Mono',consolas,'Courier New',monospace\">Trained DQN model with loss: 99.3777\n",
       "</pre>\n"
      ],
      "text/plain": [
       "Trained DQN model with loss: 99.3777\n"
      ]
     },
     "metadata": {},
     "output_type": "display_data"
    },
    {
     "data": {
      "text/html": [
       "<pre style=\"white-space:pre;overflow-x:auto;line-height:normal;font-family:Menlo,'DejaVu Sans Mono',consolas,'Courier New',monospace\">Trained DQN model with loss: 99.2894\n",
       "</pre>\n"
      ],
      "text/plain": [
       "Trained DQN model with loss: 99.2894\n"
      ]
     },
     "metadata": {},
     "output_type": "display_data"
    },
    {
     "data": {
      "text/html": [
       "<pre style=\"white-space:pre;overflow-x:auto;line-height:normal;font-family:Menlo,'DejaVu Sans Mono',consolas,'Courier New',monospace\">Trained DQN model with loss: 99.2736\n",
       "</pre>\n"
      ],
      "text/plain": [
       "Trained DQN model with loss: 99.2736\n"
      ]
     },
     "metadata": {},
     "output_type": "display_data"
    },
    {
     "data": {
      "text/html": [
       "<pre style=\"white-space:pre;overflow-x:auto;line-height:normal;font-family:Menlo,'DejaVu Sans Mono',consolas,'Courier New',monospace\">Trained DQN model with loss: 99.1795\n",
       "</pre>\n"
      ],
      "text/plain": [
       "Trained DQN model with loss: 99.1795\n"
      ]
     },
     "metadata": {},
     "output_type": "display_data"
    },
    {
     "data": {
      "text/html": [
       "<pre style=\"white-space:pre;overflow-x:auto;line-height:normal;font-family:Menlo,'DejaVu Sans Mono',consolas,'Courier New',monospace\">Trained DQN model with loss: 99.3218\n",
       "</pre>\n"
      ],
      "text/plain": [
       "Trained DQN model with loss: 99.3218\n"
      ]
     },
     "metadata": {},
     "output_type": "display_data"
    },
    {
     "data": {
      "text/html": [
       "<pre style=\"white-space:pre;overflow-x:auto;line-height:normal;font-family:Menlo,'DejaVu Sans Mono',consolas,'Courier New',monospace\">Trained DQN model with loss: 99.1125\n",
       "</pre>\n"
      ],
      "text/plain": [
       "Trained DQN model with loss: 99.1125\n"
      ]
     },
     "metadata": {},
     "output_type": "display_data"
    },
    {
     "data": {
      "text/html": [
       "<pre style=\"white-space:pre;overflow-x:auto;line-height:normal;font-family:Menlo,'DejaVu Sans Mono',consolas,'Courier New',monospace\">Trained DQN model with loss: 99.5037\n",
       "</pre>\n"
      ],
      "text/plain": [
       "Trained DQN model with loss: 99.5037\n"
      ]
     },
     "metadata": {},
     "output_type": "display_data"
    },
    {
     "data": {
      "text/html": [
       "<pre style=\"white-space:pre;overflow-x:auto;line-height:normal;font-family:Menlo,'DejaVu Sans Mono',consolas,'Courier New',monospace\">Trained DQN model with loss: 99.3636\n",
       "</pre>\n"
      ],
      "text/plain": [
       "Trained DQN model with loss: 99.3636\n"
      ]
     },
     "metadata": {},
     "output_type": "display_data"
    },
    {
     "data": {
      "text/html": [
       "<pre style=\"white-space:pre;overflow-x:auto;line-height:normal;font-family:Menlo,'DejaVu Sans Mono',consolas,'Courier New',monospace\">Trained DQN model with loss: 99.0701\n",
       "</pre>\n"
      ],
      "text/plain": [
       "Trained DQN model with loss: 99.0701\n"
      ]
     },
     "metadata": {},
     "output_type": "display_data"
    },
    {
     "data": {
      "text/html": [
       "<pre style=\"white-space:pre;overflow-x:auto;line-height:normal;font-family:Menlo,'DejaVu Sans Mono',consolas,'Courier New',monospace\">Trained DQN model with loss: 99.2809\n",
       "</pre>\n"
      ],
      "text/plain": [
       "Trained DQN model with loss: 99.2809\n"
      ]
     },
     "metadata": {},
     "output_type": "display_data"
    },
    {
     "data": {
      "text/html": [
       "<pre style=\"white-space:pre;overflow-x:auto;line-height:normal;font-family:Menlo,'DejaVu Sans Mono',consolas,'Courier New',monospace\">Trained DQN model with loss: 99.3423\n",
       "</pre>\n"
      ],
      "text/plain": [
       "Trained DQN model with loss: 99.3423\n"
      ]
     },
     "metadata": {},
     "output_type": "display_data"
    },
    {
     "data": {
      "text/html": [
       "<pre style=\"white-space:pre;overflow-x:auto;line-height:normal;font-family:Menlo,'DejaVu Sans Mono',consolas,'Courier New',monospace\">Trained DQN model with loss: 99.3815\n",
       "</pre>\n"
      ],
      "text/plain": [
       "Trained DQN model with loss: 99.3815\n"
      ]
     },
     "metadata": {},
     "output_type": "display_data"
    },
    {
     "data": {
      "text/html": [
       "<pre style=\"white-space:pre;overflow-x:auto;line-height:normal;font-family:Menlo,'DejaVu Sans Mono',consolas,'Courier New',monospace\">Trained DQN model with loss: 99.4183\n",
       "</pre>\n"
      ],
      "text/plain": [
       "Trained DQN model with loss: 99.4183\n"
      ]
     },
     "metadata": {},
     "output_type": "display_data"
    },
    {
     "data": {
      "text/html": [
       "<pre style=\"white-space:pre;overflow-x:auto;line-height:normal;font-family:Menlo,'DejaVu Sans Mono',consolas,'Courier New',monospace\">Trained DQN model with loss: 99.3091\n",
       "</pre>\n"
      ],
      "text/plain": [
       "Trained DQN model with loss: 99.3091\n"
      ]
     },
     "metadata": {},
     "output_type": "display_data"
    },
    {
     "data": {
      "text/html": [
       "<pre style=\"white-space:pre;overflow-x:auto;line-height:normal;font-family:Menlo,'DejaVu Sans Mono',consolas,'Courier New',monospace\">Trained DQN model with loss: 99.2369\n",
       "</pre>\n"
      ],
      "text/plain": [
       "Trained DQN model with loss: 99.2369\n"
      ]
     },
     "metadata": {},
     "output_type": "display_data"
    },
    {
     "data": {
      "text/html": [
       "<pre style=\"white-space:pre;overflow-x:auto;line-height:normal;font-family:Menlo,'DejaVu Sans Mono',consolas,'Courier New',monospace\">Trained DQN model with loss: 99.1905\n",
       "</pre>\n"
      ],
      "text/plain": [
       "Trained DQN model with loss: 99.1905\n"
      ]
     },
     "metadata": {},
     "output_type": "display_data"
    },
    {
     "data": {
      "text/html": [
       "<pre style=\"white-space:pre;overflow-x:auto;line-height:normal;font-family:Menlo,'DejaVu Sans Mono',consolas,'Courier New',monospace\">Trained DQN model with loss: 99.5075\n",
       "</pre>\n"
      ],
      "text/plain": [
       "Trained DQN model with loss: 99.5075\n"
      ]
     },
     "metadata": {},
     "output_type": "display_data"
    },
    {
     "data": {
      "text/html": [
       "<pre style=\"white-space:pre;overflow-x:auto;line-height:normal;font-family:Menlo,'DejaVu Sans Mono',consolas,'Courier New',monospace\">Trained DQN model with loss: 99.3753\n",
       "</pre>\n"
      ],
      "text/plain": [
       "Trained DQN model with loss: 99.3753\n"
      ]
     },
     "metadata": {},
     "output_type": "display_data"
    },
    {
     "data": {
      "text/html": [
       "<pre style=\"white-space:pre;overflow-x:auto;line-height:normal;font-family:Menlo,'DejaVu Sans Mono',consolas,'Courier New',monospace\">Trained DQN model with loss: 99.2778\n",
       "</pre>\n"
      ],
      "text/plain": [
       "Trained DQN model with loss: 99.2778\n"
      ]
     },
     "metadata": {},
     "output_type": "display_data"
    },
    {
     "data": {
      "text/html": [
       "<pre style=\"white-space:pre;overflow-x:auto;line-height:normal;font-family:Menlo,'DejaVu Sans Mono',consolas,'Courier New',monospace\">Trained DQN model with loss: 99.2697\n",
       "</pre>\n"
      ],
      "text/plain": [
       "Trained DQN model with loss: 99.2697\n"
      ]
     },
     "metadata": {},
     "output_type": "display_data"
    },
    {
     "data": {
      "text/html": [
       "<pre style=\"white-space:pre;overflow-x:auto;line-height:normal;font-family:Menlo,'DejaVu Sans Mono',consolas,'Courier New',monospace\">Trained DQN model with loss: 99.0031\n",
       "</pre>\n"
      ],
      "text/plain": [
       "Trained DQN model with loss: 99.0031\n"
      ]
     },
     "metadata": {},
     "output_type": "display_data"
    },
    {
     "data": {
      "text/html": [
       "<pre style=\"white-space:pre;overflow-x:auto;line-height:normal;font-family:Menlo,'DejaVu Sans Mono',consolas,'Courier New',monospace\">Trained DQN model with loss: 99.3873\n",
       "</pre>\n"
      ],
      "text/plain": [
       "Trained DQN model with loss: 99.3873\n"
      ]
     },
     "metadata": {},
     "output_type": "display_data"
    },
    {
     "data": {
      "text/html": [
       "<pre style=\"white-space:pre;overflow-x:auto;line-height:normal;font-family:Menlo,'DejaVu Sans Mono',consolas,'Courier New',monospace\">Trained DQN model with loss: 99.4151\n",
       "</pre>\n"
      ],
      "text/plain": [
       "Trained DQN model with loss: 99.4151\n"
      ]
     },
     "metadata": {},
     "output_type": "display_data"
    },
    {
     "data": {
      "text/html": [
       "<pre style=\"white-space:pre;overflow-x:auto;line-height:normal;font-family:Menlo,'DejaVu Sans Mono',consolas,'Courier New',monospace\">Trained DQN model with loss: 99.2879\n",
       "</pre>\n"
      ],
      "text/plain": [
       "Trained DQN model with loss: 99.2879\n"
      ]
     },
     "metadata": {},
     "output_type": "display_data"
    },
    {
     "data": {
      "text/html": [
       "<pre style=\"white-space:pre;overflow-x:auto;line-height:normal;font-family:Menlo,'DejaVu Sans Mono',consolas,'Courier New',monospace\">Trained DQN model with loss: 99.2800\n",
       "</pre>\n"
      ],
      "text/plain": [
       "Trained DQN model with loss: 99.2800\n"
      ]
     },
     "metadata": {},
     "output_type": "display_data"
    },
    {
     "data": {
      "text/html": [
       "<pre style=\"white-space:pre;overflow-x:auto;line-height:normal;font-family:Menlo,'DejaVu Sans Mono',consolas,'Courier New',monospace\">Trained DQN model with loss: 99.3113\n",
       "</pre>\n"
      ],
      "text/plain": [
       "Trained DQN model with loss: 99.3113\n"
      ]
     },
     "metadata": {},
     "output_type": "display_data"
    },
    {
     "data": {
      "text/html": [
       "<pre style=\"white-space:pre;overflow-x:auto;line-height:normal;font-family:Menlo,'DejaVu Sans Mono',consolas,'Courier New',monospace\">Trained DQN model with loss: 99.1598\n",
       "</pre>\n"
      ],
      "text/plain": [
       "Trained DQN model with loss: 99.1598\n"
      ]
     },
     "metadata": {},
     "output_type": "display_data"
    },
    {
     "data": {
      "text/html": [
       "<pre style=\"white-space:pre;overflow-x:auto;line-height:normal;font-family:Menlo,'DejaVu Sans Mono',consolas,'Courier New',monospace\">Trained DQN model with loss: 99.3191\n",
       "</pre>\n"
      ],
      "text/plain": [
       "Trained DQN model with loss: 99.3191\n"
      ]
     },
     "metadata": {},
     "output_type": "display_data"
    },
    {
     "data": {
      "text/html": [
       "<pre style=\"white-space:pre;overflow-x:auto;line-height:normal;font-family:Menlo,'DejaVu Sans Mono',consolas,'Courier New',monospace\">Trained DQN model with loss: 99.2753\n",
       "</pre>\n"
      ],
      "text/plain": [
       "Trained DQN model with loss: 99.2753\n"
      ]
     },
     "metadata": {},
     "output_type": "display_data"
    },
    {
     "data": {
      "text/html": [
       "<pre style=\"white-space:pre;overflow-x:auto;line-height:normal;font-family:Menlo,'DejaVu Sans Mono',consolas,'Courier New',monospace\">Trained DQN model with loss: 99.4484\n",
       "</pre>\n"
      ],
      "text/plain": [
       "Trained DQN model with loss: 99.4484\n"
      ]
     },
     "metadata": {},
     "output_type": "display_data"
    },
    {
     "data": {
      "text/html": [
       "<pre style=\"white-space:pre;overflow-x:auto;line-height:normal;font-family:Menlo,'DejaVu Sans Mono',consolas,'Courier New',monospace\">Trained DQN model with loss: 99.4455\n",
       "</pre>\n"
      ],
      "text/plain": [
       "Trained DQN model with loss: 99.4455\n"
      ]
     },
     "metadata": {},
     "output_type": "display_data"
    },
    {
     "data": {
      "text/html": [
       "<pre style=\"white-space:pre;overflow-x:auto;line-height:normal;font-family:Menlo,'DejaVu Sans Mono',consolas,'Courier New',monospace\">Trained DQN model with loss: 99.1723\n",
       "</pre>\n"
      ],
      "text/plain": [
       "Trained DQN model with loss: 99.1723\n"
      ]
     },
     "metadata": {},
     "output_type": "display_data"
    },
    {
     "data": {
      "text/html": [
       "<pre style=\"white-space:pre;overflow-x:auto;line-height:normal;font-family:Menlo,'DejaVu Sans Mono',consolas,'Courier New',monospace\">Trained DQN model with loss: 99.5070\n",
       "</pre>\n"
      ],
      "text/plain": [
       "Trained DQN model with loss: 99.5070\n"
      ]
     },
     "metadata": {},
     "output_type": "display_data"
    },
    {
     "data": {
      "text/html": [
       "<pre style=\"white-space:pre;overflow-x:auto;line-height:normal;font-family:Menlo,'DejaVu Sans Mono',consolas,'Courier New',monospace\">Trained DQN model with loss: 99.1666\n",
       "</pre>\n"
      ],
      "text/plain": [
       "Trained DQN model with loss: 99.1666\n"
      ]
     },
     "metadata": {},
     "output_type": "display_data"
    },
    {
     "data": {
      "text/html": [
       "<pre style=\"white-space:pre;overflow-x:auto;line-height:normal;font-family:Menlo,'DejaVu Sans Mono',consolas,'Courier New',monospace\">Trained DQN model with loss: 99.2862\n",
       "</pre>\n"
      ],
      "text/plain": [
       "Trained DQN model with loss: 99.2862\n"
      ]
     },
     "metadata": {},
     "output_type": "display_data"
    },
    {
     "data": {
      "text/html": [
       "<pre style=\"white-space:pre;overflow-x:auto;line-height:normal;font-family:Menlo,'DejaVu Sans Mono',consolas,'Courier New',monospace\">Trained DQN model with loss: 99.2919\n",
       "</pre>\n"
      ],
      "text/plain": [
       "Trained DQN model with loss: 99.2919\n"
      ]
     },
     "metadata": {},
     "output_type": "display_data"
    },
    {
     "data": {
      "text/html": [
       "<pre style=\"white-space:pre;overflow-x:auto;line-height:normal;font-family:Menlo,'DejaVu Sans Mono',consolas,'Courier New',monospace\"></pre>\n"
      ],
      "text/plain": []
     },
     "metadata": {},
     "output_type": "display_data"
    },
    {
     "data": {
      "text/html": [
       "<pre style=\"white-space:pre;overflow-x:auto;line-height:normal;font-family:Menlo,'DejaVu Sans Mono',consolas,'Courier New',monospace\">\n",
       "</pre>\n"
      ],
      "text/plain": [
       "\n"
      ]
     },
     "metadata": {},
     "output_type": "display_data"
    },
    {
     "data": {
      "text/html": [
       "<pre style=\"white-space:pre;overflow-x:auto;line-height:normal;font-family:Menlo,'DejaVu Sans Mono',consolas,'Courier New',monospace\"><span style=\"font-style: italic\">                                      Last 1 Games                                      </span>\n",
       "    ╷                       ╷       ╷         ╷        ╷           ╷          ╷         \n",
       " <span style=\"font-weight: bold\"> # </span>│<span style=\"font-weight: bold\"> SEATING               </span>│<span style=\"font-weight: bold\"> TURNS </span>│<span style=\"font-weight: bold\"> BLUE VP </span>│<span style=\"font-weight: bold\"> RED VP </span>│<span style=\"font-weight: bold\"> ORANGE VP </span>│<span style=\"font-weight: bold\"> WHITE VP </span>│<span style=\"font-weight: bold\"> WINNER </span> \n",
       "╶───┼───────────────────────┼───────┼─────────┼────────┼───────────┼──────────┼────────╴\n",
       "  1 │ <span style=\"color: #000080; text-decoration-color: #000080\">BLUE</span>,<span style=\"color: #808000; text-decoration-color: #808000\">ORANGE</span>,<span style=\"color: #c0c0c0; text-decoration-color: #c0c0c0\">WHITE</span>,<span style=\"color: #800000; text-decoration-color: #800000\">RED</span> │   382 │      10 │      4 │         2 │        3 │ <span style=\"color: #000080; text-decoration-color: #000080\">BLUE</span>    \n",
       "    ╵                       ╵       ╵         ╵        ╵           ╵          ╵         \n",
       "</pre>\n"
      ],
      "text/plain": [
       "\u001b[3m                                      Last 1 Games                                      \u001b[0m\n",
       "    ╷                       ╷       ╷         ╷        ╷           ╷          ╷         \n",
       " \u001b[1m \u001b[0m\u001b[1m#\u001b[0m\u001b[1m \u001b[0m│\u001b[1m \u001b[0m\u001b[1mSEATING              \u001b[0m\u001b[1m \u001b[0m│\u001b[1m \u001b[0m\u001b[1mTURNS\u001b[0m\u001b[1m \u001b[0m│\u001b[1m \u001b[0m\u001b[1mBLUE VP\u001b[0m\u001b[1m \u001b[0m│\u001b[1m \u001b[0m\u001b[1mRED VP\u001b[0m\u001b[1m \u001b[0m│\u001b[1m \u001b[0m\u001b[1mORANGE VP\u001b[0m\u001b[1m \u001b[0m│\u001b[1m \u001b[0m\u001b[1mWHITE VP\u001b[0m\u001b[1m \u001b[0m│\u001b[1m \u001b[0m\u001b[1mWINNER\u001b[0m\u001b[1m \u001b[0m \n",
       "╶───┼───────────────────────┼───────┼─────────┼────────┼───────────┼──────────┼────────╴\n",
       "  1 │ \u001b[34mBLUE\u001b[0m,\u001b[33mORANGE\u001b[0m,\u001b[37mWHITE\u001b[0m,\u001b[31mRED\u001b[0m │   382 │      10 │      4 │         2 │        3 │ \u001b[34mBLUE\u001b[0m    \n",
       "    ╵                       ╵       ╵         ╵        ╵           ╵          ╵         \n"
      ]
     },
     "metadata": {},
     "output_type": "display_data"
    },
    {
     "data": {
      "text/html": [
       "<pre style=\"white-space:pre;overflow-x:auto;line-height:normal;font-family:Menlo,'DejaVu Sans Mono',consolas,'Courier New',monospace\"><span style=\"font-style: italic\">                                              Player Summary                                               </span>\n",
       "                            ╷      ╷        ╷             ╷            ╷          ╷          ╷             \n",
       " <span style=\"font-weight: bold\">                           </span>│<span style=\"font-weight: bold\"> WINS </span>│<span style=\"font-weight: bold\"> AVG VP </span>│<span style=\"font-weight: bold\"> AVG SETTLES </span>│<span style=\"font-weight: bold\"> AVG CITIES </span>│<span style=\"font-weight: bold\"> AVG ROAD </span>│<span style=\"font-weight: bold\"> AVG ARMY </span>│<span style=\"font-weight: bold\"> AVG DEV VP </span> \n",
       "╶───────────────────────────┼──────┼────────┼─────────────┼────────────┼──────────┼──────────┼────────────╴\n",
       "  <span style=\"color: #000080; text-decoration-color: #000080\">WeightedRandomPlayer:BLUE</span> │    1 │  10.00 │        5.00 │       0.00 │     0.00 │     1.00 │       3.00  \n",
       "  <span style=\"color: #800000; text-decoration-color: #800000\">AB_DQNPlayer_1:RED</span>        │    0 │   4.00 │        2.00 │       0.00 │     1.00 │     0.00 │       0.00  \n",
       "  <span style=\"color: #808000; text-decoration-color: #808000\">RandomPlayer:ORANGE</span>       │    0 │   2.00 │        2.00 │       0.00 │     0.00 │     0.00 │       0.00  \n",
       "  <span style=\"color: #c0c0c0; text-decoration-color: #c0c0c0\">RandomPlayer:WHITE</span>        │    0 │   3.00 │        2.00 │       0.00 │     0.00 │     0.00 │       1.00  \n",
       "                            ╵      ╵        ╵             ╵            ╵          ╵          ╵             \n",
       "</pre>\n"
      ],
      "text/plain": [
       "\u001b[3m                                              Player Summary                                               \u001b[0m\n",
       "                            ╷      ╷        ╷             ╷            ╷          ╷          ╷             \n",
       " \u001b[1m \u001b[0m\u001b[1m                         \u001b[0m\u001b[1m \u001b[0m│\u001b[1m \u001b[0m\u001b[1mWINS\u001b[0m\u001b[1m \u001b[0m│\u001b[1m \u001b[0m\u001b[1mAVG VP\u001b[0m\u001b[1m \u001b[0m│\u001b[1m \u001b[0m\u001b[1mAVG SETTLES\u001b[0m\u001b[1m \u001b[0m│\u001b[1m \u001b[0m\u001b[1mAVG CITIES\u001b[0m\u001b[1m \u001b[0m│\u001b[1m \u001b[0m\u001b[1mAVG ROAD\u001b[0m\u001b[1m \u001b[0m│\u001b[1m \u001b[0m\u001b[1mAVG ARMY\u001b[0m\u001b[1m \u001b[0m│\u001b[1m \u001b[0m\u001b[1mAVG DEV VP\u001b[0m\u001b[1m \u001b[0m \n",
       "╶───────────────────────────┼──────┼────────┼─────────────┼────────────┼──────────┼──────────┼────────────╴\n",
       "  \u001b[34mWeightedRandomPlayer:BLUE\u001b[0m │    1 │  10.00 │        5.00 │       0.00 │     0.00 │     1.00 │       3.00  \n",
       "  \u001b[31mAB_DQNPlayer_1:RED\u001b[0m        │    0 │   4.00 │        2.00 │       0.00 │     1.00 │     0.00 │       0.00  \n",
       "  \u001b[33mRandomPlayer:ORANGE\u001b[0m       │    0 │   2.00 │        2.00 │       0.00 │     0.00 │     0.00 │       0.00  \n",
       "  \u001b[37mRandomPlayer:WHITE\u001b[0m        │    0 │   3.00 │        2.00 │       0.00 │     0.00 │     0.00 │       1.00  \n",
       "                            ╵      ╵        ╵             ╵            ╵          ╵          ╵             \n"
      ]
     },
     "metadata": {},
     "output_type": "display_data"
    },
    {
     "data": {
      "text/html": [
       "<pre style=\"white-space:pre;overflow-x:auto;line-height:normal;font-family:Menlo,'DejaVu Sans Mono',consolas,'Courier New',monospace\"><span style=\"font-style: italic\">              Game Summary              </span>\n",
       "            ╷           ╷               \n",
       " <span style=\"font-weight: bold\"> AVG TICKS </span>│<span style=\"font-weight: bold\"> AVG TURNS </span>│<span style=\"font-weight: bold\"> AVG DURATION </span> \n",
       "╶───────────┼───────────┼──────────────╴\n",
       "    1031.00 │    382.00 │  14.706 secs  \n",
       "            ╵           ╵               \n",
       "</pre>\n"
      ],
      "text/plain": [
       "\u001b[3m              Game Summary              \u001b[0m\n",
       "            ╷           ╷               \n",
       " \u001b[1m \u001b[0m\u001b[1mAVG TICKS\u001b[0m\u001b[1m \u001b[0m│\u001b[1m \u001b[0m\u001b[1mAVG TURNS\u001b[0m\u001b[1m \u001b[0m│\u001b[1m \u001b[0m\u001b[1mAVG DURATION\u001b[0m\u001b[1m \u001b[0m \n",
       "╶───────────┼───────────┼──────────────╴\n",
       "    1031.00 │    382.00 │  14.706 secs  \n",
       "            ╵           ╵               \n"
      ]
     },
     "metadata": {},
     "output_type": "display_data"
    },
    {
     "data": {
      "text/html": [
       "<pre style=\"white-space:pre;overflow-x:auto;line-height:normal;font-family:Menlo,'DejaVu Sans Mono',consolas,'Courier New',monospace\">Trained DQN model with loss: 99.5512\n",
       "</pre>\n"
      ],
      "text/plain": [
       "Trained DQN model with loss: 99.5512\n"
      ]
     },
     "metadata": {},
     "output_type": "display_data"
    },
    {
     "data": {
      "text/html": [
       "<pre style=\"white-space:pre;overflow-x:auto;line-height:normal;font-family:Menlo,'DejaVu Sans Mono',consolas,'Courier New',monospace\">Trained DQN model with loss: 99.5557\n",
       "</pre>\n"
      ],
      "text/plain": [
       "Trained DQN model with loss: 99.5557\n"
      ]
     },
     "metadata": {},
     "output_type": "display_data"
    },
    {
     "data": {
      "text/html": [
       "<pre style=\"white-space:pre;overflow-x:auto;line-height:normal;font-family:Menlo,'DejaVu Sans Mono',consolas,'Courier New',monospace\">Trained DQN model with loss: 99.2865\n",
       "</pre>\n"
      ],
      "text/plain": [
       "Trained DQN model with loss: 99.2865\n"
      ]
     },
     "metadata": {},
     "output_type": "display_data"
    },
    {
     "data": {
      "text/html": [
       "<pre style=\"white-space:pre;overflow-x:auto;line-height:normal;font-family:Menlo,'DejaVu Sans Mono',consolas,'Courier New',monospace\">Trained DQN model with loss: 99.3731\n",
       "</pre>\n"
      ],
      "text/plain": [
       "Trained DQN model with loss: 99.3731\n"
      ]
     },
     "metadata": {},
     "output_type": "display_data"
    },
    {
     "data": {
      "text/html": [
       "<pre style=\"white-space:pre;overflow-x:auto;line-height:normal;font-family:Menlo,'DejaVu Sans Mono',consolas,'Courier New',monospace\">Trained DQN model with loss: 99.3201\n",
       "</pre>\n"
      ],
      "text/plain": [
       "Trained DQN model with loss: 99.3201\n"
      ]
     },
     "metadata": {},
     "output_type": "display_data"
    },
    {
     "data": {
      "text/html": [
       "<pre style=\"white-space:pre;overflow-x:auto;line-height:normal;font-family:Menlo,'DejaVu Sans Mono',consolas,'Courier New',monospace\">Trained DQN model with loss: 99.2956\n",
       "</pre>\n"
      ],
      "text/plain": [
       "Trained DQN model with loss: 99.2956\n"
      ]
     },
     "metadata": {},
     "output_type": "display_data"
    },
    {
     "data": {
      "text/html": [
       "<pre style=\"white-space:pre;overflow-x:auto;line-height:normal;font-family:Menlo,'DejaVu Sans Mono',consolas,'Courier New',monospace\">Trained DQN model with loss: 99.3535\n",
       "</pre>\n"
      ],
      "text/plain": [
       "Trained DQN model with loss: 99.3535\n"
      ]
     },
     "metadata": {},
     "output_type": "display_data"
    },
    {
     "data": {
      "text/html": [
       "<pre style=\"white-space:pre;overflow-x:auto;line-height:normal;font-family:Menlo,'DejaVu Sans Mono',consolas,'Courier New',monospace\">Trained DQN model with loss: 99.5031\n",
       "</pre>\n"
      ],
      "text/plain": [
       "Trained DQN model with loss: 99.5031\n"
      ]
     },
     "metadata": {},
     "output_type": "display_data"
    },
    {
     "data": {
      "text/html": [
       "<pre style=\"white-space:pre;overflow-x:auto;line-height:normal;font-family:Menlo,'DejaVu Sans Mono',consolas,'Courier New',monospace\">Trained DQN model with loss: 99.4905\n",
       "</pre>\n"
      ],
      "text/plain": [
       "Trained DQN model with loss: 99.4905\n"
      ]
     },
     "metadata": {},
     "output_type": "display_data"
    },
    {
     "data": {
      "text/html": [
       "<pre style=\"white-space:pre;overflow-x:auto;line-height:normal;font-family:Menlo,'DejaVu Sans Mono',consolas,'Courier New',monospace\">Trained DQN model with loss: 99.2932\n",
       "</pre>\n"
      ],
      "text/plain": [
       "Trained DQN model with loss: 99.2932\n"
      ]
     },
     "metadata": {},
     "output_type": "display_data"
    },
    {
     "data": {
      "text/html": [
       "<pre style=\"white-space:pre;overflow-x:auto;line-height:normal;font-family:Menlo,'DejaVu Sans Mono',consolas,'Courier New',monospace\">Trained DQN model with loss: 99.2204\n",
       "</pre>\n"
      ],
      "text/plain": [
       "Trained DQN model with loss: 99.2204\n"
      ]
     },
     "metadata": {},
     "output_type": "display_data"
    },
    {
     "data": {
      "text/html": [
       "<pre style=\"white-space:pre;overflow-x:auto;line-height:normal;font-family:Menlo,'DejaVu Sans Mono',consolas,'Courier New',monospace\">Trained DQN model with loss: 99.1768\n",
       "</pre>\n"
      ],
      "text/plain": [
       "Trained DQN model with loss: 99.1768\n"
      ]
     },
     "metadata": {},
     "output_type": "display_data"
    },
    {
     "data": {
      "text/html": [
       "<pre style=\"white-space:pre;overflow-x:auto;line-height:normal;font-family:Menlo,'DejaVu Sans Mono',consolas,'Courier New',monospace\">Trained DQN model with loss: 99.2425\n",
       "</pre>\n"
      ],
      "text/plain": [
       "Trained DQN model with loss: 99.2425\n"
      ]
     },
     "metadata": {},
     "output_type": "display_data"
    },
    {
     "data": {
      "text/html": [
       "<pre style=\"white-space:pre;overflow-x:auto;line-height:normal;font-family:Menlo,'DejaVu Sans Mono',consolas,'Courier New',monospace\">Trained DQN model with loss: 99.1446\n",
       "</pre>\n"
      ],
      "text/plain": [
       "Trained DQN model with loss: 99.1446\n"
      ]
     },
     "metadata": {},
     "output_type": "display_data"
    },
    {
     "data": {
      "text/html": [
       "<pre style=\"white-space:pre;overflow-x:auto;line-height:normal;font-family:Menlo,'DejaVu Sans Mono',consolas,'Courier New',monospace\">Trained DQN model with loss: 99.3791\n",
       "</pre>\n"
      ],
      "text/plain": [
       "Trained DQN model with loss: 99.3791\n"
      ]
     },
     "metadata": {},
     "output_type": "display_data"
    },
    {
     "data": {
      "text/html": [
       "<pre style=\"white-space:pre;overflow-x:auto;line-height:normal;font-family:Menlo,'DejaVu Sans Mono',consolas,'Courier New',monospace\">Trained DQN model with loss: 99.3826\n",
       "</pre>\n"
      ],
      "text/plain": [
       "Trained DQN model with loss: 99.3826\n"
      ]
     },
     "metadata": {},
     "output_type": "display_data"
    },
    {
     "data": {
      "text/html": [
       "<pre style=\"white-space:pre;overflow-x:auto;line-height:normal;font-family:Menlo,'DejaVu Sans Mono',consolas,'Courier New',monospace\">Trained DQN model with loss: 99.4821\n",
       "</pre>\n"
      ],
      "text/plain": [
       "Trained DQN model with loss: 99.4821\n"
      ]
     },
     "metadata": {},
     "output_type": "display_data"
    },
    {
     "data": {
      "text/html": [
       "<pre style=\"white-space:pre;overflow-x:auto;line-height:normal;font-family:Menlo,'DejaVu Sans Mono',consolas,'Courier New',monospace\">Trained DQN model with loss: 99.5581\n",
       "</pre>\n"
      ],
      "text/plain": [
       "Trained DQN model with loss: 99.5581\n"
      ]
     },
     "metadata": {},
     "output_type": "display_data"
    },
    {
     "data": {
      "text/html": [
       "<pre style=\"white-space:pre;overflow-x:auto;line-height:normal;font-family:Menlo,'DejaVu Sans Mono',consolas,'Courier New',monospace\">Trained DQN model with loss: 99.2737\n",
       "</pre>\n"
      ],
      "text/plain": [
       "Trained DQN model with loss: 99.2737\n"
      ]
     },
     "metadata": {},
     "output_type": "display_data"
    },
    {
     "data": {
      "text/html": [
       "<pre style=\"white-space:pre;overflow-x:auto;line-height:normal;font-family:Menlo,'DejaVu Sans Mono',consolas,'Courier New',monospace\">Trained DQN model with loss: 99.3390\n",
       "</pre>\n"
      ],
      "text/plain": [
       "Trained DQN model with loss: 99.3390\n"
      ]
     },
     "metadata": {},
     "output_type": "display_data"
    },
    {
     "data": {
      "text/html": [
       "<pre style=\"white-space:pre;overflow-x:auto;line-height:normal;font-family:Menlo,'DejaVu Sans Mono',consolas,'Courier New',monospace\">Trained DQN model with loss: 99.4943\n",
       "</pre>\n"
      ],
      "text/plain": [
       "Trained DQN model with loss: 99.4943\n"
      ]
     },
     "metadata": {},
     "output_type": "display_data"
    },
    {
     "data": {
      "text/html": [
       "<pre style=\"white-space:pre;overflow-x:auto;line-height:normal;font-family:Menlo,'DejaVu Sans Mono',consolas,'Courier New',monospace\">Trained DQN model with loss: 99.4254\n",
       "</pre>\n"
      ],
      "text/plain": [
       "Trained DQN model with loss: 99.4254\n"
      ]
     },
     "metadata": {},
     "output_type": "display_data"
    },
    {
     "data": {
      "text/html": [
       "<pre style=\"white-space:pre;overflow-x:auto;line-height:normal;font-family:Menlo,'DejaVu Sans Mono',consolas,'Courier New',monospace\">Trained DQN model with loss: 99.3258\n",
       "</pre>\n"
      ],
      "text/plain": [
       "Trained DQN model with loss: 99.3258\n"
      ]
     },
     "metadata": {},
     "output_type": "display_data"
    },
    {
     "data": {
      "text/html": [
       "<pre style=\"white-space:pre;overflow-x:auto;line-height:normal;font-family:Menlo,'DejaVu Sans Mono',consolas,'Courier New',monospace\">Trained DQN model with loss: 99.5681\n",
       "</pre>\n"
      ],
      "text/plain": [
       "Trained DQN model with loss: 99.5681\n"
      ]
     },
     "metadata": {},
     "output_type": "display_data"
    },
    {
     "data": {
      "text/html": [
       "<pre style=\"white-space:pre;overflow-x:auto;line-height:normal;font-family:Menlo,'DejaVu Sans Mono',consolas,'Courier New',monospace\">Trained DQN model with loss: 99.4255\n",
       "</pre>\n"
      ],
      "text/plain": [
       "Trained DQN model with loss: 99.4255\n"
      ]
     },
     "metadata": {},
     "output_type": "display_data"
    },
    {
     "data": {
      "text/html": [
       "<pre style=\"white-space:pre;overflow-x:auto;line-height:normal;font-family:Menlo,'DejaVu Sans Mono',consolas,'Courier New',monospace\">Trained DQN model with loss: 99.3335\n",
       "</pre>\n"
      ],
      "text/plain": [
       "Trained DQN model with loss: 99.3335\n"
      ]
     },
     "metadata": {},
     "output_type": "display_data"
    },
    {
     "data": {
      "text/html": [
       "<pre style=\"white-space:pre;overflow-x:auto;line-height:normal;font-family:Menlo,'DejaVu Sans Mono',consolas,'Courier New',monospace\">Trained DQN model with loss: 99.2940\n",
       "</pre>\n"
      ],
      "text/plain": [
       "Trained DQN model with loss: 99.2940\n"
      ]
     },
     "metadata": {},
     "output_type": "display_data"
    },
    {
     "data": {
      "text/html": [
       "<pre style=\"white-space:pre;overflow-x:auto;line-height:normal;font-family:Menlo,'DejaVu Sans Mono',consolas,'Courier New',monospace\">Trained DQN model with loss: 99.5461\n",
       "</pre>\n"
      ],
      "text/plain": [
       "Trained DQN model with loss: 99.5461\n"
      ]
     },
     "metadata": {},
     "output_type": "display_data"
    },
    {
     "data": {
      "text/html": [
       "<pre style=\"white-space:pre;overflow-x:auto;line-height:normal;font-family:Menlo,'DejaVu Sans Mono',consolas,'Courier New',monospace\">Trained DQN model with loss: 99.4745\n",
       "</pre>\n"
      ],
      "text/plain": [
       "Trained DQN model with loss: 99.4745\n"
      ]
     },
     "metadata": {},
     "output_type": "display_data"
    },
    {
     "data": {
      "text/html": [
       "<pre style=\"white-space:pre;overflow-x:auto;line-height:normal;font-family:Menlo,'DejaVu Sans Mono',consolas,'Courier New',monospace\">Trained DQN model with loss: 99.5045\n",
       "</pre>\n"
      ],
      "text/plain": [
       "Trained DQN model with loss: 99.5045\n"
      ]
     },
     "metadata": {},
     "output_type": "display_data"
    },
    {
     "data": {
      "text/html": [
       "<pre style=\"white-space:pre;overflow-x:auto;line-height:normal;font-family:Menlo,'DejaVu Sans Mono',consolas,'Courier New',monospace\">Trained DQN model with loss: 99.4678\n",
       "</pre>\n"
      ],
      "text/plain": [
       "Trained DQN model with loss: 99.4678\n"
      ]
     },
     "metadata": {},
     "output_type": "display_data"
    },
    {
     "data": {
      "text/html": [
       "<pre style=\"white-space:pre;overflow-x:auto;line-height:normal;font-family:Menlo,'DejaVu Sans Mono',consolas,'Courier New',monospace\">Trained DQN model with loss: 99.2978\n",
       "</pre>\n"
      ],
      "text/plain": [
       "Trained DQN model with loss: 99.2978\n"
      ]
     },
     "metadata": {},
     "output_type": "display_data"
    },
    {
     "data": {
      "text/html": [
       "<pre style=\"white-space:pre;overflow-x:auto;line-height:normal;font-family:Menlo,'DejaVu Sans Mono',consolas,'Courier New',monospace\">Trained DQN model with loss: 99.4148\n",
       "</pre>\n"
      ],
      "text/plain": [
       "Trained DQN model with loss: 99.4148\n"
      ]
     },
     "metadata": {},
     "output_type": "display_data"
    },
    {
     "data": {
      "text/html": [
       "<pre style=\"white-space:pre;overflow-x:auto;line-height:normal;font-family:Menlo,'DejaVu Sans Mono',consolas,'Courier New',monospace\">Trained DQN model with loss: 99.4501\n",
       "</pre>\n"
      ],
      "text/plain": [
       "Trained DQN model with loss: 99.4501\n"
      ]
     },
     "metadata": {},
     "output_type": "display_data"
    },
    {
     "data": {
      "text/html": [
       "<pre style=\"white-space:pre;overflow-x:auto;line-height:normal;font-family:Menlo,'DejaVu Sans Mono',consolas,'Courier New',monospace\">Trained DQN model with loss: 99.4538\n",
       "</pre>\n"
      ],
      "text/plain": [
       "Trained DQN model with loss: 99.4538\n"
      ]
     },
     "metadata": {},
     "output_type": "display_data"
    },
    {
     "data": {
      "text/html": [
       "<pre style=\"white-space:pre;overflow-x:auto;line-height:normal;font-family:Menlo,'DejaVu Sans Mono',consolas,'Courier New',monospace\">Trained DQN model with loss: 99.3673\n",
       "</pre>\n"
      ],
      "text/plain": [
       "Trained DQN model with loss: 99.3673\n"
      ]
     },
     "metadata": {},
     "output_type": "display_data"
    },
    {
     "data": {
      "text/html": [
       "<pre style=\"white-space:pre;overflow-x:auto;line-height:normal;font-family:Menlo,'DejaVu Sans Mono',consolas,'Courier New',monospace\">Trained DQN model with loss: 99.3549\n",
       "</pre>\n"
      ],
      "text/plain": [
       "Trained DQN model with loss: 99.3549\n"
      ]
     },
     "metadata": {},
     "output_type": "display_data"
    },
    {
     "data": {
      "text/html": [
       "<pre style=\"white-space:pre;overflow-x:auto;line-height:normal;font-family:Menlo,'DejaVu Sans Mono',consolas,'Courier New',monospace\">Trained DQN model with loss: 99.2755\n",
       "</pre>\n"
      ],
      "text/plain": [
       "Trained DQN model with loss: 99.2755\n"
      ]
     },
     "metadata": {},
     "output_type": "display_data"
    },
    {
     "data": {
      "text/html": [
       "<pre style=\"white-space:pre;overflow-x:auto;line-height:normal;font-family:Menlo,'DejaVu Sans Mono',consolas,'Courier New',monospace\">Trained DQN model with loss: 99.3146\n",
       "</pre>\n"
      ],
      "text/plain": [
       "Trained DQN model with loss: 99.3146\n"
      ]
     },
     "metadata": {},
     "output_type": "display_data"
    },
    {
     "data": {
      "text/html": [
       "<pre style=\"white-space:pre;overflow-x:auto;line-height:normal;font-family:Menlo,'DejaVu Sans Mono',consolas,'Courier New',monospace\">Trained DQN model with loss: 99.4294\n",
       "</pre>\n"
      ],
      "text/plain": [
       "Trained DQN model with loss: 99.4294\n"
      ]
     },
     "metadata": {},
     "output_type": "display_data"
    },
    {
     "data": {
      "text/html": [
       "<pre style=\"white-space:pre;overflow-x:auto;line-height:normal;font-family:Menlo,'DejaVu Sans Mono',consolas,'Courier New',monospace\">Trained DQN model with loss: 99.4839\n",
       "</pre>\n"
      ],
      "text/plain": [
       "Trained DQN model with loss: 99.4839\n"
      ]
     },
     "metadata": {},
     "output_type": "display_data"
    },
    {
     "data": {
      "text/html": [
       "<pre style=\"white-space:pre;overflow-x:auto;line-height:normal;font-family:Menlo,'DejaVu Sans Mono',consolas,'Courier New',monospace\">Trained DQN model with loss: 99.5060\n",
       "</pre>\n"
      ],
      "text/plain": [
       "Trained DQN model with loss: 99.5060\n"
      ]
     },
     "metadata": {},
     "output_type": "display_data"
    },
    {
     "data": {
      "text/html": [
       "<pre style=\"white-space:pre;overflow-x:auto;line-height:normal;font-family:Menlo,'DejaVu Sans Mono',consolas,'Courier New',monospace\">Trained DQN model with loss: 99.5231\n",
       "</pre>\n"
      ],
      "text/plain": [
       "Trained DQN model with loss: 99.5231\n"
      ]
     },
     "metadata": {},
     "output_type": "display_data"
    },
    {
     "data": {
      "text/html": [
       "<pre style=\"white-space:pre;overflow-x:auto;line-height:normal;font-family:Menlo,'DejaVu Sans Mono',consolas,'Courier New',monospace\">Trained DQN model with loss: 99.7293\n",
       "</pre>\n"
      ],
      "text/plain": [
       "Trained DQN model with loss: 99.7293\n"
      ]
     },
     "metadata": {},
     "output_type": "display_data"
    },
    {
     "data": {
      "text/html": [
       "<pre style=\"white-space:pre;overflow-x:auto;line-height:normal;font-family:Menlo,'DejaVu Sans Mono',consolas,'Courier New',monospace\">Trained DQN model with loss: 99.2976\n",
       "</pre>\n"
      ],
      "text/plain": [
       "Trained DQN model with loss: 99.2976\n"
      ]
     },
     "metadata": {},
     "output_type": "display_data"
    },
    {
     "data": {
      "text/html": [
       "<pre style=\"white-space:pre;overflow-x:auto;line-height:normal;font-family:Menlo,'DejaVu Sans Mono',consolas,'Courier New',monospace\">Trained DQN model with loss: 99.5225\n",
       "</pre>\n"
      ],
      "text/plain": [
       "Trained DQN model with loss: 99.5225\n"
      ]
     },
     "metadata": {},
     "output_type": "display_data"
    },
    {
     "data": {
      "text/html": [
       "<pre style=\"white-space:pre;overflow-x:auto;line-height:normal;font-family:Menlo,'DejaVu Sans Mono',consolas,'Courier New',monospace\">Trained DQN model with loss: 99.1850\n",
       "</pre>\n"
      ],
      "text/plain": [
       "Trained DQN model with loss: 99.1850\n"
      ]
     },
     "metadata": {},
     "output_type": "display_data"
    },
    {
     "data": {
      "text/html": [
       "<pre style=\"white-space:pre;overflow-x:auto;line-height:normal;font-family:Menlo,'DejaVu Sans Mono',consolas,'Courier New',monospace\">Trained DQN model with loss: 99.2829\n",
       "</pre>\n"
      ],
      "text/plain": [
       "Trained DQN model with loss: 99.2829\n"
      ]
     },
     "metadata": {},
     "output_type": "display_data"
    },
    {
     "data": {
      "text/html": [
       "<pre style=\"white-space:pre;overflow-x:auto;line-height:normal;font-family:Menlo,'DejaVu Sans Mono',consolas,'Courier New',monospace\">Trained DQN model with loss: 99.3536\n",
       "</pre>\n"
      ],
      "text/plain": [
       "Trained DQN model with loss: 99.3536\n"
      ]
     },
     "metadata": {},
     "output_type": "display_data"
    },
    {
     "data": {
      "text/html": [
       "<pre style=\"white-space:pre;overflow-x:auto;line-height:normal;font-family:Menlo,'DejaVu Sans Mono',consolas,'Courier New',monospace\">Trained DQN model with loss: 99.2577\n",
       "</pre>\n"
      ],
      "text/plain": [
       "Trained DQN model with loss: 99.2577\n"
      ]
     },
     "metadata": {},
     "output_type": "display_data"
    },
    {
     "data": {
      "text/html": [
       "<pre style=\"white-space:pre;overflow-x:auto;line-height:normal;font-family:Menlo,'DejaVu Sans Mono',consolas,'Courier New',monospace\">Trained DQN model with loss: 99.5693\n",
       "</pre>\n"
      ],
      "text/plain": [
       "Trained DQN model with loss: 99.5693\n"
      ]
     },
     "metadata": {},
     "output_type": "display_data"
    },
    {
     "data": {
      "text/html": [
       "<pre style=\"white-space:pre;overflow-x:auto;line-height:normal;font-family:Menlo,'DejaVu Sans Mono',consolas,'Courier New',monospace\">Trained DQN model with loss: 99.3706\n",
       "</pre>\n"
      ],
      "text/plain": [
       "Trained DQN model with loss: 99.3706\n"
      ]
     },
     "metadata": {},
     "output_type": "display_data"
    },
    {
     "data": {
      "text/html": [
       "<pre style=\"white-space:pre;overflow-x:auto;line-height:normal;font-family:Menlo,'DejaVu Sans Mono',consolas,'Courier New',monospace\">Trained DQN model with loss: 99.3548\n",
       "</pre>\n"
      ],
      "text/plain": [
       "Trained DQN model with loss: 99.3548\n"
      ]
     },
     "metadata": {},
     "output_type": "display_data"
    },
    {
     "data": {
      "text/html": [
       "<pre style=\"white-space:pre;overflow-x:auto;line-height:normal;font-family:Menlo,'DejaVu Sans Mono',consolas,'Courier New',monospace\">Trained DQN model with loss: 99.5059\n",
       "</pre>\n"
      ],
      "text/plain": [
       "Trained DQN model with loss: 99.5059\n"
      ]
     },
     "metadata": {},
     "output_type": "display_data"
    },
    {
     "data": {
      "text/html": [
       "<pre style=\"white-space:pre;overflow-x:auto;line-height:normal;font-family:Menlo,'DejaVu Sans Mono',consolas,'Courier New',monospace\">Trained DQN model with loss: 99.4351\n",
       "</pre>\n"
      ],
      "text/plain": [
       "Trained DQN model with loss: 99.4351\n"
      ]
     },
     "metadata": {},
     "output_type": "display_data"
    },
    {
     "data": {
      "text/html": [
       "<pre style=\"white-space:pre;overflow-x:auto;line-height:normal;font-family:Menlo,'DejaVu Sans Mono',consolas,'Courier New',monospace\">Trained DQN model with loss: 99.4107\n",
       "</pre>\n"
      ],
      "text/plain": [
       "Trained DQN model with loss: 99.4107\n"
      ]
     },
     "metadata": {},
     "output_type": "display_data"
    },
    {
     "data": {
      "text/html": [
       "<pre style=\"white-space:pre;overflow-x:auto;line-height:normal;font-family:Menlo,'DejaVu Sans Mono',consolas,'Courier New',monospace\">Trained DQN model with loss: 99.6418\n",
       "</pre>\n"
      ],
      "text/plain": [
       "Trained DQN model with loss: 99.6418\n"
      ]
     },
     "metadata": {},
     "output_type": "display_data"
    },
    {
     "data": {
      "text/html": [
       "<pre style=\"white-space:pre;overflow-x:auto;line-height:normal;font-family:Menlo,'DejaVu Sans Mono',consolas,'Courier New',monospace\">Trained DQN model with loss: 99.5825\n",
       "</pre>\n"
      ],
      "text/plain": [
       "Trained DQN model with loss: 99.5825\n"
      ]
     },
     "metadata": {},
     "output_type": "display_data"
    },
    {
     "data": {
      "text/html": [
       "<pre style=\"white-space:pre;overflow-x:auto;line-height:normal;font-family:Menlo,'DejaVu Sans Mono',consolas,'Courier New',monospace\">Trained DQN model with loss: 99.5401\n",
       "</pre>\n"
      ],
      "text/plain": [
       "Trained DQN model with loss: 99.5401\n"
      ]
     },
     "metadata": {},
     "output_type": "display_data"
    },
    {
     "data": {
      "text/html": [
       "<pre style=\"white-space:pre;overflow-x:auto;line-height:normal;font-family:Menlo,'DejaVu Sans Mono',consolas,'Courier New',monospace\">Trained DQN model with loss: 99.3097\n",
       "</pre>\n"
      ],
      "text/plain": [
       "Trained DQN model with loss: 99.3097\n"
      ]
     },
     "metadata": {},
     "output_type": "display_data"
    },
    {
     "data": {
      "text/html": [
       "<pre style=\"white-space:pre;overflow-x:auto;line-height:normal;font-family:Menlo,'DejaVu Sans Mono',consolas,'Courier New',monospace\">Trained DQN model with loss: 99.5857\n",
       "</pre>\n"
      ],
      "text/plain": [
       "Trained DQN model with loss: 99.5857\n"
      ]
     },
     "metadata": {},
     "output_type": "display_data"
    },
    {
     "data": {
      "text/html": [
       "<pre style=\"white-space:pre;overflow-x:auto;line-height:normal;font-family:Menlo,'DejaVu Sans Mono',consolas,'Courier New',monospace\">Trained DQN model with loss: 99.4751\n",
       "</pre>\n"
      ],
      "text/plain": [
       "Trained DQN model with loss: 99.4751\n"
      ]
     },
     "metadata": {},
     "output_type": "display_data"
    },
    {
     "data": {
      "text/html": [
       "<pre style=\"white-space:pre;overflow-x:auto;line-height:normal;font-family:Menlo,'DejaVu Sans Mono',consolas,'Courier New',monospace\">Trained DQN model with loss: 99.3530\n",
       "</pre>\n"
      ],
      "text/plain": [
       "Trained DQN model with loss: 99.3530\n"
      ]
     },
     "metadata": {},
     "output_type": "display_data"
    },
    {
     "data": {
      "text/html": [
       "<pre style=\"white-space:pre;overflow-x:auto;line-height:normal;font-family:Menlo,'DejaVu Sans Mono',consolas,'Courier New',monospace\">Trained DQN model with loss: 99.6600\n",
       "</pre>\n"
      ],
      "text/plain": [
       "Trained DQN model with loss: 99.6600\n"
      ]
     },
     "metadata": {},
     "output_type": "display_data"
    },
    {
     "data": {
      "text/html": [
       "<pre style=\"white-space:pre;overflow-x:auto;line-height:normal;font-family:Menlo,'DejaVu Sans Mono',consolas,'Courier New',monospace\">Trained DQN model with loss: 99.4783\n",
       "</pre>\n"
      ],
      "text/plain": [
       "Trained DQN model with loss: 99.4783\n"
      ]
     },
     "metadata": {},
     "output_type": "display_data"
    },
    {
     "data": {
      "text/html": [
       "<pre style=\"white-space:pre;overflow-x:auto;line-height:normal;font-family:Menlo,'DejaVu Sans Mono',consolas,'Courier New',monospace\">Trained DQN model with loss: 99.4169\n",
       "</pre>\n"
      ],
      "text/plain": [
       "Trained DQN model with loss: 99.4169\n"
      ]
     },
     "metadata": {},
     "output_type": "display_data"
    },
    {
     "data": {
      "text/html": [
       "<pre style=\"white-space:pre;overflow-x:auto;line-height:normal;font-family:Menlo,'DejaVu Sans Mono',consolas,'Courier New',monospace\">Trained DQN model with loss: 99.3752\n",
       "</pre>\n"
      ],
      "text/plain": [
       "Trained DQN model with loss: 99.3752\n"
      ]
     },
     "metadata": {},
     "output_type": "display_data"
    },
    {
     "data": {
      "text/html": [
       "<pre style=\"white-space:pre;overflow-x:auto;line-height:normal;font-family:Menlo,'DejaVu Sans Mono',consolas,'Courier New',monospace\">Trained DQN model with loss: 99.4677\n",
       "</pre>\n"
      ],
      "text/plain": [
       "Trained DQN model with loss: 99.4677\n"
      ]
     },
     "metadata": {},
     "output_type": "display_data"
    },
    {
     "data": {
      "text/html": [
       "<pre style=\"white-space:pre;overflow-x:auto;line-height:normal;font-family:Menlo,'DejaVu Sans Mono',consolas,'Courier New',monospace\">Trained DQN model with loss: 99.6082\n",
       "</pre>\n"
      ],
      "text/plain": [
       "Trained DQN model with loss: 99.6082\n"
      ]
     },
     "metadata": {},
     "output_type": "display_data"
    },
    {
     "data": {
      "text/html": [
       "<pre style=\"white-space:pre;overflow-x:auto;line-height:normal;font-family:Menlo,'DejaVu Sans Mono',consolas,'Courier New',monospace\">Trained DQN model with loss: 99.6241\n",
       "</pre>\n"
      ],
      "text/plain": [
       "Trained DQN model with loss: 99.6241\n"
      ]
     },
     "metadata": {},
     "output_type": "display_data"
    },
    {
     "data": {
      "text/html": [
       "<pre style=\"white-space:pre;overflow-x:auto;line-height:normal;font-family:Menlo,'DejaVu Sans Mono',consolas,'Courier New',monospace\">Trained DQN model with loss: 99.2298\n",
       "</pre>\n"
      ],
      "text/plain": [
       "Trained DQN model with loss: 99.2298\n"
      ]
     },
     "metadata": {},
     "output_type": "display_data"
    },
    {
     "data": {
      "text/html": [
       "<pre style=\"white-space:pre;overflow-x:auto;line-height:normal;font-family:Menlo,'DejaVu Sans Mono',consolas,'Courier New',monospace\"></pre>\n"
      ],
      "text/plain": []
     },
     "metadata": {},
     "output_type": "display_data"
    },
    {
     "data": {
      "text/html": [
       "<pre style=\"white-space:pre;overflow-x:auto;line-height:normal;font-family:Menlo,'DejaVu Sans Mono',consolas,'Courier New',monospace\">\n",
       "</pre>\n"
      ],
      "text/plain": [
       "\n"
      ]
     },
     "metadata": {},
     "output_type": "display_data"
    },
    {
     "data": {
      "text/html": [
       "<pre style=\"white-space:pre;overflow-x:auto;line-height:normal;font-family:Menlo,'DejaVu Sans Mono',consolas,'Courier New',monospace\"><span style=\"font-style: italic\">                                      Last 1 Games                                      </span>\n",
       "    ╷                       ╷       ╷         ╷           ╷          ╷        ╷         \n",
       " <span style=\"font-weight: bold\"> # </span>│<span style=\"font-weight: bold\"> SEATING               </span>│<span style=\"font-weight: bold\"> TURNS </span>│<span style=\"font-weight: bold\"> BLUE VP </span>│<span style=\"font-weight: bold\"> ORANGE VP </span>│<span style=\"font-weight: bold\"> WHITE VP </span>│<span style=\"font-weight: bold\"> RED VP </span>│<span style=\"font-weight: bold\"> WINNER </span> \n",
       "╶───┼───────────────────────┼───────┼─────────┼───────────┼──────────┼────────┼────────╴\n",
       "  1 │ <span style=\"color: #c0c0c0; text-decoration-color: #c0c0c0\">WHITE</span>,<span style=\"color: #000080; text-decoration-color: #000080\">BLUE</span>,<span style=\"color: #808000; text-decoration-color: #808000\">ORANGE</span>,<span style=\"color: #800000; text-decoration-color: #800000\">RED</span> │   327 │      10 │         7 │        4 │      2 │ <span style=\"color: #000080; text-decoration-color: #000080\">BLUE</span>    \n",
       "    ╵                       ╵       ╵         ╵           ╵          ╵        ╵         \n",
       "</pre>\n"
      ],
      "text/plain": [
       "\u001b[3m                                      Last 1 Games                                      \u001b[0m\n",
       "    ╷                       ╷       ╷         ╷           ╷          ╷        ╷         \n",
       " \u001b[1m \u001b[0m\u001b[1m#\u001b[0m\u001b[1m \u001b[0m│\u001b[1m \u001b[0m\u001b[1mSEATING              \u001b[0m\u001b[1m \u001b[0m│\u001b[1m \u001b[0m\u001b[1mTURNS\u001b[0m\u001b[1m \u001b[0m│\u001b[1m \u001b[0m\u001b[1mBLUE VP\u001b[0m\u001b[1m \u001b[0m│\u001b[1m \u001b[0m\u001b[1mORANGE VP\u001b[0m\u001b[1m \u001b[0m│\u001b[1m \u001b[0m\u001b[1mWHITE VP\u001b[0m\u001b[1m \u001b[0m│\u001b[1m \u001b[0m\u001b[1mRED VP\u001b[0m\u001b[1m \u001b[0m│\u001b[1m \u001b[0m\u001b[1mWINNER\u001b[0m\u001b[1m \u001b[0m \n",
       "╶───┼───────────────────────┼───────┼─────────┼───────────┼──────────┼────────┼────────╴\n",
       "  1 │ \u001b[37mWHITE\u001b[0m,\u001b[34mBLUE\u001b[0m,\u001b[33mORANGE\u001b[0m,\u001b[31mRED\u001b[0m │   327 │      10 │         7 │        4 │      2 │ \u001b[34mBLUE\u001b[0m    \n",
       "    ╵                       ╵       ╵         ╵           ╵          ╵        ╵         \n"
      ]
     },
     "metadata": {},
     "output_type": "display_data"
    },
    {
     "data": {
      "text/html": [
       "<pre style=\"white-space:pre;overflow-x:auto;line-height:normal;font-family:Menlo,'DejaVu Sans Mono',consolas,'Courier New',monospace\"><span style=\"font-style: italic\">                                              Player Summary                                               </span>\n",
       "                            ╷      ╷        ╷             ╷            ╷          ╷          ╷             \n",
       " <span style=\"font-weight: bold\">                           </span>│<span style=\"font-weight: bold\"> WINS </span>│<span style=\"font-weight: bold\"> AVG VP </span>│<span style=\"font-weight: bold\"> AVG SETTLES </span>│<span style=\"font-weight: bold\"> AVG CITIES </span>│<span style=\"font-weight: bold\"> AVG ROAD </span>│<span style=\"font-weight: bold\"> AVG ARMY </span>│<span style=\"font-weight: bold\"> AVG DEV VP </span> \n",
       "╶───────────────────────────┼──────┼────────┼─────────────┼────────────┼──────────┼──────────┼────────────╴\n",
       "  <span style=\"color: #000080; text-decoration-color: #000080\">WeightedRandomPlayer:BLUE</span> │    1 │  10.00 │        5.00 │       0.00 │     0.00 │     1.00 │       3.00  \n",
       "  <span style=\"color: #808000; text-decoration-color: #808000\">RandomPlayer:ORANGE</span>       │    0 │   7.00 │        5.00 │       0.00 │     1.00 │     0.00 │       0.00  \n",
       "  <span style=\"color: #c0c0c0; text-decoration-color: #c0c0c0\">RandomPlayer:WHITE</span>        │    0 │   4.00 │        4.00 │       0.00 │     0.00 │     0.00 │       0.00  \n",
       "  <span style=\"color: #800000; text-decoration-color: #800000\">AB_DQNPlayer_1:RED</span>        │    0 │   2.00 │        2.00 │       0.00 │     0.00 │     0.00 │       0.00  \n",
       "                            ╵      ╵        ╵             ╵            ╵          ╵          ╵             \n",
       "</pre>\n"
      ],
      "text/plain": [
       "\u001b[3m                                              Player Summary                                               \u001b[0m\n",
       "                            ╷      ╷        ╷             ╷            ╷          ╷          ╷             \n",
       " \u001b[1m \u001b[0m\u001b[1m                         \u001b[0m\u001b[1m \u001b[0m│\u001b[1m \u001b[0m\u001b[1mWINS\u001b[0m\u001b[1m \u001b[0m│\u001b[1m \u001b[0m\u001b[1mAVG VP\u001b[0m\u001b[1m \u001b[0m│\u001b[1m \u001b[0m\u001b[1mAVG SETTLES\u001b[0m\u001b[1m \u001b[0m│\u001b[1m \u001b[0m\u001b[1mAVG CITIES\u001b[0m\u001b[1m \u001b[0m│\u001b[1m \u001b[0m\u001b[1mAVG ROAD\u001b[0m\u001b[1m \u001b[0m│\u001b[1m \u001b[0m\u001b[1mAVG ARMY\u001b[0m\u001b[1m \u001b[0m│\u001b[1m \u001b[0m\u001b[1mAVG DEV VP\u001b[0m\u001b[1m \u001b[0m \n",
       "╶───────────────────────────┼──────┼────────┼─────────────┼────────────┼──────────┼──────────┼────────────╴\n",
       "  \u001b[34mWeightedRandomPlayer:BLUE\u001b[0m │    1 │  10.00 │        5.00 │       0.00 │     0.00 │     1.00 │       3.00  \n",
       "  \u001b[33mRandomPlayer:ORANGE\u001b[0m       │    0 │   7.00 │        5.00 │       0.00 │     1.00 │     0.00 │       0.00  \n",
       "  \u001b[37mRandomPlayer:WHITE\u001b[0m        │    0 │   4.00 │        4.00 │       0.00 │     0.00 │     0.00 │       0.00  \n",
       "  \u001b[31mAB_DQNPlayer_1:RED\u001b[0m        │    0 │   2.00 │        2.00 │       0.00 │     0.00 │     0.00 │       0.00  \n",
       "                            ╵      ╵        ╵             ╵            ╵          ╵          ╵             \n"
      ]
     },
     "metadata": {},
     "output_type": "display_data"
    },
    {
     "data": {
      "text/html": [
       "<pre style=\"white-space:pre;overflow-x:auto;line-height:normal;font-family:Menlo,'DejaVu Sans Mono',consolas,'Courier New',monospace\"><span style=\"font-style: italic\">              Game Summary              </span>\n",
       "            ╷           ╷               \n",
       " <span style=\"font-weight: bold\"> AVG TICKS </span>│<span style=\"font-weight: bold\"> AVG TURNS </span>│<span style=\"font-weight: bold\"> AVG DURATION </span> \n",
       "╶───────────┼───────────┼──────────────╴\n",
       "     950.00 │    327.00 │   6.806 secs  \n",
       "            ╵           ╵               \n",
       "</pre>\n"
      ],
      "text/plain": [
       "\u001b[3m              Game Summary              \u001b[0m\n",
       "            ╷           ╷               \n",
       " \u001b[1m \u001b[0m\u001b[1mAVG TICKS\u001b[0m\u001b[1m \u001b[0m│\u001b[1m \u001b[0m\u001b[1mAVG TURNS\u001b[0m\u001b[1m \u001b[0m│\u001b[1m \u001b[0m\u001b[1mAVG DURATION\u001b[0m\u001b[1m \u001b[0m \n",
       "╶───────────┼───────────┼──────────────╴\n",
       "     950.00 │    327.00 │   6.806 secs  \n",
       "            ╵           ╵               \n"
      ]
     },
     "metadata": {},
     "output_type": "display_data"
    },
    {
     "data": {
      "text/html": [
       "<pre style=\"white-space:pre;overflow-x:auto;line-height:normal;font-family:Menlo,'DejaVu Sans Mono',consolas,'Courier New',monospace\">Trained DQN model with loss: 99.3589\n",
       "</pre>\n"
      ],
      "text/plain": [
       "Trained DQN model with loss: 99.3589\n"
      ]
     },
     "metadata": {},
     "output_type": "display_data"
    },
    {
     "data": {
      "text/html": [
       "<pre style=\"white-space:pre;overflow-x:auto;line-height:normal;font-family:Menlo,'DejaVu Sans Mono',consolas,'Courier New',monospace\">Trained DQN model with loss: 99.4834\n",
       "</pre>\n"
      ],
      "text/plain": [
       "Trained DQN model with loss: 99.4834\n"
      ]
     },
     "metadata": {},
     "output_type": "display_data"
    },
    {
     "data": {
      "text/html": [
       "<pre style=\"white-space:pre;overflow-x:auto;line-height:normal;font-family:Menlo,'DejaVu Sans Mono',consolas,'Courier New',monospace\">Trained DQN model with loss: 99.5291\n",
       "</pre>\n"
      ],
      "text/plain": [
       "Trained DQN model with loss: 99.5291\n"
      ]
     },
     "metadata": {},
     "output_type": "display_data"
    },
    {
     "data": {
      "text/html": [
       "<pre style=\"white-space:pre;overflow-x:auto;line-height:normal;font-family:Menlo,'DejaVu Sans Mono',consolas,'Courier New',monospace\">Trained DQN model with loss: 99.2765\n",
       "</pre>\n"
      ],
      "text/plain": [
       "Trained DQN model with loss: 99.2765\n"
      ]
     },
     "metadata": {},
     "output_type": "display_data"
    },
    {
     "data": {
      "text/html": [
       "<pre style=\"white-space:pre;overflow-x:auto;line-height:normal;font-family:Menlo,'DejaVu Sans Mono',consolas,'Courier New',monospace\">Trained DQN model with loss: 99.3552\n",
       "</pre>\n"
      ],
      "text/plain": [
       "Trained DQN model with loss: 99.3552\n"
      ]
     },
     "metadata": {},
     "output_type": "display_data"
    },
    {
     "data": {
      "text/html": [
       "<pre style=\"white-space:pre;overflow-x:auto;line-height:normal;font-family:Menlo,'DejaVu Sans Mono',consolas,'Courier New',monospace\">Trained DQN model with loss: 99.3928\n",
       "</pre>\n"
      ],
      "text/plain": [
       "Trained DQN model with loss: 99.3928\n"
      ]
     },
     "metadata": {},
     "output_type": "display_data"
    },
    {
     "data": {
      "text/html": [
       "<pre style=\"white-space:pre;overflow-x:auto;line-height:normal;font-family:Menlo,'DejaVu Sans Mono',consolas,'Courier New',monospace\">Trained DQN model with loss: 99.2192\n",
       "</pre>\n"
      ],
      "text/plain": [
       "Trained DQN model with loss: 99.2192\n"
      ]
     },
     "metadata": {},
     "output_type": "display_data"
    },
    {
     "data": {
      "text/html": [
       "<pre style=\"white-space:pre;overflow-x:auto;line-height:normal;font-family:Menlo,'DejaVu Sans Mono',consolas,'Courier New',monospace\">Trained DQN model with loss: 99.4090\n",
       "</pre>\n"
      ],
      "text/plain": [
       "Trained DQN model with loss: 99.4090\n"
      ]
     },
     "metadata": {},
     "output_type": "display_data"
    },
    {
     "data": {
      "text/html": [
       "<pre style=\"white-space:pre;overflow-x:auto;line-height:normal;font-family:Menlo,'DejaVu Sans Mono',consolas,'Courier New',monospace\">Trained DQN model with loss: 99.2058\n",
       "</pre>\n"
      ],
      "text/plain": [
       "Trained DQN model with loss: 99.2058\n"
      ]
     },
     "metadata": {},
     "output_type": "display_data"
    },
    {
     "data": {
      "text/html": [
       "<pre style=\"white-space:pre;overflow-x:auto;line-height:normal;font-family:Menlo,'DejaVu Sans Mono',consolas,'Courier New',monospace\">Trained DQN model with loss: 99.4838\n",
       "</pre>\n"
      ],
      "text/plain": [
       "Trained DQN model with loss: 99.4838\n"
      ]
     },
     "metadata": {},
     "output_type": "display_data"
    },
    {
     "data": {
      "text/html": [
       "<pre style=\"white-space:pre;overflow-x:auto;line-height:normal;font-family:Menlo,'DejaVu Sans Mono',consolas,'Courier New',monospace\">Trained DQN model with loss: 99.3693\n",
       "</pre>\n"
      ],
      "text/plain": [
       "Trained DQN model with loss: 99.3693\n"
      ]
     },
     "metadata": {},
     "output_type": "display_data"
    },
    {
     "data": {
      "text/html": [
       "<pre style=\"white-space:pre;overflow-x:auto;line-height:normal;font-family:Menlo,'DejaVu Sans Mono',consolas,'Courier New',monospace\">Trained DQN model with loss: 99.5094\n",
       "</pre>\n"
      ],
      "text/plain": [
       "Trained DQN model with loss: 99.5094\n"
      ]
     },
     "metadata": {},
     "output_type": "display_data"
    },
    {
     "data": {
      "text/html": [
       "<pre style=\"white-space:pre;overflow-x:auto;line-height:normal;font-family:Menlo,'DejaVu Sans Mono',consolas,'Courier New',monospace\">Trained DQN model with loss: 99.6023\n",
       "</pre>\n"
      ],
      "text/plain": [
       "Trained DQN model with loss: 99.6023\n"
      ]
     },
     "metadata": {},
     "output_type": "display_data"
    },
    {
     "data": {
      "text/html": [
       "<pre style=\"white-space:pre;overflow-x:auto;line-height:normal;font-family:Menlo,'DejaVu Sans Mono',consolas,'Courier New',monospace\">Trained DQN model with loss: 99.7210\n",
       "</pre>\n"
      ],
      "text/plain": [
       "Trained DQN model with loss: 99.7210\n"
      ]
     },
     "metadata": {},
     "output_type": "display_data"
    },
    {
     "data": {
      "text/html": [
       "<pre style=\"white-space:pre;overflow-x:auto;line-height:normal;font-family:Menlo,'DejaVu Sans Mono',consolas,'Courier New',monospace\">Trained DQN model with loss: 99.3957\n",
       "</pre>\n"
      ],
      "text/plain": [
       "Trained DQN model with loss: 99.3957\n"
      ]
     },
     "metadata": {},
     "output_type": "display_data"
    },
    {
     "data": {
      "text/html": [
       "<pre style=\"white-space:pre;overflow-x:auto;line-height:normal;font-family:Menlo,'DejaVu Sans Mono',consolas,'Courier New',monospace\">Trained DQN model with loss: 99.1498\n",
       "</pre>\n"
      ],
      "text/plain": [
       "Trained DQN model with loss: 99.1498\n"
      ]
     },
     "metadata": {},
     "output_type": "display_data"
    },
    {
     "data": {
      "text/html": [
       "<pre style=\"white-space:pre;overflow-x:auto;line-height:normal;font-family:Menlo,'DejaVu Sans Mono',consolas,'Courier New',monospace\">Trained DQN model with loss: 99.4095\n",
       "</pre>\n"
      ],
      "text/plain": [
       "Trained DQN model with loss: 99.4095\n"
      ]
     },
     "metadata": {},
     "output_type": "display_data"
    },
    {
     "data": {
      "text/html": [
       "<pre style=\"white-space:pre;overflow-x:auto;line-height:normal;font-family:Menlo,'DejaVu Sans Mono',consolas,'Courier New',monospace\">Trained DQN model with loss: 99.5811\n",
       "</pre>\n"
      ],
      "text/plain": [
       "Trained DQN model with loss: 99.5811\n"
      ]
     },
     "metadata": {},
     "output_type": "display_data"
    },
    {
     "data": {
      "text/html": [
       "<pre style=\"white-space:pre;overflow-x:auto;line-height:normal;font-family:Menlo,'DejaVu Sans Mono',consolas,'Courier New',monospace\">Trained DQN model with loss: 99.2098\n",
       "</pre>\n"
      ],
      "text/plain": [
       "Trained DQN model with loss: 99.2098\n"
      ]
     },
     "metadata": {},
     "output_type": "display_data"
    },
    {
     "data": {
      "text/html": [
       "<pre style=\"white-space:pre;overflow-x:auto;line-height:normal;font-family:Menlo,'DejaVu Sans Mono',consolas,'Courier New',monospace\">Trained DQN model with loss: 99.3962\n",
       "</pre>\n"
      ],
      "text/plain": [
       "Trained DQN model with loss: 99.3962\n"
      ]
     },
     "metadata": {},
     "output_type": "display_data"
    },
    {
     "data": {
      "text/html": [
       "<pre style=\"white-space:pre;overflow-x:auto;line-height:normal;font-family:Menlo,'DejaVu Sans Mono',consolas,'Courier New',monospace\">Trained DQN model with loss: 99.4043\n",
       "</pre>\n"
      ],
      "text/plain": [
       "Trained DQN model with loss: 99.4043\n"
      ]
     },
     "metadata": {},
     "output_type": "display_data"
    },
    {
     "data": {
      "text/html": [
       "<pre style=\"white-space:pre;overflow-x:auto;line-height:normal;font-family:Menlo,'DejaVu Sans Mono',consolas,'Courier New',monospace\">Trained DQN model with loss: 99.4040\n",
       "</pre>\n"
      ],
      "text/plain": [
       "Trained DQN model with loss: 99.4040\n"
      ]
     },
     "metadata": {},
     "output_type": "display_data"
    },
    {
     "data": {
      "text/html": [
       "<pre style=\"white-space:pre;overflow-x:auto;line-height:normal;font-family:Menlo,'DejaVu Sans Mono',consolas,'Courier New',monospace\">Trained DQN model with loss: 99.4088\n",
       "</pre>\n"
      ],
      "text/plain": [
       "Trained DQN model with loss: 99.4088\n"
      ]
     },
     "metadata": {},
     "output_type": "display_data"
    },
    {
     "data": {
      "text/html": [
       "<pre style=\"white-space:pre;overflow-x:auto;line-height:normal;font-family:Menlo,'DejaVu Sans Mono',consolas,'Courier New',monospace\">Trained DQN model with loss: 99.5925\n",
       "</pre>\n"
      ],
      "text/plain": [
       "Trained DQN model with loss: 99.5925\n"
      ]
     },
     "metadata": {},
     "output_type": "display_data"
    },
    {
     "data": {
      "text/html": [
       "<pre style=\"white-space:pre;overflow-x:auto;line-height:normal;font-family:Menlo,'DejaVu Sans Mono',consolas,'Courier New',monospace\">Trained DQN model with loss: 99.3578\n",
       "</pre>\n"
      ],
      "text/plain": [
       "Trained DQN model with loss: 99.3578\n"
      ]
     },
     "metadata": {},
     "output_type": "display_data"
    },
    {
     "data": {
      "text/html": [
       "<pre style=\"white-space:pre;overflow-x:auto;line-height:normal;font-family:Menlo,'DejaVu Sans Mono',consolas,'Courier New',monospace\">Trained DQN model with loss: 99.1548\n",
       "</pre>\n"
      ],
      "text/plain": [
       "Trained DQN model with loss: 99.1548\n"
      ]
     },
     "metadata": {},
     "output_type": "display_data"
    },
    {
     "data": {
      "text/html": [
       "<pre style=\"white-space:pre;overflow-x:auto;line-height:normal;font-family:Menlo,'DejaVu Sans Mono',consolas,'Courier New',monospace\">Trained DQN model with loss: 99.6376\n",
       "</pre>\n"
      ],
      "text/plain": [
       "Trained DQN model with loss: 99.6376\n"
      ]
     },
     "metadata": {},
     "output_type": "display_data"
    },
    {
     "data": {
      "text/html": [
       "<pre style=\"white-space:pre;overflow-x:auto;line-height:normal;font-family:Menlo,'DejaVu Sans Mono',consolas,'Courier New',monospace\">Trained DQN model with loss: 99.3709\n",
       "</pre>\n"
      ],
      "text/plain": [
       "Trained DQN model with loss: 99.3709\n"
      ]
     },
     "metadata": {},
     "output_type": "display_data"
    },
    {
     "data": {
      "text/html": [
       "<pre style=\"white-space:pre;overflow-x:auto;line-height:normal;font-family:Menlo,'DejaVu Sans Mono',consolas,'Courier New',monospace\">Trained DQN model with loss: 99.3939\n",
       "</pre>\n"
      ],
      "text/plain": [
       "Trained DQN model with loss: 99.3939\n"
      ]
     },
     "metadata": {},
     "output_type": "display_data"
    },
    {
     "data": {
      "text/html": [
       "<pre style=\"white-space:pre;overflow-x:auto;line-height:normal;font-family:Menlo,'DejaVu Sans Mono',consolas,'Courier New',monospace\">Trained DQN model with loss: 99.2969\n",
       "</pre>\n"
      ],
      "text/plain": [
       "Trained DQN model with loss: 99.2969\n"
      ]
     },
     "metadata": {},
     "output_type": "display_data"
    },
    {
     "data": {
      "text/html": [
       "<pre style=\"white-space:pre;overflow-x:auto;line-height:normal;font-family:Menlo,'DejaVu Sans Mono',consolas,'Courier New',monospace\">Trained DQN model with loss: 99.2534\n",
       "</pre>\n"
      ],
      "text/plain": [
       "Trained DQN model with loss: 99.2534\n"
      ]
     },
     "metadata": {},
     "output_type": "display_data"
    },
    {
     "data": {
      "text/html": [
       "<pre style=\"white-space:pre;overflow-x:auto;line-height:normal;font-family:Menlo,'DejaVu Sans Mono',consolas,'Courier New',monospace\">Trained DQN model with loss: 99.5742\n",
       "</pre>\n"
      ],
      "text/plain": [
       "Trained DQN model with loss: 99.5742\n"
      ]
     },
     "metadata": {},
     "output_type": "display_data"
    },
    {
     "data": {
      "text/html": [
       "<pre style=\"white-space:pre;overflow-x:auto;line-height:normal;font-family:Menlo,'DejaVu Sans Mono',consolas,'Courier New',monospace\">Trained DQN model with loss: 99.4429\n",
       "</pre>\n"
      ],
      "text/plain": [
       "Trained DQN model with loss: 99.4429\n"
      ]
     },
     "metadata": {},
     "output_type": "display_data"
    },
    {
     "data": {
      "text/html": [
       "<pre style=\"white-space:pre;overflow-x:auto;line-height:normal;font-family:Menlo,'DejaVu Sans Mono',consolas,'Courier New',monospace\">Trained DQN model with loss: 99.3993\n",
       "</pre>\n"
      ],
      "text/plain": [
       "Trained DQN model with loss: 99.3993\n"
      ]
     },
     "metadata": {},
     "output_type": "display_data"
    },
    {
     "data": {
      "text/html": [
       "<pre style=\"white-space:pre;overflow-x:auto;line-height:normal;font-family:Menlo,'DejaVu Sans Mono',consolas,'Courier New',monospace\">Trained DQN model with loss: 99.2583\n",
       "</pre>\n"
      ],
      "text/plain": [
       "Trained DQN model with loss: 99.2583\n"
      ]
     },
     "metadata": {},
     "output_type": "display_data"
    },
    {
     "data": {
      "text/html": [
       "<pre style=\"white-space:pre;overflow-x:auto;line-height:normal;font-family:Menlo,'DejaVu Sans Mono',consolas,'Courier New',monospace\">Trained DQN model with loss: 99.2750\n",
       "</pre>\n"
      ],
      "text/plain": [
       "Trained DQN model with loss: 99.2750\n"
      ]
     },
     "metadata": {},
     "output_type": "display_data"
    },
    {
     "data": {
      "text/html": [
       "<pre style=\"white-space:pre;overflow-x:auto;line-height:normal;font-family:Menlo,'DejaVu Sans Mono',consolas,'Courier New',monospace\">Trained DQN model with loss: 99.3899\n",
       "</pre>\n"
      ],
      "text/plain": [
       "Trained DQN model with loss: 99.3899\n"
      ]
     },
     "metadata": {},
     "output_type": "display_data"
    },
    {
     "data": {
      "text/html": [
       "<pre style=\"white-space:pre;overflow-x:auto;line-height:normal;font-family:Menlo,'DejaVu Sans Mono',consolas,'Courier New',monospace\">Trained DQN model with loss: 99.2528\n",
       "</pre>\n"
      ],
      "text/plain": [
       "Trained DQN model with loss: 99.2528\n"
      ]
     },
     "metadata": {},
     "output_type": "display_data"
    },
    {
     "data": {
      "text/html": [
       "<pre style=\"white-space:pre;overflow-x:auto;line-height:normal;font-family:Menlo,'DejaVu Sans Mono',consolas,'Courier New',monospace\">Trained DQN model with loss: 99.2677\n",
       "</pre>\n"
      ],
      "text/plain": [
       "Trained DQN model with loss: 99.2677\n"
      ]
     },
     "metadata": {},
     "output_type": "display_data"
    },
    {
     "data": {
      "text/html": [
       "<pre style=\"white-space:pre;overflow-x:auto;line-height:normal;font-family:Menlo,'DejaVu Sans Mono',consolas,'Courier New',monospace\">Trained DQN model with loss: 99.4168\n",
       "</pre>\n"
      ],
      "text/plain": [
       "Trained DQN model with loss: 99.4168\n"
      ]
     },
     "metadata": {},
     "output_type": "display_data"
    },
    {
     "data": {
      "text/html": [
       "<pre style=\"white-space:pre;overflow-x:auto;line-height:normal;font-family:Menlo,'DejaVu Sans Mono',consolas,'Courier New',monospace\">Trained DQN model with loss: 99.4991\n",
       "</pre>\n"
      ],
      "text/plain": [
       "Trained DQN model with loss: 99.4991\n"
      ]
     },
     "metadata": {},
     "output_type": "display_data"
    },
    {
     "data": {
      "text/html": [
       "<pre style=\"white-space:pre;overflow-x:auto;line-height:normal;font-family:Menlo,'DejaVu Sans Mono',consolas,'Courier New',monospace\">Trained DQN model with loss: 99.5948\n",
       "</pre>\n"
      ],
      "text/plain": [
       "Trained DQN model with loss: 99.5948\n"
      ]
     },
     "metadata": {},
     "output_type": "display_data"
    },
    {
     "data": {
      "text/html": [
       "<pre style=\"white-space:pre;overflow-x:auto;line-height:normal;font-family:Menlo,'DejaVu Sans Mono',consolas,'Courier New',monospace\">Trained DQN model with loss: 99.2138\n",
       "</pre>\n"
      ],
      "text/plain": [
       "Trained DQN model with loss: 99.2138\n"
      ]
     },
     "metadata": {},
     "output_type": "display_data"
    },
    {
     "data": {
      "text/html": [
       "<pre style=\"white-space:pre;overflow-x:auto;line-height:normal;font-family:Menlo,'DejaVu Sans Mono',consolas,'Courier New',monospace\">Trained DQN model with loss: 99.5491\n",
       "</pre>\n"
      ],
      "text/plain": [
       "Trained DQN model with loss: 99.5491\n"
      ]
     },
     "metadata": {},
     "output_type": "display_data"
    },
    {
     "data": {
      "text/html": [
       "<pre style=\"white-space:pre;overflow-x:auto;line-height:normal;font-family:Menlo,'DejaVu Sans Mono',consolas,'Courier New',monospace\">Trained DQN model with loss: 99.2096\n",
       "</pre>\n"
      ],
      "text/plain": [
       "Trained DQN model with loss: 99.2096\n"
      ]
     },
     "metadata": {},
     "output_type": "display_data"
    },
    {
     "data": {
      "text/html": [
       "<pre style=\"white-space:pre;overflow-x:auto;line-height:normal;font-family:Menlo,'DejaVu Sans Mono',consolas,'Courier New',monospace\">Trained DQN model with loss: 99.6862\n",
       "</pre>\n"
      ],
      "text/plain": [
       "Trained DQN model with loss: 99.6862\n"
      ]
     },
     "metadata": {},
     "output_type": "display_data"
    },
    {
     "data": {
      "text/html": [
       "<pre style=\"white-space:pre;overflow-x:auto;line-height:normal;font-family:Menlo,'DejaVu Sans Mono',consolas,'Courier New',monospace\">Trained DQN model with loss: 99.2628\n",
       "</pre>\n"
      ],
      "text/plain": [
       "Trained DQN model with loss: 99.2628\n"
      ]
     },
     "metadata": {},
     "output_type": "display_data"
    },
    {
     "data": {
      "text/html": [
       "<pre style=\"white-space:pre;overflow-x:auto;line-height:normal;font-family:Menlo,'DejaVu Sans Mono',consolas,'Courier New',monospace\">Trained DQN model with loss: 99.4911\n",
       "</pre>\n"
      ],
      "text/plain": [
       "Trained DQN model with loss: 99.4911\n"
      ]
     },
     "metadata": {},
     "output_type": "display_data"
    },
    {
     "data": {
      "text/html": [
       "<pre style=\"white-space:pre;overflow-x:auto;line-height:normal;font-family:Menlo,'DejaVu Sans Mono',consolas,'Courier New',monospace\">Trained DQN model with loss: 99.4604\n",
       "</pre>\n"
      ],
      "text/plain": [
       "Trained DQN model with loss: 99.4604\n"
      ]
     },
     "metadata": {},
     "output_type": "display_data"
    },
    {
     "data": {
      "text/html": [
       "<pre style=\"white-space:pre;overflow-x:auto;line-height:normal;font-family:Menlo,'DejaVu Sans Mono',consolas,'Courier New',monospace\">Trained DQN model with loss: 99.6632\n",
       "</pre>\n"
      ],
      "text/plain": [
       "Trained DQN model with loss: 99.6632\n"
      ]
     },
     "metadata": {},
     "output_type": "display_data"
    },
    {
     "data": {
      "text/html": [
       "<pre style=\"white-space:pre;overflow-x:auto;line-height:normal;font-family:Menlo,'DejaVu Sans Mono',consolas,'Courier New',monospace\">Trained DQN model with loss: 99.3014\n",
       "</pre>\n"
      ],
      "text/plain": [
       "Trained DQN model with loss: 99.3014\n"
      ]
     },
     "metadata": {},
     "output_type": "display_data"
    },
    {
     "data": {
      "text/html": [
       "<pre style=\"white-space:pre;overflow-x:auto;line-height:normal;font-family:Menlo,'DejaVu Sans Mono',consolas,'Courier New',monospace\">Trained DQN model with loss: 99.0621\n",
       "</pre>\n"
      ],
      "text/plain": [
       "Trained DQN model with loss: 99.0621\n"
      ]
     },
     "metadata": {},
     "output_type": "display_data"
    },
    {
     "data": {
      "text/html": [
       "<pre style=\"white-space:pre;overflow-x:auto;line-height:normal;font-family:Menlo,'DejaVu Sans Mono',consolas,'Courier New',monospace\">Trained DQN model with loss: 99.6301\n",
       "</pre>\n"
      ],
      "text/plain": [
       "Trained DQN model with loss: 99.6301\n"
      ]
     },
     "metadata": {},
     "output_type": "display_data"
    },
    {
     "data": {
      "text/html": [
       "<pre style=\"white-space:pre;overflow-x:auto;line-height:normal;font-family:Menlo,'DejaVu Sans Mono',consolas,'Courier New',monospace\">Trained DQN model with loss: 99.2383\n",
       "</pre>\n"
      ],
      "text/plain": [
       "Trained DQN model with loss: 99.2383\n"
      ]
     },
     "metadata": {},
     "output_type": "display_data"
    },
    {
     "data": {
      "text/html": [
       "<pre style=\"white-space:pre;overflow-x:auto;line-height:normal;font-family:Menlo,'DejaVu Sans Mono',consolas,'Courier New',monospace\">Trained DQN model with loss: 99.4083\n",
       "</pre>\n"
      ],
      "text/plain": [
       "Trained DQN model with loss: 99.4083\n"
      ]
     },
     "metadata": {},
     "output_type": "display_data"
    },
    {
     "data": {
      "text/html": [
       "<pre style=\"white-space:pre;overflow-x:auto;line-height:normal;font-family:Menlo,'DejaVu Sans Mono',consolas,'Courier New',monospace\">Trained DQN model with loss: 99.3800\n",
       "</pre>\n"
      ],
      "text/plain": [
       "Trained DQN model with loss: 99.3800\n"
      ]
     },
     "metadata": {},
     "output_type": "display_data"
    },
    {
     "data": {
      "text/html": [
       "<pre style=\"white-space:pre;overflow-x:auto;line-height:normal;font-family:Menlo,'DejaVu Sans Mono',consolas,'Courier New',monospace\">Trained DQN model with loss: 99.3773\n",
       "</pre>\n"
      ],
      "text/plain": [
       "Trained DQN model with loss: 99.3773\n"
      ]
     },
     "metadata": {},
     "output_type": "display_data"
    },
    {
     "data": {
      "text/html": [
       "<pre style=\"white-space:pre;overflow-x:auto;line-height:normal;font-family:Menlo,'DejaVu Sans Mono',consolas,'Courier New',monospace\">Trained DQN model with loss: 99.3005\n",
       "</pre>\n"
      ],
      "text/plain": [
       "Trained DQN model with loss: 99.3005\n"
      ]
     },
     "metadata": {},
     "output_type": "display_data"
    },
    {
     "data": {
      "text/html": [
       "<pre style=\"white-space:pre;overflow-x:auto;line-height:normal;font-family:Menlo,'DejaVu Sans Mono',consolas,'Courier New',monospace\">Trained DQN model with loss: 99.2771\n",
       "</pre>\n"
      ],
      "text/plain": [
       "Trained DQN model with loss: 99.2771\n"
      ]
     },
     "metadata": {},
     "output_type": "display_data"
    },
    {
     "data": {
      "text/html": [
       "<pre style=\"white-space:pre;overflow-x:auto;line-height:normal;font-family:Menlo,'DejaVu Sans Mono',consolas,'Courier New',monospace\">Trained DQN model with loss: 99.3633\n",
       "</pre>\n"
      ],
      "text/plain": [
       "Trained DQN model with loss: 99.3633\n"
      ]
     },
     "metadata": {},
     "output_type": "display_data"
    },
    {
     "data": {
      "text/html": [
       "<pre style=\"white-space:pre;overflow-x:auto;line-height:normal;font-family:Menlo,'DejaVu Sans Mono',consolas,'Courier New',monospace\">Trained DQN model with loss: 99.3464\n",
       "</pre>\n"
      ],
      "text/plain": [
       "Trained DQN model with loss: 99.3464\n"
      ]
     },
     "metadata": {},
     "output_type": "display_data"
    },
    {
     "data": {
      "text/html": [
       "<pre style=\"white-space:pre;overflow-x:auto;line-height:normal;font-family:Menlo,'DejaVu Sans Mono',consolas,'Courier New',monospace\">Trained DQN model with loss: 99.4022\n",
       "</pre>\n"
      ],
      "text/plain": [
       "Trained DQN model with loss: 99.4022\n"
      ]
     },
     "metadata": {},
     "output_type": "display_data"
    },
    {
     "data": {
      "text/html": [
       "<pre style=\"white-space:pre;overflow-x:auto;line-height:normal;font-family:Menlo,'DejaVu Sans Mono',consolas,'Courier New',monospace\">Trained DQN model with loss: 99.0751\n",
       "</pre>\n"
      ],
      "text/plain": [
       "Trained DQN model with loss: 99.0751\n"
      ]
     },
     "metadata": {},
     "output_type": "display_data"
    },
    {
     "data": {
      "text/html": [
       "<pre style=\"white-space:pre;overflow-x:auto;line-height:normal;font-family:Menlo,'DejaVu Sans Mono',consolas,'Courier New',monospace\">Trained DQN model with loss: 99.3302\n",
       "</pre>\n"
      ],
      "text/plain": [
       "Trained DQN model with loss: 99.3302\n"
      ]
     },
     "metadata": {},
     "output_type": "display_data"
    },
    {
     "data": {
      "text/html": [
       "<pre style=\"white-space:pre;overflow-x:auto;line-height:normal;font-family:Menlo,'DejaVu Sans Mono',consolas,'Courier New',monospace\">Trained DQN model with loss: 99.4641\n",
       "</pre>\n"
      ],
      "text/plain": [
       "Trained DQN model with loss: 99.4641\n"
      ]
     },
     "metadata": {},
     "output_type": "display_data"
    },
    {
     "data": {
      "text/html": [
       "<pre style=\"white-space:pre;overflow-x:auto;line-height:normal;font-family:Menlo,'DejaVu Sans Mono',consolas,'Courier New',monospace\">Trained DQN model with loss: 99.5987\n",
       "</pre>\n"
      ],
      "text/plain": [
       "Trained DQN model with loss: 99.5987\n"
      ]
     },
     "metadata": {},
     "output_type": "display_data"
    },
    {
     "data": {
      "text/html": [
       "<pre style=\"white-space:pre;overflow-x:auto;line-height:normal;font-family:Menlo,'DejaVu Sans Mono',consolas,'Courier New',monospace\">Trained DQN model with loss: 99.3005\n",
       "</pre>\n"
      ],
      "text/plain": [
       "Trained DQN model with loss: 99.3005\n"
      ]
     },
     "metadata": {},
     "output_type": "display_data"
    },
    {
     "data": {
      "text/html": [
       "<pre style=\"white-space:pre;overflow-x:auto;line-height:normal;font-family:Menlo,'DejaVu Sans Mono',consolas,'Courier New',monospace\">Trained DQN model with loss: 99.5211\n",
       "</pre>\n"
      ],
      "text/plain": [
       "Trained DQN model with loss: 99.5211\n"
      ]
     },
     "metadata": {},
     "output_type": "display_data"
    },
    {
     "data": {
      "text/html": [
       "<pre style=\"white-space:pre;overflow-x:auto;line-height:normal;font-family:Menlo,'DejaVu Sans Mono',consolas,'Courier New',monospace\">Trained DQN model with loss: 99.4833\n",
       "</pre>\n"
      ],
      "text/plain": [
       "Trained DQN model with loss: 99.4833\n"
      ]
     },
     "metadata": {},
     "output_type": "display_data"
    },
    {
     "data": {
      "text/html": [
       "<pre style=\"white-space:pre;overflow-x:auto;line-height:normal;font-family:Menlo,'DejaVu Sans Mono',consolas,'Courier New',monospace\">Trained DQN model with loss: 99.2391\n",
       "</pre>\n"
      ],
      "text/plain": [
       "Trained DQN model with loss: 99.2391\n"
      ]
     },
     "metadata": {},
     "output_type": "display_data"
    },
    {
     "data": {
      "text/html": [
       "<pre style=\"white-space:pre;overflow-x:auto;line-height:normal;font-family:Menlo,'DejaVu Sans Mono',consolas,'Courier New',monospace\">Trained DQN model with loss: 99.5211\n",
       "</pre>\n"
      ],
      "text/plain": [
       "Trained DQN model with loss: 99.5211\n"
      ]
     },
     "metadata": {},
     "output_type": "display_data"
    },
    {
     "data": {
      "text/html": [
       "<pre style=\"white-space:pre;overflow-x:auto;line-height:normal;font-family:Menlo,'DejaVu Sans Mono',consolas,'Courier New',monospace\">Trained DQN model with loss: 99.4133\n",
       "</pre>\n"
      ],
      "text/plain": [
       "Trained DQN model with loss: 99.4133\n"
      ]
     },
     "metadata": {},
     "output_type": "display_data"
    },
    {
     "data": {
      "text/html": [
       "<pre style=\"white-space:pre;overflow-x:auto;line-height:normal;font-family:Menlo,'DejaVu Sans Mono',consolas,'Courier New',monospace\">Trained DQN model with loss: 99.4354\n",
       "</pre>\n"
      ],
      "text/plain": [
       "Trained DQN model with loss: 99.4354\n"
      ]
     },
     "metadata": {},
     "output_type": "display_data"
    },
    {
     "data": {
      "text/html": [
       "<pre style=\"white-space:pre;overflow-x:auto;line-height:normal;font-family:Menlo,'DejaVu Sans Mono',consolas,'Courier New',monospace\">Trained DQN model with loss: 99.3838\n",
       "</pre>\n"
      ],
      "text/plain": [
       "Trained DQN model with loss: 99.3838\n"
      ]
     },
     "metadata": {},
     "output_type": "display_data"
    },
    {
     "data": {
      "text/html": [
       "<pre style=\"white-space:pre;overflow-x:auto;line-height:normal;font-family:Menlo,'DejaVu Sans Mono',consolas,'Courier New',monospace\">Trained DQN model with loss: 99.4344\n",
       "</pre>\n"
      ],
      "text/plain": [
       "Trained DQN model with loss: 99.4344\n"
      ]
     },
     "metadata": {},
     "output_type": "display_data"
    },
    {
     "data": {
      "text/html": [
       "<pre style=\"white-space:pre;overflow-x:auto;line-height:normal;font-family:Menlo,'DejaVu Sans Mono',consolas,'Courier New',monospace\">Trained DQN model with loss: 99.3055\n",
       "</pre>\n"
      ],
      "text/plain": [
       "Trained DQN model with loss: 99.3055\n"
      ]
     },
     "metadata": {},
     "output_type": "display_data"
    },
    {
     "data": {
      "text/html": [
       "<pre style=\"white-space:pre;overflow-x:auto;line-height:normal;font-family:Menlo,'DejaVu Sans Mono',consolas,'Courier New',monospace\">Trained DQN model with loss: 99.4307\n",
       "</pre>\n"
      ],
      "text/plain": [
       "Trained DQN model with loss: 99.4307\n"
      ]
     },
     "metadata": {},
     "output_type": "display_data"
    },
    {
     "data": {
      "text/html": [
       "<pre style=\"white-space:pre;overflow-x:auto;line-height:normal;font-family:Menlo,'DejaVu Sans Mono',consolas,'Courier New',monospace\">Trained DQN model with loss: 99.4362\n",
       "</pre>\n"
      ],
      "text/plain": [
       "Trained DQN model with loss: 99.4362\n"
      ]
     },
     "metadata": {},
     "output_type": "display_data"
    },
    {
     "data": {
      "text/html": [
       "<pre style=\"white-space:pre;overflow-x:auto;line-height:normal;font-family:Menlo,'DejaVu Sans Mono',consolas,'Courier New',monospace\">Trained DQN model with loss: 99.1738\n",
       "</pre>\n"
      ],
      "text/plain": [
       "Trained DQN model with loss: 99.1738\n"
      ]
     },
     "metadata": {},
     "output_type": "display_data"
    },
    {
     "data": {
      "text/html": [
       "<pre style=\"white-space:pre;overflow-x:auto;line-height:normal;font-family:Menlo,'DejaVu Sans Mono',consolas,'Courier New',monospace\">Trained DQN model with loss: 99.4574\n",
       "</pre>\n"
      ],
      "text/plain": [
       "Trained DQN model with loss: 99.4574\n"
      ]
     },
     "metadata": {},
     "output_type": "display_data"
    },
    {
     "data": {
      "text/html": [
       "<pre style=\"white-space:pre;overflow-x:auto;line-height:normal;font-family:Menlo,'DejaVu Sans Mono',consolas,'Courier New',monospace\">Trained DQN model with loss: 99.4344\n",
       "</pre>\n"
      ],
      "text/plain": [
       "Trained DQN model with loss: 99.4344\n"
      ]
     },
     "metadata": {},
     "output_type": "display_data"
    },
    {
     "data": {
      "text/html": [
       "<pre style=\"white-space:pre;overflow-x:auto;line-height:normal;font-family:Menlo,'DejaVu Sans Mono',consolas,'Courier New',monospace\">Trained DQN model with loss: 99.2984\n",
       "</pre>\n"
      ],
      "text/plain": [
       "Trained DQN model with loss: 99.2984\n"
      ]
     },
     "metadata": {},
     "output_type": "display_data"
    },
    {
     "data": {
      "text/html": [
       "<pre style=\"white-space:pre;overflow-x:auto;line-height:normal;font-family:Menlo,'DejaVu Sans Mono',consolas,'Courier New',monospace\">Trained DQN model with loss: 99.4355\n",
       "</pre>\n"
      ],
      "text/plain": [
       "Trained DQN model with loss: 99.4355\n"
      ]
     },
     "metadata": {},
     "output_type": "display_data"
    },
    {
     "data": {
      "text/html": [
       "<pre style=\"white-space:pre;overflow-x:auto;line-height:normal;font-family:Menlo,'DejaVu Sans Mono',consolas,'Courier New',monospace\">Trained DQN model with loss: 99.5110\n",
       "</pre>\n"
      ],
      "text/plain": [
       "Trained DQN model with loss: 99.5110\n"
      ]
     },
     "metadata": {},
     "output_type": "display_data"
    },
    {
     "data": {
      "text/html": [
       "<pre style=\"white-space:pre;overflow-x:auto;line-height:normal;font-family:Menlo,'DejaVu Sans Mono',consolas,'Courier New',monospace\">Trained DQN model with loss: 99.1226\n",
       "</pre>\n"
      ],
      "text/plain": [
       "Trained DQN model with loss: 99.1226\n"
      ]
     },
     "metadata": {},
     "output_type": "display_data"
    },
    {
     "data": {
      "text/html": [
       "<pre style=\"white-space:pre;overflow-x:auto;line-height:normal;font-family:Menlo,'DejaVu Sans Mono',consolas,'Courier New',monospace\">Trained DQN model with loss: 99.4655\n",
       "</pre>\n"
      ],
      "text/plain": [
       "Trained DQN model with loss: 99.4655\n"
      ]
     },
     "metadata": {},
     "output_type": "display_data"
    },
    {
     "data": {
      "text/html": [
       "<pre style=\"white-space:pre;overflow-x:auto;line-height:normal;font-family:Menlo,'DejaVu Sans Mono',consolas,'Courier New',monospace\">Trained DQN model with loss: 99.6386\n",
       "</pre>\n"
      ],
      "text/plain": [
       "Trained DQN model with loss: 99.6386\n"
      ]
     },
     "metadata": {},
     "output_type": "display_data"
    },
    {
     "data": {
      "text/html": [
       "<pre style=\"white-space:pre;overflow-x:auto;line-height:normal;font-family:Menlo,'DejaVu Sans Mono',consolas,'Courier New',monospace\">Trained DQN model with loss: 99.6026\n",
       "</pre>\n"
      ],
      "text/plain": [
       "Trained DQN model with loss: 99.6026\n"
      ]
     },
     "metadata": {},
     "output_type": "display_data"
    },
    {
     "data": {
      "text/html": [
       "<pre style=\"white-space:pre;overflow-x:auto;line-height:normal;font-family:Menlo,'DejaVu Sans Mono',consolas,'Courier New',monospace\">Trained DQN model with loss: 99.7659\n",
       "</pre>\n"
      ],
      "text/plain": [
       "Trained DQN model with loss: 99.7659\n"
      ]
     },
     "metadata": {},
     "output_type": "display_data"
    },
    {
     "data": {
      "text/html": [
       "<pre style=\"white-space:pre;overflow-x:auto;line-height:normal;font-family:Menlo,'DejaVu Sans Mono',consolas,'Courier New',monospace\">Trained DQN model with loss: 99.4709\n",
       "</pre>\n"
      ],
      "text/plain": [
       "Trained DQN model with loss: 99.4709\n"
      ]
     },
     "metadata": {},
     "output_type": "display_data"
    },
    {
     "data": {
      "text/html": [
       "<pre style=\"white-space:pre;overflow-x:auto;line-height:normal;font-family:Menlo,'DejaVu Sans Mono',consolas,'Courier New',monospace\">Trained DQN model with loss: 99.4231\n",
       "</pre>\n"
      ],
      "text/plain": [
       "Trained DQN model with loss: 99.4231\n"
      ]
     },
     "metadata": {},
     "output_type": "display_data"
    },
    {
     "data": {
      "text/html": [
       "<pre style=\"white-space:pre;overflow-x:auto;line-height:normal;font-family:Menlo,'DejaVu Sans Mono',consolas,'Courier New',monospace\">Trained DQN model with loss: 99.4232\n",
       "</pre>\n"
      ],
      "text/plain": [
       "Trained DQN model with loss: 99.4232\n"
      ]
     },
     "metadata": {},
     "output_type": "display_data"
    },
    {
     "data": {
      "text/html": [
       "<pre style=\"white-space:pre;overflow-x:auto;line-height:normal;font-family:Menlo,'DejaVu Sans Mono',consolas,'Courier New',monospace\">Trained DQN model with loss: 99.4725\n",
       "</pre>\n"
      ],
      "text/plain": [
       "Trained DQN model with loss: 99.4725\n"
      ]
     },
     "metadata": {},
     "output_type": "display_data"
    },
    {
     "data": {
      "text/html": [
       "<pre style=\"white-space:pre;overflow-x:auto;line-height:normal;font-family:Menlo,'DejaVu Sans Mono',consolas,'Courier New',monospace\">Trained DQN model with loss: 99.6183\n",
       "</pre>\n"
      ],
      "text/plain": [
       "Trained DQN model with loss: 99.6183\n"
      ]
     },
     "metadata": {},
     "output_type": "display_data"
    },
    {
     "data": {
      "text/html": [
       "<pre style=\"white-space:pre;overflow-x:auto;line-height:normal;font-family:Menlo,'DejaVu Sans Mono',consolas,'Courier New',monospace\">Trained DQN model with loss: 99.4070\n",
       "</pre>\n"
      ],
      "text/plain": [
       "Trained DQN model with loss: 99.4070\n"
      ]
     },
     "metadata": {},
     "output_type": "display_data"
    },
    {
     "data": {
      "text/html": [
       "<pre style=\"white-space:pre;overflow-x:auto;line-height:normal;font-family:Menlo,'DejaVu Sans Mono',consolas,'Courier New',monospace\">Trained DQN model with loss: 99.3735\n",
       "</pre>\n"
      ],
      "text/plain": [
       "Trained DQN model with loss: 99.3735\n"
      ]
     },
     "metadata": {},
     "output_type": "display_data"
    },
    {
     "data": {
      "text/html": [
       "<pre style=\"white-space:pre;overflow-x:auto;line-height:normal;font-family:Menlo,'DejaVu Sans Mono',consolas,'Courier New',monospace\">Trained DQN model with loss: 99.5366\n",
       "</pre>\n"
      ],
      "text/plain": [
       "Trained DQN model with loss: 99.5366\n"
      ]
     },
     "metadata": {},
     "output_type": "display_data"
    },
    {
     "data": {
      "text/html": [
       "<pre style=\"white-space:pre;overflow-x:auto;line-height:normal;font-family:Menlo,'DejaVu Sans Mono',consolas,'Courier New',monospace\">Trained DQN model with loss: 99.4287\n",
       "</pre>\n"
      ],
      "text/plain": [
       "Trained DQN model with loss: 99.4287\n"
      ]
     },
     "metadata": {},
     "output_type": "display_data"
    },
    {
     "data": {
      "text/html": [
       "<pre style=\"white-space:pre;overflow-x:auto;line-height:normal;font-family:Menlo,'DejaVu Sans Mono',consolas,'Courier New',monospace\">Trained DQN model with loss: 99.6508\n",
       "</pre>\n"
      ],
      "text/plain": [
       "Trained DQN model with loss: 99.6508\n"
      ]
     },
     "metadata": {},
     "output_type": "display_data"
    },
    {
     "data": {
      "text/html": [
       "<pre style=\"white-space:pre;overflow-x:auto;line-height:normal;font-family:Menlo,'DejaVu Sans Mono',consolas,'Courier New',monospace\">Trained DQN model with loss: 99.3342\n",
       "</pre>\n"
      ],
      "text/plain": [
       "Trained DQN model with loss: 99.3342\n"
      ]
     },
     "metadata": {},
     "output_type": "display_data"
    },
    {
     "data": {
      "text/html": [
       "<pre style=\"white-space:pre;overflow-x:auto;line-height:normal;font-family:Menlo,'DejaVu Sans Mono',consolas,'Courier New',monospace\">Trained DQN model with loss: 99.5847\n",
       "</pre>\n"
      ],
      "text/plain": [
       "Trained DQN model with loss: 99.5847\n"
      ]
     },
     "metadata": {},
     "output_type": "display_data"
    },
    {
     "data": {
      "text/html": [
       "<pre style=\"white-space:pre;overflow-x:auto;line-height:normal;font-family:Menlo,'DejaVu Sans Mono',consolas,'Courier New',monospace\">Trained DQN model with loss: 99.4654\n",
       "</pre>\n"
      ],
      "text/plain": [
       "Trained DQN model with loss: 99.4654\n"
      ]
     },
     "metadata": {},
     "output_type": "display_data"
    },
    {
     "data": {
      "text/html": [
       "<pre style=\"white-space:pre;overflow-x:auto;line-height:normal;font-family:Menlo,'DejaVu Sans Mono',consolas,'Courier New',monospace\">Trained DQN model with loss: 99.5258\n",
       "</pre>\n"
      ],
      "text/plain": [
       "Trained DQN model with loss: 99.5258\n"
      ]
     },
     "metadata": {},
     "output_type": "display_data"
    },
    {
     "data": {
      "text/html": [
       "<pre style=\"white-space:pre;overflow-x:auto;line-height:normal;font-family:Menlo,'DejaVu Sans Mono',consolas,'Courier New',monospace\">Trained DQN model with loss: 99.4468\n",
       "</pre>\n"
      ],
      "text/plain": [
       "Trained DQN model with loss: 99.4468\n"
      ]
     },
     "metadata": {},
     "output_type": "display_data"
    },
    {
     "data": {
      "text/html": [
       "<pre style=\"white-space:pre;overflow-x:auto;line-height:normal;font-family:Menlo,'DejaVu Sans Mono',consolas,'Courier New',monospace\">Trained DQN model with loss: 99.7114\n",
       "</pre>\n"
      ],
      "text/plain": [
       "Trained DQN model with loss: 99.7114\n"
      ]
     },
     "metadata": {},
     "output_type": "display_data"
    },
    {
     "data": {
      "text/html": [
       "<pre style=\"white-space:pre;overflow-x:auto;line-height:normal;font-family:Menlo,'DejaVu Sans Mono',consolas,'Courier New',monospace\">Trained DQN model with loss: 99.3810\n",
       "</pre>\n"
      ],
      "text/plain": [
       "Trained DQN model with loss: 99.3810\n"
      ]
     },
     "metadata": {},
     "output_type": "display_data"
    },
    {
     "data": {
      "text/html": [
       "<pre style=\"white-space:pre;overflow-x:auto;line-height:normal;font-family:Menlo,'DejaVu Sans Mono',consolas,'Courier New',monospace\">Trained DQN model with loss: 99.7316\n",
       "</pre>\n"
      ],
      "text/plain": [
       "Trained DQN model with loss: 99.7316\n"
      ]
     },
     "metadata": {},
     "output_type": "display_data"
    },
    {
     "data": {
      "text/html": [
       "<pre style=\"white-space:pre;overflow-x:auto;line-height:normal;font-family:Menlo,'DejaVu Sans Mono',consolas,'Courier New',monospace\">Trained DQN model with loss: 99.4233\n",
       "</pre>\n"
      ],
      "text/plain": [
       "Trained DQN model with loss: 99.4233\n"
      ]
     },
     "metadata": {},
     "output_type": "display_data"
    },
    {
     "data": {
      "text/html": [
       "<pre style=\"white-space:pre;overflow-x:auto;line-height:normal;font-family:Menlo,'DejaVu Sans Mono',consolas,'Courier New',monospace\">Trained DQN model with loss: 99.5077\n",
       "</pre>\n"
      ],
      "text/plain": [
       "Trained DQN model with loss: 99.5077\n"
      ]
     },
     "metadata": {},
     "output_type": "display_data"
    },
    {
     "data": {
      "text/html": [
       "<pre style=\"white-space:pre;overflow-x:auto;line-height:normal;font-family:Menlo,'DejaVu Sans Mono',consolas,'Courier New',monospace\">Trained DQN model with loss: 99.7042\n",
       "</pre>\n"
      ],
      "text/plain": [
       "Trained DQN model with loss: 99.7042\n"
      ]
     },
     "metadata": {},
     "output_type": "display_data"
    },
    {
     "data": {
      "text/html": [
       "<pre style=\"white-space:pre;overflow-x:auto;line-height:normal;font-family:Menlo,'DejaVu Sans Mono',consolas,'Courier New',monospace\">Trained DQN model with loss: 99.4264\n",
       "</pre>\n"
      ],
      "text/plain": [
       "Trained DQN model with loss: 99.4264\n"
      ]
     },
     "metadata": {},
     "output_type": "display_data"
    },
    {
     "data": {
      "text/html": [
       "<pre style=\"white-space:pre;overflow-x:auto;line-height:normal;font-family:Menlo,'DejaVu Sans Mono',consolas,'Courier New',monospace\">Trained DQN model with loss: 99.4471\n",
       "</pre>\n"
      ],
      "text/plain": [
       "Trained DQN model with loss: 99.4471\n"
      ]
     },
     "metadata": {},
     "output_type": "display_data"
    },
    {
     "data": {
      "text/html": [
       "<pre style=\"white-space:pre;overflow-x:auto;line-height:normal;font-family:Menlo,'DejaVu Sans Mono',consolas,'Courier New',monospace\">Trained DQN model with loss: 99.4507\n",
       "</pre>\n"
      ],
      "text/plain": [
       "Trained DQN model with loss: 99.4507\n"
      ]
     },
     "metadata": {},
     "output_type": "display_data"
    },
    {
     "data": {
      "text/html": [
       "<pre style=\"white-space:pre;overflow-x:auto;line-height:normal;font-family:Menlo,'DejaVu Sans Mono',consolas,'Courier New',monospace\">Trained DQN model with loss: 99.7387\n",
       "</pre>\n"
      ],
      "text/plain": [
       "Trained DQN model with loss: 99.7387\n"
      ]
     },
     "metadata": {},
     "output_type": "display_data"
    },
    {
     "data": {
      "text/html": [
       "<pre style=\"white-space:pre;overflow-x:auto;line-height:normal;font-family:Menlo,'DejaVu Sans Mono',consolas,'Courier New',monospace\">Trained DQN model with loss: 99.6405\n",
       "</pre>\n"
      ],
      "text/plain": [
       "Trained DQN model with loss: 99.6405\n"
      ]
     },
     "metadata": {},
     "output_type": "display_data"
    },
    {
     "data": {
      "text/html": [
       "<pre style=\"white-space:pre;overflow-x:auto;line-height:normal;font-family:Menlo,'DejaVu Sans Mono',consolas,'Courier New',monospace\">Trained DQN model with loss: 99.5316\n",
       "</pre>\n"
      ],
      "text/plain": [
       "Trained DQN model with loss: 99.5316\n"
      ]
     },
     "metadata": {},
     "output_type": "display_data"
    },
    {
     "data": {
      "text/html": [
       "<pre style=\"white-space:pre;overflow-x:auto;line-height:normal;font-family:Menlo,'DejaVu Sans Mono',consolas,'Courier New',monospace\">Trained DQN model with loss: 99.4837\n",
       "</pre>\n"
      ],
      "text/plain": [
       "Trained DQN model with loss: 99.4837\n"
      ]
     },
     "metadata": {},
     "output_type": "display_data"
    },
    {
     "data": {
      "text/html": [
       "<pre style=\"white-space:pre;overflow-x:auto;line-height:normal;font-family:Menlo,'DejaVu Sans Mono',consolas,'Courier New',monospace\">Trained DQN model with loss: 99.5712\n",
       "</pre>\n"
      ],
      "text/plain": [
       "Trained DQN model with loss: 99.5712\n"
      ]
     },
     "metadata": {},
     "output_type": "display_data"
    },
    {
     "data": {
      "text/html": [
       "<pre style=\"white-space:pre;overflow-x:auto;line-height:normal;font-family:Menlo,'DejaVu Sans Mono',consolas,'Courier New',monospace\">Trained DQN model with loss: 99.4853\n",
       "</pre>\n"
      ],
      "text/plain": [
       "Trained DQN model with loss: 99.4853\n"
      ]
     },
     "metadata": {},
     "output_type": "display_data"
    },
    {
     "data": {
      "text/html": [
       "<pre style=\"white-space:pre;overflow-x:auto;line-height:normal;font-family:Menlo,'DejaVu Sans Mono',consolas,'Courier New',monospace\">Trained DQN model with loss: 99.6574\n",
       "</pre>\n"
      ],
      "text/plain": [
       "Trained DQN model with loss: 99.6574\n"
      ]
     },
     "metadata": {},
     "output_type": "display_data"
    },
    {
     "data": {
      "text/html": [
       "<pre style=\"white-space:pre;overflow-x:auto;line-height:normal;font-family:Menlo,'DejaVu Sans Mono',consolas,'Courier New',monospace\">Trained DQN model with loss: 99.6308\n",
       "</pre>\n"
      ],
      "text/plain": [
       "Trained DQN model with loss: 99.6308\n"
      ]
     },
     "metadata": {},
     "output_type": "display_data"
    },
    {
     "data": {
      "text/html": [
       "<pre style=\"white-space:pre;overflow-x:auto;line-height:normal;font-family:Menlo,'DejaVu Sans Mono',consolas,'Courier New',monospace\">Trained DQN model with loss: 99.4145\n",
       "</pre>\n"
      ],
      "text/plain": [
       "Trained DQN model with loss: 99.4145\n"
      ]
     },
     "metadata": {},
     "output_type": "display_data"
    },
    {
     "data": {
      "text/html": [
       "<pre style=\"white-space:pre;overflow-x:auto;line-height:normal;font-family:Menlo,'DejaVu Sans Mono',consolas,'Courier New',monospace\">Trained DQN model with loss: 99.3325\n",
       "</pre>\n"
      ],
      "text/plain": [
       "Trained DQN model with loss: 99.3325\n"
      ]
     },
     "metadata": {},
     "output_type": "display_data"
    },
    {
     "data": {
      "text/html": [
       "<pre style=\"white-space:pre;overflow-x:auto;line-height:normal;font-family:Menlo,'DejaVu Sans Mono',consolas,'Courier New',monospace\">Trained DQN model with loss: 99.6844\n",
       "</pre>\n"
      ],
      "text/plain": [
       "Trained DQN model with loss: 99.6844\n"
      ]
     },
     "metadata": {},
     "output_type": "display_data"
    },
    {
     "data": {
      "text/html": [
       "<pre style=\"white-space:pre;overflow-x:auto;line-height:normal;font-family:Menlo,'DejaVu Sans Mono',consolas,'Courier New',monospace\">Trained DQN model with loss: 99.5487\n",
       "</pre>\n"
      ],
      "text/plain": [
       "Trained DQN model with loss: 99.5487\n"
      ]
     },
     "metadata": {},
     "output_type": "display_data"
    },
    {
     "data": {
      "text/html": [
       "<pre style=\"white-space:pre;overflow-x:auto;line-height:normal;font-family:Menlo,'DejaVu Sans Mono',consolas,'Courier New',monospace\">Trained DQN model with loss: 99.5315\n",
       "</pre>\n"
      ],
      "text/plain": [
       "Trained DQN model with loss: 99.5315\n"
      ]
     },
     "metadata": {},
     "output_type": "display_data"
    },
    {
     "data": {
      "text/html": [
       "<pre style=\"white-space:pre;overflow-x:auto;line-height:normal;font-family:Menlo,'DejaVu Sans Mono',consolas,'Courier New',monospace\">Trained DQN model with loss: 99.6062\n",
       "</pre>\n"
      ],
      "text/plain": [
       "Trained DQN model with loss: 99.6062\n"
      ]
     },
     "metadata": {},
     "output_type": "display_data"
    },
    {
     "data": {
      "text/html": [
       "<pre style=\"white-space:pre;overflow-x:auto;line-height:normal;font-family:Menlo,'DejaVu Sans Mono',consolas,'Courier New',monospace\">Trained DQN model with loss: 99.8093\n",
       "</pre>\n"
      ],
      "text/plain": [
       "Trained DQN model with loss: 99.8093\n"
      ]
     },
     "metadata": {},
     "output_type": "display_data"
    },
    {
     "data": {
      "text/html": [
       "<pre style=\"white-space:pre;overflow-x:auto;line-height:normal;font-family:Menlo,'DejaVu Sans Mono',consolas,'Courier New',monospace\">Trained DQN model with loss: 99.6611\n",
       "</pre>\n"
      ],
      "text/plain": [
       "Trained DQN model with loss: 99.6611\n"
      ]
     },
     "metadata": {},
     "output_type": "display_data"
    },
    {
     "data": {
      "text/html": [
       "<pre style=\"white-space:pre;overflow-x:auto;line-height:normal;font-family:Menlo,'DejaVu Sans Mono',consolas,'Courier New',monospace\">Trained DQN model with loss: 99.4651\n",
       "</pre>\n"
      ],
      "text/plain": [
       "Trained DQN model with loss: 99.4651\n"
      ]
     },
     "metadata": {},
     "output_type": "display_data"
    },
    {
     "data": {
      "text/html": [
       "<pre style=\"white-space:pre;overflow-x:auto;line-height:normal;font-family:Menlo,'DejaVu Sans Mono',consolas,'Courier New',monospace\">Trained DQN model with loss: 99.5399\n",
       "</pre>\n"
      ],
      "text/plain": [
       "Trained DQN model with loss: 99.5399\n"
      ]
     },
     "metadata": {},
     "output_type": "display_data"
    },
    {
     "data": {
      "text/html": [
       "<pre style=\"white-space:pre;overflow-x:auto;line-height:normal;font-family:Menlo,'DejaVu Sans Mono',consolas,'Courier New',monospace\">Trained DQN model with loss: 99.4462\n",
       "</pre>\n"
      ],
      "text/plain": [
       "Trained DQN model with loss: 99.4462\n"
      ]
     },
     "metadata": {},
     "output_type": "display_data"
    },
    {
     "data": {
      "text/html": [
       "<pre style=\"white-space:pre;overflow-x:auto;line-height:normal;font-family:Menlo,'DejaVu Sans Mono',consolas,'Courier New',monospace\">Trained DQN model with loss: 99.7317\n",
       "</pre>\n"
      ],
      "text/plain": [
       "Trained DQN model with loss: 99.7317\n"
      ]
     },
     "metadata": {},
     "output_type": "display_data"
    },
    {
     "data": {
      "text/html": [
       "<pre style=\"white-space:pre;overflow-x:auto;line-height:normal;font-family:Menlo,'DejaVu Sans Mono',consolas,'Courier New',monospace\">Trained DQN model with loss: 99.5559\n",
       "</pre>\n"
      ],
      "text/plain": [
       "Trained DQN model with loss: 99.5559\n"
      ]
     },
     "metadata": {},
     "output_type": "display_data"
    },
    {
     "data": {
      "text/html": [
       "<pre style=\"white-space:pre;overflow-x:auto;line-height:normal;font-family:Menlo,'DejaVu Sans Mono',consolas,'Courier New',monospace\">Trained DQN model with loss: 99.4926\n",
       "</pre>\n"
      ],
      "text/plain": [
       "Trained DQN model with loss: 99.4926\n"
      ]
     },
     "metadata": {},
     "output_type": "display_data"
    },
    {
     "data": {
      "text/html": [
       "<pre style=\"white-space:pre;overflow-x:auto;line-height:normal;font-family:Menlo,'DejaVu Sans Mono',consolas,'Courier New',monospace\">Trained DQN model with loss: 99.6067\n",
       "</pre>\n"
      ],
      "text/plain": [
       "Trained DQN model with loss: 99.6067\n"
      ]
     },
     "metadata": {},
     "output_type": "display_data"
    },
    {
     "data": {
      "text/html": [
       "<pre style=\"white-space:pre;overflow-x:auto;line-height:normal;font-family:Menlo,'DejaVu Sans Mono',consolas,'Courier New',monospace\">Trained DQN model with loss: 99.7070\n",
       "</pre>\n"
      ],
      "text/plain": [
       "Trained DQN model with loss: 99.7070\n"
      ]
     },
     "metadata": {},
     "output_type": "display_data"
    },
    {
     "data": {
      "text/html": [
       "<pre style=\"white-space:pre;overflow-x:auto;line-height:normal;font-family:Menlo,'DejaVu Sans Mono',consolas,'Courier New',monospace\">Trained DQN model with loss: 99.8967\n",
       "</pre>\n"
      ],
      "text/plain": [
       "Trained DQN model with loss: 99.8967\n"
      ]
     },
     "metadata": {},
     "output_type": "display_data"
    },
    {
     "data": {
      "text/html": [
       "<pre style=\"white-space:pre;overflow-x:auto;line-height:normal;font-family:Menlo,'DejaVu Sans Mono',consolas,'Courier New',monospace\">Trained DQN model with loss: 99.5873\n",
       "</pre>\n"
      ],
      "text/plain": [
       "Trained DQN model with loss: 99.5873\n"
      ]
     },
     "metadata": {},
     "output_type": "display_data"
    },
    {
     "data": {
      "text/html": [
       "<pre style=\"white-space:pre;overflow-x:auto;line-height:normal;font-family:Menlo,'DejaVu Sans Mono',consolas,'Courier New',monospace\">Trained DQN model with loss: 99.5758\n",
       "</pre>\n"
      ],
      "text/plain": [
       "Trained DQN model with loss: 99.5758\n"
      ]
     },
     "metadata": {},
     "output_type": "display_data"
    },
    {
     "data": {
      "text/html": [
       "<pre style=\"white-space:pre;overflow-x:auto;line-height:normal;font-family:Menlo,'DejaVu Sans Mono',consolas,'Courier New',monospace\">Trained DQN model with loss: 99.8102\n",
       "</pre>\n"
      ],
      "text/plain": [
       "Trained DQN model with loss: 99.8102\n"
      ]
     },
     "metadata": {},
     "output_type": "display_data"
    },
    {
     "data": {
      "text/html": [
       "<pre style=\"white-space:pre;overflow-x:auto;line-height:normal;font-family:Menlo,'DejaVu Sans Mono',consolas,'Courier New',monospace\">Trained DQN model with loss: 99.7075\n",
       "</pre>\n"
      ],
      "text/plain": [
       "Trained DQN model with loss: 99.7075\n"
      ]
     },
     "metadata": {},
     "output_type": "display_data"
    },
    {
     "data": {
      "text/html": [
       "<pre style=\"white-space:pre;overflow-x:auto;line-height:normal;font-family:Menlo,'DejaVu Sans Mono',consolas,'Courier New',monospace\">Trained DQN model with loss: 99.8598\n",
       "</pre>\n"
      ],
      "text/plain": [
       "Trained DQN model with loss: 99.8598\n"
      ]
     },
     "metadata": {},
     "output_type": "display_data"
    },
    {
     "data": {
      "text/html": [
       "<pre style=\"white-space:pre;overflow-x:auto;line-height:normal;font-family:Menlo,'DejaVu Sans Mono',consolas,'Courier New',monospace\">Trained DQN model with loss: 100.0840\n",
       "</pre>\n"
      ],
      "text/plain": [
       "Trained DQN model with loss: 100.0840\n"
      ]
     },
     "metadata": {},
     "output_type": "display_data"
    },
    {
     "data": {
      "text/html": [
       "<pre style=\"white-space:pre;overflow-x:auto;line-height:normal;font-family:Menlo,'DejaVu Sans Mono',consolas,'Courier New',monospace\">Trained DQN model with loss: 99.7675\n",
       "</pre>\n"
      ],
      "text/plain": [
       "Trained DQN model with loss: 99.7675\n"
      ]
     },
     "metadata": {},
     "output_type": "display_data"
    },
    {
     "data": {
      "text/html": [
       "<pre style=\"white-space:pre;overflow-x:auto;line-height:normal;font-family:Menlo,'DejaVu Sans Mono',consolas,'Courier New',monospace\">Trained DQN model with loss: 99.6741\n",
       "</pre>\n"
      ],
      "text/plain": [
       "Trained DQN model with loss: 99.6741\n"
      ]
     },
     "metadata": {},
     "output_type": "display_data"
    },
    {
     "data": {
      "text/html": [
       "<pre style=\"white-space:pre;overflow-x:auto;line-height:normal;font-family:Menlo,'DejaVu Sans Mono',consolas,'Courier New',monospace\"></pre>\n"
      ],
      "text/plain": []
     },
     "metadata": {},
     "output_type": "display_data"
    },
    {
     "data": {
      "text/html": [
       "<pre style=\"white-space:pre;overflow-x:auto;line-height:normal;font-family:Menlo,'DejaVu Sans Mono',consolas,'Courier New',monospace\">\n",
       "</pre>\n"
      ],
      "text/plain": [
       "\n"
      ]
     },
     "metadata": {},
     "output_type": "display_data"
    },
    {
     "data": {
      "text/html": [
       "<pre style=\"white-space:pre;overflow-x:auto;line-height:normal;font-family:Menlo,'DejaVu Sans Mono',consolas,'Courier New',monospace\"><span style=\"font-style: italic\">                                      Last 1 Games                                      </span>\n",
       "    ╷                       ╷       ╷          ╷           ╷        ╷         ╷         \n",
       " <span style=\"font-weight: bold\"> # </span>│<span style=\"font-weight: bold\"> SEATING               </span>│<span style=\"font-weight: bold\"> TURNS </span>│<span style=\"font-weight: bold\"> WHITE VP </span>│<span style=\"font-weight: bold\"> ORANGE VP </span>│<span style=\"font-weight: bold\"> RED VP </span>│<span style=\"font-weight: bold\"> BLUE VP </span>│<span style=\"font-weight: bold\"> WINNER </span> \n",
       "╶───┼───────────────────────┼───────┼──────────┼───────────┼────────┼─────────┼────────╴\n",
       "  1 │ <span style=\"color: #c0c0c0; text-decoration-color: #c0c0c0\">WHITE</span>,<span style=\"color: #000080; text-decoration-color: #000080\">BLUE</span>,<span style=\"color: #808000; text-decoration-color: #808000\">ORANGE</span>,<span style=\"color: #800000; text-decoration-color: #800000\">RED</span> │   551 │        4 │         3 │      2 │      10 │ <span style=\"color: #000080; text-decoration-color: #000080\">BLUE</span>    \n",
       "    ╵                       ╵       ╵          ╵           ╵        ╵         ╵         \n",
       "</pre>\n"
      ],
      "text/plain": [
       "\u001b[3m                                      Last 1 Games                                      \u001b[0m\n",
       "    ╷                       ╷       ╷          ╷           ╷        ╷         ╷         \n",
       " \u001b[1m \u001b[0m\u001b[1m#\u001b[0m\u001b[1m \u001b[0m│\u001b[1m \u001b[0m\u001b[1mSEATING              \u001b[0m\u001b[1m \u001b[0m│\u001b[1m \u001b[0m\u001b[1mTURNS\u001b[0m\u001b[1m \u001b[0m│\u001b[1m \u001b[0m\u001b[1mWHITE VP\u001b[0m\u001b[1m \u001b[0m│\u001b[1m \u001b[0m\u001b[1mORANGE VP\u001b[0m\u001b[1m \u001b[0m│\u001b[1m \u001b[0m\u001b[1mRED VP\u001b[0m\u001b[1m \u001b[0m│\u001b[1m \u001b[0m\u001b[1mBLUE VP\u001b[0m\u001b[1m \u001b[0m│\u001b[1m \u001b[0m\u001b[1mWINNER\u001b[0m\u001b[1m \u001b[0m \n",
       "╶───┼───────────────────────┼───────┼──────────┼───────────┼────────┼─────────┼────────╴\n",
       "  1 │ \u001b[37mWHITE\u001b[0m,\u001b[34mBLUE\u001b[0m,\u001b[33mORANGE\u001b[0m,\u001b[31mRED\u001b[0m │   551 │        4 │         3 │      2 │      10 │ \u001b[34mBLUE\u001b[0m    \n",
       "    ╵                       ╵       ╵          ╵           ╵        ╵         ╵         \n"
      ]
     },
     "metadata": {},
     "output_type": "display_data"
    },
    {
     "data": {
      "text/html": [
       "<pre style=\"white-space:pre;overflow-x:auto;line-height:normal;font-family:Menlo,'DejaVu Sans Mono',consolas,'Courier New',monospace\"><span style=\"font-style: italic\">                                              Player Summary                                               </span>\n",
       "                            ╷      ╷        ╷             ╷            ╷          ╷          ╷             \n",
       " <span style=\"font-weight: bold\">                           </span>│<span style=\"font-weight: bold\"> WINS </span>│<span style=\"font-weight: bold\"> AVG VP </span>│<span style=\"font-weight: bold\"> AVG SETTLES </span>│<span style=\"font-weight: bold\"> AVG CITIES </span>│<span style=\"font-weight: bold\"> AVG ROAD </span>│<span style=\"font-weight: bold\"> AVG ARMY </span>│<span style=\"font-weight: bold\"> AVG DEV VP </span> \n",
       "╶───────────────────────────┼──────┼────────┼─────────────┼────────────┼──────────┼──────────┼────────────╴\n",
       "  <span style=\"color: #c0c0c0; text-decoration-color: #c0c0c0\">RandomPlayer:WHITE</span>        │    0 │   4.00 │        2.00 │       0.00 │     0.00 │     1.00 │       0.00  \n",
       "  <span style=\"color: #808000; text-decoration-color: #808000\">RandomPlayer:ORANGE</span>       │    0 │   3.00 │        2.00 │       0.00 │     0.00 │     0.00 │       1.00  \n",
       "  <span style=\"color: #800000; text-decoration-color: #800000\">AB_DQNPlayer_1:RED</span>        │    0 │   2.00 │        2.00 │       0.00 │     0.00 │     0.00 │       0.00  \n",
       "  <span style=\"color: #000080; text-decoration-color: #000080\">WeightedRandomPlayer:BLUE</span> │    1 │  10.00 │        2.00 │       1.00 │     1.00 │     0.00 │       4.00  \n",
       "                            ╵      ╵        ╵             ╵            ╵          ╵          ╵             \n",
       "</pre>\n"
      ],
      "text/plain": [
       "\u001b[3m                                              Player Summary                                               \u001b[0m\n",
       "                            ╷      ╷        ╷             ╷            ╷          ╷          ╷             \n",
       " \u001b[1m \u001b[0m\u001b[1m                         \u001b[0m\u001b[1m \u001b[0m│\u001b[1m \u001b[0m\u001b[1mWINS\u001b[0m\u001b[1m \u001b[0m│\u001b[1m \u001b[0m\u001b[1mAVG VP\u001b[0m\u001b[1m \u001b[0m│\u001b[1m \u001b[0m\u001b[1mAVG SETTLES\u001b[0m\u001b[1m \u001b[0m│\u001b[1m \u001b[0m\u001b[1mAVG CITIES\u001b[0m\u001b[1m \u001b[0m│\u001b[1m \u001b[0m\u001b[1mAVG ROAD\u001b[0m\u001b[1m \u001b[0m│\u001b[1m \u001b[0m\u001b[1mAVG ARMY\u001b[0m\u001b[1m \u001b[0m│\u001b[1m \u001b[0m\u001b[1mAVG DEV VP\u001b[0m\u001b[1m \u001b[0m \n",
       "╶───────────────────────────┼──────┼────────┼─────────────┼────────────┼──────────┼──────────┼────────────╴\n",
       "  \u001b[37mRandomPlayer:WHITE\u001b[0m        │    0 │   4.00 │        2.00 │       0.00 │     0.00 │     1.00 │       0.00  \n",
       "  \u001b[33mRandomPlayer:ORANGE\u001b[0m       │    0 │   3.00 │        2.00 │       0.00 │     0.00 │     0.00 │       1.00  \n",
       "  \u001b[31mAB_DQNPlayer_1:RED\u001b[0m        │    0 │   2.00 │        2.00 │       0.00 │     0.00 │     0.00 │       0.00  \n",
       "  \u001b[34mWeightedRandomPlayer:BLUE\u001b[0m │    1 │  10.00 │        2.00 │       1.00 │     1.00 │     0.00 │       4.00  \n",
       "                            ╵      ╵        ╵             ╵            ╵          ╵          ╵             \n"
      ]
     },
     "metadata": {},
     "output_type": "display_data"
    },
    {
     "data": {
      "text/html": [
       "<pre style=\"white-space:pre;overflow-x:auto;line-height:normal;font-family:Menlo,'DejaVu Sans Mono',consolas,'Courier New',monospace\"><span style=\"font-style: italic\">              Game Summary              </span>\n",
       "            ╷           ╷               \n",
       " <span style=\"font-weight: bold\"> AVG TICKS </span>│<span style=\"font-weight: bold\"> AVG TURNS </span>│<span style=\"font-weight: bold\"> AVG DURATION </span> \n",
       "╶───────────┼───────────┼──────────────╴\n",
       "    1434.00 │    551.00 │  58.540 secs  \n",
       "            ╵           ╵               \n",
       "</pre>\n"
      ],
      "text/plain": [
       "\u001b[3m              Game Summary              \u001b[0m\n",
       "            ╷           ╷               \n",
       " \u001b[1m \u001b[0m\u001b[1mAVG TICKS\u001b[0m\u001b[1m \u001b[0m│\u001b[1m \u001b[0m\u001b[1mAVG TURNS\u001b[0m\u001b[1m \u001b[0m│\u001b[1m \u001b[0m\u001b[1mAVG DURATION\u001b[0m\u001b[1m \u001b[0m \n",
       "╶───────────┼───────────┼──────────────╴\n",
       "    1434.00 │    551.00 │  58.540 secs  \n",
       "            ╵           ╵               \n"
      ]
     },
     "metadata": {},
     "output_type": "display_data"
    },
    {
     "data": {
      "text/html": [
       "<pre style=\"white-space:pre;overflow-x:auto;line-height:normal;font-family:Menlo,'DejaVu Sans Mono',consolas,'Courier New',monospace\">Trained DQN model with loss: 99.8907\n",
       "</pre>\n"
      ],
      "text/plain": [
       "Trained DQN model with loss: 99.8907\n"
      ]
     },
     "metadata": {},
     "output_type": "display_data"
    },
    {
     "data": {
      "text/html": [
       "<pre style=\"white-space:pre;overflow-x:auto;line-height:normal;font-family:Menlo,'DejaVu Sans Mono',consolas,'Courier New',monospace\">Trained DQN model with loss: 99.4805\n",
       "</pre>\n"
      ],
      "text/plain": [
       "Trained DQN model with loss: 99.4805\n"
      ]
     },
     "metadata": {},
     "output_type": "display_data"
    },
    {
     "data": {
      "text/html": [
       "<pre style=\"white-space:pre;overflow-x:auto;line-height:normal;font-family:Menlo,'DejaVu Sans Mono',consolas,'Courier New',monospace\">Trained DQN model with loss: 99.9453\n",
       "</pre>\n"
      ],
      "text/plain": [
       "Trained DQN model with loss: 99.9453\n"
      ]
     },
     "metadata": {},
     "output_type": "display_data"
    },
    {
     "data": {
      "text/html": [
       "<pre style=\"white-space:pre;overflow-x:auto;line-height:normal;font-family:Menlo,'DejaVu Sans Mono',consolas,'Courier New',monospace\">Trained DQN model with loss: 99.9135\n",
       "</pre>\n"
      ],
      "text/plain": [
       "Trained DQN model with loss: 99.9135\n"
      ]
     },
     "metadata": {},
     "output_type": "display_data"
    },
    {
     "data": {
      "text/html": [
       "<pre style=\"white-space:pre;overflow-x:auto;line-height:normal;font-family:Menlo,'DejaVu Sans Mono',consolas,'Courier New',monospace\">Trained DQN model with loss: 99.7643\n",
       "</pre>\n"
      ],
      "text/plain": [
       "Trained DQN model with loss: 99.7643\n"
      ]
     },
     "metadata": {},
     "output_type": "display_data"
    },
    {
     "data": {
      "text/html": [
       "<pre style=\"white-space:pre;overflow-x:auto;line-height:normal;font-family:Menlo,'DejaVu Sans Mono',consolas,'Courier New',monospace\">Trained DQN model with loss: 99.7187\n",
       "</pre>\n"
      ],
      "text/plain": [
       "Trained DQN model with loss: 99.7187\n"
      ]
     },
     "metadata": {},
     "output_type": "display_data"
    },
    {
     "data": {
      "text/html": [
       "<pre style=\"white-space:pre;overflow-x:auto;line-height:normal;font-family:Menlo,'DejaVu Sans Mono',consolas,'Courier New',monospace\">Trained DQN model with loss: 99.5649\n",
       "</pre>\n"
      ],
      "text/plain": [
       "Trained DQN model with loss: 99.5649\n"
      ]
     },
     "metadata": {},
     "output_type": "display_data"
    },
    {
     "data": {
      "text/html": [
       "<pre style=\"white-space:pre;overflow-x:auto;line-height:normal;font-family:Menlo,'DejaVu Sans Mono',consolas,'Courier New',monospace\">Trained DQN model with loss: 99.9712\n",
       "</pre>\n"
      ],
      "text/plain": [
       "Trained DQN model with loss: 99.9712\n"
      ]
     },
     "metadata": {},
     "output_type": "display_data"
    },
    {
     "data": {
      "text/html": [
       "<pre style=\"white-space:pre;overflow-x:auto;line-height:normal;font-family:Menlo,'DejaVu Sans Mono',consolas,'Courier New',monospace\">Trained DQN model with loss: 99.7722\n",
       "</pre>\n"
      ],
      "text/plain": [
       "Trained DQN model with loss: 99.7722\n"
      ]
     },
     "metadata": {},
     "output_type": "display_data"
    },
    {
     "data": {
      "text/html": [
       "<pre style=\"white-space:pre;overflow-x:auto;line-height:normal;font-family:Menlo,'DejaVu Sans Mono',consolas,'Courier New',monospace\">Trained DQN model with loss: 99.8149\n",
       "</pre>\n"
      ],
      "text/plain": [
       "Trained DQN model with loss: 99.8149\n"
      ]
     },
     "metadata": {},
     "output_type": "display_data"
    },
    {
     "data": {
      "text/html": [
       "<pre style=\"white-space:pre;overflow-x:auto;line-height:normal;font-family:Menlo,'DejaVu Sans Mono',consolas,'Courier New',monospace\">Trained DQN model with loss: 99.7746\n",
       "</pre>\n"
      ],
      "text/plain": [
       "Trained DQN model with loss: 99.7746\n"
      ]
     },
     "metadata": {},
     "output_type": "display_data"
    },
    {
     "data": {
      "text/html": [
       "<pre style=\"white-space:pre;overflow-x:auto;line-height:normal;font-family:Menlo,'DejaVu Sans Mono',consolas,'Courier New',monospace\">Trained DQN model with loss: 99.7353\n",
       "</pre>\n"
      ],
      "text/plain": [
       "Trained DQN model with loss: 99.7353\n"
      ]
     },
     "metadata": {},
     "output_type": "display_data"
    },
    {
     "data": {
      "text/html": [
       "<pre style=\"white-space:pre;overflow-x:auto;line-height:normal;font-family:Menlo,'DejaVu Sans Mono',consolas,'Courier New',monospace\">Trained DQN model with loss: 99.5726\n",
       "</pre>\n"
      ],
      "text/plain": [
       "Trained DQN model with loss: 99.5726\n"
      ]
     },
     "metadata": {},
     "output_type": "display_data"
    },
    {
     "data": {
      "text/html": [
       "<pre style=\"white-space:pre;overflow-x:auto;line-height:normal;font-family:Menlo,'DejaVu Sans Mono',consolas,'Courier New',monospace\">Trained DQN model with loss: 99.6833\n",
       "</pre>\n"
      ],
      "text/plain": [
       "Trained DQN model with loss: 99.6833\n"
      ]
     },
     "metadata": {},
     "output_type": "display_data"
    },
    {
     "data": {
      "text/html": [
       "<pre style=\"white-space:pre;overflow-x:auto;line-height:normal;font-family:Menlo,'DejaVu Sans Mono',consolas,'Courier New',monospace\">Trained DQN model with loss: 99.9421\n",
       "</pre>\n"
      ],
      "text/plain": [
       "Trained DQN model with loss: 99.9421\n"
      ]
     },
     "metadata": {},
     "output_type": "display_data"
    },
    {
     "data": {
      "text/html": [
       "<pre style=\"white-space:pre;overflow-x:auto;line-height:normal;font-family:Menlo,'DejaVu Sans Mono',consolas,'Courier New',monospace\">Trained DQN model with loss: 99.8221\n",
       "</pre>\n"
      ],
      "text/plain": [
       "Trained DQN model with loss: 99.8221\n"
      ]
     },
     "metadata": {},
     "output_type": "display_data"
    },
    {
     "data": {
      "text/html": [
       "<pre style=\"white-space:pre;overflow-x:auto;line-height:normal;font-family:Menlo,'DejaVu Sans Mono',consolas,'Courier New',monospace\">Trained DQN model with loss: 99.8152\n",
       "</pre>\n"
      ],
      "text/plain": [
       "Trained DQN model with loss: 99.8152\n"
      ]
     },
     "metadata": {},
     "output_type": "display_data"
    },
    {
     "data": {
      "text/html": [
       "<pre style=\"white-space:pre;overflow-x:auto;line-height:normal;font-family:Menlo,'DejaVu Sans Mono',consolas,'Courier New',monospace\">Trained DQN model with loss: 99.7906\n",
       "</pre>\n"
      ],
      "text/plain": [
       "Trained DQN model with loss: 99.7906\n"
      ]
     },
     "metadata": {},
     "output_type": "display_data"
    },
    {
     "data": {
      "text/html": [
       "<pre style=\"white-space:pre;overflow-x:auto;line-height:normal;font-family:Menlo,'DejaVu Sans Mono',consolas,'Courier New',monospace\">Trained DQN model with loss: 99.4211\n",
       "</pre>\n"
      ],
      "text/plain": [
       "Trained DQN model with loss: 99.4211\n"
      ]
     },
     "metadata": {},
     "output_type": "display_data"
    },
    {
     "data": {
      "text/html": [
       "<pre style=\"white-space:pre;overflow-x:auto;line-height:normal;font-family:Menlo,'DejaVu Sans Mono',consolas,'Courier New',monospace\">Trained DQN model with loss: 99.5588\n",
       "</pre>\n"
      ],
      "text/plain": [
       "Trained DQN model with loss: 99.5588\n"
      ]
     },
     "metadata": {},
     "output_type": "display_data"
    },
    {
     "data": {
      "text/html": [
       "<pre style=\"white-space:pre;overflow-x:auto;line-height:normal;font-family:Menlo,'DejaVu Sans Mono',consolas,'Courier New',monospace\">Trained DQN model with loss: 99.4623\n",
       "</pre>\n"
      ],
      "text/plain": [
       "Trained DQN model with loss: 99.4623\n"
      ]
     },
     "metadata": {},
     "output_type": "display_data"
    },
    {
     "data": {
      "text/html": [
       "<pre style=\"white-space:pre;overflow-x:auto;line-height:normal;font-family:Menlo,'DejaVu Sans Mono',consolas,'Courier New',monospace\">Trained DQN model with loss: 99.6178\n",
       "</pre>\n"
      ],
      "text/plain": [
       "Trained DQN model with loss: 99.6178\n"
      ]
     },
     "metadata": {},
     "output_type": "display_data"
    },
    {
     "data": {
      "text/html": [
       "<pre style=\"white-space:pre;overflow-x:auto;line-height:normal;font-family:Menlo,'DejaVu Sans Mono',consolas,'Courier New',monospace\">Trained DQN model with loss: 99.8636\n",
       "</pre>\n"
      ],
      "text/plain": [
       "Trained DQN model with loss: 99.8636\n"
      ]
     },
     "metadata": {},
     "output_type": "display_data"
    },
    {
     "data": {
      "text/html": [
       "<pre style=\"white-space:pre;overflow-x:auto;line-height:normal;font-family:Menlo,'DejaVu Sans Mono',consolas,'Courier New',monospace\">Trained DQN model with loss: 99.7320\n",
       "</pre>\n"
      ],
      "text/plain": [
       "Trained DQN model with loss: 99.7320\n"
      ]
     },
     "metadata": {},
     "output_type": "display_data"
    },
    {
     "data": {
      "text/html": [
       "<pre style=\"white-space:pre;overflow-x:auto;line-height:normal;font-family:Menlo,'DejaVu Sans Mono',consolas,'Courier New',monospace\">Trained DQN model with loss: 99.7272\n",
       "</pre>\n"
      ],
      "text/plain": [
       "Trained DQN model with loss: 99.7272\n"
      ]
     },
     "metadata": {},
     "output_type": "display_data"
    },
    {
     "data": {
      "text/html": [
       "<pre style=\"white-space:pre;overflow-x:auto;line-height:normal;font-family:Menlo,'DejaVu Sans Mono',consolas,'Courier New',monospace\">Trained DQN model with loss: 99.7213\n",
       "</pre>\n"
      ],
      "text/plain": [
       "Trained DQN model with loss: 99.7213\n"
      ]
     },
     "metadata": {},
     "output_type": "display_data"
    },
    {
     "data": {
      "text/html": [
       "<pre style=\"white-space:pre;overflow-x:auto;line-height:normal;font-family:Menlo,'DejaVu Sans Mono',consolas,'Courier New',monospace\">Trained DQN model with loss: 99.9262\n",
       "</pre>\n"
      ],
      "text/plain": [
       "Trained DQN model with loss: 99.9262\n"
      ]
     },
     "metadata": {},
     "output_type": "display_data"
    },
    {
     "data": {
      "text/html": [
       "<pre style=\"white-space:pre;overflow-x:auto;line-height:normal;font-family:Menlo,'DejaVu Sans Mono',consolas,'Courier New',monospace\">Trained DQN model with loss: 99.8620\n",
       "</pre>\n"
      ],
      "text/plain": [
       "Trained DQN model with loss: 99.8620\n"
      ]
     },
     "metadata": {},
     "output_type": "display_data"
    },
    {
     "data": {
      "text/html": [
       "<pre style=\"white-space:pre;overflow-x:auto;line-height:normal;font-family:Menlo,'DejaVu Sans Mono',consolas,'Courier New',monospace\">Trained DQN model with loss: 99.6226\n",
       "</pre>\n"
      ],
      "text/plain": [
       "Trained DQN model with loss: 99.6226\n"
      ]
     },
     "metadata": {},
     "output_type": "display_data"
    },
    {
     "data": {
      "text/html": [
       "<pre style=\"white-space:pre;overflow-x:auto;line-height:normal;font-family:Menlo,'DejaVu Sans Mono',consolas,'Courier New',monospace\">Trained DQN model with loss: 99.4338\n",
       "</pre>\n"
      ],
      "text/plain": [
       "Trained DQN model with loss: 99.4338\n"
      ]
     },
     "metadata": {},
     "output_type": "display_data"
    },
    {
     "data": {
      "text/html": [
       "<pre style=\"white-space:pre;overflow-x:auto;line-height:normal;font-family:Menlo,'DejaVu Sans Mono',consolas,'Courier New',monospace\">Trained DQN model with loss: 99.5616\n",
       "</pre>\n"
      ],
      "text/plain": [
       "Trained DQN model with loss: 99.5616\n"
      ]
     },
     "metadata": {},
     "output_type": "display_data"
    },
    {
     "data": {
      "text/html": [
       "<pre style=\"white-space:pre;overflow-x:auto;line-height:normal;font-family:Menlo,'DejaVu Sans Mono',consolas,'Courier New',monospace\">Trained DQN model with loss: 99.8333\n",
       "</pre>\n"
      ],
      "text/plain": [
       "Trained DQN model with loss: 99.8333\n"
      ]
     },
     "metadata": {},
     "output_type": "display_data"
    },
    {
     "data": {
      "text/html": [
       "<pre style=\"white-space:pre;overflow-x:auto;line-height:normal;font-family:Menlo,'DejaVu Sans Mono',consolas,'Courier New',monospace\">Trained DQN model with loss: 99.6902\n",
       "</pre>\n"
      ],
      "text/plain": [
       "Trained DQN model with loss: 99.6902\n"
      ]
     },
     "metadata": {},
     "output_type": "display_data"
    },
    {
     "data": {
      "text/html": [
       "<pre style=\"white-space:pre;overflow-x:auto;line-height:normal;font-family:Menlo,'DejaVu Sans Mono',consolas,'Courier New',monospace\">Trained DQN model with loss: 99.8089\n",
       "</pre>\n"
      ],
      "text/plain": [
       "Trained DQN model with loss: 99.8089\n"
      ]
     },
     "metadata": {},
     "output_type": "display_data"
    },
    {
     "data": {
      "text/html": [
       "<pre style=\"white-space:pre;overflow-x:auto;line-height:normal;font-family:Menlo,'DejaVu Sans Mono',consolas,'Courier New',monospace\">Trained DQN model with loss: 99.5095\n",
       "</pre>\n"
      ],
      "text/plain": [
       "Trained DQN model with loss: 99.5095\n"
      ]
     },
     "metadata": {},
     "output_type": "display_data"
    },
    {
     "data": {
      "text/html": [
       "<pre style=\"white-space:pre;overflow-x:auto;line-height:normal;font-family:Menlo,'DejaVu Sans Mono',consolas,'Courier New',monospace\">Trained DQN model with loss: 99.7734\n",
       "</pre>\n"
      ],
      "text/plain": [
       "Trained DQN model with loss: 99.7734\n"
      ]
     },
     "metadata": {},
     "output_type": "display_data"
    },
    {
     "data": {
      "text/html": [
       "<pre style=\"white-space:pre;overflow-x:auto;line-height:normal;font-family:Menlo,'DejaVu Sans Mono',consolas,'Courier New',monospace\">Trained DQN model with loss: 99.6219\n",
       "</pre>\n"
      ],
      "text/plain": [
       "Trained DQN model with loss: 99.6219\n"
      ]
     },
     "metadata": {},
     "output_type": "display_data"
    },
    {
     "data": {
      "text/html": [
       "<pre style=\"white-space:pre;overflow-x:auto;line-height:normal;font-family:Menlo,'DejaVu Sans Mono',consolas,'Courier New',monospace\">Trained DQN model with loss: 99.8427\n",
       "</pre>\n"
      ],
      "text/plain": [
       "Trained DQN model with loss: 99.8427\n"
      ]
     },
     "metadata": {},
     "output_type": "display_data"
    },
    {
     "data": {
      "text/html": [
       "<pre style=\"white-space:pre;overflow-x:auto;line-height:normal;font-family:Menlo,'DejaVu Sans Mono',consolas,'Courier New',monospace\">Trained DQN model with loss: 99.6290\n",
       "</pre>\n"
      ],
      "text/plain": [
       "Trained DQN model with loss: 99.6290\n"
      ]
     },
     "metadata": {},
     "output_type": "display_data"
    },
    {
     "data": {
      "text/html": [
       "<pre style=\"white-space:pre;overflow-x:auto;line-height:normal;font-family:Menlo,'DejaVu Sans Mono',consolas,'Courier New',monospace\">Trained DQN model with loss: 99.6746\n",
       "</pre>\n"
      ],
      "text/plain": [
       "Trained DQN model with loss: 99.6746\n"
      ]
     },
     "metadata": {},
     "output_type": "display_data"
    },
    {
     "data": {
      "text/html": [
       "<pre style=\"white-space:pre;overflow-x:auto;line-height:normal;font-family:Menlo,'DejaVu Sans Mono',consolas,'Courier New',monospace\">Trained DQN model with loss: 99.7086\n",
       "</pre>\n"
      ],
      "text/plain": [
       "Trained DQN model with loss: 99.7086\n"
      ]
     },
     "metadata": {},
     "output_type": "display_data"
    },
    {
     "data": {
      "text/html": [
       "<pre style=\"white-space:pre;overflow-x:auto;line-height:normal;font-family:Menlo,'DejaVu Sans Mono',consolas,'Courier New',monospace\">Trained DQN model with loss: 99.5715\n",
       "</pre>\n"
      ],
      "text/plain": [
       "Trained DQN model with loss: 99.5715\n"
      ]
     },
     "metadata": {},
     "output_type": "display_data"
    },
    {
     "data": {
      "text/html": [
       "<pre style=\"white-space:pre;overflow-x:auto;line-height:normal;font-family:Menlo,'DejaVu Sans Mono',consolas,'Courier New',monospace\">Trained DQN model with loss: 99.5619\n",
       "</pre>\n"
      ],
      "text/plain": [
       "Trained DQN model with loss: 99.5619\n"
      ]
     },
     "metadata": {},
     "output_type": "display_data"
    },
    {
     "data": {
      "text/html": [
       "<pre style=\"white-space:pre;overflow-x:auto;line-height:normal;font-family:Menlo,'DejaVu Sans Mono',consolas,'Courier New',monospace\">Trained DQN model with loss: 99.4587\n",
       "</pre>\n"
      ],
      "text/plain": [
       "Trained DQN model with loss: 99.4587\n"
      ]
     },
     "metadata": {},
     "output_type": "display_data"
    },
    {
     "data": {
      "text/html": [
       "<pre style=\"white-space:pre;overflow-x:auto;line-height:normal;font-family:Menlo,'DejaVu Sans Mono',consolas,'Courier New',monospace\">Trained DQN model with loss: 99.7829\n",
       "</pre>\n"
      ],
      "text/plain": [
       "Trained DQN model with loss: 99.7829\n"
      ]
     },
     "metadata": {},
     "output_type": "display_data"
    },
    {
     "data": {
      "text/html": [
       "<pre style=\"white-space:pre;overflow-x:auto;line-height:normal;font-family:Menlo,'DejaVu Sans Mono',consolas,'Courier New',monospace\">Trained DQN model with loss: 99.8776\n",
       "</pre>\n"
      ],
      "text/plain": [
       "Trained DQN model with loss: 99.8776\n"
      ]
     },
     "metadata": {},
     "output_type": "display_data"
    },
    {
     "data": {
      "text/html": [
       "<pre style=\"white-space:pre;overflow-x:auto;line-height:normal;font-family:Menlo,'DejaVu Sans Mono',consolas,'Courier New',monospace\">Trained DQN model with loss: 99.7437\n",
       "</pre>\n"
      ],
      "text/plain": [
       "Trained DQN model with loss: 99.7437\n"
      ]
     },
     "metadata": {},
     "output_type": "display_data"
    },
    {
     "data": {
      "text/html": [
       "<pre style=\"white-space:pre;overflow-x:auto;line-height:normal;font-family:Menlo,'DejaVu Sans Mono',consolas,'Courier New',monospace\">Trained DQN model with loss: 99.6842\n",
       "</pre>\n"
      ],
      "text/plain": [
       "Trained DQN model with loss: 99.6842\n"
      ]
     },
     "metadata": {},
     "output_type": "display_data"
    },
    {
     "data": {
      "text/html": [
       "<pre style=\"white-space:pre;overflow-x:auto;line-height:normal;font-family:Menlo,'DejaVu Sans Mono',consolas,'Courier New',monospace\">Trained DQN model with loss: 99.5528\n",
       "</pre>\n"
      ],
      "text/plain": [
       "Trained DQN model with loss: 99.5528\n"
      ]
     },
     "metadata": {},
     "output_type": "display_data"
    },
    {
     "data": {
      "text/html": [
       "<pre style=\"white-space:pre;overflow-x:auto;line-height:normal;font-family:Menlo,'DejaVu Sans Mono',consolas,'Courier New',monospace\">Trained DQN model with loss: 99.5595\n",
       "</pre>\n"
      ],
      "text/plain": [
       "Trained DQN model with loss: 99.5595\n"
      ]
     },
     "metadata": {},
     "output_type": "display_data"
    },
    {
     "data": {
      "text/html": [
       "<pre style=\"white-space:pre;overflow-x:auto;line-height:normal;font-family:Menlo,'DejaVu Sans Mono',consolas,'Courier New',monospace\">Trained DQN model with loss: 99.5363\n",
       "</pre>\n"
      ],
      "text/plain": [
       "Trained DQN model with loss: 99.5363\n"
      ]
     },
     "metadata": {},
     "output_type": "display_data"
    },
    {
     "data": {
      "text/html": [
       "<pre style=\"white-space:pre;overflow-x:auto;line-height:normal;font-family:Menlo,'DejaVu Sans Mono',consolas,'Courier New',monospace\">Trained DQN model with loss: 99.8836\n",
       "</pre>\n"
      ],
      "text/plain": [
       "Trained DQN model with loss: 99.8836\n"
      ]
     },
     "metadata": {},
     "output_type": "display_data"
    },
    {
     "data": {
      "text/html": [
       "<pre style=\"white-space:pre;overflow-x:auto;line-height:normal;font-family:Menlo,'DejaVu Sans Mono',consolas,'Courier New',monospace\">Trained DQN model with loss: 99.7230\n",
       "</pre>\n"
      ],
      "text/plain": [
       "Trained DQN model with loss: 99.7230\n"
      ]
     },
     "metadata": {},
     "output_type": "display_data"
    },
    {
     "data": {
      "text/html": [
       "<pre style=\"white-space:pre;overflow-x:auto;line-height:normal;font-family:Menlo,'DejaVu Sans Mono',consolas,'Courier New',monospace\">Trained DQN model with loss: 99.6333\n",
       "</pre>\n"
      ],
      "text/plain": [
       "Trained DQN model with loss: 99.6333\n"
      ]
     },
     "metadata": {},
     "output_type": "display_data"
    },
    {
     "data": {
      "text/html": [
       "<pre style=\"white-space:pre;overflow-x:auto;line-height:normal;font-family:Menlo,'DejaVu Sans Mono',consolas,'Courier New',monospace\">Trained DQN model with loss: 99.9215\n",
       "</pre>\n"
      ],
      "text/plain": [
       "Trained DQN model with loss: 99.9215\n"
      ]
     },
     "metadata": {},
     "output_type": "display_data"
    },
    {
     "data": {
      "text/html": [
       "<pre style=\"white-space:pre;overflow-x:auto;line-height:normal;font-family:Menlo,'DejaVu Sans Mono',consolas,'Courier New',monospace\">Trained DQN model with loss: 99.6069\n",
       "</pre>\n"
      ],
      "text/plain": [
       "Trained DQN model with loss: 99.6069\n"
      ]
     },
     "metadata": {},
     "output_type": "display_data"
    },
    {
     "data": {
      "text/html": [
       "<pre style=\"white-space:pre;overflow-x:auto;line-height:normal;font-family:Menlo,'DejaVu Sans Mono',consolas,'Courier New',monospace\">Trained DQN model with loss: 99.8309\n",
       "</pre>\n"
      ],
      "text/plain": [
       "Trained DQN model with loss: 99.8309\n"
      ]
     },
     "metadata": {},
     "output_type": "display_data"
    },
    {
     "data": {
      "text/html": [
       "<pre style=\"white-space:pre;overflow-x:auto;line-height:normal;font-family:Menlo,'DejaVu Sans Mono',consolas,'Courier New',monospace\">Trained DQN model with loss: 99.6098\n",
       "</pre>\n"
      ],
      "text/plain": [
       "Trained DQN model with loss: 99.6098\n"
      ]
     },
     "metadata": {},
     "output_type": "display_data"
    },
    {
     "data": {
      "text/html": [
       "<pre style=\"white-space:pre;overflow-x:auto;line-height:normal;font-family:Menlo,'DejaVu Sans Mono',consolas,'Courier New',monospace\">Trained DQN model with loss: 99.3708\n",
       "</pre>\n"
      ],
      "text/plain": [
       "Trained DQN model with loss: 99.3708\n"
      ]
     },
     "metadata": {},
     "output_type": "display_data"
    },
    {
     "data": {
      "text/html": [
       "<pre style=\"white-space:pre;overflow-x:auto;line-height:normal;font-family:Menlo,'DejaVu Sans Mono',consolas,'Courier New',monospace\">Trained DQN model with loss: 99.9022\n",
       "</pre>\n"
      ],
      "text/plain": [
       "Trained DQN model with loss: 99.9022\n"
      ]
     },
     "metadata": {},
     "output_type": "display_data"
    },
    {
     "data": {
      "text/html": [
       "<pre style=\"white-space:pre;overflow-x:auto;line-height:normal;font-family:Menlo,'DejaVu Sans Mono',consolas,'Courier New',monospace\">Trained DQN model with loss: 99.6861\n",
       "</pre>\n"
      ],
      "text/plain": [
       "Trained DQN model with loss: 99.6861\n"
      ]
     },
     "metadata": {},
     "output_type": "display_data"
    },
    {
     "data": {
      "text/html": [
       "<pre style=\"white-space:pre;overflow-x:auto;line-height:normal;font-family:Menlo,'DejaVu Sans Mono',consolas,'Courier New',monospace\">Trained DQN model with loss: 99.8494\n",
       "</pre>\n"
      ],
      "text/plain": [
       "Trained DQN model with loss: 99.8494\n"
      ]
     },
     "metadata": {},
     "output_type": "display_data"
    },
    {
     "data": {
      "text/html": [
       "<pre style=\"white-space:pre;overflow-x:auto;line-height:normal;font-family:Menlo,'DejaVu Sans Mono',consolas,'Courier New',monospace\">Trained DQN model with loss: 99.6530\n",
       "</pre>\n"
      ],
      "text/plain": [
       "Trained DQN model with loss: 99.6530\n"
      ]
     },
     "metadata": {},
     "output_type": "display_data"
    },
    {
     "data": {
      "text/html": [
       "<pre style=\"white-space:pre;overflow-x:auto;line-height:normal;font-family:Menlo,'DejaVu Sans Mono',consolas,'Courier New',monospace\">Trained DQN model with loss: 99.6645\n",
       "</pre>\n"
      ],
      "text/plain": [
       "Trained DQN model with loss: 99.6645\n"
      ]
     },
     "metadata": {},
     "output_type": "display_data"
    },
    {
     "data": {
      "text/html": [
       "<pre style=\"white-space:pre;overflow-x:auto;line-height:normal;font-family:Menlo,'DejaVu Sans Mono',consolas,'Courier New',monospace\">Trained DQN model with loss: 99.8061\n",
       "</pre>\n"
      ],
      "text/plain": [
       "Trained DQN model with loss: 99.8061\n"
      ]
     },
     "metadata": {},
     "output_type": "display_data"
    },
    {
     "data": {
      "text/html": [
       "<pre style=\"white-space:pre;overflow-x:auto;line-height:normal;font-family:Menlo,'DejaVu Sans Mono',consolas,'Courier New',monospace\">Trained DQN model with loss: 99.7309\n",
       "</pre>\n"
      ],
      "text/plain": [
       "Trained DQN model with loss: 99.7309\n"
      ]
     },
     "metadata": {},
     "output_type": "display_data"
    },
    {
     "data": {
      "text/html": [
       "<pre style=\"white-space:pre;overflow-x:auto;line-height:normal;font-family:Menlo,'DejaVu Sans Mono',consolas,'Courier New',monospace\">Trained DQN model with loss: 99.9432\n",
       "</pre>\n"
      ],
      "text/plain": [
       "Trained DQN model with loss: 99.9432\n"
      ]
     },
     "metadata": {},
     "output_type": "display_data"
    },
    {
     "data": {
      "text/html": [
       "<pre style=\"white-space:pre;overflow-x:auto;line-height:normal;font-family:Menlo,'DejaVu Sans Mono',consolas,'Courier New',monospace\">Trained DQN model with loss: 99.8451\n",
       "</pre>\n"
      ],
      "text/plain": [
       "Trained DQN model with loss: 99.8451\n"
      ]
     },
     "metadata": {},
     "output_type": "display_data"
    },
    {
     "data": {
      "text/html": [
       "<pre style=\"white-space:pre;overflow-x:auto;line-height:normal;font-family:Menlo,'DejaVu Sans Mono',consolas,'Courier New',monospace\">Trained DQN model with loss: 99.7803\n",
       "</pre>\n"
      ],
      "text/plain": [
       "Trained DQN model with loss: 99.7803\n"
      ]
     },
     "metadata": {},
     "output_type": "display_data"
    },
    {
     "data": {
      "text/html": [
       "<pre style=\"white-space:pre;overflow-x:auto;line-height:normal;font-family:Menlo,'DejaVu Sans Mono',consolas,'Courier New',monospace\">Trained DQN model with loss: 99.7713\n",
       "</pre>\n"
      ],
      "text/plain": [
       "Trained DQN model with loss: 99.7713\n"
      ]
     },
     "metadata": {},
     "output_type": "display_data"
    },
    {
     "data": {
      "text/html": [
       "<pre style=\"white-space:pre;overflow-x:auto;line-height:normal;font-family:Menlo,'DejaVu Sans Mono',consolas,'Courier New',monospace\">Trained DQN model with loss: 99.8944\n",
       "</pre>\n"
      ],
      "text/plain": [
       "Trained DQN model with loss: 99.8944\n"
      ]
     },
     "metadata": {},
     "output_type": "display_data"
    },
    {
     "data": {
      "text/html": [
       "<pre style=\"white-space:pre;overflow-x:auto;line-height:normal;font-family:Menlo,'DejaVu Sans Mono',consolas,'Courier New',monospace\">Trained DQN model with loss: 100.1062\n",
       "</pre>\n"
      ],
      "text/plain": [
       "Trained DQN model with loss: 100.1062\n"
      ]
     },
     "metadata": {},
     "output_type": "display_data"
    },
    {
     "data": {
      "text/html": [
       "<pre style=\"white-space:pre;overflow-x:auto;line-height:normal;font-family:Menlo,'DejaVu Sans Mono',consolas,'Courier New',monospace\">Trained DQN model with loss: 99.7078\n",
       "</pre>\n"
      ],
      "text/plain": [
       "Trained DQN model with loss: 99.7078\n"
      ]
     },
     "metadata": {},
     "output_type": "display_data"
    },
    {
     "data": {
      "text/html": [
       "<pre style=\"white-space:pre;overflow-x:auto;line-height:normal;font-family:Menlo,'DejaVu Sans Mono',consolas,'Courier New',monospace\">Trained DQN model with loss: 99.6115\n",
       "</pre>\n"
      ],
      "text/plain": [
       "Trained DQN model with loss: 99.6115\n"
      ]
     },
     "metadata": {},
     "output_type": "display_data"
    },
    {
     "data": {
      "text/html": [
       "<pre style=\"white-space:pre;overflow-x:auto;line-height:normal;font-family:Menlo,'DejaVu Sans Mono',consolas,'Courier New',monospace\">Trained DQN model with loss: 99.8128\n",
       "</pre>\n"
      ],
      "text/plain": [
       "Trained DQN model with loss: 99.8128\n"
      ]
     },
     "metadata": {},
     "output_type": "display_data"
    },
    {
     "data": {
      "text/html": [
       "<pre style=\"white-space:pre;overflow-x:auto;line-height:normal;font-family:Menlo,'DejaVu Sans Mono',consolas,'Courier New',monospace\">Trained DQN model with loss: 99.8410\n",
       "</pre>\n"
      ],
      "text/plain": [
       "Trained DQN model with loss: 99.8410\n"
      ]
     },
     "metadata": {},
     "output_type": "display_data"
    },
    {
     "data": {
      "text/html": [
       "<pre style=\"white-space:pre;overflow-x:auto;line-height:normal;font-family:Menlo,'DejaVu Sans Mono',consolas,'Courier New',monospace\"></pre>\n"
      ],
      "text/plain": []
     },
     "metadata": {},
     "output_type": "display_data"
    },
    {
     "data": {
      "text/html": [
       "<pre style=\"white-space:pre;overflow-x:auto;line-height:normal;font-family:Menlo,'DejaVu Sans Mono',consolas,'Courier New',monospace\">\n",
       "</pre>\n"
      ],
      "text/plain": [
       "\n"
      ]
     },
     "metadata": {},
     "output_type": "display_data"
    },
    {
     "data": {
      "text/html": [
       "<pre style=\"white-space:pre;overflow-x:auto;line-height:normal;font-family:Menlo,'DejaVu Sans Mono',consolas,'Courier New',monospace\"><span style=\"font-style: italic\">                                      Last 1 Games                                      </span>\n",
       "    ╷                       ╷       ╷          ╷         ╷           ╷        ╷         \n",
       " <span style=\"font-weight: bold\"> # </span>│<span style=\"font-weight: bold\"> SEATING               </span>│<span style=\"font-weight: bold\"> TURNS </span>│<span style=\"font-weight: bold\"> WHITE VP </span>│<span style=\"font-weight: bold\"> BLUE VP </span>│<span style=\"font-weight: bold\"> ORANGE VP </span>│<span style=\"font-weight: bold\"> RED VP </span>│<span style=\"font-weight: bold\"> WINNER </span> \n",
       "╶───┼───────────────────────┼───────┼──────────┼─────────┼───────────┼────────┼────────╴\n",
       "  1 │ <span style=\"color: #800000; text-decoration-color: #800000\">RED</span>,<span style=\"color: #000080; text-decoration-color: #000080\">BLUE</span>,<span style=\"color: #808000; text-decoration-color: #808000\">ORANGE</span>,<span style=\"color: #c0c0c0; text-decoration-color: #c0c0c0\">WHITE</span> │   295 │        2 │      10 │         4 │      3 │ <span style=\"color: #000080; text-decoration-color: #000080\">BLUE</span>    \n",
       "    ╵                       ╵       ╵          ╵         ╵           ╵        ╵         \n",
       "</pre>\n"
      ],
      "text/plain": [
       "\u001b[3m                                      Last 1 Games                                      \u001b[0m\n",
       "    ╷                       ╷       ╷          ╷         ╷           ╷        ╷         \n",
       " \u001b[1m \u001b[0m\u001b[1m#\u001b[0m\u001b[1m \u001b[0m│\u001b[1m \u001b[0m\u001b[1mSEATING              \u001b[0m\u001b[1m \u001b[0m│\u001b[1m \u001b[0m\u001b[1mTURNS\u001b[0m\u001b[1m \u001b[0m│\u001b[1m \u001b[0m\u001b[1mWHITE VP\u001b[0m\u001b[1m \u001b[0m│\u001b[1m \u001b[0m\u001b[1mBLUE VP\u001b[0m\u001b[1m \u001b[0m│\u001b[1m \u001b[0m\u001b[1mORANGE VP\u001b[0m\u001b[1m \u001b[0m│\u001b[1m \u001b[0m\u001b[1mRED VP\u001b[0m\u001b[1m \u001b[0m│\u001b[1m \u001b[0m\u001b[1mWINNER\u001b[0m\u001b[1m \u001b[0m \n",
       "╶───┼───────────────────────┼───────┼──────────┼─────────┼───────────┼────────┼────────╴\n",
       "  1 │ \u001b[31mRED\u001b[0m,\u001b[34mBLUE\u001b[0m,\u001b[33mORANGE\u001b[0m,\u001b[37mWHITE\u001b[0m │   295 │        2 │      10 │         4 │      3 │ \u001b[34mBLUE\u001b[0m    \n",
       "    ╵                       ╵       ╵          ╵         ╵           ╵        ╵         \n"
      ]
     },
     "metadata": {},
     "output_type": "display_data"
    },
    {
     "data": {
      "text/html": [
       "<pre style=\"white-space:pre;overflow-x:auto;line-height:normal;font-family:Menlo,'DejaVu Sans Mono',consolas,'Courier New',monospace\"><span style=\"font-style: italic\">                                              Player Summary                                               </span>\n",
       "                            ╷      ╷        ╷             ╷            ╷          ╷          ╷             \n",
       " <span style=\"font-weight: bold\">                           </span>│<span style=\"font-weight: bold\"> WINS </span>│<span style=\"font-weight: bold\"> AVG VP </span>│<span style=\"font-weight: bold\"> AVG SETTLES </span>│<span style=\"font-weight: bold\"> AVG CITIES </span>│<span style=\"font-weight: bold\"> AVG ROAD </span>│<span style=\"font-weight: bold\"> AVG ARMY </span>│<span style=\"font-weight: bold\"> AVG DEV VP </span> \n",
       "╶───────────────────────────┼──────┼────────┼─────────────┼────────────┼──────────┼──────────┼────────────╴\n",
       "  <span style=\"color: #c0c0c0; text-decoration-color: #c0c0c0\">RandomPlayer:WHITE</span>        │    0 │   2.00 │        2.00 │       0.00 │     0.00 │     0.00 │       0.00  \n",
       "  <span style=\"color: #000080; text-decoration-color: #000080\">WeightedRandomPlayer:BLUE</span> │    1 │  10.00 │        0.00 │       2.00 │     0.00 │     1.00 │       4.00  \n",
       "  <span style=\"color: #808000; text-decoration-color: #808000\">RandomPlayer:ORANGE</span>       │    0 │   4.00 │        2.00 │       0.00 │     1.00 │     0.00 │       0.00  \n",
       "  <span style=\"color: #800000; text-decoration-color: #800000\">AB_DQNPlayer_1:RED</span>        │    0 │   3.00 │        2.00 │       0.00 │     0.00 │     0.00 │       1.00  \n",
       "                            ╵      ╵        ╵             ╵            ╵          ╵          ╵             \n",
       "</pre>\n"
      ],
      "text/plain": [
       "\u001b[3m                                              Player Summary                                               \u001b[0m\n",
       "                            ╷      ╷        ╷             ╷            ╷          ╷          ╷             \n",
       " \u001b[1m \u001b[0m\u001b[1m                         \u001b[0m\u001b[1m \u001b[0m│\u001b[1m \u001b[0m\u001b[1mWINS\u001b[0m\u001b[1m \u001b[0m│\u001b[1m \u001b[0m\u001b[1mAVG VP\u001b[0m\u001b[1m \u001b[0m│\u001b[1m \u001b[0m\u001b[1mAVG SETTLES\u001b[0m\u001b[1m \u001b[0m│\u001b[1m \u001b[0m\u001b[1mAVG CITIES\u001b[0m\u001b[1m \u001b[0m│\u001b[1m \u001b[0m\u001b[1mAVG ROAD\u001b[0m\u001b[1m \u001b[0m│\u001b[1m \u001b[0m\u001b[1mAVG ARMY\u001b[0m\u001b[1m \u001b[0m│\u001b[1m \u001b[0m\u001b[1mAVG DEV VP\u001b[0m\u001b[1m \u001b[0m \n",
       "╶───────────────────────────┼──────┼────────┼─────────────┼────────────┼──────────┼──────────┼────────────╴\n",
       "  \u001b[37mRandomPlayer:WHITE\u001b[0m        │    0 │   2.00 │        2.00 │       0.00 │     0.00 │     0.00 │       0.00  \n",
       "  \u001b[34mWeightedRandomPlayer:BLUE\u001b[0m │    1 │  10.00 │        0.00 │       2.00 │     0.00 │     1.00 │       4.00  \n",
       "  \u001b[33mRandomPlayer:ORANGE\u001b[0m       │    0 │   4.00 │        2.00 │       0.00 │     1.00 │     0.00 │       0.00  \n",
       "  \u001b[31mAB_DQNPlayer_1:RED\u001b[0m        │    0 │   3.00 │        2.00 │       0.00 │     0.00 │     0.00 │       1.00  \n",
       "                            ╵      ╵        ╵             ╵            ╵          ╵          ╵             \n"
      ]
     },
     "metadata": {},
     "output_type": "display_data"
    },
    {
     "data": {
      "text/html": [
       "<pre style=\"white-space:pre;overflow-x:auto;line-height:normal;font-family:Menlo,'DejaVu Sans Mono',consolas,'Courier New',monospace\"><span style=\"font-style: italic\">              Game Summary              </span>\n",
       "            ╷           ╷               \n",
       " <span style=\"font-weight: bold\"> AVG TICKS </span>│<span style=\"font-weight: bold\"> AVG TURNS </span>│<span style=\"font-weight: bold\"> AVG DURATION </span> \n",
       "╶───────────┼───────────┼──────────────╴\n",
       "     873.00 │    295.00 │   8.264 secs  \n",
       "            ╵           ╵               \n",
       "</pre>\n"
      ],
      "text/plain": [
       "\u001b[3m              Game Summary              \u001b[0m\n",
       "            ╷           ╷               \n",
       " \u001b[1m \u001b[0m\u001b[1mAVG TICKS\u001b[0m\u001b[1m \u001b[0m│\u001b[1m \u001b[0m\u001b[1mAVG TURNS\u001b[0m\u001b[1m \u001b[0m│\u001b[1m \u001b[0m\u001b[1mAVG DURATION\u001b[0m\u001b[1m \u001b[0m \n",
       "╶───────────┼───────────┼──────────────╴\n",
       "     873.00 │    295.00 │   8.264 secs  \n",
       "            ╵           ╵               \n"
      ]
     },
     "metadata": {},
     "output_type": "display_data"
    },
    {
     "data": {
      "text/html": [
       "<pre style=\"white-space:pre;overflow-x:auto;line-height:normal;font-family:Menlo,'DejaVu Sans Mono',consolas,'Courier New',monospace\">Trained DQN model with loss: 99.8148\n",
       "</pre>\n"
      ],
      "text/plain": [
       "Trained DQN model with loss: 99.8148\n"
      ]
     },
     "metadata": {},
     "output_type": "display_data"
    },
    {
     "data": {
      "text/html": [
       "<pre style=\"white-space:pre;overflow-x:auto;line-height:normal;font-family:Menlo,'DejaVu Sans Mono',consolas,'Courier New',monospace\">Trained DQN model with loss: 99.6600\n",
       "</pre>\n"
      ],
      "text/plain": [
       "Trained DQN model with loss: 99.6600\n"
      ]
     },
     "metadata": {},
     "output_type": "display_data"
    },
    {
     "data": {
      "text/html": [
       "<pre style=\"white-space:pre;overflow-x:auto;line-height:normal;font-family:Menlo,'DejaVu Sans Mono',consolas,'Courier New',monospace\">Trained DQN model with loss: 99.7176\n",
       "</pre>\n"
      ],
      "text/plain": [
       "Trained DQN model with loss: 99.7176\n"
      ]
     },
     "metadata": {},
     "output_type": "display_data"
    },
    {
     "data": {
      "text/html": [
       "<pre style=\"white-space:pre;overflow-x:auto;line-height:normal;font-family:Menlo,'DejaVu Sans Mono',consolas,'Courier New',monospace\">Trained DQN model with loss: 99.6508\n",
       "</pre>\n"
      ],
      "text/plain": [
       "Trained DQN model with loss: 99.6508\n"
      ]
     },
     "metadata": {},
     "output_type": "display_data"
    },
    {
     "data": {
      "text/html": [
       "<pre style=\"white-space:pre;overflow-x:auto;line-height:normal;font-family:Menlo,'DejaVu Sans Mono',consolas,'Courier New',monospace\">Trained DQN model with loss: 99.6822\n",
       "</pre>\n"
      ],
      "text/plain": [
       "Trained DQN model with loss: 99.6822\n"
      ]
     },
     "metadata": {},
     "output_type": "display_data"
    },
    {
     "data": {
      "text/html": [
       "<pre style=\"white-space:pre;overflow-x:auto;line-height:normal;font-family:Menlo,'DejaVu Sans Mono',consolas,'Courier New',monospace\">Trained DQN model with loss: 99.9004\n",
       "</pre>\n"
      ],
      "text/plain": [
       "Trained DQN model with loss: 99.9004\n"
      ]
     },
     "metadata": {},
     "output_type": "display_data"
    },
    {
     "data": {
      "text/html": [
       "<pre style=\"white-space:pre;overflow-x:auto;line-height:normal;font-family:Menlo,'DejaVu Sans Mono',consolas,'Courier New',monospace\">Trained DQN model with loss: 99.7472\n",
       "</pre>\n"
      ],
      "text/plain": [
       "Trained DQN model with loss: 99.7472\n"
      ]
     },
     "metadata": {},
     "output_type": "display_data"
    },
    {
     "data": {
      "text/html": [
       "<pre style=\"white-space:pre;overflow-x:auto;line-height:normal;font-family:Menlo,'DejaVu Sans Mono',consolas,'Courier New',monospace\">Trained DQN model with loss: 99.8640\n",
       "</pre>\n"
      ],
      "text/plain": [
       "Trained DQN model with loss: 99.8640\n"
      ]
     },
     "metadata": {},
     "output_type": "display_data"
    },
    {
     "data": {
      "text/html": [
       "<pre style=\"white-space:pre;overflow-x:auto;line-height:normal;font-family:Menlo,'DejaVu Sans Mono',consolas,'Courier New',monospace\">Trained DQN model with loss: 99.8190\n",
       "</pre>\n"
      ],
      "text/plain": [
       "Trained DQN model with loss: 99.8190\n"
      ]
     },
     "metadata": {},
     "output_type": "display_data"
    },
    {
     "data": {
      "text/html": [
       "<pre style=\"white-space:pre;overflow-x:auto;line-height:normal;font-family:Menlo,'DejaVu Sans Mono',consolas,'Courier New',monospace\">Trained DQN model with loss: 99.6879\n",
       "</pre>\n"
      ],
      "text/plain": [
       "Trained DQN model with loss: 99.6879\n"
      ]
     },
     "metadata": {},
     "output_type": "display_data"
    },
    {
     "data": {
      "text/html": [
       "<pre style=\"white-space:pre;overflow-x:auto;line-height:normal;font-family:Menlo,'DejaVu Sans Mono',consolas,'Courier New',monospace\">Trained DQN model with loss: 99.9143\n",
       "</pre>\n"
      ],
      "text/plain": [
       "Trained DQN model with loss: 99.9143\n"
      ]
     },
     "metadata": {},
     "output_type": "display_data"
    },
    {
     "data": {
      "text/html": [
       "<pre style=\"white-space:pre;overflow-x:auto;line-height:normal;font-family:Menlo,'DejaVu Sans Mono',consolas,'Courier New',monospace\">Trained DQN model with loss: 100.0237\n",
       "</pre>\n"
      ],
      "text/plain": [
       "Trained DQN model with loss: 100.0237\n"
      ]
     },
     "metadata": {},
     "output_type": "display_data"
    },
    {
     "data": {
      "text/html": [
       "<pre style=\"white-space:pre;overflow-x:auto;line-height:normal;font-family:Menlo,'DejaVu Sans Mono',consolas,'Courier New',monospace\">Trained DQN model with loss: 99.8161\n",
       "</pre>\n"
      ],
      "text/plain": [
       "Trained DQN model with loss: 99.8161\n"
      ]
     },
     "metadata": {},
     "output_type": "display_data"
    },
    {
     "data": {
      "text/html": [
       "<pre style=\"white-space:pre;overflow-x:auto;line-height:normal;font-family:Menlo,'DejaVu Sans Mono',consolas,'Courier New',monospace\">Trained DQN model with loss: 99.7726\n",
       "</pre>\n"
      ],
      "text/plain": [
       "Trained DQN model with loss: 99.7726\n"
      ]
     },
     "metadata": {},
     "output_type": "display_data"
    },
    {
     "data": {
      "text/html": [
       "<pre style=\"white-space:pre;overflow-x:auto;line-height:normal;font-family:Menlo,'DejaVu Sans Mono',consolas,'Courier New',monospace\">Trained DQN model with loss: 99.9566\n",
       "</pre>\n"
      ],
      "text/plain": [
       "Trained DQN model with loss: 99.9566\n"
      ]
     },
     "metadata": {},
     "output_type": "display_data"
    },
    {
     "data": {
      "text/html": [
       "<pre style=\"white-space:pre;overflow-x:auto;line-height:normal;font-family:Menlo,'DejaVu Sans Mono',consolas,'Courier New',monospace\">Trained DQN model with loss: 99.5606\n",
       "</pre>\n"
      ],
      "text/plain": [
       "Trained DQN model with loss: 99.5606\n"
      ]
     },
     "metadata": {},
     "output_type": "display_data"
    },
    {
     "data": {
      "text/html": [
       "<pre style=\"white-space:pre;overflow-x:auto;line-height:normal;font-family:Menlo,'DejaVu Sans Mono',consolas,'Courier New',monospace\">Trained DQN model with loss: 99.7254\n",
       "</pre>\n"
      ],
      "text/plain": [
       "Trained DQN model with loss: 99.7254\n"
      ]
     },
     "metadata": {},
     "output_type": "display_data"
    },
    {
     "data": {
      "text/html": [
       "<pre style=\"white-space:pre;overflow-x:auto;line-height:normal;font-family:Menlo,'DejaVu Sans Mono',consolas,'Courier New',monospace\">Trained DQN model with loss: 99.5890\n",
       "</pre>\n"
      ],
      "text/plain": [
       "Trained DQN model with loss: 99.5890\n"
      ]
     },
     "metadata": {},
     "output_type": "display_data"
    },
    {
     "data": {
      "text/html": [
       "<pre style=\"white-space:pre;overflow-x:auto;line-height:normal;font-family:Menlo,'DejaVu Sans Mono',consolas,'Courier New',monospace\">Trained DQN model with loss: 99.6607\n",
       "</pre>\n"
      ],
      "text/plain": [
       "Trained DQN model with loss: 99.6607\n"
      ]
     },
     "metadata": {},
     "output_type": "display_data"
    },
    {
     "data": {
      "text/html": [
       "<pre style=\"white-space:pre;overflow-x:auto;line-height:normal;font-family:Menlo,'DejaVu Sans Mono',consolas,'Courier New',monospace\">Trained DQN model with loss: 99.7710\n",
       "</pre>\n"
      ],
      "text/plain": [
       "Trained DQN model with loss: 99.7710\n"
      ]
     },
     "metadata": {},
     "output_type": "display_data"
    },
    {
     "data": {
      "text/html": [
       "<pre style=\"white-space:pre;overflow-x:auto;line-height:normal;font-family:Menlo,'DejaVu Sans Mono',consolas,'Courier New',monospace\">Trained DQN model with loss: 99.8271\n",
       "</pre>\n"
      ],
      "text/plain": [
       "Trained DQN model with loss: 99.8271\n"
      ]
     },
     "metadata": {},
     "output_type": "display_data"
    },
    {
     "data": {
      "text/html": [
       "<pre style=\"white-space:pre;overflow-x:auto;line-height:normal;font-family:Menlo,'DejaVu Sans Mono',consolas,'Courier New',monospace\">Trained DQN model with loss: 99.8976\n",
       "</pre>\n"
      ],
      "text/plain": [
       "Trained DQN model with loss: 99.8976\n"
      ]
     },
     "metadata": {},
     "output_type": "display_data"
    },
    {
     "data": {
      "text/html": [
       "<pre style=\"white-space:pre;overflow-x:auto;line-height:normal;font-family:Menlo,'DejaVu Sans Mono',consolas,'Courier New',monospace\">Trained DQN model with loss: 99.7916\n",
       "</pre>\n"
      ],
      "text/plain": [
       "Trained DQN model with loss: 99.7916\n"
      ]
     },
     "metadata": {},
     "output_type": "display_data"
    },
    {
     "data": {
      "text/html": [
       "<pre style=\"white-space:pre;overflow-x:auto;line-height:normal;font-family:Menlo,'DejaVu Sans Mono',consolas,'Courier New',monospace\">Trained DQN model with loss: 99.5425\n",
       "</pre>\n"
      ],
      "text/plain": [
       "Trained DQN model with loss: 99.5425\n"
      ]
     },
     "metadata": {},
     "output_type": "display_data"
    },
    {
     "data": {
      "text/html": [
       "<pre style=\"white-space:pre;overflow-x:auto;line-height:normal;font-family:Menlo,'DejaVu Sans Mono',consolas,'Courier New',monospace\">Trained DQN model with loss: 99.8492\n",
       "</pre>\n"
      ],
      "text/plain": [
       "Trained DQN model with loss: 99.8492\n"
      ]
     },
     "metadata": {},
     "output_type": "display_data"
    },
    {
     "data": {
      "text/html": [
       "<pre style=\"white-space:pre;overflow-x:auto;line-height:normal;font-family:Menlo,'DejaVu Sans Mono',consolas,'Courier New',monospace\">Trained DQN model with loss: 99.7968\n",
       "</pre>\n"
      ],
      "text/plain": [
       "Trained DQN model with loss: 99.7968\n"
      ]
     },
     "metadata": {},
     "output_type": "display_data"
    },
    {
     "data": {
      "text/html": [
       "<pre style=\"white-space:pre;overflow-x:auto;line-height:normal;font-family:Menlo,'DejaVu Sans Mono',consolas,'Courier New',monospace\">Trained DQN model with loss: 100.0655\n",
       "</pre>\n"
      ],
      "text/plain": [
       "Trained DQN model with loss: 100.0655\n"
      ]
     },
     "metadata": {},
     "output_type": "display_data"
    },
    {
     "data": {
      "text/html": [
       "<pre style=\"white-space:pre;overflow-x:auto;line-height:normal;font-family:Menlo,'DejaVu Sans Mono',consolas,'Courier New',monospace\">Trained DQN model with loss: 100.0349\n",
       "</pre>\n"
      ],
      "text/plain": [
       "Trained DQN model with loss: 100.0349\n"
      ]
     },
     "metadata": {},
     "output_type": "display_data"
    },
    {
     "data": {
      "text/html": [
       "<pre style=\"white-space:pre;overflow-x:auto;line-height:normal;font-family:Menlo,'DejaVu Sans Mono',consolas,'Courier New',monospace\">Trained DQN model with loss: 99.7470\n",
       "</pre>\n"
      ],
      "text/plain": [
       "Trained DQN model with loss: 99.7470\n"
      ]
     },
     "metadata": {},
     "output_type": "display_data"
    },
    {
     "data": {
      "text/html": [
       "<pre style=\"white-space:pre;overflow-x:auto;line-height:normal;font-family:Menlo,'DejaVu Sans Mono',consolas,'Courier New',monospace\">Trained DQN model with loss: 99.7641\n",
       "</pre>\n"
      ],
      "text/plain": [
       "Trained DQN model with loss: 99.7641\n"
      ]
     },
     "metadata": {},
     "output_type": "display_data"
    },
    {
     "data": {
      "text/html": [
       "<pre style=\"white-space:pre;overflow-x:auto;line-height:normal;font-family:Menlo,'DejaVu Sans Mono',consolas,'Courier New',monospace\">Trained DQN model with loss: 99.9009\n",
       "</pre>\n"
      ],
      "text/plain": [
       "Trained DQN model with loss: 99.9009\n"
      ]
     },
     "metadata": {},
     "output_type": "display_data"
    },
    {
     "data": {
      "text/html": [
       "<pre style=\"white-space:pre;overflow-x:auto;line-height:normal;font-family:Menlo,'DejaVu Sans Mono',consolas,'Courier New',monospace\">Trained DQN model with loss: 99.6334\n",
       "</pre>\n"
      ],
      "text/plain": [
       "Trained DQN model with loss: 99.6334\n"
      ]
     },
     "metadata": {},
     "output_type": "display_data"
    },
    {
     "data": {
      "text/html": [
       "<pre style=\"white-space:pre;overflow-x:auto;line-height:normal;font-family:Menlo,'DejaVu Sans Mono',consolas,'Courier New',monospace\">Trained DQN model with loss: 99.9750\n",
       "</pre>\n"
      ],
      "text/plain": [
       "Trained DQN model with loss: 99.9750\n"
      ]
     },
     "metadata": {},
     "output_type": "display_data"
    },
    {
     "data": {
      "text/html": [
       "<pre style=\"white-space:pre;overflow-x:auto;line-height:normal;font-family:Menlo,'DejaVu Sans Mono',consolas,'Courier New',monospace\">Trained DQN model with loss: 99.7519\n",
       "</pre>\n"
      ],
      "text/plain": [
       "Trained DQN model with loss: 99.7519\n"
      ]
     },
     "metadata": {},
     "output_type": "display_data"
    },
    {
     "data": {
      "text/html": [
       "<pre style=\"white-space:pre;overflow-x:auto;line-height:normal;font-family:Menlo,'DejaVu Sans Mono',consolas,'Courier New',monospace\">Trained DQN model with loss: 99.7614\n",
       "</pre>\n"
      ],
      "text/plain": [
       "Trained DQN model with loss: 99.7614\n"
      ]
     },
     "metadata": {},
     "output_type": "display_data"
    },
    {
     "data": {
      "text/html": [
       "<pre style=\"white-space:pre;overflow-x:auto;line-height:normal;font-family:Menlo,'DejaVu Sans Mono',consolas,'Courier New',monospace\">Trained DQN model with loss: 99.9765\n",
       "</pre>\n"
      ],
      "text/plain": [
       "Trained DQN model with loss: 99.9765\n"
      ]
     },
     "metadata": {},
     "output_type": "display_data"
    },
    {
     "data": {
      "text/html": [
       "<pre style=\"white-space:pre;overflow-x:auto;line-height:normal;font-family:Menlo,'DejaVu Sans Mono',consolas,'Courier New',monospace\">Trained DQN model with loss: 99.7070\n",
       "</pre>\n"
      ],
      "text/plain": [
       "Trained DQN model with loss: 99.7070\n"
      ]
     },
     "metadata": {},
     "output_type": "display_data"
    },
    {
     "data": {
      "text/html": [
       "<pre style=\"white-space:pre;overflow-x:auto;line-height:normal;font-family:Menlo,'DejaVu Sans Mono',consolas,'Courier New',monospace\">Trained DQN model with loss: 99.8997\n",
       "</pre>\n"
      ],
      "text/plain": [
       "Trained DQN model with loss: 99.8997\n"
      ]
     },
     "metadata": {},
     "output_type": "display_data"
    },
    {
     "data": {
      "text/html": [
       "<pre style=\"white-space:pre;overflow-x:auto;line-height:normal;font-family:Menlo,'DejaVu Sans Mono',consolas,'Courier New',monospace\">Trained DQN model with loss: 99.8776\n",
       "</pre>\n"
      ],
      "text/plain": [
       "Trained DQN model with loss: 99.8776\n"
      ]
     },
     "metadata": {},
     "output_type": "display_data"
    },
    {
     "data": {
      "text/html": [
       "<pre style=\"white-space:pre;overflow-x:auto;line-height:normal;font-family:Menlo,'DejaVu Sans Mono',consolas,'Courier New',monospace\">Trained DQN model with loss: 99.7889\n",
       "</pre>\n"
      ],
      "text/plain": [
       "Trained DQN model with loss: 99.7889\n"
      ]
     },
     "metadata": {},
     "output_type": "display_data"
    },
    {
     "data": {
      "text/html": [
       "<pre style=\"white-space:pre;overflow-x:auto;line-height:normal;font-family:Menlo,'DejaVu Sans Mono',consolas,'Courier New',monospace\">Trained DQN model with loss: 99.8264\n",
       "</pre>\n"
      ],
      "text/plain": [
       "Trained DQN model with loss: 99.8264\n"
      ]
     },
     "metadata": {},
     "output_type": "display_data"
    },
    {
     "data": {
      "text/html": [
       "<pre style=\"white-space:pre;overflow-x:auto;line-height:normal;font-family:Menlo,'DejaVu Sans Mono',consolas,'Courier New',monospace\">Trained DQN model with loss: 99.7687\n",
       "</pre>\n"
      ],
      "text/plain": [
       "Trained DQN model with loss: 99.7687\n"
      ]
     },
     "metadata": {},
     "output_type": "display_data"
    },
    {
     "data": {
      "text/html": [
       "<pre style=\"white-space:pre;overflow-x:auto;line-height:normal;font-family:Menlo,'DejaVu Sans Mono',consolas,'Courier New',monospace\">Trained DQN model with loss: 99.8108\n",
       "</pre>\n"
      ],
      "text/plain": [
       "Trained DQN model with loss: 99.8108\n"
      ]
     },
     "metadata": {},
     "output_type": "display_data"
    },
    {
     "data": {
      "text/html": [
       "<pre style=\"white-space:pre;overflow-x:auto;line-height:normal;font-family:Menlo,'DejaVu Sans Mono',consolas,'Courier New',monospace\">Trained DQN model with loss: 100.0039\n",
       "</pre>\n"
      ],
      "text/plain": [
       "Trained DQN model with loss: 100.0039\n"
      ]
     },
     "metadata": {},
     "output_type": "display_data"
    },
    {
     "data": {
      "text/html": [
       "<pre style=\"white-space:pre;overflow-x:auto;line-height:normal;font-family:Menlo,'DejaVu Sans Mono',consolas,'Courier New',monospace\">Trained DQN model with loss: 99.7893\n",
       "</pre>\n"
      ],
      "text/plain": [
       "Trained DQN model with loss: 99.7893\n"
      ]
     },
     "metadata": {},
     "output_type": "display_data"
    },
    {
     "data": {
      "text/html": [
       "<pre style=\"white-space:pre;overflow-x:auto;line-height:normal;font-family:Menlo,'DejaVu Sans Mono',consolas,'Courier New',monospace\">Trained DQN model with loss: 99.8415\n",
       "</pre>\n"
      ],
      "text/plain": [
       "Trained DQN model with loss: 99.8415\n"
      ]
     },
     "metadata": {},
     "output_type": "display_data"
    },
    {
     "data": {
      "text/html": [
       "<pre style=\"white-space:pre;overflow-x:auto;line-height:normal;font-family:Menlo,'DejaVu Sans Mono',consolas,'Courier New',monospace\">Trained DQN model with loss: 100.0981\n",
       "</pre>\n"
      ],
      "text/plain": [
       "Trained DQN model with loss: 100.0981\n"
      ]
     },
     "metadata": {},
     "output_type": "display_data"
    },
    {
     "data": {
      "text/html": [
       "<pre style=\"white-space:pre;overflow-x:auto;line-height:normal;font-family:Menlo,'DejaVu Sans Mono',consolas,'Courier New',monospace\">Trained DQN model with loss: 99.8242\n",
       "</pre>\n"
      ],
      "text/plain": [
       "Trained DQN model with loss: 99.8242\n"
      ]
     },
     "metadata": {},
     "output_type": "display_data"
    },
    {
     "data": {
      "text/html": [
       "<pre style=\"white-space:pre;overflow-x:auto;line-height:normal;font-family:Menlo,'DejaVu Sans Mono',consolas,'Courier New',monospace\">Trained DQN model with loss: 99.8004\n",
       "</pre>\n"
      ],
      "text/plain": [
       "Trained DQN model with loss: 99.8004\n"
      ]
     },
     "metadata": {},
     "output_type": "display_data"
    },
    {
     "data": {
      "text/html": [
       "<pre style=\"white-space:pre;overflow-x:auto;line-height:normal;font-family:Menlo,'DejaVu Sans Mono',consolas,'Courier New',monospace\">Trained DQN model with loss: 99.8424\n",
       "</pre>\n"
      ],
      "text/plain": [
       "Trained DQN model with loss: 99.8424\n"
      ]
     },
     "metadata": {},
     "output_type": "display_data"
    },
    {
     "data": {
      "text/html": [
       "<pre style=\"white-space:pre;overflow-x:auto;line-height:normal;font-family:Menlo,'DejaVu Sans Mono',consolas,'Courier New',monospace\">Trained DQN model with loss: 99.8920\n",
       "</pre>\n"
      ],
      "text/plain": [
       "Trained DQN model with loss: 99.8920\n"
      ]
     },
     "metadata": {},
     "output_type": "display_data"
    },
    {
     "data": {
      "text/html": [
       "<pre style=\"white-space:pre;overflow-x:auto;line-height:normal;font-family:Menlo,'DejaVu Sans Mono',consolas,'Courier New',monospace\">Trained DQN model with loss: 100.0101\n",
       "</pre>\n"
      ],
      "text/plain": [
       "Trained DQN model with loss: 100.0101\n"
      ]
     },
     "metadata": {},
     "output_type": "display_data"
    },
    {
     "data": {
      "text/html": [
       "<pre style=\"white-space:pre;overflow-x:auto;line-height:normal;font-family:Menlo,'DejaVu Sans Mono',consolas,'Courier New',monospace\">Trained DQN model with loss: 99.7786\n",
       "</pre>\n"
      ],
      "text/plain": [
       "Trained DQN model with loss: 99.7786\n"
      ]
     },
     "metadata": {},
     "output_type": "display_data"
    },
    {
     "data": {
      "text/html": [
       "<pre style=\"white-space:pre;overflow-x:auto;line-height:normal;font-family:Menlo,'DejaVu Sans Mono',consolas,'Courier New',monospace\">Trained DQN model with loss: 99.9051\n",
       "</pre>\n"
      ],
      "text/plain": [
       "Trained DQN model with loss: 99.9051\n"
      ]
     },
     "metadata": {},
     "output_type": "display_data"
    },
    {
     "data": {
      "text/html": [
       "<pre style=\"white-space:pre;overflow-x:auto;line-height:normal;font-family:Menlo,'DejaVu Sans Mono',consolas,'Courier New',monospace\">Trained DQN model with loss: 99.8128\n",
       "</pre>\n"
      ],
      "text/plain": [
       "Trained DQN model with loss: 99.8128\n"
      ]
     },
     "metadata": {},
     "output_type": "display_data"
    },
    {
     "data": {
      "text/html": [
       "<pre style=\"white-space:pre;overflow-x:auto;line-height:normal;font-family:Menlo,'DejaVu Sans Mono',consolas,'Courier New',monospace\">Trained DQN model with loss: 99.7864\n",
       "</pre>\n"
      ],
      "text/plain": [
       "Trained DQN model with loss: 99.7864\n"
      ]
     },
     "metadata": {},
     "output_type": "display_data"
    },
    {
     "data": {
      "text/html": [
       "<pre style=\"white-space:pre;overflow-x:auto;line-height:normal;font-family:Menlo,'DejaVu Sans Mono',consolas,'Courier New',monospace\">Trained DQN model with loss: 99.8974\n",
       "</pre>\n"
      ],
      "text/plain": [
       "Trained DQN model with loss: 99.8974\n"
      ]
     },
     "metadata": {},
     "output_type": "display_data"
    },
    {
     "data": {
      "text/html": [
       "<pre style=\"white-space:pre;overflow-x:auto;line-height:normal;font-family:Menlo,'DejaVu Sans Mono',consolas,'Courier New',monospace\">Trained DQN model with loss: 99.9732\n",
       "</pre>\n"
      ],
      "text/plain": [
       "Trained DQN model with loss: 99.9732\n"
      ]
     },
     "metadata": {},
     "output_type": "display_data"
    },
    {
     "data": {
      "text/html": [
       "<pre style=\"white-space:pre;overflow-x:auto;line-height:normal;font-family:Menlo,'DejaVu Sans Mono',consolas,'Courier New',monospace\">Trained DQN model with loss: 100.0978\n",
       "</pre>\n"
      ],
      "text/plain": [
       "Trained DQN model with loss: 100.0978\n"
      ]
     },
     "metadata": {},
     "output_type": "display_data"
    },
    {
     "data": {
      "text/html": [
       "<pre style=\"white-space:pre;overflow-x:auto;line-height:normal;font-family:Menlo,'DejaVu Sans Mono',consolas,'Courier New',monospace\">Trained DQN model with loss: 99.7703\n",
       "</pre>\n"
      ],
      "text/plain": [
       "Trained DQN model with loss: 99.7703\n"
      ]
     },
     "metadata": {},
     "output_type": "display_data"
    },
    {
     "data": {
      "text/html": [
       "<pre style=\"white-space:pre;overflow-x:auto;line-height:normal;font-family:Menlo,'DejaVu Sans Mono',consolas,'Courier New',monospace\">Trained DQN model with loss: 99.9734\n",
       "</pre>\n"
      ],
      "text/plain": [
       "Trained DQN model with loss: 99.9734\n"
      ]
     },
     "metadata": {},
     "output_type": "display_data"
    },
    {
     "data": {
      "text/html": [
       "<pre style=\"white-space:pre;overflow-x:auto;line-height:normal;font-family:Menlo,'DejaVu Sans Mono',consolas,'Courier New',monospace\">Trained DQN model with loss: 100.0285\n",
       "</pre>\n"
      ],
      "text/plain": [
       "Trained DQN model with loss: 100.0285\n"
      ]
     },
     "metadata": {},
     "output_type": "display_data"
    },
    {
     "data": {
      "text/html": [
       "<pre style=\"white-space:pre;overflow-x:auto;line-height:normal;font-family:Menlo,'DejaVu Sans Mono',consolas,'Courier New',monospace\">Trained DQN model with loss: 99.9072\n",
       "</pre>\n"
      ],
      "text/plain": [
       "Trained DQN model with loss: 99.9072\n"
      ]
     },
     "metadata": {},
     "output_type": "display_data"
    },
    {
     "data": {
      "text/html": [
       "<pre style=\"white-space:pre;overflow-x:auto;line-height:normal;font-family:Menlo,'DejaVu Sans Mono',consolas,'Courier New',monospace\">Trained DQN model with loss: 99.9572\n",
       "</pre>\n"
      ],
      "text/plain": [
       "Trained DQN model with loss: 99.9572\n"
      ]
     },
     "metadata": {},
     "output_type": "display_data"
    },
    {
     "data": {
      "text/html": [
       "<pre style=\"white-space:pre;overflow-x:auto;line-height:normal;font-family:Menlo,'DejaVu Sans Mono',consolas,'Courier New',monospace\">Trained DQN model with loss: 99.8631\n",
       "</pre>\n"
      ],
      "text/plain": [
       "Trained DQN model with loss: 99.8631\n"
      ]
     },
     "metadata": {},
     "output_type": "display_data"
    },
    {
     "data": {
      "text/html": [
       "<pre style=\"white-space:pre;overflow-x:auto;line-height:normal;font-family:Menlo,'DejaVu Sans Mono',consolas,'Courier New',monospace\">Trained DQN model with loss: 100.0777\n",
       "</pre>\n"
      ],
      "text/plain": [
       "Trained DQN model with loss: 100.0777\n"
      ]
     },
     "metadata": {},
     "output_type": "display_data"
    },
    {
     "data": {
      "text/html": [
       "<pre style=\"white-space:pre;overflow-x:auto;line-height:normal;font-family:Menlo,'DejaVu Sans Mono',consolas,'Courier New',monospace\">Trained DQN model with loss: 100.2575\n",
       "</pre>\n"
      ],
      "text/plain": [
       "Trained DQN model with loss: 100.2575\n"
      ]
     },
     "metadata": {},
     "output_type": "display_data"
    },
    {
     "data": {
      "text/html": [
       "<pre style=\"white-space:pre;overflow-x:auto;line-height:normal;font-family:Menlo,'DejaVu Sans Mono',consolas,'Courier New',monospace\">Trained DQN model with loss: 100.0240\n",
       "</pre>\n"
      ],
      "text/plain": [
       "Trained DQN model with loss: 100.0240\n"
      ]
     },
     "metadata": {},
     "output_type": "display_data"
    },
    {
     "data": {
      "text/html": [
       "<pre style=\"white-space:pre;overflow-x:auto;line-height:normal;font-family:Menlo,'DejaVu Sans Mono',consolas,'Courier New',monospace\">Trained DQN model with loss: 99.7792\n",
       "</pre>\n"
      ],
      "text/plain": [
       "Trained DQN model with loss: 99.7792\n"
      ]
     },
     "metadata": {},
     "output_type": "display_data"
    },
    {
     "data": {
      "text/html": [
       "<pre style=\"white-space:pre;overflow-x:auto;line-height:normal;font-family:Menlo,'DejaVu Sans Mono',consolas,'Courier New',monospace\">Trained DQN model with loss: 100.0212\n",
       "</pre>\n"
      ],
      "text/plain": [
       "Trained DQN model with loss: 100.0212\n"
      ]
     },
     "metadata": {},
     "output_type": "display_data"
    },
    {
     "data": {
      "text/html": [
       "<pre style=\"white-space:pre;overflow-x:auto;line-height:normal;font-family:Menlo,'DejaVu Sans Mono',consolas,'Courier New',monospace\">Trained DQN model with loss: 100.0681\n",
       "</pre>\n"
      ],
      "text/plain": [
       "Trained DQN model with loss: 100.0681\n"
      ]
     },
     "metadata": {},
     "output_type": "display_data"
    },
    {
     "data": {
      "text/html": [
       "<pre style=\"white-space:pre;overflow-x:auto;line-height:normal;font-family:Menlo,'DejaVu Sans Mono',consolas,'Courier New',monospace\">Trained DQN model with loss: 99.9312\n",
       "</pre>\n"
      ],
      "text/plain": [
       "Trained DQN model with loss: 99.9312\n"
      ]
     },
     "metadata": {},
     "output_type": "display_data"
    },
    {
     "data": {
      "text/html": [
       "<pre style=\"white-space:pre;overflow-x:auto;line-height:normal;font-family:Menlo,'DejaVu Sans Mono',consolas,'Courier New',monospace\"></pre>\n"
      ],
      "text/plain": []
     },
     "metadata": {},
     "output_type": "display_data"
    },
    {
     "data": {
      "text/html": [
       "<pre style=\"white-space:pre;overflow-x:auto;line-height:normal;font-family:Menlo,'DejaVu Sans Mono',consolas,'Courier New',monospace\">\n",
       "</pre>\n"
      ],
      "text/plain": [
       "\n"
      ]
     },
     "metadata": {},
     "output_type": "display_data"
    },
    {
     "data": {
      "text/html": [
       "<pre style=\"white-space:pre;overflow-x:auto;line-height:normal;font-family:Menlo,'DejaVu Sans Mono',consolas,'Courier New',monospace\"><span style=\"font-style: italic\">                                      Last 1 Games                                      </span>\n",
       "    ╷                       ╷       ╷           ╷         ╷        ╷          ╷         \n",
       " <span style=\"font-weight: bold\"> # </span>│<span style=\"font-weight: bold\"> SEATING               </span>│<span style=\"font-weight: bold\"> TURNS </span>│<span style=\"font-weight: bold\"> ORANGE VP </span>│<span style=\"font-weight: bold\"> BLUE VP </span>│<span style=\"font-weight: bold\"> RED VP </span>│<span style=\"font-weight: bold\"> WHITE VP </span>│<span style=\"font-weight: bold\"> WINNER </span> \n",
       "╶───┼───────────────────────┼───────┼───────────┼─────────┼────────┼──────────┼────────╴\n",
       "  1 │ <span style=\"color: #808000; text-decoration-color: #808000\">ORANGE</span>,<span style=\"color: #000080; text-decoration-color: #000080\">BLUE</span>,<span style=\"color: #c0c0c0; text-decoration-color: #c0c0c0\">WHITE</span>,<span style=\"color: #800000; text-decoration-color: #800000\">RED</span> │   274 │        10 │       5 │      2 │        5 │ <span style=\"color: #808000; text-decoration-color: #808000\">ORANGE</span>  \n",
       "    ╵                       ╵       ╵           ╵         ╵        ╵          ╵         \n",
       "</pre>\n"
      ],
      "text/plain": [
       "\u001b[3m                                      Last 1 Games                                      \u001b[0m\n",
       "    ╷                       ╷       ╷           ╷         ╷        ╷          ╷         \n",
       " \u001b[1m \u001b[0m\u001b[1m#\u001b[0m\u001b[1m \u001b[0m│\u001b[1m \u001b[0m\u001b[1mSEATING              \u001b[0m\u001b[1m \u001b[0m│\u001b[1m \u001b[0m\u001b[1mTURNS\u001b[0m\u001b[1m \u001b[0m│\u001b[1m \u001b[0m\u001b[1mORANGE VP\u001b[0m\u001b[1m \u001b[0m│\u001b[1m \u001b[0m\u001b[1mBLUE VP\u001b[0m\u001b[1m \u001b[0m│\u001b[1m \u001b[0m\u001b[1mRED VP\u001b[0m\u001b[1m \u001b[0m│\u001b[1m \u001b[0m\u001b[1mWHITE VP\u001b[0m\u001b[1m \u001b[0m│\u001b[1m \u001b[0m\u001b[1mWINNER\u001b[0m\u001b[1m \u001b[0m \n",
       "╶───┼───────────────────────┼───────┼───────────┼─────────┼────────┼──────────┼────────╴\n",
       "  1 │ \u001b[33mORANGE\u001b[0m,\u001b[34mBLUE\u001b[0m,\u001b[37mWHITE\u001b[0m,\u001b[31mRED\u001b[0m │   274 │        10 │       5 │      2 │        5 │ \u001b[33mORANGE\u001b[0m  \n",
       "    ╵                       ╵       ╵           ╵         ╵        ╵          ╵         \n"
      ]
     },
     "metadata": {},
     "output_type": "display_data"
    },
    {
     "data": {
      "text/html": [
       "<pre style=\"white-space:pre;overflow-x:auto;line-height:normal;font-family:Menlo,'DejaVu Sans Mono',consolas,'Courier New',monospace\"><span style=\"font-style: italic\">                                              Player Summary                                               </span>\n",
       "                            ╷      ╷        ╷             ╷            ╷          ╷          ╷             \n",
       " <span style=\"font-weight: bold\">                           </span>│<span style=\"font-weight: bold\"> WINS </span>│<span style=\"font-weight: bold\"> AVG VP </span>│<span style=\"font-weight: bold\"> AVG SETTLES </span>│<span style=\"font-weight: bold\"> AVG CITIES </span>│<span style=\"font-weight: bold\"> AVG ROAD </span>│<span style=\"font-weight: bold\"> AVG ARMY </span>│<span style=\"font-weight: bold\"> AVG DEV VP </span> \n",
       "╶───────────────────────────┼──────┼────────┼─────────────┼────────────┼──────────┼──────────┼────────────╴\n",
       "  <span style=\"color: #808000; text-decoration-color: #808000\">RandomPlayer:ORANGE</span>       │    1 │  10.00 │        5.00 │       0.00 │     1.00 │     0.00 │       3.00  \n",
       "  <span style=\"color: #000080; text-decoration-color: #000080\">WeightedRandomPlayer:BLUE</span> │    0 │   5.00 │        2.00 │       0.00 │     0.00 │     1.00 │       1.00  \n",
       "  <span style=\"color: #800000; text-decoration-color: #800000\">AB_DQNPlayer_1:RED</span>        │    0 │   2.00 │        2.00 │       0.00 │     0.00 │     0.00 │       0.00  \n",
       "  <span style=\"color: #c0c0c0; text-decoration-color: #c0c0c0\">RandomPlayer:WHITE</span>        │    0 │   5.00 │        0.00 │       2.00 │     0.00 │     0.00 │       1.00  \n",
       "                            ╵      ╵        ╵             ╵            ╵          ╵          ╵             \n",
       "</pre>\n"
      ],
      "text/plain": [
       "\u001b[3m                                              Player Summary                                               \u001b[0m\n",
       "                            ╷      ╷        ╷             ╷            ╷          ╷          ╷             \n",
       " \u001b[1m \u001b[0m\u001b[1m                         \u001b[0m\u001b[1m \u001b[0m│\u001b[1m \u001b[0m\u001b[1mWINS\u001b[0m\u001b[1m \u001b[0m│\u001b[1m \u001b[0m\u001b[1mAVG VP\u001b[0m\u001b[1m \u001b[0m│\u001b[1m \u001b[0m\u001b[1mAVG SETTLES\u001b[0m\u001b[1m \u001b[0m│\u001b[1m \u001b[0m\u001b[1mAVG CITIES\u001b[0m\u001b[1m \u001b[0m│\u001b[1m \u001b[0m\u001b[1mAVG ROAD\u001b[0m\u001b[1m \u001b[0m│\u001b[1m \u001b[0m\u001b[1mAVG ARMY\u001b[0m\u001b[1m \u001b[0m│\u001b[1m \u001b[0m\u001b[1mAVG DEV VP\u001b[0m\u001b[1m \u001b[0m \n",
       "╶───────────────────────────┼──────┼────────┼─────────────┼────────────┼──────────┼──────────┼────────────╴\n",
       "  \u001b[33mRandomPlayer:ORANGE\u001b[0m       │    1 │  10.00 │        5.00 │       0.00 │     1.00 │     0.00 │       3.00  \n",
       "  \u001b[34mWeightedRandomPlayer:BLUE\u001b[0m │    0 │   5.00 │        2.00 │       0.00 │     0.00 │     1.00 │       1.00  \n",
       "  \u001b[31mAB_DQNPlayer_1:RED\u001b[0m        │    0 │   2.00 │        2.00 │       0.00 │     0.00 │     0.00 │       0.00  \n",
       "  \u001b[37mRandomPlayer:WHITE\u001b[0m        │    0 │   5.00 │        0.00 │       2.00 │     0.00 │     0.00 │       1.00  \n",
       "                            ╵      ╵        ╵             ╵            ╵          ╵          ╵             \n"
      ]
     },
     "metadata": {},
     "output_type": "display_data"
    },
    {
     "data": {
      "text/html": [
       "<pre style=\"white-space:pre;overflow-x:auto;line-height:normal;font-family:Menlo,'DejaVu Sans Mono',consolas,'Courier New',monospace\"><span style=\"font-style: italic\">              Game Summary              </span>\n",
       "            ╷           ╷               \n",
       " <span style=\"font-weight: bold\"> AVG TICKS </span>│<span style=\"font-weight: bold\"> AVG TURNS </span>│<span style=\"font-weight: bold\"> AVG DURATION </span> \n",
       "╶───────────┼───────────┼──────────────╴\n",
       "     870.00 │    274.00 │   7.527 secs  \n",
       "            ╵           ╵               \n",
       "</pre>\n"
      ],
      "text/plain": [
       "\u001b[3m              Game Summary              \u001b[0m\n",
       "            ╷           ╷               \n",
       " \u001b[1m \u001b[0m\u001b[1mAVG TICKS\u001b[0m\u001b[1m \u001b[0m│\u001b[1m \u001b[0m\u001b[1mAVG TURNS\u001b[0m\u001b[1m \u001b[0m│\u001b[1m \u001b[0m\u001b[1mAVG DURATION\u001b[0m\u001b[1m \u001b[0m \n",
       "╶───────────┼───────────┼──────────────╴\n",
       "     870.00 │    274.00 │   7.527 secs  \n",
       "            ╵           ╵               \n"
      ]
     },
     "metadata": {},
     "output_type": "display_data"
    },
    {
     "data": {
      "text/html": [
       "<pre style=\"white-space:pre;overflow-x:auto;line-height:normal;font-family:Menlo,'DejaVu Sans Mono',consolas,'Courier New',monospace\">Trained DQN model with loss: 100.1229\n",
       "</pre>\n"
      ],
      "text/plain": [
       "Trained DQN model with loss: 100.1229\n"
      ]
     },
     "metadata": {},
     "output_type": "display_data"
    },
    {
     "data": {
      "text/html": [
       "<pre style=\"white-space:pre;overflow-x:auto;line-height:normal;font-family:Menlo,'DejaVu Sans Mono',consolas,'Courier New',monospace\">Trained DQN model with loss: 99.8998\n",
       "</pre>\n"
      ],
      "text/plain": [
       "Trained DQN model with loss: 99.8998\n"
      ]
     },
     "metadata": {},
     "output_type": "display_data"
    },
    {
     "data": {
      "text/html": [
       "<pre style=\"white-space:pre;overflow-x:auto;line-height:normal;font-family:Menlo,'DejaVu Sans Mono',consolas,'Courier New',monospace\">Trained DQN model with loss: 99.8007\n",
       "</pre>\n"
      ],
      "text/plain": [
       "Trained DQN model with loss: 99.8007\n"
      ]
     },
     "metadata": {},
     "output_type": "display_data"
    },
    {
     "data": {
      "text/html": [
       "<pre style=\"white-space:pre;overflow-x:auto;line-height:normal;font-family:Menlo,'DejaVu Sans Mono',consolas,'Courier New',monospace\">Trained DQN model with loss: 99.8138\n",
       "</pre>\n"
      ],
      "text/plain": [
       "Trained DQN model with loss: 99.8138\n"
      ]
     },
     "metadata": {},
     "output_type": "display_data"
    },
    {
     "data": {
      "text/html": [
       "<pre style=\"white-space:pre;overflow-x:auto;line-height:normal;font-family:Menlo,'DejaVu Sans Mono',consolas,'Courier New',monospace\">Trained DQN model with loss: 99.9919\n",
       "</pre>\n"
      ],
      "text/plain": [
       "Trained DQN model with loss: 99.9919\n"
      ]
     },
     "metadata": {},
     "output_type": "display_data"
    },
    {
     "data": {
      "text/html": [
       "<pre style=\"white-space:pre;overflow-x:auto;line-height:normal;font-family:Menlo,'DejaVu Sans Mono',consolas,'Courier New',monospace\">Trained DQN model with loss: 99.8456\n",
       "</pre>\n"
      ],
      "text/plain": [
       "Trained DQN model with loss: 99.8456\n"
      ]
     },
     "metadata": {},
     "output_type": "display_data"
    },
    {
     "data": {
      "text/html": [
       "<pre style=\"white-space:pre;overflow-x:auto;line-height:normal;font-family:Menlo,'DejaVu Sans Mono',consolas,'Courier New',monospace\">Trained DQN model with loss: 100.1410\n",
       "</pre>\n"
      ],
      "text/plain": [
       "Trained DQN model with loss: 100.1410\n"
      ]
     },
     "metadata": {},
     "output_type": "display_data"
    },
    {
     "data": {
      "text/html": [
       "<pre style=\"white-space:pre;overflow-x:auto;line-height:normal;font-family:Menlo,'DejaVu Sans Mono',consolas,'Courier New',monospace\">Trained DQN model with loss: 99.9176\n",
       "</pre>\n"
      ],
      "text/plain": [
       "Trained DQN model with loss: 99.9176\n"
      ]
     },
     "metadata": {},
     "output_type": "display_data"
    },
    {
     "data": {
      "text/html": [
       "<pre style=\"white-space:pre;overflow-x:auto;line-height:normal;font-family:Menlo,'DejaVu Sans Mono',consolas,'Courier New',monospace\">Trained DQN model with loss: 99.9404\n",
       "</pre>\n"
      ],
      "text/plain": [
       "Trained DQN model with loss: 99.9404\n"
      ]
     },
     "metadata": {},
     "output_type": "display_data"
    },
    {
     "data": {
      "text/html": [
       "<pre style=\"white-space:pre;overflow-x:auto;line-height:normal;font-family:Menlo,'DejaVu Sans Mono',consolas,'Courier New',monospace\">Trained DQN model with loss: 100.0200\n",
       "</pre>\n"
      ],
      "text/plain": [
       "Trained DQN model with loss: 100.0200\n"
      ]
     },
     "metadata": {},
     "output_type": "display_data"
    },
    {
     "data": {
      "text/html": [
       "<pre style=\"white-space:pre;overflow-x:auto;line-height:normal;font-family:Menlo,'DejaVu Sans Mono',consolas,'Courier New',monospace\">Trained DQN model with loss: 99.9873\n",
       "</pre>\n"
      ],
      "text/plain": [
       "Trained DQN model with loss: 99.9873\n"
      ]
     },
     "metadata": {},
     "output_type": "display_data"
    },
    {
     "data": {
      "text/html": [
       "<pre style=\"white-space:pre;overflow-x:auto;line-height:normal;font-family:Menlo,'DejaVu Sans Mono',consolas,'Courier New',monospace\">Trained DQN model with loss: 99.9153\n",
       "</pre>\n"
      ],
      "text/plain": [
       "Trained DQN model with loss: 99.9153\n"
      ]
     },
     "metadata": {},
     "output_type": "display_data"
    },
    {
     "data": {
      "text/html": [
       "<pre style=\"white-space:pre;overflow-x:auto;line-height:normal;font-family:Menlo,'DejaVu Sans Mono',consolas,'Courier New',monospace\">Trained DQN model with loss: 99.9112\n",
       "</pre>\n"
      ],
      "text/plain": [
       "Trained DQN model with loss: 99.9112\n"
      ]
     },
     "metadata": {},
     "output_type": "display_data"
    },
    {
     "data": {
      "text/html": [
       "<pre style=\"white-space:pre;overflow-x:auto;line-height:normal;font-family:Menlo,'DejaVu Sans Mono',consolas,'Courier New',monospace\">Trained DQN model with loss: 100.0546\n",
       "</pre>\n"
      ],
      "text/plain": [
       "Trained DQN model with loss: 100.0546\n"
      ]
     },
     "metadata": {},
     "output_type": "display_data"
    },
    {
     "data": {
      "text/html": [
       "<pre style=\"white-space:pre;overflow-x:auto;line-height:normal;font-family:Menlo,'DejaVu Sans Mono',consolas,'Courier New',monospace\">Trained DQN model with loss: 99.9746\n",
       "</pre>\n"
      ],
      "text/plain": [
       "Trained DQN model with loss: 99.9746\n"
      ]
     },
     "metadata": {},
     "output_type": "display_data"
    },
    {
     "data": {
      "text/html": [
       "<pre style=\"white-space:pre;overflow-x:auto;line-height:normal;font-family:Menlo,'DejaVu Sans Mono',consolas,'Courier New',monospace\">Trained DQN model with loss: 100.1463\n",
       "</pre>\n"
      ],
      "text/plain": [
       "Trained DQN model with loss: 100.1463\n"
      ]
     },
     "metadata": {},
     "output_type": "display_data"
    },
    {
     "data": {
      "text/html": [
       "<pre style=\"white-space:pre;overflow-x:auto;line-height:normal;font-family:Menlo,'DejaVu Sans Mono',consolas,'Courier New',monospace\">Trained DQN model with loss: 100.0071\n",
       "</pre>\n"
      ],
      "text/plain": [
       "Trained DQN model with loss: 100.0071\n"
      ]
     },
     "metadata": {},
     "output_type": "display_data"
    },
    {
     "data": {
      "text/html": [
       "<pre style=\"white-space:pre;overflow-x:auto;line-height:normal;font-family:Menlo,'DejaVu Sans Mono',consolas,'Courier New',monospace\">Trained DQN model with loss: 99.9963\n",
       "</pre>\n"
      ],
      "text/plain": [
       "Trained DQN model with loss: 99.9963\n"
      ]
     },
     "metadata": {},
     "output_type": "display_data"
    },
    {
     "data": {
      "text/html": [
       "<pre style=\"white-space:pre;overflow-x:auto;line-height:normal;font-family:Menlo,'DejaVu Sans Mono',consolas,'Courier New',monospace\">Trained DQN model with loss: 99.8637\n",
       "</pre>\n"
      ],
      "text/plain": [
       "Trained DQN model with loss: 99.8637\n"
      ]
     },
     "metadata": {},
     "output_type": "display_data"
    },
    {
     "data": {
      "text/html": [
       "<pre style=\"white-space:pre;overflow-x:auto;line-height:normal;font-family:Menlo,'DejaVu Sans Mono',consolas,'Courier New',monospace\">Trained DQN model with loss: 99.9453\n",
       "</pre>\n"
      ],
      "text/plain": [
       "Trained DQN model with loss: 99.9453\n"
      ]
     },
     "metadata": {},
     "output_type": "display_data"
    },
    {
     "data": {
      "text/html": [
       "<pre style=\"white-space:pre;overflow-x:auto;line-height:normal;font-family:Menlo,'DejaVu Sans Mono',consolas,'Courier New',monospace\">Trained DQN model with loss: 99.8230\n",
       "</pre>\n"
      ],
      "text/plain": [
       "Trained DQN model with loss: 99.8230\n"
      ]
     },
     "metadata": {},
     "output_type": "display_data"
    },
    {
     "data": {
      "text/html": [
       "<pre style=\"white-space:pre;overflow-x:auto;line-height:normal;font-family:Menlo,'DejaVu Sans Mono',consolas,'Courier New',monospace\">Trained DQN model with loss: 100.0538\n",
       "</pre>\n"
      ],
      "text/plain": [
       "Trained DQN model with loss: 100.0538\n"
      ]
     },
     "metadata": {},
     "output_type": "display_data"
    },
    {
     "data": {
      "text/html": [
       "<pre style=\"white-space:pre;overflow-x:auto;line-height:normal;font-family:Menlo,'DejaVu Sans Mono',consolas,'Courier New',monospace\">Trained DQN model with loss: 100.0107\n",
       "</pre>\n"
      ],
      "text/plain": [
       "Trained DQN model with loss: 100.0107\n"
      ]
     },
     "metadata": {},
     "output_type": "display_data"
    },
    {
     "data": {
      "text/html": [
       "<pre style=\"white-space:pre;overflow-x:auto;line-height:normal;font-family:Menlo,'DejaVu Sans Mono',consolas,'Courier New',monospace\">Trained DQN model with loss: 99.8284\n",
       "</pre>\n"
      ],
      "text/plain": [
       "Trained DQN model with loss: 99.8284\n"
      ]
     },
     "metadata": {},
     "output_type": "display_data"
    },
    {
     "data": {
      "text/html": [
       "<pre style=\"white-space:pre;overflow-x:auto;line-height:normal;font-family:Menlo,'DejaVu Sans Mono',consolas,'Courier New',monospace\">Trained DQN model with loss: 100.0506\n",
       "</pre>\n"
      ],
      "text/plain": [
       "Trained DQN model with loss: 100.0506\n"
      ]
     },
     "metadata": {},
     "output_type": "display_data"
    },
    {
     "data": {
      "text/html": [
       "<pre style=\"white-space:pre;overflow-x:auto;line-height:normal;font-family:Menlo,'DejaVu Sans Mono',consolas,'Courier New',monospace\">Trained DQN model with loss: 99.8145\n",
       "</pre>\n"
      ],
      "text/plain": [
       "Trained DQN model with loss: 99.8145\n"
      ]
     },
     "metadata": {},
     "output_type": "display_data"
    },
    {
     "data": {
      "text/html": [
       "<pre style=\"white-space:pre;overflow-x:auto;line-height:normal;font-family:Menlo,'DejaVu Sans Mono',consolas,'Courier New',monospace\">Trained DQN model with loss: 99.8739\n",
       "</pre>\n"
      ],
      "text/plain": [
       "Trained DQN model with loss: 99.8739\n"
      ]
     },
     "metadata": {},
     "output_type": "display_data"
    },
    {
     "data": {
      "text/html": [
       "<pre style=\"white-space:pre;overflow-x:auto;line-height:normal;font-family:Menlo,'DejaVu Sans Mono',consolas,'Courier New',monospace\">Trained DQN model with loss: 99.9189\n",
       "</pre>\n"
      ],
      "text/plain": [
       "Trained DQN model with loss: 99.9189\n"
      ]
     },
     "metadata": {},
     "output_type": "display_data"
    },
    {
     "data": {
      "text/html": [
       "<pre style=\"white-space:pre;overflow-x:auto;line-height:normal;font-family:Menlo,'DejaVu Sans Mono',consolas,'Courier New',monospace\">Trained DQN model with loss: 99.9715\n",
       "</pre>\n"
      ],
      "text/plain": [
       "Trained DQN model with loss: 99.9715\n"
      ]
     },
     "metadata": {},
     "output_type": "display_data"
    },
    {
     "data": {
      "text/html": [
       "<pre style=\"white-space:pre;overflow-x:auto;line-height:normal;font-family:Menlo,'DejaVu Sans Mono',consolas,'Courier New',monospace\">Trained DQN model with loss: 99.8258\n",
       "</pre>\n"
      ],
      "text/plain": [
       "Trained DQN model with loss: 99.8258\n"
      ]
     },
     "metadata": {},
     "output_type": "display_data"
    },
    {
     "data": {
      "text/html": [
       "<pre style=\"white-space:pre;overflow-x:auto;line-height:normal;font-family:Menlo,'DejaVu Sans Mono',consolas,'Courier New',monospace\">Trained DQN model with loss: 100.0325\n",
       "</pre>\n"
      ],
      "text/plain": [
       "Trained DQN model with loss: 100.0325\n"
      ]
     },
     "metadata": {},
     "output_type": "display_data"
    },
    {
     "data": {
      "text/html": [
       "<pre style=\"white-space:pre;overflow-x:auto;line-height:normal;font-family:Menlo,'DejaVu Sans Mono',consolas,'Courier New',monospace\">Trained DQN model with loss: 99.9355\n",
       "</pre>\n"
      ],
      "text/plain": [
       "Trained DQN model with loss: 99.9355\n"
      ]
     },
     "metadata": {},
     "output_type": "display_data"
    },
    {
     "data": {
      "text/html": [
       "<pre style=\"white-space:pre;overflow-x:auto;line-height:normal;font-family:Menlo,'DejaVu Sans Mono',consolas,'Courier New',monospace\">Trained DQN model with loss: 99.9055\n",
       "</pre>\n"
      ],
      "text/plain": [
       "Trained DQN model with loss: 99.9055\n"
      ]
     },
     "metadata": {},
     "output_type": "display_data"
    },
    {
     "data": {
      "text/html": [
       "<pre style=\"white-space:pre;overflow-x:auto;line-height:normal;font-family:Menlo,'DejaVu Sans Mono',consolas,'Courier New',monospace\">Trained DQN model with loss: 99.9840\n",
       "</pre>\n"
      ],
      "text/plain": [
       "Trained DQN model with loss: 99.9840\n"
      ]
     },
     "metadata": {},
     "output_type": "display_data"
    },
    {
     "data": {
      "text/html": [
       "<pre style=\"white-space:pre;overflow-x:auto;line-height:normal;font-family:Menlo,'DejaVu Sans Mono',consolas,'Courier New',monospace\">Trained DQN model with loss: 99.7269\n",
       "</pre>\n"
      ],
      "text/plain": [
       "Trained DQN model with loss: 99.7269\n"
      ]
     },
     "metadata": {},
     "output_type": "display_data"
    },
    {
     "data": {
      "text/html": [
       "<pre style=\"white-space:pre;overflow-x:auto;line-height:normal;font-family:Menlo,'DejaVu Sans Mono',consolas,'Courier New',monospace\">Trained DQN model with loss: 99.7305\n",
       "</pre>\n"
      ],
      "text/plain": [
       "Trained DQN model with loss: 99.7305\n"
      ]
     },
     "metadata": {},
     "output_type": "display_data"
    },
    {
     "data": {
      "text/html": [
       "<pre style=\"white-space:pre;overflow-x:auto;line-height:normal;font-family:Menlo,'DejaVu Sans Mono',consolas,'Courier New',monospace\">Trained DQN model with loss: 100.0165\n",
       "</pre>\n"
      ],
      "text/plain": [
       "Trained DQN model with loss: 100.0165\n"
      ]
     },
     "metadata": {},
     "output_type": "display_data"
    },
    {
     "data": {
      "text/html": [
       "<pre style=\"white-space:pre;overflow-x:auto;line-height:normal;font-family:Menlo,'DejaVu Sans Mono',consolas,'Courier New',monospace\">Trained DQN model with loss: 100.1665\n",
       "</pre>\n"
      ],
      "text/plain": [
       "Trained DQN model with loss: 100.1665\n"
      ]
     },
     "metadata": {},
     "output_type": "display_data"
    },
    {
     "data": {
      "text/html": [
       "<pre style=\"white-space:pre;overflow-x:auto;line-height:normal;font-family:Menlo,'DejaVu Sans Mono',consolas,'Courier New',monospace\">Trained DQN model with loss: 99.7225\n",
       "</pre>\n"
      ],
      "text/plain": [
       "Trained DQN model with loss: 99.7225\n"
      ]
     },
     "metadata": {},
     "output_type": "display_data"
    },
    {
     "data": {
      "text/html": [
       "<pre style=\"white-space:pre;overflow-x:auto;line-height:normal;font-family:Menlo,'DejaVu Sans Mono',consolas,'Courier New',monospace\">Trained DQN model with loss: 100.0859\n",
       "</pre>\n"
      ],
      "text/plain": [
       "Trained DQN model with loss: 100.0859\n"
      ]
     },
     "metadata": {},
     "output_type": "display_data"
    },
    {
     "data": {
      "text/html": [
       "<pre style=\"white-space:pre;overflow-x:auto;line-height:normal;font-family:Menlo,'DejaVu Sans Mono',consolas,'Courier New',monospace\">Trained DQN model with loss: 100.0021\n",
       "</pre>\n"
      ],
      "text/plain": [
       "Trained DQN model with loss: 100.0021\n"
      ]
     },
     "metadata": {},
     "output_type": "display_data"
    },
    {
     "data": {
      "text/html": [
       "<pre style=\"white-space:pre;overflow-x:auto;line-height:normal;font-family:Menlo,'DejaVu Sans Mono',consolas,'Courier New',monospace\">Trained DQN model with loss: 99.9418\n",
       "</pre>\n"
      ],
      "text/plain": [
       "Trained DQN model with loss: 99.9418\n"
      ]
     },
     "metadata": {},
     "output_type": "display_data"
    },
    {
     "data": {
      "text/html": [
       "<pre style=\"white-space:pre;overflow-x:auto;line-height:normal;font-family:Menlo,'DejaVu Sans Mono',consolas,'Courier New',monospace\">Trained DQN model with loss: 99.9066\n",
       "</pre>\n"
      ],
      "text/plain": [
       "Trained DQN model with loss: 99.9066\n"
      ]
     },
     "metadata": {},
     "output_type": "display_data"
    },
    {
     "data": {
      "text/html": [
       "<pre style=\"white-space:pre;overflow-x:auto;line-height:normal;font-family:Menlo,'DejaVu Sans Mono',consolas,'Courier New',monospace\">Trained DQN model with loss: 99.9623\n",
       "</pre>\n"
      ],
      "text/plain": [
       "Trained DQN model with loss: 99.9623\n"
      ]
     },
     "metadata": {},
     "output_type": "display_data"
    },
    {
     "data": {
      "text/html": [
       "<pre style=\"white-space:pre;overflow-x:auto;line-height:normal;font-family:Menlo,'DejaVu Sans Mono',consolas,'Courier New',monospace\">Trained DQN model with loss: 100.0499\n",
       "</pre>\n"
      ],
      "text/plain": [
       "Trained DQN model with loss: 100.0499\n"
      ]
     },
     "metadata": {},
     "output_type": "display_data"
    },
    {
     "data": {
      "text/html": [
       "<pre style=\"white-space:pre;overflow-x:auto;line-height:normal;font-family:Menlo,'DejaVu Sans Mono',consolas,'Courier New',monospace\">Trained DQN model with loss: 99.9152\n",
       "</pre>\n"
      ],
      "text/plain": [
       "Trained DQN model with loss: 99.9152\n"
      ]
     },
     "metadata": {},
     "output_type": "display_data"
    },
    {
     "data": {
      "text/html": [
       "<pre style=\"white-space:pre;overflow-x:auto;line-height:normal;font-family:Menlo,'DejaVu Sans Mono',consolas,'Courier New',monospace\">Trained DQN model with loss: 100.0364\n",
       "</pre>\n"
      ],
      "text/plain": [
       "Trained DQN model with loss: 100.0364\n"
      ]
     },
     "metadata": {},
     "output_type": "display_data"
    },
    {
     "data": {
      "text/html": [
       "<pre style=\"white-space:pre;overflow-x:auto;line-height:normal;font-family:Menlo,'DejaVu Sans Mono',consolas,'Courier New',monospace\">Trained DQN model with loss: 99.9335\n",
       "</pre>\n"
      ],
      "text/plain": [
       "Trained DQN model with loss: 99.9335\n"
      ]
     },
     "metadata": {},
     "output_type": "display_data"
    },
    {
     "data": {
      "text/html": [
       "<pre style=\"white-space:pre;overflow-x:auto;line-height:normal;font-family:Menlo,'DejaVu Sans Mono',consolas,'Courier New',monospace\"></pre>\n"
      ],
      "text/plain": []
     },
     "metadata": {},
     "output_type": "display_data"
    },
    {
     "data": {
      "text/html": [
       "<pre style=\"white-space:pre;overflow-x:auto;line-height:normal;font-family:Menlo,'DejaVu Sans Mono',consolas,'Courier New',monospace\">\n",
       "</pre>\n"
      ],
      "text/plain": [
       "\n"
      ]
     },
     "metadata": {},
     "output_type": "display_data"
    },
    {
     "data": {
      "text/html": [
       "<pre style=\"white-space:pre;overflow-x:auto;line-height:normal;font-family:Menlo,'DejaVu Sans Mono',consolas,'Courier New',monospace\"><span style=\"font-style: italic\">                                      Last 1 Games                                      </span>\n",
       "    ╷                       ╷       ╷        ╷          ╷           ╷         ╷         \n",
       " <span style=\"font-weight: bold\"> # </span>│<span style=\"font-weight: bold\"> SEATING               </span>│<span style=\"font-weight: bold\"> TURNS </span>│<span style=\"font-weight: bold\"> RED VP </span>│<span style=\"font-weight: bold\"> WHITE VP </span>│<span style=\"font-weight: bold\"> ORANGE VP </span>│<span style=\"font-weight: bold\"> BLUE VP </span>│<span style=\"font-weight: bold\"> WINNER </span> \n",
       "╶───┼───────────────────────┼───────┼────────┼──────────┼───────────┼─────────┼────────╴\n",
       "  1 │ <span style=\"color: #800000; text-decoration-color: #800000\">RED</span>,<span style=\"color: #c0c0c0; text-decoration-color: #c0c0c0\">WHITE</span>,<span style=\"color: #808000; text-decoration-color: #808000\">ORANGE</span>,<span style=\"color: #000080; text-decoration-color: #000080\">BLUE</span> │   243 │      2 │       10 │         2 │       6 │ <span style=\"color: #c0c0c0; text-decoration-color: #c0c0c0\">WHITE</span>   \n",
       "    ╵                       ╵       ╵        ╵          ╵           ╵         ╵         \n",
       "</pre>\n"
      ],
      "text/plain": [
       "\u001b[3m                                      Last 1 Games                                      \u001b[0m\n",
       "    ╷                       ╷       ╷        ╷          ╷           ╷         ╷         \n",
       " \u001b[1m \u001b[0m\u001b[1m#\u001b[0m\u001b[1m \u001b[0m│\u001b[1m \u001b[0m\u001b[1mSEATING              \u001b[0m\u001b[1m \u001b[0m│\u001b[1m \u001b[0m\u001b[1mTURNS\u001b[0m\u001b[1m \u001b[0m│\u001b[1m \u001b[0m\u001b[1mRED VP\u001b[0m\u001b[1m \u001b[0m│\u001b[1m \u001b[0m\u001b[1mWHITE VP\u001b[0m\u001b[1m \u001b[0m│\u001b[1m \u001b[0m\u001b[1mORANGE VP\u001b[0m\u001b[1m \u001b[0m│\u001b[1m \u001b[0m\u001b[1mBLUE VP\u001b[0m\u001b[1m \u001b[0m│\u001b[1m \u001b[0m\u001b[1mWINNER\u001b[0m\u001b[1m \u001b[0m \n",
       "╶───┼───────────────────────┼───────┼────────┼──────────┼───────────┼─────────┼────────╴\n",
       "  1 │ \u001b[31mRED\u001b[0m,\u001b[37mWHITE\u001b[0m,\u001b[33mORANGE\u001b[0m,\u001b[34mBLUE\u001b[0m │   243 │      2 │       10 │         2 │       6 │ \u001b[37mWHITE\u001b[0m   \n",
       "    ╵                       ╵       ╵        ╵          ╵           ╵         ╵         \n"
      ]
     },
     "metadata": {},
     "output_type": "display_data"
    },
    {
     "data": {
      "text/html": [
       "<pre style=\"white-space:pre;overflow-x:auto;line-height:normal;font-family:Menlo,'DejaVu Sans Mono',consolas,'Courier New',monospace\"><span style=\"font-style: italic\">                                              Player Summary                                               </span>\n",
       "                            ╷      ╷        ╷             ╷            ╷          ╷          ╷             \n",
       " <span style=\"font-weight: bold\">                           </span>│<span style=\"font-weight: bold\"> WINS </span>│<span style=\"font-weight: bold\"> AVG VP </span>│<span style=\"font-weight: bold\"> AVG SETTLES </span>│<span style=\"font-weight: bold\"> AVG CITIES </span>│<span style=\"font-weight: bold\"> AVG ROAD </span>│<span style=\"font-weight: bold\"> AVG ARMY </span>│<span style=\"font-weight: bold\"> AVG DEV VP </span> \n",
       "╶───────────────────────────┼──────┼────────┼─────────────┼────────────┼──────────┼──────────┼────────────╴\n",
       "  <span style=\"color: #800000; text-decoration-color: #800000\">AB_DQNPlayer_1:RED</span>        │    0 │   2.00 │        2.00 │       0.00 │     0.00 │     0.00 │       0.00  \n",
       "  <span style=\"color: #c0c0c0; text-decoration-color: #c0c0c0\">RandomPlayer:WHITE</span>        │    1 │  10.00 │        2.00 │       0.00 │     1.00 │     1.00 │       4.00  \n",
       "  <span style=\"color: #808000; text-decoration-color: #808000\">RandomPlayer:ORANGE</span>       │    0 │   2.00 │        2.00 │       0.00 │     0.00 │     0.00 │       0.00  \n",
       "  <span style=\"color: #000080; text-decoration-color: #000080\">WeightedRandomPlayer:BLUE</span> │    0 │   6.00 │        1.00 │       2.00 │     0.00 │     0.00 │       1.00  \n",
       "                            ╵      ╵        ╵             ╵            ╵          ╵          ╵             \n",
       "</pre>\n"
      ],
      "text/plain": [
       "\u001b[3m                                              Player Summary                                               \u001b[0m\n",
       "                            ╷      ╷        ╷             ╷            ╷          ╷          ╷             \n",
       " \u001b[1m \u001b[0m\u001b[1m                         \u001b[0m\u001b[1m \u001b[0m│\u001b[1m \u001b[0m\u001b[1mWINS\u001b[0m\u001b[1m \u001b[0m│\u001b[1m \u001b[0m\u001b[1mAVG VP\u001b[0m\u001b[1m \u001b[0m│\u001b[1m \u001b[0m\u001b[1mAVG SETTLES\u001b[0m\u001b[1m \u001b[0m│\u001b[1m \u001b[0m\u001b[1mAVG CITIES\u001b[0m\u001b[1m \u001b[0m│\u001b[1m \u001b[0m\u001b[1mAVG ROAD\u001b[0m\u001b[1m \u001b[0m│\u001b[1m \u001b[0m\u001b[1mAVG ARMY\u001b[0m\u001b[1m \u001b[0m│\u001b[1m \u001b[0m\u001b[1mAVG DEV VP\u001b[0m\u001b[1m \u001b[0m \n",
       "╶───────────────────────────┼──────┼────────┼─────────────┼────────────┼──────────┼──────────┼────────────╴\n",
       "  \u001b[31mAB_DQNPlayer_1:RED\u001b[0m        │    0 │   2.00 │        2.00 │       0.00 │     0.00 │     0.00 │       0.00  \n",
       "  \u001b[37mRandomPlayer:WHITE\u001b[0m        │    1 │  10.00 │        2.00 │       0.00 │     1.00 │     1.00 │       4.00  \n",
       "  \u001b[33mRandomPlayer:ORANGE\u001b[0m       │    0 │   2.00 │        2.00 │       0.00 │     0.00 │     0.00 │       0.00  \n",
       "  \u001b[34mWeightedRandomPlayer:BLUE\u001b[0m │    0 │   6.00 │        1.00 │       2.00 │     0.00 │     0.00 │       1.00  \n",
       "                            ╵      ╵        ╵             ╵            ╵          ╵          ╵             \n"
      ]
     },
     "metadata": {},
     "output_type": "display_data"
    },
    {
     "data": {
      "text/html": [
       "<pre style=\"white-space:pre;overflow-x:auto;line-height:normal;font-family:Menlo,'DejaVu Sans Mono',consolas,'Courier New',monospace\"><span style=\"font-style: italic\">              Game Summary              </span>\n",
       "            ╷           ╷               \n",
       " <span style=\"font-weight: bold\"> AVG TICKS </span>│<span style=\"font-weight: bold\"> AVG TURNS </span>│<span style=\"font-weight: bold\"> AVG DURATION </span> \n",
       "╶───────────┼───────────┼──────────────╴\n",
       "     641.00 │    243.00 │   3.378 secs  \n",
       "            ╵           ╵               \n",
       "</pre>\n"
      ],
      "text/plain": [
       "\u001b[3m              Game Summary              \u001b[0m\n",
       "            ╷           ╷               \n",
       " \u001b[1m \u001b[0m\u001b[1mAVG TICKS\u001b[0m\u001b[1m \u001b[0m│\u001b[1m \u001b[0m\u001b[1mAVG TURNS\u001b[0m\u001b[1m \u001b[0m│\u001b[1m \u001b[0m\u001b[1mAVG DURATION\u001b[0m\u001b[1m \u001b[0m \n",
       "╶───────────┼───────────┼──────────────╴\n",
       "     641.00 │    243.00 │   3.378 secs  \n",
       "            ╵           ╵               \n"
      ]
     },
     "metadata": {},
     "output_type": "display_data"
    },
    {
     "data": {
      "text/html": [
       "<pre style=\"white-space:pre;overflow-x:auto;line-height:normal;font-family:Menlo,'DejaVu Sans Mono',consolas,'Courier New',monospace\">Trained DQN model with loss: 99.7551\n",
       "</pre>\n"
      ],
      "text/plain": [
       "Trained DQN model with loss: 99.7551\n"
      ]
     },
     "metadata": {},
     "output_type": "display_data"
    },
    {
     "data": {
      "text/html": [
       "<pre style=\"white-space:pre;overflow-x:auto;line-height:normal;font-family:Menlo,'DejaVu Sans Mono',consolas,'Courier New',monospace\">Trained DQN model with loss: 100.0455\n",
       "</pre>\n"
      ],
      "text/plain": [
       "Trained DQN model with loss: 100.0455\n"
      ]
     },
     "metadata": {},
     "output_type": "display_data"
    },
    {
     "data": {
      "text/html": [
       "<pre style=\"white-space:pre;overflow-x:auto;line-height:normal;font-family:Menlo,'DejaVu Sans Mono',consolas,'Courier New',monospace\">Trained DQN model with loss: 99.9335\n",
       "</pre>\n"
      ],
      "text/plain": [
       "Trained DQN model with loss: 99.9335\n"
      ]
     },
     "metadata": {},
     "output_type": "display_data"
    },
    {
     "data": {
      "text/html": [
       "<pre style=\"white-space:pre;overflow-x:auto;line-height:normal;font-family:Menlo,'DejaVu Sans Mono',consolas,'Courier New',monospace\">Trained DQN model with loss: 100.0368\n",
       "</pre>\n"
      ],
      "text/plain": [
       "Trained DQN model with loss: 100.0368\n"
      ]
     },
     "metadata": {},
     "output_type": "display_data"
    },
    {
     "data": {
      "text/html": [
       "<pre style=\"white-space:pre;overflow-x:auto;line-height:normal;font-family:Menlo,'DejaVu Sans Mono',consolas,'Courier New',monospace\">Trained DQN model with loss: 100.0638\n",
       "</pre>\n"
      ],
      "text/plain": [
       "Trained DQN model with loss: 100.0638\n"
      ]
     },
     "metadata": {},
     "output_type": "display_data"
    },
    {
     "data": {
      "text/html": [
       "<pre style=\"white-space:pre;overflow-x:auto;line-height:normal;font-family:Menlo,'DejaVu Sans Mono',consolas,'Courier New',monospace\">Trained DQN model with loss: 99.8417\n",
       "</pre>\n"
      ],
      "text/plain": [
       "Trained DQN model with loss: 99.8417\n"
      ]
     },
     "metadata": {},
     "output_type": "display_data"
    },
    {
     "data": {
      "text/html": [
       "<pre style=\"white-space:pre;overflow-x:auto;line-height:normal;font-family:Menlo,'DejaVu Sans Mono',consolas,'Courier New',monospace\">Trained DQN model with loss: 100.0597\n",
       "</pre>\n"
      ],
      "text/plain": [
       "Trained DQN model with loss: 100.0597\n"
      ]
     },
     "metadata": {},
     "output_type": "display_data"
    },
    {
     "data": {
      "text/html": [
       "<pre style=\"white-space:pre;overflow-x:auto;line-height:normal;font-family:Menlo,'DejaVu Sans Mono',consolas,'Courier New',monospace\">Trained DQN model with loss: 99.9772\n",
       "</pre>\n"
      ],
      "text/plain": [
       "Trained DQN model with loss: 99.9772\n"
      ]
     },
     "metadata": {},
     "output_type": "display_data"
    },
    {
     "data": {
      "text/html": [
       "<pre style=\"white-space:pre;overflow-x:auto;line-height:normal;font-family:Menlo,'DejaVu Sans Mono',consolas,'Courier New',monospace\">Trained DQN model with loss: 100.0862\n",
       "</pre>\n"
      ],
      "text/plain": [
       "Trained DQN model with loss: 100.0862\n"
      ]
     },
     "metadata": {},
     "output_type": "display_data"
    },
    {
     "data": {
      "text/html": [
       "<pre style=\"white-space:pre;overflow-x:auto;line-height:normal;font-family:Menlo,'DejaVu Sans Mono',consolas,'Courier New',monospace\">Trained DQN model with loss: 100.2020\n",
       "</pre>\n"
      ],
      "text/plain": [
       "Trained DQN model with loss: 100.2020\n"
      ]
     },
     "metadata": {},
     "output_type": "display_data"
    },
    {
     "data": {
      "text/html": [
       "<pre style=\"white-space:pre;overflow-x:auto;line-height:normal;font-family:Menlo,'DejaVu Sans Mono',consolas,'Courier New',monospace\">Trained DQN model with loss: 100.0595\n",
       "</pre>\n"
      ],
      "text/plain": [
       "Trained DQN model with loss: 100.0595\n"
      ]
     },
     "metadata": {},
     "output_type": "display_data"
    },
    {
     "data": {
      "text/html": [
       "<pre style=\"white-space:pre;overflow-x:auto;line-height:normal;font-family:Menlo,'DejaVu Sans Mono',consolas,'Courier New',monospace\">Trained DQN model with loss: 100.0770\n",
       "</pre>\n"
      ],
      "text/plain": [
       "Trained DQN model with loss: 100.0770\n"
      ]
     },
     "metadata": {},
     "output_type": "display_data"
    },
    {
     "data": {
      "text/html": [
       "<pre style=\"white-space:pre;overflow-x:auto;line-height:normal;font-family:Menlo,'DejaVu Sans Mono',consolas,'Courier New',monospace\">Trained DQN model with loss: 100.0181\n",
       "</pre>\n"
      ],
      "text/plain": [
       "Trained DQN model with loss: 100.0181\n"
      ]
     },
     "metadata": {},
     "output_type": "display_data"
    },
    {
     "data": {
      "text/html": [
       "<pre style=\"white-space:pre;overflow-x:auto;line-height:normal;font-family:Menlo,'DejaVu Sans Mono',consolas,'Courier New',monospace\">Trained DQN model with loss: 99.8864\n",
       "</pre>\n"
      ],
      "text/plain": [
       "Trained DQN model with loss: 99.8864\n"
      ]
     },
     "metadata": {},
     "output_type": "display_data"
    },
    {
     "data": {
      "text/html": [
       "<pre style=\"white-space:pre;overflow-x:auto;line-height:normal;font-family:Menlo,'DejaVu Sans Mono',consolas,'Courier New',monospace\">Trained DQN model with loss: 99.7563\n",
       "</pre>\n"
      ],
      "text/plain": [
       "Trained DQN model with loss: 99.7563\n"
      ]
     },
     "metadata": {},
     "output_type": "display_data"
    },
    {
     "data": {
      "text/html": [
       "<pre style=\"white-space:pre;overflow-x:auto;line-height:normal;font-family:Menlo,'DejaVu Sans Mono',consolas,'Courier New',monospace\">Trained DQN model with loss: 99.8660\n",
       "</pre>\n"
      ],
      "text/plain": [
       "Trained DQN model with loss: 99.8660\n"
      ]
     },
     "metadata": {},
     "output_type": "display_data"
    },
    {
     "data": {
      "text/html": [
       "<pre style=\"white-space:pre;overflow-x:auto;line-height:normal;font-family:Menlo,'DejaVu Sans Mono',consolas,'Courier New',monospace\">Trained DQN model with loss: 100.0060\n",
       "</pre>\n"
      ],
      "text/plain": [
       "Trained DQN model with loss: 100.0060\n"
      ]
     },
     "metadata": {},
     "output_type": "display_data"
    },
    {
     "data": {
      "text/html": [
       "<pre style=\"white-space:pre;overflow-x:auto;line-height:normal;font-family:Menlo,'DejaVu Sans Mono',consolas,'Courier New',monospace\">Trained DQN model with loss: 99.9171\n",
       "</pre>\n"
      ],
      "text/plain": [
       "Trained DQN model with loss: 99.9171\n"
      ]
     },
     "metadata": {},
     "output_type": "display_data"
    },
    {
     "data": {
      "text/html": [
       "<pre style=\"white-space:pre;overflow-x:auto;line-height:normal;font-family:Menlo,'DejaVu Sans Mono',consolas,'Courier New',monospace\">Trained DQN model with loss: 100.1582\n",
       "</pre>\n"
      ],
      "text/plain": [
       "Trained DQN model with loss: 100.1582\n"
      ]
     },
     "metadata": {},
     "output_type": "display_data"
    },
    {
     "data": {
      "text/html": [
       "<pre style=\"white-space:pre;overflow-x:auto;line-height:normal;font-family:Menlo,'DejaVu Sans Mono',consolas,'Courier New',monospace\">Trained DQN model with loss: 99.9177\n",
       "</pre>\n"
      ],
      "text/plain": [
       "Trained DQN model with loss: 99.9177\n"
      ]
     },
     "metadata": {},
     "output_type": "display_data"
    },
    {
     "data": {
      "text/html": [
       "<pre style=\"white-space:pre;overflow-x:auto;line-height:normal;font-family:Menlo,'DejaVu Sans Mono',consolas,'Courier New',monospace\">Trained DQN model with loss: 99.7513\n",
       "</pre>\n"
      ],
      "text/plain": [
       "Trained DQN model with loss: 99.7513\n"
      ]
     },
     "metadata": {},
     "output_type": "display_data"
    },
    {
     "data": {
      "text/html": [
       "<pre style=\"white-space:pre;overflow-x:auto;line-height:normal;font-family:Menlo,'DejaVu Sans Mono',consolas,'Courier New',monospace\">Trained DQN model with loss: 100.1379\n",
       "</pre>\n"
      ],
      "text/plain": [
       "Trained DQN model with loss: 100.1379\n"
      ]
     },
     "metadata": {},
     "output_type": "display_data"
    },
    {
     "data": {
      "text/html": [
       "<pre style=\"white-space:pre;overflow-x:auto;line-height:normal;font-family:Menlo,'DejaVu Sans Mono',consolas,'Courier New',monospace\">Trained DQN model with loss: 99.8475\n",
       "</pre>\n"
      ],
      "text/plain": [
       "Trained DQN model with loss: 99.8475\n"
      ]
     },
     "metadata": {},
     "output_type": "display_data"
    },
    {
     "data": {
      "text/html": [
       "<pre style=\"white-space:pre;overflow-x:auto;line-height:normal;font-family:Menlo,'DejaVu Sans Mono',consolas,'Courier New',monospace\">Trained DQN model with loss: 99.8176\n",
       "</pre>\n"
      ],
      "text/plain": [
       "Trained DQN model with loss: 99.8176\n"
      ]
     },
     "metadata": {},
     "output_type": "display_data"
    },
    {
     "data": {
      "text/html": [
       "<pre style=\"white-space:pre;overflow-x:auto;line-height:normal;font-family:Menlo,'DejaVu Sans Mono',consolas,'Courier New',monospace\">Trained DQN model with loss: 100.0043\n",
       "</pre>\n"
      ],
      "text/plain": [
       "Trained DQN model with loss: 100.0043\n"
      ]
     },
     "metadata": {},
     "output_type": "display_data"
    },
    {
     "data": {
      "text/html": [
       "<pre style=\"white-space:pre;overflow-x:auto;line-height:normal;font-family:Menlo,'DejaVu Sans Mono',consolas,'Courier New',monospace\">Trained DQN model with loss: 99.9765\n",
       "</pre>\n"
      ],
      "text/plain": [
       "Trained DQN model with loss: 99.9765\n"
      ]
     },
     "metadata": {},
     "output_type": "display_data"
    },
    {
     "data": {
      "text/html": [
       "<pre style=\"white-space:pre;overflow-x:auto;line-height:normal;font-family:Menlo,'DejaVu Sans Mono',consolas,'Courier New',monospace\">Trained DQN model with loss: 99.6623\n",
       "</pre>\n"
      ],
      "text/plain": [
       "Trained DQN model with loss: 99.6623\n"
      ]
     },
     "metadata": {},
     "output_type": "display_data"
    },
    {
     "data": {
      "text/html": [
       "<pre style=\"white-space:pre;overflow-x:auto;line-height:normal;font-family:Menlo,'DejaVu Sans Mono',consolas,'Courier New',monospace\">Trained DQN model with loss: 100.0963\n",
       "</pre>\n"
      ],
      "text/plain": [
       "Trained DQN model with loss: 100.0963\n"
      ]
     },
     "metadata": {},
     "output_type": "display_data"
    },
    {
     "data": {
      "text/html": [
       "<pre style=\"white-space:pre;overflow-x:auto;line-height:normal;font-family:Menlo,'DejaVu Sans Mono',consolas,'Courier New',monospace\">Trained DQN model with loss: 99.9757\n",
       "</pre>\n"
      ],
      "text/plain": [
       "Trained DQN model with loss: 99.9757\n"
      ]
     },
     "metadata": {},
     "output_type": "display_data"
    },
    {
     "data": {
      "text/html": [
       "<pre style=\"white-space:pre;overflow-x:auto;line-height:normal;font-family:Menlo,'DejaVu Sans Mono',consolas,'Courier New',monospace\">Trained DQN model with loss: 99.9377\n",
       "</pre>\n"
      ],
      "text/plain": [
       "Trained DQN model with loss: 99.9377\n"
      ]
     },
     "metadata": {},
     "output_type": "display_data"
    },
    {
     "data": {
      "text/html": [
       "<pre style=\"white-space:pre;overflow-x:auto;line-height:normal;font-family:Menlo,'DejaVu Sans Mono',consolas,'Courier New',monospace\">Trained DQN model with loss: 99.4915\n",
       "</pre>\n"
      ],
      "text/plain": [
       "Trained DQN model with loss: 99.4915\n"
      ]
     },
     "metadata": {},
     "output_type": "display_data"
    },
    {
     "data": {
      "text/html": [
       "<pre style=\"white-space:pre;overflow-x:auto;line-height:normal;font-family:Menlo,'DejaVu Sans Mono',consolas,'Courier New',monospace\">Trained DQN model with loss: 99.8507\n",
       "</pre>\n"
      ],
      "text/plain": [
       "Trained DQN model with loss: 99.8507\n"
      ]
     },
     "metadata": {},
     "output_type": "display_data"
    },
    {
     "data": {
      "text/html": [
       "<pre style=\"white-space:pre;overflow-x:auto;line-height:normal;font-family:Menlo,'DejaVu Sans Mono',consolas,'Courier New',monospace\">Trained DQN model with loss: 99.8067\n",
       "</pre>\n"
      ],
      "text/plain": [
       "Trained DQN model with loss: 99.8067\n"
      ]
     },
     "metadata": {},
     "output_type": "display_data"
    },
    {
     "data": {
      "text/html": [
       "<pre style=\"white-space:pre;overflow-x:auto;line-height:normal;font-family:Menlo,'DejaVu Sans Mono',consolas,'Courier New',monospace\">Trained DQN model with loss: 100.1016\n",
       "</pre>\n"
      ],
      "text/plain": [
       "Trained DQN model with loss: 100.1016\n"
      ]
     },
     "metadata": {},
     "output_type": "display_data"
    },
    {
     "data": {
      "text/html": [
       "<pre style=\"white-space:pre;overflow-x:auto;line-height:normal;font-family:Menlo,'DejaVu Sans Mono',consolas,'Courier New',monospace\">Trained DQN model with loss: 99.6169\n",
       "</pre>\n"
      ],
      "text/plain": [
       "Trained DQN model with loss: 99.6169\n"
      ]
     },
     "metadata": {},
     "output_type": "display_data"
    },
    {
     "data": {
      "text/html": [
       "<pre style=\"white-space:pre;overflow-x:auto;line-height:normal;font-family:Menlo,'DejaVu Sans Mono',consolas,'Courier New',monospace\">Trained DQN model with loss: 99.9890\n",
       "</pre>\n"
      ],
      "text/plain": [
       "Trained DQN model with loss: 99.9890\n"
      ]
     },
     "metadata": {},
     "output_type": "display_data"
    },
    {
     "data": {
      "text/html": [
       "<pre style=\"white-space:pre;overflow-x:auto;line-height:normal;font-family:Menlo,'DejaVu Sans Mono',consolas,'Courier New',monospace\">Trained DQN model with loss: 100.0402\n",
       "</pre>\n"
      ],
      "text/plain": [
       "Trained DQN model with loss: 100.0402\n"
      ]
     },
     "metadata": {},
     "output_type": "display_data"
    },
    {
     "data": {
      "text/html": [
       "<pre style=\"white-space:pre;overflow-x:auto;line-height:normal;font-family:Menlo,'DejaVu Sans Mono',consolas,'Courier New',monospace\">Trained DQN model with loss: 99.5683\n",
       "</pre>\n"
      ],
      "text/plain": [
       "Trained DQN model with loss: 99.5683\n"
      ]
     },
     "metadata": {},
     "output_type": "display_data"
    },
    {
     "data": {
      "text/html": [
       "<pre style=\"white-space:pre;overflow-x:auto;line-height:normal;font-family:Menlo,'DejaVu Sans Mono',consolas,'Courier New',monospace\">Trained DQN model with loss: 99.9585\n",
       "</pre>\n"
      ],
      "text/plain": [
       "Trained DQN model with loss: 99.9585\n"
      ]
     },
     "metadata": {},
     "output_type": "display_data"
    },
    {
     "data": {
      "text/html": [
       "<pre style=\"white-space:pre;overflow-x:auto;line-height:normal;font-family:Menlo,'DejaVu Sans Mono',consolas,'Courier New',monospace\">Trained DQN model with loss: 100.0726\n",
       "</pre>\n"
      ],
      "text/plain": [
       "Trained DQN model with loss: 100.0726\n"
      ]
     },
     "metadata": {},
     "output_type": "display_data"
    },
    {
     "data": {
      "text/html": [
       "<pre style=\"white-space:pre;overflow-x:auto;line-height:normal;font-family:Menlo,'DejaVu Sans Mono',consolas,'Courier New',monospace\">Trained DQN model with loss: 100.1363\n",
       "</pre>\n"
      ],
      "text/plain": [
       "Trained DQN model with loss: 100.1363\n"
      ]
     },
     "metadata": {},
     "output_type": "display_data"
    },
    {
     "data": {
      "text/html": [
       "<pre style=\"white-space:pre;overflow-x:auto;line-height:normal;font-family:Menlo,'DejaVu Sans Mono',consolas,'Courier New',monospace\">Trained DQN model with loss: 99.9102\n",
       "</pre>\n"
      ],
      "text/plain": [
       "Trained DQN model with loss: 99.9102\n"
      ]
     },
     "metadata": {},
     "output_type": "display_data"
    },
    {
     "data": {
      "text/html": [
       "<pre style=\"white-space:pre;overflow-x:auto;line-height:normal;font-family:Menlo,'DejaVu Sans Mono',consolas,'Courier New',monospace\">Trained DQN model with loss: 100.1174\n",
       "</pre>\n"
      ],
      "text/plain": [
       "Trained DQN model with loss: 100.1174\n"
      ]
     },
     "metadata": {},
     "output_type": "display_data"
    },
    {
     "data": {
      "text/html": [
       "<pre style=\"white-space:pre;overflow-x:auto;line-height:normal;font-family:Menlo,'DejaVu Sans Mono',consolas,'Courier New',monospace\">Trained DQN model with loss: 99.9416\n",
       "</pre>\n"
      ],
      "text/plain": [
       "Trained DQN model with loss: 99.9416\n"
      ]
     },
     "metadata": {},
     "output_type": "display_data"
    },
    {
     "data": {
      "text/html": [
       "<pre style=\"white-space:pre;overflow-x:auto;line-height:normal;font-family:Menlo,'DejaVu Sans Mono',consolas,'Courier New',monospace\">Trained DQN model with loss: 100.0767\n",
       "</pre>\n"
      ],
      "text/plain": [
       "Trained DQN model with loss: 100.0767\n"
      ]
     },
     "metadata": {},
     "output_type": "display_data"
    },
    {
     "data": {
      "text/html": [
       "<pre style=\"white-space:pre;overflow-x:auto;line-height:normal;font-family:Menlo,'DejaVu Sans Mono',consolas,'Courier New',monospace\">Trained DQN model with loss: 99.8721\n",
       "</pre>\n"
      ],
      "text/plain": [
       "Trained DQN model with loss: 99.8721\n"
      ]
     },
     "metadata": {},
     "output_type": "display_data"
    },
    {
     "data": {
      "text/html": [
       "<pre style=\"white-space:pre;overflow-x:auto;line-height:normal;font-family:Menlo,'DejaVu Sans Mono',consolas,'Courier New',monospace\">Trained DQN model with loss: 99.8104\n",
       "</pre>\n"
      ],
      "text/plain": [
       "Trained DQN model with loss: 99.8104\n"
      ]
     },
     "metadata": {},
     "output_type": "display_data"
    },
    {
     "data": {
      "text/html": [
       "<pre style=\"white-space:pre;overflow-x:auto;line-height:normal;font-family:Menlo,'DejaVu Sans Mono',consolas,'Courier New',monospace\">Trained DQN model with loss: 100.1344\n",
       "</pre>\n"
      ],
      "text/plain": [
       "Trained DQN model with loss: 100.1344\n"
      ]
     },
     "metadata": {},
     "output_type": "display_data"
    },
    {
     "data": {
      "text/html": [
       "<pre style=\"white-space:pre;overflow-x:auto;line-height:normal;font-family:Menlo,'DejaVu Sans Mono',consolas,'Courier New',monospace\">Trained DQN model with loss: 99.8093\n",
       "</pre>\n"
      ],
      "text/plain": [
       "Trained DQN model with loss: 99.8093\n"
      ]
     },
     "metadata": {},
     "output_type": "display_data"
    },
    {
     "data": {
      "text/html": [
       "<pre style=\"white-space:pre;overflow-x:auto;line-height:normal;font-family:Menlo,'DejaVu Sans Mono',consolas,'Courier New',monospace\">Trained DQN model with loss: 99.9335\n",
       "</pre>\n"
      ],
      "text/plain": [
       "Trained DQN model with loss: 99.9335\n"
      ]
     },
     "metadata": {},
     "output_type": "display_data"
    },
    {
     "data": {
      "text/html": [
       "<pre style=\"white-space:pre;overflow-x:auto;line-height:normal;font-family:Menlo,'DejaVu Sans Mono',consolas,'Courier New',monospace\">Trained DQN model with loss: 99.7920\n",
       "</pre>\n"
      ],
      "text/plain": [
       "Trained DQN model with loss: 99.7920\n"
      ]
     },
     "metadata": {},
     "output_type": "display_data"
    },
    {
     "data": {
      "text/html": [
       "<pre style=\"white-space:pre;overflow-x:auto;line-height:normal;font-family:Menlo,'DejaVu Sans Mono',consolas,'Courier New',monospace\">Trained DQN model with loss: 99.7310\n",
       "</pre>\n"
      ],
      "text/plain": [
       "Trained DQN model with loss: 99.7310\n"
      ]
     },
     "metadata": {},
     "output_type": "display_data"
    },
    {
     "data": {
      "text/html": [
       "<pre style=\"white-space:pre;overflow-x:auto;line-height:normal;font-family:Menlo,'DejaVu Sans Mono',consolas,'Courier New',monospace\">Trained DQN model with loss: 99.6226\n",
       "</pre>\n"
      ],
      "text/plain": [
       "Trained DQN model with loss: 99.6226\n"
      ]
     },
     "metadata": {},
     "output_type": "display_data"
    },
    {
     "data": {
      "text/html": [
       "<pre style=\"white-space:pre;overflow-x:auto;line-height:normal;font-family:Menlo,'DejaVu Sans Mono',consolas,'Courier New',monospace\">Trained DQN model with loss: 99.8725\n",
       "</pre>\n"
      ],
      "text/plain": [
       "Trained DQN model with loss: 99.8725\n"
      ]
     },
     "metadata": {},
     "output_type": "display_data"
    },
    {
     "data": {
      "text/html": [
       "<pre style=\"white-space:pre;overflow-x:auto;line-height:normal;font-family:Menlo,'DejaVu Sans Mono',consolas,'Courier New',monospace\">Trained DQN model with loss: 99.8803\n",
       "</pre>\n"
      ],
      "text/plain": [
       "Trained DQN model with loss: 99.8803\n"
      ]
     },
     "metadata": {},
     "output_type": "display_data"
    },
    {
     "data": {
      "text/html": [
       "<pre style=\"white-space:pre;overflow-x:auto;line-height:normal;font-family:Menlo,'DejaVu Sans Mono',consolas,'Courier New',monospace\">Trained DQN model with loss: 100.0157\n",
       "</pre>\n"
      ],
      "text/plain": [
       "Trained DQN model with loss: 100.0157\n"
      ]
     },
     "metadata": {},
     "output_type": "display_data"
    },
    {
     "data": {
      "text/html": [
       "<pre style=\"white-space:pre;overflow-x:auto;line-height:normal;font-family:Menlo,'DejaVu Sans Mono',consolas,'Courier New',monospace\">Trained DQN model with loss: 100.0923\n",
       "</pre>\n"
      ],
      "text/plain": [
       "Trained DQN model with loss: 100.0923\n"
      ]
     },
     "metadata": {},
     "output_type": "display_data"
    },
    {
     "data": {
      "text/html": [
       "<pre style=\"white-space:pre;overflow-x:auto;line-height:normal;font-family:Menlo,'DejaVu Sans Mono',consolas,'Courier New',monospace\">Trained DQN model with loss: 99.8170\n",
       "</pre>\n"
      ],
      "text/plain": [
       "Trained DQN model with loss: 99.8170\n"
      ]
     },
     "metadata": {},
     "output_type": "display_data"
    },
    {
     "data": {
      "text/html": [
       "<pre style=\"white-space:pre;overflow-x:auto;line-height:normal;font-family:Menlo,'DejaVu Sans Mono',consolas,'Courier New',monospace\">Trained DQN model with loss: 99.8665\n",
       "</pre>\n"
      ],
      "text/plain": [
       "Trained DQN model with loss: 99.8665\n"
      ]
     },
     "metadata": {},
     "output_type": "display_data"
    },
    {
     "data": {
      "text/html": [
       "<pre style=\"white-space:pre;overflow-x:auto;line-height:normal;font-family:Menlo,'DejaVu Sans Mono',consolas,'Courier New',monospace\">Trained DQN model with loss: 99.7062\n",
       "</pre>\n"
      ],
      "text/plain": [
       "Trained DQN model with loss: 99.7062\n"
      ]
     },
     "metadata": {},
     "output_type": "display_data"
    },
    {
     "data": {
      "text/html": [
       "<pre style=\"white-space:pre;overflow-x:auto;line-height:normal;font-family:Menlo,'DejaVu Sans Mono',consolas,'Courier New',monospace\">Trained DQN model with loss: 99.8951\n",
       "</pre>\n"
      ],
      "text/plain": [
       "Trained DQN model with loss: 99.8951\n"
      ]
     },
     "metadata": {},
     "output_type": "display_data"
    },
    {
     "data": {
      "text/html": [
       "<pre style=\"white-space:pre;overflow-x:auto;line-height:normal;font-family:Menlo,'DejaVu Sans Mono',consolas,'Courier New',monospace\">Trained DQN model with loss: 100.0215\n",
       "</pre>\n"
      ],
      "text/plain": [
       "Trained DQN model with loss: 100.0215\n"
      ]
     },
     "metadata": {},
     "output_type": "display_data"
    },
    {
     "data": {
      "text/html": [
       "<pre style=\"white-space:pre;overflow-x:auto;line-height:normal;font-family:Menlo,'DejaVu Sans Mono',consolas,'Courier New',monospace\">Trained DQN model with loss: 99.9490\n",
       "</pre>\n"
      ],
      "text/plain": [
       "Trained DQN model with loss: 99.9490\n"
      ]
     },
     "metadata": {},
     "output_type": "display_data"
    },
    {
     "data": {
      "text/html": [
       "<pre style=\"white-space:pre;overflow-x:auto;line-height:normal;font-family:Menlo,'DejaVu Sans Mono',consolas,'Courier New',monospace\">Trained DQN model with loss: 99.8224\n",
       "</pre>\n"
      ],
      "text/plain": [
       "Trained DQN model with loss: 99.8224\n"
      ]
     },
     "metadata": {},
     "output_type": "display_data"
    },
    {
     "data": {
      "text/html": [
       "<pre style=\"white-space:pre;overflow-x:auto;line-height:normal;font-family:Menlo,'DejaVu Sans Mono',consolas,'Courier New',monospace\">Trained DQN model with loss: 99.8889\n",
       "</pre>\n"
      ],
      "text/plain": [
       "Trained DQN model with loss: 99.8889\n"
      ]
     },
     "metadata": {},
     "output_type": "display_data"
    },
    {
     "data": {
      "text/html": [
       "<pre style=\"white-space:pre;overflow-x:auto;line-height:normal;font-family:Menlo,'DejaVu Sans Mono',consolas,'Courier New',monospace\">Trained DQN model with loss: 100.0099\n",
       "</pre>\n"
      ],
      "text/plain": [
       "Trained DQN model with loss: 100.0099\n"
      ]
     },
     "metadata": {},
     "output_type": "display_data"
    },
    {
     "data": {
      "text/html": [
       "<pre style=\"white-space:pre;overflow-x:auto;line-height:normal;font-family:Menlo,'DejaVu Sans Mono',consolas,'Courier New',monospace\">Trained DQN model with loss: 99.7825\n",
       "</pre>\n"
      ],
      "text/plain": [
       "Trained DQN model with loss: 99.7825\n"
      ]
     },
     "metadata": {},
     "output_type": "display_data"
    },
    {
     "data": {
      "text/html": [
       "<pre style=\"white-space:pre;overflow-x:auto;line-height:normal;font-family:Menlo,'DejaVu Sans Mono',consolas,'Courier New',monospace\">Trained DQN model with loss: 100.0188\n",
       "</pre>\n"
      ],
      "text/plain": [
       "Trained DQN model with loss: 100.0188\n"
      ]
     },
     "metadata": {},
     "output_type": "display_data"
    },
    {
     "data": {
      "text/html": [
       "<pre style=\"white-space:pre;overflow-x:auto;line-height:normal;font-family:Menlo,'DejaVu Sans Mono',consolas,'Courier New',monospace\">Trained DQN model with loss: 100.0221\n",
       "</pre>\n"
      ],
      "text/plain": [
       "Trained DQN model with loss: 100.0221\n"
      ]
     },
     "metadata": {},
     "output_type": "display_data"
    },
    {
     "data": {
      "text/html": [
       "<pre style=\"white-space:pre;overflow-x:auto;line-height:normal;font-family:Menlo,'DejaVu Sans Mono',consolas,'Courier New',monospace\">Trained DQN model with loss: 99.8428\n",
       "</pre>\n"
      ],
      "text/plain": [
       "Trained DQN model with loss: 99.8428\n"
      ]
     },
     "metadata": {},
     "output_type": "display_data"
    },
    {
     "data": {
      "text/html": [
       "<pre style=\"white-space:pre;overflow-x:auto;line-height:normal;font-family:Menlo,'DejaVu Sans Mono',consolas,'Courier New',monospace\">Trained DQN model with loss: 100.1907\n",
       "</pre>\n"
      ],
      "text/plain": [
       "Trained DQN model with loss: 100.1907\n"
      ]
     },
     "metadata": {},
     "output_type": "display_data"
    },
    {
     "data": {
      "text/html": [
       "<pre style=\"white-space:pre;overflow-x:auto;line-height:normal;font-family:Menlo,'DejaVu Sans Mono',consolas,'Courier New',monospace\">Trained DQN model with loss: 99.9562\n",
       "</pre>\n"
      ],
      "text/plain": [
       "Trained DQN model with loss: 99.9562\n"
      ]
     },
     "metadata": {},
     "output_type": "display_data"
    },
    {
     "data": {
      "text/html": [
       "<pre style=\"white-space:pre;overflow-x:auto;line-height:normal;font-family:Menlo,'DejaVu Sans Mono',consolas,'Courier New',monospace\">Trained DQN model with loss: 99.8766\n",
       "</pre>\n"
      ],
      "text/plain": [
       "Trained DQN model with loss: 99.8766\n"
      ]
     },
     "metadata": {},
     "output_type": "display_data"
    },
    {
     "data": {
      "text/html": [
       "<pre style=\"white-space:pre;overflow-x:auto;line-height:normal;font-family:Menlo,'DejaVu Sans Mono',consolas,'Courier New',monospace\">Trained DQN model with loss: 99.9189\n",
       "</pre>\n"
      ],
      "text/plain": [
       "Trained DQN model with loss: 99.9189\n"
      ]
     },
     "metadata": {},
     "output_type": "display_data"
    },
    {
     "data": {
      "text/html": [
       "<pre style=\"white-space:pre;overflow-x:auto;line-height:normal;font-family:Menlo,'DejaVu Sans Mono',consolas,'Courier New',monospace\">Trained DQN model with loss: 99.9422\n",
       "</pre>\n"
      ],
      "text/plain": [
       "Trained DQN model with loss: 99.9422\n"
      ]
     },
     "metadata": {},
     "output_type": "display_data"
    },
    {
     "data": {
      "text/html": [
       "<pre style=\"white-space:pre;overflow-x:auto;line-height:normal;font-family:Menlo,'DejaVu Sans Mono',consolas,'Courier New',monospace\">Trained DQN model with loss: 99.8002\n",
       "</pre>\n"
      ],
      "text/plain": [
       "Trained DQN model with loss: 99.8002\n"
      ]
     },
     "metadata": {},
     "output_type": "display_data"
    },
    {
     "data": {
      "text/html": [
       "<pre style=\"white-space:pre;overflow-x:auto;line-height:normal;font-family:Menlo,'DejaVu Sans Mono',consolas,'Courier New',monospace\">Trained DQN model with loss: 99.8582\n",
       "</pre>\n"
      ],
      "text/plain": [
       "Trained DQN model with loss: 99.8582\n"
      ]
     },
     "metadata": {},
     "output_type": "display_data"
    },
    {
     "data": {
      "text/html": [
       "<pre style=\"white-space:pre;overflow-x:auto;line-height:normal;font-family:Menlo,'DejaVu Sans Mono',consolas,'Courier New',monospace\">Trained DQN model with loss: 99.8256\n",
       "</pre>\n"
      ],
      "text/plain": [
       "Trained DQN model with loss: 99.8256\n"
      ]
     },
     "metadata": {},
     "output_type": "display_data"
    },
    {
     "data": {
      "text/html": [
       "<pre style=\"white-space:pre;overflow-x:auto;line-height:normal;font-family:Menlo,'DejaVu Sans Mono',consolas,'Courier New',monospace\">Trained DQN model with loss: 99.8237\n",
       "</pre>\n"
      ],
      "text/plain": [
       "Trained DQN model with loss: 99.8237\n"
      ]
     },
     "metadata": {},
     "output_type": "display_data"
    },
    {
     "data": {
      "text/html": [
       "<pre style=\"white-space:pre;overflow-x:auto;line-height:normal;font-family:Menlo,'DejaVu Sans Mono',consolas,'Courier New',monospace\">Trained DQN model with loss: 99.9274\n",
       "</pre>\n"
      ],
      "text/plain": [
       "Trained DQN model with loss: 99.9274\n"
      ]
     },
     "metadata": {},
     "output_type": "display_data"
    },
    {
     "data": {
      "text/html": [
       "<pre style=\"white-space:pre;overflow-x:auto;line-height:normal;font-family:Menlo,'DejaVu Sans Mono',consolas,'Courier New',monospace\">Trained DQN model with loss: 100.1833\n",
       "</pre>\n"
      ],
      "text/plain": [
       "Trained DQN model with loss: 100.1833\n"
      ]
     },
     "metadata": {},
     "output_type": "display_data"
    },
    {
     "data": {
      "text/html": [
       "<pre style=\"white-space:pre;overflow-x:auto;line-height:normal;font-family:Menlo,'DejaVu Sans Mono',consolas,'Courier New',monospace\">Trained DQN model with loss: 100.0776\n",
       "</pre>\n"
      ],
      "text/plain": [
       "Trained DQN model with loss: 100.0776\n"
      ]
     },
     "metadata": {},
     "output_type": "display_data"
    },
    {
     "data": {
      "text/html": [
       "<pre style=\"white-space:pre;overflow-x:auto;line-height:normal;font-family:Menlo,'DejaVu Sans Mono',consolas,'Courier New',monospace\">Trained DQN model with loss: 99.6562\n",
       "</pre>\n"
      ],
      "text/plain": [
       "Trained DQN model with loss: 99.6562\n"
      ]
     },
     "metadata": {},
     "output_type": "display_data"
    },
    {
     "data": {
      "text/html": [
       "<pre style=\"white-space:pre;overflow-x:auto;line-height:normal;font-family:Menlo,'DejaVu Sans Mono',consolas,'Courier New',monospace\">Trained DQN model with loss: 99.9138\n",
       "</pre>\n"
      ],
      "text/plain": [
       "Trained DQN model with loss: 99.9138\n"
      ]
     },
     "metadata": {},
     "output_type": "display_data"
    },
    {
     "data": {
      "text/html": [
       "<pre style=\"white-space:pre;overflow-x:auto;line-height:normal;font-family:Menlo,'DejaVu Sans Mono',consolas,'Courier New',monospace\">Trained DQN model with loss: 99.9805\n",
       "</pre>\n"
      ],
      "text/plain": [
       "Trained DQN model with loss: 99.9805\n"
      ]
     },
     "metadata": {},
     "output_type": "display_data"
    },
    {
     "data": {
      "text/html": [
       "<pre style=\"white-space:pre;overflow-x:auto;line-height:normal;font-family:Menlo,'DejaVu Sans Mono',consolas,'Courier New',monospace\">Trained DQN model with loss: 100.0483\n",
       "</pre>\n"
      ],
      "text/plain": [
       "Trained DQN model with loss: 100.0483\n"
      ]
     },
     "metadata": {},
     "output_type": "display_data"
    },
    {
     "data": {
      "text/html": [
       "<pre style=\"white-space:pre;overflow-x:auto;line-height:normal;font-family:Menlo,'DejaVu Sans Mono',consolas,'Courier New',monospace\">Trained DQN model with loss: 99.9529\n",
       "</pre>\n"
      ],
      "text/plain": [
       "Trained DQN model with loss: 99.9529\n"
      ]
     },
     "metadata": {},
     "output_type": "display_data"
    },
    {
     "data": {
      "text/html": [
       "<pre style=\"white-space:pre;overflow-x:auto;line-height:normal;font-family:Menlo,'DejaVu Sans Mono',consolas,'Courier New',monospace\">Trained DQN model with loss: 99.9716\n",
       "</pre>\n"
      ],
      "text/plain": [
       "Trained DQN model with loss: 99.9716\n"
      ]
     },
     "metadata": {},
     "output_type": "display_data"
    },
    {
     "data": {
      "text/html": [
       "<pre style=\"white-space:pre;overflow-x:auto;line-height:normal;font-family:Menlo,'DejaVu Sans Mono',consolas,'Courier New',monospace\">Trained DQN model with loss: 99.9502\n",
       "</pre>\n"
      ],
      "text/plain": [
       "Trained DQN model with loss: 99.9502\n"
      ]
     },
     "metadata": {},
     "output_type": "display_data"
    },
    {
     "data": {
      "text/html": [
       "<pre style=\"white-space:pre;overflow-x:auto;line-height:normal;font-family:Menlo,'DejaVu Sans Mono',consolas,'Courier New',monospace\">Trained DQN model with loss: 100.1696\n",
       "</pre>\n"
      ],
      "text/plain": [
       "Trained DQN model with loss: 100.1696\n"
      ]
     },
     "metadata": {},
     "output_type": "display_data"
    },
    {
     "data": {
      "text/html": [
       "<pre style=\"white-space:pre;overflow-x:auto;line-height:normal;font-family:Menlo,'DejaVu Sans Mono',consolas,'Courier New',monospace\">Trained DQN model with loss: 99.8685\n",
       "</pre>\n"
      ],
      "text/plain": [
       "Trained DQN model with loss: 99.8685\n"
      ]
     },
     "metadata": {},
     "output_type": "display_data"
    },
    {
     "data": {
      "text/html": [
       "<pre style=\"white-space:pre;overflow-x:auto;line-height:normal;font-family:Menlo,'DejaVu Sans Mono',consolas,'Courier New',monospace\">Trained DQN model with loss: 100.0422\n",
       "</pre>\n"
      ],
      "text/plain": [
       "Trained DQN model with loss: 100.0422\n"
      ]
     },
     "metadata": {},
     "output_type": "display_data"
    },
    {
     "data": {
      "text/html": [
       "<pre style=\"white-space:pre;overflow-x:auto;line-height:normal;font-family:Menlo,'DejaVu Sans Mono',consolas,'Courier New',monospace\">Trained DQN model with loss: 100.1806\n",
       "</pre>\n"
      ],
      "text/plain": [
       "Trained DQN model with loss: 100.1806\n"
      ]
     },
     "metadata": {},
     "output_type": "display_data"
    },
    {
     "data": {
      "text/html": [
       "<pre style=\"white-space:pre;overflow-x:auto;line-height:normal;font-family:Menlo,'DejaVu Sans Mono',consolas,'Courier New',monospace\">Trained DQN model with loss: 99.9025\n",
       "</pre>\n"
      ],
      "text/plain": [
       "Trained DQN model with loss: 99.9025\n"
      ]
     },
     "metadata": {},
     "output_type": "display_data"
    },
    {
     "data": {
      "text/html": [
       "<pre style=\"white-space:pre;overflow-x:auto;line-height:normal;font-family:Menlo,'DejaVu Sans Mono',consolas,'Courier New',monospace\">Trained DQN model with loss: 100.0593\n",
       "</pre>\n"
      ],
      "text/plain": [
       "Trained DQN model with loss: 100.0593\n"
      ]
     },
     "metadata": {},
     "output_type": "display_data"
    },
    {
     "data": {
      "text/html": [
       "<pre style=\"white-space:pre;overflow-x:auto;line-height:normal;font-family:Menlo,'DejaVu Sans Mono',consolas,'Courier New',monospace\">Trained DQN model with loss: 100.0923\n",
       "</pre>\n"
      ],
      "text/plain": [
       "Trained DQN model with loss: 100.0923\n"
      ]
     },
     "metadata": {},
     "output_type": "display_data"
    },
    {
     "data": {
      "text/html": [
       "<pre style=\"white-space:pre;overflow-x:auto;line-height:normal;font-family:Menlo,'DejaVu Sans Mono',consolas,'Courier New',monospace\">Trained DQN model with loss: 100.0339\n",
       "</pre>\n"
      ],
      "text/plain": [
       "Trained DQN model with loss: 100.0339\n"
      ]
     },
     "metadata": {},
     "output_type": "display_data"
    },
    {
     "data": {
      "text/html": [
       "<pre style=\"white-space:pre;overflow-x:auto;line-height:normal;font-family:Menlo,'DejaVu Sans Mono',consolas,'Courier New',monospace\">Trained DQN model with loss: 100.0336\n",
       "</pre>\n"
      ],
      "text/plain": [
       "Trained DQN model with loss: 100.0336\n"
      ]
     },
     "metadata": {},
     "output_type": "display_data"
    },
    {
     "data": {
      "text/html": [
       "<pre style=\"white-space:pre;overflow-x:auto;line-height:normal;font-family:Menlo,'DejaVu Sans Mono',consolas,'Courier New',monospace\">Trained DQN model with loss: 100.0223\n",
       "</pre>\n"
      ],
      "text/plain": [
       "Trained DQN model with loss: 100.0223\n"
      ]
     },
     "metadata": {},
     "output_type": "display_data"
    },
    {
     "data": {
      "text/html": [
       "<pre style=\"white-space:pre;overflow-x:auto;line-height:normal;font-family:Menlo,'DejaVu Sans Mono',consolas,'Courier New',monospace\">Trained DQN model with loss: 99.8342\n",
       "</pre>\n"
      ],
      "text/plain": [
       "Trained DQN model with loss: 99.8342\n"
      ]
     },
     "metadata": {},
     "output_type": "display_data"
    },
    {
     "data": {
      "text/html": [
       "<pre style=\"white-space:pre;overflow-x:auto;line-height:normal;font-family:Menlo,'DejaVu Sans Mono',consolas,'Courier New',monospace\">Trained DQN model with loss: 100.2294\n",
       "</pre>\n"
      ],
      "text/plain": [
       "Trained DQN model with loss: 100.2294\n"
      ]
     },
     "metadata": {},
     "output_type": "display_data"
    },
    {
     "data": {
      "text/html": [
       "<pre style=\"white-space:pre;overflow-x:auto;line-height:normal;font-family:Menlo,'DejaVu Sans Mono',consolas,'Courier New',monospace\">Trained DQN model with loss: 100.0208\n",
       "</pre>\n"
      ],
      "text/plain": [
       "Trained DQN model with loss: 100.0208\n"
      ]
     },
     "metadata": {},
     "output_type": "display_data"
    },
    {
     "data": {
      "text/html": [
       "<pre style=\"white-space:pre;overflow-x:auto;line-height:normal;font-family:Menlo,'DejaVu Sans Mono',consolas,'Courier New',monospace\">Trained DQN model with loss: 99.9843\n",
       "</pre>\n"
      ],
      "text/plain": [
       "Trained DQN model with loss: 99.9843\n"
      ]
     },
     "metadata": {},
     "output_type": "display_data"
    },
    {
     "data": {
      "text/html": [
       "<pre style=\"white-space:pre;overflow-x:auto;line-height:normal;font-family:Menlo,'DejaVu Sans Mono',consolas,'Courier New',monospace\">Trained DQN model with loss: 100.1024\n",
       "</pre>\n"
      ],
      "text/plain": [
       "Trained DQN model with loss: 100.1024\n"
      ]
     },
     "metadata": {},
     "output_type": "display_data"
    },
    {
     "data": {
      "text/html": [
       "<pre style=\"white-space:pre;overflow-x:auto;line-height:normal;font-family:Menlo,'DejaVu Sans Mono',consolas,'Courier New',monospace\">Trained DQN model with loss: 99.9840\n",
       "</pre>\n"
      ],
      "text/plain": [
       "Trained DQN model with loss: 99.9840\n"
      ]
     },
     "metadata": {},
     "output_type": "display_data"
    },
    {
     "data": {
      "text/html": [
       "<pre style=\"white-space:pre;overflow-x:auto;line-height:normal;font-family:Menlo,'DejaVu Sans Mono',consolas,'Courier New',monospace\">Trained DQN model with loss: 99.8798\n",
       "</pre>\n"
      ],
      "text/plain": [
       "Trained DQN model with loss: 99.8798\n"
      ]
     },
     "metadata": {},
     "output_type": "display_data"
    },
    {
     "data": {
      "text/html": [
       "<pre style=\"white-space:pre;overflow-x:auto;line-height:normal;font-family:Menlo,'DejaVu Sans Mono',consolas,'Courier New',monospace\">Trained DQN model with loss: 100.0439\n",
       "</pre>\n"
      ],
      "text/plain": [
       "Trained DQN model with loss: 100.0439\n"
      ]
     },
     "metadata": {},
     "output_type": "display_data"
    },
    {
     "data": {
      "text/html": [
       "<pre style=\"white-space:pre;overflow-x:auto;line-height:normal;font-family:Menlo,'DejaVu Sans Mono',consolas,'Courier New',monospace\">Trained DQN model with loss: 99.9070\n",
       "</pre>\n"
      ],
      "text/plain": [
       "Trained DQN model with loss: 99.9070\n"
      ]
     },
     "metadata": {},
     "output_type": "display_data"
    },
    {
     "data": {
      "text/html": [
       "<pre style=\"white-space:pre;overflow-x:auto;line-height:normal;font-family:Menlo,'DejaVu Sans Mono',consolas,'Courier New',monospace\">Trained DQN model with loss: 99.8532\n",
       "</pre>\n"
      ],
      "text/plain": [
       "Trained DQN model with loss: 99.8532\n"
      ]
     },
     "metadata": {},
     "output_type": "display_data"
    },
    {
     "data": {
      "text/html": [
       "<pre style=\"white-space:pre;overflow-x:auto;line-height:normal;font-family:Menlo,'DejaVu Sans Mono',consolas,'Courier New',monospace\">Trained DQN model with loss: 100.0457\n",
       "</pre>\n"
      ],
      "text/plain": [
       "Trained DQN model with loss: 100.0457\n"
      ]
     },
     "metadata": {},
     "output_type": "display_data"
    },
    {
     "data": {
      "text/html": [
       "<pre style=\"white-space:pre;overflow-x:auto;line-height:normal;font-family:Menlo,'DejaVu Sans Mono',consolas,'Courier New',monospace\">Trained DQN model with loss: 100.0005\n",
       "</pre>\n"
      ],
      "text/plain": [
       "Trained DQN model with loss: 100.0005\n"
      ]
     },
     "metadata": {},
     "output_type": "display_data"
    },
    {
     "data": {
      "text/html": [
       "<pre style=\"white-space:pre;overflow-x:auto;line-height:normal;font-family:Menlo,'DejaVu Sans Mono',consolas,'Courier New',monospace\">Trained DQN model with loss: 100.1652\n",
       "</pre>\n"
      ],
      "text/plain": [
       "Trained DQN model with loss: 100.1652\n"
      ]
     },
     "metadata": {},
     "output_type": "display_data"
    },
    {
     "data": {
      "text/html": [
       "<pre style=\"white-space:pre;overflow-x:auto;line-height:normal;font-family:Menlo,'DejaVu Sans Mono',consolas,'Courier New',monospace\">Trained DQN model with loss: 99.8332\n",
       "</pre>\n"
      ],
      "text/plain": [
       "Trained DQN model with loss: 99.8332\n"
      ]
     },
     "metadata": {},
     "output_type": "display_data"
    },
    {
     "data": {
      "text/html": [
       "<pre style=\"white-space:pre;overflow-x:auto;line-height:normal;font-family:Menlo,'DejaVu Sans Mono',consolas,'Courier New',monospace\">Trained DQN model with loss: 99.8855\n",
       "</pre>\n"
      ],
      "text/plain": [
       "Trained DQN model with loss: 99.8855\n"
      ]
     },
     "metadata": {},
     "output_type": "display_data"
    },
    {
     "data": {
      "text/html": [
       "<pre style=\"white-space:pre;overflow-x:auto;line-height:normal;font-family:Menlo,'DejaVu Sans Mono',consolas,'Courier New',monospace\">Trained DQN model with loss: 100.0074\n",
       "</pre>\n"
      ],
      "text/plain": [
       "Trained DQN model with loss: 100.0074\n"
      ]
     },
     "metadata": {},
     "output_type": "display_data"
    },
    {
     "data": {
      "text/html": [
       "<pre style=\"white-space:pre;overflow-x:auto;line-height:normal;font-family:Menlo,'DejaVu Sans Mono',consolas,'Courier New',monospace\">Trained DQN model with loss: 100.0819\n",
       "</pre>\n"
      ],
      "text/plain": [
       "Trained DQN model with loss: 100.0819\n"
      ]
     },
     "metadata": {},
     "output_type": "display_data"
    },
    {
     "data": {
      "text/html": [
       "<pre style=\"white-space:pre;overflow-x:auto;line-height:normal;font-family:Menlo,'DejaVu Sans Mono',consolas,'Courier New',monospace\">Trained DQN model with loss: 100.1196\n",
       "</pre>\n"
      ],
      "text/plain": [
       "Trained DQN model with loss: 100.1196\n"
      ]
     },
     "metadata": {},
     "output_type": "display_data"
    },
    {
     "data": {
      "text/html": [
       "<pre style=\"white-space:pre;overflow-x:auto;line-height:normal;font-family:Menlo,'DejaVu Sans Mono',consolas,'Courier New',monospace\">Trained DQN model with loss: 100.0171\n",
       "</pre>\n"
      ],
      "text/plain": [
       "Trained DQN model with loss: 100.0171\n"
      ]
     },
     "metadata": {},
     "output_type": "display_data"
    },
    {
     "data": {
      "text/html": [
       "<pre style=\"white-space:pre;overflow-x:auto;line-height:normal;font-family:Menlo,'DejaVu Sans Mono',consolas,'Courier New',monospace\"></pre>\n"
      ],
      "text/plain": []
     },
     "metadata": {},
     "output_type": "display_data"
    },
    {
     "data": {
      "text/html": [
       "<pre style=\"white-space:pre;overflow-x:auto;line-height:normal;font-family:Menlo,'DejaVu Sans Mono',consolas,'Courier New',monospace\">\n",
       "</pre>\n"
      ],
      "text/plain": [
       "\n"
      ]
     },
     "metadata": {},
     "output_type": "display_data"
    },
    {
     "data": {
      "text/html": [
       "<pre style=\"white-space:pre;overflow-x:auto;line-height:normal;font-family:Menlo,'DejaVu Sans Mono',consolas,'Courier New',monospace\"><span style=\"font-style: italic\">                                      Last 1 Games                                      </span>\n",
       "    ╷                       ╷       ╷           ╷          ╷        ╷         ╷         \n",
       " <span style=\"font-weight: bold\"> # </span>│<span style=\"font-weight: bold\"> SEATING               </span>│<span style=\"font-weight: bold\"> TURNS </span>│<span style=\"font-weight: bold\"> ORANGE VP </span>│<span style=\"font-weight: bold\"> WHITE VP </span>│<span style=\"font-weight: bold\"> RED VP </span>│<span style=\"font-weight: bold\"> BLUE VP </span>│<span style=\"font-weight: bold\"> WINNER </span> \n",
       "╶───┼───────────────────────┼───────┼───────────┼──────────┼────────┼─────────┼────────╴\n",
       "  1 │ <span style=\"color: #800000; text-decoration-color: #800000\">RED</span>,<span style=\"color: #000080; text-decoration-color: #000080\">BLUE</span>,<span style=\"color: #c0c0c0; text-decoration-color: #c0c0c0\">WHITE</span>,<span style=\"color: #808000; text-decoration-color: #808000\">ORANGE</span> │   415 │         3 │        9 │      2 │      10 │ <span style=\"color: #000080; text-decoration-color: #000080\">BLUE</span>    \n",
       "    ╵                       ╵       ╵           ╵          ╵        ╵         ╵         \n",
       "</pre>\n"
      ],
      "text/plain": [
       "\u001b[3m                                      Last 1 Games                                      \u001b[0m\n",
       "    ╷                       ╷       ╷           ╷          ╷        ╷         ╷         \n",
       " \u001b[1m \u001b[0m\u001b[1m#\u001b[0m\u001b[1m \u001b[0m│\u001b[1m \u001b[0m\u001b[1mSEATING              \u001b[0m\u001b[1m \u001b[0m│\u001b[1m \u001b[0m\u001b[1mTURNS\u001b[0m\u001b[1m \u001b[0m│\u001b[1m \u001b[0m\u001b[1mORANGE VP\u001b[0m\u001b[1m \u001b[0m│\u001b[1m \u001b[0m\u001b[1mWHITE VP\u001b[0m\u001b[1m \u001b[0m│\u001b[1m \u001b[0m\u001b[1mRED VP\u001b[0m\u001b[1m \u001b[0m│\u001b[1m \u001b[0m\u001b[1mBLUE VP\u001b[0m\u001b[1m \u001b[0m│\u001b[1m \u001b[0m\u001b[1mWINNER\u001b[0m\u001b[1m \u001b[0m \n",
       "╶───┼───────────────────────┼───────┼───────────┼──────────┼────────┼─────────┼────────╴\n",
       "  1 │ \u001b[31mRED\u001b[0m,\u001b[34mBLUE\u001b[0m,\u001b[37mWHITE\u001b[0m,\u001b[33mORANGE\u001b[0m │   415 │         3 │        9 │      2 │      10 │ \u001b[34mBLUE\u001b[0m    \n",
       "    ╵                       ╵       ╵           ╵          ╵        ╵         ╵         \n"
      ]
     },
     "metadata": {},
     "output_type": "display_data"
    },
    {
     "data": {
      "text/html": [
       "<pre style=\"white-space:pre;overflow-x:auto;line-height:normal;font-family:Menlo,'DejaVu Sans Mono',consolas,'Courier New',monospace\"><span style=\"font-style: italic\">                                              Player Summary                                               </span>\n",
       "                            ╷      ╷        ╷             ╷            ╷          ╷          ╷             \n",
       " <span style=\"font-weight: bold\">                           </span>│<span style=\"font-weight: bold\"> WINS </span>│<span style=\"font-weight: bold\"> AVG VP </span>│<span style=\"font-weight: bold\"> AVG SETTLES </span>│<span style=\"font-weight: bold\"> AVG CITIES </span>│<span style=\"font-weight: bold\"> AVG ROAD </span>│<span style=\"font-weight: bold\"> AVG ARMY </span>│<span style=\"font-weight: bold\"> AVG DEV VP </span> \n",
       "╶───────────────────────────┼──────┼────────┼─────────────┼────────────┼──────────┼──────────┼────────────╴\n",
       "  <span style=\"color: #808000; text-decoration-color: #808000\">RandomPlayer:ORANGE</span>       │    0 │   3.00 │        2.00 │       0.00 │     0.00 │     0.00 │       1.00  \n",
       "  <span style=\"color: #c0c0c0; text-decoration-color: #c0c0c0\">RandomPlayer:WHITE</span>        │    0 │   9.00 │        3.00 │       1.00 │     1.00 │     0.00 │       2.00  \n",
       "  <span style=\"color: #800000; text-decoration-color: #800000\">AB_DQNPlayer_1:RED</span>        │    0 │   2.00 │        2.00 │       0.00 │     0.00 │     0.00 │       0.00  \n",
       "  <span style=\"color: #000080; text-decoration-color: #000080\">WeightedRandomPlayer:BLUE</span> │    1 │  10.00 │        5.00 │       1.00 │     0.00 │     1.00 │       1.00  \n",
       "                            ╵      ╵        ╵             ╵            ╵          ╵          ╵             \n",
       "</pre>\n"
      ],
      "text/plain": [
       "\u001b[3m                                              Player Summary                                               \u001b[0m\n",
       "                            ╷      ╷        ╷             ╷            ╷          ╷          ╷             \n",
       " \u001b[1m \u001b[0m\u001b[1m                         \u001b[0m\u001b[1m \u001b[0m│\u001b[1m \u001b[0m\u001b[1mWINS\u001b[0m\u001b[1m \u001b[0m│\u001b[1m \u001b[0m\u001b[1mAVG VP\u001b[0m\u001b[1m \u001b[0m│\u001b[1m \u001b[0m\u001b[1mAVG SETTLES\u001b[0m\u001b[1m \u001b[0m│\u001b[1m \u001b[0m\u001b[1mAVG CITIES\u001b[0m\u001b[1m \u001b[0m│\u001b[1m \u001b[0m\u001b[1mAVG ROAD\u001b[0m\u001b[1m \u001b[0m│\u001b[1m \u001b[0m\u001b[1mAVG ARMY\u001b[0m\u001b[1m \u001b[0m│\u001b[1m \u001b[0m\u001b[1mAVG DEV VP\u001b[0m\u001b[1m \u001b[0m \n",
       "╶───────────────────────────┼──────┼────────┼─────────────┼────────────┼──────────┼──────────┼────────────╴\n",
       "  \u001b[33mRandomPlayer:ORANGE\u001b[0m       │    0 │   3.00 │        2.00 │       0.00 │     0.00 │     0.00 │       1.00  \n",
       "  \u001b[37mRandomPlayer:WHITE\u001b[0m        │    0 │   9.00 │        3.00 │       1.00 │     1.00 │     0.00 │       2.00  \n",
       "  \u001b[31mAB_DQNPlayer_1:RED\u001b[0m        │    0 │   2.00 │        2.00 │       0.00 │     0.00 │     0.00 │       0.00  \n",
       "  \u001b[34mWeightedRandomPlayer:BLUE\u001b[0m │    1 │  10.00 │        5.00 │       1.00 │     0.00 │     1.00 │       1.00  \n",
       "                            ╵      ╵        ╵             ╵            ╵          ╵          ╵             \n"
      ]
     },
     "metadata": {},
     "output_type": "display_data"
    },
    {
     "data": {
      "text/html": [
       "<pre style=\"white-space:pre;overflow-x:auto;line-height:normal;font-family:Menlo,'DejaVu Sans Mono',consolas,'Courier New',monospace\"><span style=\"font-style: italic\">              Game Summary              </span>\n",
       "            ╷           ╷               \n",
       " <span style=\"font-weight: bold\"> AVG TICKS </span>│<span style=\"font-weight: bold\"> AVG TURNS </span>│<span style=\"font-weight: bold\"> AVG DURATION </span> \n",
       "╶───────────┼───────────┼──────────────╴\n",
       "    1181.00 │    415.00 │  14.476 secs  \n",
       "            ╵           ╵               \n",
       "</pre>\n"
      ],
      "text/plain": [
       "\u001b[3m              Game Summary              \u001b[0m\n",
       "            ╷           ╷               \n",
       " \u001b[1m \u001b[0m\u001b[1mAVG TICKS\u001b[0m\u001b[1m \u001b[0m│\u001b[1m \u001b[0m\u001b[1mAVG TURNS\u001b[0m\u001b[1m \u001b[0m│\u001b[1m \u001b[0m\u001b[1mAVG DURATION\u001b[0m\u001b[1m \u001b[0m \n",
       "╶───────────┼───────────┼──────────────╴\n",
       "    1181.00 │    415.00 │  14.476 secs  \n",
       "            ╵           ╵               \n"
      ]
     },
     "metadata": {},
     "output_type": "display_data"
    },
    {
     "data": {
      "text/html": [
       "<pre style=\"white-space:pre;overflow-x:auto;line-height:normal;font-family:Menlo,'DejaVu Sans Mono',consolas,'Courier New',monospace\">Trained DQN model with loss: 99.7186\n",
       "</pre>\n"
      ],
      "text/plain": [
       "Trained DQN model with loss: 99.7186\n"
      ]
     },
     "metadata": {},
     "output_type": "display_data"
    },
    {
     "data": {
      "text/html": [
       "<pre style=\"white-space:pre;overflow-x:auto;line-height:normal;font-family:Menlo,'DejaVu Sans Mono',consolas,'Courier New',monospace\">Trained DQN model with loss: 100.0543\n",
       "</pre>\n"
      ],
      "text/plain": [
       "Trained DQN model with loss: 100.0543\n"
      ]
     },
     "metadata": {},
     "output_type": "display_data"
    },
    {
     "data": {
      "text/html": [
       "<pre style=\"white-space:pre;overflow-x:auto;line-height:normal;font-family:Menlo,'DejaVu Sans Mono',consolas,'Courier New',monospace\">Trained DQN model with loss: 99.9062\n",
       "</pre>\n"
      ],
      "text/plain": [
       "Trained DQN model with loss: 99.9062\n"
      ]
     },
     "metadata": {},
     "output_type": "display_data"
    },
    {
     "data": {
      "text/html": [
       "<pre style=\"white-space:pre;overflow-x:auto;line-height:normal;font-family:Menlo,'DejaVu Sans Mono',consolas,'Courier New',monospace\">Trained DQN model with loss: 100.1263\n",
       "</pre>\n"
      ],
      "text/plain": [
       "Trained DQN model with loss: 100.1263\n"
      ]
     },
     "metadata": {},
     "output_type": "display_data"
    },
    {
     "data": {
      "text/html": [
       "<pre style=\"white-space:pre;overflow-x:auto;line-height:normal;font-family:Menlo,'DejaVu Sans Mono',consolas,'Courier New',monospace\">Trained DQN model with loss: 100.1790\n",
       "</pre>\n"
      ],
      "text/plain": [
       "Trained DQN model with loss: 100.1790\n"
      ]
     },
     "metadata": {},
     "output_type": "display_data"
    },
    {
     "data": {
      "text/html": [
       "<pre style=\"white-space:pre;overflow-x:auto;line-height:normal;font-family:Menlo,'DejaVu Sans Mono',consolas,'Courier New',monospace\">Trained DQN model with loss: 100.2259\n",
       "</pre>\n"
      ],
      "text/plain": [
       "Trained DQN model with loss: 100.2259\n"
      ]
     },
     "metadata": {},
     "output_type": "display_data"
    },
    {
     "data": {
      "text/html": [
       "<pre style=\"white-space:pre;overflow-x:auto;line-height:normal;font-family:Menlo,'DejaVu Sans Mono',consolas,'Courier New',monospace\">Trained DQN model with loss: 100.3575\n",
       "</pre>\n"
      ],
      "text/plain": [
       "Trained DQN model with loss: 100.3575\n"
      ]
     },
     "metadata": {},
     "output_type": "display_data"
    },
    {
     "data": {
      "text/html": [
       "<pre style=\"white-space:pre;overflow-x:auto;line-height:normal;font-family:Menlo,'DejaVu Sans Mono',consolas,'Courier New',monospace\">Trained DQN model with loss: 100.1553\n",
       "</pre>\n"
      ],
      "text/plain": [
       "Trained DQN model with loss: 100.1553\n"
      ]
     },
     "metadata": {},
     "output_type": "display_data"
    },
    {
     "data": {
      "text/html": [
       "<pre style=\"white-space:pre;overflow-x:auto;line-height:normal;font-family:Menlo,'DejaVu Sans Mono',consolas,'Courier New',monospace\">Trained DQN model with loss: 100.1641\n",
       "</pre>\n"
      ],
      "text/plain": [
       "Trained DQN model with loss: 100.1641\n"
      ]
     },
     "metadata": {},
     "output_type": "display_data"
    },
    {
     "data": {
      "text/html": [
       "<pre style=\"white-space:pre;overflow-x:auto;line-height:normal;font-family:Menlo,'DejaVu Sans Mono',consolas,'Courier New',monospace\">Trained DQN model with loss: 99.9306\n",
       "</pre>\n"
      ],
      "text/plain": [
       "Trained DQN model with loss: 99.9306\n"
      ]
     },
     "metadata": {},
     "output_type": "display_data"
    },
    {
     "data": {
      "text/html": [
       "<pre style=\"white-space:pre;overflow-x:auto;line-height:normal;font-family:Menlo,'DejaVu Sans Mono',consolas,'Courier New',monospace\">Trained DQN model with loss: 99.8473\n",
       "</pre>\n"
      ],
      "text/plain": [
       "Trained DQN model with loss: 99.8473\n"
      ]
     },
     "metadata": {},
     "output_type": "display_data"
    },
    {
     "data": {
      "text/html": [
       "<pre style=\"white-space:pre;overflow-x:auto;line-height:normal;font-family:Menlo,'DejaVu Sans Mono',consolas,'Courier New',monospace\">Trained DQN model with loss: 99.9519\n",
       "</pre>\n"
      ],
      "text/plain": [
       "Trained DQN model with loss: 99.9519\n"
      ]
     },
     "metadata": {},
     "output_type": "display_data"
    },
    {
     "data": {
      "text/html": [
       "<pre style=\"white-space:pre;overflow-x:auto;line-height:normal;font-family:Menlo,'DejaVu Sans Mono',consolas,'Courier New',monospace\">Trained DQN model with loss: 99.9241\n",
       "</pre>\n"
      ],
      "text/plain": [
       "Trained DQN model with loss: 99.9241\n"
      ]
     },
     "metadata": {},
     "output_type": "display_data"
    },
    {
     "data": {
      "text/html": [
       "<pre style=\"white-space:pre;overflow-x:auto;line-height:normal;font-family:Menlo,'DejaVu Sans Mono',consolas,'Courier New',monospace\">Trained DQN model with loss: 99.9343\n",
       "</pre>\n"
      ],
      "text/plain": [
       "Trained DQN model with loss: 99.9343\n"
      ]
     },
     "metadata": {},
     "output_type": "display_data"
    },
    {
     "data": {
      "text/html": [
       "<pre style=\"white-space:pre;overflow-x:auto;line-height:normal;font-family:Menlo,'DejaVu Sans Mono',consolas,'Courier New',monospace\">Trained DQN model with loss: 100.1781\n",
       "</pre>\n"
      ],
      "text/plain": [
       "Trained DQN model with loss: 100.1781\n"
      ]
     },
     "metadata": {},
     "output_type": "display_data"
    },
    {
     "data": {
      "text/html": [
       "<pre style=\"white-space:pre;overflow-x:auto;line-height:normal;font-family:Menlo,'DejaVu Sans Mono',consolas,'Courier New',monospace\">Trained DQN model with loss: 100.1894\n",
       "</pre>\n"
      ],
      "text/plain": [
       "Trained DQN model with loss: 100.1894\n"
      ]
     },
     "metadata": {},
     "output_type": "display_data"
    },
    {
     "data": {
      "text/html": [
       "<pre style=\"white-space:pre;overflow-x:auto;line-height:normal;font-family:Menlo,'DejaVu Sans Mono',consolas,'Courier New',monospace\">Trained DQN model with loss: 100.0742\n",
       "</pre>\n"
      ],
      "text/plain": [
       "Trained DQN model with loss: 100.0742\n"
      ]
     },
     "metadata": {},
     "output_type": "display_data"
    },
    {
     "data": {
      "text/html": [
       "<pre style=\"white-space:pre;overflow-x:auto;line-height:normal;font-family:Menlo,'DejaVu Sans Mono',consolas,'Courier New',monospace\">Trained DQN model with loss: 100.0853\n",
       "</pre>\n"
      ],
      "text/plain": [
       "Trained DQN model with loss: 100.0853\n"
      ]
     },
     "metadata": {},
     "output_type": "display_data"
    },
    {
     "data": {
      "text/html": [
       "<pre style=\"white-space:pre;overflow-x:auto;line-height:normal;font-family:Menlo,'DejaVu Sans Mono',consolas,'Courier New',monospace\">Trained DQN model with loss: 100.1833\n",
       "</pre>\n"
      ],
      "text/plain": [
       "Trained DQN model with loss: 100.1833\n"
      ]
     },
     "metadata": {},
     "output_type": "display_data"
    },
    {
     "data": {
      "text/html": [
       "<pre style=\"white-space:pre;overflow-x:auto;line-height:normal;font-family:Menlo,'DejaVu Sans Mono',consolas,'Courier New',monospace\">Trained DQN model with loss: 99.9237\n",
       "</pre>\n"
      ],
      "text/plain": [
       "Trained DQN model with loss: 99.9237\n"
      ]
     },
     "metadata": {},
     "output_type": "display_data"
    },
    {
     "data": {
      "text/html": [
       "<pre style=\"white-space:pre;overflow-x:auto;line-height:normal;font-family:Menlo,'DejaVu Sans Mono',consolas,'Courier New',monospace\">Trained DQN model with loss: 99.9857\n",
       "</pre>\n"
      ],
      "text/plain": [
       "Trained DQN model with loss: 99.9857\n"
      ]
     },
     "metadata": {},
     "output_type": "display_data"
    },
    {
     "data": {
      "text/html": [
       "<pre style=\"white-space:pre;overflow-x:auto;line-height:normal;font-family:Menlo,'DejaVu Sans Mono',consolas,'Courier New',monospace\">Trained DQN model with loss: 99.9442\n",
       "</pre>\n"
      ],
      "text/plain": [
       "Trained DQN model with loss: 99.9442\n"
      ]
     },
     "metadata": {},
     "output_type": "display_data"
    },
    {
     "data": {
      "text/html": [
       "<pre style=\"white-space:pre;overflow-x:auto;line-height:normal;font-family:Menlo,'DejaVu Sans Mono',consolas,'Courier New',monospace\">Trained DQN model with loss: 100.0013\n",
       "</pre>\n"
      ],
      "text/plain": [
       "Trained DQN model with loss: 100.0013\n"
      ]
     },
     "metadata": {},
     "output_type": "display_data"
    },
    {
     "data": {
      "text/html": [
       "<pre style=\"white-space:pre;overflow-x:auto;line-height:normal;font-family:Menlo,'DejaVu Sans Mono',consolas,'Courier New',monospace\">Trained DQN model with loss: 100.0193\n",
       "</pre>\n"
      ],
      "text/plain": [
       "Trained DQN model with loss: 100.0193\n"
      ]
     },
     "metadata": {},
     "output_type": "display_data"
    },
    {
     "data": {
      "text/html": [
       "<pre style=\"white-space:pre;overflow-x:auto;line-height:normal;font-family:Menlo,'DejaVu Sans Mono',consolas,'Courier New',monospace\">Trained DQN model with loss: 99.8041\n",
       "</pre>\n"
      ],
      "text/plain": [
       "Trained DQN model with loss: 99.8041\n"
      ]
     },
     "metadata": {},
     "output_type": "display_data"
    },
    {
     "data": {
      "text/html": [
       "<pre style=\"white-space:pre;overflow-x:auto;line-height:normal;font-family:Menlo,'DejaVu Sans Mono',consolas,'Courier New',monospace\">Trained DQN model with loss: 100.0103\n",
       "</pre>\n"
      ],
      "text/plain": [
       "Trained DQN model with loss: 100.0103\n"
      ]
     },
     "metadata": {},
     "output_type": "display_data"
    },
    {
     "data": {
      "text/html": [
       "<pre style=\"white-space:pre;overflow-x:auto;line-height:normal;font-family:Menlo,'DejaVu Sans Mono',consolas,'Courier New',monospace\">Trained DQN model with loss: 99.8939\n",
       "</pre>\n"
      ],
      "text/plain": [
       "Trained DQN model with loss: 99.8939\n"
      ]
     },
     "metadata": {},
     "output_type": "display_data"
    },
    {
     "data": {
      "text/html": [
       "<pre style=\"white-space:pre;overflow-x:auto;line-height:normal;font-family:Menlo,'DejaVu Sans Mono',consolas,'Courier New',monospace\">Trained DQN model with loss: 100.0108\n",
       "</pre>\n"
      ],
      "text/plain": [
       "Trained DQN model with loss: 100.0108\n"
      ]
     },
     "metadata": {},
     "output_type": "display_data"
    },
    {
     "data": {
      "text/html": [
       "<pre style=\"white-space:pre;overflow-x:auto;line-height:normal;font-family:Menlo,'DejaVu Sans Mono',consolas,'Courier New',monospace\">Trained DQN model with loss: 100.0554\n",
       "</pre>\n"
      ],
      "text/plain": [
       "Trained DQN model with loss: 100.0554\n"
      ]
     },
     "metadata": {},
     "output_type": "display_data"
    },
    {
     "data": {
      "text/html": [
       "<pre style=\"white-space:pre;overflow-x:auto;line-height:normal;font-family:Menlo,'DejaVu Sans Mono',consolas,'Courier New',monospace\">Trained DQN model with loss: 100.1660\n",
       "</pre>\n"
      ],
      "text/plain": [
       "Trained DQN model with loss: 100.1660\n"
      ]
     },
     "metadata": {},
     "output_type": "display_data"
    },
    {
     "data": {
      "text/html": [
       "<pre style=\"white-space:pre;overflow-x:auto;line-height:normal;font-family:Menlo,'DejaVu Sans Mono',consolas,'Courier New',monospace\">Trained DQN model with loss: 100.0440\n",
       "</pre>\n"
      ],
      "text/plain": [
       "Trained DQN model with loss: 100.0440\n"
      ]
     },
     "metadata": {},
     "output_type": "display_data"
    },
    {
     "data": {
      "text/html": [
       "<pre style=\"white-space:pre;overflow-x:auto;line-height:normal;font-family:Menlo,'DejaVu Sans Mono',consolas,'Courier New',monospace\">Trained DQN model with loss: 100.0925\n",
       "</pre>\n"
      ],
      "text/plain": [
       "Trained DQN model with loss: 100.0925\n"
      ]
     },
     "metadata": {},
     "output_type": "display_data"
    },
    {
     "data": {
      "text/html": [
       "<pre style=\"white-space:pre;overflow-x:auto;line-height:normal;font-family:Menlo,'DejaVu Sans Mono',consolas,'Courier New',monospace\">Trained DQN model with loss: 100.2413\n",
       "</pre>\n"
      ],
      "text/plain": [
       "Trained DQN model with loss: 100.2413\n"
      ]
     },
     "metadata": {},
     "output_type": "display_data"
    },
    {
     "data": {
      "text/html": [
       "<pre style=\"white-space:pre;overflow-x:auto;line-height:normal;font-family:Menlo,'DejaVu Sans Mono',consolas,'Courier New',monospace\">Trained DQN model with loss: 99.8651\n",
       "</pre>\n"
      ],
      "text/plain": [
       "Trained DQN model with loss: 99.8651\n"
      ]
     },
     "metadata": {},
     "output_type": "display_data"
    },
    {
     "data": {
      "text/html": [
       "<pre style=\"white-space:pre;overflow-x:auto;line-height:normal;font-family:Menlo,'DejaVu Sans Mono',consolas,'Courier New',monospace\">Trained DQN model with loss: 100.1267\n",
       "</pre>\n"
      ],
      "text/plain": [
       "Trained DQN model with loss: 100.1267\n"
      ]
     },
     "metadata": {},
     "output_type": "display_data"
    },
    {
     "data": {
      "text/html": [
       "<pre style=\"white-space:pre;overflow-x:auto;line-height:normal;font-family:Menlo,'DejaVu Sans Mono',consolas,'Courier New',monospace\">Trained DQN model with loss: 99.8520\n",
       "</pre>\n"
      ],
      "text/plain": [
       "Trained DQN model with loss: 99.8520\n"
      ]
     },
     "metadata": {},
     "output_type": "display_data"
    },
    {
     "data": {
      "text/html": [
       "<pre style=\"white-space:pre;overflow-x:auto;line-height:normal;font-family:Menlo,'DejaVu Sans Mono',consolas,'Courier New',monospace\">Trained DQN model with loss: 100.4249\n",
       "</pre>\n"
      ],
      "text/plain": [
       "Trained DQN model with loss: 100.4249\n"
      ]
     },
     "metadata": {},
     "output_type": "display_data"
    },
    {
     "data": {
      "text/html": [
       "<pre style=\"white-space:pre;overflow-x:auto;line-height:normal;font-family:Menlo,'DejaVu Sans Mono',consolas,'Courier New',monospace\">Trained DQN model with loss: 100.0486\n",
       "</pre>\n"
      ],
      "text/plain": [
       "Trained DQN model with loss: 100.0486\n"
      ]
     },
     "metadata": {},
     "output_type": "display_data"
    },
    {
     "data": {
      "text/html": [
       "<pre style=\"white-space:pre;overflow-x:auto;line-height:normal;font-family:Menlo,'DejaVu Sans Mono',consolas,'Courier New',monospace\">Trained DQN model with loss: 100.2287\n",
       "</pre>\n"
      ],
      "text/plain": [
       "Trained DQN model with loss: 100.2287\n"
      ]
     },
     "metadata": {},
     "output_type": "display_data"
    },
    {
     "data": {
      "text/html": [
       "<pre style=\"white-space:pre;overflow-x:auto;line-height:normal;font-family:Menlo,'DejaVu Sans Mono',consolas,'Courier New',monospace\">Trained DQN model with loss: 100.1681\n",
       "</pre>\n"
      ],
      "text/plain": [
       "Trained DQN model with loss: 100.1681\n"
      ]
     },
     "metadata": {},
     "output_type": "display_data"
    },
    {
     "data": {
      "text/html": [
       "<pre style=\"white-space:pre;overflow-x:auto;line-height:normal;font-family:Menlo,'DejaVu Sans Mono',consolas,'Courier New',monospace\">Trained DQN model with loss: 100.1552\n",
       "</pre>\n"
      ],
      "text/plain": [
       "Trained DQN model with loss: 100.1552\n"
      ]
     },
     "metadata": {},
     "output_type": "display_data"
    },
    {
     "data": {
      "text/html": [
       "<pre style=\"white-space:pre;overflow-x:auto;line-height:normal;font-family:Menlo,'DejaVu Sans Mono',consolas,'Courier New',monospace\"></pre>\n"
      ],
      "text/plain": []
     },
     "metadata": {},
     "output_type": "display_data"
    },
    {
     "data": {
      "text/html": [
       "<pre style=\"white-space:pre;overflow-x:auto;line-height:normal;font-family:Menlo,'DejaVu Sans Mono',consolas,'Courier New',monospace\">\n",
       "</pre>\n"
      ],
      "text/plain": [
       "\n"
      ]
     },
     "metadata": {},
     "output_type": "display_data"
    },
    {
     "data": {
      "text/html": [
       "<pre style=\"white-space:pre;overflow-x:auto;line-height:normal;font-family:Menlo,'DejaVu Sans Mono',consolas,'Courier New',monospace\"><span style=\"font-style: italic\">                                      Last 1 Games                                      </span>\n",
       "    ╷                       ╷       ╷           ╷          ╷         ╷        ╷         \n",
       " <span style=\"font-weight: bold\"> # </span>│<span style=\"font-weight: bold\"> SEATING               </span>│<span style=\"font-weight: bold\"> TURNS </span>│<span style=\"font-weight: bold\"> ORANGE VP </span>│<span style=\"font-weight: bold\"> WHITE VP </span>│<span style=\"font-weight: bold\"> BLUE VP </span>│<span style=\"font-weight: bold\"> RED VP </span>│<span style=\"font-weight: bold\"> WINNER </span> \n",
       "╶───┼───────────────────────┼───────┼───────────┼──────────┼─────────┼────────┼────────╴\n",
       "  1 │ <span style=\"color: #000080; text-decoration-color: #000080\">BLUE</span>,<span style=\"color: #c0c0c0; text-decoration-color: #c0c0c0\">WHITE</span>,<span style=\"color: #808000; text-decoration-color: #808000\">ORANGE</span>,<span style=\"color: #800000; text-decoration-color: #800000\">RED</span> │   154 │         6 │        2 │      10 │      2 │ <span style=\"color: #000080; text-decoration-color: #000080\">BLUE</span>    \n",
       "    ╵                       ╵       ╵           ╵          ╵         ╵        ╵         \n",
       "</pre>\n"
      ],
      "text/plain": [
       "\u001b[3m                                      Last 1 Games                                      \u001b[0m\n",
       "    ╷                       ╷       ╷           ╷          ╷         ╷        ╷         \n",
       " \u001b[1m \u001b[0m\u001b[1m#\u001b[0m\u001b[1m \u001b[0m│\u001b[1m \u001b[0m\u001b[1mSEATING              \u001b[0m\u001b[1m \u001b[0m│\u001b[1m \u001b[0m\u001b[1mTURNS\u001b[0m\u001b[1m \u001b[0m│\u001b[1m \u001b[0m\u001b[1mORANGE VP\u001b[0m\u001b[1m \u001b[0m│\u001b[1m \u001b[0m\u001b[1mWHITE VP\u001b[0m\u001b[1m \u001b[0m│\u001b[1m \u001b[0m\u001b[1mBLUE VP\u001b[0m\u001b[1m \u001b[0m│\u001b[1m \u001b[0m\u001b[1mRED VP\u001b[0m\u001b[1m \u001b[0m│\u001b[1m \u001b[0m\u001b[1mWINNER\u001b[0m\u001b[1m \u001b[0m \n",
       "╶───┼───────────────────────┼───────┼───────────┼──────────┼─────────┼────────┼────────╴\n",
       "  1 │ \u001b[34mBLUE\u001b[0m,\u001b[37mWHITE\u001b[0m,\u001b[33mORANGE\u001b[0m,\u001b[31mRED\u001b[0m │   154 │         6 │        2 │      10 │      2 │ \u001b[34mBLUE\u001b[0m    \n",
       "    ╵                       ╵       ╵           ╵          ╵         ╵        ╵         \n"
      ]
     },
     "metadata": {},
     "output_type": "display_data"
    },
    {
     "data": {
      "text/html": [
       "<pre style=\"white-space:pre;overflow-x:auto;line-height:normal;font-family:Menlo,'DejaVu Sans Mono',consolas,'Courier New',monospace\"><span style=\"font-style: italic\">                                              Player Summary                                               </span>\n",
       "                            ╷      ╷        ╷             ╷            ╷          ╷          ╷             \n",
       " <span style=\"font-weight: bold\">                           </span>│<span style=\"font-weight: bold\"> WINS </span>│<span style=\"font-weight: bold\"> AVG VP </span>│<span style=\"font-weight: bold\"> AVG SETTLES </span>│<span style=\"font-weight: bold\"> AVG CITIES </span>│<span style=\"font-weight: bold\"> AVG ROAD </span>│<span style=\"font-weight: bold\"> AVG ARMY </span>│<span style=\"font-weight: bold\"> AVG DEV VP </span> \n",
       "╶───────────────────────────┼──────┼────────┼─────────────┼────────────┼──────────┼──────────┼────────────╴\n",
       "  <span style=\"color: #808000; text-decoration-color: #808000\">RandomPlayer:ORANGE</span>       │    0 │   6.00 │        1.00 │       1.00 │     0.00 │     1.00 │       1.00  \n",
       "  <span style=\"color: #c0c0c0; text-decoration-color: #c0c0c0\">RandomPlayer:WHITE</span>        │    0 │   2.00 │        2.00 │       0.00 │     0.00 │     0.00 │       0.00  \n",
       "  <span style=\"color: #000080; text-decoration-color: #000080\">WeightedRandomPlayer:BLUE</span> │    1 │  10.00 │        0.00 │       2.00 │     1.00 │     0.00 │       4.00  \n",
       "  <span style=\"color: #800000; text-decoration-color: #800000\">AB_DQNPlayer_1:RED</span>        │    0 │   2.00 │        2.00 │       0.00 │     0.00 │     0.00 │       0.00  \n",
       "                            ╵      ╵        ╵             ╵            ╵          ╵          ╵             \n",
       "</pre>\n"
      ],
      "text/plain": [
       "\u001b[3m                                              Player Summary                                               \u001b[0m\n",
       "                            ╷      ╷        ╷             ╷            ╷          ╷          ╷             \n",
       " \u001b[1m \u001b[0m\u001b[1m                         \u001b[0m\u001b[1m \u001b[0m│\u001b[1m \u001b[0m\u001b[1mWINS\u001b[0m\u001b[1m \u001b[0m│\u001b[1m \u001b[0m\u001b[1mAVG VP\u001b[0m\u001b[1m \u001b[0m│\u001b[1m \u001b[0m\u001b[1mAVG SETTLES\u001b[0m\u001b[1m \u001b[0m│\u001b[1m \u001b[0m\u001b[1mAVG CITIES\u001b[0m\u001b[1m \u001b[0m│\u001b[1m \u001b[0m\u001b[1mAVG ROAD\u001b[0m\u001b[1m \u001b[0m│\u001b[1m \u001b[0m\u001b[1mAVG ARMY\u001b[0m\u001b[1m \u001b[0m│\u001b[1m \u001b[0m\u001b[1mAVG DEV VP\u001b[0m\u001b[1m \u001b[0m \n",
       "╶───────────────────────────┼──────┼────────┼─────────────┼────────────┼──────────┼──────────┼────────────╴\n",
       "  \u001b[33mRandomPlayer:ORANGE\u001b[0m       │    0 │   6.00 │        1.00 │       1.00 │     0.00 │     1.00 │       1.00  \n",
       "  \u001b[37mRandomPlayer:WHITE\u001b[0m        │    0 │   2.00 │        2.00 │       0.00 │     0.00 │     0.00 │       0.00  \n",
       "  \u001b[34mWeightedRandomPlayer:BLUE\u001b[0m │    1 │  10.00 │        0.00 │       2.00 │     1.00 │     0.00 │       4.00  \n",
       "  \u001b[31mAB_DQNPlayer_1:RED\u001b[0m        │    0 │   2.00 │        2.00 │       0.00 │     0.00 │     0.00 │       0.00  \n",
       "                            ╵      ╵        ╵             ╵            ╵          ╵          ╵             \n"
      ]
     },
     "metadata": {},
     "output_type": "display_data"
    },
    {
     "data": {
      "text/html": [
       "<pre style=\"white-space:pre;overflow-x:auto;line-height:normal;font-family:Menlo,'DejaVu Sans Mono',consolas,'Courier New',monospace\"><span style=\"font-style: italic\">              Game Summary              </span>\n",
       "            ╷           ╷               \n",
       " <span style=\"font-weight: bold\"> AVG TICKS </span>│<span style=\"font-weight: bold\"> AVG TURNS </span>│<span style=\"font-weight: bold\"> AVG DURATION </span> \n",
       "╶───────────┼───────────┼──────────────╴\n",
       "     468.00 │    154.00 │   6.993 secs  \n",
       "            ╵           ╵               \n",
       "</pre>\n"
      ],
      "text/plain": [
       "\u001b[3m              Game Summary              \u001b[0m\n",
       "            ╷           ╷               \n",
       " \u001b[1m \u001b[0m\u001b[1mAVG TICKS\u001b[0m\u001b[1m \u001b[0m│\u001b[1m \u001b[0m\u001b[1mAVG TURNS\u001b[0m\u001b[1m \u001b[0m│\u001b[1m \u001b[0m\u001b[1mAVG DURATION\u001b[0m\u001b[1m \u001b[0m \n",
       "╶───────────┼───────────┼──────────────╴\n",
       "     468.00 │    154.00 │   6.993 secs  \n",
       "            ╵           ╵               \n"
      ]
     },
     "metadata": {},
     "output_type": "display_data"
    }
   ],
   "source": [
    "from catanatron_experimental.play import play_batch\n",
    "\n",
    "all_wins = []\n",
    "for _ in range(10):\n",
    "    shuffled = players[:]\n",
    "    random.shuffle(shuffled)\n",
    "    wins, _, _ = play_batch(1, shuffled)\n",
    "    all_wins.append(wins)"
   ]
  },
  {
   "cell_type": "markdown",
   "id": "c1e64f53-26dc-40d4-ae7c-1410355617e8",
   "metadata": {},
   "source": [
    "You can inspect the game states in a variety of ways and compute statistics"
   ]
  },
  {
   "cell_type": "code",
   "execution_count": 22,
   "id": "34effc30-5cad-4031-aab8-fa91e2d0d1f3",
   "metadata": {},
   "outputs": [
    {
     "name": "stdout",
     "output_type": "stream",
     "text": [
      "12\n"
     ]
    }
   ],
   "source": [
    "from catanatron.json import GameEncoder\n",
    "from catanatron_gym.features import create_sample_vector, create_sample\n",
    "from catanatron_gym.board_tensor_features import (\n",
    "    create_board_tensor,\n",
    ")\n",
    "\n",
    "\n",
    "game = games[0]  # pick say the first one\n",
    "\n",
    "# 1. Feature dictionary of last state before game ended from REDs perspective. \n",
    "#   See https://catanatron.readthedocs.io/en/latest/catanatron_gym.envs.html#catanatron_gym.envs.catanatron_env.CatanatronEnv.observation_space\n",
    "#   for more information on this representation.\n",
    "# record = create_sample(game, Color.RED)\n",
    "# pprint(record)\n",
    "\n",
    "# 2. Vector (similar to 1) of last state before game ended\n",
    "# vector = create_sample_vector(game, Color.RED)\n",
    "# print(vector)\n",
    "\n",
    "# 3. Board Tensor representation, similar to the one described in https://arxiv.org/abs/2008.07079\n",
    "# tensor = create_board_tensor(game, Color.RED)\n",
    "# print(tensor)\n",
    "\n",
    "# 4. Inspect Python catanatron.state.State class\n",
    "# print(game.state)\n",
    "\n",
    "# 5. JSON Representation (with full action history)\n",
    "redwins=0\n",
    "for i, game in enumerate(games):\n",
    "    redwins+= 1 if game.winning_color() == Color.RED else 0\n",
    "   # print(f\"Game {i} winner:\", game.winning_color())\n",
    "print(redwins)\n",
    "\n"
   ]
  }
 ],
 "metadata": {
  "kernelspec": {
   "display_name": "catan311",
   "language": "python",
   "name": "python3"
  },
  "language_info": {
   "codemirror_mode": {
    "name": "ipython",
    "version": 3
   },
   "file_extension": ".py",
   "mimetype": "text/x-python",
   "name": "python",
   "nbconvert_exporter": "python",
   "pygments_lexer": "ipython3",
   "version": "3.11.11"
  }
 },
 "nbformat": 4,
 "nbformat_minor": 5
}
